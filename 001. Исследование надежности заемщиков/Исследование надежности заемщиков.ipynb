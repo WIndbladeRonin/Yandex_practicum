{
  "cells": [
    {
      "cell_type": "markdown",
      "id": "0fd24600",
      "metadata": {
        "deletable": false,
        "editable": false,
        "id": "0fd24600"
      },
      "source": [
        "# Исследование надежности заемщиков\n"
      ]
    },
    {
      "cell_type": "markdown",
      "id": "11bf6af8",
      "metadata": {
        "id": "11bf6af8"
      },
      "source": [
        "### Шаг 1. Изучение общей информации"
      ]
    },
    {
      "cell_type": "markdown",
      "id": "15ad520f",
      "metadata": {
        "id": "15ad520f"
      },
      "source": [
        "**Импортируем библиотеку pandas. Считаем данные из csv-файла в датафрейм и сохраним в переменную `data`**"
      ]
    },
    {
      "cell_type": "code",
      "execution_count": null,
      "id": "5ab5760b",
      "metadata": {
        "deletable": false,
        "id": "5ab5760b"
      },
      "outputs": [],
      "source": [
        "import pandas as pd\n",
        "\n",
        "data = pd.read_csv('/datasets/data.csv')"
      ]
    },
    {
      "cell_type": "markdown",
      "id": "afcce335",
      "metadata": {
        "deletable": false,
        "id": "afcce335"
      },
      "source": [
        "**Выведем первые 20 строчек датафрейма `data` на экран.**"
      ]
    },
    {
      "cell_type": "code",
      "execution_count": null,
      "id": "5665d2f1",
      "metadata": {
        "deletable": false,
        "id": "5665d2f1",
        "outputId": "1a8f3ef2-d323-4ec2-ddf7-89670b5944c4"
      },
      "outputs": [
        {
          "data": {
            "text/html": [
              "<div>\n",
              "<style scoped>\n",
              "    .dataframe tbody tr th:only-of-type {\n",
              "        vertical-align: middle;\n",
              "    }\n",
              "\n",
              "    .dataframe tbody tr th {\n",
              "        vertical-align: top;\n",
              "    }\n",
              "\n",
              "    .dataframe thead th {\n",
              "        text-align: right;\n",
              "    }\n",
              "</style>\n",
              "<table border=\"1\" class=\"dataframe\">\n",
              "  <thead>\n",
              "    <tr style=\"text-align: right;\">\n",
              "      <th></th>\n",
              "      <th>children</th>\n",
              "      <th>days_employed</th>\n",
              "      <th>dob_years</th>\n",
              "      <th>education</th>\n",
              "      <th>education_id</th>\n",
              "      <th>family_status</th>\n",
              "      <th>family_status_id</th>\n",
              "      <th>gender</th>\n",
              "      <th>income_type</th>\n",
              "      <th>debt</th>\n",
              "      <th>total_income</th>\n",
              "      <th>purpose</th>\n",
              "    </tr>\n",
              "  </thead>\n",
              "  <tbody>\n",
              "    <tr>\n",
              "      <th>0</th>\n",
              "      <td>1</td>\n",
              "      <td>-8437.673028</td>\n",
              "      <td>42</td>\n",
              "      <td>высшее</td>\n",
              "      <td>0</td>\n",
              "      <td>женат / замужем</td>\n",
              "      <td>0</td>\n",
              "      <td>F</td>\n",
              "      <td>сотрудник</td>\n",
              "      <td>0</td>\n",
              "      <td>253875.639453</td>\n",
              "      <td>покупка жилья</td>\n",
              "    </tr>\n",
              "    <tr>\n",
              "      <th>1</th>\n",
              "      <td>1</td>\n",
              "      <td>-4024.803754</td>\n",
              "      <td>36</td>\n",
              "      <td>среднее</td>\n",
              "      <td>1</td>\n",
              "      <td>женат / замужем</td>\n",
              "      <td>0</td>\n",
              "      <td>F</td>\n",
              "      <td>сотрудник</td>\n",
              "      <td>0</td>\n",
              "      <td>112080.014102</td>\n",
              "      <td>приобретение автомобиля</td>\n",
              "    </tr>\n",
              "    <tr>\n",
              "      <th>2</th>\n",
              "      <td>0</td>\n",
              "      <td>-5623.422610</td>\n",
              "      <td>33</td>\n",
              "      <td>Среднее</td>\n",
              "      <td>1</td>\n",
              "      <td>женат / замужем</td>\n",
              "      <td>0</td>\n",
              "      <td>M</td>\n",
              "      <td>сотрудник</td>\n",
              "      <td>0</td>\n",
              "      <td>145885.952297</td>\n",
              "      <td>покупка жилья</td>\n",
              "    </tr>\n",
              "    <tr>\n",
              "      <th>3</th>\n",
              "      <td>3</td>\n",
              "      <td>-4124.747207</td>\n",
              "      <td>32</td>\n",
              "      <td>среднее</td>\n",
              "      <td>1</td>\n",
              "      <td>женат / замужем</td>\n",
              "      <td>0</td>\n",
              "      <td>M</td>\n",
              "      <td>сотрудник</td>\n",
              "      <td>0</td>\n",
              "      <td>267628.550329</td>\n",
              "      <td>дополнительное образование</td>\n",
              "    </tr>\n",
              "    <tr>\n",
              "      <th>4</th>\n",
              "      <td>0</td>\n",
              "      <td>340266.072047</td>\n",
              "      <td>53</td>\n",
              "      <td>среднее</td>\n",
              "      <td>1</td>\n",
              "      <td>гражданский брак</td>\n",
              "      <td>1</td>\n",
              "      <td>F</td>\n",
              "      <td>пенсионер</td>\n",
              "      <td>0</td>\n",
              "      <td>158616.077870</td>\n",
              "      <td>сыграть свадьбу</td>\n",
              "    </tr>\n",
              "    <tr>\n",
              "      <th>5</th>\n",
              "      <td>0</td>\n",
              "      <td>-926.185831</td>\n",
              "      <td>27</td>\n",
              "      <td>высшее</td>\n",
              "      <td>0</td>\n",
              "      <td>гражданский брак</td>\n",
              "      <td>1</td>\n",
              "      <td>M</td>\n",
              "      <td>компаньон</td>\n",
              "      <td>0</td>\n",
              "      <td>255763.565419</td>\n",
              "      <td>покупка жилья</td>\n",
              "    </tr>\n",
              "    <tr>\n",
              "      <th>6</th>\n",
              "      <td>0</td>\n",
              "      <td>-2879.202052</td>\n",
              "      <td>43</td>\n",
              "      <td>высшее</td>\n",
              "      <td>0</td>\n",
              "      <td>женат / замужем</td>\n",
              "      <td>0</td>\n",
              "      <td>F</td>\n",
              "      <td>компаньон</td>\n",
              "      <td>0</td>\n",
              "      <td>240525.971920</td>\n",
              "      <td>операции с жильем</td>\n",
              "    </tr>\n",
              "    <tr>\n",
              "      <th>7</th>\n",
              "      <td>0</td>\n",
              "      <td>-152.779569</td>\n",
              "      <td>50</td>\n",
              "      <td>СРЕДНЕЕ</td>\n",
              "      <td>1</td>\n",
              "      <td>женат / замужем</td>\n",
              "      <td>0</td>\n",
              "      <td>M</td>\n",
              "      <td>сотрудник</td>\n",
              "      <td>0</td>\n",
              "      <td>135823.934197</td>\n",
              "      <td>образование</td>\n",
              "    </tr>\n",
              "    <tr>\n",
              "      <th>8</th>\n",
              "      <td>2</td>\n",
              "      <td>-6929.865299</td>\n",
              "      <td>35</td>\n",
              "      <td>ВЫСШЕЕ</td>\n",
              "      <td>0</td>\n",
              "      <td>гражданский брак</td>\n",
              "      <td>1</td>\n",
              "      <td>F</td>\n",
              "      <td>сотрудник</td>\n",
              "      <td>0</td>\n",
              "      <td>95856.832424</td>\n",
              "      <td>на проведение свадьбы</td>\n",
              "    </tr>\n",
              "    <tr>\n",
              "      <th>9</th>\n",
              "      <td>0</td>\n",
              "      <td>-2188.756445</td>\n",
              "      <td>41</td>\n",
              "      <td>среднее</td>\n",
              "      <td>1</td>\n",
              "      <td>женат / замужем</td>\n",
              "      <td>0</td>\n",
              "      <td>M</td>\n",
              "      <td>сотрудник</td>\n",
              "      <td>0</td>\n",
              "      <td>144425.938277</td>\n",
              "      <td>покупка жилья для семьи</td>\n",
              "    </tr>\n",
              "    <tr>\n",
              "      <th>10</th>\n",
              "      <td>2</td>\n",
              "      <td>-4171.483647</td>\n",
              "      <td>36</td>\n",
              "      <td>высшее</td>\n",
              "      <td>0</td>\n",
              "      <td>женат / замужем</td>\n",
              "      <td>0</td>\n",
              "      <td>M</td>\n",
              "      <td>компаньон</td>\n",
              "      <td>0</td>\n",
              "      <td>113943.491460</td>\n",
              "      <td>покупка недвижимости</td>\n",
              "    </tr>\n",
              "    <tr>\n",
              "      <th>11</th>\n",
              "      <td>0</td>\n",
              "      <td>-792.701887</td>\n",
              "      <td>40</td>\n",
              "      <td>среднее</td>\n",
              "      <td>1</td>\n",
              "      <td>женат / замужем</td>\n",
              "      <td>0</td>\n",
              "      <td>F</td>\n",
              "      <td>сотрудник</td>\n",
              "      <td>0</td>\n",
              "      <td>77069.234271</td>\n",
              "      <td>покупка коммерческой недвижимости</td>\n",
              "    </tr>\n",
              "    <tr>\n",
              "      <th>12</th>\n",
              "      <td>0</td>\n",
              "      <td>NaN</td>\n",
              "      <td>65</td>\n",
              "      <td>среднее</td>\n",
              "      <td>1</td>\n",
              "      <td>гражданский брак</td>\n",
              "      <td>1</td>\n",
              "      <td>M</td>\n",
              "      <td>пенсионер</td>\n",
              "      <td>0</td>\n",
              "      <td>NaN</td>\n",
              "      <td>сыграть свадьбу</td>\n",
              "    </tr>\n",
              "    <tr>\n",
              "      <th>13</th>\n",
              "      <td>0</td>\n",
              "      <td>-1846.641941</td>\n",
              "      <td>54</td>\n",
              "      <td>неоконченное высшее</td>\n",
              "      <td>2</td>\n",
              "      <td>женат / замужем</td>\n",
              "      <td>0</td>\n",
              "      <td>F</td>\n",
              "      <td>сотрудник</td>\n",
              "      <td>0</td>\n",
              "      <td>130458.228857</td>\n",
              "      <td>приобретение автомобиля</td>\n",
              "    </tr>\n",
              "    <tr>\n",
              "      <th>14</th>\n",
              "      <td>0</td>\n",
              "      <td>-1844.956182</td>\n",
              "      <td>56</td>\n",
              "      <td>высшее</td>\n",
              "      <td>0</td>\n",
              "      <td>гражданский брак</td>\n",
              "      <td>1</td>\n",
              "      <td>F</td>\n",
              "      <td>компаньон</td>\n",
              "      <td>1</td>\n",
              "      <td>165127.911772</td>\n",
              "      <td>покупка жилой недвижимости</td>\n",
              "    </tr>\n",
              "    <tr>\n",
              "      <th>15</th>\n",
              "      <td>1</td>\n",
              "      <td>-972.364419</td>\n",
              "      <td>26</td>\n",
              "      <td>среднее</td>\n",
              "      <td>1</td>\n",
              "      <td>женат / замужем</td>\n",
              "      <td>0</td>\n",
              "      <td>F</td>\n",
              "      <td>сотрудник</td>\n",
              "      <td>0</td>\n",
              "      <td>116820.904450</td>\n",
              "      <td>строительство собственной недвижимости</td>\n",
              "    </tr>\n",
              "    <tr>\n",
              "      <th>16</th>\n",
              "      <td>0</td>\n",
              "      <td>-1719.934226</td>\n",
              "      <td>35</td>\n",
              "      <td>среднее</td>\n",
              "      <td>1</td>\n",
              "      <td>женат / замужем</td>\n",
              "      <td>0</td>\n",
              "      <td>F</td>\n",
              "      <td>сотрудник</td>\n",
              "      <td>0</td>\n",
              "      <td>289202.704229</td>\n",
              "      <td>недвижимость</td>\n",
              "    </tr>\n",
              "    <tr>\n",
              "      <th>17</th>\n",
              "      <td>0</td>\n",
              "      <td>-2369.999720</td>\n",
              "      <td>33</td>\n",
              "      <td>высшее</td>\n",
              "      <td>0</td>\n",
              "      <td>гражданский брак</td>\n",
              "      <td>1</td>\n",
              "      <td>M</td>\n",
              "      <td>сотрудник</td>\n",
              "      <td>0</td>\n",
              "      <td>90410.586745</td>\n",
              "      <td>строительство недвижимости</td>\n",
              "    </tr>\n",
              "    <tr>\n",
              "      <th>18</th>\n",
              "      <td>0</td>\n",
              "      <td>400281.136913</td>\n",
              "      <td>53</td>\n",
              "      <td>среднее</td>\n",
              "      <td>1</td>\n",
              "      <td>вдовец / вдова</td>\n",
              "      <td>2</td>\n",
              "      <td>F</td>\n",
              "      <td>пенсионер</td>\n",
              "      <td>0</td>\n",
              "      <td>56823.777243</td>\n",
              "      <td>на покупку подержанного автомобиля</td>\n",
              "    </tr>\n",
              "    <tr>\n",
              "      <th>19</th>\n",
              "      <td>0</td>\n",
              "      <td>-10038.818549</td>\n",
              "      <td>48</td>\n",
              "      <td>СРЕДНЕЕ</td>\n",
              "      <td>1</td>\n",
              "      <td>в разводе</td>\n",
              "      <td>3</td>\n",
              "      <td>F</td>\n",
              "      <td>сотрудник</td>\n",
              "      <td>0</td>\n",
              "      <td>242831.107982</td>\n",
              "      <td>на покупку своего автомобиля</td>\n",
              "    </tr>\n",
              "  </tbody>\n",
              "</table>\n",
              "</div>"
            ],
            "text/plain": [
              "    children  days_employed  dob_years            education  education_id  \\\n",
              "0          1   -8437.673028         42               высшее             0   \n",
              "1          1   -4024.803754         36              среднее             1   \n",
              "2          0   -5623.422610         33              Среднее             1   \n",
              "3          3   -4124.747207         32              среднее             1   \n",
              "4          0  340266.072047         53              среднее             1   \n",
              "5          0    -926.185831         27               высшее             0   \n",
              "6          0   -2879.202052         43               высшее             0   \n",
              "7          0    -152.779569         50              СРЕДНЕЕ             1   \n",
              "8          2   -6929.865299         35               ВЫСШЕЕ             0   \n",
              "9          0   -2188.756445         41              среднее             1   \n",
              "10         2   -4171.483647         36               высшее             0   \n",
              "11         0    -792.701887         40              среднее             1   \n",
              "12         0            NaN         65              среднее             1   \n",
              "13         0   -1846.641941         54  неоконченное высшее             2   \n",
              "14         0   -1844.956182         56               высшее             0   \n",
              "15         1    -972.364419         26              среднее             1   \n",
              "16         0   -1719.934226         35              среднее             1   \n",
              "17         0   -2369.999720         33               высшее             0   \n",
              "18         0  400281.136913         53              среднее             1   \n",
              "19         0  -10038.818549         48              СРЕДНЕЕ             1   \n",
              "\n",
              "       family_status  family_status_id gender income_type  debt  \\\n",
              "0    женат / замужем                 0      F   сотрудник     0   \n",
              "1    женат / замужем                 0      F   сотрудник     0   \n",
              "2    женат / замужем                 0      M   сотрудник     0   \n",
              "3    женат / замужем                 0      M   сотрудник     0   \n",
              "4   гражданский брак                 1      F   пенсионер     0   \n",
              "5   гражданский брак                 1      M   компаньон     0   \n",
              "6    женат / замужем                 0      F   компаньон     0   \n",
              "7    женат / замужем                 0      M   сотрудник     0   \n",
              "8   гражданский брак                 1      F   сотрудник     0   \n",
              "9    женат / замужем                 0      M   сотрудник     0   \n",
              "10   женат / замужем                 0      M   компаньон     0   \n",
              "11   женат / замужем                 0      F   сотрудник     0   \n",
              "12  гражданский брак                 1      M   пенсионер     0   \n",
              "13   женат / замужем                 0      F   сотрудник     0   \n",
              "14  гражданский брак                 1      F   компаньон     1   \n",
              "15   женат / замужем                 0      F   сотрудник     0   \n",
              "16   женат / замужем                 0      F   сотрудник     0   \n",
              "17  гражданский брак                 1      M   сотрудник     0   \n",
              "18    вдовец / вдова                 2      F   пенсионер     0   \n",
              "19         в разводе                 3      F   сотрудник     0   \n",
              "\n",
              "     total_income                                 purpose  \n",
              "0   253875.639453                           покупка жилья  \n",
              "1   112080.014102                 приобретение автомобиля  \n",
              "2   145885.952297                           покупка жилья  \n",
              "3   267628.550329              дополнительное образование  \n",
              "4   158616.077870                         сыграть свадьбу  \n",
              "5   255763.565419                           покупка жилья  \n",
              "6   240525.971920                       операции с жильем  \n",
              "7   135823.934197                             образование  \n",
              "8    95856.832424                   на проведение свадьбы  \n",
              "9   144425.938277                 покупка жилья для семьи  \n",
              "10  113943.491460                    покупка недвижимости  \n",
              "11   77069.234271       покупка коммерческой недвижимости  \n",
              "12            NaN                         сыграть свадьбу  \n",
              "13  130458.228857                 приобретение автомобиля  \n",
              "14  165127.911772              покупка жилой недвижимости  \n",
              "15  116820.904450  строительство собственной недвижимости  \n",
              "16  289202.704229                            недвижимость  \n",
              "17   90410.586745              строительство недвижимости  \n",
              "18   56823.777243      на покупку подержанного автомобиля  \n",
              "19  242831.107982            на покупку своего автомобиля  "
            ]
          },
          "execution_count": 2,
          "metadata": {},
          "output_type": "execute_result"
        }
      ],
      "source": [
        "data.head(20)"
      ]
    },
    {
      "cell_type": "markdown",
      "id": "24adf2e6",
      "metadata": {
        "deletable": false,
        "id": "24adf2e6"
      },
      "source": [
        "**Выведем основную информацию о датафрейме с помощью метода `info()`.**"
      ]
    },
    {
      "cell_type": "code",
      "execution_count": null,
      "id": "61efc2e7",
      "metadata": {
        "deletable": false,
        "id": "61efc2e7",
        "outputId": "15376089-8dad-46c9-b520-c05248d43158"
      },
      "outputs": [
        {
          "name": "stdout",
          "output_type": "stream",
          "text": [
            "<class 'pandas.core.frame.DataFrame'>\n",
            "RangeIndex: 21525 entries, 0 to 21524\n",
            "Data columns (total 12 columns):\n",
            " #   Column            Non-Null Count  Dtype  \n",
            "---  ------            --------------  -----  \n",
            " 0   children          21525 non-null  int64  \n",
            " 1   days_employed     19351 non-null  float64\n",
            " 2   dob_years         21525 non-null  int64  \n",
            " 3   education         21525 non-null  object \n",
            " 4   education_id      21525 non-null  int64  \n",
            " 5   family_status     21525 non-null  object \n",
            " 6   family_status_id  21525 non-null  int64  \n",
            " 7   gender            21525 non-null  object \n",
            " 8   income_type       21525 non-null  object \n",
            " 9   debt              21525 non-null  int64  \n",
            " 10  total_income      19351 non-null  float64\n",
            " 11  purpose           21525 non-null  object \n",
            "dtypes: float64(2), int64(5), object(5)\n",
            "memory usage: 2.0+ MB\n"
          ]
        }
      ],
      "source": [
        "data.info()"
      ]
    },
    {
      "cell_type": "markdown",
      "id": "9714b9d1",
      "metadata": {
        "deletable": false,
        "editable": false,
        "id": "9714b9d1"
      },
      "source": [
        "### Шаг 2.  Предобработка данных"
      ]
    },
    {
      "cell_type": "markdown",
      "id": "724b11b9",
      "metadata": {
        "deletable": false,
        "editable": false,
        "id": "724b11b9"
      },
      "source": [
        "#### 2.1 Удаление пропусков"
      ]
    },
    {
      "cell_type": "markdown",
      "id": "0560fab6",
      "metadata": {
        "deletable": false,
        "id": "0560fab6"
      },
      "source": [
        "**Выведем количество пропущенных значений для каждого столбца.**"
      ]
    },
    {
      "cell_type": "code",
      "execution_count": null,
      "id": "5668e1c6",
      "metadata": {
        "deletable": false,
        "id": "5668e1c6",
        "outputId": "81f4d817-781c-465c-ed15-91ce4446810d"
      },
      "outputs": [
        {
          "data": {
            "text/plain": [
              "children               0\n",
              "days_employed       2174\n",
              "dob_years              0\n",
              "education              0\n",
              "education_id           0\n",
              "family_status          0\n",
              "family_status_id       0\n",
              "gender                 0\n",
              "income_type            0\n",
              "debt                   0\n",
              "total_income        2174\n",
              "purpose                0\n",
              "dtype: int64"
            ]
          },
          "execution_count": 4,
          "metadata": {},
          "output_type": "execute_result"
        }
      ],
      "source": [
        "data.isna().sum()"
      ]
    },
    {
      "cell_type": "markdown",
      "id": "28925a77",
      "metadata": {
        "deletable": false,
        "id": "28925a77"
      },
      "source": [
        "**В двух столбцах есть пропущенные значения. Один из них — `days_employed`. Другой столбец с пропущенными значениями — `total_income` — хранит данные о доходах. На сумму дохода сильнее всего влияет тип занятости, поэтому заполнить пропуски в этом столбце нужно медианным значением по каждому типу из столбца `income_type`. Например, у человека с типом занятости `сотрудник` пропуск в столбце `total_income` должен быть заполнен медианным доходом среди всех записей с тем же типом.**"
      ]
    },
    {
      "cell_type": "code",
      "execution_count": null,
      "id": "d348261a",
      "metadata": {
        "deletable": false,
        "id": "d348261a"
      },
      "outputs": [],
      "source": [
        "for t in data['income_type'].unique():\n",
        "    data.loc[(data['income_type'] == t) & (data['total_income'].isna()), 'total_income'] = \\\n",
        "    data.loc[(data['income_type'] == t), 'total_income'].median()"
      ]
    },
    {
      "cell_type": "markdown",
      "id": "6d9de277",
      "metadata": {
        "deletable": false,
        "editable": false,
        "id": "6d9de277"
      },
      "source": [
        "#### 2.2 Обработка аномальных значений"
      ]
    },
    {
      "cell_type": "markdown",
      "id": "fbae9a2c",
      "metadata": {
        "deletable": false,
        "id": "fbae9a2c"
      },
      "source": [
        "**В данных могут встречаться артефакты (аномалии) — значения, которые не отражают действительность и появились по какой-то ошибке. таким артефактом будет отрицательное количество дней трудового стажа в столбце `days_employed`. Обработаем значения в этом столбце: заменим все отрицательные значения положительными.**"
      ]
    },
    {
      "cell_type": "code",
      "execution_count": null,
      "id": "21a5700d",
      "metadata": {
        "deletable": false,
        "id": "21a5700d"
      },
      "outputs": [],
      "source": [
        "data['days_employed'] = data['days_employed'].abs()"
      ]
    },
    {
      "cell_type": "markdown",
      "id": "2b1c1312",
      "metadata": {
        "deletable": false,
        "id": "2b1c1312"
      },
      "source": [
        "**Для каждого типа занятости выведем медианное значение трудового стажа `days_employed` в днях.**"
      ]
    },
    {
      "cell_type": "code",
      "execution_count": null,
      "id": "914c1fa6",
      "metadata": {
        "deletable": false,
        "id": "914c1fa6",
        "outputId": "801ef80e-522b-4668-f34e-565af7432bcf"
      },
      "outputs": [
        {
          "data": {
            "text/plain": [
              "income_type\n",
              "безработный        366413.652744\n",
              "в декрете            3296.759962\n",
              "госслужащий          2689.368353\n",
              "компаньон            1547.382223\n",
              "пенсионер          365213.306266\n",
              "предприниматель       520.848083\n",
              "сотрудник            1574.202821\n",
              "студент               578.751554\n",
              "Name: days_employed, dtype: float64"
            ]
          },
          "execution_count": 7,
          "metadata": {},
          "output_type": "execute_result"
        }
      ],
      "source": [
        "data.groupby('income_type')['days_employed'].agg('median')"
      ]
    },
    {
      "cell_type": "markdown",
      "id": "3e21b43d",
      "metadata": {
        "deletable": false,
        "editable": false,
        "id": "3e21b43d"
      },
      "source": [
        "У двух типов (безработные и пенсионеры) получатся аномально большие значения. Исправить такие значения сложно, поэтому оставьте их как есть. Тем более этот столбец не понадобится вам для исследования."
      ]
    },
    {
      "cell_type": "markdown",
      "id": "8efd0765",
      "metadata": {
        "deletable": false,
        "id": "8efd0765"
      },
      "source": [
        "**Выведем перечень уникальных значений столбца `children`.**"
      ]
    },
    {
      "cell_type": "code",
      "execution_count": null,
      "id": "752f595d",
      "metadata": {
        "deletable": false,
        "id": "752f595d",
        "outputId": "6975b15c-7f95-4697-d16d-a0c79b657b03"
      },
      "outputs": [
        {
          "data": {
            "text/plain": [
              "array([ 1,  0,  3,  2, -1,  4, 20,  5], dtype=int64)"
            ]
          },
          "execution_count": 8,
          "metadata": {},
          "output_type": "execute_result"
        }
      ],
      "source": [
        "data['children'].unique()"
      ]
    },
    {
      "cell_type": "markdown",
      "id": "e71058dc",
      "metadata": {
        "deletable": false,
        "id": "e71058dc"
      },
      "source": [
        "**В столбце `children` есть два аномальных значения. Удалим строки, в которых встречаются такие аномальные значения из датафрейма**"
      ]
    },
    {
      "cell_type": "code",
      "execution_count": null,
      "id": "8bdbf01a",
      "metadata": {
        "deletable": false,
        "id": "8bdbf01a"
      },
      "outputs": [],
      "source": [
        "data = data[(data['children'] != -1) & (data['children'] != 20)]"
      ]
    },
    {
      "cell_type": "markdown",
      "id": "33a048ab",
      "metadata": {
        "deletable": false,
        "id": "33a048ab"
      },
      "source": [
        "**Ещё раз выведем перечень уникальных значений столбца `children`, чтобы убедиться, что артефакты удалены.**"
      ]
    },
    {
      "cell_type": "code",
      "execution_count": null,
      "id": "544ed1e1",
      "metadata": {
        "deletable": false,
        "id": "544ed1e1",
        "outputId": "b2097101-d49d-44d9-901b-32a65c9463d1"
      },
      "outputs": [
        {
          "data": {
            "text/plain": [
              "array([1, 0, 3, 2, 4, 5], dtype=int64)"
            ]
          },
          "execution_count": 10,
          "metadata": {},
          "output_type": "execute_result"
        }
      ],
      "source": [
        "data['children'].unique()"
      ]
    },
    {
      "cell_type": "markdown",
      "id": "717d5147",
      "metadata": {
        "deletable": false,
        "editable": false,
        "id": "717d5147"
      },
      "source": [
        "#### 2.3 Удаление пропусков (продолжение)"
      ]
    },
    {
      "cell_type": "markdown",
      "id": "ddc8b6ed",
      "metadata": {
        "deletable": false,
        "id": "ddc8b6ed"
      },
      "source": [
        "**Заполним пропуски в столбце `days_employed` медианными значениями по каждого типа занятости `income_type`.**"
      ]
    },
    {
      "cell_type": "code",
      "execution_count": null,
      "id": "a3ecbcf4",
      "metadata": {
        "deletable": false,
        "id": "a3ecbcf4"
      },
      "outputs": [],
      "source": [
        "for t in data['income_type'].unique():\n",
        "    data.loc[(data['income_type'] == t) & (data['days_employed'].isna()), 'days_employed'] = \\\n",
        "    data.loc[(data['income_type'] == t), 'days_employed'].median()"
      ]
    },
    {
      "cell_type": "markdown",
      "id": "d856bb78",
      "metadata": {
        "deletable": false,
        "id": "d856bb78"
      },
      "source": [
        "**Убедились, что все пропуски заполнены. Ещё раз выведем количество пропущенных значений для каждого столбца**"
      ]
    },
    {
      "cell_type": "code",
      "execution_count": null,
      "id": "3f6e87fb",
      "metadata": {
        "deletable": false,
        "id": "3f6e87fb",
        "outputId": "8da1e4e1-358e-4e87-98c9-f261bce0a7b2"
      },
      "outputs": [
        {
          "data": {
            "text/plain": [
              "children            0\n",
              "days_employed       0\n",
              "dob_years           0\n",
              "education           0\n",
              "education_id        0\n",
              "family_status       0\n",
              "family_status_id    0\n",
              "gender              0\n",
              "income_type         0\n",
              "debt                0\n",
              "total_income        0\n",
              "purpose             0\n",
              "dtype: int64"
            ]
          },
          "execution_count": 12,
          "metadata": {},
          "output_type": "execute_result"
        }
      ],
      "source": [
        "data.isna().sum()"
      ]
    },
    {
      "cell_type": "markdown",
      "id": "d52df6e5",
      "metadata": {
        "deletable": false,
        "editable": false,
        "id": "d52df6e5"
      },
      "source": [
        "#### 2.4 Изменение типов данных"
      ]
    },
    {
      "cell_type": "markdown",
      "id": "f83616ce",
      "metadata": {
        "deletable": false,
        "id": "f83616ce"
      },
      "source": [
        "**Заменим вещественный тип данных в столбце `total_income` на целочисленный**"
      ]
    },
    {
      "cell_type": "code",
      "execution_count": null,
      "id": "cae518e3",
      "metadata": {
        "deletable": false,
        "id": "cae518e3"
      },
      "outputs": [],
      "source": [
        "data['total_income'] = data['total_income'].astype(int)"
      ]
    },
    {
      "cell_type": "markdown",
      "id": "c78d6be8",
      "metadata": {
        "deletable": false,
        "editable": false,
        "id": "c78d6be8"
      },
      "source": [
        "#### 2.5 Обработка дубликатов"
      ]
    },
    {
      "cell_type": "markdown",
      "id": "92bc02b4",
      "metadata": {
        "deletable": false,
        "id": "92bc02b4"
      },
      "source": [
        "**Обработаем неявные дубликаты в столбце `education`. В этом столбце есть одни и те же значения, но записанные по-разному: с использованием заглавных и строчных букв. Приведем их к нижнему регистру**"
      ]
    },
    {
      "cell_type": "code",
      "execution_count": null,
      "id": "0b3a6dff",
      "metadata": {
        "deletable": false,
        "id": "0b3a6dff"
      },
      "outputs": [],
      "source": [
        "data['education'] = data['education'].str.lower()"
      ]
    },
    {
      "cell_type": "markdown",
      "id": "6030cebb",
      "metadata": {
        "deletable": false,
        "id": "6030cebb"
      },
      "source": [
        "**Выведем на экран количество строк-дубликатов в данных**"
      ]
    },
    {
      "cell_type": "code",
      "execution_count": null,
      "id": "2886bfa2",
      "metadata": {
        "deletable": false,
        "id": "2886bfa2",
        "outputId": "9684deba-1934-42d1-99e1-cda61740f822"
      },
      "outputs": [
        {
          "data": {
            "text/plain": [
              "71"
            ]
          },
          "execution_count": 15,
          "metadata": {},
          "output_type": "execute_result"
        }
      ],
      "source": [
        "data.duplicated().sum()"
      ]
    },
    {
      "cell_type": "code",
      "execution_count": null,
      "id": "dba03d6b",
      "metadata": {
        "deletable": false,
        "id": "dba03d6b"
      },
      "outputs": [],
      "source": [
        "data = data.drop_duplicates()"
      ]
    },
    {
      "cell_type": "markdown",
      "id": "c8526f88",
      "metadata": {
        "deletable": false,
        "editable": false,
        "id": "c8526f88"
      },
      "source": [
        "#### 2.6 Категоризация данных"
      ]
    },
    {
      "cell_type": "markdown",
      "id": "b49e6530",
      "metadata": {
        "deletable": false,
        "id": "b49e6530"
      },
      "source": [
        "**На основании диапазонов, указанных ниже, создадим в датафрейме `data` столбец `total_income_category` с категориями:**\n",
        "\n",
        "- 0–30000 — `'E'`;\n",
        "- 30001–50000 — `'D'`;\n",
        "- 50001–200000 — `'C'`;\n",
        "- 200001–1000000 — `'B'`;\n",
        "- 1000001 и выше — `'A'`."
      ]
    },
    {
      "cell_type": "code",
      "execution_count": null,
      "id": "8de6d1e0",
      "metadata": {
        "deletable": false,
        "id": "8de6d1e0"
      },
      "outputs": [],
      "source": [
        "def categorize_income(income):\n",
        "    try:\n",
        "        if 0 <= income <= 30000:\n",
        "            return 'E'\n",
        "        elif 30001 <= income <= 50000:\n",
        "            return 'D'\n",
        "        elif 50001 <= income <= 200000:\n",
        "            return 'C'\n",
        "        elif 200001 <= income <= 1000000:\n",
        "            return 'B'\n",
        "        elif income >= 1000001:\n",
        "            return 'A'\n",
        "    except:\n",
        "        pass"
      ]
    },
    {
      "cell_type": "code",
      "execution_count": null,
      "id": "da58bf9d",
      "metadata": {
        "deletable": false,
        "id": "da58bf9d"
      },
      "outputs": [],
      "source": [
        "data['total_income_category'] = data['total_income'].apply(categorize_income)"
      ]
    },
    {
      "cell_type": "markdown",
      "id": "3daa5ddc",
      "metadata": {
        "deletable": false,
        "id": "3daa5ddc"
      },
      "source": [
        "**Выведем на экран перечень уникальных целей взятия кредита из столбца `purpose`.**"
      ]
    },
    {
      "cell_type": "code",
      "execution_count": null,
      "id": "12a7e055",
      "metadata": {
        "deletable": false,
        "id": "12a7e055",
        "outputId": "673c12d9-7d7e-4ae0-9812-c622c89dd244"
      },
      "outputs": [
        {
          "data": {
            "text/plain": [
              "array(['покупка жилья', 'приобретение автомобиля',\n",
              "       'дополнительное образование', 'сыграть свадьбу',\n",
              "       'операции с жильем', 'образование', 'на проведение свадьбы',\n",
              "       'покупка жилья для семьи', 'покупка недвижимости',\n",
              "       'покупка коммерческой недвижимости', 'покупка жилой недвижимости',\n",
              "       'строительство собственной недвижимости', 'недвижимость',\n",
              "       'строительство недвижимости', 'на покупку подержанного автомобиля',\n",
              "       'на покупку своего автомобиля',\n",
              "       'операции с коммерческой недвижимостью',\n",
              "       'строительство жилой недвижимости', 'жилье',\n",
              "       'операции со своей недвижимостью', 'автомобили',\n",
              "       'заняться образованием', 'сделка с подержанным автомобилем',\n",
              "       'получение образования', 'автомобиль', 'свадьба',\n",
              "       'получение дополнительного образования', 'покупка своего жилья',\n",
              "       'операции с недвижимостью', 'получение высшего образования',\n",
              "       'свой автомобиль', 'сделка с автомобилем',\n",
              "       'профильное образование', 'высшее образование',\n",
              "       'покупка жилья для сдачи', 'на покупку автомобиля', 'ремонт жилью',\n",
              "       'заняться высшим образованием'], dtype=object)"
            ]
          },
          "execution_count": 19,
          "metadata": {},
          "output_type": "execute_result"
        }
      ],
      "source": [
        "data['purpose'].unique()"
      ]
    },
    {
      "cell_type": "markdown",
      "id": "439809a4",
      "metadata": {
        "deletable": false,
        "id": "439809a4"
      },
      "source": [
        "**Создадим функцию, которая на основании данных из столбца `purpose` сформирует новый столбец `purpose_category`, в который войдут следующие категории:**\n",
        "\n",
        "- `'операции с автомобилем'`,\n",
        "- `'операции с недвижимостью'`,\n",
        "- `'проведение свадьбы'`,\n",
        "- `'получение образования'`."
      ]
    },
    {
      "cell_type": "code",
      "execution_count": null,
      "id": "1eecae0e",
      "metadata": {
        "deletable": false,
        "id": "1eecae0e"
      },
      "outputs": [],
      "source": [
        "def categorize_purpose(row):\n",
        "    try:\n",
        "        if 'автом' in row:\n",
        "            return 'операции с автомобилем'\n",
        "        elif 'жил' in row or 'недвиж' in row:\n",
        "            return 'операции с недвижимостью'\n",
        "        elif 'свад' in row:\n",
        "            return 'проведение свадьбы'\n",
        "        elif 'образов' in row:\n",
        "            return 'получение образования'\n",
        "    except:\n",
        "        return 'нет категории'"
      ]
    },
    {
      "cell_type": "code",
      "execution_count": null,
      "id": "e5361c79",
      "metadata": {
        "deletable": false,
        "id": "e5361c79"
      },
      "outputs": [],
      "source": [
        "data['purpose_category'] = data['purpose'].apply(categorize_purpose)"
      ]
    },
    {
      "cell_type": "markdown",
      "id": "42c49ed3",
      "metadata": {
        "deletable": false,
        "editable": false,
        "id": "42c49ed3"
      },
      "source": [
        "### Шаг 3. Исследуем данные и ответим на вопросы"
      ]
    },
    {
      "cell_type": "markdown",
      "id": "c4285562",
      "metadata": {
        "deletable": false,
        "editable": false,
        "id": "c4285562"
      },
      "source": [
        "#### 3.1 Есть ли зависимость между количеством детей и возвратом кредита в срок?"
      ]
    },
    {
      "cell_type": "code",
      "execution_count": null,
      "id": "7c9656e4",
      "metadata": {
        "deletable": false,
        "id": "7c9656e4",
        "outputId": "e925e182-86a4-4a49-9e2c-3eff96746326"
      },
      "outputs": [
        {
          "data": {
            "text/html": [
              "<div>\n",
              "<style scoped>\n",
              "    .dataframe tbody tr th:only-of-type {\n",
              "        vertical-align: middle;\n",
              "    }\n",
              "\n",
              "    .dataframe tbody tr th {\n",
              "        vertical-align: top;\n",
              "    }\n",
              "\n",
              "    .dataframe thead th {\n",
              "        text-align: right;\n",
              "    }\n",
              "</style>\n",
              "<table border=\"1\" class=\"dataframe\">\n",
              "  <thead>\n",
              "    <tr style=\"text-align: right;\">\n",
              "      <th></th>\n",
              "      <th>count</th>\n",
              "      <th>sum</th>\n",
              "      <th>mean</th>\n",
              "    </tr>\n",
              "    <tr>\n",
              "      <th>children</th>\n",
              "      <th></th>\n",
              "      <th></th>\n",
              "      <th></th>\n",
              "    </tr>\n",
              "  </thead>\n",
              "  <tbody>\n",
              "    <tr>\n",
              "      <th>0</th>\n",
              "      <td>14091</td>\n",
              "      <td>1063</td>\n",
              "      <td>0.075438</td>\n",
              "    </tr>\n",
              "    <tr>\n",
              "      <th>1</th>\n",
              "      <td>4808</td>\n",
              "      <td>444</td>\n",
              "      <td>0.092346</td>\n",
              "    </tr>\n",
              "    <tr>\n",
              "      <th>2</th>\n",
              "      <td>2052</td>\n",
              "      <td>194</td>\n",
              "      <td>0.094542</td>\n",
              "    </tr>\n",
              "    <tr>\n",
              "      <th>3</th>\n",
              "      <td>330</td>\n",
              "      <td>27</td>\n",
              "      <td>0.081818</td>\n",
              "    </tr>\n",
              "    <tr>\n",
              "      <th>4</th>\n",
              "      <td>41</td>\n",
              "      <td>4</td>\n",
              "      <td>0.097561</td>\n",
              "    </tr>\n",
              "    <tr>\n",
              "      <th>5</th>\n",
              "      <td>9</td>\n",
              "      <td>0</td>\n",
              "      <td>0.000000</td>\n",
              "    </tr>\n",
              "  </tbody>\n",
              "</table>\n",
              "</div>"
            ],
            "text/plain": [
              "          count   sum      mean\n",
              "children                       \n",
              "0         14091  1063  0.075438\n",
              "1          4808   444  0.092346\n",
              "2          2052   194  0.094542\n",
              "3           330    27  0.081818\n",
              "4            41     4  0.097561\n",
              "5             9     0  0.000000"
            ]
          },
          "execution_count": 22,
          "metadata": {},
          "output_type": "execute_result"
        }
      ],
      "source": [
        "data.groupby('children')['debt'].agg(['count', 'sum', 'mean'])"
      ]
    },
    {
      "cell_type": "markdown",
      "id": "d0154068",
      "metadata": {
        "deletable": false,
        "id": "d0154068"
      },
      "source": [
        "**Вывод:** Незначительное увеличение должников с увеличением количества детей в семье. Но слишком мало данных для анализа семей с тремя  детьми и более."
      ]
    },
    {
      "cell_type": "markdown",
      "id": "1515b50d",
      "metadata": {
        "deletable": false,
        "editable": false,
        "id": "1515b50d"
      },
      "source": [
        "#### 3.2 Есть ли зависимость между семейным положением и возвратом кредита в срок?"
      ]
    },
    {
      "cell_type": "code",
      "execution_count": null,
      "id": "812f6e94",
      "metadata": {
        "deletable": false,
        "id": "812f6e94",
        "outputId": "a4fc46bc-8b94-42c8-cc8d-9120d5814217"
      },
      "outputs": [
        {
          "data": {
            "text/html": [
              "<div>\n",
              "<style scoped>\n",
              "    .dataframe tbody tr th:only-of-type {\n",
              "        vertical-align: middle;\n",
              "    }\n",
              "\n",
              "    .dataframe tbody tr th {\n",
              "        vertical-align: top;\n",
              "    }\n",
              "\n",
              "    .dataframe thead th {\n",
              "        text-align: right;\n",
              "    }\n",
              "</style>\n",
              "<table border=\"1\" class=\"dataframe\">\n",
              "  <thead>\n",
              "    <tr style=\"text-align: right;\">\n",
              "      <th></th>\n",
              "      <th>count</th>\n",
              "      <th>sum</th>\n",
              "      <th>mean</th>\n",
              "    </tr>\n",
              "    <tr>\n",
              "      <th>family_status</th>\n",
              "      <th></th>\n",
              "      <th></th>\n",
              "      <th></th>\n",
              "    </tr>\n",
              "  </thead>\n",
              "  <tbody>\n",
              "    <tr>\n",
              "      <th>вдовец / вдова</th>\n",
              "      <td>951</td>\n",
              "      <td>63</td>\n",
              "      <td>0.066246</td>\n",
              "    </tr>\n",
              "    <tr>\n",
              "      <th>в разводе</th>\n",
              "      <td>1189</td>\n",
              "      <td>84</td>\n",
              "      <td>0.070648</td>\n",
              "    </tr>\n",
              "    <tr>\n",
              "      <th>женат / замужем</th>\n",
              "      <td>12261</td>\n",
              "      <td>927</td>\n",
              "      <td>0.075606</td>\n",
              "    </tr>\n",
              "    <tr>\n",
              "      <th>гражданский брак</th>\n",
              "      <td>4134</td>\n",
              "      <td>385</td>\n",
              "      <td>0.093130</td>\n",
              "    </tr>\n",
              "    <tr>\n",
              "      <th>Не женат / не замужем</th>\n",
              "      <td>2796</td>\n",
              "      <td>273</td>\n",
              "      <td>0.097639</td>\n",
              "    </tr>\n",
              "  </tbody>\n",
              "</table>\n",
              "</div>"
            ],
            "text/plain": [
              "                       count  sum      mean\n",
              "family_status                              \n",
              "вдовец / вдова           951   63  0.066246\n",
              "в разводе               1189   84  0.070648\n",
              "женат / замужем        12261  927  0.075606\n",
              "гражданский брак        4134  385  0.093130\n",
              "Не женат / не замужем   2796  273  0.097639"
            ]
          },
          "execution_count": 23,
          "metadata": {},
          "output_type": "execute_result"
        }
      ],
      "source": [
        "data.groupby('family_status')['debt'].agg(['count', 'sum', 'mean']).sort_values(by='mean')"
      ]
    },
    {
      "cell_type": "code",
      "execution_count": null,
      "id": "883178ee",
      "metadata": {
        "id": "883178ee",
        "outputId": "03d5c9f9-dffb-49c4-9638-1cb768981b19"
      },
      "outputs": [
        {
          "data": {
            "text/html": [
              "<div>\n",
              "<style scoped>\n",
              "    .dataframe tbody tr th:only-of-type {\n",
              "        vertical-align: middle;\n",
              "    }\n",
              "\n",
              "    .dataframe tbody tr th {\n",
              "        vertical-align: top;\n",
              "    }\n",
              "\n",
              "    .dataframe thead tr th {\n",
              "        text-align: left;\n",
              "    }\n",
              "\n",
              "    .dataframe thead tr:last-of-type th {\n",
              "        text-align: right;\n",
              "    }\n",
              "</style>\n",
              "<table border=\"1\" class=\"dataframe\">\n",
              "  <thead>\n",
              "    <tr>\n",
              "      <th></th>\n",
              "      <th></th>\n",
              "      <th>count</th>\n",
              "      <th>sum</th>\n",
              "      <th>mean</th>\n",
              "    </tr>\n",
              "    <tr>\n",
              "      <th></th>\n",
              "      <th></th>\n",
              "      <th>debt</th>\n",
              "      <th>debt</th>\n",
              "      <th>debt</th>\n",
              "    </tr>\n",
              "    <tr>\n",
              "      <th>family_status</th>\n",
              "      <th>purpose_category</th>\n",
              "      <th></th>\n",
              "      <th></th>\n",
              "      <th></th>\n",
              "    </tr>\n",
              "  </thead>\n",
              "  <tbody>\n",
              "    <tr>\n",
              "      <th>вдовец / вдова</th>\n",
              "      <th>операции с недвижимостью</th>\n",
              "      <td>535</td>\n",
              "      <td>28</td>\n",
              "      <td>0.052336</td>\n",
              "    </tr>\n",
              "    <tr>\n",
              "      <th>в разводе</th>\n",
              "      <th>операции с недвижимостью</th>\n",
              "      <td>672</td>\n",
              "      <td>46</td>\n",
              "      <td>0.068452</td>\n",
              "    </tr>\n",
              "    <tr>\n",
              "      <th>женат / замужем</th>\n",
              "      <th>операции с недвижимостью</th>\n",
              "      <td>6970</td>\n",
              "      <td>486</td>\n",
              "      <td>0.069727</td>\n",
              "    </tr>\n",
              "    <tr>\n",
              "      <th rowspan=\"2\" valign=\"top\">в разводе</th>\n",
              "      <th>получение образования</th>\n",
              "      <td>238</td>\n",
              "      <td>17</td>\n",
              "      <td>0.071429</td>\n",
              "    </tr>\n",
              "    <tr>\n",
              "      <th>операции с автомобилем</th>\n",
              "      <td>279</td>\n",
              "      <td>21</td>\n",
              "      <td>0.075269</td>\n",
              "    </tr>\n",
              "    <tr>\n",
              "      <th>вдовец / вдова</th>\n",
              "      <th>получение образования</th>\n",
              "      <td>198</td>\n",
              "      <td>15</td>\n",
              "      <td>0.075758</td>\n",
              "    </tr>\n",
              "    <tr>\n",
              "      <th>гражданский брак</th>\n",
              "      <th>проведение свадьбы</th>\n",
              "      <td>2313</td>\n",
              "      <td>183</td>\n",
              "      <td>0.079118</td>\n",
              "    </tr>\n",
              "    <tr>\n",
              "      <th>Не женат / не замужем</th>\n",
              "      <th>операции с недвижимостью</th>\n",
              "      <td>1586</td>\n",
              "      <td>129</td>\n",
              "      <td>0.081337</td>\n",
              "    </tr>\n",
              "    <tr>\n",
              "      <th rowspan=\"2\" valign=\"top\">женат / замужем</th>\n",
              "      <th>операции с автомобилем</th>\n",
              "      <td>2717</td>\n",
              "      <td>226</td>\n",
              "      <td>0.083180</td>\n",
              "    </tr>\n",
              "    <tr>\n",
              "      <th>получение образования</th>\n",
              "      <td>2574</td>\n",
              "      <td>215</td>\n",
              "      <td>0.083528</td>\n",
              "    </tr>\n",
              "    <tr>\n",
              "      <th>вдовец / вдова</th>\n",
              "      <th>операции с автомобилем</th>\n",
              "      <td>218</td>\n",
              "      <td>20</td>\n",
              "      <td>0.091743</td>\n",
              "    </tr>\n",
              "    <tr>\n",
              "      <th>гражданский брак</th>\n",
              "      <th>операции с недвижимостью</th>\n",
              "      <td>988</td>\n",
              "      <td>91</td>\n",
              "      <td>0.092105</td>\n",
              "    </tr>\n",
              "    <tr>\n",
              "      <th>Не женат / не замужем</th>\n",
              "      <th>получение образования</th>\n",
              "      <td>575</td>\n",
              "      <td>62</td>\n",
              "      <td>0.107826</td>\n",
              "    </tr>\n",
              "    <tr>\n",
              "      <th>гражданский брак</th>\n",
              "      <th>операции с автомобилем</th>\n",
              "      <td>430</td>\n",
              "      <td>51</td>\n",
              "      <td>0.118605</td>\n",
              "    </tr>\n",
              "    <tr>\n",
              "      <th>Не женат / не замужем</th>\n",
              "      <th>операции с автомобилем</th>\n",
              "      <td>635</td>\n",
              "      <td>82</td>\n",
              "      <td>0.129134</td>\n",
              "    </tr>\n",
              "    <tr>\n",
              "      <th>гражданский брак</th>\n",
              "      <th>получение образования</th>\n",
              "      <td>403</td>\n",
              "      <td>60</td>\n",
              "      <td>0.148883</td>\n",
              "    </tr>\n",
              "  </tbody>\n",
              "</table>\n",
              "</div>"
            ],
            "text/plain": [
              "                                               count  sum      mean\n",
              "                                                debt debt      debt\n",
              "family_status         purpose_category                             \n",
              "вдовец / вдова        операции с недвижимостью   535   28  0.052336\n",
              "в разводе             операции с недвижимостью   672   46  0.068452\n",
              "женат / замужем       операции с недвижимостью  6970  486  0.069727\n",
              "в разводе             получение образования      238   17  0.071429\n",
              "                      операции с автомобилем     279   21  0.075269\n",
              "вдовец / вдова        получение образования      198   15  0.075758\n",
              "гражданский брак      проведение свадьбы        2313  183  0.079118\n",
              "Не женат / не замужем операции с недвижимостью  1586  129  0.081337\n",
              "женат / замужем       операции с автомобилем    2717  226  0.083180\n",
              "                      получение образования     2574  215  0.083528\n",
              "вдовец / вдова        операции с автомобилем     218   20  0.091743\n",
              "гражданский брак      операции с недвижимостью   988   91  0.092105\n",
              "Не женат / не замужем получение образования      575   62  0.107826\n",
              "гражданский брак      операции с автомобилем     430   51  0.118605\n",
              "Не женат / не замужем операции с автомобилем     635   82  0.129134\n",
              "гражданский брак      получение образования      403   60  0.148883"
            ]
          },
          "execution_count": 24,
          "metadata": {},
          "output_type": "execute_result"
        }
      ],
      "source": [
        "data.pivot_table(index=['family_status', 'purpose_category'], \n",
        "                 values='debt',\n",
        "                aggfunc=['count', 'sum', 'mean']).sort_values(by=( 'mean', 'debt'))"
      ]
    },
    {
      "cell_type": "markdown",
      "id": "b7f7bf2d",
      "metadata": {
        "deletable": false,
        "id": "b7f7bf2d"
      },
      "source": [
        "**Вывод:** Из выше приведенных данных видно что меньше всего должников в группе \"вдовец / вдова\", а больше всего \"не женат / не замужем\""
      ]
    },
    {
      "cell_type": "markdown",
      "id": "2ba80537",
      "metadata": {
        "deletable": false,
        "editable": false,
        "id": "2ba80537"
      },
      "source": [
        "#### 3.3 Есть ли зависимость между уровнем дохода и возвратом кредита в срок?"
      ]
    },
    {
      "cell_type": "code",
      "execution_count": null,
      "id": "c4af23aa",
      "metadata": {
        "deletable": false,
        "id": "c4af23aa",
        "outputId": "a2756187-503c-4187-e0e5-f836ece0a047"
      },
      "outputs": [
        {
          "data": {
            "text/html": [
              "<div>\n",
              "<style scoped>\n",
              "    .dataframe tbody tr th:only-of-type {\n",
              "        vertical-align: middle;\n",
              "    }\n",
              "\n",
              "    .dataframe tbody tr th {\n",
              "        vertical-align: top;\n",
              "    }\n",
              "\n",
              "    .dataframe thead th {\n",
              "        text-align: right;\n",
              "    }\n",
              "</style>\n",
              "<table border=\"1\" class=\"dataframe\">\n",
              "  <thead>\n",
              "    <tr style=\"text-align: right;\">\n",
              "      <th></th>\n",
              "      <th>count</th>\n",
              "      <th>sum</th>\n",
              "      <th>mean</th>\n",
              "    </tr>\n",
              "    <tr>\n",
              "      <th>total_income_category</th>\n",
              "      <th></th>\n",
              "      <th></th>\n",
              "      <th></th>\n",
              "    </tr>\n",
              "  </thead>\n",
              "  <tbody>\n",
              "    <tr>\n",
              "      <th>D</th>\n",
              "      <td>349</td>\n",
              "      <td>21</td>\n",
              "      <td>0.060172</td>\n",
              "    </tr>\n",
              "    <tr>\n",
              "      <th>B</th>\n",
              "      <td>5014</td>\n",
              "      <td>354</td>\n",
              "      <td>0.070602</td>\n",
              "    </tr>\n",
              "    <tr>\n",
              "      <th>A</th>\n",
              "      <td>25</td>\n",
              "      <td>2</td>\n",
              "      <td>0.080000</td>\n",
              "    </tr>\n",
              "    <tr>\n",
              "      <th>C</th>\n",
              "      <td>15921</td>\n",
              "      <td>1353</td>\n",
              "      <td>0.084982</td>\n",
              "    </tr>\n",
              "    <tr>\n",
              "      <th>E</th>\n",
              "      <td>22</td>\n",
              "      <td>2</td>\n",
              "      <td>0.090909</td>\n",
              "    </tr>\n",
              "  </tbody>\n",
              "</table>\n",
              "</div>"
            ],
            "text/plain": [
              "                       count   sum      mean\n",
              "total_income_category                       \n",
              "D                        349    21  0.060172\n",
              "B                       5014   354  0.070602\n",
              "A                         25     2  0.080000\n",
              "C                      15921  1353  0.084982\n",
              "E                         22     2  0.090909"
            ]
          },
          "execution_count": 25,
          "metadata": {},
          "output_type": "execute_result"
        }
      ],
      "source": [
        "data.groupby('total_income_category')['debt'].agg(['count', 'sum', 'mean']).sort_values(by='mean')"
      ]
    },
    {
      "cell_type": "code",
      "execution_count": null,
      "id": "9dee509a",
      "metadata": {
        "id": "9dee509a",
        "outputId": "725c1821-319c-4350-fd87-2238e7ac6fe1"
      },
      "outputs": [
        {
          "data": {
            "text/html": [
              "<div>\n",
              "<style scoped>\n",
              "    .dataframe tbody tr th:only-of-type {\n",
              "        vertical-align: middle;\n",
              "    }\n",
              "\n",
              "    .dataframe tbody tr th {\n",
              "        vertical-align: top;\n",
              "    }\n",
              "\n",
              "    .dataframe thead tr th {\n",
              "        text-align: left;\n",
              "    }\n",
              "\n",
              "    .dataframe thead tr:last-of-type th {\n",
              "        text-align: right;\n",
              "    }\n",
              "</style>\n",
              "<table border=\"1\" class=\"dataframe\">\n",
              "  <thead>\n",
              "    <tr>\n",
              "      <th></th>\n",
              "      <th></th>\n",
              "      <th>count</th>\n",
              "      <th>sum</th>\n",
              "      <th>mean</th>\n",
              "    </tr>\n",
              "    <tr>\n",
              "      <th></th>\n",
              "      <th></th>\n",
              "      <th>debt</th>\n",
              "      <th>debt</th>\n",
              "      <th>debt</th>\n",
              "    </tr>\n",
              "    <tr>\n",
              "      <th>total_income_category</th>\n",
              "      <th>purpose_category</th>\n",
              "      <th></th>\n",
              "      <th></th>\n",
              "      <th></th>\n",
              "    </tr>\n",
              "  </thead>\n",
              "  <tbody>\n",
              "    <tr>\n",
              "      <th>A</th>\n",
              "      <th>операции с автомобилем</th>\n",
              "      <td>2</td>\n",
              "      <td>0</td>\n",
              "      <td>0.000000</td>\n",
              "    </tr>\n",
              "    <tr>\n",
              "      <th rowspan=\"3\" valign=\"top\">E</th>\n",
              "      <th>операции с автомобилем</th>\n",
              "      <td>2</td>\n",
              "      <td>0</td>\n",
              "      <td>0.000000</td>\n",
              "    </tr>\n",
              "    <tr>\n",
              "      <th>получение образования</th>\n",
              "      <td>5</td>\n",
              "      <td>0</td>\n",
              "      <td>0.000000</td>\n",
              "    </tr>\n",
              "    <tr>\n",
              "      <th>проведение свадьбы</th>\n",
              "      <td>4</td>\n",
              "      <td>0</td>\n",
              "      <td>0.000000</td>\n",
              "    </tr>\n",
              "    <tr>\n",
              "      <th>A</th>\n",
              "      <th>проведение свадьбы</th>\n",
              "      <td>2</td>\n",
              "      <td>0</td>\n",
              "      <td>0.000000</td>\n",
              "    </tr>\n",
              "    <tr>\n",
              "      <th rowspan=\"2\" valign=\"top\">D</th>\n",
              "      <th>получение образования</th>\n",
              "      <td>75</td>\n",
              "      <td>2</td>\n",
              "      <td>0.026667</td>\n",
              "    </tr>\n",
              "    <tr>\n",
              "      <th>операции с недвижимостью</th>\n",
              "      <td>168</td>\n",
              "      <td>6</td>\n",
              "      <td>0.035714</td>\n",
              "    </tr>\n",
              "    <tr>\n",
              "      <th>B</th>\n",
              "      <th>проведение свадьбы</th>\n",
              "      <td>544</td>\n",
              "      <td>28</td>\n",
              "      <td>0.051471</td>\n",
              "    </tr>\n",
              "    <tr>\n",
              "      <th>A</th>\n",
              "      <th>операции с недвижимостью</th>\n",
              "      <td>17</td>\n",
              "      <td>1</td>\n",
              "      <td>0.058824</td>\n",
              "    </tr>\n",
              "    <tr>\n",
              "      <th>B</th>\n",
              "      <th>операции с недвижимостью</th>\n",
              "      <td>2558</td>\n",
              "      <td>172</td>\n",
              "      <td>0.067240</td>\n",
              "    </tr>\n",
              "    <tr>\n",
              "      <th>C</th>\n",
              "      <th>операции с недвижимостью</th>\n",
              "      <td>7997</td>\n",
              "      <td>599</td>\n",
              "      <td>0.074903</td>\n",
              "    </tr>\n",
              "    <tr>\n",
              "      <th rowspan=\"2\" valign=\"top\">B</th>\n",
              "      <th>получение образования</th>\n",
              "      <td>890</td>\n",
              "      <td>69</td>\n",
              "      <td>0.077528</td>\n",
              "    </tr>\n",
              "    <tr>\n",
              "      <th>операции с автомобилем</th>\n",
              "      <td>1022</td>\n",
              "      <td>85</td>\n",
              "      <td>0.083170</td>\n",
              "    </tr>\n",
              "    <tr>\n",
              "      <th>C</th>\n",
              "      <th>проведение свадьбы</th>\n",
              "      <td>1729</td>\n",
              "      <td>152</td>\n",
              "      <td>0.087912</td>\n",
              "    </tr>\n",
              "    <tr>\n",
              "      <th>D</th>\n",
              "      <th>проведение свадьбы</th>\n",
              "      <td>34</td>\n",
              "      <td>3</td>\n",
              "      <td>0.088235</td>\n",
              "    </tr>\n",
              "    <tr>\n",
              "      <th rowspan=\"2\" valign=\"top\">C</th>\n",
              "      <th>операции с автомобилем</th>\n",
              "      <td>3181</td>\n",
              "      <td>305</td>\n",
              "      <td>0.095882</td>\n",
              "    </tr>\n",
              "    <tr>\n",
              "      <th>получение образования</th>\n",
              "      <td>3014</td>\n",
              "      <td>297</td>\n",
              "      <td>0.098540</td>\n",
              "    </tr>\n",
              "    <tr>\n",
              "      <th>D</th>\n",
              "      <th>операции с автомобилем</th>\n",
              "      <td>72</td>\n",
              "      <td>10</td>\n",
              "      <td>0.138889</td>\n",
              "    </tr>\n",
              "    <tr>\n",
              "      <th>E</th>\n",
              "      <th>операции с недвижимостью</th>\n",
              "      <td>11</td>\n",
              "      <td>2</td>\n",
              "      <td>0.181818</td>\n",
              "    </tr>\n",
              "    <tr>\n",
              "      <th>A</th>\n",
              "      <th>получение образования</th>\n",
              "      <td>4</td>\n",
              "      <td>1</td>\n",
              "      <td>0.250000</td>\n",
              "    </tr>\n",
              "  </tbody>\n",
              "</table>\n",
              "</div>"
            ],
            "text/plain": [
              "                                               count  sum      mean\n",
              "                                                debt debt      debt\n",
              "total_income_category purpose_category                             \n",
              "A                     операции с автомобилем       2    0  0.000000\n",
              "E                     операции с автомобилем       2    0  0.000000\n",
              "                      получение образования        5    0  0.000000\n",
              "                      проведение свадьбы           4    0  0.000000\n",
              "A                     проведение свадьбы           2    0  0.000000\n",
              "D                     получение образования       75    2  0.026667\n",
              "                      операции с недвижимостью   168    6  0.035714\n",
              "B                     проведение свадьбы         544   28  0.051471\n",
              "A                     операции с недвижимостью    17    1  0.058824\n",
              "B                     операции с недвижимостью  2558  172  0.067240\n",
              "C                     операции с недвижимостью  7997  599  0.074903\n",
              "B                     получение образования      890   69  0.077528\n",
              "                      операции с автомобилем    1022   85  0.083170\n",
              "C                     проведение свадьбы        1729  152  0.087912\n",
              "D                     проведение свадьбы          34    3  0.088235\n",
              "C                     операции с автомобилем    3181  305  0.095882\n",
              "                      получение образования     3014  297  0.098540\n",
              "D                     операции с автомобилем      72   10  0.138889\n",
              "E                     операции с недвижимостью    11    2  0.181818\n",
              "A                     получение образования        4    1  0.250000"
            ]
          },
          "execution_count": 26,
          "metadata": {},
          "output_type": "execute_result"
        }
      ],
      "source": [
        "data.pivot_table(index=['total_income_category', 'purpose_category'], \n",
        "                 values='debt',\n",
        "                aggfunc=['count', 'sum', 'mean']).sort_values(by=( 'mean', 'debt'))"
      ]
    },
    {
      "cell_type": "markdown",
      "id": "40498e12",
      "metadata": {
        "deletable": false,
        "id": "40498e12"
      },
      "source": [
        "**Вывод:** Люди с доходами категории A и Е обращаются за кредитами очень редко.(**Предположительно** люди с категорией дохода \"А\" - в связи с достаточным доходом, не нуждаются в кредитах, а категория \"Е\" не могут позволить себе кредит в связи с недостаточным доходом для покрытия.) В связи с этим предположением и соответствующей нехваткой данных из этих категорий, их можно не учитывать. Показатели в категориях B, C и D колебляться между собой в районе 1.5 %."
      ]
    },
    {
      "cell_type": "markdown",
      "id": "22c0f0db",
      "metadata": {
        "deletable": false,
        "editable": false,
        "id": "22c0f0db"
      },
      "source": [
        "#### 3.4 Как разные цели кредита влияют на его возврат в срок?"
      ]
    },
    {
      "cell_type": "code",
      "execution_count": null,
      "id": "280e2b3b",
      "metadata": {
        "scrolled": true,
        "id": "280e2b3b",
        "outputId": "01c5d415-f1cc-44be-c923-800322d1dad0"
      },
      "outputs": [
        {
          "data": {
            "text/html": [
              "<div>\n",
              "<style scoped>\n",
              "    .dataframe tbody tr th:only-of-type {\n",
              "        vertical-align: middle;\n",
              "    }\n",
              "\n",
              "    .dataframe tbody tr th {\n",
              "        vertical-align: top;\n",
              "    }\n",
              "\n",
              "    .dataframe thead tr th {\n",
              "        text-align: left;\n",
              "    }\n",
              "\n",
              "    .dataframe thead tr:last-of-type th {\n",
              "        text-align: right;\n",
              "    }\n",
              "</style>\n",
              "<table border=\"1\" class=\"dataframe\">\n",
              "  <thead>\n",
              "    <tr>\n",
              "      <th></th>\n",
              "      <th>count</th>\n",
              "      <th>sum</th>\n",
              "      <th>mean</th>\n",
              "    </tr>\n",
              "    <tr>\n",
              "      <th></th>\n",
              "      <th>debt</th>\n",
              "      <th>debt</th>\n",
              "      <th>debt</th>\n",
              "    </tr>\n",
              "    <tr>\n",
              "      <th>purpose_category</th>\n",
              "      <th></th>\n",
              "      <th></th>\n",
              "      <th></th>\n",
              "    </tr>\n",
              "  </thead>\n",
              "  <tbody>\n",
              "    <tr>\n",
              "      <th>операции с недвижимостью</th>\n",
              "      <td>10751</td>\n",
              "      <td>780</td>\n",
              "      <td>0.072551</td>\n",
              "    </tr>\n",
              "    <tr>\n",
              "      <th>проведение свадьбы</th>\n",
              "      <td>2313</td>\n",
              "      <td>183</td>\n",
              "      <td>0.079118</td>\n",
              "    </tr>\n",
              "    <tr>\n",
              "      <th>получение образования</th>\n",
              "      <td>3988</td>\n",
              "      <td>369</td>\n",
              "      <td>0.092528</td>\n",
              "    </tr>\n",
              "    <tr>\n",
              "      <th>операции с автомобилем</th>\n",
              "      <td>4279</td>\n",
              "      <td>400</td>\n",
              "      <td>0.093480</td>\n",
              "    </tr>\n",
              "  </tbody>\n",
              "</table>\n",
              "</div>"
            ],
            "text/plain": [
              "                          count  sum      mean\n",
              "                           debt debt      debt\n",
              "purpose_category                              \n",
              "операции с недвижимостью  10751  780  0.072551\n",
              "проведение свадьбы         2313  183  0.079118\n",
              "получение образования      3988  369  0.092528\n",
              "операции с автомобилем     4279  400  0.093480"
            ]
          },
          "execution_count": 27,
          "metadata": {},
          "output_type": "execute_result"
        }
      ],
      "source": [
        "data.pivot_table(index='purpose_category', values='debt', aggfunc=['count', 'sum', 'mean']).sort_values(by=( 'mean', 'debt'))"
      ]
    },
    {
      "cell_type": "markdown",
      "id": "ab112f76",
      "metadata": {
        "deletable": false,
        "id": "ab112f76"
      },
      "source": [
        "**Вывод:**\n",
        "Исходя из предоставленных данных и построения таблицы с конверсией можно сделать вывод что люди берущие кредит на проведение свадьбы или на операции с недвижимостью чаще ~ на 2% возвращают кредит без задолженностей чем те кто берут кредит на образование или автомобиль."
      ]
    },
    {
      "cell_type": "markdown",
      "id": "4d3d84c1",
      "metadata": {
        "deletable": false,
        "editable": false,
        "id": "4d3d84c1"
      },
      "source": [
        "#### 3.5 Приведите возможные причины появления пропусков в исходных данных."
      ]
    },
    {
      "cell_type": "markdown",
      "id": "6248dcbe",
      "metadata": {
        "deletable": false,
        "id": "6248dcbe"
      },
      "source": [
        "*Ответ:* Предполагаю что значения в days_employed отсутствуют в связи с тем что человек не трудоустраивался официально вообще и соответственно пропущены значения в тех же строчках по столбцу total_income в связи с отсутствием у него дохода (NaN значения в столбце days_employed полностью соответсвуют NaN значениям в столбце total_income). "
      ]
    },
    {
      "cell_type": "markdown",
      "id": "d47142b8",
      "metadata": {
        "deletable": false,
        "editable": false,
        "id": "d47142b8"
      },
      "source": [
        "#### 3.6 Объясните, почему заполнить пропуски медианным значением — лучшее решение для количественных переменных."
      ]
    },
    {
      "cell_type": "markdown",
      "id": "2a2d3a63",
      "metadata": {
        "id": "2a2d3a63"
      },
      "source": [
        "*Ответ:* Медианное значение имеет наиболее точный результат с точки зрения математического прогнозна т.к. меньше подвержено влияюнию аномальных значений в следствии чего имеет наименьшее влияние на результат статистического анализа"
      ]
    },
    {
      "cell_type": "markdown",
      "id": "b51e5d25",
      "metadata": {
        "deletable": false,
        "editable": false,
        "id": "b51e5d25"
      },
      "source": [
        "### Шаг 4: Общий вывод."
      ]
    },
    {
      "cell_type": "markdown",
      "id": "3d33bca8",
      "metadata": {
        "id": "3d33bca8"
      },
      "source": [
        "**При поиске закономерностей между должниками и факторами влияющие на это можно строить следующие предположения:**\n",
        "\n",
        "1) Чем больше детей, тем больше опаздывают с выплачиванием кредита, однако также замечается закономерность того, что чем больше детей - тем меньше в целом оформляют кредит.\n",
        "\n",
        "2) При дальнейшем исследовании следует обратить внимание сразу на три фактора: это количество людей, оформивших кредит, по какой категории они кредит оформляли, и какая часть из них опаздывала с выплачиванием. Следует отметить, что медианное значение заработка у всех групп, кроме вдовцов и вдов, на уровне погрешности (выводы далее также учитывают этот факт).\n",
        "По статистическому анализу видно, что больше всего выплату задерживают не женатые люди либо люди в *гражданском браке* по категориям получения образования и операций с автомобилем. Сложно сделать однозначный вывод из-за отсутствия определённых данных, но представляется, что люди, находящиеся в гражданском браке, а также незамужние люди, либо недостаточно ответственны (что является очень грубым социологическим выводом и очень скудно выдерживает критику, хоть и имеет место быть), либо, что вероятнее, недостаточно точно планируют свои финансовые расходы. Для однозначного вывода не хватает информации о том, какого размера кредит они оформляют при одинаковых доходах.\n",
        "Мы видим практическую состоятельность данной логики, когда смотрим на пласт общества, наименее всего опаздывающего с погашением кредитов: люди в годах (вдовцы, замужние или в разводе) меньше всего берут кредит и при этом наиболее точно планируют свои финансовые расходы (исходя от того, что именно от этого зависит своевременность погашения долга).\n",
        "Тем не менее, прошу заметить ещё раз, что я склоняюсь к тому ответу, что нам критически не хватает информации о размере средств, на которые оформили кредит.\n",
        "Также необходимо учитывать возможность того, что у граждан старше уже есть квартира и машина и образование при отсутствии нужды \"играть свадьбу\".\n",
        "\n",
        "3) Больше всего оформляют кредит граждане со средним уровнем заработка, но больше никакой полезной информации нам такая сводка данных не дает. Если привести таблицу по категории дохода гражданина и по цели кредита, то тут ситуация начинает вырисовываться. Однозначно не хватает колонки с суммой оформленного кредита, но по цели кредита можно ориентировочно предположить эту сумму. И тут с колоссальным отрывом по задолжности появляются люди с низким доходом но с крупной покупкой.\n",
        "\n"
      ]
    },
    {
      "cell_type": "markdown",
      "id": "fcf34e91",
      "metadata": {
        "deletable": false,
        "id": "fcf34e91"
      },
      "source": [
        "На мой взгляд не достаточно информации для однозначного вывода. В датафрейме как минимум не хватает информации о конкретных целях оформления кредита (например, для чего именно нужна машина), на какую сумму был взят кредит и на какой срок. Отсутствие обозначенных данных является критическим фактором в вопросе формирования однозначных выводов."
      ]
    }
  ],
  "metadata": {
    "ExecuteTimeLog": [
      {
        "duration": 514,
        "start_time": "2022-10-26T09:31:21.394Z"
      },
      {
        "duration": 63,
        "start_time": "2022-10-26T09:31:29.151Z"
      },
      {
        "duration": 20,
        "start_time": "2022-10-26T09:31:32.148Z"
      },
      {
        "duration": 14,
        "start_time": "2022-10-26T09:31:34.400Z"
      },
      {
        "duration": 8,
        "start_time": "2022-10-26T09:31:37.036Z"
      },
      {
        "duration": 29,
        "start_time": "2022-10-26T09:31:39.472Z"
      },
      {
        "duration": 3,
        "start_time": "2022-10-26T09:31:42.605Z"
      },
      {
        "duration": 7,
        "start_time": "2022-10-26T09:31:43.936Z"
      },
      {
        "duration": 4,
        "start_time": "2022-10-26T09:31:50.288Z"
      },
      {
        "duration": 5,
        "start_time": "2022-10-26T09:31:51.656Z"
      },
      {
        "duration": 5,
        "start_time": "2022-10-26T09:31:53.099Z"
      },
      {
        "duration": 30,
        "start_time": "2022-10-26T09:31:58.993Z"
      },
      {
        "duration": 9,
        "start_time": "2022-10-26T09:32:00.137Z"
      },
      {
        "duration": 4,
        "start_time": "2022-10-26T09:32:03.749Z"
      },
      {
        "duration": 10,
        "start_time": "2022-10-26T09:32:05.439Z"
      },
      {
        "duration": 17,
        "start_time": "2022-10-26T09:32:08.635Z"
      },
      {
        "duration": 16,
        "start_time": "2022-10-26T09:32:16.607Z"
      },
      {
        "duration": 3,
        "start_time": "2022-10-26T09:32:21.999Z"
      },
      {
        "duration": 12,
        "start_time": "2022-10-26T09:32:23.037Z"
      },
      {
        "duration": 7,
        "start_time": "2022-10-26T09:32:24.640Z"
      },
      {
        "duration": 3,
        "start_time": "2022-10-26T09:32:29.384Z"
      },
      {
        "duration": 10,
        "start_time": "2022-10-26T09:32:31.539Z"
      },
      {
        "duration": 15,
        "start_time": "2022-10-26T09:33:27.287Z"
      },
      {
        "duration": 12,
        "start_time": "2022-10-26T09:33:32.536Z"
      },
      {
        "duration": 57,
        "start_time": "2022-10-26T10:09:52.138Z"
      },
      {
        "duration": 12,
        "start_time": "2022-10-26T10:10:08.250Z"
      },
      {
        "duration": 6,
        "start_time": "2022-10-26T10:10:17.778Z"
      },
      {
        "duration": 4,
        "start_time": "2022-10-26T10:11:33.778Z"
      },
      {
        "duration": 6,
        "start_time": "2022-10-26T10:12:09.433Z"
      },
      {
        "duration": 8,
        "start_time": "2022-10-26T10:13:18.193Z"
      },
      {
        "duration": 5,
        "start_time": "2022-10-26T10:13:23.498Z"
      },
      {
        "duration": 7,
        "start_time": "2022-10-26T10:14:41.650Z"
      },
      {
        "duration": 5,
        "start_time": "2022-10-26T10:14:57.793Z"
      },
      {
        "duration": 9,
        "start_time": "2022-10-26T10:16:21.834Z"
      },
      {
        "duration": 3,
        "start_time": "2022-10-26T10:18:05.585Z"
      },
      {
        "duration": 6,
        "start_time": "2022-10-26T10:18:11.809Z"
      },
      {
        "duration": 7,
        "start_time": "2022-10-26T10:18:21.561Z"
      },
      {
        "duration": 10,
        "start_time": "2022-10-26T10:21:38.649Z"
      },
      {
        "duration": 6,
        "start_time": "2022-10-26T10:22:31.231Z"
      },
      {
        "duration": 7,
        "start_time": "2022-10-26T10:22:35.049Z"
      },
      {
        "duration": 4,
        "start_time": "2022-10-26T10:24:39.551Z"
      },
      {
        "duration": 5,
        "start_time": "2022-10-26T10:24:44.984Z"
      },
      {
        "duration": 7,
        "start_time": "2022-10-26T10:26:30.232Z"
      },
      {
        "duration": 7,
        "start_time": "2022-10-26T10:29:03.227Z"
      },
      {
        "duration": 78,
        "start_time": "2022-10-26T10:37:42.846Z"
      },
      {
        "duration": 6,
        "start_time": "2022-10-26T10:39:17.933Z"
      },
      {
        "duration": 6,
        "start_time": "2022-10-26T10:51:15.476Z"
      },
      {
        "duration": 12,
        "start_time": "2022-10-26T10:52:03.701Z"
      },
      {
        "duration": 8,
        "start_time": "2022-10-26T10:53:21.524Z"
      },
      {
        "duration": 7,
        "start_time": "2022-10-26T10:54:11.676Z"
      },
      {
        "duration": 9,
        "start_time": "2022-10-26T10:54:14.817Z"
      },
      {
        "duration": 7,
        "start_time": "2022-10-26T10:54:41.739Z"
      },
      {
        "duration": 8,
        "start_time": "2022-10-26T10:54:52.931Z"
      },
      {
        "duration": 5,
        "start_time": "2022-10-26T10:55:28.636Z"
      },
      {
        "duration": 7,
        "start_time": "2022-10-26T10:55:39.013Z"
      },
      {
        "duration": 5,
        "start_time": "2022-10-26T10:56:25.156Z"
      },
      {
        "duration": 6,
        "start_time": "2022-10-26T10:56:50.827Z"
      },
      {
        "duration": 10,
        "start_time": "2022-10-26T10:56:52.131Z"
      },
      {
        "duration": 6,
        "start_time": "2022-10-26T10:57:06.452Z"
      },
      {
        "duration": 8,
        "start_time": "2022-10-26T10:57:55.618Z"
      },
      {
        "duration": 7,
        "start_time": "2022-10-26T10:58:46.715Z"
      },
      {
        "duration": 8,
        "start_time": "2022-10-26T10:58:48.915Z"
      },
      {
        "duration": 7,
        "start_time": "2022-10-26T10:59:49.571Z"
      },
      {
        "duration": 7,
        "start_time": "2022-10-26T10:59:56.859Z"
      },
      {
        "duration": 7,
        "start_time": "2022-10-26T11:00:02.451Z"
      },
      {
        "duration": 8,
        "start_time": "2022-10-26T11:00:03.291Z"
      },
      {
        "duration": 7,
        "start_time": "2022-10-26T11:01:27.227Z"
      },
      {
        "duration": 8,
        "start_time": "2022-10-26T11:01:31.119Z"
      },
      {
        "duration": 7,
        "start_time": "2022-10-26T11:01:57.460Z"
      },
      {
        "duration": 8,
        "start_time": "2022-10-26T11:02:00.467Z"
      },
      {
        "duration": 5,
        "start_time": "2022-10-26T11:03:34.579Z"
      },
      {
        "duration": 5,
        "start_time": "2022-10-26T11:03:52.890Z"
      },
      {
        "duration": 6,
        "start_time": "2022-10-26T11:04:07.972Z"
      },
      {
        "duration": 12,
        "start_time": "2022-10-26T11:11:56.851Z"
      },
      {
        "duration": 7,
        "start_time": "2022-10-26T11:12:45.026Z"
      },
      {
        "duration": 7,
        "start_time": "2022-10-26T11:13:40.089Z"
      },
      {
        "duration": 7,
        "start_time": "2022-10-26T11:13:44.345Z"
      },
      {
        "duration": 7,
        "start_time": "2022-10-26T11:14:02.754Z"
      },
      {
        "duration": 17,
        "start_time": "2022-10-26T11:14:12.802Z"
      },
      {
        "duration": 7,
        "start_time": "2022-10-26T11:16:05.649Z"
      },
      {
        "duration": 9,
        "start_time": "2022-10-26T11:16:09.510Z"
      },
      {
        "duration": 5,
        "start_time": "2022-10-26T11:16:19.376Z"
      },
      {
        "duration": 5,
        "start_time": "2022-10-26T11:16:20.977Z"
      },
      {
        "duration": 4,
        "start_time": "2022-10-26T11:16:22.025Z"
      },
      {
        "duration": 9,
        "start_time": "2022-10-26T11:16:28.625Z"
      },
      {
        "duration": 1183,
        "start_time": "2022-10-26T11:16:58.000Z"
      },
      {
        "duration": 7,
        "start_time": "2022-10-26T11:17:03.417Z"
      },
      {
        "duration": 8,
        "start_time": "2022-10-26T11:17:30.417Z"
      },
      {
        "duration": 13,
        "start_time": "2022-10-26T11:17:31.305Z"
      },
      {
        "duration": 7,
        "start_time": "2022-10-26T11:17:36.049Z"
      },
      {
        "duration": 10,
        "start_time": "2022-10-26T11:17:40.873Z"
      },
      {
        "duration": 6,
        "start_time": "2022-10-26T11:18:35.118Z"
      },
      {
        "duration": 5,
        "start_time": "2022-10-26T11:18:40.689Z"
      },
      {
        "duration": 8,
        "start_time": "2022-10-26T11:23:05.017Z"
      },
      {
        "duration": 9,
        "start_time": "2022-10-26T11:24:12.032Z"
      },
      {
        "duration": 9,
        "start_time": "2022-10-26T11:25:01.994Z"
      },
      {
        "duration": 9,
        "start_time": "2022-10-26T11:30:18.319Z"
      },
      {
        "duration": 6,
        "start_time": "2022-10-26T11:31:49.639Z"
      },
      {
        "duration": 12,
        "start_time": "2022-10-26T11:31:57.070Z"
      },
      {
        "duration": 11,
        "start_time": "2022-10-26T11:32:37.838Z"
      },
      {
        "duration": 12,
        "start_time": "2022-10-26T11:36:45.501Z"
      },
      {
        "duration": 16,
        "start_time": "2022-10-26T11:37:00.844Z"
      },
      {
        "duration": 14,
        "start_time": "2022-10-26T11:37:46.102Z"
      },
      {
        "duration": 9,
        "start_time": "2022-10-26T11:37:56.340Z"
      },
      {
        "duration": 11,
        "start_time": "2022-10-26T11:38:06.621Z"
      },
      {
        "duration": 8,
        "start_time": "2022-10-26T11:39:22.669Z"
      },
      {
        "duration": 12,
        "start_time": "2022-10-26T11:40:39.348Z"
      },
      {
        "duration": 13,
        "start_time": "2022-10-26T11:41:09.284Z"
      },
      {
        "duration": 22,
        "start_time": "2022-10-26T11:42:20.004Z"
      },
      {
        "duration": 4,
        "start_time": "2022-10-26T11:44:26.216Z"
      },
      {
        "duration": 7,
        "start_time": "2022-10-26T11:44:30.828Z"
      },
      {
        "duration": 13,
        "start_time": "2022-10-26T11:45:27.267Z"
      },
      {
        "duration": 15,
        "start_time": "2022-10-26T11:47:50.721Z"
      },
      {
        "duration": 16,
        "start_time": "2022-10-26T11:48:46.028Z"
      },
      {
        "duration": 391,
        "start_time": "2022-10-26T11:51:08.666Z"
      },
      {
        "duration": 72,
        "start_time": "2022-10-26T11:51:44.626Z"
      },
      {
        "duration": 18,
        "start_time": "2022-10-26T11:51:48.682Z"
      },
      {
        "duration": 22,
        "start_time": "2022-10-26T11:51:55.395Z"
      },
      {
        "duration": 26,
        "start_time": "2022-10-26T11:52:38.491Z"
      },
      {
        "duration": 18,
        "start_time": "2022-10-26T11:52:55.516Z"
      },
      {
        "duration": 9,
        "start_time": "2022-10-26T11:52:58.957Z"
      },
      {
        "duration": 13,
        "start_time": "2022-10-26T11:53:13.807Z"
      },
      {
        "duration": 12,
        "start_time": "2022-10-26T11:53:17.242Z"
      },
      {
        "duration": 9,
        "start_time": "2022-10-26T11:53:24.970Z"
      },
      {
        "duration": 26,
        "start_time": "2022-10-26T11:53:45.394Z"
      },
      {
        "duration": 25,
        "start_time": "2022-10-26T11:54:57.475Z"
      },
      {
        "duration": 14,
        "start_time": "2022-10-26T11:55:16.298Z"
      },
      {
        "duration": 14,
        "start_time": "2022-10-26T11:56:59.517Z"
      },
      {
        "duration": 12,
        "start_time": "2022-10-26T12:09:43.336Z"
      },
      {
        "duration": 10,
        "start_time": "2022-10-26T12:14:12.861Z"
      },
      {
        "duration": 9,
        "start_time": "2022-10-26T12:15:19.647Z"
      },
      {
        "duration": 13,
        "start_time": "2022-10-26T12:15:24.743Z"
      },
      {
        "duration": 14,
        "start_time": "2022-10-26T12:15:38.360Z"
      },
      {
        "duration": 451,
        "start_time": "2022-10-26T13:04:28.404Z"
      },
      {
        "duration": 21,
        "start_time": "2022-10-26T13:04:28.857Z"
      },
      {
        "duration": 25,
        "start_time": "2022-10-26T13:04:28.879Z"
      },
      {
        "duration": 10,
        "start_time": "2022-10-26T13:04:28.906Z"
      },
      {
        "duration": 38,
        "start_time": "2022-10-26T13:04:28.918Z"
      },
      {
        "duration": 3,
        "start_time": "2022-10-26T13:04:28.958Z"
      },
      {
        "duration": 13,
        "start_time": "2022-10-26T13:04:28.962Z"
      },
      {
        "duration": 10,
        "start_time": "2022-10-26T13:04:28.977Z"
      },
      {
        "duration": 16,
        "start_time": "2022-10-26T13:04:28.988Z"
      },
      {
        "duration": 20,
        "start_time": "2022-10-26T13:04:29.006Z"
      },
      {
        "duration": 49,
        "start_time": "2022-10-26T13:04:29.027Z"
      },
      {
        "duration": 9,
        "start_time": "2022-10-26T13:04:29.078Z"
      },
      {
        "duration": 20,
        "start_time": "2022-10-26T13:04:29.088Z"
      },
      {
        "duration": 13,
        "start_time": "2022-10-26T13:04:29.111Z"
      },
      {
        "duration": 26,
        "start_time": "2022-10-26T13:04:29.126Z"
      },
      {
        "duration": 16,
        "start_time": "2022-10-26T13:04:29.153Z"
      },
      {
        "duration": 14,
        "start_time": "2022-10-26T13:04:29.170Z"
      },
      {
        "duration": 28,
        "start_time": "2022-10-26T13:04:29.185Z"
      },
      {
        "duration": 20,
        "start_time": "2022-10-26T13:04:29.215Z"
      },
      {
        "duration": 19,
        "start_time": "2022-10-26T13:04:29.236Z"
      },
      {
        "duration": 29,
        "start_time": "2022-10-26T13:04:29.257Z"
      },
      {
        "duration": 19,
        "start_time": "2022-10-26T13:04:29.288Z"
      },
      {
        "duration": 11,
        "start_time": "2022-10-26T13:04:29.309Z"
      },
      {
        "duration": 25,
        "start_time": "2022-10-26T13:04:29.322Z"
      },
      {
        "duration": 16,
        "start_time": "2022-10-26T13:04:29.349Z"
      },
      {
        "duration": 42,
        "start_time": "2022-10-26T15:05:58.753Z"
      },
      {
        "duration": 488,
        "start_time": "2022-10-26T15:06:07.255Z"
      },
      {
        "duration": 20,
        "start_time": "2022-10-26T15:06:09.163Z"
      },
      {
        "duration": 14,
        "start_time": "2022-10-26T15:06:10.853Z"
      },
      {
        "duration": 9,
        "start_time": "2022-10-26T15:06:12.470Z"
      },
      {
        "duration": 31,
        "start_time": "2022-10-26T15:06:13.271Z"
      },
      {
        "duration": 3,
        "start_time": "2022-10-26T15:06:14.115Z"
      },
      {
        "duration": 7,
        "start_time": "2022-10-26T15:06:14.578Z"
      },
      {
        "duration": 4,
        "start_time": "2022-10-26T15:06:15.238Z"
      },
      {
        "duration": 6,
        "start_time": "2022-10-26T15:06:15.828Z"
      },
      {
        "duration": 5,
        "start_time": "2022-10-26T15:06:16.357Z"
      },
      {
        "duration": 28,
        "start_time": "2022-10-26T15:06:17.703Z"
      },
      {
        "duration": 9,
        "start_time": "2022-10-26T15:06:18.813Z"
      },
      {
        "duration": 3,
        "start_time": "2022-10-26T15:06:24.770Z"
      },
      {
        "duration": 14,
        "start_time": "2022-10-26T15:06:26.014Z"
      },
      {
        "duration": 18,
        "start_time": "2022-10-26T15:06:27.483Z"
      },
      {
        "duration": 16,
        "start_time": "2022-10-26T15:06:28.000Z"
      },
      {
        "duration": 3,
        "start_time": "2022-10-26T15:06:29.819Z"
      },
      {
        "duration": 10,
        "start_time": "2022-10-26T15:06:30.340Z"
      },
      {
        "duration": 6,
        "start_time": "2022-10-26T15:06:31.822Z"
      },
      {
        "duration": 4,
        "start_time": "2022-10-26T15:06:33.247Z"
      },
      {
        "duration": 8,
        "start_time": "2022-10-26T15:06:33.841Z"
      },
      {
        "duration": 14,
        "start_time": "2022-10-26T15:06:35.632Z"
      },
      {
        "duration": 10,
        "start_time": "2022-10-26T15:07:18.028Z"
      },
      {
        "duration": 12,
        "start_time": "2022-10-26T15:08:09.156Z"
      },
      {
        "duration": 10,
        "start_time": "2022-10-26T15:08:29.675Z"
      },
      {
        "duration": 11,
        "start_time": "2022-10-26T15:12:08.280Z"
      },
      {
        "duration": 10,
        "start_time": "2022-10-26T15:12:36.607Z"
      },
      {
        "duration": 9,
        "start_time": "2022-10-26T15:15:03.667Z"
      },
      {
        "duration": 11,
        "start_time": "2022-10-26T15:17:19.476Z"
      },
      {
        "duration": 12,
        "start_time": "2022-10-26T15:17:33.076Z"
      },
      {
        "duration": 33,
        "start_time": "2022-10-26T15:18:16.036Z"
      },
      {
        "duration": 20,
        "start_time": "2022-10-26T15:18:19.915Z"
      },
      {
        "duration": 12,
        "start_time": "2022-10-26T15:18:24.892Z"
      },
      {
        "duration": 9,
        "start_time": "2022-10-26T15:18:27.964Z"
      },
      {
        "duration": 13,
        "start_time": "2022-10-26T15:19:07.936Z"
      },
      {
        "duration": 14,
        "start_time": "2022-10-26T15:20:15.333Z"
      },
      {
        "duration": 15,
        "start_time": "2022-10-26T15:21:19.733Z"
      },
      {
        "duration": 11,
        "start_time": "2022-10-26T15:21:44.578Z"
      },
      {
        "duration": 10,
        "start_time": "2022-10-26T15:21:52.769Z"
      },
      {
        "duration": 11,
        "start_time": "2022-10-26T15:24:18.396Z"
      },
      {
        "duration": 117,
        "start_time": "2022-10-26T15:27:16.707Z"
      },
      {
        "duration": 70,
        "start_time": "2022-10-26T15:27:42.971Z"
      },
      {
        "duration": 74,
        "start_time": "2022-10-26T15:28:37.325Z"
      },
      {
        "duration": 41,
        "start_time": "2022-10-26T15:29:05.709Z"
      },
      {
        "duration": 10,
        "start_time": "2022-10-26T15:30:14.206Z"
      },
      {
        "duration": 16,
        "start_time": "2022-10-26T15:30:23.494Z"
      },
      {
        "duration": 82,
        "start_time": "2022-10-26T15:30:29.559Z"
      },
      {
        "duration": 14,
        "start_time": "2022-10-26T15:37:12.348Z"
      },
      {
        "duration": 14,
        "start_time": "2022-10-26T15:38:06.797Z"
      },
      {
        "duration": 22,
        "start_time": "2022-10-26T15:38:47.775Z"
      },
      {
        "duration": 19,
        "start_time": "2022-10-26T15:39:08.356Z"
      },
      {
        "duration": 16,
        "start_time": "2022-10-26T15:39:35.037Z"
      },
      {
        "duration": 18,
        "start_time": "2022-10-26T15:39:59.932Z"
      },
      {
        "duration": 15,
        "start_time": "2022-10-26T15:40:29.607Z"
      },
      {
        "duration": 38,
        "start_time": "2022-10-26T15:41:01.909Z"
      },
      {
        "duration": 34,
        "start_time": "2022-10-26T15:41:11.045Z"
      },
      {
        "duration": 29,
        "start_time": "2022-10-26T15:41:14.343Z"
      },
      {
        "duration": 26,
        "start_time": "2022-10-26T15:42:57.982Z"
      },
      {
        "duration": 35,
        "start_time": "2022-10-26T15:43:05.766Z"
      },
      {
        "duration": 34,
        "start_time": "2022-10-26T15:43:12.557Z"
      },
      {
        "duration": 41,
        "start_time": "2022-10-26T15:43:42.821Z"
      },
      {
        "duration": 29,
        "start_time": "2022-10-26T15:44:08.775Z"
      },
      {
        "duration": 28,
        "start_time": "2022-10-26T15:44:18.654Z"
      },
      {
        "duration": 33,
        "start_time": "2022-10-26T15:45:11.662Z"
      },
      {
        "duration": 36,
        "start_time": "2022-10-26T15:45:16.502Z"
      },
      {
        "duration": 31,
        "start_time": "2022-10-26T15:45:23.825Z"
      },
      {
        "duration": 14,
        "start_time": "2022-10-26T15:48:00.950Z"
      },
      {
        "duration": 16,
        "start_time": "2022-10-26T15:48:20.862Z"
      },
      {
        "duration": 25,
        "start_time": "2022-10-26T15:52:53.367Z"
      },
      {
        "duration": 30,
        "start_time": "2022-10-26T15:53:51.199Z"
      },
      {
        "duration": 23,
        "start_time": "2022-10-26T15:54:12.695Z"
      },
      {
        "duration": 31,
        "start_time": "2022-10-26T15:54:32.168Z"
      },
      {
        "duration": 30,
        "start_time": "2022-10-26T15:55:28.623Z"
      },
      {
        "duration": 11,
        "start_time": "2022-10-26T15:59:15.041Z"
      },
      {
        "duration": 93,
        "start_time": "2022-10-26T15:59:36.441Z"
      },
      {
        "duration": 14,
        "start_time": "2022-10-26T15:59:36.536Z"
      },
      {
        "duration": 16,
        "start_time": "2022-10-26T15:59:36.552Z"
      },
      {
        "duration": 13,
        "start_time": "2022-10-26T15:59:36.569Z"
      },
      {
        "duration": 38,
        "start_time": "2022-10-26T15:59:36.584Z"
      },
      {
        "duration": 3,
        "start_time": "2022-10-26T15:59:36.624Z"
      },
      {
        "duration": 21,
        "start_time": "2022-10-26T15:59:36.628Z"
      },
      {
        "duration": 4,
        "start_time": "2022-10-26T15:59:36.650Z"
      },
      {
        "duration": 6,
        "start_time": "2022-10-26T15:59:36.656Z"
      },
      {
        "duration": 4,
        "start_time": "2022-10-26T15:59:36.664Z"
      },
      {
        "duration": 32,
        "start_time": "2022-10-26T15:59:36.669Z"
      },
      {
        "duration": 24,
        "start_time": "2022-10-26T15:59:36.702Z"
      },
      {
        "duration": 4,
        "start_time": "2022-10-26T15:59:36.727Z"
      },
      {
        "duration": 12,
        "start_time": "2022-10-26T15:59:36.734Z"
      },
      {
        "duration": 18,
        "start_time": "2022-10-26T15:59:36.747Z"
      },
      {
        "duration": 16,
        "start_time": "2022-10-26T15:59:36.766Z"
      },
      {
        "duration": 3,
        "start_time": "2022-10-26T15:59:36.783Z"
      },
      {
        "duration": 41,
        "start_time": "2022-10-26T15:59:36.787Z"
      },
      {
        "duration": 5,
        "start_time": "2022-10-26T15:59:36.829Z"
      },
      {
        "duration": 3,
        "start_time": "2022-10-26T15:59:36.836Z"
      },
      {
        "duration": 11,
        "start_time": "2022-10-26T15:59:36.841Z"
      },
      {
        "duration": 6,
        "start_time": "2022-10-26T16:00:08.970Z"
      },
      {
        "duration": 10,
        "start_time": "2022-10-26T16:00:25.530Z"
      },
      {
        "duration": 2,
        "start_time": "2022-10-26T16:00:56.787Z"
      },
      {
        "duration": 2,
        "start_time": "2022-10-26T16:02:19.124Z"
      },
      {
        "duration": 12,
        "start_time": "2022-10-26T16:02:20.925Z"
      },
      {
        "duration": 11,
        "start_time": "2022-10-26T16:02:42.352Z"
      },
      {
        "duration": 2,
        "start_time": "2022-10-26T16:03:27.374Z"
      },
      {
        "duration": 34,
        "start_time": "2022-10-26T16:03:32.404Z"
      },
      {
        "duration": 17,
        "start_time": "2022-10-26T16:10:59.800Z"
      },
      {
        "duration": 14,
        "start_time": "2022-10-26T16:11:42.504Z"
      },
      {
        "duration": 16,
        "start_time": "2022-10-26T16:12:00.553Z"
      },
      {
        "duration": 16,
        "start_time": "2022-10-26T16:12:18.849Z"
      },
      {
        "duration": 16,
        "start_time": "2022-10-26T16:12:34.449Z"
      },
      {
        "duration": 13,
        "start_time": "2022-10-26T16:14:07.257Z"
      },
      {
        "duration": 13,
        "start_time": "2022-10-26T16:14:18.441Z"
      },
      {
        "duration": 12,
        "start_time": "2022-10-26T16:14:42.270Z"
      },
      {
        "duration": 8,
        "start_time": "2022-10-26T16:14:43.696Z"
      },
      {
        "duration": 37,
        "start_time": "2022-10-26T16:16:43.906Z"
      },
      {
        "duration": 31,
        "start_time": "2022-10-26T16:18:08.258Z"
      },
      {
        "duration": 37,
        "start_time": "2022-10-26T16:18:25.442Z"
      },
      {
        "duration": 43,
        "start_time": "2022-10-26T16:19:29.610Z"
      },
      {
        "duration": 13,
        "start_time": "2022-10-26T16:25:28.155Z"
      },
      {
        "duration": 30,
        "start_time": "2022-10-26T16:25:50.876Z"
      },
      {
        "duration": 12,
        "start_time": "2022-10-26T16:26:26.356Z"
      },
      {
        "duration": 14,
        "start_time": "2022-10-26T16:26:37.308Z"
      },
      {
        "duration": 15,
        "start_time": "2022-10-26T16:26:43.379Z"
      },
      {
        "duration": 15,
        "start_time": "2022-10-26T16:27:00.108Z"
      },
      {
        "duration": 19,
        "start_time": "2022-10-26T16:27:42.027Z"
      },
      {
        "duration": 37,
        "start_time": "2022-10-26T16:27:55.052Z"
      },
      {
        "duration": 70,
        "start_time": "2022-10-26T16:29:14.100Z"
      },
      {
        "duration": 11,
        "start_time": "2022-10-26T16:49:14.548Z"
      },
      {
        "duration": 13,
        "start_time": "2022-10-26T16:50:06.242Z"
      },
      {
        "duration": 42,
        "start_time": "2022-10-26T16:56:22.903Z"
      },
      {
        "duration": 31,
        "start_time": "2022-10-26T16:57:19.133Z"
      },
      {
        "duration": 41,
        "start_time": "2022-10-26T16:57:31.278Z"
      },
      {
        "duration": 48,
        "start_time": "2022-10-26T17:16:30.483Z"
      },
      {
        "duration": 34,
        "start_time": "2022-10-26T17:17:36.570Z"
      },
      {
        "duration": 11,
        "start_time": "2022-10-26T17:17:39.267Z"
      },
      {
        "duration": 64,
        "start_time": "2022-10-26T17:40:45.653Z"
      },
      {
        "duration": 13,
        "start_time": "2022-10-26T17:40:45.719Z"
      },
      {
        "duration": 17,
        "start_time": "2022-10-26T17:40:45.733Z"
      },
      {
        "duration": 14,
        "start_time": "2022-10-26T17:40:45.752Z"
      },
      {
        "duration": 35,
        "start_time": "2022-10-26T17:40:45.768Z"
      },
      {
        "duration": 3,
        "start_time": "2022-10-26T17:40:45.804Z"
      },
      {
        "duration": 23,
        "start_time": "2022-10-26T17:40:45.809Z"
      },
      {
        "duration": 8,
        "start_time": "2022-10-26T17:40:45.834Z"
      },
      {
        "duration": 28,
        "start_time": "2022-10-26T17:40:45.843Z"
      },
      {
        "duration": 21,
        "start_time": "2022-10-26T17:40:45.872Z"
      },
      {
        "duration": 41,
        "start_time": "2022-10-26T17:40:45.895Z"
      },
      {
        "duration": 8,
        "start_time": "2022-10-26T17:40:45.937Z"
      },
      {
        "duration": 14,
        "start_time": "2022-10-26T17:40:45.946Z"
      },
      {
        "duration": 19,
        "start_time": "2022-10-26T17:40:45.962Z"
      },
      {
        "duration": 47,
        "start_time": "2022-10-26T17:40:45.982Z"
      },
      {
        "duration": 18,
        "start_time": "2022-10-26T17:40:46.031Z"
      },
      {
        "duration": 14,
        "start_time": "2022-10-26T17:40:46.051Z"
      },
      {
        "duration": 43,
        "start_time": "2022-10-26T17:40:46.067Z"
      },
      {
        "duration": 17,
        "start_time": "2022-10-26T17:40:46.112Z"
      },
      {
        "duration": 7,
        "start_time": "2022-10-26T17:40:46.131Z"
      },
      {
        "duration": 30,
        "start_time": "2022-10-26T17:40:46.140Z"
      },
      {
        "duration": 16,
        "start_time": "2022-10-26T17:40:46.172Z"
      },
      {
        "duration": 10,
        "start_time": "2022-10-26T17:40:46.190Z"
      },
      {
        "duration": 45,
        "start_time": "2022-10-26T17:40:46.202Z"
      },
      {
        "duration": 40,
        "start_time": "2022-10-26T17:40:46.249Z"
      },
      {
        "duration": 11,
        "start_time": "2022-10-26T17:40:46.291Z"
      },
      {
        "duration": 39,
        "start_time": "2022-10-26T17:40:46.321Z"
      },
      {
        "duration": 2,
        "start_time": "2022-10-26T17:40:46.362Z"
      },
      {
        "duration": 35,
        "start_time": "2022-10-26T17:40:46.366Z"
      },
      {
        "duration": 552,
        "start_time": "2022-10-27T06:25:35.961Z"
      },
      {
        "duration": 24,
        "start_time": "2022-10-27T06:25:36.515Z"
      },
      {
        "duration": 17,
        "start_time": "2022-10-27T06:25:36.541Z"
      },
      {
        "duration": 10,
        "start_time": "2022-10-27T06:25:36.560Z"
      },
      {
        "duration": 36,
        "start_time": "2022-10-27T06:25:36.572Z"
      },
      {
        "duration": 4,
        "start_time": "2022-10-27T06:25:36.629Z"
      },
      {
        "duration": 11,
        "start_time": "2022-10-27T06:25:36.634Z"
      },
      {
        "duration": 4,
        "start_time": "2022-10-27T06:25:36.646Z"
      },
      {
        "duration": 8,
        "start_time": "2022-10-27T06:25:36.652Z"
      },
      {
        "duration": 4,
        "start_time": "2022-10-27T06:25:36.664Z"
      },
      {
        "duration": 67,
        "start_time": "2022-10-27T06:25:36.669Z"
      },
      {
        "duration": 10,
        "start_time": "2022-10-27T06:25:36.738Z"
      },
      {
        "duration": 4,
        "start_time": "2022-10-27T06:25:36.750Z"
      },
      {
        "duration": 13,
        "start_time": "2022-10-27T06:25:36.755Z"
      },
      {
        "duration": 22,
        "start_time": "2022-10-27T06:25:36.770Z"
      },
      {
        "duration": 44,
        "start_time": "2022-10-27T06:25:36.793Z"
      },
      {
        "duration": 4,
        "start_time": "2022-10-27T06:25:36.838Z"
      },
      {
        "duration": 12,
        "start_time": "2022-10-27T06:25:36.843Z"
      },
      {
        "duration": 7,
        "start_time": "2022-10-27T06:25:36.857Z"
      },
      {
        "duration": 4,
        "start_time": "2022-10-27T06:25:36.866Z"
      },
      {
        "duration": 11,
        "start_time": "2022-10-27T06:25:36.871Z"
      },
      {
        "duration": 10,
        "start_time": "2022-10-27T06:25:36.884Z"
      },
      {
        "duration": 2,
        "start_time": "2022-10-27T06:25:36.896Z"
      },
      {
        "duration": 42,
        "start_time": "2022-10-27T06:25:36.900Z"
      },
      {
        "duration": 46,
        "start_time": "2022-10-27T06:25:36.944Z"
      },
      {
        "duration": 12,
        "start_time": "2022-10-27T06:25:36.991Z"
      },
      {
        "duration": 40,
        "start_time": "2022-10-27T06:25:37.029Z"
      },
      {
        "duration": 2,
        "start_time": "2022-10-27T06:25:37.072Z"
      },
      {
        "duration": 31,
        "start_time": "2022-10-27T06:25:37.076Z"
      }
    ],
    "celltoolbar": "Редактировать метаданные",
    "colab": {
      "provenance": []
    },
    "kernelspec": {
      "display_name": "Python 3 (ipykernel)",
      "language": "python",
      "name": "python3"
    },
    "language_info": {
      "codemirror_mode": {
        "name": "ipython",
        "version": 3
      },
      "file_extension": ".py",
      "mimetype": "text/x-python",
      "name": "python",
      "nbconvert_exporter": "python",
      "pygments_lexer": "ipython3",
      "version": "3.9.16"
    },
    "toc": {
      "base_numbering": 1,
      "nav_menu": {},
      "number_sections": true,
      "sideBar": true,
      "skip_h1_title": true,
      "title_cell": "Table of Contents",
      "title_sidebar": "Contents",
      "toc_cell": false,
      "toc_position": {},
      "toc_section_display": true,
      "toc_window_display": false
    }
  },
  "nbformat": 4,
  "nbformat_minor": 5
}