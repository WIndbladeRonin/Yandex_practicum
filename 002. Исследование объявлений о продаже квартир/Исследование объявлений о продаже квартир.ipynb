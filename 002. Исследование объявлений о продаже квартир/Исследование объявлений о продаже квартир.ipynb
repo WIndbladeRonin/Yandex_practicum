{
 "cells": [
  {
   "cell_type": "markdown",
   "metadata": {},
   "source": [
    "# Исследование объявлений о продаже квартир\n",
    "\n",
    "В вашем распоряжении данные сервиса Яндекс.Недвижимость — архив объявлений о продаже квартир в Санкт-Петербурге и соседних населённых пунктов за несколько лет. Нужно научиться определять рыночную стоимость объектов недвижимости. Ваша задача — установить параметры. Это позволит построить автоматизированную систему: она отследит аномалии и мошенническую деятельность. \n",
    "\n",
    "По каждой квартире на продажу доступны два вида данных. Первые вписаны пользователем, вторые — получены автоматически на основе картографических данных. Например, расстояние до центра, аэропорта, ближайшего парка и водоёма. "
   ]
  },
  {
   "cell_type": "markdown",
   "metadata": {},
   "source": [
    "### Откроем файл с данными и изучим общую информацию. "
   ]
  },
  {
   "cell_type": "code",
   "execution_count": 1,
   "metadata": {},
   "outputs": [
    {
     "data": {
      "text/html": [
       "<div>\n",
       "<style scoped>\n",
       "    .dataframe tbody tr th:only-of-type {\n",
       "        vertical-align: middle;\n",
       "    }\n",
       "\n",
       "    .dataframe tbody tr th {\n",
       "        vertical-align: top;\n",
       "    }\n",
       "\n",
       "    .dataframe thead th {\n",
       "        text-align: right;\n",
       "    }\n",
       "</style>\n",
       "<table border=\"1\" class=\"dataframe\">\n",
       "  <thead>\n",
       "    <tr style=\"text-align: right;\">\n",
       "      <th></th>\n",
       "      <th>total_images</th>\n",
       "      <th>last_price</th>\n",
       "      <th>total_area</th>\n",
       "      <th>first_day_exposition</th>\n",
       "      <th>rooms</th>\n",
       "      <th>ceiling_height</th>\n",
       "      <th>floors_total</th>\n",
       "      <th>living_area</th>\n",
       "      <th>floor</th>\n",
       "      <th>is_apartment</th>\n",
       "      <th>...</th>\n",
       "      <th>kitchen_area</th>\n",
       "      <th>balcony</th>\n",
       "      <th>locality_name</th>\n",
       "      <th>airports_nearest</th>\n",
       "      <th>cityCenters_nearest</th>\n",
       "      <th>parks_around3000</th>\n",
       "      <th>parks_nearest</th>\n",
       "      <th>ponds_around3000</th>\n",
       "      <th>ponds_nearest</th>\n",
       "      <th>days_exposition</th>\n",
       "    </tr>\n",
       "  </thead>\n",
       "  <tbody>\n",
       "    <tr>\n",
       "      <th>0</th>\n",
       "      <td>20</td>\n",
       "      <td>13000000.0</td>\n",
       "      <td>108.0</td>\n",
       "      <td>2019-03-07T00:00:00</td>\n",
       "      <td>3</td>\n",
       "      <td>2.70</td>\n",
       "      <td>16.0</td>\n",
       "      <td>51.0</td>\n",
       "      <td>8</td>\n",
       "      <td>NaN</td>\n",
       "      <td>...</td>\n",
       "      <td>25.0</td>\n",
       "      <td>NaN</td>\n",
       "      <td>Санкт-Петербург</td>\n",
       "      <td>18863.0</td>\n",
       "      <td>16028.0</td>\n",
       "      <td>1.0</td>\n",
       "      <td>482.0</td>\n",
       "      <td>2.0</td>\n",
       "      <td>755.0</td>\n",
       "      <td>NaN</td>\n",
       "    </tr>\n",
       "    <tr>\n",
       "      <th>1</th>\n",
       "      <td>7</td>\n",
       "      <td>3350000.0</td>\n",
       "      <td>40.4</td>\n",
       "      <td>2018-12-04T00:00:00</td>\n",
       "      <td>1</td>\n",
       "      <td>NaN</td>\n",
       "      <td>11.0</td>\n",
       "      <td>18.6</td>\n",
       "      <td>1</td>\n",
       "      <td>NaN</td>\n",
       "      <td>...</td>\n",
       "      <td>11.0</td>\n",
       "      <td>2.0</td>\n",
       "      <td>посёлок Шушары</td>\n",
       "      <td>12817.0</td>\n",
       "      <td>18603.0</td>\n",
       "      <td>0.0</td>\n",
       "      <td>NaN</td>\n",
       "      <td>0.0</td>\n",
       "      <td>NaN</td>\n",
       "      <td>81.0</td>\n",
       "    </tr>\n",
       "    <tr>\n",
       "      <th>2</th>\n",
       "      <td>10</td>\n",
       "      <td>5196000.0</td>\n",
       "      <td>56.0</td>\n",
       "      <td>2015-08-20T00:00:00</td>\n",
       "      <td>2</td>\n",
       "      <td>NaN</td>\n",
       "      <td>5.0</td>\n",
       "      <td>34.3</td>\n",
       "      <td>4</td>\n",
       "      <td>NaN</td>\n",
       "      <td>...</td>\n",
       "      <td>8.3</td>\n",
       "      <td>0.0</td>\n",
       "      <td>Санкт-Петербург</td>\n",
       "      <td>21741.0</td>\n",
       "      <td>13933.0</td>\n",
       "      <td>1.0</td>\n",
       "      <td>90.0</td>\n",
       "      <td>2.0</td>\n",
       "      <td>574.0</td>\n",
       "      <td>558.0</td>\n",
       "    </tr>\n",
       "    <tr>\n",
       "      <th>3</th>\n",
       "      <td>0</td>\n",
       "      <td>64900000.0</td>\n",
       "      <td>159.0</td>\n",
       "      <td>2015-07-24T00:00:00</td>\n",
       "      <td>3</td>\n",
       "      <td>NaN</td>\n",
       "      <td>14.0</td>\n",
       "      <td>NaN</td>\n",
       "      <td>9</td>\n",
       "      <td>NaN</td>\n",
       "      <td>...</td>\n",
       "      <td>NaN</td>\n",
       "      <td>0.0</td>\n",
       "      <td>Санкт-Петербург</td>\n",
       "      <td>28098.0</td>\n",
       "      <td>6800.0</td>\n",
       "      <td>2.0</td>\n",
       "      <td>84.0</td>\n",
       "      <td>3.0</td>\n",
       "      <td>234.0</td>\n",
       "      <td>424.0</td>\n",
       "    </tr>\n",
       "    <tr>\n",
       "      <th>4</th>\n",
       "      <td>2</td>\n",
       "      <td>10000000.0</td>\n",
       "      <td>100.0</td>\n",
       "      <td>2018-06-19T00:00:00</td>\n",
       "      <td>2</td>\n",
       "      <td>3.03</td>\n",
       "      <td>14.0</td>\n",
       "      <td>32.0</td>\n",
       "      <td>13</td>\n",
       "      <td>NaN</td>\n",
       "      <td>...</td>\n",
       "      <td>41.0</td>\n",
       "      <td>NaN</td>\n",
       "      <td>Санкт-Петербург</td>\n",
       "      <td>31856.0</td>\n",
       "      <td>8098.0</td>\n",
       "      <td>2.0</td>\n",
       "      <td>112.0</td>\n",
       "      <td>1.0</td>\n",
       "      <td>48.0</td>\n",
       "      <td>121.0</td>\n",
       "    </tr>\n",
       "  </tbody>\n",
       "</table>\n",
       "<p>5 rows × 22 columns</p>\n",
       "</div>"
      ],
      "text/plain": [
       "   total_images  last_price  total_area first_day_exposition  rooms  \\\n",
       "0            20  13000000.0       108.0  2019-03-07T00:00:00      3   \n",
       "1             7   3350000.0        40.4  2018-12-04T00:00:00      1   \n",
       "2            10   5196000.0        56.0  2015-08-20T00:00:00      2   \n",
       "3             0  64900000.0       159.0  2015-07-24T00:00:00      3   \n",
       "4             2  10000000.0       100.0  2018-06-19T00:00:00      2   \n",
       "\n",
       "   ceiling_height  floors_total  living_area  floor is_apartment  ...  \\\n",
       "0            2.70          16.0         51.0      8          NaN  ...   \n",
       "1             NaN          11.0         18.6      1          NaN  ...   \n",
       "2             NaN           5.0         34.3      4          NaN  ...   \n",
       "3             NaN          14.0          NaN      9          NaN  ...   \n",
       "4            3.03          14.0         32.0     13          NaN  ...   \n",
       "\n",
       "   kitchen_area  balcony    locality_name  airports_nearest  \\\n",
       "0          25.0      NaN  Санкт-Петербург           18863.0   \n",
       "1          11.0      2.0   посёлок Шушары           12817.0   \n",
       "2           8.3      0.0  Санкт-Петербург           21741.0   \n",
       "3           NaN      0.0  Санкт-Петербург           28098.0   \n",
       "4          41.0      NaN  Санкт-Петербург           31856.0   \n",
       "\n",
       "  cityCenters_nearest  parks_around3000  parks_nearest  ponds_around3000  \\\n",
       "0             16028.0               1.0          482.0               2.0   \n",
       "1             18603.0               0.0            NaN               0.0   \n",
       "2             13933.0               1.0           90.0               2.0   \n",
       "3              6800.0               2.0           84.0               3.0   \n",
       "4              8098.0               2.0          112.0               1.0   \n",
       "\n",
       "   ponds_nearest  days_exposition  \n",
       "0          755.0              NaN  \n",
       "1            NaN             81.0  \n",
       "2          574.0            558.0  \n",
       "3          234.0            424.0  \n",
       "4           48.0            121.0  \n",
       "\n",
       "[5 rows x 22 columns]"
      ]
     },
     "execution_count": 1,
     "metadata": {},
     "output_type": "execute_result"
    }
   ],
   "source": [
    "import pandas as pd \n",
    "\n",
    "data = pd.read_csv('/datasets/real_estate_data.csv', sep='\\t')\n",
    "data.head()"
   ]
  },
  {
   "cell_type": "code",
   "execution_count": 2,
   "metadata": {},
   "outputs": [
    {
     "name": "stdout",
     "output_type": "stream",
     "text": [
      "<class 'pandas.core.frame.DataFrame'>\n",
      "RangeIndex: 23699 entries, 0 to 23698\n",
      "Data columns (total 22 columns):\n",
      " #   Column                Non-Null Count  Dtype  \n",
      "---  ------                --------------  -----  \n",
      " 0   total_images          23699 non-null  int64  \n",
      " 1   last_price            23699 non-null  float64\n",
      " 2   total_area            23699 non-null  float64\n",
      " 3   first_day_exposition  23699 non-null  object \n",
      " 4   rooms                 23699 non-null  int64  \n",
      " 5   ceiling_height        14504 non-null  float64\n",
      " 6   floors_total          23613 non-null  float64\n",
      " 7   living_area           21796 non-null  float64\n",
      " 8   floor                 23699 non-null  int64  \n",
      " 9   is_apartment          2775 non-null   object \n",
      " 10  studio                23699 non-null  bool   \n",
      " 11  open_plan             23699 non-null  bool   \n",
      " 12  kitchen_area          21421 non-null  float64\n",
      " 13  balcony               12180 non-null  float64\n",
      " 14  locality_name         23650 non-null  object \n",
      " 15  airports_nearest      18157 non-null  float64\n",
      " 16  cityCenters_nearest   18180 non-null  float64\n",
      " 17  parks_around3000      18181 non-null  float64\n",
      " 18  parks_nearest         8079 non-null   float64\n",
      " 19  ponds_around3000      18181 non-null  float64\n",
      " 20  ponds_nearest         9110 non-null   float64\n",
      " 21  days_exposition       20518 non-null  float64\n",
      "dtypes: bool(2), float64(14), int64(3), object(3)\n",
      "memory usage: 3.7+ MB\n"
     ]
    }
   ],
   "source": [
    "data.info()"
   ]
  },
  {
   "cell_type": "markdown",
   "metadata": {},
   "source": [
    "Приведем название всех столбцов к змеиному регистру"
   ]
  },
  {
   "cell_type": "code",
   "execution_count": 3,
   "metadata": {},
   "outputs": [],
   "source": [
    "data = data.rename(columns={'cityCenters_nearest':'city_centers_nearest',\n",
    "                           'parks_around3000':'parks_around_3000',\n",
    "                           'ponds_around3000':'ponds_around_3000'})"
   ]
  },
  {
   "cell_type": "code",
   "execution_count": 4,
   "metadata": {},
   "outputs": [
    {
     "data": {
      "text/plain": [
       "array([[<AxesSubplot:title={'center':'total_images'}>,\n",
       "        <AxesSubplot:title={'center':'last_price'}>,\n",
       "        <AxesSubplot:title={'center':'total_area'}>,\n",
       "        <AxesSubplot:title={'center':'rooms'}>],\n",
       "       [<AxesSubplot:title={'center':'ceiling_height'}>,\n",
       "        <AxesSubplot:title={'center':'floors_total'}>,\n",
       "        <AxesSubplot:title={'center':'living_area'}>,\n",
       "        <AxesSubplot:title={'center':'floor'}>],\n",
       "       [<AxesSubplot:title={'center':'kitchen_area'}>,\n",
       "        <AxesSubplot:title={'center':'balcony'}>,\n",
       "        <AxesSubplot:title={'center':'airports_nearest'}>,\n",
       "        <AxesSubplot:title={'center':'city_centers_nearest'}>],\n",
       "       [<AxesSubplot:title={'center':'parks_around_3000'}>,\n",
       "        <AxesSubplot:title={'center':'parks_nearest'}>,\n",
       "        <AxesSubplot:title={'center':'ponds_around_3000'}>,\n",
       "        <AxesSubplot:title={'center':'ponds_nearest'}>],\n",
       "       [<AxesSubplot:title={'center':'days_exposition'}>, <AxesSubplot:>,\n",
       "        <AxesSubplot:>, <AxesSubplot:>]], dtype=object)"
      ]
     },
     "execution_count": 4,
     "metadata": {},
     "output_type": "execute_result"
    },
    {
     "data": {
      "image/png": "[encoded data removed]",
      "text/plain": [
       "<Figure size 1080x1440 with 20 Axes>"
      ]
     },
     "metadata": {
      "needs_background": "light"
     },
     "output_type": "display_data"
    }
   ],
   "source": [
    "data.hist(figsize=(15, 20))"
   ]
  },
  {
   "cell_type": "markdown",
   "metadata": {},
   "source": [
    "### Предобработка данных"
   ]
  },
  {
   "cell_type": "markdown",
   "metadata": {},
   "source": [
    "Посчитаем количество пропусков в каждом столбце"
   ]
  },
  {
   "cell_type": "code",
   "execution_count": 5,
   "metadata": {},
   "outputs": [
    {
     "data": {
      "text/plain": [
       "total_images                0\n",
       "last_price                  0\n",
       "total_area                  0\n",
       "first_day_exposition        0\n",
       "rooms                       0\n",
       "ceiling_height           9195\n",
       "floors_total               86\n",
       "living_area              1903\n",
       "floor                       0\n",
       "is_apartment            20924\n",
       "studio                      0\n",
       "open_plan                   0\n",
       "kitchen_area             2278\n",
       "balcony                 11519\n",
       "locality_name              49\n",
       "airports_nearest         5542\n",
       "city_centers_nearest     5519\n",
       "parks_around_3000        5518\n",
       "parks_nearest           15620\n",
       "ponds_around_3000        5518\n",
       "ponds_nearest           14589\n",
       "days_exposition          3181\n",
       "dtype: int64"
      ]
     },
     "execution_count": 5,
     "metadata": {},
     "output_type": "execute_result"
    }
   ],
   "source": [
    "data.isna().sum()"
   ]
  },
  {
   "cell_type": "markdown",
   "metadata": {},
   "source": [
    "Если продавец не указал количество балконов, то, предположительно, их нет. Заполним пропущенные значения в столбце 'balcony' на 0"
   ]
  },
  {
   "cell_type": "code",
   "execution_count": 6,
   "metadata": {},
   "outputs": [],
   "source": [
    "data['balcony'] = data['balcony'].fillna(0)"
   ]
  },
  {
   "cell_type": "markdown",
   "metadata": {},
   "source": [
    "Проверим пропуски в стобце \"kitchen_area\". Можно проверить являются ли студиями квартиры с пропущенными значениями площадью кухни"
   ]
  },
  {
   "cell_type": "code",
   "execution_count": 7,
   "metadata": {},
   "outputs": [
    {
     "data": {
      "text/plain": [
       "False    2129\n",
       "True      149\n",
       "Name: studio, dtype: int64"
      ]
     },
     "execution_count": 7,
     "metadata": {},
     "output_type": "execute_result"
    }
   ],
   "source": [
    "data[data['kitchen_area'].isna()]['studio'].value_counts()"
   ]
  },
  {
   "cell_type": "markdown",
   "metadata": {},
   "source": [
    "Посчитав значения, убедились, что большая часть таких квартир не являются студиями. Соответственно, заполнять пропуски в столбце площади кухни нулями будет неверно. Можно было бы получить площадь кухни в разнице между общей  (total_area) и жилой площадью (living_area), но подсчеты будут не корректны в связи с тем что помимо кухни не жилой площадью в квартире могут являться и другие помещения. Оставим столбец как есть"
   ]
  },
  {
   "cell_type": "markdown",
   "metadata": {},
   "source": [
    "Можно предположить что пропуски в столбцах 'parks_around_3000' и 'ponds_around_3000' говорит о том что в районе 3 км от квартиры нет парков и водоёмов. Заполним пропуски в этих столбцах на 0"
   ]
  },
  {
   "cell_type": "code",
   "execution_count": 8,
   "metadata": {},
   "outputs": [],
   "source": [
    "data['parks_around_3000'] = data['parks_around_3000'].fillna(0)\n",
    "data['ponds_around_3000'] = data['ponds_around_3000'].fillna(0)"
   ]
  },
  {
   "cell_type": "markdown",
   "metadata": {},
   "source": [
    "Заполним пропуски в столбце 'locality_name' на 'не указан' "
   ]
  },
  {
   "cell_type": "code",
   "execution_count": 9,
   "metadata": {},
   "outputs": [],
   "source": [
    "data['locality_name'] = data['locality_name'].fillna('не указан')"
   ]
  },
  {
   "cell_type": "markdown",
   "metadata": {},
   "source": [
    "Очень много пропусков в столбце 'is_apartment', но этот показатель, на мой взгляд, ни на что не влияет в рамках данного исследования. Эти пропуски можно игнорировать"
   ]
  },
  {
   "cell_type": "markdown",
   "metadata": {},
   "source": [
    "Изменим тип данных столбца 'first_day_exposition' на datetime чтобы было проще с ними работать в дальнейшем"
   ]
  },
  {
   "cell_type": "code",
   "execution_count": 10,
   "metadata": {},
   "outputs": [],
   "source": [
    "data['first_day_exposition'] = pd.to_datetime(arg= data['first_day_exposition'], format='%Y-%m-%dT%H:%M:%S')"
   ]
  },
  {
   "cell_type": "markdown",
   "metadata": {},
   "source": [
    "Проверим строки датафрейма на очевидные дубликаты"
   ]
  },
  {
   "cell_type": "code",
   "execution_count": 11,
   "metadata": {},
   "outputs": [
    {
     "data": {
      "text/plain": [
       "0"
      ]
     },
     "execution_count": 11,
     "metadata": {},
     "output_type": "execute_result"
    }
   ],
   "source": [
    "data.duplicated().sum()"
   ]
  },
  {
   "cell_type": "markdown",
   "metadata": {},
   "source": [
    "Таких дубликатов нет. Проверим на неявные дубликаты столбец 'locality_name'"
   ]
  },
  {
   "cell_type": "code",
   "execution_count": 12,
   "metadata": {},
   "outputs": [
    {
     "name": "stdout",
     "output_type": "stream",
     "text": [
      "365\n",
      "\n",
      "['Санкт-Петербург' 'посёлок Шушары' 'городской посёлок Янино-1'\n",
      " 'посёлок Парголово' 'посёлок Мурино' 'Ломоносов' 'Сертолово' 'Петергоф'\n",
      " 'Пушкин' 'деревня Кудрово' 'Коммунар' 'Колпино'\n",
      " 'поселок городского типа Красный Бор' 'Гатчина' 'поселок Мурино'\n",
      " 'деревня Фёдоровское' 'Выборг' 'Кронштадт' 'Кировск'\n",
      " 'деревня Новое Девяткино' 'посёлок Металлострой'\n",
      " 'посёлок городского типа Лебяжье' 'посёлок городского типа Сиверский'\n",
      " 'поселок Молодцово' 'поселок городского типа Кузьмоловский'\n",
      " 'садовое товарищество Новая Ропша' 'Павловск' 'деревня Пикколово'\n",
      " 'Всеволожск' 'Волхов' 'Кингисепп' 'Приозерск' 'Сестрорецк'\n",
      " 'деревня Куттузи' 'посёлок Аннино' 'поселок городского типа Ефимовский'\n",
      " 'посёлок Плодовое' 'деревня Заклинье' 'поселок Торковичи'\n",
      " 'поселок Первомайское' 'Красное Село' 'посёлок Понтонный' 'Сясьстрой'\n",
      " 'деревня Старая' 'деревня Лесколово' 'посёлок Новый Свет' 'Сланцы'\n",
      " 'село Путилово' 'Ивангород' 'Мурино' 'Шлиссельбург' 'Никольское'\n",
      " 'Зеленогорск' 'Сосновый Бор' 'поселок Новый Свет' 'деревня Оржицы'\n",
      " 'деревня Кальтино' 'Кудрово' 'поселок Романовка' 'посёлок Бугры'\n",
      " 'поселок Бугры' 'поселок городского типа Рощино' 'Кириши' 'Луга'\n",
      " 'Волосово' 'Отрадное' 'село Павлово' 'поселок Оредеж' 'село Копорье'\n",
      " 'посёлок городского типа Красный Бор' 'посёлок Молодёжное' 'Тихвин'\n",
      " 'посёлок Победа' 'деревня Нурма' 'поселок городского типа Синявино'\n",
      " 'Тосно' 'посёлок городского типа Кузьмоловский' 'посёлок Стрельна'\n",
      " 'Бокситогорск' 'посёлок Александровская' 'деревня Лопухинка' 'Пикалёво'\n",
      " 'поселок Терволово' 'поселок городского типа Советский' 'Подпорожье'\n",
      " 'посёлок Петровское' 'посёлок городского типа Токсово' 'поселок Сельцо'\n",
      " 'посёлок городского типа Вырица' 'деревня Кипень' 'деревня Келози'\n",
      " 'деревня Вартемяги' 'посёлок Тельмана' 'поселок Севастьяново'\n",
      " 'городской поселок Большая Ижора' 'не указан' 'городской посёлок Павлово'\n",
      " 'деревня Агалатово' 'посёлок Новогорелово'\n",
      " 'городской посёлок Лесогорский' 'деревня Лаголово' 'поселок Цвелодубово'\n",
      " 'поселок городского типа Рахья' 'поселок городского типа Вырица'\n",
      " 'деревня Белогорка' 'поселок Заводской' 'городской посёлок Новоселье'\n",
      " 'деревня Большие Колпаны' 'деревня Горбунки' 'деревня Батово'\n",
      " 'деревня Заневка' 'деревня Иссад' 'Приморск'\n",
      " 'городской посёлок Фёдоровское' 'деревня Мистолово' 'Новая Ладога'\n",
      " 'поселок Зимитицы' 'поселок Барышево' 'деревня Разметелево'\n",
      " 'поселок городского типа имени Свердлова' 'деревня Пеники'\n",
      " 'поселок Рябово' 'деревня Пудомяги' 'поселок станции Корнево'\n",
      " 'деревня Низино' 'деревня Бегуницы' 'посёлок Поляны'\n",
      " 'городской посёлок Мга' 'поселок Елизаветино'\n",
      " 'посёлок городского типа Кузнечное' 'деревня Колтуши'\n",
      " 'поселок Запорожское' 'посёлок городского типа Рощино'\n",
      " 'деревня Гостилицы' 'деревня Малое Карлино' 'посёлок Мичуринское'\n",
      " 'посёлок городского типа имени Морозова' 'посёлок Песочный'\n",
      " 'посёлок Сосново' 'деревня Аро' 'поселок Ильичёво'\n",
      " 'посёлок городского типа Тайцы' 'деревня Малое Верево' 'деревня Извара'\n",
      " 'поселок станции Вещево' 'село Паша' 'деревня Калитино'\n",
      " 'посёлок городского типа Ульяновка' 'деревня Чудской Бор'\n",
      " 'поселок городского типа Дубровка' 'деревня Мины' 'поселок Войсковицы'\n",
      " 'посёлок городского типа имени Свердлова' 'деревня Коркино'\n",
      " 'посёлок Ропша' 'поселок городского типа Приладожский' 'посёлок Щеглово'\n",
      " 'посёлок Гаврилово' 'Лодейное Поле' 'деревня Рабитицы'\n",
      " 'поселок городского типа Никольский' 'деревня Кузьмолово'\n",
      " 'деревня Малые Колпаны' 'поселок Тельмана' 'посёлок Петро-Славянка'\n",
      " 'городской посёлок Назия' 'посёлок Репино' 'посёлок Ильичёво'\n",
      " 'поселок Углово' 'поселок Старая Малукса' 'садовое товарищество Рахья'\n",
      " 'поселок Аннино' 'поселок Победа' 'деревня Меньково'\n",
      " 'деревня Старые Бегуницы' 'посёлок Сапёрный' 'поселок Семрино'\n",
      " 'поселок Гаврилово' 'поселок Глажево' 'поселок Кобринское'\n",
      " 'деревня Гарболово' 'деревня Юкки' 'поселок станции Приветнинское'\n",
      " 'деревня Мануйлово' 'деревня Пчева' 'поселок Поляны' 'поселок Цвылёво'\n",
      " 'поселок Мельниково' 'посёлок Пудость' 'посёлок Усть-Луга' 'Светогорск'\n",
      " 'Любань' 'поселок Селезнёво' 'поселок городского типа Рябово'\n",
      " 'Каменногорск' 'деревня Кривко' 'поселок Глебычево' 'деревня Парицы'\n",
      " 'поселок Жилпосёлок' 'посёлок городского типа Мга'\n",
      " 'городской поселок Янино-1' 'посёлок Войскорово' 'село Никольское'\n",
      " 'посёлок Терволово' 'поселок Стеклянный' 'посёлок городского типа Важины'\n",
      " 'посёлок Мыза-Ивановка' 'село Русско-Высоцкое'\n",
      " 'поселок городского типа Лебяжье' 'поселок городского типа Форносово'\n",
      " 'село Старая Ладога' 'поселок Житково' 'городской посёлок Виллози'\n",
      " 'деревня Лампово' 'деревня Шпаньково' 'деревня Лаврики' 'посёлок Сумино'\n",
      " 'посёлок Возрождение' 'деревня Старосиверская' 'посёлок Кикерино'\n",
      " 'поселок Возрождение' 'деревня Старое Хинколово' 'посёлок Пригородный'\n",
      " 'посёлок Торфяное' 'городской посёлок Будогощь' 'поселок Суходолье'\n",
      " 'поселок Красная Долина' 'деревня Хапо-Ое'\n",
      " 'поселок городского типа Дружная Горка' 'поселок Лисий Нос'\n",
      " 'деревня Яльгелево' 'посёлок Стеклянный' 'село Рождествено'\n",
      " 'деревня Старополье' 'посёлок Левашово' 'деревня Сяськелево'\n",
      " 'деревня Камышовка'\n",
      " 'садоводческое некоммерческое товарищество Лесная Поляна'\n",
      " 'деревня Хязельки' 'поселок Жилгородок' 'посёлок городского типа Павлово'\n",
      " 'деревня Ялгино' 'поселок Новый Учхоз' 'городской посёлок Рощино'\n",
      " 'поселок Гончарово' 'поселок Почап' 'посёлок Сапёрное'\n",
      " 'посёлок Платформа 69-й километр' 'поселок Каложицы' 'деревня Фалилеево'\n",
      " 'деревня Пельгора' 'поселок городского типа Лесогорский'\n",
      " 'деревня Торошковичи' 'посёлок Белоостров' 'посёлок Алексеевка'\n",
      " 'поселок Серебрянский' 'поселок Лукаши' 'поселок Петровское'\n",
      " 'деревня Щеглово' 'поселок Мичуринское' 'деревня Тарасово'\n",
      " 'поселок Кингисеппский' 'посёлок при железнодорожной станции Вещево'\n",
      " 'поселок Ушаки' 'деревня Котлы' 'деревня Сижно' 'деревня Торосово'\n",
      " 'посёлок Форт Красная Горка' 'поселок городского типа Токсово'\n",
      " 'деревня Новолисино' 'посёлок станции Громово' 'деревня Глинка'\n",
      " 'посёлок Мельниково' 'поселок городского типа Назия'\n",
      " 'деревня Старая Пустошь' 'поселок Коммунары' 'поселок Починок'\n",
      " 'посёлок городского типа Вознесенье' 'деревня Разбегаево'\n",
      " 'посёлок городского типа Рябово' 'поселок Гладкое'\n",
      " 'посёлок при железнодорожной станции Приветнинское' 'поселок Тёсово-4'\n",
      " 'посёлок Жилгородок' 'деревня Бор' 'посёлок Коробицыно'\n",
      " 'деревня Большая Вруда' 'деревня Курковицы' 'посёлок Лисий Нос'\n",
      " 'городской посёлок Советский' 'посёлок Кобралово' 'деревня Суоранда'\n",
      " 'поселок Кобралово' 'поселок городского типа Кондратьево'\n",
      " 'коттеджный поселок Счастье' 'поселок Любань' 'деревня Реброво'\n",
      " 'деревня Зимитицы' 'деревня Тойворово' 'поселок Семиозерье'\n",
      " 'поселок Лесное' 'поселок Совхозный' 'поселок Усть-Луга'\n",
      " 'посёлок Ленинское' 'посёлок Суйда' 'посёлок городского типа Форносово'\n",
      " 'деревня Нижние Осельки' 'посёлок станции Свирь' 'поселок Перово'\n",
      " 'Высоцк' 'поселок Гарболово' 'село Шум' 'поселок Котельский'\n",
      " 'поселок станции Лужайка' 'деревня Большая Пустомержа'\n",
      " 'поселок Красносельское' 'деревня Вахнова Кара' 'деревня Пижма'\n",
      " 'коттеджный поселок Кивеннапа Север' 'поселок Коробицыно'\n",
      " 'поселок Ромашки' 'посёлок Перово' 'деревня Каськово' 'деревня Куровицы'\n",
      " 'посёлок Плоское' 'поселок Сумино'\n",
      " 'поселок городского типа Большая Ижора' 'поселок Кирпичное'\n",
      " 'деревня Ям-Тесово' 'деревня Раздолье' 'деревня Терпилицы'\n",
      " 'посёлок Шугозеро' 'деревня Ваганово' 'поселок Пушное'\n",
      " 'садовое товарищество Садко' 'посёлок Усть-Ижора' 'деревня Выскатка'\n",
      " 'городской посёлок Свирьстрой' 'поселок Громово' 'деревня Кисельня'\n",
      " 'посёлок Старая Малукса' 'деревня Трубников Бор' 'поселок Калитино'\n",
      " 'посёлок Высокоключевой' 'садовое товарищество Приладожский'\n",
      " 'посёлок Пансионат Зелёный Бор' 'деревня Ненимяки'\n",
      " 'поселок Пансионат Зелёный Бор' 'деревня Снегирёвка' 'деревня Рапполово'\n",
      " 'деревня Пустынка' 'поселок Рабитицы' 'деревня Большой Сабск'\n",
      " 'деревня Русско' 'деревня Лупполово' 'деревня Большое Рейзино'\n",
      " 'деревня Малая Романовка' 'поселок Дружноселье' 'поселок Пчевжа'\n",
      " 'поселок Володарское' 'деревня Нижняя' 'коттеджный посёлок Лесное'\n",
      " 'деревня Тихковицы' 'деревня Борисова Грива' 'посёлок Дзержинского']\n"
     ]
    }
   ],
   "source": [
    "print(len(data['locality_name'].unique()))\n",
    "print()\n",
    "print(data['locality_name'].unique())"
   ]
  },
  {
   "cell_type": "markdown",
   "metadata": {},
   "source": [
    "Столбец содержит в себе 365 уникальных значений, но просмотрев эти значения можно попробовать избавиться от неявных дубликатов заменив некоторую часть строки приводя к однотипному виду."
   ]
  },
  {
   "cell_type": "markdown",
   "metadata": {},
   "source": [
    "Создадим новый столбец **'locality_name_no_duplicates'** для сохранения результата и заменим все 'ё' на 'е'. Затем заменим части строк содержащие 'поселок городского типа' и 'городской поселок' на 'поселок'"
   ]
  },
  {
   "cell_type": "code",
   "execution_count": 13,
   "metadata": {},
   "outputs": [],
   "source": [
    "data['locality_name_no_duplicates'] = data['locality_name'].str.replace('ё', 'е')\n",
    "data['locality_name_no_duplicates'] = data['locality_name_no_duplicates'].str.replace('поселок городского типа', 'поселок')\n",
    "data['locality_name_no_duplicates'] = data['locality_name_no_duplicates'].str.replace('городской поселок', 'поселок')"
   ]
  },
  {
   "cell_type": "code",
   "execution_count": 14,
   "metadata": {},
   "outputs": [
    {
     "name": "stdout",
     "output_type": "stream",
     "text": [
      "323\n"
     ]
    }
   ],
   "source": [
    "print(len(data['locality_name_no_duplicates'].unique()))"
   ]
  },
  {
   "cell_type": "markdown",
   "metadata": {},
   "source": [
    "В результате получилось 323 уникальных значения. Мы избавились от 42 неявных дубликата. (пробовал перевести весь столбец в нижний регистр, но уникальных значений меньше не стало. удалил эту часть кода)"
   ]
  },
  {
   "cell_type": "markdown",
   "metadata": {},
   "source": [
    "Проверим аномальные значения в столбце 'ceiling_height'. Посмотрим первые 20 отсортированных уникальных значений и последние 20"
   ]
  },
  {
   "cell_type": "code",
   "execution_count": 15,
   "metadata": {},
   "outputs": [
    {
     "name": "stdout",
     "output_type": "stream",
     "text": [
      "[1.0, 2.0, 2.3, 2.4, 2.45, 2.46, 2.48, 2.53, 2.59, 2.62, 2.63, 2.7, nan, 1.2, 1.75, 2.2, 2.25, 2.34, 2.47, 2.49]\n",
      "[5.0, 5.2, 5.3, 5.5, 5.6, 5.8, 6.0, 8.0, 8.3, 10.3, 14.0, 20.0, 22.6, 24.0, 25.0, 26.0, 27.0, 27.5, 32.0, 100.0]\n"
     ]
    }
   ],
   "source": [
    "print(sorted(data['ceiling_height'].unique())[:20])\n",
    "print(sorted(data['ceiling_height'].unique())[-20:])"
   ]
  },
  {
   "cell_type": "markdown",
   "metadata": {},
   "source": [
    "Мы сталкиваемся с аномалиями. Высота потолков по закону не может быть меньше 2.5 метра. Можно предположить что и 10 метров быть не могут тем более 100. Посчитаем сколько всего строк во всем датафрейме входят в категорию 'меньше 2.4 метров' и сколько в 'больше 10 метров'"
   ]
  },
  {
   "cell_type": "code",
   "execution_count": 16,
   "metadata": {},
   "outputs": [
    {
     "data": {
      "text/plain": [
       "21"
      ]
     },
     "execution_count": 16,
     "metadata": {},
     "output_type": "execute_result"
    }
   ],
   "source": [
    "(data['ceiling_height'] < 2.4).sum()"
   ]
  },
  {
   "cell_type": "code",
   "execution_count": 17,
   "metadata": {},
   "outputs": [
    {
     "data": {
      "text/plain": [
       "25"
      ]
     },
     "execution_count": 17,
     "metadata": {},
     "output_type": "execute_result"
    }
   ],
   "source": [
    "(data['ceiling_height'] > 10).sum()"
   ]
  },
  {
   "cell_type": "markdown",
   "metadata": {},
   "source": [
    "Этих значений очень мало. Можно создать функцию в которой попробуем обработать все значения в столбце 'ceiling_height' и либо отбросим их либо приведем к нормальному виду"
   ]
  },
  {
   "cell_type": "code",
   "execution_count": 18,
   "metadata": {
    "scrolled": true
   },
   "outputs": [],
   "source": [
    "def ceiling_height_anomaly(height):\n",
    "    if height < 2.4:\n",
    "        return None\n",
    "    elif 2.4 <= height < 10:\n",
    "        return height\n",
    "    elif 24 <= height < 100:\n",
    "        return height/10\n",
    "    elif height == 100:\n",
    "        return None"
   ]
  },
  {
   "cell_type": "code",
   "execution_count": 19,
   "metadata": {},
   "outputs": [],
   "source": [
    "data['ceiling_height'] = data['ceiling_height'].apply(ceiling_height_anomaly)"
   ]
  },
  {
   "cell_type": "markdown",
   "metadata": {},
   "source": [
    "Посчитаем количество NaN после нашей функции"
   ]
  },
  {
   "cell_type": "code",
   "execution_count": 20,
   "metadata": {},
   "outputs": [
    {
     "data": {
      "text/plain": [
       "9221"
      ]
     },
     "execution_count": 20,
     "metadata": {},
     "output_type": "execute_result"
    }
   ],
   "source": [
    "data['ceiling_height'].isna().sum()"
   ]
  },
  {
   "cell_type": "markdown",
   "metadata": {},
   "source": [
    "Изначально пропусков в этом столбце было 9195. Прибавилось всего 26 пропусков зато мы избавились от аномальных значений"
   ]
  },
  {
   "cell_type": "code",
   "execution_count": 21,
   "metadata": {},
   "outputs": [
    {
     "data": {
      "text/plain": [
       "0"
      ]
     },
     "execution_count": 21,
     "metadata": {},
     "output_type": "execute_result"
    }
   ],
   "source": [
    "data['ceiling_height'] = data['ceiling_height'].fillna(data['ceiling_height'].median())\n",
    "data['ceiling_height'].isna().sum()"
   ]
  },
  {
   "cell_type": "code",
   "execution_count": 22,
   "metadata": {},
   "outputs": [
    {
     "name": "stdout",
     "output_type": "stream",
     "text": [
      "<class 'pandas.core.frame.DataFrame'>\n",
      "RangeIndex: 23699 entries, 0 to 23698\n",
      "Data columns (total 23 columns):\n",
      " #   Column                       Non-Null Count  Dtype         \n",
      "---  ------                       --------------  -----         \n",
      " 0   total_images                 23699 non-null  int64         \n",
      " 1   last_price                   23699 non-null  float64       \n",
      " 2   total_area                   23699 non-null  float64       \n",
      " 3   first_day_exposition         23699 non-null  datetime64[ns]\n",
      " 4   rooms                        23699 non-null  int64         \n",
      " 5   ceiling_height               23699 non-null  float64       \n",
      " 6   floors_total                 23613 non-null  float64       \n",
      " 7   living_area                  21796 non-null  float64       \n",
      " 8   floor                        23699 non-null  int64         \n",
      " 9   is_apartment                 2775 non-null   object        \n",
      " 10  studio                       23699 non-null  bool          \n",
      " 11  open_plan                    23699 non-null  bool          \n",
      " 12  kitchen_area                 21421 non-null  float64       \n",
      " 13  balcony                      23699 non-null  float64       \n",
      " 14  locality_name                23699 non-null  object        \n",
      " 15  airports_nearest             18157 non-null  float64       \n",
      " 16  city_centers_nearest         18180 non-null  float64       \n",
      " 17  parks_around_3000            23699 non-null  float64       \n",
      " 18  parks_nearest                8079 non-null   float64       \n",
      " 19  ponds_around_3000            23699 non-null  float64       \n",
      " 20  ponds_nearest                9110 non-null   float64       \n",
      " 21  days_exposition              20518 non-null  float64       \n",
      " 22  locality_name_no_duplicates  23699 non-null  object        \n",
      "dtypes: bool(2), datetime64[ns](1), float64(14), int64(3), object(3)\n",
      "memory usage: 3.8+ MB\n"
     ]
    }
   ],
   "source": [
    "data.info()"
   ]
  },
  {
   "cell_type": "markdown",
   "metadata": {},
   "source": [
    "Проверим столбец **'last_price'** на аномальные значения"
   ]
  },
  {
   "cell_type": "code",
   "execution_count": 23,
   "metadata": {},
   "outputs": [
    {
     "name": "stdout",
     "output_type": "stream",
     "text": [
      "12190.0\n"
     ]
    }
   ],
   "source": [
    "print(data['last_price'].min())"
   ]
  },
  {
   "cell_type": "markdown",
   "metadata": {},
   "source": [
    "Минимальное значение в этом столбце = 12190.0. Выведем на экран первые 5 значения выше минимального отсортированные по возростанию"
   ]
  },
  {
   "cell_type": "code",
   "execution_count": 24,
   "metadata": {},
   "outputs": [
    {
     "data": {
      "text/html": [
       "<div>\n",
       "<style scoped>\n",
       "    .dataframe tbody tr th:only-of-type {\n",
       "        vertical-align: middle;\n",
       "    }\n",
       "\n",
       "    .dataframe tbody tr th {\n",
       "        vertical-align: top;\n",
       "    }\n",
       "\n",
       "    .dataframe thead th {\n",
       "        text-align: right;\n",
       "    }\n",
       "</style>\n",
       "<table border=\"1\" class=\"dataframe\">\n",
       "  <thead>\n",
       "    <tr style=\"text-align: right;\">\n",
       "      <th></th>\n",
       "      <th>total_images</th>\n",
       "      <th>last_price</th>\n",
       "      <th>total_area</th>\n",
       "      <th>first_day_exposition</th>\n",
       "      <th>rooms</th>\n",
       "      <th>ceiling_height</th>\n",
       "      <th>floors_total</th>\n",
       "      <th>living_area</th>\n",
       "      <th>floor</th>\n",
       "      <th>is_apartment</th>\n",
       "      <th>...</th>\n",
       "      <th>balcony</th>\n",
       "      <th>locality_name</th>\n",
       "      <th>airports_nearest</th>\n",
       "      <th>city_centers_nearest</th>\n",
       "      <th>parks_around_3000</th>\n",
       "      <th>parks_nearest</th>\n",
       "      <th>ponds_around_3000</th>\n",
       "      <th>ponds_nearest</th>\n",
       "      <th>days_exposition</th>\n",
       "      <th>locality_name_no_duplicates</th>\n",
       "    </tr>\n",
       "  </thead>\n",
       "  <tbody>\n",
       "    <tr>\n",
       "      <th>8793</th>\n",
       "      <td>7</td>\n",
       "      <td>12190.0</td>\n",
       "      <td>109.0</td>\n",
       "      <td>2019-03-20</td>\n",
       "      <td>2</td>\n",
       "      <td>2.75</td>\n",
       "      <td>25.0</td>\n",
       "      <td>32.0</td>\n",
       "      <td>25</td>\n",
       "      <td>NaN</td>\n",
       "      <td>...</td>\n",
       "      <td>0.0</td>\n",
       "      <td>Санкт-Петербург</td>\n",
       "      <td>36421.0</td>\n",
       "      <td>9176.0</td>\n",
       "      <td>1.0</td>\n",
       "      <td>805.0</td>\n",
       "      <td>0.0</td>\n",
       "      <td>NaN</td>\n",
       "      <td>8.0</td>\n",
       "      <td>Санкт-Петербург</td>\n",
       "    </tr>\n",
       "    <tr>\n",
       "      <th>17456</th>\n",
       "      <td>7</td>\n",
       "      <td>430000.0</td>\n",
       "      <td>30.4</td>\n",
       "      <td>2019-04-22</td>\n",
       "      <td>1</td>\n",
       "      <td>2.65</td>\n",
       "      <td>2.0</td>\n",
       "      <td>16.0</td>\n",
       "      <td>1</td>\n",
       "      <td>NaN</td>\n",
       "      <td>...</td>\n",
       "      <td>0.0</td>\n",
       "      <td>Сланцы</td>\n",
       "      <td>NaN</td>\n",
       "      <td>NaN</td>\n",
       "      <td>0.0</td>\n",
       "      <td>NaN</td>\n",
       "      <td>0.0</td>\n",
       "      <td>NaN</td>\n",
       "      <td>NaN</td>\n",
       "      <td>Сланцы</td>\n",
       "    </tr>\n",
       "    <tr>\n",
       "      <th>14911</th>\n",
       "      <td>5</td>\n",
       "      <td>430000.0</td>\n",
       "      <td>54.0</td>\n",
       "      <td>2018-06-26</td>\n",
       "      <td>2</td>\n",
       "      <td>2.65</td>\n",
       "      <td>3.0</td>\n",
       "      <td>NaN</td>\n",
       "      <td>3</td>\n",
       "      <td>NaN</td>\n",
       "      <td>...</td>\n",
       "      <td>0.0</td>\n",
       "      <td>посёлок станции Свирь</td>\n",
       "      <td>NaN</td>\n",
       "      <td>NaN</td>\n",
       "      <td>0.0</td>\n",
       "      <td>NaN</td>\n",
       "      <td>0.0</td>\n",
       "      <td>NaN</td>\n",
       "      <td>44.0</td>\n",
       "      <td>поселок станции Свирь</td>\n",
       "    </tr>\n",
       "    <tr>\n",
       "      <th>16274</th>\n",
       "      <td>18</td>\n",
       "      <td>440000.0</td>\n",
       "      <td>40.0</td>\n",
       "      <td>2018-07-10</td>\n",
       "      <td>1</td>\n",
       "      <td>2.65</td>\n",
       "      <td>5.0</td>\n",
       "      <td>NaN</td>\n",
       "      <td>1</td>\n",
       "      <td>NaN</td>\n",
       "      <td>...</td>\n",
       "      <td>0.0</td>\n",
       "      <td>деревня Старополье</td>\n",
       "      <td>NaN</td>\n",
       "      <td>NaN</td>\n",
       "      <td>0.0</td>\n",
       "      <td>NaN</td>\n",
       "      <td>0.0</td>\n",
       "      <td>NaN</td>\n",
       "      <td>45.0</td>\n",
       "      <td>деревня Старополье</td>\n",
       "    </tr>\n",
       "    <tr>\n",
       "      <th>17676</th>\n",
       "      <td>0</td>\n",
       "      <td>450000.0</td>\n",
       "      <td>36.5</td>\n",
       "      <td>2018-02-01</td>\n",
       "      <td>1</td>\n",
       "      <td>2.65</td>\n",
       "      <td>5.0</td>\n",
       "      <td>17.3</td>\n",
       "      <td>4</td>\n",
       "      <td>NaN</td>\n",
       "      <td>...</td>\n",
       "      <td>1.0</td>\n",
       "      <td>деревня Ям-Тесово</td>\n",
       "      <td>NaN</td>\n",
       "      <td>NaN</td>\n",
       "      <td>0.0</td>\n",
       "      <td>NaN</td>\n",
       "      <td>0.0</td>\n",
       "      <td>NaN</td>\n",
       "      <td>120.0</td>\n",
       "      <td>деревня Ям-Тесово</td>\n",
       "    </tr>\n",
       "  </tbody>\n",
       "</table>\n",
       "<p>5 rows × 23 columns</p>\n",
       "</div>"
      ],
      "text/plain": [
       "       total_images  last_price  total_area first_day_exposition  rooms  \\\n",
       "8793              7     12190.0       109.0           2019-03-20      2   \n",
       "17456             7    430000.0        30.4           2019-04-22      1   \n",
       "14911             5    430000.0        54.0           2018-06-26      2   \n",
       "16274            18    440000.0        40.0           2018-07-10      1   \n",
       "17676             0    450000.0        36.5           2018-02-01      1   \n",
       "\n",
       "       ceiling_height  floors_total  living_area  floor is_apartment  ...  \\\n",
       "8793             2.75          25.0         32.0     25          NaN  ...   \n",
       "17456            2.65           2.0         16.0      1          NaN  ...   \n",
       "14911            2.65           3.0          NaN      3          NaN  ...   \n",
       "16274            2.65           5.0          NaN      1          NaN  ...   \n",
       "17676            2.65           5.0         17.3      4          NaN  ...   \n",
       "\n",
       "       balcony          locality_name  airports_nearest  city_centers_nearest  \\\n",
       "8793       0.0        Санкт-Петербург           36421.0                9176.0   \n",
       "17456      0.0                 Сланцы               NaN                   NaN   \n",
       "14911      0.0  посёлок станции Свирь               NaN                   NaN   \n",
       "16274      0.0     деревня Старополье               NaN                   NaN   \n",
       "17676      1.0      деревня Ям-Тесово               NaN                   NaN   \n",
       "\n",
       "      parks_around_3000  parks_nearest  ponds_around_3000  ponds_nearest  \\\n",
       "8793                1.0          805.0                0.0            NaN   \n",
       "17456               0.0            NaN                0.0            NaN   \n",
       "14911               0.0            NaN                0.0            NaN   \n",
       "16274               0.0            NaN                0.0            NaN   \n",
       "17676               0.0            NaN                0.0            NaN   \n",
       "\n",
       "       days_exposition  locality_name_no_duplicates  \n",
       "8793               8.0              Санкт-Петербург  \n",
       "17456              NaN                       Сланцы  \n",
       "14911             44.0        поселок станции Свирь  \n",
       "16274             45.0           деревня Старополье  \n",
       "17676            120.0            деревня Ям-Тесово  \n",
       "\n",
       "[5 rows x 23 columns]"
      ]
     },
     "execution_count": 24,
     "metadata": {},
     "output_type": "execute_result"
    }
   ],
   "source": [
    "data[data['last_price'] >= 12190.0].sort_values(by='last_price').head()"
   ]
  },
  {
   "cell_type": "markdown",
   "metadata": {},
   "source": [
    "Квартира в Санкт-Петербурге с общей площадью 109 не может стоить 12190 рублей. Дальше значения укладываются в логические нормы. От строчки с минимальным значением можно избавиться"
   ]
  },
  {
   "cell_type": "code",
   "execution_count": 25,
   "metadata": {},
   "outputs": [],
   "source": [
    "data = data[data['last_price'] > 12190.0]"
   ]
  },
  {
   "cell_type": "code",
   "execution_count": 26,
   "metadata": {},
   "outputs": [],
   "source": [
    "data['living_area'] = data['living_area'].fillna(data['total_area'] / (data['total_area'].mean() / data['living_area'].mean()))\n",
    "\n",
    "data['kitchen_area'] = data['kitchen_area'].fillna(data['total_area'] / (data['total_area'].mean() / data['kitchen_area'].mean()))\n"
   ]
  },
  {
   "cell_type": "markdown",
   "metadata": {},
   "source": [
    "### Посчитайте и добавьте в таблицу новые столбцы"
   ]
  },
  {
   "cell_type": "markdown",
   "metadata": {},
   "source": [
    "Для удобства представления данных на графике можно создать новый столбец который будет показывать конечную стоимость недвижимости в миллионах"
   ]
  },
  {
   "cell_type": "code",
   "execution_count": 27,
   "metadata": {},
   "outputs": [],
   "source": [
    "data['last_price_mln'] = data['last_price'] / 1000000"
   ]
  },
  {
   "cell_type": "markdown",
   "metadata": {},
   "source": [
    "Для подсчета стоимости одного квадратного метра поделим значения столбца конечной стоимости на общую площадь и сохраним полученные значения в новый столбец"
   ]
  },
  {
   "cell_type": "code",
   "execution_count": 28,
   "metadata": {},
   "outputs": [],
   "source": [
    "data['square_meter_price'] = data['last_price'] / data['total_area']"
   ]
  },
  {
   "cell_type": "markdown",
   "metadata": {},
   "source": [
    "Получим день недели из столбца 'first_day_exposition' где 0 - понедельник, а 6 - воскресенье и сохраним значения в новый столбец"
   ]
  },
  {
   "cell_type": "code",
   "execution_count": 29,
   "metadata": {},
   "outputs": [],
   "source": [
    "data['exposition_week_day'] = pd.DatetimeIndex(data['first_day_exposition']).weekday"
   ]
  },
  {
   "cell_type": "markdown",
   "metadata": {},
   "source": [
    "Точно так же получим месяц и год"
   ]
  },
  {
   "cell_type": "code",
   "execution_count": 30,
   "metadata": {},
   "outputs": [],
   "source": [
    "data['exposition_month'] = pd.DatetimeIndex(data['first_day_exposition']).month\n",
    "data['exposition_year'] = pd.DatetimeIndex(data['first_day_exposition']).year"
   ]
  },
  {
   "cell_type": "markdown",
   "metadata": {},
   "source": [
    "Чтобы получить расстояние до центра в КМ из М поделим значения из столбца 'cityCenters_nearest' на 1000 и округлим к ближайшему целому значению"
   ]
  },
  {
   "cell_type": "code",
   "execution_count": 31,
   "metadata": {},
   "outputs": [],
   "source": [
    "data['city_centers_nearest_km'] = (data['city_centers_nearest'] / 1000).round()"
   ]
  },
  {
   "cell_type": "markdown",
   "metadata": {},
   "source": [
    "Создадим функцию которая будет принимать в себя строку из датафрейма и возвращать нам этаж на которой рассположено жилье (первый, последний, другой)"
   ]
  },
  {
   "cell_type": "code",
   "execution_count": 32,
   "metadata": {},
   "outputs": [],
   "source": [
    "def floor_is(row):\n",
    "    if row['floor'] == 1:\n",
    "        return 'первый'\n",
    "    elif row['floor'] == row['floors_total']:\n",
    "        return 'последний'\n",
    "    return 'другой'"
   ]
  },
  {
   "cell_type": "markdown",
   "metadata": {},
   "source": [
    "Применим функцию и сохраним полученные значения в новом столбце "
   ]
  },
  {
   "cell_type": "code",
   "execution_count": 33,
   "metadata": {},
   "outputs": [],
   "source": [
    "data['floor_is'] = data.apply(floor_is, axis=1)"
   ]
  },
  {
   "cell_type": "markdown",
   "metadata": {},
   "source": [
    "Взглянем на первые 15 строк из добавленных столбцов"
   ]
  },
  {
   "cell_type": "code",
   "execution_count": 34,
   "metadata": {},
   "outputs": [
    {
     "data": {
      "text/html": [
       "<div>\n",
       "<style scoped>\n",
       "    .dataframe tbody tr th:only-of-type {\n",
       "        vertical-align: middle;\n",
       "    }\n",
       "\n",
       "    .dataframe tbody tr th {\n",
       "        vertical-align: top;\n",
       "    }\n",
       "\n",
       "    .dataframe thead th {\n",
       "        text-align: right;\n",
       "    }\n",
       "</style>\n",
       "<table border=\"1\" class=\"dataframe\">\n",
       "  <thead>\n",
       "    <tr style=\"text-align: right;\">\n",
       "      <th></th>\n",
       "      <th>square_meter_price</th>\n",
       "      <th>exposition_week_day</th>\n",
       "      <th>exposition_month</th>\n",
       "      <th>exposition_year</th>\n",
       "      <th>city_centers_nearest_km</th>\n",
       "      <th>floor_is</th>\n",
       "      <th>last_price_mln</th>\n",
       "    </tr>\n",
       "  </thead>\n",
       "  <tbody>\n",
       "    <tr>\n",
       "      <th>0</th>\n",
       "      <td>120370.370370</td>\n",
       "      <td>3</td>\n",
       "      <td>3</td>\n",
       "      <td>2019</td>\n",
       "      <td>16.0</td>\n",
       "      <td>другой</td>\n",
       "      <td>13.000</td>\n",
       "    </tr>\n",
       "    <tr>\n",
       "      <th>1</th>\n",
       "      <td>82920.792079</td>\n",
       "      <td>1</td>\n",
       "      <td>12</td>\n",
       "      <td>2018</td>\n",
       "      <td>19.0</td>\n",
       "      <td>первый</td>\n",
       "      <td>3.350</td>\n",
       "    </tr>\n",
       "    <tr>\n",
       "      <th>2</th>\n",
       "      <td>92785.714286</td>\n",
       "      <td>3</td>\n",
       "      <td>8</td>\n",
       "      <td>2015</td>\n",
       "      <td>14.0</td>\n",
       "      <td>другой</td>\n",
       "      <td>5.196</td>\n",
       "    </tr>\n",
       "    <tr>\n",
       "      <th>3</th>\n",
       "      <td>408176.100629</td>\n",
       "      <td>4</td>\n",
       "      <td>7</td>\n",
       "      <td>2015</td>\n",
       "      <td>7.0</td>\n",
       "      <td>другой</td>\n",
       "      <td>64.900</td>\n",
       "    </tr>\n",
       "    <tr>\n",
       "      <th>4</th>\n",
       "      <td>100000.000000</td>\n",
       "      <td>1</td>\n",
       "      <td>6</td>\n",
       "      <td>2018</td>\n",
       "      <td>8.0</td>\n",
       "      <td>другой</td>\n",
       "      <td>10.000</td>\n",
       "    </tr>\n",
       "    <tr>\n",
       "      <th>5</th>\n",
       "      <td>95065.789474</td>\n",
       "      <td>0</td>\n",
       "      <td>9</td>\n",
       "      <td>2018</td>\n",
       "      <td>NaN</td>\n",
       "      <td>другой</td>\n",
       "      <td>2.890</td>\n",
       "    </tr>\n",
       "    <tr>\n",
       "      <th>6</th>\n",
       "      <td>99195.710456</td>\n",
       "      <td>3</td>\n",
       "      <td>11</td>\n",
       "      <td>2017</td>\n",
       "      <td>19.0</td>\n",
       "      <td>другой</td>\n",
       "      <td>3.700</td>\n",
       "    </tr>\n",
       "    <tr>\n",
       "      <th>7</th>\n",
       "      <td>110544.692737</td>\n",
       "      <td>3</td>\n",
       "      <td>4</td>\n",
       "      <td>2019</td>\n",
       "      <td>12.0</td>\n",
       "      <td>другой</td>\n",
       "      <td>7.915</td>\n",
       "    </tr>\n",
       "    <tr>\n",
       "      <th>8</th>\n",
       "      <td>87454.764777</td>\n",
       "      <td>2</td>\n",
       "      <td>5</td>\n",
       "      <td>2018</td>\n",
       "      <td>NaN</td>\n",
       "      <td>другой</td>\n",
       "      <td>2.900</td>\n",
       "    </tr>\n",
       "    <tr>\n",
       "      <th>9</th>\n",
       "      <td>88524.590164</td>\n",
       "      <td>6</td>\n",
       "      <td>2</td>\n",
       "      <td>2017</td>\n",
       "      <td>15.0</td>\n",
       "      <td>другой</td>\n",
       "      <td>5.400</td>\n",
       "    </tr>\n",
       "    <tr>\n",
       "      <th>10</th>\n",
       "      <td>127525.252525</td>\n",
       "      <td>3</td>\n",
       "      <td>11</td>\n",
       "      <td>2017</td>\n",
       "      <td>14.0</td>\n",
       "      <td>другой</td>\n",
       "      <td>5.050</td>\n",
       "    </tr>\n",
       "    <tr>\n",
       "      <th>11</th>\n",
       "      <td>75000.000000</td>\n",
       "      <td>0</td>\n",
       "      <td>8</td>\n",
       "      <td>2018</td>\n",
       "      <td>52.0</td>\n",
       "      <td>другой</td>\n",
       "      <td>3.300</td>\n",
       "    </tr>\n",
       "    <tr>\n",
       "      <th>12</th>\n",
       "      <td>72037.037037</td>\n",
       "      <td>3</td>\n",
       "      <td>6</td>\n",
       "      <td>2016</td>\n",
       "      <td>NaN</td>\n",
       "      <td>последний</td>\n",
       "      <td>3.890</td>\n",
       "    </tr>\n",
       "    <tr>\n",
       "      <th>13</th>\n",
       "      <td>82943.925234</td>\n",
       "      <td>5</td>\n",
       "      <td>7</td>\n",
       "      <td>2017</td>\n",
       "      <td>33.0</td>\n",
       "      <td>последний</td>\n",
       "      <td>3.550</td>\n",
       "    </tr>\n",
       "    <tr>\n",
       "      <th>14</th>\n",
       "      <td>122222.222222</td>\n",
       "      <td>3</td>\n",
       "      <td>6</td>\n",
       "      <td>2016</td>\n",
       "      <td>31.0</td>\n",
       "      <td>первый</td>\n",
       "      <td>4.400</td>\n",
       "    </tr>\n",
       "  </tbody>\n",
       "</table>\n",
       "</div>"
      ],
      "text/plain": [
       "    square_meter_price  exposition_week_day  exposition_month  \\\n",
       "0        120370.370370                    3                 3   \n",
       "1         82920.792079                    1                12   \n",
       "2         92785.714286                    3                 8   \n",
       "3        408176.100629                    4                 7   \n",
       "4        100000.000000                    1                 6   \n",
       "5         95065.789474                    0                 9   \n",
       "6         99195.710456                    3                11   \n",
       "7        110544.692737                    3                 4   \n",
       "8         87454.764777                    2                 5   \n",
       "9         88524.590164                    6                 2   \n",
       "10       127525.252525                    3                11   \n",
       "11        75000.000000                    0                 8   \n",
       "12        72037.037037                    3                 6   \n",
       "13        82943.925234                    5                 7   \n",
       "14       122222.222222                    3                 6   \n",
       "\n",
       "    exposition_year  city_centers_nearest_km   floor_is  last_price_mln  \n",
       "0              2019                     16.0     другой          13.000  \n",
       "1              2018                     19.0     первый           3.350  \n",
       "2              2015                     14.0     другой           5.196  \n",
       "3              2015                      7.0     другой          64.900  \n",
       "4              2018                      8.0     другой          10.000  \n",
       "5              2018                      NaN     другой           2.890  \n",
       "6              2017                     19.0     другой           3.700  \n",
       "7              2019                     12.0     другой           7.915  \n",
       "8              2018                      NaN     другой           2.900  \n",
       "9              2017                     15.0     другой           5.400  \n",
       "10             2017                     14.0     другой           5.050  \n",
       "11             2018                     52.0     другой           3.300  \n",
       "12             2016                      NaN  последний           3.890  \n",
       "13             2017                     33.0  последний           3.550  \n",
       "14             2016                     31.0     первый           4.400  "
      ]
     },
     "execution_count": 34,
     "metadata": {},
     "output_type": "execute_result"
    }
   ],
   "source": [
    "data[['square_meter_price', \n",
    "      'exposition_week_day', \n",
    "      'exposition_month', \n",
    "      'exposition_year', \n",
    "      'city_centers_nearest_km', \n",
    "      'floor_is',\n",
    "     'last_price_mln']].head(15)"
   ]
  },
  {
   "cell_type": "markdown",
   "metadata": {},
   "source": [
    "### Исследовательский анализ данных"
   ]
  },
  {
   "cell_type": "code",
   "execution_count": 35,
   "metadata": {},
   "outputs": [
    {
     "data": {
      "text/plain": [
       "<AxesSubplot:>"
      ]
     },
     "execution_count": 35,
     "metadata": {},
     "output_type": "execute_result"
    },
    {
     "data": {
      "image/png": "[encoded data removed]",
      "text/plain": [
       "<Figure size 432x288 with 1 Axes>"
      ]
     },
     "metadata": {
      "needs_background": "light"
     },
     "output_type": "display_data"
    }
   ],
   "source": [
    "data['total_area'].hist(range=(0, 200))"
   ]
  },
  {
   "cell_type": "markdown",
   "metadata": {},
   "source": [
    "Основная масса квартир площадью от 25 до 100 квадратных метров"
   ]
  },
  {
   "cell_type": "code",
   "execution_count": 36,
   "metadata": {},
   "outputs": [
    {
     "data": {
      "text/plain": [
       "<AxesSubplot:>"
      ]
     },
     "execution_count": 36,
     "metadata": {},
     "output_type": "execute_result"
    },
    {
     "data": {
      "image/png": "[encoded data removed]",
      "text/plain": [
       "<Figure size 432x288 with 1 Axes>"
      ]
     },
     "metadata": {
      "needs_background": "light"
     },
     "output_type": "display_data"
    }
   ],
   "source": [
    "data['living_area'].hist(range=(0, 200))"
   ]
  },
  {
   "cell_type": "markdown",
   "metadata": {},
   "source": [
    "Гистограмма по жилой зоне идентична общей площади квартиры и, что логично, смещена влево"
   ]
  },
  {
   "cell_type": "code",
   "execution_count": 37,
   "metadata": {},
   "outputs": [
    {
     "data": {
      "text/plain": [
       "<AxesSubplot:>"
      ]
     },
     "execution_count": 37,
     "metadata": {},
     "output_type": "execute_result"
    },
    {
     "data": {
      "image/png": "[encoded data removed]",
      "text/plain": [
       "<Figure size 432x288 with 1 Axes>"
      ]
     },
     "metadata": {
      "needs_background": "light"
     },
     "output_type": "display_data"
    }
   ],
   "source": [
    "data['kitchen_area'].hist(range=(0,60))"
   ]
  },
  {
   "cell_type": "code",
   "execution_count": 38,
   "metadata": {},
   "outputs": [
    {
     "data": {
      "text/plain": [
       "<AxesSubplot:>"
      ]
     },
     "execution_count": 38,
     "metadata": {},
     "output_type": "execute_result"
    },
    {
     "data": {
      "image/png": "[encoded data removed]",
      "text/plain": [
       "<Figure size 432x288 with 1 Axes>"
      ]
     },
     "metadata": {
      "needs_background": "light"
     },
     "output_type": "display_data"
    }
   ],
   "source": [
    "data['last_price_mln'].hist(bins=40,range=(0, 40))"
   ]
  },
  {
   "cell_type": "code",
   "execution_count": 39,
   "metadata": {},
   "outputs": [
    {
     "data": {
      "text/plain": [
       "<AxesSubplot:>"
      ]
     },
     "execution_count": 39,
     "metadata": {},
     "output_type": "execute_result"
    },
    {
     "data": {
      "image/png": "[encoded data removed]",
      "text/plain": [
       "<Figure size 432x288 with 1 Axes>"
      ]
     },
     "metadata": {
      "needs_background": "light"
     },
     "output_type": "display_data"
    }
   ],
   "source": [
    "data['rooms'].hist()"
   ]
  },
  {
   "cell_type": "code",
   "execution_count": 40,
   "metadata": {},
   "outputs": [
    {
     "data": {
      "text/plain": [
       "<AxesSubplot:>"
      ]
     },
     "execution_count": 40,
     "metadata": {},
     "output_type": "execute_result"
    },
    {
     "data": {
      "image/png": "[encoded data removed]",
      "text/plain": [
       "<Figure size 432x288 with 1 Axes>"
      ]
     },
     "metadata": {
      "needs_background": "light"
     },
     "output_type": "display_data"
    }
   ],
   "source": [
    "data['ceiling_height'].hist()"
   ]
  },
  {
   "cell_type": "code",
   "execution_count": 41,
   "metadata": {},
   "outputs": [
    {
     "data": {
      "text/plain": [
       "<AxesSubplot:>"
      ]
     },
     "execution_count": 41,
     "metadata": {},
     "output_type": "execute_result"
    },
    {
     "data": {
      "image/png": "[encoded data removed]",
      "text/plain": [
       "<Figure size 432x288 with 1 Axes>"
      ]
     },
     "metadata": {
      "needs_background": "light"
     },
     "output_type": "display_data"
    }
   ],
   "source": [
    "data['floor'].hist()"
   ]
  },
  {
   "cell_type": "code",
   "execution_count": 42,
   "metadata": {},
   "outputs": [
    {
     "data": {
      "text/plain": [
       "<AxesSubplot:>"
      ]
     },
     "execution_count": 42,
     "metadata": {},
     "output_type": "execute_result"
    },
    {
     "data": {
      "image/png": "[encoded data removed]",
      "text/plain": [
       "<Figure size 432x288 with 1 Axes>"
      ]
     },
     "metadata": {
      "needs_background": "light"
     },
     "output_type": "display_data"
    }
   ],
   "source": [
    "data['floor_is'].hist()"
   ]
  },
  {
   "cell_type": "code",
   "execution_count": 43,
   "metadata": {},
   "outputs": [
    {
     "data": {
      "text/plain": [
       "<AxesSubplot:>"
      ]
     },
     "execution_count": 43,
     "metadata": {},
     "output_type": "execute_result"
    },
    {
     "data": {
      "image/png": "[encoded data removed]",
      "text/plain": [
       "<Figure size 432x288 with 1 Axes>"
      ]
     },
     "metadata": {
      "needs_background": "light"
     },
     "output_type": "display_data"
    }
   ],
   "source": [
    "data['floors_total'].hist()"
   ]
  },
  {
   "cell_type": "code",
   "execution_count": 44,
   "metadata": {},
   "outputs": [
    {
     "data": {
      "text/plain": [
       "<AxesSubplot:>"
      ]
     },
     "execution_count": 44,
     "metadata": {},
     "output_type": "execute_result"
    },
    {
     "data": {
      "image/png": "[encoded data removed]",
      "text/plain": [
       "<Figure size 432x288 with 1 Axes>"
      ]
     },
     "metadata": {
      "needs_background": "light"
     },
     "output_type": "display_data"
    }
   ],
   "source": [
    "data['city_centers_nearest'].hist()"
   ]
  },
  {
   "cell_type": "code",
   "execution_count": 45,
   "metadata": {},
   "outputs": [
    {
     "data": {
      "text/plain": [
       "<AxesSubplot:>"
      ]
     },
     "execution_count": 45,
     "metadata": {},
     "output_type": "execute_result"
    },
    {
     "data": {
      "image/png": "[encoded data removed]",
      "text/plain": [
       "<Figure size 432x288 with 1 Axes>"
      ]
     },
     "metadata": {
      "needs_background": "light"
     },
     "output_type": "display_data"
    }
   ],
   "source": [
    "data['airports_nearest'].hist()"
   ]
  },
  {
   "cell_type": "code",
   "execution_count": 46,
   "metadata": {},
   "outputs": [
    {
     "data": {
      "text/plain": [
       "<AxesSubplot:>"
      ]
     },
     "execution_count": 46,
     "metadata": {},
     "output_type": "execute_result"
    },
    {
     "data": {
      "image/png": "[encoded data removed]",
      "text/plain": [
       "<Figure size 432x288 with 1 Axes>"
      ]
     },
     "metadata": {
      "needs_background": "light"
     },
     "output_type": "display_data"
    }
   ],
   "source": [
    "data['parks_nearest'].hist()"
   ]
  },
  {
   "cell_type": "code",
   "execution_count": 47,
   "metadata": {},
   "outputs": [
    {
     "data": {
      "text/plain": [
       "<AxesSubplot:>"
      ]
     },
     "execution_count": 47,
     "metadata": {},
     "output_type": "execute_result"
    },
    {
     "data": {
      "image/png": "[encoded data removed]",
      "text/plain": [
       "<Figure size 432x288 with 1 Axes>"
      ]
     },
     "metadata": {
      "needs_background": "light"
     },
     "output_type": "display_data"
    }
   ],
   "source": [
    "data['exposition_week_day'].hist(bins=7)"
   ]
  },
  {
   "cell_type": "code",
   "execution_count": 48,
   "metadata": {},
   "outputs": [
    {
     "data": {
      "text/plain": [
       "<AxesSubplot:>"
      ]
     },
     "execution_count": 48,
     "metadata": {},
     "output_type": "execute_result"
    },
    {
     "data": {
      "image/png": "[encoded data removed]",
      "text/plain": [
       "<Figure size 432x288 with 1 Axes>"
      ]
     },
     "metadata": {
      "needs_background": "light"
     },
     "output_type": "display_data"
    }
   ],
   "source": [
    "data['exposition_month'].hist(bins=12)"
   ]
  },
  {
   "cell_type": "code",
   "execution_count": 49,
   "metadata": {},
   "outputs": [
    {
     "data": {
      "text/plain": [
       "<AxesSubplot:>"
      ]
     },
     "execution_count": 49,
     "metadata": {},
     "output_type": "execute_result"
    },
    {
     "data": {
      "image/png": "[encoded data removed]",
      "text/plain": [
       "<Figure size 432x288 with 1 Axes>"
      ]
     },
     "metadata": {
      "needs_background": "light"
     },
     "output_type": "display_data"
    }
   ],
   "source": [
    "data['days_exposition'].hist()"
   ]
  },
  {
   "cell_type": "code",
   "execution_count": 50,
   "metadata": {},
   "outputs": [
    {
     "data": {
      "text/plain": [
       "count    20517.000000\n",
       "mean       180.897061\n",
       "std        219.730028\n",
       "min          1.000000\n",
       "25%         45.000000\n",
       "50%         95.000000\n",
       "75%        232.000000\n",
       "max       1580.000000\n",
       "Name: days_exposition, dtype: float64"
      ]
     },
     "execution_count": 50,
     "metadata": {},
     "output_type": "execute_result"
    }
   ],
   "source": [
    "data['days_exposition'].describe()"
   ]
  },
  {
   "cell_type": "markdown",
   "metadata": {},
   "source": [
    "Средняя скорость продажи квартры - 180 дней, а медианная - 95"
   ]
  },
  {
   "cell_type": "markdown",
   "metadata": {},
   "source": [
    "Быстрыми можно считать продажи которые занимают до 45 дней а долгими от 232 что соответсвует 25 и 75 % от статистики"
   ]
  },
  {
   "cell_type": "markdown",
   "metadata": {},
   "source": [
    "Для выяснения зависимости цены от площади квартиры построим точечный график и проверим корреляцию"
   ]
  },
  {
   "cell_type": "code",
   "execution_count": 51,
   "metadata": {},
   "outputs": [
    {
     "data": {
      "text/plain": [
       "0.6537402377092495"
      ]
     },
     "execution_count": 51,
     "metadata": {},
     "output_type": "execute_result"
    }
   ],
   "source": [
    "data['total_area'].corr(data['last_price'])"
   ]
  },
  {
   "cell_type": "code",
   "execution_count": 52,
   "metadata": {},
   "outputs": [
    {
     "data": {
      "text/plain": [
       "<AxesSubplot:xlabel='total_area', ylabel='last_price_mln'>"
      ]
     },
     "execution_count": 52,
     "metadata": {},
     "output_type": "execute_result"
    },
    {
     "data": {
      "image/png": "[encoded data removed]",
      "text/plain": [
       "<Figure size 432x288 with 1 Axes>"
      ]
     },
     "metadata": {
      "needs_background": "light"
     },
     "output_type": "display_data"
    }
   ],
   "source": [
    "data.plot(x='total_area', y='last_price_mln', kind='scatter', grid=True)"
   ]
  },
  {
   "cell_type": "markdown",
   "metadata": {},
   "source": [
    "Корреляция состоявляет 0.65 и по графику видно что, чем больше площадь тем выше стоимость, что логично (еще на графике видны аномальные выбросы по стоимости в разы превышающие средние показатели, но их не много)"
   ]
  },
  {
   "cell_type": "markdown",
   "metadata": {},
   "source": [
    "Проделаем такие же действия со столбцами **'living_area', 'kitchen_area', 'rooms'**"
   ]
  },
  {
   "cell_type": "code",
   "execution_count": 53,
   "metadata": {},
   "outputs": [
    {
     "name": "stdout",
     "output_type": "stream",
     "text": [
      "Корреляция: 0.5857886604770651\n"
     ]
    },
    {
     "data": {
      "text/plain": [
       "<AxesSubplot:xlabel='living_area', ylabel='last_price_mln'>"
      ]
     },
     "execution_count": 53,
     "metadata": {},
     "output_type": "execute_result"
    },
    {
     "data": {
      "image/png": "[encoded data removed]",
      "text/plain": [
       "<Figure size 432x288 with 1 Axes>"
      ]
     },
     "metadata": {
      "needs_background": "light"
     },
     "output_type": "display_data"
    }
   ],
   "source": [
    "print('Корреляция:', data['last_price'].corr(data['living_area']))\n",
    "\n",
    "data.plot(x='living_area', y='last_price_mln', kind='scatter', grid=True)"
   ]
  },
  {
   "cell_type": "code",
   "execution_count": 54,
   "metadata": {},
   "outputs": [
    {
     "name": "stdout",
     "output_type": "stream",
     "text": [
      "Корреляция: 0.5145476976769694\n"
     ]
    },
    {
     "data": {
      "text/plain": [
       "<AxesSubplot:xlabel='kitchen_area', ylabel='last_price_mln'>"
      ]
     },
     "execution_count": 54,
     "metadata": {},
     "output_type": "execute_result"
    },
    {
     "data": {
      "image/png": "[encoded data removed]",
      "text/plain": [
       "<Figure size 432x288 with 1 Axes>"
      ]
     },
     "metadata": {
      "needs_background": "light"
     },
     "output_type": "display_data"
    }
   ],
   "source": [
    "print('Корреляция:', data['last_price'].corr(data['kitchen_area']))\n",
    "\n",
    "data.plot(x='kitchen_area', y='last_price_mln', kind='scatter', grid=True)"
   ]
  },
  {
   "cell_type": "code",
   "execution_count": 55,
   "metadata": {},
   "outputs": [
    {
     "name": "stdout",
     "output_type": "stream",
     "text": [
      "Корреляция: 0.36334398266009404\n"
     ]
    },
    {
     "data": {
      "text/plain": [
       "<AxesSubplot:xlabel='rooms', ylabel='last_price_mln'>"
      ]
     },
     "execution_count": 55,
     "metadata": {},
     "output_type": "execute_result"
    },
    {
     "data": {
      "image/png": "[encoded data removed]",
      "text/plain": [
       "<Figure size 432x288 with 1 Axes>"
      ]
     },
     "metadata": {
      "needs_background": "light"
     },
     "output_type": "display_data"
    }
   ],
   "source": [
    "print('Корреляция:', data['last_price'].corr(data['rooms']))\n",
    "\n",
    "data.plot(x='rooms', y='last_price_mln', kind='scatter', grid=True)"
   ]
  },
  {
   "cell_type": "markdown",
   "metadata": {},
   "source": [
    "С **'living_area'** и **'kitchen_area'** ситуация схожая, а вот с **'rooms'**, от 0 до 5 комнат стоимость растет, а с 5 и дальше идет на спад (так же видны точки с аномальной высокой стоимостью)"
   ]
  },
  {
   "cell_type": "markdown",
   "metadata": {},
   "source": [
    "Сгруппируем данные по этажу (первый, последний, другой) и по медианому значению стоимости квартиры этой группы. Построим barplot на основании этих данных"
   ]
  },
  {
   "cell_type": "code",
   "execution_count": 56,
   "metadata": {},
   "outputs": [
    {
     "name": "stdout",
     "output_type": "stream",
     "text": [
      "Корреляция: 0.026683449634762275\n"
     ]
    },
    {
     "data": {
      "text/plain": [
       "<AxesSubplot:xlabel='floor_is'>"
      ]
     },
     "execution_count": 56,
     "metadata": {},
     "output_type": "execute_result"
    },
    {
     "data": {
      "image/png": "[encoded data removed]",
      "text/plain": [
       "<Figure size 432x288 with 1 Axes>"
      ]
     },
     "metadata": {
      "needs_background": "light"
     },
     "output_type": "display_data"
    }
   ],
   "source": [
    "print('Корреляция:', data['last_price'].corr(data['floor']))\n",
    "\n",
    "data.pivot_table(index='floor_is', values='last_price_mln', aggfunc='median').plot(kind='bar')"
   ]
  },
  {
   "cell_type": "code",
   "execution_count": 57,
   "metadata": {},
   "outputs": [
    {
     "data": {
      "text/plain": [
       "<AxesSubplot:xlabel='exposition_week_day'>"
      ]
     },
     "execution_count": 57,
     "metadata": {},
     "output_type": "execute_result"
    },
    {
     "data": {
      "image/png": "[encoded data removed]",
      "text/plain": [
       "<Figure size 432x288 with 1 Axes>"
      ]
     },
     "metadata": {
      "needs_background": "light"
     },
     "output_type": "display_data"
    }
   ],
   "source": [
    "data.pivot_table(index='exposition_week_day', values='last_price_mln', aggfunc='median').plot()"
   ]
  },
  {
   "cell_type": "markdown",
   "metadata": {},
   "source": [
    "Медианная стоимость жилья во вторник выше чем в другие и самый низкий показатель по воскресеньям"
   ]
  },
  {
   "cell_type": "code",
   "execution_count": 58,
   "metadata": {},
   "outputs": [
    {
     "data": {
      "text/plain": [
       "<AxesSubplot:xlabel='exposition_month'>"
      ]
     },
     "execution_count": 58,
     "metadata": {},
     "output_type": "execute_result"
    },
    {
     "data": {
      "image/png": "[encoded data removed]",
      "text/plain": [
       "<Figure size 432x288 with 1 Axes>"
      ]
     },
     "metadata": {
      "needs_background": "light"
     },
     "output_type": "display_data"
    }
   ],
   "source": [
    "data.pivot_table(index='exposition_month', values='last_price_mln', aggfunc='median').plot()"
   ]
  },
  {
   "cell_type": "markdown",
   "metadata": {},
   "source": [
    "Дешевле квартиры выставленные в июне "
   ]
  },
  {
   "cell_type": "code",
   "execution_count": 59,
   "metadata": {},
   "outputs": [
    {
     "data": {
      "text/plain": [
       "<AxesSubplot:xlabel='exposition_year'>"
      ]
     },
     "execution_count": 59,
     "metadata": {},
     "output_type": "execute_result"
    },
    {
     "data": {
      "image/png": "[encoded data removed]",
      "text/plain": [
       "<Figure size 432x288 with 1 Axes>"
      ]
     },
     "metadata": {
      "needs_background": "light"
     },
     "output_type": "display_data"
    }
   ],
   "source": [
    "data.pivot_table(index='exposition_year', values='last_price_mln', aggfunc='median').plot()"
   ]
  },
  {
   "cell_type": "markdown",
   "metadata": {},
   "source": [
    "Медианная стоимость квартир выше в 2014 году и потом наблюдается резкое падение до 2018 года и небольшая коррекция в 2019-ом"
   ]
  },
  {
   "cell_type": "markdown",
   "metadata": {},
   "source": [
    "Посчитаем среднюю цену одного квадратного метра в 10 населённых пунктах с наибольшим числом объявлений. Для этого сгруппируем данные по населенным пунктам и по стоимости одного квадратного метра жилья применив к ним метод count (для получения количества объявлений) и mean (для получения средней стоимости одного квадратного метра)"
   ]
  },
  {
   "cell_type": "markdown",
   "metadata": {},
   "source": [
    "Отсортируем по count чтобы получить в начале пункты с наибольшим количеством объявлений и возьмем только первые 10 строк. Сохраним все это во временную переменную temp"
   ]
  },
  {
   "cell_type": "code",
   "execution_count": 60,
   "metadata": {},
   "outputs": [
    {
     "data": {
      "text/html": [
       "<div>\n",
       "<style scoped>\n",
       "    .dataframe tbody tr th:only-of-type {\n",
       "        vertical-align: middle;\n",
       "    }\n",
       "\n",
       "    .dataframe tbody tr th {\n",
       "        vertical-align: top;\n",
       "    }\n",
       "\n",
       "    .dataframe thead tr th {\n",
       "        text-align: left;\n",
       "    }\n",
       "\n",
       "    .dataframe thead tr:last-of-type th {\n",
       "        text-align: right;\n",
       "    }\n",
       "</style>\n",
       "<table border=\"1\" class=\"dataframe\">\n",
       "  <thead>\n",
       "    <tr>\n",
       "      <th></th>\n",
       "      <th>count</th>\n",
       "      <th>mean</th>\n",
       "    </tr>\n",
       "    <tr>\n",
       "      <th></th>\n",
       "      <th>square_meter_price</th>\n",
       "      <th>square_meter_price</th>\n",
       "    </tr>\n",
       "    <tr>\n",
       "      <th>locality_name_no_duplicates</th>\n",
       "      <th></th>\n",
       "      <th></th>\n",
       "    </tr>\n",
       "  </thead>\n",
       "  <tbody>\n",
       "    <tr>\n",
       "      <th>Санкт-Петербург</th>\n",
       "      <td>15720</td>\n",
       "      <td>114856.307596</td>\n",
       "    </tr>\n",
       "    <tr>\n",
       "      <th>поселок Мурино</th>\n",
       "      <td>556</td>\n",
       "      <td>85681.762601</td>\n",
       "    </tr>\n",
       "    <tr>\n",
       "      <th>поселок Шушары</th>\n",
       "      <td>440</td>\n",
       "      <td>78677.364217</td>\n",
       "    </tr>\n",
       "    <tr>\n",
       "      <th>Всеволожск</th>\n",
       "      <td>398</td>\n",
       "      <td>68654.473986</td>\n",
       "    </tr>\n",
       "    <tr>\n",
       "      <th>Пушкин</th>\n",
       "      <td>369</td>\n",
       "      <td>103125.819291</td>\n",
       "    </tr>\n",
       "    <tr>\n",
       "      <th>Колпино</th>\n",
       "      <td>338</td>\n",
       "      <td>75424.579098</td>\n",
       "    </tr>\n",
       "    <tr>\n",
       "      <th>поселок Парголово</th>\n",
       "      <td>327</td>\n",
       "      <td>90175.913458</td>\n",
       "    </tr>\n",
       "    <tr>\n",
       "      <th>Гатчина</th>\n",
       "      <td>307</td>\n",
       "      <td>68746.146763</td>\n",
       "    </tr>\n",
       "    <tr>\n",
       "      <th>деревня Кудрово</th>\n",
       "      <td>299</td>\n",
       "      <td>92473.547576</td>\n",
       "    </tr>\n",
       "    <tr>\n",
       "      <th>Выборг</th>\n",
       "      <td>237</td>\n",
       "      <td>58141.909153</td>\n",
       "    </tr>\n",
       "  </tbody>\n",
       "</table>\n",
       "</div>"
      ],
      "text/plain": [
       "                                         count               mean\n",
       "                            square_meter_price square_meter_price\n",
       "locality_name_no_duplicates                                      \n",
       "Санкт-Петербург                          15720      114856.307596\n",
       "поселок Мурино                             556       85681.762601\n",
       "поселок Шушары                             440       78677.364217\n",
       "Всеволожск                                 398       68654.473986\n",
       "Пушкин                                     369      103125.819291\n",
       "Колпино                                    338       75424.579098\n",
       "поселок Парголово                          327       90175.913458\n",
       "Гатчина                                    307       68746.146763\n",
       "деревня Кудрово                            299       92473.547576\n",
       "Выборг                                     237       58141.909153"
      ]
     },
     "execution_count": 60,
     "metadata": {},
     "output_type": "execute_result"
    }
   ],
   "source": [
    "\n",
    "    temp = (data\n",
    "    .pivot_table(index='locality_name_no_duplicates', values='square_meter_price', aggfunc=['count', 'mean'])\n",
    "    .sort_values(by=('count', 'square_meter_price'), ascending=False)\n",
    "    .head(10)\n",
    ")\n",
    "temp"
   ]
  },
  {
   "cell_type": "markdown",
   "metadata": {},
   "source": [
    "Выведем из списка максимальное значение по ('mean', 'square_meter_price')"
   ]
  },
  {
   "cell_type": "code",
   "execution_count": 61,
   "metadata": {},
   "outputs": [
    {
     "data": {
      "text/html": [
       "<div>\n",
       "<style scoped>\n",
       "    .dataframe tbody tr th:only-of-type {\n",
       "        vertical-align: middle;\n",
       "    }\n",
       "\n",
       "    .dataframe tbody tr th {\n",
       "        vertical-align: top;\n",
       "    }\n",
       "\n",
       "    .dataframe thead tr th {\n",
       "        text-align: left;\n",
       "    }\n",
       "\n",
       "    .dataframe thead tr:last-of-type th {\n",
       "        text-align: right;\n",
       "    }\n",
       "</style>\n",
       "<table border=\"1\" class=\"dataframe\">\n",
       "  <thead>\n",
       "    <tr>\n",
       "      <th></th>\n",
       "      <th>count</th>\n",
       "      <th>mean</th>\n",
       "    </tr>\n",
       "    <tr>\n",
       "      <th></th>\n",
       "      <th>square_meter_price</th>\n",
       "      <th>square_meter_price</th>\n",
       "    </tr>\n",
       "    <tr>\n",
       "      <th>locality_name_no_duplicates</th>\n",
       "      <th></th>\n",
       "      <th></th>\n",
       "    </tr>\n",
       "  </thead>\n",
       "  <tbody>\n",
       "    <tr>\n",
       "      <th>Санкт-Петербург</th>\n",
       "      <td>15720</td>\n",
       "      <td>114856.307596</td>\n",
       "    </tr>\n",
       "  </tbody>\n",
       "</table>\n",
       "</div>"
      ],
      "text/plain": [
       "                                         count               mean\n",
       "                            square_meter_price square_meter_price\n",
       "locality_name_no_duplicates                                      \n",
       "Санкт-Петербург                          15720      114856.307596"
      ]
     },
     "metadata": {},
     "output_type": "display_data"
    }
   ],
   "source": [
    "display(temp[temp[('mean', 'square_meter_price')] == temp[('mean', 'square_meter_price')].max()])"
   ]
  },
  {
   "cell_type": "markdown",
   "metadata": {},
   "source": [
    "И минимальное значение"
   ]
  },
  {
   "cell_type": "code",
   "execution_count": 62,
   "metadata": {},
   "outputs": [
    {
     "data": {
      "text/html": [
       "<div>\n",
       "<style scoped>\n",
       "    .dataframe tbody tr th:only-of-type {\n",
       "        vertical-align: middle;\n",
       "    }\n",
       "\n",
       "    .dataframe tbody tr th {\n",
       "        vertical-align: top;\n",
       "    }\n",
       "\n",
       "    .dataframe thead tr th {\n",
       "        text-align: left;\n",
       "    }\n",
       "\n",
       "    .dataframe thead tr:last-of-type th {\n",
       "        text-align: right;\n",
       "    }\n",
       "</style>\n",
       "<table border=\"1\" class=\"dataframe\">\n",
       "  <thead>\n",
       "    <tr>\n",
       "      <th></th>\n",
       "      <th>count</th>\n",
       "      <th>mean</th>\n",
       "    </tr>\n",
       "    <tr>\n",
       "      <th></th>\n",
       "      <th>square_meter_price</th>\n",
       "      <th>square_meter_price</th>\n",
       "    </tr>\n",
       "    <tr>\n",
       "      <th>locality_name_no_duplicates</th>\n",
       "      <th></th>\n",
       "      <th></th>\n",
       "    </tr>\n",
       "  </thead>\n",
       "  <tbody>\n",
       "    <tr>\n",
       "      <th>Выборг</th>\n",
       "      <td>237</td>\n",
       "      <td>58141.909153</td>\n",
       "    </tr>\n",
       "  </tbody>\n",
       "</table>\n",
       "</div>"
      ],
      "text/plain": [
       "                                         count               mean\n",
       "                            square_meter_price square_meter_price\n",
       "locality_name_no_duplicates                                      \n",
       "Выборг                                     237       58141.909153"
      ]
     },
     "metadata": {},
     "output_type": "display_data"
    }
   ],
   "source": [
    "display(temp[temp[('mean', 'square_meter_price')] == temp[('mean', 'square_meter_price')].min()])"
   ]
  },
  {
   "cell_type": "markdown",
   "metadata": {},
   "source": [
    "**Вывод:** Из 10 населенных пунктов с наибольшим количеством объявлений по продаже Санкт-Петербург занимает первое место и по количеству объявлений и по средней стоимости одного квадратного метра жилья, а Выборг последнее"
   ]
  },
  {
   "cell_type": "markdown",
   "metadata": {},
   "source": [
    "Выберем из датафрейма только строки с Санкт-Петербургом"
   ]
  },
  {
   "cell_type": "code",
   "execution_count": 63,
   "metadata": {},
   "outputs": [],
   "source": [
    "data_spb = data[data['locality_name_no_duplicates'] == 'Санкт-Петербург']"
   ]
  },
  {
   "cell_type": "markdown",
   "metadata": {},
   "source": [
    "Создадим сводную таблицу по расстоянию от центра и от средней стоимости жилья"
   ]
  },
  {
   "cell_type": "code",
   "execution_count": 64,
   "metadata": {},
   "outputs": [
    {
     "data": {
      "text/html": [
       "<div>\n",
       "<style scoped>\n",
       "    .dataframe tbody tr th:only-of-type {\n",
       "        vertical-align: middle;\n",
       "    }\n",
       "\n",
       "    .dataframe tbody tr th {\n",
       "        vertical-align: top;\n",
       "    }\n",
       "\n",
       "    .dataframe thead th {\n",
       "        text-align: right;\n",
       "    }\n",
       "</style>\n",
       "<table border=\"1\" class=\"dataframe\">\n",
       "  <thead>\n",
       "    <tr style=\"text-align: right;\">\n",
       "      <th></th>\n",
       "      <th>last_price_mln</th>\n",
       "    </tr>\n",
       "    <tr>\n",
       "      <th>city_centers_nearest_km</th>\n",
       "      <th></th>\n",
       "    </tr>\n",
       "  </thead>\n",
       "  <tbody>\n",
       "    <tr>\n",
       "      <th>0.0</th>\n",
       "      <td>31.449116</td>\n",
       "    </tr>\n",
       "    <tr>\n",
       "      <th>1.0</th>\n",
       "      <td>21.206721</td>\n",
       "    </tr>\n",
       "    <tr>\n",
       "      <th>2.0</th>\n",
       "      <td>17.788320</td>\n",
       "    </tr>\n",
       "    <tr>\n",
       "      <th>3.0</th>\n",
       "      <td>11.126581</td>\n",
       "    </tr>\n",
       "    <tr>\n",
       "      <th>4.0</th>\n",
       "      <td>13.304280</td>\n",
       "    </tr>\n",
       "    <tr>\n",
       "      <th>5.0</th>\n",
       "      <td>14.499121</td>\n",
       "    </tr>\n",
       "    <tr>\n",
       "      <th>6.0</th>\n",
       "      <td>15.338418</td>\n",
       "    </tr>\n",
       "    <tr>\n",
       "      <th>7.0</th>\n",
       "      <td>14.775153</td>\n",
       "    </tr>\n",
       "    <tr>\n",
       "      <th>8.0</th>\n",
       "      <td>9.957717</td>\n",
       "    </tr>\n",
       "    <tr>\n",
       "      <th>9.0</th>\n",
       "      <td>6.962379</td>\n",
       "    </tr>\n",
       "    <tr>\n",
       "      <th>10.0</th>\n",
       "      <td>6.504119</td>\n",
       "    </tr>\n",
       "    <tr>\n",
       "      <th>11.0</th>\n",
       "      <td>6.250815</td>\n",
       "    </tr>\n",
       "    <tr>\n",
       "      <th>12.0</th>\n",
       "      <td>5.828545</td>\n",
       "    </tr>\n",
       "    <tr>\n",
       "      <th>13.0</th>\n",
       "      <td>6.083141</td>\n",
       "    </tr>\n",
       "    <tr>\n",
       "      <th>14.0</th>\n",
       "      <td>5.629101</td>\n",
       "    </tr>\n",
       "    <tr>\n",
       "      <th>15.0</th>\n",
       "      <td>5.884751</td>\n",
       "    </tr>\n",
       "    <tr>\n",
       "      <th>16.0</th>\n",
       "      <td>5.373131</td>\n",
       "    </tr>\n",
       "    <tr>\n",
       "      <th>17.0</th>\n",
       "      <td>5.292395</td>\n",
       "    </tr>\n",
       "    <tr>\n",
       "      <th>18.0</th>\n",
       "      <td>5.091331</td>\n",
       "    </tr>\n",
       "    <tr>\n",
       "      <th>19.0</th>\n",
       "      <td>5.037675</td>\n",
       "    </tr>\n",
       "    <tr>\n",
       "      <th>20.0</th>\n",
       "      <td>5.951465</td>\n",
       "    </tr>\n",
       "    <tr>\n",
       "      <th>21.0</th>\n",
       "      <td>5.493469</td>\n",
       "    </tr>\n",
       "    <tr>\n",
       "      <th>22.0</th>\n",
       "      <td>5.415524</td>\n",
       "    </tr>\n",
       "    <tr>\n",
       "      <th>23.0</th>\n",
       "      <td>4.985376</td>\n",
       "    </tr>\n",
       "    <tr>\n",
       "      <th>24.0</th>\n",
       "      <td>3.854430</td>\n",
       "    </tr>\n",
       "    <tr>\n",
       "      <th>25.0</th>\n",
       "      <td>4.052840</td>\n",
       "    </tr>\n",
       "    <tr>\n",
       "      <th>26.0</th>\n",
       "      <td>3.973013</td>\n",
       "    </tr>\n",
       "    <tr>\n",
       "      <th>27.0</th>\n",
       "      <td>8.300000</td>\n",
       "    </tr>\n",
       "    <tr>\n",
       "      <th>28.0</th>\n",
       "      <td>5.026429</td>\n",
       "    </tr>\n",
       "    <tr>\n",
       "      <th>29.0</th>\n",
       "      <td>4.236667</td>\n",
       "    </tr>\n",
       "  </tbody>\n",
       "</table>\n",
       "</div>"
      ],
      "text/plain": [
       "                         last_price_mln\n",
       "city_centers_nearest_km                \n",
       "0.0                           31.449116\n",
       "1.0                           21.206721\n",
       "2.0                           17.788320\n",
       "3.0                           11.126581\n",
       "4.0                           13.304280\n",
       "5.0                           14.499121\n",
       "6.0                           15.338418\n",
       "7.0                           14.775153\n",
       "8.0                            9.957717\n",
       "9.0                            6.962379\n",
       "10.0                           6.504119\n",
       "11.0                           6.250815\n",
       "12.0                           5.828545\n",
       "13.0                           6.083141\n",
       "14.0                           5.629101\n",
       "15.0                           5.884751\n",
       "16.0                           5.373131\n",
       "17.0                           5.292395\n",
       "18.0                           5.091331\n",
       "19.0                           5.037675\n",
       "20.0                           5.951465\n",
       "21.0                           5.493469\n",
       "22.0                           5.415524\n",
       "23.0                           4.985376\n",
       "24.0                           3.854430\n",
       "25.0                           4.052840\n",
       "26.0                           3.973013\n",
       "27.0                           8.300000\n",
       "28.0                           5.026429\n",
       "29.0                           4.236667"
      ]
     },
     "execution_count": 64,
     "metadata": {},
     "output_type": "execute_result"
    }
   ],
   "source": [
    "data_spb.pivot_table(index='city_centers_nearest_km', values='last_price_mln')"
   ]
  },
  {
   "cell_type": "markdown",
   "metadata": {},
   "source": [
    "Выведем barplot для этой таблицы для наглядности "
   ]
  },
  {
   "cell_type": "code",
   "execution_count": 65,
   "metadata": {},
   "outputs": [
    {
     "data": {
      "text/plain": [
       "<AxesSubplot:xlabel='city_centers_nearest_km'>"
      ]
     },
     "execution_count": 65,
     "metadata": {},
     "output_type": "execute_result"
    },
    {
     "data": {
      "image/png": "[encoded data removed]",
      "text/plain": [
       "<Figure size 432x288 with 1 Axes>"
      ]
     },
     "metadata": {
      "needs_background": "light"
     },
     "output_type": "display_data"
    }
   ],
   "source": [
    "data_spb.pivot_table(index='city_centers_nearest_km', values='last_price_mln').plot()"
   ]
  },
  {
   "cell_type": "markdown",
   "metadata": {},
   "source": [
    "**Вывод:** Чем дальше квартира расположена от центра города, тем она дешевле (в среднем)"
   ]
  },
  {
   "cell_type": "markdown",
   "metadata": {},
   "source": [
    "### Общий вывод"
   ]
  },
  {
   "cell_type": "markdown",
   "metadata": {},
   "source": [
    "Была проведена предобработка данных, а так же добавлены все необходимые для работы новые столбцы.\n",
    "\n"
   ]
  },
  {
   "cell_type": "markdown",
   "metadata": {},
   "source": [
    "Во время проведения исследовательского анализа данных мы проанализировали скорость продажи квартир. График показывал что большая часть квартир продавались меньше чем за 200 дней."
   ]
  },
  {
   "cell_type": "markdown",
   "metadata": {},
   "source": [
    "Проверили корреляцию стоимости от разных факторов и выяснили что стоимость взаимосвязана с площадью квартиры (что логично). Так же выяснилось что медианая стоимость квартир на первом и последнем этахаж ниже чем на других."
   ]
  },
  {
   "cell_type": "markdown",
   "metadata": {},
   "source": [
    "Еще можно сказать что квартиры в июне стояли дешевле чем в другие месяца, а золотым годом для продажи недвижимости стал 2014 (стоимость квартир в 2014 году была высокая)"
   ]
  },
  {
   "cell_type": "markdown",
   "metadata": {},
   "source": [
    "Так же в ходе исследования было выявлено что больше всего объявлений было в Санкт-Петербурге и там же самая высокая стоимость за 1 квадратный метр."
   ]
  },
  {
   "cell_type": "markdown",
   "metadata": {},
   "source": [
    "И последнее. Изучая данные по Санкт-Петербургу было обнаружено что стоимость квартир сильно зависит от того насколько далеко она рассположена от центра. Разница в стоимости ощутима на первых 9-10 километро, а дальше снижение становится более плавным. В среднем стоимость одного километра составляет почти 1 миллион."
   ]
  }
 ],
 "metadata": {
  "ExecuteTimeLog": [
   {
    "duration": 658,
    "start_time": "2022-11-08T10:33:54.105Z"
   },
   {
    "duration": 91,
    "start_time": "2022-11-08T10:34:01.764Z"
   },
   {
    "duration": 114,
    "start_time": "2022-11-08T10:34:19.769Z"
   },
   {
    "duration": 93,
    "start_time": "2022-11-08T10:34:39.468Z"
   },
   {
    "duration": 120,
    "start_time": "2022-11-08T10:34:49.764Z"
   },
   {
    "duration": 2417,
    "start_time": "2022-11-08T10:35:13.124Z"
   },
   {
    "duration": 127,
    "start_time": "2022-11-08T10:35:48.548Z"
   },
   {
    "duration": 15,
    "start_time": "2022-11-08T10:35:50.604Z"
   },
   {
    "duration": 1994,
    "start_time": "2022-11-08T10:35:52.411Z"
   },
   {
    "duration": 10,
    "start_time": "2022-11-08T10:39:50.949Z"
   },
   {
    "duration": 1264,
    "start_time": "2022-11-08T10:41:03.492Z"
   },
   {
    "duration": 2197,
    "start_time": "2022-11-08T10:41:16.547Z"
   },
   {
    "duration": 2628,
    "start_time": "2022-11-08T10:41:26.906Z"
   },
   {
    "duration": 12,
    "start_time": "2022-11-08T10:43:05.523Z"
   },
   {
    "duration": 13,
    "start_time": "2022-11-08T10:43:07.387Z"
   },
   {
    "duration": 15,
    "start_time": "2022-11-08T10:43:26.962Z"
   },
   {
    "duration": 124,
    "start_time": "2022-11-08T10:43:34.655Z"
   },
   {
    "duration": 15,
    "start_time": "2022-11-08T10:43:39.266Z"
   },
   {
    "duration": 15,
    "start_time": "2022-11-08T10:43:43.825Z"
   },
   {
    "duration": 2268,
    "start_time": "2022-11-08T10:43:48.578Z"
   },
   {
    "duration": 16,
    "start_time": "2022-11-08T10:43:53.122Z"
   },
   {
    "duration": 16,
    "start_time": "2022-11-08T10:43:58.377Z"
   },
   {
    "duration": 6,
    "start_time": "2022-11-08T10:47:00.106Z"
   },
   {
    "duration": 7,
    "start_time": "2022-11-08T10:48:19.146Z"
   },
   {
    "duration": 11,
    "start_time": "2022-11-08T10:48:38.307Z"
   },
   {
    "duration": 11,
    "start_time": "2022-11-08T10:48:46.482Z"
   },
   {
    "duration": 11,
    "start_time": "2022-11-08T10:48:47.570Z"
   },
   {
    "duration": 16,
    "start_time": "2022-11-08T10:48:56.435Z"
   },
   {
    "duration": 8,
    "start_time": "2022-11-08T10:49:33.462Z"
   },
   {
    "duration": 16,
    "start_time": "2022-11-08T10:49:37.129Z"
   },
   {
    "duration": 4,
    "start_time": "2022-11-08T10:50:05.073Z"
   },
   {
    "duration": 16,
    "start_time": "2022-11-08T10:50:09.257Z"
   },
   {
    "duration": 4,
    "start_time": "2022-11-08T10:50:24.521Z"
   },
   {
    "duration": 4,
    "start_time": "2022-11-08T10:50:26.081Z"
   },
   {
    "duration": 12,
    "start_time": "2022-11-08T10:50:48.857Z"
   },
   {
    "duration": 757,
    "start_time": "2022-11-08T15:02:18.701Z"
   },
   {
    "duration": 14,
    "start_time": "2022-11-08T15:02:39.731Z"
   },
   {
    "duration": 2717,
    "start_time": "2022-11-08T15:02:57.400Z"
   },
   {
    "duration": 2144,
    "start_time": "2022-11-08T15:03:34.992Z"
   },
   {
    "duration": 2114,
    "start_time": "2022-11-08T15:03:42.328Z"
   },
   {
    "duration": 10,
    "start_time": "2022-11-08T15:04:31.080Z"
   },
   {
    "duration": 18,
    "start_time": "2022-11-08T15:05:16.472Z"
   },
   {
    "duration": 6,
    "start_time": "2022-11-08T15:06:24.896Z"
   },
   {
    "duration": 8,
    "start_time": "2022-11-08T15:07:29.856Z"
   },
   {
    "duration": 13,
    "start_time": "2022-11-08T15:07:37.488Z"
   },
   {
    "duration": 10,
    "start_time": "2022-11-08T15:09:26.846Z"
   },
   {
    "duration": 5,
    "start_time": "2022-11-08T15:09:44.935Z"
   },
   {
    "duration": 18,
    "start_time": "2022-11-08T15:10:23.328Z"
   },
   {
    "duration": 1360,
    "start_time": "2022-11-08T15:13:03.599Z"
   },
   {
    "duration": 6,
    "start_time": "2022-11-08T15:13:11.671Z"
   },
   {
    "duration": 11,
    "start_time": "2022-11-08T15:13:28.303Z"
   },
   {
    "duration": 7,
    "start_time": "2022-11-08T15:13:38.807Z"
   },
   {
    "duration": 9,
    "start_time": "2022-11-08T15:14:20.367Z"
   },
   {
    "duration": 13,
    "start_time": "2022-11-08T15:15:25.023Z"
   },
   {
    "duration": 16,
    "start_time": "2022-11-08T15:15:38.183Z"
   },
   {
    "duration": 9,
    "start_time": "2022-11-08T15:16:08.335Z"
   },
   {
    "duration": 486,
    "start_time": "2022-11-08T15:16:25.218Z"
   },
   {
    "duration": 4,
    "start_time": "2022-11-08T15:16:31.457Z"
   },
   {
    "duration": 5,
    "start_time": "2022-11-08T15:16:34.432Z"
   },
   {
    "duration": 14,
    "start_time": "2022-11-08T15:16:35.982Z"
   },
   {
    "duration": 11,
    "start_time": "2022-11-08T15:17:09.351Z"
   },
   {
    "duration": 6,
    "start_time": "2022-11-08T15:18:00.359Z"
   },
   {
    "duration": 129,
    "start_time": "2022-11-08T15:18:05.720Z"
   },
   {
    "duration": 4,
    "start_time": "2022-11-08T15:18:09.207Z"
   },
   {
    "duration": 6,
    "start_time": "2022-11-08T15:18:10.399Z"
   },
   {
    "duration": 10,
    "start_time": "2022-11-08T15:18:11.023Z"
   },
   {
    "duration": 6,
    "start_time": "2022-11-08T15:18:15.647Z"
   },
   {
    "duration": 59,
    "start_time": "2022-11-08T15:18:35.142Z"
   },
   {
    "duration": 725,
    "start_time": "2022-11-09T09:07:28.417Z"
   },
   {
    "duration": 85,
    "start_time": "2022-11-09T09:07:35.717Z"
   },
   {
    "duration": 5,
    "start_time": "2022-11-09T09:07:49.914Z"
   },
   {
    "duration": 6,
    "start_time": "2022-11-09T09:08:05.654Z"
   },
   {
    "duration": 13,
    "start_time": "2022-11-09T09:08:12.253Z"
   },
   {
    "duration": 41,
    "start_time": "2022-11-09T09:09:28.414Z"
   },
   {
    "duration": 63,
    "start_time": "2022-11-09T09:12:34.566Z"
   },
   {
    "duration": 744,
    "start_time": "2022-11-09T09:12:53.775Z"
   },
   {
    "duration": 10,
    "start_time": "2022-11-09T09:13:09.390Z"
   },
   {
    "duration": 30,
    "start_time": "2022-11-09T09:13:21.125Z"
   },
   {
    "duration": 7,
    "start_time": "2022-11-09T09:13:31.544Z"
   },
   {
    "duration": 67,
    "start_time": "2022-11-09T09:13:36.526Z"
   },
   {
    "duration": 39,
    "start_time": "2022-11-09T09:13:56.246Z"
   },
   {
    "duration": 34,
    "start_time": "2022-11-09T09:14:33.923Z"
   },
   {
    "duration": 5,
    "start_time": "2022-11-09T09:17:57.415Z"
   },
   {
    "duration": 25,
    "start_time": "2022-11-09T09:18:10.293Z"
   },
   {
    "duration": 5,
    "start_time": "2022-11-09T09:20:10.134Z"
   },
   {
    "duration": 23,
    "start_time": "2022-11-09T09:20:10.997Z"
   },
   {
    "duration": 488,
    "start_time": "2022-11-09T09:20:46.338Z"
   },
   {
    "duration": 4,
    "start_time": "2022-11-09T09:20:49.716Z"
   },
   {
    "duration": 6,
    "start_time": "2022-11-09T09:20:53.064Z"
   },
   {
    "duration": 15,
    "start_time": "2022-11-09T09:20:56.632Z"
   },
   {
    "duration": 8,
    "start_time": "2022-11-09T09:21:02.157Z"
   },
   {
    "duration": 6,
    "start_time": "2022-11-09T09:21:03.503Z"
   },
   {
    "duration": 28,
    "start_time": "2022-11-09T09:21:04.557Z"
   },
   {
    "duration": 9,
    "start_time": "2022-11-09T09:22:02.685Z"
   },
   {
    "duration": 25,
    "start_time": "2022-11-09T09:22:05.013Z"
   },
   {
    "duration": 12,
    "start_time": "2022-11-09T09:22:35.060Z"
   },
   {
    "duration": 23,
    "start_time": "2022-11-09T09:22:36.157Z"
   },
   {
    "duration": 18,
    "start_time": "2022-11-09T09:28:27.424Z"
   },
   {
    "duration": 26,
    "start_time": "2022-11-09T09:28:29.156Z"
   },
   {
    "duration": 13,
    "start_time": "2022-11-09T09:29:01.596Z"
   },
   {
    "duration": 29,
    "start_time": "2022-11-09T09:29:04.125Z"
   },
   {
    "duration": 103,
    "start_time": "2022-11-09T09:29:20.268Z"
   },
   {
    "duration": 4,
    "start_time": "2022-11-09T09:29:22.816Z"
   },
   {
    "duration": 5,
    "start_time": "2022-11-09T09:29:24.615Z"
   },
   {
    "duration": 17,
    "start_time": "2022-11-09T09:29:25.228Z"
   },
   {
    "duration": 7,
    "start_time": "2022-11-09T09:29:27.580Z"
   },
   {
    "duration": 14,
    "start_time": "2022-11-09T09:29:28.692Z"
   },
   {
    "duration": 24,
    "start_time": "2022-11-09T09:29:30.044Z"
   },
   {
    "duration": 3,
    "start_time": "2022-11-09T09:35:22.237Z"
   },
   {
    "duration": 345,
    "start_time": "2022-11-09T09:36:43.084Z"
   },
   {
    "duration": 28,
    "start_time": "2022-11-09T09:36:46.434Z"
   },
   {
    "duration": 49,
    "start_time": "2022-11-09T09:37:02.855Z"
   },
   {
    "duration": 318,
    "start_time": "2022-11-09T09:39:27.756Z"
   },
   {
    "duration": 313,
    "start_time": "2022-11-09T09:39:38.646Z"
   },
   {
    "duration": 23,
    "start_time": "2022-11-09T09:39:40.976Z"
   },
   {
    "duration": 14,
    "start_time": "2022-11-09T09:45:29.768Z"
   },
   {
    "duration": 24,
    "start_time": "2022-11-09T09:45:32.837Z"
   },
   {
    "duration": 65,
    "start_time": "2022-11-09T09:46:38.197Z"
   },
   {
    "duration": 49,
    "start_time": "2022-11-09T09:47:02.925Z"
   },
   {
    "duration": 21,
    "start_time": "2022-11-09T09:47:36.813Z"
   },
   {
    "duration": 10,
    "start_time": "2022-11-09T09:48:20.124Z"
   },
   {
    "duration": 752,
    "start_time": "2022-11-09T09:48:32.669Z"
   },
   {
    "duration": 11,
    "start_time": "2022-11-09T09:48:39.781Z"
   },
   {
    "duration": 11,
    "start_time": "2022-11-09T09:48:39.886Z"
   },
   {
    "duration": 14,
    "start_time": "2022-11-09T09:49:40.541Z"
   },
   {
    "duration": 11,
    "start_time": "2022-11-09T09:49:42.364Z"
   },
   {
    "duration": 6,
    "start_time": "2022-11-09T09:49:55.899Z"
   },
   {
    "duration": 15,
    "start_time": "2022-11-09T09:50:57.277Z"
   },
   {
    "duration": 10,
    "start_time": "2022-11-09T09:50:59.524Z"
   },
   {
    "duration": 4,
    "start_time": "2022-11-09T09:56:48.996Z"
   },
   {
    "duration": 7,
    "start_time": "2022-11-09T09:58:45.693Z"
   },
   {
    "duration": 7,
    "start_time": "2022-11-09T10:00:33.628Z"
   },
   {
    "duration": 10,
    "start_time": "2022-11-09T10:06:03.318Z"
   },
   {
    "duration": 4,
    "start_time": "2022-11-09T10:09:18.317Z"
   },
   {
    "duration": 3,
    "start_time": "2022-11-09T10:09:20.787Z"
   },
   {
    "duration": 69,
    "start_time": "2022-11-09T10:11:19.051Z"
   },
   {
    "duration": 11,
    "start_time": "2022-11-09T10:18:29.075Z"
   },
   {
    "duration": 12,
    "start_time": "2022-11-09T10:18:39.767Z"
   },
   {
    "duration": 11,
    "start_time": "2022-11-09T11:08:47.474Z"
   },
   {
    "duration": 524,
    "start_time": "2022-11-09T11:12:38.124Z"
   },
   {
    "duration": 15,
    "start_time": "2022-11-09T11:13:37.547Z"
   },
   {
    "duration": 2488,
    "start_time": "2022-11-09T11:13:40.201Z"
   },
   {
    "duration": 10,
    "start_time": "2022-11-09T11:14:51.409Z"
   },
   {
    "duration": 5,
    "start_time": "2022-11-09T11:19:06.561Z"
   },
   {
    "duration": 76,
    "start_time": "2022-11-09T11:21:50.863Z"
   },
   {
    "duration": 23,
    "start_time": "2022-11-09T11:21:56.423Z"
   },
   {
    "duration": 49,
    "start_time": "2022-11-09T11:22:52.767Z"
   },
   {
    "duration": 41,
    "start_time": "2022-11-09T11:23:09.607Z"
   },
   {
    "duration": 8,
    "start_time": "2022-11-09T11:23:35.500Z"
   },
   {
    "duration": 38,
    "start_time": "2022-11-09T11:23:50.038Z"
   },
   {
    "duration": 8,
    "start_time": "2022-11-09T11:24:09.751Z"
   },
   {
    "duration": 11,
    "start_time": "2022-11-09T11:24:49.912Z"
   },
   {
    "duration": 8,
    "start_time": "2022-11-09T11:25:49.823Z"
   },
   {
    "duration": 7,
    "start_time": "2022-11-09T11:25:53.982Z"
   },
   {
    "duration": 8,
    "start_time": "2022-11-09T11:26:12.957Z"
   },
   {
    "duration": 8,
    "start_time": "2022-11-09T11:27:36.951Z"
   },
   {
    "duration": 9,
    "start_time": "2022-11-09T11:28:49.580Z"
   },
   {
    "duration": 73,
    "start_time": "2022-11-09T11:31:56.100Z"
   },
   {
    "duration": 4,
    "start_time": "2022-11-09T11:32:15.004Z"
   },
   {
    "duration": 4,
    "start_time": "2022-11-09T11:32:30.028Z"
   },
   {
    "duration": 51,
    "start_time": "2022-11-09T11:32:33.884Z"
   },
   {
    "duration": 9,
    "start_time": "2022-11-09T11:32:43.212Z"
   },
   {
    "duration": 37,
    "start_time": "2022-11-09T11:33:43.356Z"
   },
   {
    "duration": 6,
    "start_time": "2022-11-09T11:33:53.965Z"
   },
   {
    "duration": 7,
    "start_time": "2022-11-09T11:33:59.252Z"
   },
   {
    "duration": 4,
    "start_time": "2022-11-09T11:51:53.404Z"
   },
   {
    "duration": 40,
    "start_time": "2022-11-09T11:55:31.547Z"
   },
   {
    "duration": 8,
    "start_time": "2022-11-09T11:56:12.182Z"
   },
   {
    "duration": 10,
    "start_time": "2022-11-09T12:00:07.735Z"
   },
   {
    "duration": 28,
    "start_time": "2022-11-09T12:05:30.017Z"
   },
   {
    "duration": 24,
    "start_time": "2022-11-09T12:05:36.441Z"
   },
   {
    "duration": 18,
    "start_time": "2022-11-09T12:06:50.633Z"
   },
   {
    "duration": 23,
    "start_time": "2022-11-09T12:06:54.001Z"
   },
   {
    "duration": 8,
    "start_time": "2022-11-09T12:11:02.664Z"
   },
   {
    "duration": 15,
    "start_time": "2022-11-09T12:12:18.266Z"
   },
   {
    "duration": 20,
    "start_time": "2022-11-09T12:13:23.096Z"
   },
   {
    "duration": 6,
    "start_time": "2022-11-09T12:13:29.709Z"
   },
   {
    "duration": 25,
    "start_time": "2022-11-09T12:14:15.304Z"
   },
   {
    "duration": 12,
    "start_time": "2022-11-09T12:14:29.003Z"
   },
   {
    "duration": 39,
    "start_time": "2022-11-09T12:15:30.416Z"
   },
   {
    "duration": 10,
    "start_time": "2022-11-09T12:26:38.685Z"
   },
   {
    "duration": 10,
    "start_time": "2022-11-09T12:26:51.166Z"
   },
   {
    "duration": 7,
    "start_time": "2022-11-09T12:27:07.597Z"
   },
   {
    "duration": 6,
    "start_time": "2022-11-09T12:27:17.229Z"
   },
   {
    "duration": 9,
    "start_time": "2022-11-09T12:27:28.751Z"
   },
   {
    "duration": 8,
    "start_time": "2022-11-09T12:30:53.309Z"
   },
   {
    "duration": 8,
    "start_time": "2022-11-09T12:31:03.240Z"
   },
   {
    "duration": 5,
    "start_time": "2022-11-09T12:31:10.973Z"
   },
   {
    "duration": 9,
    "start_time": "2022-11-09T12:31:12.508Z"
   },
   {
    "duration": 8,
    "start_time": "2022-11-09T12:31:27.357Z"
   },
   {
    "duration": 6,
    "start_time": "2022-11-09T12:31:34.197Z"
   },
   {
    "duration": 6,
    "start_time": "2022-11-09T12:31:40.781Z"
   },
   {
    "duration": 6,
    "start_time": "2022-11-09T12:32:08.388Z"
   },
   {
    "duration": 5,
    "start_time": "2022-11-09T12:32:23.205Z"
   },
   {
    "duration": 9,
    "start_time": "2022-11-09T13:10:47.089Z"
   },
   {
    "duration": 7,
    "start_time": "2022-11-09T13:11:00.520Z"
   },
   {
    "duration": 8,
    "start_time": "2022-11-09T13:12:33.328Z"
   },
   {
    "duration": 13,
    "start_time": "2022-11-09T13:12:59.409Z"
   },
   {
    "duration": 12,
    "start_time": "2022-11-09T13:13:03.745Z"
   },
   {
    "duration": 16,
    "start_time": "2022-11-09T13:14:22.808Z"
   },
   {
    "duration": 10,
    "start_time": "2022-11-09T13:14:41.018Z"
   },
   {
    "duration": 23,
    "start_time": "2022-11-09T13:14:47.043Z"
   },
   {
    "duration": 21,
    "start_time": "2022-11-09T13:16:45.784Z"
   },
   {
    "duration": 33,
    "start_time": "2022-11-09T13:17:30.444Z"
   },
   {
    "duration": 19,
    "start_time": "2022-11-09T13:17:48.824Z"
   },
   {
    "duration": 32,
    "start_time": "2022-11-09T13:31:33.718Z"
   },
   {
    "duration": 38,
    "start_time": "2022-11-09T13:31:45.047Z"
   },
   {
    "duration": 31,
    "start_time": "2022-11-09T13:31:47.534Z"
   },
   {
    "duration": 30,
    "start_time": "2022-11-09T13:40:21.695Z"
   },
   {
    "duration": 31,
    "start_time": "2022-11-09T13:40:22.727Z"
   },
   {
    "duration": 32,
    "start_time": "2022-11-09T13:40:22.950Z"
   },
   {
    "duration": 32,
    "start_time": "2022-11-09T13:40:23.183Z"
   },
   {
    "duration": 32,
    "start_time": "2022-11-09T13:40:23.405Z"
   },
   {
    "duration": 32,
    "start_time": "2022-11-09T13:40:23.615Z"
   },
   {
    "duration": 31,
    "start_time": "2022-11-09T13:49:13.940Z"
   },
   {
    "duration": 29,
    "start_time": "2022-11-09T13:50:10.541Z"
   },
   {
    "duration": 66,
    "start_time": "2022-11-09T13:50:53.029Z"
   },
   {
    "duration": 28,
    "start_time": "2022-11-09T13:51:01.493Z"
   },
   {
    "duration": 31,
    "start_time": "2022-11-09T13:51:54.101Z"
   },
   {
    "duration": 28,
    "start_time": "2022-11-09T13:52:09.204Z"
   },
   {
    "duration": 7,
    "start_time": "2022-11-09T13:52:23.772Z"
   },
   {
    "duration": 10,
    "start_time": "2022-11-09T13:52:24.788Z"
   },
   {
    "duration": 114,
    "start_time": "2022-11-09T13:52:33.457Z"
   },
   {
    "duration": 15,
    "start_time": "2022-11-09T13:52:35.324Z"
   },
   {
    "duration": 2129,
    "start_time": "2022-11-09T13:52:37.100Z"
   },
   {
    "duration": 10,
    "start_time": "2022-11-09T13:52:39.523Z"
   },
   {
    "duration": 11,
    "start_time": "2022-11-09T13:52:41.697Z"
   },
   {
    "duration": 4,
    "start_time": "2022-11-09T13:52:43.573Z"
   },
   {
    "duration": 8,
    "start_time": "2022-11-09T13:52:44.979Z"
   },
   {
    "duration": 6,
    "start_time": "2022-11-09T13:52:46.660Z"
   },
   {
    "duration": 5,
    "start_time": "2022-11-09T13:52:48.563Z"
   },
   {
    "duration": 9,
    "start_time": "2022-11-09T13:52:52.595Z"
   },
   {
    "duration": 7,
    "start_time": "2022-11-09T13:52:55.964Z"
   },
   {
    "duration": 32,
    "start_time": "2022-11-09T13:52:58.094Z"
   },
   {
    "duration": 774,
    "start_time": "2022-11-09T13:53:03.998Z"
   },
   {
    "duration": 7,
    "start_time": "2022-11-09T13:53:08.452Z"
   },
   {
    "duration": 16,
    "start_time": "2022-11-09T13:53:20.204Z"
   },
   {
    "duration": 32,
    "start_time": "2022-11-09T13:53:31.620Z"
   },
   {
    "duration": 40,
    "start_time": "2022-11-09T13:54:07.916Z"
   },
   {
    "duration": 32,
    "start_time": "2022-11-09T13:54:14.516Z"
   },
   {
    "duration": 36,
    "start_time": "2022-11-09T13:57:43.580Z"
   },
   {
    "duration": 49,
    "start_time": "2022-11-09T13:58:43.468Z"
   },
   {
    "duration": 40,
    "start_time": "2022-11-09T13:58:57.363Z"
   },
   {
    "duration": 59,
    "start_time": "2022-11-09T13:59:56.260Z"
   },
   {
    "duration": 108,
    "start_time": "2022-11-09T14:04:33.628Z"
   },
   {
    "duration": 6,
    "start_time": "2022-11-09T14:06:17.220Z"
   },
   {
    "duration": 6,
    "start_time": "2022-11-09T14:06:56.849Z"
   },
   {
    "duration": 149,
    "start_time": "2022-11-09T14:07:24.674Z"
   },
   {
    "duration": 9,
    "start_time": "2022-11-09T14:07:36.307Z"
   },
   {
    "duration": 9,
    "start_time": "2022-11-09T14:07:52.618Z"
   },
   {
    "duration": 968,
    "start_time": "2022-11-09T14:14:04.332Z"
   },
   {
    "duration": 47,
    "start_time": "2022-11-09T14:14:08.362Z"
   },
   {
    "duration": 38,
    "start_time": "2022-11-09T14:14:13.433Z"
   },
   {
    "duration": 7,
    "start_time": "2022-11-09T14:14:15.097Z"
   },
   {
    "duration": 6,
    "start_time": "2022-11-09T14:23:26.504Z"
   },
   {
    "duration": 5,
    "start_time": "2022-11-09T14:23:31.544Z"
   },
   {
    "duration": 6,
    "start_time": "2022-11-09T14:31:44.319Z"
   },
   {
    "duration": 7,
    "start_time": "2022-11-09T14:32:03.239Z"
   },
   {
    "duration": 7,
    "start_time": "2022-11-09T14:32:21.207Z"
   },
   {
    "duration": 8,
    "start_time": "2022-11-09T14:32:42.376Z"
   },
   {
    "duration": 60,
    "start_time": "2022-11-09T14:33:12.255Z"
   },
   {
    "duration": 7,
    "start_time": "2022-11-09T14:33:22.623Z"
   },
   {
    "duration": 7,
    "start_time": "2022-11-09T14:33:29.975Z"
   },
   {
    "duration": 7,
    "start_time": "2022-11-09T14:33:46.639Z"
   },
   {
    "duration": 10,
    "start_time": "2022-11-09T14:36:06.359Z"
   },
   {
    "duration": 7,
    "start_time": "2022-11-09T14:36:12.526Z"
   },
   {
    "duration": 6,
    "start_time": "2022-11-09T14:36:19.262Z"
   },
   {
    "duration": 8,
    "start_time": "2022-11-09T14:36:56.975Z"
   },
   {
    "duration": 7,
    "start_time": "2022-11-09T14:37:08.104Z"
   },
   {
    "duration": 7,
    "start_time": "2022-11-09T14:37:23.199Z"
   },
   {
    "duration": 6,
    "start_time": "2022-11-09T14:42:59.448Z"
   },
   {
    "duration": 49,
    "start_time": "2022-11-09T14:45:30.765Z"
   },
   {
    "duration": 6,
    "start_time": "2022-11-09T14:48:34.933Z"
   },
   {
    "duration": 128,
    "start_time": "2022-11-09T14:57:54.419Z"
   },
   {
    "duration": 31,
    "start_time": "2022-11-09T14:58:50.373Z"
   },
   {
    "duration": 7,
    "start_time": "2022-11-09T14:59:04.569Z"
   },
   {
    "duration": 134,
    "start_time": "2022-11-09T14:59:24.323Z"
   },
   {
    "duration": 134,
    "start_time": "2022-11-09T14:59:52.195Z"
   },
   {
    "duration": 7,
    "start_time": "2022-11-09T15:00:07.162Z"
   },
   {
    "duration": 7,
    "start_time": "2022-11-09T15:00:25.875Z"
   },
   {
    "duration": 7,
    "start_time": "2022-11-09T15:00:34.050Z"
   },
   {
    "duration": 7,
    "start_time": "2022-11-09T15:00:49.571Z"
   },
   {
    "duration": 7,
    "start_time": "2022-11-09T15:00:57.083Z"
   },
   {
    "duration": 8,
    "start_time": "2022-11-09T15:01:25.979Z"
   },
   {
    "duration": 9,
    "start_time": "2022-11-09T15:02:06.082Z"
   },
   {
    "duration": 7,
    "start_time": "2022-11-09T15:02:14.218Z"
   },
   {
    "duration": 8,
    "start_time": "2022-11-09T15:03:18.746Z"
   },
   {
    "duration": 9,
    "start_time": "2022-11-09T15:03:26.899Z"
   },
   {
    "duration": 9,
    "start_time": "2022-11-09T15:03:31.202Z"
   },
   {
    "duration": 916,
    "start_time": "2022-11-09T15:07:35.298Z"
   },
   {
    "duration": 5,
    "start_time": "2022-11-09T15:07:58.010Z"
   },
   {
    "duration": 8,
    "start_time": "2022-11-09T15:08:01.523Z"
   },
   {
    "duration": 29,
    "start_time": "2022-11-09T15:09:53.954Z"
   },
   {
    "duration": 53,
    "start_time": "2022-11-09T15:12:46.477Z"
   },
   {
    "duration": 35,
    "start_time": "2022-11-09T15:13:44.738Z"
   },
   {
    "duration": 41,
    "start_time": "2022-11-09T15:14:08.187Z"
   },
   {
    "duration": 39,
    "start_time": "2022-11-09T15:14:13.556Z"
   },
   {
    "duration": 5,
    "start_time": "2022-11-09T15:14:57.570Z"
   },
   {
    "duration": 8,
    "start_time": "2022-11-09T15:15:02.793Z"
   },
   {
    "duration": 7,
    "start_time": "2022-11-09T15:15:30.746Z"
   },
   {
    "duration": 5,
    "start_time": "2022-11-09T15:17:27.145Z"
   },
   {
    "duration": 5,
    "start_time": "2022-11-09T15:25:14.009Z"
   },
   {
    "duration": 3,
    "start_time": "2022-11-09T15:25:33.139Z"
   },
   {
    "duration": 196,
    "start_time": "2022-11-09T15:27:44.561Z"
   },
   {
    "duration": 3,
    "start_time": "2022-11-09T15:28:45.530Z"
   },
   {
    "duration": 262,
    "start_time": "2022-11-09T15:28:47.097Z"
   },
   {
    "duration": 3,
    "start_time": "2022-11-09T15:28:56.017Z"
   },
   {
    "duration": 10,
    "start_time": "2022-11-09T15:28:57.161Z"
   },
   {
    "duration": 5,
    "start_time": "2022-11-09T15:29:08.379Z"
   },
   {
    "duration": 3,
    "start_time": "2022-11-09T15:30:34.633Z"
   },
   {
    "duration": 11,
    "start_time": "2022-11-09T15:30:35.457Z"
   },
   {
    "duration": 7,
    "start_time": "2022-11-09T15:30:36.208Z"
   },
   {
    "duration": 105,
    "start_time": "2022-11-09T15:30:39.624Z"
   },
   {
    "duration": 6,
    "start_time": "2022-11-09T15:30:49.472Z"
   },
   {
    "duration": 4,
    "start_time": "2022-11-09T15:30:50.432Z"
   },
   {
    "duration": 10,
    "start_time": "2022-11-09T15:30:51.440Z"
   },
   {
    "duration": 4,
    "start_time": "2022-11-09T15:30:52.001Z"
   },
   {
    "duration": 6,
    "start_time": "2022-11-09T15:31:38.561Z"
   },
   {
    "duration": 5,
    "start_time": "2022-11-09T15:32:17.970Z"
   },
   {
    "duration": 554,
    "start_time": "2022-11-09T15:33:32.107Z"
   },
   {
    "duration": 14,
    "start_time": "2022-11-09T15:33:38.931Z"
   },
   {
    "duration": 2433,
    "start_time": "2022-11-09T15:33:41.096Z"
   },
   {
    "duration": 9,
    "start_time": "2022-11-09T15:33:52.368Z"
   },
   {
    "duration": 4,
    "start_time": "2022-11-09T15:34:01.367Z"
   },
   {
    "duration": 9,
    "start_time": "2022-11-09T15:34:27.824Z"
   },
   {
    "duration": 4,
    "start_time": "2022-11-09T15:36:26.064Z"
   },
   {
    "duration": 4,
    "start_time": "2022-11-09T15:37:00.520Z"
   },
   {
    "duration": 13,
    "start_time": "2022-11-09T15:37:07.944Z"
   },
   {
    "duration": 12,
    "start_time": "2022-11-09T15:37:52.728Z"
   },
   {
    "duration": 34,
    "start_time": "2022-11-09T15:37:59.848Z"
   },
   {
    "duration": 8,
    "start_time": "2022-11-09T15:38:06.712Z"
   },
   {
    "duration": 35,
    "start_time": "2022-11-09T15:39:15.440Z"
   },
   {
    "duration": 5,
    "start_time": "2022-11-09T15:39:25.224Z"
   },
   {
    "duration": 8,
    "start_time": "2022-11-09T15:39:38.543Z"
   },
   {
    "duration": 5,
    "start_time": "2022-11-09T15:40:14.352Z"
   },
   {
    "duration": 7,
    "start_time": "2022-11-09T15:40:20.895Z"
   },
   {
    "duration": 5,
    "start_time": "2022-11-09T15:41:03.143Z"
   },
   {
    "duration": 6,
    "start_time": "2022-11-09T15:41:36.392Z"
   },
   {
    "duration": 6,
    "start_time": "2022-11-09T15:49:46.903Z"
   },
   {
    "duration": 4,
    "start_time": "2022-11-09T15:50:04.575Z"
   },
   {
    "duration": 5,
    "start_time": "2022-11-09T15:50:18.766Z"
   },
   {
    "duration": 5,
    "start_time": "2022-11-09T15:50:35.014Z"
   },
   {
    "duration": 4,
    "start_time": "2022-11-09T15:50:44.288Z"
   },
   {
    "duration": 4,
    "start_time": "2022-11-09T15:51:22.070Z"
   },
   {
    "duration": 5,
    "start_time": "2022-11-09T15:51:47.870Z"
   },
   {
    "duration": 5,
    "start_time": "2022-11-09T15:54:51.493Z"
   },
   {
    "duration": 5,
    "start_time": "2022-11-09T15:54:54.885Z"
   },
   {
    "duration": 4,
    "start_time": "2022-11-09T15:55:11.175Z"
   },
   {
    "duration": 9,
    "start_time": "2022-11-09T15:55:14.358Z"
   },
   {
    "duration": 5,
    "start_time": "2022-11-09T15:55:37.573Z"
   },
   {
    "duration": 5,
    "start_time": "2022-11-09T15:59:07.524Z"
   },
   {
    "duration": 6,
    "start_time": "2022-11-09T15:59:11.148Z"
   },
   {
    "duration": 9,
    "start_time": "2022-11-09T15:59:13.061Z"
   },
   {
    "duration": 6,
    "start_time": "2022-11-09T15:59:16.285Z"
   },
   {
    "duration": 4,
    "start_time": "2022-11-09T15:59:26.237Z"
   },
   {
    "duration": 341,
    "start_time": "2022-11-09T15:59:31.205Z"
   },
   {
    "duration": 14,
    "start_time": "2022-11-09T15:59:35.629Z"
   },
   {
    "duration": 752,
    "start_time": "2022-11-10T09:40:08.862Z"
   },
   {
    "duration": 15,
    "start_time": "2022-11-10T09:40:13.317Z"
   },
   {
    "duration": 2578,
    "start_time": "2022-11-10T09:40:17.308Z"
   },
   {
    "duration": 9,
    "start_time": "2022-11-10T09:40:40.715Z"
   },
   {
    "duration": 7,
    "start_time": "2022-11-10T09:41:55.428Z"
   },
   {
    "duration": 8,
    "start_time": "2022-11-10T09:42:18.755Z"
   },
   {
    "duration": 5,
    "start_time": "2022-11-10T09:46:20.338Z"
   },
   {
    "duration": 5,
    "start_time": "2022-11-10T09:48:26.666Z"
   },
   {
    "duration": 8,
    "start_time": "2022-11-10T09:56:26.241Z"
   },
   {
    "duration": 17,
    "start_time": "2022-11-10T09:56:39.600Z"
   },
   {
    "duration": 16,
    "start_time": "2022-11-10T09:57:03.314Z"
   },
   {
    "duration": 63,
    "start_time": "2022-11-10T09:57:29.292Z"
   },
   {
    "duration": 57,
    "start_time": "2022-11-10T09:57:57.448Z"
   },
   {
    "duration": 20,
    "start_time": "2022-11-10T09:58:35.155Z"
   },
   {
    "duration": 18,
    "start_time": "2022-11-10T09:58:42.009Z"
   },
   {
    "duration": 19,
    "start_time": "2022-11-10T09:58:54.150Z"
   },
   {
    "duration": 53,
    "start_time": "2022-11-10T10:00:40.761Z"
   },
   {
    "duration": 49,
    "start_time": "2022-11-10T10:01:43.310Z"
   },
   {
    "duration": 546,
    "start_time": "2022-11-10T10:09:56.946Z"
   },
   {
    "duration": 20,
    "start_time": "2022-11-10T10:09:59.033Z"
   },
   {
    "duration": 2919,
    "start_time": "2022-11-10T10:10:00.823Z"
   },
   {
    "duration": 10,
    "start_time": "2022-11-10T10:10:05.695Z"
   },
   {
    "duration": 4,
    "start_time": "2022-11-10T10:10:07.183Z"
   },
   {
    "duration": 8,
    "start_time": "2022-11-10T10:10:08.783Z"
   },
   {
    "duration": 5,
    "start_time": "2022-11-10T10:10:09.951Z"
   },
   {
    "duration": 6,
    "start_time": "2022-11-10T10:10:11.177Z"
   },
   {
    "duration": 13,
    "start_time": "2022-11-10T10:10:35.847Z"
   },
   {
    "duration": 29,
    "start_time": "2022-11-10T10:10:41.783Z"
   },
   {
    "duration": 10,
    "start_time": "2022-11-10T10:10:54.247Z"
   },
   {
    "duration": 36,
    "start_time": "2022-11-10T10:11:50.568Z"
   },
   {
    "duration": 6,
    "start_time": "2022-11-10T10:11:53.135Z"
   },
   {
    "duration": 4,
    "start_time": "2022-11-10T10:14:48.895Z"
   },
   {
    "duration": 16,
    "start_time": "2022-11-10T10:15:39.927Z"
   },
   {
    "duration": 5,
    "start_time": "2022-11-10T10:15:47.080Z"
   },
   {
    "duration": 4,
    "start_time": "2022-11-10T10:16:32.294Z"
   },
   {
    "duration": 11,
    "start_time": "2022-11-10T10:18:48.807Z"
   },
   {
    "duration": 5,
    "start_time": "2022-11-10T10:18:52.360Z"
   },
   {
    "duration": 19,
    "start_time": "2022-11-10T10:27:58.221Z"
   },
   {
    "duration": 7,
    "start_time": "2022-11-10T10:28:04.062Z"
   },
   {
    "duration": 9,
    "start_time": "2022-11-10T10:28:31.557Z"
   },
   {
    "duration": 17,
    "start_time": "2022-11-10T10:32:39.077Z"
   },
   {
    "duration": 18,
    "start_time": "2022-11-10T10:32:45.069Z"
   },
   {
    "duration": 50,
    "start_time": "2022-11-10T10:34:48.341Z"
   },
   {
    "duration": 20,
    "start_time": "2022-11-10T10:35:09.175Z"
   },
   {
    "duration": 5,
    "start_time": "2022-11-10T10:36:09.853Z"
   },
   {
    "duration": 583,
    "start_time": "2022-11-10T10:36:31.015Z"
   },
   {
    "duration": 16,
    "start_time": "2022-11-10T10:36:36.206Z"
   },
   {
    "duration": 4,
    "start_time": "2022-11-10T10:36:48.004Z"
   },
   {
    "duration": 2462,
    "start_time": "2022-11-10T10:36:51.100Z"
   },
   {
    "duration": 11,
    "start_time": "2022-11-10T10:36:55.885Z"
   },
   {
    "duration": 5,
    "start_time": "2022-11-10T10:36:57.411Z"
   },
   {
    "duration": 9,
    "start_time": "2022-11-10T10:36:58.830Z"
   },
   {
    "duration": 5,
    "start_time": "2022-11-10T10:37:12.764Z"
   },
   {
    "duration": 6,
    "start_time": "2022-11-10T10:37:15.908Z"
   },
   {
    "duration": 11,
    "start_time": "2022-11-10T10:37:18.388Z"
   },
   {
    "duration": 27,
    "start_time": "2022-11-10T10:37:20.468Z"
   },
   {
    "duration": 10,
    "start_time": "2022-11-10T10:37:22.070Z"
   },
   {
    "duration": 44,
    "start_time": "2022-11-10T10:37:29.781Z"
   },
   {
    "duration": 5,
    "start_time": "2022-11-10T10:37:31.324Z"
   },
   {
    "duration": 5,
    "start_time": "2022-11-10T10:37:33.796Z"
   },
   {
    "duration": 8,
    "start_time": "2022-11-10T10:37:35.524Z"
   },
   {
    "duration": 5,
    "start_time": "2022-11-10T10:37:36.461Z"
   },
   {
    "duration": 4,
    "start_time": "2022-11-10T10:37:37.916Z"
   },
   {
    "duration": 12,
    "start_time": "2022-11-10T10:37:40.011Z"
   },
   {
    "duration": 5,
    "start_time": "2022-11-10T10:37:40.827Z"
   },
   {
    "duration": 6,
    "start_time": "2022-11-10T10:37:45.076Z"
   },
   {
    "duration": 7,
    "start_time": "2022-11-10T10:37:46.205Z"
   },
   {
    "duration": 9,
    "start_time": "2022-11-10T10:37:46.884Z"
   },
   {
    "duration": 7,
    "start_time": "2022-11-10T10:38:08.283Z"
   },
   {
    "duration": 3,
    "start_time": "2022-11-10T10:39:26.212Z"
   },
   {
    "duration": 356,
    "start_time": "2022-11-10T10:39:55.372Z"
   },
   {
    "duration": 93,
    "start_time": "2022-11-10T10:42:28.326Z"
   },
   {
    "duration": 15,
    "start_time": "2022-11-10T10:42:37.116Z"
   },
   {
    "duration": 119,
    "start_time": "2022-11-10T10:48:48.854Z"
   },
   {
    "duration": 18,
    "start_time": "2022-11-10T10:51:25.419Z"
   },
   {
    "duration": 152,
    "start_time": "2022-11-10T10:51:46.744Z"
   },
   {
    "duration": 15,
    "start_time": "2022-11-10T10:52:11.195Z"
   },
   {
    "duration": 171,
    "start_time": "2022-11-10T10:52:34.124Z"
   },
   {
    "duration": 244,
    "start_time": "2022-11-10T10:53:24.124Z"
   },
   {
    "duration": 167,
    "start_time": "2022-11-10T10:55:17.806Z"
   },
   {
    "duration": 151,
    "start_time": "2022-11-10T10:55:34.012Z"
   },
   {
    "duration": 183,
    "start_time": "2022-11-10T10:55:59.347Z"
   },
   {
    "duration": 43,
    "start_time": "2022-11-10T10:57:04.355Z"
   },
   {
    "duration": 59,
    "start_time": "2022-11-10T10:57:09.826Z"
   },
   {
    "duration": 56,
    "start_time": "2022-11-10T10:57:14.458Z"
   },
   {
    "duration": 72,
    "start_time": "2022-11-10T10:57:17.771Z"
   },
   {
    "duration": 197,
    "start_time": "2022-11-10T10:57:28.539Z"
   },
   {
    "duration": 233,
    "start_time": "2022-11-10T10:57:38.666Z"
   },
   {
    "duration": 247,
    "start_time": "2022-11-10T10:57:47.620Z"
   },
   {
    "duration": 56,
    "start_time": "2022-11-10T13:01:41.037Z"
   },
   {
    "duration": 641,
    "start_time": "2022-11-10T13:01:47.333Z"
   },
   {
    "duration": 561,
    "start_time": "2022-11-10T13:01:53.762Z"
   },
   {
    "duration": 17,
    "start_time": "2022-11-10T13:02:00.065Z"
   },
   {
    "duration": 5,
    "start_time": "2022-11-10T13:02:01.973Z"
   },
   {
    "duration": 2849,
    "start_time": "2022-11-10T13:02:02.441Z"
   },
   {
    "duration": 12,
    "start_time": "2022-11-10T13:02:05.292Z"
   },
   {
    "duration": 4,
    "start_time": "2022-11-10T13:02:06.792Z"
   },
   {
    "duration": 9,
    "start_time": "2022-11-10T13:02:08.157Z"
   },
   {
    "duration": 4,
    "start_time": "2022-11-10T13:02:09.601Z"
   },
   {
    "duration": 5,
    "start_time": "2022-11-10T13:02:10.479Z"
   },
   {
    "duration": 10,
    "start_time": "2022-11-10T13:02:11.957Z"
   },
   {
    "duration": 28,
    "start_time": "2022-11-10T13:02:12.747Z"
   },
   {
    "duration": 9,
    "start_time": "2022-11-10T13:02:13.562Z"
   },
   {
    "duration": 39,
    "start_time": "2022-11-10T13:02:14.922Z"
   },
   {
    "duration": 5,
    "start_time": "2022-11-10T13:02:15.267Z"
   },
   {
    "duration": 6,
    "start_time": "2022-11-10T13:02:16.497Z"
   },
   {
    "duration": 7,
    "start_time": "2022-11-10T13:02:17.696Z"
   },
   {
    "duration": 6,
    "start_time": "2022-11-10T13:02:18.186Z"
   },
   {
    "duration": 5,
    "start_time": "2022-11-10T13:02:19.137Z"
   },
   {
    "duration": 11,
    "start_time": "2022-11-10T13:02:19.737Z"
   },
   {
    "duration": 5,
    "start_time": "2022-11-10T13:02:20.802Z"
   },
   {
    "duration": 5,
    "start_time": "2022-11-10T13:02:23.365Z"
   },
   {
    "duration": 6,
    "start_time": "2022-11-10T13:02:24.950Z"
   },
   {
    "duration": 10,
    "start_time": "2022-11-10T13:02:25.750Z"
   },
   {
    "duration": 6,
    "start_time": "2022-11-10T13:02:26.702Z"
   },
   {
    "duration": 4,
    "start_time": "2022-11-10T13:02:28.143Z"
   },
   {
    "duration": 392,
    "start_time": "2022-11-10T13:02:29.081Z"
   },
   {
    "duration": 15,
    "start_time": "2022-11-10T13:02:30.174Z"
   },
   {
    "duration": 198,
    "start_time": "2022-11-10T13:02:34.326Z"
   },
   {
    "duration": 411,
    "start_time": "2022-11-10T13:05:57.287Z"
   },
   {
    "duration": 423,
    "start_time": "2022-11-10T13:06:17.703Z"
   },
   {
    "duration": 274,
    "start_time": "2022-11-10T13:06:33.487Z"
   },
   {
    "duration": 78,
    "start_time": "2022-11-10T13:07:00.626Z"
   },
   {
    "duration": 0,
    "start_time": "2022-11-10T13:07:33.722Z"
   },
   {
    "duration": 1121,
    "start_time": "2022-11-10T13:07:34.807Z"
   },
   {
    "duration": 242,
    "start_time": "2022-11-10T13:07:55.824Z"
   },
   {
    "duration": 129,
    "start_time": "2022-11-10T13:08:21.878Z"
   },
   {
    "duration": 146,
    "start_time": "2022-11-10T13:08:32.615Z"
   },
   {
    "duration": 286,
    "start_time": "2022-11-10T13:08:48.951Z"
   },
   {
    "duration": 212,
    "start_time": "2022-11-10T13:22:15.901Z"
   },
   {
    "duration": 197,
    "start_time": "2022-11-10T13:22:44.781Z"
   },
   {
    "duration": 198,
    "start_time": "2022-11-10T13:22:53.165Z"
   },
   {
    "duration": 133,
    "start_time": "2022-11-10T13:26:13.133Z"
   },
   {
    "duration": 263,
    "start_time": "2022-11-10T13:26:27.884Z"
   },
   {
    "duration": 13,
    "start_time": "2022-11-10T13:27:08.517Z"
   },
   {
    "duration": 832,
    "start_time": "2022-11-10T13:27:15.916Z"
   },
   {
    "duration": 169,
    "start_time": "2022-11-10T13:27:48.109Z"
   },
   {
    "duration": 135,
    "start_time": "2022-11-10T13:28:01.093Z"
   },
   {
    "duration": 11,
    "start_time": "2022-11-10T13:29:19.852Z"
   },
   {
    "duration": 215,
    "start_time": "2022-11-10T13:30:28.318Z"
   },
   {
    "duration": 297,
    "start_time": "2022-11-10T13:30:35.149Z"
   },
   {
    "duration": 239,
    "start_time": "2022-11-10T13:35:10.407Z"
   },
   {
    "duration": 82,
    "start_time": "2022-11-10T13:38:45.688Z"
   },
   {
    "duration": 10,
    "start_time": "2022-11-10T13:44:56.560Z"
   },
   {
    "duration": 6,
    "start_time": "2022-11-10T13:45:20.379Z"
   },
   {
    "duration": 10,
    "start_time": "2022-11-10T13:45:27.083Z"
   },
   {
    "duration": 4,
    "start_time": "2022-11-10T13:46:12.099Z"
   },
   {
    "duration": 5,
    "start_time": "2022-11-10T13:46:23.803Z"
   },
   {
    "duration": 8,
    "start_time": "2022-11-10T13:46:36.499Z"
   },
   {
    "duration": 9,
    "start_time": "2022-11-10T13:46:40.219Z"
   },
   {
    "duration": 1124,
    "start_time": "2022-11-10T13:46:56.988Z"
   },
   {
    "duration": 26,
    "start_time": "2022-11-10T13:47:32.939Z"
   },
   {
    "duration": 8,
    "start_time": "2022-11-10T13:50:41.007Z"
   },
   {
    "duration": 23,
    "start_time": "2022-11-10T13:51:23.010Z"
   },
   {
    "duration": 6,
    "start_time": "2022-11-10T13:52:33.723Z"
   },
   {
    "duration": 10,
    "start_time": "2022-11-10T13:52:44.762Z"
   },
   {
    "duration": 162,
    "start_time": "2022-11-10T13:53:09.306Z"
   },
   {
    "duration": 152,
    "start_time": "2022-11-10T13:53:43.402Z"
   },
   {
    "duration": 162,
    "start_time": "2022-11-10T13:53:56.081Z"
   },
   {
    "duration": 223,
    "start_time": "2022-11-10T13:54:01.651Z"
   },
   {
    "duration": 207,
    "start_time": "2022-11-10T13:54:16.530Z"
   },
   {
    "duration": 280,
    "start_time": "2022-11-10T13:56:09.594Z"
   },
   {
    "duration": 222,
    "start_time": "2022-11-10T13:56:15.651Z"
   },
   {
    "duration": 160,
    "start_time": "2022-11-10T13:56:20.482Z"
   },
   {
    "duration": 174,
    "start_time": "2022-11-10T13:56:32.866Z"
   },
   {
    "duration": 171,
    "start_time": "2022-11-10T13:58:34.681Z"
   },
   {
    "duration": 191,
    "start_time": "2022-11-10T13:59:13.769Z"
   },
   {
    "duration": 215,
    "start_time": "2022-11-10T13:59:29.081Z"
   },
   {
    "duration": 179,
    "start_time": "2022-11-10T13:59:38.209Z"
   },
   {
    "duration": 184,
    "start_time": "2022-11-10T13:59:52.577Z"
   },
   {
    "duration": 167,
    "start_time": "2022-11-10T13:59:57.305Z"
   },
   {
    "duration": 207,
    "start_time": "2022-11-10T14:01:01.633Z"
   },
   {
    "duration": 176,
    "start_time": "2022-11-10T14:01:16.577Z"
   },
   {
    "duration": 304,
    "start_time": "2022-11-10T14:02:12.141Z"
   },
   {
    "duration": 206,
    "start_time": "2022-11-10T14:02:20.120Z"
   },
   {
    "duration": 177,
    "start_time": "2022-11-10T14:02:26.379Z"
   },
   {
    "duration": 158,
    "start_time": "2022-11-10T14:02:29.769Z"
   },
   {
    "duration": 194,
    "start_time": "2022-11-10T14:03:00.114Z"
   },
   {
    "duration": 178,
    "start_time": "2022-11-10T14:05:20.938Z"
   },
   {
    "duration": 571,
    "start_time": "2022-11-10T14:37:34.211Z"
   },
   {
    "duration": 25,
    "start_time": "2022-11-10T14:37:47.341Z"
   },
   {
    "duration": 6,
    "start_time": "2022-11-10T14:38:29.412Z"
   },
   {
    "duration": 2742,
    "start_time": "2022-11-10T14:38:40.924Z"
   },
   {
    "duration": 16,
    "start_time": "2022-11-10T14:39:16.509Z"
   },
   {
    "duration": 5,
    "start_time": "2022-11-10T14:40:00.294Z"
   },
   {
    "duration": 10,
    "start_time": "2022-11-10T14:42:31.356Z"
   },
   {
    "duration": 7,
    "start_time": "2022-11-10T14:45:29.004Z"
   },
   {
    "duration": 8,
    "start_time": "2022-11-10T14:46:35.739Z"
   },
   {
    "duration": 12,
    "start_time": "2022-11-10T14:49:37.104Z"
   },
   {
    "duration": 39,
    "start_time": "2022-11-10T14:50:14.707Z"
   },
   {
    "duration": 9,
    "start_time": "2022-11-10T14:50:58.290Z"
   },
   {
    "duration": 54,
    "start_time": "2022-11-10T14:52:29.091Z"
   },
   {
    "duration": 7,
    "start_time": "2022-11-10T14:52:32.578Z"
   },
   {
    "duration": 6,
    "start_time": "2022-11-10T14:53:54.027Z"
   },
   {
    "duration": 7,
    "start_time": "2022-11-10T14:55:41.443Z"
   },
   {
    "duration": 6,
    "start_time": "2022-11-10T14:55:53.329Z"
   },
   {
    "duration": 4,
    "start_time": "2022-11-10T14:57:45.657Z"
   },
   {
    "duration": 12,
    "start_time": "2022-11-10T14:57:47.714Z"
   },
   {
    "duration": 5,
    "start_time": "2022-11-10T14:57:51.746Z"
   },
   {
    "duration": 17,
    "start_time": "2022-11-10T14:58:38.433Z"
   },
   {
    "duration": 6,
    "start_time": "2022-11-10T14:59:42.577Z"
   },
   {
    "duration": 11,
    "start_time": "2022-11-10T14:59:54.264Z"
   },
   {
    "duration": 6,
    "start_time": "2022-11-10T15:00:12.410Z"
   },
   {
    "duration": 26,
    "start_time": "2022-11-10T15:01:22.714Z"
   },
   {
    "duration": 65,
    "start_time": "2022-11-10T15:02:41.703Z"
   },
   {
    "duration": 66,
    "start_time": "2022-11-10T15:03:02.122Z"
   },
   {
    "duration": 61,
    "start_time": "2022-11-10T15:03:52.850Z"
   },
   {
    "duration": 60,
    "start_time": "2022-11-10T15:05:50.274Z"
   },
   {
    "duration": 45,
    "start_time": "2022-11-10T15:06:01.593Z"
   },
   {
    "duration": 38,
    "start_time": "2022-11-10T15:06:05.945Z"
   },
   {
    "duration": 39,
    "start_time": "2022-11-10T15:06:08.689Z"
   },
   {
    "duration": 45,
    "start_time": "2022-11-10T15:06:30.889Z"
   },
   {
    "duration": 40,
    "start_time": "2022-11-10T15:07:20.009Z"
   },
   {
    "duration": 5,
    "start_time": "2022-11-10T15:08:13.472Z"
   },
   {
    "duration": 48,
    "start_time": "2022-11-10T15:08:32.169Z"
   },
   {
    "duration": 37,
    "start_time": "2022-11-10T15:09:07.602Z"
   },
   {
    "duration": 37,
    "start_time": "2022-11-10T15:09:26.818Z"
   },
   {
    "duration": 54,
    "start_time": "2022-11-10T15:14:17.087Z"
   },
   {
    "duration": 6,
    "start_time": "2022-11-10T15:15:57.880Z"
   },
   {
    "duration": 8,
    "start_time": "2022-11-10T15:16:08.311Z"
   },
   {
    "duration": 6,
    "start_time": "2022-11-10T15:16:15.081Z"
   },
   {
    "duration": 8,
    "start_time": "2022-11-10T15:16:24.767Z"
   },
   {
    "duration": 40,
    "start_time": "2022-11-10T15:17:25.667Z"
   },
   {
    "duration": 45,
    "start_time": "2022-11-10T15:17:47.797Z"
   },
   {
    "duration": 43,
    "start_time": "2022-11-10T15:17:52.536Z"
   },
   {
    "duration": 6,
    "start_time": "2022-11-10T15:23:20.959Z"
   },
   {
    "duration": 5,
    "start_time": "2022-11-10T15:26:21.510Z"
   },
   {
    "duration": 5,
    "start_time": "2022-11-10T15:26:23.974Z"
   },
   {
    "duration": 6,
    "start_time": "2022-11-10T15:26:24.846Z"
   },
   {
    "duration": 11,
    "start_time": "2022-11-10T15:26:25.934Z"
   },
   {
    "duration": 4,
    "start_time": "2022-11-10T15:26:26.654Z"
   },
   {
    "duration": 3,
    "start_time": "2022-11-10T15:26:28.111Z"
   },
   {
    "duration": 366,
    "start_time": "2022-11-10T15:26:29.256Z"
   },
   {
    "duration": 17,
    "start_time": "2022-11-10T15:26:45.949Z"
   },
   {
    "duration": 165,
    "start_time": "2022-11-10T15:28:27.489Z"
   },
   {
    "duration": 195,
    "start_time": "2022-11-10T15:28:32.198Z"
   },
   {
    "duration": 5,
    "start_time": "2022-11-10T15:31:10.893Z"
   },
   {
    "duration": 25,
    "start_time": "2022-11-10T15:31:38.094Z"
   },
   {
    "duration": 32,
    "start_time": "2022-11-10T15:32:32.029Z"
   },
   {
    "duration": 25,
    "start_time": "2022-11-10T15:33:42.141Z"
   },
   {
    "duration": 16,
    "start_time": "2022-11-10T15:37:39.981Z"
   },
   {
    "duration": 170,
    "start_time": "2022-11-10T15:37:46.253Z"
   },
   {
    "duration": 256,
    "start_time": "2022-11-10T15:38:07.845Z"
   },
   {
    "duration": 3356,
    "start_time": "2022-11-10T15:38:45.039Z"
   },
   {
    "duration": 3,
    "start_time": "2022-11-10T15:39:51.045Z"
   },
   {
    "duration": 101,
    "start_time": "2022-11-10T15:39:58.388Z"
   },
   {
    "duration": 30751,
    "start_time": "2022-11-10T15:40:03.732Z"
   },
   {
    "duration": 76,
    "start_time": "2022-11-10T15:40:41.284Z"
   },
   {
    "duration": 3,
    "start_time": "2022-11-10T15:40:51.429Z"
   },
   {
    "duration": 161,
    "start_time": "2022-11-10T15:40:53.275Z"
   },
   {
    "duration": 3533,
    "start_time": "2022-11-10T15:41:42.501Z"
   },
   {
    "duration": 493,
    "start_time": "2022-11-10T15:42:50.531Z"
   },
   {
    "duration": 518,
    "start_time": "2022-11-10T15:43:10.172Z"
   },
   {
    "duration": 487,
    "start_time": "2022-11-10T15:43:27.093Z"
   },
   {
    "duration": 2042,
    "start_time": "2022-11-10T15:43:49.829Z"
   },
   {
    "duration": 3149,
    "start_time": "2022-11-10T15:44:06.323Z"
   },
   {
    "duration": 3515,
    "start_time": "2022-11-10T15:45:17.882Z"
   },
   {
    "duration": 140,
    "start_time": "2022-11-10T15:45:50.052Z"
   },
   {
    "duration": 145,
    "start_time": "2022-11-10T15:46:26.860Z"
   },
   {
    "duration": 271,
    "start_time": "2022-11-10T15:46:35.139Z"
   },
   {
    "duration": 176,
    "start_time": "2022-11-10T15:46:41.275Z"
   },
   {
    "duration": 149,
    "start_time": "2022-11-10T15:46:59.123Z"
   },
   {
    "duration": 170,
    "start_time": "2022-11-10T15:48:01.005Z"
   },
   {
    "duration": 154,
    "start_time": "2022-11-10T15:48:13.418Z"
   },
   {
    "duration": 176,
    "start_time": "2022-11-10T15:49:01.771Z"
   },
   {
    "duration": 155,
    "start_time": "2022-11-10T15:49:15.066Z"
   },
   {
    "duration": 159,
    "start_time": "2022-11-10T15:52:49.074Z"
   },
   {
    "duration": 157,
    "start_time": "2022-11-10T15:53:10.257Z"
   },
   {
    "duration": 148,
    "start_time": "2022-11-10T15:53:18.609Z"
   },
   {
    "duration": 152,
    "start_time": "2022-11-10T15:53:34.313Z"
   },
   {
    "duration": 149,
    "start_time": "2022-11-10T15:53:39.899Z"
   },
   {
    "duration": 158,
    "start_time": "2022-11-10T15:53:47.569Z"
   },
   {
    "duration": 185,
    "start_time": "2022-11-10T15:54:04.625Z"
   },
   {
    "duration": 181,
    "start_time": "2022-11-10T15:54:13.425Z"
   },
   {
    "duration": 274,
    "start_time": "2022-11-10T15:54:17.250Z"
   },
   {
    "duration": 198,
    "start_time": "2022-11-10T15:54:21.321Z"
   },
   {
    "duration": 299,
    "start_time": "2022-11-10T15:54:28.825Z"
   },
   {
    "duration": 181,
    "start_time": "2022-11-10T15:54:35.426Z"
   },
   {
    "duration": 160,
    "start_time": "2022-11-10T15:55:25.865Z"
   },
   {
    "duration": 1047,
    "start_time": "2022-11-10T15:56:11.057Z"
   },
   {
    "duration": 137,
    "start_time": "2022-11-10T15:56:25.465Z"
   },
   {
    "duration": 149,
    "start_time": "2022-11-10T15:56:54.721Z"
   },
   {
    "duration": 131,
    "start_time": "2022-11-10T15:57:11.457Z"
   },
   {
    "duration": 146,
    "start_time": "2022-11-10T15:57:30.052Z"
   },
   {
    "duration": 133,
    "start_time": "2022-11-10T15:57:46.891Z"
   },
   {
    "duration": 134,
    "start_time": "2022-11-10T15:58:02.513Z"
   },
   {
    "duration": 157,
    "start_time": "2022-11-10T15:59:26.433Z"
   },
   {
    "duration": 1064,
    "start_time": "2022-11-10T15:59:53.953Z"
   },
   {
    "duration": 139,
    "start_time": "2022-11-10T16:00:07.624Z"
   },
   {
    "duration": 152,
    "start_time": "2022-11-10T16:01:16.048Z"
   },
   {
    "duration": 131,
    "start_time": "2022-11-10T16:02:28.192Z"
   },
   {
    "duration": 148,
    "start_time": "2022-11-10T16:02:29.978Z"
   },
   {
    "duration": 135,
    "start_time": "2022-11-10T16:02:39.752Z"
   },
   {
    "duration": 130,
    "start_time": "2022-11-10T16:02:54.178Z"
   },
   {
    "duration": 146,
    "start_time": "2022-11-10T16:03:00.527Z"
   },
   {
    "duration": 133,
    "start_time": "2022-11-10T16:03:06.640Z"
   },
   {
    "duration": 134,
    "start_time": "2022-11-10T16:03:19.393Z"
   },
   {
    "duration": 153,
    "start_time": "2022-11-10T16:03:31.051Z"
   },
   {
    "duration": 132,
    "start_time": "2022-11-10T16:03:44.311Z"
   },
   {
    "duration": 146,
    "start_time": "2022-11-10T16:04:02.967Z"
   },
   {
    "duration": 142,
    "start_time": "2022-11-10T16:04:10.888Z"
   },
   {
    "duration": 143,
    "start_time": "2022-11-10T16:04:15.139Z"
   },
   {
    "duration": 150,
    "start_time": "2022-11-10T16:04:26.122Z"
   },
   {
    "duration": 188,
    "start_time": "2022-11-10T16:04:39.952Z"
   },
   {
    "duration": 201,
    "start_time": "2022-11-10T16:06:30.495Z"
   },
   {
    "duration": 201,
    "start_time": "2022-11-10T16:06:39.584Z"
   },
   {
    "duration": 198,
    "start_time": "2022-11-10T16:06:56.023Z"
   },
   {
    "duration": 155,
    "start_time": "2022-11-10T16:07:37.960Z"
   },
   {
    "duration": 156,
    "start_time": "2022-11-10T16:11:58.055Z"
   },
   {
    "duration": 230,
    "start_time": "2022-11-10T16:12:21.471Z"
   },
   {
    "duration": 197,
    "start_time": "2022-11-10T16:12:47.230Z"
   },
   {
    "duration": 221,
    "start_time": "2022-11-10T16:12:57.839Z"
   },
   {
    "duration": 150,
    "start_time": "2022-11-10T16:13:15.367Z"
   },
   {
    "duration": 143,
    "start_time": "2022-11-10T16:13:19.751Z"
   },
   {
    "duration": 200,
    "start_time": "2022-11-10T16:13:28.726Z"
   },
   {
    "duration": 216,
    "start_time": "2022-11-10T16:13:35.974Z"
   },
   {
    "duration": 166,
    "start_time": "2022-11-10T16:13:49.895Z"
   },
   {
    "duration": 153,
    "start_time": "2022-11-10T16:13:57.414Z"
   },
   {
    "duration": 176,
    "start_time": "2022-11-10T16:14:02.751Z"
   },
   {
    "duration": 155,
    "start_time": "2022-11-10T16:14:08.574Z"
   },
   {
    "duration": 176,
    "start_time": "2022-11-10T16:14:20.935Z"
   },
   {
    "duration": 213,
    "start_time": "2022-11-10T16:14:37.647Z"
   },
   {
    "duration": 212,
    "start_time": "2022-11-10T16:15:58.072Z"
   },
   {
    "duration": 14,
    "start_time": "2022-11-10T16:16:29.071Z"
   },
   {
    "duration": 194,
    "start_time": "2022-11-10T16:37:46.247Z"
   },
   {
    "duration": 196,
    "start_time": "2022-11-10T16:37:58.547Z"
   },
   {
    "duration": 77,
    "start_time": "2022-11-10T16:41:07.163Z"
   },
   {
    "duration": 6,
    "start_time": "2022-11-10T16:43:41.012Z"
   },
   {
    "duration": 16,
    "start_time": "2022-11-10T16:51:45.322Z"
   },
   {
    "duration": 7,
    "start_time": "2022-11-10T16:52:07.394Z"
   },
   {
    "duration": 13,
    "start_time": "2022-11-10T16:52:29.161Z"
   },
   {
    "duration": 6,
    "start_time": "2022-11-10T16:53:09.052Z"
   },
   {
    "duration": 12,
    "start_time": "2022-11-10T16:53:28.834Z"
   },
   {
    "duration": 6,
    "start_time": "2022-11-10T16:53:45.387Z"
   },
   {
    "duration": 6,
    "start_time": "2022-11-10T16:53:46.322Z"
   },
   {
    "duration": 6,
    "start_time": "2022-11-10T16:53:47.378Z"
   },
   {
    "duration": 29,
    "start_time": "2022-11-10T16:55:43.522Z"
   },
   {
    "duration": 39,
    "start_time": "2022-11-10T16:56:31.858Z"
   },
   {
    "duration": 16,
    "start_time": "2022-11-10T16:58:45.243Z"
   },
   {
    "duration": 20,
    "start_time": "2022-11-10T16:59:07.281Z"
   },
   {
    "duration": 216,
    "start_time": "2022-11-10T16:59:19.021Z"
   },
   {
    "duration": 218,
    "start_time": "2022-11-10T17:00:31.273Z"
   },
   {
    "duration": 267,
    "start_time": "2022-11-10T17:00:41.929Z"
   },
   {
    "duration": 272,
    "start_time": "2022-11-10T17:00:48.768Z"
   },
   {
    "duration": 291,
    "start_time": "2022-11-10T17:01:04.409Z"
   },
   {
    "duration": 176,
    "start_time": "2022-11-10T17:02:20.696Z"
   },
   {
    "duration": 214,
    "start_time": "2022-11-10T17:02:39.880Z"
   },
   {
    "duration": 0,
    "start_time": "2022-11-10T17:03:40.012Z"
   },
   {
    "duration": 223,
    "start_time": "2022-11-10T17:03:47.192Z"
   },
   {
    "duration": 300,
    "start_time": "2022-11-10T17:04:12.425Z"
   },
   {
    "duration": 5294,
    "start_time": "2022-11-10T17:04:27.392Z"
   },
   {
    "duration": 1177,
    "start_time": "2022-11-10T17:04:38.345Z"
   },
   {
    "duration": 743,
    "start_time": "2022-11-10T17:04:50.784Z"
   },
   {
    "duration": 465,
    "start_time": "2022-11-10T17:04:58.720Z"
   },
   {
    "duration": 0,
    "start_time": "2022-11-10T17:05:27.428Z"
   },
   {
    "duration": 235,
    "start_time": "2022-11-10T17:05:32.680Z"
   },
   {
    "duration": 13,
    "start_time": "2022-11-10T17:08:41.720Z"
   },
   {
    "duration": 10,
    "start_time": "2022-11-10T17:09:11.392Z"
   },
   {
    "duration": 181,
    "start_time": "2022-11-10T17:12:51.552Z"
   },
   {
    "duration": 207,
    "start_time": "2022-11-10T17:13:01.616Z"
   },
   {
    "duration": 217,
    "start_time": "2022-11-10T17:13:35.824Z"
   },
   {
    "duration": 216,
    "start_time": "2022-11-10T17:13:41.975Z"
   },
   {
    "duration": 266,
    "start_time": "2022-11-10T17:14:08.225Z"
   },
   {
    "duration": 241,
    "start_time": "2022-11-10T17:14:32.007Z"
   },
   {
    "duration": 143,
    "start_time": "2022-11-10T17:20:49.870Z"
   },
   {
    "duration": 158,
    "start_time": "2022-11-10T17:21:21.734Z"
   },
   {
    "duration": 433,
    "start_time": "2022-11-10T17:22:29.541Z"
   },
   {
    "duration": 248,
    "start_time": "2022-11-10T17:22:38.958Z"
   },
   {
    "duration": 191,
    "start_time": "2022-11-10T17:22:59.038Z"
   },
   {
    "duration": 153,
    "start_time": "2022-11-10T17:23:05.444Z"
   },
   {
    "duration": 148,
    "start_time": "2022-11-10T17:23:44.270Z"
   },
   {
    "duration": 202,
    "start_time": "2022-11-10T17:24:29.025Z"
   },
   {
    "duration": 190,
    "start_time": "2022-11-10T17:24:37.813Z"
   },
   {
    "duration": 145,
    "start_time": "2022-11-10T17:24:42.814Z"
   },
   {
    "duration": 219,
    "start_time": "2022-11-10T17:24:47.262Z"
   },
   {
    "duration": 155,
    "start_time": "2022-11-10T17:25:13.366Z"
   },
   {
    "duration": 362,
    "start_time": "2022-11-10T17:34:44.365Z"
   },
   {
    "duration": 141,
    "start_time": "2022-11-10T17:35:08.308Z"
   },
   {
    "duration": 248,
    "start_time": "2022-11-10T17:38:38.628Z"
   },
   {
    "duration": 22409,
    "start_time": "2022-11-10T17:38:55.067Z"
   },
   {
    "duration": 143,
    "start_time": "2022-11-10T17:39:26.351Z"
   },
   {
    "duration": 137,
    "start_time": "2022-11-10T17:39:49.492Z"
   },
   {
    "duration": 154,
    "start_time": "2022-11-10T17:39:55.091Z"
   },
   {
    "duration": 171,
    "start_time": "2022-11-10T17:40:00.187Z"
   },
   {
    "duration": 163,
    "start_time": "2022-11-10T17:40:54.351Z"
   },
   {
    "duration": 155,
    "start_time": "2022-11-10T17:41:22.594Z"
   },
   {
    "duration": 158,
    "start_time": "2022-11-10T17:42:40.435Z"
   },
   {
    "duration": 180,
    "start_time": "2022-11-10T17:43:02.780Z"
   },
   {
    "duration": 160,
    "start_time": "2022-11-10T17:43:25.956Z"
   },
   {
    "duration": 147,
    "start_time": "2022-11-10T17:43:30.749Z"
   },
   {
    "duration": 164,
    "start_time": "2022-11-10T17:43:46.804Z"
   },
   {
    "duration": 156,
    "start_time": "2022-11-10T17:43:52.056Z"
   },
   {
    "duration": 245,
    "start_time": "2022-11-10T17:44:43.426Z"
   },
   {
    "duration": 19,
    "start_time": "2022-11-10T17:54:23.506Z"
   },
   {
    "duration": 42,
    "start_time": "2022-11-10T17:55:24.476Z"
   },
   {
    "duration": 31,
    "start_time": "2022-11-10T17:55:52.407Z"
   },
   {
    "duration": 42,
    "start_time": "2022-11-10T17:56:36.515Z"
   },
   {
    "duration": 40,
    "start_time": "2022-11-10T17:56:49.098Z"
   },
   {
    "duration": 27,
    "start_time": "2022-11-10T17:57:53.074Z"
   },
   {
    "duration": 68,
    "start_time": "2022-11-10T18:06:37.489Z"
   },
   {
    "duration": 72,
    "start_time": "2022-11-10T18:06:59.881Z"
   },
   {
    "duration": 36,
    "start_time": "2022-11-10T18:07:04.361Z"
   },
   {
    "duration": 30,
    "start_time": "2022-11-10T18:07:15.569Z"
   },
   {
    "duration": 40,
    "start_time": "2022-11-10T18:07:34.010Z"
   },
   {
    "duration": 41,
    "start_time": "2022-11-10T18:07:41.216Z"
   },
   {
    "duration": 24,
    "start_time": "2022-11-10T18:09:14.384Z"
   },
   {
    "duration": 13,
    "start_time": "2022-11-10T18:09:49.306Z"
   },
   {
    "duration": 16,
    "start_time": "2022-11-10T18:10:01.084Z"
   },
   {
    "duration": 22,
    "start_time": "2022-11-10T18:10:06.801Z"
   },
   {
    "duration": 14,
    "start_time": "2022-11-10T18:10:17.424Z"
   },
   {
    "duration": 11,
    "start_time": "2022-11-10T18:10:21.656Z"
   },
   {
    "duration": 28,
    "start_time": "2022-11-10T18:10:36.480Z"
   },
   {
    "duration": 36,
    "start_time": "2022-11-10T18:10:40.889Z"
   },
   {
    "duration": 69,
    "start_time": "2022-11-10T18:20:08.065Z"
   },
   {
    "duration": 10,
    "start_time": "2022-11-10T18:22:18.426Z"
   },
   {
    "duration": 48,
    "start_time": "2022-11-10T18:22:23.175Z"
   },
   {
    "duration": 13,
    "start_time": "2022-11-10T18:23:29.672Z"
   },
   {
    "duration": 24,
    "start_time": "2022-11-10T18:26:12.864Z"
   },
   {
    "duration": 20,
    "start_time": "2022-11-10T18:26:18.919Z"
   },
   {
    "duration": 23,
    "start_time": "2022-11-10T18:28:31.135Z"
   },
   {
    "duration": 184,
    "start_time": "2022-11-10T18:28:34.535Z"
   },
   {
    "duration": 22,
    "start_time": "2022-11-10T18:29:36.135Z"
   },
   {
    "duration": 173,
    "start_time": "2022-11-10T18:29:37.952Z"
   },
   {
    "duration": 5,
    "start_time": "2022-11-10T18:35:42.894Z"
   },
   {
    "duration": 13,
    "start_time": "2022-11-10T18:35:54.055Z"
   },
   {
    "duration": 14,
    "start_time": "2022-11-10T18:36:14.367Z"
   },
   {
    "duration": 17,
    "start_time": "2022-11-10T18:36:27.661Z"
   },
   {
    "duration": 15,
    "start_time": "2022-11-10T18:36:53.216Z"
   },
   {
    "duration": 22,
    "start_time": "2022-11-10T18:37:02.829Z"
   },
   {
    "duration": 22,
    "start_time": "2022-11-10T18:37:26.527Z"
   },
   {
    "duration": 13,
    "start_time": "2022-11-10T18:37:31.510Z"
   },
   {
    "duration": 23,
    "start_time": "2022-11-10T18:38:02.477Z"
   },
   {
    "duration": 19,
    "start_time": "2022-11-10T18:38:37.916Z"
   },
   {
    "duration": 29,
    "start_time": "2022-11-10T18:38:55.229Z"
   },
   {
    "duration": 19,
    "start_time": "2022-11-10T18:40:27.613Z"
   },
   {
    "duration": 309,
    "start_time": "2022-11-10T18:59:02.151Z"
   },
   {
    "duration": 239,
    "start_time": "2022-11-10T18:59:13.506Z"
   },
   {
    "duration": 11,
    "start_time": "2022-11-10T18:59:28.771Z"
   },
   {
    "duration": 0,
    "start_time": "2022-11-10T19:00:02.897Z"
   },
   {
    "duration": 211,
    "start_time": "2022-11-10T19:00:04.921Z"
   },
   {
    "duration": 218,
    "start_time": "2022-11-10T19:00:59.570Z"
   },
   {
    "duration": 310,
    "start_time": "2022-11-10T19:02:16.562Z"
   },
   {
    "duration": 601,
    "start_time": "2022-11-10T19:24:05.529Z"
   },
   {
    "duration": 27,
    "start_time": "2022-11-10T19:24:06.133Z"
   },
   {
    "duration": 14,
    "start_time": "2022-11-10T19:24:06.162Z"
   },
   {
    "duration": 2518,
    "start_time": "2022-11-10T19:24:06.180Z"
   },
   {
    "duration": 12,
    "start_time": "2022-11-10T19:24:08.700Z"
   },
   {
    "duration": 7,
    "start_time": "2022-11-10T19:24:08.713Z"
   },
   {
    "duration": 12,
    "start_time": "2022-11-10T19:24:08.722Z"
   },
   {
    "duration": 13,
    "start_time": "2022-11-10T19:24:08.736Z"
   },
   {
    "duration": 9,
    "start_time": "2022-11-10T19:24:08.752Z"
   },
   {
    "duration": 9,
    "start_time": "2022-11-10T19:24:08.764Z"
   },
   {
    "duration": 29,
    "start_time": "2022-11-10T19:24:08.774Z"
   },
   {
    "duration": 9,
    "start_time": "2022-11-10T19:24:08.805Z"
   },
   {
    "duration": 86,
    "start_time": "2022-11-10T19:24:08.816Z"
   },
   {
    "duration": 7,
    "start_time": "2022-11-10T19:24:08.904Z"
   },
   {
    "duration": 30,
    "start_time": "2022-11-10T19:24:08.912Z"
   },
   {
    "duration": 23,
    "start_time": "2022-11-10T19:24:08.944Z"
   },
   {
    "duration": 7,
    "start_time": "2022-11-10T19:24:08.969Z"
   },
   {
    "duration": 12,
    "start_time": "2022-11-10T19:24:08.978Z"
   },
   {
    "duration": 21,
    "start_time": "2022-11-10T19:24:08.992Z"
   },
   {
    "duration": 29,
    "start_time": "2022-11-10T19:24:09.016Z"
   },
   {
    "duration": 38,
    "start_time": "2022-11-10T19:24:09.047Z"
   },
   {
    "duration": 11,
    "start_time": "2022-11-10T19:24:09.088Z"
   },
   {
    "duration": 63,
    "start_time": "2022-11-10T19:24:09.101Z"
   },
   {
    "duration": 9,
    "start_time": "2022-11-10T19:24:09.166Z"
   },
   {
    "duration": 20,
    "start_time": "2022-11-10T19:24:09.177Z"
   },
   {
    "duration": 14,
    "start_time": "2022-11-10T19:24:09.199Z"
   },
   {
    "duration": 14,
    "start_time": "2022-11-10T19:24:09.215Z"
   },
   {
    "duration": 18,
    "start_time": "2022-11-10T19:24:09.235Z"
   },
   {
    "duration": 24,
    "start_time": "2022-11-10T19:24:09.255Z"
   },
   {
    "duration": 13,
    "start_time": "2022-11-10T19:24:09.281Z"
   },
   {
    "duration": 391,
    "start_time": "2022-11-10T19:24:09.297Z"
   },
   {
    "duration": 16,
    "start_time": "2022-11-10T19:24:09.690Z"
   },
   {
    "duration": 168,
    "start_time": "2022-11-10T19:24:09.708Z"
   },
   {
    "duration": 159,
    "start_time": "2022-11-10T19:24:09.877Z"
   },
   {
    "duration": 168,
    "start_time": "2022-11-10T19:24:10.039Z"
   },
   {
    "duration": 294,
    "start_time": "2022-11-10T19:24:10.208Z"
   },
   {
    "duration": 172,
    "start_time": "2022-11-10T19:24:10.503Z"
   },
   {
    "duration": 162,
    "start_time": "2022-11-10T19:24:10.676Z"
   },
   {
    "duration": 155,
    "start_time": "2022-11-10T19:24:10.844Z"
   },
   {
    "duration": 186,
    "start_time": "2022-11-10T19:24:11.001Z"
   },
   {
    "duration": 164,
    "start_time": "2022-11-10T19:24:11.189Z"
   },
   {
    "duration": 155,
    "start_time": "2022-11-10T19:24:11.356Z"
   },
   {
    "duration": 149,
    "start_time": "2022-11-10T19:24:11.513Z"
   },
   {
    "duration": 195,
    "start_time": "2022-11-10T19:24:11.664Z"
   },
   {
    "duration": 165,
    "start_time": "2022-11-10T19:24:11.861Z"
   },
   {
    "duration": 161,
    "start_time": "2022-11-10T19:24:12.028Z"
   },
   {
    "duration": 177,
    "start_time": "2022-11-10T19:24:12.191Z"
   },
   {
    "duration": 10,
    "start_time": "2022-11-10T19:24:12.369Z"
   },
   {
    "duration": 6,
    "start_time": "2022-11-10T19:24:12.382Z"
   },
   {
    "duration": 354,
    "start_time": "2022-11-10T19:24:12.390Z"
   },
   {
    "duration": 235,
    "start_time": "2022-11-10T19:24:12.754Z"
   },
   {
    "duration": 225,
    "start_time": "2022-11-10T19:24:12.990Z"
   },
   {
    "duration": 262,
    "start_time": "2022-11-10T19:24:13.217Z"
   },
   {
    "duration": 151,
    "start_time": "2022-11-10T19:24:13.480Z"
   },
   {
    "duration": 189,
    "start_time": "2022-11-10T19:24:13.637Z"
   },
   {
    "duration": 186,
    "start_time": "2022-11-10T19:24:13.828Z"
   },
   {
    "duration": 194,
    "start_time": "2022-11-10T19:24:14.016Z"
   },
   {
    "duration": 43,
    "start_time": "2022-11-10T19:24:14.212Z"
   },
   {
    "duration": 9,
    "start_time": "2022-11-10T19:24:14.262Z"
   },
   {
    "duration": 13,
    "start_time": "2022-11-10T19:24:14.273Z"
   },
   {
    "duration": 11,
    "start_time": "2022-11-10T19:24:14.287Z"
   },
   {
    "duration": 18,
    "start_time": "2022-11-10T19:24:14.300Z"
   },
   {
    "duration": 172,
    "start_time": "2022-11-10T19:24:14.344Z"
   },
   {
    "duration": 46,
    "start_time": "2022-11-11T08:44:43.528Z"
   },
   {
    "duration": 582,
    "start_time": "2022-11-11T08:44:57.335Z"
   },
   {
    "duration": 16,
    "start_time": "2022-11-11T08:44:57.920Z"
   },
   {
    "duration": 6,
    "start_time": "2022-11-11T08:44:57.938Z"
   },
   {
    "duration": 2478,
    "start_time": "2022-11-11T08:44:57.946Z"
   },
   {
    "duration": 9,
    "start_time": "2022-11-11T08:45:00.426Z"
   },
   {
    "duration": 44,
    "start_time": "2022-11-11T08:45:00.437Z"
   },
   {
    "duration": 35,
    "start_time": "2022-11-11T08:45:00.483Z"
   },
   {
    "duration": 41,
    "start_time": "2022-11-11T08:45:00.520Z"
   },
   {
    "duration": 31,
    "start_time": "2022-11-11T08:45:00.564Z"
   },
   {
    "duration": 54,
    "start_time": "2022-11-11T08:45:00.598Z"
   },
   {
    "duration": 52,
    "start_time": "2022-11-11T08:45:00.654Z"
   },
   {
    "duration": 17,
    "start_time": "2022-11-11T08:45:00.708Z"
   },
   {
    "duration": 72,
    "start_time": "2022-11-11T08:45:00.727Z"
   },
   {
    "duration": 12,
    "start_time": "2022-11-11T08:45:00.800Z"
   },
   {
    "duration": 59,
    "start_time": "2022-11-11T08:45:00.813Z"
   },
   {
    "duration": 76,
    "start_time": "2022-11-11T08:45:00.873Z"
   },
   {
    "duration": 61,
    "start_time": "2022-11-11T08:45:00.951Z"
   },
   {
    "duration": 67,
    "start_time": "2022-11-11T08:45:01.014Z"
   },
   {
    "duration": 54,
    "start_time": "2022-11-11T08:45:01.083Z"
   },
   {
    "duration": 67,
    "start_time": "2022-11-11T08:45:01.139Z"
   },
   {
    "duration": 8,
    "start_time": "2022-11-11T08:45:04.691Z"
   },
   {
    "duration": 4,
    "start_time": "2022-11-11T08:45:20.823Z"
   },
   {
    "duration": 6,
    "start_time": "2022-11-11T08:45:27.887Z"
   },
   {
    "duration": 106,
    "start_time": "2022-11-11T08:47:42.610Z"
   },
   {
    "duration": 16,
    "start_time": "2022-11-11T08:47:42.718Z"
   },
   {
    "duration": 4,
    "start_time": "2022-11-11T08:47:42.736Z"
   },
   {
    "duration": 2114,
    "start_time": "2022-11-11T08:47:42.742Z"
   },
   {
    "duration": 9,
    "start_time": "2022-11-11T08:47:44.858Z"
   },
   {
    "duration": 6,
    "start_time": "2022-11-11T08:47:44.869Z"
   },
   {
    "duration": 11,
    "start_time": "2022-11-11T08:47:44.877Z"
   },
   {
    "duration": 4,
    "start_time": "2022-11-11T08:47:44.890Z"
   },
   {
    "duration": 28,
    "start_time": "2022-11-11T08:47:44.896Z"
   },
   {
    "duration": 14,
    "start_time": "2022-11-11T08:47:44.927Z"
   },
   {
    "duration": 27,
    "start_time": "2022-11-11T08:47:44.943Z"
   },
   {
    "duration": 9,
    "start_time": "2022-11-11T08:47:44.972Z"
   },
   {
    "duration": 55,
    "start_time": "2022-11-11T08:47:44.983Z"
   },
   {
    "duration": 6,
    "start_time": "2022-11-11T08:47:45.040Z"
   },
   {
    "duration": 8,
    "start_time": "2022-11-11T08:47:45.048Z"
   },
   {
    "duration": 7,
    "start_time": "2022-11-11T08:47:45.058Z"
   },
   {
    "duration": 6,
    "start_time": "2022-11-11T08:47:45.067Z"
   },
   {
    "duration": 4,
    "start_time": "2022-11-11T08:47:45.074Z"
   },
   {
    "duration": 45,
    "start_time": "2022-11-11T08:47:45.080Z"
   },
   {
    "duration": 8,
    "start_time": "2022-11-11T08:47:45.127Z"
   },
   {
    "duration": 9,
    "start_time": "2022-11-11T08:47:45.136Z"
   },
   {
    "duration": 16,
    "start_time": "2022-11-11T08:47:45.146Z"
   },
   {
    "duration": 4,
    "start_time": "2022-11-11T08:47:45.164Z"
   },
   {
    "duration": 60,
    "start_time": "2022-11-11T08:47:45.169Z"
   },
   {
    "duration": 7,
    "start_time": "2022-11-11T08:47:57.767Z"
   },
   {
    "duration": 7,
    "start_time": "2022-11-11T09:17:04.323Z"
   },
   {
    "duration": 7,
    "start_time": "2022-11-11T09:17:52.008Z"
   },
   {
    "duration": 7,
    "start_time": "2022-11-11T09:18:39.044Z"
   },
   {
    "duration": 5,
    "start_time": "2022-11-11T09:18:58.307Z"
   },
   {
    "duration": 5,
    "start_time": "2022-11-11T09:19:27.194Z"
   },
   {
    "duration": 9,
    "start_time": "2022-11-11T09:19:32.074Z"
   },
   {
    "duration": 5,
    "start_time": "2022-11-11T09:19:46.283Z"
   },
   {
    "duration": 39,
    "start_time": "2022-11-11T09:20:19.531Z"
   },
   {
    "duration": 10,
    "start_time": "2022-11-11T09:20:26.276Z"
   },
   {
    "duration": 3,
    "start_time": "2022-11-11T09:20:29.242Z"
   },
   {
    "duration": 8,
    "start_time": "2022-11-11T09:20:31.155Z"
   },
   {
    "duration": 15,
    "start_time": "2022-11-11T09:20:39.739Z"
   },
   {
    "duration": 5,
    "start_time": "2022-11-11T09:20:59.363Z"
   },
   {
    "duration": 19,
    "start_time": "2022-11-11T09:21:11.920Z"
   },
   {
    "duration": 17,
    "start_time": "2022-11-11T09:21:25.274Z"
   },
   {
    "duration": 20,
    "start_time": "2022-11-11T09:21:27.931Z"
   },
   {
    "duration": 57,
    "start_time": "2022-11-11T09:22:36.434Z"
   },
   {
    "duration": 4,
    "start_time": "2022-11-11T09:23:03.932Z"
   },
   {
    "duration": 60,
    "start_time": "2022-11-11T09:23:13.282Z"
   },
   {
    "duration": 5,
    "start_time": "2022-11-11T09:24:09.755Z"
   },
   {
    "duration": 10,
    "start_time": "2022-11-11T09:24:17.618Z"
   },
   {
    "duration": 7,
    "start_time": "2022-11-11T09:24:23.786Z"
   },
   {
    "duration": 5,
    "start_time": "2022-11-11T09:24:44.644Z"
   },
   {
    "duration": 105,
    "start_time": "2022-11-11T09:24:55.474Z"
   },
   {
    "duration": 14,
    "start_time": "2022-11-11T09:24:55.581Z"
   },
   {
    "duration": 4,
    "start_time": "2022-11-11T09:24:55.596Z"
   },
   {
    "duration": 2058,
    "start_time": "2022-11-11T09:24:55.602Z"
   },
   {
    "duration": 10,
    "start_time": "2022-11-11T09:24:57.662Z"
   },
   {
    "duration": 42,
    "start_time": "2022-11-11T09:24:57.673Z"
   },
   {
    "duration": 11,
    "start_time": "2022-11-11T09:24:57.717Z"
   },
   {
    "duration": 6,
    "start_time": "2022-11-11T09:24:57.729Z"
   },
   {
    "duration": 7,
    "start_time": "2022-11-11T09:24:57.737Z"
   },
   {
    "duration": 11,
    "start_time": "2022-11-11T09:24:57.745Z"
   },
   {
    "duration": 26,
    "start_time": "2022-11-11T09:24:57.757Z"
   },
   {
    "duration": 8,
    "start_time": "2022-11-11T09:24:57.785Z"
   },
   {
    "duration": 62,
    "start_time": "2022-11-11T09:24:57.795Z"
   },
   {
    "duration": 5,
    "start_time": "2022-11-11T09:24:57.860Z"
   },
   {
    "duration": 8,
    "start_time": "2022-11-11T09:24:57.867Z"
   },
   {
    "duration": 8,
    "start_time": "2022-11-11T09:24:57.876Z"
   },
   {
    "duration": 38,
    "start_time": "2022-11-11T09:24:57.885Z"
   },
   {
    "duration": 5,
    "start_time": "2022-11-11T09:24:57.925Z"
   },
   {
    "duration": 14,
    "start_time": "2022-11-11T09:24:57.932Z"
   },
   {
    "duration": 5,
    "start_time": "2022-11-11T09:24:57.947Z"
   },
   {
    "duration": 8,
    "start_time": "2022-11-11T09:24:57.953Z"
   },
   {
    "duration": 15,
    "start_time": "2022-11-11T09:24:57.963Z"
   },
   {
    "duration": 3,
    "start_time": "2022-11-11T09:24:57.980Z"
   },
   {
    "duration": 66,
    "start_time": "2022-11-11T09:24:57.985Z"
   },
   {
    "duration": 5,
    "start_time": "2022-11-11T09:24:58.053Z"
   },
   {
    "duration": 6,
    "start_time": "2022-11-11T09:24:58.154Z"
   },
   {
    "duration": 5,
    "start_time": "2022-11-11T09:25:05.274Z"
   },
   {
    "duration": 107,
    "start_time": "2022-11-11T09:25:15.993Z"
   },
   {
    "duration": 27,
    "start_time": "2022-11-11T09:25:16.102Z"
   },
   {
    "duration": 3,
    "start_time": "2022-11-11T09:25:16.132Z"
   },
   {
    "duration": 1971,
    "start_time": "2022-11-11T09:25:16.137Z"
   },
   {
    "duration": 17,
    "start_time": "2022-11-11T09:25:18.111Z"
   },
   {
    "duration": 4,
    "start_time": "2022-11-11T09:25:18.129Z"
   },
   {
    "duration": 9,
    "start_time": "2022-11-11T09:25:18.135Z"
   },
   {
    "duration": 5,
    "start_time": "2022-11-11T09:25:18.145Z"
   },
   {
    "duration": 14,
    "start_time": "2022-11-11T09:25:18.152Z"
   },
   {
    "duration": 12,
    "start_time": "2022-11-11T09:25:18.168Z"
   },
   {
    "duration": 170,
    "start_time": "2022-11-11T09:25:18.181Z"
   },
   {
    "duration": 7,
    "start_time": "2022-11-11T09:25:18.353Z"
   },
   {
    "duration": 41,
    "start_time": "2022-11-11T09:25:18.362Z"
   },
   {
    "duration": 17,
    "start_time": "2022-11-11T09:25:18.406Z"
   },
   {
    "duration": 5,
    "start_time": "2022-11-11T09:25:18.425Z"
   },
   {
    "duration": 5,
    "start_time": "2022-11-11T09:25:18.432Z"
   },
   {
    "duration": 10,
    "start_time": "2022-11-11T09:25:18.439Z"
   },
   {
    "duration": 4,
    "start_time": "2022-11-11T09:25:18.451Z"
   },
   {
    "duration": 15,
    "start_time": "2022-11-11T09:25:18.457Z"
   },
   {
    "duration": 13,
    "start_time": "2022-11-11T09:25:18.474Z"
   },
   {
    "duration": 13,
    "start_time": "2022-11-11T09:25:18.489Z"
   },
   {
    "duration": 27,
    "start_time": "2022-11-11T09:25:18.504Z"
   },
   {
    "duration": 3,
    "start_time": "2022-11-11T09:25:18.533Z"
   },
   {
    "duration": 36,
    "start_time": "2022-11-11T09:25:18.538Z"
   },
   {
    "duration": 6,
    "start_time": "2022-11-11T09:25:18.575Z"
   },
   {
    "duration": 5,
    "start_time": "2022-11-11T09:25:22.858Z"
   },
   {
    "duration": 5,
    "start_time": "2022-11-11T09:25:33.858Z"
   },
   {
    "duration": 7,
    "start_time": "2022-11-11T09:25:58.546Z"
   },
   {
    "duration": 105,
    "start_time": "2022-11-11T09:26:27.729Z"
   },
   {
    "duration": 14,
    "start_time": "2022-11-11T09:26:27.837Z"
   },
   {
    "duration": 4,
    "start_time": "2022-11-11T09:26:27.852Z"
   },
   {
    "duration": 1953,
    "start_time": "2022-11-11T09:26:27.858Z"
   },
   {
    "duration": 17,
    "start_time": "2022-11-11T09:26:29.813Z"
   },
   {
    "duration": 4,
    "start_time": "2022-11-11T09:26:29.832Z"
   },
   {
    "duration": 12,
    "start_time": "2022-11-11T09:26:29.838Z"
   },
   {
    "duration": 13,
    "start_time": "2022-11-11T09:26:29.852Z"
   },
   {
    "duration": 11,
    "start_time": "2022-11-11T09:26:29.867Z"
   },
   {
    "duration": 13,
    "start_time": "2022-11-11T09:26:29.879Z"
   },
   {
    "duration": 37,
    "start_time": "2022-11-11T09:26:29.893Z"
   },
   {
    "duration": 7,
    "start_time": "2022-11-11T09:26:29.932Z"
   },
   {
    "duration": 34,
    "start_time": "2022-11-11T09:26:29.940Z"
   },
   {
    "duration": 5,
    "start_time": "2022-11-11T09:26:29.977Z"
   },
   {
    "duration": 5,
    "start_time": "2022-11-11T09:26:29.984Z"
   },
   {
    "duration": 32,
    "start_time": "2022-11-11T09:26:29.991Z"
   },
   {
    "duration": 28,
    "start_time": "2022-11-11T09:26:30.025Z"
   },
   {
    "duration": 29,
    "start_time": "2022-11-11T09:26:30.055Z"
   },
   {
    "duration": 19,
    "start_time": "2022-11-11T09:26:30.086Z"
   },
   {
    "duration": 21,
    "start_time": "2022-11-11T09:26:30.107Z"
   },
   {
    "duration": 36,
    "start_time": "2022-11-11T09:26:30.130Z"
   },
   {
    "duration": 33,
    "start_time": "2022-11-11T09:26:30.167Z"
   },
   {
    "duration": 9,
    "start_time": "2022-11-11T09:26:30.203Z"
   },
   {
    "duration": 61,
    "start_time": "2022-11-11T09:26:30.214Z"
   },
   {
    "duration": 6,
    "start_time": "2022-11-11T09:26:30.278Z"
   },
   {
    "duration": 4,
    "start_time": "2022-11-11T09:26:31.362Z"
   },
   {
    "duration": 3,
    "start_time": "2022-11-11T09:26:46.085Z"
   },
   {
    "duration": 5,
    "start_time": "2022-11-11T09:26:50.113Z"
   },
   {
    "duration": 6,
    "start_time": "2022-11-11T09:27:08.858Z"
   },
   {
    "duration": 42,
    "start_time": "2022-11-11T09:27:30.090Z"
   },
   {
    "duration": 62,
    "start_time": "2022-11-11T09:29:00.483Z"
   },
   {
    "duration": 5,
    "start_time": "2022-11-11T09:31:06.952Z"
   },
   {
    "duration": 8,
    "start_time": "2022-11-11T09:33:21.289Z"
   },
   {
    "duration": 14,
    "start_time": "2022-11-11T09:33:39.913Z"
   },
   {
    "duration": 537,
    "start_time": "2022-11-11T09:40:36.495Z"
   },
   {
    "duration": 17,
    "start_time": "2022-11-11T09:40:37.034Z"
   },
   {
    "duration": 5,
    "start_time": "2022-11-11T09:40:37.053Z"
   },
   {
    "duration": 2243,
    "start_time": "2022-11-11T09:40:37.061Z"
   },
   {
    "duration": 11,
    "start_time": "2022-11-11T09:40:39.306Z"
   },
   {
    "duration": 4,
    "start_time": "2022-11-11T09:40:39.319Z"
   },
   {
    "duration": 8,
    "start_time": "2022-11-11T09:40:39.325Z"
   },
   {
    "duration": 5,
    "start_time": "2022-11-11T09:40:39.335Z"
   },
   {
    "duration": 5,
    "start_time": "2022-11-11T09:40:39.342Z"
   },
   {
    "duration": 11,
    "start_time": "2022-11-11T09:40:39.351Z"
   },
   {
    "duration": 29,
    "start_time": "2022-11-11T09:40:39.364Z"
   },
   {
    "duration": 32,
    "start_time": "2022-11-11T09:40:39.395Z"
   },
   {
    "duration": 39,
    "start_time": "2022-11-11T09:40:39.429Z"
   },
   {
    "duration": 5,
    "start_time": "2022-11-11T09:40:39.470Z"
   },
   {
    "duration": 10,
    "start_time": "2022-11-11T09:40:39.477Z"
   },
   {
    "duration": 36,
    "start_time": "2022-11-11T09:40:39.488Z"
   },
   {
    "duration": 13,
    "start_time": "2022-11-11T09:40:39.525Z"
   },
   {
    "duration": 8,
    "start_time": "2022-11-11T09:40:39.539Z"
   },
   {
    "duration": 18,
    "start_time": "2022-11-11T09:40:39.549Z"
   },
   {
    "duration": 7,
    "start_time": "2022-11-11T09:40:39.569Z"
   },
   {
    "duration": 9,
    "start_time": "2022-11-11T09:40:39.578Z"
   },
   {
    "duration": 17,
    "start_time": "2022-11-11T09:40:39.589Z"
   },
   {
    "duration": 4,
    "start_time": "2022-11-11T09:40:39.607Z"
   },
   {
    "duration": 33,
    "start_time": "2022-11-11T09:40:39.622Z"
   },
   {
    "duration": 6,
    "start_time": "2022-11-11T09:40:39.657Z"
   },
   {
    "duration": 15,
    "start_time": "2022-11-11T09:40:39.664Z"
   },
   {
    "duration": 6,
    "start_time": "2022-11-11T09:40:39.680Z"
   },
   {
    "duration": 6,
    "start_time": "2022-11-11T09:40:39.689Z"
   },
   {
    "duration": 31,
    "start_time": "2022-11-11T09:40:39.696Z"
   },
   {
    "duration": 9,
    "start_time": "2022-11-11T09:40:39.729Z"
   },
   {
    "duration": 4,
    "start_time": "2022-11-11T09:40:39.740Z"
   },
   {
    "duration": 6,
    "start_time": "2022-11-11T09:40:39.746Z"
   },
   {
    "duration": 384,
    "start_time": "2022-11-11T09:40:39.753Z"
   },
   {
    "duration": 15,
    "start_time": "2022-11-11T09:40:40.138Z"
   },
   {
    "duration": 147,
    "start_time": "2022-11-11T09:40:40.155Z"
   },
   {
    "duration": 151,
    "start_time": "2022-11-11T09:40:40.304Z"
   },
   {
    "duration": 154,
    "start_time": "2022-11-11T09:40:40.457Z"
   },
   {
    "duration": 259,
    "start_time": "2022-11-11T09:40:40.612Z"
   },
   {
    "duration": 153,
    "start_time": "2022-11-11T09:40:40.873Z"
   },
   {
    "duration": 151,
    "start_time": "2022-11-11T09:40:41.028Z"
   },
   {
    "duration": 147,
    "start_time": "2022-11-11T09:40:41.180Z"
   },
   {
    "duration": 135,
    "start_time": "2022-11-11T09:40:41.328Z"
   },
   {
    "duration": 140,
    "start_time": "2022-11-11T09:40:41.465Z"
   },
   {
    "duration": 175,
    "start_time": "2022-11-11T09:40:41.607Z"
   },
   {
    "duration": 126,
    "start_time": "2022-11-11T09:40:41.783Z"
   },
   {
    "duration": 159,
    "start_time": "2022-11-11T09:40:41.910Z"
   },
   {
    "duration": 132,
    "start_time": "2022-11-11T09:40:42.071Z"
   },
   {
    "duration": 136,
    "start_time": "2022-11-11T09:40:42.205Z"
   },
   {
    "duration": 168,
    "start_time": "2022-11-11T09:40:42.343Z"
   },
   {
    "duration": 16,
    "start_time": "2022-11-11T09:40:42.513Z"
   },
   {
    "duration": 21,
    "start_time": "2022-11-11T09:40:42.531Z"
   },
   {
    "duration": 298,
    "start_time": "2022-11-11T09:40:42.555Z"
   },
   {
    "duration": 225,
    "start_time": "2022-11-11T09:40:42.855Z"
   },
   {
    "duration": 215,
    "start_time": "2022-11-11T09:40:43.082Z"
   },
   {
    "duration": 222,
    "start_time": "2022-11-11T09:40:43.299Z"
   },
   {
    "duration": 137,
    "start_time": "2022-11-11T09:40:43.523Z"
   },
   {
    "duration": 162,
    "start_time": "2022-11-11T09:40:43.662Z"
   },
   {
    "duration": 174,
    "start_time": "2022-11-11T09:40:43.826Z"
   },
   {
    "duration": 184,
    "start_time": "2022-11-11T09:40:44.002Z"
   },
   {
    "duration": 38,
    "start_time": "2022-11-11T09:40:44.188Z"
   },
   {
    "duration": 11,
    "start_time": "2022-11-11T09:40:44.228Z"
   },
   {
    "duration": 17,
    "start_time": "2022-11-11T09:40:44.241Z"
   },
   {
    "duration": 14,
    "start_time": "2022-11-11T09:40:44.260Z"
   },
   {
    "duration": 25,
    "start_time": "2022-11-11T09:40:44.276Z"
   },
   {
    "duration": 150,
    "start_time": "2022-11-11T09:40:44.321Z"
   }
  ],
  "celltoolbar": "Редактировать метаданные",
  "kernelspec": {
   "display_name": "Python 3 (ipykernel)",
   "language": "python",
   "name": "python3"
  },
  "language_info": {
   "codemirror_mode": {
    "name": "ipython",
    "version": 3
   },
   "file_extension": ".py",
   "mimetype": "text/x-python",
   "name": "python",
   "nbconvert_exporter": "python",
   "pygments_lexer": "ipython3",
   "version": "3.9.16"
  },
  "toc": {
   "base_numbering": 1,
   "nav_menu": {},
   "number_sections": true,
   "sideBar": true,
   "skip_h1_title": true,
   "title_cell": "Table of Contents",
   "title_sidebar": "Contents",
   "toc_cell": false,
   "toc_position": {},
   "toc_section_display": true,
   "toc_window_display": false
  }
 },
 "nbformat": 4,
 "nbformat_minor": 2
}
