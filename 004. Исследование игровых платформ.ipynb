{
 "cells": [
  {
   "cell_type": "markdown",
   "metadata": {},
   "source": [
    "# Сборный проект\n",
    "\n",
    "Мы работаем с данными содержащими в себе информацию о продаже игр до 2016 года. Наша задача  выявить закономерности определяющие успешность игр "
   ]
  },
  {
   "cell_type": "markdown",
   "metadata": {},
   "source": [
    "Для начала импортируем все необходимые библиотеки для работы "
   ]
  },
  {
   "cell_type": "code",
   "execution_count": 1,
   "metadata": {},
   "outputs": [],
   "source": [
    "import pandas as pd\n",
    "import numpy as np\n",
    "import seaborn as sns\n",
    "import matplotlib.pyplot as plt\n",
    "from scipy import stats as st"
   ]
  },
  {
   "cell_type": "markdown",
   "metadata": {},
   "source": [
    "Сохраним в переменную <mark>games_data</mark> наш .csv файл"
   ]
  },
  {
   "cell_type": "code",
   "execution_count": 2,
   "metadata": {},
   "outputs": [],
   "source": [
    "games_data = pd.read_csv('/datasets/games.csv')"
   ]
  },
  {
   "cell_type": "markdown",
   "metadata": {},
   "source": [
    "Выведем 10 случайных строк и изучим общую информацию"
   ]
  },
  {
   "cell_type": "code",
   "execution_count": 3,
   "metadata": {},
   "outputs": [
    {
     "data": {
      "text/html": [
       "<div>\n",
       "<style scoped>\n",
       "    .dataframe tbody tr th:only-of-type {\n",
       "        vertical-align: middle;\n",
       "    }\n",
       "\n",
       "    .dataframe tbody tr th {\n",
       "        vertical-align: top;\n",
       "    }\n",
       "\n",
       "    .dataframe thead th {\n",
       "        text-align: right;\n",
       "    }\n",
       "</style>\n",
       "<table border=\"1\" class=\"dataframe\">\n",
       "  <thead>\n",
       "    <tr style=\"text-align: right;\">\n",
       "      <th></th>\n",
       "      <th>Name</th>\n",
       "      <th>Platform</th>\n",
       "      <th>Year_of_Release</th>\n",
       "      <th>Genre</th>\n",
       "      <th>NA_sales</th>\n",
       "      <th>EU_sales</th>\n",
       "      <th>JP_sales</th>\n",
       "      <th>Other_sales</th>\n",
       "      <th>Critic_Score</th>\n",
       "      <th>User_Score</th>\n",
       "      <th>Rating</th>\n",
       "    </tr>\n",
       "  </thead>\n",
       "  <tbody>\n",
       "    <tr>\n",
       "      <th>8804</th>\n",
       "      <td>Rudra no Hihou</td>\n",
       "      <td>SNES</td>\n",
       "      <td>1996.0</td>\n",
       "      <td>Role-Playing</td>\n",
       "      <td>0.00</td>\n",
       "      <td>0.00</td>\n",
       "      <td>0.15</td>\n",
       "      <td>0.00</td>\n",
       "      <td>NaN</td>\n",
       "      <td>NaN</td>\n",
       "      <td>NaN</td>\n",
       "    </tr>\n",
       "    <tr>\n",
       "      <th>1124</th>\n",
       "      <td>Prince of Persia: Warrior Within</td>\n",
       "      <td>PS2</td>\n",
       "      <td>2004.0</td>\n",
       "      <td>Action</td>\n",
       "      <td>0.54</td>\n",
       "      <td>0.88</td>\n",
       "      <td>0.00</td>\n",
       "      <td>0.22</td>\n",
       "      <td>83.0</td>\n",
       "      <td>8.5</td>\n",
       "      <td>M</td>\n",
       "    </tr>\n",
       "    <tr>\n",
       "      <th>13833</th>\n",
       "      <td>Metal Slug XX</td>\n",
       "      <td>PSP</td>\n",
       "      <td>2009.0</td>\n",
       "      <td>Shooter</td>\n",
       "      <td>0.03</td>\n",
       "      <td>0.00</td>\n",
       "      <td>0.00</td>\n",
       "      <td>0.00</td>\n",
       "      <td>67.0</td>\n",
       "      <td>6.1</td>\n",
       "      <td>T</td>\n",
       "    </tr>\n",
       "    <tr>\n",
       "      <th>2107</th>\n",
       "      <td>Dead Space 3</td>\n",
       "      <td>X360</td>\n",
       "      <td>2013.0</td>\n",
       "      <td>Action</td>\n",
       "      <td>0.64</td>\n",
       "      <td>0.26</td>\n",
       "      <td>0.00</td>\n",
       "      <td>0.08</td>\n",
       "      <td>78.0</td>\n",
       "      <td>6.4</td>\n",
       "      <td>M</td>\n",
       "    </tr>\n",
       "    <tr>\n",
       "      <th>15067</th>\n",
       "      <td>Warhammer Online: Age of Reckoning</td>\n",
       "      <td>PC</td>\n",
       "      <td>2008.0</td>\n",
       "      <td>Role-Playing</td>\n",
       "      <td>0.00</td>\n",
       "      <td>0.02</td>\n",
       "      <td>0.00</td>\n",
       "      <td>0.00</td>\n",
       "      <td>86.0</td>\n",
       "      <td>7.9</td>\n",
       "      <td>T</td>\n",
       "    </tr>\n",
       "    <tr>\n",
       "      <th>13429</th>\n",
       "      <td>Hiiro no Kakera DS</td>\n",
       "      <td>DS</td>\n",
       "      <td>2008.0</td>\n",
       "      <td>Adventure</td>\n",
       "      <td>0.00</td>\n",
       "      <td>0.00</td>\n",
       "      <td>0.05</td>\n",
       "      <td>0.00</td>\n",
       "      <td>NaN</td>\n",
       "      <td>NaN</td>\n",
       "      <td>NaN</td>\n",
       "    </tr>\n",
       "    <tr>\n",
       "      <th>13937</th>\n",
       "      <td>Gitaroo Man Lives!</td>\n",
       "      <td>PSP</td>\n",
       "      <td>2006.0</td>\n",
       "      <td>Misc</td>\n",
       "      <td>0.03</td>\n",
       "      <td>0.00</td>\n",
       "      <td>0.00</td>\n",
       "      <td>0.00</td>\n",
       "      <td>NaN</td>\n",
       "      <td>NaN</td>\n",
       "      <td>NaN</td>\n",
       "    </tr>\n",
       "    <tr>\n",
       "      <th>13457</th>\n",
       "      <td>Bubble Bobble Revolution</td>\n",
       "      <td>DS</td>\n",
       "      <td>2005.0</td>\n",
       "      <td>Puzzle</td>\n",
       "      <td>0.04</td>\n",
       "      <td>0.00</td>\n",
       "      <td>0.00</td>\n",
       "      <td>0.00</td>\n",
       "      <td>38.0</td>\n",
       "      <td>6.2</td>\n",
       "      <td>E</td>\n",
       "    </tr>\n",
       "    <tr>\n",
       "      <th>8844</th>\n",
       "      <td>Pro Baseball Spirits 2015</td>\n",
       "      <td>PS3</td>\n",
       "      <td>2015.0</td>\n",
       "      <td>Action</td>\n",
       "      <td>0.00</td>\n",
       "      <td>0.00</td>\n",
       "      <td>0.15</td>\n",
       "      <td>0.00</td>\n",
       "      <td>NaN</td>\n",
       "      <td>NaN</td>\n",
       "      <td>NaN</td>\n",
       "    </tr>\n",
       "    <tr>\n",
       "      <th>4982</th>\n",
       "      <td>Ice Age</td>\n",
       "      <td>GBA</td>\n",
       "      <td>2002.0</td>\n",
       "      <td>Action</td>\n",
       "      <td>0.27</td>\n",
       "      <td>0.10</td>\n",
       "      <td>0.00</td>\n",
       "      <td>0.01</td>\n",
       "      <td>47.0</td>\n",
       "      <td>tbd</td>\n",
       "      <td>E</td>\n",
       "    </tr>\n",
       "  </tbody>\n",
       "</table>\n",
       "</div>"
      ],
      "text/plain": [
       "                                     Name Platform  Year_of_Release  \\\n",
       "8804                       Rudra no Hihou     SNES           1996.0   \n",
       "1124     Prince of Persia: Warrior Within      PS2           2004.0   \n",
       "13833                       Metal Slug XX      PSP           2009.0   \n",
       "2107                         Dead Space 3     X360           2013.0   \n",
       "15067  Warhammer Online: Age of Reckoning       PC           2008.0   \n",
       "13429                  Hiiro no Kakera DS       DS           2008.0   \n",
       "13937                  Gitaroo Man Lives!      PSP           2006.0   \n",
       "13457            Bubble Bobble Revolution       DS           2005.0   \n",
       "8844            Pro Baseball Spirits 2015      PS3           2015.0   \n",
       "4982                              Ice Age      GBA           2002.0   \n",
       "\n",
       "              Genre  NA_sales  EU_sales  JP_sales  Other_sales  Critic_Score  \\\n",
       "8804   Role-Playing      0.00      0.00      0.15         0.00           NaN   \n",
       "1124         Action      0.54      0.88      0.00         0.22          83.0   \n",
       "13833       Shooter      0.03      0.00      0.00         0.00          67.0   \n",
       "2107         Action      0.64      0.26      0.00         0.08          78.0   \n",
       "15067  Role-Playing      0.00      0.02      0.00         0.00          86.0   \n",
       "13429     Adventure      0.00      0.00      0.05         0.00           NaN   \n",
       "13937          Misc      0.03      0.00      0.00         0.00           NaN   \n",
       "13457        Puzzle      0.04      0.00      0.00         0.00          38.0   \n",
       "8844         Action      0.00      0.00      0.15         0.00           NaN   \n",
       "4982         Action      0.27      0.10      0.00         0.01          47.0   \n",
       "\n",
       "      User_Score Rating  \n",
       "8804         NaN    NaN  \n",
       "1124         8.5      M  \n",
       "13833        6.1      T  \n",
       "2107         6.4      M  \n",
       "15067        7.9      T  \n",
       "13429        NaN    NaN  \n",
       "13937        NaN    NaN  \n",
       "13457        6.2      E  \n",
       "8844         NaN    NaN  \n",
       "4982         tbd      E  "
      ]
     },
     "execution_count": 3,
     "metadata": {},
     "output_type": "execute_result"
    }
   ],
   "source": [
    "games_data.sample(10)"
   ]
  },
  {
   "cell_type": "code",
   "execution_count": 4,
   "metadata": {
    "scrolled": false
   },
   "outputs": [
    {
     "name": "stdout",
     "output_type": "stream",
     "text": [
      "<class 'pandas.core.frame.DataFrame'>\n",
      "RangeIndex: 16715 entries, 0 to 16714\n",
      "Data columns (total 11 columns):\n",
      " #   Column           Non-Null Count  Dtype  \n",
      "---  ------           --------------  -----  \n",
      " 0   Name             16713 non-null  object \n",
      " 1   Platform         16715 non-null  object \n",
      " 2   Year_of_Release  16446 non-null  float64\n",
      " 3   Genre            16713 non-null  object \n",
      " 4   NA_sales         16715 non-null  float64\n",
      " 5   EU_sales         16715 non-null  float64\n",
      " 6   JP_sales         16715 non-null  float64\n",
      " 7   Other_sales      16715 non-null  float64\n",
      " 8   Critic_Score     8137 non-null   float64\n",
      " 9   User_Score       10014 non-null  object \n",
      " 10  Rating           9949 non-null   object \n",
      "dtypes: float64(6), object(5)\n",
      "memory usage: 1.4+ MB\n"
     ]
    }
   ],
   "source": [
    "games_data.info()"
   ]
  },
  {
   "cell_type": "code",
   "execution_count": 5,
   "metadata": {
    "scrolled": true
   },
   "outputs": [
    {
     "data": {
      "text/html": [
       "<div>\n",
       "<style scoped>\n",
       "    .dataframe tbody tr th:only-of-type {\n",
       "        vertical-align: middle;\n",
       "    }\n",
       "\n",
       "    .dataframe tbody tr th {\n",
       "        vertical-align: top;\n",
       "    }\n",
       "\n",
       "    .dataframe thead th {\n",
       "        text-align: right;\n",
       "    }\n",
       "</style>\n",
       "<table border=\"1\" class=\"dataframe\">\n",
       "  <thead>\n",
       "    <tr style=\"text-align: right;\">\n",
       "      <th></th>\n",
       "      <th>Name</th>\n",
       "      <th>Platform</th>\n",
       "      <th>Year_of_Release</th>\n",
       "      <th>Genre</th>\n",
       "      <th>NA_sales</th>\n",
       "      <th>EU_sales</th>\n",
       "      <th>JP_sales</th>\n",
       "      <th>Other_sales</th>\n",
       "      <th>Critic_Score</th>\n",
       "      <th>User_Score</th>\n",
       "      <th>Rating</th>\n",
       "    </tr>\n",
       "  </thead>\n",
       "  <tbody>\n",
       "    <tr>\n",
       "      <th>count</th>\n",
       "      <td>16713</td>\n",
       "      <td>16715</td>\n",
       "      <td>16446.000000</td>\n",
       "      <td>16713</td>\n",
       "      <td>16715.000000</td>\n",
       "      <td>16715.000000</td>\n",
       "      <td>16715.000000</td>\n",
       "      <td>16715.000000</td>\n",
       "      <td>8137.000000</td>\n",
       "      <td>10014</td>\n",
       "      <td>9949</td>\n",
       "    </tr>\n",
       "    <tr>\n",
       "      <th>unique</th>\n",
       "      <td>11559</td>\n",
       "      <td>31</td>\n",
       "      <td>NaN</td>\n",
       "      <td>12</td>\n",
       "      <td>NaN</td>\n",
       "      <td>NaN</td>\n",
       "      <td>NaN</td>\n",
       "      <td>NaN</td>\n",
       "      <td>NaN</td>\n",
       "      <td>96</td>\n",
       "      <td>8</td>\n",
       "    </tr>\n",
       "    <tr>\n",
       "      <th>top</th>\n",
       "      <td>Need for Speed: Most Wanted</td>\n",
       "      <td>PS2</td>\n",
       "      <td>NaN</td>\n",
       "      <td>Action</td>\n",
       "      <td>NaN</td>\n",
       "      <td>NaN</td>\n",
       "      <td>NaN</td>\n",
       "      <td>NaN</td>\n",
       "      <td>NaN</td>\n",
       "      <td>tbd</td>\n",
       "      <td>E</td>\n",
       "    </tr>\n",
       "    <tr>\n",
       "      <th>freq</th>\n",
       "      <td>12</td>\n",
       "      <td>2161</td>\n",
       "      <td>NaN</td>\n",
       "      <td>3369</td>\n",
       "      <td>NaN</td>\n",
       "      <td>NaN</td>\n",
       "      <td>NaN</td>\n",
       "      <td>NaN</td>\n",
       "      <td>NaN</td>\n",
       "      <td>2424</td>\n",
       "      <td>3990</td>\n",
       "    </tr>\n",
       "    <tr>\n",
       "      <th>mean</th>\n",
       "      <td>NaN</td>\n",
       "      <td>NaN</td>\n",
       "      <td>2006.484616</td>\n",
       "      <td>NaN</td>\n",
       "      <td>0.263377</td>\n",
       "      <td>0.145060</td>\n",
       "      <td>0.077617</td>\n",
       "      <td>0.047342</td>\n",
       "      <td>68.967679</td>\n",
       "      <td>NaN</td>\n",
       "      <td>NaN</td>\n",
       "    </tr>\n",
       "    <tr>\n",
       "      <th>std</th>\n",
       "      <td>NaN</td>\n",
       "      <td>NaN</td>\n",
       "      <td>5.877050</td>\n",
       "      <td>NaN</td>\n",
       "      <td>0.813604</td>\n",
       "      <td>0.503339</td>\n",
       "      <td>0.308853</td>\n",
       "      <td>0.186731</td>\n",
       "      <td>13.938165</td>\n",
       "      <td>NaN</td>\n",
       "      <td>NaN</td>\n",
       "    </tr>\n",
       "    <tr>\n",
       "      <th>min</th>\n",
       "      <td>NaN</td>\n",
       "      <td>NaN</td>\n",
       "      <td>1980.000000</td>\n",
       "      <td>NaN</td>\n",
       "      <td>0.000000</td>\n",
       "      <td>0.000000</td>\n",
       "      <td>0.000000</td>\n",
       "      <td>0.000000</td>\n",
       "      <td>13.000000</td>\n",
       "      <td>NaN</td>\n",
       "      <td>NaN</td>\n",
       "    </tr>\n",
       "    <tr>\n",
       "      <th>25%</th>\n",
       "      <td>NaN</td>\n",
       "      <td>NaN</td>\n",
       "      <td>2003.000000</td>\n",
       "      <td>NaN</td>\n",
       "      <td>0.000000</td>\n",
       "      <td>0.000000</td>\n",
       "      <td>0.000000</td>\n",
       "      <td>0.000000</td>\n",
       "      <td>60.000000</td>\n",
       "      <td>NaN</td>\n",
       "      <td>NaN</td>\n",
       "    </tr>\n",
       "    <tr>\n",
       "      <th>50%</th>\n",
       "      <td>NaN</td>\n",
       "      <td>NaN</td>\n",
       "      <td>2007.000000</td>\n",
       "      <td>NaN</td>\n",
       "      <td>0.080000</td>\n",
       "      <td>0.020000</td>\n",
       "      <td>0.000000</td>\n",
       "      <td>0.010000</td>\n",
       "      <td>71.000000</td>\n",
       "      <td>NaN</td>\n",
       "      <td>NaN</td>\n",
       "    </tr>\n",
       "    <tr>\n",
       "      <th>75%</th>\n",
       "      <td>NaN</td>\n",
       "      <td>NaN</td>\n",
       "      <td>2010.000000</td>\n",
       "      <td>NaN</td>\n",
       "      <td>0.240000</td>\n",
       "      <td>0.110000</td>\n",
       "      <td>0.040000</td>\n",
       "      <td>0.030000</td>\n",
       "      <td>79.000000</td>\n",
       "      <td>NaN</td>\n",
       "      <td>NaN</td>\n",
       "    </tr>\n",
       "    <tr>\n",
       "      <th>max</th>\n",
       "      <td>NaN</td>\n",
       "      <td>NaN</td>\n",
       "      <td>2016.000000</td>\n",
       "      <td>NaN</td>\n",
       "      <td>41.360000</td>\n",
       "      <td>28.960000</td>\n",
       "      <td>10.220000</td>\n",
       "      <td>10.570000</td>\n",
       "      <td>98.000000</td>\n",
       "      <td>NaN</td>\n",
       "      <td>NaN</td>\n",
       "    </tr>\n",
       "  </tbody>\n",
       "</table>\n",
       "</div>"
      ],
      "text/plain": [
       "                               Name Platform  Year_of_Release   Genre  \\\n",
       "count                         16713    16715     16446.000000   16713   \n",
       "unique                        11559       31              NaN      12   \n",
       "top     Need for Speed: Most Wanted      PS2              NaN  Action   \n",
       "freq                             12     2161              NaN    3369   \n",
       "mean                            NaN      NaN      2006.484616     NaN   \n",
       "std                             NaN      NaN         5.877050     NaN   \n",
       "min                             NaN      NaN      1980.000000     NaN   \n",
       "25%                             NaN      NaN      2003.000000     NaN   \n",
       "50%                             NaN      NaN      2007.000000     NaN   \n",
       "75%                             NaN      NaN      2010.000000     NaN   \n",
       "max                             NaN      NaN      2016.000000     NaN   \n",
       "\n",
       "            NA_sales      EU_sales      JP_sales   Other_sales  Critic_Score  \\\n",
       "count   16715.000000  16715.000000  16715.000000  16715.000000   8137.000000   \n",
       "unique           NaN           NaN           NaN           NaN           NaN   \n",
       "top              NaN           NaN           NaN           NaN           NaN   \n",
       "freq             NaN           NaN           NaN           NaN           NaN   \n",
       "mean        0.263377      0.145060      0.077617      0.047342     68.967679   \n",
       "std         0.813604      0.503339      0.308853      0.186731     13.938165   \n",
       "min         0.000000      0.000000      0.000000      0.000000     13.000000   \n",
       "25%         0.000000      0.000000      0.000000      0.000000     60.000000   \n",
       "50%         0.080000      0.020000      0.000000      0.010000     71.000000   \n",
       "75%         0.240000      0.110000      0.040000      0.030000     79.000000   \n",
       "max        41.360000     28.960000     10.220000     10.570000     98.000000   \n",
       "\n",
       "       User_Score Rating  \n",
       "count       10014   9949  \n",
       "unique         96      8  \n",
       "top           tbd      E  \n",
       "freq         2424   3990  \n",
       "mean          NaN    NaN  \n",
       "std           NaN    NaN  \n",
       "min           NaN    NaN  \n",
       "25%           NaN    NaN  \n",
       "50%           NaN    NaN  \n",
       "75%           NaN    NaN  \n",
       "max           NaN    NaN  "
      ]
     },
     "execution_count": 5,
     "metadata": {},
     "output_type": "execute_result"
    }
   ],
   "source": [
    "games_data.describe(include='all')"
   ]
  },
  {
   "cell_type": "markdown",
   "metadata": {},
   "source": [
    "## Предобработка данных"
   ]
  },
  {
   "cell_type": "markdown",
   "metadata": {},
   "source": [
    "Приведем названия всех столбцов к нижнему регистру"
   ]
  },
  {
   "cell_type": "code",
   "execution_count": 6,
   "metadata": {},
   "outputs": [
    {
     "data": {
      "text/plain": [
       "Index(['name', 'platform', 'year_of_release', 'genre', 'na_sales', 'eu_sales',\n",
       "       'jp_sales', 'other_sales', 'critic_score', 'user_score', 'rating'],\n",
       "      dtype='object')"
      ]
     },
     "execution_count": 6,
     "metadata": {},
     "output_type": "execute_result"
    }
   ],
   "source": [
    "games_data.columns = games_data.columns.str.lower()\n",
    "games_data.columns"
   ]
  },
  {
   "cell_type": "markdown",
   "metadata": {},
   "source": [
    "Проверим пропуски в столбце <mark>name</mark>"
   ]
  },
  {
   "cell_type": "code",
   "execution_count": 7,
   "metadata": {},
   "outputs": [
    {
     "data": {
      "text/html": [
       "<div>\n",
       "<style scoped>\n",
       "    .dataframe tbody tr th:only-of-type {\n",
       "        vertical-align: middle;\n",
       "    }\n",
       "\n",
       "    .dataframe tbody tr th {\n",
       "        vertical-align: top;\n",
       "    }\n",
       "\n",
       "    .dataframe thead th {\n",
       "        text-align: right;\n",
       "    }\n",
       "</style>\n",
       "<table border=\"1\" class=\"dataframe\">\n",
       "  <thead>\n",
       "    <tr style=\"text-align: right;\">\n",
       "      <th></th>\n",
       "      <th>name</th>\n",
       "      <th>platform</th>\n",
       "      <th>year_of_release</th>\n",
       "      <th>genre</th>\n",
       "      <th>na_sales</th>\n",
       "      <th>eu_sales</th>\n",
       "      <th>jp_sales</th>\n",
       "      <th>other_sales</th>\n",
       "      <th>critic_score</th>\n",
       "      <th>user_score</th>\n",
       "      <th>rating</th>\n",
       "    </tr>\n",
       "  </thead>\n",
       "  <tbody>\n",
       "    <tr>\n",
       "      <th>659</th>\n",
       "      <td>NaN</td>\n",
       "      <td>GEN</td>\n",
       "      <td>1993.0</td>\n",
       "      <td>NaN</td>\n",
       "      <td>1.78</td>\n",
       "      <td>0.53</td>\n",
       "      <td>0.00</td>\n",
       "      <td>0.08</td>\n",
       "      <td>NaN</td>\n",
       "      <td>NaN</td>\n",
       "      <td>NaN</td>\n",
       "    </tr>\n",
       "    <tr>\n",
       "      <th>14244</th>\n",
       "      <td>NaN</td>\n",
       "      <td>GEN</td>\n",
       "      <td>1993.0</td>\n",
       "      <td>NaN</td>\n",
       "      <td>0.00</td>\n",
       "      <td>0.00</td>\n",
       "      <td>0.03</td>\n",
       "      <td>0.00</td>\n",
       "      <td>NaN</td>\n",
       "      <td>NaN</td>\n",
       "      <td>NaN</td>\n",
       "    </tr>\n",
       "  </tbody>\n",
       "</table>\n",
       "</div>"
      ],
      "text/plain": [
       "      name platform  year_of_release genre  na_sales  eu_sales  jp_sales  \\\n",
       "659    NaN      GEN           1993.0   NaN      1.78      0.53      0.00   \n",
       "14244  NaN      GEN           1993.0   NaN      0.00      0.00      0.03   \n",
       "\n",
       "       other_sales  critic_score user_score rating  \n",
       "659           0.08           NaN        NaN    NaN  \n",
       "14244         0.00           NaN        NaN    NaN  "
      ]
     },
     "execution_count": 7,
     "metadata": {},
     "output_type": "execute_result"
    }
   ],
   "source": [
    "games_data[games_data['name'].isna()]"
   ]
  },
  {
   "cell_type": "markdown",
   "metadata": {},
   "source": [
    "Две неинформативные строки которые можно удалить "
   ]
  },
  {
   "cell_type": "code",
   "execution_count": 8,
   "metadata": {},
   "outputs": [],
   "source": [
    "games_data = games_data.dropna(subset=['name'])"
   ]
  },
  {
   "cell_type": "markdown",
   "metadata": {},
   "source": [
    "Посчитаем пропуски во всех столбцах"
   ]
  },
  {
   "cell_type": "code",
   "execution_count": 9,
   "metadata": {},
   "outputs": [
    {
     "data": {
      "text/plain": [
       "name                  0\n",
       "platform              0\n",
       "year_of_release     269\n",
       "genre                 0\n",
       "na_sales              0\n",
       "eu_sales              0\n",
       "jp_sales              0\n",
       "other_sales           0\n",
       "critic_score       8576\n",
       "user_score         6699\n",
       "rating             6764\n",
       "dtype: int64"
      ]
     },
     "execution_count": 9,
     "metadata": {},
     "output_type": "execute_result"
    }
   ],
   "source": [
    "games_data.isna().sum()"
   ]
  },
  {
   "cell_type": "code",
   "execution_count": 10,
   "metadata": {},
   "outputs": [
    {
     "data": {
      "text/html": [
       "<div>\n",
       "<style scoped>\n",
       "    .dataframe tbody tr th:only-of-type {\n",
       "        vertical-align: middle;\n",
       "    }\n",
       "\n",
       "    .dataframe tbody tr th {\n",
       "        vertical-align: top;\n",
       "    }\n",
       "\n",
       "    .dataframe thead th {\n",
       "        text-align: right;\n",
       "    }\n",
       "</style>\n",
       "<table border=\"1\" class=\"dataframe\">\n",
       "  <thead>\n",
       "    <tr style=\"text-align: right;\">\n",
       "      <th></th>\n",
       "      <th>name</th>\n",
       "      <th>platform</th>\n",
       "      <th>year_of_release</th>\n",
       "      <th>genre</th>\n",
       "      <th>na_sales</th>\n",
       "      <th>eu_sales</th>\n",
       "      <th>jp_sales</th>\n",
       "      <th>other_sales</th>\n",
       "      <th>critic_score</th>\n",
       "      <th>user_score</th>\n",
       "      <th>rating</th>\n",
       "    </tr>\n",
       "  </thead>\n",
       "  <tbody>\n",
       "    <tr>\n",
       "      <th>183</th>\n",
       "      <td>Madden NFL 2004</td>\n",
       "      <td>PS2</td>\n",
       "      <td>NaN</td>\n",
       "      <td>Sports</td>\n",
       "      <td>4.26</td>\n",
       "      <td>0.26</td>\n",
       "      <td>0.01</td>\n",
       "      <td>0.71</td>\n",
       "      <td>94.0</td>\n",
       "      <td>8.5</td>\n",
       "      <td>E</td>\n",
       "    </tr>\n",
       "    <tr>\n",
       "      <th>377</th>\n",
       "      <td>FIFA Soccer 2004</td>\n",
       "      <td>PS2</td>\n",
       "      <td>NaN</td>\n",
       "      <td>Sports</td>\n",
       "      <td>0.59</td>\n",
       "      <td>2.36</td>\n",
       "      <td>0.04</td>\n",
       "      <td>0.51</td>\n",
       "      <td>84.0</td>\n",
       "      <td>6.4</td>\n",
       "      <td>E</td>\n",
       "    </tr>\n",
       "    <tr>\n",
       "      <th>456</th>\n",
       "      <td>LEGO Batman: The Videogame</td>\n",
       "      <td>Wii</td>\n",
       "      <td>NaN</td>\n",
       "      <td>Action</td>\n",
       "      <td>1.80</td>\n",
       "      <td>0.97</td>\n",
       "      <td>0.00</td>\n",
       "      <td>0.29</td>\n",
       "      <td>74.0</td>\n",
       "      <td>7.9</td>\n",
       "      <td>E10+</td>\n",
       "    </tr>\n",
       "    <tr>\n",
       "      <th>475</th>\n",
       "      <td>wwe Smackdown vs. Raw 2006</td>\n",
       "      <td>PS2</td>\n",
       "      <td>NaN</td>\n",
       "      <td>Fighting</td>\n",
       "      <td>1.57</td>\n",
       "      <td>1.02</td>\n",
       "      <td>0.00</td>\n",
       "      <td>0.41</td>\n",
       "      <td>NaN</td>\n",
       "      <td>NaN</td>\n",
       "      <td>NaN</td>\n",
       "    </tr>\n",
       "    <tr>\n",
       "      <th>609</th>\n",
       "      <td>Space Invaders</td>\n",
       "      <td>2600</td>\n",
       "      <td>NaN</td>\n",
       "      <td>Shooter</td>\n",
       "      <td>2.36</td>\n",
       "      <td>0.14</td>\n",
       "      <td>0.00</td>\n",
       "      <td>0.03</td>\n",
       "      <td>NaN</td>\n",
       "      <td>NaN</td>\n",
       "      <td>NaN</td>\n",
       "    </tr>\n",
       "    <tr>\n",
       "      <th>...</th>\n",
       "      <td>...</td>\n",
       "      <td>...</td>\n",
       "      <td>...</td>\n",
       "      <td>...</td>\n",
       "      <td>...</td>\n",
       "      <td>...</td>\n",
       "      <td>...</td>\n",
       "      <td>...</td>\n",
       "      <td>...</td>\n",
       "      <td>...</td>\n",
       "      <td>...</td>\n",
       "    </tr>\n",
       "    <tr>\n",
       "      <th>16373</th>\n",
       "      <td>PDC World Championship Darts 2008</td>\n",
       "      <td>PSP</td>\n",
       "      <td>NaN</td>\n",
       "      <td>Sports</td>\n",
       "      <td>0.01</td>\n",
       "      <td>0.00</td>\n",
       "      <td>0.00</td>\n",
       "      <td>0.00</td>\n",
       "      <td>43.0</td>\n",
       "      <td>tbd</td>\n",
       "      <td>E10+</td>\n",
       "    </tr>\n",
       "    <tr>\n",
       "      <th>16405</th>\n",
       "      <td>Freaky Flyers</td>\n",
       "      <td>GC</td>\n",
       "      <td>NaN</td>\n",
       "      <td>Racing</td>\n",
       "      <td>0.01</td>\n",
       "      <td>0.00</td>\n",
       "      <td>0.00</td>\n",
       "      <td>0.00</td>\n",
       "      <td>69.0</td>\n",
       "      <td>6.5</td>\n",
       "      <td>T</td>\n",
       "    </tr>\n",
       "    <tr>\n",
       "      <th>16448</th>\n",
       "      <td>Inversion</td>\n",
       "      <td>PC</td>\n",
       "      <td>NaN</td>\n",
       "      <td>Shooter</td>\n",
       "      <td>0.01</td>\n",
       "      <td>0.00</td>\n",
       "      <td>0.00</td>\n",
       "      <td>0.00</td>\n",
       "      <td>59.0</td>\n",
       "      <td>6.7</td>\n",
       "      <td>M</td>\n",
       "    </tr>\n",
       "    <tr>\n",
       "      <th>16458</th>\n",
       "      <td>Hakuouki: Shinsengumi Kitan</td>\n",
       "      <td>PS3</td>\n",
       "      <td>NaN</td>\n",
       "      <td>Adventure</td>\n",
       "      <td>0.01</td>\n",
       "      <td>0.00</td>\n",
       "      <td>0.00</td>\n",
       "      <td>0.00</td>\n",
       "      <td>NaN</td>\n",
       "      <td>NaN</td>\n",
       "      <td>NaN</td>\n",
       "    </tr>\n",
       "    <tr>\n",
       "      <th>16522</th>\n",
       "      <td>Virtua Quest</td>\n",
       "      <td>GC</td>\n",
       "      <td>NaN</td>\n",
       "      <td>Role-Playing</td>\n",
       "      <td>0.01</td>\n",
       "      <td>0.00</td>\n",
       "      <td>0.00</td>\n",
       "      <td>0.00</td>\n",
       "      <td>55.0</td>\n",
       "      <td>5.5</td>\n",
       "      <td>T</td>\n",
       "    </tr>\n",
       "  </tbody>\n",
       "</table>\n",
       "<p>269 rows × 11 columns</p>\n",
       "</div>"
      ],
      "text/plain": [
       "                                    name platform  year_of_release  \\\n",
       "183                      Madden NFL 2004      PS2              NaN   \n",
       "377                     FIFA Soccer 2004      PS2              NaN   \n",
       "456           LEGO Batman: The Videogame      Wii              NaN   \n",
       "475           wwe Smackdown vs. Raw 2006      PS2              NaN   \n",
       "609                       Space Invaders     2600              NaN   \n",
       "...                                  ...      ...              ...   \n",
       "16373  PDC World Championship Darts 2008      PSP              NaN   \n",
       "16405                      Freaky Flyers       GC              NaN   \n",
       "16448                          Inversion       PC              NaN   \n",
       "16458        Hakuouki: Shinsengumi Kitan      PS3              NaN   \n",
       "16522                       Virtua Quest       GC              NaN   \n",
       "\n",
       "              genre  na_sales  eu_sales  jp_sales  other_sales  critic_score  \\\n",
       "183          Sports      4.26      0.26      0.01         0.71          94.0   \n",
       "377          Sports      0.59      2.36      0.04         0.51          84.0   \n",
       "456          Action      1.80      0.97      0.00         0.29          74.0   \n",
       "475        Fighting      1.57      1.02      0.00         0.41           NaN   \n",
       "609         Shooter      2.36      0.14      0.00         0.03           NaN   \n",
       "...             ...       ...       ...       ...          ...           ...   \n",
       "16373        Sports      0.01      0.00      0.00         0.00          43.0   \n",
       "16405        Racing      0.01      0.00      0.00         0.00          69.0   \n",
       "16448       Shooter      0.01      0.00      0.00         0.00          59.0   \n",
       "16458     Adventure      0.01      0.00      0.00         0.00           NaN   \n",
       "16522  Role-Playing      0.01      0.00      0.00         0.00          55.0   \n",
       "\n",
       "      user_score rating  \n",
       "183          8.5      E  \n",
       "377          6.4      E  \n",
       "456          7.9   E10+  \n",
       "475          NaN    NaN  \n",
       "609          NaN    NaN  \n",
       "...          ...    ...  \n",
       "16373        tbd   E10+  \n",
       "16405        6.5      T  \n",
       "16448        6.7      M  \n",
       "16458        NaN    NaN  \n",
       "16522        5.5      T  \n",
       "\n",
       "[269 rows x 11 columns]"
      ]
     },
     "execution_count": 10,
     "metadata": {},
     "output_type": "execute_result"
    }
   ],
   "source": [
    "games_data[games_data['year_of_release'].isna()]"
   ]
  },
  {
   "cell_type": "markdown",
   "metadata": {},
   "source": [
    "Просмотрев пропуски в столбце <mark>'year_of_release'</mark> видно, что год релиза игры в некоторых строках указан в конце названия в столбце <mark>'name'</mark>"
   ]
  },
  {
   "cell_type": "markdown",
   "metadata": {},
   "source": [
    "Создадим функцию которая будет принимать строки из датафрейма в столбце <mark>'year_of_release'</mark> у которых пропуск и будет возвращать нам int значение последних 4 символов минус 1, если они числовые"
   ]
  },
  {
   "cell_type": "code",
   "execution_count": 11,
   "metadata": {},
   "outputs": [],
   "source": [
    "def release_year(row):\n",
    "    # Если последние 4 символа числовые то мы возвращаем их int-ом и отнимаем 1\n",
    "    if row['name'][-4:].isnumeric():\n",
    "        return int(row['name'][-4:])-1"
   ]
  },
  {
   "cell_type": "markdown",
   "metadata": {},
   "source": [
    "Применим нашу функцию и сохраним Series с результатом во временную переменную ***temp***"
   ]
  },
  {
   "cell_type": "code",
   "execution_count": 12,
   "metadata": {},
   "outputs": [
    {
     "data": {
      "text/plain": [
       "183      2003.0\n",
       "377      2003.0\n",
       "456         NaN\n",
       "475      2005.0\n",
       "609         NaN\n",
       "          ...  \n",
       "16373    2007.0\n",
       "16405       NaN\n",
       "16448       NaN\n",
       "16458       NaN\n",
       "16522       NaN\n",
       "Length: 269, dtype: float64"
      ]
     },
     "execution_count": 12,
     "metadata": {},
     "output_type": "execute_result"
    }
   ],
   "source": [
    "temp = games_data[games_data['year_of_release'].isna()].apply(release_year, axis=1)\n",
    "temp"
   ]
  },
  {
   "cell_type": "markdown",
   "metadata": {},
   "source": [
    "Через **for** цикл пройдемся по всем индексам в сохраненной переменной и присвоим в нашем исходном датафрейме пропуски в столбце <mark>'year_of_release'</mark> значения из переменной"
   ]
  },
  {
   "cell_type": "code",
   "execution_count": 13,
   "metadata": {},
   "outputs": [],
   "source": [
    "for index in temp.index:\n",
    "    games_data.loc[index,'year_of_release'] = temp[index]"
   ]
  },
  {
   "cell_type": "markdown",
   "metadata": {},
   "source": [
    "Проверим сколько пропусков удалось убрать"
   ]
  },
  {
   "cell_type": "code",
   "execution_count": 14,
   "metadata": {},
   "outputs": [
    {
     "data": {
      "text/html": [
       "<div>\n",
       "<style scoped>\n",
       "    .dataframe tbody tr th:only-of-type {\n",
       "        vertical-align: middle;\n",
       "    }\n",
       "\n",
       "    .dataframe tbody tr th {\n",
       "        vertical-align: top;\n",
       "    }\n",
       "\n",
       "    .dataframe thead th {\n",
       "        text-align: right;\n",
       "    }\n",
       "</style>\n",
       "<table border=\"1\" class=\"dataframe\">\n",
       "  <thead>\n",
       "    <tr style=\"text-align: right;\">\n",
       "      <th></th>\n",
       "      <th>name</th>\n",
       "      <th>platform</th>\n",
       "      <th>year_of_release</th>\n",
       "      <th>genre</th>\n",
       "      <th>na_sales</th>\n",
       "      <th>eu_sales</th>\n",
       "      <th>jp_sales</th>\n",
       "      <th>other_sales</th>\n",
       "      <th>critic_score</th>\n",
       "      <th>user_score</th>\n",
       "      <th>rating</th>\n",
       "    </tr>\n",
       "  </thead>\n",
       "  <tbody>\n",
       "    <tr>\n",
       "      <th>456</th>\n",
       "      <td>LEGO Batman: The Videogame</td>\n",
       "      <td>Wii</td>\n",
       "      <td>NaN</td>\n",
       "      <td>Action</td>\n",
       "      <td>1.80</td>\n",
       "      <td>0.97</td>\n",
       "      <td>0.00</td>\n",
       "      <td>0.29</td>\n",
       "      <td>74.0</td>\n",
       "      <td>7.9</td>\n",
       "      <td>E10+</td>\n",
       "    </tr>\n",
       "    <tr>\n",
       "      <th>609</th>\n",
       "      <td>Space Invaders</td>\n",
       "      <td>2600</td>\n",
       "      <td>NaN</td>\n",
       "      <td>Shooter</td>\n",
       "      <td>2.36</td>\n",
       "      <td>0.14</td>\n",
       "      <td>0.00</td>\n",
       "      <td>0.03</td>\n",
       "      <td>NaN</td>\n",
       "      <td>NaN</td>\n",
       "      <td>NaN</td>\n",
       "    </tr>\n",
       "    <tr>\n",
       "      <th>627</th>\n",
       "      <td>Rock Band</td>\n",
       "      <td>X360</td>\n",
       "      <td>NaN</td>\n",
       "      <td>Misc</td>\n",
       "      <td>1.93</td>\n",
       "      <td>0.33</td>\n",
       "      <td>0.00</td>\n",
       "      <td>0.21</td>\n",
       "      <td>92.0</td>\n",
       "      <td>8.2</td>\n",
       "      <td>T</td>\n",
       "    </tr>\n",
       "    <tr>\n",
       "      <th>657</th>\n",
       "      <td>Frogger's Adventures: Temple of the Frog</td>\n",
       "      <td>GBA</td>\n",
       "      <td>NaN</td>\n",
       "      <td>Adventure</td>\n",
       "      <td>2.15</td>\n",
       "      <td>0.18</td>\n",
       "      <td>0.00</td>\n",
       "      <td>0.07</td>\n",
       "      <td>73.0</td>\n",
       "      <td>tbd</td>\n",
       "      <td>E</td>\n",
       "    </tr>\n",
       "    <tr>\n",
       "      <th>678</th>\n",
       "      <td>LEGO Indiana Jones: The Original Adventures</td>\n",
       "      <td>Wii</td>\n",
       "      <td>NaN</td>\n",
       "      <td>Action</td>\n",
       "      <td>1.51</td>\n",
       "      <td>0.61</td>\n",
       "      <td>0.00</td>\n",
       "      <td>0.21</td>\n",
       "      <td>78.0</td>\n",
       "      <td>6.6</td>\n",
       "      <td>E10+</td>\n",
       "    </tr>\n",
       "    <tr>\n",
       "      <th>...</th>\n",
       "      <td>...</td>\n",
       "      <td>...</td>\n",
       "      <td>...</td>\n",
       "      <td>...</td>\n",
       "      <td>...</td>\n",
       "      <td>...</td>\n",
       "      <td>...</td>\n",
       "      <td>...</td>\n",
       "      <td>...</td>\n",
       "      <td>...</td>\n",
       "      <td>...</td>\n",
       "    </tr>\n",
       "    <tr>\n",
       "      <th>16348</th>\n",
       "      <td>Agarest Senki: Re-appearance</td>\n",
       "      <td>PS3</td>\n",
       "      <td>NaN</td>\n",
       "      <td>Role-Playing</td>\n",
       "      <td>0.00</td>\n",
       "      <td>0.00</td>\n",
       "      <td>0.01</td>\n",
       "      <td>0.00</td>\n",
       "      <td>NaN</td>\n",
       "      <td>NaN</td>\n",
       "      <td>NaN</td>\n",
       "    </tr>\n",
       "    <tr>\n",
       "      <th>16405</th>\n",
       "      <td>Freaky Flyers</td>\n",
       "      <td>GC</td>\n",
       "      <td>NaN</td>\n",
       "      <td>Racing</td>\n",
       "      <td>0.01</td>\n",
       "      <td>0.00</td>\n",
       "      <td>0.00</td>\n",
       "      <td>0.00</td>\n",
       "      <td>69.0</td>\n",
       "      <td>6.5</td>\n",
       "      <td>T</td>\n",
       "    </tr>\n",
       "    <tr>\n",
       "      <th>16448</th>\n",
       "      <td>Inversion</td>\n",
       "      <td>PC</td>\n",
       "      <td>NaN</td>\n",
       "      <td>Shooter</td>\n",
       "      <td>0.01</td>\n",
       "      <td>0.00</td>\n",
       "      <td>0.00</td>\n",
       "      <td>0.00</td>\n",
       "      <td>59.0</td>\n",
       "      <td>6.7</td>\n",
       "      <td>M</td>\n",
       "    </tr>\n",
       "    <tr>\n",
       "      <th>16458</th>\n",
       "      <td>Hakuouki: Shinsengumi Kitan</td>\n",
       "      <td>PS3</td>\n",
       "      <td>NaN</td>\n",
       "      <td>Adventure</td>\n",
       "      <td>0.01</td>\n",
       "      <td>0.00</td>\n",
       "      <td>0.00</td>\n",
       "      <td>0.00</td>\n",
       "      <td>NaN</td>\n",
       "      <td>NaN</td>\n",
       "      <td>NaN</td>\n",
       "    </tr>\n",
       "    <tr>\n",
       "      <th>16522</th>\n",
       "      <td>Virtua Quest</td>\n",
       "      <td>GC</td>\n",
       "      <td>NaN</td>\n",
       "      <td>Role-Playing</td>\n",
       "      <td>0.01</td>\n",
       "      <td>0.00</td>\n",
       "      <td>0.00</td>\n",
       "      <td>0.00</td>\n",
       "      <td>55.0</td>\n",
       "      <td>5.5</td>\n",
       "      <td>T</td>\n",
       "    </tr>\n",
       "  </tbody>\n",
       "</table>\n",
       "<p>254 rows × 11 columns</p>\n",
       "</div>"
      ],
      "text/plain": [
       "                                              name platform  year_of_release  \\\n",
       "456                     LEGO Batman: The Videogame      Wii              NaN   \n",
       "609                                 Space Invaders     2600              NaN   \n",
       "627                                      Rock Band     X360              NaN   \n",
       "657       Frogger's Adventures: Temple of the Frog      GBA              NaN   \n",
       "678    LEGO Indiana Jones: The Original Adventures      Wii              NaN   \n",
       "...                                            ...      ...              ...   \n",
       "16348                 Agarest Senki: Re-appearance      PS3              NaN   \n",
       "16405                                Freaky Flyers       GC              NaN   \n",
       "16448                                    Inversion       PC              NaN   \n",
       "16458                  Hakuouki: Shinsengumi Kitan      PS3              NaN   \n",
       "16522                                 Virtua Quest       GC              NaN   \n",
       "\n",
       "              genre  na_sales  eu_sales  jp_sales  other_sales  critic_score  \\\n",
       "456          Action      1.80      0.97      0.00         0.29          74.0   \n",
       "609         Shooter      2.36      0.14      0.00         0.03           NaN   \n",
       "627            Misc      1.93      0.33      0.00         0.21          92.0   \n",
       "657       Adventure      2.15      0.18      0.00         0.07          73.0   \n",
       "678          Action      1.51      0.61      0.00         0.21          78.0   \n",
       "...             ...       ...       ...       ...          ...           ...   \n",
       "16348  Role-Playing      0.00      0.00      0.01         0.00           NaN   \n",
       "16405        Racing      0.01      0.00      0.00         0.00          69.0   \n",
       "16448       Shooter      0.01      0.00      0.00         0.00          59.0   \n",
       "16458     Adventure      0.01      0.00      0.00         0.00           NaN   \n",
       "16522  Role-Playing      0.01      0.00      0.00         0.00          55.0   \n",
       "\n",
       "      user_score rating  \n",
       "456          7.9   E10+  \n",
       "609          NaN    NaN  \n",
       "627          8.2      T  \n",
       "657          tbd      E  \n",
       "678          6.6   E10+  \n",
       "...          ...    ...  \n",
       "16348        NaN    NaN  \n",
       "16405        6.5      T  \n",
       "16448        6.7      M  \n",
       "16458        NaN    NaN  \n",
       "16522        5.5      T  \n",
       "\n",
       "[254 rows x 11 columns]"
      ]
     },
     "execution_count": 14,
     "metadata": {},
     "output_type": "execute_result"
    }
   ],
   "source": [
    "games_data[games_data['year_of_release'].isna()]"
   ]
  },
  {
   "cell_type": "markdown",
   "metadata": {},
   "source": [
    "Таким образом удалось избавиться от 15 пропусков. Не слишком много, но данный метод мог бы оказаться более полезным в случае если бы таких ситуаций было больше. Остальные пропуски в этом столбце оставим как есть "
   ]
  },
  {
   "cell_type": "markdown",
   "metadata": {},
   "source": [
    "Термин TBD ( англ. to be determined) означает - что к моменту заполнения данной таблицы не было конкретной информации и означает, что в контексте нашей таблицы TBD равнозначно NaN. можно заменить TBD на NaN для дальнейшей работы с этим столбцом как с числовым "
   ]
  },
  {
   "cell_type": "markdown",
   "metadata": {},
   "source": [
    "Далее переведем тип данных в этом столбце с str на float"
   ]
  },
  {
   "cell_type": "code",
   "execution_count": 15,
   "metadata": {},
   "outputs": [],
   "source": [
    "games_data['user_score'] = games_data['user_score'].replace('tbd', np.NaN)\n",
    "games_data['user_score'] = games_data['user_score'].astype(float)"
   ]
  },
  {
   "cell_type": "markdown",
   "metadata": {},
   "source": [
    "Создадим новый столбец который содержит в себе данные о суммарных продажах во всех регионах и назовем его <mark>'total_sales'</mark>"
   ]
  },
  {
   "cell_type": "code",
   "execution_count": 16,
   "metadata": {},
   "outputs": [],
   "source": [
    "games_data['total_sales'] = games_data[['na_sales','eu_sales','jp_sales', 'other_sales']].sum(axis = 1)"
   ]
  },
  {
   "cell_type": "code",
   "execution_count": 17,
   "metadata": {},
   "outputs": [
    {
     "data": {
      "text/plain": [
       "E       3990\n",
       "T       2961\n",
       "M       1563\n",
       "E10+    1420\n",
       "EC         8\n",
       "K-A        3\n",
       "RP         3\n",
       "AO         1\n",
       "Name: rating, dtype: int64"
      ]
     },
     "execution_count": 17,
     "metadata": {},
     "output_type": "execute_result"
    }
   ],
   "source": [
    "games_data['rating'].value_counts()"
   ]
  },
  {
   "cell_type": "code",
   "execution_count": 18,
   "metadata": {},
   "outputs": [],
   "source": [
    "games_data['rating'].replace(['EC', 'K-A'], 'E', inplace=True)"
   ]
  },
  {
   "cell_type": "code",
   "execution_count": 19,
   "metadata": {},
   "outputs": [
    {
     "data": {
      "text/plain": [
       "RP      6767\n",
       "E       4001\n",
       "T       2961\n",
       "M       1563\n",
       "E10+    1420\n",
       "AO         1\n",
       "Name: rating, dtype: int64"
      ]
     },
     "execution_count": 19,
     "metadata": {},
     "output_type": "execute_result"
    }
   ],
   "source": [
    "games_data['rating'] = games_data['rating'].fillna('RP')\n",
    "games_data['rating'].value_counts()"
   ]
  },
  {
   "cell_type": "markdown",
   "metadata": {},
   "source": [
    "*Вывод:* Предобработка данных завершена, данные подкорректированы, приступаем к исследовательскому анализу "
   ]
  },
  {
   "cell_type": "markdown",
   "metadata": {},
   "source": [
    "## Исследовательский анализ данных"
   ]
  },
  {
   "cell_type": "markdown",
   "metadata": {},
   "source": [
    "Для начала посмотрим количество выпускаемых игр по годам"
   ]
  },
  {
   "cell_type": "code",
   "execution_count": 20,
   "metadata": {},
   "outputs": [
    {
     "data": {
      "image/png": "[encoded data removed]",
      "text/plain": [
       "<Figure size 1080x720 with 1 Axes>"
      ]
     },
     "metadata": {
      "needs_background": "light"
     },
     "output_type": "display_data"
    }
   ],
   "source": [
    "games_data.groupby('year_of_release')['name'].count().plot(kind='bar', figsize=(15, 10), grid=True, xlabel='Год',\n",
    "                                                          ylabel='Количество продаж', title='Продажи по годам');"
   ]
  },
  {
   "cell_type": "markdown",
   "metadata": {},
   "source": [
    "По графику видно, что игровая индустрия начала свою бурную активность в середине 90-х и достигла своего пика в 2008-2009 годах, а далее началось резкое падение"
   ]
  },
  {
   "cell_type": "markdown",
   "metadata": {},
   "source": [
    "Сгруппируем данные по платформам и сумме всех продаж. Также отсортируем данные по продажам и выведем топ 10 самых популярных платформ за все время наблюдения "
   ]
  },
  {
   "cell_type": "code",
   "execution_count": 21,
   "metadata": {},
   "outputs": [],
   "source": [
    "top_10_platform = games_data.groupby('platform')['total_sales'].sum().sort_values(ascending=False).head(10)"
   ]
  },
  {
   "cell_type": "markdown",
   "metadata": {},
   "source": [
    "Построим графики по каждой платформе, входящей в топ 10 и по годам"
   ]
  },
  {
   "cell_type": "code",
   "execution_count": 22,
   "metadata": {},
   "outputs": [
    {
     "data": {
      "image/png": "[encoded data removed]",
      "text/plain": [
       "<Figure size 432x288 with 1 Axes>"
      ]
     },
     "metadata": {
      "needs_background": "light"
     },
     "output_type": "display_data"
    },
    {
     "data": {
      "image/png": "[encoded data removed]",
      "text/plain": [
       "<Figure size 432x288 with 1 Axes>"
      ]
     },
     "metadata": {
      "needs_background": "light"
     },
     "output_type": "display_data"
    },
    {
     "data": {
      "image/png": "[encoded data removed]",
      "text/plain": [
       "<Figure size 432x288 with 1 Axes>"
      ]
     },
     "metadata": {
      "needs_background": "light"
     },
     "output_type": "display_data"
    },
    {
     "data": {
      "image/png": "[encoded data removed]",
      "text/plain": [
       "<Figure size 432x288 with 1 Axes>"
      ]
     },
     "metadata": {
      "needs_background": "light"
     },
     "output_type": "display_data"
    },
    {
     "data": {
      "image/png": "[encoded data removed]",
      "text/plain": [
       "<Figure size 432x288 with 1 Axes>"
      ]
     },
     "metadata": {
      "needs_background": "light"
     },
     "output_type": "display_data"
    },
    {
     "data": {
      "image/png": "[encoded data removed]",
      "text/plain": [
       "<Figure size 432x288 with 1 Axes>"
      ]
     },
     "metadata": {
      "needs_background": "light"
     },
     "output_type": "display_data"
    },
    {
     "data": {
      "image/png": "[encoded data removed]",
      "text/plain": [
       "<Figure size 432x288 with 1 Axes>"
      ]
     },
     "metadata": {
      "needs_background": "light"
     },
     "output_type": "display_data"
    },
    {
     "data": {
      "image/png": "[encoded data removed]",
      "text/plain": [
       "<Figure size 432x288 with 1 Axes>"
      ]
     },
     "metadata": {
      "needs_background": "light"
     },
     "output_type": "display_data"
    },
    {
     "data": {
      "image/png": "[encoded data removed]",
      "text/plain": [
       "<Figure size 432x288 with 1 Axes>"
      ]
     },
     "metadata": {
      "needs_background": "light"
     },
     "output_type": "display_data"
    },
    {
     "data": {
      "image/png": "[encoded data removed]",
      "text/plain": [
       "<Figure size 432x288 with 1 Axes>"
      ]
     },
     "metadata": {
      "needs_background": "light"
     },
     "output_type": "display_data"
    }
   ],
   "source": [
    "for platform in top_10_platform.index:\n",
    "    (\n",
    "        games_data[games_data['platform'] == platform]\n",
    "        .groupby('year_of_release')['platform']\n",
    "        .count()\n",
    "        .plot(title=platform, grid=True)\n",
    "    )\n",
    "    plt.show()"
   ]
  },
  {
   "cell_type": "markdown",
   "metadata": {},
   "source": [
    "Исходя из графиков представленных выше можно сделать вывод, что популярные платформы существуют приблизительно 10 +- 2 года и пика своей популярности достигают где-то в середине своего существования (5-6 лет)."
   ]
  },
  {
   "cell_type": "markdown",
   "metadata": {},
   "source": [
    "Так как информация нужна для прогноза на 2017 год, то следует брать в учет платформы, которые вышли на рынок где-то 5-7 лет назад от нашей точки (2017 год). Соответственно, берем те платформы, на которые начали выпускать игры от 2012 года и запишем актуальные платформы в новую переменную <mark>games_data_actual</mark>"
   ]
  },
  {
   "cell_type": "code",
   "execution_count": 23,
   "metadata": {},
   "outputs": [],
   "source": [
    "games_data_actual = games_data[games_data['year_of_release'] >= 2012]"
   ]
  },
  {
   "cell_type": "markdown",
   "metadata": {},
   "source": [
    "Сгруппируем данные по платформам от 2012 года и по количеству выпускаемых игр по годам"
   ]
  },
  {
   "cell_type": "code",
   "execution_count": 24,
   "metadata": {},
   "outputs": [
    {
     "data": {
      "text/html": [
       "<div>\n",
       "<style scoped>\n",
       "    .dataframe tbody tr th:only-of-type {\n",
       "        vertical-align: middle;\n",
       "    }\n",
       "\n",
       "    .dataframe tbody tr th {\n",
       "        vertical-align: top;\n",
       "    }\n",
       "\n",
       "    .dataframe thead th {\n",
       "        text-align: right;\n",
       "    }\n",
       "</style>\n",
       "<table border=\"1\" class=\"dataframe\">\n",
       "  <thead>\n",
       "    <tr style=\"text-align: right;\">\n",
       "      <th></th>\n",
       "      <th></th>\n",
       "      <th>total_sales</th>\n",
       "    </tr>\n",
       "    <tr>\n",
       "      <th>platform</th>\n",
       "      <th>year_of_release</th>\n",
       "      <th></th>\n",
       "    </tr>\n",
       "  </thead>\n",
       "  <tbody>\n",
       "    <tr>\n",
       "      <th rowspan=\"5\" valign=\"top\">3DS</th>\n",
       "      <th>2012.0</th>\n",
       "      <td>93</td>\n",
       "    </tr>\n",
       "    <tr>\n",
       "      <th>2013.0</th>\n",
       "      <td>91</td>\n",
       "    </tr>\n",
       "    <tr>\n",
       "      <th>2014.0</th>\n",
       "      <td>80</td>\n",
       "    </tr>\n",
       "    <tr>\n",
       "      <th>2015.0</th>\n",
       "      <td>86</td>\n",
       "    </tr>\n",
       "    <tr>\n",
       "      <th>2016.0</th>\n",
       "      <td>46</td>\n",
       "    </tr>\n",
       "    <tr>\n",
       "      <th rowspan=\"2\" valign=\"top\">DS</th>\n",
       "      <th>2012.0</th>\n",
       "      <td>23</td>\n",
       "    </tr>\n",
       "    <tr>\n",
       "      <th>2013.0</th>\n",
       "      <td>8</td>\n",
       "    </tr>\n",
       "    <tr>\n",
       "      <th rowspan=\"5\" valign=\"top\">PC</th>\n",
       "      <th>2012.0</th>\n",
       "      <td>61</td>\n",
       "    </tr>\n",
       "    <tr>\n",
       "      <th>2013.0</th>\n",
       "      <td>38</td>\n",
       "    </tr>\n",
       "    <tr>\n",
       "      <th>2014.0</th>\n",
       "      <td>47</td>\n",
       "    </tr>\n",
       "    <tr>\n",
       "      <th>2015.0</th>\n",
       "      <td>50</td>\n",
       "    </tr>\n",
       "    <tr>\n",
       "      <th>2016.0</th>\n",
       "      <td>54</td>\n",
       "    </tr>\n",
       "    <tr>\n",
       "      <th rowspan=\"5\" valign=\"top\">PS3</th>\n",
       "      <th>2012.0</th>\n",
       "      <td>148</td>\n",
       "    </tr>\n",
       "    <tr>\n",
       "      <th>2013.0</th>\n",
       "      <td>126</td>\n",
       "    </tr>\n",
       "    <tr>\n",
       "      <th>2014.0</th>\n",
       "      <td>108</td>\n",
       "    </tr>\n",
       "    <tr>\n",
       "      <th>2015.0</th>\n",
       "      <td>73</td>\n",
       "    </tr>\n",
       "    <tr>\n",
       "      <th>2016.0</th>\n",
       "      <td>38</td>\n",
       "    </tr>\n",
       "    <tr>\n",
       "      <th rowspan=\"4\" valign=\"top\">PS4</th>\n",
       "      <th>2013.0</th>\n",
       "      <td>16</td>\n",
       "    </tr>\n",
       "    <tr>\n",
       "      <th>2014.0</th>\n",
       "      <td>75</td>\n",
       "    </tr>\n",
       "    <tr>\n",
       "      <th>2015.0</th>\n",
       "      <td>137</td>\n",
       "    </tr>\n",
       "    <tr>\n",
       "      <th>2016.0</th>\n",
       "      <td>164</td>\n",
       "    </tr>\n",
       "    <tr>\n",
       "      <th rowspan=\"4\" valign=\"top\">PSP</th>\n",
       "      <th>2012.0</th>\n",
       "      <td>106</td>\n",
       "    </tr>\n",
       "    <tr>\n",
       "      <th>2013.0</th>\n",
       "      <td>54</td>\n",
       "    </tr>\n",
       "    <tr>\n",
       "      <th>2014.0</th>\n",
       "      <td>10</td>\n",
       "    </tr>\n",
       "    <tr>\n",
       "      <th>2015.0</th>\n",
       "      <td>3</td>\n",
       "    </tr>\n",
       "    <tr>\n",
       "      <th rowspan=\"5\" valign=\"top\">PSV</th>\n",
       "      <th>2012.0</th>\n",
       "      <td>53</td>\n",
       "    </tr>\n",
       "    <tr>\n",
       "      <th>2013.0</th>\n",
       "      <td>63</td>\n",
       "    </tr>\n",
       "    <tr>\n",
       "      <th>2014.0</th>\n",
       "      <td>100</td>\n",
       "    </tr>\n",
       "    <tr>\n",
       "      <th>2015.0</th>\n",
       "      <td>110</td>\n",
       "    </tr>\n",
       "    <tr>\n",
       "      <th>2016.0</th>\n",
       "      <td>85</td>\n",
       "    </tr>\n",
       "    <tr>\n",
       "      <th rowspan=\"5\" valign=\"top\">Wii</th>\n",
       "      <th>2012.0</th>\n",
       "      <td>31</td>\n",
       "    </tr>\n",
       "    <tr>\n",
       "      <th>2013.0</th>\n",
       "      <td>12</td>\n",
       "    </tr>\n",
       "    <tr>\n",
       "      <th>2014.0</th>\n",
       "      <td>6</td>\n",
       "    </tr>\n",
       "    <tr>\n",
       "      <th>2015.0</th>\n",
       "      <td>4</td>\n",
       "    </tr>\n",
       "    <tr>\n",
       "      <th>2016.0</th>\n",
       "      <td>1</td>\n",
       "    </tr>\n",
       "    <tr>\n",
       "      <th rowspan=\"5\" valign=\"top\">WiiU</th>\n",
       "      <th>2012.0</th>\n",
       "      <td>32</td>\n",
       "    </tr>\n",
       "    <tr>\n",
       "      <th>2013.0</th>\n",
       "      <td>42</td>\n",
       "    </tr>\n",
       "    <tr>\n",
       "      <th>2014.0</th>\n",
       "      <td>31</td>\n",
       "    </tr>\n",
       "    <tr>\n",
       "      <th>2015.0</th>\n",
       "      <td>28</td>\n",
       "    </tr>\n",
       "    <tr>\n",
       "      <th>2016.0</th>\n",
       "      <td>14</td>\n",
       "    </tr>\n",
       "    <tr>\n",
       "      <th rowspan=\"5\" valign=\"top\">X360</th>\n",
       "      <th>2012.0</th>\n",
       "      <td>106</td>\n",
       "    </tr>\n",
       "    <tr>\n",
       "      <th>2013.0</th>\n",
       "      <td>75</td>\n",
       "    </tr>\n",
       "    <tr>\n",
       "      <th>2014.0</th>\n",
       "      <td>63</td>\n",
       "    </tr>\n",
       "    <tr>\n",
       "      <th>2015.0</th>\n",
       "      <td>35</td>\n",
       "    </tr>\n",
       "    <tr>\n",
       "      <th>2016.0</th>\n",
       "      <td>13</td>\n",
       "    </tr>\n",
       "    <tr>\n",
       "      <th rowspan=\"4\" valign=\"top\">XOne</th>\n",
       "      <th>2013.0</th>\n",
       "      <td>19</td>\n",
       "    </tr>\n",
       "    <tr>\n",
       "      <th>2014.0</th>\n",
       "      <td>61</td>\n",
       "    </tr>\n",
       "    <tr>\n",
       "      <th>2015.0</th>\n",
       "      <td>80</td>\n",
       "    </tr>\n",
       "    <tr>\n",
       "      <th>2016.0</th>\n",
       "      <td>87</td>\n",
       "    </tr>\n",
       "  </tbody>\n",
       "</table>\n",
       "</div>"
      ],
      "text/plain": [
       "                          total_sales\n",
       "platform year_of_release             \n",
       "3DS      2012.0                    93\n",
       "         2013.0                    91\n",
       "         2014.0                    80\n",
       "         2015.0                    86\n",
       "         2016.0                    46\n",
       "DS       2012.0                    23\n",
       "         2013.0                     8\n",
       "PC       2012.0                    61\n",
       "         2013.0                    38\n",
       "         2014.0                    47\n",
       "         2015.0                    50\n",
       "         2016.0                    54\n",
       "PS3      2012.0                   148\n",
       "         2013.0                   126\n",
       "         2014.0                   108\n",
       "         2015.0                    73\n",
       "         2016.0                    38\n",
       "PS4      2013.0                    16\n",
       "         2014.0                    75\n",
       "         2015.0                   137\n",
       "         2016.0                   164\n",
       "PSP      2012.0                   106\n",
       "         2013.0                    54\n",
       "         2014.0                    10\n",
       "         2015.0                     3\n",
       "PSV      2012.0                    53\n",
       "         2013.0                    63\n",
       "         2014.0                   100\n",
       "         2015.0                   110\n",
       "         2016.0                    85\n",
       "Wii      2012.0                    31\n",
       "         2013.0                    12\n",
       "         2014.0                     6\n",
       "         2015.0                     4\n",
       "         2016.0                     1\n",
       "WiiU     2012.0                    32\n",
       "         2013.0                    42\n",
       "         2014.0                    31\n",
       "         2015.0                    28\n",
       "         2016.0                    14\n",
       "X360     2012.0                   106\n",
       "         2013.0                    75\n",
       "         2014.0                    63\n",
       "         2015.0                    35\n",
       "         2016.0                    13\n",
       "XOne     2013.0                    19\n",
       "         2014.0                    61\n",
       "         2015.0                    80\n",
       "         2016.0                    87"
      ]
     },
     "execution_count": 24,
     "metadata": {},
     "output_type": "execute_result"
    }
   ],
   "source": [
    "games_data_actual.pivot_table(index=['platform', 'year_of_release'], values='total_sales', aggfunc='count')"
   ]
  },
  {
   "cell_type": "markdown",
   "metadata": {},
   "source": [
    "Сохраняют свою популярность в 2015-2016 годах платформы:\n",
    "- PC\n",
    "- PS4\n",
    "- XOne"
   ]
  },
  {
   "cell_type": "markdown",
   "metadata": {},
   "source": [
    "На остальные платформы либо перестали выпускать игры, либо количество игр сокращается в разы"
   ]
  },
  {
   "cell_type": "markdown",
   "metadata": {},
   "source": [
    "Платформы **DS** **PSP** и **Wii** 'умерли' и их можно убрать из нашего актуального списка "
   ]
  },
  {
   "cell_type": "code",
   "execution_count": 25,
   "metadata": {},
   "outputs": [],
   "source": [
    "games_data_actual = games_data_actual[games_data_actual['platform'] != 'DS']\n",
    "games_data_actual = games_data_actual[games_data_actual['platform'] != 'PSP']\n",
    "games_data_actual = games_data_actual[games_data_actual['platform'] != 'Wii']"
   ]
  },
  {
   "cell_type": "markdown",
   "metadata": {},
   "source": [
    "Построим график ***boxplot*** для визуализации распределения продаж по платформам"
   ]
  },
  {
   "cell_type": "code",
   "execution_count": 26,
   "metadata": {},
   "outputs": [
    {
     "data": {
      "image/png": "[encoded data removed]",
      "text/plain": [
       "<Figure size 936x576 with 1 Axes>"
      ]
     },
     "metadata": {
      "needs_background": "light"
     },
     "output_type": "display_data"
    }
   ],
   "source": [
    "plt.figure(figsize=(13, 8))\n",
    "(sns.boxplot(data = games_data_actual, y = 'total_sales', x='platform')\n",
    "    .set(title = 'Продажи по платформам', xlabel = 'Платформы', ylabel = 'Общие продажи', ylim=(0, 2)))\n",
    "\n",
    "plt.show()"
   ]
  },
  {
   "cell_type": "markdown",
   "metadata": {},
   "source": [
    "На графике видны квартили медианы и можно сравнивать эти значения между платформами "
   ]
  },
  {
   "cell_type": "markdown",
   "metadata": {},
   "source": [
    "По графику лидером является приставка XBox 360 "
   ]
  },
  {
   "cell_type": "code",
   "execution_count": 27,
   "metadata": {
    "scrolled": false
   },
   "outputs": [
    {
     "data": {
      "image/png": "[encoded data removed]",
      "text/plain": [
       "<Figure size 936x576 with 1 Axes>"
      ]
     },
     "metadata": {
      "needs_background": "light"
     },
     "output_type": "display_data"
    }
   ],
   "source": [
    "plt.figure(figsize=(13, 8))\n",
    "(sns.boxplot(data = games_data_actual, y = 'total_sales', x='platform')\n",
    "    .set(title = 'Продажи по платформам', xlabel = 'Платформы', ylabel = 'Общие продажи', ylim=(0, 25)))\n",
    "\n",
    "plt.show()"
   ]
  },
  {
   "cell_type": "markdown",
   "metadata": {},
   "source": [
    "Данный график иллюстрирует выбросы по каждой платформе"
   ]
  },
  {
   "cell_type": "markdown",
   "metadata": {},
   "source": [
    "Наблюдаются большие выбросы по всем платформам. Это говорит о том что в каждой платформе есть игры которые продавались большими тиражами и множестиво игр которые не приносили серьезных доходов "
   ]
  },
  {
   "cell_type": "markdown",
   "metadata": {},
   "source": [
    "Возьмем самую популярную платформу. В данном случае это PS4. Построим **scatter matrix** по столбцам <mark>['critic_score', 'user_score', 'total_sales']</mark> для выявления корреляции "
   ]
  },
  {
   "cell_type": "code",
   "execution_count": 28,
   "metadata": {},
   "outputs": [],
   "source": [
    "ps4_data = games_data_actual[games_data_actual['platform'] == 'PS4']\n",
    "ps4_data = ps4_data[['critic_score', 'user_score', 'total_sales']]"
   ]
  },
  {
   "cell_type": "code",
   "execution_count": 29,
   "metadata": {},
   "outputs": [
    {
     "data": {
      "image/png": "[encoded data removed]",
      "text/plain": [
       "<Figure size 1080x720 with 9 Axes>"
      ]
     },
     "metadata": {
      "needs_background": "light"
     },
     "output_type": "display_data"
    }
   ],
   "source": [
    "pd.plotting.scatter_matrix(ps4_data, figsize=(15, 10));"
   ]
  },
  {
   "cell_type": "markdown",
   "metadata": {},
   "source": [
    "На графике отчетливо видно, что игры продаются в большем количестве, если критики выставили ей оценку больше 60 из 100. Теперь проверим корреляцию в цифрах"
   ]
  },
  {
   "cell_type": "code",
   "execution_count": 30,
   "metadata": {},
   "outputs": [
    {
     "data": {
      "text/plain": [
       "0.40656790206178095"
      ]
     },
     "execution_count": 30,
     "metadata": {},
     "output_type": "execute_result"
    }
   ],
   "source": [
    "ps4_data['critic_score'].corr(ps4_data['total_sales'])"
   ]
  },
  {
   "cell_type": "code",
   "execution_count": 31,
   "metadata": {},
   "outputs": [
    {
     "data": {
      "text/plain": [
       "-0.031957110204556376"
      ]
     },
     "execution_count": 31,
     "metadata": {},
     "output_type": "execute_result"
    }
   ],
   "source": [
    "ps4_data['total_sales'].corr(ps4_data['user_score'])"
   ]
  },
  {
   "cell_type": "markdown",
   "metadata": {},
   "source": [
    "Корреляция показывает что оценки критиков гораздо сильнее влияют на успех игры нежели оценки пользователей"
   ]
  },
  {
   "cell_type": "markdown",
   "metadata": {},
   "source": [
    "Возьмем две другие популярные платформы **PC** и **XOne**"
   ]
  },
  {
   "cell_type": "markdown",
   "metadata": {},
   "source": [
    "Построим такие же матрицы для них "
   ]
  },
  {
   "cell_type": "code",
   "execution_count": 32,
   "metadata": {},
   "outputs": [
    {
     "data": {
      "image/png": "[encoded data removed]",
      "text/plain": [
       "<Figure size 540x540 with 12 Axes>"
      ]
     },
     "metadata": {
      "needs_background": "light"
     },
     "output_type": "display_data"
    },
    {
     "data": {
      "image/png": "[encoded data removed]",
      "text/plain": [
       "<Figure size 540x540 with 12 Axes>"
      ]
     },
     "metadata": {
      "needs_background": "light"
     },
     "output_type": "display_data"
    }
   ],
   "source": [
    "pc_data = games_data_actual[games_data_actual['platform'] == 'PC']\n",
    "pc_data = pc_data[['critic_score', 'user_score', 'total_sales']]\n",
    "xone_data = games_data_actual[games_data_actual['platform'] == 'XOne']\n",
    "xone_data = xone_data[['critic_score', 'user_score', 'total_sales']]\n",
    "\n",
    "for data in [pc_data, xone_data]:\n",
    "    sns.pairplot(data)\n"
   ]
  },
  {
   "cell_type": "markdown",
   "metadata": {},
   "source": [
    "Результат получился схожим с **PS4**"
   ]
  },
  {
   "cell_type": "markdown",
   "metadata": {},
   "source": [
    "По актуальным данным распределим суммарную выручку по жанрам  "
   ]
  },
  {
   "cell_type": "code",
   "execution_count": 33,
   "metadata": {},
   "outputs": [
    {
     "data": {
      "text/plain": [
       "<AxesSubplot:xlabel='genre'>"
      ]
     },
     "execution_count": 33,
     "metadata": {},
     "output_type": "execute_result"
    },
    {
     "data": {
      "image/png": "[encoded data removed]",
      "text/plain": [
       "<Figure size 432x288 with 1 Axes>"
      ]
     },
     "metadata": {
      "needs_background": "light"
     },
     "output_type": "display_data"
    }
   ],
   "source": [
    "games_data_actual.groupby('genre')['total_sales'].mean().plot(kind='bar')"
   ]
  },
  {
   "cell_type": "markdown",
   "metadata": {},
   "source": [
    "График показывает, что самый прибыльный жанр это ***Shooter*** с большим отрывом от остальных. Далее идут **Sports** и **Platform**. Самый низкий по прибыльности жанр - **Adventure**"
   ]
  },
  {
   "cell_type": "markdown",
   "metadata": {},
   "source": [
    "## Составление портрета пользователей каждого региона"
   ]
  },
  {
   "cell_type": "markdown",
   "metadata": {},
   "source": [
    "Через группировку данных получим топ-5 самых популярных платформ по продажам игр в **Северной Америке**, **Европе** и  **Японии** "
   ]
  },
  {
   "cell_type": "code",
   "execution_count": 34,
   "metadata": {},
   "outputs": [
    {
     "data": {
      "image/png": "[encoded data removed]",
      "text/plain": [
       "<Figure size 432x288 with 1 Axes>"
      ]
     },
     "metadata": {
      "needs_background": "light"
     },
     "output_type": "display_data"
    },
    {
     "data": {
      "image/png": "[encoded data removed]",
      "text/plain": [
       "<Figure size 432x288 with 1 Axes>"
      ]
     },
     "metadata": {
      "needs_background": "light"
     },
     "output_type": "display_data"
    },
    {
     "data": {
      "image/png": "[encoded data removed]",
      "text/plain": [
       "<Figure size 432x288 with 1 Axes>"
      ]
     },
     "metadata": {
      "needs_background": "light"
     },
     "output_type": "display_data"
    }
   ],
   "source": [
    "for column in ['na_sales', 'eu_sales', 'jp_sales']:\n",
    "    (\n",
    "        games_data_actual\n",
    "        .groupby('platform')[column]\n",
    "        .sum()\n",
    "        .sort_values(ascending=False)\n",
    "        .head()\n",
    "        .plot(kind='bar', title=column, ylabel='sales')\n",
    "    )\n",
    "    plt.show()"
   ]
  },
  {
   "cell_type": "markdown",
   "metadata": {},
   "source": [
    "Самая популярная платформа в **Северной Америке** - *X360*"
   ]
  },
  {
   "cell_type": "markdown",
   "metadata": {},
   "source": [
    "Самая популярная платформа в **Европе**  - *PS4*"
   ]
  },
  {
   "cell_type": "markdown",
   "metadata": {},
   "source": [
    "Самая популярная платформа в **Японии** - *3DS*"
   ]
  },
  {
   "cell_type": "markdown",
   "metadata": {},
   "source": [
    "Точно так же проверим популярность жанров по регионам"
   ]
  },
  {
   "cell_type": "code",
   "execution_count": 35,
   "metadata": {},
   "outputs": [
    {
     "data": {
      "image/png": "[encoded data removed]",
      "text/plain": [
       "<Figure size 432x288 with 1 Axes>"
      ]
     },
     "metadata": {
      "needs_background": "light"
     },
     "output_type": "display_data"
    },
    {
     "data": {
      "image/png": "[encoded data removed]",
      "text/plain": [
       "<Figure size 432x288 with 1 Axes>"
      ]
     },
     "metadata": {
      "needs_background": "light"
     },
     "output_type": "display_data"
    },
    {
     "data": {
      "image/png": "[encoded data removed]",
      "text/plain": [
       "<Figure size 432x288 with 1 Axes>"
      ]
     },
     "metadata": {
      "needs_background": "light"
     },
     "output_type": "display_data"
    }
   ],
   "source": [
    "for column in ['na_sales', 'eu_sales', 'jp_sales']:\n",
    "    (\n",
    "        games_data_actual\n",
    "        .groupby('genre')[column]\n",
    "        .mean()\n",
    "        .sort_values(ascending=False)\n",
    "        .head()\n",
    "        .plot(kind='bar', title=column, ylabel='mean_sales')\n",
    "    )\n",
    "    plt.show()"
   ]
  },
  {
   "cell_type": "markdown",
   "metadata": {},
   "source": [
    "В **Северной Америке** и **Европе** схожие предпочтения по жанрам. Популярные жанры:\n",
    "- Shooter\n",
    "- Sports\n",
    "- Platform"
   ]
  },
  {
   "cell_type": "markdown",
   "metadata": {},
   "source": [
    "А в **Японии** лидирует жанр *Role-Playing*"
   ]
  },
  {
   "cell_type": "markdown",
   "metadata": {},
   "source": [
    "Оценим продажи по рейтингу ESRB"
   ]
  },
  {
   "cell_type": "code",
   "execution_count": 36,
   "metadata": {},
   "outputs": [
    {
     "data": {
      "image/png": "[encoded data removed]",
      "text/plain": [
       "<Figure size 432x288 with 1 Axes>"
      ]
     },
     "metadata": {
      "needs_background": "light"
     },
     "output_type": "display_data"
    },
    {
     "data": {
      "image/png": "[encoded data removed]",
      "text/plain": [
       "<Figure size 432x288 with 1 Axes>"
      ]
     },
     "metadata": {
      "needs_background": "light"
     },
     "output_type": "display_data"
    },
    {
     "data": {
      "image/png": "[encoded data removed]",
      "text/plain": [
       "<Figure size 432x288 with 1 Axes>"
      ]
     },
     "metadata": {
      "needs_background": "light"
     },
     "output_type": "display_data"
    }
   ],
   "source": [
    "for column in ['na_sales', 'eu_sales', 'jp_sales']:\n",
    "    (\n",
    "        games_data_actual\n",
    "        .groupby('rating')[column]\n",
    "        .sum()\n",
    "        .plot(kind='bar', title=column)\n",
    "    )\n",
    "    plt.show()"
   ]
  },
  {
   "cell_type": "markdown",
   "metadata": {},
   "source": [
    "В **Северной Америке** и **Европе** опять схожая картина и больше продаются игры с рейтингом **M** (17+)"
   ]
  },
  {
   "cell_type": "markdown",
   "metadata": {},
   "source": [
    "В **Японии** же слишком много неопределенных рейтингов "
   ]
  },
  {
   "cell_type": "markdown",
   "metadata": {},
   "source": [
    "Также можно заметить, что рейтинг 10+ самый редкий во всех регионах"
   ]
  },
  {
   "cell_type": "markdown",
   "metadata": {},
   "source": [
    "## Проверка гипотез"
   ]
  },
  {
   "cell_type": "markdown",
   "metadata": {},
   "source": [
    "- **H0** Средний пользовательский рейтинг платформ Xbox One и PC одинаковый;"
   ]
  },
  {
   "cell_type": "markdown",
   "metadata": {},
   "source": [
    "- **H1** Средний пользовательский рейтинг платформ Xbox One и PC отличаются;"
   ]
  },
  {
   "cell_type": "markdown",
   "metadata": {},
   "source": [
    "перед проверкой гипотез удалим строки с NaN"
   ]
  },
  {
   "cell_type": "code",
   "execution_count": 37,
   "metadata": {},
   "outputs": [
    {
     "name": "stdout",
     "output_type": "stream",
     "text": [
      "p-значение:  0.5489537965134912\n",
      "Не получилось отвергнуть нулевую гипотезу\n"
     ]
    }
   ],
   "source": [
    "sample_1 = games_data_actual[games_data_actual['platform'] == 'XOne']['user_score']\n",
    "sample_1 = sample_1.dropna()\n",
    "\n",
    "sample_2 = games_data_actual[games_data_actual['platform'] == 'PC']['user_score']\n",
    "sample_2 = sample_2.dropna()\n",
    "\n",
    "results = st.ttest_ind(sample_1, sample_2, equal_var = False)\n",
    "alpha = .05\n",
    "\n",
    "print('p-значение: ', results.pvalue)\n",
    "\n",
    "if results.pvalue < alpha :\n",
    "    print('Отвергаем нулевую гипотезу')\n",
    "else:\n",
    "    print('Не получилось отвергнуть нулевую гипотезу')"
   ]
  },
  {
   "cell_type": "markdown",
   "metadata": {},
   "source": [
    "- **H0** Средние пользовательские рейтинги жанров Action (англ. «действие», экшен-игры) и Sports (англ. «спортивные соревнования») равны."
   ]
  },
  {
   "cell_type": "markdown",
   "metadata": {},
   "source": [
    "- **H1** Средние пользовательские рейтинги жанров Action (англ. «действие», экшен-игры) и Sports (англ. «спортивные соревнования») отличаются."
   ]
  },
  {
   "cell_type": "code",
   "execution_count": 38,
   "metadata": {},
   "outputs": [
    {
     "name": "stdout",
     "output_type": "stream",
     "text": [
      "p-значение:  4.105960298744456e-20\n",
      "Отвергаем нулевую гипотезу\n"
     ]
    }
   ],
   "source": [
    "sample_1 = games_data_actual[games_data_actual['genre'] == 'Action']['user_score']\n",
    "sample_1 = sample_1.dropna()\n",
    "sample_2 = games_data_actual[games_data_actual['genre'] == 'Sports']['user_score']\n",
    "sample_2 = sample_2.dropna()\n",
    "results = st.ttest_ind(sample_1, sample_2, equal_var = False)\n",
    "alpha = .05\n",
    "print('p-значение: ', results.pvalue)\n",
    "\n",
    "if results.pvalue < alpha:\n",
    "    print('Отвергаем нулевую гипотезу')\n",
    "else:\n",
    "    print('Не получилось отвергнуть нулевую гипотезу')"
   ]
  },
  {
   "cell_type": "markdown",
   "metadata": {},
   "source": [
    "Нулевая гипотеза отвергается средние пользовательские рейтинги жанров Action и Sports не равны "
   ]
  },
  {
   "cell_type": "markdown",
   "metadata": {},
   "source": [
    "# Вывод"
   ]
  },
  {
   "cell_type": "markdown",
   "metadata": {},
   "source": [
    " <font size=\"3\"><b>Подготовка данных</b></font>\n"
   ]
  },
  {
   "cell_type": "markdown",
   "metadata": {},
   "source": [
    "Во время работы с данными была проведена предобработка. Изменены типы данных некоторых столбцов и добавлен новый. Также были заполнены пропуски (по возможности)."
   ]
  },
  {
   "cell_type": "markdown",
   "metadata": {},
   "source": [
    " <font size=\"3\"><b>Анализ данных</b></font>"
   ]
  },
  {
   "cell_type": "markdown",
   "metadata": {},
   "source": [
    "Во время исследовательского анализа данных мы оценили количество выпускаемых игр по годам и пришли к выводу что самыми частыми, по выпуску игр, годами стали 2008-2009, а сама игровая индустрия начала сильно активизироваться в середине 90-х. \n",
    "Также оценили срок существования каждой взятой отдельно игровой платформы и оценили период ее пика. По нескольким выборкам определили самые популярные платформы подходящие под нашу цель исследования. "
   ]
  },
  {
   "cell_type": "markdown",
   "metadata": {},
   "source": [
    "Предположили что самыми популярными платформами 2017 года будут:\n",
    "- PC \n",
    "- PS4\n",
    "- Xbox One\n"
   ]
  },
  {
   "cell_type": "markdown",
   "metadata": {},
   "source": [
    "Также отбросили неперспективные платформы, на которые либо перестали создавать игры, либо их было слишком мало."
   ]
  },
  {
   "cell_type": "markdown",
   "metadata": {},
   "source": [
    "<font size=\"3\"><b>Корреляция и проверка гипотез</b></font>"
   ]
  },
  {
   "cell_type": "markdown",
   "metadata": {},
   "source": [
    "Проверили корреляцию между событиями и выявили, что высокие оценки критиков влияют на успешность проекта в итоге."
   ]
  },
  {
   "cell_type": "markdown",
   "metadata": {},
   "source": [
    "Далее определили любимые жанры и платформы в зависимости от региона, а также влияние рейтинга ESRB на продажу игр."
   ]
  },
  {
   "cell_type": "markdown",
   "metadata": {},
   "source": [
    "Проверили две гипотезы, отбросили одну и не отбросили другую. \n",
    "Более подробно все описано в самом проекте."
   ]
  }
 ],
 "metadata": {
  "ExecuteTimeLog": [
   {
    "duration": 416,
    "start_time": "2022-11-28T12:47:37.498Z"
   },
   {
    "duration": 90,
    "start_time": "2022-11-28T12:52:12.214Z"
   },
   {
    "duration": 51,
    "start_time": "2022-11-28T12:52:19.281Z"
   },
   {
    "duration": 32,
    "start_time": "2022-11-28T12:52:24.950Z"
   },
   {
    "duration": 15,
    "start_time": "2022-11-28T12:52:39.821Z"
   },
   {
    "duration": 14,
    "start_time": "2022-11-28T12:52:51.745Z"
   },
   {
    "duration": 2,
    "start_time": "2022-11-28T12:59:04.993Z"
   },
   {
    "duration": 48,
    "start_time": "2022-11-28T13:04:47.514Z"
   },
   {
    "duration": 13,
    "start_time": "2022-11-28T13:05:20.567Z"
   },
   {
    "duration": 16,
    "start_time": "2022-11-28T13:05:22.670Z"
   },
   {
    "duration": 14,
    "start_time": "2022-11-28T13:05:24.580Z"
   },
   {
    "duration": 873,
    "start_time": "2022-11-28T13:09:47.734Z"
   },
   {
    "duration": 4,
    "start_time": "2022-11-28T13:10:22.009Z"
   },
   {
    "duration": 69,
    "start_time": "2022-11-28T13:10:52.185Z"
   },
   {
    "duration": 5,
    "start_time": "2022-11-28T13:11:57.702Z"
   },
   {
    "duration": 4,
    "start_time": "2022-11-28T13:12:24.673Z"
   },
   {
    "duration": 5,
    "start_time": "2022-11-28T13:12:33.492Z"
   },
   {
    "duration": 3,
    "start_time": "2022-11-28T13:13:29.826Z"
   },
   {
    "duration": 4,
    "start_time": "2022-11-28T13:13:30.513Z"
   },
   {
    "duration": 5,
    "start_time": "2022-11-28T13:13:39.981Z"
   },
   {
    "duration": 882,
    "start_time": "2022-11-28T13:15:32.331Z"
   },
   {
    "duration": 6,
    "start_time": "2022-11-28T13:15:53.030Z"
   },
   {
    "duration": 25,
    "start_time": "2022-11-28T13:16:02.612Z"
   },
   {
    "duration": 31,
    "start_time": "2022-11-28T13:17:13.175Z"
   },
   {
    "duration": 4,
    "start_time": "2022-11-28T13:19:38.398Z"
   },
   {
    "duration": 22,
    "start_time": "2022-11-28T13:19:43.093Z"
   },
   {
    "duration": 101,
    "start_time": "2022-11-28T13:24:58.110Z"
   },
   {
    "duration": 786,
    "start_time": "2022-11-28T13:25:06.081Z"
   },
   {
    "duration": 178,
    "start_time": "2022-11-28T13:27:17.273Z"
   },
   {
    "duration": 221,
    "start_time": "2022-11-28T13:27:24.732Z"
   },
   {
    "duration": 618,
    "start_time": "2022-11-28T13:28:37.488Z"
   },
   {
    "duration": 18,
    "start_time": "2022-11-28T13:29:02.828Z"
   },
   {
    "duration": 551,
    "start_time": "2022-11-28T13:29:07.363Z"
   },
   {
    "duration": 23,
    "start_time": "2022-11-28T13:29:31.564Z"
   },
   {
    "duration": 22,
    "start_time": "2022-11-28T13:29:47.346Z"
   },
   {
    "duration": 12,
    "start_time": "2022-11-28T13:30:03.934Z"
   },
   {
    "duration": 21,
    "start_time": "2022-11-28T13:30:09.561Z"
   },
   {
    "duration": 47,
    "start_time": "2022-11-28T13:30:35.685Z"
   },
   {
    "duration": 11,
    "start_time": "2022-11-28T13:30:55.500Z"
   },
   {
    "duration": 32,
    "start_time": "2022-11-28T13:31:01.030Z"
   },
   {
    "duration": 201,
    "start_time": "2022-11-28T13:32:46.754Z"
   },
   {
    "duration": 14,
    "start_time": "2022-11-28T13:35:50.045Z"
   },
   {
    "duration": 21,
    "start_time": "2022-11-28T13:35:53.780Z"
   },
   {
    "duration": 14,
    "start_time": "2022-11-28T13:36:39.461Z"
   },
   {
    "duration": 225,
    "start_time": "2022-11-28T13:36:49.577Z"
   },
   {
    "duration": 15,
    "start_time": "2022-11-28T13:37:01.818Z"
   },
   {
    "duration": 73,
    "start_time": "2022-11-28T13:37:22.925Z"
   },
   {
    "duration": 10,
    "start_time": "2022-11-28T13:37:28.630Z"
   },
   {
    "duration": 630,
    "start_time": "2022-11-28T13:37:48.789Z"
   },
   {
    "duration": 9,
    "start_time": "2022-11-28T13:45:39.067Z"
   },
   {
    "duration": 30,
    "start_time": "2022-11-28T13:48:19.101Z"
   },
   {
    "duration": 22,
    "start_time": "2022-11-28T13:49:55.359Z"
   },
   {
    "duration": 5,
    "start_time": "2022-11-28T13:50:00.806Z"
   },
   {
    "duration": 53,
    "start_time": "2022-11-28T13:50:04.714Z"
   },
   {
    "duration": 20,
    "start_time": "2022-11-28T13:50:06.147Z"
   },
   {
    "duration": 15,
    "start_time": "2022-11-28T13:50:06.868Z"
   },
   {
    "duration": 5,
    "start_time": "2022-11-28T13:50:08.623Z"
   },
   {
    "duration": 28,
    "start_time": "2022-11-28T13:50:09.907Z"
   },
   {
    "duration": 61,
    "start_time": "2022-11-28T13:50:53.256Z"
   },
   {
    "duration": 24,
    "start_time": "2022-11-28T13:51:38.199Z"
   },
   {
    "duration": 24,
    "start_time": "2022-11-28T13:52:43.673Z"
   },
   {
    "duration": 3,
    "start_time": "2022-11-28T13:53:07.737Z"
   },
   {
    "duration": 23,
    "start_time": "2022-11-28T13:53:13.239Z"
   },
   {
    "duration": 32,
    "start_time": "2022-11-28T13:54:40.242Z"
   },
   {
    "duration": 7,
    "start_time": "2022-11-28T13:56:28.127Z"
   },
   {
    "duration": 13,
    "start_time": "2022-11-28T13:56:38.242Z"
   },
   {
    "duration": 7,
    "start_time": "2022-11-28T13:57:29.123Z"
   },
   {
    "duration": 6,
    "start_time": "2022-11-28T13:57:48.204Z"
   },
   {
    "duration": 15,
    "start_time": "2022-11-28T13:57:57.036Z"
   },
   {
    "duration": 11,
    "start_time": "2022-11-28T13:58:26.189Z"
   },
   {
    "duration": 11,
    "start_time": "2022-11-28T13:59:04.272Z"
   },
   {
    "duration": 9,
    "start_time": "2022-11-28T13:59:09.994Z"
   },
   {
    "duration": 16,
    "start_time": "2022-11-28T13:59:19.867Z"
   },
   {
    "duration": 16,
    "start_time": "2022-11-28T14:02:14.014Z"
   },
   {
    "duration": 14,
    "start_time": "2022-11-28T14:02:45.215Z"
   },
   {
    "duration": 11,
    "start_time": "2022-11-28T14:02:54.273Z"
   },
   {
    "duration": 12,
    "start_time": "2022-11-28T14:03:05.772Z"
   },
   {
    "duration": 8,
    "start_time": "2022-11-28T14:04:35.227Z"
   },
   {
    "duration": 8,
    "start_time": "2022-11-28T14:04:40.057Z"
   },
   {
    "duration": 8,
    "start_time": "2022-11-28T14:04:42.939Z"
   },
   {
    "duration": 7,
    "start_time": "2022-11-28T14:05:21.361Z"
   },
   {
    "duration": 17,
    "start_time": "2022-11-28T14:05:51.429Z"
   },
   {
    "duration": 5,
    "start_time": "2022-11-28T14:06:11.894Z"
   },
   {
    "duration": 21,
    "start_time": "2022-11-28T14:06:26.670Z"
   },
   {
    "duration": 9,
    "start_time": "2022-11-28T14:06:48.294Z"
   },
   {
    "duration": 16,
    "start_time": "2022-11-28T14:06:59.049Z"
   },
   {
    "duration": 5,
    "start_time": "2022-11-28T14:08:01.980Z"
   },
   {
    "duration": 16,
    "start_time": "2022-11-28T14:08:24.472Z"
   },
   {
    "duration": 23,
    "start_time": "2022-11-28T14:10:25.413Z"
   },
   {
    "duration": 18,
    "start_time": "2022-11-28T14:10:36.030Z"
   },
   {
    "duration": 13,
    "start_time": "2022-11-28T14:11:30.425Z"
   },
   {
    "duration": 5,
    "start_time": "2022-11-28T14:11:34.572Z"
   },
   {
    "duration": 18,
    "start_time": "2022-11-28T14:11:43.141Z"
   },
   {
    "duration": 418,
    "start_time": "2022-11-28T14:12:21.391Z"
   },
   {
    "duration": 50,
    "start_time": "2022-11-28T14:12:22.941Z"
   },
   {
    "duration": 23,
    "start_time": "2022-11-28T14:12:24.191Z"
   },
   {
    "duration": 15,
    "start_time": "2022-11-28T14:12:25.923Z"
   },
   {
    "duration": 5,
    "start_time": "2022-11-28T14:12:36.431Z"
   },
   {
    "duration": 16,
    "start_time": "2022-11-28T14:12:38.828Z"
   },
   {
    "duration": 16,
    "start_time": "2022-11-28T14:12:41.173Z"
   },
   {
    "duration": 17,
    "start_time": "2022-11-28T14:15:05.301Z"
   },
   {
    "duration": 15,
    "start_time": "2022-11-28T14:15:17.802Z"
   },
   {
    "duration": 15,
    "start_time": "2022-11-28T14:15:18.849Z"
   },
   {
    "duration": 15,
    "start_time": "2022-11-28T14:15:19.354Z"
   },
   {
    "duration": 16,
    "start_time": "2022-11-28T14:15:19.939Z"
   },
   {
    "duration": 15,
    "start_time": "2022-11-28T14:15:21.189Z"
   },
   {
    "duration": 18,
    "start_time": "2022-11-28T14:15:21.750Z"
   },
   {
    "duration": 16,
    "start_time": "2022-11-28T14:15:23.366Z"
   },
   {
    "duration": 16,
    "start_time": "2022-11-28T14:15:24.406Z"
   },
   {
    "duration": 19,
    "start_time": "2022-11-28T14:15:26.204Z"
   },
   {
    "duration": 14,
    "start_time": "2022-11-28T14:15:27.342Z"
   },
   {
    "duration": 15,
    "start_time": "2022-11-28T14:15:27.853Z"
   },
   {
    "duration": 15,
    "start_time": "2022-11-28T14:15:28.245Z"
   },
   {
    "duration": 15,
    "start_time": "2022-11-28T14:15:28.474Z"
   },
   {
    "duration": 15,
    "start_time": "2022-11-28T14:15:28.665Z"
   },
   {
    "duration": 15,
    "start_time": "2022-11-28T14:15:28.837Z"
   },
   {
    "duration": 15,
    "start_time": "2022-11-28T14:15:29.001Z"
   },
   {
    "duration": 14,
    "start_time": "2022-11-28T14:15:29.195Z"
   },
   {
    "duration": 17,
    "start_time": "2022-11-28T14:15:29.360Z"
   },
   {
    "duration": 15,
    "start_time": "2022-11-28T14:15:29.536Z"
   },
   {
    "duration": 16,
    "start_time": "2022-11-28T14:15:29.712Z"
   },
   {
    "duration": 17,
    "start_time": "2022-11-28T14:15:29.873Z"
   },
   {
    "duration": 372,
    "start_time": "2022-11-28T14:22:36.435Z"
   },
   {
    "duration": 56,
    "start_time": "2022-11-28T14:22:37.738Z"
   },
   {
    "duration": 24,
    "start_time": "2022-11-28T14:22:38.678Z"
   },
   {
    "duration": 14,
    "start_time": "2022-11-28T14:22:39.413Z"
   },
   {
    "duration": 5,
    "start_time": "2022-11-28T14:22:43.456Z"
   },
   {
    "duration": 15,
    "start_time": "2022-11-28T14:22:46.328Z"
   },
   {
    "duration": 68,
    "start_time": "2022-11-28T14:24:46.304Z"
   },
   {
    "duration": 6,
    "start_time": "2022-11-28T14:24:51.074Z"
   },
   {
    "duration": 14,
    "start_time": "2022-11-28T14:29:36.858Z"
   },
   {
    "duration": 7,
    "start_time": "2022-11-28T14:30:37.410Z"
   },
   {
    "duration": 10,
    "start_time": "2022-11-28T14:30:40.550Z"
   },
   {
    "duration": 6,
    "start_time": "2022-11-28T14:31:04.223Z"
   },
   {
    "duration": 22,
    "start_time": "2022-11-28T14:31:16.882Z"
   },
   {
    "duration": 417,
    "start_time": "2022-11-28T14:32:46.932Z"
   },
   {
    "duration": 57,
    "start_time": "2022-11-28T14:32:47.357Z"
   },
   {
    "duration": 24,
    "start_time": "2022-11-28T14:32:48.457Z"
   },
   {
    "duration": 18,
    "start_time": "2022-11-28T14:32:48.980Z"
   },
   {
    "duration": 5,
    "start_time": "2022-11-28T14:32:50.392Z"
   },
   {
    "duration": 14,
    "start_time": "2022-11-28T14:32:53.418Z"
   },
   {
    "duration": 15,
    "start_time": "2022-11-28T14:33:15.699Z"
   },
   {
    "duration": 28,
    "start_time": "2022-11-28T14:33:20.126Z"
   },
   {
    "duration": 18,
    "start_time": "2022-11-28T14:33:28.632Z"
   },
   {
    "duration": 28,
    "start_time": "2022-11-28T14:34:04.443Z"
   },
   {
    "duration": 8,
    "start_time": "2022-11-28T14:34:15.251Z"
   },
   {
    "duration": 7,
    "start_time": "2022-11-28T14:34:24.561Z"
   },
   {
    "duration": 4,
    "start_time": "2022-11-28T14:34:27.093Z"
   },
   {
    "duration": 116,
    "start_time": "2022-11-28T14:34:28.516Z"
   },
   {
    "duration": 133,
    "start_time": "2022-11-28T14:34:54.270Z"
   },
   {
    "duration": 385,
    "start_time": "2022-11-28T14:35:38.933Z"
   },
   {
    "duration": 53,
    "start_time": "2022-11-28T14:35:39.597Z"
   },
   {
    "duration": 24,
    "start_time": "2022-11-28T14:35:40.646Z"
   },
   {
    "duration": 15,
    "start_time": "2022-11-28T14:35:42.065Z"
   },
   {
    "duration": 6,
    "start_time": "2022-11-28T14:35:43.491Z"
   },
   {
    "duration": 14,
    "start_time": "2022-11-28T14:35:44.808Z"
   },
   {
    "duration": 11,
    "start_time": "2022-11-28T14:35:46.535Z"
   },
   {
    "duration": 62,
    "start_time": "2022-11-28T14:36:14.120Z"
   },
   {
    "duration": 3,
    "start_time": "2022-11-28T14:36:21.467Z"
   },
   {
    "duration": 119,
    "start_time": "2022-11-28T14:36:22.237Z"
   },
   {
    "duration": 66,
    "start_time": "2022-11-28T14:36:53.959Z"
   },
   {
    "duration": 129,
    "start_time": "2022-11-28T14:37:11.922Z"
   },
   {
    "duration": 381,
    "start_time": "2022-11-28T14:37:49.950Z"
   },
   {
    "duration": 51,
    "start_time": "2022-11-28T14:37:50.333Z"
   },
   {
    "duration": 27,
    "start_time": "2022-11-28T14:37:50.385Z"
   },
   {
    "duration": 16,
    "start_time": "2022-11-28T14:37:50.413Z"
   },
   {
    "duration": 5,
    "start_time": "2022-11-28T14:37:50.430Z"
   },
   {
    "duration": 21,
    "start_time": "2022-11-28T14:37:50.436Z"
   },
   {
    "duration": 15,
    "start_time": "2022-11-28T14:37:50.459Z"
   },
   {
    "duration": 28,
    "start_time": "2022-11-28T14:38:24.040Z"
   },
   {
    "duration": 23,
    "start_time": "2022-11-28T14:38:29.689Z"
   },
   {
    "duration": 7,
    "start_time": "2022-11-28T14:39:32.105Z"
   },
   {
    "duration": 6,
    "start_time": "2022-11-28T14:39:39.055Z"
   },
   {
    "duration": 27,
    "start_time": "2022-11-28T14:39:51.103Z"
   },
   {
    "duration": 3,
    "start_time": "2022-11-28T14:47:34.972Z"
   },
   {
    "duration": 3,
    "start_time": "2022-11-28T14:49:27.189Z"
   },
   {
    "duration": 164,
    "start_time": "2022-11-28T14:49:40.586Z"
   },
   {
    "duration": 23,
    "start_time": "2022-11-28T14:49:50.518Z"
   },
   {
    "duration": 20,
    "start_time": "2022-11-28T14:50:09.314Z"
   },
   {
    "duration": 4,
    "start_time": "2022-11-28T14:50:10.670Z"
   },
   {
    "duration": 172,
    "start_time": "2022-11-28T14:50:11.360Z"
   },
   {
    "duration": 22,
    "start_time": "2022-11-28T14:50:12.102Z"
   },
   {
    "duration": 175,
    "start_time": "2022-11-28T14:50:25.131Z"
   },
   {
    "duration": 161,
    "start_time": "2022-11-28T14:50:42.545Z"
   },
   {
    "duration": 167,
    "start_time": "2022-11-28T14:50:48.954Z"
   },
   {
    "duration": 260,
    "start_time": "2022-11-28T14:52:39.972Z"
   },
   {
    "duration": 19,
    "start_time": "2022-11-28T14:53:08.912Z"
   },
   {
    "duration": 10,
    "start_time": "2022-11-28T14:55:08.540Z"
   },
   {
    "duration": 10,
    "start_time": "2022-11-28T14:55:34.435Z"
   },
   {
    "duration": 10,
    "start_time": "2022-11-28T14:55:41.908Z"
   },
   {
    "duration": 9,
    "start_time": "2022-11-28T14:55:45.630Z"
   },
   {
    "duration": 3,
    "start_time": "2022-11-28T14:55:59.777Z"
   },
   {
    "duration": 11,
    "start_time": "2022-11-28T14:56:01.695Z"
   },
   {
    "duration": 10,
    "start_time": "2022-11-28T14:56:38.852Z"
   },
   {
    "duration": 21,
    "start_time": "2022-11-28T14:56:55.467Z"
   },
   {
    "duration": 10,
    "start_time": "2022-11-28T14:57:06.295Z"
   },
   {
    "duration": 7,
    "start_time": "2022-11-28T14:58:41.940Z"
   },
   {
    "duration": 16,
    "start_time": "2022-11-28T14:58:45.613Z"
   },
   {
    "duration": 9,
    "start_time": "2022-11-28T14:58:51.439Z"
   },
   {
    "duration": 11,
    "start_time": "2022-11-28T14:58:55.246Z"
   },
   {
    "duration": 13,
    "start_time": "2022-11-28T15:00:54.434Z"
   },
   {
    "duration": 13,
    "start_time": "2022-11-28T15:01:11.312Z"
   },
   {
    "duration": 42,
    "start_time": "2022-11-28T15:01:19.443Z"
   },
   {
    "duration": 55,
    "start_time": "2022-11-28T15:01:27.030Z"
   },
   {
    "duration": 132,
    "start_time": "2022-11-28T15:02:02.485Z"
   },
   {
    "duration": 22,
    "start_time": "2022-11-28T15:02:09.684Z"
   },
   {
    "duration": 418,
    "start_time": "2022-11-28T15:03:10.485Z"
   },
   {
    "duration": 57,
    "start_time": "2022-11-28T15:03:11.566Z"
   },
   {
    "duration": 25,
    "start_time": "2022-11-28T15:03:12.646Z"
   },
   {
    "duration": 15,
    "start_time": "2022-11-28T15:03:14.384Z"
   },
   {
    "duration": 5,
    "start_time": "2022-11-28T15:03:15.704Z"
   },
   {
    "duration": 14,
    "start_time": "2022-11-28T15:03:16.781Z"
   },
   {
    "duration": 8,
    "start_time": "2022-11-28T15:03:17.951Z"
   },
   {
    "duration": 10,
    "start_time": "2022-11-28T15:03:19.087Z"
   },
   {
    "duration": 21,
    "start_time": "2022-11-28T15:03:21.645Z"
   },
   {
    "duration": 3,
    "start_time": "2022-11-28T15:03:23.886Z"
   },
   {
    "duration": 68,
    "start_time": "2022-11-28T15:04:04.080Z"
   },
   {
    "duration": 21,
    "start_time": "2022-11-28T15:04:07.377Z"
   },
   {
    "duration": 65,
    "start_time": "2022-11-28T15:04:20.346Z"
   },
   {
    "duration": 421,
    "start_time": "2022-11-28T15:04:51.879Z"
   },
   {
    "duration": 50,
    "start_time": "2022-11-28T15:04:52.302Z"
   },
   {
    "duration": 26,
    "start_time": "2022-11-28T15:04:52.354Z"
   },
   {
    "duration": 16,
    "start_time": "2022-11-28T15:04:52.382Z"
   },
   {
    "duration": 5,
    "start_time": "2022-11-28T15:04:52.401Z"
   },
   {
    "duration": 19,
    "start_time": "2022-11-28T15:04:52.408Z"
   },
   {
    "duration": 16,
    "start_time": "2022-11-28T15:04:52.428Z"
   },
   {
    "duration": 9,
    "start_time": "2022-11-28T15:04:52.445Z"
   },
   {
    "duration": 42,
    "start_time": "2022-11-28T15:04:52.456Z"
   },
   {
    "duration": 3,
    "start_time": "2022-11-28T15:04:52.501Z"
   },
   {
    "duration": 79,
    "start_time": "2022-11-28T15:04:52.506Z"
   },
   {
    "duration": 30,
    "start_time": "2022-11-28T15:04:52.587Z"
   },
   {
    "duration": 385,
    "start_time": "2022-11-28T15:06:36.023Z"
   },
   {
    "duration": 51,
    "start_time": "2022-11-28T15:06:36.410Z"
   },
   {
    "duration": 22,
    "start_time": "2022-11-28T15:06:36.462Z"
   },
   {
    "duration": 36,
    "start_time": "2022-11-28T15:06:36.486Z"
   },
   {
    "duration": 36,
    "start_time": "2022-11-28T15:06:36.525Z"
   },
   {
    "duration": 38,
    "start_time": "2022-11-28T15:06:36.563Z"
   },
   {
    "duration": 51,
    "start_time": "2022-11-28T15:06:36.603Z"
   },
   {
    "duration": 29,
    "start_time": "2022-11-28T15:06:36.655Z"
   },
   {
    "duration": 38,
    "start_time": "2022-11-28T15:06:36.686Z"
   },
   {
    "duration": 47,
    "start_time": "2022-11-28T15:06:36.726Z"
   },
   {
    "duration": 39,
    "start_time": "2022-11-28T15:06:36.775Z"
   },
   {
    "duration": 85,
    "start_time": "2022-11-28T15:06:36.816Z"
   },
   {
    "duration": 22,
    "start_time": "2022-11-28T15:06:36.903Z"
   },
   {
    "duration": 23,
    "start_time": "2022-11-28T15:22:17.160Z"
   },
   {
    "duration": 107,
    "start_time": "2022-11-28T15:26:53.406Z"
   },
   {
    "duration": 48,
    "start_time": "2022-11-28T15:27:09.424Z"
   },
   {
    "duration": 5,
    "start_time": "2022-11-28T15:27:24.063Z"
   },
   {
    "duration": 194,
    "start_time": "2022-11-28T15:27:45.430Z"
   },
   {
    "duration": 6,
    "start_time": "2022-11-28T15:28:04.275Z"
   },
   {
    "duration": 267,
    "start_time": "2022-11-28T15:28:10.957Z"
   },
   {
    "duration": 176,
    "start_time": "2022-11-28T15:28:30.533Z"
   },
   {
    "duration": 166,
    "start_time": "2022-11-28T15:28:54.251Z"
   },
   {
    "duration": 6,
    "start_time": "2022-11-28T16:10:03.159Z"
   },
   {
    "duration": 20,
    "start_time": "2022-11-28T16:20:44.803Z"
   },
   {
    "duration": 8,
    "start_time": "2022-11-28T16:21:05.606Z"
   },
   {
    "duration": 63,
    "start_time": "2022-11-28T16:22:05.574Z"
   },
   {
    "duration": 155,
    "start_time": "2022-11-28T16:22:06.896Z"
   },
   {
    "duration": 141,
    "start_time": "2022-11-28T16:22:46.909Z"
   },
   {
    "duration": 190,
    "start_time": "2022-11-28T16:23:06.059Z"
   },
   {
    "duration": 11,
    "start_time": "2022-11-28T16:23:28.868Z"
   },
   {
    "duration": 145,
    "start_time": "2022-11-28T16:23:38.301Z"
   },
   {
    "duration": 10,
    "start_time": "2022-11-28T16:24:20.169Z"
   },
   {
    "duration": 315,
    "start_time": "2022-11-28T16:24:25.271Z"
   },
   {
    "duration": 410,
    "start_time": "2022-11-28T16:25:23.355Z"
   },
   {
    "duration": 358,
    "start_time": "2022-11-28T16:25:29.845Z"
   },
   {
    "duration": 312,
    "start_time": "2022-11-28T16:25:34.686Z"
   },
   {
    "duration": 364,
    "start_time": "2022-11-28T16:25:42.106Z"
   },
   {
    "duration": 389,
    "start_time": "2022-11-28T16:25:47.812Z"
   },
   {
    "duration": 439,
    "start_time": "2022-11-28T16:25:55.353Z"
   },
   {
    "duration": 398,
    "start_time": "2022-11-28T16:26:13.816Z"
   },
   {
    "duration": 379,
    "start_time": "2022-11-28T16:26:28.919Z"
   },
   {
    "duration": 357,
    "start_time": "2022-11-28T16:26:36.705Z"
   },
   {
    "duration": 6,
    "start_time": "2022-11-28T16:28:34.317Z"
   },
   {
    "duration": 9,
    "start_time": "2022-11-28T16:28:45.063Z"
   },
   {
    "duration": 19,
    "start_time": "2022-11-28T16:29:45.444Z"
   },
   {
    "duration": 19,
    "start_time": "2022-11-28T16:31:56.244Z"
   },
   {
    "duration": 19,
    "start_time": "2022-11-28T16:32:08.797Z"
   },
   {
    "duration": 13,
    "start_time": "2022-11-28T16:32:18.537Z"
   },
   {
    "duration": 16,
    "start_time": "2022-11-28T16:32:24.815Z"
   },
   {
    "duration": 16,
    "start_time": "2022-11-28T16:32:44.977Z"
   },
   {
    "duration": 15,
    "start_time": "2022-11-28T16:32:55.760Z"
   },
   {
    "duration": 32,
    "start_time": "2022-11-28T16:33:49.427Z"
   },
   {
    "duration": 21,
    "start_time": "2022-11-28T16:34:03.276Z"
   },
   {
    "duration": 148,
    "start_time": "2022-11-28T16:34:14.414Z"
   },
   {
    "duration": 24,
    "start_time": "2022-11-28T16:34:40.479Z"
   },
   {
    "duration": 24,
    "start_time": "2022-11-28T16:35:30.102Z"
   },
   {
    "duration": 141,
    "start_time": "2022-11-28T16:38:07.033Z"
   },
   {
    "duration": 966,
    "start_time": "2022-11-28T16:38:43.804Z"
   },
   {
    "duration": 140,
    "start_time": "2022-11-28T16:38:49.418Z"
   },
   {
    "duration": 380,
    "start_time": "2022-11-28T16:41:00.368Z"
   },
   {
    "duration": 635,
    "start_time": "2022-11-28T16:42:09.000Z"
   },
   {
    "duration": 145,
    "start_time": "2022-11-28T16:48:45.467Z"
   },
   {
    "duration": 15,
    "start_time": "2022-11-28T16:48:53.525Z"
   },
   {
    "duration": 16,
    "start_time": "2022-11-28T16:49:19.334Z"
   },
   {
    "duration": 17,
    "start_time": "2022-11-28T16:49:32.554Z"
   },
   {
    "duration": 16,
    "start_time": "2022-11-28T16:52:57.646Z"
   },
   {
    "duration": 20,
    "start_time": "2022-11-28T16:54:01.831Z"
   },
   {
    "duration": 134,
    "start_time": "2022-11-28T16:54:43.458Z"
   },
   {
    "duration": 972,
    "start_time": "2022-11-28T16:58:47.911Z"
   },
   {
    "duration": 143,
    "start_time": "2022-11-28T17:00:19.314Z"
   },
   {
    "duration": 149,
    "start_time": "2022-11-28T17:00:27.589Z"
   },
   {
    "duration": 30,
    "start_time": "2022-11-28T17:00:37.688Z"
   },
   {
    "duration": 279,
    "start_time": "2022-11-28T17:02:26.038Z"
   },
   {
    "duration": 5,
    "start_time": "2022-11-28T17:03:11.297Z"
   },
   {
    "duration": 30,
    "start_time": "2022-11-28T17:03:23.187Z"
   },
   {
    "duration": 39,
    "start_time": "2022-11-28T17:03:50.165Z"
   },
   {
    "duration": 13,
    "start_time": "2022-11-28T17:04:04.584Z"
   },
   {
    "duration": 34,
    "start_time": "2022-11-28T17:04:43.449Z"
   },
   {
    "duration": 11,
    "start_time": "2022-11-28T17:05:07.451Z"
   },
   {
    "duration": 131,
    "start_time": "2022-11-28T17:05:17.085Z"
   },
   {
    "duration": 23,
    "start_time": "2022-11-28T17:05:37.100Z"
   },
   {
    "duration": 19,
    "start_time": "2022-11-28T17:13:41.345Z"
   },
   {
    "duration": 12,
    "start_time": "2022-11-28T17:15:23.365Z"
   },
   {
    "duration": 12,
    "start_time": "2022-11-28T17:15:54.334Z"
   },
   {
    "duration": 129,
    "start_time": "2022-11-28T17:16:08.377Z"
   },
   {
    "duration": 28,
    "start_time": "2022-11-28T17:17:33.407Z"
   },
   {
    "duration": 188,
    "start_time": "2022-11-28T17:17:44.994Z"
   },
   {
    "duration": 9,
    "start_time": "2022-11-28T17:25:11.559Z"
   },
   {
    "duration": 95,
    "start_time": "2022-11-28T17:25:25.095Z"
   },
   {
    "duration": 259,
    "start_time": "2022-11-28T17:25:36.292Z"
   },
   {
    "duration": 449,
    "start_time": "2022-11-28T17:26:11.693Z"
   },
   {
    "duration": 394,
    "start_time": "2022-11-28T17:26:46.812Z"
   },
   {
    "duration": 13,
    "start_time": "2022-11-28T17:27:12.046Z"
   },
   {
    "duration": 732,
    "start_time": "2022-11-28T17:27:18.901Z"
   },
   {
    "duration": 772,
    "start_time": "2022-11-28T17:28:01.561Z"
   },
   {
    "duration": 7,
    "start_time": "2022-11-28T17:28:33.415Z"
   },
   {
    "duration": 28,
    "start_time": "2022-11-28T17:29:15.611Z"
   },
   {
    "duration": 24,
    "start_time": "2022-11-28T17:35:34.677Z"
   },
   {
    "duration": 22,
    "start_time": "2022-11-28T17:35:41.759Z"
   },
   {
    "duration": 16,
    "start_time": "2022-11-28T17:35:54.633Z"
   },
   {
    "duration": 11,
    "start_time": "2022-11-28T17:36:33.553Z"
   },
   {
    "duration": 5,
    "start_time": "2022-11-28T17:36:42.733Z"
   },
   {
    "duration": 5,
    "start_time": "2022-11-28T17:37:03.754Z"
   },
   {
    "duration": 4,
    "start_time": "2022-11-28T17:37:10.011Z"
   },
   {
    "duration": 7,
    "start_time": "2022-11-28T17:37:37.902Z"
   },
   {
    "duration": 3,
    "start_time": "2022-11-28T17:37:45.454Z"
   },
   {
    "duration": 14,
    "start_time": "2022-11-28T17:37:52.659Z"
   },
   {
    "duration": 22,
    "start_time": "2022-11-28T17:37:53.274Z"
   },
   {
    "duration": 57,
    "start_time": "2022-11-28T17:39:28.777Z"
   },
   {
    "duration": 52,
    "start_time": "2022-11-28T17:39:39.666Z"
   },
   {
    "duration": 811,
    "start_time": "2022-11-28T17:40:12.418Z"
   },
   {
    "duration": 874,
    "start_time": "2022-11-28T17:40:24.756Z"
   },
   {
    "duration": 785,
    "start_time": "2022-11-28T17:41:16.554Z"
   },
   {
    "duration": 11,
    "start_time": "2022-11-28T17:41:38.959Z"
   },
   {
    "duration": 21,
    "start_time": "2022-11-28T17:41:44.500Z"
   },
   {
    "duration": 698,
    "start_time": "2022-11-28T17:42:14.343Z"
   },
   {
    "duration": 11,
    "start_time": "2022-11-28T17:42:21.052Z"
   },
   {
    "duration": 971,
    "start_time": "2022-11-28T17:42:22.496Z"
   },
   {
    "duration": 43,
    "start_time": "2022-11-28T17:42:26.406Z"
   },
   {
    "duration": 75,
    "start_time": "2022-11-28T17:42:38.530Z"
   },
   {
    "duration": 745,
    "start_time": "2022-11-28T17:42:59.750Z"
   },
   {
    "duration": 18,
    "start_time": "2022-11-28T17:43:19.899Z"
   },
   {
    "duration": 673,
    "start_time": "2022-11-28T17:43:30.947Z"
   },
   {
    "duration": 15,
    "start_time": "2022-11-28T17:43:40.578Z"
   },
   {
    "duration": 340,
    "start_time": "2022-11-28T17:43:56.097Z"
   },
   {
    "duration": 44,
    "start_time": "2022-11-28T17:44:16.568Z"
   },
   {
    "duration": 1176,
    "start_time": "2022-11-28T17:44:57.143Z"
   },
   {
    "duration": 59,
    "start_time": "2022-11-28T17:45:07.263Z"
   },
   {
    "duration": 1109,
    "start_time": "2022-11-28T17:45:14.517Z"
   },
   {
    "duration": 1012,
    "start_time": "2022-11-28T17:45:29.629Z"
   },
   {
    "duration": 196,
    "start_time": "2022-11-28T17:46:12.988Z"
   },
   {
    "duration": 122,
    "start_time": "2022-11-28T17:46:46.663Z"
   },
   {
    "duration": 208,
    "start_time": "2022-11-28T17:47:13.998Z"
   },
   {
    "duration": 14,
    "start_time": "2022-11-28T17:48:26.153Z"
   },
   {
    "duration": 198,
    "start_time": "2022-11-28T17:48:28.412Z"
   },
   {
    "duration": 149,
    "start_time": "2022-11-28T17:50:36.816Z"
   },
   {
    "duration": 9,
    "start_time": "2022-11-28T17:51:41.292Z"
   },
   {
    "duration": 11,
    "start_time": "2022-11-28T17:51:45.065Z"
   },
   {
    "duration": 25,
    "start_time": "2022-11-28T17:51:46.277Z"
   },
   {
    "duration": 57,
    "start_time": "2022-11-28T17:52:08.659Z"
   },
   {
    "duration": 190,
    "start_time": "2022-11-28T17:52:24.628Z"
   },
   {
    "duration": 3,
    "start_time": "2022-11-28T17:52:55.763Z"
   },
   {
    "duration": 8,
    "start_time": "2022-11-28T17:56:48.412Z"
   },
   {
    "duration": 2029,
    "start_time": "2022-11-28T17:58:16.390Z"
   },
   {
    "duration": 6,
    "start_time": "2022-11-28T17:58:25.608Z"
   },
   {
    "duration": 408,
    "start_time": "2022-11-28T18:01:38.020Z"
   },
   {
    "duration": 415,
    "start_time": "2022-11-28T18:02:53.667Z"
   },
   {
    "duration": 3,
    "start_time": "2022-11-28T18:06:39.536Z"
   },
   {
    "duration": 552,
    "start_time": "2022-11-28T18:07:08.238Z"
   },
   {
    "duration": 586,
    "start_time": "2022-11-28T18:07:20.681Z"
   },
   {
    "duration": 498,
    "start_time": "2022-11-28T18:07:30.995Z"
   },
   {
    "duration": 677,
    "start_time": "2022-11-28T18:08:00.935Z"
   },
   {
    "duration": 646,
    "start_time": "2022-11-28T18:08:38.401Z"
   },
   {
    "duration": 654,
    "start_time": "2022-11-28T18:08:43.019Z"
   },
   {
    "duration": 192,
    "start_time": "2022-11-28T18:09:25.385Z"
   },
   {
    "duration": 183,
    "start_time": "2022-11-28T18:09:42.523Z"
   },
   {
    "duration": 5,
    "start_time": "2022-11-28T18:09:59.034Z"
   },
   {
    "duration": 150,
    "start_time": "2022-11-28T18:11:20.199Z"
   },
   {
    "duration": 110,
    "start_time": "2022-11-28T18:11:26.230Z"
   },
   {
    "duration": 141,
    "start_time": "2022-11-28T18:11:31.959Z"
   },
   {
    "duration": 133,
    "start_time": "2022-11-28T18:11:39.178Z"
   },
   {
    "duration": 9,
    "start_time": "2022-11-28T18:20:32.380Z"
   },
   {
    "duration": 7,
    "start_time": "2022-11-28T18:20:47.837Z"
   },
   {
    "duration": 9,
    "start_time": "2022-11-28T18:21:05.092Z"
   },
   {
    "duration": 9,
    "start_time": "2022-11-28T18:22:38.359Z"
   },
   {
    "duration": 245,
    "start_time": "2022-11-28T18:23:56.476Z"
   },
   {
    "duration": 156,
    "start_time": "2022-11-28T18:24:16.696Z"
   },
   {
    "duration": 146,
    "start_time": "2022-11-28T18:25:23.786Z"
   },
   {
    "duration": 144,
    "start_time": "2022-11-28T18:25:43.264Z"
   },
   {
    "duration": 137,
    "start_time": "2022-11-28T18:26:06.906Z"
   },
   {
    "duration": 145,
    "start_time": "2022-11-28T18:26:30.084Z"
   },
   {
    "duration": 132,
    "start_time": "2022-11-28T18:26:40.935Z"
   },
   {
    "duration": 127,
    "start_time": "2022-11-28T18:26:44.247Z"
   },
   {
    "duration": 134,
    "start_time": "2022-11-28T18:27:15.433Z"
   },
   {
    "duration": 134,
    "start_time": "2022-11-28T18:28:04.075Z"
   },
   {
    "duration": 129,
    "start_time": "2022-11-28T18:28:21.502Z"
   },
   {
    "duration": 10,
    "start_time": "2022-11-28T18:31:04.640Z"
   },
   {
    "duration": 134,
    "start_time": "2022-11-28T18:32:30.191Z"
   },
   {
    "duration": 150,
    "start_time": "2022-11-28T18:32:32.770Z"
   },
   {
    "duration": 134,
    "start_time": "2022-11-28T18:32:34.650Z"
   },
   {
    "duration": 170,
    "start_time": "2022-11-28T18:32:36.020Z"
   },
   {
    "duration": 144,
    "start_time": "2022-11-28T18:32:37.576Z"
   },
   {
    "duration": 554,
    "start_time": "2022-11-28T18:36:02.914Z"
   },
   {
    "duration": 139,
    "start_time": "2022-11-28T18:36:08.616Z"
   },
   {
    "duration": 142,
    "start_time": "2022-11-28T18:36:12.662Z"
   },
   {
    "duration": 128,
    "start_time": "2022-11-28T18:36:16.631Z"
   },
   {
    "duration": 133,
    "start_time": "2022-11-28T18:36:22.111Z"
   },
   {
    "duration": 123,
    "start_time": "2022-11-28T18:36:25.373Z"
   },
   {
    "duration": 159,
    "start_time": "2022-11-28T18:36:28.645Z"
   },
   {
    "duration": 146,
    "start_time": "2022-11-28T18:36:32.695Z"
   },
   {
    "duration": 142,
    "start_time": "2022-11-28T18:36:35.492Z"
   },
   {
    "duration": 138,
    "start_time": "2022-11-28T18:36:38.929Z"
   },
   {
    "duration": 763,
    "start_time": "2022-11-28T18:49:10.414Z"
   },
   {
    "duration": 4,
    "start_time": "2022-11-28T18:49:23.718Z"
   },
   {
    "duration": 14,
    "start_time": "2022-11-28T18:49:32.540Z"
   },
   {
    "duration": 6,
    "start_time": "2022-11-28T18:49:54.387Z"
   },
   {
    "duration": 12,
    "start_time": "2022-11-28T18:50:39.297Z"
   },
   {
    "duration": 137,
    "start_time": "2022-11-28T18:50:47.030Z"
   },
   {
    "duration": 865,
    "start_time": "2022-11-29T10:06:18.466Z"
   },
   {
    "duration": 184,
    "start_time": "2022-11-29T10:06:21.706Z"
   },
   {
    "duration": 22,
    "start_time": "2022-11-29T10:06:24.071Z"
   },
   {
    "duration": 17,
    "start_time": "2022-11-29T10:06:27.424Z"
   },
   {
    "duration": 5,
    "start_time": "2022-11-29T10:06:35.933Z"
   },
   {
    "duration": 5,
    "start_time": "2022-11-29T10:06:46.605Z"
   },
   {
    "duration": 18,
    "start_time": "2022-11-29T10:06:48.174Z"
   },
   {
    "duration": 9,
    "start_time": "2022-11-29T10:07:12.735Z"
   },
   {
    "duration": 9,
    "start_time": "2022-11-29T10:07:14.350Z"
   },
   {
    "duration": 10,
    "start_time": "2022-11-29T10:07:22.649Z"
   },
   {
    "duration": 23,
    "start_time": "2022-11-29T10:07:23.392Z"
   },
   {
    "duration": 3,
    "start_time": "2022-11-29T10:08:45.822Z"
   },
   {
    "duration": 12,
    "start_time": "2022-11-29T10:08:46.795Z"
   },
   {
    "duration": 58,
    "start_time": "2022-11-29T10:08:52.333Z"
   },
   {
    "duration": 76,
    "start_time": "2022-11-29T10:08:55.081Z"
   },
   {
    "duration": 28,
    "start_time": "2022-11-29T10:08:57.338Z"
   },
   {
    "duration": 7,
    "start_time": "2022-11-29T10:12:20.806Z"
   },
   {
    "duration": 6,
    "start_time": "2022-11-29T10:12:31.387Z"
   },
   {
    "duration": 399,
    "start_time": "2022-11-29T10:12:52.589Z"
   },
   {
    "duration": 10,
    "start_time": "2022-11-29T10:18:33.191Z"
   },
   {
    "duration": 138,
    "start_time": "2022-11-29T10:26:51.781Z"
   },
   {
    "duration": 147,
    "start_time": "2022-11-29T10:26:54.351Z"
   },
   {
    "duration": 240,
    "start_time": "2022-11-29T10:26:59.982Z"
   },
   {
    "duration": 148,
    "start_time": "2022-11-29T10:27:00.469Z"
   },
   {
    "duration": 151,
    "start_time": "2022-11-29T10:27:03.526Z"
   },
   {
    "duration": 134,
    "start_time": "2022-11-29T10:27:04.396Z"
   },
   {
    "duration": 167,
    "start_time": "2022-11-29T10:27:05.634Z"
   },
   {
    "duration": 155,
    "start_time": "2022-11-29T10:27:06.252Z"
   },
   {
    "duration": 155,
    "start_time": "2022-11-29T10:27:07.849Z"
   },
   {
    "duration": 151,
    "start_time": "2022-11-29T10:27:10.906Z"
   },
   {
    "duration": 8,
    "start_time": "2022-11-29T10:27:53.087Z"
   },
   {
    "duration": 10,
    "start_time": "2022-11-29T10:30:07.165Z"
   },
   {
    "duration": 7,
    "start_time": "2022-11-29T10:30:22.973Z"
   },
   {
    "duration": 7,
    "start_time": "2022-11-29T10:32:20.670Z"
   },
   {
    "duration": 75,
    "start_time": "2022-11-29T10:32:46.270Z"
   },
   {
    "duration": 14,
    "start_time": "2022-11-29T10:32:59.614Z"
   },
   {
    "duration": 14,
    "start_time": "2022-11-29T10:33:13.880Z"
   },
   {
    "duration": 13,
    "start_time": "2022-11-29T10:33:52.701Z"
   },
   {
    "duration": 12,
    "start_time": "2022-11-29T10:35:11.279Z"
   },
   {
    "duration": 9,
    "start_time": "2022-11-29T10:35:34.405Z"
   },
   {
    "duration": 6,
    "start_time": "2022-11-29T10:36:55.621Z"
   },
   {
    "duration": 6,
    "start_time": "2022-11-29T10:36:59.415Z"
   },
   {
    "duration": 6,
    "start_time": "2022-11-29T10:38:02.799Z"
   },
   {
    "duration": 7,
    "start_time": "2022-11-29T10:38:07.174Z"
   },
   {
    "duration": 9,
    "start_time": "2022-11-29T10:38:13.392Z"
   },
   {
    "duration": 6,
    "start_time": "2022-11-29T10:38:17.832Z"
   },
   {
    "duration": 7,
    "start_time": "2022-11-29T10:38:22.092Z"
   },
   {
    "duration": 5,
    "start_time": "2022-11-29T10:40:18.834Z"
   },
   {
    "duration": 24,
    "start_time": "2022-11-29T10:41:53.259Z"
   },
   {
    "duration": 149,
    "start_time": "2022-11-29T10:42:06.604Z"
   },
   {
    "duration": 23,
    "start_time": "2022-11-29T10:42:14.969Z"
   },
   {
    "duration": 25,
    "start_time": "2022-11-29T10:44:08.148Z"
   },
   {
    "duration": 6,
    "start_time": "2022-11-29T10:45:20.686Z"
   },
   {
    "duration": 29,
    "start_time": "2022-11-29T10:45:25.165Z"
   },
   {
    "duration": 14,
    "start_time": "2022-11-29T11:01:01.335Z"
   },
   {
    "duration": 106,
    "start_time": "2022-11-29T11:01:35.123Z"
   },
   {
    "duration": 330,
    "start_time": "2022-11-29T11:03:09.396Z"
   },
   {
    "duration": 117,
    "start_time": "2022-11-29T11:05:00.459Z"
   },
   {
    "duration": 4,
    "start_time": "2022-11-29T11:07:47.860Z"
   },
   {
    "duration": 107,
    "start_time": "2022-11-29T11:07:57.145Z"
   },
   {
    "duration": 82,
    "start_time": "2022-11-29T11:13:57.075Z"
   },
   {
    "duration": 1180,
    "start_time": "2022-11-29T11:14:45.827Z"
   },
   {
    "duration": 84,
    "start_time": "2022-11-29T11:15:09.803Z"
   },
   {
    "duration": 1449,
    "start_time": "2022-11-29T11:15:16.584Z"
   },
   {
    "duration": 1284,
    "start_time": "2022-11-29T11:17:24.024Z"
   },
   {
    "duration": 1485,
    "start_time": "2022-11-29T11:17:38.050Z"
   },
   {
    "duration": 1254,
    "start_time": "2022-11-29T11:21:34.146Z"
   },
   {
    "duration": 1374,
    "start_time": "2022-11-29T11:24:50.462Z"
   },
   {
    "duration": 1251,
    "start_time": "2022-11-29T11:25:28.417Z"
   },
   {
    "duration": 1786,
    "start_time": "2022-11-29T11:25:51.006Z"
   },
   {
    "duration": 1491,
    "start_time": "2022-11-29T11:26:06.621Z"
   },
   {
    "duration": 1367,
    "start_time": "2022-11-29T11:27:00.968Z"
   },
   {
    "duration": 151,
    "start_time": "2022-11-29T11:34:40.806Z"
   },
   {
    "duration": 15,
    "start_time": "2022-11-29T11:36:03.079Z"
   },
   {
    "duration": 14,
    "start_time": "2022-11-29T11:36:16.942Z"
   },
   {
    "duration": 24,
    "start_time": "2022-11-29T11:38:55.078Z"
   },
   {
    "duration": 269,
    "start_time": "2022-11-29T11:40:09.083Z"
   },
   {
    "duration": 7,
    "start_time": "2022-11-29T11:42:14.073Z"
   },
   {
    "duration": 5,
    "start_time": "2022-11-29T11:43:01.970Z"
   },
   {
    "duration": 8,
    "start_time": "2022-11-29T11:43:21.620Z"
   },
   {
    "duration": 9,
    "start_time": "2022-11-29T11:43:28.257Z"
   },
   {
    "duration": 671,
    "start_time": "2022-11-29T11:44:24.534Z"
   },
   {
    "duration": 55,
    "start_time": "2022-11-29T11:44:25.207Z"
   },
   {
    "duration": 21,
    "start_time": "2022-11-29T11:44:25.263Z"
   },
   {
    "duration": 14,
    "start_time": "2022-11-29T11:44:25.286Z"
   },
   {
    "duration": 5,
    "start_time": "2022-11-29T11:44:25.302Z"
   },
   {
    "duration": 27,
    "start_time": "2022-11-29T11:44:25.309Z"
   },
   {
    "duration": 21,
    "start_time": "2022-11-29T11:44:25.338Z"
   },
   {
    "duration": 10,
    "start_time": "2022-11-29T11:44:25.360Z"
   },
   {
    "duration": 24,
    "start_time": "2022-11-29T11:44:25.371Z"
   },
   {
    "duration": 4,
    "start_time": "2022-11-29T11:44:25.397Z"
   },
   {
    "duration": 18,
    "start_time": "2022-11-29T11:44:25.402Z"
   },
   {
    "duration": 80,
    "start_time": "2022-11-29T11:44:25.421Z"
   },
   {
    "duration": 21,
    "start_time": "2022-11-29T11:44:25.503Z"
   },
   {
    "duration": 6,
    "start_time": "2022-11-29T11:44:42.981Z"
   },
   {
    "duration": 6,
    "start_time": "2022-11-29T11:44:45.473Z"
   },
   {
    "duration": 6,
    "start_time": "2022-11-29T11:44:51.942Z"
   },
   {
    "duration": 5,
    "start_time": "2022-11-29T11:50:06.993Z"
   },
   {
    "duration": 10,
    "start_time": "2022-11-29T11:50:07.000Z"
   },
   {
    "duration": 413,
    "start_time": "2022-11-29T11:50:07.012Z"
   },
   {
    "duration": 10,
    "start_time": "2022-11-29T11:50:07.427Z"
   },
   {
    "duration": 160,
    "start_time": "2022-11-29T11:50:07.451Z"
   },
   {
    "duration": 166,
    "start_time": "2022-11-29T11:50:07.613Z"
   },
   {
    "duration": 209,
    "start_time": "2022-11-29T11:50:07.782Z"
   },
   {
    "duration": 150,
    "start_time": "2022-11-29T11:50:07.994Z"
   },
   {
    "duration": 152,
    "start_time": "2022-11-29T11:50:08.151Z"
   },
   {
    "duration": 149,
    "start_time": "2022-11-29T11:50:08.307Z"
   },
   {
    "duration": 177,
    "start_time": "2022-11-29T11:50:08.459Z"
   },
   {
    "duration": 168,
    "start_time": "2022-11-29T11:50:08.638Z"
   },
   {
    "duration": 155,
    "start_time": "2022-11-29T11:50:08.807Z"
   },
   {
    "duration": 158,
    "start_time": "2022-11-29T11:50:08.963Z"
   },
   {
    "duration": 6,
    "start_time": "2022-11-29T11:50:09.123Z"
   },
   {
    "duration": 38,
    "start_time": "2022-11-29T11:50:09.131Z"
   },
   {
    "duration": 1485,
    "start_time": "2022-11-29T11:50:09.171Z"
   },
   {
    "duration": 325,
    "start_time": "2022-11-29T11:50:10.658Z"
   },
   {
    "duration": 7,
    "start_time": "2022-11-29T11:51:03.947Z"
   },
   {
    "duration": 6,
    "start_time": "2022-11-29T11:51:06.648Z"
   },
   {
    "duration": 7,
    "start_time": "2022-11-29T11:52:27.570Z"
   },
   {
    "duration": 7,
    "start_time": "2022-11-29T11:52:32.821Z"
   },
   {
    "duration": 5,
    "start_time": "2022-11-29T11:52:33.866Z"
   },
   {
    "duration": 686,
    "start_time": "2022-11-29T11:52:50.906Z"
   },
   {
    "duration": 54,
    "start_time": "2022-11-29T11:52:51.594Z"
   },
   {
    "duration": 23,
    "start_time": "2022-11-29T11:52:51.651Z"
   },
   {
    "duration": 18,
    "start_time": "2022-11-29T11:52:51.677Z"
   },
   {
    "duration": 7,
    "start_time": "2022-11-29T11:52:51.697Z"
   },
   {
    "duration": 23,
    "start_time": "2022-11-29T11:52:51.706Z"
   },
   {
    "duration": 37,
    "start_time": "2022-11-29T11:52:51.731Z"
   },
   {
    "duration": 12,
    "start_time": "2022-11-29T11:52:51.770Z"
   },
   {
    "duration": 23,
    "start_time": "2022-11-29T11:52:51.784Z"
   },
   {
    "duration": 11,
    "start_time": "2022-11-29T11:52:51.809Z"
   },
   {
    "duration": 45,
    "start_time": "2022-11-29T11:52:51.822Z"
   },
   {
    "duration": 66,
    "start_time": "2022-11-29T11:52:51.869Z"
   },
   {
    "duration": 33,
    "start_time": "2022-11-29T11:52:51.936Z"
   },
   {
    "duration": 14,
    "start_time": "2022-11-29T11:52:51.971Z"
   },
   {
    "duration": 10,
    "start_time": "2022-11-29T11:52:51.986Z"
   },
   {
    "duration": 426,
    "start_time": "2022-11-29T11:52:51.997Z"
   },
   {
    "duration": 11,
    "start_time": "2022-11-29T11:52:52.424Z"
   },
   {
    "duration": 182,
    "start_time": "2022-11-29T11:52:52.437Z"
   },
   {
    "duration": 184,
    "start_time": "2022-11-29T11:52:52.621Z"
   },
   {
    "duration": 226,
    "start_time": "2022-11-29T11:52:52.807Z"
   },
   {
    "duration": 160,
    "start_time": "2022-11-29T11:52:53.035Z"
   },
   {
    "duration": 160,
    "start_time": "2022-11-29T11:52:53.197Z"
   },
   {
    "duration": 140,
    "start_time": "2022-11-29T11:52:53.363Z"
   },
   {
    "duration": 175,
    "start_time": "2022-11-29T11:52:53.505Z"
   },
   {
    "duration": 176,
    "start_time": "2022-11-29T11:52:53.681Z"
   },
   {
    "duration": 154,
    "start_time": "2022-11-29T11:52:53.858Z"
   },
   {
    "duration": 174,
    "start_time": "2022-11-29T11:52:54.013Z"
   },
   {
    "duration": 5,
    "start_time": "2022-11-29T11:52:54.190Z"
   },
   {
    "duration": 26,
    "start_time": "2022-11-29T11:52:54.196Z"
   },
   {
    "duration": 1337,
    "start_time": "2022-11-29T11:52:54.225Z"
   },
   {
    "duration": 8,
    "start_time": "2022-11-29T11:52:55.565Z"
   },
   {
    "duration": 17,
    "start_time": "2022-11-29T11:52:55.575Z"
   },
   {
    "duration": 7,
    "start_time": "2022-11-29T11:53:13.449Z"
   },
   {
    "duration": 9,
    "start_time": "2022-11-29T11:54:38.980Z"
   },
   {
    "duration": 9,
    "start_time": "2022-11-29T11:56:19.474Z"
   },
   {
    "duration": 7,
    "start_time": "2022-11-29T11:56:44.120Z"
   },
   {
    "duration": 92,
    "start_time": "2022-11-29T11:58:25.641Z"
   },
   {
    "duration": 13,
    "start_time": "2022-11-29T11:58:26.679Z"
   },
   {
    "duration": 3111,
    "start_time": "2022-11-29T11:59:27.652Z"
   },
   {
    "duration": 8,
    "start_time": "2022-11-29T12:00:23.439Z"
   },
   {
    "duration": 573,
    "start_time": "2022-11-29T12:00:27.555Z"
   },
   {
    "duration": 607,
    "start_time": "2022-11-29T12:01:10.692Z"
   },
   {
    "duration": 788,
    "start_time": "2022-11-29T12:01:19.586Z"
   },
   {
    "duration": 6,
    "start_time": "2022-11-29T12:02:03.241Z"
   },
   {
    "duration": 861,
    "start_time": "2022-11-29T12:02:04.414Z"
   },
   {
    "duration": 7,
    "start_time": "2022-11-29T12:07:34.759Z"
   },
   {
    "duration": 6,
    "start_time": "2022-11-29T12:07:47.490Z"
   },
   {
    "duration": 7,
    "start_time": "2022-11-29T12:08:05.698Z"
   },
   {
    "duration": 6,
    "start_time": "2022-11-29T12:10:00.225Z"
   },
   {
    "duration": 1388,
    "start_time": "2022-11-29T12:14:22.111Z"
   },
   {
    "duration": 117,
    "start_time": "2022-11-29T12:17:55.619Z"
   },
   {
    "duration": 165,
    "start_time": "2022-11-29T12:18:05.123Z"
   },
   {
    "duration": 166,
    "start_time": "2022-11-29T12:19:21.945Z"
   },
   {
    "duration": 170,
    "start_time": "2022-11-29T12:19:32.135Z"
   },
   {
    "duration": 10,
    "start_time": "2022-11-29T12:25:49.681Z"
   },
   {
    "duration": 14,
    "start_time": "2022-11-29T12:26:04.182Z"
   },
   {
    "duration": 12,
    "start_time": "2022-11-29T12:26:16.840Z"
   },
   {
    "duration": 10,
    "start_time": "2022-11-29T12:26:29.357Z"
   },
   {
    "duration": 11,
    "start_time": "2022-11-29T12:26:42.880Z"
   },
   {
    "duration": 12,
    "start_time": "2022-11-29T12:26:48.226Z"
   },
   {
    "duration": 8,
    "start_time": "2022-11-29T12:31:01.280Z"
   },
   {
    "duration": 721,
    "start_time": "2022-11-29T12:31:09.497Z"
   },
   {
    "duration": 57,
    "start_time": "2022-11-29T12:31:10.220Z"
   },
   {
    "duration": 22,
    "start_time": "2022-11-29T12:31:10.279Z"
   },
   {
    "duration": 16,
    "start_time": "2022-11-29T12:31:10.303Z"
   },
   {
    "duration": 4,
    "start_time": "2022-11-29T12:31:10.321Z"
   },
   {
    "duration": 37,
    "start_time": "2022-11-29T12:31:10.327Z"
   },
   {
    "duration": 11,
    "start_time": "2022-11-29T12:31:10.365Z"
   },
   {
    "duration": 14,
    "start_time": "2022-11-29T12:31:10.378Z"
   },
   {
    "duration": 23,
    "start_time": "2022-11-29T12:31:10.394Z"
   },
   {
    "duration": 6,
    "start_time": "2022-11-29T12:31:10.420Z"
   },
   {
    "duration": 35,
    "start_time": "2022-11-29T12:31:10.428Z"
   },
   {
    "duration": 67,
    "start_time": "2022-11-29T12:31:10.465Z"
   },
   {
    "duration": 39,
    "start_time": "2022-11-29T12:31:10.534Z"
   },
   {
    "duration": 11,
    "start_time": "2022-11-29T12:31:10.574Z"
   },
   {
    "duration": 7,
    "start_time": "2022-11-29T12:31:10.587Z"
   },
   {
    "duration": 453,
    "start_time": "2022-11-29T12:31:10.597Z"
   },
   {
    "duration": 9,
    "start_time": "2022-11-29T12:31:11.052Z"
   },
   {
    "duration": 160,
    "start_time": "2022-11-29T12:31:11.063Z"
   },
   {
    "duration": 157,
    "start_time": "2022-11-29T12:31:11.224Z"
   },
   {
    "duration": 209,
    "start_time": "2022-11-29T12:31:11.383Z"
   },
   {
    "duration": 147,
    "start_time": "2022-11-29T12:31:11.594Z"
   },
   {
    "duration": 143,
    "start_time": "2022-11-29T12:31:11.751Z"
   },
   {
    "duration": 155,
    "start_time": "2022-11-29T12:31:11.896Z"
   },
   {
    "duration": 189,
    "start_time": "2022-11-29T12:31:12.052Z"
   },
   {
    "duration": 163,
    "start_time": "2022-11-29T12:31:12.250Z"
   },
   {
    "duration": 160,
    "start_time": "2022-11-29T12:31:12.415Z"
   },
   {
    "duration": 169,
    "start_time": "2022-11-29T12:31:12.577Z"
   },
   {
    "duration": 5,
    "start_time": "2022-11-29T12:31:12.752Z"
   },
   {
    "duration": 27,
    "start_time": "2022-11-29T12:31:12.759Z"
   },
   {
    "duration": 8,
    "start_time": "2022-11-29T12:31:12.788Z"
   },
   {
    "duration": 980,
    "start_time": "2022-11-29T12:31:12.797Z"
   },
   {
    "duration": 6,
    "start_time": "2022-11-29T12:31:13.779Z"
   },
   {
    "duration": 787,
    "start_time": "2022-11-29T12:31:13.786Z"
   },
   {
    "duration": 6,
    "start_time": "2022-11-29T12:31:14.574Z"
   },
   {
    "duration": 10,
    "start_time": "2022-11-29T12:31:14.582Z"
   },
   {
    "duration": 1475,
    "start_time": "2022-11-29T12:31:14.594Z"
   },
   {
    "duration": 195,
    "start_time": "2022-11-29T12:31:16.070Z"
   },
   {
    "duration": 8,
    "start_time": "2022-11-29T12:31:16.267Z"
   },
   {
    "duration": 23,
    "start_time": "2022-11-29T12:33:44.681Z"
   },
   {
    "duration": 22,
    "start_time": "2022-11-29T12:34:00.473Z"
   },
   {
    "duration": 8,
    "start_time": "2022-11-29T12:36:18.969Z"
   },
   {
    "duration": 8,
    "start_time": "2022-11-29T12:36:20.437Z"
   },
   {
    "duration": 8,
    "start_time": "2022-11-29T12:43:07.252Z"
   },
   {
    "duration": 9,
    "start_time": "2022-11-29T12:43:37.476Z"
   },
   {
    "duration": 8,
    "start_time": "2022-11-29T12:43:39.925Z"
   },
   {
    "duration": 90,
    "start_time": "2022-11-29T12:45:39.636Z"
   },
   {
    "duration": 91,
    "start_time": "2022-11-29T12:46:48.865Z"
   },
   {
    "duration": 8,
    "start_time": "2022-11-29T12:46:56.821Z"
   },
   {
    "duration": 140,
    "start_time": "2022-11-29T12:47:18.813Z"
   },
   {
    "duration": 117,
    "start_time": "2022-11-29T12:47:27.172Z"
   },
   {
    "duration": 117,
    "start_time": "2022-11-29T12:48:01.363Z"
   },
   {
    "duration": 120,
    "start_time": "2022-11-29T12:48:02.976Z"
   },
   {
    "duration": 390,
    "start_time": "2022-11-29T12:59:32.279Z"
   },
   {
    "duration": 8,
    "start_time": "2022-11-29T13:06:01.088Z"
   },
   {
    "duration": 7,
    "start_time": "2022-11-29T13:06:17.983Z"
   },
   {
    "duration": 17,
    "start_time": "2022-11-29T13:09:00.177Z"
   },
   {
    "duration": 1409,
    "start_time": "2022-11-29T14:19:04.691Z"
   },
   {
    "duration": 103,
    "start_time": "2022-11-29T14:19:06.102Z"
   },
   {
    "duration": 23,
    "start_time": "2022-11-29T14:19:06.207Z"
   },
   {
    "duration": 15,
    "start_time": "2022-11-29T14:19:06.232Z"
   },
   {
    "duration": 5,
    "start_time": "2022-11-29T14:19:06.250Z"
   },
   {
    "duration": 16,
    "start_time": "2022-11-29T14:19:06.256Z"
   },
   {
    "duration": 10,
    "start_time": "2022-11-29T14:19:06.274Z"
   },
   {
    "duration": 35,
    "start_time": "2022-11-29T14:19:06.285Z"
   },
   {
    "duration": 23,
    "start_time": "2022-11-29T14:19:06.321Z"
   },
   {
    "duration": 3,
    "start_time": "2022-11-29T14:19:06.346Z"
   },
   {
    "duration": 15,
    "start_time": "2022-11-29T14:19:06.351Z"
   },
   {
    "duration": 97,
    "start_time": "2022-11-29T14:19:06.367Z"
   },
   {
    "duration": 23,
    "start_time": "2022-11-29T14:19:06.465Z"
   },
   {
    "duration": 25,
    "start_time": "2022-11-29T14:19:06.491Z"
   },
   {
    "duration": 6,
    "start_time": "2022-11-29T14:19:06.517Z"
   },
   {
    "duration": 482,
    "start_time": "2022-11-29T14:19:06.525Z"
   },
   {
    "duration": 10,
    "start_time": "2022-11-29T14:19:07.009Z"
   },
   {
    "duration": 163,
    "start_time": "2022-11-29T14:19:07.021Z"
   },
   {
    "duration": 160,
    "start_time": "2022-11-29T14:19:07.186Z"
   },
   {
    "duration": 153,
    "start_time": "2022-11-29T14:19:07.348Z"
   },
   {
    "duration": 157,
    "start_time": "2022-11-29T14:19:07.503Z"
   },
   {
    "duration": 152,
    "start_time": "2022-11-29T14:19:07.662Z"
   },
   {
    "duration": 148,
    "start_time": "2022-11-29T14:19:07.816Z"
   },
   {
    "duration": 176,
    "start_time": "2022-11-29T14:19:07.966Z"
   },
   {
    "duration": 240,
    "start_time": "2022-11-29T14:19:08.143Z"
   },
   {
    "duration": 152,
    "start_time": "2022-11-29T14:19:08.385Z"
   },
   {
    "duration": 167,
    "start_time": "2022-11-29T14:19:08.538Z"
   },
   {
    "duration": 8,
    "start_time": "2022-11-29T14:19:08.707Z"
   },
   {
    "duration": 22,
    "start_time": "2022-11-29T14:19:08.716Z"
   },
   {
    "duration": 7,
    "start_time": "2022-11-29T14:19:08.740Z"
   },
   {
    "duration": 941,
    "start_time": "2022-11-29T14:19:08.749Z"
   },
   {
    "duration": 5,
    "start_time": "2022-11-29T14:19:09.692Z"
   },
   {
    "duration": 785,
    "start_time": "2022-11-29T14:19:09.699Z"
   },
   {
    "duration": 5,
    "start_time": "2022-11-29T14:19:10.486Z"
   },
   {
    "duration": 7,
    "start_time": "2022-11-29T14:19:10.493Z"
   },
   {
    "duration": 1485,
    "start_time": "2022-11-29T14:19:10.502Z"
   },
   {
    "duration": 201,
    "start_time": "2022-11-29T14:19:11.989Z"
   },
   {
    "duration": 8,
    "start_time": "2022-11-29T14:19:12.192Z"
   },
   {
    "duration": 24,
    "start_time": "2022-11-29T14:19:12.201Z"
   },
   {
    "duration": 12,
    "start_time": "2022-11-29T14:19:12.227Z"
   },
   {
    "duration": 8,
    "start_time": "2022-11-29T14:19:12.244Z"
   },
   {
    "duration": 14,
    "start_time": "2022-11-29T14:19:12.254Z"
   },
   {
    "duration": 9,
    "start_time": "2022-11-29T14:19:12.270Z"
   },
   {
    "duration": 140,
    "start_time": "2022-11-29T14:19:12.281Z"
   },
   {
    "duration": 146,
    "start_time": "2022-11-29T14:19:12.424Z"
   },
   {
    "duration": 229,
    "start_time": "2022-11-29T14:19:12.572Z"
   },
   {
    "duration": 12,
    "start_time": "2022-11-29T14:19:12.811Z"
   },
   {
    "duration": 12,
    "start_time": "2022-11-29T14:23:57.132Z"
   },
   {
    "duration": 14,
    "start_time": "2022-11-29T14:24:19.340Z"
   },
   {
    "duration": 11,
    "start_time": "2022-11-29T14:24:24.486Z"
   },
   {
    "duration": 130,
    "start_time": "2022-11-29T14:54:09.457Z"
   },
   {
    "duration": 409,
    "start_time": "2022-11-29T14:54:19.828Z"
   },
   {
    "duration": 1322,
    "start_time": "2022-11-29T15:10:19.385Z"
   },
   {
    "duration": 59,
    "start_time": "2022-11-29T15:10:20.709Z"
   },
   {
    "duration": 26,
    "start_time": "2022-11-29T15:10:20.770Z"
   },
   {
    "duration": 17,
    "start_time": "2022-11-29T15:10:20.798Z"
   },
   {
    "duration": 5,
    "start_time": "2022-11-29T15:10:20.818Z"
   },
   {
    "duration": 31,
    "start_time": "2022-11-29T15:10:20.825Z"
   },
   {
    "duration": 13,
    "start_time": "2022-11-29T15:10:20.859Z"
   },
   {
    "duration": 11,
    "start_time": "2022-11-29T15:10:20.875Z"
   },
   {
    "duration": 49,
    "start_time": "2022-11-29T15:10:20.887Z"
   },
   {
    "duration": 12,
    "start_time": "2022-11-29T15:10:20.939Z"
   },
   {
    "duration": 14,
    "start_time": "2022-11-29T15:10:20.953Z"
   },
   {
    "duration": 85,
    "start_time": "2022-11-29T15:10:20.969Z"
   },
   {
    "duration": 24,
    "start_time": "2022-11-29T15:10:21.056Z"
   },
   {
    "duration": 30,
    "start_time": "2022-11-29T15:10:21.083Z"
   },
   {
    "duration": 6,
    "start_time": "2022-11-29T15:10:21.115Z"
   },
   {
    "duration": 431,
    "start_time": "2022-11-29T15:10:21.122Z"
   },
   {
    "duration": 10,
    "start_time": "2022-11-29T15:10:21.555Z"
   },
   {
    "duration": 161,
    "start_time": "2022-11-29T15:10:21.567Z"
   },
   {
    "duration": 170,
    "start_time": "2022-11-29T15:10:21.730Z"
   },
   {
    "duration": 161,
    "start_time": "2022-11-29T15:10:21.901Z"
   },
   {
    "duration": 165,
    "start_time": "2022-11-29T15:10:22.064Z"
   },
   {
    "duration": 153,
    "start_time": "2022-11-29T15:10:22.231Z"
   },
   {
    "duration": 154,
    "start_time": "2022-11-29T15:10:22.387Z"
   },
   {
    "duration": 171,
    "start_time": "2022-11-29T15:10:22.543Z"
   },
   {
    "duration": 243,
    "start_time": "2022-11-29T15:10:22.716Z"
   },
   {
    "duration": 164,
    "start_time": "2022-11-29T15:10:22.961Z"
   },
   {
    "duration": 165,
    "start_time": "2022-11-29T15:10:23.126Z"
   },
   {
    "duration": 5,
    "start_time": "2022-11-29T15:10:23.293Z"
   },
   {
    "duration": 42,
    "start_time": "2022-11-29T15:10:23.300Z"
   },
   {
    "duration": 8,
    "start_time": "2022-11-29T15:10:23.345Z"
   },
   {
    "duration": 923,
    "start_time": "2022-11-29T15:10:23.355Z"
   },
   {
    "duration": 5,
    "start_time": "2022-11-29T15:10:24.280Z"
   },
   {
    "duration": 814,
    "start_time": "2022-11-29T15:10:24.286Z"
   },
   {
    "duration": 5,
    "start_time": "2022-11-29T15:10:25.102Z"
   },
   {
    "duration": 16,
    "start_time": "2022-11-29T15:10:25.109Z"
   },
   {
    "duration": 1645,
    "start_time": "2022-11-29T15:10:25.127Z"
   },
   {
    "duration": 223,
    "start_time": "2022-11-29T15:10:26.775Z"
   },
   {
    "duration": 15,
    "start_time": "2022-11-29T15:10:27.000Z"
   },
   {
    "duration": 22,
    "start_time": "2022-11-29T15:10:27.018Z"
   },
   {
    "duration": 24,
    "start_time": "2022-11-29T15:10:27.043Z"
   },
   {
    "duration": 39,
    "start_time": "2022-11-29T15:10:27.072Z"
   },
   {
    "duration": 23,
    "start_time": "2022-11-29T15:10:27.113Z"
   },
   {
    "duration": 10,
    "start_time": "2022-11-29T15:10:27.139Z"
   },
   {
    "duration": 199,
    "start_time": "2022-11-29T15:10:27.151Z"
   },
   {
    "duration": 169,
    "start_time": "2022-11-29T15:10:27.352Z"
   },
   {
    "duration": 249,
    "start_time": "2022-11-29T15:10:27.523Z"
   },
   {
    "duration": 12,
    "start_time": "2022-11-29T15:10:27.774Z"
   },
   {
    "duration": 30,
    "start_time": "2022-11-29T15:10:27.788Z"
   },
   {
    "duration": 145,
    "start_time": "2022-11-29T15:26:31.752Z"
   },
   {
    "duration": 159,
    "start_time": "2022-11-29T15:26:51.609Z"
   },
   {
    "duration": 168,
    "start_time": "2022-11-29T15:26:55.957Z"
   },
   {
    "duration": 137,
    "start_time": "2022-11-29T15:27:05.936Z"
   },
   {
    "duration": 122,
    "start_time": "2022-11-29T15:27:10.973Z"
   },
   {
    "duration": 20,
    "start_time": "2022-11-29T15:27:11.097Z"
   },
   {
    "duration": 15,
    "start_time": "2022-11-29T15:27:11.119Z"
   },
   {
    "duration": 1136,
    "start_time": "2022-11-30T01:45:12.972Z"
   },
   {
    "duration": 90,
    "start_time": "2022-11-30T01:45:14.109Z"
   },
   {
    "duration": 19,
    "start_time": "2022-11-30T01:45:14.201Z"
   },
   {
    "duration": 13,
    "start_time": "2022-11-30T01:45:14.221Z"
   },
   {
    "duration": 4,
    "start_time": "2022-11-30T01:45:14.589Z"
   },
   {
    "duration": 13,
    "start_time": "2022-11-30T01:45:15.093Z"
   },
   {
    "duration": 8,
    "start_time": "2022-11-30T01:45:15.430Z"
   },
   {
    "duration": 9,
    "start_time": "2022-11-30T01:45:15.957Z"
   },
   {
    "duration": 20,
    "start_time": "2022-11-30T01:45:16.118Z"
   },
   {
    "duration": 3,
    "start_time": "2022-11-30T01:45:17.343Z"
   },
   {
    "duration": 10,
    "start_time": "2022-11-30T01:45:17.942Z"
   },
   {
    "duration": 64,
    "start_time": "2022-11-30T01:45:18.582Z"
   },
   {
    "duration": 28,
    "start_time": "2022-11-30T01:45:18.992Z"
   },
   {
    "duration": 8,
    "start_time": "2022-11-30T01:45:19.958Z"
   },
   {
    "duration": 5,
    "start_time": "2022-11-30T01:45:21.072Z"
   },
   {
    "duration": 93,
    "start_time": "2022-11-30T01:45:23.306Z"
   },
   {
    "duration": 31,
    "start_time": "2022-11-30T01:45:32.472Z"
   },
   {
    "duration": 989,
    "start_time": "2022-11-30T01:58:52.267Z"
   },
   {
    "duration": 51,
    "start_time": "2022-11-30T01:58:53.258Z"
   },
   {
    "duration": 18,
    "start_time": "2022-11-30T01:58:53.311Z"
   },
   {
    "duration": 15,
    "start_time": "2022-11-30T01:58:53.331Z"
   },
   {
    "duration": 4,
    "start_time": "2022-11-30T01:58:53.347Z"
   },
   {
    "duration": 15,
    "start_time": "2022-11-30T01:58:53.352Z"
   },
   {
    "duration": 11,
    "start_time": "2022-11-30T01:58:53.368Z"
   },
   {
    "duration": 12,
    "start_time": "2022-11-30T01:58:53.380Z"
   },
   {
    "duration": 32,
    "start_time": "2022-11-30T01:58:53.393Z"
   },
   {
    "duration": 3,
    "start_time": "2022-11-30T01:58:53.427Z"
   },
   {
    "duration": 12,
    "start_time": "2022-11-30T01:58:53.431Z"
   },
   {
    "duration": 58,
    "start_time": "2022-11-30T01:58:53.444Z"
   },
   {
    "duration": 19,
    "start_time": "2022-11-30T01:58:53.520Z"
   },
   {
    "duration": 7,
    "start_time": "2022-11-30T01:58:53.541Z"
   },
   {
    "duration": 4,
    "start_time": "2022-11-30T01:58:53.549Z"
   },
   {
    "duration": 357,
    "start_time": "2022-11-30T01:58:53.554Z"
   },
   {
    "duration": 9,
    "start_time": "2022-11-30T01:58:53.913Z"
   },
   {
    "duration": 118,
    "start_time": "2022-11-30T01:58:53.923Z"
   },
   {
    "duration": 129,
    "start_time": "2022-11-30T01:58:54.042Z"
   },
   {
    "duration": 135,
    "start_time": "2022-11-30T01:58:54.173Z"
   },
   {
    "duration": 126,
    "start_time": "2022-11-30T01:58:54.309Z"
   },
   {
    "duration": 122,
    "start_time": "2022-11-30T01:58:54.437Z"
   },
   {
    "duration": 122,
    "start_time": "2022-11-30T01:58:54.561Z"
   },
   {
    "duration": 144,
    "start_time": "2022-11-30T01:58:54.684Z"
   },
   {
    "duration": 192,
    "start_time": "2022-11-30T01:58:54.830Z"
   },
   {
    "duration": 131,
    "start_time": "2022-11-30T01:58:55.024Z"
   },
   {
    "duration": 177,
    "start_time": "2022-11-30T01:58:55.157Z"
   },
   {
    "duration": 5,
    "start_time": "2022-11-30T01:58:55.338Z"
   },
   {
    "duration": 19,
    "start_time": "2022-11-30T01:58:55.345Z"
   },
   {
    "duration": 5,
    "start_time": "2022-11-30T01:58:55.366Z"
   },
   {
    "duration": 760,
    "start_time": "2022-11-30T01:58:55.372Z"
   },
   {
    "duration": 4,
    "start_time": "2022-11-30T01:58:56.134Z"
   },
   {
    "duration": 632,
    "start_time": "2022-11-30T01:58:56.140Z"
   },
   {
    "duration": 5,
    "start_time": "2022-11-30T01:58:56.773Z"
   },
   {
    "duration": 6,
    "start_time": "2022-11-30T01:58:56.780Z"
   },
   {
    "duration": 1257,
    "start_time": "2022-11-30T01:58:56.788Z"
   },
   {
    "duration": 164,
    "start_time": "2022-11-30T01:58:58.046Z"
   },
   {
    "duration": 11,
    "start_time": "2022-11-30T01:58:58.212Z"
   },
   {
    "duration": 7,
    "start_time": "2022-11-30T01:58:58.225Z"
   },
   {
    "duration": 7,
    "start_time": "2022-11-30T01:58:58.233Z"
   },
   {
    "duration": 7,
    "start_time": "2022-11-30T01:58:58.242Z"
   },
   {
    "duration": 7,
    "start_time": "2022-11-30T01:58:58.250Z"
   },
   {
    "duration": 6,
    "start_time": "2022-11-30T01:58:58.259Z"
   },
   {
    "duration": 129,
    "start_time": "2022-11-30T01:58:58.267Z"
   },
   {
    "duration": 126,
    "start_time": "2022-11-30T01:58:58.397Z"
   },
   {
    "duration": 209,
    "start_time": "2022-11-30T01:58:58.524Z"
   },
   {
    "duration": 10,
    "start_time": "2022-11-30T01:58:58.735Z"
   },
   {
    "duration": 12,
    "start_time": "2022-11-30T01:58:58.746Z"
   },
   {
    "duration": 47,
    "start_time": "2022-11-30T14:03:44.394Z"
   },
   {
    "duration": 1217,
    "start_time": "2022-11-30T14:03:53.466Z"
   },
   {
    "duration": 109,
    "start_time": "2022-11-30T14:03:54.686Z"
   },
   {
    "duration": 20,
    "start_time": "2022-11-30T14:03:54.796Z"
   },
   {
    "duration": 14,
    "start_time": "2022-11-30T14:03:54.817Z"
   },
   {
    "duration": 50,
    "start_time": "2022-11-30T14:03:57.519Z"
   },
   {
    "duration": 3,
    "start_time": "2022-11-30T14:08:32.597Z"
   },
   {
    "duration": 54,
    "start_time": "2022-11-30T14:08:32.602Z"
   },
   {
    "duration": 15,
    "start_time": "2022-11-30T14:08:32.657Z"
   },
   {
    "duration": 23,
    "start_time": "2022-11-30T14:08:32.674Z"
   },
   {
    "duration": 46,
    "start_time": "2022-11-30T14:08:32.698Z"
   },
   {
    "duration": 5,
    "start_time": "2022-11-30T14:08:32.745Z"
   },
   {
    "duration": 16,
    "start_time": "2022-11-30T14:08:32.751Z"
   },
   {
    "duration": 8,
    "start_time": "2022-11-30T14:08:32.768Z"
   },
   {
    "duration": 25,
    "start_time": "2022-11-30T14:08:32.778Z"
   },
   {
    "duration": 19,
    "start_time": "2022-11-30T14:08:32.805Z"
   },
   {
    "duration": 2,
    "start_time": "2022-11-30T14:08:35.736Z"
   },
   {
    "duration": 10,
    "start_time": "2022-11-30T14:08:37.224Z"
   },
   {
    "duration": 3,
    "start_time": "2022-11-30T14:17:52.837Z"
   },
   {
    "duration": 57,
    "start_time": "2022-11-30T14:17:52.842Z"
   },
   {
    "duration": 18,
    "start_time": "2022-11-30T14:17:52.901Z"
   },
   {
    "duration": 14,
    "start_time": "2022-11-30T14:17:52.921Z"
   },
   {
    "duration": 61,
    "start_time": "2022-11-30T14:17:52.937Z"
   },
   {
    "duration": 4,
    "start_time": "2022-11-30T14:17:52.999Z"
   },
   {
    "duration": 15,
    "start_time": "2022-11-30T14:17:53.005Z"
   },
   {
    "duration": 10,
    "start_time": "2022-11-30T14:17:53.022Z"
   },
   {
    "duration": 9,
    "start_time": "2022-11-30T14:17:53.034Z"
   },
   {
    "duration": 19,
    "start_time": "2022-11-30T14:17:53.046Z"
   },
   {
    "duration": 9,
    "start_time": "2022-11-30T14:17:53.067Z"
   },
   {
    "duration": 9,
    "start_time": "2022-11-30T14:17:53.098Z"
   },
   {
    "duration": 61,
    "start_time": "2022-11-30T14:17:53.108Z"
   },
   {
    "duration": 31,
    "start_time": "2022-11-30T14:17:53.171Z"
   },
   {
    "duration": 5,
    "start_time": "2022-11-30T14:17:53.204Z"
   },
   {
    "duration": 7,
    "start_time": "2022-11-30T14:17:53.211Z"
   },
   {
    "duration": 372,
    "start_time": "2022-11-30T14:17:53.219Z"
   },
   {
    "duration": 8,
    "start_time": "2022-11-30T14:17:53.593Z"
   },
   {
    "duration": 136,
    "start_time": "2022-11-30T14:17:53.603Z"
   },
   {
    "duration": 141,
    "start_time": "2022-11-30T14:17:53.740Z"
   },
   {
    "duration": 157,
    "start_time": "2022-11-30T14:17:53.883Z"
   },
   {
    "duration": 125,
    "start_time": "2022-11-30T14:17:54.042Z"
   },
   {
    "duration": 128,
    "start_time": "2022-11-30T14:17:54.169Z"
   },
   {
    "duration": 122,
    "start_time": "2022-11-30T14:17:54.299Z"
   },
   {
    "duration": 140,
    "start_time": "2022-11-30T14:17:54.423Z"
   },
   {
    "duration": 199,
    "start_time": "2022-11-30T14:17:54.564Z"
   },
   {
    "duration": 138,
    "start_time": "2022-11-30T14:17:54.764Z"
   },
   {
    "duration": 177,
    "start_time": "2022-11-30T14:17:54.904Z"
   },
   {
    "duration": 14,
    "start_time": "2022-11-30T14:17:55.083Z"
   },
   {
    "duration": 23,
    "start_time": "2022-11-30T14:17:55.099Z"
   },
   {
    "duration": 7,
    "start_time": "2022-11-30T14:17:55.124Z"
   },
   {
    "duration": 801,
    "start_time": "2022-11-30T14:17:55.132Z"
   },
   {
    "duration": 4,
    "start_time": "2022-11-30T14:17:55.935Z"
   },
   {
    "duration": 671,
    "start_time": "2022-11-30T14:17:57.591Z"
   },
   {
    "duration": 1261,
    "start_time": "2022-11-30T14:18:17.790Z"
   },
   {
    "duration": 1081,
    "start_time": "2022-11-30T14:44:15.402Z"
   },
   {
    "duration": 3,
    "start_time": "2022-11-30T14:46:02.267Z"
   },
   {
    "duration": 54,
    "start_time": "2022-11-30T14:46:31.993Z"
   },
   {
    "duration": 23,
    "start_time": "2022-11-30T14:46:35.027Z"
   },
   {
    "duration": 14,
    "start_time": "2022-11-30T14:46:36.752Z"
   },
   {
    "duration": 49,
    "start_time": "2022-11-30T14:46:38.185Z"
   },
   {
    "duration": 15,
    "start_time": "2022-11-30T14:47:17.379Z"
   },
   {
    "duration": 5,
    "start_time": "2022-11-30T14:48:12.448Z"
   },
   {
    "duration": 13,
    "start_time": "2022-11-30T14:48:25.758Z"
   },
   {
    "duration": 7,
    "start_time": "2022-11-30T14:48:27.535Z"
   },
   {
    "duration": 9,
    "start_time": "2022-11-30T14:49:44.535Z"
   },
   {
    "duration": 20,
    "start_time": "2022-11-30T14:49:54.498Z"
   },
   {
    "duration": 3,
    "start_time": "2022-11-30T14:50:57.897Z"
   },
   {
    "duration": 10,
    "start_time": "2022-11-30T14:50:59.326Z"
   },
   {
    "duration": 59,
    "start_time": "2022-11-30T14:51:00.697Z"
   },
   {
    "duration": 24,
    "start_time": "2022-11-30T14:51:06.131Z"
   },
   {
    "duration": 7,
    "start_time": "2022-11-30T14:51:52.579Z"
   },
   {
    "duration": 6,
    "start_time": "2022-11-30T14:53:17.496Z"
   },
   {
    "duration": 6,
    "start_time": "2022-11-30T14:56:32.935Z"
   },
   {
    "duration": 6,
    "start_time": "2022-11-30T14:59:36.262Z"
   },
   {
    "duration": 9,
    "start_time": "2022-11-30T15:22:58.157Z"
   },
   {
    "duration": 4,
    "start_time": "2022-11-30T15:23:10.826Z"
   },
   {
    "duration": 6,
    "start_time": "2022-11-30T15:23:17.117Z"
   },
   {
    "duration": 5,
    "start_time": "2022-11-30T15:26:06.927Z"
   },
   {
    "duration": 6,
    "start_time": "2022-11-30T15:26:28.775Z"
   },
   {
    "duration": 7,
    "start_time": "2022-11-30T15:26:35.736Z"
   },
   {
    "duration": 12,
    "start_time": "2022-11-30T15:27:20.038Z"
   },
   {
    "duration": 6,
    "start_time": "2022-11-30T15:35:06.280Z"
   },
   {
    "duration": 1051,
    "start_time": "2022-11-30T15:35:57.241Z"
   },
   {
    "duration": 50,
    "start_time": "2022-11-30T15:36:07.343Z"
   },
   {
    "duration": 19,
    "start_time": "2022-11-30T15:36:08.737Z"
   },
   {
    "duration": 14,
    "start_time": "2022-11-30T15:36:10.014Z"
   },
   {
    "duration": 47,
    "start_time": "2022-11-30T15:36:11.255Z"
   },
   {
    "duration": 5,
    "start_time": "2022-11-30T15:36:22.032Z"
   },
   {
    "duration": 13,
    "start_time": "2022-11-30T15:36:23.971Z"
   },
   {
    "duration": 7,
    "start_time": "2022-11-30T15:36:25.160Z"
   },
   {
    "duration": 9,
    "start_time": "2022-11-30T15:36:31.664Z"
   },
   {
    "duration": 18,
    "start_time": "2022-11-30T15:36:34.078Z"
   },
   {
    "duration": 3,
    "start_time": "2022-11-30T15:37:18.397Z"
   },
   {
    "duration": 11,
    "start_time": "2022-11-30T15:37:19.683Z"
   },
   {
    "duration": 57,
    "start_time": "2022-11-30T15:37:20.866Z"
   },
   {
    "duration": 21,
    "start_time": "2022-11-30T15:37:22.050Z"
   },
   {
    "duration": 9,
    "start_time": "2022-11-30T15:37:28.298Z"
   },
   {
    "duration": 6,
    "start_time": "2022-11-30T15:37:33.652Z"
   },
   {
    "duration": 6,
    "start_time": "2022-11-30T15:37:55.186Z"
   },
   {
    "duration": 5,
    "start_time": "2022-11-30T15:38:01.490Z"
   },
   {
    "duration": 5,
    "start_time": "2022-11-30T15:38:03.302Z"
   },
   {
    "duration": 9,
    "start_time": "2022-11-30T15:38:12.887Z"
   },
   {
    "duration": 368,
    "start_time": "2022-11-30T15:40:00.196Z"
   },
   {
    "duration": 8,
    "start_time": "2022-11-30T15:42:32.996Z"
   },
   {
    "duration": 127,
    "start_time": "2022-11-30T15:42:35.681Z"
   },
   {
    "duration": 129,
    "start_time": "2022-11-30T15:42:37.677Z"
   },
   {
    "duration": 125,
    "start_time": "2022-11-30T15:42:39.475Z"
   },
   {
    "duration": 120,
    "start_time": "2022-11-30T15:42:40.667Z"
   },
   {
    "duration": 112,
    "start_time": "2022-11-30T15:42:41.809Z"
   },
   {
    "duration": 113,
    "start_time": "2022-11-30T15:42:42.923Z"
   },
   {
    "duration": 147,
    "start_time": "2022-11-30T15:42:43.961Z"
   },
   {
    "duration": 201,
    "start_time": "2022-11-30T15:42:44.913Z"
   },
   {
    "duration": 127,
    "start_time": "2022-11-30T15:42:46.228Z"
   },
   {
    "duration": 126,
    "start_time": "2022-11-30T15:42:47.498Z"
   },
   {
    "duration": 5,
    "start_time": "2022-11-30T15:45:58.015Z"
   },
   {
    "duration": 19,
    "start_time": "2022-11-30T15:46:35.085Z"
   },
   {
    "duration": 7,
    "start_time": "2022-11-30T15:46:50.794Z"
   },
   {
    "duration": 794,
    "start_time": "2022-11-30T15:46:52.083Z"
   },
   {
    "duration": 201,
    "start_time": "2022-11-30T15:48:09.150Z"
   },
   {
    "duration": 227,
    "start_time": "2022-11-30T15:49:34.098Z"
   },
   {
    "duration": 216,
    "start_time": "2022-11-30T15:49:38.118Z"
   },
   {
    "duration": 293,
    "start_time": "2022-11-30T15:50:15.978Z"
   },
   {
    "duration": 4,
    "start_time": "2022-11-30T15:53:08.523Z"
   },
   {
    "duration": 692,
    "start_time": "2022-11-30T15:53:09.954Z"
   },
   {
    "duration": 6,
    "start_time": "2022-11-30T15:54:25.180Z"
   },
   {
    "duration": 4,
    "start_time": "2022-11-30T15:54:26.238Z"
   },
   {
    "duration": 1235,
    "start_time": "2022-11-30T15:54:27.741Z"
   },
   {
    "duration": 15,
    "start_time": "2022-11-30T15:55:17.942Z"
   },
   {
    "duration": 2276,
    "start_time": "2022-11-30T15:55:41.893Z"
   },
   {
    "duration": 2704,
    "start_time": "2022-11-30T15:56:37.380Z"
   },
   {
    "duration": 13,
    "start_time": "2022-11-30T15:57:42.915Z"
   },
   {
    "duration": 2777,
    "start_time": "2022-11-30T15:57:57.466Z"
   },
   {
    "duration": 147,
    "start_time": "2022-11-30T16:24:57.036Z"
   },
   {
    "duration": 163,
    "start_time": "2022-11-30T16:25:01.219Z"
   },
   {
    "duration": 10,
    "start_time": "2022-11-30T16:35:44.647Z"
   },
   {
    "duration": 7,
    "start_time": "2022-11-30T16:35:46.255Z"
   },
   {
    "duration": 7,
    "start_time": "2022-11-30T16:35:47.706Z"
   },
   {
    "duration": 1058,
    "start_time": "2022-11-30T16:38:23.850Z"
   },
   {
    "duration": 141,
    "start_time": "2022-11-30T16:40:07.355Z"
   },
   {
    "duration": 116,
    "start_time": "2022-11-30T16:41:25.154Z"
   },
   {
    "duration": 115,
    "start_time": "2022-11-30T16:42:11.599Z"
   },
   {
    "duration": 844,
    "start_time": "2022-11-30T16:42:33.543Z"
   },
   {
    "duration": 137,
    "start_time": "2022-11-30T16:42:45.243Z"
   },
   {
    "duration": 9,
    "start_time": "2022-11-30T16:44:41.871Z"
   },
   {
    "duration": 10,
    "start_time": "2022-11-30T16:44:49.862Z"
   },
   {
    "duration": 139,
    "start_time": "2022-11-30T16:45:22.152Z"
   },
   {
    "duration": 154,
    "start_time": "2022-11-30T16:45:47.861Z"
   },
   {
    "duration": 15,
    "start_time": "2022-11-30T16:46:40.720Z"
   },
   {
    "duration": 15,
    "start_time": "2022-11-30T16:46:44.769Z"
   },
   {
    "duration": 148,
    "start_time": "2022-11-30T16:47:48.955Z"
   },
   {
    "duration": 143,
    "start_time": "2022-11-30T16:48:25.826Z"
   },
   {
    "duration": 146,
    "start_time": "2022-11-30T16:50:27.927Z"
   },
   {
    "duration": 168,
    "start_time": "2022-11-30T16:50:53.687Z"
   },
   {
    "duration": 244,
    "start_time": "2022-11-30T16:51:29.485Z"
   },
   {
    "duration": 337,
    "start_time": "2022-11-30T16:51:45.460Z"
   },
   {
    "duration": 314,
    "start_time": "2022-11-30T16:57:26.645Z"
   },
   {
    "duration": 9,
    "start_time": "2022-11-30T16:59:15.200Z"
   },
   {
    "duration": 6,
    "start_time": "2022-11-30T16:59:16.478Z"
   },
   {
    "duration": 7,
    "start_time": "2022-11-30T16:59:58.365Z"
   },
   {
    "duration": 8,
    "start_time": "2022-11-30T17:00:24.103Z"
   },
   {
    "duration": 9,
    "start_time": "2022-11-30T17:00:53.415Z"
   },
   {
    "duration": 8,
    "start_time": "2022-11-30T17:01:00.824Z"
   },
   {
    "duration": 397,
    "start_time": "2022-11-30T17:01:46.669Z"
   },
   {
    "duration": 448,
    "start_time": "2022-11-30T17:02:54.777Z"
   },
   {
    "duration": 356,
    "start_time": "2022-11-30T17:03:45.813Z"
   },
   {
    "duration": 461,
    "start_time": "2022-11-30T17:05:50.805Z"
   },
   {
    "duration": 367,
    "start_time": "2022-11-30T17:06:03.719Z"
   },
   {
    "duration": 376,
    "start_time": "2022-11-30T17:06:49.071Z"
   },
   {
    "duration": 433,
    "start_time": "2022-11-30T17:08:45.352Z"
   },
   {
    "duration": 117,
    "start_time": "2022-11-30T17:09:12.451Z"
   },
   {
    "duration": 156,
    "start_time": "2022-11-30T17:09:33.852Z"
   },
   {
    "duration": 138,
    "start_time": "2022-11-30T17:09:35.464Z"
   },
   {
    "duration": 99,
    "start_time": "2022-11-30T17:12:16.053Z"
   },
   {
    "duration": 215,
    "start_time": "2022-11-30T17:12:40.865Z"
   },
   {
    "duration": 158,
    "start_time": "2022-11-30T17:16:14.972Z"
   },
   {
    "duration": 126,
    "start_time": "2022-11-30T17:16:49.254Z"
   },
   {
    "duration": 339,
    "start_time": "2022-11-30T17:17:07.139Z"
   },
   {
    "duration": 8,
    "start_time": "2022-11-30T17:28:09.426Z"
   },
   {
    "duration": 10,
    "start_time": "2022-11-30T17:43:37.348Z"
   },
   {
    "duration": 14,
    "start_time": "2022-11-30T17:48:50.702Z"
   },
   {
    "duration": 10,
    "start_time": "2022-11-30T17:48:58.619Z"
   },
   {
    "duration": 14,
    "start_time": "2022-11-30T17:49:04.736Z"
   },
   {
    "duration": 8,
    "start_time": "2022-11-30T17:52:22.047Z"
   },
   {
    "duration": 1118,
    "start_time": "2022-11-30T17:54:43.433Z"
   },
   {
    "duration": 55,
    "start_time": "2022-11-30T17:54:48.413Z"
   },
   {
    "duration": 24,
    "start_time": "2022-11-30T17:54:49.043Z"
   },
   {
    "duration": 21,
    "start_time": "2022-11-30T17:54:50.551Z"
   },
   {
    "duration": 52,
    "start_time": "2022-11-30T17:54:52.095Z"
   },
   {
    "duration": 5,
    "start_time": "2022-11-30T17:55:25.256Z"
   },
   {
    "duration": 13,
    "start_time": "2022-11-30T17:55:42.473Z"
   },
   {
    "duration": 8,
    "start_time": "2022-11-30T17:55:44.341Z"
   },
   {
    "duration": 9,
    "start_time": "2022-11-30T17:55:48.448Z"
   },
   {
    "duration": 9,
    "start_time": "2022-11-30T17:56:13.739Z"
   },
   {
    "duration": 9,
    "start_time": "2022-11-30T17:56:17.471Z"
   },
   {
    "duration": 7,
    "start_time": "2022-11-30T17:56:37.536Z"
   },
   {
    "duration": 1096,
    "start_time": "2022-11-30T17:56:45.414Z"
   },
   {
    "duration": 51,
    "start_time": "2022-11-30T17:56:47.431Z"
   },
   {
    "duration": 20,
    "start_time": "2022-11-30T17:56:48.642Z"
   },
   {
    "duration": 14,
    "start_time": "2022-11-30T17:56:50.210Z"
   },
   {
    "duration": 46,
    "start_time": "2022-11-30T17:56:51.333Z"
   },
   {
    "duration": 4,
    "start_time": "2022-11-30T17:56:53.083Z"
   },
   {
    "duration": 13,
    "start_time": "2022-11-30T17:56:54.424Z"
   },
   {
    "duration": 6,
    "start_time": "2022-11-30T17:56:55.429Z"
   },
   {
    "duration": 9,
    "start_time": "2022-11-30T17:56:58.087Z"
   },
   {
    "duration": 31,
    "start_time": "2022-11-30T17:57:03.798Z"
   },
   {
    "duration": 3,
    "start_time": "2022-11-30T17:57:18.791Z"
   },
   {
    "duration": 12,
    "start_time": "2022-11-30T17:57:20.594Z"
   },
   {
    "duration": 61,
    "start_time": "2022-11-30T17:57:23.259Z"
   },
   {
    "duration": 25,
    "start_time": "2022-11-30T17:57:24.784Z"
   },
   {
    "duration": 8,
    "start_time": "2022-11-30T17:57:26.687Z"
   },
   {
    "duration": 6,
    "start_time": "2022-11-30T17:57:28.989Z"
   },
   {
    "duration": 6,
    "start_time": "2022-11-30T17:57:33.513Z"
   },
   {
    "duration": 5,
    "start_time": "2022-11-30T17:57:35.238Z"
   },
   {
    "duration": 8,
    "start_time": "2022-11-30T17:57:49.197Z"
   },
   {
    "duration": 372,
    "start_time": "2022-11-30T17:58:07.553Z"
   },
   {
    "duration": 8,
    "start_time": "2022-11-30T17:58:21.780Z"
   },
   {
    "duration": 159,
    "start_time": "2022-11-30T17:58:24.744Z"
   },
   {
    "duration": 93,
    "start_time": "2022-11-30T18:00:15.510Z"
   },
   {
    "duration": 6,
    "start_time": "2022-11-30T18:00:18.476Z"
   },
   {
    "duration": 4,
    "start_time": "2022-11-30T18:00:19.654Z"
   },
   {
    "duration": 1422,
    "start_time": "2022-11-30T18:01:23.910Z"
   },
   {
    "duration": 54,
    "start_time": "2022-11-30T18:02:27.320Z"
   },
   {
    "duration": 1139,
    "start_time": "2022-11-30T18:03:38.789Z"
   },
   {
    "duration": 58,
    "start_time": "2022-11-30T18:03:41.971Z"
   },
   {
    "duration": 19,
    "start_time": "2022-11-30T18:03:42.760Z"
   },
   {
    "duration": 15,
    "start_time": "2022-11-30T18:03:43.700Z"
   },
   {
    "duration": 57,
    "start_time": "2022-11-30T18:03:43.894Z"
   },
   {
    "duration": 5,
    "start_time": "2022-11-30T18:03:47.811Z"
   },
   {
    "duration": 14,
    "start_time": "2022-11-30T18:03:49.331Z"
   },
   {
    "duration": 7,
    "start_time": "2022-11-30T18:03:50.271Z"
   },
   {
    "duration": 8,
    "start_time": "2022-11-30T18:03:52.342Z"
   },
   {
    "duration": 20,
    "start_time": "2022-11-30T18:03:53.066Z"
   },
   {
    "duration": 2,
    "start_time": "2022-11-30T18:03:55.555Z"
   },
   {
    "duration": 11,
    "start_time": "2022-11-30T18:03:58.239Z"
   },
   {
    "duration": 62,
    "start_time": "2022-11-30T18:04:01.662Z"
   },
   {
    "duration": 19,
    "start_time": "2022-11-30T18:04:06.013Z"
   },
   {
    "duration": 8,
    "start_time": "2022-11-30T18:04:09.234Z"
   },
   {
    "duration": 7,
    "start_time": "2022-11-30T18:04:10.730Z"
   },
   {
    "duration": 6,
    "start_time": "2022-11-30T18:04:13.611Z"
   },
   {
    "duration": 8,
    "start_time": "2022-11-30T18:04:14.596Z"
   },
   {
    "duration": 9,
    "start_time": "2022-11-30T18:04:21.522Z"
   },
   {
    "duration": 382,
    "start_time": "2022-11-30T18:04:57.590Z"
   },
   {
    "duration": 345,
    "start_time": "2022-11-30T18:05:05.959Z"
   },
   {
    "duration": 7,
    "start_time": "2022-11-30T18:05:31.953Z"
   },
   {
    "duration": 1210,
    "start_time": "2022-11-30T18:05:33.405Z"
   },
   {
    "duration": 5,
    "start_time": "2022-11-30T18:05:41.630Z"
   },
   {
    "duration": 17,
    "start_time": "2022-11-30T18:05:44.208Z"
   },
   {
    "duration": 6,
    "start_time": "2022-11-30T18:05:48.555Z"
   },
   {
    "duration": 240,
    "start_time": "2022-11-30T18:05:53.201Z"
   },
   {
    "duration": 233,
    "start_time": "2022-11-30T18:07:08.601Z"
   },
   {
    "duration": 235,
    "start_time": "2022-11-30T18:07:13.996Z"
   },
   {
    "duration": 295,
    "start_time": "2022-11-30T18:07:20.172Z"
   },
   {
    "duration": 201,
    "start_time": "2022-11-30T18:08:29.066Z"
   },
   {
    "duration": 223,
    "start_time": "2022-11-30T18:08:33.138Z"
   },
   {
    "duration": 197,
    "start_time": "2022-11-30T18:08:37.457Z"
   },
   {
    "duration": 210,
    "start_time": "2022-11-30T18:08:41.931Z"
   },
   {
    "duration": 210,
    "start_time": "2022-11-30T18:09:42.671Z"
   },
   {
    "duration": 272,
    "start_time": "2022-11-30T18:09:55.112Z"
   },
   {
    "duration": 27,
    "start_time": "2022-11-30T18:24:18.821Z"
   },
   {
    "duration": 7,
    "start_time": "2022-11-30T18:24:33.676Z"
   },
   {
    "duration": 202,
    "start_time": "2022-11-30T18:36:52.039Z"
   },
   {
    "duration": 215,
    "start_time": "2022-11-30T18:36:59.668Z"
   },
   {
    "duration": 208,
    "start_time": "2022-11-30T18:37:05.003Z"
   },
   {
    "duration": 5,
    "start_time": "2022-11-30T18:51:15.307Z"
   },
   {
    "duration": 705,
    "start_time": "2022-11-30T18:51:16.469Z"
   },
   {
    "duration": 5,
    "start_time": "2022-11-30T18:51:31.864Z"
   },
   {
    "duration": 5,
    "start_time": "2022-11-30T18:51:33.177Z"
   },
   {
    "duration": 2869,
    "start_time": "2022-11-30T18:51:34.610Z"
   },
   {
    "duration": 158,
    "start_time": "2022-11-30T18:52:13.444Z"
   },
   {
    "duration": 443,
    "start_time": "2022-11-30T18:52:39.763Z"
   },
   {
    "duration": 315,
    "start_time": "2022-11-30T18:53:10.616Z"
   },
   {
    "duration": 293,
    "start_time": "2022-11-30T18:53:26.583Z"
   },
   {
    "duration": 9,
    "start_time": "2022-11-30T18:55:48.338Z"
   },
   {
    "duration": 8,
    "start_time": "2022-11-30T18:55:56.936Z"
   },
   {
    "duration": 1202,
    "start_time": "2022-11-30T18:58:14.834Z"
   },
   {
    "duration": 54,
    "start_time": "2022-11-30T18:58:16.038Z"
   },
   {
    "duration": 34,
    "start_time": "2022-11-30T18:58:16.094Z"
   },
   {
    "duration": 26,
    "start_time": "2022-11-30T18:58:16.130Z"
   },
   {
    "duration": 60,
    "start_time": "2022-11-30T18:58:16.159Z"
   },
   {
    "duration": 5,
    "start_time": "2022-11-30T18:58:16.222Z"
   },
   {
    "duration": 23,
    "start_time": "2022-11-30T18:58:16.229Z"
   },
   {
    "duration": 9,
    "start_time": "2022-11-30T18:58:16.254Z"
   },
   {
    "duration": 33,
    "start_time": "2022-11-30T18:58:16.265Z"
   },
   {
    "duration": 25,
    "start_time": "2022-11-30T18:58:16.303Z"
   },
   {
    "duration": 6,
    "start_time": "2022-11-30T18:58:16.330Z"
   },
   {
    "duration": 15,
    "start_time": "2022-11-30T18:58:16.337Z"
   },
   {
    "duration": 66,
    "start_time": "2022-11-30T18:58:16.353Z"
   },
   {
    "duration": 20,
    "start_time": "2022-11-30T18:58:16.421Z"
   },
   {
    "duration": 8,
    "start_time": "2022-11-30T18:58:16.443Z"
   },
   {
    "duration": 9,
    "start_time": "2022-11-30T18:58:16.453Z"
   },
   {
    "duration": 8,
    "start_time": "2022-11-30T18:58:16.463Z"
   },
   {
    "duration": 8,
    "start_time": "2022-11-30T18:58:16.473Z"
   },
   {
    "duration": 17,
    "start_time": "2022-11-30T18:58:16.504Z"
   },
   {
    "duration": 388,
    "start_time": "2022-11-30T18:58:16.523Z"
   },
   {
    "duration": 6,
    "start_time": "2022-11-30T18:58:16.913Z"
   },
   {
    "duration": 1327,
    "start_time": "2022-11-30T18:58:16.920Z"
   },
   {
    "duration": 5,
    "start_time": "2022-11-30T18:58:18.248Z"
   },
   {
    "duration": 27,
    "start_time": "2022-11-30T18:58:18.254Z"
   },
   {
    "duration": 16,
    "start_time": "2022-11-30T18:58:18.283Z"
   },
   {
    "duration": 220,
    "start_time": "2022-11-30T18:58:18.300Z"
   },
   {
    "duration": 221,
    "start_time": "2022-11-30T18:58:18.522Z"
   },
   {
    "duration": 4,
    "start_time": "2022-11-30T18:58:18.745Z"
   },
   {
    "duration": 731,
    "start_time": "2022-11-30T18:58:18.751Z"
   },
   {
    "duration": 6,
    "start_time": "2022-11-30T18:58:19.484Z"
   },
   {
    "duration": 11,
    "start_time": "2022-11-30T18:58:19.491Z"
   },
   {
    "duration": 2943,
    "start_time": "2022-11-30T18:58:19.504Z"
   },
   {
    "duration": 173,
    "start_time": "2022-11-30T18:58:22.449Z"
   },
   {
    "duration": 432,
    "start_time": "2022-11-30T18:58:22.624Z"
   },
   {
    "duration": 362,
    "start_time": "2022-11-30T18:58:23.058Z"
   },
   {
    "duration": 331,
    "start_time": "2022-11-30T18:58:23.421Z"
   },
   {
    "duration": 8,
    "start_time": "2022-11-30T18:58:23.754Z"
   },
   {
    "duration": 12,
    "start_time": "2022-11-30T18:58:23.763Z"
   },
   {
    "duration": 3,
    "start_time": "2022-11-30T19:03:30.641Z"
   },
   {
    "duration": 102,
    "start_time": "2022-11-30T19:13:36.365Z"
   },
   {
    "duration": 721,
    "start_time": "2022-11-30T19:14:41.337Z"
   },
   {
    "duration": 15,
    "start_time": "2022-11-30T19:16:01.037Z"
   },
   {
    "duration": 2778,
    "start_time": "2022-11-30T19:16:11.665Z"
   },
   {
    "duration": 1116,
    "start_time": "2022-11-30T19:18:36.326Z"
   },
   {
    "duration": 54,
    "start_time": "2022-11-30T19:18:37.444Z"
   },
   {
    "duration": 20,
    "start_time": "2022-11-30T19:18:37.500Z"
   },
   {
    "duration": 14,
    "start_time": "2022-11-30T19:18:37.522Z"
   },
   {
    "duration": 62,
    "start_time": "2022-11-30T19:18:37.538Z"
   },
   {
    "duration": 5,
    "start_time": "2022-11-30T19:18:37.602Z"
   },
   {
    "duration": 16,
    "start_time": "2022-11-30T19:18:37.608Z"
   },
   {
    "duration": 13,
    "start_time": "2022-11-30T19:18:37.626Z"
   },
   {
    "duration": 9,
    "start_time": "2022-11-30T19:18:37.641Z"
   },
   {
    "duration": 18,
    "start_time": "2022-11-30T19:18:37.651Z"
   },
   {
    "duration": 4,
    "start_time": "2022-11-30T19:18:37.672Z"
   },
   {
    "duration": 25,
    "start_time": "2022-11-30T19:18:37.699Z"
   },
   {
    "duration": 84,
    "start_time": "2022-11-30T19:18:37.726Z"
   },
   {
    "duration": 20,
    "start_time": "2022-11-30T19:18:37.814Z"
   },
   {
    "duration": 20,
    "start_time": "2022-11-30T19:18:37.836Z"
   },
   {
    "duration": 16,
    "start_time": "2022-11-30T19:18:37.858Z"
   },
   {
    "duration": 22,
    "start_time": "2022-11-30T19:18:37.875Z"
   },
   {
    "duration": 14,
    "start_time": "2022-11-30T19:18:37.899Z"
   },
   {
    "duration": 16,
    "start_time": "2022-11-30T19:18:37.914Z"
   },
   {
    "duration": 376,
    "start_time": "2022-11-30T19:18:37.932Z"
   },
   {
    "duration": 5,
    "start_time": "2022-11-30T19:18:38.310Z"
   },
   {
    "duration": 1295,
    "start_time": "2022-11-30T19:18:38.317Z"
   },
   {
    "duration": 4,
    "start_time": "2022-11-30T19:18:39.614Z"
   },
   {
    "duration": 33,
    "start_time": "2022-11-30T19:18:39.620Z"
   },
   {
    "duration": 6,
    "start_time": "2022-11-30T19:18:39.655Z"
   },
   {
    "duration": 235,
    "start_time": "2022-11-30T19:18:39.662Z"
   },
   {
    "duration": 227,
    "start_time": "2022-11-30T19:18:39.899Z"
   },
   {
    "duration": 5,
    "start_time": "2022-11-30T19:18:40.129Z"
   },
   {
    "duration": 635,
    "start_time": "2022-11-30T19:18:40.135Z"
   },
   {
    "duration": 5,
    "start_time": "2022-11-30T19:18:40.772Z"
   },
   {
    "duration": 15,
    "start_time": "2022-11-30T19:18:40.778Z"
   },
   {
    "duration": 2818,
    "start_time": "2022-11-30T19:18:40.795Z"
   },
   {
    "duration": 161,
    "start_time": "2022-11-30T19:18:43.614Z"
   },
   {
    "duration": 449,
    "start_time": "2022-11-30T19:18:43.776Z"
   },
   {
    "duration": 369,
    "start_time": "2022-11-30T19:18:44.227Z"
   },
   {
    "duration": 371,
    "start_time": "2022-11-30T19:18:44.598Z"
   },
   {
    "duration": 11,
    "start_time": "2022-11-30T19:18:44.971Z"
   },
   {
    "duration": 64,
    "start_time": "2022-11-30T19:18:44.984Z"
   },
   {
    "duration": 1263,
    "start_time": "2022-12-01T06:10:26.713Z"
   },
   {
    "duration": 99,
    "start_time": "2022-12-01T06:10:27.979Z"
   },
   {
    "duration": 20,
    "start_time": "2022-12-01T06:10:28.080Z"
   },
   {
    "duration": 14,
    "start_time": "2022-12-01T06:10:28.103Z"
   },
   {
    "duration": 55,
    "start_time": "2022-12-01T06:10:28.118Z"
   },
   {
    "duration": 4,
    "start_time": "2022-12-01T06:10:28.175Z"
   },
   {
    "duration": 18,
    "start_time": "2022-12-01T06:10:28.181Z"
   },
   {
    "duration": 8,
    "start_time": "2022-12-01T06:10:28.201Z"
   },
   {
    "duration": 12,
    "start_time": "2022-12-01T06:10:28.210Z"
   },
   {
    "duration": 37,
    "start_time": "2022-12-01T06:10:28.224Z"
   },
   {
    "duration": 14,
    "start_time": "2022-12-01T06:10:28.262Z"
   },
   {
    "duration": 23,
    "start_time": "2022-12-01T06:10:28.278Z"
   },
   {
    "duration": 66,
    "start_time": "2022-12-01T06:10:28.302Z"
   },
   {
    "duration": 20,
    "start_time": "2022-12-01T06:10:28.370Z"
   },
   {
    "duration": 28,
    "start_time": "2022-12-01T06:10:28.391Z"
   },
   {
    "duration": 8,
    "start_time": "2022-12-01T06:10:28.421Z"
   },
   {
    "duration": 7,
    "start_time": "2022-12-01T06:10:28.431Z"
   },
   {
    "duration": 20,
    "start_time": "2022-12-01T06:10:28.439Z"
   },
   {
    "duration": 11,
    "start_time": "2022-12-01T06:10:28.460Z"
   },
   {
    "duration": 386,
    "start_time": "2022-12-01T06:10:28.472Z"
   },
   {
    "duration": 5,
    "start_time": "2022-12-01T06:10:28.860Z"
   },
   {
    "duration": 1374,
    "start_time": "2022-12-01T06:10:28.867Z"
   },
   {
    "duration": 4,
    "start_time": "2022-12-01T06:10:30.243Z"
   },
   {
    "duration": 46,
    "start_time": "2022-12-01T06:10:30.255Z"
   },
   {
    "duration": 21,
    "start_time": "2022-12-01T06:10:30.302Z"
   },
   {
    "duration": 251,
    "start_time": "2022-12-01T06:10:30.325Z"
   },
   {
    "duration": 229,
    "start_time": "2022-12-01T06:10:30.578Z"
   },
   {
    "duration": 5,
    "start_time": "2022-12-01T06:10:30.811Z"
   },
   {
    "duration": 721,
    "start_time": "2022-12-01T06:10:30.817Z"
   },
   {
    "duration": 5,
    "start_time": "2022-12-01T06:10:31.540Z"
   },
   {
    "duration": 10,
    "start_time": "2022-12-01T06:10:31.547Z"
   },
   {
    "duration": 3170,
    "start_time": "2022-12-01T06:10:31.559Z"
   },
   {
    "duration": 194,
    "start_time": "2022-12-01T06:10:34.731Z"
   },
   {
    "duration": 474,
    "start_time": "2022-12-01T06:10:34.926Z"
   },
   {
    "duration": 388,
    "start_time": "2022-12-01T06:10:35.402Z"
   },
   {
    "duration": 320,
    "start_time": "2022-12-01T06:10:35.792Z"
   },
   {
    "duration": 7,
    "start_time": "2022-12-01T06:10:36.114Z"
   },
   {
    "duration": 11,
    "start_time": "2022-12-01T06:10:36.122Z"
   },
   {
    "duration": 298,
    "start_time": "2022-12-01T06:10:36.134Z"
   },
   {
    "duration": 770,
    "start_time": "2022-12-01T06:10:36.434Z"
   }
  ],
  "kernelspec": {
   "display_name": "Python 3 (ipykernel)",
   "language": "python",
   "name": "python3"
  },
  "language_info": {
   "codemirror_mode": {
    "name": "ipython",
    "version": 3
   },
   "file_extension": ".py",
   "mimetype": "text/x-python",
   "name": "python",
   "nbconvert_exporter": "python",
   "pygments_lexer": "ipython3",
   "version": "3.9.16"
  },
  "toc": {
   "base_numbering": 1,
   "nav_menu": {},
   "number_sections": true,
   "sideBar": true,
   "skip_h1_title": true,
   "title_cell": "Table of Contents",
   "title_sidebar": "Contents",
   "toc_cell": false,
   "toc_position": {},
   "toc_section_display": true,
   "toc_window_display": false
  }
 },
 "nbformat": 4,
 "nbformat_minor": 2
}
