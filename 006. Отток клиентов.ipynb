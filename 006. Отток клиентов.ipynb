{
 "cells": [
  {
   "cell_type": "markdown",
   "metadata": {
    "toc": true
   },
   "source": [
    "<h1>Содержание<span class=\"tocSkip\"></span></h1>\n",
    "<div class=\"toc\"><ul class=\"toc-item\"><li><span><a href=\"#Подготовка-данных\" data-toc-modified-id=\"Подготовка-данных-1\"><span class=\"toc-item-num\">1&nbsp;&nbsp;</span>Подготовка данных</a></span></li><li><span><a href=\"#Исследование-задачи\" data-toc-modified-id=\"Исследование-задачи-2\"><span class=\"toc-item-num\">2&nbsp;&nbsp;</span>Исследование задачи</a></span></li><li><span><a href=\"#Борьба-с-дисбалансом\" data-toc-modified-id=\"Борьба-с-дисбалансом-3\"><span class=\"toc-item-num\">3&nbsp;&nbsp;</span>Борьба с дисбалансом</a></span></li><li><span><a href=\"#Тестирование-модели\" data-toc-modified-id=\"Тестирование-модели-4\"><span class=\"toc-item-num\">4&nbsp;&nbsp;</span>Тестирование модели</a></span></li><li><span><a href=\"#Чек-лист-готовности-проекта\" data-toc-modified-id=\"Чек-лист-готовности-проекта-5\"><span class=\"toc-item-num\">5&nbsp;&nbsp;</span>Чек-лист готовности проекта</a></span></li></ul></div>"
   ]
  },
  {
   "cell_type": "markdown",
   "metadata": {},
   "source": [
    "# Отток клиентов"
   ]
  },
  {
   "cell_type": "markdown",
   "metadata": {},
   "source": [
    "Из «Бета-Банка» стали уходить клиенты. Каждый месяц. Немного, но заметно. Банковские маркетологи посчитали: сохранять текущих клиентов дешевле, чем привлекать новых.\n",
    "\n",
    "Нужно спрогнозировать, уйдёт клиент из банка в ближайшее время или нет. Вам предоставлены исторические данные о поведении клиентов и расторжении договоров с банком. \n",
    "\n",
    "Постройте модель с предельно большим значением *F1*-меры. Чтобы сдать проект успешно, нужно довести метрику до 0.59. Проверьте *F1*-меру на тестовой выборке самостоятельно.\n",
    "\n",
    "Дополнительно измеряйте *AUC-ROC*, сравнивайте её значение с *F1*-мерой.\n",
    "\n",
    "Источник данных: [https://www.kaggle.com/barelydedicated/bank-customer-churn-modeling](https://www.kaggle.com/barelydedicated/bank-customer-churn-modeling)"
   ]
  },
  {
   "cell_type": "markdown",
   "metadata": {},
   "source": [
    "## Подготовка данных"
   ]
  },
  {
   "cell_type": "code",
   "execution_count": 1,
   "metadata": {},
   "outputs": [],
   "source": [
    "import pandas as pd\n",
    "from sklearn.model_selection import train_test_split\n",
    "from sklearn.tree import DecisionTreeClassifier\n",
    "from sklearn.ensemble import RandomForestClassifier\n",
    "from sklearn.metrics import accuracy_score, f1_score, roc_auc_score\n",
    "from sklearn.utils import shuffle"
   ]
  },
  {
   "cell_type": "markdown",
   "metadata": {},
   "source": [
    "Импортируем все, необходимые для работы, библиотеки. Сохраняем данные в переменную **churn** "
   ]
  },
  {
   "cell_type": "markdown",
   "metadata": {},
   "source": [
    "Установил значения максимально отображаемых колонок: 20"
   ]
  },
  {
   "cell_type": "code",
   "execution_count": 2,
   "metadata": {},
   "outputs": [],
   "source": [
    "pd.set_option('display.max_columns', 20)"
   ]
  },
  {
   "cell_type": "code",
   "execution_count": 3,
   "metadata": {},
   "outputs": [
    {
     "data": {
      "text/html": [
       "<div>\n",
       "<style scoped>\n",
       "    .dataframe tbody tr th:only-of-type {\n",
       "        vertical-align: middle;\n",
       "    }\n",
       "\n",
       "    .dataframe tbody tr th {\n",
       "        vertical-align: top;\n",
       "    }\n",
       "\n",
       "    .dataframe thead th {\n",
       "        text-align: right;\n",
       "    }\n",
       "</style>\n",
       "<table border=\"1\" class=\"dataframe\">\n",
       "  <thead>\n",
       "    <tr style=\"text-align: right;\">\n",
       "      <th></th>\n",
       "      <th>RowNumber</th>\n",
       "      <th>CustomerId</th>\n",
       "      <th>Surname</th>\n",
       "      <th>CreditScore</th>\n",
       "      <th>Geography</th>\n",
       "      <th>Gender</th>\n",
       "      <th>Age</th>\n",
       "      <th>Tenure</th>\n",
       "      <th>Balance</th>\n",
       "      <th>NumOfProducts</th>\n",
       "      <th>HasCrCard</th>\n",
       "      <th>IsActiveMember</th>\n",
       "      <th>EstimatedSalary</th>\n",
       "      <th>Exited</th>\n",
       "    </tr>\n",
       "  </thead>\n",
       "  <tbody>\n",
       "    <tr>\n",
       "      <th>0</th>\n",
       "      <td>1</td>\n",
       "      <td>15634602</td>\n",
       "      <td>Hargrave</td>\n",
       "      <td>619</td>\n",
       "      <td>France</td>\n",
       "      <td>Female</td>\n",
       "      <td>42</td>\n",
       "      <td>2.0</td>\n",
       "      <td>0.00</td>\n",
       "      <td>1</td>\n",
       "      <td>1</td>\n",
       "      <td>1</td>\n",
       "      <td>101348.88</td>\n",
       "      <td>1</td>\n",
       "    </tr>\n",
       "    <tr>\n",
       "      <th>1</th>\n",
       "      <td>2</td>\n",
       "      <td>15647311</td>\n",
       "      <td>Hill</td>\n",
       "      <td>608</td>\n",
       "      <td>Spain</td>\n",
       "      <td>Female</td>\n",
       "      <td>41</td>\n",
       "      <td>1.0</td>\n",
       "      <td>83807.86</td>\n",
       "      <td>1</td>\n",
       "      <td>0</td>\n",
       "      <td>1</td>\n",
       "      <td>112542.58</td>\n",
       "      <td>0</td>\n",
       "    </tr>\n",
       "    <tr>\n",
       "      <th>2</th>\n",
       "      <td>3</td>\n",
       "      <td>15619304</td>\n",
       "      <td>Onio</td>\n",
       "      <td>502</td>\n",
       "      <td>France</td>\n",
       "      <td>Female</td>\n",
       "      <td>42</td>\n",
       "      <td>8.0</td>\n",
       "      <td>159660.80</td>\n",
       "      <td>3</td>\n",
       "      <td>1</td>\n",
       "      <td>0</td>\n",
       "      <td>113931.57</td>\n",
       "      <td>1</td>\n",
       "    </tr>\n",
       "    <tr>\n",
       "      <th>3</th>\n",
       "      <td>4</td>\n",
       "      <td>15701354</td>\n",
       "      <td>Boni</td>\n",
       "      <td>699</td>\n",
       "      <td>France</td>\n",
       "      <td>Female</td>\n",
       "      <td>39</td>\n",
       "      <td>1.0</td>\n",
       "      <td>0.00</td>\n",
       "      <td>2</td>\n",
       "      <td>0</td>\n",
       "      <td>0</td>\n",
       "      <td>93826.63</td>\n",
       "      <td>0</td>\n",
       "    </tr>\n",
       "    <tr>\n",
       "      <th>4</th>\n",
       "      <td>5</td>\n",
       "      <td>15737888</td>\n",
       "      <td>Mitchell</td>\n",
       "      <td>850</td>\n",
       "      <td>Spain</td>\n",
       "      <td>Female</td>\n",
       "      <td>43</td>\n",
       "      <td>2.0</td>\n",
       "      <td>125510.82</td>\n",
       "      <td>1</td>\n",
       "      <td>1</td>\n",
       "      <td>1</td>\n",
       "      <td>79084.10</td>\n",
       "      <td>0</td>\n",
       "    </tr>\n",
       "    <tr>\n",
       "      <th>...</th>\n",
       "      <td>...</td>\n",
       "      <td>...</td>\n",
       "      <td>...</td>\n",
       "      <td>...</td>\n",
       "      <td>...</td>\n",
       "      <td>...</td>\n",
       "      <td>...</td>\n",
       "      <td>...</td>\n",
       "      <td>...</td>\n",
       "      <td>...</td>\n",
       "      <td>...</td>\n",
       "      <td>...</td>\n",
       "      <td>...</td>\n",
       "      <td>...</td>\n",
       "    </tr>\n",
       "    <tr>\n",
       "      <th>9995</th>\n",
       "      <td>9996</td>\n",
       "      <td>15606229</td>\n",
       "      <td>Obijiaku</td>\n",
       "      <td>771</td>\n",
       "      <td>France</td>\n",
       "      <td>Male</td>\n",
       "      <td>39</td>\n",
       "      <td>5.0</td>\n",
       "      <td>0.00</td>\n",
       "      <td>2</td>\n",
       "      <td>1</td>\n",
       "      <td>0</td>\n",
       "      <td>96270.64</td>\n",
       "      <td>0</td>\n",
       "    </tr>\n",
       "    <tr>\n",
       "      <th>9996</th>\n",
       "      <td>9997</td>\n",
       "      <td>15569892</td>\n",
       "      <td>Johnstone</td>\n",
       "      <td>516</td>\n",
       "      <td>France</td>\n",
       "      <td>Male</td>\n",
       "      <td>35</td>\n",
       "      <td>10.0</td>\n",
       "      <td>57369.61</td>\n",
       "      <td>1</td>\n",
       "      <td>1</td>\n",
       "      <td>1</td>\n",
       "      <td>101699.77</td>\n",
       "      <td>0</td>\n",
       "    </tr>\n",
       "    <tr>\n",
       "      <th>9997</th>\n",
       "      <td>9998</td>\n",
       "      <td>15584532</td>\n",
       "      <td>Liu</td>\n",
       "      <td>709</td>\n",
       "      <td>France</td>\n",
       "      <td>Female</td>\n",
       "      <td>36</td>\n",
       "      <td>7.0</td>\n",
       "      <td>0.00</td>\n",
       "      <td>1</td>\n",
       "      <td>0</td>\n",
       "      <td>1</td>\n",
       "      <td>42085.58</td>\n",
       "      <td>1</td>\n",
       "    </tr>\n",
       "    <tr>\n",
       "      <th>9998</th>\n",
       "      <td>9999</td>\n",
       "      <td>15682355</td>\n",
       "      <td>Sabbatini</td>\n",
       "      <td>772</td>\n",
       "      <td>Germany</td>\n",
       "      <td>Male</td>\n",
       "      <td>42</td>\n",
       "      <td>3.0</td>\n",
       "      <td>75075.31</td>\n",
       "      <td>2</td>\n",
       "      <td>1</td>\n",
       "      <td>0</td>\n",
       "      <td>92888.52</td>\n",
       "      <td>1</td>\n",
       "    </tr>\n",
       "    <tr>\n",
       "      <th>9999</th>\n",
       "      <td>10000</td>\n",
       "      <td>15628319</td>\n",
       "      <td>Walker</td>\n",
       "      <td>792</td>\n",
       "      <td>France</td>\n",
       "      <td>Female</td>\n",
       "      <td>28</td>\n",
       "      <td>NaN</td>\n",
       "      <td>130142.79</td>\n",
       "      <td>1</td>\n",
       "      <td>1</td>\n",
       "      <td>0</td>\n",
       "      <td>38190.78</td>\n",
       "      <td>0</td>\n",
       "    </tr>\n",
       "  </tbody>\n",
       "</table>\n",
       "<p>10000 rows × 14 columns</p>\n",
       "</div>"
      ],
      "text/plain": [
       "      RowNumber  CustomerId    Surname  CreditScore Geography  Gender  Age  \\\n",
       "0             1    15634602   Hargrave          619    France  Female   42   \n",
       "1             2    15647311       Hill          608     Spain  Female   41   \n",
       "2             3    15619304       Onio          502    France  Female   42   \n",
       "3             4    15701354       Boni          699    France  Female   39   \n",
       "4             5    15737888   Mitchell          850     Spain  Female   43   \n",
       "...         ...         ...        ...          ...       ...     ...  ...   \n",
       "9995       9996    15606229   Obijiaku          771    France    Male   39   \n",
       "9996       9997    15569892  Johnstone          516    France    Male   35   \n",
       "9997       9998    15584532        Liu          709    France  Female   36   \n",
       "9998       9999    15682355  Sabbatini          772   Germany    Male   42   \n",
       "9999      10000    15628319     Walker          792    France  Female   28   \n",
       "\n",
       "      Tenure    Balance  NumOfProducts  HasCrCard  IsActiveMember  \\\n",
       "0        2.0       0.00              1          1               1   \n",
       "1        1.0   83807.86              1          0               1   \n",
       "2        8.0  159660.80              3          1               0   \n",
       "3        1.0       0.00              2          0               0   \n",
       "4        2.0  125510.82              1          1               1   \n",
       "...      ...        ...            ...        ...             ...   \n",
       "9995     5.0       0.00              2          1               0   \n",
       "9996    10.0   57369.61              1          1               1   \n",
       "9997     7.0       0.00              1          0               1   \n",
       "9998     3.0   75075.31              2          1               0   \n",
       "9999     NaN  130142.79              1          1               0   \n",
       "\n",
       "      EstimatedSalary  Exited  \n",
       "0           101348.88       1  \n",
       "1           112542.58       0  \n",
       "2           113931.57       1  \n",
       "3            93826.63       0  \n",
       "4            79084.10       0  \n",
       "...               ...     ...  \n",
       "9995         96270.64       0  \n",
       "9996        101699.77       0  \n",
       "9997         42085.58       1  \n",
       "9998         92888.52       1  \n",
       "9999         38190.78       0  \n",
       "\n",
       "[10000 rows x 14 columns]"
      ]
     },
     "execution_count": 3,
     "metadata": {},
     "output_type": "execute_result"
    }
   ],
   "source": [
    "churn = pd.read_csv('/datasets/Churn.csv')\n",
    "churn"
   ]
  },
  {
   "cell_type": "code",
   "execution_count": 4,
   "metadata": {},
   "outputs": [
    {
     "name": "stdout",
     "output_type": "stream",
     "text": [
      "<class 'pandas.core.frame.DataFrame'>\n",
      "RangeIndex: 10000 entries, 0 to 9999\n",
      "Data columns (total 14 columns):\n",
      " #   Column           Non-Null Count  Dtype  \n",
      "---  ------           --------------  -----  \n",
      " 0   RowNumber        10000 non-null  int64  \n",
      " 1   CustomerId       10000 non-null  int64  \n",
      " 2   Surname          10000 non-null  object \n",
      " 3   CreditScore      10000 non-null  int64  \n",
      " 4   Geography        10000 non-null  object \n",
      " 5   Gender           10000 non-null  object \n",
      " 6   Age              10000 non-null  int64  \n",
      " 7   Tenure           9091 non-null   float64\n",
      " 8   Balance          10000 non-null  float64\n",
      " 9   NumOfProducts    10000 non-null  int64  \n",
      " 10  HasCrCard        10000 non-null  int64  \n",
      " 11  IsActiveMember   10000 non-null  int64  \n",
      " 12  EstimatedSalary  10000 non-null  float64\n",
      " 13  Exited           10000 non-null  int64  \n",
      "dtypes: float64(3), int64(8), object(3)\n",
      "memory usage: 1.1+ MB\n"
     ]
    }
   ],
   "source": [
    "churn.info()"
   ]
  },
  {
   "cell_type": "code",
   "execution_count": 5,
   "metadata": {},
   "outputs": [
    {
     "data": {
      "text/html": [
       "<div>\n",
       "<style scoped>\n",
       "    .dataframe tbody tr th:only-of-type {\n",
       "        vertical-align: middle;\n",
       "    }\n",
       "\n",
       "    .dataframe tbody tr th {\n",
       "        vertical-align: top;\n",
       "    }\n",
       "\n",
       "    .dataframe thead th {\n",
       "        text-align: right;\n",
       "    }\n",
       "</style>\n",
       "<table border=\"1\" class=\"dataframe\">\n",
       "  <thead>\n",
       "    <tr style=\"text-align: right;\">\n",
       "      <th></th>\n",
       "      <th>RowNumber</th>\n",
       "      <th>CustomerId</th>\n",
       "      <th>CreditScore</th>\n",
       "      <th>Age</th>\n",
       "      <th>Tenure</th>\n",
       "      <th>Balance</th>\n",
       "      <th>NumOfProducts</th>\n",
       "      <th>HasCrCard</th>\n",
       "      <th>IsActiveMember</th>\n",
       "      <th>EstimatedSalary</th>\n",
       "      <th>Exited</th>\n",
       "    </tr>\n",
       "  </thead>\n",
       "  <tbody>\n",
       "    <tr>\n",
       "      <th>count</th>\n",
       "      <td>10000.00000</td>\n",
       "      <td>1.000000e+04</td>\n",
       "      <td>10000.000000</td>\n",
       "      <td>10000.000000</td>\n",
       "      <td>9091.000000</td>\n",
       "      <td>10000.000000</td>\n",
       "      <td>10000.000000</td>\n",
       "      <td>10000.00000</td>\n",
       "      <td>10000.000000</td>\n",
       "      <td>10000.000000</td>\n",
       "      <td>10000.000000</td>\n",
       "    </tr>\n",
       "    <tr>\n",
       "      <th>mean</th>\n",
       "      <td>5000.50000</td>\n",
       "      <td>1.569094e+07</td>\n",
       "      <td>650.528800</td>\n",
       "      <td>38.921800</td>\n",
       "      <td>4.997690</td>\n",
       "      <td>76485.889288</td>\n",
       "      <td>1.530200</td>\n",
       "      <td>0.70550</td>\n",
       "      <td>0.515100</td>\n",
       "      <td>100090.239881</td>\n",
       "      <td>0.203700</td>\n",
       "    </tr>\n",
       "    <tr>\n",
       "      <th>std</th>\n",
       "      <td>2886.89568</td>\n",
       "      <td>7.193619e+04</td>\n",
       "      <td>96.653299</td>\n",
       "      <td>10.487806</td>\n",
       "      <td>2.894723</td>\n",
       "      <td>62397.405202</td>\n",
       "      <td>0.581654</td>\n",
       "      <td>0.45584</td>\n",
       "      <td>0.499797</td>\n",
       "      <td>57510.492818</td>\n",
       "      <td>0.402769</td>\n",
       "    </tr>\n",
       "    <tr>\n",
       "      <th>min</th>\n",
       "      <td>1.00000</td>\n",
       "      <td>1.556570e+07</td>\n",
       "      <td>350.000000</td>\n",
       "      <td>18.000000</td>\n",
       "      <td>0.000000</td>\n",
       "      <td>0.000000</td>\n",
       "      <td>1.000000</td>\n",
       "      <td>0.00000</td>\n",
       "      <td>0.000000</td>\n",
       "      <td>11.580000</td>\n",
       "      <td>0.000000</td>\n",
       "    </tr>\n",
       "    <tr>\n",
       "      <th>25%</th>\n",
       "      <td>2500.75000</td>\n",
       "      <td>1.562853e+07</td>\n",
       "      <td>584.000000</td>\n",
       "      <td>32.000000</td>\n",
       "      <td>2.000000</td>\n",
       "      <td>0.000000</td>\n",
       "      <td>1.000000</td>\n",
       "      <td>0.00000</td>\n",
       "      <td>0.000000</td>\n",
       "      <td>51002.110000</td>\n",
       "      <td>0.000000</td>\n",
       "    </tr>\n",
       "    <tr>\n",
       "      <th>50%</th>\n",
       "      <td>5000.50000</td>\n",
       "      <td>1.569074e+07</td>\n",
       "      <td>652.000000</td>\n",
       "      <td>37.000000</td>\n",
       "      <td>5.000000</td>\n",
       "      <td>97198.540000</td>\n",
       "      <td>1.000000</td>\n",
       "      <td>1.00000</td>\n",
       "      <td>1.000000</td>\n",
       "      <td>100193.915000</td>\n",
       "      <td>0.000000</td>\n",
       "    </tr>\n",
       "    <tr>\n",
       "      <th>75%</th>\n",
       "      <td>7500.25000</td>\n",
       "      <td>1.575323e+07</td>\n",
       "      <td>718.000000</td>\n",
       "      <td>44.000000</td>\n",
       "      <td>7.000000</td>\n",
       "      <td>127644.240000</td>\n",
       "      <td>2.000000</td>\n",
       "      <td>1.00000</td>\n",
       "      <td>1.000000</td>\n",
       "      <td>149388.247500</td>\n",
       "      <td>0.000000</td>\n",
       "    </tr>\n",
       "    <tr>\n",
       "      <th>max</th>\n",
       "      <td>10000.00000</td>\n",
       "      <td>1.581569e+07</td>\n",
       "      <td>850.000000</td>\n",
       "      <td>92.000000</td>\n",
       "      <td>10.000000</td>\n",
       "      <td>250898.090000</td>\n",
       "      <td>4.000000</td>\n",
       "      <td>1.00000</td>\n",
       "      <td>1.000000</td>\n",
       "      <td>199992.480000</td>\n",
       "      <td>1.000000</td>\n",
       "    </tr>\n",
       "  </tbody>\n",
       "</table>\n",
       "</div>"
      ],
      "text/plain": [
       "         RowNumber    CustomerId   CreditScore           Age       Tenure  \\\n",
       "count  10000.00000  1.000000e+04  10000.000000  10000.000000  9091.000000   \n",
       "mean    5000.50000  1.569094e+07    650.528800     38.921800     4.997690   \n",
       "std     2886.89568  7.193619e+04     96.653299     10.487806     2.894723   \n",
       "min        1.00000  1.556570e+07    350.000000     18.000000     0.000000   \n",
       "25%     2500.75000  1.562853e+07    584.000000     32.000000     2.000000   \n",
       "50%     5000.50000  1.569074e+07    652.000000     37.000000     5.000000   \n",
       "75%     7500.25000  1.575323e+07    718.000000     44.000000     7.000000   \n",
       "max    10000.00000  1.581569e+07    850.000000     92.000000    10.000000   \n",
       "\n",
       "             Balance  NumOfProducts    HasCrCard  IsActiveMember  \\\n",
       "count   10000.000000   10000.000000  10000.00000    10000.000000   \n",
       "mean    76485.889288       1.530200      0.70550        0.515100   \n",
       "std     62397.405202       0.581654      0.45584        0.499797   \n",
       "min         0.000000       1.000000      0.00000        0.000000   \n",
       "25%         0.000000       1.000000      0.00000        0.000000   \n",
       "50%     97198.540000       1.000000      1.00000        1.000000   \n",
       "75%    127644.240000       2.000000      1.00000        1.000000   \n",
       "max    250898.090000       4.000000      1.00000        1.000000   \n",
       "\n",
       "       EstimatedSalary        Exited  \n",
       "count     10000.000000  10000.000000  \n",
       "mean     100090.239881      0.203700  \n",
       "std       57510.492818      0.402769  \n",
       "min          11.580000      0.000000  \n",
       "25%       51002.110000      0.000000  \n",
       "50%      100193.915000      0.000000  \n",
       "75%      149388.247500      0.000000  \n",
       "max      199992.480000      1.000000  "
      ]
     },
     "execution_count": 5,
     "metadata": {},
     "output_type": "execute_result"
    }
   ],
   "source": [
    "churn.describe()"
   ]
  },
  {
   "cell_type": "markdown",
   "metadata": {},
   "source": [
    "изменил названия колонок приведя их к змеиному регистру"
   ]
  },
  {
   "cell_type": "code",
   "execution_count": 6,
   "metadata": {},
   "outputs": [],
   "source": [
    "churn = churn.rename(columns={'RowNumber':'row_number', 'CustomerId':'customer_id', 'Surname':'surname',\n",
    "                             'CreditScore':'credit_score', 'Geography':'geography', 'Gender':'gender',\n",
    "                             'Age':'age', 'Tenure':'tenure', 'Balance':'balance', 'NumOfProducts':'num_of_products',\n",
    "                             'HasCrCard':'has_cr_card', 'IsActiveMember':'is_active_member',\n",
    "                             'EstimatedSalary':'estimated_salary', 'Exited':'exited'})"
   ]
  },
  {
   "cell_type": "markdown",
   "metadata": {},
   "source": [
    "Пропуски в столбце **Tenure (сколько лет человек является клиентом банка)** заполнил значением 0"
   ]
  },
  {
   "cell_type": "code",
   "execution_count": 7,
   "metadata": {},
   "outputs": [
    {
     "data": {
      "text/plain": [
       "1.0     952\n",
       "2.0     950\n",
       "8.0     933\n",
       "3.0     928\n",
       "5.0     927\n",
       "7.0     925\n",
       "4.0     885\n",
       "9.0     882\n",
       "6.0     881\n",
       "10.0    446\n",
       "0.0     382\n",
       "Name: tenure, dtype: int64"
      ]
     },
     "execution_count": 7,
     "metadata": {},
     "output_type": "execute_result"
    }
   ],
   "source": [
    "churn['tenure'].value_counts()"
   ]
  },
  {
   "cell_type": "code",
   "execution_count": 8,
   "metadata": {},
   "outputs": [],
   "source": [
    "churn['tenure'] = churn['tenure'].fillna(churn['tenure'].median())"
   ]
  },
  {
   "cell_type": "markdown",
   "metadata": {},
   "source": [
    "Вызовем .info повторно для сравнения изменений"
   ]
  },
  {
   "cell_type": "code",
   "execution_count": 9,
   "metadata": {},
   "outputs": [
    {
     "name": "stdout",
     "output_type": "stream",
     "text": [
      "<class 'pandas.core.frame.DataFrame'>\n",
      "RangeIndex: 10000 entries, 0 to 9999\n",
      "Data columns (total 14 columns):\n",
      " #   Column            Non-Null Count  Dtype  \n",
      "---  ------            --------------  -----  \n",
      " 0   row_number        10000 non-null  int64  \n",
      " 1   customer_id       10000 non-null  int64  \n",
      " 2   surname           10000 non-null  object \n",
      " 3   credit_score      10000 non-null  int64  \n",
      " 4   geography         10000 non-null  object \n",
      " 5   gender            10000 non-null  object \n",
      " 6   age               10000 non-null  int64  \n",
      " 7   tenure            10000 non-null  float64\n",
      " 8   balance           10000 non-null  float64\n",
      " 9   num_of_products   10000 non-null  int64  \n",
      " 10  has_cr_card       10000 non-null  int64  \n",
      " 11  is_active_member  10000 non-null  int64  \n",
      " 12  estimated_salary  10000 non-null  float64\n",
      " 13  exited            10000 non-null  int64  \n",
      "dtypes: float64(3), int64(8), object(3)\n",
      "memory usage: 1.1+ MB\n"
     ]
    }
   ],
   "source": [
    "churn.info()"
   ]
  },
  {
   "cell_type": "markdown",
   "metadata": {},
   "source": [
    "Преобразуем категориальные признаки в численные убирая лишние (для обучения модели) признаки **['surname', 'row_number', 'customer_id']**"
   ]
  },
  {
   "cell_type": "code",
   "execution_count": 10,
   "metadata": {},
   "outputs": [
    {
     "data": {
      "text/html": [
       "<div>\n",
       "<style scoped>\n",
       "    .dataframe tbody tr th:only-of-type {\n",
       "        vertical-align: middle;\n",
       "    }\n",
       "\n",
       "    .dataframe tbody tr th {\n",
       "        vertical-align: top;\n",
       "    }\n",
       "\n",
       "    .dataframe thead th {\n",
       "        text-align: right;\n",
       "    }\n",
       "</style>\n",
       "<table border=\"1\" class=\"dataframe\">\n",
       "  <thead>\n",
       "    <tr style=\"text-align: right;\">\n",
       "      <th></th>\n",
       "      <th>credit_score</th>\n",
       "      <th>age</th>\n",
       "      <th>tenure</th>\n",
       "      <th>balance</th>\n",
       "      <th>num_of_products</th>\n",
       "      <th>has_cr_card</th>\n",
       "      <th>is_active_member</th>\n",
       "      <th>estimated_salary</th>\n",
       "      <th>exited</th>\n",
       "      <th>geography_Germany</th>\n",
       "      <th>geography_Spain</th>\n",
       "      <th>gender_Male</th>\n",
       "    </tr>\n",
       "  </thead>\n",
       "  <tbody>\n",
       "    <tr>\n",
       "      <th>0</th>\n",
       "      <td>619</td>\n",
       "      <td>42</td>\n",
       "      <td>2.0</td>\n",
       "      <td>0.00</td>\n",
       "      <td>1</td>\n",
       "      <td>1</td>\n",
       "      <td>1</td>\n",
       "      <td>101348.88</td>\n",
       "      <td>1</td>\n",
       "      <td>0</td>\n",
       "      <td>0</td>\n",
       "      <td>0</td>\n",
       "    </tr>\n",
       "    <tr>\n",
       "      <th>1</th>\n",
       "      <td>608</td>\n",
       "      <td>41</td>\n",
       "      <td>1.0</td>\n",
       "      <td>83807.86</td>\n",
       "      <td>1</td>\n",
       "      <td>0</td>\n",
       "      <td>1</td>\n",
       "      <td>112542.58</td>\n",
       "      <td>0</td>\n",
       "      <td>0</td>\n",
       "      <td>1</td>\n",
       "      <td>0</td>\n",
       "    </tr>\n",
       "    <tr>\n",
       "      <th>2</th>\n",
       "      <td>502</td>\n",
       "      <td>42</td>\n",
       "      <td>8.0</td>\n",
       "      <td>159660.80</td>\n",
       "      <td>3</td>\n",
       "      <td>1</td>\n",
       "      <td>0</td>\n",
       "      <td>113931.57</td>\n",
       "      <td>1</td>\n",
       "      <td>0</td>\n",
       "      <td>0</td>\n",
       "      <td>0</td>\n",
       "    </tr>\n",
       "    <tr>\n",
       "      <th>3</th>\n",
       "      <td>699</td>\n",
       "      <td>39</td>\n",
       "      <td>1.0</td>\n",
       "      <td>0.00</td>\n",
       "      <td>2</td>\n",
       "      <td>0</td>\n",
       "      <td>0</td>\n",
       "      <td>93826.63</td>\n",
       "      <td>0</td>\n",
       "      <td>0</td>\n",
       "      <td>0</td>\n",
       "      <td>0</td>\n",
       "    </tr>\n",
       "    <tr>\n",
       "      <th>4</th>\n",
       "      <td>850</td>\n",
       "      <td>43</td>\n",
       "      <td>2.0</td>\n",
       "      <td>125510.82</td>\n",
       "      <td>1</td>\n",
       "      <td>1</td>\n",
       "      <td>1</td>\n",
       "      <td>79084.10</td>\n",
       "      <td>0</td>\n",
       "      <td>0</td>\n",
       "      <td>1</td>\n",
       "      <td>0</td>\n",
       "    </tr>\n",
       "    <tr>\n",
       "      <th>...</th>\n",
       "      <td>...</td>\n",
       "      <td>...</td>\n",
       "      <td>...</td>\n",
       "      <td>...</td>\n",
       "      <td>...</td>\n",
       "      <td>...</td>\n",
       "      <td>...</td>\n",
       "      <td>...</td>\n",
       "      <td>...</td>\n",
       "      <td>...</td>\n",
       "      <td>...</td>\n",
       "      <td>...</td>\n",
       "    </tr>\n",
       "    <tr>\n",
       "      <th>9995</th>\n",
       "      <td>771</td>\n",
       "      <td>39</td>\n",
       "      <td>5.0</td>\n",
       "      <td>0.00</td>\n",
       "      <td>2</td>\n",
       "      <td>1</td>\n",
       "      <td>0</td>\n",
       "      <td>96270.64</td>\n",
       "      <td>0</td>\n",
       "      <td>0</td>\n",
       "      <td>0</td>\n",
       "      <td>1</td>\n",
       "    </tr>\n",
       "    <tr>\n",
       "      <th>9996</th>\n",
       "      <td>516</td>\n",
       "      <td>35</td>\n",
       "      <td>10.0</td>\n",
       "      <td>57369.61</td>\n",
       "      <td>1</td>\n",
       "      <td>1</td>\n",
       "      <td>1</td>\n",
       "      <td>101699.77</td>\n",
       "      <td>0</td>\n",
       "      <td>0</td>\n",
       "      <td>0</td>\n",
       "      <td>1</td>\n",
       "    </tr>\n",
       "    <tr>\n",
       "      <th>9997</th>\n",
       "      <td>709</td>\n",
       "      <td>36</td>\n",
       "      <td>7.0</td>\n",
       "      <td>0.00</td>\n",
       "      <td>1</td>\n",
       "      <td>0</td>\n",
       "      <td>1</td>\n",
       "      <td>42085.58</td>\n",
       "      <td>1</td>\n",
       "      <td>0</td>\n",
       "      <td>0</td>\n",
       "      <td>0</td>\n",
       "    </tr>\n",
       "    <tr>\n",
       "      <th>9998</th>\n",
       "      <td>772</td>\n",
       "      <td>42</td>\n",
       "      <td>3.0</td>\n",
       "      <td>75075.31</td>\n",
       "      <td>2</td>\n",
       "      <td>1</td>\n",
       "      <td>0</td>\n",
       "      <td>92888.52</td>\n",
       "      <td>1</td>\n",
       "      <td>1</td>\n",
       "      <td>0</td>\n",
       "      <td>1</td>\n",
       "    </tr>\n",
       "    <tr>\n",
       "      <th>9999</th>\n",
       "      <td>792</td>\n",
       "      <td>28</td>\n",
       "      <td>5.0</td>\n",
       "      <td>130142.79</td>\n",
       "      <td>1</td>\n",
       "      <td>1</td>\n",
       "      <td>0</td>\n",
       "      <td>38190.78</td>\n",
       "      <td>0</td>\n",
       "      <td>0</td>\n",
       "      <td>0</td>\n",
       "      <td>0</td>\n",
       "    </tr>\n",
       "  </tbody>\n",
       "</table>\n",
       "<p>10000 rows × 12 columns</p>\n",
       "</div>"
      ],
      "text/plain": [
       "      credit_score  age  tenure    balance  num_of_products  has_cr_card  \\\n",
       "0              619   42     2.0       0.00                1            1   \n",
       "1              608   41     1.0   83807.86                1            0   \n",
       "2              502   42     8.0  159660.80                3            1   \n",
       "3              699   39     1.0       0.00                2            0   \n",
       "4              850   43     2.0  125510.82                1            1   \n",
       "...            ...  ...     ...        ...              ...          ...   \n",
       "9995           771   39     5.0       0.00                2            1   \n",
       "9996           516   35    10.0   57369.61                1            1   \n",
       "9997           709   36     7.0       0.00                1            0   \n",
       "9998           772   42     3.0   75075.31                2            1   \n",
       "9999           792   28     5.0  130142.79                1            1   \n",
       "\n",
       "      is_active_member  estimated_salary  exited  geography_Germany  \\\n",
       "0                    1         101348.88       1                  0   \n",
       "1                    1         112542.58       0                  0   \n",
       "2                    0         113931.57       1                  0   \n",
       "3                    0          93826.63       0                  0   \n",
       "4                    1          79084.10       0                  0   \n",
       "...                ...               ...     ...                ...   \n",
       "9995                 0          96270.64       0                  0   \n",
       "9996                 1         101699.77       0                  0   \n",
       "9997                 1          42085.58       1                  0   \n",
       "9998                 0          92888.52       1                  1   \n",
       "9999                 0          38190.78       0                  0   \n",
       "\n",
       "      geography_Spain  gender_Male  \n",
       "0                   0            0  \n",
       "1                   1            0  \n",
       "2                   0            0  \n",
       "3                   0            0  \n",
       "4                   1            0  \n",
       "...               ...          ...  \n",
       "9995                0            1  \n",
       "9996                0            1  \n",
       "9997                0            0  \n",
       "9998                0            1  \n",
       "9999                0            0  \n",
       "\n",
       "[10000 rows x 12 columns]"
      ]
     },
     "execution_count": 10,
     "metadata": {},
     "output_type": "execute_result"
    }
   ],
   "source": [
    "churn_dummies = pd.get_dummies(churn.drop(['surname', 'row_number', 'customer_id'], axis=1), drop_first=True)\n",
    "churn_dummies"
   ]
  },
  {
   "cell_type": "markdown",
   "metadata": {},
   "source": [
    "Разделим данные на признаки и на целевой признак"
   ]
  },
  {
   "cell_type": "markdown",
   "metadata": {},
   "source": [
    "Распределим данные на выборки (обучающая, валидационная, тестовая) в соотношении 3:1:1 (60% : 20% : 20%)"
   ]
  },
  {
   "cell_type": "code",
   "execution_count": 11,
   "metadata": {},
   "outputs": [
    {
     "name": "stdout",
     "output_type": "stream",
     "text": [
      "(6000, 11) (6000,)\n",
      "(2000, 11) (2000,)\n",
      "(2000, 11) (2000,)\n"
     ]
    }
   ],
   "source": [
    "target = churn_dummies['exited']\n",
    "features = churn_dummies.drop('exited', axis=1)\n",
    "\n",
    "features_train, features_valid_test, target_train, target_valid_test = train_test_split(features, target, \n",
    "                                                                                        test_size=0.40, random_state=333)\n",
    "\n",
    "features_valid, features_test, target_valid, target_test = train_test_split(features_valid_test, target_valid_test,\n",
    "                                                                           test_size=0.50, random_state=333)\n",
    "print(features_train.shape, target_train.shape)\n",
    "print(features_valid.shape, target_valid.shape)\n",
    "print(features_test.shape, target_test.shape)"
   ]
  },
  {
   "cell_type": "markdown",
   "metadata": {},
   "source": [
    "Убедились в корректности распределения, посмотрев на размеры выборок"
   ]
  },
  {
   "cell_type": "markdown",
   "metadata": {},
   "source": [
    "Проведена вся необходимая подготовка данных. Приступаем к следующему этапу"
   ]
  },
  {
   "cell_type": "markdown",
   "metadata": {},
   "source": [
    "## Исследование задачи"
   ]
  },
  {
   "cell_type": "markdown",
   "metadata": {},
   "source": [
    "Целевой признак может принимать значения 0 или 1. Перед нами стоит задача классификации. Для этой задачи выберем модель из  **RandomForestClassifier** и **DecisionTreeClassifier**"
   ]
  },
  {
   "cell_type": "markdown",
   "metadata": {},
   "source": [
    "Подберем лучшие по значению **accuracy_score** гипперпараметры для нашей модели. "
   ]
  },
  {
   "cell_type": "code",
   "execution_count": 12,
   "metadata": {},
   "outputs": [
    {
     "name": "stdout",
     "output_type": "stream",
     "text": [
      "CPU times: user 388 ms, sys: 1.33 ms, total: 389 ms\n",
      "Wall time: 388 ms\n"
     ]
    }
   ],
   "source": [
    "%%time\n",
    "# переменная для сохранения лучшей модели после подбора гиперпараметров для DecisionTreeClassifier\n",
    "best_decision_tree_model = None \n",
    "# переменная для сохранения лучшего значения accuracy\n",
    "decision_tree_accuracy = 0\n",
    "\n",
    "# Цикл для перебора гиперпараметра max_depth(от 1 до 20) модели DecisionTreeClassifier\n",
    "for depth in range(1, 20):\n",
    "    model = DecisionTreeClassifier(random_state=333, max_depth=depth)\n",
    "    model.fit(features_train, target_train)\n",
    "    predict = model.predict(features_valid)\n",
    "    accuracy = accuracy_score(target_valid, predict)\n",
    "    if accuracy > decision_tree_accuracy:\n",
    "        decision_tree_accuracy = accuracy\n",
    "        best_decision_tree_model = model\n"
   ]
  },
  {
   "cell_type": "code",
   "execution_count": 13,
   "metadata": {},
   "outputs": [
    {
     "name": "stdout",
     "output_type": "stream",
     "text": [
      "0.8535 DecisionTreeClassifier(max_depth=6, random_state=333)\n"
     ]
    }
   ],
   "source": [
    "print(decision_tree_accuracy, best_decision_tree_model)"
   ]
  },
  {
   "cell_type": "code",
   "execution_count": 14,
   "metadata": {},
   "outputs": [
    {
     "name": "stdout",
     "output_type": "stream",
     "text": [
      "Показатели лучшей модели DecisionTreeClassifier\n",
      "F1-мера: 0.537124802527646\n",
      "AUC-ROC: 0.691480057605182\n"
     ]
    }
   ],
   "source": [
    "model = DecisionTreeClassifier(random_state=333, max_depth=6)\n",
    "model.fit(features_train, target_train)\n",
    "predict = model.predict(features_valid)\n",
    "\n",
    "print('Показатели лучшей модели DecisionTreeClassifier')\n",
    "print(f'F1-мера: {f1_score(target_valid, predict)}')\n",
    "print(f'AUC-ROC: {roc_auc_score(target_valid, predict)}')"
   ]
  },
  {
   "cell_type": "code",
   "execution_count": 15,
   "metadata": {},
   "outputs": [
    {
     "name": "stdout",
     "output_type": "stream",
     "text": [
      "CPU times: user 52.5 s, sys: 405 ms, total: 52.9 s\n",
      "Wall time: 52.9 s\n"
     ]
    }
   ],
   "source": [
    "%%time\n",
    "random_forest_accuracy = 0 # переменная для сохранения лучшего значения accuracy \n",
    "best_random_forest_model = None # лучшая модель\n",
    "\n",
    "for est in range(10, 101, 10): # подбираем параметр n_estimators\n",
    "    for depth in range(1, 20): # подбираем параметр max_depth\n",
    "        model = RandomForestClassifier(random_state=333, max_depth=depth, n_estimators=est)\n",
    "        model.fit(features_train, target_train)\n",
    "        predict = model.predict(features_valid)\n",
    "        accuracy = accuracy_score(target_valid, predict)\n",
    "        if accuracy > random_forest_accuracy:\n",
    "            random_forest_accuracy = accuracy\n",
    "            best_random_forest_model = model"
   ]
  },
  {
   "cell_type": "code",
   "execution_count": 16,
   "metadata": {},
   "outputs": [
    {
     "name": "stdout",
     "output_type": "stream",
     "text": [
      "0.8685 RandomForestClassifier(max_depth=17, n_estimators=50, random_state=333)\n"
     ]
    }
   ],
   "source": [
    "print(random_forest_accuracy, best_random_forest_model)"
   ]
  },
  {
   "cell_type": "markdown",
   "metadata": {},
   "source": [
    "***DecisionTreeClassifier*** сильно уступает ***RandomForestClassifier*** по значениям F1-меры и AUC-ROC "
   ]
  },
  {
   "cell_type": "markdown",
   "metadata": {},
   "source": [
    "лучшой стала модель ***RandomForestClassifier*** с параметрами: **max_depth=17, n_estimators=50**"
   ]
  },
  {
   "cell_type": "markdown",
   "metadata": {},
   "source": [
    "Проверим значения ***accuracy, F1-меры и AUC-ROC*** на валидационной выборке"
   ]
  },
  {
   "cell_type": "code",
   "execution_count": 17,
   "metadata": {},
   "outputs": [
    {
     "name": "stdout",
     "output_type": "stream",
     "text": [
      "F1-мера: 0.5996955859969559\n",
      "AUC-ROC: 0.725672317990494\n"
     ]
    }
   ],
   "source": [
    "model = RandomForestClassifier(max_depth=17, n_estimators=50, random_state=333)\n",
    "model.fit(features_train, target_train)\n",
    "predict_valid = model.predict(features_valid)\n",
    "\n",
    "print(f'F1-мера: {f1_score(target_valid, predict_valid)}')\n",
    "print(f'AUC-ROC: {roc_auc_score(target_valid, predict_valid)}')"
   ]
  },
  {
   "cell_type": "markdown",
   "metadata": {},
   "source": [
    "Выбранная модель на валидационной выборке показывает результат F1 - меры в 0.599 и AUC-ROC в 0.725"
   ]
  },
  {
   "cell_type": "markdown",
   "metadata": {},
   "source": [
    "Проверим целевой признак на дисбаланс классов"
   ]
  },
  {
   "cell_type": "code",
   "execution_count": 18,
   "metadata": {},
   "outputs": [
    {
     "data": {
      "text/plain": [
       "0    7963\n",
       "1    2037\n",
       "Name: exited, dtype: int64"
      ]
     },
     "execution_count": 18,
     "metadata": {},
     "output_type": "execute_result"
    }
   ],
   "source": [
    "target.value_counts()"
   ]
  },
  {
   "cell_type": "markdown",
   "metadata": {},
   "source": [
    "Несбалансированность классов почти в 4 раза"
   ]
  },
  {
   "cell_type": "markdown",
   "metadata": {},
   "source": [
    "Посмотрим какие результаты выдаст модель после балансировки классов"
   ]
  },
  {
   "cell_type": "markdown",
   "metadata": {},
   "source": [
    "## Борьба с дисбалансом"
   ]
  },
  {
   "cell_type": "markdown",
   "metadata": {},
   "source": [
    "Для балансировки классов увеличим количество строк меньшего класса в 4 раза "
   ]
  },
  {
   "cell_type": "markdown",
   "metadata": {},
   "source": [
    "Сразу же можно попробовать уменьшить выборку убрав значения большего класса в 4 раза"
   ]
  },
  {
   "cell_type": "code",
   "execution_count": 19,
   "metadata": {},
   "outputs": [],
   "source": [
    "features_zeros = features_train[target_train == 0] # сохраняем признаки целевых признаков равных 0\n",
    "features_ones = features_train[target_train == 1] # сохраняем признаки целевых признаков равных 1\n",
    "\n",
    "target_zeros = target_train[target_train == 0] # целевые признаки = 0\n",
    "target_ones = target_train[target_train == 1] # целевые признаки = 1\n",
    "\n",
    "# соединяем обучающую выборку увеличив строки с меньшим классом в 4 раза\n",
    "features_upsampled = pd.concat([features_zeros] + [features_ones] * 4) \n",
    "target_upsampled = pd.concat([target_zeros] + [target_ones] * 4)\n",
    "\n",
    "# смешаем строки с помощью shuffle\n",
    "features_upsampled, target_upsampled = shuffle(features_upsampled, target_upsampled, random_state=333)\n",
    "\n",
    "# оставляем только 1/4 большего класса\n",
    "features_downsampled = pd.concat([features_zeros.sample(frac=0.25, random_state=333)] + [features_ones]) \n",
    "target_downsampled = pd.concat([target_zeros.sample(frac=0.25, random_state=333)] + [target_ones])"
   ]
  },
  {
   "cell_type": "markdown",
   "metadata": {},
   "source": [
    "Сохраним увеличение меньшего класса в переменные ***features_upsampled, target_upsampled***, а уменьшение большего класса в переменные ***features_downsampled, target_downsampled***"
   ]
  },
  {
   "cell_type": "markdown",
   "metadata": {},
   "source": [
    "Проверим показатели после исправления дисбаланса классов"
   ]
  },
  {
   "cell_type": "markdown",
   "metadata": {},
   "source": [
    "Подберем гиперпараметры снова после балансировки данных"
   ]
  },
  {
   "cell_type": "code",
   "execution_count": 20,
   "metadata": {},
   "outputs": [
    {
     "name": "stdout",
     "output_type": "stream",
     "text": [
      "0.8545 RandomForestClassifier(class_weight='balanced', max_depth=18, random_state=333)\n"
     ]
    }
   ],
   "source": [
    "random_forest_accuracy = 0\n",
    "random_forest_upsampled = None\n",
    "\n",
    "for est in range(10, 101, 10):\n",
    "    for depth in range(1, 20):\n",
    "        model = RandomForestClassifier(random_state=333, max_depth=depth, n_estimators=est, class_weight='balanced')\n",
    "        model.fit(features_upsampled, target_upsampled)\n",
    "        predict = model.predict(features_valid)\n",
    "        accuracy = accuracy_score(target_valid, predict)\n",
    "        if accuracy > random_forest_accuracy:\n",
    "            random_forest_accuracy = accuracy\n",
    "            random_forest_upsampled = model\n",
    "\n",
    "print(random_forest_accuracy, random_forest_upsampled)"
   ]
  },
  {
   "cell_type": "code",
   "execution_count": 21,
   "metadata": {},
   "outputs": [
    {
     "name": "stdout",
     "output_type": "stream",
     "text": [
      "accuracy: 0.8545\n",
      "f1_score: 0.6062246278755073\n",
      "AUC-ROC: 0.7416713537835851\n"
     ]
    }
   ],
   "source": [
    "model_forest_upsampled = random_forest_upsampled\n",
    "model_forest_upsampled.fit(features_upsampled, target_upsampled)\n",
    "predict_valid = model_forest_upsampled.predict(features_valid)\n",
    "\n",
    "print(f'accuracy: {accuracy_score(target_valid, predict_valid)}')\n",
    "print(f'f1_score: {f1_score(target_valid, predict_valid)}')\n",
    "print(f'AUC-ROC: {roc_auc_score(target_valid, predict_valid)}')"
   ]
  },
  {
   "cell_type": "markdown",
   "metadata": {},
   "source": [
    "Сохранили параметры модели в переменную ***model_forest_upsampled***"
   ]
  },
  {
   "cell_type": "markdown",
   "metadata": {},
   "source": [
    "Сбалансировав данные путем дублирования строк меньшего класса изменили гиперпараметры лучшей модели и дали небольшой прирост F1-меры(с 0.599 до 0.606) и увеличение AUC-ROC(с 0.72 до 0.74)"
   ]
  },
  {
   "cell_type": "markdown",
   "metadata": {},
   "source": [
    "Так же подберем модель для данных с уменьшением большего класса и посмотрим на показатели "
   ]
  },
  {
   "cell_type": "code",
   "execution_count": 22,
   "metadata": {},
   "outputs": [
    {
     "name": "stdout",
     "output_type": "stream",
     "text": [
      "0.8045 RandomForestClassifier(class_weight='balanced', max_depth=7, n_estimators=40,\n",
      "                       random_state=333)\n"
     ]
    }
   ],
   "source": [
    "random_forest_accuracy = 0\n",
    "random_forest_downsamled = None\n",
    "\n",
    "for est in range(10, 101, 10):\n",
    "    for depth in range(1, 20):\n",
    "        model = RandomForestClassifier(random_state=333, max_depth=depth, n_estimators=est, class_weight='balanced')\n",
    "        model.fit(features_downsampled, target_downsampled)\n",
    "        predict = model.predict(features_valid)\n",
    "        accuracy = accuracy_score(target_valid, predict)\n",
    "        if accuracy > random_forest_accuracy:\n",
    "            random_forest_accuracy = accuracy\n",
    "            random_forest_downsamled = model\n",
    "\n",
    "print(random_forest_accuracy, random_forest_downsamled)"
   ]
  },
  {
   "cell_type": "code",
   "execution_count": 23,
   "metadata": {},
   "outputs": [
    {
     "name": "stdout",
     "output_type": "stream",
     "text": [
      "accuracy: 0.8045\n",
      "f1_score: 0.5964912280701753\n",
      "AUC-ROC: 0.7699640276653213\n"
     ]
    }
   ],
   "source": [
    "model_forest_downsamled = random_forest_downsamled\n",
    "model_forest_downsamled.fit(features_downsampled, target_downsampled)\n",
    "predict_valid = model_forest_downsamled.predict(features_valid)\n",
    "\n",
    "print(f'accuracy: {accuracy_score(target_valid, predict_valid)}')\n",
    "print(f'f1_score: {f1_score(target_valid, predict_valid)}')\n",
    "print(f'AUC-ROC: {roc_auc_score(target_valid, predict_valid)}')"
   ]
  },
  {
   "cell_type": "markdown",
   "metadata": {},
   "source": [
    "Модель с уменьшением выборки увеличило значение AUC-ROC, но уменьшило показатели accuracy и F1-меры."
   ]
  },
  {
   "cell_type": "markdown",
   "metadata": {},
   "source": [
    "Оценим показатели и на модели **DecisionTreeClassifier**"
   ]
  },
  {
   "cell_type": "code",
   "execution_count": 24,
   "metadata": {},
   "outputs": [
    {
     "name": "stdout",
     "output_type": "stream",
     "text": [
      "CPU times: user 521 ms, sys: 0 ns, total: 521 ms\n",
      "Wall time: 527 ms\n"
     ]
    }
   ],
   "source": [
    "%%time\n",
    "# переменная для сохранения лучшей модели после подбора гиперпараметров для DecisionTreeClassifier\n",
    "best_tree_upsampled = None \n",
    "# переменная для сохранения лучшего значения accuracy\n",
    "decision_tree_accuracy = 0\n",
    "\n",
    "# Цикл для перебора гиперпараметра max_depth(от 1 до 20) модели DecisionTreeClassifier\n",
    "for depth in range(1, 20):\n",
    "    model = DecisionTreeClassifier(random_state=333, max_depth=depth, class_weight='balanced')\n",
    "    model.fit(features_upsampled, target_upsampled)\n",
    "    predict = model.predict(features_valid)\n",
    "    accuracy = accuracy_score(target_valid, predict)\n",
    "    if accuracy > decision_tree_accuracy:\n",
    "        decision_tree_accuracy = accuracy\n",
    "        best_tree_upsampled = model"
   ]
  },
  {
   "cell_type": "code",
   "execution_count": 25,
   "metadata": {},
   "outputs": [
    {
     "name": "stdout",
     "output_type": "stream",
     "text": [
      "0.792 DecisionTreeClassifier(class_weight='balanced', max_depth=19, random_state=333)\n"
     ]
    }
   ],
   "source": [
    "print(decision_tree_accuracy, best_tree_upsampled)"
   ]
  },
  {
   "cell_type": "code",
   "execution_count": 26,
   "metadata": {},
   "outputs": [
    {
     "name": "stdout",
     "output_type": "stream",
     "text": [
      "Показатели лучшей модели DecisionTreeClassifier\n",
      "F1-мера: 0.48129675810473815\n",
      "AUC-ROC: 0.6740084429912665\n"
     ]
    }
   ],
   "source": [
    "model_tree_upsampled = best_tree_upsampled\n",
    "model_tree_upsampled.fit(features_upsampled, target_upsampled)\n",
    "predict = model_tree_upsampled.predict(features_valid)\n",
    "\n",
    "print('Показатели лучшей модели DecisionTreeClassifier')\n",
    "print(f'F1-мера: {f1_score(target_valid, predict)}')\n",
    "print(f'AUC-ROC: {roc_auc_score(target_valid, predict)}')"
   ]
  },
  {
   "cell_type": "markdown",
   "metadata": {},
   "source": [
    "**DecisionTreeClassifier** дала результат хуже чем **RandomForestClassifier**"
   ]
  },
  {
   "cell_type": "markdown",
   "metadata": {},
   "source": [
    "Для итоговой проверки на тестовой выборке будем использовать именно ее (**model_forest_upsampled**)"
   ]
  },
  {
   "cell_type": "markdown",
   "metadata": {},
   "source": [
    "с показателями на валидационной выборке:\n",
    "- accuracy: 0.8545\n",
    "\n",
    "- F1-мера: 0.6062246278755073\n",
    "\n",
    "- AUC-ROC: 0.7416713537835851"
   ]
  },
  {
   "cell_type": "markdown",
   "metadata": {},
   "source": [
    "## Тестирование модели"
   ]
  },
  {
   "cell_type": "markdown",
   "metadata": {},
   "source": [
    "Протестируем нашу модель на тестовой выборке и посмотрим на результаты"
   ]
  },
  {
   "cell_type": "code",
   "execution_count": 27,
   "metadata": {},
   "outputs": [
    {
     "name": "stdout",
     "output_type": "stream",
     "text": [
      "accuracy: 0.858\n",
      "F1-мера: 0.6120218579234973\n",
      "AUC-ROC: 0.7450414937436974\n"
     ]
    }
   ],
   "source": [
    "predict_test_upsampled = model_forest_upsampled.predict(features_test)\n",
    "\n",
    "print(f'accuracy: {accuracy_score(target_test, predict_test_upsampled)}')\n",
    "print(f'F1-мера: {f1_score(target_test, predict_test_upsampled)}')\n",
    "print(f'AUC-ROC: {roc_auc_score(target_test, predict_test_upsampled)}')"
   ]
  },
  {
   "cell_type": "markdown",
   "metadata": {},
   "source": [
    "Сравним итоговые результаты с константной моделью"
   ]
  },
  {
   "cell_type": "code",
   "execution_count": 28,
   "metadata": {},
   "outputs": [
    {
     "name": "stdout",
     "output_type": "stream",
     "text": [
      "accuracy: 0.7985\n",
      "F1-мера: 0.0\n",
      "AUC-ROC: 0.5\n"
     ]
    }
   ],
   "source": [
    "predict = pd.Series(0, index=target_test.index)\n",
    "\n",
    "print(f'accuracy: {accuracy_score(target_test, predict)}')\n",
    "print(f'F1-мера: {f1_score(target_test, predict)}')\n",
    "print(f'AUC-ROC: {roc_auc_score(target_test, predict)}')"
   ]
  },
  {
   "cell_type": "code",
   "execution_count": 29,
   "metadata": {},
   "outputs": [
    {
     "name": "stdout",
     "output_type": "stream",
     "text": [
      "accuracy: 0.2015\n",
      "F1-мера: 0.3354140657511444\n",
      "AUC-ROC: 0.5\n"
     ]
    }
   ],
   "source": [
    "predict = pd.Series(1, index=target_test.index)\n",
    "\n",
    "print(f'accuracy: {accuracy_score(target_test, predict)}')\n",
    "print(f'F1-мера: {f1_score(target_test, predict)}')\n",
    "print(f'AUC-ROC: {roc_auc_score(target_test, predict)}')"
   ]
  },
  {
   "cell_type": "markdown",
   "metadata": {},
   "source": [
    "*Вывод:*  Во время выполнения проекта была выбрана лучшая модель **RandomForestClassifier**, обученная на данных с увеличением меньшего класса и с гипперпараметрам **max_depth=18**. Отброшена **DecisionTreeClassifier.**"
   ]
  },
  {
   "cell_type": "markdown",
   "metadata": {},
   "source": [
    "Так же был обнаружен дисбаланс классов. Проверены модели до исправления дисбаланса и после. "
   ]
  },
  {
   "cell_type": "markdown",
   "metadata": {},
   "source": [
    "Во время тестирования методов исправления несбалансированности классов лучшим, по показателям, оказался способ с увеличением выборки меньшего класса."
   ]
  },
  {
   "cell_type": "markdown",
   "metadata": {},
   "source": [
    "После проведения финального тестирования на тестовой выборке, лучшая модель показала результаты:\n",
    "- accuracy: 0.858\n",
    "- F1-мера: 0.6120218579234973\n",
    "- AUC-ROC: 0.7450414937436974"
   ]
  },
  {
   "cell_type": "markdown",
   "metadata": {},
   "source": [
    "В сравнении с константными дающие в случае заполнения 0 результаты:\n",
    "- accuracy: 0.7985\n",
    "- F1-мера: 0.0\n",
    "- AUC-ROC: 0.5"
   ]
  },
  {
   "cell_type": "markdown",
   "metadata": {},
   "source": [
    "Модель заполненная 1:\n",
    "- accuracy: 0.2015\n",
    "- F1-мера: 0.3354140657511444\n",
    "- AUC-ROC: 0.5"
   ]
  }
 ],
 "metadata": {
  "ExecuteTimeLog": [
   {
    "duration": 419,
    "start_time": "2023-01-10T13:31:12.990Z"
   },
   {
    "duration": 203,
    "start_time": "2023-01-10T13:31:38.795Z"
   },
   {
    "duration": 12,
    "start_time": "2023-01-10T13:32:04.778Z"
   },
   {
    "duration": 11,
    "start_time": "2023-01-10T13:32:15.120Z"
   },
   {
    "duration": 64,
    "start_time": "2023-01-10T13:34:32.771Z"
   },
   {
    "duration": 4,
    "start_time": "2023-01-10T13:34:35.629Z"
   },
   {
    "duration": 4,
    "start_time": "2023-01-10T13:43:59.518Z"
   },
   {
    "duration": 12,
    "start_time": "2023-01-10T13:44:07.789Z"
   },
   {
    "duration": 7,
    "start_time": "2023-01-10T13:45:05.917Z"
   },
   {
    "duration": 12,
    "start_time": "2023-01-10T13:45:14.668Z"
   },
   {
    "duration": 7,
    "start_time": "2023-01-10T13:45:23.359Z"
   },
   {
    "duration": 8,
    "start_time": "2023-01-10T13:47:27.405Z"
   },
   {
    "duration": 11,
    "start_time": "2023-01-10T13:47:31.445Z"
   },
   {
    "duration": 3,
    "start_time": "2023-01-10T13:47:43.362Z"
   },
   {
    "duration": 11,
    "start_time": "2023-01-10T13:47:45.243Z"
   },
   {
    "duration": 7,
    "start_time": "2023-01-10T13:47:52.822Z"
   },
   {
    "duration": 215,
    "start_time": "2023-01-10T13:52:35.346Z"
   },
   {
    "duration": 203,
    "start_time": "2023-01-10T13:53:21.979Z"
   },
   {
    "duration": 2,
    "start_time": "2023-01-10T13:59:58.628Z"
   },
   {
    "duration": 1071,
    "start_time": "2023-01-10T14:00:02.646Z"
   },
   {
    "duration": 7,
    "start_time": "2023-01-10T14:01:01.394Z"
   },
   {
    "duration": 8,
    "start_time": "2023-01-10T14:02:01.097Z"
   },
   {
    "duration": 25,
    "start_time": "2023-01-10T14:02:28.774Z"
   },
   {
    "duration": 328,
    "start_time": "2023-01-10T14:02:50.466Z"
   },
   {
    "duration": 60,
    "start_time": "2023-01-10T14:02:54.849Z"
   },
   {
    "duration": 13,
    "start_time": "2023-01-10T14:02:57.575Z"
   },
   {
    "duration": 4,
    "start_time": "2023-01-10T14:02:59.956Z"
   },
   {
    "duration": 4,
    "start_time": "2023-01-10T14:03:01.051Z"
   },
   {
    "duration": 12,
    "start_time": "2023-01-10T14:03:01.733Z"
   },
   {
    "duration": 25,
    "start_time": "2023-01-10T14:03:04.177Z"
   },
   {
    "duration": 25,
    "start_time": "2023-01-10T14:03:28.319Z"
   },
   {
    "duration": 23,
    "start_time": "2023-01-10T14:04:38.197Z"
   },
   {
    "duration": 3,
    "start_time": "2023-01-10T14:06:02.671Z"
   },
   {
    "duration": 399,
    "start_time": "2023-01-10T14:06:18.511Z"
   },
   {
    "duration": 64,
    "start_time": "2023-01-10T14:06:18.913Z"
   },
   {
    "duration": 12,
    "start_time": "2023-01-10T14:06:18.978Z"
   },
   {
    "duration": 19,
    "start_time": "2023-01-10T14:06:18.991Z"
   },
   {
    "duration": 42,
    "start_time": "2023-01-10T14:06:19.012Z"
   },
   {
    "duration": 41,
    "start_time": "2023-01-10T14:06:19.055Z"
   },
   {
    "duration": 44,
    "start_time": "2023-01-10T14:06:19.097Z"
   },
   {
    "duration": 36,
    "start_time": "2023-01-10T14:06:55.208Z"
   },
   {
    "duration": 7,
    "start_time": "2023-01-10T14:11:18.502Z"
   },
   {
    "duration": 23,
    "start_time": "2023-01-10T14:11:35.699Z"
   },
   {
    "duration": 6,
    "start_time": "2023-01-10T14:12:30.515Z"
   },
   {
    "duration": 393,
    "start_time": "2023-01-10T14:15:23.900Z"
   },
   {
    "duration": 60,
    "start_time": "2023-01-10T14:15:24.295Z"
   },
   {
    "duration": 13,
    "start_time": "2023-01-10T14:15:24.357Z"
   },
   {
    "duration": 11,
    "start_time": "2023-01-10T14:15:24.372Z"
   },
   {
    "duration": 5,
    "start_time": "2023-01-10T14:15:24.386Z"
   },
   {
    "duration": 21,
    "start_time": "2023-01-10T14:15:24.393Z"
   },
   {
    "duration": 28,
    "start_time": "2023-01-10T14:15:24.416Z"
   },
   {
    "duration": 4,
    "start_time": "2023-01-10T14:15:24.446Z"
   },
   {
    "duration": 614,
    "start_time": "2023-01-10T14:25:48.652Z"
   },
   {
    "duration": 13,
    "start_time": "2023-01-10T14:26:49.921Z"
   },
   {
    "duration": 9,
    "start_time": "2023-01-10T14:27:39.475Z"
   },
   {
    "duration": 4,
    "start_time": "2023-01-10T14:27:44.697Z"
   },
   {
    "duration": 15,
    "start_time": "2023-01-10T14:27:48.262Z"
   },
   {
    "duration": 105,
    "start_time": "2023-01-10T14:28:03.261Z"
   },
   {
    "duration": 9,
    "start_time": "2023-01-10T14:28:27.633Z"
   },
   {
    "duration": 16,
    "start_time": "2023-01-10T14:28:31.042Z"
   },
   {
    "duration": 16,
    "start_time": "2023-01-10T14:28:36.002Z"
   },
   {
    "duration": 11,
    "start_time": "2023-01-10T14:29:02.794Z"
   },
   {
    "duration": 15,
    "start_time": "2023-01-10T14:29:04.630Z"
   },
   {
    "duration": 1082,
    "start_time": "2023-01-10T14:30:03.395Z"
   },
   {
    "duration": 59,
    "start_time": "2023-01-10T14:30:04.479Z"
   },
   {
    "duration": 11,
    "start_time": "2023-01-10T14:30:04.539Z"
   },
   {
    "duration": 3,
    "start_time": "2023-01-10T14:30:04.552Z"
   },
   {
    "duration": 6,
    "start_time": "2023-01-10T14:30:04.557Z"
   },
   {
    "duration": 13,
    "start_time": "2023-01-10T14:30:04.565Z"
   },
   {
    "duration": 41,
    "start_time": "2023-01-10T14:30:04.579Z"
   },
   {
    "duration": 17,
    "start_time": "2023-01-10T15:11:17.384Z"
   },
   {
    "duration": 3,
    "start_time": "2023-01-10T15:11:42.456Z"
   },
   {
    "duration": 20,
    "start_time": "2023-01-10T15:18:29.027Z"
   },
   {
    "duration": 30,
    "start_time": "2023-01-10T15:18:36.563Z"
   },
   {
    "duration": 10,
    "start_time": "2023-01-10T17:12:01.368Z"
   },
   {
    "duration": 96,
    "start_time": "2023-01-10T17:24:37.162Z"
   },
   {
    "duration": 46,
    "start_time": "2023-01-10T17:25:04.184Z"
   },
   {
    "duration": 16,
    "start_time": "2023-01-10T17:25:07.501Z"
   },
   {
    "duration": 54565,
    "start_time": "2023-01-10T17:25:58.695Z"
   },
   {
    "duration": 5,
    "start_time": "2023-01-10T17:27:12.013Z"
   },
   {
    "duration": 403,
    "start_time": "2023-01-10T17:29:44.760Z"
   },
   {
    "duration": 12,
    "start_time": "2023-01-10T17:32:03.022Z"
   },
   {
    "duration": 407,
    "start_time": "2023-01-10T17:32:35.026Z"
   },
   {
    "duration": 4,
    "start_time": "2023-01-10T17:32:37.857Z"
   },
   {
    "duration": 24,
    "start_time": "2023-01-10T17:33:36.834Z"
   },
   {
    "duration": 54846,
    "start_time": "2023-01-10T17:34:47.497Z"
   },
   {
    "duration": 3,
    "start_time": "2023-01-10T17:35:47.193Z"
   },
   {
    "duration": 393,
    "start_time": "2023-01-10T17:35:48.426Z"
   },
   {
    "duration": 35,
    "start_time": "2023-01-10T17:38:22.822Z"
   },
   {
    "duration": 66,
    "start_time": "2023-01-10T17:39:46.195Z"
   },
   {
    "duration": 68,
    "start_time": "2023-01-10T17:39:51.309Z"
   },
   {
    "duration": 407,
    "start_time": "2023-01-10T17:39:55.104Z"
   },
   {
    "duration": 37,
    "start_time": "2023-01-10T17:40:30.646Z"
   },
   {
    "duration": 54627,
    "start_time": "2023-01-10T17:45:02.382Z"
   },
   {
    "duration": 3,
    "start_time": "2023-01-10T17:46:07.687Z"
   },
   {
    "duration": 1181,
    "start_time": "2023-01-10T17:46:47.184Z"
   },
   {
    "duration": 3,
    "start_time": "2023-01-10T17:46:48.367Z"
   },
   {
    "duration": 64,
    "start_time": "2023-01-10T17:46:48.816Z"
   },
   {
    "duration": 14,
    "start_time": "2023-01-10T17:46:50.835Z"
   },
   {
    "duration": 4,
    "start_time": "2023-01-10T17:46:52.446Z"
   },
   {
    "duration": 4,
    "start_time": "2023-01-10T17:46:53.866Z"
   },
   {
    "duration": 13,
    "start_time": "2023-01-10T17:46:54.397Z"
   },
   {
    "duration": 27,
    "start_time": "2023-01-10T17:46:57.862Z"
   },
   {
    "duration": 34,
    "start_time": "2023-01-10T17:46:59.420Z"
   },
   {
    "duration": 10,
    "start_time": "2023-01-10T17:47:01.646Z"
   },
   {
    "duration": 53939,
    "start_time": "2023-01-10T17:47:19.417Z"
   },
   {
    "duration": 5,
    "start_time": "2023-01-10T17:48:15.806Z"
   },
   {
    "duration": 391,
    "start_time": "2023-01-10T17:48:53.360Z"
   },
   {
    "duration": 37,
    "start_time": "2023-01-10T17:49:00.795Z"
   },
   {
    "duration": 1128,
    "start_time": "2023-01-10T17:50:51.982Z"
   },
   {
    "duration": 3,
    "start_time": "2023-01-10T17:50:53.112Z"
   },
   {
    "duration": 63,
    "start_time": "2023-01-10T17:50:53.841Z"
   },
   {
    "duration": 13,
    "start_time": "2023-01-10T17:50:55.754Z"
   },
   {
    "duration": 5,
    "start_time": "2023-01-10T17:50:57.133Z"
   },
   {
    "duration": 5,
    "start_time": "2023-01-10T17:50:58.344Z"
   },
   {
    "duration": 14,
    "start_time": "2023-01-10T17:50:59.079Z"
   },
   {
    "duration": 33,
    "start_time": "2023-01-10T17:51:00.338Z"
   },
   {
    "duration": 32,
    "start_time": "2023-01-10T17:51:06.251Z"
   },
   {
    "duration": 11,
    "start_time": "2023-01-10T17:51:08.950Z"
   },
   {
    "duration": 54546,
    "start_time": "2023-01-10T17:51:43.058Z"
   },
   {
    "duration": 4,
    "start_time": "2023-01-10T17:53:56.175Z"
   },
   {
    "duration": 404,
    "start_time": "2023-01-10T17:54:00.579Z"
   },
   {
    "duration": 101,
    "start_time": "2023-01-10T17:56:06.978Z"
   },
   {
    "duration": 4,
    "start_time": "2023-01-10T17:56:21.154Z"
   },
   {
    "duration": 23,
    "start_time": "2023-01-10T17:56:26.300Z"
   },
   {
    "duration": 21,
    "start_time": "2023-01-10T17:56:40.593Z"
   },
   {
    "duration": 71,
    "start_time": "2023-01-10T17:57:04.843Z"
   },
   {
    "duration": 1104,
    "start_time": "2023-01-10T17:57:38.731Z"
   },
   {
    "duration": 3,
    "start_time": "2023-01-10T17:57:40.338Z"
   },
   {
    "duration": 64,
    "start_time": "2023-01-10T17:57:40.960Z"
   },
   {
    "duration": 13,
    "start_time": "2023-01-10T17:57:42.736Z"
   },
   {
    "duration": 4,
    "start_time": "2023-01-10T17:57:43.893Z"
   },
   {
    "duration": 4,
    "start_time": "2023-01-10T17:57:45.168Z"
   },
   {
    "duration": 12,
    "start_time": "2023-01-10T17:57:45.739Z"
   },
   {
    "duration": 28,
    "start_time": "2023-01-10T17:57:46.978Z"
   },
   {
    "duration": 33,
    "start_time": "2023-01-10T17:57:48.464Z"
   },
   {
    "duration": 12,
    "start_time": "2023-01-10T17:57:49.933Z"
   },
   {
    "duration": 399,
    "start_time": "2023-01-10T17:57:52.922Z"
   },
   {
    "duration": 13,
    "start_time": "2023-01-10T18:04:03.974Z"
   },
   {
    "duration": 108,
    "start_time": "2023-01-10T18:07:08.678Z"
   },
   {
    "duration": 1095,
    "start_time": "2023-01-10T18:07:22.743Z"
   },
   {
    "duration": 3,
    "start_time": "2023-01-10T18:07:25.562Z"
   },
   {
    "duration": 65,
    "start_time": "2023-01-10T18:07:26.269Z"
   },
   {
    "duration": 12,
    "start_time": "2023-01-10T18:07:28.205Z"
   },
   {
    "duration": 5,
    "start_time": "2023-01-10T18:07:29.290Z"
   },
   {
    "duration": 5,
    "start_time": "2023-01-10T18:07:30.300Z"
   },
   {
    "duration": 14,
    "start_time": "2023-01-10T18:07:31.025Z"
   },
   {
    "duration": 28,
    "start_time": "2023-01-10T18:07:32.244Z"
   },
   {
    "duration": 32,
    "start_time": "2023-01-10T18:07:33.742Z"
   },
   {
    "duration": 15,
    "start_time": "2023-01-10T18:07:35.013Z"
   },
   {
    "duration": 391,
    "start_time": "2023-01-10T18:07:42.159Z"
   },
   {
    "duration": 13,
    "start_time": "2023-01-10T18:07:45.329Z"
   },
   {
    "duration": 535,
    "start_time": "2023-01-10T18:08:36.605Z"
   },
   {
    "duration": 38,
    "start_time": "2023-01-10T18:08:53.501Z"
   },
   {
    "duration": 39,
    "start_time": "2023-01-10T18:12:09.709Z"
   },
   {
    "duration": 1130,
    "start_time": "2023-01-10T18:14:43.824Z"
   },
   {
    "duration": 3,
    "start_time": "2023-01-10T18:14:45.952Z"
   },
   {
    "duration": 62,
    "start_time": "2023-01-10T18:14:46.972Z"
   },
   {
    "duration": 19,
    "start_time": "2023-01-10T18:14:58.544Z"
   },
   {
    "duration": 5,
    "start_time": "2023-01-10T18:16:56.891Z"
   },
   {
    "duration": 4,
    "start_time": "2023-01-10T18:18:25.324Z"
   },
   {
    "duration": 11,
    "start_time": "2023-01-10T18:19:13.892Z"
   },
   {
    "duration": 30,
    "start_time": "2023-01-10T18:24:56.390Z"
   },
   {
    "duration": 46,
    "start_time": "2023-01-10T18:26:00.466Z"
   },
   {
    "duration": 13,
    "start_time": "2023-01-10T18:29:22.998Z"
   },
   {
    "duration": 54620,
    "start_time": "2023-01-10T18:35:21.753Z"
   },
   {
    "duration": 6,
    "start_time": "2023-01-10T18:36:35.082Z"
   },
   {
    "duration": 409,
    "start_time": "2023-01-10T18:42:46.441Z"
   },
   {
    "duration": 6,
    "start_time": "2023-01-10T18:45:14.783Z"
   },
   {
    "duration": 13,
    "start_time": "2023-01-10T18:57:28.110Z"
   },
   {
    "duration": 553,
    "start_time": "2023-01-10T18:58:50.901Z"
   },
   {
    "duration": 37,
    "start_time": "2023-01-10T18:59:12.108Z"
   },
   {
    "duration": 37,
    "start_time": "2023-01-10T18:59:47.043Z"
   },
   {
    "duration": 43,
    "start_time": "2023-01-10T19:02:05.395Z"
   },
   {
    "duration": 40,
    "start_time": "2023-01-10T19:02:10.953Z"
   },
   {
    "duration": 100,
    "start_time": "2023-01-10T19:15:37.902Z"
   },
   {
    "duration": 16,
    "start_time": "2023-01-10T19:15:42.712Z"
   },
   {
    "duration": 539,
    "start_time": "2023-01-10T19:15:44.221Z"
   },
   {
    "duration": 219,
    "start_time": "2023-01-10T19:15:46.828Z"
   },
   {
    "duration": 537,
    "start_time": "2023-01-10T19:16:11.142Z"
   },
   {
    "duration": 39,
    "start_time": "2023-01-10T19:16:13.220Z"
   },
   {
    "duration": 220,
    "start_time": "2023-01-10T19:16:35.810Z"
   },
   {
    "duration": 38,
    "start_time": "2023-01-10T19:16:37.159Z"
   },
   {
    "duration": 524,
    "start_time": "2023-01-10T19:17:45.861Z"
   },
   {
    "duration": 219,
    "start_time": "2023-01-10T19:18:03.850Z"
   },
   {
    "duration": 39,
    "start_time": "2023-01-10T19:19:02.018Z"
   },
   {
    "duration": 37,
    "start_time": "2023-01-10T19:19:03.175Z"
   },
   {
    "duration": 42,
    "start_time": "2023-01-10T19:26:29.327Z"
   },
   {
    "duration": 36,
    "start_time": "2023-01-10T19:26:34.378Z"
   },
   {
    "duration": 603,
    "start_time": "2023-01-10T19:27:41.200Z"
   },
   {
    "duration": 42,
    "start_time": "2023-01-10T19:27:43.149Z"
   },
   {
    "duration": 1171,
    "start_time": "2023-01-10T19:35:29.700Z"
   },
   {
    "duration": 3,
    "start_time": "2023-01-10T19:35:38.221Z"
   },
   {
    "duration": 66,
    "start_time": "2023-01-10T19:35:58.514Z"
   },
   {
    "duration": 15,
    "start_time": "2023-01-10T19:36:00.663Z"
   },
   {
    "duration": 4,
    "start_time": "2023-01-10T19:36:04.046Z"
   },
   {
    "duration": 5,
    "start_time": "2023-01-10T19:36:14.144Z"
   },
   {
    "duration": 13,
    "start_time": "2023-01-10T19:37:01.880Z"
   },
   {
    "duration": 35,
    "start_time": "2023-01-10T19:37:08.122Z"
   },
   {
    "duration": 35,
    "start_time": "2023-01-10T19:37:16.282Z"
   },
   {
    "duration": 12,
    "start_time": "2023-01-10T19:37:30.592Z"
   },
   {
    "duration": 54122,
    "start_time": "2023-01-10T19:38:31.453Z"
   },
   {
    "duration": 6,
    "start_time": "2023-01-10T19:39:31.451Z"
   },
   {
    "duration": 399,
    "start_time": "2023-01-10T19:39:47.614Z"
   },
   {
    "duration": 5,
    "start_time": "2023-01-10T19:42:27.550Z"
   },
   {
    "duration": 65,
    "start_time": "2023-01-10T19:43:17.323Z"
   },
   {
    "duration": 65,
    "start_time": "2023-01-10T19:43:52.179Z"
   },
   {
    "duration": 16,
    "start_time": "2023-01-10T19:44:41.138Z"
   },
   {
    "duration": 521,
    "start_time": "2023-01-10T19:46:09.416Z"
   },
   {
    "duration": 214,
    "start_time": "2023-01-10T19:46:11.617Z"
   },
   {
    "duration": 39,
    "start_time": "2023-01-10T19:50:55.804Z"
   },
   {
    "duration": 1118,
    "start_time": "2023-01-10T19:51:25.115Z"
   },
   {
    "duration": 3,
    "start_time": "2023-01-10T19:51:26.235Z"
   },
   {
    "duration": 72,
    "start_time": "2023-01-10T19:51:26.240Z"
   },
   {
    "duration": 13,
    "start_time": "2023-01-10T19:51:26.313Z"
   },
   {
    "duration": 5,
    "start_time": "2023-01-10T19:51:26.329Z"
   },
   {
    "duration": 17,
    "start_time": "2023-01-10T19:51:26.336Z"
   },
   {
    "duration": 14,
    "start_time": "2023-01-10T19:51:26.355Z"
   },
   {
    "duration": 26,
    "start_time": "2023-01-10T19:51:26.371Z"
   },
   {
    "duration": 33,
    "start_time": "2023-01-10T19:51:26.413Z"
   },
   {
    "duration": 10,
    "start_time": "2023-01-10T19:51:26.447Z"
   },
   {
    "duration": 54482,
    "start_time": "2023-01-10T19:51:26.459Z"
   },
   {
    "duration": 5,
    "start_time": "2023-01-10T19:52:20.943Z"
   },
   {
    "duration": 402,
    "start_time": "2023-01-10T19:52:20.949Z"
   },
   {
    "duration": 6,
    "start_time": "2023-01-10T19:52:21.353Z"
   },
   {
    "duration": 25,
    "start_time": "2023-01-10T19:52:21.360Z"
   },
   {
    "duration": 547,
    "start_time": "2023-01-10T19:52:21.387Z"
   },
   {
    "duration": 232,
    "start_time": "2023-01-10T19:52:21.936Z"
   },
   {
    "duration": 47,
    "start_time": "2023-01-10T19:52:22.170Z"
   },
   {
    "duration": 100,
    "start_time": "2023-01-10T19:58:58.398Z"
   },
   {
    "duration": 22,
    "start_time": "2023-01-10T19:59:29.671Z"
   },
   {
    "duration": 21,
    "start_time": "2023-01-10T20:00:17.200Z"
   },
   {
    "duration": 4,
    "start_time": "2023-01-10T20:00:20.388Z"
   },
   {
    "duration": 22,
    "start_time": "2023-01-10T20:00:27.156Z"
   },
   {
    "duration": 22,
    "start_time": "2023-01-10T20:00:33.238Z"
   },
   {
    "duration": 73,
    "start_time": "2023-01-10T20:00:41.812Z"
   },
   {
    "duration": 20,
    "start_time": "2023-01-10T20:00:56.808Z"
   },
   {
    "duration": 27,
    "start_time": "2023-01-10T20:02:31.808Z"
   },
   {
    "duration": 397,
    "start_time": "2023-01-10T20:03:15.553Z"
   },
   {
    "duration": 386,
    "start_time": "2023-01-10T20:03:55.352Z"
   },
   {
    "duration": 20,
    "start_time": "2023-01-10T20:04:03.628Z"
   },
   {
    "duration": 401,
    "start_time": "2023-01-10T20:04:35.569Z"
   },
   {
    "duration": 65,
    "start_time": "2023-01-10T20:04:40.420Z"
   },
   {
    "duration": 418,
    "start_time": "2023-01-10T20:05:00.594Z"
   },
   {
    "duration": 3,
    "start_time": "2023-01-10T20:05:02.658Z"
   },
   {
    "duration": 76,
    "start_time": "2023-01-10T20:06:01.023Z"
   },
   {
    "duration": 28,
    "start_time": "2023-01-10T20:06:11.515Z"
   },
   {
    "duration": 1070,
    "start_time": "2023-01-10T20:06:35.545Z"
   },
   {
    "duration": 3,
    "start_time": "2023-01-10T20:06:36.617Z"
   },
   {
    "duration": 69,
    "start_time": "2023-01-10T20:06:36.622Z"
   },
   {
    "duration": 12,
    "start_time": "2023-01-10T20:06:36.693Z"
   },
   {
    "duration": 5,
    "start_time": "2023-01-10T20:06:36.707Z"
   },
   {
    "duration": 11,
    "start_time": "2023-01-10T20:06:36.713Z"
   },
   {
    "duration": 15,
    "start_time": "2023-01-10T20:06:36.726Z"
   },
   {
    "duration": 26,
    "start_time": "2023-01-10T20:06:36.743Z"
   },
   {
    "duration": 44,
    "start_time": "2023-01-10T20:06:36.771Z"
   },
   {
    "duration": 12,
    "start_time": "2023-01-10T20:06:36.817Z"
   },
   {
    "duration": 430,
    "start_time": "2023-01-10T20:06:36.830Z"
   },
   {
    "duration": 5,
    "start_time": "2023-01-10T20:06:37.261Z"
   },
   {
    "duration": 30,
    "start_time": "2023-01-10T20:06:37.267Z"
   },
   {
    "duration": 53283,
    "start_time": "2023-01-10T20:06:37.300Z"
   },
   {
    "duration": 4,
    "start_time": "2023-01-10T20:07:30.584Z"
   },
   {
    "duration": 457,
    "start_time": "2023-01-10T20:07:30.589Z"
   },
   {
    "duration": 5,
    "start_time": "2023-01-10T20:07:31.048Z"
   },
   {
    "duration": 23,
    "start_time": "2023-01-10T20:07:31.054Z"
   },
   {
    "duration": 512,
    "start_time": "2023-01-10T20:07:31.079Z"
   },
   {
    "duration": 214,
    "start_time": "2023-01-10T20:07:31.593Z"
   },
   {
    "duration": 40,
    "start_time": "2023-01-10T20:07:31.812Z"
   },
   {
    "duration": 25,
    "start_time": "2023-01-10T20:12:28.816Z"
   },
   {
    "duration": 26,
    "start_time": "2023-01-10T20:12:32.416Z"
   },
   {
    "duration": 391,
    "start_time": "2023-01-10T20:15:20.479Z"
   },
   {
    "duration": 1080,
    "start_time": "2023-01-10T20:20:22.145Z"
   },
   {
    "duration": 3,
    "start_time": "2023-01-10T20:20:23.227Z"
   },
   {
    "duration": 65,
    "start_time": "2023-01-10T20:20:23.232Z"
   },
   {
    "duration": 13,
    "start_time": "2023-01-10T20:20:23.299Z"
   },
   {
    "duration": 6,
    "start_time": "2023-01-10T20:20:23.314Z"
   },
   {
    "duration": 7,
    "start_time": "2023-01-10T20:20:23.322Z"
   },
   {
    "duration": 16,
    "start_time": "2023-01-10T20:20:23.330Z"
   },
   {
    "duration": 25,
    "start_time": "2023-01-10T20:20:23.347Z"
   },
   {
    "duration": 51,
    "start_time": "2023-01-10T20:20:23.374Z"
   },
   {
    "duration": 11,
    "start_time": "2023-01-10T20:20:23.427Z"
   },
   {
    "duration": 409,
    "start_time": "2023-01-10T20:20:23.439Z"
   },
   {
    "duration": 5,
    "start_time": "2023-01-10T20:20:23.850Z"
   },
   {
    "duration": 37,
    "start_time": "2023-01-10T20:20:23.857Z"
   },
   {
    "duration": 53853,
    "start_time": "2023-01-10T20:20:23.897Z"
   },
   {
    "duration": 3,
    "start_time": "2023-01-10T20:21:17.751Z"
   },
   {
    "duration": 393,
    "start_time": "2023-01-10T20:21:17.756Z"
   },
   {
    "duration": 6,
    "start_time": "2023-01-10T20:21:18.150Z"
   },
   {
    "duration": 16,
    "start_time": "2023-01-10T20:21:18.157Z"
   },
   {
    "duration": 541,
    "start_time": "2023-01-10T20:21:18.174Z"
   },
   {
    "duration": 232,
    "start_time": "2023-01-10T20:21:18.717Z"
   },
   {
    "duration": 42,
    "start_time": "2023-01-10T20:21:18.951Z"
   },
   {
    "duration": 1098,
    "start_time": "2023-01-11T12:19:31.203Z"
   },
   {
    "duration": 4,
    "start_time": "2023-01-11T12:25:31.562Z"
   },
   {
    "duration": 131,
    "start_time": "2023-01-11T12:25:32.265Z"
   },
   {
    "duration": 20,
    "start_time": "2023-01-11T12:25:33.971Z"
   },
   {
    "duration": 6,
    "start_time": "2023-01-11T12:25:35.229Z"
   },
   {
    "duration": 7,
    "start_time": "2023-01-11T12:25:38.174Z"
   },
   {
    "duration": 20,
    "start_time": "2023-01-11T12:25:40.374Z"
   },
   {
    "duration": 8,
    "start_time": "2023-01-11T12:25:55.514Z"
   },
   {
    "duration": 1195,
    "start_time": "2023-01-11T12:26:42.840Z"
   },
   {
    "duration": 4,
    "start_time": "2023-01-11T12:26:49.304Z"
   },
   {
    "duration": 68,
    "start_time": "2023-01-11T12:26:49.968Z"
   },
   {
    "duration": 17,
    "start_time": "2023-01-11T12:26:52.622Z"
   },
   {
    "duration": 7,
    "start_time": "2023-01-11T12:26:53.694Z"
   },
   {
    "duration": 9,
    "start_time": "2023-01-11T12:26:57.889Z"
   },
   {
    "duration": 8,
    "start_time": "2023-01-11T12:30:23.220Z"
   },
   {
    "duration": 7,
    "start_time": "2023-01-11T12:32:49.821Z"
   },
   {
    "duration": 8,
    "start_time": "2023-01-11T12:32:57.364Z"
   },
   {
    "duration": 7,
    "start_time": "2023-01-11T12:33:31.220Z"
   },
   {
    "duration": 7,
    "start_time": "2023-01-11T12:33:42.935Z"
   },
   {
    "duration": 6,
    "start_time": "2023-01-11T12:39:41.620Z"
   },
   {
    "duration": 9,
    "start_time": "2023-01-11T12:39:55.954Z"
   },
   {
    "duration": 5,
    "start_time": "2023-01-11T12:41:53.161Z"
   },
   {
    "duration": 8,
    "start_time": "2023-01-11T12:41:54.578Z"
   },
   {
    "duration": 6,
    "start_time": "2023-01-11T12:42:13.373Z"
   },
   {
    "duration": 1154,
    "start_time": "2023-01-11T12:42:21.859Z"
   },
   {
    "duration": 2,
    "start_time": "2023-01-11T12:42:24.616Z"
   },
   {
    "duration": 65,
    "start_time": "2023-01-11T12:42:25.242Z"
   },
   {
    "duration": 19,
    "start_time": "2023-01-11T12:42:26.601Z"
   },
   {
    "duration": 4,
    "start_time": "2023-01-11T12:42:27.904Z"
   },
   {
    "duration": 7,
    "start_time": "2023-01-11T12:42:29.921Z"
   },
   {
    "duration": 6,
    "start_time": "2023-01-11T12:42:32.677Z"
   },
   {
    "duration": 7,
    "start_time": "2023-01-11T12:42:33.711Z"
   },
   {
    "duration": 5,
    "start_time": "2023-01-11T12:43:58.617Z"
   },
   {
    "duration": 8,
    "start_time": "2023-01-11T12:43:59.486Z"
   },
   {
    "duration": 1177,
    "start_time": "2023-01-11T12:44:06.171Z"
   },
   {
    "duration": 4,
    "start_time": "2023-01-11T12:44:08.894Z"
   },
   {
    "duration": 69,
    "start_time": "2023-01-11T12:44:10.169Z"
   },
   {
    "duration": 14,
    "start_time": "2023-01-11T12:44:11.773Z"
   },
   {
    "duration": 5,
    "start_time": "2023-01-11T12:44:12.768Z"
   },
   {
    "duration": 7,
    "start_time": "2023-01-11T12:44:14.298Z"
   },
   {
    "duration": 7,
    "start_time": "2023-01-11T12:44:22.242Z"
   },
   {
    "duration": 6,
    "start_time": "2023-01-11T12:44:23.367Z"
   },
   {
    "duration": 1222,
    "start_time": "2023-01-11T12:44:34.144Z"
   },
   {
    "duration": 3,
    "start_time": "2023-01-11T12:44:36.356Z"
   },
   {
    "duration": 68,
    "start_time": "2023-01-11T12:44:37.351Z"
   },
   {
    "duration": 14,
    "start_time": "2023-01-11T12:44:38.681Z"
   },
   {
    "duration": 4,
    "start_time": "2023-01-11T12:44:39.863Z"
   },
   {
    "duration": 7,
    "start_time": "2023-01-11T12:44:41.756Z"
   },
   {
    "duration": 6,
    "start_time": "2023-01-11T12:47:05.335Z"
   },
   {
    "duration": 5,
    "start_time": "2023-01-11T12:47:09.158Z"
   },
   {
    "duration": 5,
    "start_time": "2023-01-11T12:47:34.181Z"
   },
   {
    "duration": 6,
    "start_time": "2023-01-11T12:47:34.717Z"
   },
   {
    "duration": 6,
    "start_time": "2023-01-11T12:47:35.172Z"
   },
   {
    "duration": 5,
    "start_time": "2023-01-11T12:47:35.616Z"
   },
   {
    "duration": 6,
    "start_time": "2023-01-11T12:48:12.993Z"
   },
   {
    "duration": 131,
    "start_time": "2023-01-11T12:48:23.714Z"
   },
   {
    "duration": 6,
    "start_time": "2023-01-11T12:49:10.958Z"
   },
   {
    "duration": 5,
    "start_time": "2023-01-11T12:49:12.443Z"
   },
   {
    "duration": 6,
    "start_time": "2023-01-11T12:49:12.868Z"
   },
   {
    "duration": 6,
    "start_time": "2023-01-11T12:49:13.223Z"
   },
   {
    "duration": 5,
    "start_time": "2023-01-11T12:49:13.570Z"
   },
   {
    "duration": 6,
    "start_time": "2023-01-11T12:49:13.902Z"
   },
   {
    "duration": 5,
    "start_time": "2023-01-11T12:49:14.232Z"
   },
   {
    "duration": 6,
    "start_time": "2023-01-11T12:49:15.374Z"
   },
   {
    "duration": 5,
    "start_time": "2023-01-11T12:49:15.624Z"
   },
   {
    "duration": 5,
    "start_time": "2023-01-11T12:49:15.803Z"
   },
   {
    "duration": 6,
    "start_time": "2023-01-11T12:49:15.993Z"
   },
   {
    "duration": 6,
    "start_time": "2023-01-11T12:49:16.163Z"
   },
   {
    "duration": 5,
    "start_time": "2023-01-11T12:49:16.334Z"
   },
   {
    "duration": 5,
    "start_time": "2023-01-11T12:49:16.502Z"
   },
   {
    "duration": 5,
    "start_time": "2023-01-11T12:49:16.698Z"
   },
   {
    "duration": 6,
    "start_time": "2023-01-11T12:49:16.879Z"
   },
   {
    "duration": 9,
    "start_time": "2023-01-11T12:49:21.267Z"
   },
   {
    "duration": 10,
    "start_time": "2023-01-11T12:49:24.240Z"
   },
   {
    "duration": 5,
    "start_time": "2023-01-11T12:49:39.025Z"
   },
   {
    "duration": 8,
    "start_time": "2023-01-11T12:49:47.414Z"
   },
   {
    "duration": 5,
    "start_time": "2023-01-11T12:49:52.893Z"
   },
   {
    "duration": 8,
    "start_time": "2023-01-11T12:49:54.369Z"
   },
   {
    "duration": 5,
    "start_time": "2023-01-11T12:49:55.442Z"
   },
   {
    "duration": 7,
    "start_time": "2023-01-11T12:49:56.216Z"
   },
   {
    "duration": 5,
    "start_time": "2023-01-11T12:49:57.197Z"
   },
   {
    "duration": 1264,
    "start_time": "2023-01-11T12:50:06.983Z"
   },
   {
    "duration": 6,
    "start_time": "2023-01-11T12:50:09.863Z"
   },
   {
    "duration": 72,
    "start_time": "2023-01-11T12:50:10.523Z"
   },
   {
    "duration": 15,
    "start_time": "2023-01-11T12:50:12.226Z"
   },
   {
    "duration": 5,
    "start_time": "2023-01-11T12:50:14.285Z"
   },
   {
    "duration": 7,
    "start_time": "2023-01-11T12:50:16.869Z"
   },
   {
    "duration": 5,
    "start_time": "2023-01-11T12:50:21.090Z"
   },
   {
    "duration": 8,
    "start_time": "2023-01-11T12:50:22.451Z"
   },
   {
    "duration": 1219,
    "start_time": "2023-01-11T12:51:23.092Z"
   },
   {
    "duration": 3,
    "start_time": "2023-01-11T12:51:25.956Z"
   },
   {
    "duration": 69,
    "start_time": "2023-01-11T12:51:26.494Z"
   },
   {
    "duration": 15,
    "start_time": "2023-01-11T12:51:27.794Z"
   },
   {
    "duration": 6,
    "start_time": "2023-01-11T12:51:28.814Z"
   },
   {
    "duration": 7,
    "start_time": "2023-01-11T12:51:30.826Z"
   },
   {
    "duration": 6,
    "start_time": "2023-01-11T12:52:21.940Z"
   },
   {
    "duration": 6,
    "start_time": "2023-01-11T12:52:23.267Z"
   },
   {
    "duration": 1117,
    "start_time": "2023-01-11T13:01:09.957Z"
   },
   {
    "duration": 3,
    "start_time": "2023-01-11T13:01:12.607Z"
   },
   {
    "duration": 75,
    "start_time": "2023-01-11T13:01:13.564Z"
   },
   {
    "duration": 15,
    "start_time": "2023-01-11T13:01:14.812Z"
   },
   {
    "duration": 5,
    "start_time": "2023-01-11T13:01:16.306Z"
   },
   {
    "duration": 7,
    "start_time": "2023-01-11T13:01:18.227Z"
   },
   {
    "duration": 6,
    "start_time": "2023-01-11T13:01:58.960Z"
   },
   {
    "duration": 5,
    "start_time": "2023-01-11T13:02:11.817Z"
   },
   {
    "duration": 5,
    "start_time": "2023-01-11T13:02:17.032Z"
   },
   {
    "duration": 125,
    "start_time": "2023-01-11T13:03:16.929Z"
   },
   {
    "duration": 1135,
    "start_time": "2023-01-11T13:03:29.467Z"
   },
   {
    "duration": 3,
    "start_time": "2023-01-11T13:03:31.809Z"
   },
   {
    "duration": 68,
    "start_time": "2023-01-11T13:03:32.847Z"
   },
   {
    "duration": 13,
    "start_time": "2023-01-11T13:03:34.015Z"
   },
   {
    "duration": 4,
    "start_time": "2023-01-11T13:03:34.995Z"
   },
   {
    "duration": 8,
    "start_time": "2023-01-11T13:03:36.908Z"
   },
   {
    "duration": 6,
    "start_time": "2023-01-11T13:03:38.188Z"
   },
   {
    "duration": 6,
    "start_time": "2023-01-11T13:03:39.980Z"
   },
   {
    "duration": 16,
    "start_time": "2023-01-11T13:04:21.159Z"
   },
   {
    "duration": 28,
    "start_time": "2023-01-11T13:04:22.717Z"
   },
   {
    "duration": 1052,
    "start_time": "2023-01-11T13:19:16.227Z"
   },
   {
    "duration": 3,
    "start_time": "2023-01-11T13:19:19.741Z"
   },
   {
    "duration": 140,
    "start_time": "2023-01-11T13:19:22.786Z"
   },
   {
    "duration": 19,
    "start_time": "2023-01-11T13:19:26.694Z"
   },
   {
    "duration": 14,
    "start_time": "2023-01-11T13:19:39.103Z"
   },
   {
    "duration": 36,
    "start_time": "2023-01-11T13:19:42.440Z"
   },
   {
    "duration": 4,
    "start_time": "2023-01-11T13:20:11.411Z"
   },
   {
    "duration": 6,
    "start_time": "2023-01-11T13:20:15.383Z"
   },
   {
    "duration": 4,
    "start_time": "2023-01-11T13:20:16.914Z"
   },
   {
    "duration": 6,
    "start_time": "2023-01-11T13:21:15.519Z"
   },
   {
    "duration": 12,
    "start_time": "2023-01-11T13:21:23.872Z"
   },
   {
    "duration": 41,
    "start_time": "2023-01-11T13:21:27.992Z"
   },
   {
    "duration": 10,
    "start_time": "2023-01-11T13:25:36.815Z"
   },
   {
    "duration": 391,
    "start_time": "2023-01-11T13:25:50.116Z"
   },
   {
    "duration": 3,
    "start_time": "2023-01-11T13:25:52.667Z"
   },
   {
    "duration": 23,
    "start_time": "2023-01-11T13:26:00.360Z"
   },
   {
    "duration": 53083,
    "start_time": "2023-01-11T13:26:06.073Z"
   },
   {
    "duration": 3,
    "start_time": "2023-01-11T13:27:03.451Z"
   },
   {
    "duration": 389,
    "start_time": "2023-01-11T13:27:11.813Z"
   },
   {
    "duration": 374,
    "start_time": "2023-01-11T13:27:41.081Z"
   },
   {
    "duration": 4,
    "start_time": "2023-01-11T13:28:26.434Z"
   },
   {
    "duration": 15,
    "start_time": "2023-01-11T13:29:32.572Z"
   },
   {
    "duration": 78953,
    "start_time": "2023-01-11T13:35:25.487Z"
   },
   {
    "duration": 1001,
    "start_time": "2023-01-11T13:37:59.280Z"
   },
   {
    "duration": 80215,
    "start_time": "2023-01-11T13:40:40.364Z"
   },
   {
    "duration": 144,
    "start_time": "2023-01-11T13:42:37.191Z"
   },
   {
    "duration": 79092,
    "start_time": "2023-01-11T13:43:05.985Z"
   },
   {
    "duration": 1075,
    "start_time": "2023-01-11T13:44:28.973Z"
   },
   {
    "duration": 32042,
    "start_time": "2023-01-11T13:47:22.005Z"
   },
   {
    "duration": 128,
    "start_time": "2023-01-11T13:48:46.854Z"
   },
   {
    "duration": 95,
    "start_time": "2023-01-11T13:49:21.943Z"
   },
   {
    "duration": 994,
    "start_time": "2023-01-11T13:58:17.853Z"
   },
   {
    "duration": 3,
    "start_time": "2023-01-11T13:58:26.836Z"
   },
   {
    "duration": 80,
    "start_time": "2023-01-11T13:58:28.071Z"
   },
   {
    "duration": 12,
    "start_time": "2023-01-11T13:58:29.387Z"
   },
   {
    "duration": 55,
    "start_time": "2023-01-11T13:58:30.515Z"
   },
   {
    "duration": 5,
    "start_time": "2023-01-11T13:58:34.418Z"
   },
   {
    "duration": 7,
    "start_time": "2023-01-11T13:58:37.256Z"
   },
   {
    "duration": 6,
    "start_time": "2023-01-11T13:58:38.818Z"
   },
   {
    "duration": 11,
    "start_time": "2023-01-11T13:59:32.756Z"
   },
   {
    "duration": 33,
    "start_time": "2023-01-11T13:59:34.310Z"
   },
   {
    "duration": 10,
    "start_time": "2023-01-11T14:00:45.587Z"
   },
   {
    "duration": 481,
    "start_time": "2023-01-11T14:01:02.819Z"
   },
   {
    "duration": 5,
    "start_time": "2023-01-11T14:01:06.431Z"
   },
   {
    "duration": 28,
    "start_time": "2023-01-11T14:01:13.882Z"
   },
   {
    "duration": 57622,
    "start_time": "2023-01-11T14:01:26.390Z"
   },
   {
    "duration": 4,
    "start_time": "2023-01-11T14:02:28.171Z"
   },
   {
    "duration": 348,
    "start_time": "2023-01-11T14:02:41.726Z"
   },
   {
    "duration": 5,
    "start_time": "2023-01-11T14:02:54.335Z"
   },
   {
    "duration": 15,
    "start_time": "2023-01-11T14:03:11.382Z"
   },
   {
    "duration": 75377,
    "start_time": "2023-01-11T14:05:16.676Z"
   },
   {
    "duration": 992,
    "start_time": "2023-01-11T14:06:43.090Z"
   },
   {
    "duration": 33717,
    "start_time": "2023-01-11T14:14:54.468Z"
   },
   {
    "duration": 132,
    "start_time": "2023-01-11T14:15:56.814Z"
   },
   {
    "duration": 523,
    "start_time": "2023-01-11T14:20:12.676Z"
   },
   {
    "duration": 3,
    "start_time": "2023-01-11T14:22:05.450Z"
   },
   {
    "duration": 62,
    "start_time": "2023-01-11T14:23:06.337Z"
   },
   {
    "duration": 62,
    "start_time": "2023-01-11T14:24:52.716Z"
   },
   {
    "duration": 5,
    "start_time": "2023-01-11T14:27:48.118Z"
   },
   {
    "duration": 116,
    "start_time": "2023-01-11T14:36:42.859Z"
   },
   {
    "duration": 17,
    "start_time": "2023-01-11T14:36:52.467Z"
   },
   {
    "duration": 5,
    "start_time": "2023-01-11T14:37:31.851Z"
   },
   {
    "duration": 8,
    "start_time": "2023-01-11T14:38:01.962Z"
   },
   {
    "duration": 11,
    "start_time": "2023-01-11T14:47:49.641Z"
   },
   {
    "duration": 9,
    "start_time": "2023-01-11T14:48:39.826Z"
   },
   {
    "duration": 10,
    "start_time": "2023-01-11T14:48:40.518Z"
   },
   {
    "duration": 14,
    "start_time": "2023-01-11T14:49:27.412Z"
   },
   {
    "duration": 7,
    "start_time": "2023-01-11T14:49:28.443Z"
   },
   {
    "duration": 1128,
    "start_time": "2023-01-11T14:53:47.545Z"
   },
   {
    "duration": 3,
    "start_time": "2023-01-11T14:53:48.675Z"
   },
   {
    "duration": 105,
    "start_time": "2023-01-11T14:53:48.679Z"
   },
   {
    "duration": 27,
    "start_time": "2023-01-11T14:53:48.786Z"
   },
   {
    "duration": 53,
    "start_time": "2023-01-11T14:53:48.821Z"
   },
   {
    "duration": 4,
    "start_time": "2023-01-11T14:53:48.876Z"
   },
   {
    "duration": 61,
    "start_time": "2023-01-11T14:53:48.881Z"
   },
   {
    "duration": 17,
    "start_time": "2023-01-11T14:53:48.943Z"
   },
   {
    "duration": 56,
    "start_time": "2023-01-11T14:53:48.961Z"
   },
   {
    "duration": 45,
    "start_time": "2023-01-11T14:53:49.020Z"
   },
   {
    "duration": 12,
    "start_time": "2023-01-11T14:53:49.067Z"
   },
   {
    "duration": 439,
    "start_time": "2023-01-11T14:53:49.081Z"
   },
   {
    "duration": 11,
    "start_time": "2023-01-11T14:53:49.522Z"
   },
   {
    "duration": 42,
    "start_time": "2023-01-11T14:53:49.536Z"
   },
   {
    "duration": 60800,
    "start_time": "2023-01-11T14:53:49.580Z"
   },
   {
    "duration": 4,
    "start_time": "2023-01-11T14:54:50.383Z"
   },
   {
    "duration": 395,
    "start_time": "2023-01-11T14:54:50.397Z"
   },
   {
    "duration": 9,
    "start_time": "2023-01-11T14:54:50.794Z"
   },
   {
    "duration": 76,
    "start_time": "2023-01-11T14:54:50.805Z"
   },
   {
    "duration": 78239,
    "start_time": "2023-01-11T14:54:50.882Z"
   },
   {
    "duration": 1051,
    "start_time": "2023-01-11T14:56:09.127Z"
   },
   {
    "duration": 32554,
    "start_time": "2023-01-11T14:56:10.179Z"
   },
   {
    "duration": 125,
    "start_time": "2023-01-11T14:56:42.734Z"
   },
   {
    "duration": 545,
    "start_time": "2023-01-11T14:56:42.860Z"
   },
   {
    "duration": 6,
    "start_time": "2023-01-11T14:56:43.413Z"
   },
   {
    "duration": 50,
    "start_time": "2023-01-11T14:56:43.421Z"
   },
   {
    "duration": 59,
    "start_time": "2023-01-11T14:56:43.472Z"
   },
   {
    "duration": 6,
    "start_time": "2023-01-11T14:56:43.533Z"
   },
   {
    "duration": 9,
    "start_time": "2023-01-11T14:56:43.541Z"
   },
   {
    "duration": 603,
    "start_time": "2023-01-11T15:08:49.930Z"
   },
   {
    "duration": 3,
    "start_time": "2023-01-11T15:08:54.089Z"
   },
   {
    "duration": 54,
    "start_time": "2023-01-11T15:08:56.082Z"
   },
   {
    "duration": 1008,
    "start_time": "2023-01-11T15:14:16.079Z"
   },
   {
    "duration": 2,
    "start_time": "2023-01-11T15:14:17.089Z"
   },
   {
    "duration": 75,
    "start_time": "2023-01-11T15:14:17.098Z"
   },
   {
    "duration": 13,
    "start_time": "2023-01-11T15:14:17.174Z"
   },
   {
    "duration": 40,
    "start_time": "2023-01-11T15:14:17.189Z"
   },
   {
    "duration": 4,
    "start_time": "2023-01-11T15:14:17.231Z"
   },
   {
    "duration": 11,
    "start_time": "2023-01-11T15:14:17.236Z"
   },
   {
    "duration": 4,
    "start_time": "2023-01-11T15:14:17.249Z"
   },
   {
    "duration": 13,
    "start_time": "2023-01-11T15:14:17.255Z"
   },
   {
    "duration": 46,
    "start_time": "2023-01-11T15:14:17.269Z"
   },
   {
    "duration": 21,
    "start_time": "2023-01-11T15:14:17.319Z"
   },
   {
    "duration": 434,
    "start_time": "2023-01-11T15:14:17.342Z"
   },
   {
    "duration": 5,
    "start_time": "2023-01-11T15:14:17.778Z"
   },
   {
    "duration": 57,
    "start_time": "2023-01-11T15:14:17.785Z"
   },
   {
    "duration": 52892,
    "start_time": "2023-01-11T15:14:17.844Z"
   },
   {
    "duration": 4,
    "start_time": "2023-01-11T15:15:10.737Z"
   },
   {
    "duration": 344,
    "start_time": "2023-01-11T15:15:10.742Z"
   },
   {
    "duration": 25,
    "start_time": "2023-01-11T15:15:11.088Z"
   },
   {
    "duration": 17,
    "start_time": "2023-01-11T15:15:11.114Z"
   },
   {
    "duration": 73405,
    "start_time": "2023-01-11T15:15:11.132Z"
   },
   {
    "duration": 934,
    "start_time": "2023-01-11T15:16:24.539Z"
   },
   {
    "duration": 29924,
    "start_time": "2023-01-11T15:16:25.474Z"
   },
   {
    "duration": 115,
    "start_time": "2023-01-11T15:16:55.399Z"
   },
   {
    "duration": 530,
    "start_time": "2023-01-11T15:16:55.516Z"
   },
   {
    "duration": 4,
    "start_time": "2023-01-11T15:16:56.048Z"
   },
   {
    "duration": 60,
    "start_time": "2023-01-11T15:16:56.053Z"
   },
   {
    "duration": 58,
    "start_time": "2023-01-11T15:16:56.116Z"
   },
   {
    "duration": 20,
    "start_time": "2023-01-11T15:16:56.176Z"
   },
   {
    "duration": 7,
    "start_time": "2023-01-11T15:16:56.198Z"
   }
  ],
  "kernelspec": {
   "display_name": "Python 3 (ipykernel)",
   "language": "python",
   "name": "python3"
  },
  "language_info": {
   "codemirror_mode": {
    "name": "ipython",
    "version": 3
   },
   "file_extension": ".py",
   "mimetype": "text/x-python",
   "name": "python",
   "nbconvert_exporter": "python",
   "pygments_lexer": "ipython3",
   "version": "3.9.16"
  },
  "toc": {
   "base_numbering": 1,
   "nav_menu": {},
   "number_sections": true,
   "sideBar": true,
   "skip_h1_title": true,
   "title_cell": "Содержание",
   "title_sidebar": "Contents",
   "toc_cell": true,
   "toc_position": {},
   "toc_section_display": true,
   "toc_window_display": false
  }
 },
 "nbformat": 4,
 "nbformat_minor": 2
}
