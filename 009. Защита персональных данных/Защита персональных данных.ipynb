{
 "cells": [
  {
   "cell_type": "markdown",
   "metadata": {
    "toc": true
   },
   "source": [
    "<h1>Содержание<span class=\"tocSkip\"></span></h1>\n",
    "<div class=\"toc\"><ul class=\"toc-item\"><li><span><a href=\"#Загрузка-данных\" data-toc-modified-id=\"Загрузка-данных-1\"><span class=\"toc-item-num\">1&nbsp;&nbsp;</span>Загрузка данных</a></span></li><li><span><a href=\"#Умножение-матриц\" data-toc-modified-id=\"Умножение-матриц-2\"><span class=\"toc-item-num\">2&nbsp;&nbsp;</span>Умножение матриц</a></span></li><li><span><a href=\"#Алгоритм-преобразования\" data-toc-modified-id=\"Алгоритм-преобразования-3\"><span class=\"toc-item-num\">3&nbsp;&nbsp;</span>Алгоритм преобразования</a></span></li><li><span><a href=\"#Проверка-алгоритма\" data-toc-modified-id=\"Проверка-алгоритма-4\"><span class=\"toc-item-num\">4&nbsp;&nbsp;</span>Проверка алгоритма</a></span></li><li><span><a href=\"#Чек-лист-проверки\" data-toc-modified-id=\"Чек-лист-проверки-5\"><span class=\"toc-item-num\">5&nbsp;&nbsp;</span>Чек-лист проверки</a></span></li></ul></div>"
   ]
  },
  {
   "cell_type": "markdown",
   "metadata": {},
   "source": [
    "# Защита персональных данных клиентов"
   ]
  },
  {
   "cell_type": "markdown",
   "metadata": {},
   "source": [
    "Вам нужно защитить данные клиентов страховой компании «Хоть потоп». Разработайте такой метод преобразования данных, чтобы по ним было сложно восстановить персональную информацию. Обоснуйте корректность его работы.\n",
    "\n",
    "Нужно защитить данные, чтобы при преобразовании качество моделей машинного обучения не ухудшилось. Подбирать наилучшую модель не требуется."
   ]
  },
  {
   "cell_type": "markdown",
   "metadata": {},
   "source": [
    "## Загрузка данных"
   ]
  },
  {
   "cell_type": "code",
   "execution_count": 1,
   "metadata": {},
   "outputs": [],
   "source": [
    "import pandas as pd\n",
    "import numpy as np\n",
    "from sklearn.linear_model import LinearRegression\n",
    "from sklearn.metrics import r2_score"
   ]
  },
  {
   "cell_type": "markdown",
   "metadata": {},
   "source": [
    "Импортируем библиотеки"
   ]
  },
  {
   "cell_type": "code",
   "execution_count": 2,
   "metadata": {},
   "outputs": [
    {
     "data": {
      "text/html": [
       "<div>\n",
       "<style scoped>\n",
       "    .dataframe tbody tr th:only-of-type {\n",
       "        vertical-align: middle;\n",
       "    }\n",
       "\n",
       "    .dataframe tbody tr th {\n",
       "        vertical-align: top;\n",
       "    }\n",
       "\n",
       "    .dataframe thead th {\n",
       "        text-align: right;\n",
       "    }\n",
       "</style>\n",
       "<table border=\"1\" class=\"dataframe\">\n",
       "  <thead>\n",
       "    <tr style=\"text-align: right;\">\n",
       "      <th></th>\n",
       "      <th>Пол</th>\n",
       "      <th>Возраст</th>\n",
       "      <th>Зарплата</th>\n",
       "      <th>Члены семьи</th>\n",
       "      <th>Страховые выплаты</th>\n",
       "    </tr>\n",
       "  </thead>\n",
       "  <tbody>\n",
       "    <tr>\n",
       "      <th>0</th>\n",
       "      <td>1</td>\n",
       "      <td>41.0</td>\n",
       "      <td>49600.0</td>\n",
       "      <td>1</td>\n",
       "      <td>0</td>\n",
       "    </tr>\n",
       "    <tr>\n",
       "      <th>1</th>\n",
       "      <td>0</td>\n",
       "      <td>46.0</td>\n",
       "      <td>38000.0</td>\n",
       "      <td>1</td>\n",
       "      <td>1</td>\n",
       "    </tr>\n",
       "    <tr>\n",
       "      <th>2</th>\n",
       "      <td>0</td>\n",
       "      <td>29.0</td>\n",
       "      <td>21000.0</td>\n",
       "      <td>0</td>\n",
       "      <td>0</td>\n",
       "    </tr>\n",
       "    <tr>\n",
       "      <th>3</th>\n",
       "      <td>0</td>\n",
       "      <td>21.0</td>\n",
       "      <td>41700.0</td>\n",
       "      <td>2</td>\n",
       "      <td>0</td>\n",
       "    </tr>\n",
       "    <tr>\n",
       "      <th>4</th>\n",
       "      <td>1</td>\n",
       "      <td>28.0</td>\n",
       "      <td>26100.0</td>\n",
       "      <td>0</td>\n",
       "      <td>0</td>\n",
       "    </tr>\n",
       "    <tr>\n",
       "      <th>...</th>\n",
       "      <td>...</td>\n",
       "      <td>...</td>\n",
       "      <td>...</td>\n",
       "      <td>...</td>\n",
       "      <td>...</td>\n",
       "    </tr>\n",
       "    <tr>\n",
       "      <th>4995</th>\n",
       "      <td>0</td>\n",
       "      <td>28.0</td>\n",
       "      <td>35700.0</td>\n",
       "      <td>2</td>\n",
       "      <td>0</td>\n",
       "    </tr>\n",
       "    <tr>\n",
       "      <th>4996</th>\n",
       "      <td>0</td>\n",
       "      <td>34.0</td>\n",
       "      <td>52400.0</td>\n",
       "      <td>1</td>\n",
       "      <td>0</td>\n",
       "    </tr>\n",
       "    <tr>\n",
       "      <th>4997</th>\n",
       "      <td>0</td>\n",
       "      <td>20.0</td>\n",
       "      <td>33900.0</td>\n",
       "      <td>2</td>\n",
       "      <td>0</td>\n",
       "    </tr>\n",
       "    <tr>\n",
       "      <th>4998</th>\n",
       "      <td>1</td>\n",
       "      <td>22.0</td>\n",
       "      <td>32700.0</td>\n",
       "      <td>3</td>\n",
       "      <td>0</td>\n",
       "    </tr>\n",
       "    <tr>\n",
       "      <th>4999</th>\n",
       "      <td>1</td>\n",
       "      <td>28.0</td>\n",
       "      <td>40600.0</td>\n",
       "      <td>1</td>\n",
       "      <td>0</td>\n",
       "    </tr>\n",
       "  </tbody>\n",
       "</table>\n",
       "<p>5000 rows × 5 columns</p>\n",
       "</div>"
      ],
      "text/plain": [
       "      Пол  Возраст  Зарплата  Члены семьи  Страховые выплаты\n",
       "0       1     41.0   49600.0            1                  0\n",
       "1       0     46.0   38000.0            1                  1\n",
       "2       0     29.0   21000.0            0                  0\n",
       "3       0     21.0   41700.0            2                  0\n",
       "4       1     28.0   26100.0            0                  0\n",
       "...   ...      ...       ...          ...                ...\n",
       "4995    0     28.0   35700.0            2                  0\n",
       "4996    0     34.0   52400.0            1                  0\n",
       "4997    0     20.0   33900.0            2                  0\n",
       "4998    1     22.0   32700.0            3                  0\n",
       "4999    1     28.0   40600.0            1                  0\n",
       "\n",
       "[5000 rows x 5 columns]"
      ]
     },
     "execution_count": 2,
     "metadata": {},
     "output_type": "execute_result"
    }
   ],
   "source": [
    "data = pd.read_csv('/datasets/insurance.csv')\n",
    "data"
   ]
  },
  {
   "cell_type": "code",
   "execution_count": 3,
   "metadata": {},
   "outputs": [
    {
     "name": "stdout",
     "output_type": "stream",
     "text": [
      "<class 'pandas.core.frame.DataFrame'>\n",
      "RangeIndex: 5000 entries, 0 to 4999\n",
      "Data columns (total 5 columns):\n",
      " #   Column             Non-Null Count  Dtype  \n",
      "---  ------             --------------  -----  \n",
      " 0   Пол                5000 non-null   int64  \n",
      " 1   Возраст            5000 non-null   float64\n",
      " 2   Зарплата           5000 non-null   float64\n",
      " 3   Члены семьи        5000 non-null   int64  \n",
      " 4   Страховые выплаты  5000 non-null   int64  \n",
      "dtypes: float64(2), int64(3)\n",
      "memory usage: 195.4 KB\n"
     ]
    }
   ],
   "source": [
    "data.info()"
   ]
  },
  {
   "cell_type": "markdown",
   "metadata": {},
   "source": [
    "В данных отсутствуют пропуски. Тип данных столбцов соответствует содержимому"
   ]
  },
  {
   "cell_type": "code",
   "execution_count": 4,
   "metadata": {},
   "outputs": [
    {
     "data": {
      "text/html": [
       "<div>\n",
       "<style scoped>\n",
       "    .dataframe tbody tr th:only-of-type {\n",
       "        vertical-align: middle;\n",
       "    }\n",
       "\n",
       "    .dataframe tbody tr th {\n",
       "        vertical-align: top;\n",
       "    }\n",
       "\n",
       "    .dataframe thead th {\n",
       "        text-align: right;\n",
       "    }\n",
       "</style>\n",
       "<table border=\"1\" class=\"dataframe\">\n",
       "  <thead>\n",
       "    <tr style=\"text-align: right;\">\n",
       "      <th></th>\n",
       "      <th>Пол</th>\n",
       "      <th>Возраст</th>\n",
       "      <th>Зарплата</th>\n",
       "      <th>Члены семьи</th>\n",
       "      <th>Страховые выплаты</th>\n",
       "    </tr>\n",
       "  </thead>\n",
       "  <tbody>\n",
       "    <tr>\n",
       "      <th>count</th>\n",
       "      <td>5000.000000</td>\n",
       "      <td>5000.000000</td>\n",
       "      <td>5000.000000</td>\n",
       "      <td>5000.000000</td>\n",
       "      <td>5000.000000</td>\n",
       "    </tr>\n",
       "    <tr>\n",
       "      <th>mean</th>\n",
       "      <td>0.499000</td>\n",
       "      <td>30.952800</td>\n",
       "      <td>39916.360000</td>\n",
       "      <td>1.194200</td>\n",
       "      <td>0.148000</td>\n",
       "    </tr>\n",
       "    <tr>\n",
       "      <th>std</th>\n",
       "      <td>0.500049</td>\n",
       "      <td>8.440807</td>\n",
       "      <td>9900.083569</td>\n",
       "      <td>1.091387</td>\n",
       "      <td>0.463183</td>\n",
       "    </tr>\n",
       "    <tr>\n",
       "      <th>min</th>\n",
       "      <td>0.000000</td>\n",
       "      <td>18.000000</td>\n",
       "      <td>5300.000000</td>\n",
       "      <td>0.000000</td>\n",
       "      <td>0.000000</td>\n",
       "    </tr>\n",
       "    <tr>\n",
       "      <th>25%</th>\n",
       "      <td>0.000000</td>\n",
       "      <td>24.000000</td>\n",
       "      <td>33300.000000</td>\n",
       "      <td>0.000000</td>\n",
       "      <td>0.000000</td>\n",
       "    </tr>\n",
       "    <tr>\n",
       "      <th>50%</th>\n",
       "      <td>0.000000</td>\n",
       "      <td>30.000000</td>\n",
       "      <td>40200.000000</td>\n",
       "      <td>1.000000</td>\n",
       "      <td>0.000000</td>\n",
       "    </tr>\n",
       "    <tr>\n",
       "      <th>75%</th>\n",
       "      <td>1.000000</td>\n",
       "      <td>37.000000</td>\n",
       "      <td>46600.000000</td>\n",
       "      <td>2.000000</td>\n",
       "      <td>0.000000</td>\n",
       "    </tr>\n",
       "    <tr>\n",
       "      <th>max</th>\n",
       "      <td>1.000000</td>\n",
       "      <td>65.000000</td>\n",
       "      <td>79000.000000</td>\n",
       "      <td>6.000000</td>\n",
       "      <td>5.000000</td>\n",
       "    </tr>\n",
       "  </tbody>\n",
       "</table>\n",
       "</div>"
      ],
      "text/plain": [
       "               Пол      Возраст      Зарплата  Члены семьи  Страховые выплаты\n",
       "count  5000.000000  5000.000000   5000.000000  5000.000000        5000.000000\n",
       "mean      0.499000    30.952800  39916.360000     1.194200           0.148000\n",
       "std       0.500049     8.440807   9900.083569     1.091387           0.463183\n",
       "min       0.000000    18.000000   5300.000000     0.000000           0.000000\n",
       "25%       0.000000    24.000000  33300.000000     0.000000           0.000000\n",
       "50%       0.000000    30.000000  40200.000000     1.000000           0.000000\n",
       "75%       1.000000    37.000000  46600.000000     2.000000           0.000000\n",
       "max       1.000000    65.000000  79000.000000     6.000000           5.000000"
      ]
     },
     "execution_count": 4,
     "metadata": {},
     "output_type": "execute_result"
    }
   ],
   "source": [
    "data.describe()"
   ]
  },
  {
   "cell_type": "markdown",
   "metadata": {},
   "source": [
    "В данных отсутствуют аномальные значения"
   ]
  },
  {
   "cell_type": "markdown",
   "metadata": {},
   "source": [
    "## Умножение матриц"
   ]
  },
  {
   "cell_type": "markdown",
   "metadata": {},
   "source": [
    "В этом задании вы можете записывать формулы в *Jupyter Notebook.*\n",
    "\n",
    "Чтобы записать формулу внутри текста, окружите её символами доллара \\\\$; если снаружи —  двойными символами \\\\$\\\\$. Эти формулы записываются на языке вёрстки *LaTeX.* \n",
    "\n",
    "Для примера мы записали формулы линейной регрессии. Можете их скопировать и отредактировать, чтобы решить задачу.\n",
    "\n",
    "Работать в *LaTeX* необязательно."
   ]
  },
  {
   "cell_type": "markdown",
   "metadata": {},
   "source": [
    "Обозначения:\n",
    "\n",
    "- $X$ — матрица признаков (нулевой столбец состоит из единиц)\n",
    "\n",
    "- $y$ — вектор целевого признака\n",
    "\n",
    "- $P$ — матрица, на которую умножаются признаки\n",
    "\n",
    "- $w$ — вектор весов линейной регрессии (нулевой элемент равен сдвигу)"
   ]
  },
  {
   "cell_type": "markdown",
   "metadata": {},
   "source": [
    "Предсказания:\n",
    "\n",
    "$$\n",
    "a = Xw\n",
    "$$\n",
    "\n",
    "Задача обучения:\n",
    "\n",
    "$$\n",
    "w = \\arg\\min_w MSE(Xw, y)\n",
    "$$\n",
    "\n",
    "Формула обучения:\n",
    "\n",
    "$$\n",
    "w = (X^T X)^{-1} X^T y\n",
    "$$"
   ]
  },
  {
   "cell_type": "markdown",
   "metadata": {},
   "source": [
    "**Вопрос:**  Признаки умножают на обратимую матрицу. Изменится ли качество линейной регрессии?"
   ]
  },
  {
   "cell_type": "markdown",
   "metadata": {},
   "source": [
    "**Ответ:** Нет, не изменится\n",
    "\n",
    "**Обоснование:** Нужно доказать что предсказания ($a$) до умножения признаков на матрицу и после не изменится"
   ]
  },
  {
   "cell_type": "markdown",
   "metadata": {},
   "source": [
    "По формуле обучения линейной регрессии следует что\n",
    "$$\n",
    "a = Xw = X(X^T X)^{-1} X^T y\n",
    "$$"
   ]
  },
  {
   "cell_type": "markdown",
   "metadata": {},
   "source": [
    "Если умножить наши признаки на обратимую матрицу $P$, то формула предсказания будет иметь следующий вид\n",
    "\n",
    "$$\n",
    "aP = XPw = XP((XP)^T XP)^{-1} (XP)^T y\n",
    "$$\n",
    "\n",
    "Преобразуем нашу формулу. Для начала раскроем скобки с транспонированием\n",
    "\n",
    "$$\n",
    "= XP(P^T X^T XP)^{-1} P^T X^T y\n",
    "$$\n",
    "\n",
    "Выведем за скобки $P^T$ и $P$\n",
    "\n",
    "$$\n",
    "= XP P^{-1} (X^T X)^{-1} (P^T)^{-1} P^T X^T y\n",
    "$$\n",
    "\n",
    "$(P^T)^{-1}$ и $P^T$ сокращаются как и $P$ с $P^{-1}$. Остается \n",
    "\n",
    "$$\n",
    "= X (X^T X)^{-1} X^T y\n",
    "$$"
   ]
  },
  {
   "cell_type": "markdown",
   "metadata": {},
   "source": [
    "Тем самым доказываем что предсказания до и после умножения на обратимую матрицу никак не меняются"
   ]
  },
  {
   "cell_type": "markdown",
   "metadata": {},
   "source": [
    "## Алгоритм преобразования"
   ]
  },
  {
   "cell_type": "markdown",
   "metadata": {},
   "source": [
    "**Алгоритм**\n",
    "- сгенерируем случайную квадратную обратимую матрицу (размер матрицы зависит от количества колонок в данных)\n",
    "- создадим ее обратную матрицу (для возможности восстановления данных)\n",
    "- скалярным произведением признаков на сгенерированную матрицу преобразуем наши данные (преобразование данных не будет влиять на предсказания линейной регрессии)\n",
    "- проверим качество предсказаний линейной регрессии по метрике R2 до и после преобразования\n",
    "- попробуем восстановить исходные данные по обратной матрице и сравнить их с оригиналом "
   ]
  },
  {
   "cell_type": "markdown",
   "metadata": {},
   "source": [
    "**Обоснование**\n",
    "\n",
    "Исходя из рассчетов выше преобразование наших данных путем умножения на обратимую матрицу не изменит качество предсказаний, но при этом защитит личные данные пользователей"
   ]
  },
  {
   "cell_type": "markdown",
   "metadata": {},
   "source": [
    "## Проверка алгоритма"
   ]
  },
  {
   "cell_type": "markdown",
   "metadata": {},
   "source": [
    "создадим функцию которая на входе принимает признаки, а на выходе дает:\n",
    "- преобразованные данные\n",
    "- матрицу, с помощью которой преобразовывалась функция\n",
    "- и обратную матрицу для возможности восстановления исходных данных"
   ]
  },
  {
   "cell_type": "code",
   "execution_count": 5,
   "metadata": {},
   "outputs": [],
   "source": [
    "def get_converted_data(features):\n",
    "    matrix = np.random.randint(1, 100, (len(features.columns), len(features.columns)))\n",
    "    rev_matrix = np.linalg.inv(matrix)\n",
    "    converted_data = pd.DataFrame(features @ matrix)\n",
    "    return converted_data, matrix, rev_matrix"
   ]
  },
  {
   "cell_type": "markdown",
   "metadata": {},
   "source": [
    "Так же создадим функцию для возвращения исходных данных из преобразованных. На вход она принимает преобразованные данные и обратную матрицу. \n",
    "На выходе дает нам данные в их изначальном виде "
   ]
  },
  {
   "cell_type": "code",
   "execution_count": 6,
   "metadata": {},
   "outputs": [],
   "source": [
    "def get_original_data(converted_features, rev_matrix):\n",
    "    original_data = converted_features @ rev_matrix\n",
    "    original_data[0] = original_data[0].round().astype(int)\n",
    "    original_data[3] = original_data[3].round().astype(int)\n",
    "    original_data = original_data.rename(columns={0 : 'Пол',\n",
    "                   1 : 'Возраст',\n",
    "                   2 : 'Зарплата',\n",
    "                   3 : 'Члены семьи'})\n",
    "    return original_data"
   ]
  },
  {
   "cell_type": "markdown",
   "metadata": {},
   "source": [
    "Разделим наши данные на признаки и целевой признак  "
   ]
  },
  {
   "cell_type": "code",
   "execution_count": 7,
   "metadata": {},
   "outputs": [],
   "source": [
    "data_features = data.drop(['Страховые выплаты'], axis=1)\n",
    "data_target = data['Страховые выплаты']"
   ]
  },
  {
   "cell_type": "markdown",
   "metadata": {},
   "source": [
    "Обучим линейную регрессию и проверим качество предсказаний по метрике R2"
   ]
  },
  {
   "cell_type": "code",
   "execution_count": 8,
   "metadata": {},
   "outputs": [
    {
     "name": "stdout",
     "output_type": "stream",
     "text": [
      "R2_Score до преобразования данных:  0.4249455028666801\n"
     ]
    }
   ],
   "source": [
    "model = LinearRegression()\n",
    "model.fit(data_features, data_target)\n",
    "predict = model.predict(data_features)\n",
    "r_2_original = r2_score(data_target, predict)\n",
    "print('R2_Score до преобразования данных: ', r_2_original)\n"
   ]
  },
  {
   "cell_type": "markdown",
   "metadata": {},
   "source": [
    "Сохраним это значение в переменной **r_2_original**"
   ]
  },
  {
   "cell_type": "markdown",
   "metadata": {},
   "source": [
    "Вызовем функцию преобразования данных"
   ]
  },
  {
   "cell_type": "code",
   "execution_count": 9,
   "metadata": {},
   "outputs": [],
   "source": [
    "converted_features, matrix, rev_matrix = get_converted_data(data_features)"
   ]
  },
  {
   "cell_type": "markdown",
   "metadata": {},
   "source": [
    "Посмотрим как сильно изменились данные "
   ]
  },
  {
   "cell_type": "code",
   "execution_count": 10,
   "metadata": {},
   "outputs": [
    {
     "data": {
      "text/html": [
       "<div>\n",
       "<style scoped>\n",
       "    .dataframe tbody tr th:only-of-type {\n",
       "        vertical-align: middle;\n",
       "    }\n",
       "\n",
       "    .dataframe tbody tr th {\n",
       "        vertical-align: top;\n",
       "    }\n",
       "\n",
       "    .dataframe thead th {\n",
       "        text-align: right;\n",
       "    }\n",
       "</style>\n",
       "<table border=\"1\" class=\"dataframe\">\n",
       "  <thead>\n",
       "    <tr style=\"text-align: right;\">\n",
       "      <th></th>\n",
       "      <th>0</th>\n",
       "      <th>1</th>\n",
       "      <th>2</th>\n",
       "      <th>3</th>\n",
       "    </tr>\n",
       "  </thead>\n",
       "  <tbody>\n",
       "    <tr>\n",
       "      <th>0</th>\n",
       "      <td>4614438.0</td>\n",
       "      <td>2928328.0</td>\n",
       "      <td>448576.0</td>\n",
       "      <td>3177077.0</td>\n",
       "    </tr>\n",
       "    <tr>\n",
       "      <th>1</th>\n",
       "      <td>3535789.0</td>\n",
       "      <td>2244050.0</td>\n",
       "      <td>344352.0</td>\n",
       "      <td>2434923.0</td>\n",
       "    </tr>\n",
       "    <tr>\n",
       "      <th>2</th>\n",
       "      <td>1954073.0</td>\n",
       "      <td>1240247.0</td>\n",
       "      <td>190479.0</td>\n",
       "      <td>1345798.0</td>\n",
       "    </tr>\n",
       "    <tr>\n",
       "      <th>3</th>\n",
       "      <td>3879051.0</td>\n",
       "      <td>2461347.0</td>\n",
       "      <td>376383.0</td>\n",
       "      <td>2670244.0</td>\n",
       "    </tr>\n",
       "    <tr>\n",
       "      <th>4</th>\n",
       "      <td>2428370.0</td>\n",
       "      <td>1541197.0</td>\n",
       "      <td>236407.0</td>\n",
       "      <td>1672200.0</td>\n",
       "    </tr>\n",
       "    <tr>\n",
       "      <th>...</th>\n",
       "      <td>...</td>\n",
       "      <td>...</td>\n",
       "      <td>...</td>\n",
       "      <td>...</td>\n",
       "    </tr>\n",
       "    <tr>\n",
       "      <th>4995</th>\n",
       "      <td>3321310.0</td>\n",
       "      <td>2107648.0</td>\n",
       "      <td>322740.0</td>\n",
       "      <td>2286678.0</td>\n",
       "    </tr>\n",
       "    <tr>\n",
       "      <th>4996</th>\n",
       "      <td>4874545.0</td>\n",
       "      <td>3093134.0</td>\n",
       "      <td>473340.0</td>\n",
       "      <td>3355779.0</td>\n",
       "    </tr>\n",
       "    <tr>\n",
       "      <th>4997</th>\n",
       "      <td>3153614.0</td>\n",
       "      <td>2001104.0</td>\n",
       "      <td>306132.0</td>\n",
       "      <td>2170982.0</td>\n",
       "    </tr>\n",
       "    <tr>\n",
       "      <th>4998</th>\n",
       "      <td>3042209.0</td>\n",
       "      <td>1930555.0</td>\n",
       "      <td>295519.0</td>\n",
       "      <td>2094441.0</td>\n",
       "    </tr>\n",
       "    <tr>\n",
       "      <th>4999</th>\n",
       "      <td>3776957.0</td>\n",
       "      <td>2396769.0</td>\n",
       "      <td>366913.0</td>\n",
       "      <td>2600271.0</td>\n",
       "    </tr>\n",
       "  </tbody>\n",
       "</table>\n",
       "<p>5000 rows × 4 columns</p>\n",
       "</div>"
      ],
      "text/plain": [
       "              0          1         2          3\n",
       "0     4614438.0  2928328.0  448576.0  3177077.0\n",
       "1     3535789.0  2244050.0  344352.0  2434923.0\n",
       "2     1954073.0  1240247.0  190479.0  1345798.0\n",
       "3     3879051.0  2461347.0  376383.0  2670244.0\n",
       "4     2428370.0  1541197.0  236407.0  1672200.0\n",
       "...         ...        ...       ...        ...\n",
       "4995  3321310.0  2107648.0  322740.0  2286678.0\n",
       "4996  4874545.0  3093134.0  473340.0  3355779.0\n",
       "4997  3153614.0  2001104.0  306132.0  2170982.0\n",
       "4998  3042209.0  1930555.0  295519.0  2094441.0\n",
       "4999  3776957.0  2396769.0  366913.0  2600271.0\n",
       "\n",
       "[5000 rows x 4 columns]"
      ]
     },
     "execution_count": 10,
     "metadata": {},
     "output_type": "execute_result"
    }
   ],
   "source": [
    "converted_features"
   ]
  },
  {
   "cell_type": "markdown",
   "metadata": {},
   "source": [
    "Из этих данных не получится извлечь никакой личной информации. Обучим новую модель линейной регрессии и проверим R2"
   ]
  },
  {
   "cell_type": "code",
   "execution_count": 11,
   "metadata": {},
   "outputs": [
    {
     "name": "stdout",
     "output_type": "stream",
     "text": [
      "R2_Score после преобразования данных:  0.4249455028666812\n"
     ]
    }
   ],
   "source": [
    "model_converted = LinearRegression()\n",
    "model_converted.fit(converted_features, data_target)\n",
    "converted_predict = model_converted.predict(converted_features)\n",
    "r_2_converted = r2_score(data_target, converted_predict)\n",
    "print('R2_Score после преобразования данных: ', r_2_converted)"
   ]
  },
  {
   "cell_type": "code",
   "execution_count": 12,
   "metadata": {},
   "outputs": [
    {
     "name": "stdout",
     "output_type": "stream",
     "text": [
      "R2 Score\n",
      "До преобразования:     0.4249455028666801\n",
      "После преобразования:  0.4249455028666812\n"
     ]
    }
   ],
   "source": [
    "print('R2 Score')\n",
    "print('До преобразования:    ', r_2_original)\n",
    "print('После преобразования: ', r_2_converted)"
   ]
  },
  {
   "cell_type": "markdown",
   "metadata": {},
   "source": [
    "Получили практически одинаковые значения"
   ]
  },
  {
   "cell_type": "markdown",
   "metadata": {},
   "source": [
    "Убедились что качество предсказаний не изменилось. Теперь попробуем восстановить исходный вид данных из преобразованных. Воспользуемся написанной нами функцией "
   ]
  },
  {
   "cell_type": "code",
   "execution_count": 13,
   "metadata": {},
   "outputs": [
    {
     "data": {
      "text/html": [
       "<div>\n",
       "<style scoped>\n",
       "    .dataframe tbody tr th:only-of-type {\n",
       "        vertical-align: middle;\n",
       "    }\n",
       "\n",
       "    .dataframe tbody tr th {\n",
       "        vertical-align: top;\n",
       "    }\n",
       "\n",
       "    .dataframe thead th {\n",
       "        text-align: right;\n",
       "    }\n",
       "</style>\n",
       "<table border=\"1\" class=\"dataframe\">\n",
       "  <thead>\n",
       "    <tr style=\"text-align: right;\">\n",
       "      <th></th>\n",
       "      <th>Пол</th>\n",
       "      <th>Возраст</th>\n",
       "      <th>Зарплата</th>\n",
       "      <th>Члены семьи</th>\n",
       "    </tr>\n",
       "  </thead>\n",
       "  <tbody>\n",
       "    <tr>\n",
       "      <th>0</th>\n",
       "      <td>1</td>\n",
       "      <td>41.0</td>\n",
       "      <td>49600.0</td>\n",
       "      <td>1</td>\n",
       "    </tr>\n",
       "    <tr>\n",
       "      <th>1</th>\n",
       "      <td>0</td>\n",
       "      <td>46.0</td>\n",
       "      <td>38000.0</td>\n",
       "      <td>1</td>\n",
       "    </tr>\n",
       "    <tr>\n",
       "      <th>2</th>\n",
       "      <td>0</td>\n",
       "      <td>29.0</td>\n",
       "      <td>21000.0</td>\n",
       "      <td>0</td>\n",
       "    </tr>\n",
       "    <tr>\n",
       "      <th>3</th>\n",
       "      <td>0</td>\n",
       "      <td>21.0</td>\n",
       "      <td>41700.0</td>\n",
       "      <td>2</td>\n",
       "    </tr>\n",
       "    <tr>\n",
       "      <th>4</th>\n",
       "      <td>1</td>\n",
       "      <td>28.0</td>\n",
       "      <td>26100.0</td>\n",
       "      <td>0</td>\n",
       "    </tr>\n",
       "    <tr>\n",
       "      <th>...</th>\n",
       "      <td>...</td>\n",
       "      <td>...</td>\n",
       "      <td>...</td>\n",
       "      <td>...</td>\n",
       "    </tr>\n",
       "    <tr>\n",
       "      <th>4995</th>\n",
       "      <td>0</td>\n",
       "      <td>28.0</td>\n",
       "      <td>35700.0</td>\n",
       "      <td>2</td>\n",
       "    </tr>\n",
       "    <tr>\n",
       "      <th>4996</th>\n",
       "      <td>0</td>\n",
       "      <td>34.0</td>\n",
       "      <td>52400.0</td>\n",
       "      <td>1</td>\n",
       "    </tr>\n",
       "    <tr>\n",
       "      <th>4997</th>\n",
       "      <td>0</td>\n",
       "      <td>20.0</td>\n",
       "      <td>33900.0</td>\n",
       "      <td>2</td>\n",
       "    </tr>\n",
       "    <tr>\n",
       "      <th>4998</th>\n",
       "      <td>1</td>\n",
       "      <td>22.0</td>\n",
       "      <td>32700.0</td>\n",
       "      <td>3</td>\n",
       "    </tr>\n",
       "    <tr>\n",
       "      <th>4999</th>\n",
       "      <td>1</td>\n",
       "      <td>28.0</td>\n",
       "      <td>40600.0</td>\n",
       "      <td>1</td>\n",
       "    </tr>\n",
       "  </tbody>\n",
       "</table>\n",
       "<p>5000 rows × 4 columns</p>\n",
       "</div>"
      ],
      "text/plain": [
       "      Пол  Возраст  Зарплата  Члены семьи\n",
       "0       1     41.0   49600.0            1\n",
       "1       0     46.0   38000.0            1\n",
       "2       0     29.0   21000.0            0\n",
       "3       0     21.0   41700.0            2\n",
       "4       1     28.0   26100.0            0\n",
       "...   ...      ...       ...          ...\n",
       "4995    0     28.0   35700.0            2\n",
       "4996    0     34.0   52400.0            1\n",
       "4997    0     20.0   33900.0            2\n",
       "4998    1     22.0   32700.0            3\n",
       "4999    1     28.0   40600.0            1\n",
       "\n",
       "[5000 rows x 4 columns]"
      ]
     },
     "execution_count": 13,
     "metadata": {},
     "output_type": "execute_result"
    }
   ],
   "source": [
    "recovery_data = get_original_data(converted_features, rev_matrix)\n",
    "recovery_data"
   ]
  },
  {
   "cell_type": "markdown",
   "metadata": {},
   "source": [
    "Данные выглядят так же как до преобразования"
   ]
  },
  {
   "cell_type": "markdown",
   "metadata": {},
   "source": [
    "дополнительно сравним суммы по столбцам "
   ]
  },
  {
   "cell_type": "code",
   "execution_count": 14,
   "metadata": {},
   "outputs": [
    {
     "data": {
      "text/plain": [
       "Пол                 2495.0\n",
       "Возраст           154764.0\n",
       "Зарплата       199581800.0\n",
       "Члены семьи         5971.0\n",
       "dtype: float64"
      ]
     },
     "execution_count": 14,
     "metadata": {},
     "output_type": "execute_result"
    }
   ],
   "source": [
    "recovery_data.sum()"
   ]
  },
  {
   "cell_type": "code",
   "execution_count": 15,
   "metadata": {},
   "outputs": [
    {
     "data": {
      "text/plain": [
       "Пол                 2495.0\n",
       "Возраст           154764.0\n",
       "Зарплата       199581800.0\n",
       "Члены семьи         5971.0\n",
       "dtype: float64"
      ]
     },
     "execution_count": 15,
     "metadata": {},
     "output_type": "execute_result"
    }
   ],
   "source": [
    "data_features.sum()"
   ]
  },
  {
   "cell_type": "markdown",
   "metadata": {},
   "source": [
    "Все сходится "
   ]
  },
  {
   "cell_type": "markdown",
   "metadata": {},
   "source": [
    "# Вывод:"
   ]
  },
  {
   "cell_type": "markdown",
   "metadata": {},
   "source": [
    "Нам удалось:\n",
    "- защитить личные данные пользователей скалярным умножением признаков на матрицу\n",
    "- при этом не было утрачено качество предсказаний линейной регрессии\n",
    "- так же были успешно восстановлены исходные данные с помощью обратной матрицы "
   ]
  }
 ],
 "metadata": {
  "ExecuteTimeLog": [
   {
    "duration": 511,
    "start_time": "2023-02-17T07:17:56.931Z"
   },
   {
    "duration": 147,
    "start_time": "2023-02-17T07:18:39.719Z"
   },
   {
    "duration": 39,
    "start_time": "2023-02-17T07:18:46.504Z"
   },
   {
    "duration": 9,
    "start_time": "2023-02-17T07:20:44.861Z"
   },
   {
    "duration": 15,
    "start_time": "2023-02-17T07:20:47.375Z"
   },
   {
    "duration": 38,
    "start_time": "2023-02-17T07:20:50.661Z"
   },
   {
    "duration": 15,
    "start_time": "2023-02-17T07:20:53.427Z"
   },
   {
    "duration": 42,
    "start_time": "2023-02-17T07:21:25.688Z"
   },
   {
    "duration": 4,
    "start_time": "2023-02-17T07:23:17.768Z"
   },
   {
    "duration": 5,
    "start_time": "2023-02-17T07:23:21.663Z"
   },
   {
    "duration": 20,
    "start_time": "2023-02-17T07:23:28.329Z"
   },
   {
    "duration": 9,
    "start_time": "2023-02-17T07:23:36.227Z"
   },
   {
    "duration": 4,
    "start_time": "2023-02-17T07:24:24.764Z"
   },
   {
    "duration": 809,
    "start_time": "2023-02-17T07:24:43.228Z"
   },
   {
    "duration": 108,
    "start_time": "2023-02-17T07:25:13.964Z"
   },
   {
    "duration": 14,
    "start_time": "2023-02-17T07:27:48.434Z"
   },
   {
    "duration": 7,
    "start_time": "2023-02-17T07:27:57.785Z"
   },
   {
    "duration": 896,
    "start_time": "2023-02-17T07:28:00.240Z"
   },
   {
    "duration": 4,
    "start_time": "2023-02-17T07:28:05.448Z"
   },
   {
    "duration": 224,
    "start_time": "2023-02-17T07:28:59.540Z"
   },
   {
    "duration": 12,
    "start_time": "2023-02-17T07:29:07.652Z"
   },
   {
    "duration": 56,
    "start_time": "2023-02-20T10:27:28.136Z"
   },
   {
    "duration": 1106,
    "start_time": "2023-02-20T10:27:37.770Z"
   },
   {
    "duration": 112,
    "start_time": "2023-02-20T10:27:42.826Z"
   },
   {
    "duration": 17,
    "start_time": "2023-02-20T10:27:43.483Z"
   },
   {
    "duration": 11,
    "start_time": "2023-02-20T10:27:44.572Z"
   },
   {
    "duration": 28,
    "start_time": "2023-02-20T10:27:46.250Z"
   },
   {
    "duration": 3,
    "start_time": "2023-02-20T10:27:47.569Z"
   },
   {
    "duration": 23,
    "start_time": "2023-02-20T10:27:48.600Z"
   },
   {
    "duration": 4,
    "start_time": "2023-02-20T10:27:50.071Z"
   },
   {
    "duration": 20,
    "start_time": "2023-02-20T10:28:07.456Z"
   },
   {
    "duration": 4,
    "start_time": "2023-02-20T10:28:26.004Z"
   },
   {
    "duration": 3,
    "start_time": "2023-02-20T10:28:41.496Z"
   },
   {
    "duration": 73,
    "start_time": "2023-02-20T10:29:32.979Z"
   },
   {
    "duration": 11,
    "start_time": "2023-02-20T10:30:12.130Z"
   },
   {
    "duration": 71,
    "start_time": "2023-02-20T10:31:47.885Z"
   },
   {
    "duration": 11,
    "start_time": "2023-02-20T10:31:52.814Z"
   },
   {
    "duration": 15,
    "start_time": "2023-02-20T10:32:02.475Z"
   },
   {
    "duration": 350,
    "start_time": "2023-02-20T10:32:40.815Z"
   },
   {
    "duration": 5,
    "start_time": "2023-02-20T10:33:12.568Z"
   },
   {
    "duration": 5,
    "start_time": "2023-02-20T10:34:01.216Z"
   },
   {
    "duration": 14,
    "start_time": "2023-02-20T10:34:06.847Z"
   },
   {
    "duration": 4,
    "start_time": "2023-02-20T10:34:16.273Z"
   },
   {
    "duration": 18,
    "start_time": "2023-02-20T10:34:17.465Z"
   },
   {
    "duration": 11,
    "start_time": "2023-02-20T10:34:22.644Z"
   },
   {
    "duration": 3,
    "start_time": "2023-02-20T10:34:24.612Z"
   },
   {
    "duration": 17,
    "start_time": "2023-02-20T10:34:25.628Z"
   },
   {
    "duration": 4,
    "start_time": "2023-02-20T10:34:39.209Z"
   },
   {
    "duration": 195,
    "start_time": "2023-02-20T10:34:39.859Z"
   },
   {
    "duration": 5,
    "start_time": "2023-02-20T10:34:40.826Z"
   },
   {
    "duration": 13,
    "start_time": "2023-02-20T10:34:41.929Z"
   },
   {
    "duration": 17,
    "start_time": "2023-02-20T10:34:43.550Z"
   },
   {
    "duration": 9,
    "start_time": "2023-02-20T10:34:44.610Z"
   },
   {
    "duration": 17,
    "start_time": "2023-02-20T10:34:45.263Z"
   },
   {
    "duration": 3,
    "start_time": "2023-02-20T10:35:01.686Z"
   },
   {
    "duration": 16,
    "start_time": "2023-02-20T10:35:21.982Z"
   },
   {
    "duration": 14,
    "start_time": "2023-02-20T10:35:30.453Z"
   },
   {
    "duration": 18,
    "start_time": "2023-02-20T10:35:37.674Z"
   },
   {
    "duration": 3,
    "start_time": "2023-02-20T10:35:53.593Z"
   },
   {
    "duration": 15,
    "start_time": "2023-02-20T10:35:56.602Z"
   },
   {
    "duration": 7,
    "start_time": "2023-02-20T10:36:59.768Z"
   },
   {
    "duration": 8,
    "start_time": "2023-02-20T10:37:12.276Z"
   },
   {
    "duration": 12,
    "start_time": "2023-02-20T10:37:27.954Z"
   },
   {
    "duration": 5,
    "start_time": "2023-02-20T10:37:39.298Z"
   },
   {
    "duration": 16,
    "start_time": "2023-02-20T10:37:44.674Z"
   },
   {
    "duration": 23,
    "start_time": "2023-02-20T10:37:57.850Z"
   },
   {
    "duration": 12,
    "start_time": "2023-02-20T10:38:35.850Z"
   },
   {
    "duration": 15,
    "start_time": "2023-02-20T10:38:49.128Z"
   },
   {
    "duration": 17,
    "start_time": "2023-02-20T10:39:32.302Z"
   },
   {
    "duration": 14,
    "start_time": "2023-02-20T10:40:33.345Z"
   },
   {
    "duration": 13,
    "start_time": "2023-02-20T10:41:13.797Z"
   },
   {
    "duration": 11,
    "start_time": "2023-02-20T10:41:23.172Z"
   },
   {
    "duration": 17,
    "start_time": "2023-02-20T10:41:36.221Z"
   },
   {
    "duration": 1133,
    "start_time": "2023-02-20T10:43:07.274Z"
   },
   {
    "duration": 38,
    "start_time": "2023-02-20T10:43:08.410Z"
   },
   {
    "duration": 11,
    "start_time": "2023-02-20T10:43:15.689Z"
   },
   {
    "duration": 23,
    "start_time": "2023-02-20T10:43:19.027Z"
   },
   {
    "duration": 4,
    "start_time": "2023-02-20T10:43:25.969Z"
   },
   {
    "duration": 109,
    "start_time": "2023-02-20T10:43:32.045Z"
   },
   {
    "duration": 5,
    "start_time": "2023-02-20T10:43:33.918Z"
   },
   {
    "duration": 260,
    "start_time": "2023-02-20T10:43:49.395Z"
   },
   {
    "duration": 4,
    "start_time": "2023-02-20T10:43:56.286Z"
   },
   {
    "duration": 5,
    "start_time": "2023-02-20T10:43:57.607Z"
   },
   {
    "duration": 5,
    "start_time": "2023-02-20T10:43:58.082Z"
   },
   {
    "duration": 4,
    "start_time": "2023-02-20T10:43:58.434Z"
   },
   {
    "duration": 13,
    "start_time": "2023-02-20T10:44:00.544Z"
   },
   {
    "duration": 93,
    "start_time": "2023-02-20T10:44:04.262Z"
   },
   {
    "duration": 3,
    "start_time": "2023-02-20T10:44:11.796Z"
   },
   {
    "duration": 13,
    "start_time": "2023-02-20T10:44:19.885Z"
   },
   {
    "duration": 15,
    "start_time": "2023-02-20T10:44:29.808Z"
   },
   {
    "duration": 5,
    "start_time": "2023-02-20T10:44:36.288Z"
   },
   {
    "duration": 13,
    "start_time": "2023-02-20T10:44:43.943Z"
   },
   {
    "duration": 11,
    "start_time": "2023-02-20T10:45:32.199Z"
   },
   {
    "duration": 4,
    "start_time": "2023-02-20T10:46:51.724Z"
   },
   {
    "duration": 12,
    "start_time": "2023-02-20T10:47:28.091Z"
   },
   {
    "duration": 5,
    "start_time": "2023-02-20T10:48:29.854Z"
   },
   {
    "duration": 11,
    "start_time": "2023-02-20T10:50:14.183Z"
   },
   {
    "duration": 4,
    "start_time": "2023-02-20T10:50:58.404Z"
   },
   {
    "duration": 5,
    "start_time": "2023-02-20T10:51:22.579Z"
   },
   {
    "duration": 5,
    "start_time": "2023-02-20T10:52:19.352Z"
   },
   {
    "duration": 4,
    "start_time": "2023-02-20T10:52:20.252Z"
   },
   {
    "duration": 9,
    "start_time": "2023-02-20T10:52:46.294Z"
   },
   {
    "duration": 19,
    "start_time": "2023-02-20T10:52:57.612Z"
   },
   {
    "duration": 16,
    "start_time": "2023-02-20T10:53:33.011Z"
   },
   {
    "duration": 5,
    "start_time": "2023-02-20T10:53:37.201Z"
   },
   {
    "duration": 6,
    "start_time": "2023-02-20T10:53:37.846Z"
   },
   {
    "duration": 8,
    "start_time": "2023-02-20T10:54:07.903Z"
   },
   {
    "duration": 8,
    "start_time": "2023-02-20T10:54:15.044Z"
   },
   {
    "duration": 6,
    "start_time": "2023-02-20T10:54:28.470Z"
   },
   {
    "duration": 5,
    "start_time": "2023-02-20T10:55:02.931Z"
   },
   {
    "duration": 5,
    "start_time": "2023-02-20T10:55:15.677Z"
   },
   {
    "duration": 6,
    "start_time": "2023-02-20T10:55:42.049Z"
   },
   {
    "duration": 8,
    "start_time": "2023-02-20T10:56:21.630Z"
   },
   {
    "duration": 6,
    "start_time": "2023-02-20T10:56:44.024Z"
   },
   {
    "duration": 9,
    "start_time": "2023-02-20T10:56:59.276Z"
   },
   {
    "duration": 7,
    "start_time": "2023-02-20T10:57:01.034Z"
   },
   {
    "duration": 8,
    "start_time": "2023-02-20T10:57:04.452Z"
   },
   {
    "duration": 1115,
    "start_time": "2023-02-20T10:59:50.540Z"
   },
   {
    "duration": 40,
    "start_time": "2023-02-20T10:59:52.393Z"
   },
   {
    "duration": 13,
    "start_time": "2023-02-20T10:59:54.070Z"
   },
   {
    "duration": 30,
    "start_time": "2023-02-20T10:59:55.270Z"
   },
   {
    "duration": 4,
    "start_time": "2023-02-20T10:59:56.391Z"
   },
   {
    "duration": 22,
    "start_time": "2023-02-20T10:59:58.274Z"
   },
   {
    "duration": 605,
    "start_time": "2023-02-20T11:00:04.073Z"
   },
   {
    "duration": 11,
    "start_time": "2023-02-20T11:00:18.650Z"
   },
   {
    "duration": 5,
    "start_time": "2023-02-20T11:00:43.886Z"
   },
   {
    "duration": 5,
    "start_time": "2023-02-20T11:01:00.863Z"
   },
   {
    "duration": 6,
    "start_time": "2023-02-20T11:01:07.650Z"
   },
   {
    "duration": 14,
    "start_time": "2023-02-20T11:01:15.802Z"
   },
   {
    "duration": 21,
    "start_time": "2023-02-20T11:01:17.642Z"
   },
   {
    "duration": 1238,
    "start_time": "2023-02-21T07:05:29.492Z"
   },
   {
    "duration": 146,
    "start_time": "2023-02-21T07:05:32.506Z"
   },
   {
    "duration": 15,
    "start_time": "2023-02-21T07:05:36.502Z"
   },
   {
    "duration": 28,
    "start_time": "2023-02-21T07:05:38.527Z"
   },
   {
    "duration": 5,
    "start_time": "2023-02-21T07:05:40.217Z"
   },
   {
    "duration": 14,
    "start_time": "2023-02-21T07:05:42.318Z"
   },
   {
    "duration": 5,
    "start_time": "2023-02-21T08:09:59.935Z"
   },
   {
    "duration": 106,
    "start_time": "2023-02-21T08:10:07.018Z"
   },
   {
    "duration": 5,
    "start_time": "2023-02-21T08:10:14.735Z"
   },
   {
    "duration": 6,
    "start_time": "2023-02-21T08:10:22.360Z"
   },
   {
    "duration": 21,
    "start_time": "2023-02-21T08:10:23.226Z"
   },
   {
    "duration": 19,
    "start_time": "2023-02-21T08:10:30.426Z"
   },
   {
    "duration": 134,
    "start_time": "2023-02-21T08:10:31.554Z"
   },
   {
    "duration": 5,
    "start_time": "2023-02-21T08:10:43.699Z"
   },
   {
    "duration": 5,
    "start_time": "2023-02-21T08:10:55.918Z"
   },
   {
    "duration": 16,
    "start_time": "2023-02-21T08:11:05.584Z"
   },
   {
    "duration": 11,
    "start_time": "2023-02-21T08:11:08.233Z"
   },
   {
    "duration": 3,
    "start_time": "2023-02-21T08:11:13.409Z"
   },
   {
    "duration": 4,
    "start_time": "2023-02-21T08:16:52.490Z"
   },
   {
    "duration": 4,
    "start_time": "2023-02-21T08:20:41.802Z"
   },
   {
    "duration": 4,
    "start_time": "2023-02-21T08:21:40.370Z"
   },
   {
    "duration": 9,
    "start_time": "2023-02-21T08:22:07.639Z"
   },
   {
    "duration": 14,
    "start_time": "2023-02-21T08:22:31.896Z"
   },
   {
    "duration": 15,
    "start_time": "2023-02-21T08:23:14.559Z"
   },
   {
    "duration": 4,
    "start_time": "2023-02-21T08:23:42.418Z"
   },
   {
    "duration": 14,
    "start_time": "2023-02-21T08:23:46.472Z"
   },
   {
    "duration": 5,
    "start_time": "2023-02-21T08:25:20.698Z"
   },
   {
    "duration": 16,
    "start_time": "2023-02-21T08:28:03.214Z"
   },
   {
    "duration": 5,
    "start_time": "2023-02-21T08:32:23.215Z"
   },
   {
    "duration": 17,
    "start_time": "2023-02-21T08:33:07.768Z"
   },
   {
    "duration": 4,
    "start_time": "2023-02-21T08:33:23.680Z"
   },
   {
    "duration": 16,
    "start_time": "2023-02-21T08:33:33.372Z"
   },
   {
    "duration": 22,
    "start_time": "2023-02-21T08:34:18.422Z"
   },
   {
    "duration": 18,
    "start_time": "2023-02-21T08:34:24.689Z"
   },
   {
    "duration": 5,
    "start_time": "2023-02-21T08:34:32.948Z"
   },
   {
    "duration": 15,
    "start_time": "2023-02-21T08:34:33.846Z"
   },
   {
    "duration": 4,
    "start_time": "2023-02-21T08:34:48.022Z"
   },
   {
    "duration": 5,
    "start_time": "2023-02-21T08:34:56.491Z"
   },
   {
    "duration": 4,
    "start_time": "2023-02-21T08:35:02.207Z"
   },
   {
    "duration": 15,
    "start_time": "2023-02-21T08:35:02.707Z"
   },
   {
    "duration": 4,
    "start_time": "2023-02-21T08:35:26.028Z"
   },
   {
    "duration": 6,
    "start_time": "2023-02-21T08:35:28.763Z"
   },
   {
    "duration": 15,
    "start_time": "2023-02-21T08:35:29.989Z"
   },
   {
    "duration": 4,
    "start_time": "2023-02-21T08:35:47.272Z"
   },
   {
    "duration": 5,
    "start_time": "2023-02-21T08:35:49.651Z"
   },
   {
    "duration": 14,
    "start_time": "2023-02-21T08:35:50.141Z"
   },
   {
    "duration": 5,
    "start_time": "2023-02-21T08:36:00.684Z"
   },
   {
    "duration": 5,
    "start_time": "2023-02-21T08:36:03.445Z"
   },
   {
    "duration": 15,
    "start_time": "2023-02-21T08:36:03.907Z"
   },
   {
    "duration": 5,
    "start_time": "2023-02-21T08:36:26.601Z"
   },
   {
    "duration": 6,
    "start_time": "2023-02-21T08:36:28.707Z"
   },
   {
    "duration": 14,
    "start_time": "2023-02-21T08:36:29.149Z"
   },
   {
    "duration": 8,
    "start_time": "2023-02-21T08:37:15.252Z"
   },
   {
    "duration": 14,
    "start_time": "2023-02-21T08:37:25.699Z"
   },
   {
    "duration": 6,
    "start_time": "2023-02-21T08:37:38.071Z"
   },
   {
    "duration": 8,
    "start_time": "2023-02-21T08:37:54.714Z"
   },
   {
    "duration": 1148,
    "start_time": "2023-02-21T11:13:28.548Z"
   },
   {
    "duration": 47,
    "start_time": "2023-02-21T11:13:30.321Z"
   },
   {
    "duration": 15,
    "start_time": "2023-02-21T11:13:50.053Z"
   },
   {
    "duration": 28,
    "start_time": "2023-02-21T11:14:43.156Z"
   },
   {
    "duration": 78,
    "start_time": "2023-02-21T11:15:24.613Z"
   },
   {
    "duration": 4,
    "start_time": "2023-02-21T12:19:03.457Z"
   },
   {
    "duration": 4,
    "start_time": "2023-02-21T12:20:30.296Z"
   },
   {
    "duration": 4,
    "start_time": "2023-02-21T12:21:30.359Z"
   },
   {
    "duration": 12,
    "start_time": "2023-02-21T12:23:25.197Z"
   },
   {
    "duration": 10,
    "start_time": "2023-02-21T12:24:08.853Z"
   },
   {
    "duration": 5,
    "start_time": "2023-02-21T12:26:19.474Z"
   },
   {
    "duration": 24,
    "start_time": "2023-02-21T12:26:48.133Z"
   },
   {
    "duration": 15,
    "start_time": "2023-02-21T12:29:34.908Z"
   },
   {
    "duration": 14,
    "start_time": "2023-02-21T12:30:28.527Z"
   },
   {
    "duration": 4,
    "start_time": "2023-02-21T12:31:58.019Z"
   },
   {
    "duration": 5,
    "start_time": "2023-02-21T12:32:29.373Z"
   },
   {
    "duration": 16,
    "start_time": "2023-02-21T12:36:33.920Z"
   },
   {
    "duration": 7,
    "start_time": "2023-02-21T12:36:54.048Z"
   },
   {
    "duration": 8,
    "start_time": "2023-02-21T12:37:04.455Z"
   },
   {
    "duration": 1219,
    "start_time": "2023-02-21T12:39:08.627Z"
   },
   {
    "duration": 45,
    "start_time": "2023-02-21T12:39:09.848Z"
   },
   {
    "duration": 11,
    "start_time": "2023-02-21T12:39:09.894Z"
   },
   {
    "duration": 33,
    "start_time": "2023-02-21T12:39:09.907Z"
   },
   {
    "duration": 14,
    "start_time": "2023-02-21T12:39:09.942Z"
   },
   {
    "duration": 26,
    "start_time": "2023-02-21T12:39:09.958Z"
   },
   {
    "duration": 16,
    "start_time": "2023-02-21T12:39:09.986Z"
   },
   {
    "duration": 45,
    "start_time": "2023-02-21T12:39:10.004Z"
   },
   {
    "duration": 95,
    "start_time": "2023-02-21T12:39:10.051Z"
   },
   {
    "duration": 189,
    "start_time": "2023-02-21T12:39:10.149Z"
   },
   {
    "duration": 23,
    "start_time": "2023-02-21T12:39:10.340Z"
   },
   {
    "duration": 74,
    "start_time": "2023-02-21T12:39:10.365Z"
   },
   {
    "duration": 129,
    "start_time": "2023-02-21T12:39:10.441Z"
   },
   {
    "duration": 10,
    "start_time": "2023-02-21T12:39:10.572Z"
   },
   {
    "duration": 25,
    "start_time": "2023-02-21T12:39:10.584Z"
   },
   {
    "duration": 1139,
    "start_time": "2023-02-21T12:41:54.657Z"
   },
   {
    "duration": 58,
    "start_time": "2023-02-21T12:41:55.798Z"
   },
   {
    "duration": 12,
    "start_time": "2023-02-21T12:41:55.857Z"
   },
   {
    "duration": 25,
    "start_time": "2023-02-21T12:41:55.871Z"
   },
   {
    "duration": 3,
    "start_time": "2023-02-21T12:41:55.899Z"
   },
   {
    "duration": 12,
    "start_time": "2023-02-21T12:41:55.903Z"
   },
   {
    "duration": 12,
    "start_time": "2023-02-21T12:41:55.916Z"
   },
   {
    "duration": 27,
    "start_time": "2023-02-21T12:41:55.930Z"
   },
   {
    "duration": 95,
    "start_time": "2023-02-21T12:41:55.959Z"
   },
   {
    "duration": 185,
    "start_time": "2023-02-21T12:41:56.059Z"
   },
   {
    "duration": 11,
    "start_time": "2023-02-21T12:41:56.251Z"
   },
   {
    "duration": 194,
    "start_time": "2023-02-21T12:41:56.263Z"
   },
   {
    "duration": 20,
    "start_time": "2023-02-21T12:41:56.459Z"
   },
   {
    "duration": 6,
    "start_time": "2023-02-21T12:41:56.481Z"
   },
   {
    "duration": 7,
    "start_time": "2023-02-21T12:41:56.488Z"
   },
   {
    "duration": 1106,
    "start_time": "2023-02-21T12:46:57.106Z"
   },
   {
    "duration": 63,
    "start_time": "2023-02-21T12:46:58.214Z"
   },
   {
    "duration": 16,
    "start_time": "2023-02-21T12:46:58.288Z"
   },
   {
    "duration": 75,
    "start_time": "2023-02-21T12:46:58.307Z"
   },
   {
    "duration": 4,
    "start_time": "2023-02-21T12:46:58.384Z"
   },
   {
    "duration": 21,
    "start_time": "2023-02-21T12:46:58.391Z"
   },
   {
    "duration": 11,
    "start_time": "2023-02-21T12:46:58.414Z"
   },
   {
    "duration": 49,
    "start_time": "2023-02-21T12:46:58.427Z"
   },
   {
    "duration": 182,
    "start_time": "2023-02-21T12:46:58.480Z"
   },
   {
    "duration": 75,
    "start_time": "2023-02-21T12:46:58.665Z"
   },
   {
    "duration": 114,
    "start_time": "2023-02-21T12:46:58.742Z"
   },
   {
    "duration": 80,
    "start_time": "2023-02-21T12:46:58.859Z"
   },
   {
    "duration": 97,
    "start_time": "2023-02-21T12:46:58.943Z"
   },
   {
    "duration": 19,
    "start_time": "2023-02-21T12:46:59.042Z"
   },
   {
    "duration": 7,
    "start_time": "2023-02-21T12:46:59.063Z"
   },
   {
    "duration": 1067,
    "start_time": "2023-02-22T07:52:40.096Z"
   },
   {
    "duration": 99,
    "start_time": "2023-02-22T07:52:41.164Z"
   },
   {
    "duration": 10,
    "start_time": "2023-02-22T07:52:41.264Z"
   },
   {
    "duration": 24,
    "start_time": "2023-02-22T07:52:41.275Z"
   },
   {
    "duration": 4,
    "start_time": "2023-02-22T07:52:41.301Z"
   },
   {
    "duration": 8,
    "start_time": "2023-02-22T07:52:41.307Z"
   },
   {
    "duration": 7,
    "start_time": "2023-02-22T07:52:41.317Z"
   },
   {
    "duration": 76,
    "start_time": "2023-02-22T07:52:41.326Z"
   },
   {
    "duration": 4,
    "start_time": "2023-02-22T07:52:41.404Z"
   },
   {
    "duration": 189,
    "start_time": "2023-02-22T07:52:41.410Z"
   },
   {
    "duration": 98,
    "start_time": "2023-02-22T07:52:41.601Z"
   },
   {
    "duration": 105,
    "start_time": "2023-02-22T07:52:41.701Z"
   },
   {
    "duration": 26,
    "start_time": "2023-02-22T07:52:41.807Z"
   },
   {
    "duration": 7,
    "start_time": "2023-02-22T07:52:41.836Z"
   },
   {
    "duration": 10,
    "start_time": "2023-02-22T07:52:41.844Z"
   }
  ],
  "kernelspec": {
   "display_name": "Python 3 (ipykernel)",
   "language": "python",
   "name": "python3"
  },
  "language_info": {
   "codemirror_mode": {
    "name": "ipython",
    "version": 3
   },
   "file_extension": ".py",
   "mimetype": "text/x-python",
   "name": "python",
   "nbconvert_exporter": "python",
   "pygments_lexer": "ipython3",
   "version": "3.9.16"
  },
  "toc": {
   "base_numbering": 1,
   "nav_menu": {},
   "number_sections": true,
   "sideBar": true,
   "skip_h1_title": true,
   "title_cell": "Содержание",
   "title_sidebar": "Contents",
   "toc_cell": true,
   "toc_position": {
    "height": "calc(100% - 180px)",
    "left": "10px",
    "top": "150px",
    "width": "228.225px"
   },
   "toc_section_display": true,
   "toc_window_display": true
  }
 },
 "nbformat": 4,
 "nbformat_minor": 2
}
