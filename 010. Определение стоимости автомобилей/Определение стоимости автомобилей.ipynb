{
 "cells": [
  {
   "cell_type": "markdown",
   "metadata": {},
   "source": [
    "# Определение стоимости автомобилей"
   ]
  },
  {
   "cell_type": "markdown",
   "metadata": {},
   "source": [
    "Сервис по продаже автомобилей с пробегом «Не бит, не крашен» разрабатывает приложение для привлечения новых клиентов. В нём можно быстро узнать рыночную стоимость своего автомобиля. В вашем распоряжении исторические данные: технические характеристики, комплектации и цены автомобилей. Вам нужно построить модель для определения стоимости. \n",
    "\n",
    "Заказчику важны:\n",
    "\n",
    "- качество предсказания;\n",
    "- скорость предсказания;\n",
    "- время обучения."
   ]
  },
  {
   "cell_type": "markdown",
   "metadata": {},
   "source": [
    "## Подготовка данных"
   ]
  },
  {
   "cell_type": "markdown",
   "metadata": {},
   "source": [
    "### Импорт библиотек, загрузка данных и первичный анализ"
   ]
  },
  {
   "cell_type": "markdown",
   "metadata": {},
   "source": [
    "Для начала импортируем все необходимые библиотеки "
   ]
  },
  {
   "cell_type": "code",
   "execution_count": 1,
   "metadata": {},
   "outputs": [],
   "source": [
    "import pandas as pd\n",
    "import numpy as np\n",
    "import matplotlib.pyplot as plt\n",
    "import seaborn as sns\n",
    "import lightgbm as lgb\n",
    "from catboost import CatBoostRegressor\n",
    "from sklearn.preprocessing import OrdinalEncoder, StandardScaler\n",
    "from sklearn.model_selection import train_test_split, GridSearchCV\n",
    "from sklearn.metrics import mean_squared_error, make_scorer\n",
    "from sklearn.linear_model import LinearRegression\n",
    "from sklearn.ensemble import RandomForestRegressor"
   ]
  },
  {
   "cell_type": "markdown",
   "metadata": {},
   "source": [
    "Сохраним данные в переменную **data**"
   ]
  },
  {
   "cell_type": "code",
   "execution_count": 2,
   "metadata": {},
   "outputs": [
    {
     "data": {
      "text/html": [
       "<div>\n",
       "<style scoped>\n",
       "    .dataframe tbody tr th:only-of-type {\n",
       "        vertical-align: middle;\n",
       "    }\n",
       "\n",
       "    .dataframe tbody tr th {\n",
       "        vertical-align: top;\n",
       "    }\n",
       "\n",
       "    .dataframe thead th {\n",
       "        text-align: right;\n",
       "    }\n",
       "</style>\n",
       "<table border=\"1\" class=\"dataframe\">\n",
       "  <thead>\n",
       "    <tr style=\"text-align: right;\">\n",
       "      <th></th>\n",
       "      <th>DateCrawled</th>\n",
       "      <th>Price</th>\n",
       "      <th>VehicleType</th>\n",
       "      <th>RegistrationYear</th>\n",
       "      <th>Gearbox</th>\n",
       "      <th>Power</th>\n",
       "      <th>Model</th>\n",
       "      <th>Kilometer</th>\n",
       "      <th>RegistrationMonth</th>\n",
       "      <th>FuelType</th>\n",
       "      <th>Brand</th>\n",
       "      <th>Repaired</th>\n",
       "      <th>DateCreated</th>\n",
       "      <th>NumberOfPictures</th>\n",
       "      <th>PostalCode</th>\n",
       "      <th>LastSeen</th>\n",
       "    </tr>\n",
       "  </thead>\n",
       "  <tbody>\n",
       "    <tr>\n",
       "      <th>0</th>\n",
       "      <td>2016-03-24 11:52:17</td>\n",
       "      <td>480</td>\n",
       "      <td>NaN</td>\n",
       "      <td>1993</td>\n",
       "      <td>manual</td>\n",
       "      <td>0</td>\n",
       "      <td>golf</td>\n",
       "      <td>150000</td>\n",
       "      <td>0</td>\n",
       "      <td>petrol</td>\n",
       "      <td>volkswagen</td>\n",
       "      <td>NaN</td>\n",
       "      <td>2016-03-24 00:00:00</td>\n",
       "      <td>0</td>\n",
       "      <td>70435</td>\n",
       "      <td>2016-04-07 03:16:57</td>\n",
       "    </tr>\n",
       "    <tr>\n",
       "      <th>1</th>\n",
       "      <td>2016-03-24 10:58:45</td>\n",
       "      <td>18300</td>\n",
       "      <td>coupe</td>\n",
       "      <td>2011</td>\n",
       "      <td>manual</td>\n",
       "      <td>190</td>\n",
       "      <td>NaN</td>\n",
       "      <td>125000</td>\n",
       "      <td>5</td>\n",
       "      <td>gasoline</td>\n",
       "      <td>audi</td>\n",
       "      <td>yes</td>\n",
       "      <td>2016-03-24 00:00:00</td>\n",
       "      <td>0</td>\n",
       "      <td>66954</td>\n",
       "      <td>2016-04-07 01:46:50</td>\n",
       "    </tr>\n",
       "    <tr>\n",
       "      <th>2</th>\n",
       "      <td>2016-03-14 12:52:21</td>\n",
       "      <td>9800</td>\n",
       "      <td>suv</td>\n",
       "      <td>2004</td>\n",
       "      <td>auto</td>\n",
       "      <td>163</td>\n",
       "      <td>grand</td>\n",
       "      <td>125000</td>\n",
       "      <td>8</td>\n",
       "      <td>gasoline</td>\n",
       "      <td>jeep</td>\n",
       "      <td>NaN</td>\n",
       "      <td>2016-03-14 00:00:00</td>\n",
       "      <td>0</td>\n",
       "      <td>90480</td>\n",
       "      <td>2016-04-05 12:47:46</td>\n",
       "    </tr>\n",
       "    <tr>\n",
       "      <th>3</th>\n",
       "      <td>2016-03-17 16:54:04</td>\n",
       "      <td>1500</td>\n",
       "      <td>small</td>\n",
       "      <td>2001</td>\n",
       "      <td>manual</td>\n",
       "      <td>75</td>\n",
       "      <td>golf</td>\n",
       "      <td>150000</td>\n",
       "      <td>6</td>\n",
       "      <td>petrol</td>\n",
       "      <td>volkswagen</td>\n",
       "      <td>no</td>\n",
       "      <td>2016-03-17 00:00:00</td>\n",
       "      <td>0</td>\n",
       "      <td>91074</td>\n",
       "      <td>2016-03-17 17:40:17</td>\n",
       "    </tr>\n",
       "    <tr>\n",
       "      <th>4</th>\n",
       "      <td>2016-03-31 17:25:20</td>\n",
       "      <td>3600</td>\n",
       "      <td>small</td>\n",
       "      <td>2008</td>\n",
       "      <td>manual</td>\n",
       "      <td>69</td>\n",
       "      <td>fabia</td>\n",
       "      <td>90000</td>\n",
       "      <td>7</td>\n",
       "      <td>gasoline</td>\n",
       "      <td>skoda</td>\n",
       "      <td>no</td>\n",
       "      <td>2016-03-31 00:00:00</td>\n",
       "      <td>0</td>\n",
       "      <td>60437</td>\n",
       "      <td>2016-04-06 10:17:21</td>\n",
       "    </tr>\n",
       "    <tr>\n",
       "      <th>...</th>\n",
       "      <td>...</td>\n",
       "      <td>...</td>\n",
       "      <td>...</td>\n",
       "      <td>...</td>\n",
       "      <td>...</td>\n",
       "      <td>...</td>\n",
       "      <td>...</td>\n",
       "      <td>...</td>\n",
       "      <td>...</td>\n",
       "      <td>...</td>\n",
       "      <td>...</td>\n",
       "      <td>...</td>\n",
       "      <td>...</td>\n",
       "      <td>...</td>\n",
       "      <td>...</td>\n",
       "      <td>...</td>\n",
       "    </tr>\n",
       "    <tr>\n",
       "      <th>354364</th>\n",
       "      <td>2016-03-21 09:50:58</td>\n",
       "      <td>0</td>\n",
       "      <td>NaN</td>\n",
       "      <td>2005</td>\n",
       "      <td>manual</td>\n",
       "      <td>0</td>\n",
       "      <td>colt</td>\n",
       "      <td>150000</td>\n",
       "      <td>7</td>\n",
       "      <td>petrol</td>\n",
       "      <td>mitsubishi</td>\n",
       "      <td>yes</td>\n",
       "      <td>2016-03-21 00:00:00</td>\n",
       "      <td>0</td>\n",
       "      <td>2694</td>\n",
       "      <td>2016-03-21 10:42:49</td>\n",
       "    </tr>\n",
       "    <tr>\n",
       "      <th>354365</th>\n",
       "      <td>2016-03-14 17:48:27</td>\n",
       "      <td>2200</td>\n",
       "      <td>NaN</td>\n",
       "      <td>2005</td>\n",
       "      <td>NaN</td>\n",
       "      <td>0</td>\n",
       "      <td>NaN</td>\n",
       "      <td>20000</td>\n",
       "      <td>1</td>\n",
       "      <td>NaN</td>\n",
       "      <td>sonstige_autos</td>\n",
       "      <td>NaN</td>\n",
       "      <td>2016-03-14 00:00:00</td>\n",
       "      <td>0</td>\n",
       "      <td>39576</td>\n",
       "      <td>2016-04-06 00:46:52</td>\n",
       "    </tr>\n",
       "    <tr>\n",
       "      <th>354366</th>\n",
       "      <td>2016-03-05 19:56:21</td>\n",
       "      <td>1199</td>\n",
       "      <td>convertible</td>\n",
       "      <td>2000</td>\n",
       "      <td>auto</td>\n",
       "      <td>101</td>\n",
       "      <td>fortwo</td>\n",
       "      <td>125000</td>\n",
       "      <td>3</td>\n",
       "      <td>petrol</td>\n",
       "      <td>smart</td>\n",
       "      <td>no</td>\n",
       "      <td>2016-03-05 00:00:00</td>\n",
       "      <td>0</td>\n",
       "      <td>26135</td>\n",
       "      <td>2016-03-11 18:17:12</td>\n",
       "    </tr>\n",
       "    <tr>\n",
       "      <th>354367</th>\n",
       "      <td>2016-03-19 18:57:12</td>\n",
       "      <td>9200</td>\n",
       "      <td>bus</td>\n",
       "      <td>1996</td>\n",
       "      <td>manual</td>\n",
       "      <td>102</td>\n",
       "      <td>transporter</td>\n",
       "      <td>150000</td>\n",
       "      <td>3</td>\n",
       "      <td>gasoline</td>\n",
       "      <td>volkswagen</td>\n",
       "      <td>no</td>\n",
       "      <td>2016-03-19 00:00:00</td>\n",
       "      <td>0</td>\n",
       "      <td>87439</td>\n",
       "      <td>2016-04-07 07:15:26</td>\n",
       "    </tr>\n",
       "    <tr>\n",
       "      <th>354368</th>\n",
       "      <td>2016-03-20 19:41:08</td>\n",
       "      <td>3400</td>\n",
       "      <td>wagon</td>\n",
       "      <td>2002</td>\n",
       "      <td>manual</td>\n",
       "      <td>100</td>\n",
       "      <td>golf</td>\n",
       "      <td>150000</td>\n",
       "      <td>6</td>\n",
       "      <td>gasoline</td>\n",
       "      <td>volkswagen</td>\n",
       "      <td>NaN</td>\n",
       "      <td>2016-03-20 00:00:00</td>\n",
       "      <td>0</td>\n",
       "      <td>40764</td>\n",
       "      <td>2016-03-24 12:45:21</td>\n",
       "    </tr>\n",
       "  </tbody>\n",
       "</table>\n",
       "<p>354369 rows × 16 columns</p>\n",
       "</div>"
      ],
      "text/plain": [
       "                DateCrawled  Price  VehicleType  RegistrationYear Gearbox  \\\n",
       "0       2016-03-24 11:52:17    480          NaN              1993  manual   \n",
       "1       2016-03-24 10:58:45  18300        coupe              2011  manual   \n",
       "2       2016-03-14 12:52:21   9800          suv              2004    auto   \n",
       "3       2016-03-17 16:54:04   1500        small              2001  manual   \n",
       "4       2016-03-31 17:25:20   3600        small              2008  manual   \n",
       "...                     ...    ...          ...               ...     ...   \n",
       "354364  2016-03-21 09:50:58      0          NaN              2005  manual   \n",
       "354365  2016-03-14 17:48:27   2200          NaN              2005     NaN   \n",
       "354366  2016-03-05 19:56:21   1199  convertible              2000    auto   \n",
       "354367  2016-03-19 18:57:12   9200          bus              1996  manual   \n",
       "354368  2016-03-20 19:41:08   3400        wagon              2002  manual   \n",
       "\n",
       "        Power        Model  Kilometer  RegistrationMonth  FuelType  \\\n",
       "0           0         golf     150000                  0    petrol   \n",
       "1         190          NaN     125000                  5  gasoline   \n",
       "2         163        grand     125000                  8  gasoline   \n",
       "3          75         golf     150000                  6    petrol   \n",
       "4          69        fabia      90000                  7  gasoline   \n",
       "...       ...          ...        ...                ...       ...   \n",
       "354364      0         colt     150000                  7    petrol   \n",
       "354365      0          NaN      20000                  1       NaN   \n",
       "354366    101       fortwo     125000                  3    petrol   \n",
       "354367    102  transporter     150000                  3  gasoline   \n",
       "354368    100         golf     150000                  6  gasoline   \n",
       "\n",
       "                 Brand Repaired          DateCreated  NumberOfPictures  \\\n",
       "0           volkswagen      NaN  2016-03-24 00:00:00                 0   \n",
       "1                 audi      yes  2016-03-24 00:00:00                 0   \n",
       "2                 jeep      NaN  2016-03-14 00:00:00                 0   \n",
       "3           volkswagen       no  2016-03-17 00:00:00                 0   \n",
       "4                skoda       no  2016-03-31 00:00:00                 0   \n",
       "...                ...      ...                  ...               ...   \n",
       "354364      mitsubishi      yes  2016-03-21 00:00:00                 0   \n",
       "354365  sonstige_autos      NaN  2016-03-14 00:00:00                 0   \n",
       "354366           smart       no  2016-03-05 00:00:00                 0   \n",
       "354367      volkswagen       no  2016-03-19 00:00:00                 0   \n",
       "354368      volkswagen      NaN  2016-03-20 00:00:00                 0   \n",
       "\n",
       "        PostalCode             LastSeen  \n",
       "0            70435  2016-04-07 03:16:57  \n",
       "1            66954  2016-04-07 01:46:50  \n",
       "2            90480  2016-04-05 12:47:46  \n",
       "3            91074  2016-03-17 17:40:17  \n",
       "4            60437  2016-04-06 10:17:21  \n",
       "...            ...                  ...  \n",
       "354364        2694  2016-03-21 10:42:49  \n",
       "354365       39576  2016-04-06 00:46:52  \n",
       "354366       26135  2016-03-11 18:17:12  \n",
       "354367       87439  2016-04-07 07:15:26  \n",
       "354368       40764  2016-03-24 12:45:21  \n",
       "\n",
       "[354369 rows x 16 columns]"
      ]
     },
     "execution_count": 2,
     "metadata": {},
     "output_type": "execute_result"
    }
   ],
   "source": [
    "data = pd.read_csv('/datasets/autos.csv')\n",
    "data"
   ]
  },
  {
   "cell_type": "code",
   "execution_count": 3,
   "metadata": {},
   "outputs": [
    {
     "name": "stdout",
     "output_type": "stream",
     "text": [
      "<class 'pandas.core.frame.DataFrame'>\n",
      "RangeIndex: 354369 entries, 0 to 354368\n",
      "Data columns (total 16 columns):\n",
      " #   Column             Non-Null Count   Dtype \n",
      "---  ------             --------------   ----- \n",
      " 0   DateCrawled        354369 non-null  object\n",
      " 1   Price              354369 non-null  int64 \n",
      " 2   VehicleType        316879 non-null  object\n",
      " 3   RegistrationYear   354369 non-null  int64 \n",
      " 4   Gearbox            334536 non-null  object\n",
      " 5   Power              354369 non-null  int64 \n",
      " 6   Model              334664 non-null  object\n",
      " 7   Kilometer          354369 non-null  int64 \n",
      " 8   RegistrationMonth  354369 non-null  int64 \n",
      " 9   FuelType           321474 non-null  object\n",
      " 10  Brand              354369 non-null  object\n",
      " 11  Repaired           283215 non-null  object\n",
      " 12  DateCreated        354369 non-null  object\n",
      " 13  NumberOfPictures   354369 non-null  int64 \n",
      " 14  PostalCode         354369 non-null  int64 \n",
      " 15  LastSeen           354369 non-null  object\n",
      "dtypes: int64(7), object(9)\n",
      "memory usage: 43.3+ MB\n"
     ]
    }
   ],
   "source": [
    "data.info()"
   ]
  },
  {
   "cell_type": "markdown",
   "metadata": {},
   "source": [
    "в данных достаточно много пропусков. Тип данных некоторых столбцов не соответствует содержимому"
   ]
  },
  {
   "cell_type": "code",
   "execution_count": 4,
   "metadata": {},
   "outputs": [
    {
     "data": {
      "text/html": [
       "<div>\n",
       "<style scoped>\n",
       "    .dataframe tbody tr th:only-of-type {\n",
       "        vertical-align: middle;\n",
       "    }\n",
       "\n",
       "    .dataframe tbody tr th {\n",
       "        vertical-align: top;\n",
       "    }\n",
       "\n",
       "    .dataframe thead th {\n",
       "        text-align: right;\n",
       "    }\n",
       "</style>\n",
       "<table border=\"1\" class=\"dataframe\">\n",
       "  <thead>\n",
       "    <tr style=\"text-align: right;\">\n",
       "      <th></th>\n",
       "      <th>Price</th>\n",
       "      <th>RegistrationYear</th>\n",
       "      <th>Power</th>\n",
       "      <th>Kilometer</th>\n",
       "      <th>RegistrationMonth</th>\n",
       "      <th>NumberOfPictures</th>\n",
       "      <th>PostalCode</th>\n",
       "    </tr>\n",
       "  </thead>\n",
       "  <tbody>\n",
       "    <tr>\n",
       "      <th>count</th>\n",
       "      <td>354369.000000</td>\n",
       "      <td>354369.000000</td>\n",
       "      <td>354369.000000</td>\n",
       "      <td>354369.000000</td>\n",
       "      <td>354369.000000</td>\n",
       "      <td>354369.0</td>\n",
       "      <td>354369.000000</td>\n",
       "    </tr>\n",
       "    <tr>\n",
       "      <th>mean</th>\n",
       "      <td>4416.656776</td>\n",
       "      <td>2004.234448</td>\n",
       "      <td>110.094337</td>\n",
       "      <td>128211.172535</td>\n",
       "      <td>5.714645</td>\n",
       "      <td>0.0</td>\n",
       "      <td>50508.689087</td>\n",
       "    </tr>\n",
       "    <tr>\n",
       "      <th>std</th>\n",
       "      <td>4514.158514</td>\n",
       "      <td>90.227958</td>\n",
       "      <td>189.850405</td>\n",
       "      <td>37905.341530</td>\n",
       "      <td>3.726421</td>\n",
       "      <td>0.0</td>\n",
       "      <td>25783.096248</td>\n",
       "    </tr>\n",
       "    <tr>\n",
       "      <th>min</th>\n",
       "      <td>0.000000</td>\n",
       "      <td>1000.000000</td>\n",
       "      <td>0.000000</td>\n",
       "      <td>5000.000000</td>\n",
       "      <td>0.000000</td>\n",
       "      <td>0.0</td>\n",
       "      <td>1067.000000</td>\n",
       "    </tr>\n",
       "    <tr>\n",
       "      <th>25%</th>\n",
       "      <td>1050.000000</td>\n",
       "      <td>1999.000000</td>\n",
       "      <td>69.000000</td>\n",
       "      <td>125000.000000</td>\n",
       "      <td>3.000000</td>\n",
       "      <td>0.0</td>\n",
       "      <td>30165.000000</td>\n",
       "    </tr>\n",
       "    <tr>\n",
       "      <th>50%</th>\n",
       "      <td>2700.000000</td>\n",
       "      <td>2003.000000</td>\n",
       "      <td>105.000000</td>\n",
       "      <td>150000.000000</td>\n",
       "      <td>6.000000</td>\n",
       "      <td>0.0</td>\n",
       "      <td>49413.000000</td>\n",
       "    </tr>\n",
       "    <tr>\n",
       "      <th>75%</th>\n",
       "      <td>6400.000000</td>\n",
       "      <td>2008.000000</td>\n",
       "      <td>143.000000</td>\n",
       "      <td>150000.000000</td>\n",
       "      <td>9.000000</td>\n",
       "      <td>0.0</td>\n",
       "      <td>71083.000000</td>\n",
       "    </tr>\n",
       "    <tr>\n",
       "      <th>max</th>\n",
       "      <td>20000.000000</td>\n",
       "      <td>9999.000000</td>\n",
       "      <td>20000.000000</td>\n",
       "      <td>150000.000000</td>\n",
       "      <td>12.000000</td>\n",
       "      <td>0.0</td>\n",
       "      <td>99998.000000</td>\n",
       "    </tr>\n",
       "  </tbody>\n",
       "</table>\n",
       "</div>"
      ],
      "text/plain": [
       "               Price  RegistrationYear          Power      Kilometer  \\\n",
       "count  354369.000000     354369.000000  354369.000000  354369.000000   \n",
       "mean     4416.656776       2004.234448     110.094337  128211.172535   \n",
       "std      4514.158514         90.227958     189.850405   37905.341530   \n",
       "min         0.000000       1000.000000       0.000000    5000.000000   \n",
       "25%      1050.000000       1999.000000      69.000000  125000.000000   \n",
       "50%      2700.000000       2003.000000     105.000000  150000.000000   \n",
       "75%      6400.000000       2008.000000     143.000000  150000.000000   \n",
       "max     20000.000000       9999.000000   20000.000000  150000.000000   \n",
       "\n",
       "       RegistrationMonth  NumberOfPictures     PostalCode  \n",
       "count      354369.000000          354369.0  354369.000000  \n",
       "mean            5.714645               0.0   50508.689087  \n",
       "std             3.726421               0.0   25783.096248  \n",
       "min             0.000000               0.0    1067.000000  \n",
       "25%             3.000000               0.0   30165.000000  \n",
       "50%             6.000000               0.0   49413.000000  \n",
       "75%             9.000000               0.0   71083.000000  \n",
       "max            12.000000               0.0   99998.000000  "
      ]
     },
     "execution_count": 4,
     "metadata": {},
     "output_type": "execute_result"
    }
   ],
   "source": [
    "data.describe()"
   ]
  },
  {
   "cell_type": "markdown",
   "metadata": {},
   "source": [
    "В данных так же присутствуют аномальные значения такие как:\n",
    "- Цена автомобиля 0 евро\n",
    "- Год регистрации автомобиля 1000 и 9999\n",
    "- Мощность (в л.с.) 0 и 20000"
   ]
  },
  {
   "cell_type": "markdown",
   "metadata": {},
   "source": [
    "### Пропуски и выбросы "
   ]
  },
  {
   "cell_type": "code",
   "execution_count": 5,
   "metadata": {},
   "outputs": [
    {
     "data": {
      "text/plain": [
       "DateCrawled              0\n",
       "Price                    0\n",
       "VehicleType          37490\n",
       "RegistrationYear         0\n",
       "Gearbox              19833\n",
       "Power                    0\n",
       "Model                19705\n",
       "Kilometer                0\n",
       "RegistrationMonth        0\n",
       "FuelType             32895\n",
       "Brand                    0\n",
       "Repaired             71154\n",
       "DateCreated              0\n",
       "NumberOfPictures         0\n",
       "PostalCode               0\n",
       "LastSeen                 0\n",
       "dtype: int64"
      ]
     },
     "execution_count": 5,
     "metadata": {},
     "output_type": "execute_result"
    }
   ],
   "source": [
    "data.isna().sum()"
   ]
  },
  {
   "cell_type": "markdown",
   "metadata": {},
   "source": [
    "Достаточно много пропусков в колонках которые содержат важные данные для определения стоимости автомобиля"
   ]
  },
  {
   "cell_type": "markdown",
   "metadata": {},
   "source": [
    "Перед тем как решить что делать с пропусками нужно избавиться от бесполезных для предсказания стоимости авто признаков"
   ]
  },
  {
   "cell_type": "markdown",
   "metadata": {},
   "source": [
    "Для этого проверим корреляцию в данных между числовыми значениями и целевым признаком "
   ]
  },
  {
   "cell_type": "code",
   "execution_count": 6,
   "metadata": {},
   "outputs": [
    {
     "data": {
      "text/html": [
       "<div>\n",
       "<style scoped>\n",
       "    .dataframe tbody tr th:only-of-type {\n",
       "        vertical-align: middle;\n",
       "    }\n",
       "\n",
       "    .dataframe tbody tr th {\n",
       "        vertical-align: top;\n",
       "    }\n",
       "\n",
       "    .dataframe thead th {\n",
       "        text-align: right;\n",
       "    }\n",
       "</style>\n",
       "<table border=\"1\" class=\"dataframe\">\n",
       "  <thead>\n",
       "    <tr style=\"text-align: right;\">\n",
       "      <th></th>\n",
       "      <th>Price</th>\n",
       "      <th>RegistrationYear</th>\n",
       "      <th>Power</th>\n",
       "      <th>Kilometer</th>\n",
       "      <th>RegistrationMonth</th>\n",
       "      <th>NumberOfPictures</th>\n",
       "      <th>PostalCode</th>\n",
       "    </tr>\n",
       "  </thead>\n",
       "  <tbody>\n",
       "    <tr>\n",
       "      <th>Price</th>\n",
       "      <td>1.000000</td>\n",
       "      <td>0.026916</td>\n",
       "      <td>0.158872</td>\n",
       "      <td>-0.333199</td>\n",
       "      <td>0.110581</td>\n",
       "      <td>NaN</td>\n",
       "      <td>0.076055</td>\n",
       "    </tr>\n",
       "    <tr>\n",
       "      <th>RegistrationYear</th>\n",
       "      <td>0.026916</td>\n",
       "      <td>1.000000</td>\n",
       "      <td>-0.000828</td>\n",
       "      <td>-0.053447</td>\n",
       "      <td>-0.011619</td>\n",
       "      <td>NaN</td>\n",
       "      <td>-0.003459</td>\n",
       "    </tr>\n",
       "    <tr>\n",
       "      <th>Power</th>\n",
       "      <td>0.158872</td>\n",
       "      <td>-0.000828</td>\n",
       "      <td>1.000000</td>\n",
       "      <td>0.024002</td>\n",
       "      <td>0.043380</td>\n",
       "      <td>NaN</td>\n",
       "      <td>0.021665</td>\n",
       "    </tr>\n",
       "    <tr>\n",
       "      <th>Kilometer</th>\n",
       "      <td>-0.333199</td>\n",
       "      <td>-0.053447</td>\n",
       "      <td>0.024002</td>\n",
       "      <td>1.000000</td>\n",
       "      <td>0.009571</td>\n",
       "      <td>NaN</td>\n",
       "      <td>-0.007698</td>\n",
       "    </tr>\n",
       "    <tr>\n",
       "      <th>RegistrationMonth</th>\n",
       "      <td>0.110581</td>\n",
       "      <td>-0.011619</td>\n",
       "      <td>0.043380</td>\n",
       "      <td>0.009571</td>\n",
       "      <td>1.000000</td>\n",
       "      <td>NaN</td>\n",
       "      <td>0.013995</td>\n",
       "    </tr>\n",
       "    <tr>\n",
       "      <th>NumberOfPictures</th>\n",
       "      <td>NaN</td>\n",
       "      <td>NaN</td>\n",
       "      <td>NaN</td>\n",
       "      <td>NaN</td>\n",
       "      <td>NaN</td>\n",
       "      <td>NaN</td>\n",
       "      <td>NaN</td>\n",
       "    </tr>\n",
       "    <tr>\n",
       "      <th>PostalCode</th>\n",
       "      <td>0.076055</td>\n",
       "      <td>-0.003459</td>\n",
       "      <td>0.021665</td>\n",
       "      <td>-0.007698</td>\n",
       "      <td>0.013995</td>\n",
       "      <td>NaN</td>\n",
       "      <td>1.000000</td>\n",
       "    </tr>\n",
       "  </tbody>\n",
       "</table>\n",
       "</div>"
      ],
      "text/plain": [
       "                      Price  RegistrationYear     Power  Kilometer  \\\n",
       "Price              1.000000          0.026916  0.158872  -0.333199   \n",
       "RegistrationYear   0.026916          1.000000 -0.000828  -0.053447   \n",
       "Power              0.158872         -0.000828  1.000000   0.024002   \n",
       "Kilometer         -0.333199         -0.053447  0.024002   1.000000   \n",
       "RegistrationMonth  0.110581         -0.011619  0.043380   0.009571   \n",
       "NumberOfPictures        NaN               NaN       NaN        NaN   \n",
       "PostalCode         0.076055         -0.003459  0.021665  -0.007698   \n",
       "\n",
       "                   RegistrationMonth  NumberOfPictures  PostalCode  \n",
       "Price                       0.110581               NaN    0.076055  \n",
       "RegistrationYear           -0.011619               NaN   -0.003459  \n",
       "Power                       0.043380               NaN    0.021665  \n",
       "Kilometer                   0.009571               NaN   -0.007698  \n",
       "RegistrationMonth           1.000000               NaN    0.013995  \n",
       "NumberOfPictures                 NaN               NaN         NaN  \n",
       "PostalCode                  0.013995               NaN    1.000000  "
      ]
     },
     "execution_count": 6,
     "metadata": {},
     "output_type": "execute_result"
    }
   ],
   "source": [
    "data.corr()"
   ]
  },
  {
   "cell_type": "markdown",
   "metadata": {},
   "source": [
    "Очень странным кажется низкая корреляция между целевым признаком **Price** и годом регистрации  **RegistrationYear**. Год автомобиля должен влиять на его конечную стоимость. Оставим эту колонку."
   ]
  },
  {
   "cell_type": "markdown",
   "metadata": {},
   "source": [
    "Удалим колонки:\n",
    "- DateCreated (дата создания анкеты)\n",
    "- DateCrawled (дата скачивания анкеты из базы)\n",
    "- NumberOfPictures (количество фотографий автомобиля)\n",
    "- PostalCode (почтовый индекс владельца анкеты)\n",
    "- LastSeen (дата последней активности пользователя)\n",
    "- RegistrationMonth (месяц регистрации автомобиля)\n",
    "\n",
    "Эти признаки никак не помогут предсказать стоимость автомобиля"
   ]
  },
  {
   "cell_type": "code",
   "execution_count": 7,
   "metadata": {},
   "outputs": [],
   "source": [
    "data = data.drop(['DateCreated', 'DateCrawled', 'NumberOfPictures', 'PostalCode', 'LastSeen', 'RegistrationMonth'], axis=1)"
   ]
  },
  {
   "cell_type": "markdown",
   "metadata": {},
   "source": [
    "Так же избавимся от аномальных значений выявленных при первичном анализе"
   ]
  },
  {
   "cell_type": "markdown",
   "metadata": {},
   "source": [
    "Возьмем порог минимальной стоимости автомобиля в 50 евро.\n",
    "\n",
    "Мощность от 5 до 500 л.с.\n",
    "\n",
    "Год регистрации (исходя из колонки LastSeen, которая не привышает 2016 год) возьмем от 1910 до 2017"
   ]
  },
  {
   "cell_type": "code",
   "execution_count": 8,
   "metadata": {},
   "outputs": [],
   "source": [
    "data = data[data['Price'] > 50]\n",
    "data = data[data['Power'] > 5]\n",
    "data = data[data['Power'] < 500]\n",
    "data = data[data['RegistrationYear'] < 2018]\n",
    "data = data[data['RegistrationYear'] > 1910]"
   ]
  },
  {
   "cell_type": "markdown",
   "metadata": {},
   "source": [
    " Посмотрим на распределение данных в этих столбцах после очистки от аномальных значений"
   ]
  },
  {
   "cell_type": "code",
   "execution_count": 9,
   "metadata": {},
   "outputs": [
    {
     "data": {
      "text/plain": [
       "<AxesSubplot:xlabel='Price', ylabel='Count'>"
      ]
     },
     "execution_count": 9,
     "metadata": {},
     "output_type": "execute_result"
    },
    {
     "data": {
      "image/png": "[encoded data removed]",
      "text/plain": [
       "<Figure size 432x288 with 1 Axes>"
      ]
     },
     "metadata": {
      "needs_background": "light"
     },
     "output_type": "display_data"
    }
   ],
   "source": [
    "sns.histplot(data=data['Price'], bins=20)"
   ]
  },
  {
   "cell_type": "code",
   "execution_count": 10,
   "metadata": {},
   "outputs": [
    {
     "data": {
      "text/plain": [
       "<AxesSubplot:xlabel='Power', ylabel='Count'>"
      ]
     },
     "execution_count": 10,
     "metadata": {},
     "output_type": "execute_result"
    },
    {
     "data": {
      "image/png": "[encoded data removed]",
      "text/plain": [
       "<Figure size 432x288 with 1 Axes>"
      ]
     },
     "metadata": {
      "needs_background": "light"
     },
     "output_type": "display_data"
    }
   ],
   "source": [
    "sns.histplot(data=data['Power'], bins=20)"
   ]
  },
  {
   "cell_type": "code",
   "execution_count": 11,
   "metadata": {},
   "outputs": [
    {
     "data": {
      "text/plain": [
       "<AxesSubplot:xlabel='RegistrationYear', ylabel='Count'>"
      ]
     },
     "execution_count": 11,
     "metadata": {},
     "output_type": "execute_result"
    },
    {
     "data": {
      "image/png": "[encoded data removed]",
      "text/plain": [
       "<Figure size 432x288 with 1 Axes>"
      ]
     },
     "metadata": {
      "needs_background": "light"
     },
     "output_type": "display_data"
    }
   ],
   "source": [
    "sns.histplot(data=data['RegistrationYear'], bins=20)"
   ]
  },
  {
   "cell_type": "markdown",
   "metadata": {},
   "source": [
    "Распределение кажется адекватным. Те редкие значения по году регистрации могут быть раритетные старые автомобили, а мощность до 500 л.с. редкие авто с мощными двигателями."
   ]
  },
  {
   "cell_type": "markdown",
   "metadata": {},
   "source": [
    "Взглянем на пропуски еще раз"
   ]
  },
  {
   "cell_type": "code",
   "execution_count": 12,
   "metadata": {},
   "outputs": [
    {
     "data": {
      "text/plain": [
       "Price                   0\n",
       "VehicleType         18186\n",
       "RegistrationYear        0\n",
       "Gearbox              5765\n",
       "Power                   0\n",
       "Model               11829\n",
       "Kilometer               0\n",
       "FuelType            18282\n",
       "Brand                   0\n",
       "Repaired            45576\n",
       "dtype: int64"
      ]
     },
     "execution_count": 12,
     "metadata": {},
     "output_type": "execute_result"
    }
   ],
   "source": [
    "data.isna().sum()"
   ]
  },
  {
   "cell_type": "markdown",
   "metadata": {},
   "source": [
    "Не представляется возможным восстановить данные по модели автомобиля. Удалим пропуски в этом столбце"
   ]
  },
  {
   "cell_type": "code",
   "execution_count": 13,
   "metadata": {},
   "outputs": [],
   "source": [
    "data = data.dropna(subset=['Model']).reset_index(drop=True)"
   ]
  },
  {
   "cell_type": "code",
   "execution_count": 14,
   "metadata": {},
   "outputs": [
    {
     "data": {
      "text/plain": [
       "Price                   0\n",
       "VehicleType         15763\n",
       "RegistrationYear        0\n",
       "Gearbox              5026\n",
       "Power                   0\n",
       "Model                   0\n",
       "Kilometer               0\n",
       "FuelType            15186\n",
       "Brand                   0\n",
       "Repaired            41548\n",
       "dtype: int64"
      ]
     },
     "execution_count": 14,
     "metadata": {},
     "output_type": "execute_result"
    }
   ],
   "source": [
    "data.isna().sum()"
   ]
  },
  {
   "cell_type": "markdown",
   "metadata": {},
   "source": [
    "Пропуски в колонках **'Gearbox'**, **'VehicleType'** и **'FuelType'** можно заполнить самым популярным значением по Модели автомобиля"
   ]
  },
  {
   "cell_type": "code",
   "execution_count": 15,
   "metadata": {},
   "outputs": [],
   "source": [
    "data['Gearbox'] = data.groupby('Model')['Gearbox'].transform(lambda x: x.fillna(x.mode()[0]))\n",
    "data['VehicleType'] = data.groupby('Model')['VehicleType'].transform(lambda x: x.fillna(x.mode()[0]))\n",
    "data['FuelType'] = data.groupby('Model')['FuelType'].transform(lambda x: x.fillna(x.mode()[0]))"
   ]
  },
  {
   "cell_type": "markdown",
   "metadata": {},
   "source": [
    "Пропуски в столбце **'Repaired'** можно заполнить как **'unknown'** т.к. нельзя узнать из имеющихся данных была ли машина в ремонте или нет"
   ]
  },
  {
   "cell_type": "code",
   "execution_count": 16,
   "metadata": {},
   "outputs": [],
   "source": [
    "data['Repaired'] = data['Repaired'].fillna('unknown')"
   ]
  },
  {
   "cell_type": "code",
   "execution_count": 17,
   "metadata": {},
   "outputs": [
    {
     "data": {
      "text/plain": [
       "Price               0\n",
       "VehicleType         0\n",
       "RegistrationYear    0\n",
       "Gearbox             0\n",
       "Power               0\n",
       "Model               0\n",
       "Kilometer           0\n",
       "FuelType            0\n",
       "Brand               0\n",
       "Repaired            0\n",
       "dtype: int64"
      ]
     },
     "execution_count": 17,
     "metadata": {},
     "output_type": "execute_result"
    }
   ],
   "source": [
    "data.isna().sum()"
   ]
  },
  {
   "cell_type": "markdown",
   "metadata": {},
   "source": [
    "Пропуски заполнены сохраним данные в переменную **final_data**"
   ]
  },
  {
   "cell_type": "code",
   "execution_count": 18,
   "metadata": {},
   "outputs": [
    {
     "data": {
      "text/html": [
       "<div>\n",
       "<style scoped>\n",
       "    .dataframe tbody tr th:only-of-type {\n",
       "        vertical-align: middle;\n",
       "    }\n",
       "\n",
       "    .dataframe tbody tr th {\n",
       "        vertical-align: top;\n",
       "    }\n",
       "\n",
       "    .dataframe thead th {\n",
       "        text-align: right;\n",
       "    }\n",
       "</style>\n",
       "<table border=\"1\" class=\"dataframe\">\n",
       "  <thead>\n",
       "    <tr style=\"text-align: right;\">\n",
       "      <th></th>\n",
       "      <th>Price</th>\n",
       "      <th>VehicleType</th>\n",
       "      <th>RegistrationYear</th>\n",
       "      <th>Gearbox</th>\n",
       "      <th>Power</th>\n",
       "      <th>Model</th>\n",
       "      <th>Kilometer</th>\n",
       "      <th>FuelType</th>\n",
       "      <th>Brand</th>\n",
       "      <th>Repaired</th>\n",
       "    </tr>\n",
       "  </thead>\n",
       "  <tbody>\n",
       "    <tr>\n",
       "      <th>0</th>\n",
       "      <td>9800</td>\n",
       "      <td>suv</td>\n",
       "      <td>2004</td>\n",
       "      <td>auto</td>\n",
       "      <td>163</td>\n",
       "      <td>grand</td>\n",
       "      <td>125000</td>\n",
       "      <td>gasoline</td>\n",
       "      <td>jeep</td>\n",
       "      <td>unknown</td>\n",
       "    </tr>\n",
       "    <tr>\n",
       "      <th>1</th>\n",
       "      <td>1500</td>\n",
       "      <td>small</td>\n",
       "      <td>2001</td>\n",
       "      <td>manual</td>\n",
       "      <td>75</td>\n",
       "      <td>golf</td>\n",
       "      <td>150000</td>\n",
       "      <td>petrol</td>\n",
       "      <td>volkswagen</td>\n",
       "      <td>no</td>\n",
       "    </tr>\n",
       "    <tr>\n",
       "      <th>2</th>\n",
       "      <td>3600</td>\n",
       "      <td>small</td>\n",
       "      <td>2008</td>\n",
       "      <td>manual</td>\n",
       "      <td>69</td>\n",
       "      <td>fabia</td>\n",
       "      <td>90000</td>\n",
       "      <td>gasoline</td>\n",
       "      <td>skoda</td>\n",
       "      <td>no</td>\n",
       "    </tr>\n",
       "    <tr>\n",
       "      <th>3</th>\n",
       "      <td>650</td>\n",
       "      <td>sedan</td>\n",
       "      <td>1995</td>\n",
       "      <td>manual</td>\n",
       "      <td>102</td>\n",
       "      <td>3er</td>\n",
       "      <td>150000</td>\n",
       "      <td>petrol</td>\n",
       "      <td>bmw</td>\n",
       "      <td>yes</td>\n",
       "    </tr>\n",
       "    <tr>\n",
       "      <th>4</th>\n",
       "      <td>2200</td>\n",
       "      <td>convertible</td>\n",
       "      <td>2004</td>\n",
       "      <td>manual</td>\n",
       "      <td>109</td>\n",
       "      <td>2_reihe</td>\n",
       "      <td>150000</td>\n",
       "      <td>petrol</td>\n",
       "      <td>peugeot</td>\n",
       "      <td>no</td>\n",
       "    </tr>\n",
       "    <tr>\n",
       "      <th>...</th>\n",
       "      <td>...</td>\n",
       "      <td>...</td>\n",
       "      <td>...</td>\n",
       "      <td>...</td>\n",
       "      <td>...</td>\n",
       "      <td>...</td>\n",
       "      <td>...</td>\n",
       "      <td>...</td>\n",
       "      <td>...</td>\n",
       "      <td>...</td>\n",
       "    </tr>\n",
       "    <tr>\n",
       "      <th>290896</th>\n",
       "      <td>5250</td>\n",
       "      <td>wagon</td>\n",
       "      <td>2016</td>\n",
       "      <td>auto</td>\n",
       "      <td>150</td>\n",
       "      <td>159</td>\n",
       "      <td>150000</td>\n",
       "      <td>gasoline</td>\n",
       "      <td>alfa_romeo</td>\n",
       "      <td>no</td>\n",
       "    </tr>\n",
       "    <tr>\n",
       "      <th>290897</th>\n",
       "      <td>3200</td>\n",
       "      <td>sedan</td>\n",
       "      <td>2004</td>\n",
       "      <td>manual</td>\n",
       "      <td>225</td>\n",
       "      <td>leon</td>\n",
       "      <td>150000</td>\n",
       "      <td>petrol</td>\n",
       "      <td>seat</td>\n",
       "      <td>yes</td>\n",
       "    </tr>\n",
       "    <tr>\n",
       "      <th>290898</th>\n",
       "      <td>1199</td>\n",
       "      <td>convertible</td>\n",
       "      <td>2000</td>\n",
       "      <td>auto</td>\n",
       "      <td>101</td>\n",
       "      <td>fortwo</td>\n",
       "      <td>125000</td>\n",
       "      <td>petrol</td>\n",
       "      <td>smart</td>\n",
       "      <td>no</td>\n",
       "    </tr>\n",
       "    <tr>\n",
       "      <th>290899</th>\n",
       "      <td>9200</td>\n",
       "      <td>bus</td>\n",
       "      <td>1996</td>\n",
       "      <td>manual</td>\n",
       "      <td>102</td>\n",
       "      <td>transporter</td>\n",
       "      <td>150000</td>\n",
       "      <td>gasoline</td>\n",
       "      <td>volkswagen</td>\n",
       "      <td>no</td>\n",
       "    </tr>\n",
       "    <tr>\n",
       "      <th>290900</th>\n",
       "      <td>3400</td>\n",
       "      <td>wagon</td>\n",
       "      <td>2002</td>\n",
       "      <td>manual</td>\n",
       "      <td>100</td>\n",
       "      <td>golf</td>\n",
       "      <td>150000</td>\n",
       "      <td>gasoline</td>\n",
       "      <td>volkswagen</td>\n",
       "      <td>unknown</td>\n",
       "    </tr>\n",
       "  </tbody>\n",
       "</table>\n",
       "<p>290901 rows × 10 columns</p>\n",
       "</div>"
      ],
      "text/plain": [
       "        Price  VehicleType  RegistrationYear Gearbox  Power        Model  \\\n",
       "0        9800          suv              2004    auto    163        grand   \n",
       "1        1500        small              2001  manual     75         golf   \n",
       "2        3600        small              2008  manual     69        fabia   \n",
       "3         650        sedan              1995  manual    102          3er   \n",
       "4        2200  convertible              2004  manual    109      2_reihe   \n",
       "...       ...          ...               ...     ...    ...          ...   \n",
       "290896   5250        wagon              2016    auto    150          159   \n",
       "290897   3200        sedan              2004  manual    225         leon   \n",
       "290898   1199  convertible              2000    auto    101       fortwo   \n",
       "290899   9200          bus              1996  manual    102  transporter   \n",
       "290900   3400        wagon              2002  manual    100         golf   \n",
       "\n",
       "        Kilometer  FuelType       Brand Repaired  \n",
       "0          125000  gasoline        jeep  unknown  \n",
       "1          150000    petrol  volkswagen       no  \n",
       "2           90000  gasoline       skoda       no  \n",
       "3          150000    petrol         bmw      yes  \n",
       "4          150000    petrol     peugeot       no  \n",
       "...           ...       ...         ...      ...  \n",
       "290896     150000  gasoline  alfa_romeo       no  \n",
       "290897     150000    petrol        seat      yes  \n",
       "290898     125000    petrol       smart       no  \n",
       "290899     150000  gasoline  volkswagen       no  \n",
       "290900     150000  gasoline  volkswagen  unknown  \n",
       "\n",
       "[290901 rows x 10 columns]"
      ]
     },
     "execution_count": 18,
     "metadata": {},
     "output_type": "execute_result"
    }
   ],
   "source": [
    "final_data = data\n",
    "final_data"
   ]
  },
  {
   "cell_type": "markdown",
   "metadata": {},
   "source": [
    "### Разделение на выборки"
   ]
  },
  {
   "cell_type": "markdown",
   "metadata": {},
   "source": [
    "Разделим данные на признаки и целевой признак "
   ]
  },
  {
   "cell_type": "code",
   "execution_count": 19,
   "metadata": {},
   "outputs": [],
   "source": [
    "features = final_data.drop(['Price'], axis=1)\n",
    "target = final_data['Price']"
   ]
  },
  {
   "cell_type": "markdown",
   "metadata": {},
   "source": [
    "Создадим обучающую, валидационную и тестовую выборки в соотношении 3:1:1"
   ]
  },
  {
   "cell_type": "code",
   "execution_count": 20,
   "metadata": {},
   "outputs": [],
   "source": [
    "train_features, valid_features, train_target, valid_target = train_test_split(\n",
    "    features, target, test_size=0.40, random_state=333)"
   ]
  },
  {
   "cell_type": "code",
   "execution_count": 21,
   "metadata": {},
   "outputs": [],
   "source": [
    "valid_features, test_features, valid_target, test_target = train_test_split(valid_features, valid_target,\n",
    "                                                                            test_size=0.50, random_state=333)"
   ]
  },
  {
   "cell_type": "code",
   "execution_count": 22,
   "metadata": {},
   "outputs": [
    {
     "name": "stdout",
     "output_type": "stream",
     "text": [
      "(174540, 9) (174540,)\n",
      "(58180, 9) (58180,)\n",
      "(58181, 9) (58181,)\n"
     ]
    }
   ],
   "source": [
    "print(train_features.shape, train_target.shape)\n",
    "print(valid_features.shape, valid_target.shape)\n",
    "print(test_features.shape, test_target.shape)"
   ]
  },
  {
   "cell_type": "markdown",
   "metadata": {},
   "source": [
    "### Кодировка и масштабирование"
   ]
  },
  {
   "cell_type": "markdown",
   "metadata": {},
   "source": [
    "Признак **'Model'** содержит в себе большое количество категорий. Соответственно если кодировать данные по технике **OHE**, то у нас появится очень много новых колонок. Лучше будет применить в данном случае **OrdinalEncoder**"
   ]
  },
  {
   "cell_type": "code",
   "execution_count": 23,
   "metadata": {
    "scrolled": false
   },
   "outputs": [],
   "source": [
    "encoder = OrdinalEncoder()\n",
    "\n",
    "cat_columns = ['Model', 'VehicleType', 'Gearbox', 'FuelType', 'Repaired', 'Brand']\n",
    "\n",
    "features_train_ord = train_features.copy()\n",
    "features_valid_ord = valid_features.copy()\n",
    "features_test_ord = test_features.copy()\n",
    "\n",
    "features_train_ord[cat_columns] = encoder.fit_transform(features_train_ord[cat_columns])\n",
    "features_valid_ord[cat_columns] = encoder.fit_transform(features_valid_ord[cat_columns])\n",
    "features_test_ord[cat_columns] = encoder.fit_transform(features_test_ord[cat_columns])"
   ]
  },
  {
   "cell_type": "markdown",
   "metadata": {},
   "source": [
    "С помощью **StandardScaler** проведем масштабирование признаков"
   ]
  },
  {
   "cell_type": "code",
   "execution_count": 24,
   "metadata": {},
   "outputs": [],
   "source": [
    "scaler = StandardScaler()\n",
    "\n",
    "col_for_scale = ['RegistrationYear', 'Power', 'Kilometer']"
   ]
  },
  {
   "cell_type": "code",
   "execution_count": 25,
   "metadata": {},
   "outputs": [],
   "source": [
    "train_features_scale = features_train_ord\n",
    "valid_features_scale = features_valid_ord\n",
    "test_features_scale = features_test_ord\n",
    "\n",
    "train_features_scale[col_for_scale] = scaler.fit_transform(train_features_scale[col_for_scale])\n",
    "valid_features_scale[col_for_scale] = scaler.fit_transform(valid_features_scale[col_for_scale])\n",
    "test_features_scale[col_for_scale] = scaler.fit_transform(test_features_scale[col_for_scale])"
   ]
  },
  {
   "cell_type": "markdown",
   "metadata": {},
   "source": [
    "# Вывод\n",
    "Во время подготовки данных:\n",
    "- избавились от аномальных значений\n",
    "- избавились от пропусков в данных\n",
    "- сохранили только необходимые для предсказания стоимости автомобиля признаки\n",
    "- произвели масштабирование и кодировку категориальных признаков  \n",
    "\n",
    "Данные готовы. Можно переходить к обучению "
   ]
  },
  {
   "cell_type": "markdown",
   "metadata": {},
   "source": [
    "## Обучение моделей"
   ]
  },
  {
   "cell_type": "markdown",
   "metadata": {},
   "source": [
    "### CatBoost"
   ]
  },
  {
   "cell_type": "code",
   "execution_count": 26,
   "metadata": {},
   "outputs": [],
   "source": [
    "cat_boost_model = CatBoostRegressor(loss_function='RMSE', iterations=150, learning_rate=0.3)"
   ]
  },
  {
   "cell_type": "markdown",
   "metadata": {},
   "source": [
    "обучение модели"
   ]
  },
  {
   "cell_type": "code",
   "execution_count": 27,
   "metadata": {},
   "outputs": [
    {
     "name": "stdout",
     "output_type": "stream",
     "text": [
      "0:\tlearn: 3761.8283986\ttotal: 83.5ms\tremaining: 12.4s\n",
      "20:\tlearn: 1860.4749635\ttotal: 556ms\tremaining: 3.41s\n",
      "40:\tlearn: 1757.7479886\ttotal: 1.03s\tremaining: 2.73s\n",
      "60:\tlearn: 1702.5317804\ttotal: 1.47s\tremaining: 2.15s\n",
      "80:\tlearn: 1666.7579089\ttotal: 1.93s\tremaining: 1.64s\n",
      "100:\tlearn: 1641.5996703\ttotal: 2.39s\tremaining: 1.16s\n",
      "120:\tlearn: 1619.7682449\ttotal: 2.86s\tremaining: 686ms\n",
      "140:\tlearn: 1605.6449387\ttotal: 3.39s\tremaining: 216ms\n",
      "149:\tlearn: 1599.0006093\ttotal: 3.63s\tremaining: 0us\n",
      "CPU times: user 3.64 s, sys: 54.3 ms, total: 3.69 s\n",
      "Wall time: 4.54 s\n"
     ]
    },
    {
     "data": {
      "text/plain": [
       "<catboost.core.CatBoostRegressor at 0x7f8ee3685dc0>"
      ]
     },
     "execution_count": 27,
     "metadata": {},
     "output_type": "execute_result"
    }
   ],
   "source": [
    "%%time\n",
    "cat_boost_model.fit(train_features_scale, train_target, verbose=20)"
   ]
  },
  {
   "cell_type": "markdown",
   "metadata": {},
   "source": [
    "предсказание"
   ]
  },
  {
   "cell_type": "code",
   "execution_count": 28,
   "metadata": {},
   "outputs": [
    {
     "name": "stdout",
     "output_type": "stream",
     "text": [
      "CPU times: user 19.2 ms, sys: 315 µs, total: 19.6 ms\n",
      "Wall time: 17.3 ms\n"
     ]
    }
   ],
   "source": [
    "%%time\n",
    "cat_boost_pred = cat_boost_model.predict(valid_features_scale)"
   ]
  },
  {
   "cell_type": "markdown",
   "metadata": {},
   "source": [
    "RMSE"
   ]
  },
  {
   "cell_type": "code",
   "execution_count": 29,
   "metadata": {},
   "outputs": [
    {
     "data": {
      "text/plain": [
       "1714.698775651066"
      ]
     },
     "execution_count": 29,
     "metadata": {},
     "output_type": "execute_result"
    }
   ],
   "source": [
    "mean_squared_error(valid_target, cat_boost_pred, squared=False)"
   ]
  },
  {
   "cell_type": "markdown",
   "metadata": {},
   "source": [
    "**CatBoostRegressor**:\n",
    "- время обучения - **3 - 4 секунд**\n",
    "- время предсказания - **менее секунды**\n",
    "- RMSE - **1714**"
   ]
  },
  {
   "cell_type": "markdown",
   "metadata": {},
   "source": [
    "### Линейная регрессия"
   ]
  },
  {
   "cell_type": "code",
   "execution_count": 30,
   "metadata": {},
   "outputs": [],
   "source": [
    "l_r_model = LinearRegression()"
   ]
  },
  {
   "cell_type": "code",
   "execution_count": 31,
   "metadata": {},
   "outputs": [
    {
     "name": "stdout",
     "output_type": "stream",
     "text": [
      "CPU times: user 44.7 ms, sys: 12.1 ms, total: 56.8 ms\n",
      "Wall time: 46.8 ms\n"
     ]
    },
    {
     "data": {
      "text/plain": [
       "LinearRegression()"
      ]
     },
     "execution_count": 31,
     "metadata": {},
     "output_type": "execute_result"
    }
   ],
   "source": [
    "%%time\n",
    "l_r_model.fit(train_features_scale, train_target)"
   ]
  },
  {
   "cell_type": "code",
   "execution_count": 32,
   "metadata": {},
   "outputs": [
    {
     "name": "stdout",
     "output_type": "stream",
     "text": [
      "CPU times: user 22 ms, sys: 40.2 ms, total: 62.1 ms\n",
      "Wall time: 19.9 ms\n"
     ]
    }
   ],
   "source": [
    "%%time\n",
    "l_r_pred = l_r_model.predict(valid_features_scale)"
   ]
  },
  {
   "cell_type": "code",
   "execution_count": 33,
   "metadata": {},
   "outputs": [
    {
     "data": {
      "text/plain": [
       "2920.498773759134"
      ]
     },
     "execution_count": 33,
     "metadata": {},
     "output_type": "execute_result"
    }
   ],
   "source": [
    "mean_squared_error(valid_target, l_r_pred, squared=False)"
   ]
  },
  {
   "cell_type": "markdown",
   "metadata": {},
   "source": [
    "**LinearRegression**:\n",
    "- время обучения - **менее секунды**\n",
    "- время предсказания - **менее секунды**\n",
    "- RMSE - **2920**"
   ]
  },
  {
   "cell_type": "markdown",
   "metadata": {},
   "source": [
    "### Случайный лес"
   ]
  },
  {
   "cell_type": "code",
   "execution_count": 34,
   "metadata": {},
   "outputs": [],
   "source": [
    "scorer = make_scorer(mean_squared_error, greater_is_better=False)\n",
    "\n",
    "param_grid = { \n",
    "    'n_estimators': [35, 40, 45],\n",
    "    'max_depth' : [8, 9, 10]\n",
    "}"
   ]
  },
  {
   "cell_type": "markdown",
   "metadata": {},
   "source": [
    "Подбор гиперпараметров с помощью GridSearchCV"
   ]
  },
  {
   "cell_type": "code",
   "execution_count": 35,
   "metadata": {},
   "outputs": [
    {
     "data": {
      "text/plain": [
       "GridSearchCV(cv=3, estimator=RandomForestRegressor(random_state=333),\n",
       "             param_grid={'max_depth': [8, 9, 10], 'n_estimators': [35, 40, 45]},\n",
       "             scoring=make_scorer(mean_squared_error, greater_is_better=False))"
      ]
     },
     "execution_count": 35,
     "metadata": {},
     "output_type": "execute_result"
    }
   ],
   "source": [
    "r_forest_model = RandomForestRegressor(random_state=333)\n",
    "\n",
    "\n",
    "grid_r = GridSearchCV(r_forest_model, param_grid, scoring=scorer, cv=3)\n",
    "grid_r.fit(train_features_scale, train_target)"
   ]
  },
  {
   "cell_type": "markdown",
   "metadata": {},
   "source": [
    "Выбор лучшей модели"
   ]
  },
  {
   "cell_type": "code",
   "execution_count": 36,
   "metadata": {},
   "outputs": [
    {
     "data": {
      "text/plain": [
       "RandomForestRegressor(max_depth=10, n_estimators=40, random_state=333)"
      ]
     },
     "execution_count": 36,
     "metadata": {},
     "output_type": "execute_result"
    }
   ],
   "source": [
    "r_forest_model = grid_r.best_estimator_\n",
    "r_forest_model"
   ]
  },
  {
   "cell_type": "code",
   "execution_count": 37,
   "metadata": {},
   "outputs": [],
   "source": [
    "r_forest_model = RandomForestRegressor(max_depth=10, n_estimators=40, random_state=333)"
   ]
  },
  {
   "cell_type": "code",
   "execution_count": 38,
   "metadata": {},
   "outputs": [
    {
     "name": "stdout",
     "output_type": "stream",
     "text": [
      "CPU times: user 8.7 s, sys: 7.95 ms, total: 8.71 s\n",
      "Wall time: 8.74 s\n"
     ]
    },
    {
     "data": {
      "text/plain": [
       "RandomForestRegressor(max_depth=10, n_estimators=40, random_state=333)"
      ]
     },
     "execution_count": 38,
     "metadata": {},
     "output_type": "execute_result"
    }
   ],
   "source": [
    "%%time\n",
    "r_forest_model.fit(train_features_scale, train_target)"
   ]
  },
  {
   "cell_type": "code",
   "execution_count": 39,
   "metadata": {},
   "outputs": [
    {
     "name": "stdout",
     "output_type": "stream",
     "text": [
      "CPU times: user 207 ms, sys: 0 ns, total: 207 ms\n",
      "Wall time: 208 ms\n"
     ]
    }
   ],
   "source": [
    "%%time\n",
    "r_forest_model_pred = r_forest_model.predict(valid_features_scale)"
   ]
  },
  {
   "cell_type": "code",
   "execution_count": 40,
   "metadata": {},
   "outputs": [
    {
     "data": {
      "text/plain": [
       "1877.9066390557316"
      ]
     },
     "execution_count": 40,
     "metadata": {},
     "output_type": "execute_result"
    }
   ],
   "source": [
    "mean_squared_error(valid_target, r_forest_model_pred, squared=False)"
   ]
  },
  {
   "cell_type": "markdown",
   "metadata": {},
   "source": [
    "**RandomForestRegressor**:\n",
    "- время обучения - **9-10 секунд** (без учета подбора параметров с помощью GridSearchCV)\n",
    "- время предсказания - **менее секунды**\n",
    "- RMSE - **1877**"
   ]
  },
  {
   "cell_type": "markdown",
   "metadata": {},
   "source": [
    "### LightGBM"
   ]
  },
  {
   "cell_type": "code",
   "execution_count": 41,
   "metadata": {},
   "outputs": [],
   "source": [
    "params = {\n",
    "    'objective': 'regression',\n",
    "    'metric': 'rmse',\n",
    "    'learning_rate': 0.3,\n",
    "    'feature_fraction': 0.9\n",
    "}"
   ]
  },
  {
   "cell_type": "code",
   "execution_count": 42,
   "metadata": {},
   "outputs": [
    {
     "name": "stdout",
     "output_type": "stream",
     "text": [
      "[LightGBM] [Warning] Auto-choosing row-wise multi-threading, the overhead of testing was 0.345525 seconds.\n",
      "You can set `force_row_wise=true` to remove the overhead.\n",
      "And if memory is not enough, you can set `force_col_wise=true`.\n",
      "[LightGBM] [Info] Total Bins 629\n",
      "[LightGBM] [Info] Number of data points in the train set: 174540, number of used features: 9\n",
      "[LightGBM] [Info] Start training from score 4880.758961\n",
      "CPU times: user 5min 44s, sys: 5.27 s, total: 5min 49s\n",
      "Wall time: 5min 51s\n"
     ]
    }
   ],
   "source": [
    "%%time\n",
    "train_data = lgb.Dataset(train_features_scale, label=train_target)\n",
    "model = lgb.train(params, train_data, num_boost_round=100)"
   ]
  },
  {
   "cell_type": "code",
   "execution_count": 43,
   "metadata": {},
   "outputs": [
    {
     "name": "stdout",
     "output_type": "stream",
     "text": [
      "CPU times: user 369 ms, sys: 2.92 ms, total: 372 ms\n",
      "Wall time: 384 ms\n"
     ]
    }
   ],
   "source": [
    "%%time\n",
    "lgb_pred = model.predict(valid_features_scale)"
   ]
  },
  {
   "cell_type": "code",
   "execution_count": 44,
   "metadata": {},
   "outputs": [
    {
     "data": {
      "text/plain": [
       "1674.4837456679297"
      ]
     },
     "execution_count": 44,
     "metadata": {},
     "output_type": "execute_result"
    }
   ],
   "source": [
    "mean_squared_error(valid_target, lgb_pred, squared=False)"
   ]
  },
  {
   "cell_type": "markdown",
   "metadata": {},
   "source": [
    "**LightGBM**:\n",
    "- время обучения - **2 минуты**\n",
    "- время предсказания - **менее секунды**\n",
    "- RMSE - **1674**"
   ]
  },
  {
   "cell_type": "markdown",
   "metadata": {},
   "source": [
    "## Анализ моделей"
   ]
  },
  {
   "cell_type": "markdown",
   "metadata": {},
   "source": [
    "Были обучены 4 модели. Скорость предсказания каждой модели была менее одной секунды. Данный критерий не будет участвовать в анализе. Возьмем время обучения и RMSE на валидационной выборке."
   ]
  },
  {
   "cell_type": "markdown",
   "metadata": {},
   "source": [
    "RMSE моделей:\n",
    "- CatBoost - 1714\n",
    "- LinearRegression - 2920\n",
    "- RandomForestRegressor - 1877\n",
    "- **LightGBM - 1674**"
   ]
  },
  {
   "cell_type": "markdown",
   "metadata": {},
   "source": [
    "Время обучения:\n",
    "- CatBoost - 3-4 секунды\n",
    "- **LinearRegression - менее секунды**\n",
    "- RandomForestRegressor - 9-10 секунд (без учета времени на подбор гиперпараметров)\n",
    "- LightGBM - 2 минуты"
   ]
  },
  {
   "cell_type": "code",
   "execution_count": 45,
   "metadata": {},
   "outputs": [
    {
     "data": {
      "text/html": [
       "<div>\n",
       "<style scoped>\n",
       "    .dataframe tbody tr th:only-of-type {\n",
       "        vertical-align: middle;\n",
       "    }\n",
       "\n",
       "    .dataframe tbody tr th {\n",
       "        vertical-align: top;\n",
       "    }\n",
       "\n",
       "    .dataframe thead th {\n",
       "        text-align: right;\n",
       "    }\n",
       "</style>\n",
       "<table border=\"1\" class=\"dataframe\">\n",
       "  <thead>\n",
       "    <tr style=\"text-align: right;\">\n",
       "      <th></th>\n",
       "      <th>Время обучения в секундах</th>\n",
       "      <th>Время предсказания в секундах</th>\n",
       "      <th>RMSE</th>\n",
       "    </tr>\n",
       "  </thead>\n",
       "  <tbody>\n",
       "    <tr>\n",
       "      <th>CatBoost</th>\n",
       "      <td>3-4</td>\n",
       "      <td>&lt; 1</td>\n",
       "      <td>1714</td>\n",
       "    </tr>\n",
       "    <tr>\n",
       "      <th>LinearRegression</th>\n",
       "      <td>&lt; 1</td>\n",
       "      <td>&lt; 1</td>\n",
       "      <td>2920</td>\n",
       "    </tr>\n",
       "    <tr>\n",
       "      <th>RandomForestRegressor</th>\n",
       "      <td>9-10</td>\n",
       "      <td>&lt; 1</td>\n",
       "      <td>1877</td>\n",
       "    </tr>\n",
       "    <tr>\n",
       "      <th>LightGBM</th>\n",
       "      <td>150</td>\n",
       "      <td>&lt; 1</td>\n",
       "      <td>1674</td>\n",
       "    </tr>\n",
       "  </tbody>\n",
       "</table>\n",
       "</div>"
      ],
      "text/plain": [
       "                      Время обучения в секундах Время предсказания в секундах  \\\n",
       "CatBoost                                    3-4                           < 1   \n",
       "LinearRegression                            < 1                           < 1   \n",
       "RandomForestRegressor                      9-10                           < 1   \n",
       "LightGBM                                    150                           < 1   \n",
       "\n",
       "                       RMSE  \n",
       "CatBoost               1714  \n",
       "LinearRegression       2920  \n",
       "RandomForestRegressor  1877  \n",
       "LightGBM               1674  "
      ]
     },
     "execution_count": 45,
     "metadata": {},
     "output_type": "execute_result"
    }
   ],
   "source": [
    "index = ['CatBoost', 'LinearRegression', 'RandomForestRegressor', 'LightGBM']\n",
    "\n",
    "test_info = {'Время обучения в секундах': ['3-4', '< 1', '9-10', '150'], \n",
    "             'Время предсказания в секундах': ['< 1', '< 1', '< 1', '< 1'],\n",
    "            'RMSE': [1714, 2920, 1877, 1674]}\n",
    "\n",
    "df = pd.DataFrame(test_info, index=index)\n",
    "df"
   ]
  },
  {
   "cell_type": "markdown",
   "metadata": {},
   "source": [
    "Самая быстрая по обучению модель (очевидно) - линейная регрессия, но и качество предсказаний значительно хуже. Алгоритм случайного леса занимает 3 место по RMSE и по скорости. Эти две модели можно отбросить."
   ]
  },
  {
   "cell_type": "markdown",
   "metadata": {},
   "source": [
    "RMSE метрика LightGBM не сильно лучше чем у CatBoost, но по скорости обучения LightGBM значительно уступает CatBoost"
   ]
  },
  {
   "cell_type": "markdown",
   "metadata": {},
   "source": [
    "По итогам анализа лучшей моделью по всем критериям (качество предсказания, время обучения, время предсказания) является - **CatBoost** со временем обучения в **3-4 секунды** и RMSE на валидационной выборке - **1714**"
   ]
  },
  {
   "cell_type": "markdown",
   "metadata": {},
   "source": [
    "## Тестирование лучшей модели"
   ]
  },
  {
   "cell_type": "markdown",
   "metadata": {},
   "source": [
    "Лучшей моделью по основным критериям стала модель CatBoostRegressor. Проверим качество модели на тестовой выборке"
   ]
  },
  {
   "cell_type": "code",
   "execution_count": 46,
   "metadata": {},
   "outputs": [
    {
     "name": "stdout",
     "output_type": "stream",
     "text": [
      "RMSE лучшей модели на тестовой выборке составило:  1693\n"
     ]
    }
   ],
   "source": [
    "prediction = cat_boost_model.predict(test_features_scale)\n",
    "\n",
    "rmse = mean_squared_error(test_target, prediction, squared=False)\n",
    "\n",
    "print('RMSE лучшей модели на тестовой выборке составило: ', int(rmse))"
   ]
  },
  {
   "cell_type": "markdown",
   "metadata": {},
   "source": [
    "Сравним со статичной моделью "
   ]
  },
  {
   "cell_type": "code",
   "execution_count": 47,
   "metadata": {},
   "outputs": [
    {
     "name": "stdout",
     "output_type": "stream",
     "text": [
      "RMSE статичной модели: \n"
     ]
    },
    {
     "data": {
      "text/plain": [
       "4593.611162673728"
      ]
     },
     "execution_count": 47,
     "metadata": {},
     "output_type": "execute_result"
    }
   ],
   "source": [
    "dummy_pred = pd.Series(valid_target.mean(), index=valid_target.index)\n",
    "print('RMSE статичной модели: ')\n",
    "mean_squared_error(valid_target, dummy_pred, squared=False)"
   ]
  },
  {
   "cell_type": "markdown",
   "metadata": {},
   "source": [
    "# Итоговый вывод:"
   ]
  },
  {
   "cell_type": "markdown",
   "metadata": {},
   "source": [
    "**1. Подготовка данных**\n",
    "\n",
    "Во время работы с данными:\n",
    "- избавились от выбросов \n",
    "- избавились от лишних признаков\n",
    "- избавились от пропусков\n",
    "- провели кодировку категориальных признаков \n",
    "- провели масштабирование признаков"
   ]
  },
  {
   "cell_type": "markdown",
   "metadata": {},
   "source": [
    "**2. Обучение моделей**\n",
    "\n",
    "- обучили 4 модели\n",
    "- подобрали гиперпараметры к ним\n",
    "- замерили время выполнения ячеек \n",
    "- сохранили качество предсказаний по метрике RMSE"
   ]
  },
  {
   "cell_type": "markdown",
   "metadata": {},
   "source": [
    "**3. Анализ моделей**\n",
    "\n",
    "- проанализированы результаты всех моделей \n",
    "- выбрана оптимальная, по всем критериям качества, модель\n",
    "- сравнили модель со статичной"
   ]
  },
  {
   "cell_type": "markdown",
   "metadata": {},
   "source": [
    "Оптимальной по всем критериям оказалась модель **CatBoost** с результатами:\n",
    "- время обучения - **3 - 4 секунд**\n",
    "- время предсказания - **менее секунды**\n",
    "- RMSE - **1714**\n",
    "- RMSE на итоговом тестировании - **1693**"
   ]
  }
 ],
 "metadata": {
  "ExecuteTimeLog": [
   {
    "duration": 392,
    "start_time": "2023-03-02T19:00:50.657Z"
   },
   {
    "duration": 3710,
    "start_time": "2023-03-02T19:01:10.144Z"
   },
   {
    "duration": 158,
    "start_time": "2023-03-02T19:01:55.203Z"
   },
   {
    "duration": 146,
    "start_time": "2023-03-02T19:02:10.262Z"
   },
   {
    "duration": 51,
    "start_time": "2023-03-04T10:58:19.475Z"
   },
   {
    "duration": 348,
    "start_time": "2023-03-04T10:58:23.906Z"
   },
   {
    "duration": 2830,
    "start_time": "2023-03-04T10:58:24.819Z"
   },
   {
    "duration": 109,
    "start_time": "2023-03-04T10:58:28.960Z"
   },
   {
    "duration": 104,
    "start_time": "2023-03-04T10:58:30.264Z"
   },
   {
    "duration": 474,
    "start_time": "2023-03-04T10:58:31.735Z"
   },
   {
    "duration": 570,
    "start_time": "2023-03-04T10:58:38.637Z"
   },
   {
    "duration": 32,
    "start_time": "2023-03-04T10:59:15.080Z"
   },
   {
    "duration": 96,
    "start_time": "2023-03-04T10:59:21.496Z"
   },
   {
    "duration": 416,
    "start_time": "2023-03-07T11:02:25.516Z"
   },
   {
    "duration": 1473,
    "start_time": "2023-03-07T11:02:25.934Z"
   },
   {
    "duration": 167,
    "start_time": "2023-03-07T11:02:27.409Z"
   },
   {
    "duration": 113,
    "start_time": "2023-03-07T11:02:27.578Z"
   },
   {
    "duration": 185,
    "start_time": "2023-03-07T11:02:27.693Z"
   },
   {
    "duration": 61,
    "start_time": "2023-03-07T11:03:27.658Z"
   },
   {
    "duration": 374,
    "start_time": "2023-03-07T11:05:10.185Z"
   },
   {
    "duration": 877,
    "start_time": "2023-03-07T11:05:11.310Z"
   },
   {
    "duration": 847,
    "start_time": "2023-03-07T11:05:16.505Z"
   },
   {
    "duration": 138,
    "start_time": "2023-03-07T11:05:19.110Z"
   },
   {
    "duration": 120,
    "start_time": "2023-03-07T11:05:20.529Z"
   },
   {
    "duration": 135,
    "start_time": "2023-03-07T11:05:21.986Z"
   },
   {
    "duration": 441,
    "start_time": "2023-03-07T11:06:17.508Z"
   },
   {
    "duration": 927,
    "start_time": "2023-03-07T11:06:17.962Z"
   },
   {
    "duration": 211,
    "start_time": "2023-03-07T11:06:18.891Z"
   },
   {
    "duration": 121,
    "start_time": "2023-03-07T11:06:19.104Z"
   },
   {
    "duration": 182,
    "start_time": "2023-03-07T11:06:19.227Z"
   },
   {
    "duration": 42,
    "start_time": "2023-03-07T11:06:19.411Z"
   },
   {
    "duration": 74,
    "start_time": "2023-03-07T11:07:41.062Z"
   },
   {
    "duration": 956,
    "start_time": "2023-03-07T11:08:34.594Z"
   },
   {
    "duration": 78,
    "start_time": "2023-03-07T11:09:08.083Z"
   },
   {
    "duration": 19,
    "start_time": "2023-03-07T11:15:48.837Z"
   },
   {
    "duration": 81,
    "start_time": "2023-03-07T11:15:51.354Z"
   },
   {
    "duration": 11,
    "start_time": "2023-03-07T11:16:04.440Z"
   },
   {
    "duration": 363,
    "start_time": "2023-03-07T11:16:14.693Z"
   },
   {
    "duration": 839,
    "start_time": "2023-03-07T11:16:15.058Z"
   },
   {
    "duration": 143,
    "start_time": "2023-03-07T11:16:15.899Z"
   },
   {
    "duration": 99,
    "start_time": "2023-03-07T11:16:16.043Z"
   },
   {
    "duration": 133,
    "start_time": "2023-03-07T11:16:16.144Z"
   },
   {
    "duration": 108,
    "start_time": "2023-03-07T11:16:16.279Z"
   },
   {
    "duration": 27,
    "start_time": "2023-03-07T11:16:16.389Z"
   },
   {
    "duration": 20,
    "start_time": "2023-03-07T11:16:23.327Z"
   },
   {
    "duration": 414,
    "start_time": "2023-03-07T11:17:07.488Z"
   },
   {
    "duration": 963,
    "start_time": "2023-03-07T11:17:07.904Z"
   },
   {
    "duration": 142,
    "start_time": "2023-03-07T11:17:08.868Z"
   },
   {
    "duration": 105,
    "start_time": "2023-03-07T11:17:09.012Z"
   },
   {
    "duration": 138,
    "start_time": "2023-03-07T11:17:09.119Z"
   },
   {
    "duration": 94,
    "start_time": "2023-03-07T11:17:09.258Z"
   },
   {
    "duration": 22,
    "start_time": "2023-03-07T11:17:09.353Z"
   },
   {
    "duration": 16,
    "start_time": "2023-03-07T11:17:09.377Z"
   },
   {
    "duration": 3,
    "start_time": "2023-03-07T11:22:15.712Z"
   },
   {
    "duration": 641,
    "start_time": "2023-03-07T11:22:41.730Z"
   },
   {
    "duration": 2,
    "start_time": "2023-03-07T11:23:57.148Z"
   },
   {
    "duration": 776,
    "start_time": "2023-03-07T11:24:37.438Z"
   },
   {
    "duration": 413,
    "start_time": "2023-03-07T11:24:44.497Z"
   },
   {
    "duration": 475,
    "start_time": "2023-03-07T11:25:15.069Z"
   },
   {
    "duration": 438,
    "start_time": "2023-03-07T11:27:12.247Z"
   },
   {
    "duration": 232,
    "start_time": "2023-03-07T11:27:19.627Z"
   },
   {
    "duration": 417,
    "start_time": "2023-03-07T11:27:23.751Z"
   },
   {
    "duration": 498,
    "start_time": "2023-03-07T11:27:48.696Z"
   },
   {
    "duration": 196,
    "start_time": "2023-03-07T11:28:45.112Z"
   },
   {
    "duration": 1333,
    "start_time": "2023-03-07T11:29:06.440Z"
   },
   {
    "duration": 142,
    "start_time": "2023-03-07T11:29:59.150Z"
   },
   {
    "duration": 150,
    "start_time": "2023-03-07T11:30:10.021Z"
   },
   {
    "duration": 1678,
    "start_time": "2023-03-07T11:31:01.432Z"
   },
   {
    "duration": 45,
    "start_time": "2023-03-07T11:31:19.329Z"
   },
   {
    "duration": 472,
    "start_time": "2023-03-07T11:31:35.294Z"
   },
   {
    "duration": 261,
    "start_time": "2023-03-07T11:31:45.200Z"
   },
   {
    "duration": 471,
    "start_time": "2023-03-07T11:31:48.882Z"
   },
   {
    "duration": 416,
    "start_time": "2023-03-07T11:32:24.273Z"
   },
   {
    "duration": 326,
    "start_time": "2023-03-07T11:32:34.148Z"
   },
   {
    "duration": 269,
    "start_time": "2023-03-07T11:32:49.707Z"
   },
   {
    "duration": 288,
    "start_time": "2023-03-07T11:32:56.467Z"
   },
   {
    "duration": 348,
    "start_time": "2023-03-07T11:33:09.587Z"
   },
   {
    "duration": 263,
    "start_time": "2023-03-07T11:33:18.160Z"
   },
   {
    "duration": 260,
    "start_time": "2023-03-07T11:33:26.227Z"
   },
   {
    "duration": 455,
    "start_time": "2023-03-07T11:33:30.207Z"
   },
   {
    "duration": 327,
    "start_time": "2023-03-07T11:34:36.581Z"
   },
   {
    "duration": 275,
    "start_time": "2023-03-07T11:34:48.663Z"
   },
   {
    "duration": 266,
    "start_time": "2023-03-07T11:35:03.619Z"
   },
   {
    "duration": 1150,
    "start_time": "2023-03-07T11:39:39.748Z"
   },
   {
    "duration": 1046,
    "start_time": "2023-03-07T11:39:41.516Z"
   },
   {
    "duration": 136,
    "start_time": "2023-03-07T11:39:44.546Z"
   },
   {
    "duration": 90,
    "start_time": "2023-03-07T11:39:46.109Z"
   },
   {
    "duration": 138,
    "start_time": "2023-03-07T11:39:47.606Z"
   },
   {
    "duration": 79,
    "start_time": "2023-03-07T11:39:49.347Z"
   },
   {
    "duration": 21,
    "start_time": "2023-03-07T11:39:50.644Z"
   },
   {
    "duration": 61,
    "start_time": "2023-03-07T11:41:47.333Z"
   },
   {
    "duration": 326,
    "start_time": "2023-03-07T11:41:55.593Z"
   },
   {
    "duration": 251,
    "start_time": "2023-03-07T11:41:57.092Z"
   },
   {
    "duration": 294,
    "start_time": "2023-03-07T11:42:03.871Z"
   },
   {
    "duration": 56,
    "start_time": "2023-03-07T11:42:34.722Z"
   },
   {
    "duration": 49,
    "start_time": "2023-03-07T11:42:46.068Z"
   },
   {
    "duration": 39,
    "start_time": "2023-03-07T11:42:48.142Z"
   },
   {
    "duration": 55,
    "start_time": "2023-03-07T11:42:54.598Z"
   },
   {
    "duration": 37,
    "start_time": "2023-03-07T11:42:56.795Z"
   },
   {
    "duration": 280,
    "start_time": "2023-03-07T11:43:04.288Z"
   },
   {
    "duration": 49,
    "start_time": "2023-03-07T11:43:10.051Z"
   },
   {
    "duration": 37,
    "start_time": "2023-03-07T11:43:12.663Z"
   },
   {
    "duration": 47,
    "start_time": "2023-03-07T11:44:43.247Z"
   },
   {
    "duration": 280,
    "start_time": "2023-03-07T11:44:44.886Z"
   },
   {
    "duration": 37,
    "start_time": "2023-03-07T11:44:47.465Z"
   },
   {
    "duration": 47,
    "start_time": "2023-03-07T11:45:02.348Z"
   },
   {
    "duration": 37,
    "start_time": "2023-03-07T11:45:06.068Z"
   },
   {
    "duration": 271,
    "start_time": "2023-03-07T11:45:26.526Z"
   },
   {
    "duration": 53,
    "start_time": "2023-03-07T11:45:33.712Z"
   },
   {
    "duration": 268,
    "start_time": "2023-03-07T11:45:36.006Z"
   },
   {
    "duration": 296,
    "start_time": "2023-03-07T11:45:37.054Z"
   },
   {
    "duration": 39,
    "start_time": "2023-03-07T11:45:39.330Z"
   },
   {
    "duration": 56,
    "start_time": "2023-03-07T11:46:40.794Z"
   },
   {
    "duration": 333,
    "start_time": "2023-03-07T11:46:41.837Z"
   },
   {
    "duration": 250,
    "start_time": "2023-03-07T11:46:42.907Z"
   },
   {
    "duration": 36,
    "start_time": "2023-03-07T11:46:46.976Z"
   },
   {
    "duration": 10,
    "start_time": "2023-03-07T11:47:15.991Z"
   },
   {
    "duration": 46,
    "start_time": "2023-03-07T11:47:46.065Z"
   },
   {
    "duration": 3,
    "start_time": "2023-03-07T11:47:54.996Z"
   },
   {
    "duration": 921,
    "start_time": "2023-03-07T11:47:55.693Z"
   },
   {
    "duration": 157,
    "start_time": "2023-03-07T11:47:56.618Z"
   },
   {
    "duration": 96,
    "start_time": "2023-03-07T11:47:59.350Z"
   },
   {
    "duration": 135,
    "start_time": "2023-03-07T11:48:00.491Z"
   },
   {
    "duration": 87,
    "start_time": "2023-03-07T11:48:01.670Z"
   },
   {
    "duration": 21,
    "start_time": "2023-03-07T11:48:02.664Z"
   },
   {
    "duration": 65,
    "start_time": "2023-03-07T11:48:03.677Z"
   },
   {
    "duration": 289,
    "start_time": "2023-03-07T11:48:05.218Z"
   },
   {
    "duration": 258,
    "start_time": "2023-03-07T11:48:06.567Z"
   },
   {
    "duration": 37,
    "start_time": "2023-03-07T11:48:08.568Z"
   },
   {
    "duration": 55,
    "start_time": "2023-03-07T11:48:19.327Z"
   },
   {
    "duration": 279,
    "start_time": "2023-03-07T11:48:21.274Z"
   },
   {
    "duration": 266,
    "start_time": "2023-03-07T11:48:23.091Z"
   },
   {
    "duration": 41,
    "start_time": "2023-03-07T11:48:25.016Z"
   },
   {
    "duration": 15,
    "start_time": "2023-03-07T11:49:04.957Z"
   },
   {
    "duration": 63,
    "start_time": "2023-03-07T11:49:27.931Z"
   },
   {
    "duration": 260,
    "start_time": "2023-03-07T11:49:28.847Z"
   },
   {
    "duration": 257,
    "start_time": "2023-03-07T11:49:30.209Z"
   },
   {
    "duration": 37,
    "start_time": "2023-03-07T11:49:31.683Z"
   },
   {
    "duration": 15,
    "start_time": "2023-03-07T11:49:33.064Z"
   },
   {
    "duration": 1111,
    "start_time": "2023-03-07T11:49:42.516Z"
   },
   {
    "duration": 820,
    "start_time": "2023-03-07T11:49:43.944Z"
   },
   {
    "duration": 154,
    "start_time": "2023-03-07T11:49:46.755Z"
   },
   {
    "duration": 91,
    "start_time": "2023-03-07T11:49:48.385Z"
   },
   {
    "duration": 130,
    "start_time": "2023-03-07T11:49:49.447Z"
   },
   {
    "duration": 73,
    "start_time": "2023-03-07T11:49:52.104Z"
   },
   {
    "duration": 21,
    "start_time": "2023-03-07T11:49:53.105Z"
   },
   {
    "duration": 61,
    "start_time": "2023-03-07T11:49:54.183Z"
   },
   {
    "duration": 295,
    "start_time": "2023-03-07T11:49:55.286Z"
   },
   {
    "duration": 250,
    "start_time": "2023-03-07T11:49:57.153Z"
   },
   {
    "duration": 39,
    "start_time": "2023-03-07T11:49:59.001Z"
   },
   {
    "duration": 14,
    "start_time": "2023-03-07T11:50:04.662Z"
   },
   {
    "duration": 12,
    "start_time": "2023-03-07T11:50:08.910Z"
   },
   {
    "duration": 65,
    "start_time": "2023-03-07T11:51:11.498Z"
   },
   {
    "duration": 18,
    "start_time": "2023-03-07T11:51:29.455Z"
   },
   {
    "duration": 42,
    "start_time": "2023-03-07T11:51:39.214Z"
   },
   {
    "duration": 61,
    "start_time": "2023-03-07T11:52:30.692Z"
   },
   {
    "duration": 1144,
    "start_time": "2023-03-07T11:55:55.083Z"
   },
   {
    "duration": 922,
    "start_time": "2023-03-07T11:55:56.655Z"
   },
   {
    "duration": 138,
    "start_time": "2023-03-07T11:55:58.979Z"
   },
   {
    "duration": 95,
    "start_time": "2023-03-07T11:56:00.896Z"
   },
   {
    "duration": 148,
    "start_time": "2023-03-07T11:56:12.719Z"
   },
   {
    "duration": 1268,
    "start_time": "2023-03-07T15:01:41.539Z"
   },
   {
    "duration": 1326,
    "start_time": "2023-03-07T15:01:42.815Z"
   },
   {
    "duration": 168,
    "start_time": "2023-03-07T15:01:46.160Z"
   },
   {
    "duration": 105,
    "start_time": "2023-03-07T15:01:47.839Z"
   },
   {
    "duration": 142,
    "start_time": "2023-03-07T15:01:49.567Z"
   },
   {
    "duration": 89,
    "start_time": "2023-03-07T15:01:52.435Z"
   },
   {
    "duration": 87,
    "start_time": "2023-03-07T15:02:06.660Z"
   },
   {
    "duration": 59,
    "start_time": "2023-03-07T15:02:08.166Z"
   },
   {
    "duration": 182,
    "start_time": "2023-03-07T15:02:09.764Z"
   },
   {
    "duration": 288,
    "start_time": "2023-03-07T15:40:37.401Z"
   },
   {
    "duration": 244,
    "start_time": "2023-03-07T15:40:39.758Z"
   },
   {
    "duration": 39,
    "start_time": "2023-03-07T15:40:41.245Z"
   },
   {
    "duration": 40,
    "start_time": "2023-03-07T15:40:42.703Z"
   },
   {
    "duration": 58,
    "start_time": "2023-03-07T15:41:01.459Z"
   },
   {
    "duration": 96,
    "start_time": "2023-03-07T15:42:58.371Z"
   },
   {
    "duration": 75,
    "start_time": "2023-03-07T15:43:09.876Z"
   },
   {
    "duration": 89,
    "start_time": "2023-03-07T15:43:12.239Z"
   },
   {
    "duration": 341,
    "start_time": "2023-03-07T15:57:21.374Z"
   },
   {
    "duration": 129,
    "start_time": "2023-03-07T15:57:56.061Z"
   },
   {
    "duration": 431,
    "start_time": "2023-03-07T15:58:02.000Z"
   },
   {
    "duration": 1123,
    "start_time": "2023-03-07T16:10:47.827Z"
   },
   {
    "duration": 228,
    "start_time": "2023-03-07T16:11:00.664Z"
   },
   {
    "duration": 415,
    "start_time": "2023-03-07T16:11:20.204Z"
   },
   {
    "duration": 405,
    "start_time": "2023-03-07T16:11:23.529Z"
   },
   {
    "duration": 103,
    "start_time": "2023-03-07T16:14:27.472Z"
   },
   {
    "duration": 27,
    "start_time": "2023-03-07T16:15:03.162Z"
   },
   {
    "duration": 115,
    "start_time": "2023-03-07T16:15:18.761Z"
   },
   {
    "duration": 104,
    "start_time": "2023-03-07T16:15:35.211Z"
   },
   {
    "duration": 77,
    "start_time": "2023-03-07T16:15:40.114Z"
   },
   {
    "duration": 508,
    "start_time": "2023-03-07T16:16:40.165Z"
   },
   {
    "duration": 25,
    "start_time": "2023-03-07T16:28:11.213Z"
   },
   {
    "duration": 27,
    "start_time": "2023-03-07T16:29:04.298Z"
   },
   {
    "duration": 16,
    "start_time": "2023-03-07T16:29:14.515Z"
   },
   {
    "duration": 5,
    "start_time": "2023-03-07T16:29:20.807Z"
   },
   {
    "duration": 19,
    "start_time": "2023-03-07T16:31:24.927Z"
   },
   {
    "duration": 15,
    "start_time": "2023-03-07T16:31:36.561Z"
   },
   {
    "duration": 42,
    "start_time": "2023-03-07T16:31:45.964Z"
   },
   {
    "duration": 6,
    "start_time": "2023-03-07T16:31:58.303Z"
   },
   {
    "duration": 4,
    "start_time": "2023-03-07T16:32:04.842Z"
   },
   {
    "duration": 7,
    "start_time": "2023-03-07T16:32:46.576Z"
   },
   {
    "duration": 34,
    "start_time": "2023-03-07T16:35:12.169Z"
   },
   {
    "duration": 34,
    "start_time": "2023-03-07T16:35:52.004Z"
   },
   {
    "duration": 4,
    "start_time": "2023-03-07T16:36:00.525Z"
   },
   {
    "duration": 234,
    "start_time": "2023-03-07T16:39:12.075Z"
   },
   {
    "duration": 4357,
    "start_time": "2023-03-07T16:40:12.674Z"
   },
   {
    "duration": 3298,
    "start_time": "2023-03-07T16:41:00.203Z"
   },
   {
    "duration": 3451,
    "start_time": "2023-03-07T16:41:14.002Z"
   },
   {
    "duration": 3588,
    "start_time": "2023-03-07T16:41:22.221Z"
   },
   {
    "duration": 3545,
    "start_time": "2023-03-07T16:41:42.507Z"
   },
   {
    "duration": 3150,
    "start_time": "2023-03-07T16:41:52.204Z"
   },
   {
    "duration": 14,
    "start_time": "2023-03-07T16:41:57.806Z"
   },
   {
    "duration": 3,
    "start_time": "2023-03-07T16:42:38.129Z"
   },
   {
    "duration": 12,
    "start_time": "2023-03-07T16:42:48.097Z"
   },
   {
    "duration": 8,
    "start_time": "2023-03-07T16:43:03.805Z"
   },
   {
    "duration": 1986,
    "start_time": "2023-03-07T16:47:35.064Z"
   },
   {
    "duration": 18,
    "start_time": "2023-03-07T16:47:40.471Z"
   },
   {
    "duration": 5,
    "start_time": "2023-03-07T16:47:42.697Z"
   },
   {
    "duration": 5,
    "start_time": "2023-03-07T16:48:47.767Z"
   },
   {
    "duration": 5654,
    "start_time": "2023-03-07T16:49:05.400Z"
   },
   {
    "duration": 17,
    "start_time": "2023-03-07T16:49:17.522Z"
   },
   {
    "duration": 6,
    "start_time": "2023-03-07T16:49:20.475Z"
   },
   {
    "duration": 1238,
    "start_time": "2023-03-07T16:49:31.808Z"
   },
   {
    "duration": 10,
    "start_time": "2023-03-07T16:49:36.510Z"
   },
   {
    "duration": 5,
    "start_time": "2023-03-07T16:49:37.327Z"
   },
   {
    "duration": 1860,
    "start_time": "2023-03-07T16:49:40.070Z"
   },
   {
    "duration": 10,
    "start_time": "2023-03-07T16:49:43.212Z"
   },
   {
    "duration": 5,
    "start_time": "2023-03-07T16:49:44.007Z"
   },
   {
    "duration": 1374,
    "start_time": "2023-03-07T16:54:47.636Z"
   },
   {
    "duration": 1347,
    "start_time": "2023-03-07T16:54:49.012Z"
   },
   {
    "duration": 157,
    "start_time": "2023-03-07T16:54:50.360Z"
   },
   {
    "duration": 110,
    "start_time": "2023-03-07T16:54:50.519Z"
   },
   {
    "duration": 129,
    "start_time": "2023-03-07T16:54:50.631Z"
   },
   {
    "duration": 100,
    "start_time": "2023-03-07T16:54:50.762Z"
   },
   {
    "duration": 44,
    "start_time": "2023-03-07T16:54:50.864Z"
   },
   {
    "duration": 47,
    "start_time": "2023-03-07T16:54:50.910Z"
   },
   {
    "duration": 96,
    "start_time": "2023-03-07T16:54:50.959Z"
   },
   {
    "duration": 347,
    "start_time": "2023-03-07T16:54:51.058Z"
   },
   {
    "duration": 299,
    "start_time": "2023-03-07T16:54:51.410Z"
   },
   {
    "duration": 40,
    "start_time": "2023-03-07T16:54:51.714Z"
   },
   {
    "duration": 114,
    "start_time": "2023-03-07T16:54:51.756Z"
   },
   {
    "duration": 358,
    "start_time": "2023-03-07T16:54:51.872Z"
   },
   {
    "duration": 11,
    "start_time": "2023-03-07T16:54:52.231Z"
   },
   {
    "duration": 38,
    "start_time": "2023-03-07T16:54:52.244Z"
   },
   {
    "duration": 9,
    "start_time": "2023-03-07T16:54:52.283Z"
   },
   {
    "duration": 43,
    "start_time": "2023-03-07T16:54:52.293Z"
   },
   {
    "duration": 5,
    "start_time": "2023-03-07T16:54:52.338Z"
   },
   {
    "duration": 2167,
    "start_time": "2023-03-07T16:54:52.344Z"
   },
   {
    "duration": 18,
    "start_time": "2023-03-07T16:54:54.513Z"
   },
   {
    "duration": 6,
    "start_time": "2023-03-07T16:54:54.533Z"
   },
   {
    "duration": 6,
    "start_time": "2023-03-07T16:55:00.807Z"
   },
   {
    "duration": 3264,
    "start_time": "2023-03-07T16:55:08.907Z"
   },
   {
    "duration": 29,
    "start_time": "2023-03-07T16:55:13.276Z"
   },
   {
    "duration": 5,
    "start_time": "2023-03-07T16:55:14.010Z"
   },
   {
    "duration": 9,
    "start_time": "2023-03-07T16:55:15.101Z"
   },
   {
    "duration": 5,
    "start_time": "2023-03-07T16:55:15.462Z"
   },
   {
    "duration": 6,
    "start_time": "2023-03-07T16:55:15.817Z"
   },
   {
    "duration": 3223,
    "start_time": "2023-03-07T16:55:16.624Z"
   },
   {
    "duration": 25,
    "start_time": "2023-03-07T16:55:20.793Z"
   },
   {
    "duration": 5,
    "start_time": "2023-03-07T16:55:21.607Z"
   },
   {
    "duration": 5560,
    "start_time": "2023-03-07T16:58:43.300Z"
   },
   {
    "duration": 24,
    "start_time": "2023-03-07T16:58:50.710Z"
   },
   {
    "duration": 5,
    "start_time": "2023-03-07T16:58:51.640Z"
   },
   {
    "duration": 3199,
    "start_time": "2023-03-07T16:59:07.706Z"
   },
   {
    "duration": 12,
    "start_time": "2023-03-07T16:59:14.512Z"
   },
   {
    "duration": 11,
    "start_time": "2023-03-07T16:59:15.098Z"
   },
   {
    "duration": 3152,
    "start_time": "2023-03-07T16:59:23.553Z"
   },
   {
    "duration": 12,
    "start_time": "2023-03-07T16:59:27.957Z"
   },
   {
    "duration": 5,
    "start_time": "2023-03-07T16:59:28.807Z"
   },
   {
    "duration": 5,
    "start_time": "2023-03-07T16:59:29.873Z"
   },
   {
    "duration": 1387,
    "start_time": "2023-03-07T17:02:44.343Z"
   },
   {
    "duration": 891,
    "start_time": "2023-03-07T17:02:45.732Z"
   },
   {
    "duration": 126,
    "start_time": "2023-03-07T17:02:46.625Z"
   },
   {
    "duration": 107,
    "start_time": "2023-03-07T17:02:46.752Z"
   },
   {
    "duration": 144,
    "start_time": "2023-03-07T17:02:46.861Z"
   },
   {
    "duration": 111,
    "start_time": "2023-03-07T17:02:47.006Z"
   },
   {
    "duration": 2,
    "start_time": "2023-03-07T17:02:47.121Z"
   },
   {
    "duration": 28,
    "start_time": "2023-03-07T17:02:47.125Z"
   },
   {
    "duration": 17,
    "start_time": "2023-03-07T17:02:47.155Z"
   },
   {
    "duration": 87,
    "start_time": "2023-03-07T17:02:47.173Z"
   },
   {
    "duration": 309,
    "start_time": "2023-03-07T17:02:47.262Z"
   },
   {
    "duration": 268,
    "start_time": "2023-03-07T17:02:47.572Z"
   },
   {
    "duration": 70,
    "start_time": "2023-03-07T17:02:47.842Z"
   },
   {
    "duration": 119,
    "start_time": "2023-03-07T17:02:47.915Z"
   },
   {
    "duration": 327,
    "start_time": "2023-03-07T17:02:48.036Z"
   },
   {
    "duration": 24,
    "start_time": "2023-03-07T17:02:48.365Z"
   },
   {
    "duration": 49,
    "start_time": "2023-03-07T17:02:48.390Z"
   },
   {
    "duration": 3,
    "start_time": "2023-03-07T17:02:48.440Z"
   },
   {
    "duration": 280,
    "start_time": "2023-03-07T17:02:48.444Z"
   },
   {
    "duration": 0,
    "start_time": "2023-03-07T17:02:48.725Z"
   },
   {
    "duration": 0,
    "start_time": "2023-03-07T17:02:48.727Z"
   },
   {
    "duration": 0,
    "start_time": "2023-03-07T17:02:48.728Z"
   },
   {
    "duration": 0,
    "start_time": "2023-03-07T17:02:48.729Z"
   },
   {
    "duration": 203,
    "start_time": "2023-03-07T17:03:58.543Z"
   },
   {
    "duration": 11,
    "start_time": "2023-03-07T17:04:01.314Z"
   },
   {
    "duration": 39,
    "start_time": "2023-03-07T17:04:02.012Z"
   },
   {
    "duration": 3,
    "start_time": "2023-03-07T17:04:02.913Z"
   },
   {
    "duration": 69,
    "start_time": "2023-03-07T17:04:03.451Z"
   },
   {
    "duration": 4,
    "start_time": "2023-03-07T17:04:04.714Z"
   },
   {
    "duration": 3532,
    "start_time": "2023-03-07T17:04:05.914Z"
   },
   {
    "duration": 14,
    "start_time": "2023-03-07T17:04:11.346Z"
   },
   {
    "duration": 5,
    "start_time": "2023-03-07T17:04:12.511Z"
   },
   {
    "duration": 1569,
    "start_time": "2023-03-07T17:05:12.956Z"
   },
   {
    "duration": 922,
    "start_time": "2023-03-07T17:05:14.529Z"
   },
   {
    "duration": 175,
    "start_time": "2023-03-07T17:05:15.454Z"
   },
   {
    "duration": 113,
    "start_time": "2023-03-07T17:05:15.631Z"
   },
   {
    "duration": 125,
    "start_time": "2023-03-07T17:05:15.746Z"
   },
   {
    "duration": 96,
    "start_time": "2023-03-07T17:05:15.872Z"
   },
   {
    "duration": 12,
    "start_time": "2023-03-07T17:05:15.985Z"
   },
   {
    "duration": 60,
    "start_time": "2023-03-07T17:05:16.005Z"
   },
   {
    "duration": 55,
    "start_time": "2023-03-07T17:05:16.069Z"
   },
   {
    "duration": 107,
    "start_time": "2023-03-07T17:05:16.126Z"
   },
   {
    "duration": 318,
    "start_time": "2023-03-07T17:05:16.236Z"
   },
   {
    "duration": 280,
    "start_time": "2023-03-07T17:05:16.556Z"
   },
   {
    "duration": 72,
    "start_time": "2023-03-07T17:05:16.837Z"
   },
   {
    "duration": 131,
    "start_time": "2023-03-07T17:05:16.910Z"
   },
   {
    "duration": 471,
    "start_time": "2023-03-07T17:05:17.042Z"
   },
   {
    "duration": 16,
    "start_time": "2023-03-07T17:05:17.514Z"
   },
   {
    "duration": 40,
    "start_time": "2023-03-07T17:05:17.532Z"
   },
   {
    "duration": 3,
    "start_time": "2023-03-07T17:05:17.573Z"
   },
   {
    "duration": 100,
    "start_time": "2023-03-07T17:05:17.577Z"
   },
   {
    "duration": 16,
    "start_time": "2023-03-07T17:05:17.679Z"
   },
   {
    "duration": 3747,
    "start_time": "2023-03-07T17:05:17.697Z"
   },
   {
    "duration": 14,
    "start_time": "2023-03-07T17:05:21.446Z"
   },
   {
    "duration": 5,
    "start_time": "2023-03-07T17:05:21.461Z"
   },
   {
    "duration": 3612,
    "start_time": "2023-03-07T17:06:02.635Z"
   },
   {
    "duration": 3492,
    "start_time": "2023-03-07T17:06:10.156Z"
   },
   {
    "duration": 2344,
    "start_time": "2023-03-07T17:06:18.110Z"
   },
   {
    "duration": 39,
    "start_time": "2023-03-07T17:06:22.270Z"
   },
   {
    "duration": 5,
    "start_time": "2023-03-07T17:06:24.555Z"
   },
   {
    "duration": 3639,
    "start_time": "2023-03-07T17:06:29.206Z"
   },
   {
    "duration": 18,
    "start_time": "2023-03-07T17:06:34.514Z"
   },
   {
    "duration": 31,
    "start_time": "2023-03-07T17:06:37.078Z"
   },
   {
    "duration": 195,
    "start_time": "2023-03-07T17:10:00.976Z"
   },
   {
    "duration": 1747,
    "start_time": "2023-03-07T17:26:55.459Z"
   },
   {
    "duration": 956,
    "start_time": "2023-03-07T17:26:57.798Z"
   },
   {
    "duration": 150,
    "start_time": "2023-03-07T17:27:00.222Z"
   },
   {
    "duration": 115,
    "start_time": "2023-03-07T17:27:01.525Z"
   },
   {
    "duration": 188,
    "start_time": "2023-03-07T17:27:03.060Z"
   },
   {
    "duration": 115,
    "start_time": "2023-03-07T17:27:04.406Z"
   },
   {
    "duration": 31,
    "start_time": "2023-03-07T17:27:05.812Z"
   },
   {
    "duration": 16,
    "start_time": "2023-03-07T17:27:07.029Z"
   },
   {
    "duration": 87,
    "start_time": "2023-03-07T17:27:09.339Z"
   },
   {
    "duration": 321,
    "start_time": "2023-03-07T17:27:15.442Z"
   },
   {
    "duration": 268,
    "start_time": "2023-03-07T17:27:16.925Z"
   },
   {
    "duration": 82,
    "start_time": "2023-03-07T17:27:18.427Z"
   },
   {
    "duration": 161,
    "start_time": "2023-03-07T17:27:20.867Z"
   },
   {
    "duration": 125,
    "start_time": "2023-03-07T17:27:44.236Z"
   },
   {
    "duration": 1713,
    "start_time": "2023-03-08T07:49:31.093Z"
   },
   {
    "duration": 1199,
    "start_time": "2023-03-08T07:49:32.808Z"
   },
   {
    "duration": 151,
    "start_time": "2023-03-08T07:49:34.009Z"
   },
   {
    "duration": 126,
    "start_time": "2023-03-08T07:49:34.163Z"
   },
   {
    "duration": 162,
    "start_time": "2023-03-08T07:49:34.292Z"
   },
   {
    "duration": 104,
    "start_time": "2023-03-08T07:49:34.456Z"
   },
   {
    "duration": 3,
    "start_time": "2023-03-08T07:49:34.562Z"
   },
   {
    "duration": 34,
    "start_time": "2023-03-08T07:49:34.579Z"
   },
   {
    "duration": 21,
    "start_time": "2023-03-08T07:49:34.615Z"
   },
   {
    "duration": 99,
    "start_time": "2023-03-08T07:49:34.637Z"
   },
   {
    "duration": 366,
    "start_time": "2023-03-08T07:49:34.738Z"
   },
   {
    "duration": 323,
    "start_time": "2023-03-08T07:49:35.106Z"
   },
   {
    "duration": 89,
    "start_time": "2023-03-08T07:49:35.431Z"
   },
   {
    "duration": 141,
    "start_time": "2023-03-08T07:49:35.523Z"
   },
   {
    "duration": 464,
    "start_time": "2023-03-08T07:49:35.677Z"
   },
   {
    "duration": 16,
    "start_time": "2023-03-08T07:49:36.143Z"
   },
   {
    "duration": 70,
    "start_time": "2023-03-08T07:49:36.161Z"
   },
   {
    "duration": 3,
    "start_time": "2023-03-08T07:49:36.233Z"
   },
   {
    "duration": 116,
    "start_time": "2023-03-08T07:49:36.238Z"
   },
   {
    "duration": 5,
    "start_time": "2023-03-08T07:49:36.356Z"
   },
   {
    "duration": 3418,
    "start_time": "2023-03-08T07:49:36.363Z"
   },
   {
    "duration": 17,
    "start_time": "2023-03-08T07:49:39.784Z"
   },
   {
    "duration": 6,
    "start_time": "2023-03-08T07:49:39.803Z"
   },
   {
    "duration": 121588,
    "start_time": "2023-03-08T07:49:39.811Z"
   },
   {
    "duration": 146,
    "start_time": "2023-03-08T07:51:41.402Z"
   },
   {
    "duration": 1508,
    "start_time": "2023-03-08T08:03:07.308Z"
   },
   {
    "duration": 955,
    "start_time": "2023-03-08T08:03:08.819Z"
   },
   {
    "duration": 399,
    "start_time": "2023-03-08T08:03:09.778Z"
   },
   {
    "duration": 122,
    "start_time": "2023-03-08T08:03:10.180Z"
   },
   {
    "duration": 409,
    "start_time": "2023-03-08T08:03:10.304Z"
   },
   {
    "duration": 89,
    "start_time": "2023-03-08T08:03:10.714Z"
   },
   {
    "duration": 15,
    "start_time": "2023-03-08T08:03:10.805Z"
   },
   {
    "duration": 2,
    "start_time": "2023-03-08T08:03:10.822Z"
   },
   {
    "duration": 19,
    "start_time": "2023-03-08T08:03:10.826Z"
   },
   {
    "duration": 100,
    "start_time": "2023-03-08T08:03:10.846Z"
   },
   {
    "duration": 310,
    "start_time": "2023-03-08T08:03:10.948Z"
   },
   {
    "duration": 304,
    "start_time": "2023-03-08T08:03:11.260Z"
   },
   {
    "duration": 57,
    "start_time": "2023-03-08T08:03:11.565Z"
   },
   {
    "duration": 234,
    "start_time": "2023-03-08T08:03:11.624Z"
   },
   {
    "duration": 459,
    "start_time": "2023-03-08T08:03:11.860Z"
   },
   {
    "duration": 0,
    "start_time": "2023-03-08T08:03:12.321Z"
   },
   {
    "duration": 0,
    "start_time": "2023-03-08T08:03:12.322Z"
   },
   {
    "duration": 0,
    "start_time": "2023-03-08T08:03:12.323Z"
   },
   {
    "duration": 0,
    "start_time": "2023-03-08T08:03:12.324Z"
   },
   {
    "duration": 0,
    "start_time": "2023-03-08T08:03:12.326Z"
   },
   {
    "duration": 0,
    "start_time": "2023-03-08T08:03:12.326Z"
   },
   {
    "duration": 0,
    "start_time": "2023-03-08T08:03:12.327Z"
   },
   {
    "duration": 0,
    "start_time": "2023-03-08T08:03:12.329Z"
   },
   {
    "duration": 1404,
    "start_time": "2023-03-08T08:04:05.221Z"
   },
   {
    "duration": 990,
    "start_time": "2023-03-08T08:04:06.627Z"
   },
   {
    "duration": 421,
    "start_time": "2023-03-08T08:04:07.619Z"
   },
   {
    "duration": 116,
    "start_time": "2023-03-08T08:04:08.042Z"
   },
   {
    "duration": 431,
    "start_time": "2023-03-08T08:04:08.160Z"
   },
   {
    "duration": 86,
    "start_time": "2023-03-08T08:04:08.594Z"
   },
   {
    "duration": 23,
    "start_time": "2023-03-08T08:04:08.683Z"
   },
   {
    "duration": 29,
    "start_time": "2023-03-08T08:04:08.708Z"
   },
   {
    "duration": 100,
    "start_time": "2023-03-08T08:04:08.739Z"
   },
   {
    "duration": 289,
    "start_time": "2023-03-08T08:04:08.841Z"
   },
   {
    "duration": 266,
    "start_time": "2023-03-08T08:04:09.132Z"
   },
   {
    "duration": 60,
    "start_time": "2023-03-08T08:04:09.400Z"
   },
   {
    "duration": 323,
    "start_time": "2023-03-08T08:04:09.461Z"
   },
   {
    "duration": 384,
    "start_time": "2023-03-08T08:04:09.788Z"
   },
   {
    "duration": 15,
    "start_time": "2023-03-08T08:04:10.173Z"
   },
   {
    "duration": 54,
    "start_time": "2023-03-08T08:04:10.190Z"
   },
   {
    "duration": 3,
    "start_time": "2023-03-08T08:04:10.246Z"
   },
   {
    "duration": 73,
    "start_time": "2023-03-08T08:04:10.250Z"
   },
   {
    "duration": 4,
    "start_time": "2023-03-08T08:04:10.325Z"
   },
   {
    "duration": 3494,
    "start_time": "2023-03-08T08:04:10.330Z"
   },
   {
    "duration": 14,
    "start_time": "2023-03-08T08:04:13.826Z"
   },
   {
    "duration": 11,
    "start_time": "2023-03-08T08:04:13.842Z"
   },
   {
    "duration": 30,
    "start_time": "2023-03-08T09:43:55.171Z"
   },
   {
    "duration": 6,
    "start_time": "2023-03-08T09:43:56.626Z"
   },
   {
    "duration": 13,
    "start_time": "2023-03-08T09:44:04.624Z"
   },
   {
    "duration": 6,
    "start_time": "2023-03-08T09:44:05.947Z"
   },
   {
    "duration": 1573,
    "start_time": "2023-03-08T09:45:37.951Z"
   },
   {
    "duration": 1077,
    "start_time": "2023-03-08T09:45:39.526Z"
   },
   {
    "duration": 387,
    "start_time": "2023-03-08T09:45:40.604Z"
   },
   {
    "duration": 107,
    "start_time": "2023-03-08T09:45:40.996Z"
   },
   {
    "duration": 393,
    "start_time": "2023-03-08T09:45:41.106Z"
   },
   {
    "duration": 97,
    "start_time": "2023-03-08T09:45:41.502Z"
   },
   {
    "duration": 18,
    "start_time": "2023-03-08T09:45:41.601Z"
   },
   {
    "duration": 18,
    "start_time": "2023-03-08T09:45:41.621Z"
   },
   {
    "duration": 104,
    "start_time": "2023-03-08T09:45:41.641Z"
   },
   {
    "duration": 326,
    "start_time": "2023-03-08T09:45:41.748Z"
   },
   {
    "duration": 283,
    "start_time": "2023-03-08T09:45:42.077Z"
   },
   {
    "duration": 371,
    "start_time": "2023-03-08T09:45:42.362Z"
   },
   {
    "duration": 82,
    "start_time": "2023-03-08T09:45:42.735Z"
   },
   {
    "duration": 304,
    "start_time": "2023-03-08T09:45:42.820Z"
   },
   {
    "duration": 489,
    "start_time": "2023-03-08T09:45:43.126Z"
   },
   {
    "duration": 10,
    "start_time": "2023-03-08T09:45:43.616Z"
   },
   {
    "duration": 72,
    "start_time": "2023-03-08T09:45:43.628Z"
   },
   {
    "duration": 3,
    "start_time": "2023-03-08T09:45:43.703Z"
   },
   {
    "duration": 57,
    "start_time": "2023-03-08T09:45:43.708Z"
   },
   {
    "duration": 15,
    "start_time": "2023-03-08T09:45:43.766Z"
   },
   {
    "duration": 3336,
    "start_time": "2023-03-08T09:45:43.784Z"
   },
   {
    "duration": 13,
    "start_time": "2023-03-08T09:45:47.122Z"
   },
   {
    "duration": 9,
    "start_time": "2023-03-08T09:45:47.137Z"
   },
   {
    "duration": 1512,
    "start_time": "2023-03-08T09:46:24.399Z"
   },
   {
    "duration": 1091,
    "start_time": "2023-03-08T09:46:25.913Z"
   },
   {
    "duration": 394,
    "start_time": "2023-03-08T09:46:27.006Z"
   },
   {
    "duration": 110,
    "start_time": "2023-03-08T09:46:27.403Z"
   },
   {
    "duration": 429,
    "start_time": "2023-03-08T09:46:27.515Z"
   },
   {
    "duration": 86,
    "start_time": "2023-03-08T09:46:27.946Z"
   },
   {
    "duration": 17,
    "start_time": "2023-03-08T09:46:28.033Z"
   },
   {
    "duration": 27,
    "start_time": "2023-03-08T09:46:28.052Z"
   },
   {
    "duration": 117,
    "start_time": "2023-03-08T09:46:28.082Z"
   },
   {
    "duration": 313,
    "start_time": "2023-03-08T09:46:28.201Z"
   },
   {
    "duration": 273,
    "start_time": "2023-03-08T09:46:28.516Z"
   },
   {
    "duration": 299,
    "start_time": "2023-03-08T09:46:28.791Z"
   },
   {
    "duration": 62,
    "start_time": "2023-03-08T09:46:29.092Z"
   },
   {
    "duration": 282,
    "start_time": "2023-03-08T09:46:29.158Z"
   },
   {
    "duration": 474,
    "start_time": "2023-03-08T09:46:29.443Z"
   },
   {
    "duration": 8,
    "start_time": "2023-03-08T09:46:29.919Z"
   },
   {
    "duration": 55,
    "start_time": "2023-03-08T09:46:29.929Z"
   },
   {
    "duration": 3,
    "start_time": "2023-03-08T09:46:29.986Z"
   },
   {
    "duration": 51,
    "start_time": "2023-03-08T09:46:29.992Z"
   },
   {
    "duration": 5,
    "start_time": "2023-03-08T09:46:30.045Z"
   },
   {
    "duration": 3629,
    "start_time": "2023-03-08T09:46:30.051Z"
   },
   {
    "duration": 22,
    "start_time": "2023-03-08T09:46:33.683Z"
   },
   {
    "duration": 5,
    "start_time": "2023-03-08T09:46:33.707Z"
   },
   {
    "duration": 1528,
    "start_time": "2023-03-08T09:47:26.192Z"
   },
   {
    "duration": 1024,
    "start_time": "2023-03-08T09:47:27.722Z"
   },
   {
    "duration": 384,
    "start_time": "2023-03-08T09:47:28.747Z"
   },
   {
    "duration": 103,
    "start_time": "2023-03-08T09:47:29.132Z"
   },
   {
    "duration": 465,
    "start_time": "2023-03-08T09:47:29.238Z"
   },
   {
    "duration": 92,
    "start_time": "2023-03-08T09:47:29.705Z"
   },
   {
    "duration": 17,
    "start_time": "2023-03-08T09:47:29.801Z"
   },
   {
    "duration": 14,
    "start_time": "2023-03-08T09:47:29.819Z"
   },
   {
    "duration": 163,
    "start_time": "2023-03-08T09:47:29.835Z"
   },
   {
    "duration": 345,
    "start_time": "2023-03-08T09:47:30.000Z"
   },
   {
    "duration": 289,
    "start_time": "2023-03-08T09:47:30.347Z"
   },
   {
    "duration": 318,
    "start_time": "2023-03-08T09:47:30.638Z"
   },
   {
    "duration": 80,
    "start_time": "2023-03-08T09:47:30.958Z"
   },
   {
    "duration": 321,
    "start_time": "2023-03-08T09:47:31.041Z"
   },
   {
    "duration": 492,
    "start_time": "2023-03-08T09:47:31.363Z"
   },
   {
    "duration": 9,
    "start_time": "2023-03-08T09:47:31.856Z"
   },
   {
    "duration": 81,
    "start_time": "2023-03-08T09:47:31.867Z"
   },
   {
    "duration": 2,
    "start_time": "2023-03-08T09:47:31.950Z"
   },
   {
    "duration": 67,
    "start_time": "2023-03-08T09:47:31.954Z"
   },
   {
    "duration": 5,
    "start_time": "2023-03-08T09:47:32.023Z"
   },
   {
    "duration": 3529,
    "start_time": "2023-03-08T09:47:32.030Z"
   },
   {
    "duration": 14,
    "start_time": "2023-03-08T09:47:35.561Z"
   },
   {
    "duration": 7,
    "start_time": "2023-03-08T09:47:35.577Z"
   },
   {
    "duration": 1556,
    "start_time": "2023-03-08T09:48:31.957Z"
   },
   {
    "duration": 1060,
    "start_time": "2023-03-08T09:48:33.515Z"
   },
   {
    "duration": 420,
    "start_time": "2023-03-08T09:48:34.580Z"
   },
   {
    "duration": 120,
    "start_time": "2023-03-08T09:48:35.004Z"
   },
   {
    "duration": 441,
    "start_time": "2023-03-08T09:48:35.126Z"
   },
   {
    "duration": 89,
    "start_time": "2023-03-08T09:48:35.569Z"
   },
   {
    "duration": 36,
    "start_time": "2023-03-08T09:48:35.659Z"
   },
   {
    "duration": 22,
    "start_time": "2023-03-08T09:48:35.698Z"
   },
   {
    "duration": 155,
    "start_time": "2023-03-08T09:48:35.722Z"
   },
   {
    "duration": 26,
    "start_time": "2023-03-08T09:48:35.880Z"
   },
   {
    "duration": 353,
    "start_time": "2023-03-08T09:48:35.907Z"
   },
   {
    "duration": 302,
    "start_time": "2023-03-08T09:48:36.262Z"
   },
   {
    "duration": 300,
    "start_time": "2023-03-08T09:48:36.567Z"
   },
   {
    "duration": 80,
    "start_time": "2023-03-08T09:48:36.869Z"
   },
   {
    "duration": 335,
    "start_time": "2023-03-08T09:48:36.951Z"
   },
   {
    "duration": 521,
    "start_time": "2023-03-08T09:48:37.290Z"
   },
   {
    "duration": 10,
    "start_time": "2023-03-08T09:48:37.813Z"
   },
   {
    "duration": 59,
    "start_time": "2023-03-08T09:48:37.826Z"
   },
   {
    "duration": 3,
    "start_time": "2023-03-08T09:48:37.887Z"
   },
   {
    "duration": 56,
    "start_time": "2023-03-08T09:48:37.892Z"
   },
   {
    "duration": 5,
    "start_time": "2023-03-08T09:48:37.950Z"
   },
   {
    "duration": 3417,
    "start_time": "2023-03-08T09:48:37.956Z"
   },
   {
    "duration": 15,
    "start_time": "2023-03-08T09:48:41.374Z"
   },
   {
    "duration": 14,
    "start_time": "2023-03-08T09:48:41.392Z"
   },
   {
    "duration": 1538,
    "start_time": "2023-03-08T09:54:05.997Z"
   },
   {
    "duration": 1056,
    "start_time": "2023-03-08T09:54:07.538Z"
   },
   {
    "duration": 441,
    "start_time": "2023-03-08T09:54:08.597Z"
   },
   {
    "duration": 108,
    "start_time": "2023-03-08T09:54:09.040Z"
   },
   {
    "duration": 468,
    "start_time": "2023-03-08T09:54:09.150Z"
   },
   {
    "duration": 89,
    "start_time": "2023-03-08T09:54:09.619Z"
   },
   {
    "duration": 17,
    "start_time": "2023-03-08T09:54:09.710Z"
   },
   {
    "duration": 16,
    "start_time": "2023-03-08T09:54:09.729Z"
   },
   {
    "duration": 151,
    "start_time": "2023-03-08T09:54:09.747Z"
   },
   {
    "duration": 310,
    "start_time": "2023-03-08T09:54:09.899Z"
   },
   {
    "duration": 323,
    "start_time": "2023-03-08T09:54:10.210Z"
   },
   {
    "duration": 322,
    "start_time": "2023-03-08T09:54:10.535Z"
   },
   {
    "duration": 71,
    "start_time": "2023-03-08T09:54:10.859Z"
   },
   {
    "duration": 291,
    "start_time": "2023-03-08T09:54:10.933Z"
   },
   {
    "duration": 468,
    "start_time": "2023-03-08T09:54:11.226Z"
   },
   {
    "duration": 10,
    "start_time": "2023-03-08T09:54:11.696Z"
   },
   {
    "duration": 49,
    "start_time": "2023-03-08T09:54:11.708Z"
   },
   {
    "duration": 3,
    "start_time": "2023-03-08T09:54:11.759Z"
   },
   {
    "duration": 52,
    "start_time": "2023-03-08T09:54:11.778Z"
   },
   {
    "duration": 4,
    "start_time": "2023-03-08T09:54:11.832Z"
   },
   {
    "duration": 3592,
    "start_time": "2023-03-08T09:54:11.838Z"
   },
   {
    "duration": 15,
    "start_time": "2023-03-08T09:54:15.433Z"
   },
   {
    "duration": 5,
    "start_time": "2023-03-08T09:54:15.450Z"
   },
   {
    "duration": 1882,
    "start_time": "2023-03-08T13:33:56.334Z"
   },
   {
    "duration": 1292,
    "start_time": "2023-03-08T13:34:57.641Z"
   },
   {
    "duration": 765,
    "start_time": "2023-03-08T13:35:08.828Z"
   },
   {
    "duration": 110,
    "start_time": "2023-03-08T13:38:06.327Z"
   },
   {
    "duration": 434,
    "start_time": "2023-03-08T13:52:53.077Z"
   },
   {
    "duration": 94,
    "start_time": "2023-03-08T13:59:26.636Z"
   },
   {
    "duration": 18,
    "start_time": "2023-03-08T14:06:11.123Z"
   },
   {
    "duration": 116,
    "start_time": "2023-03-08T14:07:55.407Z"
   },
   {
    "duration": 1662,
    "start_time": "2023-03-08T14:08:48.869Z"
   },
   {
    "duration": 740,
    "start_time": "2023-03-08T14:09:05.246Z"
   },
   {
    "duration": 733,
    "start_time": "2023-03-08T14:09:15.276Z"
   },
   {
    "duration": 420,
    "start_time": "2023-03-08T14:15:00.087Z"
   },
   {
    "duration": 363,
    "start_time": "2023-03-08T14:15:03.426Z"
   },
   {
    "duration": 333,
    "start_time": "2023-03-08T14:15:04.693Z"
   },
   {
    "duration": 347,
    "start_time": "2023-03-08T14:24:12.643Z"
   },
   {
    "duration": 379,
    "start_time": "2023-03-08T14:45:57.602Z"
   },
   {
    "duration": 8,
    "start_time": "2023-03-08T14:50:19.994Z"
   },
   {
    "duration": 48,
    "start_time": "2023-03-08T14:50:59.366Z"
   },
   {
    "duration": 4,
    "start_time": "2023-03-08T14:52:19.966Z"
   },
   {
    "duration": 51,
    "start_time": "2023-03-08T14:52:35.489Z"
   },
   {
    "duration": 3565,
    "start_time": "2023-03-08T14:59:01.799Z"
   },
   {
    "duration": 3407,
    "start_time": "2023-03-08T14:59:25.500Z"
   },
   {
    "duration": 3569,
    "start_time": "2023-03-08T15:00:06.850Z"
   },
   {
    "duration": 61,
    "start_time": "2023-03-08T15:00:56.447Z"
   },
   {
    "duration": 3408,
    "start_time": "2023-03-08T15:02:28.628Z"
   },
   {
    "duration": 285,
    "start_time": "2023-03-08T15:02:40.515Z"
   },
   {
    "duration": 70,
    "start_time": "2023-03-08T15:16:02.946Z"
   },
   {
    "duration": 3,
    "start_time": "2023-03-08T15:16:28.048Z"
   },
   {
    "duration": 3359,
    "start_time": "2023-03-08T15:16:43.740Z"
   },
   {
    "duration": 3118,
    "start_time": "2023-03-08T15:17:24.067Z"
   },
   {
    "duration": 125,
    "start_time": "2023-03-08T15:17:32.064Z"
   },
   {
    "duration": 3,
    "start_time": "2023-03-08T15:20:03.352Z"
   },
   {
    "duration": 17,
    "start_time": "2023-03-08T15:21:33.004Z"
   },
   {
    "duration": 4,
    "start_time": "2023-03-08T15:21:36.842Z"
   },
   {
    "duration": 7415,
    "start_time": "2023-03-08T15:21:37.556Z"
   },
   {
    "duration": 7,
    "start_time": "2023-03-08T15:22:21.442Z"
   },
   {
    "duration": 5,
    "start_time": "2023-03-08T15:23:19.681Z"
   },
   {
    "duration": 18178,
    "start_time": "2023-03-08T15:23:20.507Z"
   },
   {
    "duration": 3,
    "start_time": "2023-03-08T15:24:00.651Z"
   },
   {
    "duration": 63075,
    "start_time": "2023-03-08T15:24:01.376Z"
   },
   {
    "duration": 9,
    "start_time": "2023-03-08T15:25:08.547Z"
   },
   {
    "duration": 4,
    "start_time": "2023-03-08T15:25:42.966Z"
   },
   {
    "duration": 102488,
    "start_time": "2023-03-08T15:25:43.839Z"
   },
   {
    "duration": 5,
    "start_time": "2023-03-08T15:27:29.892Z"
   },
   {
    "duration": 4,
    "start_time": "2023-03-08T15:28:05.565Z"
   },
   {
    "duration": 554401,
    "start_time": "2023-03-08T15:28:06.682Z"
   },
   {
    "duration": 7,
    "start_time": "2023-03-08T15:38:13.408Z"
   },
   {
    "duration": 13283,
    "start_time": "2023-03-08T15:39:40.307Z"
   },
   {
    "duration": 5,
    "start_time": "2023-03-08T15:40:39.746Z"
   },
   {
    "duration": 265679,
    "start_time": "2023-03-08T15:40:40.915Z"
   },
   {
    "duration": 5,
    "start_time": "2023-03-08T15:45:09.055Z"
   },
   {
    "duration": 12772,
    "start_time": "2023-03-08T15:45:13.993Z"
   },
   {
    "duration": 3,
    "start_time": "2023-03-08T15:46:11.931Z"
   },
   {
    "duration": 179122,
    "start_time": "2023-03-08T15:46:14.202Z"
   },
   {
    "duration": 5,
    "start_time": "2023-03-08T15:49:33.505Z"
   },
   {
    "duration": 11885,
    "start_time": "2023-03-08T15:49:35.925Z"
   },
   {
    "duration": 5244,
    "start_time": "2023-03-08T15:50:28.215Z"
   },
   {
    "duration": 3864,
    "start_time": "2023-03-08T15:50:40.105Z"
   },
   {
    "duration": 2414,
    "start_time": "2023-03-08T15:50:50.348Z"
   },
   {
    "duration": 16288,
    "start_time": "2023-03-08T15:50:58.236Z"
   },
   {
    "duration": 6864,
    "start_time": "2023-03-08T15:51:26.602Z"
   },
   {
    "duration": 7268,
    "start_time": "2023-03-08T15:51:41.233Z"
   },
   {
    "duration": 6612,
    "start_time": "2023-03-08T15:51:52.817Z"
   },
   {
    "duration": 6629,
    "start_time": "2023-03-08T15:52:04.034Z"
   },
   {
    "duration": 3743,
    "start_time": "2023-03-08T15:52:44.510Z"
   },
   {
    "duration": 3806,
    "start_time": "2023-03-08T15:52:52.390Z"
   },
   {
    "duration": 3762,
    "start_time": "2023-03-08T15:53:01.707Z"
   },
   {
    "duration": 3813,
    "start_time": "2023-03-08T15:53:11.628Z"
   },
   {
    "duration": 3910,
    "start_time": "2023-03-08T15:53:20.971Z"
   },
   {
    "duration": 3834,
    "start_time": "2023-03-08T15:53:30.441Z"
   },
   {
    "duration": 5302,
    "start_time": "2023-03-08T15:53:39.455Z"
   },
   {
    "duration": 4,
    "start_time": "2023-03-08T15:54:34.403Z"
   },
   {
    "duration": 5025,
    "start_time": "2023-03-08T15:54:44.451Z"
   },
   {
    "duration": 17,
    "start_time": "2023-03-08T15:55:11.946Z"
   },
   {
    "duration": 5,
    "start_time": "2023-03-08T15:55:17.817Z"
   },
   {
    "duration": 96,
    "start_time": "2023-03-08T16:06:04.935Z"
   },
   {
    "duration": 23,
    "start_time": "2023-03-08T16:07:26.266Z"
   },
   {
    "duration": 6,
    "start_time": "2023-03-08T16:07:27.428Z"
   },
   {
    "duration": 6,
    "start_time": "2023-03-08T16:07:32.548Z"
   },
   {
    "duration": 6,
    "start_time": "2023-03-08T16:08:23.581Z"
   },
   {
    "duration": 96,
    "start_time": "2023-03-08T16:08:24.832Z"
   },
   {
    "duration": 17,
    "start_time": "2023-03-08T16:08:26.205Z"
   },
   {
    "duration": 63,
    "start_time": "2023-03-08T16:08:32.544Z"
   },
   {
    "duration": 42,
    "start_time": "2023-03-08T16:08:37.107Z"
   },
   {
    "duration": 80,
    "start_time": "2023-03-08T16:08:41.458Z"
   },
   {
    "duration": 62,
    "start_time": "2023-03-08T16:08:46.104Z"
   },
   {
    "duration": 22,
    "start_time": "2023-03-08T16:08:47.007Z"
   },
   {
    "duration": 84,
    "start_time": "2023-03-08T16:08:51.360Z"
   },
   {
    "duration": 82,
    "start_time": "2023-03-08T16:08:52.012Z"
   },
   {
    "duration": 96,
    "start_time": "2023-03-08T16:08:52.541Z"
   },
   {
    "duration": 64,
    "start_time": "2023-03-08T16:08:53.027Z"
   },
   {
    "duration": 74,
    "start_time": "2023-03-08T16:08:53.458Z"
   },
   {
    "duration": 81,
    "start_time": "2023-03-08T16:08:53.849Z"
   },
   {
    "duration": 72,
    "start_time": "2023-03-08T16:08:54.266Z"
   },
   {
    "duration": 66,
    "start_time": "2023-03-08T16:08:54.695Z"
   },
   {
    "duration": 66,
    "start_time": "2023-03-08T16:08:55.090Z"
   },
   {
    "duration": 77,
    "start_time": "2023-03-08T16:08:55.553Z"
   },
   {
    "duration": 82,
    "start_time": "2023-03-08T16:08:56.068Z"
   },
   {
    "duration": 63,
    "start_time": "2023-03-08T16:08:58.716Z"
   },
   {
    "duration": 74,
    "start_time": "2023-03-08T16:08:59.248Z"
   },
   {
    "duration": 63,
    "start_time": "2023-03-08T16:08:59.895Z"
   },
   {
    "duration": 83,
    "start_time": "2023-03-08T16:09:00.346Z"
   },
   {
    "duration": 61,
    "start_time": "2023-03-08T16:09:00.800Z"
   },
   {
    "duration": 83,
    "start_time": "2023-03-08T16:09:01.628Z"
   },
   {
    "duration": 80,
    "start_time": "2023-03-08T16:09:02.232Z"
   },
   {
    "duration": 77,
    "start_time": "2023-03-08T16:09:02.733Z"
   },
   {
    "duration": 75,
    "start_time": "2023-03-08T16:09:03.247Z"
   },
   {
    "duration": 78,
    "start_time": "2023-03-08T16:09:04.198Z"
   },
   {
    "duration": 61,
    "start_time": "2023-03-08T16:09:05.003Z"
   },
   {
    "duration": 67,
    "start_time": "2023-03-08T16:09:05.559Z"
   },
   {
    "duration": 60,
    "start_time": "2023-03-08T16:09:06.214Z"
   },
   {
    "duration": 5682,
    "start_time": "2023-03-08T16:11:18.065Z"
   },
   {
    "duration": 30,
    "start_time": "2023-03-08T16:11:28.770Z"
   },
   {
    "duration": 29,
    "start_time": "2023-03-08T16:11:30.372Z"
   },
   {
    "duration": 20,
    "start_time": "2023-03-08T16:11:31.034Z"
   },
   {
    "duration": 20,
    "start_time": "2023-03-08T16:11:31.633Z"
   },
   {
    "duration": 5372,
    "start_time": "2023-03-08T16:11:56.161Z"
   },
   {
    "duration": 20,
    "start_time": "2023-03-08T16:12:05.306Z"
   },
   {
    "duration": 6,
    "start_time": "2023-03-08T16:12:06.364Z"
   },
   {
    "duration": 4,
    "start_time": "2023-03-08T16:12:53.723Z"
   },
   {
    "duration": 82,
    "start_time": "2023-03-08T16:12:55.246Z"
   },
   {
    "duration": 52,
    "start_time": "2023-03-08T16:12:58.268Z"
   },
   {
    "duration": 8,
    "start_time": "2023-03-08T16:13:01.276Z"
   },
   {
    "duration": 6,
    "start_time": "2023-03-08T16:16:17.668Z"
   },
   {
    "duration": 6,
    "start_time": "2023-03-08T16:19:09.357Z"
   },
   {
    "duration": 4,
    "start_time": "2023-03-08T16:19:10.345Z"
   },
   {
    "duration": 11830,
    "start_time": "2023-03-08T16:19:18.172Z"
   },
   {
    "duration": 252,
    "start_time": "2023-03-08T16:19:30.004Z"
   },
   {
    "duration": 6,
    "start_time": "2023-03-08T16:19:30.258Z"
   },
   {
    "duration": 11751,
    "start_time": "2023-03-08T16:20:06.251Z"
   },
   {
    "duration": 255,
    "start_time": "2023-03-08T16:20:24.945Z"
   },
   {
    "duration": 7,
    "start_time": "2023-03-08T16:20:28.506Z"
   },
   {
    "duration": 14,
    "start_time": "2023-03-08T16:36:09.241Z"
   },
   {
    "duration": 32,
    "start_time": "2023-03-08T16:36:12.962Z"
   },
   {
    "duration": 394757,
    "start_time": "2023-03-08T16:36:16.038Z"
   },
   {
    "duration": 4,
    "start_time": "2023-03-08T16:45:41.500Z"
   },
   {
    "duration": 5211,
    "start_time": "2023-03-08T16:45:43.453Z"
   },
   {
    "duration": 24,
    "start_time": "2023-03-08T16:45:51.844Z"
   },
   {
    "duration": 7,
    "start_time": "2023-03-08T16:45:53.818Z"
   },
   {
    "duration": 3,
    "start_time": "2023-03-08T16:46:01.252Z"
   },
   {
    "duration": 5094,
    "start_time": "2023-03-08T16:46:02.041Z"
   },
   {
    "duration": 25,
    "start_time": "2023-03-08T16:46:08.820Z"
   },
   {
    "duration": 6,
    "start_time": "2023-03-08T16:46:36.342Z"
   },
   {
    "duration": 9,
    "start_time": "2023-03-08T16:48:29.392Z"
   },
   {
    "duration": 6,
    "start_time": "2023-03-08T16:48:43.404Z"
   },
   {
    "duration": 4,
    "start_time": "2023-03-08T16:49:23.260Z"
   },
   {
    "duration": 334819,
    "start_time": "2023-03-08T16:49:26.795Z"
   },
   {
    "duration": 357,
    "start_time": "2023-03-08T16:55:13.327Z"
   },
   {
    "duration": 6,
    "start_time": "2023-03-08T16:55:16.422Z"
   },
   {
    "duration": 4,
    "start_time": "2023-03-08T17:19:20.514Z"
   },
   {
    "duration": 6,
    "start_time": "2023-03-08T17:19:35.504Z"
   },
   {
    "duration": 8,
    "start_time": "2023-03-08T17:19:46.351Z"
   },
   {
    "duration": 7,
    "start_time": "2023-03-08T17:19:50.601Z"
   },
   {
    "duration": 8,
    "start_time": "2023-03-08T17:19:57.026Z"
   },
   {
    "duration": 3,
    "start_time": "2023-03-08T17:21:09.398Z"
   },
   {
    "duration": 126827,
    "start_time": "2023-03-08T17:21:10.757Z"
   },
   {
    "duration": 327,
    "start_time": "2023-03-08T17:23:26.258Z"
   },
   {
    "duration": 5,
    "start_time": "2023-03-08T17:23:28.043Z"
   },
   {
    "duration": 6,
    "start_time": "2023-03-08T17:23:31.824Z"
   },
   {
    "duration": 364,
    "start_time": "2023-03-08T17:23:35.824Z"
   },
   {
    "duration": 7,
    "start_time": "2023-03-08T17:23:38.835Z"
   },
   {
    "duration": 7,
    "start_time": "2023-03-08T17:24:58.603Z"
   },
   {
    "duration": 1685,
    "start_time": "2023-03-08T17:40:41.889Z"
   },
   {
    "duration": 1071,
    "start_time": "2023-03-08T17:40:43.577Z"
   },
   {
    "duration": 498,
    "start_time": "2023-03-08T17:40:44.650Z"
   },
   {
    "duration": 103,
    "start_time": "2023-03-08T17:40:45.149Z"
   },
   {
    "duration": 484,
    "start_time": "2023-03-08T17:40:45.255Z"
   },
   {
    "duration": 94,
    "start_time": "2023-03-08T17:40:45.741Z"
   },
   {
    "duration": 17,
    "start_time": "2023-03-08T17:40:45.837Z"
   },
   {
    "duration": 148,
    "start_time": "2023-03-08T17:40:45.856Z"
   },
   {
    "duration": 328,
    "start_time": "2023-03-08T17:40:46.005Z"
   },
   {
    "duration": 382,
    "start_time": "2023-03-08T17:40:46.335Z"
   },
   {
    "duration": 305,
    "start_time": "2023-03-08T17:40:46.719Z"
   },
   {
    "duration": 314,
    "start_time": "2023-03-08T17:40:47.026Z"
   },
   {
    "duration": 411,
    "start_time": "2023-03-08T17:40:47.342Z"
   },
   {
    "duration": 7,
    "start_time": "2023-03-08T17:40:47.757Z"
   },
   {
    "duration": 57,
    "start_time": "2023-03-08T17:40:47.777Z"
   },
   {
    "duration": 3,
    "start_time": "2023-03-08T17:40:47.836Z"
   },
   {
    "duration": 65,
    "start_time": "2023-03-08T17:40:47.841Z"
   },
   {
    "duration": 4,
    "start_time": "2023-03-08T17:40:47.908Z"
   },
   {
    "duration": 4918,
    "start_time": "2023-03-08T17:40:47.913Z"
   },
   {
    "duration": 25,
    "start_time": "2023-03-08T17:40:52.832Z"
   },
   {
    "duration": 6,
    "start_time": "2023-03-08T17:40:52.859Z"
   },
   {
    "duration": 34,
    "start_time": "2023-03-08T17:40:52.867Z"
   },
   {
    "duration": 99,
    "start_time": "2023-03-08T17:40:52.904Z"
   },
   {
    "duration": 83,
    "start_time": "2023-03-08T17:40:53.006Z"
   },
   {
    "duration": 105,
    "start_time": "2023-03-08T17:40:53.091Z"
   },
   {
    "duration": 11,
    "start_time": "2023-03-08T17:40:53.200Z"
   },
   {
    "duration": 165552,
    "start_time": "2023-03-08T17:40:53.212Z"
   },
   {
    "duration": 21,
    "start_time": "2023-03-08T17:43:38.765Z"
   },
   {
    "duration": 15,
    "start_time": "2023-03-08T17:43:38.791Z"
   },
   {
    "duration": 11126,
    "start_time": "2023-03-08T17:43:38.808Z"
   },
   {
    "duration": 231,
    "start_time": "2023-03-08T17:43:49.936Z"
   },
   {
    "duration": 18,
    "start_time": "2023-03-08T17:43:50.169Z"
   },
   {
    "duration": 0,
    "start_time": "2023-03-08T17:43:50.194Z"
   },
   {
    "duration": 0,
    "start_time": "2023-03-08T17:43:50.195Z"
   },
   {
    "duration": 0,
    "start_time": "2023-03-08T17:43:50.198Z"
   },
   {
    "duration": 0,
    "start_time": "2023-03-08T17:43:50.200Z"
   },
   {
    "duration": 0,
    "start_time": "2023-03-08T17:43:50.202Z"
   },
   {
    "duration": 240,
    "start_time": "2023-03-08T17:44:32.742Z"
   },
   {
    "duration": 7,
    "start_time": "2023-03-08T17:44:42.774Z"
   },
   {
    "duration": 1535,
    "start_time": "2023-03-08T17:44:55.946Z"
   },
   {
    "duration": 1081,
    "start_time": "2023-03-08T17:44:57.489Z"
   },
   {
    "duration": 458,
    "start_time": "2023-03-08T17:44:58.571Z"
   },
   {
    "duration": 112,
    "start_time": "2023-03-08T17:44:59.032Z"
   },
   {
    "duration": 484,
    "start_time": "2023-03-08T17:44:59.147Z"
   },
   {
    "duration": 108,
    "start_time": "2023-03-08T17:44:59.633Z"
   },
   {
    "duration": 21,
    "start_time": "2023-03-08T17:44:59.744Z"
   },
   {
    "duration": 170,
    "start_time": "2023-03-08T17:44:59.767Z"
   },
   {
    "duration": 321,
    "start_time": "2023-03-08T17:44:59.939Z"
   },
   {
    "duration": 392,
    "start_time": "2023-03-08T17:45:00.263Z"
   },
   {
    "duration": 300,
    "start_time": "2023-03-08T17:45:00.657Z"
   },
   {
    "duration": 299,
    "start_time": "2023-03-08T17:45:00.959Z"
   },
   {
    "duration": 402,
    "start_time": "2023-03-08T17:45:01.260Z"
   },
   {
    "duration": 22,
    "start_time": "2023-03-08T17:45:01.664Z"
   },
   {
    "duration": 62,
    "start_time": "2023-03-08T17:45:01.690Z"
   },
   {
    "duration": 2,
    "start_time": "2023-03-08T17:45:01.754Z"
   },
   {
    "duration": 73,
    "start_time": "2023-03-08T17:45:01.758Z"
   },
   {
    "duration": 5,
    "start_time": "2023-03-08T17:45:01.832Z"
   },
   {
    "duration": 5596,
    "start_time": "2023-03-08T17:45:01.839Z"
   },
   {
    "duration": 18,
    "start_time": "2023-03-08T17:45:07.437Z"
   },
   {
    "duration": 11,
    "start_time": "2023-03-08T17:45:07.457Z"
   },
   {
    "duration": 33,
    "start_time": "2023-03-08T17:45:07.470Z"
   },
   {
    "duration": 105,
    "start_time": "2023-03-08T17:45:07.509Z"
   },
   {
    "duration": 172,
    "start_time": "2023-03-08T17:45:07.616Z"
   },
   {
    "duration": 25,
    "start_time": "2023-03-08T17:45:07.789Z"
   },
   {
    "duration": 4,
    "start_time": "2023-03-08T17:45:07.816Z"
   },
   {
    "duration": 166313,
    "start_time": "2023-03-08T17:45:07.822Z"
   },
   {
    "duration": 5,
    "start_time": "2023-03-08T17:47:54.138Z"
   },
   {
    "duration": 12,
    "start_time": "2023-03-08T17:47:54.145Z"
   },
   {
    "duration": 10931,
    "start_time": "2023-03-08T17:47:54.158Z"
   },
   {
    "duration": 249,
    "start_time": "2023-03-08T17:48:05.096Z"
   },
   {
    "duration": 5,
    "start_time": "2023-03-08T17:48:05.347Z"
   },
   {
    "duration": 7,
    "start_time": "2023-03-08T17:48:05.354Z"
   },
   {
    "duration": 149325,
    "start_time": "2023-03-08T17:48:05.362Z"
   },
   {
    "duration": 395,
    "start_time": "2023-03-08T17:50:34.693Z"
   },
   {
    "duration": 5,
    "start_time": "2023-03-08T17:50:35.092Z"
   },
   {
    "duration": 9,
    "start_time": "2023-03-08T17:50:35.100Z"
   },
   {
    "duration": 1749,
    "start_time": "2023-03-10T08:18:50.411Z"
   },
   {
    "duration": 4011,
    "start_time": "2023-03-10T08:18:57.800Z"
   },
   {
    "duration": 140,
    "start_time": "2023-03-10T08:19:04.867Z"
   },
   {
    "duration": 117,
    "start_time": "2023-03-10T08:19:17.201Z"
   },
   {
    "duration": 145,
    "start_time": "2023-03-10T08:19:41.807Z"
   },
   {
    "duration": 109,
    "start_time": "2023-03-10T08:19:58.696Z"
   },
   {
    "duration": 29,
    "start_time": "2023-03-10T08:20:29.578Z"
   },
   {
    "duration": 160,
    "start_time": "2023-03-10T08:20:55.631Z"
   },
   {
    "duration": 353,
    "start_time": "2023-03-10T08:21:18.964Z"
   },
   {
    "duration": 340,
    "start_time": "2023-03-10T08:21:22.116Z"
   },
   {
    "duration": 301,
    "start_time": "2023-03-10T08:21:25.130Z"
   },
   {
    "duration": 90,
    "start_time": "2023-03-10T11:13:55.981Z"
   },
   {
    "duration": 248,
    "start_time": "2023-03-10T11:16:09.368Z"
   },
   {
    "duration": 82,
    "start_time": "2023-03-10T11:16:17.780Z"
   },
   {
    "duration": 135,
    "start_time": "2023-03-10T11:16:58.095Z"
   },
   {
    "duration": 127,
    "start_time": "2023-03-10T11:17:23.070Z"
   },
   {
    "duration": 95,
    "start_time": "2023-03-10T11:17:25.237Z"
   },
   {
    "duration": 37,
    "start_time": "2023-03-10T11:17:34.871Z"
   },
   {
    "duration": 20,
    "start_time": "2023-03-10T11:17:54.089Z"
   },
   {
    "duration": 7,
    "start_time": "2023-03-10T11:18:11.310Z"
   },
   {
    "duration": 169,
    "start_time": "2023-03-10T11:18:26.807Z"
   },
   {
    "duration": 199,
    "start_time": "2023-03-10T11:18:58.806Z"
   },
   {
    "duration": 54,
    "start_time": "2023-03-10T11:19:52.165Z"
   },
   {
    "duration": 126,
    "start_time": "2023-03-10T11:19:55.698Z"
   },
   {
    "duration": 4,
    "start_time": "2023-03-10T11:21:48.733Z"
   },
   {
    "duration": 371,
    "start_time": "2023-03-10T11:21:52.210Z"
   },
   {
    "duration": 48,
    "start_time": "2023-03-10T11:22:32.046Z"
   },
   {
    "duration": 36,
    "start_time": "2023-03-10T11:23:00.070Z"
   },
   {
    "duration": 46,
    "start_time": "2023-03-10T11:25:31.790Z"
   },
   {
    "duration": 22,
    "start_time": "2023-03-10T11:29:36.403Z"
   },
   {
    "duration": 70,
    "start_time": "2023-03-10T11:29:43.184Z"
   },
   {
    "duration": 3245,
    "start_time": "2023-03-10T11:30:28.196Z"
   },
   {
    "duration": 3521,
    "start_time": "2023-03-10T11:30:32.405Z"
   },
   {
    "duration": 136,
    "start_time": "2023-03-10T11:30:38.496Z"
   },
   {
    "duration": 131,
    "start_time": "2023-03-10T11:30:39.729Z"
   },
   {
    "duration": 180,
    "start_time": "2023-03-10T11:30:42.624Z"
   },
   {
    "duration": 165,
    "start_time": "2023-03-10T11:30:44.328Z"
   },
   {
    "duration": 34,
    "start_time": "2023-03-10T11:30:46.668Z"
   },
   {
    "duration": 125,
    "start_time": "2023-03-10T11:30:48.476Z"
   },
   {
    "duration": 387,
    "start_time": "2023-03-10T11:30:50.539Z"
   },
   {
    "duration": 314,
    "start_time": "2023-03-10T11:30:51.909Z"
   },
   {
    "duration": 477,
    "start_time": "2023-03-10T11:30:53.560Z"
   },
   {
    "duration": 93,
    "start_time": "2023-03-10T11:31:08.364Z"
   },
   {
    "duration": 13,
    "start_time": "2023-03-10T11:31:23.816Z"
   },
   {
    "duration": 64,
    "start_time": "2023-03-10T11:31:58.938Z"
   },
   {
    "duration": 188,
    "start_time": "2023-03-10T11:32:13.495Z"
   },
   {
    "duration": 17,
    "start_time": "2023-03-10T11:32:22.365Z"
   },
   {
    "duration": 11,
    "start_time": "2023-03-10T11:32:24.864Z"
   },
   {
    "duration": 2677,
    "start_time": "2023-03-10T11:32:44.831Z"
   },
   {
    "duration": 987,
    "start_time": "2023-03-10T11:32:47.510Z"
   },
   {
    "duration": 146,
    "start_time": "2023-03-10T11:32:48.505Z"
   },
   {
    "duration": 178,
    "start_time": "2023-03-10T11:32:48.654Z"
   },
   {
    "duration": 152,
    "start_time": "2023-03-10T11:32:52.089Z"
   },
   {
    "duration": 137,
    "start_time": "2023-03-10T11:32:53.476Z"
   },
   {
    "duration": 27,
    "start_time": "2023-03-10T11:32:55.307Z"
   },
   {
    "duration": 138,
    "start_time": "2023-03-10T11:32:56.496Z"
   },
   {
    "duration": 425,
    "start_time": "2023-03-10T11:32:57.798Z"
   },
   {
    "duration": 392,
    "start_time": "2023-03-10T11:32:59.127Z"
   },
   {
    "duration": 486,
    "start_time": "2023-03-10T11:33:00.625Z"
   },
   {
    "duration": 160,
    "start_time": "2023-03-10T11:33:03.369Z"
   },
   {
    "duration": 20,
    "start_time": "2023-03-10T11:33:04.210Z"
   },
   {
    "duration": 33,
    "start_time": "2023-03-10T11:33:08.867Z"
   },
   {
    "duration": 42,
    "start_time": "2023-03-10T11:33:10.777Z"
   },
   {
    "duration": 34,
    "start_time": "2023-03-10T11:33:12.012Z"
   },
   {
    "duration": 9,
    "start_time": "2023-03-10T11:33:41.105Z"
   },
   {
    "duration": 13,
    "start_time": "2023-03-10T11:33:48.590Z"
   },
   {
    "duration": 1683,
    "start_time": "2023-03-10T11:39:17.335Z"
   },
   {
    "duration": 1186,
    "start_time": "2023-03-10T11:39:22.002Z"
   },
   {
    "duration": 246,
    "start_time": "2023-03-10T11:39:25.722Z"
   },
   {
    "duration": 179,
    "start_time": "2023-03-10T11:39:28.340Z"
   },
   {
    "duration": 161,
    "start_time": "2023-03-10T11:39:31.624Z"
   },
   {
    "duration": 99,
    "start_time": "2023-03-10T11:41:44.482Z"
   },
   {
    "duration": 26,
    "start_time": "2023-03-10T11:41:45.803Z"
   },
   {
    "duration": 187,
    "start_time": "2023-03-10T11:41:46.990Z"
   },
   {
    "duration": 396,
    "start_time": "2023-03-10T11:41:48.298Z"
   },
   {
    "duration": 367,
    "start_time": "2023-03-10T11:41:49.706Z"
   },
   {
    "duration": 443,
    "start_time": "2023-03-10T11:41:51.206Z"
   },
   {
    "duration": 86,
    "start_time": "2023-03-10T11:41:54.422Z"
   },
   {
    "duration": 31,
    "start_time": "2023-03-10T11:41:56.576Z"
   },
   {
    "duration": 385,
    "start_time": "2023-03-10T11:42:00.995Z"
   },
   {
    "duration": 20,
    "start_time": "2023-03-10T11:42:03.294Z"
   },
   {
    "duration": 5564,
    "start_time": "2023-03-10T11:59:35.905Z"
   },
   {
    "duration": 3525,
    "start_time": "2023-03-10T11:59:43.501Z"
   },
   {
    "duration": 164,
    "start_time": "2023-03-10T11:59:49.099Z"
   },
   {
    "duration": 199,
    "start_time": "2023-03-10T11:59:50.733Z"
   },
   {
    "duration": 166,
    "start_time": "2023-03-10T11:59:52.926Z"
   },
   {
    "duration": 188,
    "start_time": "2023-03-10T11:59:55.001Z"
   },
   {
    "duration": 35,
    "start_time": "2023-03-10T11:59:57.157Z"
   },
   {
    "duration": 132,
    "start_time": "2023-03-10T12:00:00.009Z"
   },
   {
    "duration": 450,
    "start_time": "2023-03-10T12:00:02.878Z"
   },
   {
    "duration": 296,
    "start_time": "2023-03-10T12:00:04.570Z"
   },
   {
    "duration": 317,
    "start_time": "2023-03-10T12:00:05.978Z"
   },
   {
    "duration": 93,
    "start_time": "2023-03-10T12:00:49.286Z"
   },
   {
    "duration": 77,
    "start_time": "2023-03-10T12:01:56.704Z"
   },
   {
    "duration": 97,
    "start_time": "2023-03-10T12:02:43.330Z"
   },
   {
    "duration": 779,
    "start_time": "2023-03-10T12:06:28.811Z"
   },
   {
    "duration": 13,
    "start_time": "2023-03-10T12:09:37.677Z"
   },
   {
    "duration": 52,
    "start_time": "2023-03-10T12:09:40.065Z"
   },
   {
    "duration": 15,
    "start_time": "2023-03-10T12:09:49.818Z"
   },
   {
    "duration": 101,
    "start_time": "2023-03-10T12:09:52.373Z"
   },
   {
    "duration": 14,
    "start_time": "2023-03-10T12:10:00.320Z"
   },
   {
    "duration": 22,
    "start_time": "2023-03-10T12:10:28.242Z"
   },
   {
    "duration": 66,
    "start_time": "2023-03-10T12:10:29.307Z"
   },
   {
    "duration": 5951,
    "start_time": "2023-03-10T12:10:40.179Z"
   },
   {
    "duration": 3544,
    "start_time": "2023-03-10T12:10:46.855Z"
   },
   {
    "duration": 129,
    "start_time": "2023-03-10T12:10:52.174Z"
   },
   {
    "duration": 141,
    "start_time": "2023-03-10T12:10:53.724Z"
   },
   {
    "duration": 127,
    "start_time": "2023-03-10T12:10:55.222Z"
   },
   {
    "duration": 83,
    "start_time": "2023-03-10T12:10:57.075Z"
   },
   {
    "duration": 36,
    "start_time": "2023-03-10T12:10:58.748Z"
   },
   {
    "duration": 113,
    "start_time": "2023-03-10T12:11:00.016Z"
   },
   {
    "duration": 345,
    "start_time": "2023-03-10T12:11:01.385Z"
   },
   {
    "duration": 324,
    "start_time": "2023-03-10T12:11:02.807Z"
   },
   {
    "duration": 308,
    "start_time": "2023-03-10T12:11:04.280Z"
   },
   {
    "duration": 61,
    "start_time": "2023-03-10T12:11:07.399Z"
   },
   {
    "duration": 61,
    "start_time": "2023-03-10T12:11:14.195Z"
   },
   {
    "duration": 72,
    "start_time": "2023-03-10T12:11:17.930Z"
   },
   {
    "duration": 706,
    "start_time": "2023-03-10T12:11:39.067Z"
   },
   {
    "duration": 35,
    "start_time": "2023-03-10T12:11:46.537Z"
   },
   {
    "duration": 77,
    "start_time": "2023-03-10T12:11:47.689Z"
   },
   {
    "duration": 15,
    "start_time": "2023-03-10T12:12:37.022Z"
   },
   {
    "duration": 22,
    "start_time": "2023-03-10T12:18:06.866Z"
   },
   {
    "duration": 72,
    "start_time": "2023-03-10T12:19:22.913Z"
   },
   {
    "duration": 24,
    "start_time": "2023-03-10T12:21:15.685Z"
   },
   {
    "duration": 4,
    "start_time": "2023-03-10T12:22:03.675Z"
   },
   {
    "duration": 114,
    "start_time": "2023-03-10T12:32:12.091Z"
   },
   {
    "duration": 768,
    "start_time": "2023-03-10T12:32:38.567Z"
   },
   {
    "duration": 460,
    "start_time": "2023-03-10T12:34:17.015Z"
   },
   {
    "duration": 1463,
    "start_time": "2023-03-10T12:37:24.955Z"
   },
   {
    "duration": 852,
    "start_time": "2023-03-10T12:37:27.459Z"
   },
   {
    "duration": 129,
    "start_time": "2023-03-10T12:37:31.894Z"
   },
   {
    "duration": 106,
    "start_time": "2023-03-10T12:37:33.375Z"
   },
   {
    "duration": 119,
    "start_time": "2023-03-10T12:37:35.268Z"
   },
   {
    "duration": 103,
    "start_time": "2023-03-10T12:37:36.467Z"
   },
   {
    "duration": 25,
    "start_time": "2023-03-10T12:37:38.280Z"
   },
   {
    "duration": 129,
    "start_time": "2023-03-10T12:37:39.483Z"
   },
   {
    "duration": 303,
    "start_time": "2023-03-10T12:37:40.867Z"
   },
   {
    "duration": 292,
    "start_time": "2023-03-10T12:37:42.169Z"
   },
   {
    "duration": 284,
    "start_time": "2023-03-10T12:37:43.635Z"
   },
   {
    "duration": 58,
    "start_time": "2023-03-10T12:37:45.168Z"
   },
   {
    "duration": 67,
    "start_time": "2023-03-10T12:37:46.467Z"
   },
   {
    "duration": 60,
    "start_time": "2023-03-10T12:37:47.767Z"
   },
   {
    "duration": 701,
    "start_time": "2023-03-10T12:37:48.879Z"
   },
   {
    "duration": 19,
    "start_time": "2023-03-10T12:37:50.769Z"
   },
   {
    "duration": 67,
    "start_time": "2023-03-10T12:37:51.859Z"
   },
   {
    "duration": 20,
    "start_time": "2023-03-10T12:37:55.460Z"
   },
   {
    "duration": 21,
    "start_time": "2023-03-10T12:37:59.236Z"
   },
   {
    "duration": 72,
    "start_time": "2023-03-10T12:38:06.812Z"
   },
   {
    "duration": 24,
    "start_time": "2023-03-10T12:38:09.375Z"
   },
   {
    "duration": 3,
    "start_time": "2023-03-10T12:38:10.084Z"
   },
   {
    "duration": 923,
    "start_time": "2023-03-10T12:39:00.071Z"
   },
   {
    "duration": 19,
    "start_time": "2023-03-10T12:39:22.805Z"
   },
   {
    "duration": 1500,
    "start_time": "2023-03-10T12:41:11.507Z"
   },
   {
    "duration": 879,
    "start_time": "2023-03-10T12:41:13.008Z"
   },
   {
    "duration": 132,
    "start_time": "2023-03-10T12:41:13.889Z"
   },
   {
    "duration": 104,
    "start_time": "2023-03-10T12:41:14.022Z"
   },
   {
    "duration": 111,
    "start_time": "2023-03-10T12:41:14.128Z"
   },
   {
    "duration": 81,
    "start_time": "2023-03-10T12:41:14.245Z"
   },
   {
    "duration": 26,
    "start_time": "2023-03-10T12:41:14.328Z"
   },
   {
    "duration": 137,
    "start_time": "2023-03-10T12:41:14.356Z"
   },
   {
    "duration": 313,
    "start_time": "2023-03-10T12:41:14.495Z"
   },
   {
    "duration": 288,
    "start_time": "2023-03-10T12:41:14.811Z"
   },
   {
    "duration": 393,
    "start_time": "2023-03-10T12:41:15.101Z"
   },
   {
    "duration": 82,
    "start_time": "2023-03-10T12:41:15.496Z"
   },
   {
    "duration": 75,
    "start_time": "2023-03-10T12:41:15.580Z"
   },
   {
    "duration": 69,
    "start_time": "2023-03-10T12:41:15.656Z"
   },
   {
    "duration": 653,
    "start_time": "2023-03-10T12:41:15.726Z"
   },
   {
    "duration": 15,
    "start_time": "2023-03-10T12:41:16.380Z"
   },
   {
    "duration": 66,
    "start_time": "2023-03-10T12:41:16.397Z"
   },
   {
    "duration": 27,
    "start_time": "2023-03-10T12:41:16.475Z"
   },
   {
    "duration": 16,
    "start_time": "2023-03-10T12:41:16.503Z"
   },
   {
    "duration": 79,
    "start_time": "2023-03-10T12:41:16.521Z"
   },
   {
    "duration": 26,
    "start_time": "2023-03-10T12:41:16.602Z"
   },
   {
    "duration": 6,
    "start_time": "2023-03-10T12:41:16.630Z"
   },
   {
    "duration": 902,
    "start_time": "2023-03-10T12:41:19.000Z"
   },
   {
    "duration": 23,
    "start_time": "2023-03-10T12:42:15.765Z"
   },
   {
    "duration": 4,
    "start_time": "2023-03-10T12:47:12.665Z"
   },
   {
    "duration": 172,
    "start_time": "2023-03-10T12:48:14.240Z"
   },
   {
    "duration": 1450,
    "start_time": "2023-03-10T12:50:22.318Z"
   },
   {
    "duration": 825,
    "start_time": "2023-03-10T12:50:23.770Z"
   },
   {
    "duration": 111,
    "start_time": "2023-03-10T12:50:24.597Z"
   },
   {
    "duration": 152,
    "start_time": "2023-03-10T12:50:24.710Z"
   },
   {
    "duration": 130,
    "start_time": "2023-03-10T12:50:24.864Z"
   },
   {
    "duration": 93,
    "start_time": "2023-03-10T12:50:24.996Z"
   },
   {
    "duration": 21,
    "start_time": "2023-03-10T12:50:25.091Z"
   },
   {
    "duration": 123,
    "start_time": "2023-03-10T12:50:25.114Z"
   },
   {
    "duration": 312,
    "start_time": "2023-03-10T12:50:25.238Z"
   },
   {
    "duration": 309,
    "start_time": "2023-03-10T12:50:25.553Z"
   },
   {
    "duration": 393,
    "start_time": "2023-03-10T12:50:25.863Z"
   },
   {
    "duration": 55,
    "start_time": "2023-03-10T12:50:26.258Z"
   },
   {
    "duration": 68,
    "start_time": "2023-03-10T12:50:26.314Z"
   },
   {
    "duration": 52,
    "start_time": "2023-03-10T12:50:26.383Z"
   },
   {
    "duration": 650,
    "start_time": "2023-03-10T12:50:26.437Z"
   },
   {
    "duration": 15,
    "start_time": "2023-03-10T12:50:27.089Z"
   },
   {
    "duration": 63,
    "start_time": "2023-03-10T12:50:27.106Z"
   },
   {
    "duration": 16,
    "start_time": "2023-03-10T12:50:27.171Z"
   },
   {
    "duration": 22,
    "start_time": "2023-03-10T12:50:27.189Z"
   },
   {
    "duration": 82,
    "start_time": "2023-03-10T12:50:27.213Z"
   },
   {
    "duration": 33,
    "start_time": "2023-03-10T12:50:27.297Z"
   },
   {
    "duration": 19,
    "start_time": "2023-03-10T12:50:27.332Z"
   },
   {
    "duration": 872,
    "start_time": "2023-03-10T12:50:27.352Z"
   },
   {
    "duration": 3,
    "start_time": "2023-03-10T12:50:28.225Z"
   },
   {
    "duration": 139,
    "start_time": "2023-03-10T12:50:30.376Z"
   },
   {
    "duration": 17,
    "start_time": "2023-03-10T12:50:41.903Z"
   },
   {
    "duration": 18,
    "start_time": "2023-03-10T12:50:48.411Z"
   },
   {
    "duration": 24,
    "start_time": "2023-03-10T12:50:51.632Z"
   },
   {
    "duration": 3,
    "start_time": "2023-03-10T12:50:59.302Z"
   },
   {
    "duration": 4291,
    "start_time": "2023-03-10T12:51:00.145Z"
   },
   {
    "duration": 17,
    "start_time": "2023-03-10T12:51:06.476Z"
   },
   {
    "duration": 6,
    "start_time": "2023-03-10T12:51:08.619Z"
   },
   {
    "duration": 84,
    "start_time": "2023-03-10T12:55:35.828Z"
   },
   {
    "duration": 1539,
    "start_time": "2023-03-10T12:56:11.724Z"
   },
   {
    "duration": 838,
    "start_time": "2023-03-10T12:56:13.265Z"
   },
   {
    "duration": 127,
    "start_time": "2023-03-10T12:56:14.104Z"
   },
   {
    "duration": 96,
    "start_time": "2023-03-10T12:56:14.233Z"
   },
   {
    "duration": 127,
    "start_time": "2023-03-10T12:56:14.330Z"
   },
   {
    "duration": 96,
    "start_time": "2023-03-10T12:56:14.459Z"
   },
   {
    "duration": 27,
    "start_time": "2023-03-10T12:56:14.558Z"
   },
   {
    "duration": 132,
    "start_time": "2023-03-10T12:56:14.587Z"
   },
   {
    "duration": 317,
    "start_time": "2023-03-10T12:56:14.720Z"
   },
   {
    "duration": 306,
    "start_time": "2023-03-10T12:56:15.039Z"
   },
   {
    "duration": 380,
    "start_time": "2023-03-10T12:56:15.349Z"
   },
   {
    "duration": 71,
    "start_time": "2023-03-10T12:56:15.731Z"
   },
   {
    "duration": 84,
    "start_time": "2023-03-10T12:56:15.804Z"
   },
   {
    "duration": 78,
    "start_time": "2023-03-10T12:56:15.890Z"
   },
   {
    "duration": 612,
    "start_time": "2023-03-10T12:56:15.971Z"
   },
   {
    "duration": 18,
    "start_time": "2023-03-10T12:56:16.585Z"
   },
   {
    "duration": 74,
    "start_time": "2023-03-10T12:56:16.604Z"
   },
   {
    "duration": 16,
    "start_time": "2023-03-10T12:56:16.679Z"
   },
   {
    "duration": 17,
    "start_time": "2023-03-10T12:56:16.696Z"
   },
   {
    "duration": 83,
    "start_time": "2023-03-10T12:56:16.715Z"
   },
   {
    "duration": 24,
    "start_time": "2023-03-10T12:56:16.800Z"
   },
   {
    "duration": 4,
    "start_time": "2023-03-10T12:56:16.826Z"
   },
   {
    "duration": 976,
    "start_time": "2023-03-10T12:56:16.843Z"
   },
   {
    "duration": 3,
    "start_time": "2023-03-10T12:56:17.820Z"
   },
   {
    "duration": 159,
    "start_time": "2023-03-10T12:56:17.824Z"
   },
   {
    "duration": 3,
    "start_time": "2023-03-10T12:56:20.272Z"
   },
   {
    "duration": 4247,
    "start_time": "2023-03-10T12:56:28.590Z"
   },
   {
    "duration": 18,
    "start_time": "2023-03-10T12:56:34.811Z"
   },
   {
    "duration": 5,
    "start_time": "2023-03-10T12:56:38.910Z"
   },
   {
    "duration": 3,
    "start_time": "2023-03-10T12:56:42.081Z"
   },
   {
    "duration": 47,
    "start_time": "2023-03-10T12:56:43.188Z"
   },
   {
    "duration": 13,
    "start_time": "2023-03-10T12:56:45.006Z"
   },
   {
    "duration": 7,
    "start_time": "2023-03-10T12:56:46.760Z"
   },
   {
    "duration": 4,
    "start_time": "2023-03-10T12:57:01.667Z"
   },
   {
    "duration": 150350,
    "start_time": "2023-03-10T12:57:03.191Z"
   },
   {
    "duration": 4,
    "start_time": "2023-03-10T13:01:23.589Z"
   },
   {
    "duration": 7,
    "start_time": "2023-03-10T13:01:30.643Z"
   },
   {
    "duration": 9406,
    "start_time": "2023-03-10T13:01:32.210Z"
   },
   {
    "duration": 260,
    "start_time": "2023-03-10T13:01:51.641Z"
   },
   {
    "duration": 6,
    "start_time": "2023-03-10T13:01:53.662Z"
   },
   {
    "duration": 4,
    "start_time": "2023-03-10T13:02:03.468Z"
   },
   {
    "duration": 146861,
    "start_time": "2023-03-10T13:02:05.280Z"
   },
   {
    "duration": 312,
    "start_time": "2023-03-10T13:04:40.270Z"
   },
   {
    "duration": 6,
    "start_time": "2023-03-10T13:04:42.756Z"
   },
   {
    "duration": 159,
    "start_time": "2023-03-10T13:12:03.919Z"
   },
   {
    "duration": 49,
    "start_time": "2023-03-10T13:12:59.362Z"
   },
   {
    "duration": 11,
    "start_time": "2023-03-10T13:13:07.763Z"
   },
   {
    "duration": 10,
    "start_time": "2023-03-10T13:13:24.912Z"
   },
   {
    "duration": 5,
    "start_time": "2023-03-10T13:16:13.763Z"
   },
   {
    "duration": 9,
    "start_time": "2023-03-10T13:16:16.605Z"
   },
   {
    "duration": 8,
    "start_time": "2023-03-10T13:16:25.972Z"
   },
   {
    "duration": 18,
    "start_time": "2023-03-10T13:21:22.301Z"
   },
   {
    "duration": 17,
    "start_time": "2023-03-10T13:22:28.200Z"
   },
   {
    "duration": 6,
    "start_time": "2023-03-10T13:23:25.965Z"
   },
   {
    "duration": 1468,
    "start_time": "2023-03-10T13:25:16.403Z"
   },
   {
    "duration": 898,
    "start_time": "2023-03-10T13:25:17.874Z"
   },
   {
    "duration": 127,
    "start_time": "2023-03-10T13:25:18.774Z"
   },
   {
    "duration": 109,
    "start_time": "2023-03-10T13:25:18.903Z"
   },
   {
    "duration": 146,
    "start_time": "2023-03-10T13:25:19.014Z"
   },
   {
    "duration": 108,
    "start_time": "2023-03-10T13:25:19.161Z"
   },
   {
    "duration": 25,
    "start_time": "2023-03-10T13:25:19.271Z"
   },
   {
    "duration": 121,
    "start_time": "2023-03-10T13:25:19.298Z"
   },
   {
    "duration": 307,
    "start_time": "2023-03-10T13:25:19.421Z"
   },
   {
    "duration": 265,
    "start_time": "2023-03-10T13:25:19.731Z"
   },
   {
    "duration": 357,
    "start_time": "2023-03-10T13:25:19.998Z"
   },
   {
    "duration": 57,
    "start_time": "2023-03-10T13:25:20.357Z"
   },
   {
    "duration": 80,
    "start_time": "2023-03-10T13:25:20.416Z"
   },
   {
    "duration": 65,
    "start_time": "2023-03-10T13:25:20.498Z"
   },
   {
    "duration": 597,
    "start_time": "2023-03-10T13:25:20.565Z"
   },
   {
    "duration": 16,
    "start_time": "2023-03-10T13:25:21.164Z"
   },
   {
    "duration": 101,
    "start_time": "2023-03-10T13:25:21.182Z"
   },
   {
    "duration": 16,
    "start_time": "2023-03-10T13:25:21.285Z"
   },
   {
    "duration": 14,
    "start_time": "2023-03-10T13:25:21.303Z"
   },
   {
    "duration": 82,
    "start_time": "2023-03-10T13:25:21.319Z"
   },
   {
    "duration": 49,
    "start_time": "2023-03-10T13:25:21.403Z"
   },
   {
    "duration": 5,
    "start_time": "2023-03-10T13:25:21.454Z"
   },
   {
    "duration": 896,
    "start_time": "2023-03-10T13:25:21.461Z"
   },
   {
    "duration": 5,
    "start_time": "2023-03-10T13:25:22.358Z"
   },
   {
    "duration": 195,
    "start_time": "2023-03-10T13:25:22.366Z"
   },
   {
    "duration": 5,
    "start_time": "2023-03-10T13:25:22.564Z"
   },
   {
    "duration": 4550,
    "start_time": "2023-03-10T13:25:22.571Z"
   },
   {
    "duration": 27,
    "start_time": "2023-03-10T13:25:27.124Z"
   },
   {
    "duration": 7,
    "start_time": "2023-03-10T13:25:27.155Z"
   },
   {
    "duration": 3,
    "start_time": "2023-03-10T13:25:27.165Z"
   },
   {
    "duration": 86,
    "start_time": "2023-03-10T13:25:27.170Z"
   },
   {
    "duration": 84,
    "start_time": "2023-03-10T13:25:27.264Z"
   },
   {
    "duration": 112,
    "start_time": "2023-03-10T13:25:27.350Z"
   },
   {
    "duration": 4,
    "start_time": "2023-03-10T13:25:27.463Z"
   },
   {
    "duration": 159906,
    "start_time": "2023-03-10T13:25:27.469Z"
   },
   {
    "duration": 5,
    "start_time": "2023-03-10T13:28:07.379Z"
   },
   {
    "duration": 8,
    "start_time": "2023-03-10T13:28:07.385Z"
   },
   {
    "duration": 8749,
    "start_time": "2023-03-10T13:28:07.395Z"
   },
   {
    "duration": 212,
    "start_time": "2023-03-10T13:28:16.151Z"
   },
   {
    "duration": 5,
    "start_time": "2023-03-10T13:28:16.365Z"
   },
   {
    "duration": 5,
    "start_time": "2023-03-10T13:28:16.372Z"
   },
   {
    "duration": 351194,
    "start_time": "2023-03-10T13:28:16.378Z"
   },
   {
    "duration": 391,
    "start_time": "2023-03-10T13:34:07.574Z"
   },
   {
    "duration": 6,
    "start_time": "2023-03-10T13:34:07.968Z"
   },
   {
    "duration": 76,
    "start_time": "2023-03-10T13:34:07.976Z"
   },
   {
    "duration": 36,
    "start_time": "2023-03-10T13:34:08.060Z"
   },
   {
    "duration": 9,
    "start_time": "2023-03-10T13:34:08.098Z"
   }
  ],
  "celltoolbar": "Отсутствует",
  "kernelspec": {
   "display_name": "Python 3 (ipykernel)",
   "language": "python",
   "name": "python3"
  },
  "language_info": {
   "codemirror_mode": {
    "name": "ipython",
    "version": 3
   },
   "file_extension": ".py",
   "mimetype": "text/x-python",
   "name": "python",
   "nbconvert_exporter": "python",
   "pygments_lexer": "ipython3",
   "version": "3.9.16"
  },
  "toc": {
   "base_numbering": 1,
   "nav_menu": {
    "height": "476.4px",
    "width": "450.4px"
   },
   "number_sections": true,
   "sideBar": true,
   "skip_h1_title": true,
   "title_cell": "Table of Contents",
   "title_sidebar": "Contents",
   "toc_cell": false,
   "toc_position": {},
   "toc_section_display": true,
   "toc_window_display": false
  }
 },
 "nbformat": 4,
 "nbformat_minor": 2
}
