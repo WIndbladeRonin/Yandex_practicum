{
 "cells": [
  {
   "cell_type": "markdown",
   "metadata": {
    "toc": true
   },
   "source": [
    "<h1>Содержание<span class=\"tocSkip\"></span></h1>\n",
    "<div class=\"toc\"><ul class=\"toc-item\"><li><span><a href=\"#Подготовка\" data-toc-modified-id=\"Подготовка-1\"><span class=\"toc-item-num\">1&nbsp;&nbsp;</span>Подготовка</a></span><ul class=\"toc-item\"><li><span><a href=\"#Загрузка-данных-и-первичный-анализ\" data-toc-modified-id=\"Загрузка-данных-и-первичный-анализ-1.1\"><span class=\"toc-item-num\">1.1&nbsp;&nbsp;</span>Загрузка данных и первичный анализ</a></span></li><li><span><a href=\"#Ресемплирование\" data-toc-modified-id=\"Ресемплирование-1.2\"><span class=\"toc-item-num\">1.2&nbsp;&nbsp;</span>Ресемплирование</a></span></li></ul></li><li><span><a href=\"#Анализ\" data-toc-modified-id=\"Анализ-2\"><span class=\"toc-item-num\">2&nbsp;&nbsp;</span>Анализ</a></span></li><li><span><a href=\"#Обучение\" data-toc-modified-id=\"Обучение-3\"><span class=\"toc-item-num\">3&nbsp;&nbsp;</span>Обучение</a></span><ul class=\"toc-item\"><li><span><a href=\"#Подготовка\" data-toc-modified-id=\"Подготовка-3.1\"><span class=\"toc-item-num\">3.1&nbsp;&nbsp;</span>Подготовка</a></span><ul class=\"toc-item\"><li><span><a href=\"#Создание-функций-и-переменных\" data-toc-modified-id=\"Создание-функций-и-переменных-3.1.1\"><span class=\"toc-item-num\">3.1.1&nbsp;&nbsp;</span>Создание функций и переменных</a></span></li><li><span><a href=\"#Поиск-оптимального-количества-новых-признаков\" data-toc-modified-id=\"Поиск-оптимального-количества-новых-признаков-3.1.2\"><span class=\"toc-item-num\">3.1.2&nbsp;&nbsp;</span>Поиск оптимального количества новых признаков</a></span></li><li><span><a href=\"#Создание-новых-признаков\" data-toc-modified-id=\"Создание-новых-признаков-3.1.3\"><span class=\"toc-item-num\">3.1.3&nbsp;&nbsp;</span>Создание новых признаков</a></span></li><li><span><a href=\"#Разделение-данных\" data-toc-modified-id=\"Разделение-данных-3.1.4\"><span class=\"toc-item-num\">3.1.4&nbsp;&nbsp;</span>Разделение данных</a></span></li></ul></li><li><span><a href=\"#Обучение-моделей\" data-toc-modified-id=\"Обучение-моделей-3.2\"><span class=\"toc-item-num\">3.2&nbsp;&nbsp;</span>Обучение моделей</a></span><ul class=\"toc-item\"><li><span><a href=\"#CatBoost\" data-toc-modified-id=\"CatBoost-3.2.1\"><span class=\"toc-item-num\">3.2.1&nbsp;&nbsp;</span>CatBoost</a></span></li><li><span><a href=\"#RandomForest\" data-toc-modified-id=\"RandomForest-3.2.2\"><span class=\"toc-item-num\">3.2.2&nbsp;&nbsp;</span>RandomForest</a></span></li><li><span><a href=\"#LGBM\" data-toc-modified-id=\"LGBM-3.2.3\"><span class=\"toc-item-num\">3.2.3&nbsp;&nbsp;</span>LGBM</a></span></li><li><span><a href=\"#Константная-модель\" data-toc-modified-id=\"Константная-модель-3.2.4\"><span class=\"toc-item-num\">3.2.4&nbsp;&nbsp;</span>Константная модель</a></span></li><li><span><a href=\"#Выбор-лучшей-модели\" data-toc-modified-id=\"Выбор-лучшей-модели-3.2.5\"><span class=\"toc-item-num\">3.2.5&nbsp;&nbsp;</span>Выбор лучшей модели</a></span></li></ul></li></ul></li><li><span><a href=\"#Тестирование\" data-toc-modified-id=\"Тестирование-4\"><span class=\"toc-item-num\">4&nbsp;&nbsp;</span>Тестирование</a></span></li><li><span><a href=\"#Чек-лист-проверки\" data-toc-modified-id=\"Чек-лист-проверки-5\"><span class=\"toc-item-num\">5&nbsp;&nbsp;</span>Чек-лист проверки</a></span></li></ul></div>"
   ]
  },
  {
   "cell_type": "markdown",
   "metadata": {},
   "source": [
    "#  Прогнозирование заказов такси"
   ]
  },
  {
   "cell_type": "markdown",
   "metadata": {},
   "source": [
    "Компания «Чётенькое такси» собрала исторические данные о заказах такси в аэропортах. Чтобы привлекать больше водителей в период пиковой нагрузки, нужно спрогнозировать количество заказов такси на следующий час. Постройте модель для такого предсказания.\n",
    "\n",
    "Значение метрики *RMSE* на тестовой выборке должно быть не больше 48.\n",
    "\n",
    "Вам нужно:\n",
    "\n",
    "1. Загрузить данные и выполнить их ресемплирование по одному часу.\n",
    "2. Проанализировать данные.\n",
    "3. Обучить разные модели с различными гиперпараметрами. Сделать тестовую выборку размером 10% от исходных данных.\n",
    "4. Проверить данные на тестовой выборке и сделать выводы.\n",
    "\n",
    "\n",
    "Данные лежат в файле `taxi.csv`. Количество заказов находится в столбце `num_orders` (от англ. *number of orders*, «число заказов»)."
   ]
  },
  {
   "cell_type": "markdown",
   "metadata": {},
   "source": [
    "## Подготовка"
   ]
  },
  {
   "cell_type": "markdown",
   "metadata": {},
   "source": [
    "### Загрузка данных и первичный анализ"
   ]
  },
  {
   "cell_type": "markdown",
   "metadata": {},
   "source": [
    "Импорт библиотек"
   ]
  },
  {
   "cell_type": "code",
   "execution_count": 1,
   "metadata": {},
   "outputs": [],
   "source": [
    "import pandas as pd\n",
    "import lightgbm as lgb\n",
    "import matplotlib.pyplot as plt\n",
    "from statsmodels.tsa.seasonal import seasonal_decompose\n",
    "from catboost import CatBoostRegressor\n",
    "from sklearn.ensemble import RandomForestRegressor\n",
    "from sklearn.linear_model import LinearRegression\n",
    "from sklearn.metrics import make_scorer, mean_squared_error\n",
    "from sklearn.model_selection import (train_test_split,\n",
    "                                       GridSearchCV,\n",
    "                                       cross_val_score,\n",
    "                                       TimeSeriesSplit)\n"
   ]
  },
  {
   "cell_type": "markdown",
   "metadata": {},
   "source": [
    "Сохраняем данные в переменную `taxi`. В качестве индекса указываем колонку `datetime`"
   ]
  },
  {
   "cell_type": "code",
   "execution_count": 2,
   "metadata": {},
   "outputs": [
    {
     "data": {
      "text/html": [
       "<div>\n",
       "<style scoped>\n",
       "    .dataframe tbody tr th:only-of-type {\n",
       "        vertical-align: middle;\n",
       "    }\n",
       "\n",
       "    .dataframe tbody tr th {\n",
       "        vertical-align: top;\n",
       "    }\n",
       "\n",
       "    .dataframe thead th {\n",
       "        text-align: right;\n",
       "    }\n",
       "</style>\n",
       "<table border=\"1\" class=\"dataframe\">\n",
       "  <thead>\n",
       "    <tr style=\"text-align: right;\">\n",
       "      <th></th>\n",
       "      <th>num_orders</th>\n",
       "    </tr>\n",
       "    <tr>\n",
       "      <th>datetime</th>\n",
       "      <th></th>\n",
       "    </tr>\n",
       "  </thead>\n",
       "  <tbody>\n",
       "    <tr>\n",
       "      <th>2018-03-01 00:00:00</th>\n",
       "      <td>9</td>\n",
       "    </tr>\n",
       "    <tr>\n",
       "      <th>2018-03-01 00:10:00</th>\n",
       "      <td>14</td>\n",
       "    </tr>\n",
       "    <tr>\n",
       "      <th>2018-03-01 00:20:00</th>\n",
       "      <td>28</td>\n",
       "    </tr>\n",
       "    <tr>\n",
       "      <th>2018-03-01 00:30:00</th>\n",
       "      <td>20</td>\n",
       "    </tr>\n",
       "    <tr>\n",
       "      <th>2018-03-01 00:40:00</th>\n",
       "      <td>32</td>\n",
       "    </tr>\n",
       "    <tr>\n",
       "      <th>...</th>\n",
       "      <td>...</td>\n",
       "    </tr>\n",
       "    <tr>\n",
       "      <th>2018-08-31 23:10:00</th>\n",
       "      <td>32</td>\n",
       "    </tr>\n",
       "    <tr>\n",
       "      <th>2018-08-31 23:20:00</th>\n",
       "      <td>24</td>\n",
       "    </tr>\n",
       "    <tr>\n",
       "      <th>2018-08-31 23:30:00</th>\n",
       "      <td>27</td>\n",
       "    </tr>\n",
       "    <tr>\n",
       "      <th>2018-08-31 23:40:00</th>\n",
       "      <td>39</td>\n",
       "    </tr>\n",
       "    <tr>\n",
       "      <th>2018-08-31 23:50:00</th>\n",
       "      <td>53</td>\n",
       "    </tr>\n",
       "  </tbody>\n",
       "</table>\n",
       "<p>26496 rows × 1 columns</p>\n",
       "</div>"
      ],
      "text/plain": [
       "                     num_orders\n",
       "datetime                       \n",
       "2018-03-01 00:00:00           9\n",
       "2018-03-01 00:10:00          14\n",
       "2018-03-01 00:20:00          28\n",
       "2018-03-01 00:30:00          20\n",
       "2018-03-01 00:40:00          32\n",
       "...                         ...\n",
       "2018-08-31 23:10:00          32\n",
       "2018-08-31 23:20:00          24\n",
       "2018-08-31 23:30:00          27\n",
       "2018-08-31 23:40:00          39\n",
       "2018-08-31 23:50:00          53\n",
       "\n",
       "[26496 rows x 1 columns]"
      ]
     },
     "execution_count": 2,
     "metadata": {},
     "output_type": "execute_result"
    }
   ],
   "source": [
    "taxi = pd.read_csv('/datasets/taxi.csv', index_col='datetime')\n",
    "taxi"
   ]
  },
  {
   "cell_type": "markdown",
   "metadata": {},
   "source": [
    "Изменим тип данных индекса на `datetime`"
   ]
  },
  {
   "cell_type": "code",
   "execution_count": 3,
   "metadata": {},
   "outputs": [],
   "source": [
    "taxi.index = pd.to_datetime(taxi.index)"
   ]
  },
  {
   "cell_type": "markdown",
   "metadata": {},
   "source": [
    "Проверим хронологический порядок индекса"
   ]
  },
  {
   "cell_type": "code",
   "execution_count": 4,
   "metadata": {},
   "outputs": [
    {
     "data": {
      "text/plain": [
       "True"
      ]
     },
     "execution_count": 4,
     "metadata": {},
     "output_type": "execute_result"
    }
   ],
   "source": [
    "taxi.index.is_monotonic"
   ]
  },
  {
   "cell_type": "code",
   "execution_count": 5,
   "metadata": {},
   "outputs": [
    {
     "name": "stdout",
     "output_type": "stream",
     "text": [
      "<class 'pandas.core.frame.DataFrame'>\n",
      "DatetimeIndex: 26496 entries, 2018-03-01 00:00:00 to 2018-08-31 23:50:00\n",
      "Data columns (total 1 columns):\n",
      " #   Column      Non-Null Count  Dtype\n",
      "---  ------      --------------  -----\n",
      " 0   num_orders  26496 non-null  int64\n",
      "dtypes: int64(1)\n",
      "memory usage: 414.0 KB\n"
     ]
    }
   ],
   "source": [
    "taxi.info()"
   ]
  },
  {
   "cell_type": "code",
   "execution_count": 6,
   "metadata": {},
   "outputs": [
    {
     "data": {
      "text/html": [
       "<div>\n",
       "<style scoped>\n",
       "    .dataframe tbody tr th:only-of-type {\n",
       "        vertical-align: middle;\n",
       "    }\n",
       "\n",
       "    .dataframe tbody tr th {\n",
       "        vertical-align: top;\n",
       "    }\n",
       "\n",
       "    .dataframe thead th {\n",
       "        text-align: right;\n",
       "    }\n",
       "</style>\n",
       "<table border=\"1\" class=\"dataframe\">\n",
       "  <thead>\n",
       "    <tr style=\"text-align: right;\">\n",
       "      <th></th>\n",
       "      <th>num_orders</th>\n",
       "    </tr>\n",
       "  </thead>\n",
       "  <tbody>\n",
       "    <tr>\n",
       "      <th>count</th>\n",
       "      <td>26496.000000</td>\n",
       "    </tr>\n",
       "    <tr>\n",
       "      <th>mean</th>\n",
       "      <td>14.070463</td>\n",
       "    </tr>\n",
       "    <tr>\n",
       "      <th>std</th>\n",
       "      <td>9.211330</td>\n",
       "    </tr>\n",
       "    <tr>\n",
       "      <th>min</th>\n",
       "      <td>0.000000</td>\n",
       "    </tr>\n",
       "    <tr>\n",
       "      <th>25%</th>\n",
       "      <td>8.000000</td>\n",
       "    </tr>\n",
       "    <tr>\n",
       "      <th>50%</th>\n",
       "      <td>13.000000</td>\n",
       "    </tr>\n",
       "    <tr>\n",
       "      <th>75%</th>\n",
       "      <td>19.000000</td>\n",
       "    </tr>\n",
       "    <tr>\n",
       "      <th>max</th>\n",
       "      <td>119.000000</td>\n",
       "    </tr>\n",
       "  </tbody>\n",
       "</table>\n",
       "</div>"
      ],
      "text/plain": [
       "         num_orders\n",
       "count  26496.000000\n",
       "mean      14.070463\n",
       "std        9.211330\n",
       "min        0.000000\n",
       "25%        8.000000\n",
       "50%       13.000000\n",
       "75%       19.000000\n",
       "max      119.000000"
      ]
     },
     "execution_count": 6,
     "metadata": {},
     "output_type": "execute_result"
    }
   ],
   "source": [
    "taxi.describe()"
   ]
  },
  {
   "cell_type": "markdown",
   "metadata": {},
   "source": [
    "В данных нет пропусков, индексы идут в хронологическом порядке(от 2018-03-01 00:00, до 2018-08-31 23:50), тип данных соответствует содержимому. Также в данных отсутствуют аномальные значения. Минимальное значение количества заказов равно 0 (вполне реально в 10 минутном интервале). Максимальное значение 119."
   ]
  },
  {
   "cell_type": "markdown",
   "metadata": {},
   "source": [
    "### Ресемплирование "
   ]
  },
  {
   "cell_type": "markdown",
   "metadata": {},
   "source": [
    "Временной промежуток данных 10 минут. Проведем ресемплирование по одному часу и просуммируем количество заказов"
   ]
  },
  {
   "cell_type": "code",
   "execution_count": 7,
   "metadata": {},
   "outputs": [],
   "source": [
    "taxi = taxi.resample('1H').sum()"
   ]
  },
  {
   "cell_type": "code",
   "execution_count": 8,
   "metadata": {},
   "outputs": [
    {
     "data": {
      "text/html": [
       "<div>\n",
       "<style scoped>\n",
       "    .dataframe tbody tr th:only-of-type {\n",
       "        vertical-align: middle;\n",
       "    }\n",
       "\n",
       "    .dataframe tbody tr th {\n",
       "        vertical-align: top;\n",
       "    }\n",
       "\n",
       "    .dataframe thead th {\n",
       "        text-align: right;\n",
       "    }\n",
       "</style>\n",
       "<table border=\"1\" class=\"dataframe\">\n",
       "  <thead>\n",
       "    <tr style=\"text-align: right;\">\n",
       "      <th></th>\n",
       "      <th>num_orders</th>\n",
       "    </tr>\n",
       "    <tr>\n",
       "      <th>datetime</th>\n",
       "      <th></th>\n",
       "    </tr>\n",
       "  </thead>\n",
       "  <tbody>\n",
       "    <tr>\n",
       "      <th>2018-03-01 00:00:00</th>\n",
       "      <td>124</td>\n",
       "    </tr>\n",
       "    <tr>\n",
       "      <th>2018-03-01 01:00:00</th>\n",
       "      <td>85</td>\n",
       "    </tr>\n",
       "    <tr>\n",
       "      <th>2018-03-01 02:00:00</th>\n",
       "      <td>71</td>\n",
       "    </tr>\n",
       "    <tr>\n",
       "      <th>2018-03-01 03:00:00</th>\n",
       "      <td>66</td>\n",
       "    </tr>\n",
       "    <tr>\n",
       "      <th>2018-03-01 04:00:00</th>\n",
       "      <td>43</td>\n",
       "    </tr>\n",
       "    <tr>\n",
       "      <th>...</th>\n",
       "      <td>...</td>\n",
       "    </tr>\n",
       "    <tr>\n",
       "      <th>2018-08-31 19:00:00</th>\n",
       "      <td>136</td>\n",
       "    </tr>\n",
       "    <tr>\n",
       "      <th>2018-08-31 20:00:00</th>\n",
       "      <td>154</td>\n",
       "    </tr>\n",
       "    <tr>\n",
       "      <th>2018-08-31 21:00:00</th>\n",
       "      <td>159</td>\n",
       "    </tr>\n",
       "    <tr>\n",
       "      <th>2018-08-31 22:00:00</th>\n",
       "      <td>223</td>\n",
       "    </tr>\n",
       "    <tr>\n",
       "      <th>2018-08-31 23:00:00</th>\n",
       "      <td>205</td>\n",
       "    </tr>\n",
       "  </tbody>\n",
       "</table>\n",
       "<p>4416 rows × 1 columns</p>\n",
       "</div>"
      ],
      "text/plain": [
       "                     num_orders\n",
       "datetime                       \n",
       "2018-03-01 00:00:00         124\n",
       "2018-03-01 01:00:00          85\n",
       "2018-03-01 02:00:00          71\n",
       "2018-03-01 03:00:00          66\n",
       "2018-03-01 04:00:00          43\n",
       "...                         ...\n",
       "2018-08-31 19:00:00         136\n",
       "2018-08-31 20:00:00         154\n",
       "2018-08-31 21:00:00         159\n",
       "2018-08-31 22:00:00         223\n",
       "2018-08-31 23:00:00         205\n",
       "\n",
       "[4416 rows x 1 columns]"
      ]
     },
     "execution_count": 8,
     "metadata": {},
     "output_type": "execute_result"
    }
   ],
   "source": [
    "taxi"
   ]
  },
  {
   "cell_type": "markdown",
   "metadata": {},
   "source": [
    "После ресемплирования количество строчек (очевидно) сократилось до 4416"
   ]
  },
  {
   "cell_type": "markdown",
   "metadata": {},
   "source": [
    "Проведена подготовка данных и первичный анализ. Также проведено ресемплирование. Переходим к следующему пункту"
   ]
  },
  {
   "cell_type": "markdown",
   "metadata": {},
   "source": [
    "## Анализ"
   ]
  },
  {
   "cell_type": "markdown",
   "metadata": {},
   "source": [
    "Воспользуемся `seasonal_decompose` для анализа тренда данных и сезонностей "
   ]
  },
  {
   "cell_type": "code",
   "execution_count": 9,
   "metadata": {},
   "outputs": [],
   "source": [
    "decomposed = seasonal_decompose(taxi)"
   ]
  },
  {
   "cell_type": "code",
   "execution_count": 10,
   "metadata": {},
   "outputs": [
    {
     "data": {
      "text/plain": [
       "<AxesSubplot:xlabel='datetime'>"
      ]
     },
     "execution_count": 10,
     "metadata": {},
     "output_type": "execute_result"
    },
    {
     "data": {
      "image/png": "[encoded data removed]",
      "text/plain": [
       "<Figure size 432x288 with 1 Axes>"
      ]
     },
     "metadata": {
      "needs_background": "light"
     },
     "output_type": "display_data"
    }
   ],
   "source": [
    "decomposed.trend.plot()"
   ]
  },
  {
   "cell_type": "markdown",
   "metadata": {},
   "source": [
    "Восходящий тренд говорит нам об увеличении количества заказов со временем"
   ]
  },
  {
   "cell_type": "markdown",
   "metadata": {},
   "source": [
    "Оценим сезонность данных в отрезке одного месяца"
   ]
  },
  {
   "cell_type": "code",
   "execution_count": 11,
   "metadata": {},
   "outputs": [
    {
     "data": {
      "text/plain": [
       "<AxesSubplot:xlabel='datetime'>"
      ]
     },
     "execution_count": 11,
     "metadata": {},
     "output_type": "execute_result"
    },
    {
     "data": {
      "image/png": "[encoded data removed]",
      "text/plain": [
       "<Figure size 432x288 with 1 Axes>"
      ]
     },
     "metadata": {
      "needs_background": "light"
     },
     "output_type": "display_data"
    }
   ],
   "source": [
    "decomposed.seasonal['2018-08-01': '2018-08-31'].plot()"
   ]
  },
  {
   "cell_type": "markdown",
   "metadata": {},
   "source": [
    "На протяжении всего месяца график цикличный"
   ]
  },
  {
   "cell_type": "markdown",
   "metadata": {},
   "source": [
    "Посмотрим на график с отрезком в один день "
   ]
  },
  {
   "cell_type": "code",
   "execution_count": 12,
   "metadata": {},
   "outputs": [
    {
     "data": {
      "text/plain": [
       "<AxesSubplot:xlabel='datetime'>"
      ]
     },
     "execution_count": 12,
     "metadata": {},
     "output_type": "execute_result"
    },
    {
     "data": {
      "image/png": "[encoded data removed]",
      "text/plain": [
       "<Figure size 432x288 with 1 Axes>"
      ]
     },
     "metadata": {
      "needs_background": "light"
     },
     "output_type": "display_data"
    }
   ],
   "source": [
    "taxi['2018-08-01': '2018-08-01'].plot()"
   ]
  },
  {
   "cell_type": "markdown",
   "metadata": {},
   "source": [
    "Количество заказов сильно зависит от времени суток "
   ]
  },
  {
   "cell_type": "markdown",
   "metadata": {},
   "source": [
    "Исходя из полученных при анализе данных для построения будущей модели необходимо будет добавить следующие признаки:\n",
    "- время суток (количество заказов сильно меняется от времени суток)\n",
    "- день недели "
   ]
  },
  {
   "cell_type": "code",
   "execution_count": 13,
   "metadata": {},
   "outputs": [],
   "source": [
    "taxi['hour'] = taxi.index.hour\n",
    "taxi['dayofweek'] = taxi.index.dayofweek"
   ]
  },
  {
   "cell_type": "markdown",
   "metadata": {},
   "source": [
    "Исходя из результатов анализа было добавлено три новых признака. Переходим к следующему этапу"
   ]
  },
  {
   "cell_type": "markdown",
   "metadata": {},
   "source": [
    "## Обучение"
   ]
  },
  {
   "cell_type": "markdown",
   "metadata": {},
   "source": [
    "### Подготовка "
   ]
  },
  {
   "cell_type": "markdown",
   "metadata": {},
   "source": [
    "#### Создание функций и переменных"
   ]
  },
  {
   "cell_type": "markdown",
   "metadata": {},
   "source": [
    "Для оценки качества модели создадим функцию `rmse` "
   ]
  },
  {
   "cell_type": "code",
   "execution_count": 14,
   "metadata": {},
   "outputs": [],
   "source": [
    "def rmse(target, predict):\n",
    "    return mean_squared_error(target, predict) ** 0.5"
   ]
  },
  {
   "cell_type": "markdown",
   "metadata": {},
   "source": [
    "Также создадим переменную `scorer` для кросс-валидации и гридсерча внутри которой будем использовать `rmse`"
   ]
  },
  {
   "cell_type": "code",
   "execution_count": 15,
   "metadata": {},
   "outputs": [],
   "source": [
    "scorer = make_scorer(rmse, greater_is_better=False)"
   ]
  },
  {
   "cell_type": "markdown",
   "metadata": {},
   "source": [
    "Создадим функцию для создания дополнительных признаков `make_features` который принимает в себя:\n",
    "- датафрейм\n",
    "- целевой признак\n",
    "- max_lag\n",
    "- rolling_mean_size\n",
    "\n",
    "И возвращает нам новый датафрейм с добавленными признаками"
   ]
  },
  {
   "cell_type": "code",
   "execution_count": 16,
   "metadata": {},
   "outputs": [],
   "source": [
    "def make_features(data, target_column, max_lag, rolling_mean_size):\n",
    "    \n",
    "    for lag in range(1, max_lag + 1):\n",
    "        data['lag_' + str(lag)] = data[target_column].shift(lag)\n",
    "\n",
    "    data['rolling_mean'] = data[target_column].shift().rolling(rolling_mean_size).mean()\n",
    "    \n",
    "    data.dropna(inplace=True)\n",
    "    \n",
    "    return data"
   ]
  },
  {
   "cell_type": "markdown",
   "metadata": {},
   "source": [
    "Также создадим функцию `best_features` которая будет в себе использовать функцию `make_features` и возвращать нам данные кросс-валидации линейной регрессии на обучающей выборке (а именно RMSE и текущие параметры lag и rolling_mean). Исходя из полученных данных будет ясно какие лучше использовать `max_lag` и `rolling_mean_size`"
   ]
  },
  {
   "cell_type": "code",
   "execution_count": 17,
   "metadata": {},
   "outputs": [],
   "source": [
    "def best_features(df, target_column, max_lag, rolling_mean_size):\n",
    "    data = df.copy()\n",
    "    \n",
    "    data = make_features(data, target_column, max_lag, rolling_mean_size)\n",
    "    \n",
    "    f = data.drop([target_column], axis=1)\n",
    "    t = data[target_column]\n",
    "    \n",
    "    f_train, f_test, t_train, t_test = train_test_split(f, t, \n",
    "                                                    shuffle=False, test_size=0.1)\n",
    "    \n",
    "    lr_model = LinearRegression()\n",
    "    scores = cross_val_score(lr_model, f_train, t_train, cv=TimeSeriesSplit(n_splits=8), scoring=scorer)\n",
    "    \n",
    "    \n",
    "    print(f'Среднее RMSE: {scores.mean():.2f} | max_lag: {max_lag} | rolling_mean_size: {rolling_mean_size}')"
   ]
  },
  {
   "cell_type": "markdown",
   "metadata": {},
   "source": [
    "#### Поиск оптимального количества новых признаков"
   ]
  },
  {
   "cell_type": "markdown",
   "metadata": {},
   "source": [
    "Запустим вложенный цикл который будет подбирать нам оптимальные параметры"
   ]
  },
  {
   "cell_type": "code",
   "execution_count": 18,
   "metadata": {
    "scrolled": true
   },
   "outputs": [
    {
     "name": "stdout",
     "output_type": "stream",
     "text": [
      "Среднее RMSE: -32.09 | max_lag: 5 | rolling_mean_size: 10\n",
      "Среднее RMSE: -32.21 | max_lag: 5 | rolling_mean_size: 20\n",
      "Среднее RMSE: -31.51 | max_lag: 5 | rolling_mean_size: 30\n",
      "Среднее RMSE: -31.70 | max_lag: 5 | rolling_mean_size: 40\n",
      "Среднее RMSE: -31.25 | max_lag: 5 | rolling_mean_size: 50\n",
      "Среднее RMSE: -31.39 | max_lag: 5 | rolling_mean_size: 60\n",
      "Среднее RMSE: -31.57 | max_lag: 5 | rolling_mean_size: 70\n",
      "Среднее RMSE: -31.32 | max_lag: 5 | rolling_mean_size: 80\n",
      "Среднее RMSE: -31.94 | max_lag: 10 | rolling_mean_size: 10\n",
      "Среднее RMSE: -32.04 | max_lag: 10 | rolling_mean_size: 20\n",
      "Среднее RMSE: -31.33 | max_lag: 10 | rolling_mean_size: 30\n",
      "Среднее RMSE: -31.56 | max_lag: 10 | rolling_mean_size: 40\n",
      "Среднее RMSE: -31.08 | max_lag: 10 | rolling_mean_size: 50\n",
      "Среднее RMSE: -31.22 | max_lag: 10 | rolling_mean_size: 60\n",
      "Среднее RMSE: -31.43 | max_lag: 10 | rolling_mean_size: 70\n",
      "Среднее RMSE: -31.17 | max_lag: 10 | rolling_mean_size: 80\n",
      "Среднее RMSE: -31.58 | max_lag: 15 | rolling_mean_size: 10\n",
      "Среднее RMSE: -31.79 | max_lag: 15 | rolling_mean_size: 20\n",
      "Среднее RMSE: -30.98 | max_lag: 15 | rolling_mean_size: 30\n",
      "Среднее RMSE: -31.27 | max_lag: 15 | rolling_mean_size: 40\n",
      "Среднее RMSE: -30.73 | max_lag: 15 | rolling_mean_size: 50\n",
      "Среднее RMSE: -31.01 | max_lag: 15 | rolling_mean_size: 60\n",
      "Среднее RMSE: -31.14 | max_lag: 15 | rolling_mean_size: 70\n",
      "Среднее RMSE: -30.87 | max_lag: 15 | rolling_mean_size: 80\n",
      "Среднее RMSE: -31.22 | max_lag: 20 | rolling_mean_size: 10\n",
      "Среднее RMSE: -31.22 | max_lag: 20 | rolling_mean_size: 20\n",
      "Среднее RMSE: -29.94 | max_lag: 20 | rolling_mean_size: 30\n",
      "Среднее RMSE: -30.53 | max_lag: 20 | rolling_mean_size: 40\n",
      "Среднее RMSE: -29.88 | max_lag: 20 | rolling_mean_size: 50\n",
      "Среднее RMSE: -30.33 | max_lag: 20 | rolling_mean_size: 60\n",
      "Среднее RMSE: -30.38 | max_lag: 20 | rolling_mean_size: 70\n",
      "Среднее RMSE: -30.18 | max_lag: 20 | rolling_mean_size: 80\n",
      "Среднее RMSE: -26.65 | max_lag: 25 | rolling_mean_size: 10\n",
      "Среднее RMSE: -26.65 | max_lag: 25 | rolling_mean_size: 20\n",
      "Среднее RMSE: -26.44 | max_lag: 25 | rolling_mean_size: 30\n",
      "Среднее RMSE: -26.77 | max_lag: 25 | rolling_mean_size: 40\n",
      "Среднее RMSE: -26.76 | max_lag: 25 | rolling_mean_size: 50\n",
      "Среднее RMSE: -26.84 | max_lag: 25 | rolling_mean_size: 60\n",
      "Среднее RMSE: -26.75 | max_lag: 25 | rolling_mean_size: 70\n",
      "Среднее RMSE: -26.80 | max_lag: 25 | rolling_mean_size: 80\n",
      "Среднее RMSE: -26.42 | max_lag: 30 | rolling_mean_size: 10\n",
      "Среднее RMSE: -26.42 | max_lag: 30 | rolling_mean_size: 20\n",
      "Среднее RMSE: -26.42 | max_lag: 30 | rolling_mean_size: 30\n",
      "Среднее RMSE: -26.53 | max_lag: 30 | rolling_mean_size: 40\n",
      "Среднее RMSE: -26.24 | max_lag: 30 | rolling_mean_size: 50\n",
      "Среднее RMSE: -26.37 | max_lag: 30 | rolling_mean_size: 60\n",
      "Среднее RMSE: -26.32 | max_lag: 30 | rolling_mean_size: 70\n",
      "Среднее RMSE: -26.31 | max_lag: 30 | rolling_mean_size: 80\n",
      "Среднее RMSE: -26.52 | max_lag: 35 | rolling_mean_size: 10\n",
      "Среднее RMSE: -26.52 | max_lag: 35 | rolling_mean_size: 20\n",
      "Среднее RMSE: -26.53 | max_lag: 35 | rolling_mean_size: 30\n",
      "Среднее RMSE: -26.51 | max_lag: 35 | rolling_mean_size: 40\n",
      "Среднее RMSE: -25.94 | max_lag: 35 | rolling_mean_size: 50\n",
      "Среднее RMSE: -26.19 | max_lag: 35 | rolling_mean_size: 60\n",
      "Среднее RMSE: -26.22 | max_lag: 35 | rolling_mean_size: 70\n",
      "Среднее RMSE: -26.21 | max_lag: 35 | rolling_mean_size: 80\n",
      "Среднее RMSE: -26.45 | max_lag: 40 | rolling_mean_size: 10\n",
      "Среднее RMSE: -26.45 | max_lag: 40 | rolling_mean_size: 20\n",
      "Среднее RMSE: -26.45 | max_lag: 40 | rolling_mean_size: 30\n",
      "Среднее RMSE: -26.45 | max_lag: 40 | rolling_mean_size: 40\n",
      "Среднее RMSE: -25.68 | max_lag: 40 | rolling_mean_size: 50\n",
      "Среднее RMSE: -26.13 | max_lag: 40 | rolling_mean_size: 60\n",
      "Среднее RMSE: -26.20 | max_lag: 40 | rolling_mean_size: 70\n",
      "Среднее RMSE: -26.19 | max_lag: 40 | rolling_mean_size: 80\n"
     ]
    }
   ],
   "source": [
    "for lag in [5, 10, 15, 20, 25, 30, 35, 40]:\n",
    "    for roll_size in [10, 20, 30, 40, 50, 60, 70, 80]:\n",
    "        best_features(taxi, 'num_orders', lag, roll_size)"
   ]
  },
  {
   "cell_type": "markdown",
   "metadata": {},
   "source": [
    "По результатам видно что лучшее среднее RMSE в 25,68 при кросс-валидации на линейной регрессии получаются при параметрах `max_lag: 40` и `rolling_mean_size: 50`"
   ]
  },
  {
   "cell_type": "markdown",
   "metadata": {},
   "source": [
    "#### Создание новых признаков"
   ]
  },
  {
   "cell_type": "markdown",
   "metadata": {},
   "source": [
    "Воспользуемся функцией `make_features` с этими параметрами "
   ]
  },
  {
   "cell_type": "code",
   "execution_count": 19,
   "metadata": {
    "scrolled": true
   },
   "outputs": [],
   "source": [
    "new_taxi = make_features(taxi, 'num_orders', 40, 50)"
   ]
  },
  {
   "cell_type": "code",
   "execution_count": 20,
   "metadata": {
    "scrolled": true
   },
   "outputs": [
    {
     "data": {
      "text/html": [
       "<div>\n",
       "<style scoped>\n",
       "    .dataframe tbody tr th:only-of-type {\n",
       "        vertical-align: middle;\n",
       "    }\n",
       "\n",
       "    .dataframe tbody tr th {\n",
       "        vertical-align: top;\n",
       "    }\n",
       "\n",
       "    .dataframe thead th {\n",
       "        text-align: right;\n",
       "    }\n",
       "</style>\n",
       "<table border=\"1\" class=\"dataframe\">\n",
       "  <thead>\n",
       "    <tr style=\"text-align: right;\">\n",
       "      <th></th>\n",
       "      <th>num_orders</th>\n",
       "      <th>hour</th>\n",
       "      <th>dayofweek</th>\n",
       "      <th>lag_1</th>\n",
       "      <th>lag_2</th>\n",
       "      <th>lag_3</th>\n",
       "      <th>lag_4</th>\n",
       "      <th>lag_5</th>\n",
       "      <th>lag_6</th>\n",
       "      <th>lag_7</th>\n",
       "      <th>...</th>\n",
       "      <th>lag_32</th>\n",
       "      <th>lag_33</th>\n",
       "      <th>lag_34</th>\n",
       "      <th>lag_35</th>\n",
       "      <th>lag_36</th>\n",
       "      <th>lag_37</th>\n",
       "      <th>lag_38</th>\n",
       "      <th>lag_39</th>\n",
       "      <th>lag_40</th>\n",
       "      <th>rolling_mean</th>\n",
       "    </tr>\n",
       "    <tr>\n",
       "      <th>datetime</th>\n",
       "      <th></th>\n",
       "      <th></th>\n",
       "      <th></th>\n",
       "      <th></th>\n",
       "      <th></th>\n",
       "      <th></th>\n",
       "      <th></th>\n",
       "      <th></th>\n",
       "      <th></th>\n",
       "      <th></th>\n",
       "      <th></th>\n",
       "      <th></th>\n",
       "      <th></th>\n",
       "      <th></th>\n",
       "      <th></th>\n",
       "      <th></th>\n",
       "      <th></th>\n",
       "      <th></th>\n",
       "      <th></th>\n",
       "      <th></th>\n",
       "      <th></th>\n",
       "    </tr>\n",
       "  </thead>\n",
       "  <tbody>\n",
       "    <tr>\n",
       "      <th>2018-03-03 02:00:00</th>\n",
       "      <td>25</td>\n",
       "      <td>2</td>\n",
       "      <td>5</td>\n",
       "      <td>108.0</td>\n",
       "      <td>163.0</td>\n",
       "      <td>72.0</td>\n",
       "      <td>119.0</td>\n",
       "      <td>101.0</td>\n",
       "      <td>93.0</td>\n",
       "      <td>49.0</td>\n",
       "      <td>...</td>\n",
       "      <td>73.0</td>\n",
       "      <td>44.0</td>\n",
       "      <td>43.0</td>\n",
       "      <td>66.0</td>\n",
       "      <td>48.0</td>\n",
       "      <td>32.0</td>\n",
       "      <td>30.0</td>\n",
       "      <td>96.0</td>\n",
       "      <td>64.0</td>\n",
       "      <td>62.82</td>\n",
       "    </tr>\n",
       "    <tr>\n",
       "      <th>2018-03-03 03:00:00</th>\n",
       "      <td>64</td>\n",
       "      <td>3</td>\n",
       "      <td>5</td>\n",
       "      <td>25.0</td>\n",
       "      <td>108.0</td>\n",
       "      <td>163.0</td>\n",
       "      <td>72.0</td>\n",
       "      <td>119.0</td>\n",
       "      <td>101.0</td>\n",
       "      <td>93.0</td>\n",
       "      <td>...</td>\n",
       "      <td>45.0</td>\n",
       "      <td>73.0</td>\n",
       "      <td>44.0</td>\n",
       "      <td>43.0</td>\n",
       "      <td>66.0</td>\n",
       "      <td>48.0</td>\n",
       "      <td>32.0</td>\n",
       "      <td>30.0</td>\n",
       "      <td>96.0</td>\n",
       "      <td>60.84</td>\n",
       "    </tr>\n",
       "    <tr>\n",
       "      <th>2018-03-03 04:00:00</th>\n",
       "      <td>44</td>\n",
       "      <td>4</td>\n",
       "      <td>5</td>\n",
       "      <td>64.0</td>\n",
       "      <td>25.0</td>\n",
       "      <td>108.0</td>\n",
       "      <td>163.0</td>\n",
       "      <td>72.0</td>\n",
       "      <td>119.0</td>\n",
       "      <td>101.0</td>\n",
       "      <td>...</td>\n",
       "      <td>61.0</td>\n",
       "      <td>45.0</td>\n",
       "      <td>73.0</td>\n",
       "      <td>44.0</td>\n",
       "      <td>43.0</td>\n",
       "      <td>66.0</td>\n",
       "      <td>48.0</td>\n",
       "      <td>32.0</td>\n",
       "      <td>30.0</td>\n",
       "      <td>60.42</td>\n",
       "    </tr>\n",
       "    <tr>\n",
       "      <th>2018-03-03 05:00:00</th>\n",
       "      <td>15</td>\n",
       "      <td>5</td>\n",
       "      <td>5</td>\n",
       "      <td>44.0</td>\n",
       "      <td>64.0</td>\n",
       "      <td>25.0</td>\n",
       "      <td>108.0</td>\n",
       "      <td>163.0</td>\n",
       "      <td>72.0</td>\n",
       "      <td>119.0</td>\n",
       "      <td>...</td>\n",
       "      <td>66.0</td>\n",
       "      <td>61.0</td>\n",
       "      <td>45.0</td>\n",
       "      <td>73.0</td>\n",
       "      <td>44.0</td>\n",
       "      <td>43.0</td>\n",
       "      <td>66.0</td>\n",
       "      <td>48.0</td>\n",
       "      <td>32.0</td>\n",
       "      <td>59.88</td>\n",
       "    </tr>\n",
       "    <tr>\n",
       "      <th>2018-03-03 06:00:00</th>\n",
       "      <td>9</td>\n",
       "      <td>6</td>\n",
       "      <td>5</td>\n",
       "      <td>15.0</td>\n",
       "      <td>44.0</td>\n",
       "      <td>64.0</td>\n",
       "      <td>25.0</td>\n",
       "      <td>108.0</td>\n",
       "      <td>163.0</td>\n",
       "      <td>72.0</td>\n",
       "      <td>...</td>\n",
       "      <td>113.0</td>\n",
       "      <td>66.0</td>\n",
       "      <td>61.0</td>\n",
       "      <td>45.0</td>\n",
       "      <td>73.0</td>\n",
       "      <td>44.0</td>\n",
       "      <td>43.0</td>\n",
       "      <td>66.0</td>\n",
       "      <td>48.0</td>\n",
       "      <td>58.86</td>\n",
       "    </tr>\n",
       "    <tr>\n",
       "      <th>...</th>\n",
       "      <td>...</td>\n",
       "      <td>...</td>\n",
       "      <td>...</td>\n",
       "      <td>...</td>\n",
       "      <td>...</td>\n",
       "      <td>...</td>\n",
       "      <td>...</td>\n",
       "      <td>...</td>\n",
       "      <td>...</td>\n",
       "      <td>...</td>\n",
       "      <td>...</td>\n",
       "      <td>...</td>\n",
       "      <td>...</td>\n",
       "      <td>...</td>\n",
       "      <td>...</td>\n",
       "      <td>...</td>\n",
       "      <td>...</td>\n",
       "      <td>...</td>\n",
       "      <td>...</td>\n",
       "      <td>...</td>\n",
       "      <td>...</td>\n",
       "    </tr>\n",
       "    <tr>\n",
       "      <th>2018-08-31 19:00:00</th>\n",
       "      <td>136</td>\n",
       "      <td>19</td>\n",
       "      <td>4</td>\n",
       "      <td>207.0</td>\n",
       "      <td>217.0</td>\n",
       "      <td>197.0</td>\n",
       "      <td>116.0</td>\n",
       "      <td>133.0</td>\n",
       "      <td>166.0</td>\n",
       "      <td>136.0</td>\n",
       "      <td>...</td>\n",
       "      <td>156.0</td>\n",
       "      <td>227.0</td>\n",
       "      <td>226.0</td>\n",
       "      <td>166.0</td>\n",
       "      <td>39.0</td>\n",
       "      <td>13.0</td>\n",
       "      <td>56.0</td>\n",
       "      <td>186.0</td>\n",
       "      <td>193.0</td>\n",
       "      <td>169.64</td>\n",
       "    </tr>\n",
       "    <tr>\n",
       "      <th>2018-08-31 20:00:00</th>\n",
       "      <td>154</td>\n",
       "      <td>20</td>\n",
       "      <td>4</td>\n",
       "      <td>136.0</td>\n",
       "      <td>207.0</td>\n",
       "      <td>217.0</td>\n",
       "      <td>197.0</td>\n",
       "      <td>116.0</td>\n",
       "      <td>133.0</td>\n",
       "      <td>166.0</td>\n",
       "      <td>...</td>\n",
       "      <td>173.0</td>\n",
       "      <td>156.0</td>\n",
       "      <td>227.0</td>\n",
       "      <td>226.0</td>\n",
       "      <td>166.0</td>\n",
       "      <td>39.0</td>\n",
       "      <td>13.0</td>\n",
       "      <td>56.0</td>\n",
       "      <td>186.0</td>\n",
       "      <td>169.18</td>\n",
       "    </tr>\n",
       "    <tr>\n",
       "      <th>2018-08-31 21:00:00</th>\n",
       "      <td>159</td>\n",
       "      <td>21</td>\n",
       "      <td>4</td>\n",
       "      <td>154.0</td>\n",
       "      <td>136.0</td>\n",
       "      <td>207.0</td>\n",
       "      <td>217.0</td>\n",
       "      <td>197.0</td>\n",
       "      <td>116.0</td>\n",
       "      <td>133.0</td>\n",
       "      <td>...</td>\n",
       "      <td>154.0</td>\n",
       "      <td>173.0</td>\n",
       "      <td>156.0</td>\n",
       "      <td>227.0</td>\n",
       "      <td>226.0</td>\n",
       "      <td>166.0</td>\n",
       "      <td>39.0</td>\n",
       "      <td>13.0</td>\n",
       "      <td>56.0</td>\n",
       "      <td>169.86</td>\n",
       "    </tr>\n",
       "    <tr>\n",
       "      <th>2018-08-31 22:00:00</th>\n",
       "      <td>223</td>\n",
       "      <td>22</td>\n",
       "      <td>4</td>\n",
       "      <td>159.0</td>\n",
       "      <td>154.0</td>\n",
       "      <td>136.0</td>\n",
       "      <td>207.0</td>\n",
       "      <td>217.0</td>\n",
       "      <td>197.0</td>\n",
       "      <td>116.0</td>\n",
       "      <td>...</td>\n",
       "      <td>91.0</td>\n",
       "      <td>154.0</td>\n",
       "      <td>173.0</td>\n",
       "      <td>156.0</td>\n",
       "      <td>227.0</td>\n",
       "      <td>226.0</td>\n",
       "      <td>166.0</td>\n",
       "      <td>39.0</td>\n",
       "      <td>13.0</td>\n",
       "      <td>169.66</td>\n",
       "    </tr>\n",
       "    <tr>\n",
       "      <th>2018-08-31 23:00:00</th>\n",
       "      <td>205</td>\n",
       "      <td>23</td>\n",
       "      <td>4</td>\n",
       "      <td>223.0</td>\n",
       "      <td>159.0</td>\n",
       "      <td>154.0</td>\n",
       "      <td>136.0</td>\n",
       "      <td>207.0</td>\n",
       "      <td>217.0</td>\n",
       "      <td>197.0</td>\n",
       "      <td>...</td>\n",
       "      <td>156.0</td>\n",
       "      <td>91.0</td>\n",
       "      <td>154.0</td>\n",
       "      <td>173.0</td>\n",
       "      <td>156.0</td>\n",
       "      <td>227.0</td>\n",
       "      <td>226.0</td>\n",
       "      <td>166.0</td>\n",
       "      <td>39.0</td>\n",
       "      <td>170.30</td>\n",
       "    </tr>\n",
       "  </tbody>\n",
       "</table>\n",
       "<p>4366 rows × 44 columns</p>\n",
       "</div>"
      ],
      "text/plain": [
       "                     num_orders  hour  dayofweek  lag_1  lag_2  lag_3  lag_4  \\\n",
       "datetime                                                                       \n",
       "2018-03-03 02:00:00          25     2          5  108.0  163.0   72.0  119.0   \n",
       "2018-03-03 03:00:00          64     3          5   25.0  108.0  163.0   72.0   \n",
       "2018-03-03 04:00:00          44     4          5   64.0   25.0  108.0  163.0   \n",
       "2018-03-03 05:00:00          15     5          5   44.0   64.0   25.0  108.0   \n",
       "2018-03-03 06:00:00           9     6          5   15.0   44.0   64.0   25.0   \n",
       "...                         ...   ...        ...    ...    ...    ...    ...   \n",
       "2018-08-31 19:00:00         136    19          4  207.0  217.0  197.0  116.0   \n",
       "2018-08-31 20:00:00         154    20          4  136.0  207.0  217.0  197.0   \n",
       "2018-08-31 21:00:00         159    21          4  154.0  136.0  207.0  217.0   \n",
       "2018-08-31 22:00:00         223    22          4  159.0  154.0  136.0  207.0   \n",
       "2018-08-31 23:00:00         205    23          4  223.0  159.0  154.0  136.0   \n",
       "\n",
       "                     lag_5  lag_6  lag_7  ...  lag_32  lag_33  lag_34  lag_35  \\\n",
       "datetime                                  ...                                   \n",
       "2018-03-03 02:00:00  101.0   93.0   49.0  ...    73.0    44.0    43.0    66.0   \n",
       "2018-03-03 03:00:00  119.0  101.0   93.0  ...    45.0    73.0    44.0    43.0   \n",
       "2018-03-03 04:00:00   72.0  119.0  101.0  ...    61.0    45.0    73.0    44.0   \n",
       "2018-03-03 05:00:00  163.0   72.0  119.0  ...    66.0    61.0    45.0    73.0   \n",
       "2018-03-03 06:00:00  108.0  163.0   72.0  ...   113.0    66.0    61.0    45.0   \n",
       "...                    ...    ...    ...  ...     ...     ...     ...     ...   \n",
       "2018-08-31 19:00:00  133.0  166.0  136.0  ...   156.0   227.0   226.0   166.0   \n",
       "2018-08-31 20:00:00  116.0  133.0  166.0  ...   173.0   156.0   227.0   226.0   \n",
       "2018-08-31 21:00:00  197.0  116.0  133.0  ...   154.0   173.0   156.0   227.0   \n",
       "2018-08-31 22:00:00  217.0  197.0  116.0  ...    91.0   154.0   173.0   156.0   \n",
       "2018-08-31 23:00:00  207.0  217.0  197.0  ...   156.0    91.0   154.0   173.0   \n",
       "\n",
       "                     lag_36  lag_37  lag_38  lag_39  lag_40  rolling_mean  \n",
       "datetime                                                                   \n",
       "2018-03-03 02:00:00    48.0    32.0    30.0    96.0    64.0         62.82  \n",
       "2018-03-03 03:00:00    66.0    48.0    32.0    30.0    96.0         60.84  \n",
       "2018-03-03 04:00:00    43.0    66.0    48.0    32.0    30.0         60.42  \n",
       "2018-03-03 05:00:00    44.0    43.0    66.0    48.0    32.0         59.88  \n",
       "2018-03-03 06:00:00    73.0    44.0    43.0    66.0    48.0         58.86  \n",
       "...                     ...     ...     ...     ...     ...           ...  \n",
       "2018-08-31 19:00:00    39.0    13.0    56.0   186.0   193.0        169.64  \n",
       "2018-08-31 20:00:00   166.0    39.0    13.0    56.0   186.0        169.18  \n",
       "2018-08-31 21:00:00   226.0   166.0    39.0    13.0    56.0        169.86  \n",
       "2018-08-31 22:00:00   227.0   226.0   166.0    39.0    13.0        169.66  \n",
       "2018-08-31 23:00:00   156.0   227.0   226.0   166.0    39.0        170.30  \n",
       "\n",
       "[4366 rows x 44 columns]"
      ]
     },
     "execution_count": 20,
     "metadata": {},
     "output_type": "execute_result"
    }
   ],
   "source": [
    "new_taxi"
   ]
  },
  {
   "cell_type": "markdown",
   "metadata": {},
   "source": [
    "#### Разделение данных "
   ]
  },
  {
   "cell_type": "markdown",
   "metadata": {},
   "source": [
    "Разделим данные на признаки и целевой признак"
   ]
  },
  {
   "cell_type": "code",
   "execution_count": 21,
   "metadata": {},
   "outputs": [],
   "source": [
    "f = new_taxi.drop(['num_orders'], axis=1)\n",
    "t = new_taxi['num_orders']"
   ]
  },
  {
   "cell_type": "markdown",
   "metadata": {},
   "source": [
    "Создадим обучающую и тестовую выборки в соотношении **9:1**"
   ]
  },
  {
   "cell_type": "code",
   "execution_count": 22,
   "metadata": {},
   "outputs": [],
   "source": [
    "f_train, f_test, t_train, t_test = train_test_split(f, t, \n",
    "                                                    shuffle=False, test_size=0.1)"
   ]
  },
  {
   "cell_type": "code",
   "execution_count": 23,
   "metadata": {},
   "outputs": [
    {
     "name": "stdout",
     "output_type": "stream",
     "text": [
      "(3929, 43) (3929,)\n",
      "(437, 43) (437,)\n"
     ]
    }
   ],
   "source": [
    "print(f_train.shape, t_train.shape)\n",
    "print(f_test.shape, t_test.shape)"
   ]
  },
  {
   "cell_type": "markdown",
   "metadata": {},
   "source": [
    "Данные полностью подготовлены. Создано оптимальное количество дополнительных признаков. Данные разделены. Переходим к обучению"
   ]
  },
  {
   "cell_type": "markdown",
   "metadata": {},
   "source": [
    "### Обучение моделей "
   ]
  },
  {
   "cell_type": "markdown",
   "metadata": {},
   "source": [
    "#### CatBoost"
   ]
  },
  {
   "cell_type": "markdown",
   "metadata": {},
   "source": [
    "Запишем модель в переменную и выберем параметры для гридсерча"
   ]
  },
  {
   "cell_type": "code",
   "execution_count": 24,
   "metadata": {},
   "outputs": [],
   "source": [
    "cat_model = CatBoostRegressor(random_state=333, verbose=False)\n",
    "\n",
    "param_grid = {\n",
    "    'learning_rate': [0.1, 0.2, 0.3],\n",
    "    'iterations': [150, 200, 250]\n",
    "}"
   ]
  },
  {
   "cell_type": "markdown",
   "metadata": {},
   "source": [
    "Приступим к поиску параметров "
   ]
  },
  {
   "cell_type": "code",
   "execution_count": 25,
   "metadata": {
    "scrolled": false
   },
   "outputs": [
    {
     "name": "stdout",
     "output_type": "stream",
     "text": [
      "CPU times: user 1min 44s, sys: 1.52 s, total: 1min 45s\n",
      "Wall time: 2min 19s\n"
     ]
    },
    {
     "data": {
      "text/plain": [
       "GridSearchCV(cv=TimeSeriesSplit(gap=0, max_train_size=None, n_splits=8, test_size=None),\n",
       "             estimator=<catboost.core.CatBoostRegressor object at 0x7fe88024b460>,\n",
       "             param_grid={'iterations': [150, 200, 250],\n",
       "                         'learning_rate': [0.1, 0.2, 0.3]},\n",
       "             scoring=make_scorer(rmse, greater_is_better=False))"
      ]
     },
     "execution_count": 25,
     "metadata": {},
     "output_type": "execute_result"
    }
   ],
   "source": [
    "%%time\n",
    "grid_search = GridSearchCV(cat_model, param_grid=param_grid, scoring=scorer, cv=TimeSeriesSplit(n_splits=8))\n",
    "grid_search.fit(f_train, t_train)"
   ]
  },
  {
   "cell_type": "markdown",
   "metadata": {},
   "source": [
    "Поиск параметров занял где-то полторы минуты.\n",
    "Посмотрим на лучшие параметры"
   ]
  },
  {
   "cell_type": "code",
   "execution_count": 26,
   "metadata": {},
   "outputs": [
    {
     "name": "stdout",
     "output_type": "stream",
     "text": [
      "{'iterations': 250, 'learning_rate': 0.1}\n",
      "\n",
      "Среднее RMSE CatBoost при кросс-валидации: 23.91\n"
     ]
    }
   ],
   "source": [
    "print(grid_search.best_params_)\n",
    "print()\n",
    "print(f'Среднее RMSE CatBoost при кросс-валидации: {abs(grid_search.best_score_):.2f}')"
   ]
  },
  {
   "cell_type": "markdown",
   "metadata": {},
   "source": [
    "Сохраним параметры в переменную `best_cat_model`"
   ]
  },
  {
   "cell_type": "code",
   "execution_count": 27,
   "metadata": {},
   "outputs": [],
   "source": [
    "best_cat_model = CatBoostRegressor(random_state=333, verbose=False, iterations=250, learning_rate=0.1)"
   ]
  },
  {
   "cell_type": "markdown",
   "metadata": {},
   "source": [
    "#### RandomForest"
   ]
  },
  {
   "cell_type": "markdown",
   "metadata": {},
   "source": [
    "Таким же образом создадим модель `RandomForest`. Создадим словарь с параметрами и запустим гридсерч для поиска лучших параметров"
   ]
  },
  {
   "cell_type": "code",
   "execution_count": 28,
   "metadata": {},
   "outputs": [],
   "source": [
    "rf_model = RandomForestRegressor(random_state=333)\n",
    "\n",
    "param_grid = {\n",
    "    'n_estimators': [50, 100, 200],\n",
    "    'max_depth': [5, 10, 20],\n",
    "}"
   ]
  },
  {
   "cell_type": "code",
   "execution_count": 29,
   "metadata": {},
   "outputs": [
    {
     "name": "stdout",
     "output_type": "stream",
     "text": [
      "CPU times: user 4min 2s, sys: 800 ms, total: 4min 3s\n",
      "Wall time: 4min 4s\n"
     ]
    },
    {
     "data": {
      "text/plain": [
       "GridSearchCV(cv=TimeSeriesSplit(gap=0, max_train_size=None, n_splits=8, test_size=None),\n",
       "             estimator=RandomForestRegressor(random_state=333),\n",
       "             param_grid={'max_depth': [5, 10, 20],\n",
       "                         'n_estimators': [50, 100, 200]},\n",
       "             scoring=make_scorer(rmse, greater_is_better=False))"
      ]
     },
     "execution_count": 29,
     "metadata": {},
     "output_type": "execute_result"
    }
   ],
   "source": [
    "%%time\n",
    "grid_search = GridSearchCV(rf_model, param_grid=param_grid, scoring=scorer, cv=TimeSeriesSplit(n_splits=8))\n",
    "grid_search.fit(f_train, t_train)"
   ]
  },
  {
   "cell_type": "code",
   "execution_count": 30,
   "metadata": {},
   "outputs": [
    {
     "name": "stdout",
     "output_type": "stream",
     "text": [
      "{'max_depth': 20, 'n_estimators': 200}\n",
      "\n",
      "Среднее RMSE RandomForest при кросс-валидации: 24.52\n"
     ]
    }
   ],
   "source": [
    "print(grid_search.best_params_)\n",
    "print()\n",
    "print(f'Среднее RMSE RandomForest при кросс-валидации: {abs(grid_search.best_score_):.2f}')"
   ]
  },
  {
   "cell_type": "markdown",
   "metadata": {},
   "source": [
    "Гридсерч случайного леса занял больше 4 минут. Среднее RMSE: 24.52"
   ]
  },
  {
   "cell_type": "markdown",
   "metadata": {},
   "source": [
    "#### LGBM"
   ]
  },
  {
   "cell_type": "code",
   "execution_count": 31,
   "metadata": {},
   "outputs": [],
   "source": [
    "lgb_model = lgb.LGBMRegressor(random_state=333)\n",
    "\n",
    "param_grid = {\n",
    "    'learning_rate': [0.05, 0.1, 0.2],\n",
    "    'n_estimators': [50, 100, 200]\n",
    "}"
   ]
  },
  {
   "cell_type": "code",
   "execution_count": 32,
   "metadata": {
    "scrolled": true
   },
   "outputs": [
    {
     "name": "stdout",
     "output_type": "stream",
     "text": [
      "CPU times: user 4min 2s, sys: 5.61 s, total: 4min 8s\n",
      "Wall time: 4min 11s\n"
     ]
    },
    {
     "data": {
      "text/plain": [
       "GridSearchCV(cv=TimeSeriesSplit(gap=0, max_train_size=None, n_splits=8, test_size=None),\n",
       "             estimator=LGBMRegressor(random_state=333),\n",
       "             param_grid={'learning_rate': [0.05, 0.1, 0.2],\n",
       "                         'n_estimators': [50, 100, 200]},\n",
       "             scoring=make_scorer(rmse, greater_is_better=False))"
      ]
     },
     "execution_count": 32,
     "metadata": {},
     "output_type": "execute_result"
    }
   ],
   "source": [
    "%%time\n",
    "grid_search = GridSearchCV(lgb_model, param_grid=param_grid, scoring=scorer, cv=TimeSeriesSplit(n_splits=8))\n",
    "grid_search.fit(f_train, t_train)"
   ]
  },
  {
   "cell_type": "code",
   "execution_count": 33,
   "metadata": {},
   "outputs": [
    {
     "name": "stdout",
     "output_type": "stream",
     "text": [
      "{'learning_rate': 0.05, 'n_estimators': 200}\n",
      "\n",
      "Среднее RMSE LGBM при кросс-валидации: 24.37\n"
     ]
    }
   ],
   "source": [
    "print(grid_search.best_params_)\n",
    "print()\n",
    "print(f'Среднее RMSE LGBM при кросс-валидации: {abs(grid_search.best_score_):.2f}')"
   ]
  },
  {
   "cell_type": "markdown",
   "metadata": {},
   "source": [
    "Подбор гиперпараметров занял более 4 минут. Среднее значение RMSE: 24.37"
   ]
  },
  {
   "cell_type": "markdown",
   "metadata": {},
   "source": [
    "#### Константная модель"
   ]
  },
  {
   "cell_type": "code",
   "execution_count": 34,
   "metadata": {},
   "outputs": [
    {
     "name": "stdout",
     "output_type": "stream",
     "text": [
      "RMSE константной модели: 58.80\n"
     ]
    }
   ],
   "source": [
    "const_model = pd.Series(t_test.mean(), index=t_test.index)\n",
    "print(f'RMSE константной модели: {rmse(t_test, const_model):.2f}')"
   ]
  },
  {
   "cell_type": "markdown",
   "metadata": {},
   "source": [
    "#### Выбор лучшей модели "
   ]
  },
  {
   "cell_type": "code",
   "execution_count": 35,
   "metadata": {},
   "outputs": [
    {
     "data": {
      "text/html": [
       "<div>\n",
       "<style scoped>\n",
       "    .dataframe tbody tr th:only-of-type {\n",
       "        vertical-align: middle;\n",
       "    }\n",
       "\n",
       "    .dataframe tbody tr th {\n",
       "        vertical-align: top;\n",
       "    }\n",
       "\n",
       "    .dataframe thead th {\n",
       "        text-align: right;\n",
       "    }\n",
       "</style>\n",
       "<table border=\"1\" class=\"dataframe\">\n",
       "  <thead>\n",
       "    <tr style=\"text-align: right;\">\n",
       "      <th></th>\n",
       "      <th>Время подбора параметров (мин:сек)</th>\n",
       "      <th>RMSE</th>\n",
       "    </tr>\n",
       "  </thead>\n",
       "  <tbody>\n",
       "    <tr>\n",
       "      <th>CatBoost</th>\n",
       "      <td>1:30</td>\n",
       "      <td>23.91</td>\n",
       "    </tr>\n",
       "    <tr>\n",
       "      <th>RandomForest</th>\n",
       "      <td>4:00</td>\n",
       "      <td>24.52</td>\n",
       "    </tr>\n",
       "    <tr>\n",
       "      <th>LGBM</th>\n",
       "      <td>10:00</td>\n",
       "      <td>24.37</td>\n",
       "    </tr>\n",
       "    <tr>\n",
       "      <th>Константная модель</th>\n",
       "      <td>0</td>\n",
       "      <td>58.80</td>\n",
       "    </tr>\n",
       "  </tbody>\n",
       "</table>\n",
       "</div>"
      ],
      "text/plain": [
       "                   Время подбора параметров (мин:сек)   RMSE\n",
       "CatBoost                                         1:30  23.91\n",
       "RandomForest                                     4:00  24.52\n",
       "LGBM                                            10:00  24.37\n",
       "Константная модель                                  0  58.80"
      ]
     },
     "execution_count": 35,
     "metadata": {},
     "output_type": "execute_result"
    }
   ],
   "source": [
    "d = {'Время подбора параметров (мин:сек)':['1:30', '4:00', '10:00', '0'],\n",
    "    'RMSE':[23.91, 24.52, 24.37, 58.80]}\n",
    "\n",
    "data = pd.DataFrame(d, index=['CatBoost', 'RandomForest', 'LGBM', 'Константная модель'])\n",
    "data"
   ]
  },
  {
   "cell_type": "markdown",
   "metadata": {},
   "source": [
    "Средние показатели RMSE при кросс-валидации у всех моделей близки друг к другу. Время подбора параметров как и RMSE лучше у **CatBoost**.\n",
    "\n",
    "На ней и будем проводить итоговое тестирование "
   ]
  },
  {
   "cell_type": "markdown",
   "metadata": {},
   "source": [
    "## Тестирование"
   ]
  },
  {
   "cell_type": "code",
   "execution_count": 36,
   "metadata": {},
   "outputs": [
    {
     "data": {
      "text/plain": [
       "<catboost.core.CatBoostRegressor at 0x7fe88024b3a0>"
      ]
     },
     "execution_count": 36,
     "metadata": {},
     "output_type": "execute_result"
    }
   ],
   "source": [
    "best_cat_model.fit(f_train, t_train)"
   ]
  },
  {
   "cell_type": "code",
   "execution_count": 37,
   "metadata": {},
   "outputs": [
    {
     "name": "stdout",
     "output_type": "stream",
     "text": [
      "RMSE на тестовой выборке: 43.31\n"
     ]
    }
   ],
   "source": [
    "pred = best_cat_model.predict(f_test)\n",
    "print(f'RMSE на тестовой выборке: {rmse(t_test, pred):.2f}')"
   ]
  },
  {
   "cell_type": "markdown",
   "metadata": {},
   "source": [
    "Для наглядной оценки качества предсказания модели построим график за последние 72 часа тестовой выборки и сравним реальные значения с предсказанными"
   ]
  },
  {
   "cell_type": "code",
   "execution_count": 38,
   "metadata": {
    "scrolled": false
   },
   "outputs": [
    {
     "data": {
      "image/png": "[encoded data removed]",
      "text/plain": [
       "<Figure size 432x288 with 1 Axes>"
      ]
     },
     "metadata": {
      "needs_background": "light"
     },
     "output_type": "display_data"
    }
   ],
   "source": [
    "plt.plot(t_test[-72:].index, t_test[-72:], label='Реальные значения')\n",
    "plt.plot(t_test[-72:].index, pred[-72:], label='Предсказанные значения')\n",
    "\n",
    "plt.xlabel('Время')\n",
    "plt.xticks(rotation=45, ha='right')\n",
    "plt.ylabel('Количество заказов')\n",
    "plt.title('Сравнение реальных значений и предсказанных')\n",
    "plt.legend()\n",
    "\n",
    "plt.show()"
   ]
  },
  {
   "cell_type": "markdown",
   "metadata": {},
   "source": [
    "Предсказания почти дублируют направления роста или падения реальных значений заказов с небольшим отклонением. Хуже всего модель отреагировала на резкий пик спроса "
   ]
  },
  {
   "cell_type": "markdown",
   "metadata": {},
   "source": [
    "# Вывод"
   ]
  },
  {
   "cell_type": "markdown",
   "metadata": {},
   "source": [
    "1. **Подготовка**\n",
    "- данные были загружены и проанализированы\n",
    "- проведено ресемплирование\n",
    "\n",
    "2. **Анализ**\n",
    "- были проанализированы тренды и сезонности временного ряда\n",
    "- добавлены новые признаки `hour` `month` `dayofweek`\n",
    "\n",
    "3. **Обучение**\n",
    "- подобрано и добавлено оптимальное количество новых признаков `lag` и `rolling_mean`\n",
    "- были обучены три модели с подбором параметров и кросс-валидацией\n",
    "- выбрана лучшая модель `CatBoost с RMSE 23.91`\n",
    "\n",
    "4. **Тестирование**\n",
    "\n",
    "Во время проведения итогового тестирования мы сравнили нашу модель с константной.\n",
    "RMSE константной модели составила 58.80.\n",
    "\n",
    "RMSE нашей модели на тестовой выборке составила **43.31**"
   ]
  }
 ],
 "metadata": {
  "ExecuteTimeLog": [
   {
    "duration": 481,
    "start_time": "2023-03-14T08:57:02.392Z"
   },
   {
    "duration": 113,
    "start_time": "2023-03-14T08:57:29.241Z"
   },
   {
    "duration": 59,
    "start_time": "2023-03-14T08:57:34.391Z"
   },
   {
    "duration": 53,
    "start_time": "2023-03-14T08:58:08.695Z"
   },
   {
    "duration": 69,
    "start_time": "2023-03-14T08:58:18.499Z"
   },
   {
    "duration": 12,
    "start_time": "2023-03-14T08:58:23.843Z"
   },
   {
    "duration": 15,
    "start_time": "2023-03-14T09:02:41.147Z"
   },
   {
    "duration": 13,
    "start_time": "2023-03-14T09:02:55.488Z"
   },
   {
    "duration": 11,
    "start_time": "2023-03-14T09:02:57.889Z"
   },
   {
    "duration": 5,
    "start_time": "2023-03-14T09:03:27.055Z"
   },
   {
    "duration": 17,
    "start_time": "2023-03-14T09:04:31.412Z"
   },
   {
    "duration": 12,
    "start_time": "2023-03-14T09:04:39.751Z"
   },
   {
    "duration": 11,
    "start_time": "2023-03-14T09:05:06.205Z"
   },
   {
    "duration": 11,
    "start_time": "2023-03-14T09:05:15.182Z"
   },
   {
    "duration": 11,
    "start_time": "2023-03-14T09:05:17.145Z"
   },
   {
    "duration": 757,
    "start_time": "2023-03-14T09:36:15.724Z"
   },
   {
    "duration": 9,
    "start_time": "2023-03-14T10:12:20.408Z"
   },
   {
    "duration": 13,
    "start_time": "2023-03-14T10:12:21.836Z"
   },
   {
    "duration": 935,
    "start_time": "2023-03-14T10:15:11.852Z"
   },
   {
    "duration": 4,
    "start_time": "2023-03-14T10:21:48.112Z"
   },
   {
    "duration": 62,
    "start_time": "2023-03-14T10:21:54.251Z"
   },
   {
    "duration": 9,
    "start_time": "2023-03-14T10:22:08.368Z"
   },
   {
    "duration": 6,
    "start_time": "2023-03-14T10:22:19.389Z"
   },
   {
    "duration": 4,
    "start_time": "2023-03-14T10:22:22.729Z"
   },
   {
    "duration": 6,
    "start_time": "2023-03-14T10:22:32.798Z"
   },
   {
    "duration": 2,
    "start_time": "2023-03-14T10:22:36.307Z"
   },
   {
    "duration": 3,
    "start_time": "2023-03-14T10:23:45.696Z"
   },
   {
    "duration": 3,
    "start_time": "2023-03-14T10:24:38.675Z"
   },
   {
    "duration": 6,
    "start_time": "2023-03-14T10:26:12.003Z"
   },
   {
    "duration": 12663,
    "start_time": "2023-03-14T10:28:14.101Z"
   },
   {
    "duration": 2,
    "start_time": "2023-03-14T10:31:21.901Z"
   },
   {
    "duration": 134562,
    "start_time": "2023-03-14T10:31:23.164Z"
   },
   {
    "duration": 3,
    "start_time": "2023-03-14T10:35:38.723Z"
   },
   {
    "duration": 5,
    "start_time": "2023-03-14T10:36:22.643Z"
   },
   {
    "duration": 16,
    "start_time": "2023-03-14T10:36:42.427Z"
   },
   {
    "duration": 12,
    "start_time": "2023-03-14T10:37:17.967Z"
   },
   {
    "duration": 3,
    "start_time": "2023-03-14T10:37:24.050Z"
   },
   {
    "duration": 5,
    "start_time": "2023-03-14T10:37:48.203Z"
   },
   {
    "duration": 696,
    "start_time": "2023-03-14T10:37:51.141Z"
   },
   {
    "duration": 18,
    "start_time": "2023-03-14T10:38:13.841Z"
   },
   {
    "duration": 4,
    "start_time": "2023-03-14T10:38:38.647Z"
   },
   {
    "duration": 9,
    "start_time": "2023-03-14T10:39:30.500Z"
   },
   {
    "duration": 1478,
    "start_time": "2023-03-14T10:54:30.503Z"
   },
   {
    "duration": 80,
    "start_time": "2023-03-14T10:54:32.179Z"
   },
   {
    "duration": 9,
    "start_time": "2023-03-14T10:54:35.749Z"
   },
   {
    "duration": 18,
    "start_time": "2023-03-14T10:54:37.196Z"
   },
   {
    "duration": 5,
    "start_time": "2023-03-14T10:54:38.710Z"
   },
   {
    "duration": 9,
    "start_time": "2023-03-14T10:54:41.659Z"
   },
   {
    "duration": 10,
    "start_time": "2023-03-14T10:55:29.960Z"
   },
   {
    "duration": 11,
    "start_time": "2023-03-14T10:57:22.538Z"
   },
   {
    "duration": 37,
    "start_time": "2023-03-14T10:57:42.448Z"
   },
   {
    "duration": 4,
    "start_time": "2023-03-14T10:57:57.353Z"
   },
   {
    "duration": 7,
    "start_time": "2023-03-14T10:57:59.203Z"
   },
   {
    "duration": 4,
    "start_time": "2023-03-14T10:58:00.034Z"
   },
   {
    "duration": 4,
    "start_time": "2023-03-14T10:58:01.014Z"
   },
   {
    "duration": 4,
    "start_time": "2023-03-14T10:58:02.241Z"
   },
   {
    "duration": 187159,
    "start_time": "2023-03-14T10:58:03.697Z"
   },
   {
    "duration": 6,
    "start_time": "2023-03-14T11:01:21.947Z"
   },
   {
    "duration": 4,
    "start_time": "2023-03-14T11:01:48.570Z"
   },
   {
    "duration": 943,
    "start_time": "2023-03-14T11:01:50.608Z"
   },
   {
    "duration": 5,
    "start_time": "2023-03-14T11:01:53.537Z"
   },
   {
    "duration": 6,
    "start_time": "2023-03-14T11:01:55.743Z"
   },
   {
    "duration": 1288,
    "start_time": "2023-03-14T11:03:39.776Z"
   },
   {
    "duration": 67,
    "start_time": "2023-03-14T11:03:41.066Z"
   },
   {
    "duration": 14,
    "start_time": "2023-03-14T11:03:42.600Z"
   },
   {
    "duration": 19,
    "start_time": "2023-03-14T11:03:43.438Z"
   },
   {
    "duration": 5,
    "start_time": "2023-03-14T11:03:44.598Z"
   },
   {
    "duration": 12,
    "start_time": "2023-03-14T11:03:45.697Z"
   },
   {
    "duration": 10,
    "start_time": "2023-03-14T11:03:48.130Z"
   },
   {
    "duration": 12,
    "start_time": "2023-03-14T11:04:35.940Z"
   },
   {
    "duration": 30,
    "start_time": "2023-03-14T11:04:37.617Z"
   },
   {
    "duration": 5,
    "start_time": "2023-03-14T11:04:47.957Z"
   },
   {
    "duration": 6,
    "start_time": "2023-03-14T11:04:49.750Z"
   },
   {
    "duration": 4,
    "start_time": "2023-03-14T11:05:02.648Z"
   },
   {
    "duration": 1153,
    "start_time": "2023-03-14T11:05:04.190Z"
   },
   {
    "duration": 5,
    "start_time": "2023-03-14T11:05:06.261Z"
   },
   {
    "duration": 5,
    "start_time": "2023-03-14T11:05:07.219Z"
   },
   {
    "duration": 4,
    "start_time": "2023-03-14T11:05:19.670Z"
   },
   {
    "duration": 1025,
    "start_time": "2023-03-14T11:05:20.529Z"
   },
   {
    "duration": 4,
    "start_time": "2023-03-14T11:05:22.346Z"
   },
   {
    "duration": 4,
    "start_time": "2023-03-14T11:05:23.037Z"
   },
   {
    "duration": 3,
    "start_time": "2023-03-14T11:05:27.229Z"
   },
   {
    "duration": 1282,
    "start_time": "2023-03-14T11:05:28.164Z"
   },
   {
    "duration": 6,
    "start_time": "2023-03-14T11:05:30.696Z"
   },
   {
    "duration": 6,
    "start_time": "2023-03-14T11:05:31.362Z"
   },
   {
    "duration": 4,
    "start_time": "2023-03-14T11:05:35.541Z"
   },
   {
    "duration": 1490,
    "start_time": "2023-03-14T11:05:36.758Z"
   },
   {
    "duration": 4,
    "start_time": "2023-03-14T11:05:39.165Z"
   },
   {
    "duration": 5,
    "start_time": "2023-03-14T11:05:40.037Z"
   },
   {
    "duration": 4,
    "start_time": "2023-03-14T11:05:46.706Z"
   },
   {
    "duration": 1438,
    "start_time": "2023-03-14T11:05:47.663Z"
   },
   {
    "duration": 9,
    "start_time": "2023-03-14T11:05:49.982Z"
   },
   {
    "duration": 6,
    "start_time": "2023-03-14T11:05:50.749Z"
   },
   {
    "duration": 3,
    "start_time": "2023-03-14T11:05:54.600Z"
   },
   {
    "duration": 898,
    "start_time": "2023-03-14T11:05:56.546Z"
   },
   {
    "duration": 5,
    "start_time": "2023-03-14T11:05:58.333Z"
   },
   {
    "duration": 6,
    "start_time": "2023-03-14T11:05:59.106Z"
   },
   {
    "duration": 3,
    "start_time": "2023-03-14T11:06:03.033Z"
   },
   {
    "duration": 1099,
    "start_time": "2023-03-14T11:06:04.331Z"
   },
   {
    "duration": 4,
    "start_time": "2023-03-14T11:06:06.244Z"
   },
   {
    "duration": 7,
    "start_time": "2023-03-14T11:06:06.920Z"
   },
   {
    "duration": 3,
    "start_time": "2023-03-14T11:06:10.997Z"
   },
   {
    "duration": 1295,
    "start_time": "2023-03-14T11:06:11.834Z"
   },
   {
    "duration": 4,
    "start_time": "2023-03-14T11:06:13.998Z"
   },
   {
    "duration": 6,
    "start_time": "2023-03-14T11:06:15.035Z"
   },
   {
    "duration": 6,
    "start_time": "2023-03-14T11:06:17.170Z"
   },
   {
    "duration": 4,
    "start_time": "2023-03-14T11:06:21.023Z"
   },
   {
    "duration": 1444,
    "start_time": "2023-03-14T11:06:21.702Z"
   },
   {
    "duration": 5,
    "start_time": "2023-03-14T11:06:24.057Z"
   },
   {
    "duration": 8,
    "start_time": "2023-03-14T11:06:24.690Z"
   },
   {
    "duration": 4,
    "start_time": "2023-03-14T11:06:32.146Z"
   },
   {
    "duration": 900,
    "start_time": "2023-03-14T11:06:32.843Z"
   },
   {
    "duration": 4,
    "start_time": "2023-03-14T11:06:34.504Z"
   },
   {
    "duration": 6,
    "start_time": "2023-03-14T11:06:35.158Z"
   },
   {
    "duration": 4,
    "start_time": "2023-03-14T11:06:42.826Z"
   },
   {
    "duration": 1098,
    "start_time": "2023-03-14T11:06:43.895Z"
   },
   {
    "duration": 6,
    "start_time": "2023-03-14T11:06:45.099Z"
   },
   {
    "duration": 5,
    "start_time": "2023-03-14T11:06:46.054Z"
   },
   {
    "duration": 4,
    "start_time": "2023-03-14T11:06:50.226Z"
   },
   {
    "duration": 1043,
    "start_time": "2023-03-14T11:06:51.193Z"
   },
   {
    "duration": 5,
    "start_time": "2023-03-14T11:06:53.148Z"
   },
   {
    "duration": 6,
    "start_time": "2023-03-14T11:06:53.895Z"
   },
   {
    "duration": 4,
    "start_time": "2023-03-14T11:06:57.390Z"
   },
   {
    "duration": 1044,
    "start_time": "2023-03-14T11:06:58.280Z"
   },
   {
    "duration": 13,
    "start_time": "2023-03-14T11:07:00.074Z"
   },
   {
    "duration": 6,
    "start_time": "2023-03-14T11:07:00.695Z"
   },
   {
    "duration": 1264,
    "start_time": "2023-03-14T11:07:13.655Z"
   },
   {
    "duration": 66,
    "start_time": "2023-03-14T11:07:14.922Z"
   },
   {
    "duration": 12,
    "start_time": "2023-03-14T11:07:14.990Z"
   },
   {
    "duration": 42,
    "start_time": "2023-03-14T11:07:15.005Z"
   },
   {
    "duration": 6,
    "start_time": "2023-03-14T11:07:15.051Z"
   },
   {
    "duration": 14,
    "start_time": "2023-03-14T11:07:15.059Z"
   },
   {
    "duration": 16,
    "start_time": "2023-03-14T11:07:15.075Z"
   },
   {
    "duration": 56,
    "start_time": "2023-03-14T11:07:15.093Z"
   },
   {
    "duration": 59,
    "start_time": "2023-03-14T11:07:15.151Z"
   },
   {
    "duration": 5,
    "start_time": "2023-03-14T11:07:15.212Z"
   },
   {
    "duration": 15,
    "start_time": "2023-03-14T11:07:15.219Z"
   },
   {
    "duration": 12,
    "start_time": "2023-03-14T11:07:15.237Z"
   },
   {
    "duration": 14,
    "start_time": "2023-03-14T11:07:15.251Z"
   },
   {
    "duration": 34,
    "start_time": "2023-03-14T11:07:15.269Z"
   },
   {
    "duration": 1971,
    "start_time": "2023-03-14T11:07:15.304Z"
   },
   {
    "duration": 0,
    "start_time": "2023-03-14T11:07:17.279Z"
   },
   {
    "duration": 0,
    "start_time": "2023-03-14T11:07:17.280Z"
   },
   {
    "duration": 0,
    "start_time": "2023-03-14T11:07:17.284Z"
   },
   {
    "duration": 0,
    "start_time": "2023-03-14T11:07:17.285Z"
   },
   {
    "duration": 0,
    "start_time": "2023-03-14T11:07:17.287Z"
   },
   {
    "duration": 1286,
    "start_time": "2023-03-14T11:07:31.639Z"
   },
   {
    "duration": 71,
    "start_time": "2023-03-14T11:07:32.928Z"
   },
   {
    "duration": 9,
    "start_time": "2023-03-14T11:07:33.001Z"
   },
   {
    "duration": 29,
    "start_time": "2023-03-14T11:07:33.013Z"
   },
   {
    "duration": 16,
    "start_time": "2023-03-14T11:07:33.044Z"
   },
   {
    "duration": 50,
    "start_time": "2023-03-14T11:07:33.062Z"
   },
   {
    "duration": 14,
    "start_time": "2023-03-14T11:07:33.114Z"
   },
   {
    "duration": 55,
    "start_time": "2023-03-14T11:07:33.130Z"
   },
   {
    "duration": 65,
    "start_time": "2023-03-14T11:07:33.190Z"
   },
   {
    "duration": 5,
    "start_time": "2023-03-14T11:07:33.258Z"
   },
   {
    "duration": 7,
    "start_time": "2023-03-14T11:07:44.402Z"
   },
   {
    "duration": 4,
    "start_time": "2023-03-14T11:07:48.070Z"
   },
   {
    "duration": 3,
    "start_time": "2023-03-14T11:07:51.268Z"
   },
   {
    "duration": 1897,
    "start_time": "2023-03-14T11:07:52.070Z"
   },
   {
    "duration": 6,
    "start_time": "2023-03-14T11:07:53.970Z"
   },
   {
    "duration": 27,
    "start_time": "2023-03-14T11:07:53.978Z"
   },
   {
    "duration": 63,
    "start_time": "2023-03-14T11:09:05.214Z"
   },
   {
    "duration": 7004,
    "start_time": "2023-03-14T11:09:36.617Z"
   },
   {
    "duration": 28,
    "start_time": "2023-03-14T11:09:58.710Z"
   },
   {
    "duration": 1180,
    "start_time": "2023-03-14T11:29:09.734Z"
   },
   {
    "duration": 65,
    "start_time": "2023-03-14T11:29:11.369Z"
   },
   {
    "duration": 10,
    "start_time": "2023-03-14T11:29:13.028Z"
   },
   {
    "duration": 24,
    "start_time": "2023-03-14T11:29:14.071Z"
   },
   {
    "duration": 5,
    "start_time": "2023-03-14T11:29:15.287Z"
   },
   {
    "duration": 10,
    "start_time": "2023-03-14T11:29:16.141Z"
   },
   {
    "duration": 5,
    "start_time": "2023-03-14T11:29:17.128Z"
   },
   {
    "duration": 1625,
    "start_time": "2023-03-14T11:29:18.399Z"
   },
   {
    "duration": 10,
    "start_time": "2023-03-14T11:29:40.475Z"
   },
   {
    "duration": 20,
    "start_time": "2023-03-14T11:29:41.891Z"
   },
   {
    "duration": 28,
    "start_time": "2023-03-14T11:29:43.392Z"
   },
   {
    "duration": 4,
    "start_time": "2023-03-14T11:29:54.612Z"
   },
   {
    "duration": 5,
    "start_time": "2023-03-14T11:30:01.566Z"
   },
   {
    "duration": 59,
    "start_time": "2023-03-14T11:30:07.307Z"
   },
   {
    "duration": 11,
    "start_time": "2023-03-14T11:30:08.151Z"
   },
   {
    "duration": 9,
    "start_time": "2023-03-14T11:30:09.440Z"
   },
   {
    "duration": 3273,
    "start_time": "2023-03-14T11:30:26.946Z"
   },
   {
    "duration": 30,
    "start_time": "2023-03-14T11:30:31.207Z"
   },
   {
    "duration": 1399,
    "start_time": "2023-03-14T11:32:22.354Z"
   },
   {
    "duration": 72,
    "start_time": "2023-03-14T11:32:23.755Z"
   },
   {
    "duration": 14,
    "start_time": "2023-03-14T11:32:25.406Z"
   },
   {
    "duration": 15,
    "start_time": "2023-03-14T11:32:27.017Z"
   },
   {
    "duration": 5,
    "start_time": "2023-03-14T11:32:28.547Z"
   },
   {
    "duration": 11,
    "start_time": "2023-03-14T11:32:29.303Z"
   },
   {
    "duration": 5,
    "start_time": "2023-03-14T11:32:30.712Z"
   },
   {
    "duration": 39,
    "start_time": "2023-03-14T11:32:32.134Z"
   },
   {
    "duration": 46,
    "start_time": "2023-03-14T11:32:32.838Z"
   },
   {
    "duration": 7,
    "start_time": "2023-03-14T11:32:35.804Z"
   },
   {
    "duration": 6,
    "start_time": "2023-03-14T11:32:37.110Z"
   },
   {
    "duration": 60,
    "start_time": "2023-03-14T11:32:43.551Z"
   },
   {
    "duration": 7715,
    "start_time": "2023-03-14T11:32:44.198Z"
   },
   {
    "duration": 26,
    "start_time": "2023-03-14T11:32:51.915Z"
   },
   {
    "duration": 1267,
    "start_time": "2023-03-14T11:36:10.317Z"
   },
   {
    "duration": 70,
    "start_time": "2023-03-14T11:36:11.586Z"
   },
   {
    "duration": 8,
    "start_time": "2023-03-14T11:36:11.706Z"
   },
   {
    "duration": 13,
    "start_time": "2023-03-14T11:36:13.220Z"
   },
   {
    "duration": 4,
    "start_time": "2023-03-14T11:36:14.220Z"
   },
   {
    "duration": 12,
    "start_time": "2023-03-14T11:36:14.971Z"
   },
   {
    "duration": 4,
    "start_time": "2023-03-14T11:36:15.718Z"
   },
   {
    "duration": 29,
    "start_time": "2023-03-14T11:36:16.853Z"
   },
   {
    "duration": 28,
    "start_time": "2023-03-14T11:36:17.539Z"
   },
   {
    "duration": 5,
    "start_time": "2023-03-14T11:36:21.766Z"
   },
   {
    "duration": 6,
    "start_time": "2023-03-14T11:36:22.955Z"
   },
   {
    "duration": 62,
    "start_time": "2023-03-14T11:36:27.372Z"
   },
   {
    "duration": 3346,
    "start_time": "2023-03-14T11:36:27.990Z"
   },
   {
    "duration": 25,
    "start_time": "2023-03-14T11:36:31.339Z"
   },
   {
    "duration": 3,
    "start_time": "2023-03-14T11:41:09.240Z"
   },
   {
    "duration": 4,
    "start_time": "2023-03-14T11:41:39.240Z"
   },
   {
    "duration": 307,
    "start_time": "2023-03-14T11:42:31.116Z"
   },
   {
    "duration": 4,
    "start_time": "2023-03-14T11:42:40.270Z"
   },
   {
    "duration": 111,
    "start_time": "2023-03-14T11:42:41.463Z"
   },
   {
    "duration": 4,
    "start_time": "2023-03-14T11:42:46.720Z"
   },
   {
    "duration": 864734,
    "start_time": "2023-03-14T11:42:49.130Z"
   },
   {
    "duration": 10,
    "start_time": "2023-03-14T11:57:47.569Z"
   },
   {
    "duration": 4,
    "start_time": "2023-03-14T11:58:23.883Z"
   },
   {
    "duration": 3,
    "start_time": "2023-03-14T12:00:00.619Z"
   },
   {
    "duration": 4274,
    "start_time": "2023-03-14T12:00:46.753Z"
   },
   {
    "duration": 5,
    "start_time": "2023-03-14T12:00:52.362Z"
   },
   {
    "duration": 1252,
    "start_time": "2023-03-14T13:02:25.565Z"
   },
   {
    "duration": 58,
    "start_time": "2023-03-14T13:02:27.795Z"
   },
   {
    "duration": 9,
    "start_time": "2023-03-14T13:02:29.258Z"
   },
   {
    "duration": 10,
    "start_time": "2023-03-14T13:02:30.292Z"
   },
   {
    "duration": 11,
    "start_time": "2023-03-14T13:02:32.174Z"
   },
   {
    "duration": 9,
    "start_time": "2023-03-14T13:02:33.142Z"
   },
   {
    "duration": 5,
    "start_time": "2023-03-14T13:02:35.249Z"
   },
   {
    "duration": 21,
    "start_time": "2023-03-14T13:02:36.292Z"
   },
   {
    "duration": 29,
    "start_time": "2023-03-14T13:02:37.778Z"
   },
   {
    "duration": 5,
    "start_time": "2023-03-14T13:02:46.356Z"
   },
   {
    "duration": 10,
    "start_time": "2023-03-14T13:02:54.173Z"
   },
   {
    "duration": 3,
    "start_time": "2023-03-14T13:03:25.960Z"
   },
   {
    "duration": 1051,
    "start_time": "2023-03-14T13:03:27.363Z"
   },
   {
    "duration": 9,
    "start_time": "2023-03-14T13:03:29.610Z"
   },
   {
    "duration": 8,
    "start_time": "2023-03-14T13:03:31.184Z"
   },
   {
    "duration": 3100,
    "start_time": "2023-03-14T13:03:56.592Z"
   },
   {
    "duration": 5,
    "start_time": "2023-03-14T13:04:01.150Z"
   },
   {
    "duration": 3,
    "start_time": "2023-03-14T13:04:45.109Z"
   },
   {
    "duration": 120,
    "start_time": "2023-03-14T13:04:45.744Z"
   },
   {
    "duration": 3,
    "start_time": "2023-03-14T13:04:49.116Z"
   },
   {
    "duration": 4,
    "start_time": "2023-03-14T13:04:49.570Z"
   },
   {
    "duration": 246485,
    "start_time": "2023-03-14T13:04:51.837Z"
   },
   {
    "duration": 3,
    "start_time": "2023-03-14T13:08:58.324Z"
   },
   {
    "duration": 1307,
    "start_time": "2023-03-14T13:35:57.044Z"
   },
   {
    "duration": 69,
    "start_time": "2023-03-14T13:35:58.353Z"
   },
   {
    "duration": 17,
    "start_time": "2023-03-14T13:35:59.978Z"
   },
   {
    "duration": 16,
    "start_time": "2023-03-14T13:36:00.745Z"
   },
   {
    "duration": 6,
    "start_time": "2023-03-14T13:36:01.815Z"
   },
   {
    "duration": 12,
    "start_time": "2023-03-14T13:36:02.822Z"
   },
   {
    "duration": 6,
    "start_time": "2023-03-14T13:36:03.454Z"
   },
   {
    "duration": 43,
    "start_time": "2023-03-14T13:36:04.868Z"
   },
   {
    "duration": 35,
    "start_time": "2023-03-14T13:36:05.707Z"
   },
   {
    "duration": 5,
    "start_time": "2023-03-14T13:36:09.030Z"
   },
   {
    "duration": 6,
    "start_time": "2023-03-14T13:36:10.972Z"
   },
   {
    "duration": 136,
    "start_time": "2023-03-14T13:36:11.756Z"
   },
   {
    "duration": 1367,
    "start_time": "2023-03-14T13:36:37.895Z"
   },
   {
    "duration": 71,
    "start_time": "2023-03-14T13:36:39.264Z"
   },
   {
    "duration": 8,
    "start_time": "2023-03-14T13:36:39.337Z"
   },
   {
    "duration": 39,
    "start_time": "2023-03-14T13:36:39.347Z"
   },
   {
    "duration": 35,
    "start_time": "2023-03-14T13:36:39.389Z"
   },
   {
    "duration": 23,
    "start_time": "2023-03-14T13:36:39.426Z"
   },
   {
    "duration": 15,
    "start_time": "2023-03-14T13:36:39.451Z"
   },
   {
    "duration": 88,
    "start_time": "2023-03-14T13:36:39.468Z"
   },
   {
    "duration": 65,
    "start_time": "2023-03-14T13:36:39.558Z"
   },
   {
    "duration": 19,
    "start_time": "2023-03-14T13:36:39.625Z"
   },
   {
    "duration": 71,
    "start_time": "2023-03-14T13:36:39.647Z"
   },
   {
    "duration": 376,
    "start_time": "2023-03-14T13:36:43.606Z"
   },
   {
    "duration": 1529,
    "start_time": "2023-03-14T13:37:05.928Z"
   },
   {
    "duration": 74,
    "start_time": "2023-03-14T13:37:07.459Z"
   },
   {
    "duration": 8,
    "start_time": "2023-03-14T13:37:07.535Z"
   },
   {
    "duration": 24,
    "start_time": "2023-03-14T13:37:07.545Z"
   },
   {
    "duration": 5,
    "start_time": "2023-03-14T13:37:07.571Z"
   },
   {
    "duration": 45,
    "start_time": "2023-03-14T13:37:07.581Z"
   },
   {
    "duration": 6,
    "start_time": "2023-03-14T13:37:07.628Z"
   },
   {
    "duration": 73,
    "start_time": "2023-03-14T13:37:07.636Z"
   },
   {
    "duration": 37,
    "start_time": "2023-03-14T13:37:07.711Z"
   },
   {
    "duration": 5,
    "start_time": "2023-03-14T13:37:07.749Z"
   },
   {
    "duration": 14,
    "start_time": "2023-03-14T13:37:07.756Z"
   },
   {
    "duration": 204,
    "start_time": "2023-03-14T13:37:12.500Z"
   },
   {
    "duration": 1357,
    "start_time": "2023-03-14T13:37:48.911Z"
   },
   {
    "duration": 70,
    "start_time": "2023-03-14T13:37:50.271Z"
   },
   {
    "duration": 8,
    "start_time": "2023-03-14T13:37:50.343Z"
   },
   {
    "duration": 27,
    "start_time": "2023-03-14T13:37:50.353Z"
   },
   {
    "duration": 50,
    "start_time": "2023-03-14T13:37:50.383Z"
   },
   {
    "duration": 23,
    "start_time": "2023-03-14T13:37:50.435Z"
   },
   {
    "duration": 15,
    "start_time": "2023-03-14T13:37:50.460Z"
   },
   {
    "duration": 55,
    "start_time": "2023-03-14T13:37:50.477Z"
   },
   {
    "duration": 39,
    "start_time": "2023-03-14T13:37:50.534Z"
   },
   {
    "duration": 8,
    "start_time": "2023-03-14T13:37:50.575Z"
   },
   {
    "duration": 58,
    "start_time": "2023-03-14T13:37:50.584Z"
   },
   {
    "duration": 14,
    "start_time": "2023-03-14T13:37:52.017Z"
   },
   {
    "duration": 1413,
    "start_time": "2023-03-14T13:38:10.515Z"
   },
   {
    "duration": 65,
    "start_time": "2023-03-14T13:38:11.930Z"
   },
   {
    "duration": 15,
    "start_time": "2023-03-14T13:38:11.997Z"
   },
   {
    "duration": 28,
    "start_time": "2023-03-14T13:38:12.016Z"
   },
   {
    "duration": 5,
    "start_time": "2023-03-14T13:38:12.047Z"
   },
   {
    "duration": 21,
    "start_time": "2023-03-14T13:38:12.054Z"
   },
   {
    "duration": 5,
    "start_time": "2023-03-14T13:38:12.077Z"
   },
   {
    "duration": 61,
    "start_time": "2023-03-14T13:38:12.084Z"
   },
   {
    "duration": 41,
    "start_time": "2023-03-14T13:38:12.147Z"
   },
   {
    "duration": 5,
    "start_time": "2023-03-14T13:38:12.190Z"
   },
   {
    "duration": 24,
    "start_time": "2023-03-14T13:38:12.199Z"
   },
   {
    "duration": 14,
    "start_time": "2023-03-14T13:38:14.238Z"
   },
   {
    "duration": 1379,
    "start_time": "2023-03-14T13:38:41.121Z"
   },
   {
    "duration": 59,
    "start_time": "2023-03-14T13:38:42.510Z"
   },
   {
    "duration": 12,
    "start_time": "2023-03-14T13:38:42.571Z"
   },
   {
    "duration": 45,
    "start_time": "2023-03-14T13:38:42.585Z"
   },
   {
    "duration": 4,
    "start_time": "2023-03-14T13:38:42.633Z"
   },
   {
    "duration": 16,
    "start_time": "2023-03-14T13:38:42.639Z"
   },
   {
    "duration": 19,
    "start_time": "2023-03-14T13:38:42.657Z"
   },
   {
    "duration": 67,
    "start_time": "2023-03-14T13:38:42.679Z"
   },
   {
    "duration": 51,
    "start_time": "2023-03-14T13:38:42.748Z"
   },
   {
    "duration": 18,
    "start_time": "2023-03-14T13:38:42.802Z"
   },
   {
    "duration": 48,
    "start_time": "2023-03-14T13:38:42.822Z"
   },
   {
    "duration": 209,
    "start_time": "2023-03-14T13:38:44.971Z"
   },
   {
    "duration": 1398,
    "start_time": "2023-03-14T13:44:01.172Z"
   },
   {
    "duration": 73,
    "start_time": "2023-03-14T13:44:02.572Z"
   },
   {
    "duration": 9,
    "start_time": "2023-03-14T13:44:03.810Z"
   },
   {
    "duration": 13,
    "start_time": "2023-03-14T13:44:04.531Z"
   },
   {
    "duration": 8,
    "start_time": "2023-03-14T13:44:06.030Z"
   },
   {
    "duration": 9,
    "start_time": "2023-03-14T13:44:07.606Z"
   },
   {
    "duration": 5,
    "start_time": "2023-03-14T13:50:48.361Z"
   },
   {
    "duration": 5227,
    "start_time": "2023-03-14T13:52:55.377Z"
   },
   {
    "duration": 11880,
    "start_time": "2023-03-14T13:54:00.658Z"
   },
   {
    "duration": 1435,
    "start_time": "2023-03-14T13:54:35.450Z"
   },
   {
    "duration": 69,
    "start_time": "2023-03-14T13:54:36.887Z"
   },
   {
    "duration": 12,
    "start_time": "2023-03-14T13:54:37.000Z"
   },
   {
    "duration": 15,
    "start_time": "2023-03-14T13:54:38.861Z"
   },
   {
    "duration": 5,
    "start_time": "2023-03-14T13:54:39.950Z"
   },
   {
    "duration": 16,
    "start_time": "2023-03-14T13:54:41.094Z"
   },
   {
    "duration": 7,
    "start_time": "2023-03-14T13:54:42.002Z"
   },
   {
    "duration": 8814,
    "start_time": "2023-03-14T13:54:43.571Z"
   },
   {
    "duration": 8,
    "start_time": "2023-03-14T13:59:54.153Z"
   },
   {
    "duration": 1442,
    "start_time": "2023-03-14T14:01:18.855Z"
   },
   {
    "duration": 54,
    "start_time": "2023-03-14T14:01:21.708Z"
   },
   {
    "duration": 9,
    "start_time": "2023-03-14T14:01:24.407Z"
   },
   {
    "duration": 19,
    "start_time": "2023-03-14T14:01:25.469Z"
   },
   {
    "duration": 5,
    "start_time": "2023-03-14T14:01:26.753Z"
   },
   {
    "duration": 11,
    "start_time": "2023-03-14T14:01:28.028Z"
   },
   {
    "duration": 15,
    "start_time": "2023-03-14T14:01:28.835Z"
   },
   {
    "duration": 6,
    "start_time": "2023-03-14T14:01:38.605Z"
   },
   {
    "duration": 8072,
    "start_time": "2023-03-14T14:03:17.807Z"
   },
   {
    "duration": 46,
    "start_time": "2023-03-14T14:03:34.668Z"
   },
   {
    "duration": 1379,
    "start_time": "2023-03-14T14:04:42.981Z"
   },
   {
    "duration": 80,
    "start_time": "2023-03-14T14:04:44.362Z"
   },
   {
    "duration": 9,
    "start_time": "2023-03-14T14:04:46.048Z"
   },
   {
    "duration": 11,
    "start_time": "2023-03-14T14:04:46.945Z"
   },
   {
    "duration": 11,
    "start_time": "2023-03-14T14:04:47.887Z"
   },
   {
    "duration": 9,
    "start_time": "2023-03-14T14:04:48.944Z"
   },
   {
    "duration": 19,
    "start_time": "2023-03-14T14:04:51.247Z"
   },
   {
    "duration": 6,
    "start_time": "2023-03-14T14:04:59.544Z"
   },
   {
    "duration": 13388,
    "start_time": "2023-03-14T14:05:04.116Z"
   },
   {
    "duration": 17,
    "start_time": "2023-03-14T14:05:23.570Z"
   },
   {
    "duration": 8,
    "start_time": "2023-03-14T14:09:50.898Z"
   },
   {
    "duration": 15739,
    "start_time": "2023-03-14T14:09:53.275Z"
   },
   {
    "duration": 6,
    "start_time": "2023-03-14T14:11:50.907Z"
   },
   {
    "duration": 53,
    "start_time": "2023-03-14T14:12:48.065Z"
   },
   {
    "duration": 50,
    "start_time": "2023-03-14T14:12:52.203Z"
   },
   {
    "duration": 1330,
    "start_time": "2023-03-14T14:13:13.964Z"
   },
   {
    "duration": 61,
    "start_time": "2023-03-14T14:13:15.928Z"
   },
   {
    "duration": 8,
    "start_time": "2023-03-14T14:13:17.734Z"
   },
   {
    "duration": 11,
    "start_time": "2023-03-14T14:13:18.533Z"
   },
   {
    "duration": 5,
    "start_time": "2023-03-14T14:13:19.995Z"
   },
   {
    "duration": 9,
    "start_time": "2023-03-14T14:13:21.363Z"
   },
   {
    "duration": 17,
    "start_time": "2023-03-14T14:13:21.965Z"
   },
   {
    "duration": 8,
    "start_time": "2023-03-14T14:13:29.306Z"
   },
   {
    "duration": 4,
    "start_time": "2023-03-14T14:13:31.970Z"
   },
   {
    "duration": 15054,
    "start_time": "2023-03-14T14:13:35.943Z"
   },
   {
    "duration": 5,
    "start_time": "2023-03-14T14:14:04.697Z"
   },
   {
    "duration": 253,
    "start_time": "2023-03-14T14:14:06.900Z"
   },
   {
    "duration": 6,
    "start_time": "2023-03-14T14:14:55.698Z"
   },
   {
    "duration": 6,
    "start_time": "2023-03-14T14:14:57.475Z"
   },
   {
    "duration": 13610,
    "start_time": "2023-03-14T14:14:58.374Z"
   },
   {
    "duration": 69,
    "start_time": "2023-03-14T14:15:34.585Z"
   },
   {
    "duration": 5,
    "start_time": "2023-03-14T14:15:51.436Z"
   },
   {
    "duration": 8,
    "start_time": "2023-03-14T14:15:52.795Z"
   },
   {
    "duration": 201,
    "start_time": "2023-03-14T14:15:55.392Z"
   },
   {
    "duration": 9049,
    "start_time": "2023-03-14T14:16:03.292Z"
   },
   {
    "duration": 5,
    "start_time": "2023-03-14T14:16:13.104Z"
   },
   {
    "duration": 3,
    "start_time": "2023-03-14T14:16:27.933Z"
   },
   {
    "duration": 3,
    "start_time": "2023-03-14T14:16:29.536Z"
   },
   {
    "duration": 3,
    "start_time": "2023-03-14T14:16:32.026Z"
   },
   {
    "duration": 498988,
    "start_time": "2023-03-14T14:16:36.407Z"
   },
   {
    "duration": 4,
    "start_time": "2023-03-14T14:24:55.397Z"
   },
   {
    "duration": 3,
    "start_time": "2023-03-14T14:25:45.999Z"
   },
   {
    "duration": 2750,
    "start_time": "2023-03-14T14:25:47.039Z"
   },
   {
    "duration": 8,
    "start_time": "2023-03-14T14:25:53.306Z"
   },
   {
    "duration": 6,
    "start_time": "2023-03-14T14:25:54.607Z"
   },
   {
    "duration": 1464,
    "start_time": "2023-03-14T14:28:09.997Z"
   },
   {
    "duration": 58,
    "start_time": "2023-03-14T14:28:11.893Z"
   },
   {
    "duration": 13,
    "start_time": "2023-03-14T14:28:13.360Z"
   },
   {
    "duration": 19,
    "start_time": "2023-03-14T14:28:14.475Z"
   },
   {
    "duration": 6,
    "start_time": "2023-03-14T14:28:15.633Z"
   },
   {
    "duration": 11,
    "start_time": "2023-03-14T14:28:16.604Z"
   },
   {
    "duration": 16,
    "start_time": "2023-03-14T14:28:17.511Z"
   },
   {
    "duration": 10,
    "start_time": "2023-03-14T14:28:19.086Z"
   },
   {
    "duration": 7,
    "start_time": "2023-03-14T14:28:20.801Z"
   },
   {
    "duration": 16253,
    "start_time": "2023-03-14T14:28:22.040Z"
   },
   {
    "duration": 85,
    "start_time": "2023-03-14T14:28:54.171Z"
   },
   {
    "duration": 6,
    "start_time": "2023-03-14T14:28:56.711Z"
   },
   {
    "duration": 7,
    "start_time": "2023-03-14T14:28:57.733Z"
   },
   {
    "duration": 149,
    "start_time": "2023-03-14T14:28:58.468Z"
   },
   {
    "duration": 4,
    "start_time": "2023-03-14T14:28:59.865Z"
   },
   {
    "duration": 114758,
    "start_time": "2023-03-14T14:30:13.005Z"
   },
   {
    "duration": 56581,
    "start_time": "2023-03-14T14:34:22.916Z"
   },
   {
    "duration": 1785194,
    "start_time": "2023-03-14T14:35:26.489Z"
   },
   {
    "duration": 1432,
    "start_time": "2023-03-14T15:36:19.492Z"
   },
   {
    "duration": 59,
    "start_time": "2023-03-14T15:36:20.926Z"
   },
   {
    "duration": 11,
    "start_time": "2023-03-14T15:36:22.565Z"
   },
   {
    "duration": 12,
    "start_time": "2023-03-14T15:36:23.413Z"
   },
   {
    "duration": 4,
    "start_time": "2023-03-14T15:36:24.821Z"
   },
   {
    "duration": 10,
    "start_time": "2023-03-14T15:36:25.792Z"
   },
   {
    "duration": 16,
    "start_time": "2023-03-14T15:36:26.773Z"
   },
   {
    "duration": 1504,
    "start_time": "2023-03-14T16:00:38.012Z"
   },
   {
    "duration": 72,
    "start_time": "2023-03-14T16:00:42.806Z"
   },
   {
    "duration": 10,
    "start_time": "2023-03-14T16:00:44.330Z"
   },
   {
    "duration": 12,
    "start_time": "2023-03-14T16:00:44.942Z"
   },
   {
    "duration": 5,
    "start_time": "2023-03-14T16:00:45.907Z"
   },
   {
    "duration": 9,
    "start_time": "2023-03-14T16:00:47.009Z"
   },
   {
    "duration": 15,
    "start_time": "2023-03-14T16:00:48.207Z"
   },
   {
    "duration": 10,
    "start_time": "2023-03-14T16:06:20.356Z"
   },
   {
    "duration": 4,
    "start_time": "2023-03-14T16:06:23.149Z"
   },
   {
    "duration": 49,
    "start_time": "2023-03-14T16:06:25.006Z"
   },
   {
    "duration": 1439,
    "start_time": "2023-03-14T16:06:37.231Z"
   },
   {
    "duration": 67,
    "start_time": "2023-03-14T16:06:38.672Z"
   },
   {
    "duration": 8,
    "start_time": "2023-03-14T16:06:38.741Z"
   },
   {
    "duration": 15,
    "start_time": "2023-03-14T16:06:38.751Z"
   },
   {
    "duration": 1407,
    "start_time": "2023-03-14T16:06:49.928Z"
   },
   {
    "duration": 56,
    "start_time": "2023-03-14T16:06:53.211Z"
   },
   {
    "duration": 13,
    "start_time": "2023-03-14T16:06:55.047Z"
   },
   {
    "duration": 13,
    "start_time": "2023-03-14T16:06:56.431Z"
   },
   {
    "duration": 5,
    "start_time": "2023-03-14T16:06:57.869Z"
   },
   {
    "duration": 14,
    "start_time": "2023-03-14T16:06:59.279Z"
   },
   {
    "duration": 23,
    "start_time": "2023-03-14T16:07:00.856Z"
   },
   {
    "duration": 5,
    "start_time": "2023-03-14T16:07:03.023Z"
   },
   {
    "duration": 6,
    "start_time": "2023-03-14T16:07:04.286Z"
   },
   {
    "duration": 15006,
    "start_time": "2023-03-14T16:07:05.491Z"
   },
   {
    "duration": 1753,
    "start_time": "2023-03-14T16:09:29.457Z"
   },
   {
    "duration": 67,
    "start_time": "2023-03-14T16:09:32.973Z"
   },
   {
    "duration": 11,
    "start_time": "2023-03-14T16:09:34.605Z"
   },
   {
    "duration": 11,
    "start_time": "2023-03-14T16:09:35.705Z"
   },
   {
    "duration": 5,
    "start_time": "2023-03-14T16:09:39.555Z"
   },
   {
    "duration": 12,
    "start_time": "2023-03-14T16:09:40.702Z"
   },
   {
    "duration": 15,
    "start_time": "2023-03-14T16:09:41.823Z"
   },
   {
    "duration": 13,
    "start_time": "2023-03-14T16:09:49.600Z"
   },
   {
    "duration": 4,
    "start_time": "2023-03-14T16:10:00.215Z"
   },
   {
    "duration": 3,
    "start_time": "2023-03-14T16:11:07.905Z"
   },
   {
    "duration": 4,
    "start_time": "2023-03-14T16:13:48.952Z"
   },
   {
    "duration": 67561,
    "start_time": "2023-03-14T16:13:53.125Z"
   },
   {
    "duration": 142,
    "start_time": "2023-03-14T16:16:52.922Z"
   },
   {
    "duration": 4,
    "start_time": "2023-03-14T16:17:06.068Z"
   },
   {
    "duration": 1387,
    "start_time": "2023-03-14T20:31:47.153Z"
   },
   {
    "duration": 95,
    "start_time": "2023-03-14T20:31:54.851Z"
   },
   {
    "duration": 8,
    "start_time": "2023-03-14T20:32:16.156Z"
   },
   {
    "duration": 10,
    "start_time": "2023-03-14T20:32:24.223Z"
   },
   {
    "duration": 5,
    "start_time": "2023-03-14T20:32:28.255Z"
   },
   {
    "duration": 12,
    "start_time": "2023-03-14T20:32:36.091Z"
   },
   {
    "duration": 6,
    "start_time": "2023-03-14T20:32:40.286Z"
   },
   {
    "duration": 3,
    "start_time": "2023-03-14T20:33:38.460Z"
   },
   {
    "duration": 2,
    "start_time": "2023-03-14T20:33:50.618Z"
   },
   {
    "duration": 4,
    "start_time": "2023-03-14T20:33:52.398Z"
   },
   {
    "duration": 5,
    "start_time": "2023-03-14T20:33:54.820Z"
   },
   {
    "duration": 52433,
    "start_time": "2023-03-14T20:33:56.901Z"
   },
   {
    "duration": 63,
    "start_time": "2023-03-14T20:35:10.068Z"
   },
   {
    "duration": 4,
    "start_time": "2023-03-14T20:38:19.382Z"
   },
   {
    "duration": 6,
    "start_time": "2023-03-14T20:38:22.266Z"
   },
   {
    "duration": 188,
    "start_time": "2023-03-14T20:38:24.748Z"
   },
   {
    "duration": 174,
    "start_time": "2023-03-14T20:38:41.358Z"
   },
   {
    "duration": 3,
    "start_time": "2023-03-14T20:38:52.264Z"
   },
   {
    "duration": 2580,
    "start_time": "2023-03-14T20:38:52.959Z"
   },
   {
    "duration": 8,
    "start_time": "2023-03-14T20:38:57.382Z"
   },
   {
    "duration": 6,
    "start_time": "2023-03-14T20:38:59.076Z"
   },
   {
    "duration": 922253,
    "start_time": "2023-03-14T20:39:09.050Z"
   },
   {
    "duration": 8,
    "start_time": "2023-03-14T20:54:42.951Z"
   },
   {
    "duration": 8,
    "start_time": "2023-03-14T20:54:55.071Z"
   },
   {
    "duration": 3,
    "start_time": "2023-03-14T20:55:50.688Z"
   },
   {
    "duration": 6,
    "start_time": "2023-03-14T20:55:54.984Z"
   },
   {
    "duration": 489,
    "start_time": "2023-03-14T20:56:00.518Z"
   },
   {
    "duration": 181,
    "start_time": "2023-03-14T20:56:26.642Z"
   },
   {
    "duration": 1138,
    "start_time": "2023-03-15T11:20:05.305Z"
   },
   {
    "duration": 163,
    "start_time": "2023-03-15T11:20:07.337Z"
   },
   {
    "duration": 8,
    "start_time": "2023-03-15T11:20:11.647Z"
   },
   {
    "duration": 4,
    "start_time": "2023-03-15T11:20:14.254Z"
   },
   {
    "duration": 10,
    "start_time": "2023-03-15T11:20:17.131Z"
   },
   {
    "duration": 5,
    "start_time": "2023-03-15T11:27:42.525Z"
   },
   {
    "duration": 8,
    "start_time": "2023-03-15T11:27:46.674Z"
   },
   {
    "duration": 5,
    "start_time": "2023-03-15T11:27:47.479Z"
   },
   {
    "duration": 2,
    "start_time": "2023-03-15T11:27:48.618Z"
   },
   {
    "duration": 2,
    "start_time": "2023-03-15T11:27:49.974Z"
   },
   {
    "duration": 3,
    "start_time": "2023-03-15T11:27:50.793Z"
   },
   {
    "duration": 4,
    "start_time": "2023-03-15T11:27:51.972Z"
   },
   {
    "duration": 46817,
    "start_time": "2023-03-15T11:27:53.426Z"
   },
   {
    "duration": 4,
    "start_time": "2023-03-15T11:29:20.616Z"
   },
   {
    "duration": 1210,
    "start_time": "2023-03-15T11:37:34.852Z"
   },
   {
    "duration": 55,
    "start_time": "2023-03-15T11:37:36.500Z"
   },
   {
    "duration": 7,
    "start_time": "2023-03-15T11:37:38.626Z"
   },
   {
    "duration": 4,
    "start_time": "2023-03-15T11:37:39.306Z"
   },
   {
    "duration": 9,
    "start_time": "2023-03-15T11:37:40.861Z"
   },
   {
    "duration": 9,
    "start_time": "2023-03-15T11:37:42.442Z"
   },
   {
    "duration": 6,
    "start_time": "2023-03-15T11:37:43.136Z"
   },
   {
    "duration": 3,
    "start_time": "2023-03-15T11:37:44.416Z"
   },
   {
    "duration": 3,
    "start_time": "2023-03-15T11:37:45.114Z"
   },
   {
    "duration": 4,
    "start_time": "2023-03-15T11:37:46.731Z"
   },
   {
    "duration": 6,
    "start_time": "2023-03-15T11:37:47.906Z"
   },
   {
    "duration": 45026,
    "start_time": "2023-03-15T11:37:49.423Z"
   },
   {
    "duration": 57,
    "start_time": "2023-03-15T11:38:59.435Z"
   },
   {
    "duration": 4,
    "start_time": "2023-03-15T11:39:08.259Z"
   },
   {
    "duration": 5,
    "start_time": "2023-03-15T11:39:11.608Z"
   },
   {
    "duration": 3,
    "start_time": "2023-03-15T11:39:25.614Z"
   },
   {
    "duration": 3,
    "start_time": "2023-03-15T11:39:31.722Z"
   },
   {
    "duration": 3,
    "start_time": "2023-03-15T11:39:48.641Z"
   },
   {
    "duration": 6954,
    "start_time": "2023-03-15T11:40:02.719Z"
   },
   {
    "duration": 4081,
    "start_time": "2023-03-15T11:40:15.306Z"
   },
   {
    "duration": 1190,
    "start_time": "2023-03-15T11:40:25.226Z"
   },
   {
    "duration": 50,
    "start_time": "2023-03-15T11:40:26.418Z"
   },
   {
    "duration": 8,
    "start_time": "2023-03-15T11:40:28.543Z"
   },
   {
    "duration": 4,
    "start_time": "2023-03-15T11:40:29.730Z"
   },
   {
    "duration": 9,
    "start_time": "2023-03-15T11:40:30.526Z"
   },
   {
    "duration": 9,
    "start_time": "2023-03-15T11:40:32.214Z"
   },
   {
    "duration": 7,
    "start_time": "2023-03-15T11:40:32.942Z"
   },
   {
    "duration": 2,
    "start_time": "2023-03-15T11:40:33.890Z"
   },
   {
    "duration": 3,
    "start_time": "2023-03-15T11:40:34.474Z"
   },
   {
    "duration": 4,
    "start_time": "2023-03-15T11:40:36.611Z"
   },
   {
    "duration": 4,
    "start_time": "2023-03-15T11:40:37.578Z"
   },
   {
    "duration": 44397,
    "start_time": "2023-03-15T11:40:38.855Z"
   },
   {
    "duration": 56,
    "start_time": "2023-03-15T11:41:28.441Z"
   },
   {
    "duration": 3,
    "start_time": "2023-03-15T11:41:35.133Z"
   },
   {
    "duration": 4,
    "start_time": "2023-03-15T11:41:37.555Z"
   },
   {
    "duration": 2,
    "start_time": "2023-03-15T11:43:21.237Z"
   },
   {
    "duration": 3,
    "start_time": "2023-03-15T11:43:22.326Z"
   },
   {
    "duration": 378122,
    "start_time": "2023-03-15T11:43:34.427Z"
   },
   {
    "duration": 3,
    "start_time": "2023-03-15T11:50:50.711Z"
   },
   {
    "duration": 3,
    "start_time": "2023-03-15T11:50:56.753Z"
   },
   {
    "duration": 2274,
    "start_time": "2023-03-15T11:50:59.799Z"
   },
   {
    "duration": 6,
    "start_time": "2023-03-15T11:51:24.326Z"
   },
   {
    "duration": 4,
    "start_time": "2023-03-15T11:51:25.113Z"
   },
   {
    "duration": 49732,
    "start_time": "2023-03-15T11:52:15.343Z"
   },
   {
    "duration": 1219,
    "start_time": "2023-03-15T11:53:50.111Z"
   },
   {
    "duration": 51,
    "start_time": "2023-03-15T11:53:51.331Z"
   },
   {
    "duration": 8,
    "start_time": "2023-03-15T11:53:52.811Z"
   },
   {
    "duration": 4,
    "start_time": "2023-03-15T11:53:53.734Z"
   },
   {
    "duration": 10,
    "start_time": "2023-03-15T11:53:54.422Z"
   },
   {
    "duration": 8,
    "start_time": "2023-03-15T11:53:55.409Z"
   },
   {
    "duration": 6,
    "start_time": "2023-03-15T11:53:56.312Z"
   },
   {
    "duration": 3,
    "start_time": "2023-03-15T11:53:57.110Z"
   },
   {
    "duration": 3,
    "start_time": "2023-03-15T11:53:58.533Z"
   },
   {
    "duration": 4,
    "start_time": "2023-03-15T11:53:59.147Z"
   },
   {
    "duration": 4,
    "start_time": "2023-03-15T11:53:59.837Z"
   },
   {
    "duration": 44027,
    "start_time": "2023-03-15T11:54:00.923Z"
   },
   {
    "duration": 69,
    "start_time": "2023-03-15T11:54:56.842Z"
   },
   {
    "duration": 31,
    "start_time": "2023-03-15T11:55:13.314Z"
   },
   {
    "duration": 4,
    "start_time": "2023-03-15T11:55:18.120Z"
   },
   {
    "duration": 6,
    "start_time": "2023-03-15T11:55:19.701Z"
   },
   {
    "duration": 3,
    "start_time": "2023-03-15T11:55:28.099Z"
   },
   {
    "duration": 3,
    "start_time": "2023-03-15T11:55:31.895Z"
   },
   {
    "duration": 3,
    "start_time": "2023-03-15T11:56:00.196Z"
   },
   {
    "duration": 2,
    "start_time": "2023-03-15T11:56:01.727Z"
   },
   {
    "duration": 96289,
    "start_time": "2023-03-15T11:56:02.596Z"
   },
   {
    "duration": 3,
    "start_time": "2023-03-15T11:58:05.252Z"
   },
   {
    "duration": 3,
    "start_time": "2023-03-15T11:58:10.100Z"
   },
   {
    "duration": 2250,
    "start_time": "2023-03-15T11:58:11.492Z"
   },
   {
    "duration": 6,
    "start_time": "2023-03-15T11:58:15.396Z"
   },
   {
    "duration": 4,
    "start_time": "2023-03-15T11:58:16.004Z"
   },
   {
    "duration": 13532,
    "start_time": "2023-03-15T11:58:30.015Z"
   },
   {
    "duration": 1182421,
    "start_time": "2023-03-15T11:58:44.441Z"
   },
   {
    "duration": 7,
    "start_time": "2023-03-15T12:36:15.352Z"
   },
   {
    "duration": 270235,
    "start_time": "2023-03-15T12:36:22.244Z"
   },
   {
    "duration": 13,
    "start_time": "2023-03-15T12:45:40.489Z"
   },
   {
    "duration": 5,
    "start_time": "2023-03-15T12:45:41.329Z"
   },
   {
    "duration": 3,
    "start_time": "2023-03-15T13:14:43.020Z"
   },
   {
    "duration": 74356,
    "start_time": "2023-03-15T13:14:45.186Z"
   },
   {
    "duration": 3,
    "start_time": "2023-03-15T13:16:11.202Z"
   },
   {
    "duration": 3,
    "start_time": "2023-03-15T13:16:16.154Z"
   },
   {
    "duration": 2273,
    "start_time": "2023-03-15T13:16:18.539Z"
   },
   {
    "duration": 5,
    "start_time": "2023-03-15T13:16:41.715Z"
   },
   {
    "duration": 5,
    "start_time": "2023-03-15T13:16:49.600Z"
   },
   {
    "duration": 3,
    "start_time": "2023-03-15T13:17:02.240Z"
   },
   {
    "duration": 2435,
    "start_time": "2023-03-15T13:17:02.840Z"
   },
   {
    "duration": 5,
    "start_time": "2023-03-15T13:17:06.101Z"
   },
   {
    "duration": 5,
    "start_time": "2023-03-15T13:17:06.676Z"
   },
   {
    "duration": 3,
    "start_time": "2023-03-15T13:17:15.506Z"
   },
   {
    "duration": 2818,
    "start_time": "2023-03-15T13:17:16.026Z"
   },
   {
    "duration": 3,
    "start_time": "2023-03-15T13:17:18.846Z"
   },
   {
    "duration": 13,
    "start_time": "2023-03-15T13:17:18.851Z"
   },
   {
    "duration": 3,
    "start_time": "2023-03-15T13:17:25.797Z"
   },
   {
    "duration": 1870,
    "start_time": "2023-03-15T13:17:26.395Z"
   },
   {
    "duration": 4,
    "start_time": "2023-03-15T13:17:28.266Z"
   },
   {
    "duration": 8,
    "start_time": "2023-03-15T13:17:28.271Z"
   },
   {
    "duration": 3,
    "start_time": "2023-03-15T13:17:40.492Z"
   },
   {
    "duration": 1860,
    "start_time": "2023-03-15T13:17:41.136Z"
   },
   {
    "duration": 3,
    "start_time": "2023-03-15T13:17:42.998Z"
   },
   {
    "duration": 4,
    "start_time": "2023-03-15T13:17:43.171Z"
   },
   {
    "duration": 3,
    "start_time": "2023-03-15T13:17:49.129Z"
   },
   {
    "duration": 1859,
    "start_time": "2023-03-15T13:17:49.976Z"
   },
   {
    "duration": 3,
    "start_time": "2023-03-15T13:17:52.674Z"
   },
   {
    "duration": 5,
    "start_time": "2023-03-15T13:17:53.309Z"
   },
   {
    "duration": 3,
    "start_time": "2023-03-15T13:19:11.701Z"
   },
   {
    "duration": 2528,
    "start_time": "2023-03-15T13:19:12.511Z"
   },
   {
    "duration": 4,
    "start_time": "2023-03-15T13:19:16.105Z"
   },
   {
    "duration": 4,
    "start_time": "2023-03-15T13:19:16.716Z"
   },
   {
    "duration": 4,
    "start_time": "2023-03-15T13:19:18.119Z"
   },
   {
    "duration": 3,
    "start_time": "2023-03-15T13:19:20.231Z"
   },
   {
    "duration": 2,
    "start_time": "2023-03-15T13:19:21.392Z"
   },
   {
    "duration": 2952,
    "start_time": "2023-03-15T13:19:22.423Z"
   },
   {
    "duration": 5,
    "start_time": "2023-03-15T13:19:26.892Z"
   },
   {
    "duration": 4,
    "start_time": "2023-03-15T13:19:27.522Z"
   },
   {
    "duration": 1189,
    "start_time": "2023-03-15T14:09:17.945Z"
   },
   {
    "duration": 52,
    "start_time": "2023-03-15T14:09:20.404Z"
   },
   {
    "duration": 8,
    "start_time": "2023-03-15T14:09:22.017Z"
   },
   {
    "duration": 4,
    "start_time": "2023-03-15T14:09:22.801Z"
   },
   {
    "duration": 9,
    "start_time": "2023-03-15T14:09:23.610Z"
   },
   {
    "duration": 9,
    "start_time": "2023-03-15T14:09:24.802Z"
   },
   {
    "duration": 6,
    "start_time": "2023-03-15T14:09:25.846Z"
   },
   {
    "duration": 2,
    "start_time": "2023-03-15T14:09:26.820Z"
   },
   {
    "duration": 3,
    "start_time": "2023-03-15T14:09:27.618Z"
   },
   {
    "duration": 3,
    "start_time": "2023-03-15T14:09:28.202Z"
   },
   {
    "duration": 4,
    "start_time": "2023-03-15T14:09:29.058Z"
   },
   {
    "duration": 40643,
    "start_time": "2023-03-15T14:09:30.306Z"
   },
   {
    "duration": 30,
    "start_time": "2023-03-15T14:10:15.825Z"
   },
   {
    "duration": 30,
    "start_time": "2023-03-15T14:10:16.604Z"
   },
   {
    "duration": 3,
    "start_time": "2023-03-15T14:10:24.409Z"
   },
   {
    "duration": 5,
    "start_time": "2023-03-15T14:10:25.700Z"
   },
   {
    "duration": 3,
    "start_time": "2023-03-15T14:10:28.838Z"
   },
   {
    "duration": 2,
    "start_time": "2023-03-15T14:10:38.903Z"
   },
   {
    "duration": 59199,
    "start_time": "2023-03-15T14:10:52.711Z"
   },
   {
    "duration": 1197,
    "start_time": "2023-03-15T16:46:26.255Z"
   },
   {
    "duration": 132,
    "start_time": "2023-03-15T16:55:07.222Z"
   },
   {
    "duration": 7,
    "start_time": "2023-03-15T16:58:46.861Z"
   },
   {
    "duration": 3,
    "start_time": "2023-03-15T16:59:20.647Z"
   },
   {
    "duration": 9,
    "start_time": "2023-03-15T16:59:29.420Z"
   },
   {
    "duration": 10,
    "start_time": "2023-03-15T17:07:04.967Z"
   },
   {
    "duration": 1212,
    "start_time": "2023-03-15T17:07:45.002Z"
   },
   {
    "duration": 53,
    "start_time": "2023-03-15T17:07:46.689Z"
   },
   {
    "duration": 7,
    "start_time": "2023-03-15T17:07:48.312Z"
   },
   {
    "duration": 4,
    "start_time": "2023-03-15T17:07:49.434Z"
   },
   {
    "duration": 9,
    "start_time": "2023-03-15T17:07:50.868Z"
   },
   {
    "duration": 12,
    "start_time": "2023-03-15T17:08:03.436Z"
   },
   {
    "duration": 9,
    "start_time": "2023-03-15T17:10:13.538Z"
   },
   {
    "duration": 8,
    "start_time": "2023-03-15T17:10:34.906Z"
   },
   {
    "duration": 1447,
    "start_time": "2023-03-15T19:30:15.609Z"
   },
   {
    "duration": 118,
    "start_time": "2023-03-15T19:30:18.489Z"
   },
   {
    "duration": 8,
    "start_time": "2023-03-15T19:30:26.558Z"
   },
   {
    "duration": 4,
    "start_time": "2023-03-15T19:30:32.840Z"
   },
   {
    "duration": 28,
    "start_time": "2023-03-15T19:30:36.829Z"
   },
   {
    "duration": 13,
    "start_time": "2023-03-15T19:30:40.251Z"
   },
   {
    "duration": 10,
    "start_time": "2023-03-15T19:31:27.291Z"
   },
   {
    "duration": 11,
    "start_time": "2023-03-15T19:31:29.020Z"
   },
   {
    "duration": 119,
    "start_time": "2023-03-15T19:32:20.301Z"
   },
   {
    "duration": 31,
    "start_time": "2023-03-15T19:32:35.273Z"
   },
   {
    "duration": 9,
    "start_time": "2023-03-15T19:32:38.946Z"
   },
   {
    "duration": 606,
    "start_time": "2023-03-15T19:33:13.410Z"
   },
   {
    "duration": 338,
    "start_time": "2023-03-15T19:33:34.813Z"
   },
   {
    "duration": 237,
    "start_time": "2023-03-15T19:34:40.452Z"
   },
   {
    "duration": 247,
    "start_time": "2023-03-15T19:35:05.092Z"
   },
   {
    "duration": 224,
    "start_time": "2023-03-15T19:35:18.270Z"
   },
   {
    "duration": 172,
    "start_time": "2023-03-15T19:42:01.771Z"
   },
   {
    "duration": 209,
    "start_time": "2023-03-15T19:42:22.525Z"
   },
   {
    "duration": 175,
    "start_time": "2023-03-15T19:58:26.885Z"
   },
   {
    "duration": 265,
    "start_time": "2023-03-15T20:07:09.229Z"
   },
   {
    "duration": 1159,
    "start_time": "2023-03-15T20:08:06.138Z"
   },
   {
    "duration": 206,
    "start_time": "2023-03-15T20:08:28.191Z"
   },
   {
    "duration": 245,
    "start_time": "2023-03-15T20:09:40.623Z"
   },
   {
    "duration": 136,
    "start_time": "2023-03-15T20:10:46.163Z"
   },
   {
    "duration": 8,
    "start_time": "2023-03-15T20:11:28.164Z"
   },
   {
    "duration": 210,
    "start_time": "2023-03-15T20:11:29.622Z"
   },
   {
    "duration": 137,
    "start_time": "2023-03-15T20:11:32.208Z"
   },
   {
    "duration": 139,
    "start_time": "2023-03-15T20:12:21.492Z"
   },
   {
    "duration": 201,
    "start_time": "2023-03-15T20:12:51.488Z"
   },
   {
    "duration": 210,
    "start_time": "2023-03-15T20:13:03.403Z"
   },
   {
    "duration": 191,
    "start_time": "2023-03-15T20:15:57.868Z"
   },
   {
    "duration": 322,
    "start_time": "2023-03-15T20:16:13.570Z"
   },
   {
    "duration": 7,
    "start_time": "2023-03-15T20:18:49.561Z"
   },
   {
    "duration": 225,
    "start_time": "2023-03-15T20:18:52.706Z"
   },
   {
    "duration": 160,
    "start_time": "2023-03-15T20:18:59.342Z"
   },
   {
    "duration": 151,
    "start_time": "2023-03-15T20:28:02.758Z"
   },
   {
    "duration": 162,
    "start_time": "2023-03-15T20:28:10.057Z"
   },
   {
    "duration": 172,
    "start_time": "2023-03-15T20:28:32.441Z"
   },
   {
    "duration": 6,
    "start_time": "2023-03-15T20:31:47.386Z"
   },
   {
    "duration": 3,
    "start_time": "2023-03-15T20:34:39.956Z"
   },
   {
    "duration": 3,
    "start_time": "2023-03-15T20:36:22.936Z"
   },
   {
    "duration": 4,
    "start_time": "2023-03-15T20:40:33.239Z"
   },
   {
    "duration": 5,
    "start_time": "2023-03-15T20:45:05.787Z"
   },
   {
    "duration": 51519,
    "start_time": "2023-03-15T20:49:46.760Z"
   },
   {
    "duration": 38,
    "start_time": "2023-03-15T20:55:44.396Z"
   },
   {
    "duration": 33,
    "start_time": "2023-03-15T20:55:46.646Z"
   },
   {
    "duration": 4,
    "start_time": "2023-03-15T21:00:03.691Z"
   },
   {
    "duration": 6,
    "start_time": "2023-03-15T21:00:46.590Z"
   },
   {
    "duration": 4,
    "start_time": "2023-03-15T21:06:05.018Z"
   },
   {
    "duration": 114734,
    "start_time": "2023-03-15T21:06:28.531Z"
   },
   {
    "duration": 3,
    "start_time": "2023-03-15T21:09:29.134Z"
   },
   {
    "duration": 3,
    "start_time": "2023-03-15T21:11:25.743Z"
   },
   {
    "duration": 15102,
    "start_time": "2023-03-15T21:12:25.823Z"
   },
   {
    "duration": 4,
    "start_time": "2023-03-15T21:12:43.128Z"
   },
   {
    "duration": 3,
    "start_time": "2023-03-15T21:12:49.088Z"
   },
   {
    "duration": 4,
    "start_time": "2023-03-15T21:16:17.826Z"
   },
   {
    "duration": 4,
    "start_time": "2023-03-15T21:16:32.878Z"
   },
   {
    "duration": 4,
    "start_time": "2023-03-15T21:17:07.192Z"
   },
   {
    "duration": 4,
    "start_time": "2023-03-15T21:17:12.286Z"
   },
   {
    "duration": 4,
    "start_time": "2023-03-15T21:21:06.469Z"
   },
   {
    "duration": 5,
    "start_time": "2023-03-15T21:21:34.546Z"
   },
   {
    "duration": 4,
    "start_time": "2023-03-15T21:21:55.481Z"
   },
   {
    "duration": 3,
    "start_time": "2023-03-15T21:23:28.657Z"
   },
   {
    "duration": 4,
    "start_time": "2023-03-15T21:26:31.113Z"
   },
   {
    "duration": 625340,
    "start_time": "2023-03-15T21:27:09.742Z"
   },
   {
    "duration": 3,
    "start_time": "2023-03-15T21:37:54.939Z"
   },
   {
    "duration": 259729,
    "start_time": "2023-03-15T21:37:56.364Z"
   },
   {
    "duration": 4,
    "start_time": "2023-03-15T21:42:47.950Z"
   },
   {
    "duration": 3,
    "start_time": "2023-03-15T21:51:00.921Z"
   },
   {
    "duration": 4,
    "start_time": "2023-03-15T21:51:59.515Z"
   },
   {
    "duration": 92008,
    "start_time": "2023-03-15T21:52:29.183Z"
   },
   {
    "duration": 3,
    "start_time": "2023-03-15T21:54:35.218Z"
   },
   {
    "duration": 5,
    "start_time": "2023-03-15T22:01:56.396Z"
   },
   {
    "duration": 9,
    "start_time": "2023-03-15T22:02:00.587Z"
   },
   {
    "duration": 9,
    "start_time": "2023-03-15T22:02:12.211Z"
   },
   {
    "duration": 9,
    "start_time": "2023-03-15T22:02:12.787Z"
   },
   {
    "duration": 10,
    "start_time": "2023-03-15T22:02:27.905Z"
   },
   {
    "duration": 10,
    "start_time": "2023-03-15T22:02:28.727Z"
   },
   {
    "duration": 9,
    "start_time": "2023-03-15T22:02:29.154Z"
   },
   {
    "duration": 8,
    "start_time": "2023-03-15T22:03:31.600Z"
   },
   {
    "duration": 8,
    "start_time": "2023-03-15T22:03:32.680Z"
   },
   {
    "duration": 8,
    "start_time": "2023-03-15T22:03:33.796Z"
   },
   {
    "duration": 70,
    "start_time": "2023-03-15T22:05:50.505Z"
   },
   {
    "duration": 8,
    "start_time": "2023-03-15T22:05:58.611Z"
   },
   {
    "duration": 10,
    "start_time": "2023-03-15T22:07:17.335Z"
   },
   {
    "duration": 9,
    "start_time": "2023-03-15T22:07:30.487Z"
   },
   {
    "duration": 4,
    "start_time": "2023-03-15T22:10:40.817Z"
   },
   {
    "duration": 6,
    "start_time": "2023-03-15T22:11:01.000Z"
   },
   {
    "duration": 7,
    "start_time": "2023-03-15T22:11:07.520Z"
   },
   {
    "duration": 6,
    "start_time": "2023-03-15T22:11:11.588Z"
   },
   {
    "duration": 6,
    "start_time": "2023-03-15T22:11:46.597Z"
   },
   {
    "duration": 6,
    "start_time": "2023-03-15T22:12:05.651Z"
   },
   {
    "duration": 94,
    "start_time": "2023-03-15T22:12:57.830Z"
   },
   {
    "duration": 5,
    "start_time": "2023-03-15T22:13:05.400Z"
   },
   {
    "duration": 5,
    "start_time": "2023-03-15T22:13:24.287Z"
   },
   {
    "duration": 3130,
    "start_time": "2023-03-15T22:14:22.126Z"
   },
   {
    "duration": 3,
    "start_time": "2023-03-15T22:15:26.048Z"
   },
   {
    "duration": 3123,
    "start_time": "2023-03-15T22:15:31.033Z"
   },
   {
    "duration": 4,
    "start_time": "2023-03-15T22:15:49.285Z"
   },
   {
    "duration": 3113,
    "start_time": "2023-03-15T22:15:53.196Z"
   },
   {
    "duration": 3055,
    "start_time": "2023-03-15T22:16:28.487Z"
   },
   {
    "duration": 3030,
    "start_time": "2023-03-15T22:16:36.796Z"
   },
   {
    "duration": 6,
    "start_time": "2023-03-15T22:16:40.640Z"
   },
   {
    "duration": 3,
    "start_time": "2023-03-15T22:36:05.355Z"
   },
   {
    "duration": 1367,
    "start_time": "2023-03-15T22:40:26.784Z"
   },
   {
    "duration": 58,
    "start_time": "2023-03-15T22:40:28.152Z"
   },
   {
    "duration": 8,
    "start_time": "2023-03-15T22:40:28.212Z"
   },
   {
    "duration": 9,
    "start_time": "2023-03-15T22:40:28.222Z"
   },
   {
    "duration": 14,
    "start_time": "2023-03-15T22:40:28.232Z"
   },
   {
    "duration": 32,
    "start_time": "2023-03-15T22:40:28.247Z"
   },
   {
    "duration": 10,
    "start_time": "2023-03-15T22:40:28.281Z"
   },
   {
    "duration": 11,
    "start_time": "2023-03-15T22:40:28.293Z"
   },
   {
    "duration": 14,
    "start_time": "2023-03-15T22:40:28.306Z"
   },
   {
    "duration": 387,
    "start_time": "2023-03-15T22:40:28.322Z"
   },
   {
    "duration": 230,
    "start_time": "2023-03-15T22:40:28.711Z"
   },
   {
    "duration": 261,
    "start_time": "2023-03-15T22:40:28.943Z"
   },
   {
    "duration": 7,
    "start_time": "2023-03-15T22:40:29.207Z"
   },
   {
    "duration": 8,
    "start_time": "2023-03-15T22:40:29.216Z"
   },
   {
    "duration": 8,
    "start_time": "2023-03-15T22:40:29.226Z"
   },
   {
    "duration": 10,
    "start_time": "2023-03-15T22:40:29.235Z"
   },
   {
    "duration": 13,
    "start_time": "2023-03-15T22:40:29.246Z"
   },
   {
    "duration": 48424,
    "start_time": "2023-03-15T22:40:29.261Z"
   },
   {
    "duration": 35,
    "start_time": "2023-03-15T22:41:17.778Z"
   },
   {
    "duration": 32,
    "start_time": "2023-03-15T22:41:17.815Z"
   },
   {
    "duration": 4,
    "start_time": "2023-03-15T22:41:17.849Z"
   },
   {
    "duration": 6,
    "start_time": "2023-03-15T22:41:17.877Z"
   },
   {
    "duration": 8,
    "start_time": "2023-03-15T22:41:17.886Z"
   },
   {
    "duration": 10,
    "start_time": "2023-03-15T22:41:17.896Z"
   },
   {
    "duration": 115908,
    "start_time": "2023-03-15T22:41:17.908Z"
   },
   {
    "duration": 4,
    "start_time": "2023-03-15T22:43:13.818Z"
   },
   {
    "duration": 8,
    "start_time": "2023-03-15T22:43:13.823Z"
   },
   {
    "duration": 13,
    "start_time": "2023-03-15T22:43:13.833Z"
   },
   {
    "duration": 256749,
    "start_time": "2023-03-15T22:43:13.848Z"
   },
   {
    "duration": 4,
    "start_time": "2023-03-15T22:47:30.599Z"
   },
   {
    "duration": 33,
    "start_time": "2023-03-15T22:47:30.604Z"
   },
   {
    "duration": 88545,
    "start_time": "2023-03-15T22:47:30.639Z"
   },
   {
    "duration": 4,
    "start_time": "2023-03-15T22:48:59.186Z"
   },
   {
    "duration": 13,
    "start_time": "2023-03-15T22:48:59.191Z"
   },
   {
    "duration": 10,
    "start_time": "2023-03-15T22:48:59.205Z"
   },
   {
    "duration": 3035,
    "start_time": "2023-03-15T22:48:59.217Z"
   },
   {
    "duration": 7,
    "start_time": "2023-03-15T22:49:02.254Z"
   },
   {
    "duration": 3223,
    "start_time": "2023-03-16T05:10:33.416Z"
   },
   {
    "duration": 104,
    "start_time": "2023-03-16T05:10:36.641Z"
   },
   {
    "duration": 11,
    "start_time": "2023-03-16T05:12:50.608Z"
   },
   {
    "duration": 4,
    "start_time": "2023-03-16T05:12:51.124Z"
   },
   {
    "duration": 17,
    "start_time": "2023-03-16T05:13:30.310Z"
   },
   {
    "duration": 16,
    "start_time": "2023-03-16T05:13:30.827Z"
   },
   {
    "duration": 9,
    "start_time": "2023-03-16T05:13:35.106Z"
   },
   {
    "duration": 10,
    "start_time": "2023-03-16T05:13:54.021Z"
   },
   {
    "duration": 11,
    "start_time": "2023-03-16T05:15:16.334Z"
   },
   {
    "duration": 542,
    "start_time": "2023-03-16T05:15:16.622Z"
   },
   {
    "duration": 315,
    "start_time": "2023-03-16T05:15:17.549Z"
   },
   {
    "duration": 386,
    "start_time": "2023-03-16T05:15:19.620Z"
   },
   {
    "duration": 15,
    "start_time": "2023-03-16T05:15:21.509Z"
   },
   {
    "duration": 3,
    "start_time": "2023-03-16T05:16:49.223Z"
   },
   {
    "duration": 3,
    "start_time": "2023-03-16T05:16:50.593Z"
   },
   {
    "duration": 12,
    "start_time": "2023-03-16T05:16:57.496Z"
   },
   {
    "duration": 5,
    "start_time": "2023-03-16T05:17:19.924Z"
   },
   {
    "duration": 72036,
    "start_time": "2023-03-16T05:17:31.846Z"
   },
   {
    "duration": 124,
    "start_time": "2023-03-16T05:18:43.914Z"
   },
   {
    "duration": 56,
    "start_time": "2023-03-16T05:18:44.040Z"
   },
   {
    "duration": 16,
    "start_time": "2023-03-16T05:18:44.099Z"
   },
   {
    "duration": 9,
    "start_time": "2023-03-16T05:18:44.120Z"
   },
   {
    "duration": 4,
    "start_time": "2023-03-16T05:19:05.619Z"
   },
   {
    "duration": 1331,
    "start_time": "2023-03-16T09:22:19.425Z"
   },
   {
    "duration": 167,
    "start_time": "2023-03-16T09:22:24.093Z"
   },
   {
    "duration": 8,
    "start_time": "2023-03-16T09:22:26.398Z"
   },
   {
    "duration": 4,
    "start_time": "2023-03-16T09:22:27.382Z"
   },
   {
    "duration": 10,
    "start_time": "2023-03-16T09:22:28.539Z"
   },
   {
    "duration": 13,
    "start_time": "2023-03-16T09:22:29.798Z"
   },
   {
    "duration": 8,
    "start_time": "2023-03-16T09:22:31.142Z"
   },
   {
    "duration": 9,
    "start_time": "2023-03-16T09:22:33.109Z"
   },
   {
    "duration": 9,
    "start_time": "2023-03-16T09:22:35.871Z"
   },
   {
    "duration": 517,
    "start_time": "2023-03-16T09:22:36.678Z"
   },
   {
    "duration": 233,
    "start_time": "2023-03-16T09:22:39.030Z"
   },
   {
    "duration": 232,
    "start_time": "2023-03-16T09:22:42.460Z"
   },
   {
    "duration": 6,
    "start_time": "2023-03-16T09:24:19.458Z"
   },
   {
    "duration": 3,
    "start_time": "2023-03-16T09:24:48.102Z"
   },
   {
    "duration": 2,
    "start_time": "2023-03-16T09:24:48.906Z"
   },
   {
    "duration": 4,
    "start_time": "2023-03-16T09:24:53.426Z"
   },
   {
    "duration": 4,
    "start_time": "2023-03-16T09:25:30.326Z"
   },
   {
    "duration": 59893,
    "start_time": "2023-03-16T09:25:31.533Z"
   },
   {
    "duration": 37,
    "start_time": "2023-03-16T09:27:46.542Z"
   },
   {
    "duration": 32,
    "start_time": "2023-03-16T09:27:47.306Z"
   },
   {
    "duration": 4,
    "start_time": "2023-03-16T09:27:52.542Z"
   },
   {
    "duration": 6,
    "start_time": "2023-03-16T09:27:55.015Z"
   },
   {
    "duration": 4,
    "start_time": "2023-03-16T09:27:57.537Z"
   },
   {
    "duration": 2,
    "start_time": "2023-03-16T09:34:37.610Z"
   },
   {
    "duration": 137083,
    "start_time": "2023-03-16T09:37:04.709Z"
   },
   {
    "duration": 4,
    "start_time": "2023-03-16T09:39:28.413Z"
   },
   {
    "duration": 3,
    "start_time": "2023-03-16T09:39:41.461Z"
   },
   {
    "duration": 3,
    "start_time": "2023-03-16T09:40:34.421Z"
   },
   {
    "duration": 242464,
    "start_time": "2023-03-16T09:40:37.450Z"
   },
   {
    "duration": 4,
    "start_time": "2023-03-16T09:44:47.954Z"
   },
   {
    "duration": 4,
    "start_time": "2023-03-16T09:45:41.526Z"
   },
   {
    "duration": 236902,
    "start_time": "2023-03-16T09:45:45.323Z"
   },
   {
    "duration": 4,
    "start_time": "2023-03-16T09:50:41.803Z"
   },
   {
    "duration": 6,
    "start_time": "2023-03-16T09:51:33.650Z"
   },
   {
    "duration": 9,
    "start_time": "2023-03-16T09:51:43.017Z"
   },
   {
    "duration": 2795,
    "start_time": "2023-03-16T09:55:52.453Z"
   },
   {
    "duration": 7,
    "start_time": "2023-03-16T09:55:58.725Z"
   },
   {
    "duration": 3,
    "start_time": "2023-03-16T09:59:59.914Z"
   },
   {
    "duration": 263,
    "start_time": "2023-03-16T10:01:02.774Z"
   },
   {
    "duration": 269,
    "start_time": "2023-03-16T10:02:13.006Z"
   },
   {
    "duration": 187,
    "start_time": "2023-03-16T10:03:02.893Z"
   },
   {
    "duration": 192,
    "start_time": "2023-03-16T10:03:39.069Z"
   },
   {
    "duration": 197,
    "start_time": "2023-03-16T10:05:07.563Z"
   },
   {
    "duration": 194,
    "start_time": "2023-03-16T10:06:19.045Z"
   },
   {
    "duration": 187,
    "start_time": "2023-03-16T10:06:46.205Z"
   },
   {
    "duration": 175,
    "start_time": "2023-03-16T10:09:29.210Z"
   },
   {
    "duration": 286,
    "start_time": "2023-03-16T10:10:01.105Z"
   },
   {
    "duration": 180,
    "start_time": "2023-03-16T10:11:11.547Z"
   },
   {
    "duration": 189,
    "start_time": "2023-03-16T10:11:59.897Z"
   },
   {
    "duration": 1404,
    "start_time": "2023-03-16T10:26:52.627Z"
   },
   {
    "duration": 56,
    "start_time": "2023-03-16T10:26:54.033Z"
   },
   {
    "duration": 8,
    "start_time": "2023-03-16T10:26:54.091Z"
   },
   {
    "duration": 40,
    "start_time": "2023-03-16T10:26:54.100Z"
   },
   {
    "duration": 26,
    "start_time": "2023-03-16T10:26:54.142Z"
   },
   {
    "duration": 39,
    "start_time": "2023-03-16T10:26:54.169Z"
   },
   {
    "duration": 9,
    "start_time": "2023-03-16T10:26:54.210Z"
   },
   {
    "duration": 8,
    "start_time": "2023-03-16T10:26:54.221Z"
   },
   {
    "duration": 9,
    "start_time": "2023-03-16T10:26:54.231Z"
   },
   {
    "duration": 235,
    "start_time": "2023-03-16T10:26:54.242Z"
   },
   {
    "duration": 213,
    "start_time": "2023-03-16T10:26:54.479Z"
   },
   {
    "duration": 246,
    "start_time": "2023-03-16T10:26:54.693Z"
   },
   {
    "duration": 4,
    "start_time": "2023-03-16T10:26:54.941Z"
   },
   {
    "duration": 3,
    "start_time": "2023-03-16T10:26:54.948Z"
   },
   {
    "duration": 6,
    "start_time": "2023-03-16T10:26:54.952Z"
   },
   {
    "duration": 4,
    "start_time": "2023-03-16T10:26:54.960Z"
   },
   {
    "duration": 4,
    "start_time": "2023-03-16T10:26:54.965Z"
   },
   {
    "duration": 64862,
    "start_time": "2023-03-16T10:26:54.971Z"
   },
   {
    "duration": 213,
    "start_time": "2023-03-16T10:27:59.835Z"
   },
   {
    "duration": 32,
    "start_time": "2023-03-16T10:28:00.050Z"
   },
   {
    "duration": 5,
    "start_time": "2023-03-16T10:28:00.084Z"
   },
   {
    "duration": 21,
    "start_time": "2023-03-16T10:28:00.090Z"
   },
   {
    "duration": 5,
    "start_time": "2023-03-16T10:28:00.124Z"
   },
   {
    "duration": 26,
    "start_time": "2023-03-16T10:28:00.131Z"
   },
   {
    "duration": 138659,
    "start_time": "2023-03-16T10:28:00.159Z"
   },
   {
    "duration": 3,
    "start_time": "2023-03-16T10:30:18.820Z"
   },
   {
    "duration": 10,
    "start_time": "2023-03-16T10:30:18.825Z"
   },
   {
    "duration": 37,
    "start_time": "2023-03-16T10:30:18.836Z"
   },
   {
    "duration": 243285,
    "start_time": "2023-03-16T10:30:18.875Z"
   },
   {
    "duration": 4,
    "start_time": "2023-03-16T10:34:22.161Z"
   },
   {
    "duration": 20,
    "start_time": "2023-03-16T10:34:22.167Z"
   },
   {
    "duration": 627040,
    "start_time": "2023-03-16T10:34:22.189Z"
   },
   {
    "duration": 4,
    "start_time": "2023-03-16T10:44:49.231Z"
   },
   {
    "duration": 32,
    "start_time": "2023-03-16T10:44:49.236Z"
   },
   {
    "duration": 11,
    "start_time": "2023-03-16T10:44:49.270Z"
   },
   {
    "duration": 2836,
    "start_time": "2023-03-16T10:44:49.283Z"
   },
   {
    "duration": 7,
    "start_time": "2023-03-16T10:44:52.121Z"
   },
   {
    "duration": 280,
    "start_time": "2023-03-16T10:44:52.130Z"
   },
   {
    "duration": 9,
    "start_time": "2023-03-16T10:49:28.532Z"
   },
   {
    "duration": 1436,
    "start_time": "2023-03-16T10:49:57.057Z"
   },
   {
    "duration": 56,
    "start_time": "2023-03-16T10:49:58.495Z"
   },
   {
    "duration": 124,
    "start_time": "2023-03-16T10:49:58.553Z"
   },
   {
    "duration": 8,
    "start_time": "2023-03-16T10:49:58.679Z"
   },
   {
    "duration": 14,
    "start_time": "2023-03-16T10:49:58.688Z"
   },
   {
    "duration": 13,
    "start_time": "2023-03-16T10:49:58.704Z"
   },
   {
    "duration": 9,
    "start_time": "2023-03-16T10:49:58.719Z"
   },
   {
    "duration": 10,
    "start_time": "2023-03-16T10:49:58.730Z"
   },
   {
    "duration": 11,
    "start_time": "2023-03-16T10:49:58.741Z"
   },
   {
    "duration": 299,
    "start_time": "2023-03-16T10:49:58.755Z"
   },
   {
    "duration": 252,
    "start_time": "2023-03-16T10:49:59.057Z"
   },
   {
    "duration": 261,
    "start_time": "2023-03-16T10:49:59.310Z"
   },
   {
    "duration": 5,
    "start_time": "2023-03-16T10:49:59.572Z"
   },
   {
    "duration": 5,
    "start_time": "2023-03-16T10:49:59.579Z"
   },
   {
    "duration": 9,
    "start_time": "2023-03-16T10:49:59.586Z"
   },
   {
    "duration": 10,
    "start_time": "2023-03-16T10:49:59.597Z"
   },
   {
    "duration": 16,
    "start_time": "2023-03-16T10:49:59.608Z"
   },
   {
    "duration": 58702,
    "start_time": "2023-03-16T10:49:59.625Z"
   },
   {
    "duration": 121,
    "start_time": "2023-03-16T10:50:58.329Z"
   },
   {
    "duration": 33,
    "start_time": "2023-03-16T10:50:58.452Z"
   },
   {
    "duration": 38,
    "start_time": "2023-03-16T10:50:58.486Z"
   },
   {
    "duration": 9,
    "start_time": "2023-03-16T10:50:58.526Z"
   },
   {
    "duration": 13,
    "start_time": "2023-03-16T10:50:58.536Z"
   },
   {
    "duration": 14,
    "start_time": "2023-03-16T10:50:58.551Z"
   },
   {
    "duration": 139455,
    "start_time": "2023-03-16T10:50:58.567Z"
   },
   {
    "duration": 3,
    "start_time": "2023-03-16T10:53:18.024Z"
   },
   {
    "duration": 4,
    "start_time": "2023-03-16T10:53:18.029Z"
   },
   {
    "duration": 3,
    "start_time": "2023-03-16T10:53:18.036Z"
   },
   {
    "duration": 244582,
    "start_time": "2023-03-16T10:53:18.041Z"
   },
   {
    "duration": 5,
    "start_time": "2023-03-16T10:57:22.626Z"
   },
   {
    "duration": 14,
    "start_time": "2023-03-16T10:57:22.633Z"
   },
   {
    "duration": 251278,
    "start_time": "2023-03-16T10:57:22.649Z"
   },
   {
    "duration": 3,
    "start_time": "2023-03-16T11:01:33.929Z"
   },
   {
    "duration": 7,
    "start_time": "2023-03-16T11:01:33.934Z"
   },
   {
    "duration": 9,
    "start_time": "2023-03-16T11:01:33.943Z"
   },
   {
    "duration": 3007,
    "start_time": "2023-03-16T11:01:33.954Z"
   },
   {
    "duration": 6,
    "start_time": "2023-03-16T11:01:36.963Z"
   },
   {
    "duration": 249,
    "start_time": "2023-03-16T11:01:36.971Z"
   }
  ],
  "kernelspec": {
   "display_name": "Python 3 (ipykernel)",
   "language": "python",
   "name": "python3"
  },
  "language_info": {
   "codemirror_mode": {
    "name": "ipython",
    "version": 3
   },
   "file_extension": ".py",
   "mimetype": "text/x-python",
   "name": "python",
   "nbconvert_exporter": "python",
   "pygments_lexer": "ipython3",
   "version": "3.9.16"
  },
  "toc": {
   "base_numbering": 1,
   "nav_menu": {},
   "number_sections": true,
   "sideBar": true,
   "skip_h1_title": true,
   "title_cell": "Содержание",
   "title_sidebar": "Contents",
   "toc_cell": true,
   "toc_position": {
    "height": "calc(100% - 180px)",
    "left": "10px",
    "top": "150px",
    "width": "204.336px"
   },
   "toc_section_display": true,
   "toc_window_display": true
  }
 },
 "nbformat": 4,
 "nbformat_minor": 2
}
