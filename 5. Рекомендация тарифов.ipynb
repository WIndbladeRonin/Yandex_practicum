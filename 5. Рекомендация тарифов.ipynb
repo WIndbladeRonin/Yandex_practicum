{
 "cells": [
  {
   "cell_type": "markdown",
   "metadata": {},
   "source": [
    "# Рекомендация тарифов"
   ]
  },
  {
   "cell_type": "markdown",
   "metadata": {},
   "source": [
    "В вашем распоряжении данные о поведении клиентов, которые уже перешли на эти тарифы (из проекта курса «Статистический анализ данных»). Нужно построить модель для задачи классификации, которая выберет подходящий тариф. Предобработка данных не понадобится — вы её уже сделали.\n",
    "\n",
    "Постройте модель с максимально большим значением *accuracy*. Чтобы сдать проект успешно, нужно довести долю правильных ответов по крайней мере до 0.75. Проверьте *accuracy* на тестовой выборке самостоятельно."
   ]
  },
  {
   "cell_type": "markdown",
   "metadata": {},
   "source": [
    "## Откройте и изучите файл"
   ]
  },
  {
   "cell_type": "markdown",
   "metadata": {},
   "source": [
    "Импортируем все необходимые библиотеки"
   ]
  },
  {
   "cell_type": "code",
   "execution_count": 1,
   "metadata": {},
   "outputs": [],
   "source": [
    "import pandas as pd\n",
    "from sklearn.tree import DecisionTreeClassifier\n",
    "from sklearn.ensemble import RandomForestClassifier\n",
    "from sklearn.model_selection import train_test_split\n",
    "from sklearn.metrics import accuracy_score"
   ]
  },
  {
   "cell_type": "markdown",
   "metadata": {},
   "source": [
    "Сохраним **.csv** файл в датафрейм **df**"
   ]
  },
  {
   "cell_type": "code",
   "execution_count": 2,
   "metadata": {},
   "outputs": [
    {
     "data": {
      "text/html": [
       "<div>\n",
       "<style scoped>\n",
       "    .dataframe tbody tr th:only-of-type {\n",
       "        vertical-align: middle;\n",
       "    }\n",
       "\n",
       "    .dataframe tbody tr th {\n",
       "        vertical-align: top;\n",
       "    }\n",
       "\n",
       "    .dataframe thead th {\n",
       "        text-align: right;\n",
       "    }\n",
       "</style>\n",
       "<table border=\"1\" class=\"dataframe\">\n",
       "  <thead>\n",
       "    <tr style=\"text-align: right;\">\n",
       "      <th></th>\n",
       "      <th>calls</th>\n",
       "      <th>minutes</th>\n",
       "      <th>messages</th>\n",
       "      <th>mb_used</th>\n",
       "      <th>is_ultra</th>\n",
       "    </tr>\n",
       "  </thead>\n",
       "  <tbody>\n",
       "    <tr>\n",
       "      <th>0</th>\n",
       "      <td>40.0</td>\n",
       "      <td>311.90</td>\n",
       "      <td>83.0</td>\n",
       "      <td>19915.42</td>\n",
       "      <td>0</td>\n",
       "    </tr>\n",
       "    <tr>\n",
       "      <th>1</th>\n",
       "      <td>85.0</td>\n",
       "      <td>516.75</td>\n",
       "      <td>56.0</td>\n",
       "      <td>22696.96</td>\n",
       "      <td>0</td>\n",
       "    </tr>\n",
       "    <tr>\n",
       "      <th>2</th>\n",
       "      <td>77.0</td>\n",
       "      <td>467.66</td>\n",
       "      <td>86.0</td>\n",
       "      <td>21060.45</td>\n",
       "      <td>0</td>\n",
       "    </tr>\n",
       "    <tr>\n",
       "      <th>3</th>\n",
       "      <td>106.0</td>\n",
       "      <td>745.53</td>\n",
       "      <td>81.0</td>\n",
       "      <td>8437.39</td>\n",
       "      <td>1</td>\n",
       "    </tr>\n",
       "    <tr>\n",
       "      <th>4</th>\n",
       "      <td>66.0</td>\n",
       "      <td>418.74</td>\n",
       "      <td>1.0</td>\n",
       "      <td>14502.75</td>\n",
       "      <td>0</td>\n",
       "    </tr>\n",
       "    <tr>\n",
       "      <th>...</th>\n",
       "      <td>...</td>\n",
       "      <td>...</td>\n",
       "      <td>...</td>\n",
       "      <td>...</td>\n",
       "      <td>...</td>\n",
       "    </tr>\n",
       "    <tr>\n",
       "      <th>3209</th>\n",
       "      <td>122.0</td>\n",
       "      <td>910.98</td>\n",
       "      <td>20.0</td>\n",
       "      <td>35124.90</td>\n",
       "      <td>1</td>\n",
       "    </tr>\n",
       "    <tr>\n",
       "      <th>3210</th>\n",
       "      <td>25.0</td>\n",
       "      <td>190.36</td>\n",
       "      <td>0.0</td>\n",
       "      <td>3275.61</td>\n",
       "      <td>0</td>\n",
       "    </tr>\n",
       "    <tr>\n",
       "      <th>3211</th>\n",
       "      <td>97.0</td>\n",
       "      <td>634.44</td>\n",
       "      <td>70.0</td>\n",
       "      <td>13974.06</td>\n",
       "      <td>0</td>\n",
       "    </tr>\n",
       "    <tr>\n",
       "      <th>3212</th>\n",
       "      <td>64.0</td>\n",
       "      <td>462.32</td>\n",
       "      <td>90.0</td>\n",
       "      <td>31239.78</td>\n",
       "      <td>0</td>\n",
       "    </tr>\n",
       "    <tr>\n",
       "      <th>3213</th>\n",
       "      <td>80.0</td>\n",
       "      <td>566.09</td>\n",
       "      <td>6.0</td>\n",
       "      <td>29480.52</td>\n",
       "      <td>1</td>\n",
       "    </tr>\n",
       "  </tbody>\n",
       "</table>\n",
       "<p>3214 rows × 5 columns</p>\n",
       "</div>"
      ],
      "text/plain": [
       "      calls  minutes  messages   mb_used  is_ultra\n",
       "0      40.0   311.90      83.0  19915.42         0\n",
       "1      85.0   516.75      56.0  22696.96         0\n",
       "2      77.0   467.66      86.0  21060.45         0\n",
       "3     106.0   745.53      81.0   8437.39         1\n",
       "4      66.0   418.74       1.0  14502.75         0\n",
       "...     ...      ...       ...       ...       ...\n",
       "3209  122.0   910.98      20.0  35124.90         1\n",
       "3210   25.0   190.36       0.0   3275.61         0\n",
       "3211   97.0   634.44      70.0  13974.06         0\n",
       "3212   64.0   462.32      90.0  31239.78         0\n",
       "3213   80.0   566.09       6.0  29480.52         1\n",
       "\n",
       "[3214 rows x 5 columns]"
      ]
     },
     "execution_count": 2,
     "metadata": {},
     "output_type": "execute_result"
    }
   ],
   "source": [
    "df = pd.read_csv('/datasets/users_behavior.csv')\n",
    "df"
   ]
  },
  {
   "cell_type": "markdown",
   "metadata": {},
   "source": [
    "Датафрейм состоит из признаков и целевого признака, отсутствуют лишние (для обучения модели) столбцы"
   ]
  },
  {
   "cell_type": "code",
   "execution_count": 3,
   "metadata": {},
   "outputs": [
    {
     "name": "stdout",
     "output_type": "stream",
     "text": [
      "<class 'pandas.core.frame.DataFrame'>\n",
      "RangeIndex: 3214 entries, 0 to 3213\n",
      "Data columns (total 5 columns):\n",
      " #   Column    Non-Null Count  Dtype  \n",
      "---  ------    --------------  -----  \n",
      " 0   calls     3214 non-null   float64\n",
      " 1   minutes   3214 non-null   float64\n",
      " 2   messages  3214 non-null   float64\n",
      " 3   mb_used   3214 non-null   float64\n",
      " 4   is_ultra  3214 non-null   int64  \n",
      "dtypes: float64(4), int64(1)\n",
      "memory usage: 125.7 KB\n"
     ]
    }
   ],
   "source": [
    "df.info()"
   ]
  },
  {
   "cell_type": "markdown",
   "metadata": {},
   "source": [
    "Убедились что в данных нет пропусков и типы данных в каждом столбце числовы "
   ]
  },
  {
   "cell_type": "markdown",
   "metadata": {},
   "source": [
    "## Разбейте данные на выборки"
   ]
  },
  {
   "cell_type": "markdown",
   "metadata": {},
   "source": [
    "Для начала разобьем данные на 60%(обучающая выборка) и 40% (валидационная и тестовая)"
   ]
  },
  {
   "cell_type": "markdown",
   "metadata": {},
   "source": [
    "Затем поделим пополам валидационную и тестовую выборки"
   ]
  },
  {
   "cell_type": "code",
   "execution_count": 4,
   "metadata": {},
   "outputs": [],
   "source": [
    "df_train, df_valid_test = train_test_split(df, test_size=0.4, random_state=55555)\n",
    "\n",
    "df_valid, df_test = train_test_split(df_valid_test, test_size=0.5, random_state=55555)"
   ]
  },
  {
   "cell_type": "markdown",
   "metadata": {},
   "source": [
    "Обучающая выборка содержит 1928 строк. Валидационная и тестовая по 643"
   ]
  },
  {
   "cell_type": "code",
   "execution_count": 5,
   "metadata": {},
   "outputs": [
    {
     "name": "stdout",
     "output_type": "stream",
     "text": [
      "(1928, 5) (643, 5) (643, 5)\n"
     ]
    }
   ],
   "source": [
    "print(df_train.shape, df_valid.shape, df_test.shape)"
   ]
  },
  {
   "cell_type": "markdown",
   "metadata": {},
   "source": [
    "Поделим все наши выборки на признаки и целевые признаки."
   ]
  },
  {
   "cell_type": "markdown",
   "metadata": {},
   "source": [
    "Признаки - все столбцы кроме **'is_ultra'**"
   ]
  },
  {
   "cell_type": "markdown",
   "metadata": {},
   "source": [
    "Целевой признак - столбец **'is_ultra'**"
   ]
  },
  {
   "cell_type": "code",
   "execution_count": 6,
   "metadata": {},
   "outputs": [],
   "source": [
    "# обучающая выборка (признаки)\n",
    "train_features = df_train.drop(['is_ultra'], axis=1)\n",
    "train_target = df_train['is_ultra']\n",
    "\n",
    "# валидационная выборка (признаки)\n",
    "valid_features = df_valid.drop(['is_ultra'], axis=1)\n",
    "valid_target = df_valid['is_ultra']\n",
    "\n",
    "# тестовая выборка (признаки)\n",
    "test_features = df_test.drop(['is_ultra'], axis=1)\n",
    "test_target = df_test['is_ultra']"
   ]
  },
  {
   "cell_type": "markdown",
   "metadata": {},
   "source": [
    "## Исследуйте модели"
   ]
  },
  {
   "cell_type": "markdown",
   "metadata": {},
   "source": [
    "Целевой признак у нас принимает значение 0 либо 1. Перед нами задача классификации(бинарная). "
   ]
  },
  {
   "cell_type": "markdown",
   "metadata": {},
   "source": [
    "Для предсказания будем использовать модели ***DecisionTreeClassifier*** и ***RandomForestClassifier***"
   ]
  },
  {
   "cell_type": "code",
   "execution_count": 7,
   "metadata": {},
   "outputs": [
    {
     "name": "stdout",
     "output_type": "stream",
     "text": [
      "DecisionTreeClassifier(max_depth=4, random_state=55555) 0.7947122861586314\n",
      "RandomForestClassifier(max_depth=8, n_estimators=20, random_state=55555) 0.8087091757387247\n"
     ]
    }
   ],
   "source": [
    "# переменная для сохранения лучшей модели после подбора гиперпараметров для DecisionTreeClassifier\n",
    "best_decision_tree_model = None \n",
    "# переменная для сохранения лучшего значения accuracy\n",
    "decision_tree_accuracy = 0\n",
    "\n",
    "# Цикл для перебора гиперпараметра max_depth(от 1 до 10) модели DecisionTreeClassifier\n",
    "for depth in range(1, 11):\n",
    "    model = DecisionTreeClassifier(random_state=55555, max_depth=depth)\n",
    "    model.fit(train_features, train_target)\n",
    "    predict = model.predict(valid_features)\n",
    "    accuracy = accuracy_score(valid_target, predict)\n",
    "    if accuracy > decision_tree_accuracy:\n",
    "            decision_tree_accuracy = accuracy\n",
    "            best_decision_tree_model = model\n",
    "\n",
    "# аналогичные переменные для модели RandomForestClassifier\n",
    "best_random_forest_model = None\n",
    "random_forest_accuracy = 0\n",
    "\n",
    "# два вложенных цикла. Один для подбора гиперпараметра n_estimators, а второй для max_depth\n",
    "for est in range(10, 51, 10):\n",
    "    for depth in range(1, 11):\n",
    "        model = RandomForestClassifier(random_state=55555, max_depth=depth, n_estimators=est)\n",
    "        model.fit(train_features, train_target)\n",
    "        predict = model.predict(valid_features)\n",
    "        accuracy = accuracy_score(valid_target, predict)\n",
    "        if accuracy > random_forest_accuracy:\n",
    "            random_forest_accuracy = accuracy\n",
    "            best_random_forest_model = model\n",
    "\n",
    "# вывод на экран лучшие модели с их accuracy\n",
    "print(best_decision_tree_model, decision_tree_accuracy)\n",
    "print(best_random_forest_model, random_forest_accuracy)"
   ]
  },
  {
   "cell_type": "markdown",
   "metadata": {},
   "source": [
    "Получили две лучшие модели из DecisionTreeClassifier и RandomForestClassifier со значениями гиперпараметров. Обе модели на валидационной выборке дали результат выше 75%"
   ]
  },
  {
   "cell_type": "markdown",
   "metadata": {},
   "source": [
    "С небольшим отрывом лучшей моделью становится RandomForestClassifier с гиперпараметрами: **n_estimators=20, max_depth=8**"
   ]
  },
  {
   "cell_type": "markdown",
   "metadata": {},
   "source": [
    "## Проверьте модель на тестовой выборке"
   ]
  },
  {
   "cell_type": "code",
   "execution_count": 8,
   "metadata": {},
   "outputs": [
    {
     "data": {
      "text/plain": [
       "0.8087091757387247"
      ]
     },
     "execution_count": 8,
     "metadata": {},
     "output_type": "execute_result"
    }
   ],
   "source": [
    "test = best_random_forest_model.predict(test_features)\n",
    "accuracy_score(test_target, test)"
   ]
  },
  {
   "cell_type": "markdown",
   "metadata": {},
   "source": [
    "На тестовой выборке наша модель показывает результат 80.8% "
   ]
  },
  {
   "cell_type": "markdown",
   "metadata": {},
   "source": [
    "## (бонус) Проверьте модели на адекватность"
   ]
  },
  {
   "cell_type": "markdown",
   "metadata": {},
   "source": [
    "Чтобы проверить на адекватность нужно сравнить ее результат со случайной моделью. Так как задача бинарной классификации, то можно, в качестве случайной модели, использовать генератор случайных чисел (0 и 1)"
   ]
  },
  {
   "cell_type": "markdown",
   "metadata": {},
   "source": [
    "Для этого импортируем библиотеку **random**"
   ]
  },
  {
   "cell_type": "code",
   "execution_count": 9,
   "metadata": {},
   "outputs": [],
   "source": [
    "import random"
   ]
  },
  {
   "cell_type": "markdown",
   "metadata": {},
   "source": [
    "Случайно сгенерируем числа (0 и 1) в количестве строк целевого признака валидационной выборки(643) и сохраним в виде Series"
   ]
  },
  {
   "cell_type": "markdown",
   "metadata": {},
   "source": [
    "Прокрутим такой генератор 100 раз для каждой выборки"
   ]
  },
  {
   "cell_type": "code",
   "execution_count": 10,
   "metadata": {},
   "outputs": [
    {
     "data": {
      "text/plain": [
       "(643,)"
      ]
     },
     "execution_count": 10,
     "metadata": {},
     "output_type": "execute_result"
    }
   ],
   "source": [
    "valid_target.shape # количество строк целевого признака валидационной выборки"
   ]
  },
  {
   "cell_type": "code",
   "execution_count": 11,
   "metadata": {},
   "outputs": [
    {
     "name": "stdout",
     "output_type": "stream",
     "text": [
      "0.5004976671850699\n"
     ]
    }
   ],
   "source": [
    "summ = 0\n",
    "count = 0\n",
    "\n",
    "for i in range(100):  \n",
    "    random_list = pd.Series([random.randint(0, 1) for _ in range(643)])\n",
    "    summ += accuracy_score(valid_target, random_list)\n",
    "    count += 1 \n",
    "print(summ / count)"
   ]
  },
  {
   "cell_type": "markdown",
   "metadata": {},
   "source": [
    "после сотни генераций среднее accuracy случайных моделей всегда в районе 50%"
   ]
  },
  {
   "cell_type": "code",
   "execution_count": 12,
   "metadata": {},
   "outputs": [
    {
     "data": {
      "text/plain": [
       "(643,)"
      ]
     },
     "execution_count": 12,
     "metadata": {},
     "output_type": "execute_result"
    }
   ],
   "source": [
    "test_target.shape # количество строк целевого признака тестовой выборки"
   ]
  },
  {
   "cell_type": "code",
   "execution_count": 13,
   "metadata": {},
   "outputs": [
    {
     "name": "stdout",
     "output_type": "stream",
     "text": [
      "0.4988802488335925\n"
     ]
    }
   ],
   "source": [
    "summ = 0\n",
    "count = 0\n",
    "\n",
    "for i in range(100):  \n",
    "    random_list_1 = pd.Series([random.randint(0, 1) for _ in range(643)])\n",
    "    summ += accuracy_score(test_target, random_list_1)\n",
    "    count += 1 \n",
    "print(summ / count)"
   ]
  },
  {
   "cell_type": "markdown",
   "metadata": {},
   "source": [
    "такой же результат и с тестовой выборкой "
   ]
  },
  {
   "cell_type": "markdown",
   "metadata": {},
   "source": [
    "# Вывод:"
   ]
  },
  {
   "cell_type": "markdown",
   "metadata": {},
   "source": [
    " В результате подбора моделей по гиперпараметрам лучшей оказалась модель RandomForestClassifier с гиперпараметрами: **n_estimators=20**, **max_depth=8**. Как на валидационной так и на тестовой выборке модель дала результат в **80.8 %.** Такой результат значительно выше случайно сгенерированных моделей которые показывают результат не выше 50%"
   ]
  }
 ],
 "metadata": {
  "ExecuteTimeLog": [
   {
    "duration": 1192,
    "start_time": "2022-12-19T12:20:05.310Z"
   },
   {
    "duration": 91,
    "start_time": "2022-12-19T12:20:41.360Z"
   },
   {
    "duration": 97,
    "start_time": "2022-12-19T12:21:00.857Z"
   },
   {
    "duration": 45,
    "start_time": "2022-12-21T15:40:53.225Z"
   },
   {
    "duration": 1052,
    "start_time": "2022-12-21T15:40:57.981Z"
   },
   {
    "duration": 134,
    "start_time": "2022-12-21T15:41:01.212Z"
   },
   {
    "duration": 6,
    "start_time": "2022-12-21T15:41:02.772Z"
   },
   {
    "duration": 5,
    "start_time": "2022-12-21T15:41:14.899Z"
   },
   {
    "duration": 6,
    "start_time": "2022-12-21T15:41:16.598Z"
   },
   {
    "duration": 6,
    "start_time": "2022-12-21T15:41:19.659Z"
   },
   {
    "duration": 5,
    "start_time": "2022-12-21T15:43:36.091Z"
   },
   {
    "duration": 5,
    "start_time": "2022-12-21T15:46:06.701Z"
   },
   {
    "duration": 6,
    "start_time": "2022-12-21T15:46:07.473Z"
   },
   {
    "duration": 4,
    "start_time": "2022-12-21T15:46:33.772Z"
   },
   {
    "duration": 13,
    "start_time": "2022-12-21T15:51:14.461Z"
   },
   {
    "duration": 13,
    "start_time": "2022-12-21T15:51:41.642Z"
   },
   {
    "duration": 7,
    "start_time": "2022-12-21T15:51:57.318Z"
   },
   {
    "duration": 6,
    "start_time": "2022-12-21T15:58:51.154Z"
   },
   {
    "duration": 77,
    "start_time": "2022-12-21T16:03:12.132Z"
   },
   {
    "duration": 4,
    "start_time": "2022-12-21T16:04:50.578Z"
   },
   {
    "duration": 37,
    "start_time": "2022-12-21T16:04:51.411Z"
   },
   {
    "duration": 6,
    "start_time": "2022-12-21T16:04:53.503Z"
   },
   {
    "duration": 3,
    "start_time": "2022-12-21T16:04:54.517Z"
   },
   {
    "duration": 5,
    "start_time": "2022-12-21T16:04:58.536Z"
   },
   {
    "duration": 8,
    "start_time": "2022-12-21T16:04:59.643Z"
   },
   {
    "duration": 9,
    "start_time": "2022-12-21T16:05:11.662Z"
   },
   {
    "duration": 9,
    "start_time": "2022-12-21T16:06:12.630Z"
   },
   {
    "duration": 10,
    "start_time": "2022-12-21T16:06:56.325Z"
   },
   {
    "duration": 16,
    "start_time": "2022-12-21T16:07:00.778Z"
   },
   {
    "duration": 3,
    "start_time": "2022-12-21T16:08:11.734Z"
   },
   {
    "duration": 39,
    "start_time": "2022-12-21T16:08:12.569Z"
   },
   {
    "duration": 7,
    "start_time": "2022-12-21T16:08:13.989Z"
   },
   {
    "duration": 4,
    "start_time": "2022-12-21T16:08:14.763Z"
   },
   {
    "duration": 8,
    "start_time": "2022-12-21T16:08:15.633Z"
   },
   {
    "duration": 17,
    "start_time": "2022-12-21T16:08:16.682Z"
   },
   {
    "duration": 13,
    "start_time": "2022-12-21T16:08:27.644Z"
   },
   {
    "duration": 3,
    "start_time": "2022-12-21T16:09:04.491Z"
   },
   {
    "duration": 38,
    "start_time": "2022-12-21T16:09:05.233Z"
   },
   {
    "duration": 6,
    "start_time": "2022-12-21T16:09:06.501Z"
   },
   {
    "duration": 4,
    "start_time": "2022-12-21T16:09:08.136Z"
   },
   {
    "duration": 5,
    "start_time": "2022-12-21T16:09:08.771Z"
   },
   {
    "duration": 71,
    "start_time": "2022-12-21T16:09:09.737Z"
   },
   {
    "duration": 362,
    "start_time": "2022-12-21T16:11:21.755Z"
   },
   {
    "duration": 1944,
    "start_time": "2022-12-21T16:11:49.033Z"
   },
   {
    "duration": 1744,
    "start_time": "2022-12-21T16:12:30.174Z"
   },
   {
    "duration": 43,
    "start_time": "2022-12-21T16:13:12.733Z"
   },
   {
    "duration": 4,
    "start_time": "2022-12-21T16:14:19.140Z"
   },
   {
    "duration": 36,
    "start_time": "2022-12-21T16:14:20.877Z"
   },
   {
    "duration": 6,
    "start_time": "2022-12-21T16:14:22.343Z"
   },
   {
    "duration": 3,
    "start_time": "2022-12-21T16:14:23.192Z"
   },
   {
    "duration": 7,
    "start_time": "2022-12-21T16:14:23.829Z"
   },
   {
    "duration": 48,
    "start_time": "2022-12-21T16:14:24.650Z"
   },
   {
    "duration": 901,
    "start_time": "2022-12-21T16:14:33.846Z"
   },
   {
    "duration": 10,
    "start_time": "2022-12-21T16:15:30.766Z"
   },
   {
    "duration": 967,
    "start_time": "2022-12-21T16:15:37.414Z"
   },
   {
    "duration": 2126,
    "start_time": "2022-12-21T16:15:45.451Z"
   },
   {
    "duration": 2269,
    "start_time": "2022-12-21T16:16:47.672Z"
   },
   {
    "duration": 46,
    "start_time": "2022-12-21T16:17:46.756Z"
   },
   {
    "duration": 2237,
    "start_time": "2022-12-21T16:17:52.014Z"
   },
   {
    "duration": 2116,
    "start_time": "2022-12-21T16:20:16.508Z"
   },
   {
    "duration": 2157,
    "start_time": "2022-12-21T16:20:26.769Z"
   },
   {
    "duration": 2141,
    "start_time": "2022-12-21T16:20:46.559Z"
   },
   {
    "duration": 2081,
    "start_time": "2022-12-21T16:21:09.727Z"
   },
   {
    "duration": 2202,
    "start_time": "2022-12-21T16:22:02.261Z"
   },
   {
    "duration": 4,
    "start_time": "2022-12-21T16:24:48.893Z"
   },
   {
    "duration": 3544,
    "start_time": "2022-12-21T17:35:42.280Z"
   },
   {
    "duration": 3393,
    "start_time": "2022-12-21T17:36:20.869Z"
   },
   {
    "duration": 3709,
    "start_time": "2022-12-21T17:36:41.279Z"
   },
   {
    "duration": 7,
    "start_time": "2022-12-21T17:40:36.043Z"
   },
   {
    "duration": 9,
    "start_time": "2022-12-21T17:41:38.268Z"
   },
   {
    "duration": 1165,
    "start_time": "2022-12-21T17:43:18.154Z"
   },
   {
    "duration": 49,
    "start_time": "2022-12-21T17:43:19.322Z"
   },
   {
    "duration": 7,
    "start_time": "2022-12-21T17:43:19.373Z"
   },
   {
    "duration": 11,
    "start_time": "2022-12-21T17:43:19.382Z"
   },
   {
    "duration": 9,
    "start_time": "2022-12-21T17:43:19.395Z"
   },
   {
    "duration": 3508,
    "start_time": "2022-12-21T17:43:19.406Z"
   },
   {
    "duration": 7,
    "start_time": "2022-12-21T17:43:22.918Z"
   },
   {
    "duration": 12,
    "start_time": "2022-12-21T17:43:22.926Z"
   },
   {
    "duration": 11,
    "start_time": "2022-12-21T18:15:35.600Z"
   },
   {
    "duration": 6,
    "start_time": "2022-12-21T18:28:38.743Z"
   },
   {
    "duration": 6,
    "start_time": "2022-12-21T18:28:54.644Z"
   },
   {
    "duration": 6,
    "start_time": "2022-12-21T18:29:29.840Z"
   },
   {
    "duration": 3334,
    "start_time": "2022-12-21T18:32:27.580Z"
   },
   {
    "duration": 1111,
    "start_time": "2022-12-21T18:38:32.202Z"
   },
   {
    "duration": 46,
    "start_time": "2022-12-21T18:38:33.315Z"
   },
   {
    "duration": 26,
    "start_time": "2022-12-21T18:38:33.362Z"
   },
   {
    "duration": 114,
    "start_time": "2022-12-21T18:38:33.390Z"
   },
   {
    "duration": 71,
    "start_time": "2022-12-21T18:38:33.507Z"
   },
   {
    "duration": 18,
    "start_time": "2022-12-21T18:38:33.580Z"
   },
   {
    "duration": 4183,
    "start_time": "2022-12-21T18:38:33.601Z"
   },
   {
    "duration": 7,
    "start_time": "2022-12-21T18:38:37.786Z"
   },
   {
    "duration": 17,
    "start_time": "2022-12-21T18:38:37.794Z"
   },
   {
    "duration": 3337,
    "start_time": "2022-12-21T18:40:39.956Z"
   },
   {
    "duration": 101,
    "start_time": "2022-12-21T18:53:34.800Z"
   },
   {
    "duration": 2,
    "start_time": "2022-12-21T18:53:40.445Z"
   },
   {
    "duration": 3,
    "start_time": "2022-12-21T18:54:56.088Z"
   },
   {
    "duration": 6,
    "start_time": "2022-12-21T18:57:55.091Z"
   },
   {
    "duration": 4,
    "start_time": "2022-12-21T18:57:58.247Z"
   },
   {
    "duration": 5,
    "start_time": "2022-12-21T18:58:04.557Z"
   },
   {
    "duration": 13,
    "start_time": "2022-12-21T19:00:43.349Z"
   },
   {
    "duration": 13,
    "start_time": "2022-12-21T19:01:22.449Z"
   },
   {
    "duration": 6,
    "start_time": "2022-12-21T19:01:31.319Z"
   },
   {
    "duration": 18,
    "start_time": "2022-12-21T19:02:36.042Z"
   },
   {
    "duration": 14,
    "start_time": "2022-12-21T19:02:42.021Z"
   },
   {
    "duration": 17,
    "start_time": "2022-12-21T19:02:47.846Z"
   },
   {
    "duration": 17,
    "start_time": "2022-12-21T19:02:59.193Z"
   },
   {
    "duration": 15,
    "start_time": "2022-12-21T19:03:13.263Z"
   },
   {
    "duration": 6,
    "start_time": "2022-12-21T19:03:17.620Z"
   },
   {
    "duration": 3,
    "start_time": "2022-12-21T19:05:00.562Z"
   },
   {
    "duration": 5,
    "start_time": "2022-12-21T19:05:20.575Z"
   },
   {
    "duration": 1138,
    "start_time": "2022-12-21T19:09:59.358Z"
   },
   {
    "duration": 44,
    "start_time": "2022-12-21T19:10:00.499Z"
   },
   {
    "duration": 11,
    "start_time": "2022-12-21T19:10:00.544Z"
   },
   {
    "duration": 37,
    "start_time": "2022-12-21T19:10:00.558Z"
   },
   {
    "duration": 14,
    "start_time": "2022-12-21T19:10:00.598Z"
   },
   {
    "duration": 34,
    "start_time": "2022-12-21T19:10:00.613Z"
   },
   {
    "duration": 3859,
    "start_time": "2022-12-21T19:10:00.649Z"
   },
   {
    "duration": 7,
    "start_time": "2022-12-21T19:10:04.510Z"
   },
   {
    "duration": 21,
    "start_time": "2022-12-21T19:10:04.518Z"
   },
   {
    "duration": 15,
    "start_time": "2022-12-21T19:10:04.541Z"
   },
   {
    "duration": 23,
    "start_time": "2022-12-21T19:10:04.557Z"
   },
   {
    "duration": 38,
    "start_time": "2022-12-21T19:10:04.583Z"
   },
   {
    "duration": 16,
    "start_time": "2022-12-21T19:10:04.623Z"
   },
   {
    "duration": 10,
    "start_time": "2022-12-21T19:10:04.641Z"
   },
   {
    "duration": 8,
    "start_time": "2022-12-21T19:15:00.458Z"
   },
   {
    "duration": 6,
    "start_time": "2022-12-21T19:15:01.616Z"
   },
   {
    "duration": 6,
    "start_time": "2022-12-21T19:15:02.162Z"
   },
   {
    "duration": 6,
    "start_time": "2022-12-21T19:15:02.650Z"
   },
   {
    "duration": 10,
    "start_time": "2022-12-21T19:15:03.074Z"
   },
   {
    "duration": 13,
    "start_time": "2022-12-21T19:15:03.469Z"
   },
   {
    "duration": 5,
    "start_time": "2022-12-21T19:15:03.846Z"
   },
   {
    "duration": 9,
    "start_time": "2022-12-21T19:15:04.200Z"
   },
   {
    "duration": 6,
    "start_time": "2022-12-21T19:15:04.549Z"
   },
   {
    "duration": 6,
    "start_time": "2022-12-21T19:15:05.142Z"
   },
   {
    "duration": 6,
    "start_time": "2022-12-21T19:15:05.617Z"
   },
   {
    "duration": 6,
    "start_time": "2022-12-21T19:15:06.048Z"
   },
   {
    "duration": 6,
    "start_time": "2022-12-21T19:15:06.460Z"
   },
   {
    "duration": 8,
    "start_time": "2022-12-21T19:15:09.103Z"
   },
   {
    "duration": 6,
    "start_time": "2022-12-21T19:15:09.650Z"
   },
   {
    "duration": 10,
    "start_time": "2022-12-21T19:15:09.990Z"
   },
   {
    "duration": 8,
    "start_time": "2022-12-21T19:15:10.342Z"
   },
   {
    "duration": 7,
    "start_time": "2022-12-21T19:15:10.693Z"
   },
   {
    "duration": 8,
    "start_time": "2022-12-21T19:15:11.021Z"
   },
   {
    "duration": 5,
    "start_time": "2022-12-21T19:15:11.350Z"
   },
   {
    "duration": 9,
    "start_time": "2022-12-21T19:15:11.693Z"
   },
   {
    "duration": 6,
    "start_time": "2022-12-21T19:15:12.152Z"
   },
   {
    "duration": 7,
    "start_time": "2022-12-21T19:15:12.507Z"
   },
   {
    "duration": 10,
    "start_time": "2022-12-21T19:15:12.880Z"
   },
   {
    "duration": 7,
    "start_time": "2022-12-21T19:15:13.319Z"
   },
   {
    "duration": 110,
    "start_time": "2022-12-21T19:17:00.769Z"
   },
   {
    "duration": 146,
    "start_time": "2022-12-21T19:17:55.261Z"
   },
   {
    "duration": 140,
    "start_time": "2022-12-21T19:18:02.677Z"
   },
   {
    "duration": 123,
    "start_time": "2022-12-21T19:19:37.394Z"
   },
   {
    "duration": 138,
    "start_time": "2022-12-21T19:19:38.072Z"
   },
   {
    "duration": 134,
    "start_time": "2022-12-21T19:19:38.603Z"
   },
   {
    "duration": 118,
    "start_time": "2022-12-21T19:19:39.186Z"
   },
   {
    "duration": 163,
    "start_time": "2022-12-21T19:19:39.745Z"
   },
   {
    "duration": 113,
    "start_time": "2022-12-21T19:19:40.408Z"
   },
   {
    "duration": 122,
    "start_time": "2022-12-21T19:19:40.992Z"
   },
   {
    "duration": 110,
    "start_time": "2022-12-21T19:19:41.577Z"
   },
   {
    "duration": 111,
    "start_time": "2022-12-21T19:19:42.101Z"
   },
   {
    "duration": 122,
    "start_time": "2022-12-21T19:19:42.644Z"
   },
   {
    "duration": 1094,
    "start_time": "2022-12-21T19:21:18.178Z"
   },
   {
    "duration": 50,
    "start_time": "2022-12-21T19:21:19.274Z"
   },
   {
    "duration": 11,
    "start_time": "2022-12-21T19:21:19.326Z"
   },
   {
    "duration": 5,
    "start_time": "2022-12-21T19:21:19.339Z"
   },
   {
    "duration": 4,
    "start_time": "2022-12-21T19:21:19.346Z"
   },
   {
    "duration": 7,
    "start_time": "2022-12-21T19:21:19.351Z"
   },
   {
    "duration": 3447,
    "start_time": "2022-12-21T19:21:19.360Z"
   },
   {
    "duration": 6,
    "start_time": "2022-12-21T19:21:22.809Z"
   },
   {
    "duration": 11,
    "start_time": "2022-12-21T19:21:22.817Z"
   },
   {
    "duration": 3,
    "start_time": "2022-12-21T19:21:22.830Z"
   },
   {
    "duration": 8,
    "start_time": "2022-12-21T19:21:22.834Z"
   },
   {
    "duration": 134,
    "start_time": "2022-12-21T19:21:22.844Z"
   },
   {
    "duration": 4,
    "start_time": "2022-12-21T19:21:22.979Z"
   },
   {
    "duration": 129,
    "start_time": "2022-12-21T19:21:22.985Z"
   },
   {
    "duration": 50,
    "start_time": "2022-12-21T20:13:47.677Z"
   },
   {
    "duration": 1099,
    "start_time": "2022-12-22T08:57:07.644Z"
   },
   {
    "duration": 130,
    "start_time": "2022-12-22T08:57:09.723Z"
   },
   {
    "duration": 15,
    "start_time": "2022-12-22T08:57:10.995Z"
   },
   {
    "duration": 8,
    "start_time": "2022-12-22T08:57:14.057Z"
   },
   {
    "duration": 3,
    "start_time": "2022-12-22T08:57:22.436Z"
   },
   {
    "duration": 7,
    "start_time": "2022-12-22T09:05:03.607Z"
   },
   {
    "duration": 4185,
    "start_time": "2022-12-22T09:05:05.128Z"
   },
   {
    "duration": 112,
    "start_time": "2022-12-22T09:07:29.398Z"
   },
   {
    "duration": 12,
    "start_time": "2022-12-22T09:07:34.404Z"
   },
   {
    "duration": 1083,
    "start_time": "2022-12-22T09:09:39.456Z"
   },
   {
    "duration": 46,
    "start_time": "2022-12-22T09:09:41.814Z"
   },
   {
    "duration": 13,
    "start_time": "2022-12-22T09:09:44.364Z"
   },
   {
    "duration": 7,
    "start_time": "2022-12-22T09:09:48.525Z"
   },
   {
    "duration": 5,
    "start_time": "2022-12-22T09:10:02.959Z"
   },
   {
    "duration": 8,
    "start_time": "2022-12-22T09:10:04.819Z"
   },
   {
    "duration": 4048,
    "start_time": "2022-12-22T09:10:08.052Z"
   },
   {
    "duration": 13,
    "start_time": "2022-12-22T09:11:32.304Z"
   },
   {
    "duration": 3,
    "start_time": "2022-12-22T09:14:21.472Z"
   },
   {
    "duration": 4,
    "start_time": "2022-12-22T09:14:25.094Z"
   },
   {
    "duration": 126,
    "start_time": "2022-12-22T09:14:39.840Z"
   },
   {
    "duration": 4,
    "start_time": "2022-12-22T09:15:11.142Z"
   },
   {
    "duration": 108,
    "start_time": "2022-12-22T09:15:17.417Z"
   },
   {
    "duration": 1177,
    "start_time": "2022-12-22T09:20:59.185Z"
   },
   {
    "duration": 47,
    "start_time": "2022-12-22T09:21:00.365Z"
   },
   {
    "duration": 39,
    "start_time": "2022-12-22T09:21:00.414Z"
   },
   {
    "duration": 38,
    "start_time": "2022-12-22T09:21:00.455Z"
   },
   {
    "duration": 51,
    "start_time": "2022-12-22T09:21:00.496Z"
   },
   {
    "duration": 26,
    "start_time": "2022-12-22T09:21:00.549Z"
   },
   {
    "duration": 4102,
    "start_time": "2022-12-22T09:21:00.577Z"
   },
   {
    "duration": 20,
    "start_time": "2022-12-22T09:21:04.681Z"
   },
   {
    "duration": 3,
    "start_time": "2022-12-22T09:21:04.702Z"
   },
   {
    "duration": 6,
    "start_time": "2022-12-22T09:21:04.707Z"
   },
   {
    "duration": 126,
    "start_time": "2022-12-22T09:21:04.715Z"
   },
   {
    "duration": 5,
    "start_time": "2022-12-22T09:21:04.842Z"
   },
   {
    "duration": 130,
    "start_time": "2022-12-22T09:21:04.848Z"
   },
   {
    "duration": 1138,
    "start_time": "2022-12-22T09:28:06.970Z"
   },
   {
    "duration": 85,
    "start_time": "2022-12-22T09:28:08.111Z"
   },
   {
    "duration": 18,
    "start_time": "2022-12-22T09:28:08.198Z"
   },
   {
    "duration": 9,
    "start_time": "2022-12-22T09:28:08.218Z"
   },
   {
    "duration": 4,
    "start_time": "2022-12-22T09:28:08.231Z"
   },
   {
    "duration": 12,
    "start_time": "2022-12-22T09:28:08.238Z"
   },
   {
    "duration": 4071,
    "start_time": "2022-12-22T09:28:08.252Z"
   },
   {
    "duration": 13,
    "start_time": "2022-12-22T09:28:12.325Z"
   },
   {
    "duration": 3,
    "start_time": "2022-12-22T09:28:12.340Z"
   },
   {
    "duration": 9,
    "start_time": "2022-12-22T09:28:12.346Z"
   },
   {
    "duration": 132,
    "start_time": "2022-12-22T09:28:12.357Z"
   },
   {
    "duration": 7,
    "start_time": "2022-12-22T09:28:12.491Z"
   },
   {
    "duration": 116,
    "start_time": "2022-12-22T09:28:12.500Z"
   },
   {
    "duration": 5,
    "start_time": "2022-12-22T09:30:50.192Z"
   },
   {
    "duration": 4,
    "start_time": "2022-12-22T09:30:50.871Z"
   },
   {
    "duration": 1135,
    "start_time": "2022-12-22T09:31:34.142Z"
   },
   {
    "duration": 47,
    "start_time": "2022-12-22T09:31:35.280Z"
   },
   {
    "duration": 12,
    "start_time": "2022-12-22T09:31:35.329Z"
   },
   {
    "duration": 7,
    "start_time": "2022-12-22T09:31:35.343Z"
   },
   {
    "duration": 5,
    "start_time": "2022-12-22T09:31:35.353Z"
   },
   {
    "duration": 11,
    "start_time": "2022-12-22T09:31:35.360Z"
   },
   {
    "duration": 4097,
    "start_time": "2022-12-22T09:31:35.374Z"
   },
   {
    "duration": 25,
    "start_time": "2022-12-22T09:31:39.473Z"
   },
   {
    "duration": 10,
    "start_time": "2022-12-22T09:31:39.500Z"
   },
   {
    "duration": 8,
    "start_time": "2022-12-22T09:31:39.512Z"
   },
   {
    "duration": 111,
    "start_time": "2022-12-22T09:31:39.522Z"
   },
   {
    "duration": 4,
    "start_time": "2022-12-22T09:31:39.635Z"
   },
   {
    "duration": 148,
    "start_time": "2022-12-22T09:31:39.641Z"
   },
   {
    "duration": 79,
    "start_time": "2022-12-22T10:22:46.609Z"
   }
  ],
  "kernelspec": {
   "display_name": "Python 3 (ipykernel)",
   "language": "python",
   "name": "python3"
  },
  "language_info": {
   "codemirror_mode": {
    "name": "ipython",
    "version": 3
   },
   "file_extension": ".py",
   "mimetype": "text/x-python",
   "name": "python",
   "nbconvert_exporter": "python",
   "pygments_lexer": "ipython3",
   "version": "3.9.16"
  },
  "toc": {
   "base_numbering": 1,
   "nav_menu": {},
   "number_sections": true,
   "sideBar": true,
   "skip_h1_title": true,
   "title_cell": "Table of Contents",
   "title_sidebar": "Contents",
   "toc_cell": false,
   "toc_position": {},
   "toc_section_display": true,
   "toc_window_display": false
  }
 },
 "nbformat": 4,
 "nbformat_minor": 2
}
