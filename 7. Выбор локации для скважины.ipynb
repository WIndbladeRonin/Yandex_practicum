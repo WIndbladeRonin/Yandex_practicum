{
 "cells": [
  {
   "cell_type": "markdown",
   "metadata": {},
   "source": [
    "# Выбор локации для скважины"
   ]
  },
  {
   "cell_type": "markdown",
   "metadata": {},
   "source": [
    "Допустим, вы работаете в добывающей компании «ГлавРосГосНефть». Нужно решить, где бурить новую скважину.\n",
    "\n",
    "Вам предоставлены пробы нефти в трёх регионах: в каждом 10 000 месторождений, где измерили качество нефти и объём её запасов. Постройте модель машинного обучения, которая поможет определить регион, где добыча принесёт наибольшую прибыль. Проанализируйте возможную прибыль и риски техникой *Bootstrap.*\n",
    "\n",
    "Шаги для выбора локации:\n",
    "\n",
    "- В избранном регионе ищут месторождения, для каждого определяют значения признаков;\n",
    "- Строят модель и оценивают объём запасов;\n",
    "- Выбирают месторождения с самым высокими оценками значений. Количество месторождений зависит от бюджета компании и стоимости разработки одной скважины;\n",
    "- Прибыль равна суммарной прибыли отобранных месторождений."
   ]
  },
  {
   "cell_type": "markdown",
   "metadata": {},
   "source": [
    "## Загрузка и подготовка данных"
   ]
  },
  {
   "cell_type": "code",
   "execution_count": 1,
   "metadata": {},
   "outputs": [],
   "source": [
    "import pandas as pd\n",
    "from sklearn.model_selection import train_test_split\n",
    "from sklearn.linear_model import LinearRegression\n",
    "from sklearn.metrics import mean_squared_error\n",
    "from numpy.random import RandomState"
   ]
  },
  {
   "cell_type": "markdown",
   "metadata": {},
   "source": [
    "Импортируем все необходимые библиотеки"
   ]
  },
  {
   "cell_type": "code",
   "execution_count": 2,
   "metadata": {},
   "outputs": [],
   "source": [
    "geo_data_0 = pd.read_csv('/datasets/geo_data_0.csv')\n",
    "geo_data_1 = pd.read_csv('/datasets/geo_data_1.csv')\n",
    "geo_data_2 = pd.read_csv('/datasets/geo_data_2.csv')"
   ]
  },
  {
   "cell_type": "markdown",
   "metadata": {},
   "source": [
    "Сохраняем файлы в переменные и выведем на экран"
   ]
  },
  {
   "cell_type": "code",
   "execution_count": 3,
   "metadata": {
    "scrolled": false
   },
   "outputs": [
    {
     "data": {
      "text/html": [
       "<div>\n",
       "<style scoped>\n",
       "    .dataframe tbody tr th:only-of-type {\n",
       "        vertical-align: middle;\n",
       "    }\n",
       "\n",
       "    .dataframe tbody tr th {\n",
       "        vertical-align: top;\n",
       "    }\n",
       "\n",
       "    .dataframe thead th {\n",
       "        text-align: right;\n",
       "    }\n",
       "</style>\n",
       "<table border=\"1\" class=\"dataframe\">\n",
       "  <thead>\n",
       "    <tr style=\"text-align: right;\">\n",
       "      <th></th>\n",
       "      <th>id</th>\n",
       "      <th>f0</th>\n",
       "      <th>f1</th>\n",
       "      <th>f2</th>\n",
       "      <th>product</th>\n",
       "    </tr>\n",
       "  </thead>\n",
       "  <tbody>\n",
       "    <tr>\n",
       "      <th>0</th>\n",
       "      <td>txEyH</td>\n",
       "      <td>0.705745</td>\n",
       "      <td>-0.497823</td>\n",
       "      <td>1.221170</td>\n",
       "      <td>105.280062</td>\n",
       "    </tr>\n",
       "    <tr>\n",
       "      <th>1</th>\n",
       "      <td>2acmU</td>\n",
       "      <td>1.334711</td>\n",
       "      <td>-0.340164</td>\n",
       "      <td>4.365080</td>\n",
       "      <td>73.037750</td>\n",
       "    </tr>\n",
       "    <tr>\n",
       "      <th>2</th>\n",
       "      <td>409Wp</td>\n",
       "      <td>1.022732</td>\n",
       "      <td>0.151990</td>\n",
       "      <td>1.419926</td>\n",
       "      <td>85.265647</td>\n",
       "    </tr>\n",
       "    <tr>\n",
       "      <th>3</th>\n",
       "      <td>iJLyR</td>\n",
       "      <td>-0.032172</td>\n",
       "      <td>0.139033</td>\n",
       "      <td>2.978566</td>\n",
       "      <td>168.620776</td>\n",
       "    </tr>\n",
       "    <tr>\n",
       "      <th>4</th>\n",
       "      <td>Xdl7t</td>\n",
       "      <td>1.988431</td>\n",
       "      <td>0.155413</td>\n",
       "      <td>4.751769</td>\n",
       "      <td>154.036647</td>\n",
       "    </tr>\n",
       "    <tr>\n",
       "      <th>...</th>\n",
       "      <td>...</td>\n",
       "      <td>...</td>\n",
       "      <td>...</td>\n",
       "      <td>...</td>\n",
       "      <td>...</td>\n",
       "    </tr>\n",
       "    <tr>\n",
       "      <th>99995</th>\n",
       "      <td>DLsed</td>\n",
       "      <td>0.971957</td>\n",
       "      <td>0.370953</td>\n",
       "      <td>6.075346</td>\n",
       "      <td>110.744026</td>\n",
       "    </tr>\n",
       "    <tr>\n",
       "      <th>99996</th>\n",
       "      <td>QKivN</td>\n",
       "      <td>1.392429</td>\n",
       "      <td>-0.382606</td>\n",
       "      <td>1.273912</td>\n",
       "      <td>122.346843</td>\n",
       "    </tr>\n",
       "    <tr>\n",
       "      <th>99997</th>\n",
       "      <td>3rnvd</td>\n",
       "      <td>1.029585</td>\n",
       "      <td>0.018787</td>\n",
       "      <td>-1.348308</td>\n",
       "      <td>64.375443</td>\n",
       "    </tr>\n",
       "    <tr>\n",
       "      <th>99998</th>\n",
       "      <td>7kl59</td>\n",
       "      <td>0.998163</td>\n",
       "      <td>-0.528582</td>\n",
       "      <td>1.583869</td>\n",
       "      <td>74.040764</td>\n",
       "    </tr>\n",
       "    <tr>\n",
       "      <th>99999</th>\n",
       "      <td>1CWhH</td>\n",
       "      <td>1.764754</td>\n",
       "      <td>-0.266417</td>\n",
       "      <td>5.722849</td>\n",
       "      <td>149.633246</td>\n",
       "    </tr>\n",
       "  </tbody>\n",
       "</table>\n",
       "<p>100000 rows × 5 columns</p>\n",
       "</div>"
      ],
      "text/plain": [
       "          id        f0        f1        f2     product\n",
       "0      txEyH  0.705745 -0.497823  1.221170  105.280062\n",
       "1      2acmU  1.334711 -0.340164  4.365080   73.037750\n",
       "2      409Wp  1.022732  0.151990  1.419926   85.265647\n",
       "3      iJLyR -0.032172  0.139033  2.978566  168.620776\n",
       "4      Xdl7t  1.988431  0.155413  4.751769  154.036647\n",
       "...      ...       ...       ...       ...         ...\n",
       "99995  DLsed  0.971957  0.370953  6.075346  110.744026\n",
       "99996  QKivN  1.392429 -0.382606  1.273912  122.346843\n",
       "99997  3rnvd  1.029585  0.018787 -1.348308   64.375443\n",
       "99998  7kl59  0.998163 -0.528582  1.583869   74.040764\n",
       "99999  1CWhH  1.764754 -0.266417  5.722849  149.633246\n",
       "\n",
       "[100000 rows x 5 columns]"
      ]
     },
     "execution_count": 3,
     "metadata": {},
     "output_type": "execute_result"
    }
   ],
   "source": [
    "geo_data_0"
   ]
  },
  {
   "cell_type": "code",
   "execution_count": 4,
   "metadata": {},
   "outputs": [
    {
     "data": {
      "text/html": [
       "<div>\n",
       "<style scoped>\n",
       "    .dataframe tbody tr th:only-of-type {\n",
       "        vertical-align: middle;\n",
       "    }\n",
       "\n",
       "    .dataframe tbody tr th {\n",
       "        vertical-align: top;\n",
       "    }\n",
       "\n",
       "    .dataframe thead th {\n",
       "        text-align: right;\n",
       "    }\n",
       "</style>\n",
       "<table border=\"1\" class=\"dataframe\">\n",
       "  <thead>\n",
       "    <tr style=\"text-align: right;\">\n",
       "      <th></th>\n",
       "      <th>id</th>\n",
       "      <th>f0</th>\n",
       "      <th>f1</th>\n",
       "      <th>f2</th>\n",
       "      <th>product</th>\n",
       "    </tr>\n",
       "  </thead>\n",
       "  <tbody>\n",
       "    <tr>\n",
       "      <th>0</th>\n",
       "      <td>kBEdx</td>\n",
       "      <td>-15.001348</td>\n",
       "      <td>-8.276000</td>\n",
       "      <td>-0.005876</td>\n",
       "      <td>3.179103</td>\n",
       "    </tr>\n",
       "    <tr>\n",
       "      <th>1</th>\n",
       "      <td>62mP7</td>\n",
       "      <td>14.272088</td>\n",
       "      <td>-3.475083</td>\n",
       "      <td>0.999183</td>\n",
       "      <td>26.953261</td>\n",
       "    </tr>\n",
       "    <tr>\n",
       "      <th>2</th>\n",
       "      <td>vyE1P</td>\n",
       "      <td>6.263187</td>\n",
       "      <td>-5.948386</td>\n",
       "      <td>5.001160</td>\n",
       "      <td>134.766305</td>\n",
       "    </tr>\n",
       "    <tr>\n",
       "      <th>3</th>\n",
       "      <td>KcrkZ</td>\n",
       "      <td>-13.081196</td>\n",
       "      <td>-11.506057</td>\n",
       "      <td>4.999415</td>\n",
       "      <td>137.945408</td>\n",
       "    </tr>\n",
       "    <tr>\n",
       "      <th>4</th>\n",
       "      <td>AHL4O</td>\n",
       "      <td>12.702195</td>\n",
       "      <td>-8.147433</td>\n",
       "      <td>5.004363</td>\n",
       "      <td>134.766305</td>\n",
       "    </tr>\n",
       "    <tr>\n",
       "      <th>...</th>\n",
       "      <td>...</td>\n",
       "      <td>...</td>\n",
       "      <td>...</td>\n",
       "      <td>...</td>\n",
       "      <td>...</td>\n",
       "    </tr>\n",
       "    <tr>\n",
       "      <th>99995</th>\n",
       "      <td>QywKC</td>\n",
       "      <td>9.535637</td>\n",
       "      <td>-6.878139</td>\n",
       "      <td>1.998296</td>\n",
       "      <td>53.906522</td>\n",
       "    </tr>\n",
       "    <tr>\n",
       "      <th>99996</th>\n",
       "      <td>ptvty</td>\n",
       "      <td>-10.160631</td>\n",
       "      <td>-12.558096</td>\n",
       "      <td>5.005581</td>\n",
       "      <td>137.945408</td>\n",
       "    </tr>\n",
       "    <tr>\n",
       "      <th>99997</th>\n",
       "      <td>09gWa</td>\n",
       "      <td>-7.378891</td>\n",
       "      <td>-3.084104</td>\n",
       "      <td>4.998651</td>\n",
       "      <td>137.945408</td>\n",
       "    </tr>\n",
       "    <tr>\n",
       "      <th>99998</th>\n",
       "      <td>rqwUm</td>\n",
       "      <td>0.665714</td>\n",
       "      <td>-6.152593</td>\n",
       "      <td>1.000146</td>\n",
       "      <td>30.132364</td>\n",
       "    </tr>\n",
       "    <tr>\n",
       "      <th>99999</th>\n",
       "      <td>relB0</td>\n",
       "      <td>-3.426139</td>\n",
       "      <td>-7.794274</td>\n",
       "      <td>-0.003299</td>\n",
       "      <td>3.179103</td>\n",
       "    </tr>\n",
       "  </tbody>\n",
       "</table>\n",
       "<p>100000 rows × 5 columns</p>\n",
       "</div>"
      ],
      "text/plain": [
       "          id         f0         f1        f2     product\n",
       "0      kBEdx -15.001348  -8.276000 -0.005876    3.179103\n",
       "1      62mP7  14.272088  -3.475083  0.999183   26.953261\n",
       "2      vyE1P   6.263187  -5.948386  5.001160  134.766305\n",
       "3      KcrkZ -13.081196 -11.506057  4.999415  137.945408\n",
       "4      AHL4O  12.702195  -8.147433  5.004363  134.766305\n",
       "...      ...        ...        ...       ...         ...\n",
       "99995  QywKC   9.535637  -6.878139  1.998296   53.906522\n",
       "99996  ptvty -10.160631 -12.558096  5.005581  137.945408\n",
       "99997  09gWa  -7.378891  -3.084104  4.998651  137.945408\n",
       "99998  rqwUm   0.665714  -6.152593  1.000146   30.132364\n",
       "99999  relB0  -3.426139  -7.794274 -0.003299    3.179103\n",
       "\n",
       "[100000 rows x 5 columns]"
      ]
     },
     "execution_count": 4,
     "metadata": {},
     "output_type": "execute_result"
    }
   ],
   "source": [
    "geo_data_1"
   ]
  },
  {
   "cell_type": "code",
   "execution_count": 5,
   "metadata": {},
   "outputs": [
    {
     "data": {
      "text/html": [
       "<div>\n",
       "<style scoped>\n",
       "    .dataframe tbody tr th:only-of-type {\n",
       "        vertical-align: middle;\n",
       "    }\n",
       "\n",
       "    .dataframe tbody tr th {\n",
       "        vertical-align: top;\n",
       "    }\n",
       "\n",
       "    .dataframe thead th {\n",
       "        text-align: right;\n",
       "    }\n",
       "</style>\n",
       "<table border=\"1\" class=\"dataframe\">\n",
       "  <thead>\n",
       "    <tr style=\"text-align: right;\">\n",
       "      <th></th>\n",
       "      <th>id</th>\n",
       "      <th>f0</th>\n",
       "      <th>f1</th>\n",
       "      <th>f2</th>\n",
       "      <th>product</th>\n",
       "    </tr>\n",
       "  </thead>\n",
       "  <tbody>\n",
       "    <tr>\n",
       "      <th>0</th>\n",
       "      <td>fwXo0</td>\n",
       "      <td>-1.146987</td>\n",
       "      <td>0.963328</td>\n",
       "      <td>-0.828965</td>\n",
       "      <td>27.758673</td>\n",
       "    </tr>\n",
       "    <tr>\n",
       "      <th>1</th>\n",
       "      <td>WJtFt</td>\n",
       "      <td>0.262778</td>\n",
       "      <td>0.269839</td>\n",
       "      <td>-2.530187</td>\n",
       "      <td>56.069697</td>\n",
       "    </tr>\n",
       "    <tr>\n",
       "      <th>2</th>\n",
       "      <td>ovLUW</td>\n",
       "      <td>0.194587</td>\n",
       "      <td>0.289035</td>\n",
       "      <td>-5.586433</td>\n",
       "      <td>62.871910</td>\n",
       "    </tr>\n",
       "    <tr>\n",
       "      <th>3</th>\n",
       "      <td>q6cA6</td>\n",
       "      <td>2.236060</td>\n",
       "      <td>-0.553760</td>\n",
       "      <td>0.930038</td>\n",
       "      <td>114.572842</td>\n",
       "    </tr>\n",
       "    <tr>\n",
       "      <th>4</th>\n",
       "      <td>WPMUX</td>\n",
       "      <td>-0.515993</td>\n",
       "      <td>1.716266</td>\n",
       "      <td>5.899011</td>\n",
       "      <td>149.600746</td>\n",
       "    </tr>\n",
       "    <tr>\n",
       "      <th>...</th>\n",
       "      <td>...</td>\n",
       "      <td>...</td>\n",
       "      <td>...</td>\n",
       "      <td>...</td>\n",
       "      <td>...</td>\n",
       "    </tr>\n",
       "    <tr>\n",
       "      <th>99995</th>\n",
       "      <td>4GxBu</td>\n",
       "      <td>-1.777037</td>\n",
       "      <td>1.125220</td>\n",
       "      <td>6.263374</td>\n",
       "      <td>172.327046</td>\n",
       "    </tr>\n",
       "    <tr>\n",
       "      <th>99996</th>\n",
       "      <td>YKFjq</td>\n",
       "      <td>-1.261523</td>\n",
       "      <td>-0.894828</td>\n",
       "      <td>2.524545</td>\n",
       "      <td>138.748846</td>\n",
       "    </tr>\n",
       "    <tr>\n",
       "      <th>99997</th>\n",
       "      <td>tKPY3</td>\n",
       "      <td>-1.199934</td>\n",
       "      <td>-2.957637</td>\n",
       "      <td>5.219411</td>\n",
       "      <td>157.080080</td>\n",
       "    </tr>\n",
       "    <tr>\n",
       "      <th>99998</th>\n",
       "      <td>nmxp2</td>\n",
       "      <td>-2.419896</td>\n",
       "      <td>2.417221</td>\n",
       "      <td>-5.548444</td>\n",
       "      <td>51.795253</td>\n",
       "    </tr>\n",
       "    <tr>\n",
       "      <th>99999</th>\n",
       "      <td>V9kWn</td>\n",
       "      <td>-2.551421</td>\n",
       "      <td>-2.025625</td>\n",
       "      <td>6.090891</td>\n",
       "      <td>102.775767</td>\n",
       "    </tr>\n",
       "  </tbody>\n",
       "</table>\n",
       "<p>100000 rows × 5 columns</p>\n",
       "</div>"
      ],
      "text/plain": [
       "          id        f0        f1        f2     product\n",
       "0      fwXo0 -1.146987  0.963328 -0.828965   27.758673\n",
       "1      WJtFt  0.262778  0.269839 -2.530187   56.069697\n",
       "2      ovLUW  0.194587  0.289035 -5.586433   62.871910\n",
       "3      q6cA6  2.236060 -0.553760  0.930038  114.572842\n",
       "4      WPMUX -0.515993  1.716266  5.899011  149.600746\n",
       "...      ...       ...       ...       ...         ...\n",
       "99995  4GxBu -1.777037  1.125220  6.263374  172.327046\n",
       "99996  YKFjq -1.261523 -0.894828  2.524545  138.748846\n",
       "99997  tKPY3 -1.199934 -2.957637  5.219411  157.080080\n",
       "99998  nmxp2 -2.419896  2.417221 -5.548444   51.795253\n",
       "99999  V9kWn -2.551421 -2.025625  6.090891  102.775767\n",
       "\n",
       "[100000 rows x 5 columns]"
      ]
     },
     "execution_count": 5,
     "metadata": {},
     "output_type": "execute_result"
    }
   ],
   "source": [
    "geo_data_2"
   ]
  },
  {
   "cell_type": "markdown",
   "metadata": {},
   "source": [
    "Посмотрим на общую информацию"
   ]
  },
  {
   "cell_type": "code",
   "execution_count": 6,
   "metadata": {},
   "outputs": [
    {
     "name": "stdout",
     "output_type": "stream",
     "text": [
      "<class 'pandas.core.frame.DataFrame'>\n",
      "RangeIndex: 100000 entries, 0 to 99999\n",
      "Data columns (total 5 columns):\n",
      " #   Column   Non-Null Count   Dtype  \n",
      "---  ------   --------------   -----  \n",
      " 0   id       100000 non-null  object \n",
      " 1   f0       100000 non-null  float64\n",
      " 2   f1       100000 non-null  float64\n",
      " 3   f2       100000 non-null  float64\n",
      " 4   product  100000 non-null  float64\n",
      "dtypes: float64(4), object(1)\n",
      "memory usage: 3.8+ MB\n"
     ]
    }
   ],
   "source": [
    "geo_data_0.info()"
   ]
  },
  {
   "cell_type": "code",
   "execution_count": 7,
   "metadata": {},
   "outputs": [
    {
     "name": "stdout",
     "output_type": "stream",
     "text": [
      "<class 'pandas.core.frame.DataFrame'>\n",
      "RangeIndex: 100000 entries, 0 to 99999\n",
      "Data columns (total 5 columns):\n",
      " #   Column   Non-Null Count   Dtype  \n",
      "---  ------   --------------   -----  \n",
      " 0   id       100000 non-null  object \n",
      " 1   f0       100000 non-null  float64\n",
      " 2   f1       100000 non-null  float64\n",
      " 3   f2       100000 non-null  float64\n",
      " 4   product  100000 non-null  float64\n",
      "dtypes: float64(4), object(1)\n",
      "memory usage: 3.8+ MB\n"
     ]
    }
   ],
   "source": [
    "geo_data_1.info()"
   ]
  },
  {
   "cell_type": "code",
   "execution_count": 8,
   "metadata": {},
   "outputs": [
    {
     "name": "stdout",
     "output_type": "stream",
     "text": [
      "<class 'pandas.core.frame.DataFrame'>\n",
      "RangeIndex: 100000 entries, 0 to 99999\n",
      "Data columns (total 5 columns):\n",
      " #   Column   Non-Null Count   Dtype  \n",
      "---  ------   --------------   -----  \n",
      " 0   id       100000 non-null  object \n",
      " 1   f0       100000 non-null  float64\n",
      " 2   f1       100000 non-null  float64\n",
      " 3   f2       100000 non-null  float64\n",
      " 4   product  100000 non-null  float64\n",
      "dtypes: float64(4), object(1)\n",
      "memory usage: 3.8+ MB\n"
     ]
    }
   ],
   "source": [
    "geo_data_2.info()"
   ]
  },
  {
   "cell_type": "markdown",
   "metadata": {},
   "source": [
    "В данных отсутствуют пропуски. Типы данных соответствуют содержимому"
   ]
  },
  {
   "cell_type": "code",
   "execution_count": 9,
   "metadata": {},
   "outputs": [
    {
     "data": {
      "text/plain": [
       "count    100000.000000\n",
       "mean         92.500000\n",
       "std          44.288691\n",
       "min           0.000000\n",
       "25%          56.497507\n",
       "50%          91.849972\n",
       "75%         128.564089\n",
       "max         185.364347\n",
       "Name: product, dtype: float64"
      ]
     },
     "execution_count": 9,
     "metadata": {},
     "output_type": "execute_result"
    }
   ],
   "source": [
    "geo_data_0['product'].describe()"
   ]
  },
  {
   "cell_type": "code",
   "execution_count": 10,
   "metadata": {},
   "outputs": [
    {
     "data": {
      "text/plain": [
       "count    100000.000000\n",
       "mean         68.825000\n",
       "std          45.944423\n",
       "min           0.000000\n",
       "25%          26.953261\n",
       "50%          57.085625\n",
       "75%         107.813044\n",
       "max         137.945408\n",
       "Name: product, dtype: float64"
      ]
     },
     "execution_count": 10,
     "metadata": {},
     "output_type": "execute_result"
    }
   ],
   "source": [
    "geo_data_1['product'].describe()"
   ]
  },
  {
   "cell_type": "code",
   "execution_count": 11,
   "metadata": {},
   "outputs": [
    {
     "data": {
      "text/plain": [
       "count    100000.000000\n",
       "mean         95.000000\n",
       "std          44.749921\n",
       "min           0.000000\n",
       "25%          59.450441\n",
       "50%          94.925613\n",
       "75%         130.595027\n",
       "max         190.029838\n",
       "Name: product, dtype: float64"
      ]
     },
     "execution_count": 11,
     "metadata": {},
     "output_type": "execute_result"
    }
   ],
   "source": [
    "geo_data_2['product'].describe()"
   ]
  },
  {
   "cell_type": "markdown",
   "metadata": {},
   "source": [
    "Убедились что в колонке **product** отсутствуют аномальные (отрицательные) значения"
   ]
  },
  {
   "cell_type": "markdown",
   "metadata": {},
   "source": [
    "Природа данных в колонках **f0, f1, f2** не объясняется, соответственно не подлежат логическому анализу"
   ]
  },
  {
   "cell_type": "markdown",
   "metadata": {},
   "source": [
    "Колонку **id** (уникальный идентификатор скважины), можно удалить. Она не несет в себе  информативности (в условиях данной задачи)"
   ]
  },
  {
   "cell_type": "code",
   "execution_count": 12,
   "metadata": {},
   "outputs": [],
   "source": [
    "# удаление колонки id\n",
    "geo_data_0 = geo_data_0.drop(['id'], axis=1)\n",
    "geo_data_1 = geo_data_1.drop(['id'], axis=1)\n",
    "geo_data_2 = geo_data_2.drop(['id'], axis=1)"
   ]
  },
  {
   "cell_type": "markdown",
   "metadata": {},
   "source": [
    "Приступаем к следующему шагу"
   ]
  },
  {
   "cell_type": "markdown",
   "metadata": {},
   "source": [
    "## Обучение и проверка модели"
   ]
  },
  {
   "cell_type": "markdown",
   "metadata": {},
   "source": [
    "Разделим данные на признаки и целевой признак для каждого файла"
   ]
  },
  {
   "cell_type": "code",
   "execution_count": 13,
   "metadata": {},
   "outputs": [],
   "source": [
    "data_0_features = geo_data_0.drop(['product'], axis=1)\n",
    "data_0_target = geo_data_0['product']\n",
    "\n",
    "data_1_features = geo_data_1.drop(['product'], axis=1)\n",
    "data_1_target = geo_data_1['product']\n",
    "\n",
    "data_2_features = geo_data_2.drop(['product'], axis=1)\n",
    "data_2_target = geo_data_2['product']"
   ]
  },
  {
   "cell_type": "markdown",
   "metadata": {},
   "source": [
    "Разобьем данные на обучающую и валидационную выборки в соотношении 75:25"
   ]
  },
  {
   "cell_type": "code",
   "execution_count": 14,
   "metadata": {},
   "outputs": [],
   "source": [
    "features_train_0, features_valid_0, target_train_0, target_valid_0 = train_test_split(\n",
    "    data_0_features, data_0_target, test_size=0.25, random_state=333)\n",
    "\n",
    "features_train_1, features_valid_1, target_train_1, target_valid_1 = train_test_split(\n",
    "    data_1_features, data_1_target, test_size=0.25, random_state=333)\n",
    "\n",
    "features_train_2, features_valid_2, target_train_2, target_valid_2 = train_test_split(\n",
    "    data_2_features, data_2_target, test_size=0.25, random_state=333)\n"
   ]
  },
  {
   "cell_type": "code",
   "execution_count": 15,
   "metadata": {},
   "outputs": [
    {
     "name": "stdout",
     "output_type": "stream",
     "text": [
      "(75000, 3) (25000, 3) (75000,) (25000,)\n",
      "(75000, 3) (25000, 3) (75000,) (25000,)\n",
      "(75000, 3) (25000, 3) (75000,) (25000,)\n"
     ]
    }
   ],
   "source": [
    "print(features_train_0.shape, features_valid_0.shape, target_train_0.shape, target_valid_0.shape)\n",
    "print(features_train_1.shape, features_valid_1.shape, target_train_1.shape, target_valid_1.shape)\n",
    "print(features_train_2.shape, features_valid_2.shape, target_train_2.shape, target_valid_2.shape)"
   ]
  },
  {
   "cell_type": "markdown",
   "metadata": {},
   "source": [
    "Убедились что данные разбиты корректно "
   ]
  },
  {
   "cell_type": "markdown",
   "metadata": {},
   "source": [
    "Приступим к обучению модели. Для обучения будем использовать линейную регрессию (указано в условиях задачи)"
   ]
  },
  {
   "cell_type": "code",
   "execution_count": 16,
   "metadata": {},
   "outputs": [
    {
     "name": "stdout",
     "output_type": "stream",
     "text": [
      "Регион:  0\n",
      "RMSE:  37.596877500413\n",
      "средний запас предсказанного сырья:  92.25413811475417\n",
      "\n",
      "Регион:  1\n",
      "RMSE:  0.8847944517244747\n",
      "средний запас предсказанного сырья:  68.4687776046565\n",
      "\n",
      "Регион:  2\n",
      "RMSE:  39.844211967707004\n",
      "средний запас предсказанного сырья:  95.12352664262355\n",
      "\n"
     ]
    }
   ],
   "source": [
    "array = [[features_train_0, target_train_0, features_valid_0, target_valid_0, 0], \n",
    "         [features_train_1, target_train_1, features_valid_1, target_valid_1, 1], \n",
    "         [features_train_2, target_train_2, features_valid_2, target_valid_2, 2]]\n",
    "\n",
    "predicts = []\n",
    "\n",
    "for region_data in array:\n",
    "    model = LinearRegression()\n",
    "    model.fit(region_data[0], region_data[1])\n",
    "    predict = model.predict(region_data[2])\n",
    "    rmse = mean_squared_error(region_data[3], predict) ** 0.5\n",
    "    print('Регион: ', region_data[-1])\n",
    "    print('RMSE: ', rmse)\n",
    "    print('средний запас предсказанного сырья: ', predict.mean())\n",
    "    print()\n",
    "    predicts.append([rmse, predict])"
   ]
  },
  {
   "cell_type": "markdown",
   "metadata": {},
   "source": [
    "Сохраним предсказания в переменные "
   ]
  },
  {
   "cell_type": "code",
   "execution_count": 17,
   "metadata": {},
   "outputs": [],
   "source": [
    "predict_0 = predicts[0][-1]\n",
    "predict_1 = predicts[1][-1]\n",
    "predict_2 = predicts[2][-1]"
   ]
  },
  {
   "cell_type": "markdown",
   "metadata": {},
   "source": [
    "Переведем предсказания в **Series**"
   ]
  },
  {
   "cell_type": "code",
   "execution_count": 18,
   "metadata": {},
   "outputs": [],
   "source": [
    "predict_0 = pd.Series(predict_0)\n",
    "predict_1 = pd.Series(predict_1)\n",
    "predict_2 = pd.Series(predict_2)"
   ]
  },
  {
   "cell_type": "markdown",
   "metadata": {},
   "source": [
    "Показатель RMSE в **0** и во **2** регионах в районе *37* и *39* соответственно. Показатель RMSE в **регионе-1** составляет: *0.88*. Предсказания модели в регионе-1 на порядок качественнее чем в двух других"
   ]
  },
  {
   "cell_type": "markdown",
   "metadata": {},
   "source": [
    "Средний запас предсказанного сырья по регионам составляет:\n",
    "- 0:  **92.254**\n",
    "- 1:  **68.469**\n",
    "- 2:  **95.124**"
   ]
  },
  {
   "cell_type": "markdown",
   "metadata": {},
   "source": [
    "## Подготовка к расчёту прибыли"
   ]
  },
  {
   "cell_type": "markdown",
   "metadata": {},
   "source": [
    "**Условия задачи:**"
   ]
  },
  {
   "cell_type": "markdown",
   "metadata": {},
   "source": [
    "- При разведке региона исследуют 500 точек, из которых с помощью машинного обучения выбирают **200** лучших для разработки\n",
    "- Бюджет на разработку скважин в регионе — **10 млрд рублей**\n",
    "- Доход с каждой единицы продукта составляет — **450 тыс. рублей**"
   ]
  },
  {
   "cell_type": "code",
   "execution_count": 19,
   "metadata": {},
   "outputs": [],
   "source": [
    "BUDGET = 10_000_000_000\n",
    "INCOME_PER_UNIT = 450_000\n",
    "TOP_B_HOLES = 200\n",
    "SAMPLE_B_HOLES = 500"
   ]
  },
  {
   "cell_type": "markdown",
   "metadata": {},
   "source": [
    "Посчитаем доход за единицу продукта со всех (200) скважин"
   ]
  },
  {
   "cell_type": "code",
   "execution_count": 20,
   "metadata": {},
   "outputs": [
    {
     "data": {
      "text/plain": [
       "90000000"
      ]
     },
     "execution_count": 20,
     "metadata": {},
     "output_type": "execute_result"
    }
   ],
   "source": [
    "total_income = INCOME_PER_UNIT * TOP_B_HOLES\n",
    "total_income"
   ]
  },
  {
   "cell_type": "markdown",
   "metadata": {},
   "source": [
    "Доход за единицу продукта со всех скважин составил - **90 млн. рублей**\n",
    "\n",
    "Чтобы получить минимальный объем добычи для покрытия бюджета нужно поделить бюджет на доход за единицу"
   ]
  },
  {
   "cell_type": "code",
   "execution_count": 21,
   "metadata": {},
   "outputs": [
    {
     "data": {
      "text/plain": [
       "111.11111111111111"
      ]
     },
     "execution_count": 21,
     "metadata": {},
     "output_type": "execute_result"
    }
   ],
   "source": [
    "product = BUDGET / total_income\n",
    "product"
   ]
  },
  {
   "cell_type": "markdown",
   "metadata": {},
   "source": [
    "Объем сырья, необходимый для покрытия бюджета составляет - **111.111** "
   ]
  },
  {
   "cell_type": "markdown",
   "metadata": {},
   "source": [
    "Средний объем сырья предсказанный моделями составляет:\n",
    "- 0:  **92.254**\n",
    "- 1:  **68.469**\n",
    "- 2:  **95.124**"
   ]
  },
  {
   "cell_type": "markdown",
   "metadata": {},
   "source": [
    "Необходимый порог для безубыточной разработки привышает предсказания добычи по всем регионам"
   ]
  },
  {
   "cell_type": "markdown",
   "metadata": {},
   "source": [
    "## Расчёт прибыли и рисков "
   ]
  },
  {
   "cell_type": "markdown",
   "metadata": {},
   "source": [
    "Создадим функцию для подсчета прибыли\n",
    "\n",
    "Функция принимает в себя случайных 500 скважин с предсказанными объемами добычи и регион (0, 1, 2) берет лучшие 200 результата и возвращает общую прибыль"
   ]
  },
  {
   "cell_type": "code",
   "execution_count": 22,
   "metadata": {},
   "outputs": [],
   "source": [
    "def profit_calc(predict_500, region):\n",
    "    if region == 0:\n",
    "        buffer_target = target_valid_0.reset_index(drop=True)\n",
    "        buffer_predict_200 = predict_500.sort_values(ascending=False).head(TOP_B_HOLES)\n",
    "        top_200 = buffer_target[buffer_predict_200.index]\n",
    "    elif region == 1:\n",
    "        buffer_target = target_valid_1.reset_index(drop=True)\n",
    "        buffer_predict_200 = predict_500.sort_values(ascending=False).head(TOP_B_HOLES)\n",
    "        top_200 = buffer_target[buffer_predict_200.index]\n",
    "    elif region == 2:\n",
    "        buffer_target = target_valid_2.reset_index(drop=True)\n",
    "        buffer_predict_200 = predict_500.sort_values(ascending=False).head(TOP_B_HOLES)\n",
    "        top_200 = buffer_target[buffer_predict_200.index]\n",
    "    return (top_200.sum() * INCOME_PER_UNIT) - BUDGET"
   ]
  },
  {
   "cell_type": "markdown",
   "metadata": {},
   "source": [
    "с помощью **.sample** получим случайные 500 скважин"
   ]
  },
  {
   "cell_type": "code",
   "execution_count": 23,
   "metadata": {},
   "outputs": [],
   "source": [
    "sample_500_0 = predict_0.sample(n=500, replace=False, random_state=333)\n",
    "sample_500_1 = predict_1.sample(n=500, replace=False, random_state=333)\n",
    "sample_500_2 = predict_2.sample(n=500, replace=False, random_state=333)"
   ]
  },
  {
   "cell_type": "code",
   "execution_count": 24,
   "metadata": {},
   "outputs": [
    {
     "data": {
      "text/plain": [
       "24494621.089157104"
      ]
     },
     "execution_count": 24,
     "metadata": {},
     "output_type": "execute_result"
    }
   ],
   "source": [
    "profit_calc(sample_500_0, 0)"
   ]
  },
  {
   "cell_type": "code",
   "execution_count": 25,
   "metadata": {},
   "outputs": [
    {
     "data": {
      "text/plain": [
       "407773681.274168"
      ]
     },
     "execution_count": 25,
     "metadata": {},
     "output_type": "execute_result"
    }
   ],
   "source": [
    "profit_calc(sample_500_1, 1)"
   ]
  },
  {
   "cell_type": "code",
   "execution_count": 26,
   "metadata": {},
   "outputs": [
    {
     "data": {
      "text/plain": [
       "643525168.1565533"
      ]
     },
     "execution_count": 26,
     "metadata": {},
     "output_type": "execute_result"
    }
   ],
   "source": [
    "profit_calc(sample_500_2, 2)"
   ]
  },
  {
   "cell_type": "markdown",
   "metadata": {},
   "source": [
    "Из случайной выборки (500) лучшие 200 месторождений приносят прибыль:\n",
    "- в регионе - 0: **24,5 млн.**\n",
    "- в регионе - 1: **407,7 млн.**\n",
    "- в регионе - 2: **643,5 млн .**"
   ]
  },
  {
   "cell_type": "markdown",
   "metadata": {},
   "source": [
    "Это лишь одна случайная выборка\n",
    "\n",
    "Чтобы дать более качественную оценку предполагаемого дохода воспользуемся техникой Bootstrap"
   ]
  },
  {
   "cell_type": "code",
   "execution_count": 27,
   "metadata": {},
   "outputs": [],
   "source": [
    "def risk_calc(predict, region):\n",
    "    \n",
    "    state = RandomState(333)\n",
    "    total_income = [] # переменная хранит все рассчитанную прибыль всех 1000 итераций\n",
    "    \n",
    "    for i in range(1000):\n",
    "        subsample = predict.sample(n=SAMPLE_B_HOLES, replace=True, random_state=state) # выборка из 500 строк\n",
    "        profit = profit_calc(subsample, region) # обращаемся к ранее созданной функции для подсчета прибыли\n",
    "        total_income.append(profit / 1_000_000) # делим полученную прибыль/убыток на миллион для читабельности и сохр.\n",
    "        \n",
    "    total_income = pd.Series(total_income) # переводим list в Series для получения Квантилей \n",
    "    \n",
    "    lower = total_income.quantile(0.025) # левый квантиль\n",
    "    upper = total_income.quantile(0.975) # правый квантиль\n",
    "    \n",
    "    print(f'Риск убытка регион-{region}: {(total_income < 0).mean() * 100}%')   \n",
    "    print(f'Средняя прибыль: {total_income.mean():.2f} млн.') # средняя прибыль с 2 знаками после запятой \n",
    "    print(f'Доверительный интервал: {lower:.2f} | {upper:.2f}') "
   ]
  },
  {
   "cell_type": "code",
   "execution_count": 28,
   "metadata": {},
   "outputs": [
    {
     "name": "stdout",
     "output_type": "stream",
     "text": [
      "Риск убытка регион-0: 5.800000000000001%\n",
      "Средняя прибыль: 402.82 млн.\n",
      "Доверительный интервал: -107.16 | 870.61\n"
     ]
    }
   ],
   "source": [
    "risk_calc(predict_0, 0)"
   ]
  },
  {
   "cell_type": "code",
   "execution_count": 29,
   "metadata": {},
   "outputs": [
    {
     "name": "stdout",
     "output_type": "stream",
     "text": [
      "Риск убытка регион-1: 2.1%\n",
      "Средняя прибыль: 424.76 млн.\n",
      "Доверительный интервал: 21.61 | 798.09\n"
     ]
    }
   ],
   "source": [
    "risk_calc(predict_1, 1)"
   ]
  },
  {
   "cell_type": "code",
   "execution_count": 30,
   "metadata": {},
   "outputs": [
    {
     "name": "stdout",
     "output_type": "stream",
     "text": [
      "Риск убытка регион-2: 8.5%\n",
      "Средняя прибыль: 346.97 млн.\n",
      "Доверительный интервал: -188.57 | 818.91\n"
     ]
    }
   ],
   "source": [
    "risk_calc(predict_2, 2)"
   ]
  },
  {
   "cell_type": "markdown",
   "metadata": {},
   "source": [
    "Подведем итоги по каждому региону"
   ]
  },
  {
   "cell_type": "markdown",
   "metadata": {},
   "source": [
    "\n",
    "\n",
    "                        Регион - 0 | Регион - 1 | Регион - 2 | \n",
    "      Средняя прибыль: |402.82 млн | 424.76 млн | 346.97 млн |\n",
    "                 Риск: |    5.8%   |    2.1%    |    8.5%    |\n",
    "                 RMSE: |   37.60   |    0.88    |    39.84   |"
   ]
  },
  {
   "cell_type": "markdown",
   "metadata": {},
   "source": [
    "## Вывод"
   ]
  },
  {
   "cell_type": "markdown",
   "metadata": {},
   "source": [
    "Лучший показатель RMSE получился у региона - 1. Точность прогноза в сравнении с остальными видна невооруженным глазом. Из результатов полученных в ходе исследования худшим регионом для добычи стал Регион-2 с самым высоким показателем риска в 8.5% и самым низким показателем средней прибыли."
   ]
  },
  {
   "cell_type": "markdown",
   "metadata": {},
   "source": [
    "Я бы советовал Регион - 1. У него самая высокая средняя прибыль 424.76 млн. и самый низкий показатель риска 2.1%"
   ]
  }
 ],
 "metadata": {
  "ExecuteTimeLog": [
   {
    "duration": 476,
    "start_time": "2023-01-24T10:37:10.113Z"
   },
   {
    "duration": 1977,
    "start_time": "2023-01-24T10:38:01.681Z"
   },
   {
    "duration": 19,
    "start_time": "2023-01-24T10:38:13.951Z"
   },
   {
    "duration": 13,
    "start_time": "2023-01-24T10:38:15.492Z"
   },
   {
    "duration": 14,
    "start_time": "2023-01-24T10:38:16.752Z"
   },
   {
    "duration": 197,
    "start_time": "2023-01-24T10:46:52.908Z"
   },
   {
    "duration": 217,
    "start_time": "2023-01-24T10:47:29.836Z"
   },
   {
    "duration": 23,
    "start_time": "2023-01-24T10:50:00.414Z"
   },
   {
    "duration": 19,
    "start_time": "2023-01-24T10:50:08.921Z"
   },
   {
    "duration": 16,
    "start_time": "2023-01-24T10:52:11.752Z"
   },
   {
    "duration": 15,
    "start_time": "2023-01-24T10:52:13.139Z"
   },
   {
    "duration": 374,
    "start_time": "2023-01-24T15:01:20.961Z"
   },
   {
    "duration": 384,
    "start_time": "2023-01-24T15:01:27.661Z"
   },
   {
    "duration": 393,
    "start_time": "2023-01-24T15:01:29.180Z"
   },
   {
    "duration": 10,
    "start_time": "2023-01-24T15:01:58.017Z"
   },
   {
    "duration": 21,
    "start_time": "2023-01-24T15:01:59.813Z"
   },
   {
    "duration": 13,
    "start_time": "2023-01-24T15:02:50.063Z"
   },
   {
    "duration": 13,
    "start_time": "2023-01-24T15:02:51.777Z"
   },
   {
    "duration": 13,
    "start_time": "2023-01-24T15:02:53.155Z"
   },
   {
    "duration": 8,
    "start_time": "2023-01-24T15:05:09.148Z"
   },
   {
    "duration": 16,
    "start_time": "2023-01-24T15:05:13.211Z"
   },
   {
    "duration": 14,
    "start_time": "2023-01-24T15:06:02.066Z"
   },
   {
    "duration": 15,
    "start_time": "2023-01-24T15:06:03.415Z"
   },
   {
    "duration": 876,
    "start_time": "2023-01-24T15:09:59.946Z"
   },
   {
    "duration": 78,
    "start_time": "2023-01-24T15:10:40.916Z"
   },
   {
    "duration": 8,
    "start_time": "2023-01-24T15:11:17.212Z"
   },
   {
    "duration": 15,
    "start_time": "2023-01-24T15:11:28.818Z"
   },
   {
    "duration": 14,
    "start_time": "2023-01-24T15:12:09.922Z"
   },
   {
    "duration": 11,
    "start_time": "2023-01-24T15:12:11.316Z"
   },
   {
    "duration": 14,
    "start_time": "2023-01-24T15:18:16.544Z"
   },
   {
    "duration": 17,
    "start_time": "2023-01-24T15:18:21.520Z"
   },
   {
    "duration": 16,
    "start_time": "2023-01-24T15:18:25.685Z"
   },
   {
    "duration": 16,
    "start_time": "2023-01-24T15:18:29.941Z"
   },
   {
    "duration": 409,
    "start_time": "2023-01-24T15:19:36.128Z"
   },
   {
    "duration": 412,
    "start_time": "2023-01-24T15:19:36.998Z"
   },
   {
    "duration": 19,
    "start_time": "2023-01-24T15:19:37.938Z"
   },
   {
    "duration": 13,
    "start_time": "2023-01-24T15:19:41.699Z"
   },
   {
    "duration": 13,
    "start_time": "2023-01-24T15:19:42.387Z"
   },
   {
    "duration": 16,
    "start_time": "2023-01-24T15:19:43.637Z"
   },
   {
    "duration": 16,
    "start_time": "2023-01-24T15:19:43.986Z"
   },
   {
    "duration": 16,
    "start_time": "2023-01-24T15:19:44.376Z"
   },
   {
    "duration": 15,
    "start_time": "2023-01-24T15:19:45.294Z"
   },
   {
    "duration": 11,
    "start_time": "2023-01-24T15:19:45.691Z"
   },
   {
    "duration": 13,
    "start_time": "2023-01-24T15:19:46.378Z"
   },
   {
    "duration": 14,
    "start_time": "2023-01-24T15:19:48.005Z"
   },
   {
    "duration": 717,
    "start_time": "2023-01-24T15:26:29.172Z"
   },
   {
    "duration": 12,
    "start_time": "2023-01-24T15:30:26.821Z"
   },
   {
    "duration": 11,
    "start_time": "2023-01-24T15:30:36.103Z"
   },
   {
    "duration": 5,
    "start_time": "2023-01-24T15:30:42.588Z"
   },
   {
    "duration": 11,
    "start_time": "2023-01-24T15:30:50.572Z"
   },
   {
    "duration": 10,
    "start_time": "2023-01-24T15:30:56.997Z"
   },
   {
    "duration": 5,
    "start_time": "2023-01-24T15:31:09.212Z"
   },
   {
    "duration": 13,
    "start_time": "2023-01-24T15:37:23.852Z"
   },
   {
    "duration": 99,
    "start_time": "2023-01-24T15:40:16.270Z"
   },
   {
    "duration": 8,
    "start_time": "2023-01-24T15:40:52.818Z"
   },
   {
    "duration": 10,
    "start_time": "2023-01-24T15:42:13.991Z"
   },
   {
    "duration": 33,
    "start_time": "2023-01-24T15:43:13.292Z"
   },
   {
    "duration": 4,
    "start_time": "2023-01-24T15:44:35.795Z"
   },
   {
    "duration": 6,
    "start_time": "2023-01-24T15:45:56.497Z"
   },
   {
    "duration": 9,
    "start_time": "2023-01-24T16:28:49.014Z"
   },
   {
    "duration": 22,
    "start_time": "2023-01-24T16:28:54.222Z"
   },
   {
    "duration": 28,
    "start_time": "2023-01-24T16:29:00.415Z"
   },
   {
    "duration": 17,
    "start_time": "2023-01-24T16:29:12.851Z"
   },
   {
    "duration": 20,
    "start_time": "2023-01-24T16:35:47.420Z"
   },
   {
    "duration": 19,
    "start_time": "2023-01-24T16:37:22.614Z"
   },
   {
    "duration": 18,
    "start_time": "2023-01-24T16:38:37.389Z"
   },
   {
    "duration": 19,
    "start_time": "2023-01-24T16:38:59.599Z"
   },
   {
    "duration": 17,
    "start_time": "2023-01-24T16:39:54.783Z"
   },
   {
    "duration": 19,
    "start_time": "2023-01-24T16:40:03.186Z"
   },
   {
    "duration": 19,
    "start_time": "2023-01-24T16:40:27.911Z"
   },
   {
    "duration": 17,
    "start_time": "2023-01-24T16:40:36.209Z"
   },
   {
    "duration": 22,
    "start_time": "2023-01-24T16:40:42.340Z"
   },
   {
    "duration": 19,
    "start_time": "2023-01-24T16:41:23.979Z"
   },
   {
    "duration": 21,
    "start_time": "2023-01-24T16:42:17.163Z"
   },
   {
    "duration": 19,
    "start_time": "2023-01-24T16:46:28.885Z"
   },
   {
    "duration": 3,
    "start_time": "2023-01-24T17:06:37.457Z"
   },
   {
    "duration": 4,
    "start_time": "2023-01-24T17:06:43.583Z"
   },
   {
    "duration": 2,
    "start_time": "2023-01-24T17:07:03.978Z"
   },
   {
    "duration": 10,
    "start_time": "2023-01-24T17:15:33.723Z"
   },
   {
    "duration": 3,
    "start_time": "2023-01-24T17:15:36.807Z"
   },
   {
    "duration": 4,
    "start_time": "2023-01-24T17:15:37.513Z"
   },
   {
    "duration": 4,
    "start_time": "2023-01-24T17:16:40.868Z"
   },
   {
    "duration": 4,
    "start_time": "2023-01-24T17:16:50.898Z"
   },
   {
    "duration": 4,
    "start_time": "2023-01-24T17:17:07.737Z"
   },
   {
    "duration": 4,
    "start_time": "2023-01-24T17:17:21.296Z"
   },
   {
    "duration": 3,
    "start_time": "2023-01-24T17:26:38.277Z"
   },
   {
    "duration": 4,
    "start_time": "2023-01-24T17:26:41.945Z"
   },
   {
    "duration": 4,
    "start_time": "2023-01-24T17:29:37.137Z"
   },
   {
    "duration": 8,
    "start_time": "2023-01-24T17:56:10.032Z"
   },
   {
    "duration": 4,
    "start_time": "2023-01-24T17:56:32.863Z"
   },
   {
    "duration": 26,
    "start_time": "2023-01-24T17:56:51.770Z"
   },
   {
    "duration": 6,
    "start_time": "2023-01-24T17:57:12.629Z"
   },
   {
    "duration": 4,
    "start_time": "2023-01-24T17:57:26.047Z"
   },
   {
    "duration": 6,
    "start_time": "2023-01-24T17:57:31.814Z"
   },
   {
    "duration": 3,
    "start_time": "2023-01-24T17:58:28.183Z"
   },
   {
    "duration": 3,
    "start_time": "2023-01-24T18:00:19.859Z"
   },
   {
    "duration": 3,
    "start_time": "2023-01-24T18:00:22.992Z"
   },
   {
    "duration": 4,
    "start_time": "2023-01-24T18:00:49.649Z"
   },
   {
    "duration": 3,
    "start_time": "2023-01-24T18:03:09.030Z"
   },
   {
    "duration": 3,
    "start_time": "2023-01-24T18:03:09.561Z"
   },
   {
    "duration": 5,
    "start_time": "2023-01-24T18:03:10.447Z"
   },
   {
    "duration": 2,
    "start_time": "2023-01-24T18:06:05.674Z"
   },
   {
    "duration": 3,
    "start_time": "2023-01-24T18:06:13.214Z"
   },
   {
    "duration": 10,
    "start_time": "2023-01-24T18:06:41.664Z"
   },
   {
    "duration": 9,
    "start_time": "2023-01-24T18:06:53.483Z"
   },
   {
    "duration": 5,
    "start_time": "2023-01-24T18:07:27.542Z"
   },
   {
    "duration": 5,
    "start_time": "2023-01-24T18:07:36.797Z"
   },
   {
    "duration": 4,
    "start_time": "2023-01-24T18:07:42.384Z"
   },
   {
    "duration": 3,
    "start_time": "2023-01-24T18:36:21.853Z"
   },
   {
    "duration": 6,
    "start_time": "2023-01-24T18:36:25.621Z"
   },
   {
    "duration": 5,
    "start_time": "2023-01-24T18:36:31.729Z"
   },
   {
    "duration": 4,
    "start_time": "2023-01-24T18:36:37.928Z"
   },
   {
    "duration": 5,
    "start_time": "2023-01-24T18:36:40.926Z"
   },
   {
    "duration": 1047,
    "start_time": "2023-01-24T18:37:41.176Z"
   },
   {
    "duration": 384,
    "start_time": "2023-01-24T18:37:42.930Z"
   },
   {
    "duration": 20,
    "start_time": "2023-01-24T18:37:44.212Z"
   },
   {
    "duration": 18,
    "start_time": "2023-01-24T18:37:44.637Z"
   },
   {
    "duration": 19,
    "start_time": "2023-01-24T18:37:45.042Z"
   },
   {
    "duration": 16,
    "start_time": "2023-01-24T18:37:45.938Z"
   },
   {
    "duration": 14,
    "start_time": "2023-01-24T18:37:46.291Z"
   },
   {
    "duration": 16,
    "start_time": "2023-01-24T18:37:46.676Z"
   },
   {
    "duration": 13,
    "start_time": "2023-01-24T18:37:47.384Z"
   },
   {
    "duration": 11,
    "start_time": "2023-01-24T18:37:47.746Z"
   },
   {
    "duration": 13,
    "start_time": "2023-01-24T18:37:48.025Z"
   },
   {
    "duration": 13,
    "start_time": "2023-01-24T18:37:49.261Z"
   },
   {
    "duration": 10,
    "start_time": "2023-01-24T18:37:51.076Z"
   },
   {
    "duration": 33,
    "start_time": "2023-01-24T18:37:51.998Z"
   },
   {
    "duration": 5,
    "start_time": "2023-01-24T18:37:53.017Z"
   },
   {
    "duration": 21,
    "start_time": "2023-01-24T18:37:54.901Z"
   },
   {
    "duration": 18,
    "start_time": "2023-01-24T18:37:55.527Z"
   },
   {
    "duration": 20,
    "start_time": "2023-01-24T18:37:56.346Z"
   },
   {
    "duration": 3,
    "start_time": "2023-01-24T18:38:14.159Z"
   },
   {
    "duration": 104,
    "start_time": "2023-01-24T18:38:16.840Z"
   },
   {
    "duration": 3,
    "start_time": "2023-01-24T18:38:30.661Z"
   },
   {
    "duration": 3,
    "start_time": "2023-01-24T18:38:42.135Z"
   },
   {
    "duration": 5,
    "start_time": "2023-01-24T18:38:50.978Z"
   },
   {
    "duration": 56,
    "start_time": "2023-01-24T18:41:26.358Z"
   },
   {
    "duration": 41,
    "start_time": "2023-01-24T18:41:56.040Z"
   },
   {
    "duration": 3,
    "start_time": "2023-01-24T18:45:59.911Z"
   },
   {
    "duration": 18,
    "start_time": "2023-01-24T18:46:25.543Z"
   },
   {
    "duration": 15,
    "start_time": "2023-01-24T18:48:08.948Z"
   },
   {
    "duration": 22,
    "start_time": "2023-01-24T18:48:20.487Z"
   },
   {
    "duration": 3,
    "start_time": "2023-01-24T19:07:07.757Z"
   },
   {
    "duration": 3,
    "start_time": "2023-01-24T19:07:28.832Z"
   },
   {
    "duration": 3,
    "start_time": "2023-01-24T19:07:50.877Z"
   },
   {
    "duration": 7,
    "start_time": "2023-01-24T19:22:03.811Z"
   },
   {
    "duration": 1027,
    "start_time": "2023-01-24T19:33:40.168Z"
   },
   {
    "duration": 369,
    "start_time": "2023-01-24T19:33:42.611Z"
   },
   {
    "duration": 18,
    "start_time": "2023-01-24T19:33:44.963Z"
   },
   {
    "duration": 12,
    "start_time": "2023-01-24T19:33:45.486Z"
   },
   {
    "duration": 13,
    "start_time": "2023-01-24T19:33:46.175Z"
   },
   {
    "duration": 14,
    "start_time": "2023-01-24T19:33:47.686Z"
   },
   {
    "duration": 13,
    "start_time": "2023-01-24T19:33:48.296Z"
   },
   {
    "duration": 13,
    "start_time": "2023-01-24T19:33:48.755Z"
   },
   {
    "duration": 12,
    "start_time": "2023-01-24T19:33:49.731Z"
   },
   {
    "duration": 11,
    "start_time": "2023-01-24T19:33:50.127Z"
   },
   {
    "duration": 14,
    "start_time": "2023-01-24T19:33:50.569Z"
   },
   {
    "duration": 13,
    "start_time": "2023-01-24T19:33:56.968Z"
   },
   {
    "duration": 10,
    "start_time": "2023-01-24T19:34:00.833Z"
   },
   {
    "duration": 35,
    "start_time": "2023-01-24T19:34:02.974Z"
   },
   {
    "duration": 7,
    "start_time": "2023-01-24T19:34:05.047Z"
   },
   {
    "duration": 47,
    "start_time": "2023-01-24T19:34:07.187Z"
   },
   {
    "duration": 17,
    "start_time": "2023-01-24T19:34:08.980Z"
   },
   {
    "duration": 103,
    "start_time": "2023-01-24T19:34:10.719Z"
   },
   {
    "duration": 4,
    "start_time": "2023-01-24T19:34:19.845Z"
   },
   {
    "duration": 4,
    "start_time": "2023-01-24T19:34:22.655Z"
   },
   {
    "duration": 4,
    "start_time": "2023-01-24T19:34:24.576Z"
   },
   {
    "duration": 3,
    "start_time": "2023-01-24T19:34:32.131Z"
   },
   {
    "duration": 6,
    "start_time": "2023-01-24T19:36:41.785Z"
   },
   {
    "duration": 5,
    "start_time": "2023-01-24T19:36:58.051Z"
   },
   {
    "duration": 6,
    "start_time": "2023-01-24T19:37:04.812Z"
   },
   {
    "duration": 6,
    "start_time": "2023-01-24T19:37:17.953Z"
   },
   {
    "duration": 8,
    "start_time": "2023-01-24T19:37:34.422Z"
   },
   {
    "duration": 3,
    "start_time": "2023-01-24T19:38:53.663Z"
   },
   {
    "duration": 7,
    "start_time": "2023-01-24T19:38:54.435Z"
   },
   {
    "duration": 3,
    "start_time": "2023-01-24T19:38:55.375Z"
   },
   {
    "duration": 100,
    "start_time": "2023-01-24T19:39:01.137Z"
   },
   {
    "duration": 3,
    "start_time": "2023-01-24T19:39:21.738Z"
   },
   {
    "duration": 6,
    "start_time": "2023-01-24T19:39:23.020Z"
   },
   {
    "duration": 5,
    "start_time": "2023-01-24T19:39:45.426Z"
   },
   {
    "duration": 5,
    "start_time": "2023-01-24T19:39:46.500Z"
   },
   {
    "duration": 3,
    "start_time": "2023-01-24T19:40:42.287Z"
   },
   {
    "duration": 5,
    "start_time": "2023-01-24T19:45:17.315Z"
   },
   {
    "duration": 13,
    "start_time": "2023-01-24T19:51:22.858Z"
   },
   {
    "duration": 20,
    "start_time": "2023-01-24T19:51:45.635Z"
   },
   {
    "duration": 12,
    "start_time": "2023-01-24T19:51:59.157Z"
   },
   {
    "duration": 927,
    "start_time": "2023-01-24T19:52:42.543Z"
   },
   {
    "duration": 828,
    "start_time": "2023-01-24T19:53:42.230Z"
   },
   {
    "duration": 906,
    "start_time": "2023-01-24T19:53:58.226Z"
   },
   {
    "duration": 856,
    "start_time": "2023-01-24T19:57:37.545Z"
   },
   {
    "duration": 836,
    "start_time": "2023-01-24T19:59:09.091Z"
   },
   {
    "duration": 818,
    "start_time": "2023-01-24T19:59:28.942Z"
   },
   {
    "duration": 885,
    "start_time": "2023-01-24T20:02:55.162Z"
   },
   {
    "duration": 830,
    "start_time": "2023-01-24T20:04:01.069Z"
   },
   {
    "duration": 866,
    "start_time": "2023-01-24T20:04:04.757Z"
   },
   {
    "duration": 873,
    "start_time": "2023-01-24T20:04:06.246Z"
   },
   {
    "duration": 863,
    "start_time": "2023-01-24T20:04:08.014Z"
   },
   {
    "duration": 857,
    "start_time": "2023-01-24T20:04:09.709Z"
   },
   {
    "duration": 859,
    "start_time": "2023-01-24T20:04:11.376Z"
   },
   {
    "duration": 1035,
    "start_time": "2023-01-24T20:04:18.936Z"
   },
   {
    "duration": 1069,
    "start_time": "2023-01-24T20:04:20.573Z"
   },
   {
    "duration": 1083,
    "start_time": "2023-01-24T20:04:22.114Z"
   },
   {
    "duration": 1179,
    "start_time": "2023-01-24T20:04:24.190Z"
   },
   {
    "duration": 853,
    "start_time": "2023-01-24T20:04:31.473Z"
   },
   {
    "duration": 859,
    "start_time": "2023-01-24T20:05:56.642Z"
   },
   {
    "duration": 956,
    "start_time": "2023-01-24T20:06:33.060Z"
   },
   {
    "duration": 866,
    "start_time": "2023-01-24T20:07:20.012Z"
   },
   {
    "duration": 1138,
    "start_time": "2023-01-24T20:10:25.315Z"
   },
   {
    "duration": 1148,
    "start_time": "2023-01-24T20:11:16.233Z"
   },
   {
    "duration": 1093,
    "start_time": "2023-01-24T20:11:32.784Z"
   },
   {
    "duration": 1132,
    "start_time": "2023-01-24T20:13:29.177Z"
   },
   {
    "duration": 1145,
    "start_time": "2023-01-24T20:13:35.854Z"
   },
   {
    "duration": 1329,
    "start_time": "2023-01-24T20:14:27.537Z"
   },
   {
    "duration": 1286,
    "start_time": "2023-01-24T20:14:54.208Z"
   },
   {
    "duration": 3,
    "start_time": "2023-01-24T20:17:21.808Z"
   },
   {
    "duration": 11,
    "start_time": "2023-01-24T20:17:25.453Z"
   },
   {
    "duration": 6,
    "start_time": "2023-01-24T20:17:26.814Z"
   },
   {
    "duration": 6,
    "start_time": "2023-01-24T20:17:29.023Z"
   },
   {
    "duration": 6,
    "start_time": "2023-01-24T20:17:30.168Z"
   },
   {
    "duration": 4,
    "start_time": "2023-01-24T20:18:41.378Z"
   },
   {
    "duration": 9,
    "start_time": "2023-01-24T20:18:42.172Z"
   },
   {
    "duration": 6,
    "start_time": "2023-01-24T20:18:43.317Z"
   },
   {
    "duration": 6,
    "start_time": "2023-01-24T20:18:44.154Z"
   },
   {
    "duration": 6,
    "start_time": "2023-01-24T20:18:45.250Z"
   },
   {
    "duration": 3,
    "start_time": "2023-01-24T20:19:10.986Z"
   },
   {
    "duration": 7,
    "start_time": "2023-01-24T20:19:11.637Z"
   },
   {
    "duration": 5,
    "start_time": "2023-01-24T20:19:12.632Z"
   },
   {
    "duration": 4,
    "start_time": "2023-01-24T20:19:21.512Z"
   },
   {
    "duration": 8,
    "start_time": "2023-01-24T20:19:22.127Z"
   },
   {
    "duration": 5,
    "start_time": "2023-01-24T20:19:23.054Z"
   },
   {
    "duration": 5,
    "start_time": "2023-01-24T20:19:24.117Z"
   },
   {
    "duration": 7,
    "start_time": "2023-01-24T20:19:25.063Z"
   },
   {
    "duration": 3,
    "start_time": "2023-01-24T20:20:48.009Z"
   },
   {
    "duration": 6,
    "start_time": "2023-01-24T20:20:49.199Z"
   },
   {
    "duration": 6,
    "start_time": "2023-01-24T20:20:50.993Z"
   },
   {
    "duration": 6,
    "start_time": "2023-01-24T20:20:54.620Z"
   },
   {
    "duration": 6,
    "start_time": "2023-01-24T20:20:55.306Z"
   },
   {
    "duration": 1157,
    "start_time": "2023-01-24T20:22:27.791Z"
   },
   {
    "duration": 3,
    "start_time": "2023-01-24T20:22:57.613Z"
   },
   {
    "duration": 10,
    "start_time": "2023-01-24T20:22:58.486Z"
   },
   {
    "duration": 7,
    "start_time": "2023-01-24T20:22:59.182Z"
   },
   {
    "duration": 6,
    "start_time": "2023-01-24T20:22:59.872Z"
   },
   {
    "duration": 6,
    "start_time": "2023-01-24T20:23:01.180Z"
   },
   {
    "duration": 1156,
    "start_time": "2023-01-24T20:23:05.214Z"
   },
   {
    "duration": 1605,
    "start_time": "2023-01-24T20:26:40.932Z"
   },
   {
    "duration": 1205,
    "start_time": "2023-01-24T20:27:12.073Z"
   },
   {
    "duration": 861,
    "start_time": "2023-01-24T20:28:07.988Z"
   },
   {
    "duration": 854,
    "start_time": "2023-01-24T20:28:59.210Z"
   },
   {
    "duration": 834,
    "start_time": "2023-01-24T20:29:22.424Z"
   },
   {
    "duration": 823,
    "start_time": "2023-01-24T20:32:38.548Z"
   },
   {
    "duration": 4,
    "start_time": "2023-01-24T20:35:26.800Z"
   },
   {
    "duration": 7,
    "start_time": "2023-01-24T20:35:27.805Z"
   },
   {
    "duration": 6,
    "start_time": "2023-01-24T20:35:29.204Z"
   },
   {
    "duration": 5,
    "start_time": "2023-01-24T20:35:30.116Z"
   },
   {
    "duration": 5,
    "start_time": "2023-01-24T20:35:30.905Z"
   },
   {
    "duration": 3,
    "start_time": "2023-01-24T20:35:39.797Z"
   },
   {
    "duration": 6,
    "start_time": "2023-01-24T20:35:40.921Z"
   },
   {
    "duration": 5,
    "start_time": "2023-01-24T20:35:42.182Z"
   },
   {
    "duration": 5,
    "start_time": "2023-01-24T20:35:43.051Z"
   },
   {
    "duration": 5,
    "start_time": "2023-01-24T20:35:43.806Z"
   },
   {
    "duration": 814,
    "start_time": "2023-01-24T20:37:06.035Z"
   },
   {
    "duration": 862,
    "start_time": "2023-01-24T20:37:13.791Z"
   },
   {
    "duration": 875,
    "start_time": "2023-01-24T20:37:23.544Z"
   },
   {
    "duration": 72,
    "start_time": "2023-01-24T20:42:06.493Z"
   },
   {
    "duration": 852,
    "start_time": "2023-01-24T20:42:15.771Z"
   },
   {
    "duration": 87,
    "start_time": "2023-01-24T20:44:08.830Z"
   },
   {
    "duration": 5,
    "start_time": "2023-01-24T20:44:33.013Z"
   },
   {
    "duration": 830,
    "start_time": "2023-01-24T20:44:47.063Z"
   },
   {
    "duration": 843,
    "start_time": "2023-01-24T20:44:59.215Z"
   },
   {
    "duration": 841,
    "start_time": "2023-01-24T20:45:13.122Z"
   },
   {
    "duration": 807,
    "start_time": "2023-01-24T20:45:48.475Z"
   },
   {
    "duration": 787,
    "start_time": "2023-01-24T20:45:52.126Z"
   },
   {
    "duration": 782,
    "start_time": "2023-01-24T20:46:03.238Z"
   },
   {
    "duration": 844,
    "start_time": "2023-01-24T20:46:26.559Z"
   },
   {
    "duration": 849,
    "start_time": "2023-01-24T20:47:10.501Z"
   },
   {
    "duration": 937,
    "start_time": "2023-01-24T20:47:20.221Z"
   },
   {
    "duration": 823,
    "start_time": "2023-01-24T20:47:52.108Z"
   },
   {
    "duration": 823,
    "start_time": "2023-01-24T20:48:07.653Z"
   },
   {
    "duration": 825,
    "start_time": "2023-01-24T20:48:16.952Z"
   },
   {
    "duration": 852,
    "start_time": "2023-01-24T20:48:29.531Z"
   },
   {
    "duration": 874,
    "start_time": "2023-01-24T20:49:28.719Z"
   },
   {
    "duration": 808,
    "start_time": "2023-01-24T20:49:39.484Z"
   },
   {
    "duration": 811,
    "start_time": "2023-01-24T20:50:36.470Z"
   },
   {
    "duration": 808,
    "start_time": "2023-01-24T20:54:36.860Z"
   },
   {
    "duration": 818,
    "start_time": "2023-01-24T20:54:39.143Z"
   },
   {
    "duration": 819,
    "start_time": "2023-01-24T20:54:42.141Z"
   },
   {
    "duration": 863,
    "start_time": "2023-01-24T20:54:55.869Z"
   },
   {
    "duration": 855,
    "start_time": "2023-01-24T20:54:57.607Z"
   },
   {
    "duration": 840,
    "start_time": "2023-01-24T20:54:59.199Z"
   },
   {
    "duration": 832,
    "start_time": "2023-01-24T20:55:03.064Z"
   },
   {
    "duration": 3,
    "start_time": "2023-01-24T20:55:25.826Z"
   },
   {
    "duration": 843,
    "start_time": "2023-01-24T20:55:26.869Z"
   },
   {
    "duration": 846,
    "start_time": "2023-01-24T20:55:28.741Z"
   },
   {
    "duration": 875,
    "start_time": "2023-01-24T20:55:30.405Z"
   },
   {
    "duration": 3,
    "start_time": "2023-01-24T20:55:58.261Z"
   },
   {
    "duration": 821,
    "start_time": "2023-01-24T20:55:59.178Z"
   },
   {
    "duration": 815,
    "start_time": "2023-01-24T20:56:01.394Z"
   },
   {
    "duration": 803,
    "start_time": "2023-01-24T20:56:03.387Z"
   },
   {
    "duration": 1089,
    "start_time": "2023-01-24T20:56:45.884Z"
   },
   {
    "duration": 377,
    "start_time": "2023-01-24T20:56:46.975Z"
   },
   {
    "duration": 18,
    "start_time": "2023-01-24T20:56:47.354Z"
   },
   {
    "duration": 13,
    "start_time": "2023-01-24T20:56:47.374Z"
   },
   {
    "duration": 12,
    "start_time": "2023-01-24T20:56:47.388Z"
   },
   {
    "duration": 37,
    "start_time": "2023-01-24T20:56:47.401Z"
   },
   {
    "duration": 13,
    "start_time": "2023-01-24T20:56:47.440Z"
   },
   {
    "duration": 13,
    "start_time": "2023-01-24T20:56:47.455Z"
   },
   {
    "duration": 11,
    "start_time": "2023-01-24T20:56:47.470Z"
   },
   {
    "duration": 41,
    "start_time": "2023-01-24T20:56:47.485Z"
   },
   {
    "duration": 12,
    "start_time": "2023-01-24T20:56:47.528Z"
   },
   {
    "duration": 15,
    "start_time": "2023-01-24T20:56:47.542Z"
   },
   {
    "duration": 12,
    "start_time": "2023-01-24T20:56:47.558Z"
   },
   {
    "duration": 55,
    "start_time": "2023-01-24T20:56:47.571Z"
   },
   {
    "duration": 5,
    "start_time": "2023-01-24T20:56:47.628Z"
   },
   {
    "duration": 91,
    "start_time": "2023-01-24T20:56:47.634Z"
   },
   {
    "duration": 104,
    "start_time": "2023-01-24T20:56:47.728Z"
   },
   {
    "duration": 196,
    "start_time": "2023-01-24T20:56:47.837Z"
   },
   {
    "duration": 85,
    "start_time": "2023-01-24T20:56:48.035Z"
   },
   {
    "duration": 101,
    "start_time": "2023-01-24T20:56:48.122Z"
   },
   {
    "duration": 6,
    "start_time": "2023-01-24T20:56:48.225Z"
   },
   {
    "duration": 5,
    "start_time": "2023-01-24T20:56:48.232Z"
   },
   {
    "duration": 8,
    "start_time": "2023-01-24T20:56:48.239Z"
   },
   {
    "duration": 5,
    "start_time": "2023-01-24T20:56:48.248Z"
   },
   {
    "duration": 7,
    "start_time": "2023-01-24T20:56:48.254Z"
   },
   {
    "duration": 6,
    "start_time": "2023-01-24T20:56:48.262Z"
   },
   {
    "duration": 7,
    "start_time": "2023-01-24T20:56:48.270Z"
   },
   {
    "duration": 835,
    "start_time": "2023-01-24T20:56:48.279Z"
   },
   {
    "duration": 818,
    "start_time": "2023-01-24T20:56:49.116Z"
   },
   {
    "duration": 851,
    "start_time": "2023-01-24T20:56:49.936Z"
   },
   {
    "duration": 369,
    "start_time": "2023-01-24T21:03:18.972Z"
   },
   {
    "duration": 825,
    "start_time": "2023-01-24T21:03:42.862Z"
   },
   {
    "duration": 1050,
    "start_time": "2023-01-24T21:04:47.758Z"
   },
   {
    "duration": 384,
    "start_time": "2023-01-24T21:04:48.810Z"
   },
   {
    "duration": 17,
    "start_time": "2023-01-24T21:04:49.196Z"
   },
   {
    "duration": 14,
    "start_time": "2023-01-24T21:04:49.215Z"
   },
   {
    "duration": 12,
    "start_time": "2023-01-24T21:04:49.231Z"
   },
   {
    "duration": 16,
    "start_time": "2023-01-24T21:04:49.244Z"
   },
   {
    "duration": 14,
    "start_time": "2023-01-24T21:04:49.262Z"
   },
   {
    "duration": 14,
    "start_time": "2023-01-24T21:04:49.277Z"
   },
   {
    "duration": 38,
    "start_time": "2023-01-24T21:04:49.293Z"
   },
   {
    "duration": 11,
    "start_time": "2023-01-24T21:04:49.333Z"
   },
   {
    "duration": 11,
    "start_time": "2023-01-24T21:04:49.345Z"
   },
   {
    "duration": 12,
    "start_time": "2023-01-24T21:04:49.358Z"
   },
   {
    "duration": 13,
    "start_time": "2023-01-24T21:04:49.373Z"
   },
   {
    "duration": 64,
    "start_time": "2023-01-24T21:04:49.389Z"
   },
   {
    "duration": 5,
    "start_time": "2023-01-24T21:04:49.454Z"
   },
   {
    "duration": 63,
    "start_time": "2023-01-24T21:04:49.461Z"
   },
   {
    "duration": 108,
    "start_time": "2023-01-24T21:04:49.526Z"
   },
   {
    "duration": 93,
    "start_time": "2023-01-24T21:04:49.636Z"
   },
   {
    "duration": 99,
    "start_time": "2023-01-24T21:04:49.823Z"
   },
   {
    "duration": 7,
    "start_time": "2023-01-24T21:04:49.924Z"
   },
   {
    "duration": 12,
    "start_time": "2023-01-24T21:04:49.932Z"
   },
   {
    "duration": 10,
    "start_time": "2023-01-24T21:04:49.945Z"
   },
   {
    "duration": 12,
    "start_time": "2023-01-24T21:04:49.956Z"
   },
   {
    "duration": 6,
    "start_time": "2023-01-24T21:04:49.970Z"
   },
   {
    "duration": 6,
    "start_time": "2023-01-24T21:04:49.978Z"
   },
   {
    "duration": 6,
    "start_time": "2023-01-24T21:04:49.985Z"
   },
   {
    "duration": 4,
    "start_time": "2023-01-24T21:04:49.992Z"
   },
   {
    "duration": 874,
    "start_time": "2023-01-24T21:04:49.998Z"
   },
   {
    "duration": 843,
    "start_time": "2023-01-24T21:04:50.873Z"
   },
   {
    "duration": 849,
    "start_time": "2023-01-24T21:04:51.718Z"
   },
   {
    "duration": 389,
    "start_time": "2023-01-24T21:05:05.465Z"
   },
   {
    "duration": 397,
    "start_time": "2023-01-24T21:05:10.788Z"
   },
   {
    "duration": 394,
    "start_time": "2023-01-24T21:05:17.748Z"
   },
   {
    "duration": 363,
    "start_time": "2023-01-24T21:05:19.776Z"
   },
   {
    "duration": 395,
    "start_time": "2023-01-24T21:05:21.272Z"
   },
   {
    "duration": 382,
    "start_time": "2023-01-24T21:05:23.045Z"
   },
   {
    "duration": 468,
    "start_time": "2023-01-24T21:05:24.091Z"
   },
   {
    "duration": 421,
    "start_time": "2023-01-24T21:05:24.977Z"
   },
   {
    "duration": 408,
    "start_time": "2023-01-24T21:05:25.773Z"
   },
   {
    "duration": 404,
    "start_time": "2023-01-24T21:05:26.921Z"
   },
   {
    "duration": 423,
    "start_time": "2023-01-24T21:05:27.749Z"
   },
   {
    "duration": 402,
    "start_time": "2023-01-24T21:05:28.603Z"
   },
   {
    "duration": 417,
    "start_time": "2023-01-24T21:05:29.715Z"
   },
   {
    "duration": 393,
    "start_time": "2023-01-24T21:05:31.617Z"
   },
   {
    "duration": 390,
    "start_time": "2023-01-24T21:05:32.658Z"
   },
   {
    "duration": 382,
    "start_time": "2023-01-24T21:05:33.455Z"
   },
   {
    "duration": 459,
    "start_time": "2023-01-24T21:05:34.213Z"
   },
   {
    "duration": 393,
    "start_time": "2023-01-24T21:05:35.269Z"
   },
   {
    "duration": 417,
    "start_time": "2023-01-24T21:05:36.408Z"
   },
   {
    "duration": 391,
    "start_time": "2023-01-24T21:05:37.257Z"
   },
   {
    "duration": 855,
    "start_time": "2023-01-24T21:05:43.515Z"
   },
   {
    "duration": 847,
    "start_time": "2023-01-24T21:05:45.329Z"
   },
   {
    "duration": 849,
    "start_time": "2023-01-24T21:05:46.829Z"
   },
   {
    "duration": 833,
    "start_time": "2023-01-24T21:05:49.648Z"
   },
   {
    "duration": 393,
    "start_time": "2023-01-24T21:05:55.293Z"
   },
   {
    "duration": 407,
    "start_time": "2023-01-24T21:05:56.906Z"
   },
   {
    "duration": 398,
    "start_time": "2023-01-24T21:05:58.011Z"
   },
   {
    "duration": 396,
    "start_time": "2023-01-24T21:05:59.013Z"
   },
   {
    "duration": 404,
    "start_time": "2023-01-24T21:06:00.352Z"
   },
   {
    "duration": 406,
    "start_time": "2023-01-24T21:06:03.401Z"
   },
   {
    "duration": 410,
    "start_time": "2023-01-24T21:06:05.122Z"
   },
   {
    "duration": 405,
    "start_time": "2023-01-24T21:06:06.733Z"
   },
   {
    "duration": 411,
    "start_time": "2023-01-24T21:06:07.645Z"
   },
   {
    "duration": 410,
    "start_time": "2023-01-24T21:06:08.659Z"
   },
   {
    "duration": 397,
    "start_time": "2023-01-24T21:06:09.560Z"
   },
   {
    "duration": 411,
    "start_time": "2023-01-24T21:06:10.389Z"
   },
   {
    "duration": 8,
    "start_time": "2023-01-24T21:06:54.060Z"
   },
   {
    "duration": 7,
    "start_time": "2023-01-24T21:06:55.102Z"
   },
   {
    "duration": 7,
    "start_time": "2023-01-24T21:06:55.547Z"
   },
   {
    "duration": 8,
    "start_time": "2023-01-24T21:06:55.988Z"
   },
   {
    "duration": 8,
    "start_time": "2023-01-24T21:06:56.941Z"
   },
   {
    "duration": 5,
    "start_time": "2023-01-24T21:07:00.995Z"
   },
   {
    "duration": 5,
    "start_time": "2023-01-24T21:07:01.885Z"
   },
   {
    "duration": 6,
    "start_time": "2023-01-24T21:07:02.656Z"
   },
   {
    "duration": 7,
    "start_time": "2023-01-24T21:07:03.802Z"
   },
   {
    "duration": 7,
    "start_time": "2023-01-24T21:07:04.496Z"
   },
   {
    "duration": 5,
    "start_time": "2023-01-24T21:07:05.365Z"
   },
   {
    "duration": 5,
    "start_time": "2023-01-24T21:07:06.432Z"
   },
   {
    "duration": 4,
    "start_time": "2023-01-24T21:07:07.218Z"
   },
   {
    "duration": 3,
    "start_time": "2023-01-24T21:07:09.509Z"
   },
   {
    "duration": 845,
    "start_time": "2023-01-24T21:07:11.738Z"
   },
   {
    "duration": 841,
    "start_time": "2023-01-24T21:07:13.150Z"
   },
   {
    "duration": 905,
    "start_time": "2023-01-24T21:07:14.610Z"
   },
   {
    "duration": 836,
    "start_time": "2023-01-24T21:07:15.988Z"
   },
   {
    "duration": 829,
    "start_time": "2023-01-24T21:07:17.283Z"
   },
   {
    "duration": 808,
    "start_time": "2023-01-24T21:07:18.539Z"
   },
   {
    "duration": 882,
    "start_time": "2023-01-24T21:09:03.775Z"
   },
   {
    "duration": 808,
    "start_time": "2023-01-24T21:09:05.804Z"
   },
   {
    "duration": 787,
    "start_time": "2023-01-24T21:09:07.512Z"
   },
   {
    "duration": 816,
    "start_time": "2023-01-24T21:09:08.916Z"
   },
   {
    "duration": 3,
    "start_time": "2023-01-24T21:09:14.880Z"
   },
   {
    "duration": 835,
    "start_time": "2023-01-24T21:09:15.884Z"
   },
   {
    "duration": 795,
    "start_time": "2023-01-24T21:09:17.468Z"
   },
   {
    "duration": 836,
    "start_time": "2023-01-24T21:09:18.811Z"
   },
   {
    "duration": 837,
    "start_time": "2023-01-24T21:09:20.207Z"
   },
   {
    "duration": 811,
    "start_time": "2023-01-24T21:09:21.381Z"
   },
   {
    "duration": 874,
    "start_time": "2023-01-24T21:09:24.106Z"
   },
   {
    "duration": 796,
    "start_time": "2023-01-24T21:10:09.177Z"
   },
   {
    "duration": 820,
    "start_time": "2023-01-24T21:10:10.380Z"
   },
   {
    "duration": 799,
    "start_time": "2023-01-24T21:10:11.525Z"
   },
   {
    "duration": 801,
    "start_time": "2023-01-24T21:10:12.650Z"
   },
   {
    "duration": 900,
    "start_time": "2023-01-24T21:10:13.726Z"
   },
   {
    "duration": 869,
    "start_time": "2023-01-24T21:10:14.892Z"
   },
   {
    "duration": 403,
    "start_time": "2023-01-24T21:10:19.475Z"
   },
   {
    "duration": 411,
    "start_time": "2023-01-24T21:10:20.949Z"
   },
   {
    "duration": 395,
    "start_time": "2023-01-24T21:10:21.856Z"
   },
   {
    "duration": 407,
    "start_time": "2023-01-24T21:10:22.701Z"
   },
   {
    "duration": 403,
    "start_time": "2023-01-24T21:10:23.514Z"
   },
   {
    "duration": 473,
    "start_time": "2023-01-24T21:10:24.402Z"
   },
   {
    "duration": 418,
    "start_time": "2023-01-24T21:10:25.426Z"
   },
   {
    "duration": 801,
    "start_time": "2023-01-24T21:10:28.931Z"
   },
   {
    "duration": 828,
    "start_time": "2023-01-24T21:10:30.848Z"
   },
   {
    "duration": 821,
    "start_time": "2023-01-24T21:10:32.038Z"
   },
   {
    "duration": 801,
    "start_time": "2023-01-24T21:10:33.404Z"
   },
   {
    "duration": 920,
    "start_time": "2023-01-24T21:11:57.454Z"
   },
   {
    "duration": 855,
    "start_time": "2023-01-24T21:12:08.306Z"
   },
   {
    "duration": 821,
    "start_time": "2023-01-24T21:12:10.284Z"
   },
   {
    "duration": 792,
    "start_time": "2023-01-24T21:12:11.728Z"
   },
   {
    "duration": 801,
    "start_time": "2023-01-24T21:12:13.305Z"
   },
   {
    "duration": 816,
    "start_time": "2023-01-24T21:12:48.906Z"
   },
   {
    "duration": 838,
    "start_time": "2023-01-24T21:12:50.153Z"
   },
   {
    "duration": 794,
    "start_time": "2023-01-24T21:12:51.511Z"
   },
   {
    "duration": 818,
    "start_time": "2023-01-24T21:13:03.001Z"
   },
   {
    "duration": 801,
    "start_time": "2023-01-24T21:13:06.975Z"
   },
   {
    "duration": 832,
    "start_time": "2023-01-24T21:13:08.151Z"
   },
   {
    "duration": 832,
    "start_time": "2023-01-24T21:13:30.513Z"
   },
   {
    "duration": 824,
    "start_time": "2023-01-24T21:13:32.361Z"
   },
   {
    "duration": 824,
    "start_time": "2023-01-24T21:13:33.653Z"
   },
   {
    "duration": 414,
    "start_time": "2023-01-24T21:13:53.224Z"
   },
   {
    "duration": 396,
    "start_time": "2023-01-24T21:13:58.756Z"
   },
   {
    "duration": 800,
    "start_time": "2023-01-24T21:14:03.278Z"
   },
   {
    "duration": 862,
    "start_time": "2023-01-24T21:14:04.567Z"
   },
   {
    "duration": 853,
    "start_time": "2023-01-24T21:14:05.834Z"
   },
   {
    "duration": 796,
    "start_time": "2023-01-24T21:14:07.045Z"
   },
   {
    "duration": 852,
    "start_time": "2023-01-24T21:14:08.210Z"
   },
   {
    "duration": 834,
    "start_time": "2023-01-24T21:14:09.402Z"
   },
   {
    "duration": 416,
    "start_time": "2023-01-24T21:14:10.954Z"
   },
   {
    "duration": 391,
    "start_time": "2023-01-24T21:14:12.462Z"
   },
   {
    "duration": 378,
    "start_time": "2023-01-24T21:14:13.428Z"
   },
   {
    "duration": 446,
    "start_time": "2023-01-24T21:14:14.238Z"
   },
   {
    "duration": 441,
    "start_time": "2023-01-24T21:14:15.016Z"
   },
   {
    "duration": 420,
    "start_time": "2023-01-24T21:14:15.795Z"
   },
   {
    "duration": 397,
    "start_time": "2023-01-24T21:14:16.599Z"
   },
   {
    "duration": 410,
    "start_time": "2023-01-24T21:14:18.039Z"
   },
   {
    "duration": 391,
    "start_time": "2023-01-24T21:14:18.954Z"
   },
   {
    "duration": 389,
    "start_time": "2023-01-24T21:14:19.741Z"
   },
   {
    "duration": 422,
    "start_time": "2023-01-24T21:14:20.584Z"
   },
   {
    "duration": 428,
    "start_time": "2023-01-24T21:14:21.328Z"
   },
   {
    "duration": 428,
    "start_time": "2023-01-24T21:14:22.118Z"
   },
   {
    "duration": 445,
    "start_time": "2023-01-24T21:14:22.863Z"
   },
   {
    "duration": 410,
    "start_time": "2023-01-24T21:14:23.700Z"
   },
   {
    "duration": 1090,
    "start_time": "2023-01-24T21:17:59.173Z"
   },
   {
    "duration": 383,
    "start_time": "2023-01-24T21:18:02.597Z"
   },
   {
    "duration": 32,
    "start_time": "2023-01-24T21:18:04.311Z"
   },
   {
    "duration": 18,
    "start_time": "2023-01-24T21:18:06.111Z"
   },
   {
    "duration": 13,
    "start_time": "2023-01-24T21:18:07.987Z"
   },
   {
    "duration": 16,
    "start_time": "2023-01-24T21:18:11.380Z"
   },
   {
    "duration": 16,
    "start_time": "2023-01-24T21:18:12.771Z"
   },
   {
    "duration": 15,
    "start_time": "2023-01-24T21:18:14.407Z"
   },
   {
    "duration": 13,
    "start_time": "2023-01-24T21:18:20.581Z"
   },
   {
    "duration": 12,
    "start_time": "2023-01-24T21:18:22.038Z"
   },
   {
    "duration": 13,
    "start_time": "2023-01-24T21:18:23.597Z"
   },
   {
    "duration": 14,
    "start_time": "2023-01-24T21:18:51.763Z"
   },
   {
    "duration": 11,
    "start_time": "2023-01-24T21:19:00.180Z"
   },
   {
    "duration": 33,
    "start_time": "2023-01-24T21:19:15.314Z"
   },
   {
    "duration": 5,
    "start_time": "2023-01-24T21:19:23.818Z"
   },
   {
    "duration": 27,
    "start_time": "2023-01-24T21:19:34.639Z"
   },
   {
    "duration": 17,
    "start_time": "2023-01-24T21:19:58.977Z"
   },
   {
    "duration": 22,
    "start_time": "2023-01-24T21:20:02.661Z"
   },
   {
    "duration": 3,
    "start_time": "2023-01-24T21:20:53.339Z"
   },
   {
    "duration": 3,
    "start_time": "2023-01-24T21:21:11.801Z"
   },
   {
    "duration": 3,
    "start_time": "2023-01-24T21:21:22.032Z"
   },
   {
    "duration": 3,
    "start_time": "2023-01-24T21:22:20.712Z"
   },
   {
    "duration": 8,
    "start_time": "2023-01-24T21:22:51.663Z"
   },
   {
    "duration": 5,
    "start_time": "2023-01-24T21:23:05.707Z"
   },
   {
    "duration": 6,
    "start_time": "2023-01-24T21:23:06.699Z"
   },
   {
    "duration": 11,
    "start_time": "2023-01-24T21:23:07.719Z"
   },
   {
    "duration": 853,
    "start_time": "2023-01-24T21:23:28.999Z"
   },
   {
    "duration": 394,
    "start_time": "2023-01-24T21:23:38.400Z"
   },
   {
    "duration": 401,
    "start_time": "2023-01-24T21:23:40.423Z"
   },
   {
    "duration": 895,
    "start_time": "2023-01-24T21:31:20.350Z"
   },
   {
    "duration": 846,
    "start_time": "2023-01-24T21:35:02.397Z"
   },
   {
    "duration": 425,
    "start_time": "2023-01-24T21:35:59.981Z"
   },
   {
    "duration": 393,
    "start_time": "2023-01-24T21:36:33.444Z"
   },
   {
    "duration": 94,
    "start_time": "2023-01-24T21:56:47.142Z"
   },
   {
    "duration": 1069,
    "start_time": "2023-01-24T22:16:39.040Z"
   },
   {
    "duration": 392,
    "start_time": "2023-01-24T22:16:40.111Z"
   },
   {
    "duration": 20,
    "start_time": "2023-01-24T22:16:40.504Z"
   },
   {
    "duration": 11,
    "start_time": "2023-01-24T22:16:40.526Z"
   },
   {
    "duration": 21,
    "start_time": "2023-01-24T22:16:40.538Z"
   },
   {
    "duration": 49,
    "start_time": "2023-01-24T22:16:40.560Z"
   },
   {
    "duration": 14,
    "start_time": "2023-01-24T22:16:40.610Z"
   },
   {
    "duration": 28,
    "start_time": "2023-01-24T22:16:40.626Z"
   },
   {
    "duration": 12,
    "start_time": "2023-01-24T22:16:40.655Z"
   },
   {
    "duration": 17,
    "start_time": "2023-01-24T22:16:40.670Z"
   },
   {
    "duration": 33,
    "start_time": "2023-01-24T22:16:40.688Z"
   },
   {
    "duration": 13,
    "start_time": "2023-01-24T22:16:40.723Z"
   },
   {
    "duration": 15,
    "start_time": "2023-01-24T22:16:40.737Z"
   },
   {
    "duration": 42,
    "start_time": "2023-01-24T22:16:40.754Z"
   },
   {
    "duration": 5,
    "start_time": "2023-01-24T22:16:40.798Z"
   },
   {
    "duration": 31,
    "start_time": "2023-01-24T22:16:40.805Z"
   },
   {
    "duration": 197,
    "start_time": "2023-01-24T22:16:40.838Z"
   },
   {
    "duration": 113,
    "start_time": "2023-01-24T22:16:41.125Z"
   },
   {
    "duration": 86,
    "start_time": "2023-01-24T22:16:41.242Z"
   },
   {
    "duration": 99,
    "start_time": "2023-01-24T22:16:41.330Z"
   },
   {
    "duration": 7,
    "start_time": "2023-01-24T22:16:41.431Z"
   },
   {
    "duration": 5,
    "start_time": "2023-01-24T22:16:41.439Z"
   },
   {
    "duration": 10,
    "start_time": "2023-01-24T22:16:41.445Z"
   },
   {
    "duration": 5,
    "start_time": "2023-01-24T22:16:41.456Z"
   },
   {
    "duration": 5,
    "start_time": "2023-01-24T22:16:41.462Z"
   },
   {
    "duration": 5,
    "start_time": "2023-01-24T22:16:41.469Z"
   },
   {
    "duration": 879,
    "start_time": "2023-01-24T22:16:41.476Z"
   },
   {
    "duration": 419,
    "start_time": "2023-01-24T22:16:42.360Z"
   },
   {
    "duration": 446,
    "start_time": "2023-01-24T22:16:42.780Z"
   },
   {
    "duration": 2824,
    "start_time": "2023-01-25T08:38:11.352Z"
   },
   {
    "duration": 896,
    "start_time": "2023-01-25T08:38:14.178Z"
   },
   {
    "duration": 20,
    "start_time": "2023-01-25T08:38:15.075Z"
   },
   {
    "duration": 37,
    "start_time": "2023-01-25T08:38:15.096Z"
   },
   {
    "duration": 27,
    "start_time": "2023-01-25T08:38:15.137Z"
   },
   {
    "duration": 48,
    "start_time": "2023-01-25T08:38:15.165Z"
   },
   {
    "duration": 17,
    "start_time": "2023-01-25T08:38:15.214Z"
   },
   {
    "duration": 30,
    "start_time": "2023-01-25T08:38:15.233Z"
   },
   {
    "duration": 29,
    "start_time": "2023-01-25T08:38:15.265Z"
   },
   {
    "duration": 27,
    "start_time": "2023-01-25T08:38:15.297Z"
   },
   {
    "duration": 14,
    "start_time": "2023-01-25T08:38:15.325Z"
   },
   {
    "duration": 35,
    "start_time": "2023-01-25T08:38:15.340Z"
   },
   {
    "duration": 32,
    "start_time": "2023-01-25T08:38:15.376Z"
   },
   {
    "duration": 56,
    "start_time": "2023-01-25T08:38:15.412Z"
   },
   {
    "duration": 7,
    "start_time": "2023-01-25T08:38:15.470Z"
   },
   {
    "duration": 53,
    "start_time": "2023-01-25T08:38:15.479Z"
   },
   {
    "duration": 197,
    "start_time": "2023-01-25T08:38:15.534Z"
   },
   {
    "duration": 103,
    "start_time": "2023-01-25T08:38:15.733Z"
   },
   {
    "duration": 114,
    "start_time": "2023-01-25T08:38:15.932Z"
   },
   {
    "duration": 34,
    "start_time": "2023-01-25T08:38:16.048Z"
   },
   {
    "duration": 41,
    "start_time": "2023-01-25T08:38:16.084Z"
   },
   {
    "duration": 45,
    "start_time": "2023-01-25T08:38:16.126Z"
   },
   {
    "duration": 53,
    "start_time": "2023-01-25T08:38:16.172Z"
   },
   {
    "duration": 72,
    "start_time": "2023-01-25T08:38:16.227Z"
   },
   {
    "duration": 81,
    "start_time": "2023-01-25T08:38:16.300Z"
   },
   {
    "duration": 61,
    "start_time": "2023-01-25T08:38:16.383Z"
   },
   {
    "duration": 938,
    "start_time": "2023-01-25T08:38:16.446Z"
   },
   {
    "duration": 382,
    "start_time": "2023-01-25T08:38:17.386Z"
   },
   {
    "duration": 405,
    "start_time": "2023-01-25T08:38:17.770Z"
   },
   {
    "duration": 1063,
    "start_time": "2023-01-25T15:03:52.675Z"
   },
   {
    "duration": 1295,
    "start_time": "2023-01-25T15:03:54.854Z"
   },
   {
    "duration": 23,
    "start_time": "2023-01-25T15:03:56.151Z"
   },
   {
    "duration": 18,
    "start_time": "2023-01-25T15:03:57.286Z"
   },
   {
    "duration": 17,
    "start_time": "2023-01-25T15:03:58.207Z"
   },
   {
    "duration": 20,
    "start_time": "2023-01-25T15:03:59.783Z"
   },
   {
    "duration": 14,
    "start_time": "2023-01-25T15:04:00.420Z"
   },
   {
    "duration": 13,
    "start_time": "2023-01-25T15:04:01.134Z"
   },
   {
    "duration": 13,
    "start_time": "2023-01-25T15:04:05.156Z"
   },
   {
    "duration": 13,
    "start_time": "2023-01-25T15:04:05.761Z"
   },
   {
    "duration": 16,
    "start_time": "2023-01-25T15:04:06.386Z"
   },
   {
    "duration": 11,
    "start_time": "2023-01-25T15:04:10.595Z"
   },
   {
    "duration": 93,
    "start_time": "2023-01-25T15:07:29.459Z"
   },
   {
    "duration": 89,
    "start_time": "2023-01-25T15:56:39.294Z"
   },
   {
    "duration": 48,
    "start_time": "2023-01-25T15:57:07.136Z"
   },
   {
    "duration": 15764,
    "start_time": "2023-01-25T15:57:11.625Z"
   },
   {
    "duration": 12,
    "start_time": "2023-01-25T15:57:43.308Z"
   },
   {
    "duration": 2353,
    "start_time": "2023-01-25T15:57:58.531Z"
   },
   {
    "duration": 17,
    "start_time": "2023-01-25T15:58:04.064Z"
   },
   {
    "duration": 12,
    "start_time": "2023-01-25T15:58:17.006Z"
   },
   {
    "duration": 257,
    "start_time": "2023-01-25T15:58:25.714Z"
   },
   {
    "duration": 908,
    "start_time": "2023-01-25T15:58:27.330Z"
   },
   {
    "duration": 21,
    "start_time": "2023-01-25T15:58:28.643Z"
   },
   {
    "duration": 12,
    "start_time": "2023-01-25T15:58:30.565Z"
   },
   {
    "duration": 13,
    "start_time": "2023-01-25T15:58:31.481Z"
   },
   {
    "duration": 20,
    "start_time": "2023-01-25T15:58:32.841Z"
   },
   {
    "duration": 14,
    "start_time": "2023-01-25T15:58:34.043Z"
   },
   {
    "duration": 21,
    "start_time": "2023-01-25T15:58:35.209Z"
   },
   {
    "duration": 17,
    "start_time": "2023-01-25T15:58:36.578Z"
   },
   {
    "duration": 15,
    "start_time": "2023-01-25T15:58:37.841Z"
   },
   {
    "duration": 16,
    "start_time": "2023-01-25T15:58:39.193Z"
   },
   {
    "duration": 16,
    "start_time": "2023-01-25T15:58:40.601Z"
   },
   {
    "duration": 2400,
    "start_time": "2023-01-25T15:58:43.665Z"
   },
   {
    "duration": 7432,
    "start_time": "2023-01-25T15:58:51.718Z"
   },
   {
    "duration": 2003,
    "start_time": "2023-01-25T16:01:44.126Z"
   },
   {
    "duration": 383,
    "start_time": "2023-01-25T16:01:46.958Z"
   },
   {
    "duration": 24,
    "start_time": "2023-01-25T16:01:48.271Z"
   },
   {
    "duration": 17,
    "start_time": "2023-01-25T16:01:49.651Z"
   },
   {
    "duration": 17,
    "start_time": "2023-01-25T16:01:51.840Z"
   },
   {
    "duration": 23,
    "start_time": "2023-01-25T16:01:53.241Z"
   },
   {
    "duration": 22,
    "start_time": "2023-01-25T16:01:54.483Z"
   },
   {
    "duration": 20,
    "start_time": "2023-01-25T16:01:55.725Z"
   },
   {
    "duration": 11,
    "start_time": "2023-01-25T16:01:58.759Z"
   },
   {
    "duration": 10,
    "start_time": "2023-01-25T16:02:00.041Z"
   },
   {
    "duration": 12,
    "start_time": "2023-01-25T16:02:01.097Z"
   },
   {
    "duration": 12,
    "start_time": "2023-01-25T16:02:02.974Z"
   },
   {
    "duration": 7506,
    "start_time": "2023-01-25T16:02:19.907Z"
   },
   {
    "duration": 7,
    "start_time": "2023-01-25T16:10:12.264Z"
   },
   {
    "duration": 38,
    "start_time": "2023-01-25T16:10:13.279Z"
   },
   {
    "duration": 5,
    "start_time": "2023-01-25T16:10:15.177Z"
   },
   {
    "duration": 222,
    "start_time": "2023-01-25T16:24:02.097Z"
   },
   {
    "duration": 141,
    "start_time": "2023-01-25T16:27:36.690Z"
   },
   {
    "duration": 97,
    "start_time": "2023-01-25T16:30:34.624Z"
   },
   {
    "duration": 67,
    "start_time": "2023-01-25T16:30:53.654Z"
   },
   {
    "duration": 145,
    "start_time": "2023-01-25T16:31:01.076Z"
   },
   {
    "duration": 218,
    "start_time": "2023-01-25T16:31:06.705Z"
   },
   {
    "duration": 78,
    "start_time": "2023-01-25T16:32:33.033Z"
   },
   {
    "duration": 14,
    "start_time": "2023-01-25T16:32:34.008Z"
   },
   {
    "duration": 14,
    "start_time": "2023-01-25T16:32:34.920Z"
   },
   {
    "duration": 4,
    "start_time": "2023-01-25T16:36:53.652Z"
   },
   {
    "duration": 175,
    "start_time": "2023-01-25T16:37:08.548Z"
   },
   {
    "duration": 3,
    "start_time": "2023-01-25T16:37:12.421Z"
   },
   {
    "duration": 181,
    "start_time": "2023-01-25T16:38:04.537Z"
   },
   {
    "duration": 6,
    "start_time": "2023-01-25T16:42:22.628Z"
   },
   {
    "duration": 6,
    "start_time": "2023-01-25T16:42:33.753Z"
   },
   {
    "duration": 4,
    "start_time": "2023-01-25T16:42:39.090Z"
   },
   {
    "duration": 5,
    "start_time": "2023-01-25T16:42:43.085Z"
   },
   {
    "duration": 7,
    "start_time": "2023-01-25T17:46:12.387Z"
   },
   {
    "duration": 3,
    "start_time": "2023-01-25T19:36:53.470Z"
   },
   {
    "duration": 201,
    "start_time": "2023-01-25T19:37:45.014Z"
   },
   {
    "duration": 209,
    "start_time": "2023-01-25T19:37:46.460Z"
   },
   {
    "duration": 2044,
    "start_time": "2023-01-25T19:38:05.336Z"
   },
   {
    "duration": 410,
    "start_time": "2023-01-25T19:38:07.382Z"
   },
   {
    "duration": 16,
    "start_time": "2023-01-25T19:38:09.355Z"
   },
   {
    "duration": 11,
    "start_time": "2023-01-25T19:38:09.857Z"
   },
   {
    "duration": 14,
    "start_time": "2023-01-25T19:38:10.627Z"
   },
   {
    "duration": 15,
    "start_time": "2023-01-25T19:38:11.964Z"
   },
   {
    "duration": 19,
    "start_time": "2023-01-25T19:38:12.427Z"
   },
   {
    "duration": 24,
    "start_time": "2023-01-25T19:38:13.004Z"
   },
   {
    "duration": 12,
    "start_time": "2023-01-25T19:38:14.582Z"
   },
   {
    "duration": 11,
    "start_time": "2023-01-25T19:38:15.247Z"
   },
   {
    "duration": 11,
    "start_time": "2023-01-25T19:38:16.135Z"
   },
   {
    "duration": 11,
    "start_time": "2023-01-25T19:38:19.245Z"
   },
   {
    "duration": 7319,
    "start_time": "2023-01-25T19:38:20.254Z"
   },
   {
    "duration": 8,
    "start_time": "2023-01-25T19:38:57.432Z"
   },
   {
    "duration": 26,
    "start_time": "2023-01-25T19:38:59.178Z"
   },
   {
    "duration": 10,
    "start_time": "2023-01-25T19:39:00.505Z"
   },
   {
    "duration": 349,
    "start_time": "2023-01-25T19:39:04.547Z"
   },
   {
    "duration": 118,
    "start_time": "2023-01-25T19:39:15.895Z"
   },
   {
    "duration": 4,
    "start_time": "2023-01-25T19:39:23.436Z"
   },
   {
    "duration": 12,
    "start_time": "2023-01-25T19:39:26.756Z"
   },
   {
    "duration": 3,
    "start_time": "2023-01-25T19:40:36.558Z"
   },
   {
    "duration": 3,
    "start_time": "2023-01-25T19:40:41.802Z"
   },
   {
    "duration": 4,
    "start_time": "2023-01-25T19:40:59.956Z"
   },
   {
    "duration": 5,
    "start_time": "2023-01-25T19:57:03.534Z"
   },
   {
    "duration": 5,
    "start_time": "2023-01-25T19:58:38.446Z"
   },
   {
    "duration": 12,
    "start_time": "2023-01-25T19:59:30.426Z"
   },
   {
    "duration": 8,
    "start_time": "2023-01-25T19:59:36.764Z"
   },
   {
    "duration": 7,
    "start_time": "2023-01-25T19:59:53.897Z"
   },
   {
    "duration": 8,
    "start_time": "2023-01-25T20:01:38.958Z"
   },
   {
    "duration": 10,
    "start_time": "2023-01-25T20:01:43.596Z"
   },
   {
    "duration": 27,
    "start_time": "2023-01-25T20:02:47.710Z"
   },
   {
    "duration": 22,
    "start_time": "2023-01-25T20:03:21.236Z"
   },
   {
    "duration": 19,
    "start_time": "2023-01-25T20:03:35.066Z"
   },
   {
    "duration": 39,
    "start_time": "2023-01-25T20:03:47.396Z"
   },
   {
    "duration": 8,
    "start_time": "2023-01-25T20:05:07.663Z"
   },
   {
    "duration": 8,
    "start_time": "2023-01-25T20:05:13.665Z"
   },
   {
    "duration": 9,
    "start_time": "2023-01-25T20:05:36.472Z"
   },
   {
    "duration": 7,
    "start_time": "2023-01-25T20:06:58.322Z"
   },
   {
    "duration": 6,
    "start_time": "2023-01-25T20:08:34.071Z"
   },
   {
    "duration": 97,
    "start_time": "2023-01-25T20:08:40.422Z"
   },
   {
    "duration": 3,
    "start_time": "2023-01-25T20:08:42.281Z"
   },
   {
    "duration": 3,
    "start_time": "2023-01-25T20:08:45.184Z"
   },
   {
    "duration": 4,
    "start_time": "2023-01-25T20:08:46.465Z"
   },
   {
    "duration": 4,
    "start_time": "2023-01-25T20:08:47.787Z"
   },
   {
    "duration": 6,
    "start_time": "2023-01-25T20:08:49.552Z"
   },
   {
    "duration": 7,
    "start_time": "2023-01-25T20:09:39.796Z"
   },
   {
    "duration": 3,
    "start_time": "2023-01-25T20:10:37.375Z"
   },
   {
    "duration": 6,
    "start_time": "2023-01-25T20:10:40.836Z"
   },
   {
    "duration": 6,
    "start_time": "2023-01-25T20:10:59.780Z"
   },
   {
    "duration": 11,
    "start_time": "2023-01-25T20:11:23.045Z"
   },
   {
    "duration": 6,
    "start_time": "2023-01-25T20:11:37.199Z"
   },
   {
    "duration": 10,
    "start_time": "2023-01-25T20:12:42.026Z"
   },
   {
    "duration": 10,
    "start_time": "2023-01-25T20:12:53.727Z"
   },
   {
    "duration": 9,
    "start_time": "2023-01-25T20:12:59.471Z"
   },
   {
    "duration": 9,
    "start_time": "2023-01-25T20:13:14.572Z"
   },
   {
    "duration": 10,
    "start_time": "2023-01-25T20:13:31.152Z"
   },
   {
    "duration": 10,
    "start_time": "2023-01-25T20:14:44.844Z"
   },
   {
    "duration": 6,
    "start_time": "2023-01-25T20:16:16.743Z"
   },
   {
    "duration": 5,
    "start_time": "2023-01-25T20:16:43.062Z"
   },
   {
    "duration": 5,
    "start_time": "2023-01-25T20:16:47.948Z"
   },
   {
    "duration": 5,
    "start_time": "2023-01-25T20:23:38.978Z"
   },
   {
    "duration": 1907,
    "start_time": "2023-01-25T20:28:00.725Z"
   },
   {
    "duration": 335,
    "start_time": "2023-01-25T20:28:04.332Z"
   },
   {
    "duration": 16,
    "start_time": "2023-01-25T20:28:05.378Z"
   },
   {
    "duration": 11,
    "start_time": "2023-01-25T20:28:06.682Z"
   },
   {
    "duration": 12,
    "start_time": "2023-01-25T20:28:07.936Z"
   },
   {
    "duration": 15,
    "start_time": "2023-01-25T20:28:10.191Z"
   },
   {
    "duration": 14,
    "start_time": "2023-01-25T20:28:11.707Z"
   },
   {
    "duration": 18,
    "start_time": "2023-01-25T20:28:13.044Z"
   },
   {
    "duration": 13,
    "start_time": "2023-01-25T20:28:14.153Z"
   },
   {
    "duration": 11,
    "start_time": "2023-01-25T20:28:15.704Z"
   },
   {
    "duration": 11,
    "start_time": "2023-01-25T20:28:16.861Z"
   },
   {
    "duration": 11,
    "start_time": "2023-01-25T20:28:18.947Z"
   },
   {
    "duration": 6735,
    "start_time": "2023-01-25T20:28:20.322Z"
   },
   {
    "duration": 7,
    "start_time": "2023-01-25T20:28:40.595Z"
   },
   {
    "duration": 27,
    "start_time": "2023-01-25T20:28:45.867Z"
   },
   {
    "duration": 5,
    "start_time": "2023-01-25T20:28:47.128Z"
   },
   {
    "duration": 183,
    "start_time": "2023-01-25T20:28:50.532Z"
   },
   {
    "duration": 3,
    "start_time": "2023-01-25T20:28:54.756Z"
   },
   {
    "duration": 4,
    "start_time": "2023-01-25T20:30:21.389Z"
   },
   {
    "duration": 3,
    "start_time": "2023-01-25T20:30:28.608Z"
   },
   {
    "duration": 5,
    "start_time": "2023-01-25T20:30:36.945Z"
   },
   {
    "duration": 4,
    "start_time": "2023-01-25T20:30:38.548Z"
   },
   {
    "duration": 5,
    "start_time": "2023-01-25T20:31:07.869Z"
   },
   {
    "duration": 7,
    "start_time": "2023-01-25T20:36:28.766Z"
   },
   {
    "duration": 5,
    "start_time": "2023-01-25T20:36:30.630Z"
   },
   {
    "duration": 5,
    "start_time": "2023-01-25T20:36:38.237Z"
   },
   {
    "duration": 5,
    "start_time": "2023-01-25T20:36:43.882Z"
   },
   {
    "duration": 209,
    "start_time": "2023-01-25T20:38:26.003Z"
   },
   {
    "duration": 1213,
    "start_time": "2023-01-25T20:38:41.256Z"
   },
   {
    "duration": 701,
    "start_time": "2023-01-25T20:40:54.840Z"
   },
   {
    "duration": 708,
    "start_time": "2023-01-25T20:41:42.412Z"
   },
   {
    "duration": 682,
    "start_time": "2023-01-25T20:41:44.734Z"
   },
   {
    "duration": 768,
    "start_time": "2023-01-25T20:41:46.663Z"
   },
   {
    "duration": 672,
    "start_time": "2023-01-25T20:41:51.253Z"
   },
   {
    "duration": 704,
    "start_time": "2023-01-25T20:42:03.793Z"
   },
   {
    "duration": 689,
    "start_time": "2023-01-25T20:51:54.676Z"
   },
   {
    "duration": 0,
    "start_time": "2023-01-25T20:52:13.416Z"
   },
   {
    "duration": 700,
    "start_time": "2023-01-25T20:52:17.879Z"
   },
   {
    "duration": 681,
    "start_time": "2023-01-25T20:52:48.547Z"
   },
   {
    "duration": 7,
    "start_time": "2023-01-25T21:05:10.637Z"
   },
   {
    "duration": 676,
    "start_time": "2023-01-25T21:05:33.669Z"
   },
   {
    "duration": 694,
    "start_time": "2023-01-25T21:05:55.563Z"
   },
   {
    "duration": 699,
    "start_time": "2023-01-25T21:06:32.025Z"
   },
   {
    "duration": 5,
    "start_time": "2023-01-25T21:10:38.888Z"
   },
   {
    "duration": 689,
    "start_time": "2023-01-25T21:10:48.064Z"
   },
   {
    "duration": 703,
    "start_time": "2023-01-25T21:10:50.384Z"
   },
   {
    "duration": 730,
    "start_time": "2023-01-25T21:10:52.733Z"
   },
   {
    "duration": 5,
    "start_time": "2023-01-25T21:13:15.213Z"
   },
   {
    "duration": 5,
    "start_time": "2023-01-25T21:13:26.426Z"
   },
   {
    "duration": 692,
    "start_time": "2023-01-25T21:13:28.788Z"
   },
   {
    "duration": 696,
    "start_time": "2023-01-25T21:13:30.848Z"
   },
   {
    "duration": 713,
    "start_time": "2023-01-25T21:13:32.750Z"
   },
   {
    "duration": 1841,
    "start_time": "2023-01-25T21:20:19.307Z"
   },
   {
    "duration": 348,
    "start_time": "2023-01-25T21:20:22.427Z"
   },
   {
    "duration": 15,
    "start_time": "2023-01-25T21:20:24.082Z"
   },
   {
    "duration": 12,
    "start_time": "2023-01-25T21:20:25.542Z"
   },
   {
    "duration": 10,
    "start_time": "2023-01-25T21:20:26.948Z"
   },
   {
    "duration": 17,
    "start_time": "2023-01-25T21:20:28.736Z"
   },
   {
    "duration": 13,
    "start_time": "2023-01-25T21:20:30.306Z"
   },
   {
    "duration": 12,
    "start_time": "2023-01-25T21:20:30.399Z"
   },
   {
    "duration": 1849,
    "start_time": "2023-01-25T21:20:39.090Z"
   },
   {
    "duration": 348,
    "start_time": "2023-01-25T21:20:42.129Z"
   },
   {
    "duration": 17,
    "start_time": "2023-01-25T21:20:44.551Z"
   },
   {
    "duration": 13,
    "start_time": "2023-01-25T21:20:49.336Z"
   },
   {
    "duration": 11,
    "start_time": "2023-01-25T21:20:51.165Z"
   },
   {
    "duration": 14,
    "start_time": "2023-01-25T21:20:52.670Z"
   },
   {
    "duration": 14,
    "start_time": "2023-01-25T21:20:54.454Z"
   },
   {
    "duration": 14,
    "start_time": "2023-01-25T21:20:55.684Z"
   },
   {
    "duration": 12,
    "start_time": "2023-01-25T21:20:57.869Z"
   },
   {
    "duration": 12,
    "start_time": "2023-01-25T21:20:59.438Z"
   },
   {
    "duration": 11,
    "start_time": "2023-01-25T21:21:01.107Z"
   },
   {
    "duration": 12,
    "start_time": "2023-01-25T21:21:03.238Z"
   },
   {
    "duration": 6878,
    "start_time": "2023-01-25T21:21:05.067Z"
   },
   {
    "duration": 7,
    "start_time": "2023-01-25T21:21:36.777Z"
   },
   {
    "duration": 29,
    "start_time": "2023-01-25T21:21:37.976Z"
   },
   {
    "duration": 4,
    "start_time": "2023-01-25T21:21:39.383Z"
   },
   {
    "duration": 45,
    "start_time": "2023-01-25T21:21:41.772Z"
   },
   {
    "duration": 3,
    "start_time": "2023-01-25T21:22:07.300Z"
   },
   {
    "duration": 3,
    "start_time": "2023-01-25T21:22:10.062Z"
   },
   {
    "duration": 3,
    "start_time": "2023-01-25T21:24:24.467Z"
   },
   {
    "duration": 4,
    "start_time": "2023-01-25T21:24:57.757Z"
   },
   {
    "duration": 4,
    "start_time": "2023-01-25T21:24:59.496Z"
   },
   {
    "duration": 5,
    "start_time": "2023-01-25T21:26:09.526Z"
   },
   {
    "duration": 6,
    "start_time": "2023-01-25T21:26:32.009Z"
   },
   {
    "duration": 5,
    "start_time": "2023-01-25T21:26:34.928Z"
   },
   {
    "duration": 5,
    "start_time": "2023-01-25T21:26:36.426Z"
   },
   {
    "duration": 6,
    "start_time": "2023-01-25T21:26:37.883Z"
   },
   {
    "duration": 4,
    "start_time": "2023-01-25T21:27:22.112Z"
   },
   {
    "duration": 678,
    "start_time": "2023-01-25T21:27:26.990Z"
   },
   {
    "duration": 657,
    "start_time": "2023-01-25T21:27:34.176Z"
   },
   {
    "duration": 664,
    "start_time": "2023-01-25T21:27:39.972Z"
   },
   {
    "duration": 1891,
    "start_time": "2023-01-25T21:41:21.574Z"
   },
   {
    "duration": 352,
    "start_time": "2023-01-25T21:41:23.467Z"
   },
   {
    "duration": 16,
    "start_time": "2023-01-25T21:41:23.820Z"
   },
   {
    "duration": 17,
    "start_time": "2023-01-25T21:41:23.838Z"
   },
   {
    "duration": 15,
    "start_time": "2023-01-25T21:41:23.857Z"
   },
   {
    "duration": 18,
    "start_time": "2023-01-25T21:41:23.873Z"
   },
   {
    "duration": 23,
    "start_time": "2023-01-25T21:41:23.893Z"
   },
   {
    "duration": 12,
    "start_time": "2023-01-25T21:41:23.918Z"
   },
   {
    "duration": 11,
    "start_time": "2023-01-25T21:41:23.932Z"
   },
   {
    "duration": 10,
    "start_time": "2023-01-25T21:41:23.944Z"
   },
   {
    "duration": 10,
    "start_time": "2023-01-25T21:41:23.956Z"
   },
   {
    "duration": 42,
    "start_time": "2023-01-25T21:41:23.968Z"
   },
   {
    "duration": 7206,
    "start_time": "2023-01-25T21:41:24.011Z"
   },
   {
    "duration": 7,
    "start_time": "2023-01-25T21:41:31.220Z"
   },
   {
    "duration": 50,
    "start_time": "2023-01-25T21:41:31.229Z"
   },
   {
    "duration": 5,
    "start_time": "2023-01-25T21:41:31.280Z"
   },
   {
    "duration": 132,
    "start_time": "2023-01-25T21:41:31.287Z"
   },
   {
    "duration": 100,
    "start_time": "2023-01-25T21:41:31.511Z"
   },
   {
    "duration": 9,
    "start_time": "2023-01-25T21:41:31.612Z"
   },
   {
    "duration": 15,
    "start_time": "2023-01-25T21:41:31.623Z"
   },
   {
    "duration": 22,
    "start_time": "2023-01-25T21:41:31.640Z"
   },
   {
    "duration": 26,
    "start_time": "2023-01-25T21:41:31.663Z"
   },
   {
    "duration": 8,
    "start_time": "2023-01-25T21:41:31.691Z"
   },
   {
    "duration": 13,
    "start_time": "2023-01-25T21:41:31.700Z"
   },
   {
    "duration": 15,
    "start_time": "2023-01-25T21:41:31.714Z"
   },
   {
    "duration": 13,
    "start_time": "2023-01-25T21:41:31.731Z"
   },
   {
    "duration": 11,
    "start_time": "2023-01-25T21:41:31.745Z"
   },
   {
    "duration": 5,
    "start_time": "2023-01-25T21:41:31.758Z"
   },
   {
    "duration": 694,
    "start_time": "2023-01-25T21:41:31.764Z"
   },
   {
    "duration": 700,
    "start_time": "2023-01-25T21:41:32.460Z"
   },
   {
    "duration": 683,
    "start_time": "2023-01-25T21:41:33.161Z"
   },
   {
    "duration": 425,
    "start_time": "2023-01-31T10:50:21.007Z"
   },
   {
    "duration": 0,
    "start_time": "2023-01-31T10:50:21.434Z"
   },
   {
    "duration": 0,
    "start_time": "2023-01-31T10:50:21.436Z"
   },
   {
    "duration": 0,
    "start_time": "2023-01-31T10:50:21.437Z"
   },
   {
    "duration": 0,
    "start_time": "2023-01-31T10:50:21.439Z"
   },
   {
    "duration": 0,
    "start_time": "2023-01-31T10:50:21.440Z"
   },
   {
    "duration": 0,
    "start_time": "2023-01-31T10:50:21.441Z"
   },
   {
    "duration": 0,
    "start_time": "2023-01-31T10:50:21.453Z"
   },
   {
    "duration": 0,
    "start_time": "2023-01-31T10:50:21.454Z"
   },
   {
    "duration": 0,
    "start_time": "2023-01-31T10:50:21.455Z"
   },
   {
    "duration": 0,
    "start_time": "2023-01-31T10:50:21.456Z"
   },
   {
    "duration": 1,
    "start_time": "2023-01-31T10:50:21.457Z"
   },
   {
    "duration": 0,
    "start_time": "2023-01-31T10:50:21.459Z"
   },
   {
    "duration": 0,
    "start_time": "2023-01-31T10:50:21.460Z"
   },
   {
    "duration": 0,
    "start_time": "2023-01-31T10:50:21.461Z"
   },
   {
    "duration": 0,
    "start_time": "2023-01-31T10:50:21.462Z"
   },
   {
    "duration": 0,
    "start_time": "2023-01-31T10:50:21.463Z"
   },
   {
    "duration": 0,
    "start_time": "2023-01-31T10:50:21.465Z"
   },
   {
    "duration": 0,
    "start_time": "2023-01-31T10:50:21.466Z"
   },
   {
    "duration": 0,
    "start_time": "2023-01-31T10:50:21.467Z"
   },
   {
    "duration": 0,
    "start_time": "2023-01-31T10:50:21.468Z"
   },
   {
    "duration": 0,
    "start_time": "2023-01-31T10:50:21.469Z"
   },
   {
    "duration": 0,
    "start_time": "2023-01-31T10:50:21.470Z"
   },
   {
    "duration": 0,
    "start_time": "2023-01-31T10:50:21.471Z"
   },
   {
    "duration": 0,
    "start_time": "2023-01-31T10:50:21.473Z"
   },
   {
    "duration": 0,
    "start_time": "2023-01-31T10:50:21.474Z"
   },
   {
    "duration": 0,
    "start_time": "2023-01-31T10:50:21.475Z"
   },
   {
    "duration": 0,
    "start_time": "2023-01-31T10:50:21.476Z"
   },
   {
    "duration": 0,
    "start_time": "2023-01-31T10:50:21.478Z"
   },
   {
    "duration": 0,
    "start_time": "2023-01-31T10:50:21.479Z"
   },
   {
    "duration": 0,
    "start_time": "2023-01-31T10:50:21.480Z"
   },
   {
    "duration": 512,
    "start_time": "2023-01-31T10:51:02.220Z"
   },
   {
    "duration": 0,
    "start_time": "2023-01-31T10:51:02.735Z"
   },
   {
    "duration": 0,
    "start_time": "2023-01-31T10:51:02.736Z"
   },
   {
    "duration": 0,
    "start_time": "2023-01-31T10:51:02.737Z"
   },
   {
    "duration": 0,
    "start_time": "2023-01-31T10:51:02.739Z"
   },
   {
    "duration": 0,
    "start_time": "2023-01-31T10:51:02.740Z"
   },
   {
    "duration": 0,
    "start_time": "2023-01-31T10:51:02.754Z"
   },
   {
    "duration": 0,
    "start_time": "2023-01-31T10:51:02.755Z"
   },
   {
    "duration": 0,
    "start_time": "2023-01-31T10:51:02.757Z"
   },
   {
    "duration": 0,
    "start_time": "2023-01-31T10:51:02.758Z"
   },
   {
    "duration": 0,
    "start_time": "2023-01-31T10:51:02.759Z"
   },
   {
    "duration": 0,
    "start_time": "2023-01-31T10:51:02.759Z"
   },
   {
    "duration": 0,
    "start_time": "2023-01-31T10:51:02.761Z"
   },
   {
    "duration": 0,
    "start_time": "2023-01-31T10:51:02.761Z"
   },
   {
    "duration": 0,
    "start_time": "2023-01-31T10:51:02.763Z"
   },
   {
    "duration": 0,
    "start_time": "2023-01-31T10:51:02.764Z"
   },
   {
    "duration": 0,
    "start_time": "2023-01-31T10:51:02.765Z"
   },
   {
    "duration": 0,
    "start_time": "2023-01-31T10:51:02.767Z"
   },
   {
    "duration": 0,
    "start_time": "2023-01-31T10:51:02.768Z"
   },
   {
    "duration": 0,
    "start_time": "2023-01-31T10:51:02.769Z"
   },
   {
    "duration": 0,
    "start_time": "2023-01-31T10:51:02.771Z"
   },
   {
    "duration": 0,
    "start_time": "2023-01-31T10:51:02.772Z"
   },
   {
    "duration": 0,
    "start_time": "2023-01-31T10:51:02.773Z"
   },
   {
    "duration": 0,
    "start_time": "2023-01-31T10:51:02.775Z"
   },
   {
    "duration": 0,
    "start_time": "2023-01-31T10:51:02.776Z"
   },
   {
    "duration": 0,
    "start_time": "2023-01-31T10:51:02.777Z"
   },
   {
    "duration": 0,
    "start_time": "2023-01-31T10:51:02.779Z"
   },
   {
    "duration": 0,
    "start_time": "2023-01-31T10:51:02.780Z"
   },
   {
    "duration": 0,
    "start_time": "2023-01-31T10:51:02.781Z"
   },
   {
    "duration": 0,
    "start_time": "2023-01-31T10:51:02.783Z"
   },
   {
    "duration": 0,
    "start_time": "2023-01-31T10:51:02.784Z"
   },
   {
    "duration": 5012,
    "start_time": "2023-01-31T10:51:15.360Z"
   },
   {
    "duration": 1885,
    "start_time": "2023-01-31T10:51:22.509Z"
   },
   {
    "duration": 2483,
    "start_time": "2023-02-02T14:41:06.342Z"
   },
   {
    "duration": 2139,
    "start_time": "2023-02-02T14:41:08.827Z"
   },
   {
    "duration": 932,
    "start_time": "2023-02-02T14:41:10.968Z"
   },
   {
    "duration": 19,
    "start_time": "2023-02-02T14:41:11.902Z"
   },
   {
    "duration": 20,
    "start_time": "2023-02-02T14:41:11.923Z"
   },
   {
    "duration": 42,
    "start_time": "2023-02-02T14:41:11.946Z"
   },
   {
    "duration": 48,
    "start_time": "2023-02-02T14:41:11.990Z"
   },
   {
    "duration": 30,
    "start_time": "2023-02-02T14:41:12.039Z"
   },
   {
    "duration": 33,
    "start_time": "2023-02-02T14:41:12.071Z"
   },
   {
    "duration": 26,
    "start_time": "2023-02-02T14:41:12.107Z"
   },
   {
    "duration": 35,
    "start_time": "2023-02-02T14:41:12.135Z"
   },
   {
    "duration": 33,
    "start_time": "2023-02-02T14:41:12.172Z"
   },
   {
    "duration": 31,
    "start_time": "2023-02-02T14:41:12.207Z"
   },
   {
    "duration": 7585,
    "start_time": "2023-02-02T14:41:12.240Z"
   },
   {
    "duration": 9,
    "start_time": "2023-02-02T14:41:19.827Z"
   },
   {
    "duration": 43,
    "start_time": "2023-02-02T14:41:19.837Z"
   },
   {
    "duration": 5,
    "start_time": "2023-02-02T14:41:19.882Z"
   },
   {
    "duration": 353,
    "start_time": "2023-02-02T14:41:19.889Z"
   },
   {
    "duration": 3,
    "start_time": "2023-02-02T14:41:20.246Z"
   },
   {
    "duration": 91,
    "start_time": "2023-02-02T14:41:20.251Z"
   },
   {
    "duration": 8,
    "start_time": "2023-02-02T14:41:20.343Z"
   },
   {
    "duration": 14,
    "start_time": "2023-02-02T14:41:20.352Z"
   },
   {
    "duration": 12,
    "start_time": "2023-02-02T14:41:20.367Z"
   },
   {
    "duration": 6,
    "start_time": "2023-02-02T14:41:20.380Z"
   },
   {
    "duration": 11,
    "start_time": "2023-02-02T14:41:20.388Z"
   },
   {
    "duration": 7,
    "start_time": "2023-02-02T14:41:20.401Z"
   },
   {
    "duration": 7,
    "start_time": "2023-02-02T14:41:20.409Z"
   },
   {
    "duration": 25,
    "start_time": "2023-02-02T14:41:20.419Z"
   },
   {
    "duration": 6,
    "start_time": "2023-02-02T14:41:20.446Z"
   },
   {
    "duration": 925,
    "start_time": "2023-02-02T14:41:20.454Z"
   },
   {
    "duration": 889,
    "start_time": "2023-02-02T14:41:21.381Z"
   },
   {
    "duration": 874,
    "start_time": "2023-02-02T14:41:22.272Z"
   },
   {
    "duration": 420,
    "start_time": "2023-02-02T21:53:01.302Z"
   },
   {
    "duration": 0,
    "start_time": "2023-02-02T21:53:01.724Z"
   },
   {
    "duration": 0,
    "start_time": "2023-02-02T21:53:01.725Z"
   },
   {
    "duration": 0,
    "start_time": "2023-02-02T21:53:01.726Z"
   },
   {
    "duration": 0,
    "start_time": "2023-02-02T21:53:01.727Z"
   },
   {
    "duration": 0,
    "start_time": "2023-02-02T21:53:01.727Z"
   },
   {
    "duration": 0,
    "start_time": "2023-02-02T21:53:01.728Z"
   },
   {
    "duration": 0,
    "start_time": "2023-02-02T21:53:01.729Z"
   },
   {
    "duration": 0,
    "start_time": "2023-02-02T21:53:01.730Z"
   },
   {
    "duration": 0,
    "start_time": "2023-02-02T21:53:01.738Z"
   },
   {
    "duration": 0,
    "start_time": "2023-02-02T21:53:01.738Z"
   },
   {
    "duration": 0,
    "start_time": "2023-02-02T21:53:01.739Z"
   },
   {
    "duration": 0,
    "start_time": "2023-02-02T21:53:01.740Z"
   },
   {
    "duration": 0,
    "start_time": "2023-02-02T21:53:01.740Z"
   },
   {
    "duration": 0,
    "start_time": "2023-02-02T21:53:01.741Z"
   },
   {
    "duration": 0,
    "start_time": "2023-02-02T21:53:01.741Z"
   },
   {
    "duration": 0,
    "start_time": "2023-02-02T21:53:01.742Z"
   },
   {
    "duration": 0,
    "start_time": "2023-02-02T21:53:01.742Z"
   },
   {
    "duration": 0,
    "start_time": "2023-02-02T21:53:01.743Z"
   },
   {
    "duration": 0,
    "start_time": "2023-02-02T21:53:01.743Z"
   },
   {
    "duration": 0,
    "start_time": "2023-02-02T21:53:01.744Z"
   },
   {
    "duration": 0,
    "start_time": "2023-02-02T21:53:01.744Z"
   },
   {
    "duration": 0,
    "start_time": "2023-02-02T21:53:01.745Z"
   },
   {
    "duration": 0,
    "start_time": "2023-02-02T21:53:01.745Z"
   },
   {
    "duration": 0,
    "start_time": "2023-02-02T21:53:01.746Z"
   },
   {
    "duration": 0,
    "start_time": "2023-02-02T21:53:01.747Z"
   },
   {
    "duration": 0,
    "start_time": "2023-02-02T21:53:01.747Z"
   },
   {
    "duration": 0,
    "start_time": "2023-02-02T21:53:01.748Z"
   },
   {
    "duration": 0,
    "start_time": "2023-02-02T21:53:01.748Z"
   },
   {
    "duration": 0,
    "start_time": "2023-02-02T21:53:01.749Z"
   },
   {
    "duration": 1049,
    "start_time": "2023-02-02T21:53:16.953Z"
   },
   {
    "duration": 888,
    "start_time": "2023-02-02T21:53:18.004Z"
   },
   {
    "duration": 17,
    "start_time": "2023-02-02T21:53:18.893Z"
   },
   {
    "duration": 10,
    "start_time": "2023-02-02T21:53:18.912Z"
   },
   {
    "duration": 21,
    "start_time": "2023-02-02T21:53:18.924Z"
   },
   {
    "duration": 22,
    "start_time": "2023-02-02T21:53:18.947Z"
   },
   {
    "duration": 13,
    "start_time": "2023-02-02T21:53:18.971Z"
   },
   {
    "duration": 16,
    "start_time": "2023-02-02T21:53:18.986Z"
   },
   {
    "duration": 11,
    "start_time": "2023-02-02T21:53:19.003Z"
   },
   {
    "duration": 40,
    "start_time": "2023-02-02T21:53:19.017Z"
   },
   {
    "duration": 10,
    "start_time": "2023-02-02T21:53:19.059Z"
   },
   {
    "duration": 14,
    "start_time": "2023-02-02T21:53:19.070Z"
   },
   {
    "duration": 10,
    "start_time": "2023-02-02T21:53:19.086Z"
   },
   {
    "duration": 43,
    "start_time": "2023-02-02T21:53:19.097Z"
   },
   {
    "duration": 4,
    "start_time": "2023-02-02T21:53:19.152Z"
   },
   {
    "duration": 183,
    "start_time": "2023-02-02T21:53:19.158Z"
   },
   {
    "duration": 3,
    "start_time": "2023-02-02T21:53:19.345Z"
   },
   {
    "duration": 189,
    "start_time": "2023-02-02T21:53:19.350Z"
   },
   {
    "duration": 15,
    "start_time": "2023-02-02T21:53:19.540Z"
   },
   {
    "duration": 8,
    "start_time": "2023-02-02T21:53:19.556Z"
   },
   {
    "duration": 5,
    "start_time": "2023-02-02T21:53:19.565Z"
   },
   {
    "duration": 7,
    "start_time": "2023-02-02T21:53:19.571Z"
   },
   {
    "duration": 9,
    "start_time": "2023-02-02T21:53:19.580Z"
   },
   {
    "duration": 4,
    "start_time": "2023-02-02T21:53:19.591Z"
   },
   {
    "duration": 6,
    "start_time": "2023-02-02T21:53:19.597Z"
   },
   {
    "duration": 4,
    "start_time": "2023-02-02T21:53:19.605Z"
   },
   {
    "duration": 4,
    "start_time": "2023-02-02T21:53:19.611Z"
   },
   {
    "duration": 753,
    "start_time": "2023-02-02T21:53:19.617Z"
   },
   {
    "duration": 702,
    "start_time": "2023-02-02T21:53:20.372Z"
   },
   {
    "duration": 686,
    "start_time": "2023-02-02T21:53:21.075Z"
   }
  ],
  "kernelspec": {
   "display_name": "Python 3 (ipykernel)",
   "language": "python",
   "name": "python3"
  },
  "language_info": {
   "codemirror_mode": {
    "name": "ipython",
    "version": 3
   },
   "file_extension": ".py",
   "mimetype": "text/x-python",
   "name": "python",
   "nbconvert_exporter": "python",
   "pygments_lexer": "ipython3",
   "version": "3.9.16"
  },
  "toc": {
   "base_numbering": 1,
   "nav_menu": {},
   "number_sections": true,
   "sideBar": true,
   "skip_h1_title": true,
   "title_cell": "Table of Contents",
   "title_sidebar": "Contents",
   "toc_cell": false,
   "toc_position": {},
   "toc_section_display": true,
   "toc_window_display": false
  }
 },
 "nbformat": 4,
 "nbformat_minor": 2
}
