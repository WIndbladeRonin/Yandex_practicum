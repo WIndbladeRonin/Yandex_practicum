{
 "cells": [
  {
   "cell_type": "markdown",
   "metadata": {},
   "source": [
    "# Восстановление золота из руды"
   ]
  },
  {
   "cell_type": "markdown",
   "metadata": {},
   "source": [
    "Подготовьте прототип модели машинного обучения для «Цифры». Компания разрабатывает решения для эффективной работы промышленных предприятий.\n",
    "\n",
    "Модель должна предсказать коэффициент восстановления золота из золотосодержащей руды. Используйте данные с параметрами добычи и очистки. \n",
    "\n",
    "Модель поможет оптимизировать производство, чтобы не запускать предприятие с убыточными характеристиками.\n",
    "\n",
    "Вам нужно:\n",
    "\n",
    "1. Подготовить данные;\n",
    "2. Провести исследовательский анализ данных;\n",
    "3. Построить и обучить модель.\n",
    "\n",
    "Чтобы выполнить проект, обращайтесь к библиотекам *pandas*, *matplotlib* и *sklearn.* Вам поможет их документация."
   ]
  },
  {
   "cell_type": "markdown",
   "metadata": {},
   "source": [
    "## Подготовка данных"
   ]
  },
  {
   "cell_type": "markdown",
   "metadata": {},
   "source": [
    "### Изучение данных"
   ]
  },
  {
   "cell_type": "markdown",
   "metadata": {},
   "source": [
    "Импорт библиотек"
   ]
  },
  {
   "cell_type": "code",
   "execution_count": 1,
   "metadata": {},
   "outputs": [],
   "source": [
    "import pandas as pd\n",
    "import matplotlib.pyplot as plt\n",
    "import seaborn as sns\n",
    "from sklearn.metrics import mean_absolute_error, make_scorer, mean_absolute_percentage_error\n",
    "from sklearn.preprocessing import StandardScaler\n",
    "from sklearn.linear_model import LinearRegression\n",
    "from sklearn.model_selection import cross_val_score\n",
    "from sklearn.ensemble import RandomForestRegressor\n",
    "from sklearn.model_selection import GridSearchCV"
   ]
  },
  {
   "cell_type": "code",
   "execution_count": 2,
   "metadata": {},
   "outputs": [],
   "source": [
    "pd.options.display.max_columns = 60"
   ]
  },
  {
   "cell_type": "markdown",
   "metadata": {},
   "source": [
    "В описании проекта указано что данные индексируются датой и временем получения информации (признак date). Соседние по времени параметры часто похожи."
   ]
  },
  {
   "cell_type": "markdown",
   "metadata": {},
   "source": [
    "Следовательно при чтении **.csv** файла за индексы можно взять колонку **'date'**"
   ]
  },
  {
   "cell_type": "markdown",
   "metadata": {},
   "source": [
    "А информация про похожие значения в соседних по времени ячейках можно будет использовать при заполнении пропусков"
   ]
  },
  {
   "cell_type": "markdown",
   "metadata": {},
   "source": [
    "Сохраним данные в переменные. Для обучающей выборки создадим копию **train_buffer**"
   ]
  },
  {
   "cell_type": "code",
   "execution_count": 3,
   "metadata": {},
   "outputs": [],
   "source": [
    "full = pd.read_csv('/datasets/gold_recovery_full_new.csv', index_col='date')\n",
    "train = pd.read_csv('/datasets/gold_recovery_train_new.csv', index_col='date')\n",
    "test = pd.read_csv('/datasets/gold_recovery_test_new.csv', index_col='date')\n",
    "\n",
    "train_buffer = pd.read_csv('/datasets/gold_recovery_train_new.csv', index_col='date')"
   ]
  },
  {
   "cell_type": "code",
   "execution_count": 4,
   "metadata": {},
   "outputs": [
    {
     "data": {
      "text/html": [
       "<div>\n",
       "<style scoped>\n",
       "    .dataframe tbody tr th:only-of-type {\n",
       "        vertical-align: middle;\n",
       "    }\n",
       "\n",
       "    .dataframe tbody tr th {\n",
       "        vertical-align: top;\n",
       "    }\n",
       "\n",
       "    .dataframe thead th {\n",
       "        text-align: right;\n",
       "    }\n",
       "</style>\n",
       "<table border=\"1\" class=\"dataframe\">\n",
       "  <thead>\n",
       "    <tr style=\"text-align: right;\">\n",
       "      <th></th>\n",
       "      <th>final.output.concentrate_ag</th>\n",
       "      <th>final.output.concentrate_pb</th>\n",
       "      <th>final.output.concentrate_sol</th>\n",
       "      <th>final.output.concentrate_au</th>\n",
       "      <th>final.output.recovery</th>\n",
       "      <th>final.output.tail_ag</th>\n",
       "      <th>final.output.tail_pb</th>\n",
       "      <th>final.output.tail_sol</th>\n",
       "      <th>final.output.tail_au</th>\n",
       "      <th>primary_cleaner.input.sulfate</th>\n",
       "      <th>primary_cleaner.input.depressant</th>\n",
       "      <th>primary_cleaner.input.feed_size</th>\n",
       "      <th>primary_cleaner.input.xanthate</th>\n",
       "      <th>primary_cleaner.output.concentrate_ag</th>\n",
       "      <th>primary_cleaner.output.concentrate_pb</th>\n",
       "      <th>primary_cleaner.output.concentrate_sol</th>\n",
       "      <th>primary_cleaner.output.concentrate_au</th>\n",
       "      <th>primary_cleaner.output.tail_ag</th>\n",
       "      <th>primary_cleaner.output.tail_pb</th>\n",
       "      <th>primary_cleaner.output.tail_sol</th>\n",
       "      <th>primary_cleaner.output.tail_au</th>\n",
       "      <th>primary_cleaner.state.floatbank8_a_air</th>\n",
       "      <th>primary_cleaner.state.floatbank8_a_level</th>\n",
       "      <th>primary_cleaner.state.floatbank8_b_air</th>\n",
       "      <th>primary_cleaner.state.floatbank8_b_level</th>\n",
       "      <th>primary_cleaner.state.floatbank8_c_air</th>\n",
       "      <th>primary_cleaner.state.floatbank8_c_level</th>\n",
       "      <th>primary_cleaner.state.floatbank8_d_air</th>\n",
       "      <th>primary_cleaner.state.floatbank8_d_level</th>\n",
       "      <th>rougher.calculation.sulfate_to_au_concentrate</th>\n",
       "      <th>...</th>\n",
       "      <th>rougher.state.floatbank10_c_air</th>\n",
       "      <th>rougher.state.floatbank10_c_level</th>\n",
       "      <th>rougher.state.floatbank10_d_air</th>\n",
       "      <th>rougher.state.floatbank10_d_level</th>\n",
       "      <th>rougher.state.floatbank10_e_air</th>\n",
       "      <th>rougher.state.floatbank10_e_level</th>\n",
       "      <th>rougher.state.floatbank10_f_air</th>\n",
       "      <th>rougher.state.floatbank10_f_level</th>\n",
       "      <th>secondary_cleaner.output.tail_ag</th>\n",
       "      <th>secondary_cleaner.output.tail_pb</th>\n",
       "      <th>secondary_cleaner.output.tail_sol</th>\n",
       "      <th>secondary_cleaner.output.tail_au</th>\n",
       "      <th>secondary_cleaner.state.floatbank2_a_air</th>\n",
       "      <th>secondary_cleaner.state.floatbank2_a_level</th>\n",
       "      <th>secondary_cleaner.state.floatbank2_b_air</th>\n",
       "      <th>secondary_cleaner.state.floatbank2_b_level</th>\n",
       "      <th>secondary_cleaner.state.floatbank3_a_air</th>\n",
       "      <th>secondary_cleaner.state.floatbank3_a_level</th>\n",
       "      <th>secondary_cleaner.state.floatbank3_b_air</th>\n",
       "      <th>secondary_cleaner.state.floatbank3_b_level</th>\n",
       "      <th>secondary_cleaner.state.floatbank4_a_air</th>\n",
       "      <th>secondary_cleaner.state.floatbank4_a_level</th>\n",
       "      <th>secondary_cleaner.state.floatbank4_b_air</th>\n",
       "      <th>secondary_cleaner.state.floatbank4_b_level</th>\n",
       "      <th>secondary_cleaner.state.floatbank5_a_air</th>\n",
       "      <th>secondary_cleaner.state.floatbank5_a_level</th>\n",
       "      <th>secondary_cleaner.state.floatbank5_b_air</th>\n",
       "      <th>secondary_cleaner.state.floatbank5_b_level</th>\n",
       "      <th>secondary_cleaner.state.floatbank6_a_air</th>\n",
       "      <th>secondary_cleaner.state.floatbank6_a_level</th>\n",
       "    </tr>\n",
       "    <tr>\n",
       "      <th>date</th>\n",
       "      <th></th>\n",
       "      <th></th>\n",
       "      <th></th>\n",
       "      <th></th>\n",
       "      <th></th>\n",
       "      <th></th>\n",
       "      <th></th>\n",
       "      <th></th>\n",
       "      <th></th>\n",
       "      <th></th>\n",
       "      <th></th>\n",
       "      <th></th>\n",
       "      <th></th>\n",
       "      <th></th>\n",
       "      <th></th>\n",
       "      <th></th>\n",
       "      <th></th>\n",
       "      <th></th>\n",
       "      <th></th>\n",
       "      <th></th>\n",
       "      <th></th>\n",
       "      <th></th>\n",
       "      <th></th>\n",
       "      <th></th>\n",
       "      <th></th>\n",
       "      <th></th>\n",
       "      <th></th>\n",
       "      <th></th>\n",
       "      <th></th>\n",
       "      <th></th>\n",
       "      <th></th>\n",
       "      <th></th>\n",
       "      <th></th>\n",
       "      <th></th>\n",
       "      <th></th>\n",
       "      <th></th>\n",
       "      <th></th>\n",
       "      <th></th>\n",
       "      <th></th>\n",
       "      <th></th>\n",
       "      <th></th>\n",
       "      <th></th>\n",
       "      <th></th>\n",
       "      <th></th>\n",
       "      <th></th>\n",
       "      <th></th>\n",
       "      <th></th>\n",
       "      <th></th>\n",
       "      <th></th>\n",
       "      <th></th>\n",
       "      <th></th>\n",
       "      <th></th>\n",
       "      <th></th>\n",
       "      <th></th>\n",
       "      <th></th>\n",
       "      <th></th>\n",
       "      <th></th>\n",
       "      <th></th>\n",
       "      <th></th>\n",
       "      <th></th>\n",
       "      <th></th>\n",
       "    </tr>\n",
       "  </thead>\n",
       "  <tbody>\n",
       "    <tr>\n",
       "      <th>2016-01-15 00:00:00</th>\n",
       "      <td>6.055403</td>\n",
       "      <td>9.889648</td>\n",
       "      <td>5.507324</td>\n",
       "      <td>42.192020</td>\n",
       "      <td>70.541216</td>\n",
       "      <td>10.411962</td>\n",
       "      <td>0.895447</td>\n",
       "      <td>16.904297</td>\n",
       "      <td>2.143149</td>\n",
       "      <td>127.092003</td>\n",
       "      <td>10.128295</td>\n",
       "      <td>7.25</td>\n",
       "      <td>0.988759</td>\n",
       "      <td>8.547551</td>\n",
       "      <td>10.389648</td>\n",
       "      <td>19.529297</td>\n",
       "      <td>34.174427</td>\n",
       "      <td>14.936526</td>\n",
       "      <td>2.534912</td>\n",
       "      <td>7.476074</td>\n",
       "      <td>2.106679</td>\n",
       "      <td>1549.775757</td>\n",
       "      <td>-498.912140</td>\n",
       "      <td>1551.434204</td>\n",
       "      <td>-516.403442</td>\n",
       "      <td>1549.873901</td>\n",
       "      <td>-498.666595</td>\n",
       "      <td>1554.367432</td>\n",
       "      <td>-493.428131</td>\n",
       "      <td>41885.707031</td>\n",
       "      <td>...</td>\n",
       "      <td>1602.375000</td>\n",
       "      <td>-442.204468</td>\n",
       "      <td>1598.937256</td>\n",
       "      <td>-451.294128</td>\n",
       "      <td>1404.472046</td>\n",
       "      <td>-455.462982</td>\n",
       "      <td>1416.354980</td>\n",
       "      <td>-451.939636</td>\n",
       "      <td>14.500184</td>\n",
       "      <td>4.694824</td>\n",
       "      <td>8.764648</td>\n",
       "      <td>2.606185</td>\n",
       "      <td>25.853109</td>\n",
       "      <td>-498.526489</td>\n",
       "      <td>23.893660</td>\n",
       "      <td>-501.406281</td>\n",
       "      <td>23.961798</td>\n",
       "      <td>-495.262817</td>\n",
       "      <td>21.940409</td>\n",
       "      <td>-499.340973</td>\n",
       "      <td>14.016835</td>\n",
       "      <td>-502.488007</td>\n",
       "      <td>12.099931</td>\n",
       "      <td>-504.715942</td>\n",
       "      <td>9.925633</td>\n",
       "      <td>-498.310211</td>\n",
       "      <td>8.079666</td>\n",
       "      <td>-500.470978</td>\n",
       "      <td>14.151341</td>\n",
       "      <td>-605.841980</td>\n",
       "    </tr>\n",
       "    <tr>\n",
       "      <th>2016-01-15 01:00:00</th>\n",
       "      <td>6.029369</td>\n",
       "      <td>9.968944</td>\n",
       "      <td>5.257781</td>\n",
       "      <td>42.701629</td>\n",
       "      <td>69.266198</td>\n",
       "      <td>10.462676</td>\n",
       "      <td>0.927452</td>\n",
       "      <td>16.634514</td>\n",
       "      <td>2.224930</td>\n",
       "      <td>125.629232</td>\n",
       "      <td>10.296251</td>\n",
       "      <td>7.25</td>\n",
       "      <td>1.002663</td>\n",
       "      <td>8.558743</td>\n",
       "      <td>10.497069</td>\n",
       "      <td>19.369147</td>\n",
       "      <td>34.118526</td>\n",
       "      <td>16.250511</td>\n",
       "      <td>3.049646</td>\n",
       "      <td>6.733907</td>\n",
       "      <td>2.353017</td>\n",
       "      <td>1576.166671</td>\n",
       "      <td>-500.904965</td>\n",
       "      <td>1575.950626</td>\n",
       "      <td>-499.865889</td>\n",
       "      <td>1575.994189</td>\n",
       "      <td>-499.315107</td>\n",
       "      <td>1574.479259</td>\n",
       "      <td>-498.931665</td>\n",
       "      <td>42050.861809</td>\n",
       "      <td>...</td>\n",
       "      <td>1600.479580</td>\n",
       "      <td>-449.830646</td>\n",
       "      <td>1600.527589</td>\n",
       "      <td>-449.953649</td>\n",
       "      <td>1399.227084</td>\n",
       "      <td>-450.869848</td>\n",
       "      <td>1399.719514</td>\n",
       "      <td>-450.119001</td>\n",
       "      <td>14.265474</td>\n",
       "      <td>4.592547</td>\n",
       "      <td>9.001494</td>\n",
       "      <td>2.488248</td>\n",
       "      <td>25.880539</td>\n",
       "      <td>-499.989656</td>\n",
       "      <td>23.889530</td>\n",
       "      <td>-500.372428</td>\n",
       "      <td>23.970550</td>\n",
       "      <td>-500.085473</td>\n",
       "      <td>22.085714</td>\n",
       "      <td>-499.446897</td>\n",
       "      <td>13.992281</td>\n",
       "      <td>-505.503262</td>\n",
       "      <td>11.950531</td>\n",
       "      <td>-501.331529</td>\n",
       "      <td>10.039245</td>\n",
       "      <td>-500.169983</td>\n",
       "      <td>7.984757</td>\n",
       "      <td>-500.582168</td>\n",
       "      <td>13.998353</td>\n",
       "      <td>-599.787184</td>\n",
       "    </tr>\n",
       "    <tr>\n",
       "      <th>2016-01-15 02:00:00</th>\n",
       "      <td>6.055926</td>\n",
       "      <td>10.213995</td>\n",
       "      <td>5.383759</td>\n",
       "      <td>42.657501</td>\n",
       "      <td>68.116445</td>\n",
       "      <td>10.507046</td>\n",
       "      <td>0.953716</td>\n",
       "      <td>16.208849</td>\n",
       "      <td>2.257889</td>\n",
       "      <td>123.819808</td>\n",
       "      <td>11.316280</td>\n",
       "      <td>7.25</td>\n",
       "      <td>0.991265</td>\n",
       "      <td>8.603505</td>\n",
       "      <td>10.354494</td>\n",
       "      <td>19.167579</td>\n",
       "      <td>33.969464</td>\n",
       "      <td>16.491823</td>\n",
       "      <td>3.124664</td>\n",
       "      <td>6.471768</td>\n",
       "      <td>2.416800</td>\n",
       "      <td>1601.556163</td>\n",
       "      <td>-499.997791</td>\n",
       "      <td>1600.386685</td>\n",
       "      <td>-500.607762</td>\n",
       "      <td>1602.003542</td>\n",
       "      <td>-500.870069</td>\n",
       "      <td>1599.541515</td>\n",
       "      <td>-499.827444</td>\n",
       "      <td>42018.101184</td>\n",
       "      <td>...</td>\n",
       "      <td>1599.672797</td>\n",
       "      <td>-449.954491</td>\n",
       "      <td>1599.849325</td>\n",
       "      <td>-449.954185</td>\n",
       "      <td>1399.180945</td>\n",
       "      <td>-449.937588</td>\n",
       "      <td>1400.316682</td>\n",
       "      <td>-450.527147</td>\n",
       "      <td>14.115662</td>\n",
       "      <td>4.624775</td>\n",
       "      <td>8.842896</td>\n",
       "      <td>2.458187</td>\n",
       "      <td>26.005245</td>\n",
       "      <td>-499.929616</td>\n",
       "      <td>23.886657</td>\n",
       "      <td>-499.951928</td>\n",
       "      <td>23.913535</td>\n",
       "      <td>-499.442343</td>\n",
       "      <td>23.957717</td>\n",
       "      <td>-499.901982</td>\n",
       "      <td>14.015015</td>\n",
       "      <td>-502.520901</td>\n",
       "      <td>11.912783</td>\n",
       "      <td>-501.133383</td>\n",
       "      <td>10.070913</td>\n",
       "      <td>-500.129135</td>\n",
       "      <td>8.013877</td>\n",
       "      <td>-500.517572</td>\n",
       "      <td>14.028663</td>\n",
       "      <td>-601.427363</td>\n",
       "    </tr>\n",
       "    <tr>\n",
       "      <th>2016-01-15 03:00:00</th>\n",
       "      <td>6.047977</td>\n",
       "      <td>9.977019</td>\n",
       "      <td>4.858634</td>\n",
       "      <td>42.689819</td>\n",
       "      <td>68.347543</td>\n",
       "      <td>10.422762</td>\n",
       "      <td>0.883763</td>\n",
       "      <td>16.532835</td>\n",
       "      <td>2.146849</td>\n",
       "      <td>122.270188</td>\n",
       "      <td>11.322140</td>\n",
       "      <td>7.25</td>\n",
       "      <td>0.996739</td>\n",
       "      <td>7.221879</td>\n",
       "      <td>8.496563</td>\n",
       "      <td>15.978538</td>\n",
       "      <td>28.260743</td>\n",
       "      <td>16.024359</td>\n",
       "      <td>2.960362</td>\n",
       "      <td>6.843791</td>\n",
       "      <td>2.262051</td>\n",
       "      <td>1599.968720</td>\n",
       "      <td>-500.951778</td>\n",
       "      <td>1600.659236</td>\n",
       "      <td>-499.677094</td>\n",
       "      <td>1600.304144</td>\n",
       "      <td>-500.727997</td>\n",
       "      <td>1600.449520</td>\n",
       "      <td>-500.052575</td>\n",
       "      <td>42029.447991</td>\n",
       "      <td>...</td>\n",
       "      <td>1600.012842</td>\n",
       "      <td>-449.910497</td>\n",
       "      <td>1597.725177</td>\n",
       "      <td>-450.130127</td>\n",
       "      <td>1400.943157</td>\n",
       "      <td>-450.030142</td>\n",
       "      <td>1400.234743</td>\n",
       "      <td>-449.790835</td>\n",
       "      <td>13.732071</td>\n",
       "      <td>4.482453</td>\n",
       "      <td>9.122857</td>\n",
       "      <td>2.322062</td>\n",
       "      <td>25.942508</td>\n",
       "      <td>-499.176749</td>\n",
       "      <td>23.955516</td>\n",
       "      <td>-499.848796</td>\n",
       "      <td>23.966838</td>\n",
       "      <td>-500.008812</td>\n",
       "      <td>23.954443</td>\n",
       "      <td>-499.944710</td>\n",
       "      <td>14.036510</td>\n",
       "      <td>-500.857308</td>\n",
       "      <td>11.999550</td>\n",
       "      <td>-501.193686</td>\n",
       "      <td>9.970366</td>\n",
       "      <td>-499.201640</td>\n",
       "      <td>7.977324</td>\n",
       "      <td>-500.255908</td>\n",
       "      <td>14.005551</td>\n",
       "      <td>-599.996129</td>\n",
       "    </tr>\n",
       "    <tr>\n",
       "      <th>2016-01-15 04:00:00</th>\n",
       "      <td>6.148599</td>\n",
       "      <td>10.142511</td>\n",
       "      <td>4.939416</td>\n",
       "      <td>42.774141</td>\n",
       "      <td>66.927016</td>\n",
       "      <td>10.360302</td>\n",
       "      <td>0.792826</td>\n",
       "      <td>16.525686</td>\n",
       "      <td>2.055292</td>\n",
       "      <td>117.988169</td>\n",
       "      <td>11.913613</td>\n",
       "      <td>7.25</td>\n",
       "      <td>1.009869</td>\n",
       "      <td>9.089428</td>\n",
       "      <td>9.986786</td>\n",
       "      <td>19.199864</td>\n",
       "      <td>33.044932</td>\n",
       "      <td>16.480185</td>\n",
       "      <td>3.112100</td>\n",
       "      <td>6.550154</td>\n",
       "      <td>2.277073</td>\n",
       "      <td>1601.339707</td>\n",
       "      <td>-498.975456</td>\n",
       "      <td>1601.437854</td>\n",
       "      <td>-500.323246</td>\n",
       "      <td>1599.581894</td>\n",
       "      <td>-500.888152</td>\n",
       "      <td>1602.649541</td>\n",
       "      <td>-500.593010</td>\n",
       "      <td>42125.354245</td>\n",
       "      <td>...</td>\n",
       "      <td>1600.357732</td>\n",
       "      <td>-450.034364</td>\n",
       "      <td>1599.759049</td>\n",
       "      <td>-449.909799</td>\n",
       "      <td>1401.560902</td>\n",
       "      <td>-448.877187</td>\n",
       "      <td>1401.160227</td>\n",
       "      <td>-450.407128</td>\n",
       "      <td>14.079996</td>\n",
       "      <td>4.470737</td>\n",
       "      <td>8.871028</td>\n",
       "      <td>2.330448</td>\n",
       "      <td>26.024787</td>\n",
       "      <td>-500.279091</td>\n",
       "      <td>23.955345</td>\n",
       "      <td>-500.593614</td>\n",
       "      <td>23.985703</td>\n",
       "      <td>-500.083811</td>\n",
       "      <td>23.958945</td>\n",
       "      <td>-499.990309</td>\n",
       "      <td>14.027298</td>\n",
       "      <td>-499.838632</td>\n",
       "      <td>11.953070</td>\n",
       "      <td>-501.053894</td>\n",
       "      <td>9.925709</td>\n",
       "      <td>-501.686727</td>\n",
       "      <td>7.894242</td>\n",
       "      <td>-500.356035</td>\n",
       "      <td>13.996647</td>\n",
       "      <td>-601.496691</td>\n",
       "    </tr>\n",
       "  </tbody>\n",
       "</table>\n",
       "<p>5 rows × 86 columns</p>\n",
       "</div>"
      ],
      "text/plain": [
       "                     final.output.concentrate_ag  final.output.concentrate_pb  \\\n",
       "date                                                                            \n",
       "2016-01-15 00:00:00                     6.055403                     9.889648   \n",
       "2016-01-15 01:00:00                     6.029369                     9.968944   \n",
       "2016-01-15 02:00:00                     6.055926                    10.213995   \n",
       "2016-01-15 03:00:00                     6.047977                     9.977019   \n",
       "2016-01-15 04:00:00                     6.148599                    10.142511   \n",
       "\n",
       "                     final.output.concentrate_sol  \\\n",
       "date                                                \n",
       "2016-01-15 00:00:00                      5.507324   \n",
       "2016-01-15 01:00:00                      5.257781   \n",
       "2016-01-15 02:00:00                      5.383759   \n",
       "2016-01-15 03:00:00                      4.858634   \n",
       "2016-01-15 04:00:00                      4.939416   \n",
       "\n",
       "                     final.output.concentrate_au  final.output.recovery  \\\n",
       "date                                                                      \n",
       "2016-01-15 00:00:00                    42.192020              70.541216   \n",
       "2016-01-15 01:00:00                    42.701629              69.266198   \n",
       "2016-01-15 02:00:00                    42.657501              68.116445   \n",
       "2016-01-15 03:00:00                    42.689819              68.347543   \n",
       "2016-01-15 04:00:00                    42.774141              66.927016   \n",
       "\n",
       "                     final.output.tail_ag  final.output.tail_pb  \\\n",
       "date                                                              \n",
       "2016-01-15 00:00:00             10.411962              0.895447   \n",
       "2016-01-15 01:00:00             10.462676              0.927452   \n",
       "2016-01-15 02:00:00             10.507046              0.953716   \n",
       "2016-01-15 03:00:00             10.422762              0.883763   \n",
       "2016-01-15 04:00:00             10.360302              0.792826   \n",
       "\n",
       "                     final.output.tail_sol  final.output.tail_au  \\\n",
       "date                                                               \n",
       "2016-01-15 00:00:00              16.904297              2.143149   \n",
       "2016-01-15 01:00:00              16.634514              2.224930   \n",
       "2016-01-15 02:00:00              16.208849              2.257889   \n",
       "2016-01-15 03:00:00              16.532835              2.146849   \n",
       "2016-01-15 04:00:00              16.525686              2.055292   \n",
       "\n",
       "                     primary_cleaner.input.sulfate  \\\n",
       "date                                                 \n",
       "2016-01-15 00:00:00                     127.092003   \n",
       "2016-01-15 01:00:00                     125.629232   \n",
       "2016-01-15 02:00:00                     123.819808   \n",
       "2016-01-15 03:00:00                     122.270188   \n",
       "2016-01-15 04:00:00                     117.988169   \n",
       "\n",
       "                     primary_cleaner.input.depressant  \\\n",
       "date                                                    \n",
       "2016-01-15 00:00:00                         10.128295   \n",
       "2016-01-15 01:00:00                         10.296251   \n",
       "2016-01-15 02:00:00                         11.316280   \n",
       "2016-01-15 03:00:00                         11.322140   \n",
       "2016-01-15 04:00:00                         11.913613   \n",
       "\n",
       "                     primary_cleaner.input.feed_size  \\\n",
       "date                                                   \n",
       "2016-01-15 00:00:00                             7.25   \n",
       "2016-01-15 01:00:00                             7.25   \n",
       "2016-01-15 02:00:00                             7.25   \n",
       "2016-01-15 03:00:00                             7.25   \n",
       "2016-01-15 04:00:00                             7.25   \n",
       "\n",
       "                     primary_cleaner.input.xanthate  \\\n",
       "date                                                  \n",
       "2016-01-15 00:00:00                        0.988759   \n",
       "2016-01-15 01:00:00                        1.002663   \n",
       "2016-01-15 02:00:00                        0.991265   \n",
       "2016-01-15 03:00:00                        0.996739   \n",
       "2016-01-15 04:00:00                        1.009869   \n",
       "\n",
       "                     primary_cleaner.output.concentrate_ag  \\\n",
       "date                                                         \n",
       "2016-01-15 00:00:00                               8.547551   \n",
       "2016-01-15 01:00:00                               8.558743   \n",
       "2016-01-15 02:00:00                               8.603505   \n",
       "2016-01-15 03:00:00                               7.221879   \n",
       "2016-01-15 04:00:00                               9.089428   \n",
       "\n",
       "                     primary_cleaner.output.concentrate_pb  \\\n",
       "date                                                         \n",
       "2016-01-15 00:00:00                              10.389648   \n",
       "2016-01-15 01:00:00                              10.497069   \n",
       "2016-01-15 02:00:00                              10.354494   \n",
       "2016-01-15 03:00:00                               8.496563   \n",
       "2016-01-15 04:00:00                               9.986786   \n",
       "\n",
       "                     primary_cleaner.output.concentrate_sol  \\\n",
       "date                                                          \n",
       "2016-01-15 00:00:00                               19.529297   \n",
       "2016-01-15 01:00:00                               19.369147   \n",
       "2016-01-15 02:00:00                               19.167579   \n",
       "2016-01-15 03:00:00                               15.978538   \n",
       "2016-01-15 04:00:00                               19.199864   \n",
       "\n",
       "                     primary_cleaner.output.concentrate_au  \\\n",
       "date                                                         \n",
       "2016-01-15 00:00:00                              34.174427   \n",
       "2016-01-15 01:00:00                              34.118526   \n",
       "2016-01-15 02:00:00                              33.969464   \n",
       "2016-01-15 03:00:00                              28.260743   \n",
       "2016-01-15 04:00:00                              33.044932   \n",
       "\n",
       "                     primary_cleaner.output.tail_ag  \\\n",
       "date                                                  \n",
       "2016-01-15 00:00:00                       14.936526   \n",
       "2016-01-15 01:00:00                       16.250511   \n",
       "2016-01-15 02:00:00                       16.491823   \n",
       "2016-01-15 03:00:00                       16.024359   \n",
       "2016-01-15 04:00:00                       16.480185   \n",
       "\n",
       "                     primary_cleaner.output.tail_pb  \\\n",
       "date                                                  \n",
       "2016-01-15 00:00:00                        2.534912   \n",
       "2016-01-15 01:00:00                        3.049646   \n",
       "2016-01-15 02:00:00                        3.124664   \n",
       "2016-01-15 03:00:00                        2.960362   \n",
       "2016-01-15 04:00:00                        3.112100   \n",
       "\n",
       "                     primary_cleaner.output.tail_sol  \\\n",
       "date                                                   \n",
       "2016-01-15 00:00:00                         7.476074   \n",
       "2016-01-15 01:00:00                         6.733907   \n",
       "2016-01-15 02:00:00                         6.471768   \n",
       "2016-01-15 03:00:00                         6.843791   \n",
       "2016-01-15 04:00:00                         6.550154   \n",
       "\n",
       "                     primary_cleaner.output.tail_au  \\\n",
       "date                                                  \n",
       "2016-01-15 00:00:00                        2.106679   \n",
       "2016-01-15 01:00:00                        2.353017   \n",
       "2016-01-15 02:00:00                        2.416800   \n",
       "2016-01-15 03:00:00                        2.262051   \n",
       "2016-01-15 04:00:00                        2.277073   \n",
       "\n",
       "                     primary_cleaner.state.floatbank8_a_air  \\\n",
       "date                                                          \n",
       "2016-01-15 00:00:00                             1549.775757   \n",
       "2016-01-15 01:00:00                             1576.166671   \n",
       "2016-01-15 02:00:00                             1601.556163   \n",
       "2016-01-15 03:00:00                             1599.968720   \n",
       "2016-01-15 04:00:00                             1601.339707   \n",
       "\n",
       "                     primary_cleaner.state.floatbank8_a_level  \\\n",
       "date                                                            \n",
       "2016-01-15 00:00:00                               -498.912140   \n",
       "2016-01-15 01:00:00                               -500.904965   \n",
       "2016-01-15 02:00:00                               -499.997791   \n",
       "2016-01-15 03:00:00                               -500.951778   \n",
       "2016-01-15 04:00:00                               -498.975456   \n",
       "\n",
       "                     primary_cleaner.state.floatbank8_b_air  \\\n",
       "date                                                          \n",
       "2016-01-15 00:00:00                             1551.434204   \n",
       "2016-01-15 01:00:00                             1575.950626   \n",
       "2016-01-15 02:00:00                             1600.386685   \n",
       "2016-01-15 03:00:00                             1600.659236   \n",
       "2016-01-15 04:00:00                             1601.437854   \n",
       "\n",
       "                     primary_cleaner.state.floatbank8_b_level  \\\n",
       "date                                                            \n",
       "2016-01-15 00:00:00                               -516.403442   \n",
       "2016-01-15 01:00:00                               -499.865889   \n",
       "2016-01-15 02:00:00                               -500.607762   \n",
       "2016-01-15 03:00:00                               -499.677094   \n",
       "2016-01-15 04:00:00                               -500.323246   \n",
       "\n",
       "                     primary_cleaner.state.floatbank8_c_air  \\\n",
       "date                                                          \n",
       "2016-01-15 00:00:00                             1549.873901   \n",
       "2016-01-15 01:00:00                             1575.994189   \n",
       "2016-01-15 02:00:00                             1602.003542   \n",
       "2016-01-15 03:00:00                             1600.304144   \n",
       "2016-01-15 04:00:00                             1599.581894   \n",
       "\n",
       "                     primary_cleaner.state.floatbank8_c_level  \\\n",
       "date                                                            \n",
       "2016-01-15 00:00:00                               -498.666595   \n",
       "2016-01-15 01:00:00                               -499.315107   \n",
       "2016-01-15 02:00:00                               -500.870069   \n",
       "2016-01-15 03:00:00                               -500.727997   \n",
       "2016-01-15 04:00:00                               -500.888152   \n",
       "\n",
       "                     primary_cleaner.state.floatbank8_d_air  \\\n",
       "date                                                          \n",
       "2016-01-15 00:00:00                             1554.367432   \n",
       "2016-01-15 01:00:00                             1574.479259   \n",
       "2016-01-15 02:00:00                             1599.541515   \n",
       "2016-01-15 03:00:00                             1600.449520   \n",
       "2016-01-15 04:00:00                             1602.649541   \n",
       "\n",
       "                     primary_cleaner.state.floatbank8_d_level  \\\n",
       "date                                                            \n",
       "2016-01-15 00:00:00                               -493.428131   \n",
       "2016-01-15 01:00:00                               -498.931665   \n",
       "2016-01-15 02:00:00                               -499.827444   \n",
       "2016-01-15 03:00:00                               -500.052575   \n",
       "2016-01-15 04:00:00                               -500.593010   \n",
       "\n",
       "                     rougher.calculation.sulfate_to_au_concentrate  ...  \\\n",
       "date                                                                ...   \n",
       "2016-01-15 00:00:00                                   41885.707031  ...   \n",
       "2016-01-15 01:00:00                                   42050.861809  ...   \n",
       "2016-01-15 02:00:00                                   42018.101184  ...   \n",
       "2016-01-15 03:00:00                                   42029.447991  ...   \n",
       "2016-01-15 04:00:00                                   42125.354245  ...   \n",
       "\n",
       "                     rougher.state.floatbank10_c_air  \\\n",
       "date                                                   \n",
       "2016-01-15 00:00:00                      1602.375000   \n",
       "2016-01-15 01:00:00                      1600.479580   \n",
       "2016-01-15 02:00:00                      1599.672797   \n",
       "2016-01-15 03:00:00                      1600.012842   \n",
       "2016-01-15 04:00:00                      1600.357732   \n",
       "\n",
       "                     rougher.state.floatbank10_c_level  \\\n",
       "date                                                     \n",
       "2016-01-15 00:00:00                        -442.204468   \n",
       "2016-01-15 01:00:00                        -449.830646   \n",
       "2016-01-15 02:00:00                        -449.954491   \n",
       "2016-01-15 03:00:00                        -449.910497   \n",
       "2016-01-15 04:00:00                        -450.034364   \n",
       "\n",
       "                     rougher.state.floatbank10_d_air  \\\n",
       "date                                                   \n",
       "2016-01-15 00:00:00                      1598.937256   \n",
       "2016-01-15 01:00:00                      1600.527589   \n",
       "2016-01-15 02:00:00                      1599.849325   \n",
       "2016-01-15 03:00:00                      1597.725177   \n",
       "2016-01-15 04:00:00                      1599.759049   \n",
       "\n",
       "                     rougher.state.floatbank10_d_level  \\\n",
       "date                                                     \n",
       "2016-01-15 00:00:00                        -451.294128   \n",
       "2016-01-15 01:00:00                        -449.953649   \n",
       "2016-01-15 02:00:00                        -449.954185   \n",
       "2016-01-15 03:00:00                        -450.130127   \n",
       "2016-01-15 04:00:00                        -449.909799   \n",
       "\n",
       "                     rougher.state.floatbank10_e_air  \\\n",
       "date                                                   \n",
       "2016-01-15 00:00:00                      1404.472046   \n",
       "2016-01-15 01:00:00                      1399.227084   \n",
       "2016-01-15 02:00:00                      1399.180945   \n",
       "2016-01-15 03:00:00                      1400.943157   \n",
       "2016-01-15 04:00:00                      1401.560902   \n",
       "\n",
       "                     rougher.state.floatbank10_e_level  \\\n",
       "date                                                     \n",
       "2016-01-15 00:00:00                        -455.462982   \n",
       "2016-01-15 01:00:00                        -450.869848   \n",
       "2016-01-15 02:00:00                        -449.937588   \n",
       "2016-01-15 03:00:00                        -450.030142   \n",
       "2016-01-15 04:00:00                        -448.877187   \n",
       "\n",
       "                     rougher.state.floatbank10_f_air  \\\n",
       "date                                                   \n",
       "2016-01-15 00:00:00                      1416.354980   \n",
       "2016-01-15 01:00:00                      1399.719514   \n",
       "2016-01-15 02:00:00                      1400.316682   \n",
       "2016-01-15 03:00:00                      1400.234743   \n",
       "2016-01-15 04:00:00                      1401.160227   \n",
       "\n",
       "                     rougher.state.floatbank10_f_level  \\\n",
       "date                                                     \n",
       "2016-01-15 00:00:00                        -451.939636   \n",
       "2016-01-15 01:00:00                        -450.119001   \n",
       "2016-01-15 02:00:00                        -450.527147   \n",
       "2016-01-15 03:00:00                        -449.790835   \n",
       "2016-01-15 04:00:00                        -450.407128   \n",
       "\n",
       "                     secondary_cleaner.output.tail_ag  \\\n",
       "date                                                    \n",
       "2016-01-15 00:00:00                         14.500184   \n",
       "2016-01-15 01:00:00                         14.265474   \n",
       "2016-01-15 02:00:00                         14.115662   \n",
       "2016-01-15 03:00:00                         13.732071   \n",
       "2016-01-15 04:00:00                         14.079996   \n",
       "\n",
       "                     secondary_cleaner.output.tail_pb  \\\n",
       "date                                                    \n",
       "2016-01-15 00:00:00                          4.694824   \n",
       "2016-01-15 01:00:00                          4.592547   \n",
       "2016-01-15 02:00:00                          4.624775   \n",
       "2016-01-15 03:00:00                          4.482453   \n",
       "2016-01-15 04:00:00                          4.470737   \n",
       "\n",
       "                     secondary_cleaner.output.tail_sol  \\\n",
       "date                                                     \n",
       "2016-01-15 00:00:00                           8.764648   \n",
       "2016-01-15 01:00:00                           9.001494   \n",
       "2016-01-15 02:00:00                           8.842896   \n",
       "2016-01-15 03:00:00                           9.122857   \n",
       "2016-01-15 04:00:00                           8.871028   \n",
       "\n",
       "                     secondary_cleaner.output.tail_au  \\\n",
       "date                                                    \n",
       "2016-01-15 00:00:00                          2.606185   \n",
       "2016-01-15 01:00:00                          2.488248   \n",
       "2016-01-15 02:00:00                          2.458187   \n",
       "2016-01-15 03:00:00                          2.322062   \n",
       "2016-01-15 04:00:00                          2.330448   \n",
       "\n",
       "                     secondary_cleaner.state.floatbank2_a_air  \\\n",
       "date                                                            \n",
       "2016-01-15 00:00:00                                 25.853109   \n",
       "2016-01-15 01:00:00                                 25.880539   \n",
       "2016-01-15 02:00:00                                 26.005245   \n",
       "2016-01-15 03:00:00                                 25.942508   \n",
       "2016-01-15 04:00:00                                 26.024787   \n",
       "\n",
       "                     secondary_cleaner.state.floatbank2_a_level  \\\n",
       "date                                                              \n",
       "2016-01-15 00:00:00                                 -498.526489   \n",
       "2016-01-15 01:00:00                                 -499.989656   \n",
       "2016-01-15 02:00:00                                 -499.929616   \n",
       "2016-01-15 03:00:00                                 -499.176749   \n",
       "2016-01-15 04:00:00                                 -500.279091   \n",
       "\n",
       "                     secondary_cleaner.state.floatbank2_b_air  \\\n",
       "date                                                            \n",
       "2016-01-15 00:00:00                                 23.893660   \n",
       "2016-01-15 01:00:00                                 23.889530   \n",
       "2016-01-15 02:00:00                                 23.886657   \n",
       "2016-01-15 03:00:00                                 23.955516   \n",
       "2016-01-15 04:00:00                                 23.955345   \n",
       "\n",
       "                     secondary_cleaner.state.floatbank2_b_level  \\\n",
       "date                                                              \n",
       "2016-01-15 00:00:00                                 -501.406281   \n",
       "2016-01-15 01:00:00                                 -500.372428   \n",
       "2016-01-15 02:00:00                                 -499.951928   \n",
       "2016-01-15 03:00:00                                 -499.848796   \n",
       "2016-01-15 04:00:00                                 -500.593614   \n",
       "\n",
       "                     secondary_cleaner.state.floatbank3_a_air  \\\n",
       "date                                                            \n",
       "2016-01-15 00:00:00                                 23.961798   \n",
       "2016-01-15 01:00:00                                 23.970550   \n",
       "2016-01-15 02:00:00                                 23.913535   \n",
       "2016-01-15 03:00:00                                 23.966838   \n",
       "2016-01-15 04:00:00                                 23.985703   \n",
       "\n",
       "                     secondary_cleaner.state.floatbank3_a_level  \\\n",
       "date                                                              \n",
       "2016-01-15 00:00:00                                 -495.262817   \n",
       "2016-01-15 01:00:00                                 -500.085473   \n",
       "2016-01-15 02:00:00                                 -499.442343   \n",
       "2016-01-15 03:00:00                                 -500.008812   \n",
       "2016-01-15 04:00:00                                 -500.083811   \n",
       "\n",
       "                     secondary_cleaner.state.floatbank3_b_air  \\\n",
       "date                                                            \n",
       "2016-01-15 00:00:00                                 21.940409   \n",
       "2016-01-15 01:00:00                                 22.085714   \n",
       "2016-01-15 02:00:00                                 23.957717   \n",
       "2016-01-15 03:00:00                                 23.954443   \n",
       "2016-01-15 04:00:00                                 23.958945   \n",
       "\n",
       "                     secondary_cleaner.state.floatbank3_b_level  \\\n",
       "date                                                              \n",
       "2016-01-15 00:00:00                                 -499.340973   \n",
       "2016-01-15 01:00:00                                 -499.446897   \n",
       "2016-01-15 02:00:00                                 -499.901982   \n",
       "2016-01-15 03:00:00                                 -499.944710   \n",
       "2016-01-15 04:00:00                                 -499.990309   \n",
       "\n",
       "                     secondary_cleaner.state.floatbank4_a_air  \\\n",
       "date                                                            \n",
       "2016-01-15 00:00:00                                 14.016835   \n",
       "2016-01-15 01:00:00                                 13.992281   \n",
       "2016-01-15 02:00:00                                 14.015015   \n",
       "2016-01-15 03:00:00                                 14.036510   \n",
       "2016-01-15 04:00:00                                 14.027298   \n",
       "\n",
       "                     secondary_cleaner.state.floatbank4_a_level  \\\n",
       "date                                                              \n",
       "2016-01-15 00:00:00                                 -502.488007   \n",
       "2016-01-15 01:00:00                                 -505.503262   \n",
       "2016-01-15 02:00:00                                 -502.520901   \n",
       "2016-01-15 03:00:00                                 -500.857308   \n",
       "2016-01-15 04:00:00                                 -499.838632   \n",
       "\n",
       "                     secondary_cleaner.state.floatbank4_b_air  \\\n",
       "date                                                            \n",
       "2016-01-15 00:00:00                                 12.099931   \n",
       "2016-01-15 01:00:00                                 11.950531   \n",
       "2016-01-15 02:00:00                                 11.912783   \n",
       "2016-01-15 03:00:00                                 11.999550   \n",
       "2016-01-15 04:00:00                                 11.953070   \n",
       "\n",
       "                     secondary_cleaner.state.floatbank4_b_level  \\\n",
       "date                                                              \n",
       "2016-01-15 00:00:00                                 -504.715942   \n",
       "2016-01-15 01:00:00                                 -501.331529   \n",
       "2016-01-15 02:00:00                                 -501.133383   \n",
       "2016-01-15 03:00:00                                 -501.193686   \n",
       "2016-01-15 04:00:00                                 -501.053894   \n",
       "\n",
       "                     secondary_cleaner.state.floatbank5_a_air  \\\n",
       "date                                                            \n",
       "2016-01-15 00:00:00                                  9.925633   \n",
       "2016-01-15 01:00:00                                 10.039245   \n",
       "2016-01-15 02:00:00                                 10.070913   \n",
       "2016-01-15 03:00:00                                  9.970366   \n",
       "2016-01-15 04:00:00                                  9.925709   \n",
       "\n",
       "                     secondary_cleaner.state.floatbank5_a_level  \\\n",
       "date                                                              \n",
       "2016-01-15 00:00:00                                 -498.310211   \n",
       "2016-01-15 01:00:00                                 -500.169983   \n",
       "2016-01-15 02:00:00                                 -500.129135   \n",
       "2016-01-15 03:00:00                                 -499.201640   \n",
       "2016-01-15 04:00:00                                 -501.686727   \n",
       "\n",
       "                     secondary_cleaner.state.floatbank5_b_air  \\\n",
       "date                                                            \n",
       "2016-01-15 00:00:00                                  8.079666   \n",
       "2016-01-15 01:00:00                                  7.984757   \n",
       "2016-01-15 02:00:00                                  8.013877   \n",
       "2016-01-15 03:00:00                                  7.977324   \n",
       "2016-01-15 04:00:00                                  7.894242   \n",
       "\n",
       "                     secondary_cleaner.state.floatbank5_b_level  \\\n",
       "date                                                              \n",
       "2016-01-15 00:00:00                                 -500.470978   \n",
       "2016-01-15 01:00:00                                 -500.582168   \n",
       "2016-01-15 02:00:00                                 -500.517572   \n",
       "2016-01-15 03:00:00                                 -500.255908   \n",
       "2016-01-15 04:00:00                                 -500.356035   \n",
       "\n",
       "                     secondary_cleaner.state.floatbank6_a_air  \\\n",
       "date                                                            \n",
       "2016-01-15 00:00:00                                 14.151341   \n",
       "2016-01-15 01:00:00                                 13.998353   \n",
       "2016-01-15 02:00:00                                 14.028663   \n",
       "2016-01-15 03:00:00                                 14.005551   \n",
       "2016-01-15 04:00:00                                 13.996647   \n",
       "\n",
       "                     secondary_cleaner.state.floatbank6_a_level  \n",
       "date                                                             \n",
       "2016-01-15 00:00:00                                 -605.841980  \n",
       "2016-01-15 01:00:00                                 -599.787184  \n",
       "2016-01-15 02:00:00                                 -601.427363  \n",
       "2016-01-15 03:00:00                                 -599.996129  \n",
       "2016-01-15 04:00:00                                 -601.496691  \n",
       "\n",
       "[5 rows x 86 columns]"
      ]
     },
     "metadata": {},
     "output_type": "display_data"
    },
    {
     "name": "stdout",
     "output_type": "stream",
     "text": [
      "<class 'pandas.core.frame.DataFrame'>\n",
      "Index: 19439 entries, 2016-01-15 00:00:00 to 2018-08-18 10:59:59\n",
      "Data columns (total 86 columns):\n",
      " #   Column                                              Non-Null Count  Dtype  \n",
      "---  ------                                              --------------  -----  \n",
      " 0   final.output.concentrate_ag                         19438 non-null  float64\n",
      " 1   final.output.concentrate_pb                         19438 non-null  float64\n",
      " 2   final.output.concentrate_sol                        19228 non-null  float64\n",
      " 3   final.output.concentrate_au                         19439 non-null  float64\n",
      " 4   final.output.recovery                               19439 non-null  float64\n",
      " 5   final.output.tail_ag                                19438 non-null  float64\n",
      " 6   final.output.tail_pb                                19338 non-null  float64\n",
      " 7   final.output.tail_sol                               19433 non-null  float64\n",
      " 8   final.output.tail_au                                19439 non-null  float64\n",
      " 9   primary_cleaner.input.sulfate                       19415 non-null  float64\n",
      " 10  primary_cleaner.input.depressant                    19402 non-null  float64\n",
      " 11  primary_cleaner.input.feed_size                     19439 non-null  float64\n",
      " 12  primary_cleaner.input.xanthate                      19335 non-null  float64\n",
      " 13  primary_cleaner.output.concentrate_ag               19439 non-null  float64\n",
      " 14  primary_cleaner.output.concentrate_pb               19323 non-null  float64\n",
      " 15  primary_cleaner.output.concentrate_sol              19069 non-null  float64\n",
      " 16  primary_cleaner.output.concentrate_au               19439 non-null  float64\n",
      " 17  primary_cleaner.output.tail_ag                      19435 non-null  float64\n",
      " 18  primary_cleaner.output.tail_pb                      19418 non-null  float64\n",
      " 19  primary_cleaner.output.tail_sol                     19377 non-null  float64\n",
      " 20  primary_cleaner.output.tail_au                      19439 non-null  float64\n",
      " 21  primary_cleaner.state.floatbank8_a_air              19435 non-null  float64\n",
      " 22  primary_cleaner.state.floatbank8_a_level            19438 non-null  float64\n",
      " 23  primary_cleaner.state.floatbank8_b_air              19435 non-null  float64\n",
      " 24  primary_cleaner.state.floatbank8_b_level            19438 non-null  float64\n",
      " 25  primary_cleaner.state.floatbank8_c_air              19437 non-null  float64\n",
      " 26  primary_cleaner.state.floatbank8_c_level            19438 non-null  float64\n",
      " 27  primary_cleaner.state.floatbank8_d_air              19436 non-null  float64\n",
      " 28  primary_cleaner.state.floatbank8_d_level            19438 non-null  float64\n",
      " 29  rougher.calculation.sulfate_to_au_concentrate       19437 non-null  float64\n",
      " 30  rougher.calculation.floatbank10_sulfate_to_au_feed  19437 non-null  float64\n",
      " 31  rougher.calculation.floatbank11_sulfate_to_au_feed  19437 non-null  float64\n",
      " 32  rougher.calculation.au_pb_ratio                     19439 non-null  float64\n",
      " 33  rougher.input.feed_ag                               19439 non-null  float64\n",
      " 34  rougher.input.feed_pb                               19339 non-null  float64\n",
      " 35  rougher.input.feed_rate                             19428 non-null  float64\n",
      " 36  rougher.input.feed_size                             19294 non-null  float64\n",
      " 37  rougher.input.feed_sol                              19340 non-null  float64\n",
      " 38  rougher.input.feed_au                               19439 non-null  float64\n",
      " 39  rougher.input.floatbank10_sulfate                   19405 non-null  float64\n",
      " 40  rougher.input.floatbank10_xanthate                  19431 non-null  float64\n",
      " 41  rougher.input.floatbank11_sulfate                   19395 non-null  float64\n",
      " 42  rougher.input.floatbank11_xanthate                  18986 non-null  float64\n",
      " 43  rougher.output.concentrate_ag                       19439 non-null  float64\n",
      " 44  rougher.output.concentrate_pb                       19439 non-null  float64\n",
      " 45  rougher.output.concentrate_sol                      19416 non-null  float64\n",
      " 46  rougher.output.concentrate_au                       19439 non-null  float64\n",
      " 47  rougher.output.recovery                             19439 non-null  float64\n",
      " 48  rougher.output.tail_ag                              19438 non-null  float64\n",
      " 49  rougher.output.tail_pb                              19439 non-null  float64\n",
      " 50  rougher.output.tail_sol                             19439 non-null  float64\n",
      " 51  rougher.output.tail_au                              19439 non-null  float64\n",
      " 52  rougher.state.floatbank10_a_air                     19438 non-null  float64\n",
      " 53  rougher.state.floatbank10_a_level                   19438 non-null  float64\n",
      " 54  rougher.state.floatbank10_b_air                     19438 non-null  float64\n",
      " 55  rougher.state.floatbank10_b_level                   19438 non-null  float64\n",
      " 56  rougher.state.floatbank10_c_air                     19438 non-null  float64\n",
      " 57  rougher.state.floatbank10_c_level                   19438 non-null  float64\n",
      " 58  rougher.state.floatbank10_d_air                     19439 non-null  float64\n",
      " 59  rougher.state.floatbank10_d_level                   19439 non-null  float64\n",
      " 60  rougher.state.floatbank10_e_air                     19003 non-null  float64\n",
      " 61  rougher.state.floatbank10_e_level                   19439 non-null  float64\n",
      " 62  rougher.state.floatbank10_f_air                     19439 non-null  float64\n",
      " 63  rougher.state.floatbank10_f_level                   19439 non-null  float64\n",
      " 64  secondary_cleaner.output.tail_ag                    19437 non-null  float64\n",
      " 65  secondary_cleaner.output.tail_pb                    19427 non-null  float64\n",
      " 66  secondary_cleaner.output.tail_sol                   17691 non-null  float64\n",
      " 67  secondary_cleaner.output.tail_au                    19439 non-null  float64\n",
      " 68  secondary_cleaner.state.floatbank2_a_air            19219 non-null  float64\n",
      " 69  secondary_cleaner.state.floatbank2_a_level          19438 non-null  float64\n",
      " 70  secondary_cleaner.state.floatbank2_b_air            19416 non-null  float64\n",
      " 71  secondary_cleaner.state.floatbank2_b_level          19438 non-null  float64\n",
      " 72  secondary_cleaner.state.floatbank3_a_air            19426 non-null  float64\n",
      " 73  secondary_cleaner.state.floatbank3_a_level          19438 non-null  float64\n",
      " 74  secondary_cleaner.state.floatbank3_b_air            19438 non-null  float64\n",
      " 75  secondary_cleaner.state.floatbank3_b_level          19438 non-null  float64\n",
      " 76  secondary_cleaner.state.floatbank4_a_air            19433 non-null  float64\n",
      " 77  secondary_cleaner.state.floatbank4_a_level          19438 non-null  float64\n",
      " 78  secondary_cleaner.state.floatbank4_b_air            19438 non-null  float64\n",
      " 79  secondary_cleaner.state.floatbank4_b_level          19438 non-null  float64\n",
      " 80  secondary_cleaner.state.floatbank5_a_air            19438 non-null  float64\n",
      " 81  secondary_cleaner.state.floatbank5_a_level          19438 non-null  float64\n",
      " 82  secondary_cleaner.state.floatbank5_b_air            19438 non-null  float64\n",
      " 83  secondary_cleaner.state.floatbank5_b_level          19438 non-null  float64\n",
      " 84  secondary_cleaner.state.floatbank6_a_air            19437 non-null  float64\n",
      " 85  secondary_cleaner.state.floatbank6_a_level          19438 non-null  float64\n",
      "dtypes: float64(86)\n",
      "memory usage: 12.9+ MB\n",
      "None\n"
     ]
    },
    {
     "data": {
      "text/html": [
       "<div>\n",
       "<style scoped>\n",
       "    .dataframe tbody tr th:only-of-type {\n",
       "        vertical-align: middle;\n",
       "    }\n",
       "\n",
       "    .dataframe tbody tr th {\n",
       "        vertical-align: top;\n",
       "    }\n",
       "\n",
       "    .dataframe thead th {\n",
       "        text-align: right;\n",
       "    }\n",
       "</style>\n",
       "<table border=\"1\" class=\"dataframe\">\n",
       "  <thead>\n",
       "    <tr style=\"text-align: right;\">\n",
       "      <th></th>\n",
       "      <th>final.output.concentrate_ag</th>\n",
       "      <th>final.output.concentrate_pb</th>\n",
       "      <th>final.output.concentrate_sol</th>\n",
       "      <th>final.output.concentrate_au</th>\n",
       "      <th>final.output.recovery</th>\n",
       "      <th>final.output.tail_ag</th>\n",
       "      <th>final.output.tail_pb</th>\n",
       "      <th>final.output.tail_sol</th>\n",
       "      <th>final.output.tail_au</th>\n",
       "      <th>primary_cleaner.input.sulfate</th>\n",
       "      <th>primary_cleaner.input.depressant</th>\n",
       "      <th>primary_cleaner.input.feed_size</th>\n",
       "      <th>primary_cleaner.input.xanthate</th>\n",
       "      <th>primary_cleaner.output.concentrate_ag</th>\n",
       "      <th>primary_cleaner.output.concentrate_pb</th>\n",
       "      <th>primary_cleaner.output.concentrate_sol</th>\n",
       "      <th>primary_cleaner.output.concentrate_au</th>\n",
       "      <th>primary_cleaner.output.tail_ag</th>\n",
       "      <th>primary_cleaner.output.tail_pb</th>\n",
       "      <th>primary_cleaner.output.tail_sol</th>\n",
       "      <th>primary_cleaner.output.tail_au</th>\n",
       "      <th>primary_cleaner.state.floatbank8_a_air</th>\n",
       "      <th>primary_cleaner.state.floatbank8_a_level</th>\n",
       "      <th>primary_cleaner.state.floatbank8_b_air</th>\n",
       "      <th>primary_cleaner.state.floatbank8_b_level</th>\n",
       "      <th>primary_cleaner.state.floatbank8_c_air</th>\n",
       "      <th>primary_cleaner.state.floatbank8_c_level</th>\n",
       "      <th>primary_cleaner.state.floatbank8_d_air</th>\n",
       "      <th>primary_cleaner.state.floatbank8_d_level</th>\n",
       "      <th>rougher.calculation.sulfate_to_au_concentrate</th>\n",
       "      <th>...</th>\n",
       "      <th>rougher.state.floatbank10_c_air</th>\n",
       "      <th>rougher.state.floatbank10_c_level</th>\n",
       "      <th>rougher.state.floatbank10_d_air</th>\n",
       "      <th>rougher.state.floatbank10_d_level</th>\n",
       "      <th>rougher.state.floatbank10_e_air</th>\n",
       "      <th>rougher.state.floatbank10_e_level</th>\n",
       "      <th>rougher.state.floatbank10_f_air</th>\n",
       "      <th>rougher.state.floatbank10_f_level</th>\n",
       "      <th>secondary_cleaner.output.tail_ag</th>\n",
       "      <th>secondary_cleaner.output.tail_pb</th>\n",
       "      <th>secondary_cleaner.output.tail_sol</th>\n",
       "      <th>secondary_cleaner.output.tail_au</th>\n",
       "      <th>secondary_cleaner.state.floatbank2_a_air</th>\n",
       "      <th>secondary_cleaner.state.floatbank2_a_level</th>\n",
       "      <th>secondary_cleaner.state.floatbank2_b_air</th>\n",
       "      <th>secondary_cleaner.state.floatbank2_b_level</th>\n",
       "      <th>secondary_cleaner.state.floatbank3_a_air</th>\n",
       "      <th>secondary_cleaner.state.floatbank3_a_level</th>\n",
       "      <th>secondary_cleaner.state.floatbank3_b_air</th>\n",
       "      <th>secondary_cleaner.state.floatbank3_b_level</th>\n",
       "      <th>secondary_cleaner.state.floatbank4_a_air</th>\n",
       "      <th>secondary_cleaner.state.floatbank4_a_level</th>\n",
       "      <th>secondary_cleaner.state.floatbank4_b_air</th>\n",
       "      <th>secondary_cleaner.state.floatbank4_b_level</th>\n",
       "      <th>secondary_cleaner.state.floatbank5_a_air</th>\n",
       "      <th>secondary_cleaner.state.floatbank5_a_level</th>\n",
       "      <th>secondary_cleaner.state.floatbank5_b_air</th>\n",
       "      <th>secondary_cleaner.state.floatbank5_b_level</th>\n",
       "      <th>secondary_cleaner.state.floatbank6_a_air</th>\n",
       "      <th>secondary_cleaner.state.floatbank6_a_level</th>\n",
       "    </tr>\n",
       "    <tr>\n",
       "      <th>date</th>\n",
       "      <th></th>\n",
       "      <th></th>\n",
       "      <th></th>\n",
       "      <th></th>\n",
       "      <th></th>\n",
       "      <th></th>\n",
       "      <th></th>\n",
       "      <th></th>\n",
       "      <th></th>\n",
       "      <th></th>\n",
       "      <th></th>\n",
       "      <th></th>\n",
       "      <th></th>\n",
       "      <th></th>\n",
       "      <th></th>\n",
       "      <th></th>\n",
       "      <th></th>\n",
       "      <th></th>\n",
       "      <th></th>\n",
       "      <th></th>\n",
       "      <th></th>\n",
       "      <th></th>\n",
       "      <th></th>\n",
       "      <th></th>\n",
       "      <th></th>\n",
       "      <th></th>\n",
       "      <th></th>\n",
       "      <th></th>\n",
       "      <th></th>\n",
       "      <th></th>\n",
       "      <th></th>\n",
       "      <th></th>\n",
       "      <th></th>\n",
       "      <th></th>\n",
       "      <th></th>\n",
       "      <th></th>\n",
       "      <th></th>\n",
       "      <th></th>\n",
       "      <th></th>\n",
       "      <th></th>\n",
       "      <th></th>\n",
       "      <th></th>\n",
       "      <th></th>\n",
       "      <th></th>\n",
       "      <th></th>\n",
       "      <th></th>\n",
       "      <th></th>\n",
       "      <th></th>\n",
       "      <th></th>\n",
       "      <th></th>\n",
       "      <th></th>\n",
       "      <th></th>\n",
       "      <th></th>\n",
       "      <th></th>\n",
       "      <th></th>\n",
       "      <th></th>\n",
       "      <th></th>\n",
       "      <th></th>\n",
       "      <th></th>\n",
       "      <th></th>\n",
       "      <th></th>\n",
       "    </tr>\n",
       "  </thead>\n",
       "  <tbody>\n",
       "    <tr>\n",
       "      <th>2016-01-15 00:00:00</th>\n",
       "      <td>6.055403</td>\n",
       "      <td>9.889648</td>\n",
       "      <td>5.507324</td>\n",
       "      <td>42.192020</td>\n",
       "      <td>70.541216</td>\n",
       "      <td>10.411962</td>\n",
       "      <td>0.895447</td>\n",
       "      <td>16.904297</td>\n",
       "      <td>2.143149</td>\n",
       "      <td>127.092003</td>\n",
       "      <td>10.128295</td>\n",
       "      <td>7.25</td>\n",
       "      <td>0.988759</td>\n",
       "      <td>8.547551</td>\n",
       "      <td>10.389648</td>\n",
       "      <td>19.529297</td>\n",
       "      <td>34.174427</td>\n",
       "      <td>14.936526</td>\n",
       "      <td>2.534912</td>\n",
       "      <td>7.476074</td>\n",
       "      <td>2.106679</td>\n",
       "      <td>1549.775757</td>\n",
       "      <td>-498.912140</td>\n",
       "      <td>1551.434204</td>\n",
       "      <td>-516.403442</td>\n",
       "      <td>1549.873901</td>\n",
       "      <td>-498.666595</td>\n",
       "      <td>1554.367432</td>\n",
       "      <td>-493.428131</td>\n",
       "      <td>41885.707031</td>\n",
       "      <td>...</td>\n",
       "      <td>1602.375000</td>\n",
       "      <td>-442.204468</td>\n",
       "      <td>1598.937256</td>\n",
       "      <td>-451.294128</td>\n",
       "      <td>1404.472046</td>\n",
       "      <td>-455.462982</td>\n",
       "      <td>1416.354980</td>\n",
       "      <td>-451.939636</td>\n",
       "      <td>14.500184</td>\n",
       "      <td>4.694824</td>\n",
       "      <td>8.764648</td>\n",
       "      <td>2.606185</td>\n",
       "      <td>25.853109</td>\n",
       "      <td>-498.526489</td>\n",
       "      <td>23.893660</td>\n",
       "      <td>-501.406281</td>\n",
       "      <td>23.961798</td>\n",
       "      <td>-495.262817</td>\n",
       "      <td>21.940409</td>\n",
       "      <td>-499.340973</td>\n",
       "      <td>14.016835</td>\n",
       "      <td>-502.488007</td>\n",
       "      <td>12.099931</td>\n",
       "      <td>-504.715942</td>\n",
       "      <td>9.925633</td>\n",
       "      <td>-498.310211</td>\n",
       "      <td>8.079666</td>\n",
       "      <td>-500.470978</td>\n",
       "      <td>14.151341</td>\n",
       "      <td>-605.841980</td>\n",
       "    </tr>\n",
       "    <tr>\n",
       "      <th>2016-01-15 01:00:00</th>\n",
       "      <td>6.029369</td>\n",
       "      <td>9.968944</td>\n",
       "      <td>5.257781</td>\n",
       "      <td>42.701629</td>\n",
       "      <td>69.266198</td>\n",
       "      <td>10.462676</td>\n",
       "      <td>0.927452</td>\n",
       "      <td>16.634514</td>\n",
       "      <td>2.224930</td>\n",
       "      <td>125.629232</td>\n",
       "      <td>10.296251</td>\n",
       "      <td>7.25</td>\n",
       "      <td>1.002663</td>\n",
       "      <td>8.558743</td>\n",
       "      <td>10.497069</td>\n",
       "      <td>19.369147</td>\n",
       "      <td>34.118526</td>\n",
       "      <td>16.250511</td>\n",
       "      <td>3.049646</td>\n",
       "      <td>6.733907</td>\n",
       "      <td>2.353017</td>\n",
       "      <td>1576.166671</td>\n",
       "      <td>-500.904965</td>\n",
       "      <td>1575.950626</td>\n",
       "      <td>-499.865889</td>\n",
       "      <td>1575.994189</td>\n",
       "      <td>-499.315107</td>\n",
       "      <td>1574.479259</td>\n",
       "      <td>-498.931665</td>\n",
       "      <td>42050.861809</td>\n",
       "      <td>...</td>\n",
       "      <td>1600.479580</td>\n",
       "      <td>-449.830646</td>\n",
       "      <td>1600.527589</td>\n",
       "      <td>-449.953649</td>\n",
       "      <td>1399.227084</td>\n",
       "      <td>-450.869848</td>\n",
       "      <td>1399.719514</td>\n",
       "      <td>-450.119001</td>\n",
       "      <td>14.265474</td>\n",
       "      <td>4.592547</td>\n",
       "      <td>9.001494</td>\n",
       "      <td>2.488248</td>\n",
       "      <td>25.880539</td>\n",
       "      <td>-499.989656</td>\n",
       "      <td>23.889530</td>\n",
       "      <td>-500.372428</td>\n",
       "      <td>23.970550</td>\n",
       "      <td>-500.085473</td>\n",
       "      <td>22.085714</td>\n",
       "      <td>-499.446897</td>\n",
       "      <td>13.992281</td>\n",
       "      <td>-505.503262</td>\n",
       "      <td>11.950531</td>\n",
       "      <td>-501.331529</td>\n",
       "      <td>10.039245</td>\n",
       "      <td>-500.169983</td>\n",
       "      <td>7.984757</td>\n",
       "      <td>-500.582168</td>\n",
       "      <td>13.998353</td>\n",
       "      <td>-599.787184</td>\n",
       "    </tr>\n",
       "    <tr>\n",
       "      <th>2016-01-15 02:00:00</th>\n",
       "      <td>6.055926</td>\n",
       "      <td>10.213995</td>\n",
       "      <td>5.383759</td>\n",
       "      <td>42.657501</td>\n",
       "      <td>68.116445</td>\n",
       "      <td>10.507046</td>\n",
       "      <td>0.953716</td>\n",
       "      <td>16.208849</td>\n",
       "      <td>2.257889</td>\n",
       "      <td>123.819808</td>\n",
       "      <td>11.316280</td>\n",
       "      <td>7.25</td>\n",
       "      <td>0.991265</td>\n",
       "      <td>8.603505</td>\n",
       "      <td>10.354494</td>\n",
       "      <td>19.167579</td>\n",
       "      <td>33.969464</td>\n",
       "      <td>16.491823</td>\n",
       "      <td>3.124664</td>\n",
       "      <td>6.471768</td>\n",
       "      <td>2.416800</td>\n",
       "      <td>1601.556163</td>\n",
       "      <td>-499.997791</td>\n",
       "      <td>1600.386685</td>\n",
       "      <td>-500.607762</td>\n",
       "      <td>1602.003542</td>\n",
       "      <td>-500.870069</td>\n",
       "      <td>1599.541515</td>\n",
       "      <td>-499.827444</td>\n",
       "      <td>42018.101184</td>\n",
       "      <td>...</td>\n",
       "      <td>1599.672797</td>\n",
       "      <td>-449.954491</td>\n",
       "      <td>1599.849325</td>\n",
       "      <td>-449.954185</td>\n",
       "      <td>1399.180945</td>\n",
       "      <td>-449.937588</td>\n",
       "      <td>1400.316682</td>\n",
       "      <td>-450.527147</td>\n",
       "      <td>14.115662</td>\n",
       "      <td>4.624775</td>\n",
       "      <td>8.842896</td>\n",
       "      <td>2.458187</td>\n",
       "      <td>26.005245</td>\n",
       "      <td>-499.929616</td>\n",
       "      <td>23.886657</td>\n",
       "      <td>-499.951928</td>\n",
       "      <td>23.913535</td>\n",
       "      <td>-499.442343</td>\n",
       "      <td>23.957717</td>\n",
       "      <td>-499.901982</td>\n",
       "      <td>14.015015</td>\n",
       "      <td>-502.520901</td>\n",
       "      <td>11.912783</td>\n",
       "      <td>-501.133383</td>\n",
       "      <td>10.070913</td>\n",
       "      <td>-500.129135</td>\n",
       "      <td>8.013877</td>\n",
       "      <td>-500.517572</td>\n",
       "      <td>14.028663</td>\n",
       "      <td>-601.427363</td>\n",
       "    </tr>\n",
       "    <tr>\n",
       "      <th>2016-01-15 03:00:00</th>\n",
       "      <td>6.047977</td>\n",
       "      <td>9.977019</td>\n",
       "      <td>4.858634</td>\n",
       "      <td>42.689819</td>\n",
       "      <td>68.347543</td>\n",
       "      <td>10.422762</td>\n",
       "      <td>0.883763</td>\n",
       "      <td>16.532835</td>\n",
       "      <td>2.146849</td>\n",
       "      <td>122.270188</td>\n",
       "      <td>11.322140</td>\n",
       "      <td>7.25</td>\n",
       "      <td>0.996739</td>\n",
       "      <td>7.221879</td>\n",
       "      <td>8.496563</td>\n",
       "      <td>15.978538</td>\n",
       "      <td>28.260743</td>\n",
       "      <td>16.024359</td>\n",
       "      <td>2.960362</td>\n",
       "      <td>6.843791</td>\n",
       "      <td>2.262051</td>\n",
       "      <td>1599.968720</td>\n",
       "      <td>-500.951778</td>\n",
       "      <td>1600.659236</td>\n",
       "      <td>-499.677094</td>\n",
       "      <td>1600.304144</td>\n",
       "      <td>-500.727997</td>\n",
       "      <td>1600.449520</td>\n",
       "      <td>-500.052575</td>\n",
       "      <td>42029.447991</td>\n",
       "      <td>...</td>\n",
       "      <td>1600.012842</td>\n",
       "      <td>-449.910497</td>\n",
       "      <td>1597.725177</td>\n",
       "      <td>-450.130127</td>\n",
       "      <td>1400.943157</td>\n",
       "      <td>-450.030142</td>\n",
       "      <td>1400.234743</td>\n",
       "      <td>-449.790835</td>\n",
       "      <td>13.732071</td>\n",
       "      <td>4.482453</td>\n",
       "      <td>9.122857</td>\n",
       "      <td>2.322062</td>\n",
       "      <td>25.942508</td>\n",
       "      <td>-499.176749</td>\n",
       "      <td>23.955516</td>\n",
       "      <td>-499.848796</td>\n",
       "      <td>23.966838</td>\n",
       "      <td>-500.008812</td>\n",
       "      <td>23.954443</td>\n",
       "      <td>-499.944710</td>\n",
       "      <td>14.036510</td>\n",
       "      <td>-500.857308</td>\n",
       "      <td>11.999550</td>\n",
       "      <td>-501.193686</td>\n",
       "      <td>9.970366</td>\n",
       "      <td>-499.201640</td>\n",
       "      <td>7.977324</td>\n",
       "      <td>-500.255908</td>\n",
       "      <td>14.005551</td>\n",
       "      <td>-599.996129</td>\n",
       "    </tr>\n",
       "    <tr>\n",
       "      <th>2016-01-15 04:00:00</th>\n",
       "      <td>6.148599</td>\n",
       "      <td>10.142511</td>\n",
       "      <td>4.939416</td>\n",
       "      <td>42.774141</td>\n",
       "      <td>66.927016</td>\n",
       "      <td>10.360302</td>\n",
       "      <td>0.792826</td>\n",
       "      <td>16.525686</td>\n",
       "      <td>2.055292</td>\n",
       "      <td>117.988169</td>\n",
       "      <td>11.913613</td>\n",
       "      <td>7.25</td>\n",
       "      <td>1.009869</td>\n",
       "      <td>9.089428</td>\n",
       "      <td>9.986786</td>\n",
       "      <td>19.199864</td>\n",
       "      <td>33.044932</td>\n",
       "      <td>16.480185</td>\n",
       "      <td>3.112100</td>\n",
       "      <td>6.550154</td>\n",
       "      <td>2.277073</td>\n",
       "      <td>1601.339707</td>\n",
       "      <td>-498.975456</td>\n",
       "      <td>1601.437854</td>\n",
       "      <td>-500.323246</td>\n",
       "      <td>1599.581894</td>\n",
       "      <td>-500.888152</td>\n",
       "      <td>1602.649541</td>\n",
       "      <td>-500.593010</td>\n",
       "      <td>42125.354245</td>\n",
       "      <td>...</td>\n",
       "      <td>1600.357732</td>\n",
       "      <td>-450.034364</td>\n",
       "      <td>1599.759049</td>\n",
       "      <td>-449.909799</td>\n",
       "      <td>1401.560902</td>\n",
       "      <td>-448.877187</td>\n",
       "      <td>1401.160227</td>\n",
       "      <td>-450.407128</td>\n",
       "      <td>14.079996</td>\n",
       "      <td>4.470737</td>\n",
       "      <td>8.871028</td>\n",
       "      <td>2.330448</td>\n",
       "      <td>26.024787</td>\n",
       "      <td>-500.279091</td>\n",
       "      <td>23.955345</td>\n",
       "      <td>-500.593614</td>\n",
       "      <td>23.985703</td>\n",
       "      <td>-500.083811</td>\n",
       "      <td>23.958945</td>\n",
       "      <td>-499.990309</td>\n",
       "      <td>14.027298</td>\n",
       "      <td>-499.838632</td>\n",
       "      <td>11.953070</td>\n",
       "      <td>-501.053894</td>\n",
       "      <td>9.925709</td>\n",
       "      <td>-501.686727</td>\n",
       "      <td>7.894242</td>\n",
       "      <td>-500.356035</td>\n",
       "      <td>13.996647</td>\n",
       "      <td>-601.496691</td>\n",
       "    </tr>\n",
       "  </tbody>\n",
       "</table>\n",
       "<p>5 rows × 86 columns</p>\n",
       "</div>"
      ],
      "text/plain": [
       "                     final.output.concentrate_ag  final.output.concentrate_pb  \\\n",
       "date                                                                            \n",
       "2016-01-15 00:00:00                     6.055403                     9.889648   \n",
       "2016-01-15 01:00:00                     6.029369                     9.968944   \n",
       "2016-01-15 02:00:00                     6.055926                    10.213995   \n",
       "2016-01-15 03:00:00                     6.047977                     9.977019   \n",
       "2016-01-15 04:00:00                     6.148599                    10.142511   \n",
       "\n",
       "                     final.output.concentrate_sol  \\\n",
       "date                                                \n",
       "2016-01-15 00:00:00                      5.507324   \n",
       "2016-01-15 01:00:00                      5.257781   \n",
       "2016-01-15 02:00:00                      5.383759   \n",
       "2016-01-15 03:00:00                      4.858634   \n",
       "2016-01-15 04:00:00                      4.939416   \n",
       "\n",
       "                     final.output.concentrate_au  final.output.recovery  \\\n",
       "date                                                                      \n",
       "2016-01-15 00:00:00                    42.192020              70.541216   \n",
       "2016-01-15 01:00:00                    42.701629              69.266198   \n",
       "2016-01-15 02:00:00                    42.657501              68.116445   \n",
       "2016-01-15 03:00:00                    42.689819              68.347543   \n",
       "2016-01-15 04:00:00                    42.774141              66.927016   \n",
       "\n",
       "                     final.output.tail_ag  final.output.tail_pb  \\\n",
       "date                                                              \n",
       "2016-01-15 00:00:00             10.411962              0.895447   \n",
       "2016-01-15 01:00:00             10.462676              0.927452   \n",
       "2016-01-15 02:00:00             10.507046              0.953716   \n",
       "2016-01-15 03:00:00             10.422762              0.883763   \n",
       "2016-01-15 04:00:00             10.360302              0.792826   \n",
       "\n",
       "                     final.output.tail_sol  final.output.tail_au  \\\n",
       "date                                                               \n",
       "2016-01-15 00:00:00              16.904297              2.143149   \n",
       "2016-01-15 01:00:00              16.634514              2.224930   \n",
       "2016-01-15 02:00:00              16.208849              2.257889   \n",
       "2016-01-15 03:00:00              16.532835              2.146849   \n",
       "2016-01-15 04:00:00              16.525686              2.055292   \n",
       "\n",
       "                     primary_cleaner.input.sulfate  \\\n",
       "date                                                 \n",
       "2016-01-15 00:00:00                     127.092003   \n",
       "2016-01-15 01:00:00                     125.629232   \n",
       "2016-01-15 02:00:00                     123.819808   \n",
       "2016-01-15 03:00:00                     122.270188   \n",
       "2016-01-15 04:00:00                     117.988169   \n",
       "\n",
       "                     primary_cleaner.input.depressant  \\\n",
       "date                                                    \n",
       "2016-01-15 00:00:00                         10.128295   \n",
       "2016-01-15 01:00:00                         10.296251   \n",
       "2016-01-15 02:00:00                         11.316280   \n",
       "2016-01-15 03:00:00                         11.322140   \n",
       "2016-01-15 04:00:00                         11.913613   \n",
       "\n",
       "                     primary_cleaner.input.feed_size  \\\n",
       "date                                                   \n",
       "2016-01-15 00:00:00                             7.25   \n",
       "2016-01-15 01:00:00                             7.25   \n",
       "2016-01-15 02:00:00                             7.25   \n",
       "2016-01-15 03:00:00                             7.25   \n",
       "2016-01-15 04:00:00                             7.25   \n",
       "\n",
       "                     primary_cleaner.input.xanthate  \\\n",
       "date                                                  \n",
       "2016-01-15 00:00:00                        0.988759   \n",
       "2016-01-15 01:00:00                        1.002663   \n",
       "2016-01-15 02:00:00                        0.991265   \n",
       "2016-01-15 03:00:00                        0.996739   \n",
       "2016-01-15 04:00:00                        1.009869   \n",
       "\n",
       "                     primary_cleaner.output.concentrate_ag  \\\n",
       "date                                                         \n",
       "2016-01-15 00:00:00                               8.547551   \n",
       "2016-01-15 01:00:00                               8.558743   \n",
       "2016-01-15 02:00:00                               8.603505   \n",
       "2016-01-15 03:00:00                               7.221879   \n",
       "2016-01-15 04:00:00                               9.089428   \n",
       "\n",
       "                     primary_cleaner.output.concentrate_pb  \\\n",
       "date                                                         \n",
       "2016-01-15 00:00:00                              10.389648   \n",
       "2016-01-15 01:00:00                              10.497069   \n",
       "2016-01-15 02:00:00                              10.354494   \n",
       "2016-01-15 03:00:00                               8.496563   \n",
       "2016-01-15 04:00:00                               9.986786   \n",
       "\n",
       "                     primary_cleaner.output.concentrate_sol  \\\n",
       "date                                                          \n",
       "2016-01-15 00:00:00                               19.529297   \n",
       "2016-01-15 01:00:00                               19.369147   \n",
       "2016-01-15 02:00:00                               19.167579   \n",
       "2016-01-15 03:00:00                               15.978538   \n",
       "2016-01-15 04:00:00                               19.199864   \n",
       "\n",
       "                     primary_cleaner.output.concentrate_au  \\\n",
       "date                                                         \n",
       "2016-01-15 00:00:00                              34.174427   \n",
       "2016-01-15 01:00:00                              34.118526   \n",
       "2016-01-15 02:00:00                              33.969464   \n",
       "2016-01-15 03:00:00                              28.260743   \n",
       "2016-01-15 04:00:00                              33.044932   \n",
       "\n",
       "                     primary_cleaner.output.tail_ag  \\\n",
       "date                                                  \n",
       "2016-01-15 00:00:00                       14.936526   \n",
       "2016-01-15 01:00:00                       16.250511   \n",
       "2016-01-15 02:00:00                       16.491823   \n",
       "2016-01-15 03:00:00                       16.024359   \n",
       "2016-01-15 04:00:00                       16.480185   \n",
       "\n",
       "                     primary_cleaner.output.tail_pb  \\\n",
       "date                                                  \n",
       "2016-01-15 00:00:00                        2.534912   \n",
       "2016-01-15 01:00:00                        3.049646   \n",
       "2016-01-15 02:00:00                        3.124664   \n",
       "2016-01-15 03:00:00                        2.960362   \n",
       "2016-01-15 04:00:00                        3.112100   \n",
       "\n",
       "                     primary_cleaner.output.tail_sol  \\\n",
       "date                                                   \n",
       "2016-01-15 00:00:00                         7.476074   \n",
       "2016-01-15 01:00:00                         6.733907   \n",
       "2016-01-15 02:00:00                         6.471768   \n",
       "2016-01-15 03:00:00                         6.843791   \n",
       "2016-01-15 04:00:00                         6.550154   \n",
       "\n",
       "                     primary_cleaner.output.tail_au  \\\n",
       "date                                                  \n",
       "2016-01-15 00:00:00                        2.106679   \n",
       "2016-01-15 01:00:00                        2.353017   \n",
       "2016-01-15 02:00:00                        2.416800   \n",
       "2016-01-15 03:00:00                        2.262051   \n",
       "2016-01-15 04:00:00                        2.277073   \n",
       "\n",
       "                     primary_cleaner.state.floatbank8_a_air  \\\n",
       "date                                                          \n",
       "2016-01-15 00:00:00                             1549.775757   \n",
       "2016-01-15 01:00:00                             1576.166671   \n",
       "2016-01-15 02:00:00                             1601.556163   \n",
       "2016-01-15 03:00:00                             1599.968720   \n",
       "2016-01-15 04:00:00                             1601.339707   \n",
       "\n",
       "                     primary_cleaner.state.floatbank8_a_level  \\\n",
       "date                                                            \n",
       "2016-01-15 00:00:00                               -498.912140   \n",
       "2016-01-15 01:00:00                               -500.904965   \n",
       "2016-01-15 02:00:00                               -499.997791   \n",
       "2016-01-15 03:00:00                               -500.951778   \n",
       "2016-01-15 04:00:00                               -498.975456   \n",
       "\n",
       "                     primary_cleaner.state.floatbank8_b_air  \\\n",
       "date                                                          \n",
       "2016-01-15 00:00:00                             1551.434204   \n",
       "2016-01-15 01:00:00                             1575.950626   \n",
       "2016-01-15 02:00:00                             1600.386685   \n",
       "2016-01-15 03:00:00                             1600.659236   \n",
       "2016-01-15 04:00:00                             1601.437854   \n",
       "\n",
       "                     primary_cleaner.state.floatbank8_b_level  \\\n",
       "date                                                            \n",
       "2016-01-15 00:00:00                               -516.403442   \n",
       "2016-01-15 01:00:00                               -499.865889   \n",
       "2016-01-15 02:00:00                               -500.607762   \n",
       "2016-01-15 03:00:00                               -499.677094   \n",
       "2016-01-15 04:00:00                               -500.323246   \n",
       "\n",
       "                     primary_cleaner.state.floatbank8_c_air  \\\n",
       "date                                                          \n",
       "2016-01-15 00:00:00                             1549.873901   \n",
       "2016-01-15 01:00:00                             1575.994189   \n",
       "2016-01-15 02:00:00                             1602.003542   \n",
       "2016-01-15 03:00:00                             1600.304144   \n",
       "2016-01-15 04:00:00                             1599.581894   \n",
       "\n",
       "                     primary_cleaner.state.floatbank8_c_level  \\\n",
       "date                                                            \n",
       "2016-01-15 00:00:00                               -498.666595   \n",
       "2016-01-15 01:00:00                               -499.315107   \n",
       "2016-01-15 02:00:00                               -500.870069   \n",
       "2016-01-15 03:00:00                               -500.727997   \n",
       "2016-01-15 04:00:00                               -500.888152   \n",
       "\n",
       "                     primary_cleaner.state.floatbank8_d_air  \\\n",
       "date                                                          \n",
       "2016-01-15 00:00:00                             1554.367432   \n",
       "2016-01-15 01:00:00                             1574.479259   \n",
       "2016-01-15 02:00:00                             1599.541515   \n",
       "2016-01-15 03:00:00                             1600.449520   \n",
       "2016-01-15 04:00:00                             1602.649541   \n",
       "\n",
       "                     primary_cleaner.state.floatbank8_d_level  \\\n",
       "date                                                            \n",
       "2016-01-15 00:00:00                               -493.428131   \n",
       "2016-01-15 01:00:00                               -498.931665   \n",
       "2016-01-15 02:00:00                               -499.827444   \n",
       "2016-01-15 03:00:00                               -500.052575   \n",
       "2016-01-15 04:00:00                               -500.593010   \n",
       "\n",
       "                     rougher.calculation.sulfate_to_au_concentrate  ...  \\\n",
       "date                                                                ...   \n",
       "2016-01-15 00:00:00                                   41885.707031  ...   \n",
       "2016-01-15 01:00:00                                   42050.861809  ...   \n",
       "2016-01-15 02:00:00                                   42018.101184  ...   \n",
       "2016-01-15 03:00:00                                   42029.447991  ...   \n",
       "2016-01-15 04:00:00                                   42125.354245  ...   \n",
       "\n",
       "                     rougher.state.floatbank10_c_air  \\\n",
       "date                                                   \n",
       "2016-01-15 00:00:00                      1602.375000   \n",
       "2016-01-15 01:00:00                      1600.479580   \n",
       "2016-01-15 02:00:00                      1599.672797   \n",
       "2016-01-15 03:00:00                      1600.012842   \n",
       "2016-01-15 04:00:00                      1600.357732   \n",
       "\n",
       "                     rougher.state.floatbank10_c_level  \\\n",
       "date                                                     \n",
       "2016-01-15 00:00:00                        -442.204468   \n",
       "2016-01-15 01:00:00                        -449.830646   \n",
       "2016-01-15 02:00:00                        -449.954491   \n",
       "2016-01-15 03:00:00                        -449.910497   \n",
       "2016-01-15 04:00:00                        -450.034364   \n",
       "\n",
       "                     rougher.state.floatbank10_d_air  \\\n",
       "date                                                   \n",
       "2016-01-15 00:00:00                      1598.937256   \n",
       "2016-01-15 01:00:00                      1600.527589   \n",
       "2016-01-15 02:00:00                      1599.849325   \n",
       "2016-01-15 03:00:00                      1597.725177   \n",
       "2016-01-15 04:00:00                      1599.759049   \n",
       "\n",
       "                     rougher.state.floatbank10_d_level  \\\n",
       "date                                                     \n",
       "2016-01-15 00:00:00                        -451.294128   \n",
       "2016-01-15 01:00:00                        -449.953649   \n",
       "2016-01-15 02:00:00                        -449.954185   \n",
       "2016-01-15 03:00:00                        -450.130127   \n",
       "2016-01-15 04:00:00                        -449.909799   \n",
       "\n",
       "                     rougher.state.floatbank10_e_air  \\\n",
       "date                                                   \n",
       "2016-01-15 00:00:00                      1404.472046   \n",
       "2016-01-15 01:00:00                      1399.227084   \n",
       "2016-01-15 02:00:00                      1399.180945   \n",
       "2016-01-15 03:00:00                      1400.943157   \n",
       "2016-01-15 04:00:00                      1401.560902   \n",
       "\n",
       "                     rougher.state.floatbank10_e_level  \\\n",
       "date                                                     \n",
       "2016-01-15 00:00:00                        -455.462982   \n",
       "2016-01-15 01:00:00                        -450.869848   \n",
       "2016-01-15 02:00:00                        -449.937588   \n",
       "2016-01-15 03:00:00                        -450.030142   \n",
       "2016-01-15 04:00:00                        -448.877187   \n",
       "\n",
       "                     rougher.state.floatbank10_f_air  \\\n",
       "date                                                   \n",
       "2016-01-15 00:00:00                      1416.354980   \n",
       "2016-01-15 01:00:00                      1399.719514   \n",
       "2016-01-15 02:00:00                      1400.316682   \n",
       "2016-01-15 03:00:00                      1400.234743   \n",
       "2016-01-15 04:00:00                      1401.160227   \n",
       "\n",
       "                     rougher.state.floatbank10_f_level  \\\n",
       "date                                                     \n",
       "2016-01-15 00:00:00                        -451.939636   \n",
       "2016-01-15 01:00:00                        -450.119001   \n",
       "2016-01-15 02:00:00                        -450.527147   \n",
       "2016-01-15 03:00:00                        -449.790835   \n",
       "2016-01-15 04:00:00                        -450.407128   \n",
       "\n",
       "                     secondary_cleaner.output.tail_ag  \\\n",
       "date                                                    \n",
       "2016-01-15 00:00:00                         14.500184   \n",
       "2016-01-15 01:00:00                         14.265474   \n",
       "2016-01-15 02:00:00                         14.115662   \n",
       "2016-01-15 03:00:00                         13.732071   \n",
       "2016-01-15 04:00:00                         14.079996   \n",
       "\n",
       "                     secondary_cleaner.output.tail_pb  \\\n",
       "date                                                    \n",
       "2016-01-15 00:00:00                          4.694824   \n",
       "2016-01-15 01:00:00                          4.592547   \n",
       "2016-01-15 02:00:00                          4.624775   \n",
       "2016-01-15 03:00:00                          4.482453   \n",
       "2016-01-15 04:00:00                          4.470737   \n",
       "\n",
       "                     secondary_cleaner.output.tail_sol  \\\n",
       "date                                                     \n",
       "2016-01-15 00:00:00                           8.764648   \n",
       "2016-01-15 01:00:00                           9.001494   \n",
       "2016-01-15 02:00:00                           8.842896   \n",
       "2016-01-15 03:00:00                           9.122857   \n",
       "2016-01-15 04:00:00                           8.871028   \n",
       "\n",
       "                     secondary_cleaner.output.tail_au  \\\n",
       "date                                                    \n",
       "2016-01-15 00:00:00                          2.606185   \n",
       "2016-01-15 01:00:00                          2.488248   \n",
       "2016-01-15 02:00:00                          2.458187   \n",
       "2016-01-15 03:00:00                          2.322062   \n",
       "2016-01-15 04:00:00                          2.330448   \n",
       "\n",
       "                     secondary_cleaner.state.floatbank2_a_air  \\\n",
       "date                                                            \n",
       "2016-01-15 00:00:00                                 25.853109   \n",
       "2016-01-15 01:00:00                                 25.880539   \n",
       "2016-01-15 02:00:00                                 26.005245   \n",
       "2016-01-15 03:00:00                                 25.942508   \n",
       "2016-01-15 04:00:00                                 26.024787   \n",
       "\n",
       "                     secondary_cleaner.state.floatbank2_a_level  \\\n",
       "date                                                              \n",
       "2016-01-15 00:00:00                                 -498.526489   \n",
       "2016-01-15 01:00:00                                 -499.989656   \n",
       "2016-01-15 02:00:00                                 -499.929616   \n",
       "2016-01-15 03:00:00                                 -499.176749   \n",
       "2016-01-15 04:00:00                                 -500.279091   \n",
       "\n",
       "                     secondary_cleaner.state.floatbank2_b_air  \\\n",
       "date                                                            \n",
       "2016-01-15 00:00:00                                 23.893660   \n",
       "2016-01-15 01:00:00                                 23.889530   \n",
       "2016-01-15 02:00:00                                 23.886657   \n",
       "2016-01-15 03:00:00                                 23.955516   \n",
       "2016-01-15 04:00:00                                 23.955345   \n",
       "\n",
       "                     secondary_cleaner.state.floatbank2_b_level  \\\n",
       "date                                                              \n",
       "2016-01-15 00:00:00                                 -501.406281   \n",
       "2016-01-15 01:00:00                                 -500.372428   \n",
       "2016-01-15 02:00:00                                 -499.951928   \n",
       "2016-01-15 03:00:00                                 -499.848796   \n",
       "2016-01-15 04:00:00                                 -500.593614   \n",
       "\n",
       "                     secondary_cleaner.state.floatbank3_a_air  \\\n",
       "date                                                            \n",
       "2016-01-15 00:00:00                                 23.961798   \n",
       "2016-01-15 01:00:00                                 23.970550   \n",
       "2016-01-15 02:00:00                                 23.913535   \n",
       "2016-01-15 03:00:00                                 23.966838   \n",
       "2016-01-15 04:00:00                                 23.985703   \n",
       "\n",
       "                     secondary_cleaner.state.floatbank3_a_level  \\\n",
       "date                                                              \n",
       "2016-01-15 00:00:00                                 -495.262817   \n",
       "2016-01-15 01:00:00                                 -500.085473   \n",
       "2016-01-15 02:00:00                                 -499.442343   \n",
       "2016-01-15 03:00:00                                 -500.008812   \n",
       "2016-01-15 04:00:00                                 -500.083811   \n",
       "\n",
       "                     secondary_cleaner.state.floatbank3_b_air  \\\n",
       "date                                                            \n",
       "2016-01-15 00:00:00                                 21.940409   \n",
       "2016-01-15 01:00:00                                 22.085714   \n",
       "2016-01-15 02:00:00                                 23.957717   \n",
       "2016-01-15 03:00:00                                 23.954443   \n",
       "2016-01-15 04:00:00                                 23.958945   \n",
       "\n",
       "                     secondary_cleaner.state.floatbank3_b_level  \\\n",
       "date                                                              \n",
       "2016-01-15 00:00:00                                 -499.340973   \n",
       "2016-01-15 01:00:00                                 -499.446897   \n",
       "2016-01-15 02:00:00                                 -499.901982   \n",
       "2016-01-15 03:00:00                                 -499.944710   \n",
       "2016-01-15 04:00:00                                 -499.990309   \n",
       "\n",
       "                     secondary_cleaner.state.floatbank4_a_air  \\\n",
       "date                                                            \n",
       "2016-01-15 00:00:00                                 14.016835   \n",
       "2016-01-15 01:00:00                                 13.992281   \n",
       "2016-01-15 02:00:00                                 14.015015   \n",
       "2016-01-15 03:00:00                                 14.036510   \n",
       "2016-01-15 04:00:00                                 14.027298   \n",
       "\n",
       "                     secondary_cleaner.state.floatbank4_a_level  \\\n",
       "date                                                              \n",
       "2016-01-15 00:00:00                                 -502.488007   \n",
       "2016-01-15 01:00:00                                 -505.503262   \n",
       "2016-01-15 02:00:00                                 -502.520901   \n",
       "2016-01-15 03:00:00                                 -500.857308   \n",
       "2016-01-15 04:00:00                                 -499.838632   \n",
       "\n",
       "                     secondary_cleaner.state.floatbank4_b_air  \\\n",
       "date                                                            \n",
       "2016-01-15 00:00:00                                 12.099931   \n",
       "2016-01-15 01:00:00                                 11.950531   \n",
       "2016-01-15 02:00:00                                 11.912783   \n",
       "2016-01-15 03:00:00                                 11.999550   \n",
       "2016-01-15 04:00:00                                 11.953070   \n",
       "\n",
       "                     secondary_cleaner.state.floatbank4_b_level  \\\n",
       "date                                                              \n",
       "2016-01-15 00:00:00                                 -504.715942   \n",
       "2016-01-15 01:00:00                                 -501.331529   \n",
       "2016-01-15 02:00:00                                 -501.133383   \n",
       "2016-01-15 03:00:00                                 -501.193686   \n",
       "2016-01-15 04:00:00                                 -501.053894   \n",
       "\n",
       "                     secondary_cleaner.state.floatbank5_a_air  \\\n",
       "date                                                            \n",
       "2016-01-15 00:00:00                                  9.925633   \n",
       "2016-01-15 01:00:00                                 10.039245   \n",
       "2016-01-15 02:00:00                                 10.070913   \n",
       "2016-01-15 03:00:00                                  9.970366   \n",
       "2016-01-15 04:00:00                                  9.925709   \n",
       "\n",
       "                     secondary_cleaner.state.floatbank5_a_level  \\\n",
       "date                                                              \n",
       "2016-01-15 00:00:00                                 -498.310211   \n",
       "2016-01-15 01:00:00                                 -500.169983   \n",
       "2016-01-15 02:00:00                                 -500.129135   \n",
       "2016-01-15 03:00:00                                 -499.201640   \n",
       "2016-01-15 04:00:00                                 -501.686727   \n",
       "\n",
       "                     secondary_cleaner.state.floatbank5_b_air  \\\n",
       "date                                                            \n",
       "2016-01-15 00:00:00                                  8.079666   \n",
       "2016-01-15 01:00:00                                  7.984757   \n",
       "2016-01-15 02:00:00                                  8.013877   \n",
       "2016-01-15 03:00:00                                  7.977324   \n",
       "2016-01-15 04:00:00                                  7.894242   \n",
       "\n",
       "                     secondary_cleaner.state.floatbank5_b_level  \\\n",
       "date                                                              \n",
       "2016-01-15 00:00:00                                 -500.470978   \n",
       "2016-01-15 01:00:00                                 -500.582168   \n",
       "2016-01-15 02:00:00                                 -500.517572   \n",
       "2016-01-15 03:00:00                                 -500.255908   \n",
       "2016-01-15 04:00:00                                 -500.356035   \n",
       "\n",
       "                     secondary_cleaner.state.floatbank6_a_air  \\\n",
       "date                                                            \n",
       "2016-01-15 00:00:00                                 14.151341   \n",
       "2016-01-15 01:00:00                                 13.998353   \n",
       "2016-01-15 02:00:00                                 14.028663   \n",
       "2016-01-15 03:00:00                                 14.005551   \n",
       "2016-01-15 04:00:00                                 13.996647   \n",
       "\n",
       "                     secondary_cleaner.state.floatbank6_a_level  \n",
       "date                                                             \n",
       "2016-01-15 00:00:00                                 -605.841980  \n",
       "2016-01-15 01:00:00                                 -599.787184  \n",
       "2016-01-15 02:00:00                                 -601.427363  \n",
       "2016-01-15 03:00:00                                 -599.996129  \n",
       "2016-01-15 04:00:00                                 -601.496691  \n",
       "\n",
       "[5 rows x 86 columns]"
      ]
     },
     "metadata": {},
     "output_type": "display_data"
    },
    {
     "name": "stdout",
     "output_type": "stream",
     "text": [
      "<class 'pandas.core.frame.DataFrame'>\n",
      "Index: 14149 entries, 2016-01-15 00:00:00 to 2018-08-18 10:59:59\n",
      "Data columns (total 86 columns):\n",
      " #   Column                                              Non-Null Count  Dtype  \n",
      "---  ------                                              --------------  -----  \n",
      " 0   final.output.concentrate_ag                         14148 non-null  float64\n",
      " 1   final.output.concentrate_pb                         14148 non-null  float64\n",
      " 2   final.output.concentrate_sol                        13938 non-null  float64\n",
      " 3   final.output.concentrate_au                         14149 non-null  float64\n",
      " 4   final.output.recovery                               14149 non-null  float64\n",
      " 5   final.output.tail_ag                                14149 non-null  float64\n",
      " 6   final.output.tail_pb                                14049 non-null  float64\n",
      " 7   final.output.tail_sol                               14144 non-null  float64\n",
      " 8   final.output.tail_au                                14149 non-null  float64\n",
      " 9   primary_cleaner.input.sulfate                       14129 non-null  float64\n",
      " 10  primary_cleaner.input.depressant                    14117 non-null  float64\n",
      " 11  primary_cleaner.input.feed_size                     14149 non-null  float64\n",
      " 12  primary_cleaner.input.xanthate                      14049 non-null  float64\n",
      " 13  primary_cleaner.output.concentrate_ag               14149 non-null  float64\n",
      " 14  primary_cleaner.output.concentrate_pb               14063 non-null  float64\n",
      " 15  primary_cleaner.output.concentrate_sol              13863 non-null  float64\n",
      " 16  primary_cleaner.output.concentrate_au               14149 non-null  float64\n",
      " 17  primary_cleaner.output.tail_ag                      14148 non-null  float64\n",
      " 18  primary_cleaner.output.tail_pb                      14134 non-null  float64\n",
      " 19  primary_cleaner.output.tail_sol                     14103 non-null  float64\n",
      " 20  primary_cleaner.output.tail_au                      14149 non-null  float64\n",
      " 21  primary_cleaner.state.floatbank8_a_air              14145 non-null  float64\n",
      " 22  primary_cleaner.state.floatbank8_a_level            14148 non-null  float64\n",
      " 23  primary_cleaner.state.floatbank8_b_air              14145 non-null  float64\n",
      " 24  primary_cleaner.state.floatbank8_b_level            14148 non-null  float64\n",
      " 25  primary_cleaner.state.floatbank8_c_air              14147 non-null  float64\n",
      " 26  primary_cleaner.state.floatbank8_c_level            14148 non-null  float64\n",
      " 27  primary_cleaner.state.floatbank8_d_air              14146 non-null  float64\n",
      " 28  primary_cleaner.state.floatbank8_d_level            14148 non-null  float64\n",
      " 29  rougher.calculation.sulfate_to_au_concentrate       14148 non-null  float64\n",
      " 30  rougher.calculation.floatbank10_sulfate_to_au_feed  14148 non-null  float64\n",
      " 31  rougher.calculation.floatbank11_sulfate_to_au_feed  14148 non-null  float64\n",
      " 32  rougher.calculation.au_pb_ratio                     14149 non-null  float64\n",
      " 33  rougher.input.feed_ag                               14149 non-null  float64\n",
      " 34  rougher.input.feed_pb                               14049 non-null  float64\n",
      " 35  rougher.input.feed_rate                             14141 non-null  float64\n",
      " 36  rougher.input.feed_size                             14005 non-null  float64\n",
      " 37  rougher.input.feed_sol                              14071 non-null  float64\n",
      " 38  rougher.input.feed_au                               14149 non-null  float64\n",
      " 39  rougher.input.floatbank10_sulfate                   14120 non-null  float64\n",
      " 40  rougher.input.floatbank10_xanthate                  14141 non-null  float64\n",
      " 41  rougher.input.floatbank11_sulfate                   14113 non-null  float64\n",
      " 42  rougher.input.floatbank11_xanthate                  13721 non-null  float64\n",
      " 43  rougher.output.concentrate_ag                       14149 non-null  float64\n",
      " 44  rougher.output.concentrate_pb                       14149 non-null  float64\n",
      " 45  rougher.output.concentrate_sol                      14127 non-null  float64\n",
      " 46  rougher.output.concentrate_au                       14149 non-null  float64\n",
      " 47  rougher.output.recovery                             14149 non-null  float64\n",
      " 48  rougher.output.tail_ag                              14148 non-null  float64\n",
      " 49  rougher.output.tail_pb                              14149 non-null  float64\n",
      " 50  rougher.output.tail_sol                             14149 non-null  float64\n",
      " 51  rougher.output.tail_au                              14149 non-null  float64\n",
      " 52  rougher.state.floatbank10_a_air                     14148 non-null  float64\n",
      " 53  rougher.state.floatbank10_a_level                   14148 non-null  float64\n",
      " 54  rougher.state.floatbank10_b_air                     14148 non-null  float64\n",
      " 55  rougher.state.floatbank10_b_level                   14148 non-null  float64\n",
      " 56  rougher.state.floatbank10_c_air                     14148 non-null  float64\n",
      " 57  rougher.state.floatbank10_c_level                   14148 non-null  float64\n",
      " 58  rougher.state.floatbank10_d_air                     14149 non-null  float64\n",
      " 59  rougher.state.floatbank10_d_level                   14149 non-null  float64\n",
      " 60  rougher.state.floatbank10_e_air                     13713 non-null  float64\n",
      " 61  rougher.state.floatbank10_e_level                   14149 non-null  float64\n",
      " 62  rougher.state.floatbank10_f_air                     14149 non-null  float64\n",
      " 63  rougher.state.floatbank10_f_level                   14149 non-null  float64\n",
      " 64  secondary_cleaner.output.tail_ag                    14147 non-null  float64\n",
      " 65  secondary_cleaner.output.tail_pb                    14139 non-null  float64\n",
      " 66  secondary_cleaner.output.tail_sol                   12544 non-null  float64\n",
      " 67  secondary_cleaner.output.tail_au                    14149 non-null  float64\n",
      " 68  secondary_cleaner.state.floatbank2_a_air            13932 non-null  float64\n",
      " 69  secondary_cleaner.state.floatbank2_a_level          14148 non-null  float64\n",
      " 70  secondary_cleaner.state.floatbank2_b_air            14128 non-null  float64\n",
      " 71  secondary_cleaner.state.floatbank2_b_level          14148 non-null  float64\n",
      " 72  secondary_cleaner.state.floatbank3_a_air            14145 non-null  float64\n",
      " 73  secondary_cleaner.state.floatbank3_a_level          14148 non-null  float64\n",
      " 74  secondary_cleaner.state.floatbank3_b_air            14148 non-null  float64\n",
      " 75  secondary_cleaner.state.floatbank3_b_level          14148 non-null  float64\n",
      " 76  secondary_cleaner.state.floatbank4_a_air            14143 non-null  float64\n",
      " 77  secondary_cleaner.state.floatbank4_a_level          14148 non-null  float64\n",
      " 78  secondary_cleaner.state.floatbank4_b_air            14148 non-null  float64\n",
      " 79  secondary_cleaner.state.floatbank4_b_level          14148 non-null  float64\n",
      " 80  secondary_cleaner.state.floatbank5_a_air            14148 non-null  float64\n",
      " 81  secondary_cleaner.state.floatbank5_a_level          14148 non-null  float64\n",
      " 82  secondary_cleaner.state.floatbank5_b_air            14148 non-null  float64\n",
      " 83  secondary_cleaner.state.floatbank5_b_level          14148 non-null  float64\n",
      " 84  secondary_cleaner.state.floatbank6_a_air            14147 non-null  float64\n",
      " 85  secondary_cleaner.state.floatbank6_a_level          14148 non-null  float64\n",
      "dtypes: float64(86)\n",
      "memory usage: 9.4+ MB\n",
      "None\n"
     ]
    },
    {
     "data": {
      "text/html": [
       "<div>\n",
       "<style scoped>\n",
       "    .dataframe tbody tr th:only-of-type {\n",
       "        vertical-align: middle;\n",
       "    }\n",
       "\n",
       "    .dataframe tbody tr th {\n",
       "        vertical-align: top;\n",
       "    }\n",
       "\n",
       "    .dataframe thead th {\n",
       "        text-align: right;\n",
       "    }\n",
       "</style>\n",
       "<table border=\"1\" class=\"dataframe\">\n",
       "  <thead>\n",
       "    <tr style=\"text-align: right;\">\n",
       "      <th></th>\n",
       "      <th>primary_cleaner.input.sulfate</th>\n",
       "      <th>primary_cleaner.input.depressant</th>\n",
       "      <th>primary_cleaner.input.feed_size</th>\n",
       "      <th>primary_cleaner.input.xanthate</th>\n",
       "      <th>primary_cleaner.state.floatbank8_a_air</th>\n",
       "      <th>primary_cleaner.state.floatbank8_a_level</th>\n",
       "      <th>primary_cleaner.state.floatbank8_b_air</th>\n",
       "      <th>primary_cleaner.state.floatbank8_b_level</th>\n",
       "      <th>primary_cleaner.state.floatbank8_c_air</th>\n",
       "      <th>primary_cleaner.state.floatbank8_c_level</th>\n",
       "      <th>primary_cleaner.state.floatbank8_d_air</th>\n",
       "      <th>primary_cleaner.state.floatbank8_d_level</th>\n",
       "      <th>rougher.input.feed_ag</th>\n",
       "      <th>rougher.input.feed_pb</th>\n",
       "      <th>rougher.input.feed_rate</th>\n",
       "      <th>rougher.input.feed_size</th>\n",
       "      <th>rougher.input.feed_sol</th>\n",
       "      <th>rougher.input.feed_au</th>\n",
       "      <th>rougher.input.floatbank10_sulfate</th>\n",
       "      <th>rougher.input.floatbank10_xanthate</th>\n",
       "      <th>rougher.input.floatbank11_sulfate</th>\n",
       "      <th>rougher.input.floatbank11_xanthate</th>\n",
       "      <th>rougher.state.floatbank10_a_air</th>\n",
       "      <th>rougher.state.floatbank10_a_level</th>\n",
       "      <th>rougher.state.floatbank10_b_air</th>\n",
       "      <th>rougher.state.floatbank10_b_level</th>\n",
       "      <th>rougher.state.floatbank10_c_air</th>\n",
       "      <th>rougher.state.floatbank10_c_level</th>\n",
       "      <th>rougher.state.floatbank10_d_air</th>\n",
       "      <th>rougher.state.floatbank10_d_level</th>\n",
       "      <th>rougher.state.floatbank10_e_air</th>\n",
       "      <th>rougher.state.floatbank10_e_level</th>\n",
       "      <th>rougher.state.floatbank10_f_air</th>\n",
       "      <th>rougher.state.floatbank10_f_level</th>\n",
       "      <th>secondary_cleaner.state.floatbank2_a_air</th>\n",
       "      <th>secondary_cleaner.state.floatbank2_a_level</th>\n",
       "      <th>secondary_cleaner.state.floatbank2_b_air</th>\n",
       "      <th>secondary_cleaner.state.floatbank2_b_level</th>\n",
       "      <th>secondary_cleaner.state.floatbank3_a_air</th>\n",
       "      <th>secondary_cleaner.state.floatbank3_a_level</th>\n",
       "      <th>secondary_cleaner.state.floatbank3_b_air</th>\n",
       "      <th>secondary_cleaner.state.floatbank3_b_level</th>\n",
       "      <th>secondary_cleaner.state.floatbank4_a_air</th>\n",
       "      <th>secondary_cleaner.state.floatbank4_a_level</th>\n",
       "      <th>secondary_cleaner.state.floatbank4_b_air</th>\n",
       "      <th>secondary_cleaner.state.floatbank4_b_level</th>\n",
       "      <th>secondary_cleaner.state.floatbank5_a_air</th>\n",
       "      <th>secondary_cleaner.state.floatbank5_a_level</th>\n",
       "      <th>secondary_cleaner.state.floatbank5_b_air</th>\n",
       "      <th>secondary_cleaner.state.floatbank5_b_level</th>\n",
       "      <th>secondary_cleaner.state.floatbank6_a_air</th>\n",
       "      <th>secondary_cleaner.state.floatbank6_a_level</th>\n",
       "    </tr>\n",
       "    <tr>\n",
       "      <th>date</th>\n",
       "      <th></th>\n",
       "      <th></th>\n",
       "      <th></th>\n",
       "      <th></th>\n",
       "      <th></th>\n",
       "      <th></th>\n",
       "      <th></th>\n",
       "      <th></th>\n",
       "      <th></th>\n",
       "      <th></th>\n",
       "      <th></th>\n",
       "      <th></th>\n",
       "      <th></th>\n",
       "      <th></th>\n",
       "      <th></th>\n",
       "      <th></th>\n",
       "      <th></th>\n",
       "      <th></th>\n",
       "      <th></th>\n",
       "      <th></th>\n",
       "      <th></th>\n",
       "      <th></th>\n",
       "      <th></th>\n",
       "      <th></th>\n",
       "      <th></th>\n",
       "      <th></th>\n",
       "      <th></th>\n",
       "      <th></th>\n",
       "      <th></th>\n",
       "      <th></th>\n",
       "      <th></th>\n",
       "      <th></th>\n",
       "      <th></th>\n",
       "      <th></th>\n",
       "      <th></th>\n",
       "      <th></th>\n",
       "      <th></th>\n",
       "      <th></th>\n",
       "      <th></th>\n",
       "      <th></th>\n",
       "      <th></th>\n",
       "      <th></th>\n",
       "      <th></th>\n",
       "      <th></th>\n",
       "      <th></th>\n",
       "      <th></th>\n",
       "      <th></th>\n",
       "      <th></th>\n",
       "      <th></th>\n",
       "      <th></th>\n",
       "      <th></th>\n",
       "      <th></th>\n",
       "    </tr>\n",
       "  </thead>\n",
       "  <tbody>\n",
       "    <tr>\n",
       "      <th>2016-09-01 00:59:59</th>\n",
       "      <td>210.800909</td>\n",
       "      <td>14.993118</td>\n",
       "      <td>8.080000</td>\n",
       "      <td>1.005021</td>\n",
       "      <td>1398.981301</td>\n",
       "      <td>-500.225577</td>\n",
       "      <td>1399.144926</td>\n",
       "      <td>-499.919735</td>\n",
       "      <td>1400.102998</td>\n",
       "      <td>-500.704369</td>\n",
       "      <td>1399.001695</td>\n",
       "      <td>-499.485144</td>\n",
       "      <td>13.128569</td>\n",
       "      <td>5.636710</td>\n",
       "      <td>489.793655</td>\n",
       "      <td>62.710452</td>\n",
       "      <td>42.022440</td>\n",
       "      <td>12.084103</td>\n",
       "      <td>16.922877</td>\n",
       "      <td>6.153479</td>\n",
       "      <td>16.867518</td>\n",
       "      <td>6.150709</td>\n",
       "      <td>1001.849317</td>\n",
       "      <td>-350.301265</td>\n",
       "      <td>1249.738612</td>\n",
       "      <td>-399.107531</td>\n",
       "      <td>1249.750520</td>\n",
       "      <td>-399.396730</td>\n",
       "      <td>1198.287855</td>\n",
       "      <td>-399.488594</td>\n",
       "      <td>999.472250</td>\n",
       "      <td>-399.530962</td>\n",
       "      <td>949.566189</td>\n",
       "      <td>-398.180807</td>\n",
       "      <td>24.938200</td>\n",
       "      <td>-500.490963</td>\n",
       "      <td>14.947607</td>\n",
       "      <td>-500.013837</td>\n",
       "      <td>20.018166</td>\n",
       "      <td>-450.395995</td>\n",
       "      <td>13.987058</td>\n",
       "      <td>-449.831513</td>\n",
       "      <td>12.023554</td>\n",
       "      <td>-497.795834</td>\n",
       "      <td>8.016656</td>\n",
       "      <td>-501.289139</td>\n",
       "      <td>7.946562</td>\n",
       "      <td>-432.317850</td>\n",
       "      <td>4.872511</td>\n",
       "      <td>-500.037437</td>\n",
       "      <td>26.705889</td>\n",
       "      <td>-499.709414</td>\n",
       "    </tr>\n",
       "    <tr>\n",
       "      <th>2016-09-01 01:59:59</th>\n",
       "      <td>215.392455</td>\n",
       "      <td>14.987471</td>\n",
       "      <td>8.080000</td>\n",
       "      <td>0.990469</td>\n",
       "      <td>1398.777912</td>\n",
       "      <td>-500.057435</td>\n",
       "      <td>1398.055362</td>\n",
       "      <td>-499.778182</td>\n",
       "      <td>1396.151033</td>\n",
       "      <td>-499.240168</td>\n",
       "      <td>1399.508091</td>\n",
       "      <td>-500.416324</td>\n",
       "      <td>13.036280</td>\n",
       "      <td>5.526065</td>\n",
       "      <td>490.104534</td>\n",
       "      <td>61.961163</td>\n",
       "      <td>41.187903</td>\n",
       "      <td>11.918977</td>\n",
       "      <td>17.002532</td>\n",
       "      <td>5.999043</td>\n",
       "      <td>16.996063</td>\n",
       "      <td>6.002315</td>\n",
       "      <td>998.690785</td>\n",
       "      <td>-350.425704</td>\n",
       "      <td>1248.395457</td>\n",
       "      <td>-399.946025</td>\n",
       "      <td>1249.514451</td>\n",
       "      <td>-399.630810</td>\n",
       "      <td>1200.506459</td>\n",
       "      <td>-399.942434</td>\n",
       "      <td>1000.002114</td>\n",
       "      <td>-399.491528</td>\n",
       "      <td>950.200009</td>\n",
       "      <td>-405.787514</td>\n",
       "      <td>24.923466</td>\n",
       "      <td>-499.813963</td>\n",
       "      <td>14.930873</td>\n",
       "      <td>-500.764452</td>\n",
       "      <td>19.988503</td>\n",
       "      <td>-450.114024</td>\n",
       "      <td>14.092981</td>\n",
       "      <td>-450.059163</td>\n",
       "      <td>12.058140</td>\n",
       "      <td>-498.695773</td>\n",
       "      <td>8.130979</td>\n",
       "      <td>-499.634209</td>\n",
       "      <td>7.958270</td>\n",
       "      <td>-525.839648</td>\n",
       "      <td>4.878850</td>\n",
       "      <td>-500.162375</td>\n",
       "      <td>25.019940</td>\n",
       "      <td>-499.819438</td>\n",
       "    </tr>\n",
       "    <tr>\n",
       "      <th>2016-09-01 02:59:59</th>\n",
       "      <td>215.259946</td>\n",
       "      <td>12.884934</td>\n",
       "      <td>7.786667</td>\n",
       "      <td>0.996043</td>\n",
       "      <td>1398.493666</td>\n",
       "      <td>-500.868360</td>\n",
       "      <td>1398.860436</td>\n",
       "      <td>-499.764529</td>\n",
       "      <td>1398.075709</td>\n",
       "      <td>-502.151509</td>\n",
       "      <td>1399.497088</td>\n",
       "      <td>-499.715479</td>\n",
       "      <td>13.138412</td>\n",
       "      <td>5.426561</td>\n",
       "      <td>489.617969</td>\n",
       "      <td>66.903807</td>\n",
       "      <td>42.546294</td>\n",
       "      <td>12.091332</td>\n",
       "      <td>16.992520</td>\n",
       "      <td>5.850632</td>\n",
       "      <td>16.982096</td>\n",
       "      <td>5.853594</td>\n",
       "      <td>998.516720</td>\n",
       "      <td>-349.783538</td>\n",
       "      <td>1247.440748</td>\n",
       "      <td>-400.264330</td>\n",
       "      <td>1248.207204</td>\n",
       "      <td>-401.074405</td>\n",
       "      <td>1199.770026</td>\n",
       "      <td>-400.790582</td>\n",
       "      <td>999.925519</td>\n",
       "      <td>-399.236999</td>\n",
       "      <td>950.320481</td>\n",
       "      <td>-400.864340</td>\n",
       "      <td>24.908732</td>\n",
       "      <td>-500.304035</td>\n",
       "      <td>14.996511</td>\n",
       "      <td>-500.993821</td>\n",
       "      <td>20.039689</td>\n",
       "      <td>-450.263164</td>\n",
       "      <td>14.077881</td>\n",
       "      <td>-449.660997</td>\n",
       "      <td>11.962366</td>\n",
       "      <td>-498.767484</td>\n",
       "      <td>8.096893</td>\n",
       "      <td>-500.827423</td>\n",
       "      <td>8.071056</td>\n",
       "      <td>-500.801673</td>\n",
       "      <td>4.905125</td>\n",
       "      <td>-499.828510</td>\n",
       "      <td>24.994862</td>\n",
       "      <td>-500.622559</td>\n",
       "    </tr>\n",
       "    <tr>\n",
       "      <th>2016-09-01 03:59:59</th>\n",
       "      <td>215.336236</td>\n",
       "      <td>12.006805</td>\n",
       "      <td>7.640000</td>\n",
       "      <td>0.863514</td>\n",
       "      <td>1399.618111</td>\n",
       "      <td>-498.863574</td>\n",
       "      <td>1397.440120</td>\n",
       "      <td>-499.211024</td>\n",
       "      <td>1400.129303</td>\n",
       "      <td>-498.355873</td>\n",
       "      <td>1401.065165</td>\n",
       "      <td>-501.038738</td>\n",
       "      <td>12.400507</td>\n",
       "      <td>5.114758</td>\n",
       "      <td>476.618130</td>\n",
       "      <td>59.865919</td>\n",
       "      <td>41.060195</td>\n",
       "      <td>12.181597</td>\n",
       "      <td>16.532144</td>\n",
       "      <td>5.801935</td>\n",
       "      <td>16.515277</td>\n",
       "      <td>5.803657</td>\n",
       "      <td>1000.276604</td>\n",
       "      <td>-350.172597</td>\n",
       "      <td>1251.322675</td>\n",
       "      <td>-398.655289</td>\n",
       "      <td>1250.493702</td>\n",
       "      <td>-399.746728</td>\n",
       "      <td>1199.398691</td>\n",
       "      <td>-397.503052</td>\n",
       "      <td>1001.930679</td>\n",
       "      <td>-400.437573</td>\n",
       "      <td>950.735324</td>\n",
       "      <td>-399.802986</td>\n",
       "      <td>24.893998</td>\n",
       "      <td>-499.382374</td>\n",
       "      <td>14.916674</td>\n",
       "      <td>-499.862299</td>\n",
       "      <td>20.031100</td>\n",
       "      <td>-449.372570</td>\n",
       "      <td>14.013968</td>\n",
       "      <td>-449.526900</td>\n",
       "      <td>12.033091</td>\n",
       "      <td>-498.350935</td>\n",
       "      <td>8.074946</td>\n",
       "      <td>-499.474407</td>\n",
       "      <td>7.897085</td>\n",
       "      <td>-500.868509</td>\n",
       "      <td>4.931400</td>\n",
       "      <td>-499.963623</td>\n",
       "      <td>24.948919</td>\n",
       "      <td>-498.709987</td>\n",
       "    </tr>\n",
       "    <tr>\n",
       "      <th>2016-09-01 04:59:59</th>\n",
       "      <td>199.099327</td>\n",
       "      <td>10.682530</td>\n",
       "      <td>7.530000</td>\n",
       "      <td>0.805575</td>\n",
       "      <td>1401.268123</td>\n",
       "      <td>-500.808305</td>\n",
       "      <td>1398.128818</td>\n",
       "      <td>-499.504543</td>\n",
       "      <td>1402.172226</td>\n",
       "      <td>-500.810606</td>\n",
       "      <td>1399.480508</td>\n",
       "      <td>-499.374053</td>\n",
       "      <td>11.327427</td>\n",
       "      <td>4.767383</td>\n",
       "      <td>488.248117</td>\n",
       "      <td>63.315324</td>\n",
       "      <td>41.269161</td>\n",
       "      <td>11.290425</td>\n",
       "      <td>13.607257</td>\n",
       "      <td>5.738081</td>\n",
       "      <td>13.650053</td>\n",
       "      <td>5.739634</td>\n",
       "      <td>996.541302</td>\n",
       "      <td>-350.562517</td>\n",
       "      <td>1304.658848</td>\n",
       "      <td>-399.511519</td>\n",
       "      <td>1306.455515</td>\n",
       "      <td>-399.050685</td>\n",
       "      <td>1248.699349</td>\n",
       "      <td>-400.876894</td>\n",
       "      <td>1058.839106</td>\n",
       "      <td>-398.988239</td>\n",
       "      <td>949.645313</td>\n",
       "      <td>-399.277632</td>\n",
       "      <td>24.886905</td>\n",
       "      <td>-499.357375</td>\n",
       "      <td>14.979233</td>\n",
       "      <td>-500.186804</td>\n",
       "      <td>19.962364</td>\n",
       "      <td>-450.638828</td>\n",
       "      <td>14.009245</td>\n",
       "      <td>-450.022259</td>\n",
       "      <td>12.025367</td>\n",
       "      <td>-500.786497</td>\n",
       "      <td>8.054678</td>\n",
       "      <td>-500.397500</td>\n",
       "      <td>8.107890</td>\n",
       "      <td>-509.526725</td>\n",
       "      <td>4.957674</td>\n",
       "      <td>-500.360026</td>\n",
       "      <td>25.003331</td>\n",
       "      <td>-500.856333</td>\n",
       "    </tr>\n",
       "  </tbody>\n",
       "</table>\n",
       "</div>"
      ],
      "text/plain": [
       "                     primary_cleaner.input.sulfate  \\\n",
       "date                                                 \n",
       "2016-09-01 00:59:59                     210.800909   \n",
       "2016-09-01 01:59:59                     215.392455   \n",
       "2016-09-01 02:59:59                     215.259946   \n",
       "2016-09-01 03:59:59                     215.336236   \n",
       "2016-09-01 04:59:59                     199.099327   \n",
       "\n",
       "                     primary_cleaner.input.depressant  \\\n",
       "date                                                    \n",
       "2016-09-01 00:59:59                         14.993118   \n",
       "2016-09-01 01:59:59                         14.987471   \n",
       "2016-09-01 02:59:59                         12.884934   \n",
       "2016-09-01 03:59:59                         12.006805   \n",
       "2016-09-01 04:59:59                         10.682530   \n",
       "\n",
       "                     primary_cleaner.input.feed_size  \\\n",
       "date                                                   \n",
       "2016-09-01 00:59:59                         8.080000   \n",
       "2016-09-01 01:59:59                         8.080000   \n",
       "2016-09-01 02:59:59                         7.786667   \n",
       "2016-09-01 03:59:59                         7.640000   \n",
       "2016-09-01 04:59:59                         7.530000   \n",
       "\n",
       "                     primary_cleaner.input.xanthate  \\\n",
       "date                                                  \n",
       "2016-09-01 00:59:59                        1.005021   \n",
       "2016-09-01 01:59:59                        0.990469   \n",
       "2016-09-01 02:59:59                        0.996043   \n",
       "2016-09-01 03:59:59                        0.863514   \n",
       "2016-09-01 04:59:59                        0.805575   \n",
       "\n",
       "                     primary_cleaner.state.floatbank8_a_air  \\\n",
       "date                                                          \n",
       "2016-09-01 00:59:59                             1398.981301   \n",
       "2016-09-01 01:59:59                             1398.777912   \n",
       "2016-09-01 02:59:59                             1398.493666   \n",
       "2016-09-01 03:59:59                             1399.618111   \n",
       "2016-09-01 04:59:59                             1401.268123   \n",
       "\n",
       "                     primary_cleaner.state.floatbank8_a_level  \\\n",
       "date                                                            \n",
       "2016-09-01 00:59:59                               -500.225577   \n",
       "2016-09-01 01:59:59                               -500.057435   \n",
       "2016-09-01 02:59:59                               -500.868360   \n",
       "2016-09-01 03:59:59                               -498.863574   \n",
       "2016-09-01 04:59:59                               -500.808305   \n",
       "\n",
       "                     primary_cleaner.state.floatbank8_b_air  \\\n",
       "date                                                          \n",
       "2016-09-01 00:59:59                             1399.144926   \n",
       "2016-09-01 01:59:59                             1398.055362   \n",
       "2016-09-01 02:59:59                             1398.860436   \n",
       "2016-09-01 03:59:59                             1397.440120   \n",
       "2016-09-01 04:59:59                             1398.128818   \n",
       "\n",
       "                     primary_cleaner.state.floatbank8_b_level  \\\n",
       "date                                                            \n",
       "2016-09-01 00:59:59                               -499.919735   \n",
       "2016-09-01 01:59:59                               -499.778182   \n",
       "2016-09-01 02:59:59                               -499.764529   \n",
       "2016-09-01 03:59:59                               -499.211024   \n",
       "2016-09-01 04:59:59                               -499.504543   \n",
       "\n",
       "                     primary_cleaner.state.floatbank8_c_air  \\\n",
       "date                                                          \n",
       "2016-09-01 00:59:59                             1400.102998   \n",
       "2016-09-01 01:59:59                             1396.151033   \n",
       "2016-09-01 02:59:59                             1398.075709   \n",
       "2016-09-01 03:59:59                             1400.129303   \n",
       "2016-09-01 04:59:59                             1402.172226   \n",
       "\n",
       "                     primary_cleaner.state.floatbank8_c_level  \\\n",
       "date                                                            \n",
       "2016-09-01 00:59:59                               -500.704369   \n",
       "2016-09-01 01:59:59                               -499.240168   \n",
       "2016-09-01 02:59:59                               -502.151509   \n",
       "2016-09-01 03:59:59                               -498.355873   \n",
       "2016-09-01 04:59:59                               -500.810606   \n",
       "\n",
       "                     primary_cleaner.state.floatbank8_d_air  \\\n",
       "date                                                          \n",
       "2016-09-01 00:59:59                             1399.001695   \n",
       "2016-09-01 01:59:59                             1399.508091   \n",
       "2016-09-01 02:59:59                             1399.497088   \n",
       "2016-09-01 03:59:59                             1401.065165   \n",
       "2016-09-01 04:59:59                             1399.480508   \n",
       "\n",
       "                     primary_cleaner.state.floatbank8_d_level  \\\n",
       "date                                                            \n",
       "2016-09-01 00:59:59                               -499.485144   \n",
       "2016-09-01 01:59:59                               -500.416324   \n",
       "2016-09-01 02:59:59                               -499.715479   \n",
       "2016-09-01 03:59:59                               -501.038738   \n",
       "2016-09-01 04:59:59                               -499.374053   \n",
       "\n",
       "                     rougher.input.feed_ag  rougher.input.feed_pb  \\\n",
       "date                                                                \n",
       "2016-09-01 00:59:59              13.128569               5.636710   \n",
       "2016-09-01 01:59:59              13.036280               5.526065   \n",
       "2016-09-01 02:59:59              13.138412               5.426561   \n",
       "2016-09-01 03:59:59              12.400507               5.114758   \n",
       "2016-09-01 04:59:59              11.327427               4.767383   \n",
       "\n",
       "                     rougher.input.feed_rate  rougher.input.feed_size  \\\n",
       "date                                                                    \n",
       "2016-09-01 00:59:59               489.793655                62.710452   \n",
       "2016-09-01 01:59:59               490.104534                61.961163   \n",
       "2016-09-01 02:59:59               489.617969                66.903807   \n",
       "2016-09-01 03:59:59               476.618130                59.865919   \n",
       "2016-09-01 04:59:59               488.248117                63.315324   \n",
       "\n",
       "                     rougher.input.feed_sol  rougher.input.feed_au  \\\n",
       "date                                                                 \n",
       "2016-09-01 00:59:59               42.022440              12.084103   \n",
       "2016-09-01 01:59:59               41.187903              11.918977   \n",
       "2016-09-01 02:59:59               42.546294              12.091332   \n",
       "2016-09-01 03:59:59               41.060195              12.181597   \n",
       "2016-09-01 04:59:59               41.269161              11.290425   \n",
       "\n",
       "                     rougher.input.floatbank10_sulfate  \\\n",
       "date                                                     \n",
       "2016-09-01 00:59:59                          16.922877   \n",
       "2016-09-01 01:59:59                          17.002532   \n",
       "2016-09-01 02:59:59                          16.992520   \n",
       "2016-09-01 03:59:59                          16.532144   \n",
       "2016-09-01 04:59:59                          13.607257   \n",
       "\n",
       "                     rougher.input.floatbank10_xanthate  \\\n",
       "date                                                      \n",
       "2016-09-01 00:59:59                            6.153479   \n",
       "2016-09-01 01:59:59                            5.999043   \n",
       "2016-09-01 02:59:59                            5.850632   \n",
       "2016-09-01 03:59:59                            5.801935   \n",
       "2016-09-01 04:59:59                            5.738081   \n",
       "\n",
       "                     rougher.input.floatbank11_sulfate  \\\n",
       "date                                                     \n",
       "2016-09-01 00:59:59                          16.867518   \n",
       "2016-09-01 01:59:59                          16.996063   \n",
       "2016-09-01 02:59:59                          16.982096   \n",
       "2016-09-01 03:59:59                          16.515277   \n",
       "2016-09-01 04:59:59                          13.650053   \n",
       "\n",
       "                     rougher.input.floatbank11_xanthate  \\\n",
       "date                                                      \n",
       "2016-09-01 00:59:59                            6.150709   \n",
       "2016-09-01 01:59:59                            6.002315   \n",
       "2016-09-01 02:59:59                            5.853594   \n",
       "2016-09-01 03:59:59                            5.803657   \n",
       "2016-09-01 04:59:59                            5.739634   \n",
       "\n",
       "                     rougher.state.floatbank10_a_air  \\\n",
       "date                                                   \n",
       "2016-09-01 00:59:59                      1001.849317   \n",
       "2016-09-01 01:59:59                       998.690785   \n",
       "2016-09-01 02:59:59                       998.516720   \n",
       "2016-09-01 03:59:59                      1000.276604   \n",
       "2016-09-01 04:59:59                       996.541302   \n",
       "\n",
       "                     rougher.state.floatbank10_a_level  \\\n",
       "date                                                     \n",
       "2016-09-01 00:59:59                        -350.301265   \n",
       "2016-09-01 01:59:59                        -350.425704   \n",
       "2016-09-01 02:59:59                        -349.783538   \n",
       "2016-09-01 03:59:59                        -350.172597   \n",
       "2016-09-01 04:59:59                        -350.562517   \n",
       "\n",
       "                     rougher.state.floatbank10_b_air  \\\n",
       "date                                                   \n",
       "2016-09-01 00:59:59                      1249.738612   \n",
       "2016-09-01 01:59:59                      1248.395457   \n",
       "2016-09-01 02:59:59                      1247.440748   \n",
       "2016-09-01 03:59:59                      1251.322675   \n",
       "2016-09-01 04:59:59                      1304.658848   \n",
       "\n",
       "                     rougher.state.floatbank10_b_level  \\\n",
       "date                                                     \n",
       "2016-09-01 00:59:59                        -399.107531   \n",
       "2016-09-01 01:59:59                        -399.946025   \n",
       "2016-09-01 02:59:59                        -400.264330   \n",
       "2016-09-01 03:59:59                        -398.655289   \n",
       "2016-09-01 04:59:59                        -399.511519   \n",
       "\n",
       "                     rougher.state.floatbank10_c_air  \\\n",
       "date                                                   \n",
       "2016-09-01 00:59:59                      1249.750520   \n",
       "2016-09-01 01:59:59                      1249.514451   \n",
       "2016-09-01 02:59:59                      1248.207204   \n",
       "2016-09-01 03:59:59                      1250.493702   \n",
       "2016-09-01 04:59:59                      1306.455515   \n",
       "\n",
       "                     rougher.state.floatbank10_c_level  \\\n",
       "date                                                     \n",
       "2016-09-01 00:59:59                        -399.396730   \n",
       "2016-09-01 01:59:59                        -399.630810   \n",
       "2016-09-01 02:59:59                        -401.074405   \n",
       "2016-09-01 03:59:59                        -399.746728   \n",
       "2016-09-01 04:59:59                        -399.050685   \n",
       "\n",
       "                     rougher.state.floatbank10_d_air  \\\n",
       "date                                                   \n",
       "2016-09-01 00:59:59                      1198.287855   \n",
       "2016-09-01 01:59:59                      1200.506459   \n",
       "2016-09-01 02:59:59                      1199.770026   \n",
       "2016-09-01 03:59:59                      1199.398691   \n",
       "2016-09-01 04:59:59                      1248.699349   \n",
       "\n",
       "                     rougher.state.floatbank10_d_level  \\\n",
       "date                                                     \n",
       "2016-09-01 00:59:59                        -399.488594   \n",
       "2016-09-01 01:59:59                        -399.942434   \n",
       "2016-09-01 02:59:59                        -400.790582   \n",
       "2016-09-01 03:59:59                        -397.503052   \n",
       "2016-09-01 04:59:59                        -400.876894   \n",
       "\n",
       "                     rougher.state.floatbank10_e_air  \\\n",
       "date                                                   \n",
       "2016-09-01 00:59:59                       999.472250   \n",
       "2016-09-01 01:59:59                      1000.002114   \n",
       "2016-09-01 02:59:59                       999.925519   \n",
       "2016-09-01 03:59:59                      1001.930679   \n",
       "2016-09-01 04:59:59                      1058.839106   \n",
       "\n",
       "                     rougher.state.floatbank10_e_level  \\\n",
       "date                                                     \n",
       "2016-09-01 00:59:59                        -399.530962   \n",
       "2016-09-01 01:59:59                        -399.491528   \n",
       "2016-09-01 02:59:59                        -399.236999   \n",
       "2016-09-01 03:59:59                        -400.437573   \n",
       "2016-09-01 04:59:59                        -398.988239   \n",
       "\n",
       "                     rougher.state.floatbank10_f_air  \\\n",
       "date                                                   \n",
       "2016-09-01 00:59:59                       949.566189   \n",
       "2016-09-01 01:59:59                       950.200009   \n",
       "2016-09-01 02:59:59                       950.320481   \n",
       "2016-09-01 03:59:59                       950.735324   \n",
       "2016-09-01 04:59:59                       949.645313   \n",
       "\n",
       "                     rougher.state.floatbank10_f_level  \\\n",
       "date                                                     \n",
       "2016-09-01 00:59:59                        -398.180807   \n",
       "2016-09-01 01:59:59                        -405.787514   \n",
       "2016-09-01 02:59:59                        -400.864340   \n",
       "2016-09-01 03:59:59                        -399.802986   \n",
       "2016-09-01 04:59:59                        -399.277632   \n",
       "\n",
       "                     secondary_cleaner.state.floatbank2_a_air  \\\n",
       "date                                                            \n",
       "2016-09-01 00:59:59                                 24.938200   \n",
       "2016-09-01 01:59:59                                 24.923466   \n",
       "2016-09-01 02:59:59                                 24.908732   \n",
       "2016-09-01 03:59:59                                 24.893998   \n",
       "2016-09-01 04:59:59                                 24.886905   \n",
       "\n",
       "                     secondary_cleaner.state.floatbank2_a_level  \\\n",
       "date                                                              \n",
       "2016-09-01 00:59:59                                 -500.490963   \n",
       "2016-09-01 01:59:59                                 -499.813963   \n",
       "2016-09-01 02:59:59                                 -500.304035   \n",
       "2016-09-01 03:59:59                                 -499.382374   \n",
       "2016-09-01 04:59:59                                 -499.357375   \n",
       "\n",
       "                     secondary_cleaner.state.floatbank2_b_air  \\\n",
       "date                                                            \n",
       "2016-09-01 00:59:59                                 14.947607   \n",
       "2016-09-01 01:59:59                                 14.930873   \n",
       "2016-09-01 02:59:59                                 14.996511   \n",
       "2016-09-01 03:59:59                                 14.916674   \n",
       "2016-09-01 04:59:59                                 14.979233   \n",
       "\n",
       "                     secondary_cleaner.state.floatbank2_b_level  \\\n",
       "date                                                              \n",
       "2016-09-01 00:59:59                                 -500.013837   \n",
       "2016-09-01 01:59:59                                 -500.764452   \n",
       "2016-09-01 02:59:59                                 -500.993821   \n",
       "2016-09-01 03:59:59                                 -499.862299   \n",
       "2016-09-01 04:59:59                                 -500.186804   \n",
       "\n",
       "                     secondary_cleaner.state.floatbank3_a_air  \\\n",
       "date                                                            \n",
       "2016-09-01 00:59:59                                 20.018166   \n",
       "2016-09-01 01:59:59                                 19.988503   \n",
       "2016-09-01 02:59:59                                 20.039689   \n",
       "2016-09-01 03:59:59                                 20.031100   \n",
       "2016-09-01 04:59:59                                 19.962364   \n",
       "\n",
       "                     secondary_cleaner.state.floatbank3_a_level  \\\n",
       "date                                                              \n",
       "2016-09-01 00:59:59                                 -450.395995   \n",
       "2016-09-01 01:59:59                                 -450.114024   \n",
       "2016-09-01 02:59:59                                 -450.263164   \n",
       "2016-09-01 03:59:59                                 -449.372570   \n",
       "2016-09-01 04:59:59                                 -450.638828   \n",
       "\n",
       "                     secondary_cleaner.state.floatbank3_b_air  \\\n",
       "date                                                            \n",
       "2016-09-01 00:59:59                                 13.987058   \n",
       "2016-09-01 01:59:59                                 14.092981   \n",
       "2016-09-01 02:59:59                                 14.077881   \n",
       "2016-09-01 03:59:59                                 14.013968   \n",
       "2016-09-01 04:59:59                                 14.009245   \n",
       "\n",
       "                     secondary_cleaner.state.floatbank3_b_level  \\\n",
       "date                                                              \n",
       "2016-09-01 00:59:59                                 -449.831513   \n",
       "2016-09-01 01:59:59                                 -450.059163   \n",
       "2016-09-01 02:59:59                                 -449.660997   \n",
       "2016-09-01 03:59:59                                 -449.526900   \n",
       "2016-09-01 04:59:59                                 -450.022259   \n",
       "\n",
       "                     secondary_cleaner.state.floatbank4_a_air  \\\n",
       "date                                                            \n",
       "2016-09-01 00:59:59                                 12.023554   \n",
       "2016-09-01 01:59:59                                 12.058140   \n",
       "2016-09-01 02:59:59                                 11.962366   \n",
       "2016-09-01 03:59:59                                 12.033091   \n",
       "2016-09-01 04:59:59                                 12.025367   \n",
       "\n",
       "                     secondary_cleaner.state.floatbank4_a_level  \\\n",
       "date                                                              \n",
       "2016-09-01 00:59:59                                 -497.795834   \n",
       "2016-09-01 01:59:59                                 -498.695773   \n",
       "2016-09-01 02:59:59                                 -498.767484   \n",
       "2016-09-01 03:59:59                                 -498.350935   \n",
       "2016-09-01 04:59:59                                 -500.786497   \n",
       "\n",
       "                     secondary_cleaner.state.floatbank4_b_air  \\\n",
       "date                                                            \n",
       "2016-09-01 00:59:59                                  8.016656   \n",
       "2016-09-01 01:59:59                                  8.130979   \n",
       "2016-09-01 02:59:59                                  8.096893   \n",
       "2016-09-01 03:59:59                                  8.074946   \n",
       "2016-09-01 04:59:59                                  8.054678   \n",
       "\n",
       "                     secondary_cleaner.state.floatbank4_b_level  \\\n",
       "date                                                              \n",
       "2016-09-01 00:59:59                                 -501.289139   \n",
       "2016-09-01 01:59:59                                 -499.634209   \n",
       "2016-09-01 02:59:59                                 -500.827423   \n",
       "2016-09-01 03:59:59                                 -499.474407   \n",
       "2016-09-01 04:59:59                                 -500.397500   \n",
       "\n",
       "                     secondary_cleaner.state.floatbank5_a_air  \\\n",
       "date                                                            \n",
       "2016-09-01 00:59:59                                  7.946562   \n",
       "2016-09-01 01:59:59                                  7.958270   \n",
       "2016-09-01 02:59:59                                  8.071056   \n",
       "2016-09-01 03:59:59                                  7.897085   \n",
       "2016-09-01 04:59:59                                  8.107890   \n",
       "\n",
       "                     secondary_cleaner.state.floatbank5_a_level  \\\n",
       "date                                                              \n",
       "2016-09-01 00:59:59                                 -432.317850   \n",
       "2016-09-01 01:59:59                                 -525.839648   \n",
       "2016-09-01 02:59:59                                 -500.801673   \n",
       "2016-09-01 03:59:59                                 -500.868509   \n",
       "2016-09-01 04:59:59                                 -509.526725   \n",
       "\n",
       "                     secondary_cleaner.state.floatbank5_b_air  \\\n",
       "date                                                            \n",
       "2016-09-01 00:59:59                                  4.872511   \n",
       "2016-09-01 01:59:59                                  4.878850   \n",
       "2016-09-01 02:59:59                                  4.905125   \n",
       "2016-09-01 03:59:59                                  4.931400   \n",
       "2016-09-01 04:59:59                                  4.957674   \n",
       "\n",
       "                     secondary_cleaner.state.floatbank5_b_level  \\\n",
       "date                                                              \n",
       "2016-09-01 00:59:59                                 -500.037437   \n",
       "2016-09-01 01:59:59                                 -500.162375   \n",
       "2016-09-01 02:59:59                                 -499.828510   \n",
       "2016-09-01 03:59:59                                 -499.963623   \n",
       "2016-09-01 04:59:59                                 -500.360026   \n",
       "\n",
       "                     secondary_cleaner.state.floatbank6_a_air  \\\n",
       "date                                                            \n",
       "2016-09-01 00:59:59                                 26.705889   \n",
       "2016-09-01 01:59:59                                 25.019940   \n",
       "2016-09-01 02:59:59                                 24.994862   \n",
       "2016-09-01 03:59:59                                 24.948919   \n",
       "2016-09-01 04:59:59                                 25.003331   \n",
       "\n",
       "                     secondary_cleaner.state.floatbank6_a_level  \n",
       "date                                                             \n",
       "2016-09-01 00:59:59                                 -499.709414  \n",
       "2016-09-01 01:59:59                                 -499.819438  \n",
       "2016-09-01 02:59:59                                 -500.622559  \n",
       "2016-09-01 03:59:59                                 -498.709987  \n",
       "2016-09-01 04:59:59                                 -500.856333  "
      ]
     },
     "metadata": {},
     "output_type": "display_data"
    },
    {
     "name": "stdout",
     "output_type": "stream",
     "text": [
      "<class 'pandas.core.frame.DataFrame'>\n",
      "Index: 5290 entries, 2016-09-01 00:59:59 to 2017-12-31 23:59:59\n",
      "Data columns (total 52 columns):\n",
      " #   Column                                      Non-Null Count  Dtype  \n",
      "---  ------                                      --------------  -----  \n",
      " 0   primary_cleaner.input.sulfate               5286 non-null   float64\n",
      " 1   primary_cleaner.input.depressant            5285 non-null   float64\n",
      " 2   primary_cleaner.input.feed_size             5290 non-null   float64\n",
      " 3   primary_cleaner.input.xanthate              5286 non-null   float64\n",
      " 4   primary_cleaner.state.floatbank8_a_air      5290 non-null   float64\n",
      " 5   primary_cleaner.state.floatbank8_a_level    5290 non-null   float64\n",
      " 6   primary_cleaner.state.floatbank8_b_air      5290 non-null   float64\n",
      " 7   primary_cleaner.state.floatbank8_b_level    5290 non-null   float64\n",
      " 8   primary_cleaner.state.floatbank8_c_air      5290 non-null   float64\n",
      " 9   primary_cleaner.state.floatbank8_c_level    5290 non-null   float64\n",
      " 10  primary_cleaner.state.floatbank8_d_air      5290 non-null   float64\n",
      " 11  primary_cleaner.state.floatbank8_d_level    5290 non-null   float64\n",
      " 12  rougher.input.feed_ag                       5290 non-null   float64\n",
      " 13  rougher.input.feed_pb                       5290 non-null   float64\n",
      " 14  rougher.input.feed_rate                     5287 non-null   float64\n",
      " 15  rougher.input.feed_size                     5289 non-null   float64\n",
      " 16  rougher.input.feed_sol                      5269 non-null   float64\n",
      " 17  rougher.input.feed_au                       5290 non-null   float64\n",
      " 18  rougher.input.floatbank10_sulfate           5285 non-null   float64\n",
      " 19  rougher.input.floatbank10_xanthate          5290 non-null   float64\n",
      " 20  rougher.input.floatbank11_sulfate           5282 non-null   float64\n",
      " 21  rougher.input.floatbank11_xanthate          5265 non-null   float64\n",
      " 22  rougher.state.floatbank10_a_air             5290 non-null   float64\n",
      " 23  rougher.state.floatbank10_a_level           5290 non-null   float64\n",
      " 24  rougher.state.floatbank10_b_air             5290 non-null   float64\n",
      " 25  rougher.state.floatbank10_b_level           5290 non-null   float64\n",
      " 26  rougher.state.floatbank10_c_air             5290 non-null   float64\n",
      " 27  rougher.state.floatbank10_c_level           5290 non-null   float64\n",
      " 28  rougher.state.floatbank10_d_air             5290 non-null   float64\n",
      " 29  rougher.state.floatbank10_d_level           5290 non-null   float64\n",
      " 30  rougher.state.floatbank10_e_air             5290 non-null   float64\n",
      " 31  rougher.state.floatbank10_e_level           5290 non-null   float64\n",
      " 32  rougher.state.floatbank10_f_air             5290 non-null   float64\n",
      " 33  rougher.state.floatbank10_f_level           5290 non-null   float64\n",
      " 34  secondary_cleaner.state.floatbank2_a_air    5287 non-null   float64\n",
      " 35  secondary_cleaner.state.floatbank2_a_level  5290 non-null   float64\n",
      " 36  secondary_cleaner.state.floatbank2_b_air    5288 non-null   float64\n",
      " 37  secondary_cleaner.state.floatbank2_b_level  5290 non-null   float64\n",
      " 38  secondary_cleaner.state.floatbank3_a_air    5281 non-null   float64\n",
      " 39  secondary_cleaner.state.floatbank3_a_level  5290 non-null   float64\n",
      " 40  secondary_cleaner.state.floatbank3_b_air    5290 non-null   float64\n",
      " 41  secondary_cleaner.state.floatbank3_b_level  5290 non-null   float64\n",
      " 42  secondary_cleaner.state.floatbank4_a_air    5290 non-null   float64\n",
      " 43  secondary_cleaner.state.floatbank4_a_level  5290 non-null   float64\n",
      " 44  secondary_cleaner.state.floatbank4_b_air    5290 non-null   float64\n",
      " 45  secondary_cleaner.state.floatbank4_b_level  5290 non-null   float64\n",
      " 46  secondary_cleaner.state.floatbank5_a_air    5290 non-null   float64\n",
      " 47  secondary_cleaner.state.floatbank5_a_level  5290 non-null   float64\n",
      " 48  secondary_cleaner.state.floatbank5_b_air    5290 non-null   float64\n",
      " 49  secondary_cleaner.state.floatbank5_b_level  5290 non-null   float64\n",
      " 50  secondary_cleaner.state.floatbank6_a_air    5290 non-null   float64\n",
      " 51  secondary_cleaner.state.floatbank6_a_level  5290 non-null   float64\n",
      "dtypes: float64(52)\n",
      "memory usage: 2.1+ MB\n",
      "None\n"
     ]
    }
   ],
   "source": [
    "for data in [full, train, test]:\n",
    "    display(data.head())\n",
    "    print(data.info())"
   ]
  },
  {
   "cell_type": "markdown",
   "metadata": {},
   "source": [
    "Первое что бросается в глаза это разница в количестве колонок \n",
    "\n",
    "В исходных данных и обучающей выборке по 87 колонок, а в тестовой 53 \n",
    "\n",
    "Найдем колонки которые не попали в тестовую выборку "
   ]
  },
  {
   "cell_type": "code",
   "execution_count": 5,
   "metadata": {},
   "outputs": [
    {
     "data": {
      "text/plain": [
       "['final.output.concentrate_ag',\n",
       " 'final.output.concentrate_pb',\n",
       " 'final.output.concentrate_sol',\n",
       " 'final.output.concentrate_au',\n",
       " 'final.output.recovery',\n",
       " 'final.output.tail_ag',\n",
       " 'final.output.tail_pb',\n",
       " 'final.output.tail_sol',\n",
       " 'final.output.tail_au',\n",
       " 'primary_cleaner.output.concentrate_ag',\n",
       " 'primary_cleaner.output.concentrate_pb',\n",
       " 'primary_cleaner.output.concentrate_sol',\n",
       " 'primary_cleaner.output.concentrate_au',\n",
       " 'primary_cleaner.output.tail_ag',\n",
       " 'primary_cleaner.output.tail_pb',\n",
       " 'primary_cleaner.output.tail_sol',\n",
       " 'primary_cleaner.output.tail_au',\n",
       " 'rougher.calculation.sulfate_to_au_concentrate',\n",
       " 'rougher.calculation.floatbank10_sulfate_to_au_feed',\n",
       " 'rougher.calculation.floatbank11_sulfate_to_au_feed',\n",
       " 'rougher.calculation.au_pb_ratio',\n",
       " 'rougher.output.concentrate_ag',\n",
       " 'rougher.output.concentrate_pb',\n",
       " 'rougher.output.concentrate_sol',\n",
       " 'rougher.output.concentrate_au',\n",
       " 'rougher.output.recovery',\n",
       " 'rougher.output.tail_ag',\n",
       " 'rougher.output.tail_pb',\n",
       " 'rougher.output.tail_sol',\n",
       " 'rougher.output.tail_au',\n",
       " 'secondary_cleaner.output.tail_ag',\n",
       " 'secondary_cleaner.output.tail_pb',\n",
       " 'secondary_cleaner.output.tail_sol',\n",
       " 'secondary_cleaner.output.tail_au']"
      ]
     },
     "execution_count": 5,
     "metadata": {},
     "output_type": "execute_result"
    }
   ],
   "source": [
    "missing_columns = []\n",
    "\n",
    "for column in full.columns:\n",
    "    if column not in test.columns:\n",
    "        missing_columns.append(column)\n",
    "        \n",
    "missing_columns"
   ]
  },
  {
   "cell_type": "markdown",
   "metadata": {},
   "source": [
    "При дальнейшем анализе более подробно рассмотрим отсутствующие колонки в тестовой выборке (в случае необходимости их можно будет восстановить из исходных данных **gold_recovery_full_new.csv**)"
   ]
  },
  {
   "cell_type": "markdown",
   "metadata": {},
   "source": [
    "Вызовем **.describe** для выявления аномальных значений "
   ]
  },
  {
   "cell_type": "code",
   "execution_count": 6,
   "metadata": {},
   "outputs": [
    {
     "data": {
      "text/html": [
       "<div>\n",
       "<style scoped>\n",
       "    .dataframe tbody tr th:only-of-type {\n",
       "        vertical-align: middle;\n",
       "    }\n",
       "\n",
       "    .dataframe tbody tr th {\n",
       "        vertical-align: top;\n",
       "    }\n",
       "\n",
       "    .dataframe thead th {\n",
       "        text-align: right;\n",
       "    }\n",
       "</style>\n",
       "<table border=\"1\" class=\"dataframe\">\n",
       "  <thead>\n",
       "    <tr style=\"text-align: right;\">\n",
       "      <th></th>\n",
       "      <th>final.output.concentrate_ag</th>\n",
       "      <th>final.output.concentrate_pb</th>\n",
       "      <th>final.output.concentrate_sol</th>\n",
       "      <th>final.output.concentrate_au</th>\n",
       "      <th>final.output.recovery</th>\n",
       "      <th>final.output.tail_ag</th>\n",
       "      <th>final.output.tail_pb</th>\n",
       "      <th>final.output.tail_sol</th>\n",
       "      <th>final.output.tail_au</th>\n",
       "      <th>primary_cleaner.input.sulfate</th>\n",
       "      <th>primary_cleaner.input.depressant</th>\n",
       "      <th>primary_cleaner.input.feed_size</th>\n",
       "      <th>primary_cleaner.input.xanthate</th>\n",
       "      <th>primary_cleaner.output.concentrate_ag</th>\n",
       "      <th>primary_cleaner.output.concentrate_pb</th>\n",
       "      <th>primary_cleaner.output.concentrate_sol</th>\n",
       "      <th>primary_cleaner.output.concentrate_au</th>\n",
       "      <th>primary_cleaner.output.tail_ag</th>\n",
       "      <th>primary_cleaner.output.tail_pb</th>\n",
       "      <th>primary_cleaner.output.tail_sol</th>\n",
       "      <th>primary_cleaner.output.tail_au</th>\n",
       "      <th>primary_cleaner.state.floatbank8_a_air</th>\n",
       "      <th>primary_cleaner.state.floatbank8_a_level</th>\n",
       "      <th>primary_cleaner.state.floatbank8_b_air</th>\n",
       "      <th>primary_cleaner.state.floatbank8_b_level</th>\n",
       "      <th>primary_cleaner.state.floatbank8_c_air</th>\n",
       "      <th>primary_cleaner.state.floatbank8_c_level</th>\n",
       "      <th>primary_cleaner.state.floatbank8_d_air</th>\n",
       "      <th>primary_cleaner.state.floatbank8_d_level</th>\n",
       "      <th>rougher.calculation.sulfate_to_au_concentrate</th>\n",
       "      <th>...</th>\n",
       "      <th>rougher.state.floatbank10_c_air</th>\n",
       "      <th>rougher.state.floatbank10_c_level</th>\n",
       "      <th>rougher.state.floatbank10_d_air</th>\n",
       "      <th>rougher.state.floatbank10_d_level</th>\n",
       "      <th>rougher.state.floatbank10_e_air</th>\n",
       "      <th>rougher.state.floatbank10_e_level</th>\n",
       "      <th>rougher.state.floatbank10_f_air</th>\n",
       "      <th>rougher.state.floatbank10_f_level</th>\n",
       "      <th>secondary_cleaner.output.tail_ag</th>\n",
       "      <th>secondary_cleaner.output.tail_pb</th>\n",
       "      <th>secondary_cleaner.output.tail_sol</th>\n",
       "      <th>secondary_cleaner.output.tail_au</th>\n",
       "      <th>secondary_cleaner.state.floatbank2_a_air</th>\n",
       "      <th>secondary_cleaner.state.floatbank2_a_level</th>\n",
       "      <th>secondary_cleaner.state.floatbank2_b_air</th>\n",
       "      <th>secondary_cleaner.state.floatbank2_b_level</th>\n",
       "      <th>secondary_cleaner.state.floatbank3_a_air</th>\n",
       "      <th>secondary_cleaner.state.floatbank3_a_level</th>\n",
       "      <th>secondary_cleaner.state.floatbank3_b_air</th>\n",
       "      <th>secondary_cleaner.state.floatbank3_b_level</th>\n",
       "      <th>secondary_cleaner.state.floatbank4_a_air</th>\n",
       "      <th>secondary_cleaner.state.floatbank4_a_level</th>\n",
       "      <th>secondary_cleaner.state.floatbank4_b_air</th>\n",
       "      <th>secondary_cleaner.state.floatbank4_b_level</th>\n",
       "      <th>secondary_cleaner.state.floatbank5_a_air</th>\n",
       "      <th>secondary_cleaner.state.floatbank5_a_level</th>\n",
       "      <th>secondary_cleaner.state.floatbank5_b_air</th>\n",
       "      <th>secondary_cleaner.state.floatbank5_b_level</th>\n",
       "      <th>secondary_cleaner.state.floatbank6_a_air</th>\n",
       "      <th>secondary_cleaner.state.floatbank6_a_level</th>\n",
       "    </tr>\n",
       "  </thead>\n",
       "  <tbody>\n",
       "    <tr>\n",
       "      <th>count</th>\n",
       "      <td>19438.000000</td>\n",
       "      <td>19438.000000</td>\n",
       "      <td>19228.000000</td>\n",
       "      <td>19439.000000</td>\n",
       "      <td>19439.000000</td>\n",
       "      <td>19438.000000</td>\n",
       "      <td>19338.000000</td>\n",
       "      <td>19433.000000</td>\n",
       "      <td>19439.000000</td>\n",
       "      <td>19415.000000</td>\n",
       "      <td>19402.000000</td>\n",
       "      <td>19439.000000</td>\n",
       "      <td>19335.000000</td>\n",
       "      <td>19439.000000</td>\n",
       "      <td>19323.000000</td>\n",
       "      <td>19069.000000</td>\n",
       "      <td>19439.000000</td>\n",
       "      <td>19435.000000</td>\n",
       "      <td>19418.000000</td>\n",
       "      <td>19377.000000</td>\n",
       "      <td>19439.000000</td>\n",
       "      <td>1.943500e+04</td>\n",
       "      <td>19438.000000</td>\n",
       "      <td>1.943500e+04</td>\n",
       "      <td>19438.000000</td>\n",
       "      <td>1.943700e+04</td>\n",
       "      <td>19438.000000</td>\n",
       "      <td>1.943600e+04</td>\n",
       "      <td>19438.000000</td>\n",
       "      <td>1.943700e+04</td>\n",
       "      <td>...</td>\n",
       "      <td>19438.000000</td>\n",
       "      <td>19438.000000</td>\n",
       "      <td>19439.000000</td>\n",
       "      <td>19439.000000</td>\n",
       "      <td>19003.000000</td>\n",
       "      <td>19439.000000</td>\n",
       "      <td>19439.000000</td>\n",
       "      <td>19439.000000</td>\n",
       "      <td>19437.000000</td>\n",
       "      <td>19427.000000</td>\n",
       "      <td>17691.000000</td>\n",
       "      <td>19439.000000</td>\n",
       "      <td>19219.000000</td>\n",
       "      <td>19438.000000</td>\n",
       "      <td>19416.000000</td>\n",
       "      <td>19438.000000</td>\n",
       "      <td>19426.000000</td>\n",
       "      <td>19438.000000</td>\n",
       "      <td>19438.000000</td>\n",
       "      <td>19438.000000</td>\n",
       "      <td>19433.000000</td>\n",
       "      <td>19438.000000</td>\n",
       "      <td>19438.000000</td>\n",
       "      <td>19438.000000</td>\n",
       "      <td>19438.000000</td>\n",
       "      <td>19438.000000</td>\n",
       "      <td>19438.000000</td>\n",
       "      <td>19438.000000</td>\n",
       "      <td>19437.000000</td>\n",
       "      <td>19438.000000</td>\n",
       "    </tr>\n",
       "    <tr>\n",
       "      <th>mean</th>\n",
       "      <td>5.168470</td>\n",
       "      <td>9.978895</td>\n",
       "      <td>9.501224</td>\n",
       "      <td>44.076513</td>\n",
       "      <td>67.050208</td>\n",
       "      <td>9.688589</td>\n",
       "      <td>2.705795</td>\n",
       "      <td>10.583728</td>\n",
       "      <td>3.042467</td>\n",
       "      <td>144.624774</td>\n",
       "      <td>8.817039</td>\n",
       "      <td>7.307078</td>\n",
       "      <td>1.021795</td>\n",
       "      <td>8.442408</td>\n",
       "      <td>9.829530</td>\n",
       "      <td>10.489499</td>\n",
       "      <td>32.119400</td>\n",
       "      <td>16.145826</td>\n",
       "      <td>3.435656</td>\n",
       "      <td>7.973209</td>\n",
       "      <td>3.914179</td>\n",
       "      <td>1.589354e+03</td>\n",
       "      <td>-491.195012</td>\n",
       "      <td>1.591344e+03</td>\n",
       "      <td>-492.192978</td>\n",
       "      <td>1.586669e+03</td>\n",
       "      <td>-491.980070</td>\n",
       "      <td>1.542912e+03</td>\n",
       "      <td>-488.017382</td>\n",
       "      <td>4.217119e+04</td>\n",
       "      <td>...</td>\n",
       "      <td>1299.968799</td>\n",
       "      <td>-467.716946</td>\n",
       "      <td>1211.563299</td>\n",
       "      <td>-468.239912</td>\n",
       "      <td>1080.869685</td>\n",
       "      <td>-466.037742</td>\n",
       "      <td>1025.274256</td>\n",
       "      <td>-466.265327</td>\n",
       "      <td>14.586833</td>\n",
       "      <td>5.777703</td>\n",
       "      <td>7.167247</td>\n",
       "      <td>4.339625</td>\n",
       "      <td>28.705564</td>\n",
       "      <td>-502.367331</td>\n",
       "      <td>24.106800</td>\n",
       "      <td>-503.230712</td>\n",
       "      <td>28.199338</td>\n",
       "      <td>-486.203350</td>\n",
       "      <td>22.200645</td>\n",
       "      <td>-493.742107</td>\n",
       "      <td>18.987674</td>\n",
       "      <td>-485.894516</td>\n",
       "      <td>15.010366</td>\n",
       "      <td>-461.078636</td>\n",
       "      <td>15.694452</td>\n",
       "      <td>-488.684065</td>\n",
       "      <td>12.198224</td>\n",
       "      <td>-487.149827</td>\n",
       "      <td>18.959024</td>\n",
       "      <td>-505.436305</td>\n",
       "    </tr>\n",
       "    <tr>\n",
       "      <th>std</th>\n",
       "      <td>1.372348</td>\n",
       "      <td>1.669240</td>\n",
       "      <td>2.787537</td>\n",
       "      <td>5.129784</td>\n",
       "      <td>10.125840</td>\n",
       "      <td>2.328642</td>\n",
       "      <td>0.949077</td>\n",
       "      <td>2.868782</td>\n",
       "      <td>0.922808</td>\n",
       "      <td>44.464071</td>\n",
       "      <td>3.286186</td>\n",
       "      <td>0.613509</td>\n",
       "      <td>0.513254</td>\n",
       "      <td>2.054465</td>\n",
       "      <td>2.556843</td>\n",
       "      <td>3.909639</td>\n",
       "      <td>5.627611</td>\n",
       "      <td>3.548598</td>\n",
       "      <td>1.392536</td>\n",
       "      <td>2.212677</td>\n",
       "      <td>1.593034</td>\n",
       "      <td>1.289968e+02</td>\n",
       "      <td>32.431842</td>\n",
       "      <td>1.318109e+02</td>\n",
       "      <td>33.794822</td>\n",
       "      <td>1.361114e+02</td>\n",
       "      <td>32.711455</td>\n",
       "      <td>2.461996e+02</td>\n",
       "      <td>43.959780</td>\n",
       "      <td>3.243621e+05</td>\n",
       "      <td>...</td>\n",
       "      <td>202.804325</td>\n",
       "      <td>53.534825</td>\n",
       "      <td>204.019326</td>\n",
       "      <td>53.921458</td>\n",
       "      <td>172.149992</td>\n",
       "      <td>57.384424</td>\n",
       "      <td>164.487837</td>\n",
       "      <td>57.850263</td>\n",
       "      <td>4.265202</td>\n",
       "      <td>2.774598</td>\n",
       "      <td>3.916079</td>\n",
       "      <td>2.326751</td>\n",
       "      <td>5.458789</td>\n",
       "      <td>53.571950</td>\n",
       "      <td>5.749616</td>\n",
       "      <td>56.567724</td>\n",
       "      <td>6.134908</td>\n",
       "      <td>54.412349</td>\n",
       "      <td>5.574001</td>\n",
       "      <td>43.372158</td>\n",
       "      <td>5.411058</td>\n",
       "      <td>47.758570</td>\n",
       "      <td>4.890228</td>\n",
       "      <td>67.405524</td>\n",
       "      <td>5.510974</td>\n",
       "      <td>34.533396</td>\n",
       "      <td>5.333024</td>\n",
       "      <td>38.347312</td>\n",
       "      <td>5.550498</td>\n",
       "      <td>37.689057</td>\n",
       "    </tr>\n",
       "    <tr>\n",
       "      <th>min</th>\n",
       "      <td>0.000000</td>\n",
       "      <td>0.000000</td>\n",
       "      <td>0.000000</td>\n",
       "      <td>0.000000</td>\n",
       "      <td>0.000000</td>\n",
       "      <td>0.000000</td>\n",
       "      <td>0.000000</td>\n",
       "      <td>0.000000</td>\n",
       "      <td>0.000000</td>\n",
       "      <td>0.003112</td>\n",
       "      <td>0.000000</td>\n",
       "      <td>1.080000</td>\n",
       "      <td>0.000005</td>\n",
       "      <td>0.000000</td>\n",
       "      <td>0.000000</td>\n",
       "      <td>0.000000</td>\n",
       "      <td>0.000000</td>\n",
       "      <td>0.000000</td>\n",
       "      <td>0.000000</td>\n",
       "      <td>0.000000</td>\n",
       "      <td>0.000000</td>\n",
       "      <td>5.445860e-32</td>\n",
       "      <td>-798.641662</td>\n",
       "      <td>6.647490e-32</td>\n",
       "      <td>-799.997015</td>\n",
       "      <td>4.033736e-32</td>\n",
       "      <td>-799.960571</td>\n",
       "      <td>4.039220e-32</td>\n",
       "      <td>-799.794250</td>\n",
       "      <td>-4.223520e+07</td>\n",
       "      <td>...</td>\n",
       "      <td>-0.056636</td>\n",
       "      <td>-647.544439</td>\n",
       "      <td>-0.992219</td>\n",
       "      <td>-648.390665</td>\n",
       "      <td>-1.982295</td>\n",
       "      <td>-649.443911</td>\n",
       "      <td>-2.593390</td>\n",
       "      <td>-649.949283</td>\n",
       "      <td>0.000000</td>\n",
       "      <td>0.000000</td>\n",
       "      <td>0.000000</td>\n",
       "      <td>0.000000</td>\n",
       "      <td>0.077503</td>\n",
       "      <td>-799.606441</td>\n",
       "      <td>0.000000</td>\n",
       "      <td>-799.873878</td>\n",
       "      <td>0.000000</td>\n",
       "      <td>-799.755798</td>\n",
       "      <td>0.000000</td>\n",
       "      <td>-809.333008</td>\n",
       "      <td>0.000000</td>\n",
       "      <td>-799.798523</td>\n",
       "      <td>0.000000</td>\n",
       "      <td>-800.836914</td>\n",
       "      <td>-0.372054</td>\n",
       "      <td>-797.323986</td>\n",
       "      <td>0.528083</td>\n",
       "      <td>-800.220337</td>\n",
       "      <td>-0.079426</td>\n",
       "      <td>-809.741464</td>\n",
       "    </tr>\n",
       "    <tr>\n",
       "      <th>25%</th>\n",
       "      <td>4.251240</td>\n",
       "      <td>9.137262</td>\n",
       "      <td>7.722820</td>\n",
       "      <td>43.402215</td>\n",
       "      <td>63.299712</td>\n",
       "      <td>8.062878</td>\n",
       "      <td>2.040119</td>\n",
       "      <td>8.938947</td>\n",
       "      <td>2.461138</td>\n",
       "      <td>114.107029</td>\n",
       "      <td>6.076909</td>\n",
       "      <td>6.940000</td>\n",
       "      <td>0.697224</td>\n",
       "      <td>7.263288</td>\n",
       "      <td>8.702328</td>\n",
       "      <td>7.893893</td>\n",
       "      <td>30.463140</td>\n",
       "      <td>14.017742</td>\n",
       "      <td>2.504365</td>\n",
       "      <td>6.747483</td>\n",
       "      <td>2.924844</td>\n",
       "      <td>1.505063e+03</td>\n",
       "      <td>-500.308544</td>\n",
       "      <td>1.503630e+03</td>\n",
       "      <td>-500.437171</td>\n",
       "      <td>1.500927e+03</td>\n",
       "      <td>-500.703932</td>\n",
       "      <td>1.494219e+03</td>\n",
       "      <td>-500.458365</td>\n",
       "      <td>4.070095e+04</td>\n",
       "      <td>...</td>\n",
       "      <td>1151.076301</td>\n",
       "      <td>-500.217218</td>\n",
       "      <td>1061.051788</td>\n",
       "      <td>-500.386386</td>\n",
       "      <td>998.675263</td>\n",
       "      <td>-500.232191</td>\n",
       "      <td>900.995511</td>\n",
       "      <td>-500.522553</td>\n",
       "      <td>12.640239</td>\n",
       "      <td>3.864733</td>\n",
       "      <td>3.845475</td>\n",
       "      <td>3.182770</td>\n",
       "      <td>25.048462</td>\n",
       "      <td>-500.233700</td>\n",
       "      <td>20.919853</td>\n",
       "      <td>-500.253794</td>\n",
       "      <td>24.949227</td>\n",
       "      <td>-500.213546</td>\n",
       "      <td>18.995924</td>\n",
       "      <td>-500.123034</td>\n",
       "      <td>14.975734</td>\n",
       "      <td>-500.704892</td>\n",
       "      <td>11.940294</td>\n",
       "      <td>-500.187742</td>\n",
       "      <td>10.988606</td>\n",
       "      <td>-500.458467</td>\n",
       "      <td>8.971105</td>\n",
       "      <td>-500.129462</td>\n",
       "      <td>14.983037</td>\n",
       "      <td>-500.728067</td>\n",
       "    </tr>\n",
       "    <tr>\n",
       "      <th>50%</th>\n",
       "      <td>5.066094</td>\n",
       "      <td>10.102433</td>\n",
       "      <td>9.218961</td>\n",
       "      <td>45.011244</td>\n",
       "      <td>68.172738</td>\n",
       "      <td>9.743623</td>\n",
       "      <td>2.748730</td>\n",
       "      <td>10.622456</td>\n",
       "      <td>2.984909</td>\n",
       "      <td>143.232103</td>\n",
       "      <td>8.038311</td>\n",
       "      <td>7.280000</td>\n",
       "      <td>0.940863</td>\n",
       "      <td>8.507298</td>\n",
       "      <td>10.152433</td>\n",
       "      <td>10.314632</td>\n",
       "      <td>32.841295</td>\n",
       "      <td>15.842836</td>\n",
       "      <td>3.271153</td>\n",
       "      <td>8.183673</td>\n",
       "      <td>3.623234</td>\n",
       "      <td>1.600597e+03</td>\n",
       "      <td>-499.926134</td>\n",
       "      <td>1.600521e+03</td>\n",
       "      <td>-499.956767</td>\n",
       "      <td>1.600254e+03</td>\n",
       "      <td>-499.909524</td>\n",
       "      <td>1.599447e+03</td>\n",
       "      <td>-499.905974</td>\n",
       "      <td>4.469648e+04</td>\n",
       "      <td>...</td>\n",
       "      <td>1300.211537</td>\n",
       "      <td>-499.713364</td>\n",
       "      <td>1201.569141</td>\n",
       "      <td>-499.532412</td>\n",
       "      <td>1050.029461</td>\n",
       "      <td>-499.663089</td>\n",
       "      <td>999.924821</td>\n",
       "      <td>-499.471777</td>\n",
       "      <td>15.641902</td>\n",
       "      <td>5.344073</td>\n",
       "      <td>7.685827</td>\n",
       "      <td>4.072412</td>\n",
       "      <td>29.099943</td>\n",
       "      <td>-499.973250</td>\n",
       "      <td>25.043289</td>\n",
       "      <td>-500.015439</td>\n",
       "      <td>27.982129</td>\n",
       "      <td>-499.930680</td>\n",
       "      <td>22.011231</td>\n",
       "      <td>-499.981902</td>\n",
       "      <td>18.017481</td>\n",
       "      <td>-499.837793</td>\n",
       "      <td>14.971014</td>\n",
       "      <td>-499.459786</td>\n",
       "      <td>15.000036</td>\n",
       "      <td>-499.802605</td>\n",
       "      <td>11.019433</td>\n",
       "      <td>-499.935317</td>\n",
       "      <td>19.960541</td>\n",
       "      <td>-500.048400</td>\n",
       "    </tr>\n",
       "    <tr>\n",
       "      <th>75%</th>\n",
       "      <td>5.895527</td>\n",
       "      <td>11.035769</td>\n",
       "      <td>10.947813</td>\n",
       "      <td>46.275313</td>\n",
       "      <td>72.686642</td>\n",
       "      <td>11.134294</td>\n",
       "      <td>3.333216</td>\n",
       "      <td>12.104271</td>\n",
       "      <td>3.571351</td>\n",
       "      <td>175.075656</td>\n",
       "      <td>11.013521</td>\n",
       "      <td>7.670000</td>\n",
       "      <td>1.210990</td>\n",
       "      <td>9.809001</td>\n",
       "      <td>11.424971</td>\n",
       "      <td>13.446702</td>\n",
       "      <td>35.048006</td>\n",
       "      <td>18.013975</td>\n",
       "      <td>4.181748</td>\n",
       "      <td>9.548586</td>\n",
       "      <td>4.585705</td>\n",
       "      <td>1.697658e+03</td>\n",
       "      <td>-499.433950</td>\n",
       "      <td>1.699218e+03</td>\n",
       "      <td>-499.373336</td>\n",
       "      <td>1.699483e+03</td>\n",
       "      <td>-498.857643</td>\n",
       "      <td>1.698525e+03</td>\n",
       "      <td>-499.064695</td>\n",
       "      <td>4.816821e+04</td>\n",
       "      <td>...</td>\n",
       "      <td>1449.464001</td>\n",
       "      <td>-400.985743</td>\n",
       "      <td>1352.880320</td>\n",
       "      <td>-401.638550</td>\n",
       "      <td>1199.425140</td>\n",
       "      <td>-401.161191</td>\n",
       "      <td>1099.719692</td>\n",
       "      <td>-401.511042</td>\n",
       "      <td>17.358217</td>\n",
       "      <td>7.788467</td>\n",
       "      <td>10.411296</td>\n",
       "      <td>5.063081</td>\n",
       "      <td>33.012536</td>\n",
       "      <td>-499.671261</td>\n",
       "      <td>28.008197</td>\n",
       "      <td>-499.785698</td>\n",
       "      <td>33.002798</td>\n",
       "      <td>-499.325739</td>\n",
       "      <td>25.998206</td>\n",
       "      <td>-499.812834</td>\n",
       "      <td>23.012470</td>\n",
       "      <td>-498.249730</td>\n",
       "      <td>19.034162</td>\n",
       "      <td>-400.118106</td>\n",
       "      <td>18.026190</td>\n",
       "      <td>-498.384187</td>\n",
       "      <td>14.019088</td>\n",
       "      <td>-499.436708</td>\n",
       "      <td>24.003170</td>\n",
       "      <td>-499.495378</td>\n",
       "    </tr>\n",
       "    <tr>\n",
       "      <th>max</th>\n",
       "      <td>16.001945</td>\n",
       "      <td>17.031899</td>\n",
       "      <td>19.615720</td>\n",
       "      <td>52.756638</td>\n",
       "      <td>100.000000</td>\n",
       "      <td>19.552149</td>\n",
       "      <td>5.804178</td>\n",
       "      <td>22.317730</td>\n",
       "      <td>8.245022</td>\n",
       "      <td>265.983123</td>\n",
       "      <td>40.000000</td>\n",
       "      <td>15.500000</td>\n",
       "      <td>4.102454</td>\n",
       "      <td>16.081632</td>\n",
       "      <td>17.081278</td>\n",
       "      <td>22.458114</td>\n",
       "      <td>45.933934</td>\n",
       "      <td>29.459575</td>\n",
       "      <td>9.634565</td>\n",
       "      <td>22.276364</td>\n",
       "      <td>17.788925</td>\n",
       "      <td>2.103104e+03</td>\n",
       "      <td>-57.195404</td>\n",
       "      <td>2.114907e+03</td>\n",
       "      <td>-142.527229</td>\n",
       "      <td>2.013156e+03</td>\n",
       "      <td>-150.937035</td>\n",
       "      <td>2.398904e+03</td>\n",
       "      <td>-30.601828</td>\n",
       "      <td>3.428099e+06</td>\n",
       "      <td>...</td>\n",
       "      <td>2499.129174</td>\n",
       "      <td>-292.155509</td>\n",
       "      <td>1817.199290</td>\n",
       "      <td>-76.397327</td>\n",
       "      <td>1922.636637</td>\n",
       "      <td>-139.753025</td>\n",
       "      <td>1706.307502</td>\n",
       "      <td>-191.718480</td>\n",
       "      <td>23.264738</td>\n",
       "      <td>17.042505</td>\n",
       "      <td>26.000772</td>\n",
       "      <td>26.811643</td>\n",
       "      <td>52.651399</td>\n",
       "      <td>-127.875565</td>\n",
       "      <td>35.152122</td>\n",
       "      <td>-211.999273</td>\n",
       "      <td>44.260464</td>\n",
       "      <td>-191.678810</td>\n",
       "      <td>35.072841</td>\n",
       "      <td>-159.742331</td>\n",
       "      <td>30.115735</td>\n",
       "      <td>-245.239184</td>\n",
       "      <td>31.269706</td>\n",
       "      <td>-6.506986</td>\n",
       "      <td>43.709931</td>\n",
       "      <td>-244.483566</td>\n",
       "      <td>27.926001</td>\n",
       "      <td>-137.740004</td>\n",
       "      <td>32.188906</td>\n",
       "      <td>-104.427459</td>\n",
       "    </tr>\n",
       "  </tbody>\n",
       "</table>\n",
       "<p>8 rows × 86 columns</p>\n",
       "</div>"
      ],
      "text/plain": [
       "       final.output.concentrate_ag  final.output.concentrate_pb  \\\n",
       "count                 19438.000000                 19438.000000   \n",
       "mean                      5.168470                     9.978895   \n",
       "std                       1.372348                     1.669240   \n",
       "min                       0.000000                     0.000000   \n",
       "25%                       4.251240                     9.137262   \n",
       "50%                       5.066094                    10.102433   \n",
       "75%                       5.895527                    11.035769   \n",
       "max                      16.001945                    17.031899   \n",
       "\n",
       "       final.output.concentrate_sol  final.output.concentrate_au  \\\n",
       "count                  19228.000000                 19439.000000   \n",
       "mean                       9.501224                    44.076513   \n",
       "std                        2.787537                     5.129784   \n",
       "min                        0.000000                     0.000000   \n",
       "25%                        7.722820                    43.402215   \n",
       "50%                        9.218961                    45.011244   \n",
       "75%                       10.947813                    46.275313   \n",
       "max                       19.615720                    52.756638   \n",
       "\n",
       "       final.output.recovery  final.output.tail_ag  final.output.tail_pb  \\\n",
       "count           19439.000000          19438.000000          19338.000000   \n",
       "mean               67.050208              9.688589              2.705795   \n",
       "std                10.125840              2.328642              0.949077   \n",
       "min                 0.000000              0.000000              0.000000   \n",
       "25%                63.299712              8.062878              2.040119   \n",
       "50%                68.172738              9.743623              2.748730   \n",
       "75%                72.686642             11.134294              3.333216   \n",
       "max               100.000000             19.552149              5.804178   \n",
       "\n",
       "       final.output.tail_sol  final.output.tail_au  \\\n",
       "count           19433.000000          19439.000000   \n",
       "mean               10.583728              3.042467   \n",
       "std                 2.868782              0.922808   \n",
       "min                 0.000000              0.000000   \n",
       "25%                 8.938947              2.461138   \n",
       "50%                10.622456              2.984909   \n",
       "75%                12.104271              3.571351   \n",
       "max                22.317730              8.245022   \n",
       "\n",
       "       primary_cleaner.input.sulfate  primary_cleaner.input.depressant  \\\n",
       "count                   19415.000000                      19402.000000   \n",
       "mean                      144.624774                          8.817039   \n",
       "std                        44.464071                          3.286186   \n",
       "min                         0.003112                          0.000000   \n",
       "25%                       114.107029                          6.076909   \n",
       "50%                       143.232103                          8.038311   \n",
       "75%                       175.075656                         11.013521   \n",
       "max                       265.983123                         40.000000   \n",
       "\n",
       "       primary_cleaner.input.feed_size  primary_cleaner.input.xanthate  \\\n",
       "count                     19439.000000                    19335.000000   \n",
       "mean                          7.307078                        1.021795   \n",
       "std                           0.613509                        0.513254   \n",
       "min                           1.080000                        0.000005   \n",
       "25%                           6.940000                        0.697224   \n",
       "50%                           7.280000                        0.940863   \n",
       "75%                           7.670000                        1.210990   \n",
       "max                          15.500000                        4.102454   \n",
       "\n",
       "       primary_cleaner.output.concentrate_ag  \\\n",
       "count                           19439.000000   \n",
       "mean                                8.442408   \n",
       "std                                 2.054465   \n",
       "min                                 0.000000   \n",
       "25%                                 7.263288   \n",
       "50%                                 8.507298   \n",
       "75%                                 9.809001   \n",
       "max                                16.081632   \n",
       "\n",
       "       primary_cleaner.output.concentrate_pb  \\\n",
       "count                           19323.000000   \n",
       "mean                                9.829530   \n",
       "std                                 2.556843   \n",
       "min                                 0.000000   \n",
       "25%                                 8.702328   \n",
       "50%                                10.152433   \n",
       "75%                                11.424971   \n",
       "max                                17.081278   \n",
       "\n",
       "       primary_cleaner.output.concentrate_sol  \\\n",
       "count                            19069.000000   \n",
       "mean                                10.489499   \n",
       "std                                  3.909639   \n",
       "min                                  0.000000   \n",
       "25%                                  7.893893   \n",
       "50%                                 10.314632   \n",
       "75%                                 13.446702   \n",
       "max                                 22.458114   \n",
       "\n",
       "       primary_cleaner.output.concentrate_au  primary_cleaner.output.tail_ag  \\\n",
       "count                           19439.000000                    19435.000000   \n",
       "mean                               32.119400                       16.145826   \n",
       "std                                 5.627611                        3.548598   \n",
       "min                                 0.000000                        0.000000   \n",
       "25%                                30.463140                       14.017742   \n",
       "50%                                32.841295                       15.842836   \n",
       "75%                                35.048006                       18.013975   \n",
       "max                                45.933934                       29.459575   \n",
       "\n",
       "       primary_cleaner.output.tail_pb  primary_cleaner.output.tail_sol  \\\n",
       "count                    19418.000000                     19377.000000   \n",
       "mean                         3.435656                         7.973209   \n",
       "std                          1.392536                         2.212677   \n",
       "min                          0.000000                         0.000000   \n",
       "25%                          2.504365                         6.747483   \n",
       "50%                          3.271153                         8.183673   \n",
       "75%                          4.181748                         9.548586   \n",
       "max                          9.634565                        22.276364   \n",
       "\n",
       "       primary_cleaner.output.tail_au  primary_cleaner.state.floatbank8_a_air  \\\n",
       "count                    19439.000000                            1.943500e+04   \n",
       "mean                         3.914179                            1.589354e+03   \n",
       "std                          1.593034                            1.289968e+02   \n",
       "min                          0.000000                            5.445860e-32   \n",
       "25%                          2.924844                            1.505063e+03   \n",
       "50%                          3.623234                            1.600597e+03   \n",
       "75%                          4.585705                            1.697658e+03   \n",
       "max                         17.788925                            2.103104e+03   \n",
       "\n",
       "       primary_cleaner.state.floatbank8_a_level  \\\n",
       "count                              19438.000000   \n",
       "mean                                -491.195012   \n",
       "std                                   32.431842   \n",
       "min                                 -798.641662   \n",
       "25%                                 -500.308544   \n",
       "50%                                 -499.926134   \n",
       "75%                                 -499.433950   \n",
       "max                                  -57.195404   \n",
       "\n",
       "       primary_cleaner.state.floatbank8_b_air  \\\n",
       "count                            1.943500e+04   \n",
       "mean                             1.591344e+03   \n",
       "std                              1.318109e+02   \n",
       "min                              6.647490e-32   \n",
       "25%                              1.503630e+03   \n",
       "50%                              1.600521e+03   \n",
       "75%                              1.699218e+03   \n",
       "max                              2.114907e+03   \n",
       "\n",
       "       primary_cleaner.state.floatbank8_b_level  \\\n",
       "count                              19438.000000   \n",
       "mean                                -492.192978   \n",
       "std                                   33.794822   \n",
       "min                                 -799.997015   \n",
       "25%                                 -500.437171   \n",
       "50%                                 -499.956767   \n",
       "75%                                 -499.373336   \n",
       "max                                 -142.527229   \n",
       "\n",
       "       primary_cleaner.state.floatbank8_c_air  \\\n",
       "count                            1.943700e+04   \n",
       "mean                             1.586669e+03   \n",
       "std                              1.361114e+02   \n",
       "min                              4.033736e-32   \n",
       "25%                              1.500927e+03   \n",
       "50%                              1.600254e+03   \n",
       "75%                              1.699483e+03   \n",
       "max                              2.013156e+03   \n",
       "\n",
       "       primary_cleaner.state.floatbank8_c_level  \\\n",
       "count                              19438.000000   \n",
       "mean                                -491.980070   \n",
       "std                                   32.711455   \n",
       "min                                 -799.960571   \n",
       "25%                                 -500.703932   \n",
       "50%                                 -499.909524   \n",
       "75%                                 -498.857643   \n",
       "max                                 -150.937035   \n",
       "\n",
       "       primary_cleaner.state.floatbank8_d_air  \\\n",
       "count                            1.943600e+04   \n",
       "mean                             1.542912e+03   \n",
       "std                              2.461996e+02   \n",
       "min                              4.039220e-32   \n",
       "25%                              1.494219e+03   \n",
       "50%                              1.599447e+03   \n",
       "75%                              1.698525e+03   \n",
       "max                              2.398904e+03   \n",
       "\n",
       "       primary_cleaner.state.floatbank8_d_level  \\\n",
       "count                              19438.000000   \n",
       "mean                                -488.017382   \n",
       "std                                   43.959780   \n",
       "min                                 -799.794250   \n",
       "25%                                 -500.458365   \n",
       "50%                                 -499.905974   \n",
       "75%                                 -499.064695   \n",
       "max                                  -30.601828   \n",
       "\n",
       "       rougher.calculation.sulfate_to_au_concentrate  ...  \\\n",
       "count                                   1.943700e+04  ...   \n",
       "mean                                    4.217119e+04  ...   \n",
       "std                                     3.243621e+05  ...   \n",
       "min                                    -4.223520e+07  ...   \n",
       "25%                                     4.070095e+04  ...   \n",
       "50%                                     4.469648e+04  ...   \n",
       "75%                                     4.816821e+04  ...   \n",
       "max                                     3.428099e+06  ...   \n",
       "\n",
       "       rougher.state.floatbank10_c_air  rougher.state.floatbank10_c_level  \\\n",
       "count                     19438.000000                       19438.000000   \n",
       "mean                       1299.968799                        -467.716946   \n",
       "std                         202.804325                          53.534825   \n",
       "min                          -0.056636                        -647.544439   \n",
       "25%                        1151.076301                        -500.217218   \n",
       "50%                        1300.211537                        -499.713364   \n",
       "75%                        1449.464001                        -400.985743   \n",
       "max                        2499.129174                        -292.155509   \n",
       "\n",
       "       rougher.state.floatbank10_d_air  rougher.state.floatbank10_d_level  \\\n",
       "count                     19439.000000                       19439.000000   \n",
       "mean                       1211.563299                        -468.239912   \n",
       "std                         204.019326                          53.921458   \n",
       "min                          -0.992219                        -648.390665   \n",
       "25%                        1061.051788                        -500.386386   \n",
       "50%                        1201.569141                        -499.532412   \n",
       "75%                        1352.880320                        -401.638550   \n",
       "max                        1817.199290                         -76.397327   \n",
       "\n",
       "       rougher.state.floatbank10_e_air  rougher.state.floatbank10_e_level  \\\n",
       "count                     19003.000000                       19439.000000   \n",
       "mean                       1080.869685                        -466.037742   \n",
       "std                         172.149992                          57.384424   \n",
       "min                          -1.982295                        -649.443911   \n",
       "25%                         998.675263                        -500.232191   \n",
       "50%                        1050.029461                        -499.663089   \n",
       "75%                        1199.425140                        -401.161191   \n",
       "max                        1922.636637                        -139.753025   \n",
       "\n",
       "       rougher.state.floatbank10_f_air  rougher.state.floatbank10_f_level  \\\n",
       "count                     19439.000000                       19439.000000   \n",
       "mean                       1025.274256                        -466.265327   \n",
       "std                         164.487837                          57.850263   \n",
       "min                          -2.593390                        -649.949283   \n",
       "25%                         900.995511                        -500.522553   \n",
       "50%                         999.924821                        -499.471777   \n",
       "75%                        1099.719692                        -401.511042   \n",
       "max                        1706.307502                        -191.718480   \n",
       "\n",
       "       secondary_cleaner.output.tail_ag  secondary_cleaner.output.tail_pb  \\\n",
       "count                      19437.000000                      19427.000000   \n",
       "mean                          14.586833                          5.777703   \n",
       "std                            4.265202                          2.774598   \n",
       "min                            0.000000                          0.000000   \n",
       "25%                           12.640239                          3.864733   \n",
       "50%                           15.641902                          5.344073   \n",
       "75%                           17.358217                          7.788467   \n",
       "max                           23.264738                         17.042505   \n",
       "\n",
       "       secondary_cleaner.output.tail_sol  secondary_cleaner.output.tail_au  \\\n",
       "count                       17691.000000                      19439.000000   \n",
       "mean                            7.167247                          4.339625   \n",
       "std                             3.916079                          2.326751   \n",
       "min                             0.000000                          0.000000   \n",
       "25%                             3.845475                          3.182770   \n",
       "50%                             7.685827                          4.072412   \n",
       "75%                            10.411296                          5.063081   \n",
       "max                            26.000772                         26.811643   \n",
       "\n",
       "       secondary_cleaner.state.floatbank2_a_air  \\\n",
       "count                              19219.000000   \n",
       "mean                                  28.705564   \n",
       "std                                    5.458789   \n",
       "min                                    0.077503   \n",
       "25%                                   25.048462   \n",
       "50%                                   29.099943   \n",
       "75%                                   33.012536   \n",
       "max                                   52.651399   \n",
       "\n",
       "       secondary_cleaner.state.floatbank2_a_level  \\\n",
       "count                                19438.000000   \n",
       "mean                                  -502.367331   \n",
       "std                                     53.571950   \n",
       "min                                   -799.606441   \n",
       "25%                                   -500.233700   \n",
       "50%                                   -499.973250   \n",
       "75%                                   -499.671261   \n",
       "max                                   -127.875565   \n",
       "\n",
       "       secondary_cleaner.state.floatbank2_b_air  \\\n",
       "count                              19416.000000   \n",
       "mean                                  24.106800   \n",
       "std                                    5.749616   \n",
       "min                                    0.000000   \n",
       "25%                                   20.919853   \n",
       "50%                                   25.043289   \n",
       "75%                                   28.008197   \n",
       "max                                   35.152122   \n",
       "\n",
       "       secondary_cleaner.state.floatbank2_b_level  \\\n",
       "count                                19438.000000   \n",
       "mean                                  -503.230712   \n",
       "std                                     56.567724   \n",
       "min                                   -799.873878   \n",
       "25%                                   -500.253794   \n",
       "50%                                   -500.015439   \n",
       "75%                                   -499.785698   \n",
       "max                                   -211.999273   \n",
       "\n",
       "       secondary_cleaner.state.floatbank3_a_air  \\\n",
       "count                              19426.000000   \n",
       "mean                                  28.199338   \n",
       "std                                    6.134908   \n",
       "min                                    0.000000   \n",
       "25%                                   24.949227   \n",
       "50%                                   27.982129   \n",
       "75%                                   33.002798   \n",
       "max                                   44.260464   \n",
       "\n",
       "       secondary_cleaner.state.floatbank3_a_level  \\\n",
       "count                                19438.000000   \n",
       "mean                                  -486.203350   \n",
       "std                                     54.412349   \n",
       "min                                   -799.755798   \n",
       "25%                                   -500.213546   \n",
       "50%                                   -499.930680   \n",
       "75%                                   -499.325739   \n",
       "max                                   -191.678810   \n",
       "\n",
       "       secondary_cleaner.state.floatbank3_b_air  \\\n",
       "count                              19438.000000   \n",
       "mean                                  22.200645   \n",
       "std                                    5.574001   \n",
       "min                                    0.000000   \n",
       "25%                                   18.995924   \n",
       "50%                                   22.011231   \n",
       "75%                                   25.998206   \n",
       "max                                   35.072841   \n",
       "\n",
       "       secondary_cleaner.state.floatbank3_b_level  \\\n",
       "count                                19438.000000   \n",
       "mean                                  -493.742107   \n",
       "std                                     43.372158   \n",
       "min                                   -809.333008   \n",
       "25%                                   -500.123034   \n",
       "50%                                   -499.981902   \n",
       "75%                                   -499.812834   \n",
       "max                                   -159.742331   \n",
       "\n",
       "       secondary_cleaner.state.floatbank4_a_air  \\\n",
       "count                              19433.000000   \n",
       "mean                                  18.987674   \n",
       "std                                    5.411058   \n",
       "min                                    0.000000   \n",
       "25%                                   14.975734   \n",
       "50%                                   18.017481   \n",
       "75%                                   23.012470   \n",
       "max                                   30.115735   \n",
       "\n",
       "       secondary_cleaner.state.floatbank4_a_level  \\\n",
       "count                                19438.000000   \n",
       "mean                                  -485.894516   \n",
       "std                                     47.758570   \n",
       "min                                   -799.798523   \n",
       "25%                                   -500.704892   \n",
       "50%                                   -499.837793   \n",
       "75%                                   -498.249730   \n",
       "max                                   -245.239184   \n",
       "\n",
       "       secondary_cleaner.state.floatbank4_b_air  \\\n",
       "count                              19438.000000   \n",
       "mean                                  15.010366   \n",
       "std                                    4.890228   \n",
       "min                                    0.000000   \n",
       "25%                                   11.940294   \n",
       "50%                                   14.971014   \n",
       "75%                                   19.034162   \n",
       "max                                   31.269706   \n",
       "\n",
       "       secondary_cleaner.state.floatbank4_b_level  \\\n",
       "count                                19438.000000   \n",
       "mean                                  -461.078636   \n",
       "std                                     67.405524   \n",
       "min                                   -800.836914   \n",
       "25%                                   -500.187742   \n",
       "50%                                   -499.459786   \n",
       "75%                                   -400.118106   \n",
       "max                                     -6.506986   \n",
       "\n",
       "       secondary_cleaner.state.floatbank5_a_air  \\\n",
       "count                              19438.000000   \n",
       "mean                                  15.694452   \n",
       "std                                    5.510974   \n",
       "min                                   -0.372054   \n",
       "25%                                   10.988606   \n",
       "50%                                   15.000036   \n",
       "75%                                   18.026190   \n",
       "max                                   43.709931   \n",
       "\n",
       "       secondary_cleaner.state.floatbank5_a_level  \\\n",
       "count                                19438.000000   \n",
       "mean                                  -488.684065   \n",
       "std                                     34.533396   \n",
       "min                                   -797.323986   \n",
       "25%                                   -500.458467   \n",
       "50%                                   -499.802605   \n",
       "75%                                   -498.384187   \n",
       "max                                   -244.483566   \n",
       "\n",
       "       secondary_cleaner.state.floatbank5_b_air  \\\n",
       "count                              19438.000000   \n",
       "mean                                  12.198224   \n",
       "std                                    5.333024   \n",
       "min                                    0.528083   \n",
       "25%                                    8.971105   \n",
       "50%                                   11.019433   \n",
       "75%                                   14.019088   \n",
       "max                                   27.926001   \n",
       "\n",
       "       secondary_cleaner.state.floatbank5_b_level  \\\n",
       "count                                19438.000000   \n",
       "mean                                  -487.149827   \n",
       "std                                     38.347312   \n",
       "min                                   -800.220337   \n",
       "25%                                   -500.129462   \n",
       "50%                                   -499.935317   \n",
       "75%                                   -499.436708   \n",
       "max                                   -137.740004   \n",
       "\n",
       "       secondary_cleaner.state.floatbank6_a_air  \\\n",
       "count                              19437.000000   \n",
       "mean                                  18.959024   \n",
       "std                                    5.550498   \n",
       "min                                   -0.079426   \n",
       "25%                                   14.983037   \n",
       "50%                                   19.960541   \n",
       "75%                                   24.003170   \n",
       "max                                   32.188906   \n",
       "\n",
       "       secondary_cleaner.state.floatbank6_a_level  \n",
       "count                                19438.000000  \n",
       "mean                                  -505.436305  \n",
       "std                                     37.689057  \n",
       "min                                   -809.741464  \n",
       "25%                                   -500.728067  \n",
       "50%                                   -500.048400  \n",
       "75%                                   -499.495378  \n",
       "max                                   -104.427459  \n",
       "\n",
       "[8 rows x 86 columns]"
      ]
     },
     "execution_count": 6,
     "metadata": {},
     "output_type": "execute_result"
    }
   ],
   "source": [
    "full.describe()"
   ]
  },
  {
   "cell_type": "markdown",
   "metadata": {},
   "source": [
    "Файлы записаны в переменные. Отсутствующие в тестовой выборке колонки сохранены в переменную **missing_columns**. В данных имеются пропуски (в описании проекта говорится о том что некоторые данные отсутствуют в связи с тем что замеряются/рассчитываются позднее). Типы данных в колонках соответствуют содержимому.\n",
    "\n",
    "Приступаем к следующему шагу"
   ]
  },
  {
   "cell_type": "markdown",
   "metadata": {},
   "source": [
    "### Расчет эффективности обогащения"
   ]
  },
  {
   "cell_type": "markdown",
   "metadata": {},
   "source": [
    "В описании технологического процесса имеется формула для расчета эффективности обогащения.\n",
    "\n",
    "Выглядит она следующим образом: \n",
    "\n",
    "**Recovery = C * (F-T) / F * (C-T) * 100%**\n",
    "\n",
    "где:\n",
    "- C — доля золота в концентрате после флотации/очистки;\n",
    "- F — доля золота в сырье/концентрате до флотации/очистки;\n",
    "- T — доля золота в отвальных хвостах после флотации/очистки.\n",
    "\n",
    "Проверим правильность рассчета эффективности обогащения."
   ]
  },
  {
   "cell_type": "markdown",
   "metadata": {},
   "source": [
    "Сохраним нужные значения в переменные: **C, F, T** "
   ]
  },
  {
   "cell_type": "code",
   "execution_count": 7,
   "metadata": {},
   "outputs": [],
   "source": [
    "C = train['rougher.output.concentrate_au']\n",
    "F = train['rougher.input.feed_au']\n",
    "T = train['rougher.output.tail_au']"
   ]
  },
  {
   "cell_type": "markdown",
   "metadata": {},
   "source": [
    "Посчитаем **Recovery** по формуле "
   ]
  },
  {
   "cell_type": "code",
   "execution_count": 8,
   "metadata": {},
   "outputs": [
    {
     "data": {
      "text/plain": [
       "date\n",
       "2016-01-15 00:00:00    87.107763\n",
       "2016-01-15 01:00:00    86.843261\n",
       "2016-01-15 02:00:00    86.842308\n",
       "2016-01-15 03:00:00    87.226430\n",
       "2016-01-15 04:00:00    86.688794\n",
       "                         ...    \n",
       "2018-08-18 06:59:59    89.574376\n",
       "2018-08-18 07:59:59    87.724007\n",
       "2018-08-18 08:59:59    88.890579\n",
       "2018-08-18 09:59:59    89.858126\n",
       "2018-08-18 10:59:59    89.514960\n",
       "Length: 14149, dtype: float64"
      ]
     },
     "execution_count": 8,
     "metadata": {},
     "output_type": "execute_result"
    }
   ],
   "source": [
    "recovery = (C * (F - T)) / (F * (C - T)) * 100\n",
    "recovery"
   ]
  },
  {
   "cell_type": "markdown",
   "metadata": {},
   "source": [
    "Найдем **MAE** между имеющимися данными и нашими рассчетами  "
   ]
  },
  {
   "cell_type": "code",
   "execution_count": 9,
   "metadata": {},
   "outputs": [
    {
     "data": {
      "text/plain": [
       "9.73512347450521e-15"
      ]
     },
     "execution_count": 9,
     "metadata": {},
     "output_type": "execute_result"
    }
   ],
   "source": [
    "mean_absolute_error(recovery, train['rougher.output.recovery'])"
   ]
  },
  {
   "cell_type": "markdown",
   "metadata": {},
   "source": [
    "Значение **MAE** близка к 0. Посчитанные и исходные значения почти не отличаются. Данные по обогащению корректны"
   ]
  },
  {
   "cell_type": "markdown",
   "metadata": {},
   "source": [
    "### Анализ признаков"
   ]
  },
  {
   "cell_type": "markdown",
   "metadata": {},
   "source": [
    "Отсутствующие признаки в тестовой выборке сохранены в переменной **missing_columns**. Взглянем на них еще раз"
   ]
  },
  {
   "cell_type": "code",
   "execution_count": 10,
   "metadata": {},
   "outputs": [
    {
     "data": {
      "text/plain": [
       "['final.output.concentrate_ag',\n",
       " 'final.output.concentrate_pb',\n",
       " 'final.output.concentrate_sol',\n",
       " 'final.output.concentrate_au',\n",
       " 'final.output.recovery',\n",
       " 'final.output.tail_ag',\n",
       " 'final.output.tail_pb',\n",
       " 'final.output.tail_sol',\n",
       " 'final.output.tail_au',\n",
       " 'primary_cleaner.output.concentrate_ag',\n",
       " 'primary_cleaner.output.concentrate_pb',\n",
       " 'primary_cleaner.output.concentrate_sol',\n",
       " 'primary_cleaner.output.concentrate_au',\n",
       " 'primary_cleaner.output.tail_ag',\n",
       " 'primary_cleaner.output.tail_pb',\n",
       " 'primary_cleaner.output.tail_sol',\n",
       " 'primary_cleaner.output.tail_au',\n",
       " 'rougher.calculation.sulfate_to_au_concentrate',\n",
       " 'rougher.calculation.floatbank10_sulfate_to_au_feed',\n",
       " 'rougher.calculation.floatbank11_sulfate_to_au_feed',\n",
       " 'rougher.calculation.au_pb_ratio',\n",
       " 'rougher.output.concentrate_ag',\n",
       " 'rougher.output.concentrate_pb',\n",
       " 'rougher.output.concentrate_sol',\n",
       " 'rougher.output.concentrate_au',\n",
       " 'rougher.output.recovery',\n",
       " 'rougher.output.tail_ag',\n",
       " 'rougher.output.tail_pb',\n",
       " 'rougher.output.tail_sol',\n",
       " 'rougher.output.tail_au',\n",
       " 'secondary_cleaner.output.tail_ag',\n",
       " 'secondary_cleaner.output.tail_pb',\n",
       " 'secondary_cleaner.output.tail_sol',\n",
       " 'secondary_cleaner.output.tail_au']"
      ]
     },
     "execution_count": 10,
     "metadata": {},
     "output_type": "execute_result"
    }
   ],
   "source": [
    "missing_columns"
   ]
  },
  {
   "cell_type": "markdown",
   "metadata": {},
   "source": [
    "В тестовой выборке отсутствуют выходные (output) и расчетные (calculation) характеристики. Их нельзя использовать при обучении, так как они еще не будут доступны к моменту начала процесса и два целевых признака **'rougher.output.recovery', 'final.output.recovery'**"
   ]
  },
  {
   "cell_type": "markdown",
   "metadata": {},
   "source": [
    "Удалим из пропущенных признаков два целевых признака"
   ]
  },
  {
   "cell_type": "code",
   "execution_count": 11,
   "metadata": {},
   "outputs": [],
   "source": [
    "try:\n",
    "    missing_columns.remove('final.output.recovery')\n",
    "    missing_columns.remove('rougher.output.recovery')\n",
    "except:\n",
    "    print('Уже удалены')"
   ]
  },
  {
   "cell_type": "markdown",
   "metadata": {},
   "source": [
    "Удалим отсутствующие данные из обучающей выборки"
   ]
  },
  {
   "cell_type": "code",
   "execution_count": 12,
   "metadata": {},
   "outputs": [],
   "source": [
    "train = train.drop(missing_columns, axis=1)"
   ]
  },
  {
   "cell_type": "markdown",
   "metadata": {},
   "source": [
    "### Предобработка данных"
   ]
  },
  {
   "cell_type": "markdown",
   "metadata": {},
   "source": [
    "Проверим количество пропусков в тестовой и обучающей выборках"
   ]
  },
  {
   "cell_type": "code",
   "execution_count": 13,
   "metadata": {},
   "outputs": [
    {
     "data": {
      "text/plain": [
       "secondary_cleaner.state.floatbank6_a_level    1\n",
       "rougher.state.floatbank10_a_air               1\n",
       "primary_cleaner.state.floatbank8_a_level      1\n",
       "primary_cleaner.state.floatbank8_b_level      1\n",
       "rougher.state.floatbank10_c_level             1\n",
       "rougher.state.floatbank10_c_air               1\n",
       "rougher.state.floatbank10_b_air               1\n",
       "rougher.state.floatbank10_a_level             1\n",
       "primary_cleaner.state.floatbank8_c_level      1\n",
       "primary_cleaner.state.floatbank8_d_level      1\n",
       "rougher.input.feed_ag                         0\n",
       "primary_cleaner.input.feed_size               0\n",
       "rougher.state.floatbank10_f_level             0\n",
       "rougher.input.feed_au                         0\n",
       "rougher.output.recovery                       0\n",
       "rougher.state.floatbank10_f_air               0\n",
       "rougher.state.floatbank10_d_air               0\n",
       "rougher.state.floatbank10_d_level             0\n",
       "rougher.state.floatbank10_e_level             0\n",
       "final.output.recovery                         0\n",
       "dtype: int64"
      ]
     },
     "execution_count": 13,
     "metadata": {},
     "output_type": "execute_result"
    }
   ],
   "source": [
    "train.isna().sum().sort_values(ascending=False).tail(20)"
   ]
  },
  {
   "cell_type": "code",
   "execution_count": 14,
   "metadata": {},
   "outputs": [
    {
     "data": {
      "text/plain": [
       "rougher.input.floatbank11_xanthate            25\n",
       "rougher.input.feed_sol                        21\n",
       "secondary_cleaner.state.floatbank3_a_air       9\n",
       "rougher.input.floatbank11_sulfate              8\n",
       "primary_cleaner.input.depressant               5\n",
       "rougher.input.floatbank10_sulfate              5\n",
       "primary_cleaner.input.sulfate                  4\n",
       "primary_cleaner.input.xanthate                 4\n",
       "rougher.input.feed_rate                        3\n",
       "secondary_cleaner.state.floatbank2_a_air       3\n",
       "secondary_cleaner.state.floatbank2_b_air       2\n",
       "rougher.input.feed_size                        1\n",
       "secondary_cleaner.state.floatbank3_b_level     0\n",
       "secondary_cleaner.state.floatbank3_b_air       0\n",
       "rougher.state.floatbank10_f_air                0\n",
       "rougher.state.floatbank10_f_level              0\n",
       "secondary_cleaner.state.floatbank6_a_air       0\n",
       "secondary_cleaner.state.floatbank5_b_level     0\n",
       "secondary_cleaner.state.floatbank2_a_level     0\n",
       "secondary_cleaner.state.floatbank5_b_air       0\n",
       "secondary_cleaner.state.floatbank2_b_level     0\n",
       "secondary_cleaner.state.floatbank5_a_level     0\n",
       "secondary_cleaner.state.floatbank5_a_air       0\n",
       "secondary_cleaner.state.floatbank4_b_level     0\n",
       "secondary_cleaner.state.floatbank4_b_air       0\n",
       "secondary_cleaner.state.floatbank3_a_level     0\n",
       "secondary_cleaner.state.floatbank4_a_level     0\n",
       "rougher.state.floatbank10_e_air                0\n",
       "secondary_cleaner.state.floatbank4_a_air       0\n",
       "rougher.state.floatbank10_e_level              0\n",
       "rougher.state.floatbank10_c_air                0\n",
       "rougher.state.floatbank10_d_level              0\n",
       "primary_cleaner.state.floatbank8_d_level       0\n",
       "primary_cleaner.input.feed_size                0\n",
       "primary_cleaner.state.floatbank8_a_air         0\n",
       "primary_cleaner.state.floatbank8_a_level       0\n",
       "primary_cleaner.state.floatbank8_b_air         0\n",
       "primary_cleaner.state.floatbank8_b_level       0\n",
       "primary_cleaner.state.floatbank8_c_air         0\n",
       "primary_cleaner.state.floatbank8_c_level       0\n",
       "primary_cleaner.state.floatbank8_d_air         0\n",
       "rougher.input.feed_ag                          0\n",
       "rougher.state.floatbank10_d_air                0\n",
       "rougher.input.feed_pb                          0\n",
       "rougher.input.feed_au                          0\n",
       "rougher.input.floatbank10_xanthate             0\n",
       "rougher.state.floatbank10_a_air                0\n",
       "rougher.state.floatbank10_a_level              0\n",
       "rougher.state.floatbank10_b_air                0\n",
       "rougher.state.floatbank10_b_level              0\n",
       "rougher.state.floatbank10_c_level              0\n",
       "secondary_cleaner.state.floatbank6_a_level     0\n",
       "dtype: int64"
      ]
     },
     "execution_count": 14,
     "metadata": {},
     "output_type": "execute_result"
    }
   ],
   "source": [
    "test.isna().sum().sort_values(ascending=False)"
   ]
  },
  {
   "cell_type": "markdown",
   "metadata": {},
   "source": [
    "В целевых признаках **rougher.output.recovery** **final.output.recovery** отсутствуют пропуски"
   ]
  },
  {
   "cell_type": "markdown",
   "metadata": {},
   "source": [
    "В описании проекта указано что соседние по времени параметры схожи. В таком случае пропуски можно заполнить значениями идущими за пропуском"
   ]
  },
  {
   "cell_type": "code",
   "execution_count": 15,
   "metadata": {},
   "outputs": [],
   "source": [
    "train = train.fillna(method='ffill')\n",
    "test = test.fillna(method='ffill')\n",
    "\n",
    "train_buffer = train_buffer.fillna(method='ffill')"
   ]
  },
  {
   "cell_type": "markdown",
   "metadata": {},
   "source": [
    "Данные изучены. Рассчитана эффективность обогащения по формуле. Проанализированы отсутствующие признаки в тестовой выборке и сохранены в переменной **missing_columns**. \n",
    "\n",
    "Приступаем к анализу данных"
   ]
  },
  {
   "cell_type": "markdown",
   "metadata": {},
   "source": [
    "## Анализ данных"
   ]
  },
  {
   "cell_type": "markdown",
   "metadata": {},
   "source": [
    "###  Концентрация металлов на различных этапах очистки"
   ]
  },
  {
   "cell_type": "markdown",
   "metadata": {},
   "source": [
    "Сохраним среднее значение концентрации каждого металла на каждом этапе очистки"
   ]
  },
  {
   "cell_type": "code",
   "execution_count": 16,
   "metadata": {},
   "outputs": [],
   "source": [
    "au_rougher = train_buffer['rougher.output.concentrate_au'].mean()\n",
    "au_primary_cleaner = train_buffer['primary_cleaner.output.concentrate_au'].mean()\n",
    "au_final = train_buffer['final.output.concentrate_au'].mean()"
   ]
  },
  {
   "cell_type": "code",
   "execution_count": 17,
   "metadata": {},
   "outputs": [],
   "source": [
    "ag_rougher = train_buffer['rougher.output.concentrate_ag'].mean()\n",
    "ag_primary_cleaner = train_buffer['primary_cleaner.output.concentrate_ag'].mean()\n",
    "ag_final = train_buffer['final.output.concentrate_ag'].mean()"
   ]
  },
  {
   "cell_type": "code",
   "execution_count": 18,
   "metadata": {},
   "outputs": [],
   "source": [
    "pb_rougher = train_buffer['rougher.output.concentrate_pb'].mean()\n",
    "pb_primary_cleaner = train_buffer['primary_cleaner.output.concentrate_pb'].mean()\n",
    "pb_final = train_buffer['final.output.concentrate_pb'].mean()"
   ]
  },
  {
   "cell_type": "code",
   "execution_count": 19,
   "metadata": {},
   "outputs": [],
   "source": [
    "# средние значения концентрации металлов по этапам \n",
    "metals = [[au_rougher, au_primary_cleaner, au_final],\n",
    "         [ag_rougher, ag_primary_cleaner, ag_final],\n",
    "         [pb_rougher, pb_primary_cleaner, pb_final]]\n",
    "\n",
    "# наименование этапов для графика \n",
    "stages = ['rougher', 'primary_cleaner', 'final']"
   ]
  },
  {
   "cell_type": "code",
   "execution_count": 20,
   "metadata": {},
   "outputs": [
    {
     "data": {
      "image/png": "[encoded data removed]",
      "text/plain": [
       "<Figure size 720x432 with 1 Axes>"
      ]
     },
     "metadata": {
      "needs_background": "light"
     },
     "output_type": "display_data"
    }
   ],
   "source": [
    "f, axes = plt.subplots(1, 1, figsize=(10, 6))\n",
    "axes.set_ylabel('Среднее значение концентрации', fontsize=15)\n",
    "axes.set_xlabel('Этап очистки', fontsize=15)\n",
    "\n",
    "for metal, label in zip(metals, ['Au', 'Ag', 'Pb']):\n",
    "    sns.lineplot(x=stages, y=metal, legend='full', label=label)\n"
   ]
  },
  {
   "cell_type": "markdown",
   "metadata": {},
   "source": [
    "По построенному графику видно что:\n",
    "- концентрация золота растет на каждом последующем этапе\n",
    "- концентрация серебра наоборот снижается\n",
    "- концентрация свинца немного растет"
   ]
  },
  {
   "cell_type": "markdown",
   "metadata": {},
   "source": [
    "### Сравнение распределения размеров гранул сырья"
   ]
  },
  {
   "cell_type": "markdown",
   "metadata": {},
   "source": [
    "За размер гранул сырья отвечает параметр **feed_size**"
   ]
  },
  {
   "cell_type": "markdown",
   "metadata": {},
   "source": [
    "Для сравнения распределения построим гистограммы"
   ]
  },
  {
   "cell_type": "code",
   "execution_count": 21,
   "metadata": {},
   "outputs": [
    {
     "data": {
      "image/png": "[encoded data removed]",
      "text/plain": [
       "<Figure size 720x360 with 1 Axes>"
      ]
     },
     "metadata": {
      "needs_background": "light"
     },
     "output_type": "display_data"
    }
   ],
   "source": [
    "test['rougher.input.feed_size'].hist(figsize=(10, 5), bins=40, density=True)\n",
    "train['rougher.input.feed_size'].hist(figsize=(10, 5), bins=40, alpha=0.5, density=True)\n",
    "plt.legend(['тестовая выборка', 'обучающая выборка']);"
   ]
  },
  {
   "cell_type": "markdown",
   "metadata": {},
   "source": [
    "Распределение размеров гранул сырья не сильно отличаются. Оценки модели должны быть корректны"
   ]
  },
  {
   "cell_type": "markdown",
   "metadata": {},
   "source": [
    "###  Суммарная концентрация всех веществ на разных стадиях"
   ]
  },
  {
   "cell_type": "markdown",
   "metadata": {},
   "source": [
    "Сохраним в новых столбцах суммарную концентрацию веществ по этапам"
   ]
  },
  {
   "cell_type": "code",
   "execution_count": 22,
   "metadata": {},
   "outputs": [],
   "source": [
    "train['feed'] = train_buffer['rougher.input.feed_ag'] + train_buffer['rougher.input.feed_pb'] +\\\n",
    "            train_buffer['rougher.input.feed_sol'] + train_buffer['rougher.input.feed_au']\n",
    "train['rougher'] = train_buffer['rougher.output.concentrate_ag'] + train_buffer['rougher.output.concentrate_pb'] +\\\n",
    "            train_buffer['rougher.output.concentrate_sol'] + train_buffer['rougher.output.concentrate_au']\n",
    "train['final'] = train_buffer['final.output.concentrate_ag'] + train_buffer['final.output.concentrate_pb'] +\\\n",
    "            train_buffer['final.output.concentrate_sol'] + train_buffer['final.output.concentrate_au']"
   ]
  },
  {
   "cell_type": "code",
   "execution_count": 23,
   "metadata": {},
   "outputs": [
    {
     "data": {
      "image/png": "[encoded data removed]",
      "text/plain": [
       "<Figure size 1080x720 with 1 Axes>"
      ]
     },
     "metadata": {
      "needs_background": "light"
     },
     "output_type": "display_data"
    }
   ],
   "source": [
    "train['feed'].hist(figsize=(15, 10), bins=100, density=True)\n",
    "train['rougher'].hist(figsize=(15, 10), bins=100, alpha=0.5, density=True)\n",
    "train['final'].hist(figsize=(15, 10), bins=100, alpha=0.5, density=True)\n",
    "plt.legend(['rougher.input', 'rougher.output', 'final.output']);"
   ]
  },
  {
   "cell_type": "markdown",
   "metadata": {},
   "source": [
    "На графике видны аномалии где суммарная концентрация сырья на разных этапах близка к 0. Удалим данные аномалии"
   ]
  },
  {
   "cell_type": "code",
   "execution_count": 24,
   "metadata": {},
   "outputs": [
    {
     "data": {
      "text/plain": [
       "(13783, 57)"
      ]
     },
     "execution_count": 24,
     "metadata": {},
     "output_type": "execute_result"
    }
   ],
   "source": [
    "train = train[train['feed'] > 10]\n",
    "train = train[train['rougher'] > 10]\n",
    "train = train[train['final'] > 10]\n",
    "train.shape"
   ]
  },
  {
   "cell_type": "markdown",
   "metadata": {},
   "source": [
    "Так же удалим столбцы с суммарной концентрацией"
   ]
  },
  {
   "cell_type": "code",
   "execution_count": 25,
   "metadata": {},
   "outputs": [],
   "source": [
    "train = train.drop(['feed', 'rougher', 'final'], axis=1)"
   ]
  },
  {
   "cell_type": "markdown",
   "metadata": {},
   "source": [
    "При анализе данных мы рассмотрели:\n",
    "- Концентрацию металлов на разных этапах очистки. На графике заметили что средняя концентрация золота на каждом последующем этапе растет\n",
    "- Сравнили распределение размеров гранул сырья на обучающей и тестовой выборке. Распределения не сильно отличались\n",
    "- При оценке суммарной концентрации всех веществ на разных этапах наткнулись на аномалию. Были нулевые значения показателей концентрации. Данные были очищены от аномальных значений"
   ]
  },
  {
   "cell_type": "markdown",
   "metadata": {},
   "source": [
    "## Модель"
   ]
  },
  {
   "cell_type": "markdown",
   "metadata": {},
   "source": [
    "### Создание функции для оценки качества sMAPE"
   ]
  },
  {
   "cell_type": "code",
   "execution_count": 26,
   "metadata": {},
   "outputs": [],
   "source": [
    "def smape(target, predict):\n",
    "    return 1 / len(target) * sum( abs(target - predict) / ( (abs(target) + abs(predict)) * 0.5) ) * 100"
   ]
  },
  {
   "cell_type": "code",
   "execution_count": 27,
   "metadata": {},
   "outputs": [],
   "source": [
    "def final_smape(smape_r, smape_f):\n",
    "    return 0.25 * smape_r + 0.75 * smape_f"
   ]
  },
  {
   "cell_type": "markdown",
   "metadata": {},
   "source": [
    "### Обучение модели"
   ]
  },
  {
   "cell_type": "markdown",
   "metadata": {},
   "source": [
    "Разделение на признаки и целевые признаки"
   ]
  },
  {
   "cell_type": "code",
   "execution_count": 28,
   "metadata": {},
   "outputs": [],
   "source": [
    "f_train = train.drop(['rougher.output.recovery', 'final.output.recovery'], axis=1)\n",
    "t_rougher_train = train['rougher.output.recovery']\n",
    "t_final_train = train['final.output.recovery']"
   ]
  },
  {
   "cell_type": "markdown",
   "metadata": {},
   "source": [
    "Проведем масштабирование признаков обучающей и тестовой выборок с помощью **StandardScaler**"
   ]
  },
  {
   "cell_type": "code",
   "execution_count": 29,
   "metadata": {},
   "outputs": [],
   "source": [
    "scaler_train = StandardScaler()\n",
    "\n",
    "scaler_train.fit(f_train)\n",
    "\n",
    "f_train_scale = scaler_train.transform(f_train)\n",
    "test_scale = scaler_train.transform(test)"
   ]
  },
  {
   "cell_type": "markdown",
   "metadata": {},
   "source": [
    "Обучим две модели для предсказания двух целевых признаков с помощью **LinearRegression**"
   ]
  },
  {
   "cell_type": "markdown",
   "metadata": {},
   "source": [
    "В параметр **scoring** передадим **make_scorer(smape)** чтобы результатами оценки кросс-валидации была наша функция **smape** "
   ]
  },
  {
   "cell_type": "code",
   "execution_count": 30,
   "metadata": {},
   "outputs": [],
   "source": [
    "model_r = LinearRegression()\n",
    "model_f = LinearRegression()\n",
    "\n",
    "scorer = make_scorer(smape, greater_is_better=False)\n",
    "\n",
    "smape_r = cross_val_score(model_r, f_train_scale, t_rougher_train, cv=5, scoring = scorer)\n",
    "smape_f = cross_val_score(model_f, f_train_scale, t_final_train, cv=5, scoring = scorer)\n",
    "\n",
    "smape_r_mean = sum(smape_r) / len(smape_r) \n",
    "smape_f_mean = sum(smape_f) / len(smape_f)"
   ]
  },
  {
   "cell_type": "code",
   "execution_count": 31,
   "metadata": {},
   "outputs": [
    {
     "name": "stdout",
     "output_type": "stream",
     "text": [
      "sMAPE rougher-7.23 %\n",
      "sMAPE final-10.96 %\n",
      "Финальный sMAPE-10.03 %\n"
     ]
    }
   ],
   "source": [
    "print(f'sMAPE rougher{smape_r_mean:.2f} %')\n",
    "print(f'sMAPE final{smape_f_mean:.2f} %')\n",
    "print(f'Финальный sMAPE{final_smape(smape_r_mean, smape_f_mean):.2f} %')"
   ]
  },
  {
   "cell_type": "markdown",
   "metadata": {},
   "source": [
    "Линейная регрессия дала результат 10.03 % в финальном sMAPE.\n",
    "\n",
    "Попробуем подобрать параметры для модели **RandomForestRegressor**\n",
    "\n",
    "Также как и с линейной регрессией обучать будем две модели для двух целевых признаков.\n",
    "С помощью **GridSearchCV** подберем параметры для моделей"
   ]
  },
  {
   "cell_type": "markdown",
   "metadata": {},
   "source": [
    "Модель для **rougher**"
   ]
  },
  {
   "cell_type": "code",
   "execution_count": 32,
   "metadata": {},
   "outputs": [
    {
     "data": {
      "text/plain": [
       "GridSearchCV(cv=3, estimator=RandomForestRegressor(random_state=333),\n",
       "             param_grid={'max_depth': [1, 2, 3], 'n_estimators': [1, 3, 4]},\n",
       "             scoring=make_scorer(smape, greater_is_better=False))"
      ]
     },
     "execution_count": 32,
     "metadata": {},
     "output_type": "execute_result"
    }
   ],
   "source": [
    "model = RandomForestRegressor(random_state=333)\n",
    "\n",
    "param_grid = { \n",
    "    'n_estimators': [1, 3, 4],\n",
    "    'max_depth' : [1, 2, 3]\n",
    "}\n",
    "\n",
    "grid_r = GridSearchCV(model, param_grid, scoring=scorer, cv=3)\n",
    "grid_r.fit(f_train_scale, t_rougher_train)"
   ]
  },
  {
   "cell_type": "code",
   "execution_count": 33,
   "metadata": {},
   "outputs": [
    {
     "data": {
      "text/plain": [
       "RandomForestRegressor(max_depth=2, n_estimators=1, random_state=333)"
      ]
     },
     "execution_count": 33,
     "metadata": {},
     "output_type": "execute_result"
    }
   ],
   "source": [
    "final_model = grid_r.best_estimator_\n",
    "final_model"
   ]
  },
  {
   "cell_type": "markdown",
   "metadata": {},
   "source": [
    "По результатам подбора параметров с помощью **GridSearchCV** лучшей для этапа **rougher** стала модель с гиперпараметрами - **RandomForestRegressor(max_depth=2, n_estimators=1, random_state=333)**"
   ]
  },
  {
   "cell_type": "markdown",
   "metadata": {},
   "source": [
    "Модель для **final**"
   ]
  },
  {
   "cell_type": "code",
   "execution_count": 34,
   "metadata": {},
   "outputs": [
    {
     "data": {
      "text/plain": [
       "GridSearchCV(cv=3, estimator=RandomForestRegressor(random_state=333),\n",
       "             param_grid={'max_depth': [1, 2, 3], 'n_estimators': [1, 3, 4]},\n",
       "             scoring=make_scorer(smape, greater_is_better=False))"
      ]
     },
     "execution_count": 34,
     "metadata": {},
     "output_type": "execute_result"
    }
   ],
   "source": [
    "model_2 = RandomForestRegressor(random_state=333)\n",
    "\n",
    "grid_f = GridSearchCV(model_2, param_grid, scoring=scorer, cv=3)\n",
    "grid_f.fit(f_train_scale, t_final_train)"
   ]
  },
  {
   "cell_type": "code",
   "execution_count": 35,
   "metadata": {},
   "outputs": [
    {
     "data": {
      "text/plain": [
       "RandomForestRegressor(max_depth=2, n_estimators=3, random_state=333)"
      ]
     },
     "execution_count": 35,
     "metadata": {},
     "output_type": "execute_result"
    }
   ],
   "source": [
    "final_model_2 = grid_f.best_estimator_\n",
    "final_model_2"
   ]
  },
  {
   "cell_type": "markdown",
   "metadata": {},
   "source": [
    "Для этапа **final** лучшая модель - **RandomForestRegressor(max_depth=2, n_estimators=3, random_state=333)**"
   ]
  },
  {
   "cell_type": "markdown",
   "metadata": {},
   "source": [
    "Посчитаем **sMAPE**"
   ]
  },
  {
   "cell_type": "code",
   "execution_count": 36,
   "metadata": {},
   "outputs": [],
   "source": [
    "smape_random_forest_r_score = cross_val_score(final_model, f_train_scale, t_rougher_train, cv=5, scoring = scorer)\n",
    "smape_random_forest_f_score = cross_val_score(final_model_2, f_train_scale, t_final_train, cv=5, scoring = scorer)"
   ]
  },
  {
   "cell_type": "code",
   "execution_count": 37,
   "metadata": {},
   "outputs": [
    {
     "name": "stdout",
     "output_type": "stream",
     "text": [
      "sMAPE rougher модели RandomForestRegressor: 7.13 %\n",
      "sMAPE final модели RandomForestRegressor: 9.51 %\n",
      "Итоговый sMAPE модели RandomForestRegressor:8.92 %\n"
     ]
    }
   ],
   "source": [
    "smape_random_forest_r = sum(smape_random_forest_r_score * (-1)) / len(smape_random_forest_r_score)\n",
    "print(f'sMAPE rougher модели RandomForestRegressor: {smape_random_forest_r:.2f} %')\n",
    "\n",
    "smape_random_forest_f = sum(smape_random_forest_f_score * (-1)) / len(smape_random_forest_f_score)\n",
    "print(f'sMAPE final модели RandomForestRegressor: {smape_random_forest_f:.2f} %')\n",
    "\n",
    "print(f'Итоговый sMAPE модели RandomForestRegressor:{final_smape(smape_random_forest_r, smape_random_forest_f):.2f} %')"
   ]
  },
  {
   "cell_type": "markdown",
   "metadata": {},
   "source": [
    "У RandomForestRegressor итоговый sMAPE оказался лучше чем у линейной регрессии\n",
    "- 8.92% у RandomForestRegressor\n",
    "- 10.03% у LinearRegression"
   ]
  },
  {
   "cell_type": "markdown",
   "metadata": {},
   "source": [
    "Для итоговой проверки на тестовой выборке будем использовать Лучшую модель - **RandomForestRegressor.**"
   ]
  },
  {
   "cell_type": "code",
   "execution_count": 38,
   "metadata": {},
   "outputs": [
    {
     "data": {
      "text/plain": [
       "RandomForestRegressor(max_depth=2, n_estimators=3, random_state=333)"
      ]
     },
     "execution_count": 38,
     "metadata": {},
     "output_type": "execute_result"
    }
   ],
   "source": [
    "final_model.fit(f_train_scale, t_rougher_train)\n",
    "final_model_2.fit(f_train_scale, t_final_train)"
   ]
  },
  {
   "cell_type": "code",
   "execution_count": 39,
   "metadata": {},
   "outputs": [],
   "source": [
    "test_target_r = pd.Series(full['rougher.output.recovery'], index=test.index)\n",
    "test_target_f = pd.Series(full['final.output.recovery'], index=test.index)"
   ]
  },
  {
   "cell_type": "code",
   "execution_count": 40,
   "metadata": {},
   "outputs": [],
   "source": [
    "predict_r = final_model.predict(test_scale)\n",
    "predict_f = final_model_2.predict(test_scale)"
   ]
  },
  {
   "cell_type": "code",
   "execution_count": 41,
   "metadata": {},
   "outputs": [
    {
     "name": "stdout",
     "output_type": "stream",
     "text": [
      "sMAPE rougher для тестовой выборки: 8.47 %\n",
      "sMAPE final для тестовой выборки: 9.30 %\n",
      "Итоговый sMAPE для тестовой выборки: 9.09 %\n"
     ]
    }
   ],
   "source": [
    "print(f'sMAPE rougher для тестовой выборки: {smape(test_target_r, predict_r):.2f} %')\n",
    "print(f'sMAPE final для тестовой выборки: {smape(test_target_f, predict_f):.2f} %')\n",
    "print(f'Итоговый sMAPE для тестовой выборки: {final_smape(smape(test_target_r, predict_r), smape(test_target_f, predict_f)):.2f} %')"
   ]
  },
  {
   "cell_type": "markdown",
   "metadata": {},
   "source": [
    "Сравним результаты с константной моделью "
   ]
  },
  {
   "cell_type": "markdown",
   "metadata": {},
   "source": [
    "Создадим константную модель, которая предсказывает средние значения целевого признака и посчитаем sMAPE"
   ]
  },
  {
   "cell_type": "code",
   "execution_count": 42,
   "metadata": {},
   "outputs": [],
   "source": [
    "predict_const_r = pd.Series(train['rougher.output.recovery'].mean(), index=test_target_r.index)\n",
    "predict_const_f = pd.Series(train['final.output.recovery'].mean(), index=test_target_f.index)"
   ]
  },
  {
   "cell_type": "code",
   "execution_count": 43,
   "metadata": {},
   "outputs": [
    {
     "name": "stdout",
     "output_type": "stream",
     "text": [
      "Итоговый sMAPE константной модели:9.83 %\n"
     ]
    }
   ],
   "source": [
    "print(f'Итоговый sMAPE константной модели:{final_smape(smape(test_target_r, predict_const_r), smape(test_target_f, predict_const_f)):.2f} %')\n"
   ]
  },
  {
   "cell_type": "markdown",
   "metadata": {},
   "source": [
    "# Вывод\n",
    "\n",
    "**Подготовка данных**\n",
    "\n",
    "- Данные загружены и изучены\n",
    "- Расчет эффективности обогащения произведен верно\n",
    "- Проанализированы и отброшены признаки\n",
    "- Пропуски заполнены верно\n",
    "\n",
    "**Анализ данных**\n",
    "\n",
    "- Произведен анализ концентрации металлов на этапах очистки\n",
    "- Сравнение распределения размеров гранул сырья\n",
    "- Посчитана суммарная концентрация всех веществ на разных стадиях обработки\n",
    "- Удалены аномальные значения\n",
    "\n",
    "**Модель**\n",
    "\n",
    "- Данные разделены на признаки и целевой признак\n",
    "- Произведено масштабирование данных\n",
    "- Создана функция для подсчета sMAPE и итоговой sMAPE\n",
    "- Обучены модели. Две **LinearRegression** и две **RandomForestRegressor** по две на каждый целевой признак\n",
    "- Отобрана лучшая модель - **RandomForestRegressor**"
   ]
  },
  {
   "cell_type": "markdown",
   "metadata": {},
   "source": [
    "Лучшая модель дала следующие результаты на обучающей выборке:\n",
    "\n",
    "- sMAPE rougher модели RandomForestRegressor: 7.13 %\n",
    "- sMAPE final модели RandomForestRegressor: 9.51 %\n",
    "- Итоговый sMAPE модели RandomForestRegressor:8.92 %"
   ]
  },
  {
   "cell_type": "markdown",
   "metadata": {},
   "source": [
    "Модель на тестовой выборке дала следующие результаты:\n",
    "\n",
    "- sMAPE rougher для тестовой выборки: 8.47 %\n",
    "- sMAPE final для тестовой выборки: 9.30 %\n",
    "- **Итоговый sMAPE для тестовой выборки: 9.09 %**"
   ]
  },
  {
   "cell_type": "markdown",
   "metadata": {},
   "source": [
    "Итоговый sMAPE константной модели:9.83 %"
   ]
  }
 ],
 "metadata": {
  "ExecuteTimeLog": [
   {
    "duration": 370,
    "start_time": "2023-02-01T10:45:35.491Z"
   },
   {
    "duration": 3151,
    "start_time": "2023-02-01T10:47:14.703Z"
   },
   {
    "duration": 96,
    "start_time": "2023-02-01T10:48:18.544Z"
   },
   {
    "duration": 36,
    "start_time": "2023-02-01T10:48:47.842Z"
   },
   {
    "duration": 777,
    "start_time": "2023-02-01T10:49:46.863Z"
   },
   {
    "duration": 44,
    "start_time": "2023-02-01T10:49:59.896Z"
   },
   {
    "duration": 74,
    "start_time": "2023-02-01T11:00:44.940Z"
   },
   {
    "duration": 42,
    "start_time": "2023-02-01T11:01:05.361Z"
   },
   {
    "duration": 22,
    "start_time": "2023-02-01T11:01:23.866Z"
   },
   {
    "duration": 16,
    "start_time": "2023-02-01T11:01:39.442Z"
   },
   {
    "duration": 13,
    "start_time": "2023-02-01T11:01:48.664Z"
   },
   {
    "duration": 33,
    "start_time": "2023-02-01T11:03:29.853Z"
   },
   {
    "duration": 15,
    "start_time": "2023-02-01T11:03:41.143Z"
   },
   {
    "duration": 11,
    "start_time": "2023-02-01T11:04:06.425Z"
   },
   {
    "duration": 11,
    "start_time": "2023-02-01T11:04:14.755Z"
   },
   {
    "duration": 11,
    "start_time": "2023-02-01T11:04:25.433Z"
   },
   {
    "duration": 17,
    "start_time": "2023-02-01T11:04:28.400Z"
   },
   {
    "duration": 12,
    "start_time": "2023-02-01T11:05:19.152Z"
   },
   {
    "duration": 12,
    "start_time": "2023-02-01T11:05:25.642Z"
   },
   {
    "duration": 12,
    "start_time": "2023-02-01T11:05:30.833Z"
   },
   {
    "duration": 11,
    "start_time": "2023-02-01T11:05:35.846Z"
   },
   {
    "duration": 15,
    "start_time": "2023-02-01T11:05:39.301Z"
   },
   {
    "duration": 11,
    "start_time": "2023-02-01T11:05:44.203Z"
   },
   {
    "duration": 15,
    "start_time": "2023-02-01T11:05:47.690Z"
   },
   {
    "duration": 11,
    "start_time": "2023-02-01T11:05:53.116Z"
   },
   {
    "duration": 12,
    "start_time": "2023-02-01T11:06:03.307Z"
   },
   {
    "duration": 11,
    "start_time": "2023-02-01T11:06:10.708Z"
   },
   {
    "duration": 13,
    "start_time": "2023-02-01T11:06:29.319Z"
   },
   {
    "duration": 46,
    "start_time": "2023-02-01T11:08:28.193Z"
   },
   {
    "duration": 36,
    "start_time": "2023-02-01T11:08:44.170Z"
   },
   {
    "duration": 39,
    "start_time": "2023-02-01T11:08:59.997Z"
   },
   {
    "duration": 44,
    "start_time": "2023-02-01T11:09:22.758Z"
   },
   {
    "duration": 37,
    "start_time": "2023-02-01T11:11:16.100Z"
   },
   {
    "duration": 37,
    "start_time": "2023-02-01T11:11:21.406Z"
   },
   {
    "duration": 33,
    "start_time": "2023-02-01T11:11:26.899Z"
   },
   {
    "duration": 68,
    "start_time": "2023-02-01T11:11:54.206Z"
   },
   {
    "duration": 43,
    "start_time": "2023-02-01T11:12:10.908Z"
   },
   {
    "duration": 42,
    "start_time": "2023-02-01T11:12:25.565Z"
   },
   {
    "duration": 5,
    "start_time": "2023-02-01T11:31:29.406Z"
   },
   {
    "duration": 65,
    "start_time": "2023-02-01T11:31:41.010Z"
   },
   {
    "duration": 7,
    "start_time": "2023-02-01T11:31:43.614Z"
   },
   {
    "duration": 9,
    "start_time": "2023-02-01T11:33:47.198Z"
   },
   {
    "duration": 9,
    "start_time": "2023-02-01T11:34:04.799Z"
   },
   {
    "duration": 5,
    "start_time": "2023-02-01T11:34:12.920Z"
   },
   {
    "duration": 6,
    "start_time": "2023-02-01T11:34:22.967Z"
   },
   {
    "duration": 6,
    "start_time": "2023-02-01T11:44:55.653Z"
   },
   {
    "duration": 7,
    "start_time": "2023-02-01T11:46:51.263Z"
   },
   {
    "duration": 4,
    "start_time": "2023-02-01T11:53:44.410Z"
   },
   {
    "duration": 7,
    "start_time": "2023-02-01T11:54:14.459Z"
   },
   {
    "duration": 22,
    "start_time": "2023-02-01T11:54:37.633Z"
   },
   {
    "duration": 10,
    "start_time": "2023-02-01T11:54:50.601Z"
   },
   {
    "duration": 7,
    "start_time": "2023-02-01T11:55:00.538Z"
   },
   {
    "duration": 132,
    "start_time": "2023-02-01T12:00:24.754Z"
   },
   {
    "duration": 126,
    "start_time": "2023-02-01T12:00:52.968Z"
   },
   {
    "duration": 107,
    "start_time": "2023-02-01T12:01:01.756Z"
   },
   {
    "duration": 153,
    "start_time": "2023-02-01T12:18:44.257Z"
   },
   {
    "duration": 142,
    "start_time": "2023-02-01T12:18:50.848Z"
   },
   {
    "duration": 32,
    "start_time": "2023-02-01T12:18:59.938Z"
   },
   {
    "duration": 129,
    "start_time": "2023-02-01T12:19:04.610Z"
   },
   {
    "duration": 46,
    "start_time": "2023-02-01T14:41:05.035Z"
   },
   {
    "duration": 343,
    "start_time": "2023-02-01T14:41:08.398Z"
   },
   {
    "duration": 26,
    "start_time": "2023-02-01T14:41:10.125Z"
   },
   {
    "duration": 3052,
    "start_time": "2023-02-01T14:41:50.409Z"
   },
   {
    "duration": 90,
    "start_time": "2023-02-01T14:41:54.975Z"
   },
   {
    "duration": 650,
    "start_time": "2023-02-01T14:43:11.401Z"
   },
   {
    "duration": 80,
    "start_time": "2023-02-01T14:43:12.906Z"
   },
   {
    "duration": 3,
    "start_time": "2023-02-01T14:44:33.880Z"
   },
   {
    "duration": 501,
    "start_time": "2023-02-02T14:32:09.420Z"
   },
   {
    "duration": 2017,
    "start_time": "2023-02-02T14:32:11.312Z"
   },
   {
    "duration": 100,
    "start_time": "2023-02-02T14:32:13.998Z"
   },
   {
    "duration": 5,
    "start_time": "2023-02-02T14:32:16.086Z"
   },
   {
    "duration": 251,
    "start_time": "2023-02-02T14:36:37.601Z"
   },
   {
    "duration": 69,
    "start_time": "2023-02-02T14:39:46.086Z"
   },
   {
    "duration": 17704,
    "start_time": "2023-02-02T14:40:00.087Z"
   },
   {
    "duration": 1830,
    "start_time": "2023-02-02T14:40:17.794Z"
   },
   {
    "duration": 2418,
    "start_time": "2023-02-02T14:40:29.401Z"
   },
   {
    "duration": 3,
    "start_time": "2023-02-02T14:40:33.298Z"
   },
   {
    "duration": 717,
    "start_time": "2023-02-02T14:40:35.122Z"
   },
   {
    "duration": 100,
    "start_time": "2023-02-02T14:40:36.493Z"
   },
   {
    "duration": 7,
    "start_time": "2023-02-02T14:40:38.611Z"
   },
   {
    "duration": 257,
    "start_time": "2023-02-02T14:40:45.819Z"
   },
   {
    "duration": 69097,
    "start_time": "2023-02-02T14:41:57.453Z"
   },
   {
    "duration": 422,
    "start_time": "2023-02-02T14:43:23.157Z"
   },
   {
    "duration": 774,
    "start_time": "2023-02-02T14:43:24.457Z"
   },
   {
    "duration": 100,
    "start_time": "2023-02-02T14:43:27.197Z"
   },
   {
    "duration": 5,
    "start_time": "2023-02-02T14:43:40.753Z"
   },
   {
    "duration": 254,
    "start_time": "2023-02-02T14:43:43.959Z"
   },
   {
    "duration": 55,
    "start_time": "2023-02-02T16:06:21.963Z"
   },
   {
    "duration": 391,
    "start_time": "2023-02-02T16:06:36.223Z"
   },
   {
    "duration": 2216,
    "start_time": "2023-02-02T16:06:37.766Z"
   },
   {
    "duration": 104,
    "start_time": "2023-02-02T16:06:40.654Z"
   },
   {
    "duration": 383,
    "start_time": "2023-02-02T16:38:05.946Z"
   },
   {
    "duration": 2011,
    "start_time": "2023-02-02T16:38:07.180Z"
   },
   {
    "duration": 86,
    "start_time": "2023-02-02T16:38:09.192Z"
   },
   {
    "duration": 4,
    "start_time": "2023-02-02T16:38:11.524Z"
   },
   {
    "duration": 250,
    "start_time": "2023-02-02T16:38:13.397Z"
   },
   {
    "duration": 739,
    "start_time": "2023-02-02T16:38:16.104Z"
   },
   {
    "duration": 3,
    "start_time": "2023-02-02T16:38:29.683Z"
   },
   {
    "duration": 6,
    "start_time": "2023-02-02T16:39:48.737Z"
   },
   {
    "duration": 3,
    "start_time": "2023-02-02T16:39:52.268Z"
   },
   {
    "duration": 8,
    "start_time": "2023-02-02T16:39:54.676Z"
   },
   {
    "duration": 6,
    "start_time": "2023-02-02T16:40:03.366Z"
   },
   {
    "duration": 3,
    "start_time": "2023-02-02T16:40:07.096Z"
   },
   {
    "duration": 10,
    "start_time": "2023-02-02T16:40:08.495Z"
   },
   {
    "duration": 7,
    "start_time": "2023-02-02T16:41:50.952Z"
   },
   {
    "duration": 621,
    "start_time": "2023-02-02T16:41:57.076Z"
   },
   {
    "duration": 5,
    "start_time": "2023-02-02T16:42:01.288Z"
   },
   {
    "duration": 9,
    "start_time": "2023-02-02T16:42:36.126Z"
   },
   {
    "duration": 7,
    "start_time": "2023-02-02T16:42:48.994Z"
   },
   {
    "duration": 7,
    "start_time": "2023-02-02T16:42:54.907Z"
   },
   {
    "duration": 7,
    "start_time": "2023-02-02T16:43:05.539Z"
   },
   {
    "duration": 5,
    "start_time": "2023-02-02T16:43:08.926Z"
   },
   {
    "duration": 7,
    "start_time": "2023-02-02T16:44:05.968Z"
   },
   {
    "duration": 7,
    "start_time": "2023-02-02T16:44:07.562Z"
   },
   {
    "duration": 7,
    "start_time": "2023-02-02T16:47:20.815Z"
   },
   {
    "duration": 3,
    "start_time": "2023-02-02T17:00:15.564Z"
   },
   {
    "duration": 98,
    "start_time": "2023-02-02T17:50:03.033Z"
   },
   {
    "duration": 43,
    "start_time": "2023-02-02T17:51:15.170Z"
   },
   {
    "duration": 73,
    "start_time": "2023-02-02T17:52:13.014Z"
   },
   {
    "duration": 17,
    "start_time": "2023-02-02T17:52:44.756Z"
   },
   {
    "duration": 24,
    "start_time": "2023-02-02T18:00:36.446Z"
   },
   {
    "duration": 17,
    "start_time": "2023-02-02T18:00:44.269Z"
   },
   {
    "duration": 11,
    "start_time": "2023-02-02T18:06:55.753Z"
   },
   {
    "duration": 32,
    "start_time": "2023-02-02T18:07:11.163Z"
   },
   {
    "duration": 8,
    "start_time": "2023-02-02T18:08:17.926Z"
   },
   {
    "duration": 8,
    "start_time": "2023-02-02T18:10:11.331Z"
   },
   {
    "duration": 3,
    "start_time": "2023-02-02T18:10:18.790Z"
   },
   {
    "duration": 7,
    "start_time": "2023-02-02T18:10:34.697Z"
   },
   {
    "duration": 8,
    "start_time": "2023-02-02T18:10:44.797Z"
   },
   {
    "duration": 9,
    "start_time": "2023-02-02T18:10:47.538Z"
   },
   {
    "duration": 9,
    "start_time": "2023-02-02T18:11:02.522Z"
   },
   {
    "duration": 3,
    "start_time": "2023-02-02T18:11:05.144Z"
   },
   {
    "duration": 5,
    "start_time": "2023-02-02T18:12:25.416Z"
   },
   {
    "duration": 4,
    "start_time": "2023-02-02T18:13:10.190Z"
   },
   {
    "duration": 955,
    "start_time": "2023-02-02T18:14:04.878Z"
   },
   {
    "duration": 601,
    "start_time": "2023-02-02T18:14:06.867Z"
   },
   {
    "duration": 88,
    "start_time": "2023-02-02T18:14:08.060Z"
   },
   {
    "duration": 5,
    "start_time": "2023-02-02T18:14:09.869Z"
   },
   {
    "duration": 234,
    "start_time": "2023-02-02T18:14:13.405Z"
   },
   {
    "duration": 3,
    "start_time": "2023-02-02T18:14:15.628Z"
   },
   {
    "duration": 10,
    "start_time": "2023-02-02T18:14:16.803Z"
   },
   {
    "duration": 5,
    "start_time": "2023-02-02T18:14:19.414Z"
   },
   {
    "duration": 3,
    "start_time": "2023-02-02T18:14:32.292Z"
   },
   {
    "duration": 20,
    "start_time": "2023-02-02T18:14:39.260Z"
   },
   {
    "duration": 4,
    "start_time": "2023-02-02T18:15:12.822Z"
   },
   {
    "duration": 3,
    "start_time": "2023-02-02T18:15:28.563Z"
   },
   {
    "duration": 988,
    "start_time": "2023-02-02T18:15:37.858Z"
   },
   {
    "duration": 576,
    "start_time": "2023-02-02T18:15:39.519Z"
   },
   {
    "duration": 88,
    "start_time": "2023-02-02T18:15:40.585Z"
   },
   {
    "duration": 4,
    "start_time": "2023-02-02T18:15:42.147Z"
   },
   {
    "duration": 218,
    "start_time": "2023-02-02T18:15:43.940Z"
   },
   {
    "duration": 3,
    "start_time": "2023-02-02T18:15:46.102Z"
   },
   {
    "duration": 9,
    "start_time": "2023-02-02T18:15:47.097Z"
   },
   {
    "duration": 4,
    "start_time": "2023-02-02T18:15:48.368Z"
   },
   {
    "duration": 4,
    "start_time": "2023-02-02T18:15:49.534Z"
   },
   {
    "duration": 19,
    "start_time": "2023-02-02T18:15:51.468Z"
   },
   {
    "duration": 2,
    "start_time": "2023-02-02T18:15:53.375Z"
   },
   {
    "duration": 31,
    "start_time": "2023-02-02T18:16:04.900Z"
   },
   {
    "duration": 116,
    "start_time": "2023-02-02T18:16:22.479Z"
   },
   {
    "duration": 16,
    "start_time": "2023-02-02T18:16:30.817Z"
   },
   {
    "duration": 1000,
    "start_time": "2023-02-02T18:16:47.729Z"
   },
   {
    "duration": 598,
    "start_time": "2023-02-02T18:16:49.294Z"
   },
   {
    "duration": 88,
    "start_time": "2023-02-02T18:16:50.305Z"
   },
   {
    "duration": 4,
    "start_time": "2023-02-02T18:16:51.615Z"
   },
   {
    "duration": 234,
    "start_time": "2023-02-02T18:16:53.551Z"
   },
   {
    "duration": 4,
    "start_time": "2023-02-02T18:16:55.873Z"
   },
   {
    "duration": 9,
    "start_time": "2023-02-02T18:16:56.992Z"
   },
   {
    "duration": 6,
    "start_time": "2023-02-02T18:16:58.328Z"
   },
   {
    "duration": 4,
    "start_time": "2023-02-02T18:16:59.757Z"
   },
   {
    "duration": 17,
    "start_time": "2023-02-02T18:17:01.884Z"
   },
   {
    "duration": 3,
    "start_time": "2023-02-02T18:17:15.338Z"
   },
   {
    "duration": 6,
    "start_time": "2023-02-02T18:17:18.337Z"
   },
   {
    "duration": 9,
    "start_time": "2023-02-02T18:23:19.331Z"
   },
   {
    "duration": 7,
    "start_time": "2023-02-02T18:23:38.616Z"
   },
   {
    "duration": 6,
    "start_time": "2023-02-02T18:24:09.028Z"
   },
   {
    "duration": 5,
    "start_time": "2023-02-02T18:24:49.393Z"
   },
   {
    "duration": 7,
    "start_time": "2023-02-02T18:25:46.364Z"
   },
   {
    "duration": 3,
    "start_time": "2023-02-02T18:27:00.049Z"
   },
   {
    "duration": 55,
    "start_time": "2023-02-02T18:27:09.445Z"
   },
   {
    "duration": 92,
    "start_time": "2023-02-02T18:27:32.992Z"
   },
   {
    "duration": 42,
    "start_time": "2023-02-02T18:27:44.273Z"
   },
   {
    "duration": 7,
    "start_time": "2023-02-02T18:28:38.658Z"
   },
   {
    "duration": 8,
    "start_time": "2023-02-02T18:28:51.251Z"
   },
   {
    "duration": 58,
    "start_time": "2023-02-02T18:30:23.961Z"
   },
   {
    "duration": 11,
    "start_time": "2023-02-02T18:30:39.128Z"
   },
   {
    "duration": 8,
    "start_time": "2023-02-02T18:34:37.769Z"
   },
   {
    "duration": 8,
    "start_time": "2023-02-02T18:34:53.955Z"
   },
   {
    "duration": 6,
    "start_time": "2023-02-02T18:35:11.508Z"
   },
   {
    "duration": 9,
    "start_time": "2023-02-02T18:35:20.549Z"
   },
   {
    "duration": 45,
    "start_time": "2023-02-02T18:40:21.130Z"
   },
   {
    "duration": 9,
    "start_time": "2023-02-02T18:40:33.286Z"
   },
   {
    "duration": 4,
    "start_time": "2023-02-02T18:40:45.758Z"
   },
   {
    "duration": 12,
    "start_time": "2023-02-02T18:40:51.273Z"
   },
   {
    "duration": 970,
    "start_time": "2023-02-02T18:42:41.163Z"
   },
   {
    "duration": 3,
    "start_time": "2023-02-02T18:42:42.135Z"
   },
   {
    "duration": 647,
    "start_time": "2023-02-02T18:42:43.540Z"
   },
   {
    "duration": 161,
    "start_time": "2023-02-02T18:42:44.937Z"
   },
   {
    "duration": 5,
    "start_time": "2023-02-02T18:42:53.786Z"
   },
   {
    "duration": 266,
    "start_time": "2023-02-02T18:42:55.910Z"
   },
   {
    "duration": 3,
    "start_time": "2023-02-02T18:42:58.263Z"
   },
   {
    "duration": 13,
    "start_time": "2023-02-02T18:42:59.480Z"
   },
   {
    "duration": 6,
    "start_time": "2023-02-02T18:43:01.034Z"
   },
   {
    "duration": 5,
    "start_time": "2023-02-02T18:43:02.374Z"
   },
   {
    "duration": 21,
    "start_time": "2023-02-02T18:43:04.266Z"
   },
   {
    "duration": 3,
    "start_time": "2023-02-02T18:43:05.823Z"
   },
   {
    "duration": 6,
    "start_time": "2023-02-02T18:43:07.109Z"
   },
   {
    "duration": 8,
    "start_time": "2023-02-02T18:43:09.528Z"
   },
   {
    "duration": 8,
    "start_time": "2023-02-02T18:43:11.732Z"
   },
   {
    "duration": 115,
    "start_time": "2023-02-02T18:44:16.181Z"
   },
   {
    "duration": 646,
    "start_time": "2023-02-02T18:44:30.999Z"
   },
   {
    "duration": 705,
    "start_time": "2023-02-02T18:44:41.880Z"
   },
   {
    "duration": 48,
    "start_time": "2023-02-02T18:44:52.211Z"
   },
   {
    "duration": 8,
    "start_time": "2023-02-02T18:47:16.512Z"
   },
   {
    "duration": 711,
    "start_time": "2023-02-02T18:59:20.248Z"
   },
   {
    "duration": 4050,
    "start_time": "2023-02-02T18:59:40.002Z"
   },
   {
    "duration": 23,
    "start_time": "2023-02-02T19:00:15.801Z"
   },
   {
    "duration": 18,
    "start_time": "2023-02-02T19:00:30.591Z"
   },
   {
    "duration": 15,
    "start_time": "2023-02-02T19:00:32.528Z"
   },
   {
    "duration": 12,
    "start_time": "2023-02-02T19:00:33.391Z"
   },
   {
    "duration": 16,
    "start_time": "2023-02-02T19:00:34.027Z"
   },
   {
    "duration": 659,
    "start_time": "2023-02-02T19:00:43.869Z"
   },
   {
    "duration": 735,
    "start_time": "2023-02-02T19:01:43.787Z"
   },
   {
    "duration": 645,
    "start_time": "2023-02-02T19:01:48.889Z"
   },
   {
    "duration": 54,
    "start_time": "2023-02-02T19:12:58.401Z"
   },
   {
    "duration": 707,
    "start_time": "2023-02-02T19:15:14.279Z"
   },
   {
    "duration": 753,
    "start_time": "2023-02-02T19:15:57.010Z"
   },
   {
    "duration": 28806,
    "start_time": "2023-02-02T19:16:14.780Z"
   },
   {
    "duration": 11,
    "start_time": "2023-02-02T19:17:49.383Z"
   },
   {
    "duration": 11,
    "start_time": "2023-02-02T19:18:01.560Z"
   },
   {
    "duration": 45,
    "start_time": "2023-02-02T19:18:06.403Z"
   },
   {
    "duration": 625,
    "start_time": "2023-02-02T19:18:56.771Z"
   },
   {
    "duration": 1803,
    "start_time": "2023-02-02T20:30:21.396Z"
   },
   {
    "duration": 3,
    "start_time": "2023-02-02T20:30:24.268Z"
   },
   {
    "duration": 3339,
    "start_time": "2023-02-02T20:30:25.421Z"
   },
   {
    "duration": 171,
    "start_time": "2023-02-02T20:30:30.351Z"
   },
   {
    "duration": 5,
    "start_time": "2023-02-02T20:30:32.655Z"
   },
   {
    "duration": 318,
    "start_time": "2023-02-02T20:30:34.865Z"
   },
   {
    "duration": 3,
    "start_time": "2023-02-02T20:30:38.736Z"
   },
   {
    "duration": 10,
    "start_time": "2023-02-02T20:30:39.729Z"
   },
   {
    "duration": 5,
    "start_time": "2023-02-02T20:30:41.706Z"
   },
   {
    "duration": 5,
    "start_time": "2023-02-02T20:30:45.016Z"
   },
   {
    "duration": 21,
    "start_time": "2023-02-02T20:30:48.051Z"
   },
   {
    "duration": 135,
    "start_time": "2023-02-02T20:31:16.621Z"
   },
   {
    "duration": 37,
    "start_time": "2023-02-02T20:31:51.868Z"
   },
   {
    "duration": 117,
    "start_time": "2023-02-02T20:32:06.821Z"
   },
   {
    "duration": 171,
    "start_time": "2023-02-02T20:32:25.407Z"
   },
   {
    "duration": 122,
    "start_time": "2023-02-02T20:32:35.222Z"
   },
   {
    "duration": 31,
    "start_time": "2023-02-02T20:37:46.753Z"
   },
   {
    "duration": 29,
    "start_time": "2023-02-02T20:38:46.722Z"
   },
   {
    "duration": 31,
    "start_time": "2023-02-02T20:39:28.640Z"
   },
   {
    "duration": 1483,
    "start_time": "2023-02-02T20:45:20.873Z"
   },
   {
    "duration": 4,
    "start_time": "2023-02-02T20:45:23.172Z"
   },
   {
    "duration": 1134,
    "start_time": "2023-02-02T20:45:43.507Z"
   },
   {
    "duration": 204,
    "start_time": "2023-02-02T20:45:50.127Z"
   },
   {
    "duration": 5,
    "start_time": "2023-02-02T20:45:52.000Z"
   },
   {
    "duration": 338,
    "start_time": "2023-02-02T20:45:53.582Z"
   },
   {
    "duration": 3,
    "start_time": "2023-02-02T20:45:55.690Z"
   },
   {
    "duration": 11,
    "start_time": "2023-02-02T20:45:56.773Z"
   },
   {
    "duration": 6,
    "start_time": "2023-02-02T20:45:58.060Z"
   },
   {
    "duration": 4,
    "start_time": "2023-02-02T20:45:59.298Z"
   },
   {
    "duration": 30,
    "start_time": "2023-02-02T20:46:00.896Z"
   },
   {
    "duration": 29,
    "start_time": "2023-02-02T20:46:02.678Z"
   },
   {
    "duration": 39,
    "start_time": "2023-02-02T20:46:04.714Z"
   },
   {
    "duration": 3,
    "start_time": "2023-02-02T20:46:06.906Z"
   },
   {
    "duration": 5,
    "start_time": "2023-02-02T20:46:08.165Z"
   },
   {
    "duration": 7,
    "start_time": "2023-02-02T20:46:13.181Z"
   },
   {
    "duration": 7,
    "start_time": "2023-02-02T20:46:15.105Z"
   },
   {
    "duration": 11,
    "start_time": "2023-02-02T20:46:18.937Z"
   },
   {
    "duration": 10,
    "start_time": "2023-02-02T20:47:06.435Z"
   },
   {
    "duration": 324,
    "start_time": "2023-02-02T20:47:51.533Z"
   },
   {
    "duration": 24343,
    "start_time": "2023-02-02T20:48:07.796Z"
   },
   {
    "duration": 10,
    "start_time": "2023-02-02T20:49:30.021Z"
   },
   {
    "duration": 137,
    "start_time": "2023-02-02T20:49:38.683Z"
   },
   {
    "duration": 60,
    "start_time": "2023-02-02T20:49:54.783Z"
   },
   {
    "duration": 5,
    "start_time": "2023-02-02T20:50:34.863Z"
   },
   {
    "duration": 6,
    "start_time": "2023-02-02T20:50:50.792Z"
   },
   {
    "duration": 18,
    "start_time": "2023-02-02T20:50:55.490Z"
   },
   {
    "duration": 195,
    "start_time": "2023-02-02T20:51:05.787Z"
   },
   {
    "duration": 144,
    "start_time": "2023-02-02T20:51:25.753Z"
   },
   {
    "duration": 18,
    "start_time": "2023-02-02T20:51:33.368Z"
   },
   {
    "duration": 27,
    "start_time": "2023-02-02T20:52:18.205Z"
   },
   {
    "duration": 17,
    "start_time": "2023-02-02T20:52:22.994Z"
   },
   {
    "duration": 17,
    "start_time": "2023-02-02T20:52:32.620Z"
   },
   {
    "duration": 16,
    "start_time": "2023-02-02T20:52:42.068Z"
   },
   {
    "duration": 15,
    "start_time": "2023-02-02T20:52:50.788Z"
   },
   {
    "duration": 16,
    "start_time": "2023-02-02T20:53:16.371Z"
   },
   {
    "duration": 10,
    "start_time": "2023-02-02T20:53:39.194Z"
   },
   {
    "duration": 6,
    "start_time": "2023-02-02T20:54:06.158Z"
   },
   {
    "duration": 6,
    "start_time": "2023-02-02T20:54:12.281Z"
   },
   {
    "duration": 8,
    "start_time": "2023-02-02T20:54:14.946Z"
   },
   {
    "duration": 11,
    "start_time": "2023-02-02T20:54:16.380Z"
   },
   {
    "duration": 9,
    "start_time": "2023-02-02T20:54:25.001Z"
   },
   {
    "duration": 623,
    "start_time": "2023-02-02T20:54:41.740Z"
   },
   {
    "duration": 1432,
    "start_time": "2023-02-02T21:03:48.969Z"
   },
   {
    "duration": 5,
    "start_time": "2023-02-02T21:03:50.943Z"
   },
   {
    "duration": 2376,
    "start_time": "2023-02-02T21:03:51.954Z"
   },
   {
    "duration": 182,
    "start_time": "2023-02-02T21:03:55.518Z"
   },
   {
    "duration": 4,
    "start_time": "2023-02-02T21:04:03.877Z"
   },
   {
    "duration": 257,
    "start_time": "2023-02-02T21:04:10.695Z"
   },
   {
    "duration": 3,
    "start_time": "2023-02-02T21:04:13.364Z"
   },
   {
    "duration": 10,
    "start_time": "2023-02-02T21:04:14.580Z"
   },
   {
    "duration": 5,
    "start_time": "2023-02-02T21:04:15.988Z"
   },
   {
    "duration": 4,
    "start_time": "2023-02-02T21:04:17.416Z"
   },
   {
    "duration": 27,
    "start_time": "2023-02-02T21:04:19.348Z"
   },
   {
    "duration": 25,
    "start_time": "2023-02-02T21:04:21.279Z"
   },
   {
    "duration": 19,
    "start_time": "2023-02-02T21:04:22.753Z"
   },
   {
    "duration": 2,
    "start_time": "2023-02-02T21:04:27.820Z"
   },
   {
    "duration": 6,
    "start_time": "2023-02-02T21:04:28.987Z"
   },
   {
    "duration": 9,
    "start_time": "2023-02-02T21:04:31.135Z"
   },
   {
    "duration": 8,
    "start_time": "2023-02-02T21:04:32.864Z"
   },
   {
    "duration": 21,
    "start_time": "2023-02-02T21:04:35.936Z"
   },
   {
    "duration": 9,
    "start_time": "2023-02-02T21:04:44.777Z"
   },
   {
    "duration": 108,
    "start_time": "2023-02-02T21:04:45.535Z"
   },
   {
    "duration": 152,
    "start_time": "2023-02-02T21:09:10.953Z"
   },
   {
    "duration": 15,
    "start_time": "2023-02-02T21:09:39.564Z"
   },
   {
    "duration": 121,
    "start_time": "2023-02-02T21:13:08.186Z"
   },
   {
    "duration": 776,
    "start_time": "2023-02-02T21:13:23.002Z"
   },
   {
    "duration": 102,
    "start_time": "2023-02-02T21:13:28.987Z"
   },
   {
    "duration": 5238,
    "start_time": "2023-02-02T21:13:56.829Z"
   },
   {
    "duration": 204,
    "start_time": "2023-02-02T21:14:36.185Z"
   },
   {
    "duration": 815,
    "start_time": "2023-02-02T21:14:51.480Z"
   },
   {
    "duration": 305,
    "start_time": "2023-02-02T21:15:00.072Z"
   },
   {
    "duration": 45,
    "start_time": "2023-02-02T21:17:23.787Z"
   },
   {
    "duration": 19,
    "start_time": "2023-02-02T21:17:55.895Z"
   },
   {
    "duration": 11,
    "start_time": "2023-02-02T21:18:26.785Z"
   },
   {
    "duration": 14,
    "start_time": "2023-02-02T21:18:33.370Z"
   },
   {
    "duration": 10443,
    "start_time": "2023-02-02T21:34:26.727Z"
   },
   {
    "duration": 125,
    "start_time": "2023-02-02T21:34:53.431Z"
   },
   {
    "duration": 10,
    "start_time": "2023-02-02T21:35:07.459Z"
   },
   {
    "duration": 139,
    "start_time": "2023-02-02T21:35:14.954Z"
   },
   {
    "duration": 15,
    "start_time": "2023-02-02T21:36:23.633Z"
   },
   {
    "duration": 3,
    "start_time": "2023-02-02T21:36:33.648Z"
   },
   {
    "duration": 324,
    "start_time": "2023-02-02T21:36:34.571Z"
   },
   {
    "duration": 3883,
    "start_time": "2023-02-02T21:37:15.050Z"
   },
   {
    "duration": 305,
    "start_time": "2023-02-02T21:37:28.371Z"
   },
   {
    "duration": 8,
    "start_time": "2023-02-02T21:39:05.287Z"
   },
   {
    "duration": 3,
    "start_time": "2023-02-02T21:39:07.457Z"
   },
   {
    "duration": 0,
    "start_time": "2023-02-02T21:39:37.176Z"
   },
   {
    "duration": 6,
    "start_time": "2023-02-02T21:39:50.559Z"
   },
   {
    "duration": 15,
    "start_time": "2023-02-02T21:39:56.755Z"
   },
   {
    "duration": 245,
    "start_time": "2023-02-02T21:40:05.402Z"
   },
   {
    "duration": 4,
    "start_time": "2023-02-02T21:41:28.070Z"
   },
   {
    "duration": 7,
    "start_time": "2023-02-02T21:41:56.342Z"
   },
   {
    "duration": 6,
    "start_time": "2023-02-02T21:41:57.999Z"
   },
   {
    "duration": 8,
    "start_time": "2023-02-02T21:44:29.355Z"
   },
   {
    "duration": 15,
    "start_time": "2023-02-02T21:44:35.392Z"
   },
   {
    "duration": 283,
    "start_time": "2023-02-02T21:44:42.989Z"
   },
   {
    "duration": 2,
    "start_time": "2023-02-02T21:48:30.454Z"
   },
   {
    "duration": 754,
    "start_time": "2023-02-02T21:49:01.075Z"
   },
   {
    "duration": 3,
    "start_time": "2023-02-02T21:50:07.949Z"
   },
   {
    "duration": 5,
    "start_time": "2023-02-02T21:50:11.324Z"
   },
   {
    "duration": 5,
    "start_time": "2023-02-02T21:50:12.328Z"
   },
   {
    "duration": 5,
    "start_time": "2023-02-02T21:50:15.049Z"
   },
   {
    "duration": 8,
    "start_time": "2023-02-02T21:51:35.648Z"
   },
   {
    "duration": 5,
    "start_time": "2023-02-02T21:51:39.602Z"
   },
   {
    "duration": 5,
    "start_time": "2023-02-02T21:51:43.630Z"
   },
   {
    "duration": 5,
    "start_time": "2023-02-02T21:51:53.028Z"
   },
   {
    "duration": 16,
    "start_time": "2023-02-02T21:51:54.433Z"
   },
   {
    "duration": 5,
    "start_time": "2023-02-02T21:51:55.224Z"
   },
   {
    "duration": 258,
    "start_time": "2023-02-02T22:02:19.242Z"
   },
   {
    "duration": 1223,
    "start_time": "2023-02-02T22:03:49.255Z"
   },
   {
    "duration": 976,
    "start_time": "2023-02-02T22:04:03.000Z"
   },
   {
    "duration": 9823,
    "start_time": "2023-02-02T22:04:29.039Z"
   },
   {
    "duration": 9,
    "start_time": "2023-02-02T22:06:15.854Z"
   },
   {
    "duration": 18,
    "start_time": "2023-02-02T22:06:47.480Z"
   },
   {
    "duration": 2,
    "start_time": "2023-02-02T22:29:50.601Z"
   },
   {
    "duration": 4,
    "start_time": "2023-02-02T22:29:53.920Z"
   },
   {
    "duration": 3,
    "start_time": "2023-02-02T22:29:54.748Z"
   },
   {
    "duration": 3,
    "start_time": "2023-02-02T22:29:55.638Z"
   },
   {
    "duration": 9,
    "start_time": "2023-02-02T22:32:00.332Z"
   },
   {
    "duration": 8,
    "start_time": "2023-02-02T22:32:49.362Z"
   },
   {
    "duration": 115,
    "start_time": "2023-02-02T22:33:37.268Z"
   },
   {
    "duration": 9,
    "start_time": "2023-02-02T22:34:48.973Z"
   },
   {
    "duration": 95,
    "start_time": "2023-02-02T22:36:18.296Z"
   },
   {
    "duration": 3,
    "start_time": "2023-02-02T22:37:05.002Z"
   },
   {
    "duration": 3,
    "start_time": "2023-02-02T22:37:05.971Z"
   },
   {
    "duration": 2,
    "start_time": "2023-02-02T22:37:06.715Z"
   },
   {
    "duration": 3,
    "start_time": "2023-02-02T22:37:07.519Z"
   },
   {
    "duration": 406,
    "start_time": "2023-02-02T22:37:08.239Z"
   },
   {
    "duration": 2,
    "start_time": "2023-02-02T22:37:20.311Z"
   },
   {
    "duration": 3,
    "start_time": "2023-02-02T22:37:21.053Z"
   },
   {
    "duration": 3,
    "start_time": "2023-02-02T22:37:21.673Z"
   },
   {
    "duration": 2,
    "start_time": "2023-02-02T22:37:22.251Z"
   },
   {
    "duration": 95,
    "start_time": "2023-02-02T22:37:22.814Z"
   },
   {
    "duration": 121,
    "start_time": "2023-02-02T22:38:05.921Z"
   },
   {
    "duration": 4,
    "start_time": "2023-02-02T22:41:03.098Z"
   },
   {
    "duration": 4,
    "start_time": "2023-02-02T22:41:03.837Z"
   },
   {
    "duration": 4,
    "start_time": "2023-02-02T22:41:04.532Z"
   },
   {
    "duration": 3,
    "start_time": "2023-02-02T22:41:14.172Z"
   },
   {
    "duration": 3,
    "start_time": "2023-02-02T22:42:20.064Z"
   },
   {
    "duration": 153,
    "start_time": "2023-02-02T22:42:39.748Z"
   },
   {
    "duration": 115,
    "start_time": "2023-02-02T22:43:05.180Z"
   },
   {
    "duration": 155,
    "start_time": "2023-02-02T22:43:12.753Z"
   },
   {
    "duration": 159,
    "start_time": "2023-02-02T22:43:32.274Z"
   },
   {
    "duration": 195,
    "start_time": "2023-02-02T22:44:25.200Z"
   },
   {
    "duration": 180,
    "start_time": "2023-02-02T22:46:59.877Z"
   },
   {
    "duration": 177,
    "start_time": "2023-02-02T22:47:04.182Z"
   },
   {
    "duration": 176,
    "start_time": "2023-02-02T22:48:02.254Z"
   },
   {
    "duration": 172,
    "start_time": "2023-02-02T22:48:05.153Z"
   },
   {
    "duration": 175,
    "start_time": "2023-02-02T22:48:12.936Z"
   },
   {
    "duration": 50,
    "start_time": "2023-02-03T09:34:49.796Z"
   },
   {
    "duration": 1560,
    "start_time": "2023-02-03T09:35:01.429Z"
   },
   {
    "duration": 3,
    "start_time": "2023-02-03T09:35:02.991Z"
   },
   {
    "duration": 2002,
    "start_time": "2023-02-03T09:35:03.433Z"
   },
   {
    "duration": 146,
    "start_time": "2023-02-03T09:35:05.437Z"
   },
   {
    "duration": 5,
    "start_time": "2023-02-03T09:35:05.698Z"
   },
   {
    "duration": 265,
    "start_time": "2023-02-03T09:35:09.603Z"
   },
   {
    "duration": 3,
    "start_time": "2023-02-03T09:35:11.742Z"
   },
   {
    "duration": 13,
    "start_time": "2023-02-03T09:35:12.835Z"
   },
   {
    "duration": 4,
    "start_time": "2023-02-03T09:35:14.037Z"
   },
   {
    "duration": 3,
    "start_time": "2023-02-03T09:35:15.673Z"
   },
   {
    "duration": 24,
    "start_time": "2023-02-03T09:35:17.246Z"
   },
   {
    "duration": 24,
    "start_time": "2023-02-03T09:35:18.709Z"
   },
   {
    "duration": 3,
    "start_time": "2023-02-03T09:35:20.156Z"
   },
   {
    "duration": 4,
    "start_time": "2023-02-03T09:35:21.450Z"
   },
   {
    "duration": 7,
    "start_time": "2023-02-03T09:35:22.675Z"
   },
   {
    "duration": 6,
    "start_time": "2023-02-03T09:35:23.977Z"
   },
   {
    "duration": 8,
    "start_time": "2023-02-03T09:35:25.177Z"
   },
   {
    "duration": 7,
    "start_time": "2023-02-03T09:35:27.088Z"
   },
   {
    "duration": 8,
    "start_time": "2023-02-03T09:35:28.460Z"
   },
   {
    "duration": 4,
    "start_time": "2023-02-03T09:35:31.466Z"
   },
   {
    "duration": 5,
    "start_time": "2023-02-03T09:35:32.952Z"
   },
   {
    "duration": 4,
    "start_time": "2023-02-03T09:35:33.711Z"
   },
   {
    "duration": 3,
    "start_time": "2023-02-03T09:35:34.407Z"
   },
   {
    "duration": 195,
    "start_time": "2023-02-03T09:35:36.205Z"
   },
   {
    "duration": 101,
    "start_time": "2023-02-03T09:35:38.222Z"
   },
   {
    "duration": 114,
    "start_time": "2023-02-03T09:36:34.741Z"
   },
   {
    "duration": 220,
    "start_time": "2023-02-03T09:36:39.720Z"
   },
   {
    "duration": 756,
    "start_time": "2023-02-03T09:36:49.059Z"
   },
   {
    "duration": 337,
    "start_time": "2023-02-03T09:36:54.828Z"
   },
   {
    "duration": 3,
    "start_time": "2023-02-03T09:38:42.924Z"
   },
   {
    "duration": 3,
    "start_time": "2023-02-03T09:38:43.569Z"
   },
   {
    "duration": 2,
    "start_time": "2023-02-03T09:38:44.379Z"
   },
   {
    "duration": 3,
    "start_time": "2023-02-03T09:38:45.270Z"
   },
   {
    "duration": 581,
    "start_time": "2023-02-03T09:38:45.916Z"
   },
   {
    "duration": 128,
    "start_time": "2023-02-03T09:38:47.993Z"
   },
   {
    "duration": 4,
    "start_time": "2023-02-03T09:39:06.844Z"
   },
   {
    "duration": 3,
    "start_time": "2023-02-03T09:39:07.316Z"
   },
   {
    "duration": 4,
    "start_time": "2023-02-03T09:39:07.797Z"
   },
   {
    "duration": 3,
    "start_time": "2023-02-03T09:39:08.967Z"
   },
   {
    "duration": 181,
    "start_time": "2023-02-03T09:39:09.668Z"
   },
   {
    "duration": 324,
    "start_time": "2023-02-03T09:39:11.655Z"
   },
   {
    "duration": 496,
    "start_time": "2023-02-03T09:39:36.269Z"
   },
   {
    "duration": 162,
    "start_time": "2023-02-03T10:03:56.471Z"
   },
   {
    "duration": 175,
    "start_time": "2023-02-03T10:04:03.467Z"
   },
   {
    "duration": 7,
    "start_time": "2023-02-03T10:07:53.864Z"
   },
   {
    "duration": 4,
    "start_time": "2023-02-03T10:07:58.877Z"
   },
   {
    "duration": 137,
    "start_time": "2023-02-03T10:08:01.807Z"
   },
   {
    "duration": 222,
    "start_time": "2023-02-03T10:08:27.901Z"
   },
   {
    "duration": 211,
    "start_time": "2023-02-03T10:08:43.999Z"
   },
   {
    "duration": 167,
    "start_time": "2023-02-03T10:09:34.796Z"
   },
   {
    "duration": 173,
    "start_time": "2023-02-03T10:10:24.959Z"
   },
   {
    "duration": 247,
    "start_time": "2023-02-03T10:10:56.764Z"
   },
   {
    "duration": 212,
    "start_time": "2023-02-03T10:11:08.982Z"
   },
   {
    "duration": 482,
    "start_time": "2023-02-03T10:11:23.869Z"
   },
   {
    "duration": 305,
    "start_time": "2023-02-03T10:11:33.472Z"
   },
   {
    "duration": 286,
    "start_time": "2023-02-03T10:12:20.368Z"
   },
   {
    "duration": 428,
    "start_time": "2023-02-03T10:12:29.342Z"
   },
   {
    "duration": 316,
    "start_time": "2023-02-03T10:12:36.597Z"
   },
   {
    "duration": 259,
    "start_time": "2023-02-03T10:12:41.132Z"
   },
   {
    "duration": 3,
    "start_time": "2023-02-03T10:13:48.649Z"
   },
   {
    "duration": 6,
    "start_time": "2023-02-03T10:15:53.974Z"
   },
   {
    "duration": 5,
    "start_time": "2023-02-03T10:16:40.235Z"
   },
   {
    "duration": 5,
    "start_time": "2023-02-03T10:16:43.220Z"
   },
   {
    "duration": 5,
    "start_time": "2023-02-03T10:16:43.719Z"
   },
   {
    "duration": 4,
    "start_time": "2023-02-03T10:16:48.205Z"
   },
   {
    "duration": 6,
    "start_time": "2023-02-03T10:16:48.951Z"
   },
   {
    "duration": 5,
    "start_time": "2023-02-03T10:16:54.191Z"
   },
   {
    "duration": 5,
    "start_time": "2023-02-03T10:16:58.671Z"
   },
   {
    "duration": 355,
    "start_time": "2023-02-03T10:41:23.569Z"
   },
   {
    "duration": 450,
    "start_time": "2023-02-03T10:42:02.213Z"
   },
   {
    "duration": 373,
    "start_time": "2023-02-03T10:42:22.550Z"
   },
   {
    "duration": 340,
    "start_time": "2023-02-03T10:42:39.103Z"
   },
   {
    "duration": 288,
    "start_time": "2023-02-03T10:44:14.804Z"
   },
   {
    "duration": 284,
    "start_time": "2023-02-03T10:44:21.010Z"
   },
   {
    "duration": 286,
    "start_time": "2023-02-03T10:44:29.520Z"
   },
   {
    "duration": 417,
    "start_time": "2023-02-03T10:44:37.586Z"
   },
   {
    "duration": 320,
    "start_time": "2023-02-03T10:44:44.652Z"
   },
   {
    "duration": 285,
    "start_time": "2023-02-03T10:44:51.114Z"
   },
   {
    "duration": 280,
    "start_time": "2023-02-03T10:54:31.370Z"
   },
   {
    "duration": 367,
    "start_time": "2023-02-03T10:54:37.631Z"
   },
   {
    "duration": 427,
    "start_time": "2023-02-03T10:54:44.517Z"
   },
   {
    "duration": 283,
    "start_time": "2023-02-03T10:54:59.583Z"
   },
   {
    "duration": 285,
    "start_time": "2023-02-03T10:56:42.800Z"
   },
   {
    "duration": 270,
    "start_time": "2023-02-03T10:56:48.139Z"
   },
   {
    "duration": 263,
    "start_time": "2023-02-03T10:57:47.354Z"
   },
   {
    "duration": 270,
    "start_time": "2023-02-03T10:57:56.438Z"
   },
   {
    "duration": 252,
    "start_time": "2023-02-03T10:58:04.725Z"
   },
   {
    "duration": 394,
    "start_time": "2023-02-03T10:58:12.036Z"
   },
   {
    "duration": 654,
    "start_time": "2023-02-03T11:06:23.108Z"
   },
   {
    "duration": 6,
    "start_time": "2023-02-03T11:07:16.255Z"
   },
   {
    "duration": 345,
    "start_time": "2023-02-03T11:08:29.593Z"
   },
   {
    "duration": 355,
    "start_time": "2023-02-03T11:08:35.102Z"
   },
   {
    "duration": 450,
    "start_time": "2023-02-03T11:10:14.855Z"
   },
   {
    "duration": 618,
    "start_time": "2023-02-03T11:10:35.153Z"
   },
   {
    "duration": 645,
    "start_time": "2023-02-03T11:12:13.605Z"
   },
   {
    "duration": 558,
    "start_time": "2023-02-03T11:14:48.269Z"
   },
   {
    "duration": 16,
    "start_time": "2023-02-03T11:20:46.972Z"
   },
   {
    "duration": 6,
    "start_time": "2023-02-03T11:20:56.470Z"
   },
   {
    "duration": 4,
    "start_time": "2023-02-03T11:33:49.469Z"
   },
   {
    "duration": 3,
    "start_time": "2023-02-03T11:33:49.940Z"
   },
   {
    "duration": 9,
    "start_time": "2023-02-03T11:36:11.663Z"
   },
   {
    "duration": 3,
    "start_time": "2023-02-03T11:36:17.200Z"
   },
   {
    "duration": 20,
    "start_time": "2023-02-03T11:36:21.940Z"
   },
   {
    "duration": 19,
    "start_time": "2023-02-03T11:36:30.520Z"
   },
   {
    "duration": 30,
    "start_time": "2023-02-03T11:37:17.396Z"
   },
   {
    "duration": 1335,
    "start_time": "2023-02-03T11:38:13.165Z"
   },
   {
    "duration": 3,
    "start_time": "2023-02-03T11:38:14.502Z"
   },
   {
    "duration": 905,
    "start_time": "2023-02-03T11:38:14.506Z"
   },
   {
    "duration": 157,
    "start_time": "2023-02-03T11:38:15.413Z"
   },
   {
    "duration": 6,
    "start_time": "2023-02-03T11:38:15.573Z"
   },
   {
    "duration": 274,
    "start_time": "2023-02-03T11:38:15.580Z"
   },
   {
    "duration": 3,
    "start_time": "2023-02-03T11:38:15.856Z"
   },
   {
    "duration": 29,
    "start_time": "2023-02-03T11:38:15.861Z"
   },
   {
    "duration": 9,
    "start_time": "2023-02-03T11:38:15.891Z"
   },
   {
    "duration": 14,
    "start_time": "2023-02-03T11:38:15.902Z"
   },
   {
    "duration": 36,
    "start_time": "2023-02-03T11:38:15.917Z"
   },
   {
    "duration": 23,
    "start_time": "2023-02-03T11:38:15.955Z"
   },
   {
    "duration": 2,
    "start_time": "2023-02-03T11:38:15.980Z"
   },
   {
    "duration": 25,
    "start_time": "2023-02-03T11:38:15.985Z"
   },
   {
    "duration": 16,
    "start_time": "2023-02-03T11:38:16.012Z"
   },
   {
    "duration": 11,
    "start_time": "2023-02-03T11:38:16.029Z"
   },
   {
    "duration": 11,
    "start_time": "2023-02-03T11:38:16.041Z"
   },
   {
    "duration": 9,
    "start_time": "2023-02-03T11:38:16.054Z"
   },
   {
    "duration": 8,
    "start_time": "2023-02-03T11:38:16.064Z"
   },
   {
    "duration": 3,
    "start_time": "2023-02-03T11:38:16.074Z"
   },
   {
    "duration": 6,
    "start_time": "2023-02-03T11:38:16.079Z"
   },
   {
    "duration": 23,
    "start_time": "2023-02-03T11:38:16.087Z"
   },
   {
    "duration": 4,
    "start_time": "2023-02-03T11:38:16.111Z"
   },
   {
    "duration": 199,
    "start_time": "2023-02-03T11:38:16.116Z"
   },
   {
    "duration": 263,
    "start_time": "2023-02-03T11:38:16.317Z"
   },
   {
    "duration": 8,
    "start_time": "2023-02-03T11:38:16.583Z"
   },
   {
    "duration": 778,
    "start_time": "2023-02-03T11:38:16.593Z"
   },
   {
    "duration": 4,
    "start_time": "2023-02-03T11:38:17.372Z"
   },
   {
    "duration": 6,
    "start_time": "2023-02-03T11:38:17.377Z"
   },
   {
    "duration": 10,
    "start_time": "2023-02-03T11:38:17.384Z"
   },
   {
    "duration": 34,
    "start_time": "2023-02-03T11:38:17.396Z"
   },
   {
    "duration": 61,
    "start_time": "2023-02-03T11:38:23.930Z"
   },
   {
    "duration": 21,
    "start_time": "2023-02-03T11:39:12.545Z"
   },
   {
    "duration": 25,
    "start_time": "2023-02-03T11:40:01.149Z"
   },
   {
    "duration": 4,
    "start_time": "2023-02-03T11:45:20.275Z"
   },
   {
    "duration": 96,
    "start_time": "2023-02-03T11:45:44.916Z"
   },
   {
    "duration": 1324,
    "start_time": "2023-02-03T11:46:16.089Z"
   },
   {
    "duration": 117,
    "start_time": "2023-02-03T11:50:07.117Z"
   },
   {
    "duration": 3,
    "start_time": "2023-02-03T11:53:48.221Z"
   },
   {
    "duration": 727,
    "start_time": "2023-02-03T11:54:08.882Z"
   },
   {
    "duration": 3,
    "start_time": "2023-02-03T11:59:48.797Z"
   },
   {
    "duration": 1269,
    "start_time": "2023-02-03T12:01:28.748Z"
   },
   {
    "duration": 614,
    "start_time": "2023-02-03T12:01:37.207Z"
   },
   {
    "duration": 16,
    "start_time": "2023-02-03T12:01:44.845Z"
   },
   {
    "duration": 11,
    "start_time": "2023-02-03T12:08:16.250Z"
   },
   {
    "duration": 4,
    "start_time": "2023-02-03T12:09:14.900Z"
   },
   {
    "duration": 4,
    "start_time": "2023-02-03T12:09:25.985Z"
   },
   {
    "duration": 461,
    "start_time": "2023-02-03T12:10:26.954Z"
   },
   {
    "duration": 4,
    "start_time": "2023-02-03T12:11:05.379Z"
   },
   {
    "duration": 9,
    "start_time": "2023-02-03T12:11:16.212Z"
   },
   {
    "duration": 218,
    "start_time": "2023-02-03T12:11:42.109Z"
   },
   {
    "duration": 12,
    "start_time": "2023-02-03T12:20:42.412Z"
   },
   {
    "duration": 1335,
    "start_time": "2023-02-03T12:23:27.624Z"
   },
   {
    "duration": 2,
    "start_time": "2023-02-03T12:23:28.961Z"
   },
   {
    "duration": 991,
    "start_time": "2023-02-03T12:23:28.965Z"
   },
   {
    "duration": 176,
    "start_time": "2023-02-03T12:23:29.958Z"
   },
   {
    "duration": 5,
    "start_time": "2023-02-03T12:23:30.136Z"
   },
   {
    "duration": 265,
    "start_time": "2023-02-03T12:23:30.142Z"
   },
   {
    "duration": 9,
    "start_time": "2023-02-03T12:23:30.415Z"
   },
   {
    "duration": 27,
    "start_time": "2023-02-03T12:23:30.425Z"
   },
   {
    "duration": 34,
    "start_time": "2023-02-03T12:23:30.454Z"
   },
   {
    "duration": 40,
    "start_time": "2023-02-03T12:23:30.489Z"
   },
   {
    "duration": 45,
    "start_time": "2023-02-03T12:23:30.530Z"
   },
   {
    "duration": 27,
    "start_time": "2023-02-03T12:23:30.576Z"
   },
   {
    "duration": 33,
    "start_time": "2023-02-03T12:23:30.604Z"
   },
   {
    "duration": 34,
    "start_time": "2023-02-03T12:23:30.639Z"
   },
   {
    "duration": 67,
    "start_time": "2023-02-03T12:23:30.674Z"
   },
   {
    "duration": 31,
    "start_time": "2023-02-03T12:23:30.743Z"
   },
   {
    "duration": 56,
    "start_time": "2023-02-03T12:23:30.776Z"
   },
   {
    "duration": 40,
    "start_time": "2023-02-03T12:23:30.834Z"
   },
   {
    "duration": 45,
    "start_time": "2023-02-03T12:23:30.875Z"
   },
   {
    "duration": 21,
    "start_time": "2023-02-03T12:23:30.922Z"
   },
   {
    "duration": 25,
    "start_time": "2023-02-03T12:23:30.945Z"
   },
   {
    "duration": 14,
    "start_time": "2023-02-03T12:23:30.972Z"
   },
   {
    "duration": 53,
    "start_time": "2023-02-03T12:23:30.989Z"
   },
   {
    "duration": 276,
    "start_time": "2023-02-03T12:23:31.045Z"
   },
   {
    "duration": 247,
    "start_time": "2023-02-03T12:23:31.323Z"
   },
   {
    "duration": 6,
    "start_time": "2023-02-03T12:23:31.572Z"
   },
   {
    "duration": 687,
    "start_time": "2023-02-03T12:23:31.580Z"
   },
   {
    "duration": 3,
    "start_time": "2023-02-03T12:23:32.269Z"
   },
   {
    "duration": 5,
    "start_time": "2023-02-03T12:23:32.273Z"
   },
   {
    "duration": 18,
    "start_time": "2023-02-03T12:23:32.279Z"
   },
   {
    "duration": 192,
    "start_time": "2023-02-03T12:23:32.299Z"
   },
   {
    "duration": 0,
    "start_time": "2023-02-03T12:23:32.493Z"
   },
   {
    "duration": 1384,
    "start_time": "2023-02-03T12:24:09.968Z"
   },
   {
    "duration": 4,
    "start_time": "2023-02-03T12:24:11.354Z"
   },
   {
    "duration": 943,
    "start_time": "2023-02-03T12:24:11.360Z"
   },
   {
    "duration": 161,
    "start_time": "2023-02-03T12:24:12.305Z"
   },
   {
    "duration": 5,
    "start_time": "2023-02-03T12:24:12.467Z"
   },
   {
    "duration": 292,
    "start_time": "2023-02-03T12:24:12.473Z"
   },
   {
    "duration": 3,
    "start_time": "2023-02-03T12:24:12.767Z"
   },
   {
    "duration": 12,
    "start_time": "2023-02-03T12:24:12.772Z"
   },
   {
    "duration": 5,
    "start_time": "2023-02-03T12:24:12.785Z"
   },
   {
    "duration": 31,
    "start_time": "2023-02-03T12:24:12.792Z"
   },
   {
    "duration": 26,
    "start_time": "2023-02-03T12:24:12.825Z"
   },
   {
    "duration": 31,
    "start_time": "2023-02-03T12:24:12.853Z"
   },
   {
    "duration": 4,
    "start_time": "2023-02-03T12:24:12.885Z"
   },
   {
    "duration": 33,
    "start_time": "2023-02-03T12:24:12.891Z"
   },
   {
    "duration": 19,
    "start_time": "2023-02-03T12:24:12.925Z"
   },
   {
    "duration": 8,
    "start_time": "2023-02-03T12:24:12.946Z"
   },
   {
    "duration": 36,
    "start_time": "2023-02-03T12:24:12.955Z"
   },
   {
    "duration": 31,
    "start_time": "2023-02-03T12:24:12.993Z"
   },
   {
    "duration": 10,
    "start_time": "2023-02-03T12:24:13.027Z"
   },
   {
    "duration": 17,
    "start_time": "2023-02-03T12:24:13.038Z"
   },
   {
    "duration": 8,
    "start_time": "2023-02-03T12:24:13.057Z"
   },
   {
    "duration": 17,
    "start_time": "2023-02-03T12:24:13.067Z"
   },
   {
    "duration": 8,
    "start_time": "2023-02-03T12:24:13.086Z"
   },
   {
    "duration": 231,
    "start_time": "2023-02-03T12:24:13.096Z"
   },
   {
    "duration": 261,
    "start_time": "2023-02-03T12:24:13.329Z"
   },
   {
    "duration": 7,
    "start_time": "2023-02-03T12:24:13.592Z"
   },
   {
    "duration": 676,
    "start_time": "2023-02-03T12:24:13.600Z"
   },
   {
    "duration": 3,
    "start_time": "2023-02-03T12:24:14.279Z"
   },
   {
    "duration": 8,
    "start_time": "2023-02-03T12:24:14.283Z"
   },
   {
    "duration": 7,
    "start_time": "2023-02-03T12:24:14.293Z"
   },
   {
    "duration": 48,
    "start_time": "2023-02-03T12:24:14.301Z"
   },
   {
    "duration": 144,
    "start_time": "2023-02-03T12:24:14.351Z"
   },
   {
    "duration": 429,
    "start_time": "2023-02-03T13:14:09.991Z"
   },
   {
    "duration": 169,
    "start_time": "2023-02-03T13:15:00.553Z"
   },
   {
    "duration": 44,
    "start_time": "2023-02-03T13:15:53.097Z"
   },
   {
    "duration": 6,
    "start_time": "2023-02-03T13:16:06.143Z"
   },
   {
    "duration": 247,
    "start_time": "2023-02-03T13:17:51.974Z"
   },
   {
    "duration": 53,
    "start_time": "2023-02-03T13:18:06.683Z"
   },
   {
    "duration": 6,
    "start_time": "2023-02-03T13:18:23.132Z"
   },
   {
    "duration": 7,
    "start_time": "2023-02-03T13:18:33.483Z"
   },
   {
    "duration": 3,
    "start_time": "2023-02-03T13:18:47.253Z"
   },
   {
    "duration": 215,
    "start_time": "2023-02-03T13:18:49.314Z"
   },
   {
    "duration": 4,
    "start_time": "2023-02-03T13:19:14.459Z"
   },
   {
    "duration": 21,
    "start_time": "2023-02-03T13:19:15.814Z"
   },
   {
    "duration": 3,
    "start_time": "2023-02-03T13:19:17.310Z"
   },
   {
    "duration": 182,
    "start_time": "2023-02-03T13:19:17.949Z"
   },
   {
    "duration": 3,
    "start_time": "2023-02-03T13:19:51.998Z"
   },
   {
    "duration": 4,
    "start_time": "2023-02-03T13:20:01.077Z"
   },
   {
    "duration": 5,
    "start_time": "2023-02-03T13:20:18.625Z"
   },
   {
    "duration": 4,
    "start_time": "2023-02-03T13:20:27.989Z"
   },
   {
    "duration": 5,
    "start_time": "2023-02-03T13:20:31.888Z"
   },
   {
    "duration": 40,
    "start_time": "2023-02-03T13:20:32.725Z"
   },
   {
    "duration": 22,
    "start_time": "2023-02-03T13:20:51.656Z"
   },
   {
    "duration": 12,
    "start_time": "2023-02-03T13:21:00.117Z"
   },
   {
    "duration": 10,
    "start_time": "2023-02-03T13:21:09.415Z"
   },
   {
    "duration": 6,
    "start_time": "2023-02-03T13:21:15.756Z"
   },
   {
    "duration": 1253,
    "start_time": "2023-02-03T13:21:42.460Z"
   },
   {
    "duration": 1113,
    "start_time": "2023-02-03T13:21:50.500Z"
   },
   {
    "duration": 916,
    "start_time": "2023-02-03T13:22:04.302Z"
   },
   {
    "duration": 14,
    "start_time": "2023-02-03T13:25:03.789Z"
   },
   {
    "duration": 1598,
    "start_time": "2023-02-03T13:27:00.416Z"
   },
   {
    "duration": 1209,
    "start_time": "2023-02-03T13:28:00.607Z"
   },
   {
    "duration": 274,
    "start_time": "2023-02-03T13:31:44.843Z"
   },
   {
    "duration": 41,
    "start_time": "2023-02-03T13:47:10.328Z"
   },
   {
    "duration": 1291,
    "start_time": "2023-02-03T13:47:31.734Z"
   },
   {
    "duration": 8,
    "start_time": "2023-02-03T13:47:33.027Z"
   },
   {
    "duration": 921,
    "start_time": "2023-02-03T13:47:33.036Z"
   },
   {
    "duration": 152,
    "start_time": "2023-02-03T13:47:33.958Z"
   },
   {
    "duration": 4,
    "start_time": "2023-02-03T13:47:34.112Z"
   },
   {
    "duration": 263,
    "start_time": "2023-02-03T13:47:34.117Z"
   },
   {
    "duration": 2,
    "start_time": "2023-02-03T13:47:34.381Z"
   },
   {
    "duration": 11,
    "start_time": "2023-02-03T13:47:34.385Z"
   },
   {
    "duration": 12,
    "start_time": "2023-02-03T13:47:34.398Z"
   },
   {
    "duration": 4,
    "start_time": "2023-02-03T13:47:34.411Z"
   },
   {
    "duration": 31,
    "start_time": "2023-02-03T13:47:34.416Z"
   },
   {
    "duration": 22,
    "start_time": "2023-02-03T13:47:34.448Z"
   },
   {
    "duration": 2,
    "start_time": "2023-02-03T13:47:34.472Z"
   },
   {
    "duration": 4,
    "start_time": "2023-02-03T13:47:34.477Z"
   },
   {
    "duration": 32,
    "start_time": "2023-02-03T13:47:34.482Z"
   },
   {
    "duration": 8,
    "start_time": "2023-02-03T13:47:34.516Z"
   },
   {
    "duration": 16,
    "start_time": "2023-02-03T13:47:34.525Z"
   },
   {
    "duration": 8,
    "start_time": "2023-02-03T13:47:34.543Z"
   },
   {
    "duration": 9,
    "start_time": "2023-02-03T13:47:34.552Z"
   },
   {
    "duration": 3,
    "start_time": "2023-02-03T13:47:34.563Z"
   },
   {
    "duration": 4,
    "start_time": "2023-02-03T13:47:34.568Z"
   },
   {
    "duration": 7,
    "start_time": "2023-02-03T13:47:34.573Z"
   },
   {
    "duration": 30,
    "start_time": "2023-02-03T13:47:34.581Z"
   },
   {
    "duration": 200,
    "start_time": "2023-02-03T13:47:34.612Z"
   },
   {
    "duration": 251,
    "start_time": "2023-02-03T13:47:34.813Z"
   },
   {
    "duration": 7,
    "start_time": "2023-02-03T13:47:35.065Z"
   },
   {
    "duration": 652,
    "start_time": "2023-02-03T13:47:35.074Z"
   },
   {
    "duration": 2,
    "start_time": "2023-02-03T13:47:35.728Z"
   },
   {
    "duration": 4,
    "start_time": "2023-02-03T13:47:35.732Z"
   },
   {
    "duration": 8,
    "start_time": "2023-02-03T13:47:35.738Z"
   },
   {
    "duration": 36,
    "start_time": "2023-02-03T13:47:35.748Z"
   },
   {
    "duration": 3,
    "start_time": "2023-02-03T13:47:35.785Z"
   },
   {
    "duration": 20,
    "start_time": "2023-02-03T13:47:35.790Z"
   },
   {
    "duration": 5,
    "start_time": "2023-02-03T13:47:35.812Z"
   },
   {
    "duration": 42,
    "start_time": "2023-02-03T13:47:35.818Z"
   },
   {
    "duration": 43,
    "start_time": "2023-02-03T13:47:45.603Z"
   },
   {
    "duration": 47,
    "start_time": "2023-02-03T13:48:14.593Z"
   },
   {
    "duration": 121,
    "start_time": "2023-02-03T13:48:24.569Z"
   },
   {
    "duration": 1141,
    "start_time": "2023-02-03T13:49:17.973Z"
   },
   {
    "duration": 1077,
    "start_time": "2023-02-03T13:49:22.034Z"
   },
   {
    "duration": 1145,
    "start_time": "2023-02-03T13:49:42.668Z"
   },
   {
    "duration": 1177,
    "start_time": "2023-02-03T13:49:47.442Z"
   },
   {
    "duration": 1227,
    "start_time": "2023-02-03T13:50:03.388Z"
   },
   {
    "duration": 1265,
    "start_time": "2023-02-03T13:50:14.045Z"
   },
   {
    "duration": 1192,
    "start_time": "2023-02-03T13:50:43.024Z"
   },
   {
    "duration": 9,
    "start_time": "2023-02-03T13:51:41.144Z"
   },
   {
    "duration": 3,
    "start_time": "2023-02-03T13:52:04.232Z"
   },
   {
    "duration": 4,
    "start_time": "2023-02-03T13:52:07.376Z"
   },
   {
    "duration": 234,
    "start_time": "2023-02-03T13:57:03.997Z"
   },
   {
    "duration": 339,
    "start_time": "2023-02-03T13:58:14.415Z"
   },
   {
    "duration": 41,
    "start_time": "2023-02-03T13:58:23.384Z"
   },
   {
    "duration": 43,
    "start_time": "2023-02-03T13:58:52.385Z"
   },
   {
    "duration": 40,
    "start_time": "2023-02-03T13:58:59.980Z"
   },
   {
    "duration": 3,
    "start_time": "2023-02-03T13:59:28.150Z"
   },
   {
    "duration": 35,
    "start_time": "2023-02-03T14:01:14.656Z"
   },
   {
    "duration": 1475,
    "start_time": "2023-02-03T16:39:58.647Z"
   },
   {
    "duration": 3,
    "start_time": "2023-02-03T16:40:02.026Z"
   },
   {
    "duration": 2407,
    "start_time": "2023-02-03T16:40:05.855Z"
   },
   {
    "duration": 150,
    "start_time": "2023-02-03T16:40:09.348Z"
   },
   {
    "duration": 5,
    "start_time": "2023-02-03T16:40:11.318Z"
   },
   {
    "duration": 287,
    "start_time": "2023-02-03T16:40:13.542Z"
   },
   {
    "duration": 3,
    "start_time": "2023-02-03T16:40:20.375Z"
   },
   {
    "duration": 9,
    "start_time": "2023-02-03T16:40:21.717Z"
   },
   {
    "duration": 5,
    "start_time": "2023-02-03T16:40:30.294Z"
   },
   {
    "duration": 3,
    "start_time": "2023-02-03T16:40:34.021Z"
   },
   {
    "duration": 28,
    "start_time": "2023-02-03T16:40:38.206Z"
   },
   {
    "duration": 28,
    "start_time": "2023-02-03T16:40:41.381Z"
   },
   {
    "duration": 3,
    "start_time": "2023-02-03T16:40:52.095Z"
   },
   {
    "duration": 6,
    "start_time": "2023-02-03T16:41:01.578Z"
   },
   {
    "duration": 7,
    "start_time": "2023-02-03T16:41:03.836Z"
   },
   {
    "duration": 6,
    "start_time": "2023-02-03T16:41:05.399Z"
   },
   {
    "duration": 9,
    "start_time": "2023-02-03T16:41:08.379Z"
   },
   {
    "duration": 9,
    "start_time": "2023-02-03T16:41:13.143Z"
   },
   {
    "duration": 5,
    "start_time": "2023-02-03T16:41:23.113Z"
   },
   {
    "duration": 4,
    "start_time": "2023-02-03T16:41:24.659Z"
   },
   {
    "duration": 6,
    "start_time": "2023-02-03T16:41:25.913Z"
   },
   {
    "duration": 2,
    "start_time": "2023-02-03T16:41:28.933Z"
   },
   {
    "duration": 262,
    "start_time": "2023-02-03T16:41:31.388Z"
   },
   {
    "duration": 261,
    "start_time": "2023-02-03T16:41:40.978Z"
   },
   {
    "duration": 8,
    "start_time": "2023-02-03T16:41:50.784Z"
   },
   {
    "duration": 718,
    "start_time": "2023-02-03T16:41:55.739Z"
   },
   {
    "duration": 3,
    "start_time": "2023-02-03T16:44:34.742Z"
   },
   {
    "duration": 3,
    "start_time": "2023-02-03T16:44:35.312Z"
   },
   {
    "duration": 7,
    "start_time": "2023-02-03T16:44:55.376Z"
   },
   {
    "duration": 17,
    "start_time": "2023-02-03T16:45:43.398Z"
   },
   {
    "duration": 98,
    "start_time": "2023-02-03T16:45:59.606Z"
   },
   {
    "duration": 4,
    "start_time": "2023-02-03T16:46:04.663Z"
   },
   {
    "duration": 10,
    "start_time": "2023-02-03T16:46:57.339Z"
   },
   {
    "duration": 6,
    "start_time": "2023-02-03T16:47:04.428Z"
   },
   {
    "duration": 6,
    "start_time": "2023-02-03T16:47:06.278Z"
   },
   {
    "duration": 6,
    "start_time": "2023-02-03T16:47:11.983Z"
   },
   {
    "duration": 8,
    "start_time": "2023-02-03T16:47:20.359Z"
   },
   {
    "duration": 4,
    "start_time": "2023-02-03T16:47:43.048Z"
   },
   {
    "duration": 9,
    "start_time": "2023-02-03T16:48:27.642Z"
   },
   {
    "duration": 3,
    "start_time": "2023-02-03T16:48:41.919Z"
   },
   {
    "duration": 42,
    "start_time": "2023-02-03T16:48:47.577Z"
   },
   {
    "duration": 1220,
    "start_time": "2023-02-03T16:50:23.090Z"
   },
   {
    "duration": 3,
    "start_time": "2023-02-03T16:50:24.312Z"
   },
   {
    "duration": 852,
    "start_time": "2023-02-03T16:50:24.317Z"
   },
   {
    "duration": 171,
    "start_time": "2023-02-03T16:50:25.171Z"
   },
   {
    "duration": 4,
    "start_time": "2023-02-03T16:50:25.344Z"
   },
   {
    "duration": 267,
    "start_time": "2023-02-03T16:50:25.350Z"
   },
   {
    "duration": 3,
    "start_time": "2023-02-03T16:50:25.618Z"
   },
   {
    "duration": 20,
    "start_time": "2023-02-03T16:50:25.623Z"
   },
   {
    "duration": 4,
    "start_time": "2023-02-03T16:50:25.645Z"
   },
   {
    "duration": 5,
    "start_time": "2023-02-03T16:50:25.651Z"
   },
   {
    "duration": 34,
    "start_time": "2023-02-03T16:50:25.658Z"
   },
   {
    "duration": 45,
    "start_time": "2023-02-03T16:50:25.693Z"
   },
   {
    "duration": 3,
    "start_time": "2023-02-03T16:50:25.739Z"
   },
   {
    "duration": 7,
    "start_time": "2023-02-03T16:50:25.744Z"
   },
   {
    "duration": 9,
    "start_time": "2023-02-03T16:50:25.753Z"
   },
   {
    "duration": 5,
    "start_time": "2023-02-03T16:50:25.764Z"
   },
   {
    "duration": 8,
    "start_time": "2023-02-03T16:50:25.771Z"
   },
   {
    "duration": 9,
    "start_time": "2023-02-03T16:50:25.781Z"
   },
   {
    "duration": 19,
    "start_time": "2023-02-03T16:50:25.792Z"
   },
   {
    "duration": 24,
    "start_time": "2023-02-03T16:50:25.813Z"
   },
   {
    "duration": 3,
    "start_time": "2023-02-03T16:50:25.839Z"
   },
   {
    "duration": 5,
    "start_time": "2023-02-03T16:50:25.844Z"
   },
   {
    "duration": 210,
    "start_time": "2023-02-03T16:50:25.850Z"
   },
   {
    "duration": 262,
    "start_time": "2023-02-03T16:50:26.062Z"
   },
   {
    "duration": 12,
    "start_time": "2023-02-03T16:50:26.325Z"
   },
   {
    "duration": 651,
    "start_time": "2023-02-03T16:50:26.339Z"
   },
   {
    "duration": 2,
    "start_time": "2023-02-03T16:50:26.992Z"
   },
   {
    "duration": 8,
    "start_time": "2023-02-03T16:50:26.996Z"
   },
   {
    "duration": 11,
    "start_time": "2023-02-03T16:50:27.005Z"
   },
   {
    "duration": 29,
    "start_time": "2023-02-03T16:50:27.017Z"
   },
   {
    "duration": 7,
    "start_time": "2023-02-03T16:50:27.048Z"
   },
   {
    "duration": 39,
    "start_time": "2023-02-03T16:50:27.056Z"
   },
   {
    "duration": 0,
    "start_time": "2023-02-03T16:50:27.096Z"
   },
   {
    "duration": 0,
    "start_time": "2023-02-03T16:50:27.098Z"
   },
   {
    "duration": 3,
    "start_time": "2023-02-03T16:50:34.891Z"
   },
   {
    "duration": 43,
    "start_time": "2023-02-03T16:50:36.915Z"
   },
   {
    "duration": 1351,
    "start_time": "2023-02-03T16:51:34.622Z"
   },
   {
    "duration": 2,
    "start_time": "2023-02-03T16:51:35.975Z"
   },
   {
    "duration": 862,
    "start_time": "2023-02-03T16:51:35.979Z"
   },
   {
    "duration": 158,
    "start_time": "2023-02-03T16:51:36.843Z"
   },
   {
    "duration": 5,
    "start_time": "2023-02-03T16:51:37.003Z"
   },
   {
    "duration": 283,
    "start_time": "2023-02-03T16:51:37.010Z"
   },
   {
    "duration": 3,
    "start_time": "2023-02-03T16:51:37.295Z"
   },
   {
    "duration": 14,
    "start_time": "2023-02-03T16:51:37.299Z"
   },
   {
    "duration": 6,
    "start_time": "2023-02-03T16:51:37.314Z"
   },
   {
    "duration": 17,
    "start_time": "2023-02-03T16:51:37.321Z"
   },
   {
    "duration": 27,
    "start_time": "2023-02-03T16:51:37.340Z"
   },
   {
    "duration": 24,
    "start_time": "2023-02-03T16:51:37.369Z"
   },
   {
    "duration": 3,
    "start_time": "2023-02-03T16:51:37.395Z"
   },
   {
    "duration": 9,
    "start_time": "2023-02-03T16:51:37.400Z"
   },
   {
    "duration": 7,
    "start_time": "2023-02-03T16:51:37.437Z"
   },
   {
    "duration": 6,
    "start_time": "2023-02-03T16:51:37.445Z"
   },
   {
    "duration": 8,
    "start_time": "2023-02-03T16:51:37.453Z"
   },
   {
    "duration": 8,
    "start_time": "2023-02-03T16:51:37.463Z"
   },
   {
    "duration": 4,
    "start_time": "2023-02-03T16:51:37.473Z"
   },
   {
    "duration": 7,
    "start_time": "2023-02-03T16:51:37.478Z"
   },
   {
    "duration": 6,
    "start_time": "2023-02-03T16:51:37.486Z"
   },
   {
    "duration": 9,
    "start_time": "2023-02-03T16:51:37.494Z"
   },
   {
    "duration": 211,
    "start_time": "2023-02-03T16:51:37.504Z"
   },
   {
    "duration": 257,
    "start_time": "2023-02-03T16:51:37.717Z"
   },
   {
    "duration": 7,
    "start_time": "2023-02-03T16:51:37.976Z"
   },
   {
    "duration": 692,
    "start_time": "2023-02-03T16:51:37.985Z"
   },
   {
    "duration": 3,
    "start_time": "2023-02-03T16:51:38.679Z"
   },
   {
    "duration": 16,
    "start_time": "2023-02-03T16:51:38.684Z"
   },
   {
    "duration": 11,
    "start_time": "2023-02-03T16:51:38.702Z"
   },
   {
    "duration": 26,
    "start_time": "2023-02-03T16:51:38.715Z"
   },
   {
    "duration": 8,
    "start_time": "2023-02-03T16:51:38.743Z"
   },
   {
    "duration": 6,
    "start_time": "2023-02-03T16:51:38.752Z"
   },
   {
    "duration": 47,
    "start_time": "2023-02-03T16:51:38.759Z"
   },
   {
    "duration": 2,
    "start_time": "2023-02-03T16:51:38.808Z"
   },
   {
    "duration": 9,
    "start_time": "2023-02-03T16:52:01.025Z"
   },
   {
    "duration": 50,
    "start_time": "2023-02-03T16:52:05.736Z"
   },
   {
    "duration": 1299,
    "start_time": "2023-02-03T16:53:03.021Z"
   },
   {
    "duration": 3,
    "start_time": "2023-02-03T16:53:04.321Z"
   },
   {
    "duration": 885,
    "start_time": "2023-02-03T16:53:04.325Z"
   },
   {
    "duration": 154,
    "start_time": "2023-02-03T16:53:05.212Z"
   },
   {
    "duration": 4,
    "start_time": "2023-02-03T16:53:05.368Z"
   },
   {
    "duration": 289,
    "start_time": "2023-02-03T16:53:05.373Z"
   },
   {
    "duration": 3,
    "start_time": "2023-02-03T16:53:05.663Z"
   },
   {
    "duration": 14,
    "start_time": "2023-02-03T16:53:05.668Z"
   },
   {
    "duration": 7,
    "start_time": "2023-02-03T16:53:05.684Z"
   },
   {
    "duration": 22,
    "start_time": "2023-02-03T16:53:05.693Z"
   },
   {
    "duration": 42,
    "start_time": "2023-02-03T16:53:05.717Z"
   },
   {
    "duration": 24,
    "start_time": "2023-02-03T16:53:05.760Z"
   },
   {
    "duration": 3,
    "start_time": "2023-02-03T16:53:05.786Z"
   },
   {
    "duration": 7,
    "start_time": "2023-02-03T16:53:05.790Z"
   },
   {
    "duration": 14,
    "start_time": "2023-02-03T16:53:05.799Z"
   },
   {
    "duration": 9,
    "start_time": "2023-02-03T16:53:05.815Z"
   },
   {
    "duration": 9,
    "start_time": "2023-02-03T16:53:05.837Z"
   },
   {
    "duration": 9,
    "start_time": "2023-02-03T16:53:05.847Z"
   },
   {
    "duration": 5,
    "start_time": "2023-02-03T16:53:05.857Z"
   },
   {
    "duration": 10,
    "start_time": "2023-02-03T16:53:05.863Z"
   },
   {
    "duration": 13,
    "start_time": "2023-02-03T16:53:05.875Z"
   },
   {
    "duration": 7,
    "start_time": "2023-02-03T16:53:05.889Z"
   },
   {
    "duration": 226,
    "start_time": "2023-02-03T16:53:05.898Z"
   },
   {
    "duration": 265,
    "start_time": "2023-02-03T16:53:06.126Z"
   },
   {
    "duration": 7,
    "start_time": "2023-02-03T16:53:06.392Z"
   },
   {
    "duration": 672,
    "start_time": "2023-02-03T16:53:06.400Z"
   },
   {
    "duration": 3,
    "start_time": "2023-02-03T16:53:07.073Z"
   },
   {
    "duration": 4,
    "start_time": "2023-02-03T16:53:07.079Z"
   },
   {
    "duration": 9,
    "start_time": "2023-02-03T16:53:07.084Z"
   },
   {
    "duration": 19,
    "start_time": "2023-02-03T16:53:07.095Z"
   },
   {
    "duration": 2,
    "start_time": "2023-02-03T16:53:07.116Z"
   },
   {
    "duration": 48,
    "start_time": "2023-02-03T16:53:07.137Z"
   },
   {
    "duration": 7,
    "start_time": "2023-02-03T16:53:07.186Z"
   },
   {
    "duration": 8,
    "start_time": "2023-02-03T16:53:07.194Z"
   },
   {
    "duration": 104,
    "start_time": "2023-02-03T16:54:18.442Z"
   },
   {
    "duration": 6,
    "start_time": "2023-02-03T16:55:00.734Z"
   },
   {
    "duration": 3,
    "start_time": "2023-02-03T16:56:17.209Z"
   },
   {
    "duration": 7,
    "start_time": "2023-02-03T16:56:20.417Z"
   },
   {
    "duration": 6,
    "start_time": "2023-02-03T16:56:53.128Z"
   },
   {
    "duration": 9,
    "start_time": "2023-02-03T16:56:58.672Z"
   },
   {
    "duration": 6,
    "start_time": "2023-02-03T16:57:18.432Z"
   },
   {
    "duration": 16,
    "start_time": "2023-02-03T16:57:50.960Z"
   },
   {
    "duration": 13,
    "start_time": "2023-02-03T16:58:07.019Z"
   },
   {
    "duration": 8,
    "start_time": "2023-02-03T16:59:21.531Z"
   },
   {
    "duration": 5,
    "start_time": "2023-02-03T16:59:27.404Z"
   },
   {
    "duration": 6,
    "start_time": "2023-02-03T17:00:08.939Z"
   },
   {
    "duration": 7,
    "start_time": "2023-02-03T17:01:15.254Z"
   },
   {
    "duration": 7,
    "start_time": "2023-02-03T17:01:32.123Z"
   },
   {
    "duration": 1250,
    "start_time": "2023-02-03T17:02:17.276Z"
   },
   {
    "duration": 3,
    "start_time": "2023-02-03T17:02:18.528Z"
   },
   {
    "duration": 869,
    "start_time": "2023-02-03T17:02:18.533Z"
   },
   {
    "duration": 167,
    "start_time": "2023-02-03T17:02:19.405Z"
   },
   {
    "duration": 5,
    "start_time": "2023-02-03T17:02:19.574Z"
   },
   {
    "duration": 267,
    "start_time": "2023-02-03T17:02:19.580Z"
   },
   {
    "duration": 2,
    "start_time": "2023-02-03T17:02:19.849Z"
   },
   {
    "duration": 13,
    "start_time": "2023-02-03T17:02:19.852Z"
   },
   {
    "duration": 4,
    "start_time": "2023-02-03T17:02:19.866Z"
   },
   {
    "duration": 6,
    "start_time": "2023-02-03T17:02:19.872Z"
   },
   {
    "duration": 30,
    "start_time": "2023-02-03T17:02:19.879Z"
   },
   {
    "duration": 42,
    "start_time": "2023-02-03T17:02:19.910Z"
   },
   {
    "duration": 3,
    "start_time": "2023-02-03T17:02:19.953Z"
   },
   {
    "duration": 8,
    "start_time": "2023-02-03T17:02:19.957Z"
   },
   {
    "duration": 18,
    "start_time": "2023-02-03T17:02:19.967Z"
   },
   {
    "duration": 6,
    "start_time": "2023-02-03T17:02:19.986Z"
   },
   {
    "duration": 9,
    "start_time": "2023-02-03T17:02:19.993Z"
   },
   {
    "duration": 10,
    "start_time": "2023-02-03T17:02:20.003Z"
   },
   {
    "duration": 5,
    "start_time": "2023-02-03T17:02:20.015Z"
   },
   {
    "duration": 4,
    "start_time": "2023-02-03T17:02:20.037Z"
   },
   {
    "duration": 10,
    "start_time": "2023-02-03T17:02:20.043Z"
   },
   {
    "duration": 8,
    "start_time": "2023-02-03T17:02:20.055Z"
   },
   {
    "duration": 193,
    "start_time": "2023-02-03T17:02:20.064Z"
   },
   {
    "duration": 285,
    "start_time": "2023-02-03T17:02:20.259Z"
   },
   {
    "duration": 6,
    "start_time": "2023-02-03T17:02:20.546Z"
   },
   {
    "duration": 689,
    "start_time": "2023-02-03T17:02:20.553Z"
   },
   {
    "duration": 3,
    "start_time": "2023-02-03T17:02:21.244Z"
   },
   {
    "duration": 13,
    "start_time": "2023-02-03T17:02:21.249Z"
   },
   {
    "duration": 11,
    "start_time": "2023-02-03T17:02:21.263Z"
   },
   {
    "duration": 23,
    "start_time": "2023-02-03T17:02:21.276Z"
   },
   {
    "duration": 3,
    "start_time": "2023-02-03T17:02:21.301Z"
   },
   {
    "duration": 9,
    "start_time": "2023-02-03T17:02:21.305Z"
   },
   {
    "duration": 54,
    "start_time": "2023-02-03T17:02:28.945Z"
   },
   {
    "duration": 51,
    "start_time": "2023-02-03T17:02:54.486Z"
   },
   {
    "duration": 55,
    "start_time": "2023-02-03T17:03:21.380Z"
   },
   {
    "duration": 1404,
    "start_time": "2023-02-03T17:03:49.821Z"
   },
   {
    "duration": 3,
    "start_time": "2023-02-03T17:03:51.227Z"
   },
   {
    "duration": 917,
    "start_time": "2023-02-03T17:03:51.231Z"
   },
   {
    "duration": 163,
    "start_time": "2023-02-03T17:03:52.150Z"
   },
   {
    "duration": 6,
    "start_time": "2023-02-03T17:03:52.315Z"
   },
   {
    "duration": 332,
    "start_time": "2023-02-03T17:03:52.337Z"
   },
   {
    "duration": 4,
    "start_time": "2023-02-03T17:03:52.671Z"
   },
   {
    "duration": 17,
    "start_time": "2023-02-03T17:03:52.676Z"
   },
   {
    "duration": 6,
    "start_time": "2023-02-03T17:03:52.694Z"
   },
   {
    "duration": 6,
    "start_time": "2023-02-03T17:03:52.702Z"
   },
   {
    "duration": 48,
    "start_time": "2023-02-03T17:03:52.709Z"
   },
   {
    "duration": 25,
    "start_time": "2023-02-03T17:03:52.759Z"
   },
   {
    "duration": 3,
    "start_time": "2023-02-03T17:03:52.785Z"
   },
   {
    "duration": 9,
    "start_time": "2023-02-03T17:03:52.790Z"
   },
   {
    "duration": 10,
    "start_time": "2023-02-03T17:03:52.800Z"
   },
   {
    "duration": 26,
    "start_time": "2023-02-03T17:03:52.812Z"
   },
   {
    "duration": 9,
    "start_time": "2023-02-03T17:03:52.840Z"
   },
   {
    "duration": 8,
    "start_time": "2023-02-03T17:03:52.851Z"
   },
   {
    "duration": 5,
    "start_time": "2023-02-03T17:03:52.860Z"
   },
   {
    "duration": 7,
    "start_time": "2023-02-03T17:03:52.866Z"
   },
   {
    "duration": 5,
    "start_time": "2023-02-03T17:03:52.874Z"
   },
   {
    "duration": 4,
    "start_time": "2023-02-03T17:03:52.881Z"
   },
   {
    "duration": 212,
    "start_time": "2023-02-03T17:03:52.886Z"
   },
   {
    "duration": 256,
    "start_time": "2023-02-03T17:03:53.100Z"
   },
   {
    "duration": 7,
    "start_time": "2023-02-03T17:03:53.358Z"
   },
   {
    "duration": 694,
    "start_time": "2023-02-03T17:03:53.367Z"
   },
   {
    "duration": 3,
    "start_time": "2023-02-03T17:03:54.063Z"
   },
   {
    "duration": 3,
    "start_time": "2023-02-03T17:03:54.069Z"
   },
   {
    "duration": 9,
    "start_time": "2023-02-03T17:03:54.074Z"
   },
   {
    "duration": 21,
    "start_time": "2023-02-03T17:03:54.084Z"
   },
   {
    "duration": 3,
    "start_time": "2023-02-03T17:03:54.107Z"
   },
   {
    "duration": 4,
    "start_time": "2023-02-03T17:03:54.112Z"
   },
   {
    "duration": 3,
    "start_time": "2023-02-03T17:04:57.238Z"
   },
   {
    "duration": 10,
    "start_time": "2023-02-03T17:05:23.207Z"
   },
   {
    "duration": 5,
    "start_time": "2023-02-03T17:06:04.200Z"
   },
   {
    "duration": 10,
    "start_time": "2023-02-03T17:06:20.849Z"
   },
   {
    "duration": 11,
    "start_time": "2023-02-03T17:06:34.343Z"
   },
   {
    "duration": 8,
    "start_time": "2023-02-03T17:06:55.293Z"
   },
   {
    "duration": 102,
    "start_time": "2023-02-03T17:07:20.089Z"
   },
   {
    "duration": 34,
    "start_time": "2023-02-03T17:07:29.908Z"
   },
   {
    "duration": 8,
    "start_time": "2023-02-03T17:07:46.874Z"
   },
   {
    "duration": 16,
    "start_time": "2023-02-03T17:08:15.233Z"
   },
   {
    "duration": 358,
    "start_time": "2023-02-03T17:08:33.584Z"
   },
   {
    "duration": 16,
    "start_time": "2023-02-03T17:12:17.151Z"
   },
   {
    "duration": 4,
    "start_time": "2023-02-03T17:12:40.468Z"
   },
   {
    "duration": 14,
    "start_time": "2023-02-03T17:12:54.385Z"
   },
   {
    "duration": 11,
    "start_time": "2023-02-03T17:14:46.318Z"
   },
   {
    "duration": 9,
    "start_time": "2023-02-03T17:14:52.485Z"
   },
   {
    "duration": 49,
    "start_time": "2023-02-03T17:14:55.947Z"
   },
   {
    "duration": 15,
    "start_time": "2023-02-03T17:15:06.936Z"
   },
   {
    "duration": 56,
    "start_time": "2023-02-03T17:15:37.136Z"
   },
   {
    "duration": 246,
    "start_time": "2023-02-03T17:15:42.304Z"
   },
   {
    "duration": 4,
    "start_time": "2023-02-03T17:17:13.688Z"
   },
   {
    "duration": 7,
    "start_time": "2023-02-03T17:17:35.253Z"
   },
   {
    "duration": 194,
    "start_time": "2023-02-03T17:17:39.157Z"
   },
   {
    "duration": 3,
    "start_time": "2023-02-03T17:21:01.252Z"
   },
   {
    "duration": 3,
    "start_time": "2023-02-03T17:21:16.487Z"
   },
   {
    "duration": 2969,
    "start_time": "2023-02-03T17:21:21.970Z"
   },
   {
    "duration": 3,
    "start_time": "2023-02-03T17:21:52.915Z"
   },
   {
    "duration": 3,
    "start_time": "2023-02-03T17:21:53.726Z"
   },
   {
    "duration": 2314,
    "start_time": "2023-02-03T17:21:56.923Z"
   },
   {
    "duration": 2486,
    "start_time": "2023-02-03T17:22:17.356Z"
   },
   {
    "duration": 2652,
    "start_time": "2023-02-03T17:23:26.886Z"
   },
   {
    "duration": 2468,
    "start_time": "2023-02-03T17:24:01.369Z"
   },
   {
    "duration": 2751,
    "start_time": "2023-02-03T17:24:54.290Z"
   },
   {
    "duration": 3,
    "start_time": "2023-02-03T17:25:07.514Z"
   },
   {
    "duration": 4,
    "start_time": "2023-02-03T17:25:08.544Z"
   },
   {
    "duration": 42,
    "start_time": "2023-02-03T17:25:33.271Z"
   },
   {
    "duration": 4,
    "start_time": "2023-02-03T17:25:36.215Z"
   },
   {
    "duration": 5,
    "start_time": "2023-02-03T17:25:46.125Z"
   },
   {
    "duration": 2984,
    "start_time": "2023-02-03T17:28:23.160Z"
   },
   {
    "duration": 4,
    "start_time": "2023-02-03T17:28:26.626Z"
   },
   {
    "duration": 5,
    "start_time": "2023-02-03T17:28:27.627Z"
   },
   {
    "duration": 5,
    "start_time": "2023-02-03T17:29:31.680Z"
   },
   {
    "duration": 5,
    "start_time": "2023-02-03T17:29:32.912Z"
   },
   {
    "duration": 2028,
    "start_time": "2023-02-03T17:37:30.218Z"
   },
   {
    "duration": 4,
    "start_time": "2023-02-03T17:37:33.357Z"
   },
   {
    "duration": 4,
    "start_time": "2023-02-03T17:37:34.409Z"
   },
   {
    "duration": 2334,
    "start_time": "2023-02-03T17:38:12.005Z"
   },
   {
    "duration": 4,
    "start_time": "2023-02-03T17:38:15.799Z"
   },
   {
    "duration": 4,
    "start_time": "2023-02-03T17:38:16.389Z"
   },
   {
    "duration": 2693,
    "start_time": "2023-02-03T17:38:48.047Z"
   },
   {
    "duration": 4,
    "start_time": "2023-02-03T17:38:52.939Z"
   },
   {
    "duration": 4,
    "start_time": "2023-02-03T17:38:58.475Z"
   },
   {
    "duration": 3,
    "start_time": "2023-02-03T17:39:07.339Z"
   },
   {
    "duration": 4,
    "start_time": "2023-02-03T17:39:11.987Z"
   },
   {
    "duration": 4,
    "start_time": "2023-02-03T17:39:15.562Z"
   },
   {
    "duration": 5,
    "start_time": "2023-02-03T17:40:05.526Z"
   },
   {
    "duration": 10,
    "start_time": "2023-02-03T17:40:12.954Z"
   },
   {
    "duration": 2472,
    "start_time": "2023-02-03T17:40:26.865Z"
   },
   {
    "duration": 4,
    "start_time": "2023-02-03T17:40:30.076Z"
   },
   {
    "duration": 5,
    "start_time": "2023-02-03T17:40:30.873Z"
   },
   {
    "duration": 13,
    "start_time": "2023-02-03T17:41:40.467Z"
   },
   {
    "duration": 5,
    "start_time": "2023-02-03T17:41:52.556Z"
   },
   {
    "duration": 2793,
    "start_time": "2023-02-03T17:47:44.945Z"
   },
   {
    "duration": 2247,
    "start_time": "2023-02-03T17:49:03.790Z"
   },
   {
    "duration": 9,
    "start_time": "2023-02-03T17:49:06.679Z"
   },
   {
    "duration": 4,
    "start_time": "2023-02-03T17:49:09.921Z"
   },
   {
    "duration": 4,
    "start_time": "2023-02-03T17:49:12.090Z"
   },
   {
    "duration": 3,
    "start_time": "2023-02-03T17:49:13.375Z"
   },
   {
    "duration": 4,
    "start_time": "2023-02-03T17:53:42.151Z"
   },
   {
    "duration": 3,
    "start_time": "2023-02-03T17:53:42.710Z"
   },
   {
    "duration": 2819,
    "start_time": "2023-02-03T17:53:43.320Z"
   },
   {
    "duration": 4,
    "start_time": "2023-02-03T17:53:49.299Z"
   },
   {
    "duration": 5,
    "start_time": "2023-02-03T17:53:50.400Z"
   },
   {
    "duration": 4,
    "start_time": "2023-02-03T17:53:51.517Z"
   },
   {
    "duration": 10,
    "start_time": "2023-02-03T17:54:55.045Z"
   },
   {
    "duration": 21,
    "start_time": "2023-02-03T17:55:01.053Z"
   },
   {
    "duration": 7566,
    "start_time": "2023-02-03T17:55:04.410Z"
   },
   {
    "duration": 4,
    "start_time": "2023-02-03T17:55:20.170Z"
   },
   {
    "duration": 5486,
    "start_time": "2023-02-03T17:57:49.454Z"
   },
   {
    "duration": 4,
    "start_time": "2023-02-03T17:57:55.993Z"
   },
   {
    "duration": 3,
    "start_time": "2023-02-03T17:57:56.901Z"
   },
   {
    "duration": 4,
    "start_time": "2023-02-03T17:57:58.055Z"
   },
   {
    "duration": 5,
    "start_time": "2023-02-03T17:57:58.999Z"
   },
   {
    "duration": 15,
    "start_time": "2023-02-03T18:05:19.917Z"
   },
   {
    "duration": 3,
    "start_time": "2023-02-03T18:08:10.685Z"
   },
   {
    "duration": 3,
    "start_time": "2023-02-03T18:08:11.532Z"
   },
   {
    "duration": 5962,
    "start_time": "2023-02-03T18:08:13.077Z"
   },
   {
    "duration": 3,
    "start_time": "2023-02-03T18:08:22.911Z"
   },
   {
    "duration": 4,
    "start_time": "2023-02-03T18:08:23.894Z"
   },
   {
    "duration": 4,
    "start_time": "2023-02-03T18:08:24.727Z"
   },
   {
    "duration": 1583,
    "start_time": "2023-02-04T05:11:35.174Z"
   },
   {
    "duration": 3,
    "start_time": "2023-02-04T05:11:36.760Z"
   },
   {
    "duration": 1939,
    "start_time": "2023-02-04T05:11:36.765Z"
   },
   {
    "duration": 154,
    "start_time": "2023-02-04T05:11:38.706Z"
   },
   {
    "duration": 4,
    "start_time": "2023-02-04T05:11:38.862Z"
   },
   {
    "duration": 259,
    "start_time": "2023-02-04T05:11:38.868Z"
   },
   {
    "duration": 4,
    "start_time": "2023-02-04T05:11:39.128Z"
   },
   {
    "duration": 13,
    "start_time": "2023-02-04T05:11:39.133Z"
   },
   {
    "duration": 6,
    "start_time": "2023-02-04T05:11:39.147Z"
   },
   {
    "duration": 5,
    "start_time": "2023-02-04T05:11:39.154Z"
   },
   {
    "duration": 57,
    "start_time": "2023-02-04T05:11:39.160Z"
   },
   {
    "duration": 23,
    "start_time": "2023-02-04T05:11:39.218Z"
   },
   {
    "duration": 3,
    "start_time": "2023-02-04T05:11:39.242Z"
   },
   {
    "duration": 5,
    "start_time": "2023-02-04T05:11:39.247Z"
   },
   {
    "duration": 9,
    "start_time": "2023-02-04T05:11:39.253Z"
   },
   {
    "duration": 5,
    "start_time": "2023-02-04T05:11:39.264Z"
   },
   {
    "duration": 7,
    "start_time": "2023-02-04T05:11:39.270Z"
   },
   {
    "duration": 36,
    "start_time": "2023-02-04T05:11:39.279Z"
   },
   {
    "duration": 4,
    "start_time": "2023-02-04T05:11:39.317Z"
   },
   {
    "duration": 8,
    "start_time": "2023-02-04T05:11:39.323Z"
   },
   {
    "duration": 4,
    "start_time": "2023-02-04T05:11:39.333Z"
   },
   {
    "duration": 5,
    "start_time": "2023-02-04T05:11:39.338Z"
   },
   {
    "duration": 214,
    "start_time": "2023-02-04T05:11:39.344Z"
   },
   {
    "duration": 234,
    "start_time": "2023-02-04T05:11:39.559Z"
   },
   {
    "duration": 16,
    "start_time": "2023-02-04T05:11:39.794Z"
   },
   {
    "duration": 603,
    "start_time": "2023-02-04T05:11:39.811Z"
   },
   {
    "duration": 2,
    "start_time": "2023-02-04T05:11:40.416Z"
   },
   {
    "duration": 6,
    "start_time": "2023-02-04T05:11:40.419Z"
   },
   {
    "duration": 6,
    "start_time": "2023-02-04T05:11:40.426Z"
   },
   {
    "duration": 18,
    "start_time": "2023-02-04T05:11:40.433Z"
   },
   {
    "duration": 2,
    "start_time": "2023-02-04T05:11:40.453Z"
   },
   {
    "duration": 9,
    "start_time": "2023-02-04T05:11:40.456Z"
   },
   {
    "duration": 9,
    "start_time": "2023-02-04T05:11:40.466Z"
   },
   {
    "duration": 70,
    "start_time": "2023-02-04T05:11:40.477Z"
   },
   {
    "duration": 4,
    "start_time": "2023-02-04T05:11:40.549Z"
   },
   {
    "duration": 12,
    "start_time": "2023-02-04T05:11:40.555Z"
   },
   {
    "duration": 13,
    "start_time": "2023-02-04T05:11:40.568Z"
   },
   {
    "duration": 5330,
    "start_time": "2023-02-04T05:11:40.583Z"
   },
   {
    "duration": 277,
    "start_time": "2023-02-04T05:11:45.915Z"
   },
   {
    "duration": 0,
    "start_time": "2023-02-04T05:11:46.193Z"
   },
   {
    "duration": 0,
    "start_time": "2023-02-04T05:11:46.194Z"
   },
   {
    "duration": 0,
    "start_time": "2023-02-04T05:11:46.195Z"
   },
   {
    "duration": 4,
    "start_time": "2023-02-04T05:11:59.167Z"
   },
   {
    "duration": 3,
    "start_time": "2023-02-04T05:12:00.548Z"
   },
   {
    "duration": 9,
    "start_time": "2023-02-04T05:12:02.531Z"
   },
   {
    "duration": 5,
    "start_time": "2023-02-04T05:12:23.472Z"
   },
   {
    "duration": 4,
    "start_time": "2023-02-04T05:12:35.335Z"
   },
   {
    "duration": 6,
    "start_time": "2023-02-04T05:12:56.518Z"
   },
   {
    "duration": 4,
    "start_time": "2023-02-04T05:13:31.941Z"
   },
   {
    "duration": 5875,
    "start_time": "2023-02-04T05:13:33.237Z"
   },
   {
    "duration": 4,
    "start_time": "2023-02-04T05:13:39.939Z"
   },
   {
    "duration": 4,
    "start_time": "2023-02-04T05:13:40.697Z"
   },
   {
    "duration": 4,
    "start_time": "2023-02-04T05:13:41.557Z"
   },
   {
    "duration": 4,
    "start_time": "2023-02-04T05:13:42.548Z"
   },
   {
    "duration": 4,
    "start_time": "2023-02-04T05:14:11.169Z"
   },
   {
    "duration": 2765,
    "start_time": "2023-02-04T05:14:23.364Z"
   },
   {
    "duration": 4,
    "start_time": "2023-02-04T05:14:27.105Z"
   },
   {
    "duration": 5,
    "start_time": "2023-02-04T05:14:28.649Z"
   },
   {
    "duration": 3,
    "start_time": "2023-02-04T05:14:30.935Z"
   },
   {
    "duration": 4,
    "start_time": "2023-02-04T05:14:32.280Z"
   },
   {
    "duration": 5,
    "start_time": "2023-02-04T05:14:33.325Z"
   },
   {
    "duration": 1730,
    "start_time": "2023-02-04T05:14:39.482Z"
   },
   {
    "duration": 4,
    "start_time": "2023-02-04T05:14:42.647Z"
   },
   {
    "duration": 4,
    "start_time": "2023-02-04T05:14:43.929Z"
   },
   {
    "duration": 4,
    "start_time": "2023-02-04T05:14:45.605Z"
   },
   {
    "duration": 5,
    "start_time": "2023-02-04T05:14:46.613Z"
   },
   {
    "duration": 4,
    "start_time": "2023-02-04T05:14:47.488Z"
   },
   {
    "duration": 6420,
    "start_time": "2023-02-04T05:15:02.693Z"
   },
   {
    "duration": 4,
    "start_time": "2023-02-04T05:15:11.692Z"
   },
   {
    "duration": 4,
    "start_time": "2023-02-04T05:15:15.165Z"
   },
   {
    "duration": 4,
    "start_time": "2023-02-04T05:15:18.055Z"
   },
   {
    "duration": 4,
    "start_time": "2023-02-04T05:15:19.146Z"
   },
   {
    "duration": 4,
    "start_time": "2023-02-04T05:15:21.640Z"
   },
   {
    "duration": 1343,
    "start_time": "2023-02-04T05:16:00.894Z"
   },
   {
    "duration": 2,
    "start_time": "2023-02-04T05:16:04.251Z"
   },
   {
    "duration": 964,
    "start_time": "2023-02-04T05:16:37.692Z"
   },
   {
    "duration": 242,
    "start_time": "2023-02-04T05:16:40.055Z"
   },
   {
    "duration": 8,
    "start_time": "2023-02-04T05:16:50.039Z"
   },
   {
    "duration": 260,
    "start_time": "2023-02-04T05:17:03.418Z"
   },
   {
    "duration": 3,
    "start_time": "2023-02-04T05:17:11.615Z"
   },
   {
    "duration": 9,
    "start_time": "2023-02-04T05:17:14.405Z"
   },
   {
    "duration": 5,
    "start_time": "2023-02-04T05:17:25.470Z"
   },
   {
    "duration": 4,
    "start_time": "2023-02-04T05:17:33.820Z"
   },
   {
    "duration": 31,
    "start_time": "2023-02-04T05:17:43.554Z"
   },
   {
    "duration": 23,
    "start_time": "2023-02-04T05:17:45.781Z"
   },
   {
    "duration": 3,
    "start_time": "2023-02-04T05:17:54.549Z"
   },
   {
    "duration": 5,
    "start_time": "2023-02-04T05:18:24.145Z"
   },
   {
    "duration": 8,
    "start_time": "2023-02-04T05:18:47.184Z"
   },
   {
    "duration": 6,
    "start_time": "2023-02-04T05:18:49.367Z"
   },
   {
    "duration": 8,
    "start_time": "2023-02-04T05:19:39.444Z"
   },
   {
    "duration": 6,
    "start_time": "2023-02-04T05:20:29.357Z"
   },
   {
    "duration": 8,
    "start_time": "2023-02-04T05:23:37.856Z"
   },
   {
    "duration": 8,
    "start_time": "2023-02-04T05:23:50.016Z"
   },
   {
    "duration": 4,
    "start_time": "2023-02-04T05:23:56.327Z"
   },
   {
    "duration": 4,
    "start_time": "2023-02-04T05:23:58.300Z"
   },
   {
    "duration": 5,
    "start_time": "2023-02-04T05:23:59.142Z"
   },
   {
    "duration": 3,
    "start_time": "2023-02-04T05:24:00.601Z"
   },
   {
    "duration": 191,
    "start_time": "2023-02-04T05:24:01.567Z"
   },
   {
    "duration": 248,
    "start_time": "2023-02-04T05:24:19.128Z"
   },
   {
    "duration": 6,
    "start_time": "2023-02-04T05:24:43.792Z"
   },
   {
    "duration": 639,
    "start_time": "2023-02-04T05:24:47.525Z"
   },
   {
    "duration": 4,
    "start_time": "2023-02-04T05:25:29.774Z"
   },
   {
    "duration": 2,
    "start_time": "2023-02-04T05:25:30.442Z"
   },
   {
    "duration": 7,
    "start_time": "2023-02-04T05:25:43.317Z"
   },
   {
    "duration": 16,
    "start_time": "2023-02-04T05:25:53.775Z"
   },
   {
    "duration": 5172,
    "start_time": "2023-02-04T05:26:39.641Z"
   },
   {
    "duration": 5,
    "start_time": "2023-02-04T05:26:48.023Z"
   },
   {
    "duration": 5,
    "start_time": "2023-02-04T05:26:50.693Z"
   },
   {
    "duration": 4,
    "start_time": "2023-02-04T05:26:52.140Z"
   },
   {
    "duration": 4,
    "start_time": "2023-02-04T05:26:53.503Z"
   },
   {
    "duration": 4,
    "start_time": "2023-02-04T05:26:58.335Z"
   },
   {
    "duration": 3,
    "start_time": "2023-02-04T05:27:18.649Z"
   },
   {
    "duration": 10,
    "start_time": "2023-02-04T05:27:20.052Z"
   },
   {
    "duration": 15,
    "start_time": "2023-02-04T05:27:21.924Z"
   },
   {
    "duration": 59,
    "start_time": "2023-02-04T05:27:23.740Z"
   },
   {
    "duration": 5,
    "start_time": "2023-02-04T05:27:40.405Z"
   },
   {
    "duration": 6716,
    "start_time": "2023-02-04T05:27:44.506Z"
   },
   {
    "duration": 4,
    "start_time": "2023-02-04T05:27:53.434Z"
   },
   {
    "duration": 4,
    "start_time": "2023-02-04T05:27:57.130Z"
   },
   {
    "duration": 4,
    "start_time": "2023-02-04T05:27:58.882Z"
   },
   {
    "duration": 4,
    "start_time": "2023-02-04T05:27:59.693Z"
   },
   {
    "duration": 4,
    "start_time": "2023-02-04T05:28:00.814Z"
   },
   {
    "duration": 1371,
    "start_time": "2023-02-04T05:28:39.577Z"
   },
   {
    "duration": 3,
    "start_time": "2023-02-04T05:28:40.950Z"
   },
   {
    "duration": 899,
    "start_time": "2023-02-04T05:28:40.955Z"
   },
   {
    "duration": 163,
    "start_time": "2023-02-04T05:28:41.855Z"
   },
   {
    "duration": 5,
    "start_time": "2023-02-04T05:28:42.020Z"
   },
   {
    "duration": 263,
    "start_time": "2023-02-04T05:28:42.026Z"
   },
   {
    "duration": 3,
    "start_time": "2023-02-04T05:28:42.290Z"
   },
   {
    "duration": 23,
    "start_time": "2023-02-04T05:28:42.294Z"
   },
   {
    "duration": 5,
    "start_time": "2023-02-04T05:28:42.319Z"
   },
   {
    "duration": 4,
    "start_time": "2023-02-04T05:28:42.326Z"
   },
   {
    "duration": 26,
    "start_time": "2023-02-04T05:28:42.331Z"
   },
   {
    "duration": 52,
    "start_time": "2023-02-04T05:28:42.359Z"
   },
   {
    "duration": 3,
    "start_time": "2023-02-04T05:28:42.413Z"
   },
   {
    "duration": 7,
    "start_time": "2023-02-04T05:28:42.419Z"
   },
   {
    "duration": 14,
    "start_time": "2023-02-04T05:28:42.428Z"
   },
   {
    "duration": 7,
    "start_time": "2023-02-04T05:28:42.444Z"
   },
   {
    "duration": 15,
    "start_time": "2023-02-04T05:28:42.453Z"
   },
   {
    "duration": 10,
    "start_time": "2023-02-04T05:28:42.470Z"
   },
   {
    "duration": 32,
    "start_time": "2023-02-04T05:28:42.481Z"
   },
   {
    "duration": 10,
    "start_time": "2023-02-04T05:28:42.515Z"
   },
   {
    "duration": 7,
    "start_time": "2023-02-04T05:28:42.527Z"
   },
   {
    "duration": 5,
    "start_time": "2023-02-04T05:28:42.535Z"
   },
   {
    "duration": 201,
    "start_time": "2023-02-04T05:28:42.541Z"
   },
   {
    "duration": 251,
    "start_time": "2023-02-04T05:28:42.744Z"
   },
   {
    "duration": 14,
    "start_time": "2023-02-04T05:28:42.997Z"
   },
   {
    "duration": 687,
    "start_time": "2023-02-04T05:28:43.013Z"
   },
   {
    "duration": 3,
    "start_time": "2023-02-04T05:28:43.709Z"
   },
   {
    "duration": 10,
    "start_time": "2023-02-04T05:28:43.714Z"
   },
   {
    "duration": 10,
    "start_time": "2023-02-04T05:28:43.725Z"
   },
   {
    "duration": 19,
    "start_time": "2023-02-04T05:28:43.736Z"
   },
   {
    "duration": 2,
    "start_time": "2023-02-04T05:28:43.757Z"
   },
   {
    "duration": 7,
    "start_time": "2023-02-04T05:28:43.761Z"
   },
   {
    "duration": 13,
    "start_time": "2023-02-04T05:28:43.769Z"
   },
   {
    "duration": 6,
    "start_time": "2023-02-04T05:28:43.783Z"
   },
   {
    "duration": 22,
    "start_time": "2023-02-04T05:28:43.791Z"
   },
   {
    "duration": 6197,
    "start_time": "2023-02-04T05:28:43.815Z"
   },
   {
    "duration": 5,
    "start_time": "2023-02-04T05:28:50.017Z"
   },
   {
    "duration": 93,
    "start_time": "2023-02-04T05:28:50.024Z"
   },
   {
    "duration": 4,
    "start_time": "2023-02-04T05:28:50.119Z"
   },
   {
    "duration": 9,
    "start_time": "2023-02-04T05:28:50.125Z"
   },
   {
    "duration": 6,
    "start_time": "2023-02-04T05:28:50.138Z"
   },
   {
    "duration": 1328,
    "start_time": "2023-02-04T05:41:31.594Z"
   },
   {
    "duration": 2,
    "start_time": "2023-02-04T05:41:33.639Z"
   },
   {
    "duration": 826,
    "start_time": "2023-02-04T05:42:45.393Z"
   },
   {
    "duration": 145,
    "start_time": "2023-02-04T05:42:52.326Z"
   },
   {
    "duration": 11,
    "start_time": "2023-02-04T05:42:57.095Z"
   },
   {
    "duration": 248,
    "start_time": "2023-02-04T05:43:00.755Z"
   },
   {
    "duration": 3,
    "start_time": "2023-02-04T05:44:00.377Z"
   },
   {
    "duration": 8,
    "start_time": "2023-02-04T05:44:01.633Z"
   },
   {
    "duration": 5,
    "start_time": "2023-02-04T05:44:03.295Z"
   },
   {
    "duration": 4,
    "start_time": "2023-02-04T05:44:11.006Z"
   },
   {
    "duration": 8,
    "start_time": "2023-02-04T05:46:39.222Z"
   },
   {
    "duration": 7,
    "start_time": "2023-02-04T05:47:05.733Z"
   },
   {
    "duration": 9,
    "start_time": "2023-02-04T05:47:14.874Z"
   },
   {
    "duration": 10,
    "start_time": "2023-02-04T05:47:42.395Z"
   },
   {
    "duration": 8,
    "start_time": "2023-02-04T05:47:49.353Z"
   },
   {
    "duration": 10,
    "start_time": "2023-02-04T05:48:53.585Z"
   },
   {
    "duration": 14,
    "start_time": "2023-02-04T05:49:47.244Z"
   },
   {
    "duration": 5,
    "start_time": "2023-02-04T05:50:50.527Z"
   },
   {
    "duration": 5,
    "start_time": "2023-02-04T05:50:51.070Z"
   },
   {
    "duration": 5,
    "start_time": "2023-02-04T05:50:51.557Z"
   },
   {
    "duration": 3,
    "start_time": "2023-02-04T05:51:12.331Z"
   },
   {
    "duration": 4,
    "start_time": "2023-02-04T05:52:26.047Z"
   },
   {
    "duration": 198,
    "start_time": "2023-02-04T05:52:27.952Z"
   },
   {
    "duration": 267,
    "start_time": "2023-02-04T05:55:59.797Z"
   },
   {
    "duration": 7,
    "start_time": "2023-02-04T05:57:53.939Z"
   },
   {
    "duration": 653,
    "start_time": "2023-02-04T05:57:54.677Z"
   },
   {
    "duration": 15,
    "start_time": "2023-02-04T06:04:51.396Z"
   },
   {
    "duration": 621,
    "start_time": "2023-02-04T06:05:17.520Z"
   },
   {
    "duration": 25,
    "start_time": "2023-02-04T06:08:24.308Z"
   },
   {
    "duration": 17,
    "start_time": "2023-02-04T06:08:30.970Z"
   },
   {
    "duration": 6,
    "start_time": "2023-02-04T06:10:34.800Z"
   },
   {
    "duration": 4,
    "start_time": "2023-02-04T06:10:49.317Z"
   },
   {
    "duration": 3,
    "start_time": "2023-02-04T06:10:49.949Z"
   },
   {
    "duration": 7,
    "start_time": "2023-02-04T06:12:55.307Z"
   },
   {
    "duration": 30,
    "start_time": "2023-02-04T06:16:01.841Z"
   },
   {
    "duration": 8618,
    "start_time": "2023-02-04T06:16:14.403Z"
   },
   {
    "duration": 4,
    "start_time": "2023-02-04T06:16:25.204Z"
   },
   {
    "duration": 5,
    "start_time": "2023-02-04T06:16:28.161Z"
   },
   {
    "duration": 4,
    "start_time": "2023-02-04T06:16:29.308Z"
   },
   {
    "duration": 4,
    "start_time": "2023-02-04T06:16:30.321Z"
   },
   {
    "duration": 5,
    "start_time": "2023-02-04T06:16:31.340Z"
   },
   {
    "duration": 4348,
    "start_time": "2023-02-04T06:16:45.461Z"
   },
   {
    "duration": 5,
    "start_time": "2023-02-04T06:16:51.598Z"
   },
   {
    "duration": 5,
    "start_time": "2023-02-04T06:16:53.285Z"
   },
   {
    "duration": 4,
    "start_time": "2023-02-04T06:16:54.112Z"
   },
   {
    "duration": 8,
    "start_time": "2023-02-04T06:16:54.893Z"
   },
   {
    "duration": 5,
    "start_time": "2023-02-04T06:16:55.702Z"
   },
   {
    "duration": 2128,
    "start_time": "2023-02-04T06:23:30.793Z"
   },
   {
    "duration": 3713,
    "start_time": "2023-02-04T06:27:18.104Z"
   },
   {
    "duration": 4,
    "start_time": "2023-02-04T06:28:41.996Z"
   },
   {
    "duration": 4,
    "start_time": "2023-02-04T06:30:45.407Z"
   },
   {
    "duration": 3,
    "start_time": "2023-02-04T06:30:56.342Z"
   },
   {
    "duration": 3,
    "start_time": "2023-02-04T06:30:57.669Z"
   },
   {
    "duration": 1319,
    "start_time": "2023-02-04T06:32:22.395Z"
   },
   {
    "duration": 6,
    "start_time": "2023-02-04T06:34:53.094Z"
   },
   {
    "duration": 8,
    "start_time": "2023-02-04T06:34:56.521Z"
   },
   {
    "duration": 5,
    "start_time": "2023-02-04T06:35:46.375Z"
   },
   {
    "duration": 14,
    "start_time": "2023-02-04T06:36:41.745Z"
   },
   {
    "duration": 13,
    "start_time": "2023-02-04T06:37:03.948Z"
   },
   {
    "duration": 10,
    "start_time": "2023-02-04T06:37:52.267Z"
   },
   {
    "duration": 7,
    "start_time": "2023-02-04T06:38:12.958Z"
   },
   {
    "duration": 12,
    "start_time": "2023-02-04T06:38:24.242Z"
   },
   {
    "duration": 3,
    "start_time": "2023-02-04T06:38:36.103Z"
   },
   {
    "duration": 4,
    "start_time": "2023-02-04T06:38:52.464Z"
   },
   {
    "duration": 1399,
    "start_time": "2023-02-04T06:40:27.344Z"
   },
   {
    "duration": 2,
    "start_time": "2023-02-04T06:40:29.466Z"
   },
   {
    "duration": 914,
    "start_time": "2023-02-04T06:40:30.592Z"
   },
   {
    "duration": 148,
    "start_time": "2023-02-04T06:40:32.062Z"
   },
   {
    "duration": 6,
    "start_time": "2023-02-04T06:40:33.976Z"
   },
   {
    "duration": 257,
    "start_time": "2023-02-04T06:40:35.685Z"
   },
   {
    "duration": 3,
    "start_time": "2023-02-04T06:40:38.290Z"
   },
   {
    "duration": 10,
    "start_time": "2023-02-04T06:40:39.484Z"
   },
   {
    "duration": 6,
    "start_time": "2023-02-04T06:40:40.763Z"
   },
   {
    "duration": 4,
    "start_time": "2023-02-04T06:40:42.266Z"
   },
   {
    "duration": 3,
    "start_time": "2023-02-04T06:40:44.284Z"
   },
   {
    "duration": 6,
    "start_time": "2023-02-04T06:40:46.136Z"
   },
   {
    "duration": 7,
    "start_time": "2023-02-04T06:40:47.543Z"
   },
   {
    "duration": 7,
    "start_time": "2023-02-04T06:40:48.949Z"
   },
   {
    "duration": 15,
    "start_time": "2023-02-04T06:40:51.182Z"
   },
   {
    "duration": 5,
    "start_time": "2023-02-04T06:40:53.645Z"
   },
   {
    "duration": 4,
    "start_time": "2023-02-04T06:40:54.324Z"
   },
   {
    "duration": 5,
    "start_time": "2023-02-04T06:40:54.892Z"
   },
   {
    "duration": 3,
    "start_time": "2023-02-04T06:40:55.781Z"
   },
   {
    "duration": 215,
    "start_time": "2023-02-04T06:40:56.867Z"
   },
   {
    "duration": 246,
    "start_time": "2023-02-04T06:40:59.825Z"
   },
   {
    "duration": 14,
    "start_time": "2023-02-04T06:41:06.626Z"
   },
   {
    "duration": 653,
    "start_time": "2023-02-04T06:41:07.703Z"
   },
   {
    "duration": 19,
    "start_time": "2023-02-04T06:41:11.961Z"
   },
   {
    "duration": 6,
    "start_time": "2023-02-04T06:41:17.028Z"
   },
   {
    "duration": 3,
    "start_time": "2023-02-04T06:41:18.485Z"
   },
   {
    "duration": 3,
    "start_time": "2023-02-04T06:41:19.139Z"
   },
   {
    "duration": 5,
    "start_time": "2023-02-04T06:41:20.185Z"
   },
   {
    "duration": 23,
    "start_time": "2023-02-04T06:41:21.425Z"
   },
   {
    "duration": 3968,
    "start_time": "2023-02-04T06:41:22.650Z"
   },
   {
    "duration": 3,
    "start_time": "2023-02-04T06:41:27.458Z"
   },
   {
    "duration": 4,
    "start_time": "2023-02-04T06:41:30.278Z"
   },
   {
    "duration": 451,
    "start_time": "2023-02-04T06:41:31.566Z"
   },
   {
    "duration": 9,
    "start_time": "2023-02-04T06:41:34.316Z"
   },
   {
    "duration": 13,
    "start_time": "2023-02-04T06:41:34.973Z"
   },
   {
    "duration": 4,
    "start_time": "2023-02-04T06:41:35.621Z"
   },
   {
    "duration": 5,
    "start_time": "2023-02-04T06:41:36.738Z"
   },
   {
    "duration": 1381,
    "start_time": "2023-02-04T06:42:21.988Z"
   },
   {
    "duration": 3,
    "start_time": "2023-02-04T06:42:24.101Z"
   },
   {
    "duration": 909,
    "start_time": "2023-02-04T06:42:24.859Z"
   },
   {
    "duration": 151,
    "start_time": "2023-02-04T06:42:26.289Z"
   },
   {
    "duration": 6,
    "start_time": "2023-02-04T06:42:28.298Z"
   },
   {
    "duration": 285,
    "start_time": "2023-02-04T06:42:31.953Z"
   },
   {
    "duration": 3,
    "start_time": "2023-02-04T06:42:34.734Z"
   },
   {
    "duration": 9,
    "start_time": "2023-02-04T06:42:35.865Z"
   },
   {
    "duration": 6,
    "start_time": "2023-02-04T06:42:37.424Z"
   },
   {
    "duration": 3,
    "start_time": "2023-02-04T06:42:38.603Z"
   },
   {
    "duration": 3,
    "start_time": "2023-02-04T06:42:40.286Z"
   },
   {
    "duration": 1383,
    "start_time": "2023-02-04T06:46:48.739Z"
   },
   {
    "duration": 3,
    "start_time": "2023-02-04T06:46:50.125Z"
   },
   {
    "duration": 919,
    "start_time": "2023-02-04T06:46:50.129Z"
   },
   {
    "duration": 175,
    "start_time": "2023-02-04T06:46:51.049Z"
   },
   {
    "duration": 6,
    "start_time": "2023-02-04T06:46:51.228Z"
   },
   {
    "duration": 264,
    "start_time": "2023-02-04T06:46:51.236Z"
   },
   {
    "duration": 3,
    "start_time": "2023-02-04T06:46:51.502Z"
   },
   {
    "duration": 37,
    "start_time": "2023-02-04T06:46:51.506Z"
   },
   {
    "duration": 9,
    "start_time": "2023-02-04T06:46:51.544Z"
   },
   {
    "duration": 11,
    "start_time": "2023-02-04T06:46:51.554Z"
   },
   {
    "duration": 14,
    "start_time": "2023-02-04T06:46:51.566Z"
   },
   {
    "duration": 16,
    "start_time": "2023-02-04T06:46:51.582Z"
   },
   {
    "duration": 31,
    "start_time": "2023-02-04T06:46:51.599Z"
   },
   {
    "duration": 15,
    "start_time": "2023-02-04T06:46:51.633Z"
   },
   {
    "duration": 19,
    "start_time": "2023-02-04T06:46:51.650Z"
   },
   {
    "duration": 15,
    "start_time": "2023-02-04T06:46:51.670Z"
   },
   {
    "duration": 20,
    "start_time": "2023-02-04T06:46:51.686Z"
   },
   {
    "duration": 20,
    "start_time": "2023-02-04T06:46:51.708Z"
   },
   {
    "duration": 212,
    "start_time": "2023-02-04T06:46:51.730Z"
   },
   {
    "duration": 253,
    "start_time": "2023-02-04T06:46:51.943Z"
   },
   {
    "duration": 26,
    "start_time": "2023-02-04T06:46:52.197Z"
   },
   {
    "duration": 680,
    "start_time": "2023-02-04T06:46:52.225Z"
   },
   {
    "duration": 31,
    "start_time": "2023-02-04T06:46:52.907Z"
   },
   {
    "duration": 6,
    "start_time": "2023-02-04T06:46:52.940Z"
   },
   {
    "duration": 15,
    "start_time": "2023-02-04T06:46:52.948Z"
   },
   {
    "duration": 18,
    "start_time": "2023-02-04T06:46:52.965Z"
   },
   {
    "duration": 8,
    "start_time": "2023-02-04T06:46:52.987Z"
   },
   {
    "duration": 43,
    "start_time": "2023-02-04T06:46:52.997Z"
   },
   {
    "duration": 8968,
    "start_time": "2023-02-04T06:46:53.042Z"
   },
   {
    "duration": 9,
    "start_time": "2023-02-04T06:47:02.013Z"
   },
   {
    "duration": 86,
    "start_time": "2023-02-04T06:47:02.024Z"
   },
   {
    "duration": 2213,
    "start_time": "2023-02-04T06:47:02.111Z"
   },
   {
    "duration": 106,
    "start_time": "2023-02-04T06:47:04.325Z"
   },
   {
    "duration": 205,
    "start_time": "2023-02-04T06:47:04.432Z"
   },
   {
    "duration": 0,
    "start_time": "2023-02-04T06:47:04.639Z"
   },
   {
    "duration": 12,
    "start_time": "2023-02-04T07:18:49.522Z"
   },
   {
    "duration": 54,
    "start_time": "2023-02-04T07:20:40.577Z"
   },
   {
    "duration": 51,
    "start_time": "2023-02-04T07:21:03.653Z"
   },
   {
    "duration": 49,
    "start_time": "2023-02-04T07:21:12.134Z"
   },
   {
    "duration": 4,
    "start_time": "2023-02-04T07:21:24.929Z"
   },
   {
    "duration": 8508,
    "start_time": "2023-02-04T07:21:29.029Z"
   },
   {
    "duration": 5,
    "start_time": "2023-02-04T07:21:42.728Z"
   },
   {
    "duration": 79,
    "start_time": "2023-02-04T07:21:51.909Z"
   },
   {
    "duration": 6,
    "start_time": "2023-02-04T07:22:05.888Z"
   },
   {
    "duration": 59,
    "start_time": "2023-02-04T07:22:14.273Z"
   },
   {
    "duration": 59,
    "start_time": "2023-02-04T07:22:25.092Z"
   },
   {
    "duration": 58,
    "start_time": "2023-02-04T07:22:46.173Z"
   },
   {
    "duration": 8966,
    "start_time": "2023-02-04T07:23:11.757Z"
   },
   {
    "duration": 5,
    "start_time": "2023-02-04T07:23:26.596Z"
   },
   {
    "duration": 5,
    "start_time": "2023-02-04T07:23:36.329Z"
   },
   {
    "duration": 5,
    "start_time": "2023-02-04T07:23:47.834Z"
   },
   {
    "duration": 1419,
    "start_time": "2023-02-04T07:24:00.636Z"
   },
   {
    "duration": 4,
    "start_time": "2023-02-04T07:24:02.057Z"
   },
   {
    "duration": 1012,
    "start_time": "2023-02-04T07:24:02.063Z"
   },
   {
    "duration": 190,
    "start_time": "2023-02-04T07:24:03.077Z"
   },
   {
    "duration": 9,
    "start_time": "2023-02-04T07:24:03.270Z"
   },
   {
    "duration": 313,
    "start_time": "2023-02-04T07:24:03.281Z"
   },
   {
    "duration": 3,
    "start_time": "2023-02-04T07:24:03.595Z"
   },
   {
    "duration": 29,
    "start_time": "2023-02-04T07:24:03.600Z"
   },
   {
    "duration": 11,
    "start_time": "2023-02-04T07:24:03.630Z"
   },
   {
    "duration": 18,
    "start_time": "2023-02-04T07:24:03.643Z"
   },
   {
    "duration": 7,
    "start_time": "2023-02-04T07:24:03.662Z"
   },
   {
    "duration": 13,
    "start_time": "2023-02-04T07:24:03.671Z"
   },
   {
    "duration": 45,
    "start_time": "2023-02-04T07:24:03.685Z"
   },
   {
    "duration": 24,
    "start_time": "2023-02-04T07:24:03.733Z"
   },
   {
    "duration": 16,
    "start_time": "2023-02-04T07:24:03.759Z"
   },
   {
    "duration": 7,
    "start_time": "2023-02-04T07:24:03.776Z"
   },
   {
    "duration": 11,
    "start_time": "2023-02-04T07:24:03.784Z"
   },
   {
    "duration": 5,
    "start_time": "2023-02-04T07:24:03.797Z"
   },
   {
    "duration": 205,
    "start_time": "2023-02-04T07:24:03.804Z"
   },
   {
    "duration": 328,
    "start_time": "2023-02-04T07:24:04.019Z"
   },
   {
    "duration": 11,
    "start_time": "2023-02-04T07:24:04.349Z"
   },
   {
    "duration": 677,
    "start_time": "2023-02-04T07:24:04.361Z"
   },
   {
    "duration": 28,
    "start_time": "2023-02-04T07:24:05.040Z"
   },
   {
    "duration": 9,
    "start_time": "2023-02-04T07:24:05.069Z"
   },
   {
    "duration": 7,
    "start_time": "2023-02-04T07:24:05.079Z"
   },
   {
    "duration": 35,
    "start_time": "2023-02-04T07:24:05.088Z"
   },
   {
    "duration": 6,
    "start_time": "2023-02-04T07:24:05.125Z"
   },
   {
    "duration": 34,
    "start_time": "2023-02-04T07:24:05.132Z"
   },
   {
    "duration": 10343,
    "start_time": "2023-02-04T07:24:05.168Z"
   },
   {
    "duration": 4,
    "start_time": "2023-02-04T07:24:15.534Z"
   },
   {
    "duration": 9285,
    "start_time": "2023-02-04T07:24:15.540Z"
   },
   {
    "duration": 16,
    "start_time": "2023-02-04T07:24:24.836Z"
   },
   {
    "duration": 30,
    "start_time": "2023-02-04T07:24:24.910Z"
   },
   {
    "duration": 10,
    "start_time": "2023-02-04T07:24:24.942Z"
   },
   {
    "duration": 7,
    "start_time": "2023-02-04T07:24:24.953Z"
   },
   {
    "duration": 1384,
    "start_time": "2023-02-04T07:25:49.867Z"
   },
   {
    "duration": 3,
    "start_time": "2023-02-04T07:25:51.253Z"
   },
   {
    "duration": 1070,
    "start_time": "2023-02-04T07:25:51.257Z"
   },
   {
    "duration": 154,
    "start_time": "2023-02-04T07:25:52.329Z"
   },
   {
    "duration": 6,
    "start_time": "2023-02-04T07:25:52.485Z"
   },
   {
    "duration": 301,
    "start_time": "2023-02-04T07:25:52.492Z"
   },
   {
    "duration": 3,
    "start_time": "2023-02-04T07:25:52.794Z"
   },
   {
    "duration": 30,
    "start_time": "2023-02-04T07:25:52.799Z"
   },
   {
    "duration": 8,
    "start_time": "2023-02-04T07:25:52.830Z"
   },
   {
    "duration": 10,
    "start_time": "2023-02-04T07:25:52.840Z"
   },
   {
    "duration": 5,
    "start_time": "2023-02-04T07:25:52.851Z"
   },
   {
    "duration": 14,
    "start_time": "2023-02-04T07:25:52.858Z"
   },
   {
    "duration": 8,
    "start_time": "2023-02-04T07:25:52.874Z"
   },
   {
    "duration": 38,
    "start_time": "2023-02-04T07:25:52.885Z"
   },
   {
    "duration": 5,
    "start_time": "2023-02-04T07:25:52.928Z"
   },
   {
    "duration": 7,
    "start_time": "2023-02-04T07:25:52.935Z"
   },
   {
    "duration": 4,
    "start_time": "2023-02-04T07:25:52.943Z"
   },
   {
    "duration": 4,
    "start_time": "2023-02-04T07:25:52.949Z"
   },
   {
    "duration": 251,
    "start_time": "2023-02-04T07:25:52.955Z"
   },
   {
    "duration": 278,
    "start_time": "2023-02-04T07:25:53.208Z"
   },
   {
    "duration": 12,
    "start_time": "2023-02-04T07:25:53.488Z"
   },
   {
    "duration": 698,
    "start_time": "2023-02-04T07:25:53.502Z"
   },
   {
    "duration": 31,
    "start_time": "2023-02-04T07:25:54.202Z"
   },
   {
    "duration": 7,
    "start_time": "2023-02-04T07:25:54.235Z"
   },
   {
    "duration": 8,
    "start_time": "2023-02-04T07:25:54.244Z"
   },
   {
    "duration": 9,
    "start_time": "2023-02-04T07:25:54.254Z"
   },
   {
    "duration": 8,
    "start_time": "2023-02-04T07:25:54.265Z"
   },
   {
    "duration": 53,
    "start_time": "2023-02-04T07:25:54.274Z"
   },
   {
    "duration": 8288,
    "start_time": "2023-02-04T07:25:54.329Z"
   },
   {
    "duration": 6,
    "start_time": "2023-02-04T07:26:02.619Z"
   },
   {
    "duration": 102,
    "start_time": "2023-02-04T07:26:02.626Z"
   },
   {
    "duration": 4,
    "start_time": "2023-02-04T07:26:02.730Z"
   },
   {
    "duration": 4,
    "start_time": "2023-02-04T07:29:07.497Z"
   },
   {
    "duration": 1335,
    "start_time": "2023-02-04T07:29:13.901Z"
   },
   {
    "duration": 3,
    "start_time": "2023-02-04T07:29:15.237Z"
   },
   {
    "duration": 952,
    "start_time": "2023-02-04T07:29:15.241Z"
   },
   {
    "duration": 162,
    "start_time": "2023-02-04T07:29:16.194Z"
   },
   {
    "duration": 5,
    "start_time": "2023-02-04T07:29:16.358Z"
   },
   {
    "duration": 301,
    "start_time": "2023-02-04T07:29:16.364Z"
   },
   {
    "duration": 4,
    "start_time": "2023-02-04T07:29:16.667Z"
   },
   {
    "duration": 16,
    "start_time": "2023-02-04T07:29:16.673Z"
   },
   {
    "duration": 38,
    "start_time": "2023-02-04T07:29:16.691Z"
   },
   {
    "duration": 4,
    "start_time": "2023-02-04T07:29:16.731Z"
   },
   {
    "duration": 9,
    "start_time": "2023-02-04T07:29:16.738Z"
   },
   {
    "duration": 30,
    "start_time": "2023-02-04T07:29:16.749Z"
   },
   {
    "duration": 19,
    "start_time": "2023-02-04T07:29:16.781Z"
   },
   {
    "duration": 19,
    "start_time": "2023-02-04T07:29:16.804Z"
   },
   {
    "duration": 33,
    "start_time": "2023-02-04T07:29:16.827Z"
   },
   {
    "duration": 12,
    "start_time": "2023-02-04T07:29:16.862Z"
   },
   {
    "duration": 12,
    "start_time": "2023-02-04T07:29:16.876Z"
   },
   {
    "duration": 17,
    "start_time": "2023-02-04T07:29:16.890Z"
   },
   {
    "duration": 34,
    "start_time": "2023-02-04T07:29:16.909Z"
   },
   {
    "duration": 226,
    "start_time": "2023-02-04T07:29:16.945Z"
   },
   {
    "duration": 299,
    "start_time": "2023-02-04T07:29:17.173Z"
   },
   {
    "duration": 11,
    "start_time": "2023-02-04T07:29:17.474Z"
   },
   {
    "duration": 691,
    "start_time": "2023-02-04T07:29:17.487Z"
   },
   {
    "duration": 16,
    "start_time": "2023-02-04T07:29:18.180Z"
   },
   {
    "duration": 5,
    "start_time": "2023-02-04T07:29:18.210Z"
   },
   {
    "duration": 5,
    "start_time": "2023-02-04T07:29:18.228Z"
   },
   {
    "duration": 3,
    "start_time": "2023-02-04T07:29:18.235Z"
   },
   {
    "duration": 7,
    "start_time": "2023-02-04T07:29:18.239Z"
   },
   {
    "duration": 27,
    "start_time": "2023-02-04T07:29:18.248Z"
   },
   {
    "duration": 4041,
    "start_time": "2023-02-04T07:29:18.276Z"
   },
   {
    "duration": 91,
    "start_time": "2023-02-04T07:29:22.318Z"
   },
   {
    "duration": 16,
    "start_time": "2023-02-04T07:29:22.411Z"
   },
   {
    "duration": 3192,
    "start_time": "2023-02-04T07:29:58.628Z"
   },
   {
    "duration": 1415,
    "start_time": "2023-02-04T07:30:06.127Z"
   },
   {
    "duration": 3,
    "start_time": "2023-02-04T07:30:07.544Z"
   },
   {
    "duration": 952,
    "start_time": "2023-02-04T07:30:07.549Z"
   },
   {
    "duration": 156,
    "start_time": "2023-02-04T07:30:08.502Z"
   },
   {
    "duration": 4,
    "start_time": "2023-02-04T07:30:08.660Z"
   },
   {
    "duration": 289,
    "start_time": "2023-02-04T07:30:08.665Z"
   },
   {
    "duration": 3,
    "start_time": "2023-02-04T07:30:08.955Z"
   },
   {
    "duration": 11,
    "start_time": "2023-02-04T07:30:08.960Z"
   },
   {
    "duration": 5,
    "start_time": "2023-02-04T07:30:08.972Z"
   },
   {
    "duration": 5,
    "start_time": "2023-02-04T07:30:08.979Z"
   },
   {
    "duration": 29,
    "start_time": "2023-02-04T07:30:08.986Z"
   },
   {
    "duration": 35,
    "start_time": "2023-02-04T07:30:09.016Z"
   },
   {
    "duration": 24,
    "start_time": "2023-02-04T07:30:09.052Z"
   },
   {
    "duration": 12,
    "start_time": "2023-02-04T07:30:09.079Z"
   },
   {
    "duration": 16,
    "start_time": "2023-02-04T07:30:09.092Z"
   },
   {
    "duration": 13,
    "start_time": "2023-02-04T07:30:09.109Z"
   },
   {
    "duration": 15,
    "start_time": "2023-02-04T07:30:09.124Z"
   },
   {
    "duration": 11,
    "start_time": "2023-02-04T07:30:09.141Z"
   },
   {
    "duration": 20,
    "start_time": "2023-02-04T07:30:09.153Z"
   },
   {
    "duration": 206,
    "start_time": "2023-02-04T07:30:09.175Z"
   },
   {
    "duration": 258,
    "start_time": "2023-02-04T07:30:09.383Z"
   },
   {
    "duration": 9,
    "start_time": "2023-02-04T07:30:09.643Z"
   },
   {
    "duration": 675,
    "start_time": "2023-02-04T07:30:09.654Z"
   },
   {
    "duration": 19,
    "start_time": "2023-02-04T07:30:10.330Z"
   },
   {
    "duration": 4,
    "start_time": "2023-02-04T07:30:10.351Z"
   },
   {
    "duration": 5,
    "start_time": "2023-02-04T07:30:10.357Z"
   },
   {
    "duration": 4,
    "start_time": "2023-02-04T07:30:10.363Z"
   },
   {
    "duration": 7,
    "start_time": "2023-02-04T07:30:10.369Z"
   },
   {
    "duration": 69,
    "start_time": "2023-02-04T07:30:10.378Z"
   },
   {
    "duration": 10574,
    "start_time": "2023-02-04T07:30:10.449Z"
   },
   {
    "duration": 7,
    "start_time": "2023-02-04T07:30:21.025Z"
   },
   {
    "duration": 84,
    "start_time": "2023-02-04T07:30:21.034Z"
   },
   {
    "duration": 1070,
    "start_time": "2023-02-04T07:30:49.265Z"
   },
   {
    "duration": 7,
    "start_time": "2023-02-04T07:31:04.260Z"
   },
   {
    "duration": 5,
    "start_time": "2023-02-04T07:31:39.161Z"
   },
   {
    "duration": 89,
    "start_time": "2023-02-04T07:31:42.295Z"
   },
   {
    "duration": 9,
    "start_time": "2023-02-04T07:31:53.391Z"
   },
   {
    "duration": 55,
    "start_time": "2023-02-04T07:32:00.430Z"
   },
   {
    "duration": 4,
    "start_time": "2023-02-04T07:32:11.369Z"
   },
   {
    "duration": 9,
    "start_time": "2023-02-04T07:32:48.438Z"
   },
   {
    "duration": 6,
    "start_time": "2023-02-04T07:32:58.388Z"
   },
   {
    "duration": 203,
    "start_time": "2023-02-04T07:33:52.436Z"
   },
   {
    "duration": 7,
    "start_time": "2023-02-04T07:34:04.849Z"
   },
   {
    "duration": 56,
    "start_time": "2023-02-04T07:34:08.148Z"
   },
   {
    "duration": 8,
    "start_time": "2023-02-04T07:34:13.373Z"
   },
   {
    "duration": 15,
    "start_time": "2023-02-04T07:34:43.765Z"
   },
   {
    "duration": 17,
    "start_time": "2023-02-04T07:34:58.084Z"
   },
   {
    "duration": 7,
    "start_time": "2023-02-04T07:35:41.277Z"
   },
   {
    "duration": 65,
    "start_time": "2023-02-04T07:36:20.088Z"
   },
   {
    "duration": 11,
    "start_time": "2023-02-04T07:36:37.193Z"
   },
   {
    "duration": 30,
    "start_time": "2023-02-04T07:36:55.901Z"
   },
   {
    "duration": 14,
    "start_time": "2023-02-04T07:37:12.928Z"
   },
   {
    "duration": 7,
    "start_time": "2023-02-04T07:37:19.770Z"
   },
   {
    "duration": 11,
    "start_time": "2023-02-04T07:37:29.554Z"
   },
   {
    "duration": 5,
    "start_time": "2023-02-04T07:37:53.321Z"
   },
   {
    "duration": 4,
    "start_time": "2023-02-04T07:38:00.472Z"
   },
   {
    "duration": 60,
    "start_time": "2023-02-04T07:38:10.025Z"
   },
   {
    "duration": 5,
    "start_time": "2023-02-04T07:38:12.758Z"
   },
   {
    "duration": 22,
    "start_time": "2023-02-04T07:39:51.902Z"
   },
   {
    "duration": 10,
    "start_time": "2023-02-04T07:39:53.880Z"
   },
   {
    "duration": 14,
    "start_time": "2023-02-04T07:40:43.556Z"
   },
   {
    "duration": 11,
    "start_time": "2023-02-04T07:40:44.655Z"
   },
   {
    "duration": 15,
    "start_time": "2023-02-04T07:41:27.045Z"
   },
   {
    "duration": 11,
    "start_time": "2023-02-04T07:41:30.821Z"
   },
   {
    "duration": 1390,
    "start_time": "2023-02-04T07:44:51.929Z"
   },
   {
    "duration": 4,
    "start_time": "2023-02-04T07:44:53.322Z"
   },
   {
    "duration": 964,
    "start_time": "2023-02-04T07:44:53.328Z"
   },
   {
    "duration": 156,
    "start_time": "2023-02-04T07:44:54.294Z"
   },
   {
    "duration": 4,
    "start_time": "2023-02-04T07:44:54.452Z"
   },
   {
    "duration": 282,
    "start_time": "2023-02-04T07:44:54.458Z"
   },
   {
    "duration": 3,
    "start_time": "2023-02-04T07:44:54.741Z"
   },
   {
    "duration": 12,
    "start_time": "2023-02-04T07:44:54.745Z"
   },
   {
    "duration": 4,
    "start_time": "2023-02-04T07:44:54.758Z"
   },
   {
    "duration": 4,
    "start_time": "2023-02-04T07:44:54.765Z"
   },
   {
    "duration": 27,
    "start_time": "2023-02-04T07:44:54.770Z"
   },
   {
    "duration": 20,
    "start_time": "2023-02-04T07:44:54.799Z"
   },
   {
    "duration": 15,
    "start_time": "2023-02-04T07:44:54.824Z"
   },
   {
    "duration": 7,
    "start_time": "2023-02-04T07:44:54.840Z"
   },
   {
    "duration": 27,
    "start_time": "2023-02-04T07:44:54.848Z"
   },
   {
    "duration": 4,
    "start_time": "2023-02-04T07:44:54.876Z"
   },
   {
    "duration": 13,
    "start_time": "2023-02-04T07:44:54.881Z"
   },
   {
    "duration": 19,
    "start_time": "2023-02-04T07:44:54.896Z"
   },
   {
    "duration": 25,
    "start_time": "2023-02-04T07:44:54.916Z"
   },
   {
    "duration": 208,
    "start_time": "2023-02-04T07:44:54.943Z"
   },
   {
    "duration": 268,
    "start_time": "2023-02-04T07:44:55.153Z"
   },
   {
    "duration": 10,
    "start_time": "2023-02-04T07:44:55.423Z"
   },
   {
    "duration": 655,
    "start_time": "2023-02-04T07:44:55.435Z"
   },
   {
    "duration": 33,
    "start_time": "2023-02-04T07:44:56.092Z"
   },
   {
    "duration": 5,
    "start_time": "2023-02-04T07:44:56.127Z"
   },
   {
    "duration": 5,
    "start_time": "2023-02-04T07:44:56.134Z"
   },
   {
    "duration": 9,
    "start_time": "2023-02-04T07:44:56.140Z"
   },
   {
    "duration": 16,
    "start_time": "2023-02-04T07:44:56.151Z"
   },
   {
    "duration": 17,
    "start_time": "2023-02-04T07:44:56.168Z"
   },
   {
    "duration": 4137,
    "start_time": "2023-02-04T07:44:56.187Z"
   },
   {
    "duration": 5,
    "start_time": "2023-02-04T07:45:00.327Z"
   },
   {
    "duration": 590,
    "start_time": "2023-02-04T07:45:00.333Z"
   },
   {
    "duration": 285,
    "start_time": "2023-02-04T07:45:00.931Z"
   },
   {
    "duration": 7,
    "start_time": "2023-02-04T07:45:24.289Z"
   },
   {
    "duration": 9,
    "start_time": "2023-02-04T07:46:17.177Z"
   },
   {
    "duration": 19,
    "start_time": "2023-02-04T07:47:07.653Z"
   },
   {
    "duration": 3588,
    "start_time": "2023-02-04T07:47:09.821Z"
   },
   {
    "duration": 4,
    "start_time": "2023-02-04T07:47:14.874Z"
   },
   {
    "duration": 370,
    "start_time": "2023-02-04T07:47:15.758Z"
   },
   {
    "duration": 8,
    "start_time": "2023-02-04T07:47:17.027Z"
   },
   {
    "duration": 9,
    "start_time": "2023-02-04T07:47:35.559Z"
   },
   {
    "duration": 1367,
    "start_time": "2023-02-04T07:47:41.774Z"
   },
   {
    "duration": 2,
    "start_time": "2023-02-04T07:47:43.143Z"
   },
   {
    "duration": 979,
    "start_time": "2023-02-04T07:47:43.147Z"
   },
   {
    "duration": 156,
    "start_time": "2023-02-04T07:47:44.128Z"
   },
   {
    "duration": 5,
    "start_time": "2023-02-04T07:47:44.286Z"
   },
   {
    "duration": 261,
    "start_time": "2023-02-04T07:47:44.310Z"
   },
   {
    "duration": 2,
    "start_time": "2023-02-04T07:47:44.573Z"
   },
   {
    "duration": 11,
    "start_time": "2023-02-04T07:47:44.576Z"
   },
   {
    "duration": 5,
    "start_time": "2023-02-04T07:47:44.588Z"
   },
   {
    "duration": 31,
    "start_time": "2023-02-04T07:47:44.594Z"
   },
   {
    "duration": 5,
    "start_time": "2023-02-04T07:47:44.626Z"
   },
   {
    "duration": 9,
    "start_time": "2023-02-04T07:47:44.632Z"
   },
   {
    "duration": 12,
    "start_time": "2023-02-04T07:47:44.643Z"
   },
   {
    "duration": 7,
    "start_time": "2023-02-04T07:47:44.658Z"
   },
   {
    "duration": 13,
    "start_time": "2023-02-04T07:47:44.667Z"
   },
   {
    "duration": 4,
    "start_time": "2023-02-04T07:47:44.682Z"
   },
   {
    "duration": 37,
    "start_time": "2023-02-04T07:47:44.687Z"
   },
   {
    "duration": 7,
    "start_time": "2023-02-04T07:47:44.726Z"
   },
   {
    "duration": 5,
    "start_time": "2023-02-04T07:47:44.735Z"
   },
   {
    "duration": 209,
    "start_time": "2023-02-04T07:47:44.742Z"
   },
   {
    "duration": 252,
    "start_time": "2023-02-04T07:47:44.953Z"
   },
   {
    "duration": 22,
    "start_time": "2023-02-04T07:47:45.207Z"
   },
   {
    "duration": 664,
    "start_time": "2023-02-04T07:47:45.230Z"
   },
   {
    "duration": 29,
    "start_time": "2023-02-04T07:47:45.896Z"
   },
   {
    "duration": 4,
    "start_time": "2023-02-04T07:47:45.927Z"
   },
   {
    "duration": 9,
    "start_time": "2023-02-04T07:47:45.933Z"
   },
   {
    "duration": 5,
    "start_time": "2023-02-04T07:47:45.943Z"
   },
   {
    "duration": 7,
    "start_time": "2023-02-04T07:47:45.949Z"
   },
   {
    "duration": 6,
    "start_time": "2023-02-04T07:47:45.958Z"
   },
   {
    "duration": 22,
    "start_time": "2023-02-04T07:47:45.966Z"
   },
   {
    "duration": 2825,
    "start_time": "2023-02-04T07:47:45.990Z"
   },
   {
    "duration": 6,
    "start_time": "2023-02-04T07:47:48.820Z"
   },
   {
    "duration": 497,
    "start_time": "2023-02-04T07:47:48.830Z"
   },
   {
    "duration": 386,
    "start_time": "2023-02-04T07:47:49.333Z"
   },
   {
    "duration": 1318,
    "start_time": "2023-02-04T07:48:20.823Z"
   },
   {
    "duration": 3,
    "start_time": "2023-02-04T07:48:22.143Z"
   },
   {
    "duration": 985,
    "start_time": "2023-02-04T07:48:22.147Z"
   },
   {
    "duration": 158,
    "start_time": "2023-02-04T07:48:23.134Z"
   },
   {
    "duration": 24,
    "start_time": "2023-02-04T07:48:23.295Z"
   },
   {
    "duration": 264,
    "start_time": "2023-02-04T07:48:23.320Z"
   },
   {
    "duration": 2,
    "start_time": "2023-02-04T07:48:23.586Z"
   },
   {
    "duration": 15,
    "start_time": "2023-02-04T07:48:23.590Z"
   },
   {
    "duration": 4,
    "start_time": "2023-02-04T07:48:23.609Z"
   },
   {
    "duration": 11,
    "start_time": "2023-02-04T07:48:23.614Z"
   },
   {
    "duration": 7,
    "start_time": "2023-02-04T07:48:23.627Z"
   },
   {
    "duration": 8,
    "start_time": "2023-02-04T07:48:23.635Z"
   },
   {
    "duration": 11,
    "start_time": "2023-02-04T07:48:23.644Z"
   },
   {
    "duration": 6,
    "start_time": "2023-02-04T07:48:23.658Z"
   },
   {
    "duration": 14,
    "start_time": "2023-02-04T07:48:23.666Z"
   },
   {
    "duration": 33,
    "start_time": "2023-02-04T07:48:23.682Z"
   },
   {
    "duration": 6,
    "start_time": "2023-02-04T07:48:23.717Z"
   },
   {
    "duration": 8,
    "start_time": "2023-02-04T07:48:23.724Z"
   },
   {
    "duration": 3,
    "start_time": "2023-02-04T07:48:23.733Z"
   },
   {
    "duration": 218,
    "start_time": "2023-02-04T07:48:23.738Z"
   },
   {
    "duration": 257,
    "start_time": "2023-02-04T07:48:23.958Z"
   },
   {
    "duration": 17,
    "start_time": "2023-02-04T07:48:24.216Z"
   },
   {
    "duration": 661,
    "start_time": "2023-02-04T07:48:24.234Z"
   },
   {
    "duration": 25,
    "start_time": "2023-02-04T07:48:24.896Z"
   },
   {
    "duration": 5,
    "start_time": "2023-02-04T07:48:24.923Z"
   },
   {
    "duration": 7,
    "start_time": "2023-02-04T07:48:24.930Z"
   },
   {
    "duration": 5,
    "start_time": "2023-02-04T07:48:24.939Z"
   },
   {
    "duration": 8,
    "start_time": "2023-02-04T07:48:24.946Z"
   },
   {
    "duration": 22,
    "start_time": "2023-02-04T07:48:24.955Z"
   },
   {
    "duration": 3247,
    "start_time": "2023-02-04T07:48:24.979Z"
   },
   {
    "duration": 5,
    "start_time": "2023-02-04T07:48:28.228Z"
   },
   {
    "duration": 777,
    "start_time": "2023-02-04T07:48:28.238Z"
   },
   {
    "duration": 198,
    "start_time": "2023-02-04T07:48:29.017Z"
   },
   {
    "duration": 0,
    "start_time": "2023-02-04T07:48:29.217Z"
   },
   {
    "duration": 1411,
    "start_time": "2023-02-04T07:49:44.588Z"
   },
   {
    "duration": 3,
    "start_time": "2023-02-04T07:49:46.001Z"
   },
   {
    "duration": 951,
    "start_time": "2023-02-04T07:49:46.005Z"
   },
   {
    "duration": 156,
    "start_time": "2023-02-04T07:49:46.958Z"
   },
   {
    "duration": 5,
    "start_time": "2023-02-04T07:49:47.116Z"
   },
   {
    "duration": 282,
    "start_time": "2023-02-04T07:49:47.122Z"
   },
   {
    "duration": 6,
    "start_time": "2023-02-04T07:49:47.405Z"
   },
   {
    "duration": 12,
    "start_time": "2023-02-04T07:49:47.413Z"
   },
   {
    "duration": 6,
    "start_time": "2023-02-04T07:49:47.426Z"
   },
   {
    "duration": 4,
    "start_time": "2023-02-04T07:49:47.434Z"
   },
   {
    "duration": 4,
    "start_time": "2023-02-04T07:49:47.439Z"
   },
   {
    "duration": 9,
    "start_time": "2023-02-04T07:49:47.445Z"
   },
   {
    "duration": 12,
    "start_time": "2023-02-04T07:49:47.455Z"
   },
   {
    "duration": 42,
    "start_time": "2023-02-04T07:49:47.469Z"
   },
   {
    "duration": 14,
    "start_time": "2023-02-04T07:49:47.513Z"
   },
   {
    "duration": 5,
    "start_time": "2023-02-04T07:49:47.529Z"
   },
   {
    "duration": 5,
    "start_time": "2023-02-04T07:49:47.535Z"
   },
   {
    "duration": 7,
    "start_time": "2023-02-04T07:49:47.541Z"
   },
   {
    "duration": 4,
    "start_time": "2023-02-04T07:49:47.549Z"
   },
   {
    "duration": 224,
    "start_time": "2023-02-04T07:49:47.554Z"
   },
   {
    "duration": 284,
    "start_time": "2023-02-04T07:49:47.780Z"
   },
   {
    "duration": 10,
    "start_time": "2023-02-04T07:49:48.066Z"
   },
   {
    "duration": 652,
    "start_time": "2023-02-04T07:49:48.077Z"
   },
   {
    "duration": 17,
    "start_time": "2023-02-04T07:49:48.730Z"
   },
   {
    "duration": 4,
    "start_time": "2023-02-04T07:49:48.749Z"
   },
   {
    "duration": 7,
    "start_time": "2023-02-04T07:49:48.754Z"
   },
   {
    "duration": 8,
    "start_time": "2023-02-04T07:49:48.762Z"
   },
   {
    "duration": 5,
    "start_time": "2023-02-04T07:49:48.772Z"
   },
   {
    "duration": 42,
    "start_time": "2023-02-04T07:49:48.779Z"
   },
   {
    "duration": 3091,
    "start_time": "2023-02-04T07:49:48.822Z"
   },
   {
    "duration": 4,
    "start_time": "2023-02-04T07:49:51.915Z"
   },
   {
    "duration": 800,
    "start_time": "2023-02-04T07:49:51.921Z"
   },
   {
    "duration": 191,
    "start_time": "2023-02-04T07:49:52.722Z"
   },
   {
    "duration": 15,
    "start_time": "2023-02-04T07:49:52.914Z"
   },
   {
    "duration": 1373,
    "start_time": "2023-02-04T07:51:03.269Z"
   },
   {
    "duration": 2,
    "start_time": "2023-02-04T07:51:04.644Z"
   },
   {
    "duration": 1045,
    "start_time": "2023-02-04T07:51:04.648Z"
   },
   {
    "duration": 157,
    "start_time": "2023-02-04T07:51:05.694Z"
   },
   {
    "duration": 5,
    "start_time": "2023-02-04T07:51:05.853Z"
   },
   {
    "duration": 272,
    "start_time": "2023-02-04T07:51:05.859Z"
   },
   {
    "duration": 2,
    "start_time": "2023-02-04T07:51:06.133Z"
   },
   {
    "duration": 13,
    "start_time": "2023-02-04T07:51:06.137Z"
   },
   {
    "duration": 3,
    "start_time": "2023-02-04T07:51:06.152Z"
   },
   {
    "duration": 8,
    "start_time": "2023-02-04T07:51:06.157Z"
   },
   {
    "duration": 4,
    "start_time": "2023-02-04T07:51:06.167Z"
   },
   {
    "duration": 7,
    "start_time": "2023-02-04T07:51:06.172Z"
   },
   {
    "duration": 32,
    "start_time": "2023-02-04T07:51:06.180Z"
   },
   {
    "duration": 7,
    "start_time": "2023-02-04T07:51:06.215Z"
   },
   {
    "duration": 14,
    "start_time": "2023-02-04T07:51:06.223Z"
   },
   {
    "duration": 4,
    "start_time": "2023-02-04T07:51:06.238Z"
   },
   {
    "duration": 4,
    "start_time": "2023-02-04T07:51:06.243Z"
   },
   {
    "duration": 7,
    "start_time": "2023-02-04T07:51:06.249Z"
   },
   {
    "duration": 14,
    "start_time": "2023-02-04T07:51:06.258Z"
   },
   {
    "duration": 220,
    "start_time": "2023-02-04T07:51:06.274Z"
   },
   {
    "duration": 306,
    "start_time": "2023-02-04T07:51:06.496Z"
   },
   {
    "duration": 10,
    "start_time": "2023-02-04T07:51:06.809Z"
   },
   {
    "duration": 651,
    "start_time": "2023-02-04T07:51:06.820Z"
   },
   {
    "duration": 16,
    "start_time": "2023-02-04T07:51:07.473Z"
   },
   {
    "duration": 5,
    "start_time": "2023-02-04T07:51:07.490Z"
   },
   {
    "duration": 16,
    "start_time": "2023-02-04T07:51:07.496Z"
   },
   {
    "duration": 5,
    "start_time": "2023-02-04T07:51:07.514Z"
   },
   {
    "duration": 7,
    "start_time": "2023-02-04T07:51:07.520Z"
   },
   {
    "duration": 23,
    "start_time": "2023-02-04T07:51:07.529Z"
   },
   {
    "duration": 2460,
    "start_time": "2023-02-04T07:51:07.553Z"
   },
   {
    "duration": 4,
    "start_time": "2023-02-04T07:51:10.017Z"
   },
   {
    "duration": 388,
    "start_time": "2023-02-04T07:51:10.023Z"
   },
   {
    "duration": 8,
    "start_time": "2023-02-04T07:51:10.413Z"
   },
   {
    "duration": 11,
    "start_time": "2023-02-04T07:51:10.510Z"
   },
   {
    "duration": 1424,
    "start_time": "2023-02-04T07:54:18.765Z"
   },
   {
    "duration": 2,
    "start_time": "2023-02-04T07:54:20.191Z"
   },
   {
    "duration": 889,
    "start_time": "2023-02-04T07:54:20.195Z"
   },
   {
    "duration": 165,
    "start_time": "2023-02-04T07:54:21.087Z"
   },
   {
    "duration": 5,
    "start_time": "2023-02-04T07:54:21.253Z"
   },
   {
    "duration": 265,
    "start_time": "2023-02-04T07:54:21.260Z"
   },
   {
    "duration": 3,
    "start_time": "2023-02-04T07:54:21.527Z"
   },
   {
    "duration": 15,
    "start_time": "2023-02-04T07:54:21.532Z"
   },
   {
    "duration": 5,
    "start_time": "2023-02-04T07:54:21.548Z"
   },
   {
    "duration": 6,
    "start_time": "2023-02-04T07:54:21.555Z"
   },
   {
    "duration": 9,
    "start_time": "2023-02-04T07:54:21.562Z"
   },
   {
    "duration": 9,
    "start_time": "2023-02-04T07:54:21.573Z"
   },
   {
    "duration": 26,
    "start_time": "2023-02-04T07:54:21.584Z"
   },
   {
    "duration": 7,
    "start_time": "2023-02-04T07:54:21.612Z"
   },
   {
    "duration": 12,
    "start_time": "2023-02-04T07:54:21.621Z"
   },
   {
    "duration": 4,
    "start_time": "2023-02-04T07:54:21.635Z"
   },
   {
    "duration": 5,
    "start_time": "2023-02-04T07:54:21.640Z"
   },
   {
    "duration": 7,
    "start_time": "2023-02-04T07:54:21.646Z"
   },
   {
    "duration": 4,
    "start_time": "2023-02-04T07:54:21.654Z"
   },
   {
    "duration": 226,
    "start_time": "2023-02-04T07:54:21.659Z"
   },
   {
    "duration": 249,
    "start_time": "2023-02-04T07:54:21.886Z"
   },
   {
    "duration": 11,
    "start_time": "2023-02-04T07:54:22.136Z"
   },
   {
    "duration": 658,
    "start_time": "2023-02-04T07:54:22.148Z"
   },
   {
    "duration": 17,
    "start_time": "2023-02-04T07:54:22.810Z"
   },
   {
    "duration": 4,
    "start_time": "2023-02-04T07:54:22.829Z"
   },
   {
    "duration": 5,
    "start_time": "2023-02-04T07:54:22.834Z"
   },
   {
    "duration": 5,
    "start_time": "2023-02-04T07:54:22.841Z"
   },
   {
    "duration": 5,
    "start_time": "2023-02-04T07:54:22.849Z"
   },
   {
    "duration": 22,
    "start_time": "2023-02-04T07:54:22.855Z"
   },
   {
    "duration": 3031,
    "start_time": "2023-02-04T07:54:22.879Z"
   },
   {
    "duration": 3,
    "start_time": "2023-02-04T07:54:25.912Z"
   },
   {
    "duration": 294,
    "start_time": "2023-02-04T07:54:25.917Z"
   },
   {
    "duration": 9,
    "start_time": "2023-02-04T07:54:26.212Z"
   },
   {
    "duration": 103,
    "start_time": "2023-02-04T07:54:26.223Z"
   },
   {
    "duration": 1385,
    "start_time": "2023-02-04T07:59:50.874Z"
   },
   {
    "duration": 3,
    "start_time": "2023-02-04T07:59:52.261Z"
   },
   {
    "duration": 946,
    "start_time": "2023-02-04T07:59:52.265Z"
   },
   {
    "duration": 159,
    "start_time": "2023-02-04T07:59:53.213Z"
   },
   {
    "duration": 5,
    "start_time": "2023-02-04T07:59:53.374Z"
   },
   {
    "duration": 271,
    "start_time": "2023-02-04T07:59:53.381Z"
   },
   {
    "duration": 2,
    "start_time": "2023-02-04T07:59:53.654Z"
   },
   {
    "duration": 28,
    "start_time": "2023-02-04T07:59:53.657Z"
   },
   {
    "duration": 5,
    "start_time": "2023-02-04T07:59:53.686Z"
   },
   {
    "duration": 4,
    "start_time": "2023-02-04T07:59:53.693Z"
   },
   {
    "duration": 5,
    "start_time": "2023-02-04T07:59:53.698Z"
   },
   {
    "duration": 6,
    "start_time": "2023-02-04T07:59:53.710Z"
   },
   {
    "duration": 19,
    "start_time": "2023-02-04T07:59:53.717Z"
   },
   {
    "duration": 8,
    "start_time": "2023-02-04T07:59:53.738Z"
   },
   {
    "duration": 29,
    "start_time": "2023-02-04T07:59:53.747Z"
   },
   {
    "duration": 3,
    "start_time": "2023-02-04T07:59:53.778Z"
   },
   {
    "duration": 4,
    "start_time": "2023-02-04T07:59:53.783Z"
   },
   {
    "duration": 9,
    "start_time": "2023-02-04T07:59:53.789Z"
   },
   {
    "duration": 12,
    "start_time": "2023-02-04T07:59:53.799Z"
   },
   {
    "duration": 217,
    "start_time": "2023-02-04T07:59:53.812Z"
   },
   {
    "duration": 255,
    "start_time": "2023-02-04T07:59:54.031Z"
   },
   {
    "duration": 9,
    "start_time": "2023-02-04T07:59:54.290Z"
   },
   {
    "duration": 655,
    "start_time": "2023-02-04T07:59:54.300Z"
   },
   {
    "duration": 17,
    "start_time": "2023-02-04T07:59:54.957Z"
   },
   {
    "duration": 5,
    "start_time": "2023-02-04T07:59:54.976Z"
   },
   {
    "duration": 30,
    "start_time": "2023-02-04T07:59:54.982Z"
   },
   {
    "duration": 8,
    "start_time": "2023-02-04T07:59:55.013Z"
   },
   {
    "duration": 27,
    "start_time": "2023-02-04T07:59:55.024Z"
   },
   {
    "duration": 26,
    "start_time": "2023-02-04T07:59:55.052Z"
   },
   {
    "duration": 2332,
    "start_time": "2023-02-04T07:59:55.080Z"
   },
   {
    "duration": 95,
    "start_time": "2023-02-04T07:59:57.415Z"
   },
   {
    "duration": 405,
    "start_time": "2023-02-04T07:59:57.512Z"
   },
   {
    "duration": 105,
    "start_time": "2023-02-04T07:59:57.920Z"
   },
   {
    "duration": 89,
    "start_time": "2023-02-04T07:59:58.027Z"
   },
   {
    "duration": 1303,
    "start_time": "2023-02-04T08:00:48.627Z"
   },
   {
    "duration": 3,
    "start_time": "2023-02-04T08:00:49.932Z"
   },
   {
    "duration": 906,
    "start_time": "2023-02-04T08:00:49.936Z"
   },
   {
    "duration": 167,
    "start_time": "2023-02-04T08:00:50.843Z"
   },
   {
    "duration": 5,
    "start_time": "2023-02-04T08:00:51.012Z"
   },
   {
    "duration": 268,
    "start_time": "2023-02-04T08:00:51.018Z"
   },
   {
    "duration": 4,
    "start_time": "2023-02-04T08:00:51.288Z"
   },
   {
    "duration": 28,
    "start_time": "2023-02-04T08:00:51.294Z"
   },
   {
    "duration": 6,
    "start_time": "2023-02-04T08:00:51.324Z"
   },
   {
    "duration": 7,
    "start_time": "2023-02-04T08:00:51.332Z"
   },
   {
    "duration": 6,
    "start_time": "2023-02-04T08:00:51.341Z"
   },
   {
    "duration": 8,
    "start_time": "2023-02-04T08:00:51.349Z"
   },
   {
    "duration": 9,
    "start_time": "2023-02-04T08:00:51.359Z"
   },
   {
    "duration": 8,
    "start_time": "2023-02-04T08:00:51.372Z"
   },
   {
    "duration": 42,
    "start_time": "2023-02-04T08:00:51.381Z"
   },
   {
    "duration": 5,
    "start_time": "2023-02-04T08:00:51.425Z"
   },
   {
    "duration": 5,
    "start_time": "2023-02-04T08:00:51.431Z"
   },
   {
    "duration": 7,
    "start_time": "2023-02-04T08:00:51.438Z"
   },
   {
    "duration": 7,
    "start_time": "2023-02-04T08:00:51.447Z"
   },
   {
    "duration": 212,
    "start_time": "2023-02-04T08:00:51.455Z"
   },
   {
    "duration": 246,
    "start_time": "2023-02-04T08:00:51.669Z"
   },
   {
    "duration": 11,
    "start_time": "2023-02-04T08:00:51.917Z"
   },
   {
    "duration": 673,
    "start_time": "2023-02-04T08:00:51.930Z"
   },
   {
    "duration": 16,
    "start_time": "2023-02-04T08:00:52.610Z"
   },
   {
    "duration": 5,
    "start_time": "2023-02-04T08:00:52.628Z"
   },
   {
    "duration": 9,
    "start_time": "2023-02-04T08:00:52.635Z"
   },
   {
    "duration": 6,
    "start_time": "2023-02-04T08:00:52.645Z"
   },
   {
    "duration": 12,
    "start_time": "2023-02-04T08:00:52.652Z"
   },
   {
    "duration": 29,
    "start_time": "2023-02-04T08:00:52.666Z"
   },
   {
    "duration": 2614,
    "start_time": "2023-02-04T08:00:52.696Z"
   },
   {
    "duration": 5,
    "start_time": "2023-02-04T08:00:55.312Z"
   },
   {
    "duration": 303,
    "start_time": "2023-02-04T08:00:55.319Z"
   },
   {
    "duration": 10,
    "start_time": "2023-02-04T08:00:55.710Z"
   },
   {
    "duration": 12,
    "start_time": "2023-02-04T08:00:55.810Z"
   },
   {
    "duration": 1389,
    "start_time": "2023-02-04T08:01:19.634Z"
   },
   {
    "duration": 3,
    "start_time": "2023-02-04T08:01:21.025Z"
   },
   {
    "duration": 895,
    "start_time": "2023-02-04T08:01:21.029Z"
   },
   {
    "duration": 154,
    "start_time": "2023-02-04T08:01:21.925Z"
   },
   {
    "duration": 5,
    "start_time": "2023-02-04T08:01:22.081Z"
   },
   {
    "duration": 281,
    "start_time": "2023-02-04T08:01:22.087Z"
   },
   {
    "duration": 3,
    "start_time": "2023-02-04T08:01:22.369Z"
   },
   {
    "duration": 15,
    "start_time": "2023-02-04T08:01:22.374Z"
   },
   {
    "duration": 20,
    "start_time": "2023-02-04T08:01:22.391Z"
   },
   {
    "duration": 4,
    "start_time": "2023-02-04T08:01:22.413Z"
   },
   {
    "duration": 7,
    "start_time": "2023-02-04T08:01:22.419Z"
   },
   {
    "duration": 4,
    "start_time": "2023-02-04T08:01:22.427Z"
   },
   {
    "duration": 10,
    "start_time": "2023-02-04T08:01:22.433Z"
   },
   {
    "duration": 6,
    "start_time": "2023-02-04T08:01:22.446Z"
   },
   {
    "duration": 16,
    "start_time": "2023-02-04T08:01:22.453Z"
   },
   {
    "duration": 39,
    "start_time": "2023-02-04T08:01:22.471Z"
   },
   {
    "duration": 5,
    "start_time": "2023-02-04T08:01:22.511Z"
   },
   {
    "duration": 12,
    "start_time": "2023-02-04T08:01:22.517Z"
   },
   {
    "duration": 3,
    "start_time": "2023-02-04T08:01:22.531Z"
   },
   {
    "duration": 203,
    "start_time": "2023-02-04T08:01:22.536Z"
   },
   {
    "duration": 255,
    "start_time": "2023-02-04T08:01:22.741Z"
   },
   {
    "duration": 12,
    "start_time": "2023-02-04T08:01:22.998Z"
   },
   {
    "duration": 681,
    "start_time": "2023-02-04T08:01:23.012Z"
   },
   {
    "duration": 27,
    "start_time": "2023-02-04T08:01:23.695Z"
   },
   {
    "duration": 6,
    "start_time": "2023-02-04T08:01:23.723Z"
   },
   {
    "duration": 6,
    "start_time": "2023-02-04T08:01:23.730Z"
   },
   {
    "duration": 7,
    "start_time": "2023-02-04T08:01:23.738Z"
   },
   {
    "duration": 7,
    "start_time": "2023-02-04T08:01:23.746Z"
   },
   {
    "duration": 33,
    "start_time": "2023-02-04T08:01:23.755Z"
   },
   {
    "duration": 4004,
    "start_time": "2023-02-04T08:01:23.811Z"
   },
   {
    "duration": 92,
    "start_time": "2023-02-04T08:01:27.819Z"
   },
   {
    "duration": 408,
    "start_time": "2023-02-04T08:01:27.912Z"
   },
   {
    "duration": 92,
    "start_time": "2023-02-04T08:01:28.321Z"
   },
   {
    "duration": 218,
    "start_time": "2023-02-04T08:01:28.415Z"
   },
   {
    "duration": 1385,
    "start_time": "2023-02-04T08:01:50.066Z"
   },
   {
    "duration": 3,
    "start_time": "2023-02-04T08:01:51.453Z"
   },
   {
    "duration": 917,
    "start_time": "2023-02-04T08:01:51.458Z"
   },
   {
    "duration": 176,
    "start_time": "2023-02-04T08:01:52.377Z"
   },
   {
    "duration": 5,
    "start_time": "2023-02-04T08:01:52.557Z"
   },
   {
    "duration": 284,
    "start_time": "2023-02-04T08:01:52.563Z"
   },
   {
    "duration": 3,
    "start_time": "2023-02-04T08:01:52.849Z"
   },
   {
    "duration": 13,
    "start_time": "2023-02-04T08:01:52.854Z"
   },
   {
    "duration": 5,
    "start_time": "2023-02-04T08:01:52.869Z"
   },
   {
    "duration": 35,
    "start_time": "2023-02-04T08:01:52.876Z"
   },
   {
    "duration": 8,
    "start_time": "2023-02-04T08:01:52.914Z"
   },
   {
    "duration": 10,
    "start_time": "2023-02-04T08:01:52.924Z"
   },
   {
    "duration": 13,
    "start_time": "2023-02-04T08:01:52.936Z"
   },
   {
    "duration": 12,
    "start_time": "2023-02-04T08:01:52.953Z"
   },
   {
    "duration": 19,
    "start_time": "2023-02-04T08:01:52.969Z"
   },
   {
    "duration": 23,
    "start_time": "2023-02-04T08:01:52.989Z"
   },
   {
    "duration": 6,
    "start_time": "2023-02-04T08:01:53.014Z"
   },
   {
    "duration": 16,
    "start_time": "2023-02-04T08:01:53.025Z"
   },
   {
    "duration": 3,
    "start_time": "2023-02-04T08:01:53.045Z"
   },
   {
    "duration": 242,
    "start_time": "2023-02-04T08:01:53.050Z"
   },
   {
    "duration": 288,
    "start_time": "2023-02-04T08:01:53.294Z"
   },
   {
    "duration": 27,
    "start_time": "2023-02-04T08:01:53.585Z"
   },
   {
    "duration": 724,
    "start_time": "2023-02-04T08:01:53.614Z"
   },
   {
    "duration": 18,
    "start_time": "2023-02-04T08:01:54.339Z"
   },
   {
    "duration": 6,
    "start_time": "2023-02-04T08:01:54.358Z"
   },
   {
    "duration": 6,
    "start_time": "2023-02-04T08:01:54.365Z"
   },
   {
    "duration": 6,
    "start_time": "2023-02-04T08:01:54.373Z"
   },
   {
    "duration": 35,
    "start_time": "2023-02-04T08:01:54.382Z"
   },
   {
    "duration": 33,
    "start_time": "2023-02-04T08:01:54.419Z"
   },
   {
    "duration": 3359,
    "start_time": "2023-02-04T08:01:54.454Z"
   },
   {
    "duration": 93,
    "start_time": "2023-02-04T08:01:57.819Z"
   },
   {
    "duration": 405,
    "start_time": "2023-02-04T08:01:57.914Z"
   },
   {
    "duration": 97,
    "start_time": "2023-02-04T08:01:58.321Z"
   },
   {
    "duration": 119,
    "start_time": "2023-02-04T08:01:58.422Z"
   },
   {
    "duration": 1719,
    "start_time": "2023-02-04T08:44:42.931Z"
   },
   {
    "duration": 3,
    "start_time": "2023-02-04T08:44:44.652Z"
   },
   {
    "duration": 3351,
    "start_time": "2023-02-04T08:44:44.656Z"
   },
   {
    "duration": 153,
    "start_time": "2023-02-04T08:44:48.009Z"
   },
   {
    "duration": 5,
    "start_time": "2023-02-04T08:44:48.164Z"
   },
   {
    "duration": 275,
    "start_time": "2023-02-04T08:44:48.170Z"
   },
   {
    "duration": 2,
    "start_time": "2023-02-04T08:44:48.446Z"
   },
   {
    "duration": 19,
    "start_time": "2023-02-04T08:44:48.450Z"
   },
   {
    "duration": 5,
    "start_time": "2023-02-04T08:44:48.471Z"
   },
   {
    "duration": 9,
    "start_time": "2023-02-04T08:44:48.477Z"
   },
   {
    "duration": 9,
    "start_time": "2023-02-04T08:44:48.487Z"
   },
   {
    "duration": 11,
    "start_time": "2023-02-04T08:44:48.498Z"
   },
   {
    "duration": 12,
    "start_time": "2023-02-04T08:44:48.510Z"
   },
   {
    "duration": 9,
    "start_time": "2023-02-04T08:44:48.525Z"
   },
   {
    "duration": 25,
    "start_time": "2023-02-04T08:44:48.535Z"
   },
   {
    "duration": 4,
    "start_time": "2023-02-04T08:44:48.562Z"
   },
   {
    "duration": 14,
    "start_time": "2023-02-04T08:44:48.568Z"
   },
   {
    "duration": 8,
    "start_time": "2023-02-04T08:44:48.583Z"
   },
   {
    "duration": 10,
    "start_time": "2023-02-04T08:44:48.593Z"
   },
   {
    "duration": 196,
    "start_time": "2023-02-04T08:44:48.605Z"
   },
   {
    "duration": 250,
    "start_time": "2023-02-04T08:44:48.803Z"
   },
   {
    "duration": 11,
    "start_time": "2023-02-04T08:44:49.054Z"
   },
   {
    "duration": 679,
    "start_time": "2023-02-04T08:44:49.067Z"
   },
   {
    "duration": 17,
    "start_time": "2023-02-04T08:44:49.748Z"
   },
   {
    "duration": 4,
    "start_time": "2023-02-04T08:44:49.767Z"
   },
   {
    "duration": 18,
    "start_time": "2023-02-04T08:44:49.772Z"
   },
   {
    "duration": 10,
    "start_time": "2023-02-04T08:44:49.791Z"
   },
   {
    "duration": 14,
    "start_time": "2023-02-04T08:44:49.802Z"
   },
   {
    "duration": 23,
    "start_time": "2023-02-04T08:44:49.818Z"
   },
   {
    "duration": 2806,
    "start_time": "2023-02-04T08:44:49.843Z"
   },
   {
    "duration": 4,
    "start_time": "2023-02-04T08:44:52.651Z"
   },
   {
    "duration": 396,
    "start_time": "2023-02-04T08:44:52.656Z"
   },
   {
    "duration": 95,
    "start_time": "2023-02-04T08:44:53.056Z"
   },
   {
    "duration": 15,
    "start_time": "2023-02-04T08:44:53.153Z"
   },
   {
    "duration": 4,
    "start_time": "2023-02-04T08:45:49.109Z"
   },
   {
    "duration": 3,
    "start_time": "2023-02-04T08:45:51.939Z"
   },
   {
    "duration": 4,
    "start_time": "2023-02-04T08:46:16.119Z"
   },
   {
    "duration": 4,
    "start_time": "2023-02-04T08:46:18.609Z"
   },
   {
    "duration": 5,
    "start_time": "2023-02-04T08:46:21.190Z"
   },
   {
    "duration": 4,
    "start_time": "2023-02-04T08:46:25.258Z"
   },
   {
    "duration": 45,
    "start_time": "2023-02-04T08:46:35.865Z"
   },
   {
    "duration": 4,
    "start_time": "2023-02-04T08:46:40.141Z"
   },
   {
    "duration": 48,
    "start_time": "2023-02-04T08:46:49.402Z"
   },
   {
    "duration": 4,
    "start_time": "2023-02-04T08:47:23.698Z"
   },
   {
    "duration": 49,
    "start_time": "2023-02-04T08:47:30.638Z"
   },
   {
    "duration": 8,
    "start_time": "2023-02-04T08:47:43.207Z"
   },
   {
    "duration": 6,
    "start_time": "2023-02-04T08:48:51.434Z"
   },
   {
    "duration": 5,
    "start_time": "2023-02-04T08:49:49.659Z"
   },
   {
    "duration": 820,
    "start_time": "2023-02-04T08:50:18.740Z"
   },
   {
    "duration": 5,
    "start_time": "2023-02-04T08:51:29.285Z"
   },
   {
    "duration": 4,
    "start_time": "2023-02-04T08:51:33.471Z"
   },
   {
    "duration": 5,
    "start_time": "2023-02-04T08:51:36.886Z"
   },
   {
    "duration": 11,
    "start_time": "2023-02-04T08:52:03.639Z"
   },
   {
    "duration": 5,
    "start_time": "2023-02-04T08:52:07.874Z"
   },
   {
    "duration": 5,
    "start_time": "2023-02-04T08:52:12.940Z"
   },
   {
    "duration": 4,
    "start_time": "2023-02-04T08:52:45.964Z"
   },
   {
    "duration": 5,
    "start_time": "2023-02-04T08:52:51.039Z"
   },
   {
    "duration": 50,
    "start_time": "2023-02-04T08:53:05.964Z"
   },
   {
    "duration": 1572,
    "start_time": "2023-02-04T09:52:05.717Z"
   },
   {
    "duration": 3,
    "start_time": "2023-02-04T09:52:07.292Z"
   },
   {
    "duration": 3710,
    "start_time": "2023-02-04T09:52:07.297Z"
   },
   {
    "duration": 187,
    "start_time": "2023-02-04T09:52:11.008Z"
   },
   {
    "duration": 6,
    "start_time": "2023-02-04T09:52:11.198Z"
   },
   {
    "duration": 290,
    "start_time": "2023-02-04T09:52:11.205Z"
   },
   {
    "duration": 3,
    "start_time": "2023-02-04T09:52:11.496Z"
   },
   {
    "duration": 15,
    "start_time": "2023-02-04T09:52:11.501Z"
   },
   {
    "duration": 14,
    "start_time": "2023-02-04T09:52:11.517Z"
   },
   {
    "duration": 23,
    "start_time": "2023-02-04T09:52:11.533Z"
   },
   {
    "duration": 4,
    "start_time": "2023-02-04T09:52:11.558Z"
   },
   {
    "duration": 10,
    "start_time": "2023-02-04T09:52:11.564Z"
   },
   {
    "duration": 15,
    "start_time": "2023-02-04T09:52:11.575Z"
   },
   {
    "duration": 7,
    "start_time": "2023-02-04T09:52:11.594Z"
   },
   {
    "duration": 29,
    "start_time": "2023-02-04T09:52:11.604Z"
   },
   {
    "duration": 5,
    "start_time": "2023-02-04T09:52:11.636Z"
   },
   {
    "duration": 12,
    "start_time": "2023-02-04T09:52:11.643Z"
   },
   {
    "duration": 8,
    "start_time": "2023-02-04T09:52:11.657Z"
   },
   {
    "duration": 5,
    "start_time": "2023-02-04T09:52:11.667Z"
   },
   {
    "duration": 220,
    "start_time": "2023-02-04T09:52:11.673Z"
   },
   {
    "duration": 284,
    "start_time": "2023-02-04T09:52:11.895Z"
   },
   {
    "duration": 11,
    "start_time": "2023-02-04T09:52:12.181Z"
   },
   {
    "duration": 728,
    "start_time": "2023-02-04T09:52:12.194Z"
   },
   {
    "duration": 19,
    "start_time": "2023-02-04T09:52:12.924Z"
   },
   {
    "duration": 16,
    "start_time": "2023-02-04T09:52:12.945Z"
   },
   {
    "duration": 6,
    "start_time": "2023-02-04T09:52:12.962Z"
   },
   {
    "duration": 6,
    "start_time": "2023-02-04T09:52:12.970Z"
   },
   {
    "duration": 6,
    "start_time": "2023-02-04T09:52:12.978Z"
   },
   {
    "duration": 19,
    "start_time": "2023-02-04T09:52:12.986Z"
   },
   {
    "duration": 3243,
    "start_time": "2023-02-04T09:52:13.007Z"
   },
   {
    "duration": 3,
    "start_time": "2023-02-04T09:52:16.254Z"
   },
   {
    "duration": 474,
    "start_time": "2023-02-04T09:52:16.260Z"
   },
   {
    "duration": 90,
    "start_time": "2023-02-04T09:52:16.738Z"
   },
   {
    "duration": 26,
    "start_time": "2023-02-04T09:52:16.830Z"
   },
   {
    "duration": 1376,
    "start_time": "2023-02-04T09:55:34.570Z"
   },
   {
    "duration": 3,
    "start_time": "2023-02-04T09:55:35.949Z"
   },
   {
    "duration": 852,
    "start_time": "2023-02-04T09:55:35.954Z"
   },
   {
    "duration": 166,
    "start_time": "2023-02-04T09:55:36.808Z"
   },
   {
    "duration": 5,
    "start_time": "2023-02-04T09:55:36.976Z"
   },
   {
    "duration": 334,
    "start_time": "2023-02-04T09:55:36.983Z"
   },
   {
    "duration": 9,
    "start_time": "2023-02-04T09:55:37.319Z"
   },
   {
    "duration": 37,
    "start_time": "2023-02-04T09:55:37.330Z"
   },
   {
    "duration": 9,
    "start_time": "2023-02-04T09:55:37.369Z"
   },
   {
    "duration": 10,
    "start_time": "2023-02-04T09:55:37.381Z"
   },
   {
    "duration": 11,
    "start_time": "2023-02-04T09:55:37.393Z"
   },
   {
    "duration": 14,
    "start_time": "2023-02-04T09:55:37.405Z"
   },
   {
    "duration": 19,
    "start_time": "2023-02-04T09:55:37.421Z"
   },
   {
    "duration": 9,
    "start_time": "2023-02-04T09:55:37.444Z"
   },
   {
    "duration": 23,
    "start_time": "2023-02-04T09:55:37.455Z"
   },
   {
    "duration": 4,
    "start_time": "2023-02-04T09:55:37.481Z"
   },
   {
    "duration": 8,
    "start_time": "2023-02-04T09:55:37.487Z"
   },
   {
    "duration": 16,
    "start_time": "2023-02-04T09:55:37.497Z"
   },
   {
    "duration": 15,
    "start_time": "2023-02-04T09:55:37.515Z"
   },
   {
    "duration": 208,
    "start_time": "2023-02-04T09:55:37.532Z"
   },
   {
    "duration": 280,
    "start_time": "2023-02-04T09:55:37.742Z"
   },
   {
    "duration": 11,
    "start_time": "2023-02-04T09:55:38.028Z"
   },
   {
    "duration": 707,
    "start_time": "2023-02-04T09:55:38.040Z"
   },
   {
    "duration": 17,
    "start_time": "2023-02-04T09:55:38.749Z"
   },
   {
    "duration": 5,
    "start_time": "2023-02-04T09:55:38.768Z"
   },
   {
    "duration": 10,
    "start_time": "2023-02-04T09:55:38.776Z"
   },
   {
    "duration": 7,
    "start_time": "2023-02-04T09:55:38.788Z"
   },
   {
    "duration": 10,
    "start_time": "2023-02-04T09:55:38.796Z"
   },
   {
    "duration": 38,
    "start_time": "2023-02-04T09:55:38.808Z"
   },
   {
    "duration": 3089,
    "start_time": "2023-02-04T09:55:38.848Z"
   },
   {
    "duration": 5,
    "start_time": "2023-02-04T09:55:41.940Z"
   },
   {
    "duration": 291,
    "start_time": "2023-02-04T09:55:41.947Z"
   },
   {
    "duration": 89,
    "start_time": "2023-02-04T09:55:42.240Z"
   },
   {
    "duration": 124,
    "start_time": "2023-02-04T09:55:42.332Z"
   },
   {
    "duration": 1286,
    "start_time": "2023-02-04T10:17:15.029Z"
   },
   {
    "duration": 2,
    "start_time": "2023-02-04T10:17:16.317Z"
   },
   {
    "duration": 861,
    "start_time": "2023-02-04T10:17:16.321Z"
   },
   {
    "duration": 216,
    "start_time": "2023-02-04T10:17:17.183Z"
   },
   {
    "duration": 5,
    "start_time": "2023-02-04T10:17:17.401Z"
   },
   {
    "duration": 272,
    "start_time": "2023-02-04T10:17:17.407Z"
   },
   {
    "duration": 3,
    "start_time": "2023-02-04T10:17:17.680Z"
   },
   {
    "duration": 13,
    "start_time": "2023-02-04T10:17:17.684Z"
   },
   {
    "duration": 5,
    "start_time": "2023-02-04T10:17:17.698Z"
   },
   {
    "duration": 25,
    "start_time": "2023-02-04T10:17:17.704Z"
   },
   {
    "duration": 2,
    "start_time": "2023-02-04T10:17:17.730Z"
   },
   {
    "duration": 9,
    "start_time": "2023-02-04T10:17:17.734Z"
   },
   {
    "duration": 9,
    "start_time": "2023-02-04T10:17:17.744Z"
   },
   {
    "duration": 6,
    "start_time": "2023-02-04T10:17:17.755Z"
   },
   {
    "duration": 15,
    "start_time": "2023-02-04T10:17:17.762Z"
   },
   {
    "duration": 4,
    "start_time": "2023-02-04T10:17:17.778Z"
   },
   {
    "duration": 5,
    "start_time": "2023-02-04T10:17:17.784Z"
   },
   {
    "duration": 6,
    "start_time": "2023-02-04T10:17:17.790Z"
   },
   {
    "duration": 4,
    "start_time": "2023-02-04T10:17:17.827Z"
   },
   {
    "duration": 183,
    "start_time": "2023-02-04T10:17:17.833Z"
   },
   {
    "duration": 239,
    "start_time": "2023-02-04T10:17:18.018Z"
   },
   {
    "duration": 10,
    "start_time": "2023-02-04T10:17:18.258Z"
   },
   {
    "duration": 654,
    "start_time": "2023-02-04T10:17:18.269Z"
   },
   {
    "duration": 18,
    "start_time": "2023-02-04T10:17:18.927Z"
   },
   {
    "duration": 4,
    "start_time": "2023-02-04T10:17:18.946Z"
   },
   {
    "duration": 6,
    "start_time": "2023-02-04T10:17:18.951Z"
   },
   {
    "duration": 4,
    "start_time": "2023-02-04T10:17:18.958Z"
   },
   {
    "duration": 6,
    "start_time": "2023-02-04T10:17:18.963Z"
   },
   {
    "duration": 19,
    "start_time": "2023-02-04T10:17:18.971Z"
   },
   {
    "duration": 2937,
    "start_time": "2023-02-04T10:17:18.991Z"
   },
   {
    "duration": 4,
    "start_time": "2023-02-04T10:17:21.930Z"
   },
   {
    "duration": 294,
    "start_time": "2023-02-04T10:17:21.935Z"
   },
   {
    "duration": 97,
    "start_time": "2023-02-04T10:17:22.231Z"
   },
   {
    "duration": 99,
    "start_time": "2023-02-04T10:17:22.330Z"
   },
   {
    "duration": 1238,
    "start_time": "2023-02-04T10:19:22.281Z"
   },
   {
    "duration": 3,
    "start_time": "2023-02-04T10:19:23.521Z"
   },
   {
    "duration": 886,
    "start_time": "2023-02-04T10:19:23.525Z"
   },
   {
    "duration": 152,
    "start_time": "2023-02-04T10:19:24.413Z"
   },
   {
    "duration": 4,
    "start_time": "2023-02-04T10:19:24.567Z"
   },
   {
    "duration": 261,
    "start_time": "2023-02-04T10:19:24.573Z"
   },
   {
    "duration": 3,
    "start_time": "2023-02-04T10:19:24.835Z"
   },
   {
    "duration": 11,
    "start_time": "2023-02-04T10:19:24.839Z"
   },
   {
    "duration": 4,
    "start_time": "2023-02-04T10:19:24.851Z"
   },
   {
    "duration": 5,
    "start_time": "2023-02-04T10:19:24.857Z"
   },
   {
    "duration": 5,
    "start_time": "2023-02-04T10:19:24.863Z"
   },
   {
    "duration": 9,
    "start_time": "2023-02-04T10:19:24.869Z"
   },
   {
    "duration": 9,
    "start_time": "2023-02-04T10:19:24.879Z"
   },
   {
    "duration": 6,
    "start_time": "2023-02-04T10:19:24.890Z"
   },
   {
    "duration": 41,
    "start_time": "2023-02-04T10:19:24.897Z"
   },
   {
    "duration": 4,
    "start_time": "2023-02-04T10:19:24.939Z"
   },
   {
    "duration": 5,
    "start_time": "2023-02-04T10:19:24.945Z"
   },
   {
    "duration": 6,
    "start_time": "2023-02-04T10:19:24.951Z"
   },
   {
    "duration": 4,
    "start_time": "2023-02-04T10:19:24.958Z"
   },
   {
    "duration": 205,
    "start_time": "2023-02-04T10:19:24.964Z"
   },
   {
    "duration": 257,
    "start_time": "2023-02-04T10:19:25.170Z"
   },
   {
    "duration": 10,
    "start_time": "2023-02-04T10:19:25.429Z"
   },
   {
    "duration": 634,
    "start_time": "2023-02-04T10:19:25.441Z"
   },
   {
    "duration": 16,
    "start_time": "2023-02-04T10:19:26.077Z"
   },
   {
    "duration": 4,
    "start_time": "2023-02-04T10:19:26.095Z"
   },
   {
    "duration": 5,
    "start_time": "2023-02-04T10:19:26.100Z"
   },
   {
    "duration": 4,
    "start_time": "2023-02-04T10:19:26.106Z"
   },
   {
    "duration": 19,
    "start_time": "2023-02-04T10:19:26.112Z"
   },
   {
    "duration": 19,
    "start_time": "2023-02-04T10:19:26.132Z"
   },
   {
    "duration": 2482,
    "start_time": "2023-02-04T10:19:26.153Z"
   },
   {
    "duration": 92,
    "start_time": "2023-02-04T10:19:28.637Z"
   },
   {
    "duration": 303,
    "start_time": "2023-02-04T10:19:28.731Z"
   },
   {
    "duration": 97,
    "start_time": "2023-02-04T10:19:29.036Z"
   },
   {
    "duration": 11,
    "start_time": "2023-02-04T10:19:29.134Z"
   },
   {
    "duration": 1290,
    "start_time": "2023-02-04T10:20:47.929Z"
   },
   {
    "duration": 3,
    "start_time": "2023-02-04T10:20:49.220Z"
   },
   {
    "duration": 866,
    "start_time": "2023-02-04T10:20:49.224Z"
   },
   {
    "duration": 156,
    "start_time": "2023-02-04T10:20:50.092Z"
   },
   {
    "duration": 5,
    "start_time": "2023-02-04T10:20:50.249Z"
   },
   {
    "duration": 270,
    "start_time": "2023-02-04T10:20:50.255Z"
   },
   {
    "duration": 3,
    "start_time": "2023-02-04T10:20:50.526Z"
   },
   {
    "duration": 12,
    "start_time": "2023-02-04T10:20:50.530Z"
   },
   {
    "duration": 5,
    "start_time": "2023-02-04T10:20:50.543Z"
   },
   {
    "duration": 4,
    "start_time": "2023-02-04T10:20:50.550Z"
   },
   {
    "duration": 3,
    "start_time": "2023-02-04T10:20:50.555Z"
   },
   {
    "duration": 8,
    "start_time": "2023-02-04T10:20:50.560Z"
   },
   {
    "duration": 14,
    "start_time": "2023-02-04T10:20:50.569Z"
   },
   {
    "duration": 6,
    "start_time": "2023-02-04T10:20:50.584Z"
   },
   {
    "duration": 43,
    "start_time": "2023-02-04T10:20:50.591Z"
   },
   {
    "duration": 4,
    "start_time": "2023-02-04T10:20:50.636Z"
   },
   {
    "duration": 7,
    "start_time": "2023-02-04T10:20:50.642Z"
   },
   {
    "duration": 9,
    "start_time": "2023-02-04T10:20:50.650Z"
   },
   {
    "duration": 11,
    "start_time": "2023-02-04T10:20:50.661Z"
   },
   {
    "duration": 185,
    "start_time": "2023-02-04T10:20:50.673Z"
   },
   {
    "duration": 236,
    "start_time": "2023-02-04T10:20:50.859Z"
   },
   {
    "duration": 11,
    "start_time": "2023-02-04T10:20:51.096Z"
   },
   {
    "duration": 650,
    "start_time": "2023-02-04T10:20:51.108Z"
   },
   {
    "duration": 16,
    "start_time": "2023-02-04T10:20:51.760Z"
   },
   {
    "duration": 4,
    "start_time": "2023-02-04T10:20:51.778Z"
   },
   {
    "duration": 6,
    "start_time": "2023-02-04T10:20:51.783Z"
   },
   {
    "duration": 19,
    "start_time": "2023-02-04T10:20:51.790Z"
   },
   {
    "duration": 11,
    "start_time": "2023-02-04T10:20:51.812Z"
   },
   {
    "duration": 25,
    "start_time": "2023-02-04T10:20:51.824Z"
   },
   {
    "duration": 2281,
    "start_time": "2023-02-04T10:20:51.850Z"
   },
   {
    "duration": 3,
    "start_time": "2023-02-04T10:20:54.133Z"
   },
   {
    "duration": 499,
    "start_time": "2023-02-04T10:20:54.138Z"
   },
   {
    "duration": 93,
    "start_time": "2023-02-04T10:20:54.735Z"
   },
   {
    "duration": 13,
    "start_time": "2023-02-04T10:20:54.830Z"
   },
   {
    "duration": 1773,
    "start_time": "2023-02-04T14:48:10.107Z"
   },
   {
    "duration": 13,
    "start_time": "2023-02-04T14:48:11.882Z"
   },
   {
    "duration": 2477,
    "start_time": "2023-02-04T14:48:11.898Z"
   },
   {
    "duration": 185,
    "start_time": "2023-02-04T14:48:14.377Z"
   },
   {
    "duration": 31,
    "start_time": "2023-02-04T14:48:14.565Z"
   },
   {
    "duration": 301,
    "start_time": "2023-02-04T14:48:14.599Z"
   },
   {
    "duration": 3,
    "start_time": "2023-02-04T14:48:14.903Z"
   },
   {
    "duration": 17,
    "start_time": "2023-02-04T14:48:14.908Z"
   },
   {
    "duration": 6,
    "start_time": "2023-02-04T14:48:14.927Z"
   },
   {
    "duration": 14,
    "start_time": "2023-02-04T14:48:14.935Z"
   },
   {
    "duration": 8,
    "start_time": "2023-02-04T14:48:14.951Z"
   },
   {
    "duration": 31,
    "start_time": "2023-02-04T14:48:14.961Z"
   },
   {
    "duration": 22,
    "start_time": "2023-02-04T14:48:14.994Z"
   },
   {
    "duration": 27,
    "start_time": "2023-02-04T14:48:15.019Z"
   },
   {
    "duration": 18,
    "start_time": "2023-02-04T14:48:15.048Z"
   },
   {
    "duration": 5,
    "start_time": "2023-02-04T14:48:15.068Z"
   },
   {
    "duration": 13,
    "start_time": "2023-02-04T14:48:15.075Z"
   },
   {
    "duration": 24,
    "start_time": "2023-02-04T14:48:15.092Z"
   },
   {
    "duration": 10,
    "start_time": "2023-02-04T14:48:15.118Z"
   },
   {
    "duration": 231,
    "start_time": "2023-02-04T14:48:15.130Z"
   },
   {
    "duration": 327,
    "start_time": "2023-02-04T14:48:15.363Z"
   },
   {
    "duration": 15,
    "start_time": "2023-02-04T14:48:15.691Z"
   },
   {
    "duration": 800,
    "start_time": "2023-02-04T14:48:15.707Z"
   },
   {
    "duration": 21,
    "start_time": "2023-02-04T14:48:16.509Z"
   },
   {
    "duration": 5,
    "start_time": "2023-02-04T14:48:16.532Z"
   },
   {
    "duration": 6,
    "start_time": "2023-02-04T14:48:16.539Z"
   },
   {
    "duration": 10,
    "start_time": "2023-02-04T14:48:16.547Z"
   },
   {
    "duration": 28,
    "start_time": "2023-02-04T14:48:16.558Z"
   },
   {
    "duration": 39,
    "start_time": "2023-02-04T14:48:16.588Z"
   },
   {
    "duration": 6370,
    "start_time": "2023-02-04T14:48:16.629Z"
   },
   {
    "duration": 93,
    "start_time": "2023-02-04T14:48:23.001Z"
   },
   {
    "duration": 696,
    "start_time": "2023-02-04T14:48:23.096Z"
   },
   {
    "duration": 12,
    "start_time": "2023-02-04T14:48:23.794Z"
   },
   {
    "duration": 185,
    "start_time": "2023-02-04T14:48:23.807Z"
   },
   {
    "duration": 46,
    "start_time": "2023-02-04T14:55:41.854Z"
   },
   {
    "duration": 4,
    "start_time": "2023-02-04T15:01:52.765Z"
   },
   {
    "duration": 4,
    "start_time": "2023-02-04T15:22:55.686Z"
   },
   {
    "duration": 4,
    "start_time": "2023-02-04T15:22:58.600Z"
   },
   {
    "duration": 4,
    "start_time": "2023-02-04T15:23:04.213Z"
   },
   {
    "duration": 266883,
    "start_time": "2023-02-04T15:31:01.758Z"
   },
   {
    "duration": 60208,
    "start_time": "2023-02-04T15:35:49.252Z"
   },
   {
    "duration": 3,
    "start_time": "2023-02-04T15:39:32.766Z"
   },
   {
    "duration": 5,
    "start_time": "2023-02-04T15:39:40.864Z"
   },
   {
    "duration": 8994,
    "start_time": "2023-02-04T15:40:35.161Z"
   },
   {
    "duration": 4,
    "start_time": "2023-02-04T15:40:51.827Z"
   },
   {
    "duration": 4,
    "start_time": "2023-02-04T15:41:07.771Z"
   },
   {
    "duration": 5,
    "start_time": "2023-02-04T15:41:14.899Z"
   },
   {
    "duration": 9318,
    "start_time": "2023-02-04T15:41:21.139Z"
   },
   {
    "duration": 4,
    "start_time": "2023-02-04T15:41:52.039Z"
   },
   {
    "duration": 61278,
    "start_time": "2023-02-04T15:44:05.736Z"
   },
   {
    "duration": 59235,
    "start_time": "2023-02-04T15:46:41.444Z"
   },
   {
    "duration": 60835,
    "start_time": "2023-02-04T15:47:40.681Z"
   },
   {
    "duration": 3,
    "start_time": "2023-02-04T15:48:53.775Z"
   },
   {
    "duration": 2,
    "start_time": "2023-02-04T15:48:56.075Z"
   },
   {
    "duration": 4,
    "start_time": "2023-02-04T15:49:07.841Z"
   },
   {
    "duration": 5,
    "start_time": "2023-02-04T15:49:10.263Z"
   },
   {
    "duration": 4562,
    "start_time": "2023-02-04T15:49:22.984Z"
   },
   {
    "duration": 5,
    "start_time": "2023-02-04T15:49:29.703Z"
   },
   {
    "duration": 5,
    "start_time": "2023-02-04T15:50:08.945Z"
   },
   {
    "duration": 3,
    "start_time": "2023-02-04T15:50:31.198Z"
   },
   {
    "duration": 18404,
    "start_time": "2023-02-04T15:51:28.403Z"
   },
   {
    "duration": 4,
    "start_time": "2023-02-04T15:51:48.211Z"
   },
   {
    "duration": 3,
    "start_time": "2023-02-04T15:51:50.475Z"
   },
   {
    "duration": 11,
    "start_time": "2023-02-04T15:51:53.789Z"
   },
   {
    "duration": 4,
    "start_time": "2023-02-04T15:52:09.078Z"
   },
   {
    "duration": 10,
    "start_time": "2023-02-04T15:52:24.038Z"
   },
   {
    "duration": 4,
    "start_time": "2023-02-04T15:52:36.612Z"
   },
   {
    "duration": 54,
    "start_time": "2023-02-04T15:56:24.175Z"
   },
   {
    "duration": 99419,
    "start_time": "2023-02-04T15:58:03.677Z"
   },
   {
    "duration": 4,
    "start_time": "2023-02-04T16:00:08.776Z"
   },
   {
    "duration": 102338,
    "start_time": "2023-02-04T16:00:23.576Z"
   },
   {
    "duration": 5,
    "start_time": "2023-02-04T16:02:10.098Z"
   },
   {
    "duration": 10737,
    "start_time": "2023-02-04T16:02:49.531Z"
   },
   {
    "duration": 4,
    "start_time": "2023-02-04T16:03:03.045Z"
   },
   {
    "duration": 6,
    "start_time": "2023-02-04T16:03:05.492Z"
   },
   {
    "duration": 4,
    "start_time": "2023-02-04T16:04:39.450Z"
   },
   {
    "duration": 4,
    "start_time": "2023-02-04T16:05:25.942Z"
   },
   {
    "duration": 10,
    "start_time": "2023-02-04T16:07:07.869Z"
   },
   {
    "duration": 10394,
    "start_time": "2023-02-04T16:07:46.431Z"
   },
   {
    "duration": 3,
    "start_time": "2023-02-04T16:08:03.350Z"
   },
   {
    "duration": 4,
    "start_time": "2023-02-04T16:08:14.838Z"
   },
   {
    "duration": 5,
    "start_time": "2023-02-04T16:08:47.979Z"
   },
   {
    "duration": 6,
    "start_time": "2023-02-04T16:09:12.290Z"
   },
   {
    "duration": 4,
    "start_time": "2023-02-04T16:09:17.967Z"
   },
   {
    "duration": 4,
    "start_time": "2023-02-04T16:10:15.035Z"
   },
   {
    "duration": 2726,
    "start_time": "2023-02-04T16:16:47.481Z"
   },
   {
    "duration": 8,
    "start_time": "2023-02-04T16:17:07.771Z"
   },
   {
    "duration": 11,
    "start_time": "2023-02-04T16:17:56.893Z"
   },
   {
    "duration": 6,
    "start_time": "2023-02-04T16:18:18.330Z"
   },
   {
    "duration": 7,
    "start_time": "2023-02-04T16:18:32.056Z"
   },
   {
    "duration": 49,
    "start_time": "2023-02-04T16:20:24.528Z"
   },
   {
    "duration": 6,
    "start_time": "2023-02-04T16:20:37.460Z"
   },
   {
    "duration": 8,
    "start_time": "2023-02-04T16:20:50.979Z"
   },
   {
    "duration": 6,
    "start_time": "2023-02-04T16:21:20.871Z"
   },
   {
    "duration": 5,
    "start_time": "2023-02-04T16:21:28.449Z"
   },
   {
    "duration": 46,
    "start_time": "2023-02-04T16:23:18.816Z"
   },
   {
    "duration": 8,
    "start_time": "2023-02-04T16:23:38.530Z"
   },
   {
    "duration": 12,
    "start_time": "2023-02-04T16:23:51.879Z"
   },
   {
    "duration": 4,
    "start_time": "2023-02-04T16:31:06.388Z"
   },
   {
    "duration": 12,
    "start_time": "2023-02-04T16:32:06.356Z"
   },
   {
    "duration": 4,
    "start_time": "2023-02-04T16:35:22.944Z"
   },
   {
    "duration": 13,
    "start_time": "2023-02-04T16:35:26.679Z"
   },
   {
    "duration": 8,
    "start_time": "2023-02-04T16:35:40.743Z"
   },
   {
    "duration": 8,
    "start_time": "2023-02-04T16:37:07.145Z"
   },
   {
    "duration": 9,
    "start_time": "2023-02-04T16:41:29.359Z"
   },
   {
    "duration": 1428,
    "start_time": "2023-02-04T16:42:47.423Z"
   },
   {
    "duration": 3,
    "start_time": "2023-02-04T16:42:48.853Z"
   },
   {
    "duration": 1093,
    "start_time": "2023-02-04T16:42:48.858Z"
   },
   {
    "duration": 198,
    "start_time": "2023-02-04T16:42:49.953Z"
   },
   {
    "duration": 5,
    "start_time": "2023-02-04T16:42:50.154Z"
   },
   {
    "duration": 328,
    "start_time": "2023-02-04T16:42:50.185Z"
   },
   {
    "duration": 5,
    "start_time": "2023-02-04T16:42:50.515Z"
   },
   {
    "duration": 21,
    "start_time": "2023-02-04T16:42:50.522Z"
   },
   {
    "duration": 5,
    "start_time": "2023-02-04T16:42:50.546Z"
   },
   {
    "duration": 10,
    "start_time": "2023-02-04T16:42:50.553Z"
   },
   {
    "duration": 11,
    "start_time": "2023-02-04T16:42:50.584Z"
   },
   {
    "duration": 20,
    "start_time": "2023-02-04T16:42:50.599Z"
   },
   {
    "duration": 15,
    "start_time": "2023-02-04T16:42:50.620Z"
   },
   {
    "duration": 9,
    "start_time": "2023-02-04T16:42:50.639Z"
   },
   {
    "duration": 22,
    "start_time": "2023-02-04T16:42:50.650Z"
   },
   {
    "duration": 13,
    "start_time": "2023-02-04T16:42:50.675Z"
   },
   {
    "duration": 21,
    "start_time": "2023-02-04T16:42:50.690Z"
   },
   {
    "duration": 13,
    "start_time": "2023-02-04T16:42:50.713Z"
   },
   {
    "duration": 6,
    "start_time": "2023-02-04T16:42:50.728Z"
   },
   {
    "duration": 228,
    "start_time": "2023-02-04T16:42:50.735Z"
   },
   {
    "duration": 312,
    "start_time": "2023-02-04T16:42:50.965Z"
   },
   {
    "duration": 19,
    "start_time": "2023-02-04T16:42:51.283Z"
   },
   {
    "duration": 791,
    "start_time": "2023-02-04T16:42:51.304Z"
   },
   {
    "duration": 22,
    "start_time": "2023-02-04T16:42:52.101Z"
   },
   {
    "duration": 6,
    "start_time": "2023-02-04T16:42:52.125Z"
   },
   {
    "duration": 9,
    "start_time": "2023-02-04T16:42:52.133Z"
   },
   {
    "duration": 7,
    "start_time": "2023-02-04T16:42:52.144Z"
   },
   {
    "duration": 10,
    "start_time": "2023-02-04T16:42:52.153Z"
   },
   {
    "duration": 35,
    "start_time": "2023-02-04T16:42:52.165Z"
   },
   {
    "duration": 4983,
    "start_time": "2023-02-04T16:42:52.202Z"
   },
   {
    "duration": 6,
    "start_time": "2023-02-04T16:42:57.188Z"
   },
   {
    "duration": 37760,
    "start_time": "2023-02-04T16:42:57.196Z"
   },
   {
    "duration": 5,
    "start_time": "2023-02-04T16:43:34.958Z"
   },
   {
    "duration": 39003,
    "start_time": "2023-02-04T16:43:34.964Z"
   },
   {
    "duration": 4,
    "start_time": "2023-02-04T16:44:13.969Z"
   },
   {
    "duration": 10816,
    "start_time": "2023-02-04T16:44:13.976Z"
   },
   {
    "duration": 7,
    "start_time": "2023-02-04T16:44:24.798Z"
   },
   {
    "duration": 12,
    "start_time": "2023-02-04T16:44:24.807Z"
   },
   {
    "duration": 14,
    "start_time": "2023-02-04T16:44:24.821Z"
   },
   {
    "duration": 2704,
    "start_time": "2023-02-04T16:44:24.837Z"
   },
   {
    "duration": 7,
    "start_time": "2023-02-04T16:44:27.545Z"
   },
   {
    "duration": 16,
    "start_time": "2023-02-04T16:44:27.553Z"
   },
   {
    "duration": 31,
    "start_time": "2023-02-04T16:44:27.571Z"
   },
   {
    "duration": 10,
    "start_time": "2023-02-04T16:44:27.609Z"
   },
   {
    "duration": 15,
    "start_time": "2023-02-04T16:44:27.621Z"
   },
   {
    "duration": 9,
    "start_time": "2023-02-04T16:44:27.638Z"
   },
   {
    "duration": 8,
    "start_time": "2023-02-04T16:46:14.059Z"
   },
   {
    "duration": 8,
    "start_time": "2023-02-04T16:46:15.020Z"
   },
   {
    "duration": 18,
    "start_time": "2023-02-04T16:46:16.379Z"
   },
   {
    "duration": 1489,
    "start_time": "2023-02-04T16:48:11.838Z"
   },
   {
    "duration": 3,
    "start_time": "2023-02-04T16:48:13.329Z"
   },
   {
    "duration": 1090,
    "start_time": "2023-02-04T16:48:13.334Z"
   },
   {
    "duration": 202,
    "start_time": "2023-02-04T16:48:14.426Z"
   },
   {
    "duration": 5,
    "start_time": "2023-02-04T16:48:14.630Z"
   },
   {
    "duration": 334,
    "start_time": "2023-02-04T16:48:14.637Z"
   },
   {
    "duration": 3,
    "start_time": "2023-02-04T16:48:14.972Z"
   },
   {
    "duration": 26,
    "start_time": "2023-02-04T16:48:14.976Z"
   },
   {
    "duration": 28,
    "start_time": "2023-02-04T16:48:15.003Z"
   },
   {
    "duration": 10,
    "start_time": "2023-02-04T16:48:15.033Z"
   },
   {
    "duration": 6,
    "start_time": "2023-02-04T16:48:15.044Z"
   },
   {
    "duration": 11,
    "start_time": "2023-02-04T16:48:15.051Z"
   },
   {
    "duration": 12,
    "start_time": "2023-02-04T16:48:15.063Z"
   },
   {
    "duration": 28,
    "start_time": "2023-02-04T16:48:15.077Z"
   },
   {
    "duration": 22,
    "start_time": "2023-02-04T16:48:15.108Z"
   },
   {
    "duration": 6,
    "start_time": "2023-02-04T16:48:15.132Z"
   },
   {
    "duration": 5,
    "start_time": "2023-02-04T16:48:15.140Z"
   },
   {
    "duration": 6,
    "start_time": "2023-02-04T16:48:15.147Z"
   },
   {
    "duration": 8,
    "start_time": "2023-02-04T16:48:15.155Z"
   },
   {
    "duration": 244,
    "start_time": "2023-02-04T16:48:15.165Z"
   },
   {
    "duration": 307,
    "start_time": "2023-02-04T16:48:15.411Z"
   },
   {
    "duration": 12,
    "start_time": "2023-02-04T16:48:15.719Z"
   },
   {
    "duration": 812,
    "start_time": "2023-02-04T16:48:15.733Z"
   },
   {
    "duration": 19,
    "start_time": "2023-02-04T16:48:16.546Z"
   },
   {
    "duration": 21,
    "start_time": "2023-02-04T16:48:16.567Z"
   },
   {
    "duration": 15,
    "start_time": "2023-02-04T16:48:16.596Z"
   },
   {
    "duration": 11,
    "start_time": "2023-02-04T16:48:16.614Z"
   },
   {
    "duration": 11,
    "start_time": "2023-02-04T16:48:16.629Z"
   },
   {
    "duration": 25,
    "start_time": "2023-02-04T16:48:16.642Z"
   },
   {
    "duration": 5521,
    "start_time": "2023-02-04T16:48:16.669Z"
   },
   {
    "duration": 10,
    "start_time": "2023-02-04T16:48:22.201Z"
   },
   {
    "duration": 96116,
    "start_time": "2023-02-04T16:48:22.287Z"
   },
   {
    "duration": 5,
    "start_time": "2023-02-04T16:49:58.405Z"
   },
   {
    "duration": 95960,
    "start_time": "2023-02-04T16:49:58.411Z"
   },
   {
    "duration": 19,
    "start_time": "2023-02-04T16:51:34.373Z"
   },
   {
    "duration": 11310,
    "start_time": "2023-02-04T16:51:34.393Z"
   },
   {
    "duration": 4,
    "start_time": "2023-02-04T16:51:45.704Z"
   },
   {
    "duration": 14,
    "start_time": "2023-02-04T16:51:45.710Z"
   },
   {
    "duration": 11,
    "start_time": "2023-02-04T16:51:45.726Z"
   },
   {
    "duration": 2869,
    "start_time": "2023-02-04T16:51:45.739Z"
   },
   {
    "duration": 6,
    "start_time": "2023-02-04T16:51:48.610Z"
   },
   {
    "duration": 12,
    "start_time": "2023-02-04T16:51:48.618Z"
   },
   {
    "duration": 10,
    "start_time": "2023-02-04T16:51:48.632Z"
   },
   {
    "duration": 7,
    "start_time": "2023-02-04T16:51:48.644Z"
   },
   {
    "duration": 36,
    "start_time": "2023-02-04T16:51:48.653Z"
   },
   {
    "duration": 8,
    "start_time": "2023-02-04T16:51:48.695Z"
   },
   {
    "duration": 1468,
    "start_time": "2023-02-04T16:55:18.019Z"
   },
   {
    "duration": 3,
    "start_time": "2023-02-04T16:55:19.495Z"
   },
   {
    "duration": 1135,
    "start_time": "2023-02-04T16:55:19.501Z"
   },
   {
    "duration": 208,
    "start_time": "2023-02-04T16:55:20.638Z"
   },
   {
    "duration": 5,
    "start_time": "2023-02-04T16:55:20.849Z"
   },
   {
    "duration": 312,
    "start_time": "2023-02-04T16:55:20.856Z"
   },
   {
    "duration": 3,
    "start_time": "2023-02-04T16:55:21.170Z"
   },
   {
    "duration": 40,
    "start_time": "2023-02-04T16:55:21.174Z"
   },
   {
    "duration": 8,
    "start_time": "2023-02-04T16:55:21.216Z"
   },
   {
    "duration": 14,
    "start_time": "2023-02-04T16:55:21.226Z"
   },
   {
    "duration": 11,
    "start_time": "2023-02-04T16:55:21.241Z"
   },
   {
    "duration": 18,
    "start_time": "2023-02-04T16:55:21.254Z"
   },
   {
    "duration": 27,
    "start_time": "2023-02-04T16:55:21.274Z"
   },
   {
    "duration": 11,
    "start_time": "2023-02-04T16:55:21.305Z"
   },
   {
    "duration": 26,
    "start_time": "2023-02-04T16:55:21.318Z"
   },
   {
    "duration": 4,
    "start_time": "2023-02-04T16:55:21.346Z"
   },
   {
    "duration": 13,
    "start_time": "2023-02-04T16:55:21.352Z"
   },
   {
    "duration": 19,
    "start_time": "2023-02-04T16:55:21.366Z"
   },
   {
    "duration": 19,
    "start_time": "2023-02-04T16:55:21.389Z"
   },
   {
    "duration": 228,
    "start_time": "2023-02-04T16:55:21.410Z"
   },
   {
    "duration": 296,
    "start_time": "2023-02-04T16:55:21.640Z"
   },
   {
    "duration": 12,
    "start_time": "2023-02-04T16:55:21.937Z"
   },
   {
    "duration": 825,
    "start_time": "2023-02-04T16:55:21.951Z"
   },
   {
    "duration": 29,
    "start_time": "2023-02-04T16:55:22.778Z"
   },
   {
    "duration": 5,
    "start_time": "2023-02-04T16:55:22.808Z"
   },
   {
    "duration": 11,
    "start_time": "2023-02-04T16:55:22.815Z"
   },
   {
    "duration": 8,
    "start_time": "2023-02-04T16:55:22.828Z"
   },
   {
    "duration": 11,
    "start_time": "2023-02-04T16:55:22.838Z"
   },
   {
    "duration": 23,
    "start_time": "2023-02-04T16:55:22.850Z"
   },
   {
    "duration": 4417,
    "start_time": "2023-02-04T16:55:22.874Z"
   },
   {
    "duration": 7,
    "start_time": "2023-02-04T16:55:27.294Z"
   },
   {
    "duration": 228813,
    "start_time": "2023-02-04T16:55:27.304Z"
   },
   {
    "duration": 0,
    "start_time": "2023-02-04T16:59:16.119Z"
   },
   {
    "duration": 0,
    "start_time": "2023-02-04T16:59:16.121Z"
   },
   {
    "duration": 0,
    "start_time": "2023-02-04T16:59:16.122Z"
   },
   {
    "duration": 0,
    "start_time": "2023-02-04T16:59:16.122Z"
   },
   {
    "duration": 0,
    "start_time": "2023-02-04T16:59:16.123Z"
   },
   {
    "duration": 0,
    "start_time": "2023-02-04T16:59:16.125Z"
   },
   {
    "duration": 0,
    "start_time": "2023-02-04T16:59:16.126Z"
   },
   {
    "duration": 0,
    "start_time": "2023-02-04T16:59:16.128Z"
   },
   {
    "duration": 0,
    "start_time": "2023-02-04T16:59:16.129Z"
   },
   {
    "duration": 0,
    "start_time": "2023-02-04T16:59:16.131Z"
   },
   {
    "duration": 0,
    "start_time": "2023-02-04T16:59:16.132Z"
   },
   {
    "duration": 0,
    "start_time": "2023-02-04T16:59:16.133Z"
   },
   {
    "duration": 0,
    "start_time": "2023-02-04T16:59:16.135Z"
   },
   {
    "duration": 0,
    "start_time": "2023-02-04T16:59:16.135Z"
   },
   {
    "duration": 1544,
    "start_time": "2023-02-04T17:00:13.715Z"
   },
   {
    "duration": 3,
    "start_time": "2023-02-04T17:00:15.261Z"
   },
   {
    "duration": 1114,
    "start_time": "2023-02-04T17:00:15.265Z"
   },
   {
    "duration": 211,
    "start_time": "2023-02-04T17:00:16.381Z"
   },
   {
    "duration": 5,
    "start_time": "2023-02-04T17:00:16.599Z"
   },
   {
    "duration": 323,
    "start_time": "2023-02-04T17:00:16.606Z"
   },
   {
    "duration": 3,
    "start_time": "2023-02-04T17:00:16.931Z"
   },
   {
    "duration": 16,
    "start_time": "2023-02-04T17:00:16.936Z"
   },
   {
    "duration": 14,
    "start_time": "2023-02-04T17:00:16.954Z"
   },
   {
    "duration": 17,
    "start_time": "2023-02-04T17:00:16.970Z"
   },
   {
    "duration": 5,
    "start_time": "2023-02-04T17:00:16.991Z"
   },
   {
    "duration": 15,
    "start_time": "2023-02-04T17:00:16.998Z"
   },
   {
    "duration": 16,
    "start_time": "2023-02-04T17:00:17.014Z"
   },
   {
    "duration": 7,
    "start_time": "2023-02-04T17:00:17.034Z"
   },
   {
    "duration": 22,
    "start_time": "2023-02-04T17:00:17.042Z"
   },
   {
    "duration": 26,
    "start_time": "2023-02-04T17:00:17.066Z"
   },
   {
    "duration": 16,
    "start_time": "2023-02-04T17:00:17.093Z"
   },
   {
    "duration": 11,
    "start_time": "2023-02-04T17:00:17.111Z"
   },
   {
    "duration": 6,
    "start_time": "2023-02-04T17:00:17.124Z"
   },
   {
    "duration": 228,
    "start_time": "2023-02-04T17:00:17.132Z"
   },
   {
    "duration": 336,
    "start_time": "2023-02-04T17:00:17.361Z"
   },
   {
    "duration": 17,
    "start_time": "2023-02-04T17:00:17.699Z"
   },
   {
    "duration": 815,
    "start_time": "2023-02-04T17:00:17.718Z"
   },
   {
    "duration": 19,
    "start_time": "2023-02-04T17:00:18.535Z"
   },
   {
    "duration": 4,
    "start_time": "2023-02-04T17:00:18.556Z"
   },
   {
    "duration": 34,
    "start_time": "2023-02-04T17:00:18.562Z"
   },
   {
    "duration": 6,
    "start_time": "2023-02-04T17:00:18.598Z"
   },
   {
    "duration": 9,
    "start_time": "2023-02-04T17:00:18.606Z"
   },
   {
    "duration": 25,
    "start_time": "2023-02-04T17:00:18.616Z"
   },
   {
    "duration": 5058,
    "start_time": "2023-02-04T17:00:18.643Z"
   },
   {
    "duration": 9,
    "start_time": "2023-02-04T17:00:23.703Z"
   },
   {
    "duration": 66382,
    "start_time": "2023-02-04T17:00:23.714Z"
   },
   {
    "duration": 0,
    "start_time": "2023-02-04T17:01:30.100Z"
   },
   {
    "duration": 0,
    "start_time": "2023-02-04T17:01:30.101Z"
   },
   {
    "duration": 0,
    "start_time": "2023-02-04T17:01:30.103Z"
   },
   {
    "duration": 0,
    "start_time": "2023-02-04T17:01:30.104Z"
   },
   {
    "duration": 0,
    "start_time": "2023-02-04T17:01:30.105Z"
   },
   {
    "duration": 0,
    "start_time": "2023-02-04T17:01:30.106Z"
   },
   {
    "duration": 0,
    "start_time": "2023-02-04T17:01:30.107Z"
   },
   {
    "duration": 0,
    "start_time": "2023-02-04T17:01:30.108Z"
   },
   {
    "duration": 0,
    "start_time": "2023-02-04T17:01:30.110Z"
   },
   {
    "duration": 0,
    "start_time": "2023-02-04T17:01:30.111Z"
   },
   {
    "duration": 0,
    "start_time": "2023-02-04T17:01:30.112Z"
   },
   {
    "duration": 0,
    "start_time": "2023-02-04T17:01:30.113Z"
   },
   {
    "duration": 0,
    "start_time": "2023-02-04T17:01:30.115Z"
   },
   {
    "duration": 0,
    "start_time": "2023-02-04T17:01:30.116Z"
   },
   {
    "duration": 1750,
    "start_time": "2023-02-04T17:01:42.914Z"
   },
   {
    "duration": 4,
    "start_time": "2023-02-04T17:01:44.666Z"
   },
   {
    "duration": 1437,
    "start_time": "2023-02-04T17:01:44.672Z"
   },
   {
    "duration": 223,
    "start_time": "2023-02-04T17:01:46.111Z"
   },
   {
    "duration": 5,
    "start_time": "2023-02-04T17:01:46.337Z"
   },
   {
    "duration": 345,
    "start_time": "2023-02-04T17:01:46.344Z"
   },
   {
    "duration": 3,
    "start_time": "2023-02-04T17:01:46.695Z"
   },
   {
    "duration": 28,
    "start_time": "2023-02-04T17:01:46.700Z"
   },
   {
    "duration": 6,
    "start_time": "2023-02-04T17:01:46.731Z"
   },
   {
    "duration": 13,
    "start_time": "2023-02-04T17:01:46.739Z"
   },
   {
    "duration": 7,
    "start_time": "2023-02-04T17:01:46.754Z"
   },
   {
    "duration": 11,
    "start_time": "2023-02-04T17:01:46.762Z"
   },
   {
    "duration": 16,
    "start_time": "2023-02-04T17:01:46.775Z"
   },
   {
    "duration": 23,
    "start_time": "2023-02-04T17:01:46.795Z"
   },
   {
    "duration": 30,
    "start_time": "2023-02-04T17:01:46.820Z"
   },
   {
    "duration": 6,
    "start_time": "2023-02-04T17:01:46.852Z"
   },
   {
    "duration": 9,
    "start_time": "2023-02-04T17:01:46.860Z"
   },
   {
    "duration": 9,
    "start_time": "2023-02-04T17:01:46.870Z"
   },
   {
    "duration": 16,
    "start_time": "2023-02-04T17:01:46.881Z"
   },
   {
    "duration": 244,
    "start_time": "2023-02-04T17:01:46.902Z"
   },
   {
    "duration": 310,
    "start_time": "2023-02-04T17:01:47.148Z"
   },
   {
    "duration": 12,
    "start_time": "2023-02-04T17:01:47.460Z"
   },
   {
    "duration": 844,
    "start_time": "2023-02-04T17:01:47.474Z"
   },
   {
    "duration": 20,
    "start_time": "2023-02-04T17:01:48.320Z"
   },
   {
    "duration": 10,
    "start_time": "2023-02-04T17:01:48.342Z"
   },
   {
    "duration": 7,
    "start_time": "2023-02-04T17:01:48.354Z"
   },
   {
    "duration": 21,
    "start_time": "2023-02-04T17:01:48.363Z"
   },
   {
    "duration": 23,
    "start_time": "2023-02-04T17:01:48.386Z"
   },
   {
    "duration": 23,
    "start_time": "2023-02-04T17:01:48.411Z"
   },
   {
    "duration": 4351,
    "start_time": "2023-02-04T17:01:48.436Z"
   },
   {
    "duration": 6,
    "start_time": "2023-02-04T17:01:52.789Z"
   },
   {
    "duration": 111574,
    "start_time": "2023-02-04T17:01:52.797Z"
   },
   {
    "duration": 0,
    "start_time": "2023-02-04T17:03:44.373Z"
   },
   {
    "duration": 0,
    "start_time": "2023-02-04T17:03:44.374Z"
   },
   {
    "duration": 0,
    "start_time": "2023-02-04T17:03:44.375Z"
   },
   {
    "duration": 0,
    "start_time": "2023-02-04T17:03:44.384Z"
   },
   {
    "duration": 0,
    "start_time": "2023-02-04T17:03:44.388Z"
   },
   {
    "duration": 0,
    "start_time": "2023-02-04T17:03:44.389Z"
   },
   {
    "duration": 0,
    "start_time": "2023-02-04T17:03:44.390Z"
   },
   {
    "duration": 0,
    "start_time": "2023-02-04T17:03:44.391Z"
   },
   {
    "duration": 0,
    "start_time": "2023-02-04T17:03:44.392Z"
   },
   {
    "duration": 0,
    "start_time": "2023-02-04T17:03:44.393Z"
   },
   {
    "duration": 0,
    "start_time": "2023-02-04T17:03:44.394Z"
   },
   {
    "duration": 0,
    "start_time": "2023-02-04T17:03:44.395Z"
   },
   {
    "duration": 0,
    "start_time": "2023-02-04T17:03:44.396Z"
   },
   {
    "duration": 0,
    "start_time": "2023-02-04T17:03:44.398Z"
   },
   {
    "duration": 1628,
    "start_time": "2023-02-04T17:04:39.263Z"
   },
   {
    "duration": 4,
    "start_time": "2023-02-04T17:04:40.893Z"
   },
   {
    "duration": 1061,
    "start_time": "2023-02-04T17:04:40.905Z"
   },
   {
    "duration": 240,
    "start_time": "2023-02-04T17:04:41.967Z"
   },
   {
    "duration": 5,
    "start_time": "2023-02-04T17:04:42.210Z"
   },
   {
    "duration": 317,
    "start_time": "2023-02-04T17:04:42.217Z"
   },
   {
    "duration": 3,
    "start_time": "2023-02-04T17:04:42.536Z"
   },
   {
    "duration": 14,
    "start_time": "2023-02-04T17:04:42.540Z"
   },
   {
    "duration": 5,
    "start_time": "2023-02-04T17:04:42.556Z"
   },
   {
    "duration": 37,
    "start_time": "2023-02-04T17:04:42.563Z"
   },
   {
    "duration": 7,
    "start_time": "2023-02-04T17:04:42.602Z"
   },
   {
    "duration": 10,
    "start_time": "2023-02-04T17:04:42.610Z"
   },
   {
    "duration": 13,
    "start_time": "2023-02-04T17:04:42.622Z"
   },
   {
    "duration": 11,
    "start_time": "2023-02-04T17:04:42.638Z"
   },
   {
    "duration": 16,
    "start_time": "2023-02-04T17:04:42.651Z"
   },
   {
    "duration": 18,
    "start_time": "2023-02-04T17:04:42.670Z"
   },
   {
    "duration": 21,
    "start_time": "2023-02-04T17:04:42.693Z"
   },
   {
    "duration": 8,
    "start_time": "2023-02-04T17:04:42.716Z"
   },
   {
    "duration": 15,
    "start_time": "2023-02-04T17:04:42.726Z"
   },
   {
    "duration": 219,
    "start_time": "2023-02-04T17:04:42.742Z"
   },
   {
    "duration": 311,
    "start_time": "2023-02-04T17:04:42.963Z"
   },
   {
    "duration": 23,
    "start_time": "2023-02-04T17:04:43.277Z"
   },
   {
    "duration": 892,
    "start_time": "2023-02-04T17:04:43.307Z"
   },
   {
    "duration": 20,
    "start_time": "2023-02-04T17:04:44.201Z"
   },
   {
    "duration": 5,
    "start_time": "2023-02-04T17:04:44.223Z"
   },
   {
    "duration": 7,
    "start_time": "2023-02-04T17:04:44.230Z"
   },
   {
    "duration": 6,
    "start_time": "2023-02-04T17:04:44.239Z"
   },
   {
    "duration": 9,
    "start_time": "2023-02-04T17:04:44.247Z"
   },
   {
    "duration": 42,
    "start_time": "2023-02-04T17:04:44.257Z"
   },
   {
    "duration": 4306,
    "start_time": "2023-02-04T17:04:44.301Z"
   },
   {
    "duration": 81,
    "start_time": "2023-02-04T17:04:48.613Z"
   },
   {
    "duration": 139730,
    "start_time": "2023-02-04T17:04:48.699Z"
   },
   {
    "duration": 4,
    "start_time": "2023-02-04T17:07:08.431Z"
   },
   {
    "duration": 138296,
    "start_time": "2023-02-04T17:07:08.437Z"
   },
   {
    "duration": 4,
    "start_time": "2023-02-04T17:09:26.735Z"
   },
   {
    "duration": 2524,
    "start_time": "2023-02-04T17:09:26.740Z"
   },
   {
    "duration": 4,
    "start_time": "2023-02-04T17:09:29.266Z"
   },
   {
    "duration": 14,
    "start_time": "2023-02-04T17:09:29.271Z"
   },
   {
    "duration": 20,
    "start_time": "2023-02-04T17:09:29.288Z"
   },
   {
    "duration": 649,
    "start_time": "2023-02-04T17:09:29.310Z"
   },
   {
    "duration": 9,
    "start_time": "2023-02-04T17:09:29.963Z"
   },
   {
    "duration": 14,
    "start_time": "2023-02-04T17:09:29.973Z"
   },
   {
    "duration": 12,
    "start_time": "2023-02-04T17:09:29.997Z"
   },
   {
    "duration": 11,
    "start_time": "2023-02-04T17:09:30.010Z"
   },
   {
    "duration": 16,
    "start_time": "2023-02-04T17:09:30.022Z"
   },
   {
    "duration": 14,
    "start_time": "2023-02-04T17:09:30.039Z"
   },
   {
    "duration": 1539,
    "start_time": "2023-02-04T17:12:21.869Z"
   },
   {
    "duration": 2,
    "start_time": "2023-02-04T17:12:23.413Z"
   },
   {
    "duration": 1200,
    "start_time": "2023-02-04T17:12:23.417Z"
   },
   {
    "duration": 197,
    "start_time": "2023-02-04T17:12:24.619Z"
   },
   {
    "duration": 5,
    "start_time": "2023-02-04T17:12:24.818Z"
   },
   {
    "duration": 337,
    "start_time": "2023-02-04T17:12:24.825Z"
   },
   {
    "duration": 4,
    "start_time": "2023-02-04T17:12:25.164Z"
   },
   {
    "duration": 27,
    "start_time": "2023-02-04T17:12:25.169Z"
   },
   {
    "duration": 11,
    "start_time": "2023-02-04T17:12:25.198Z"
   },
   {
    "duration": 9,
    "start_time": "2023-02-04T17:12:25.212Z"
   },
   {
    "duration": 8,
    "start_time": "2023-02-04T17:12:25.223Z"
   },
   {
    "duration": 16,
    "start_time": "2023-02-04T17:12:25.233Z"
   },
   {
    "duration": 24,
    "start_time": "2023-02-04T17:12:25.251Z"
   },
   {
    "duration": 8,
    "start_time": "2023-02-04T17:12:25.277Z"
   },
   {
    "duration": 42,
    "start_time": "2023-02-04T17:12:25.286Z"
   },
   {
    "duration": 5,
    "start_time": "2023-02-04T17:12:25.331Z"
   },
   {
    "duration": 16,
    "start_time": "2023-02-04T17:12:25.340Z"
   },
   {
    "duration": 11,
    "start_time": "2023-02-04T17:12:25.358Z"
   },
   {
    "duration": 5,
    "start_time": "2023-02-04T17:12:25.371Z"
   },
   {
    "duration": 288,
    "start_time": "2023-02-04T17:12:25.379Z"
   },
   {
    "duration": 358,
    "start_time": "2023-02-04T17:12:25.669Z"
   },
   {
    "duration": 14,
    "start_time": "2023-02-04T17:12:26.029Z"
   },
   {
    "duration": 883,
    "start_time": "2023-02-04T17:12:26.044Z"
   },
   {
    "duration": 19,
    "start_time": "2023-02-04T17:12:26.929Z"
   },
   {
    "duration": 6,
    "start_time": "2023-02-04T17:12:26.950Z"
   },
   {
    "duration": 26,
    "start_time": "2023-02-04T17:12:26.958Z"
   },
   {
    "duration": 29,
    "start_time": "2023-02-04T17:12:26.985Z"
   },
   {
    "duration": 6,
    "start_time": "2023-02-04T17:12:27.021Z"
   },
   {
    "duration": 25,
    "start_time": "2023-02-04T17:12:27.029Z"
   },
   {
    "duration": 6037,
    "start_time": "2023-02-04T17:12:27.056Z"
   },
   {
    "duration": 8,
    "start_time": "2023-02-04T17:12:33.095Z"
   },
   {
    "duration": 5056,
    "start_time": "2023-02-04T17:12:33.105Z"
   },
   {
    "duration": 4,
    "start_time": "2023-02-04T17:12:38.163Z"
   },
   {
    "duration": 5266,
    "start_time": "2023-02-04T17:12:38.169Z"
   },
   {
    "duration": 5,
    "start_time": "2023-02-04T17:12:43.437Z"
   },
   {
    "duration": 2266,
    "start_time": "2023-02-04T17:12:43.444Z"
   },
   {
    "duration": 5,
    "start_time": "2023-02-04T17:12:45.712Z"
   },
   {
    "duration": 8,
    "start_time": "2023-02-04T17:12:45.718Z"
   },
   {
    "duration": 6,
    "start_time": "2023-02-04T17:12:45.784Z"
   },
   {
    "duration": 1102,
    "start_time": "2023-02-04T17:12:45.792Z"
   },
   {
    "duration": 7,
    "start_time": "2023-02-04T17:12:46.898Z"
   },
   {
    "duration": 21,
    "start_time": "2023-02-04T17:12:46.907Z"
   },
   {
    "duration": 17,
    "start_time": "2023-02-04T17:12:46.930Z"
   },
   {
    "duration": 63,
    "start_time": "2023-02-04T17:12:46.949Z"
   },
   {
    "duration": 18,
    "start_time": "2023-02-04T17:12:47.014Z"
   },
   {
    "duration": 17,
    "start_time": "2023-02-04T17:12:47.033Z"
   },
   {
    "duration": 1507,
    "start_time": "2023-02-04T17:13:39.541Z"
   },
   {
    "duration": 3,
    "start_time": "2023-02-04T17:13:41.050Z"
   },
   {
    "duration": 1077,
    "start_time": "2023-02-04T17:13:41.055Z"
   },
   {
    "duration": 196,
    "start_time": "2023-02-04T17:13:42.134Z"
   },
   {
    "duration": 6,
    "start_time": "2023-02-04T17:13:42.332Z"
   },
   {
    "duration": 331,
    "start_time": "2023-02-04T17:13:42.340Z"
   },
   {
    "duration": 11,
    "start_time": "2023-02-04T17:13:42.673Z"
   },
   {
    "duration": 19,
    "start_time": "2023-02-04T17:13:42.689Z"
   },
   {
    "duration": 5,
    "start_time": "2023-02-04T17:13:42.710Z"
   },
   {
    "duration": 7,
    "start_time": "2023-02-04T17:13:42.717Z"
   },
   {
    "duration": 12,
    "start_time": "2023-02-04T17:13:42.726Z"
   },
   {
    "duration": 14,
    "start_time": "2023-02-04T17:13:42.740Z"
   },
   {
    "duration": 10,
    "start_time": "2023-02-04T17:13:42.756Z"
   },
   {
    "duration": 23,
    "start_time": "2023-02-04T17:13:42.770Z"
   },
   {
    "duration": 27,
    "start_time": "2023-02-04T17:13:42.794Z"
   },
   {
    "duration": 5,
    "start_time": "2023-02-04T17:13:42.823Z"
   },
   {
    "duration": 8,
    "start_time": "2023-02-04T17:13:42.830Z"
   },
   {
    "duration": 9,
    "start_time": "2023-02-04T17:13:42.840Z"
   },
   {
    "duration": 11,
    "start_time": "2023-02-04T17:13:42.850Z"
   },
   {
    "duration": 242,
    "start_time": "2023-02-04T17:13:42.862Z"
   },
   {
    "duration": 304,
    "start_time": "2023-02-04T17:13:43.106Z"
   },
   {
    "duration": 12,
    "start_time": "2023-02-04T17:13:43.412Z"
   },
   {
    "duration": 866,
    "start_time": "2023-02-04T17:13:43.426Z"
   },
   {
    "duration": 21,
    "start_time": "2023-02-04T17:13:44.299Z"
   },
   {
    "duration": 6,
    "start_time": "2023-02-04T17:13:44.322Z"
   },
   {
    "duration": 15,
    "start_time": "2023-02-04T17:13:44.329Z"
   },
   {
    "duration": 6,
    "start_time": "2023-02-04T17:13:44.346Z"
   },
   {
    "duration": 15,
    "start_time": "2023-02-04T17:13:44.354Z"
   },
   {
    "duration": 40,
    "start_time": "2023-02-04T17:13:44.371Z"
   },
   {
    "duration": 4579,
    "start_time": "2023-02-04T17:13:44.413Z"
   },
   {
    "duration": 86,
    "start_time": "2023-02-04T17:13:49.000Z"
   },
   {
    "duration": 5004,
    "start_time": "2023-02-04T17:13:49.088Z"
   },
   {
    "duration": 7,
    "start_time": "2023-02-04T17:13:54.095Z"
   },
   {
    "duration": 5308,
    "start_time": "2023-02-04T17:13:54.103Z"
   },
   {
    "duration": 4,
    "start_time": "2023-02-04T17:13:59.413Z"
   },
   {
    "duration": 1774,
    "start_time": "2023-02-04T17:13:59.419Z"
   },
   {
    "duration": 4,
    "start_time": "2023-02-04T17:14:01.199Z"
   },
   {
    "duration": 40,
    "start_time": "2023-02-04T17:14:01.205Z"
   },
   {
    "duration": 152,
    "start_time": "2023-02-04T17:14:01.248Z"
   },
   {
    "duration": 500,
    "start_time": "2023-02-04T17:14:01.402Z"
   },
   {
    "duration": 8,
    "start_time": "2023-02-04T17:14:01.906Z"
   },
   {
    "duration": 44,
    "start_time": "2023-02-04T17:14:01.916Z"
   },
   {
    "duration": 55,
    "start_time": "2023-02-04T17:14:01.962Z"
   },
   {
    "duration": 17,
    "start_time": "2023-02-04T17:14:02.019Z"
   },
   {
    "duration": 24,
    "start_time": "2023-02-04T17:14:02.039Z"
   },
   {
    "duration": 46,
    "start_time": "2023-02-04T17:14:02.065Z"
   },
   {
    "duration": 5,
    "start_time": "2023-02-04T17:14:38.632Z"
   },
   {
    "duration": 7,
    "start_time": "2023-02-04T17:14:54.483Z"
   },
   {
    "duration": 60,
    "start_time": "2023-02-04T17:19:04.865Z"
   },
   {
    "duration": 44,
    "start_time": "2023-02-04T17:20:44.531Z"
   },
   {
    "duration": 8,
    "start_time": "2023-02-04T17:20:49.045Z"
   },
   {
    "duration": 9,
    "start_time": "2023-02-04T17:22:30.686Z"
   },
   {
    "duration": 5,
    "start_time": "2023-02-04T17:22:31.360Z"
   },
   {
    "duration": 5,
    "start_time": "2023-02-04T17:22:38.923Z"
   },
   {
    "duration": 8,
    "start_time": "2023-02-04T17:24:38.543Z"
   },
   {
    "duration": 1545,
    "start_time": "2023-02-04T17:42:02.256Z"
   },
   {
    "duration": 4,
    "start_time": "2023-02-04T17:42:03.803Z"
   },
   {
    "duration": 1089,
    "start_time": "2023-02-04T17:42:03.809Z"
   },
   {
    "duration": 206,
    "start_time": "2023-02-04T17:42:04.902Z"
   },
   {
    "duration": 6,
    "start_time": "2023-02-04T17:42:05.111Z"
   },
   {
    "duration": 347,
    "start_time": "2023-02-04T17:42:05.118Z"
   },
   {
    "duration": 3,
    "start_time": "2023-02-04T17:42:05.467Z"
   },
   {
    "duration": 31,
    "start_time": "2023-02-04T17:42:05.471Z"
   },
   {
    "duration": 10,
    "start_time": "2023-02-04T17:42:05.504Z"
   },
   {
    "duration": 6,
    "start_time": "2023-02-04T17:42:05.516Z"
   },
   {
    "duration": 6,
    "start_time": "2023-02-04T17:42:05.525Z"
   },
   {
    "duration": 27,
    "start_time": "2023-02-04T17:42:05.533Z"
   },
   {
    "duration": 17,
    "start_time": "2023-02-04T17:42:05.562Z"
   },
   {
    "duration": 15,
    "start_time": "2023-02-04T17:42:05.582Z"
   },
   {
    "duration": 21,
    "start_time": "2023-02-04T17:42:05.600Z"
   },
   {
    "duration": 12,
    "start_time": "2023-02-04T17:42:05.624Z"
   },
   {
    "duration": 20,
    "start_time": "2023-02-04T17:42:05.646Z"
   },
   {
    "duration": 11,
    "start_time": "2023-02-04T17:42:05.668Z"
   },
   {
    "duration": 35,
    "start_time": "2023-02-04T17:42:05.681Z"
   },
   {
    "duration": 239,
    "start_time": "2023-02-04T17:42:05.718Z"
   },
   {
    "duration": 328,
    "start_time": "2023-02-04T17:42:05.959Z"
   },
   {
    "duration": 17,
    "start_time": "2023-02-04T17:42:06.289Z"
   },
   {
    "duration": 837,
    "start_time": "2023-02-04T17:42:06.308Z"
   },
   {
    "duration": 19,
    "start_time": "2023-02-04T17:42:07.146Z"
   },
   {
    "duration": 19,
    "start_time": "2023-02-04T17:42:07.167Z"
   },
   {
    "duration": 20,
    "start_time": "2023-02-04T17:42:07.188Z"
   },
   {
    "duration": 9,
    "start_time": "2023-02-04T17:42:07.210Z"
   },
   {
    "duration": 9,
    "start_time": "2023-02-04T17:42:07.221Z"
   },
   {
    "duration": 26,
    "start_time": "2023-02-04T17:42:07.232Z"
   },
   {
    "duration": 3462,
    "start_time": "2023-02-04T17:42:07.260Z"
   },
   {
    "duration": 65,
    "start_time": "2023-02-04T17:42:10.725Z"
   },
   {
    "duration": 5188,
    "start_time": "2023-02-04T17:42:10.793Z"
   },
   {
    "duration": 7,
    "start_time": "2023-02-04T17:42:15.984Z"
   },
   {
    "duration": 5194,
    "start_time": "2023-02-04T17:42:15.995Z"
   },
   {
    "duration": 4,
    "start_time": "2023-02-04T17:42:21.190Z"
   },
   {
    "duration": 1642,
    "start_time": "2023-02-04T17:42:21.195Z"
   },
   {
    "duration": 5,
    "start_time": "2023-02-04T17:42:22.839Z"
   },
   {
    "duration": 456,
    "start_time": "2023-02-04T17:42:22.846Z"
   },
   {
    "duration": 7,
    "start_time": "2023-02-04T17:42:23.303Z"
   },
   {
    "duration": 25,
    "start_time": "2023-02-04T17:42:23.312Z"
   },
   {
    "duration": 21,
    "start_time": "2023-02-04T17:42:23.341Z"
   },
   {
    "duration": 32,
    "start_time": "2023-02-04T17:42:23.364Z"
   },
   {
    "duration": 16,
    "start_time": "2023-02-04T17:42:23.398Z"
   },
   {
    "duration": 1469,
    "start_time": "2023-02-04T17:48:25.536Z"
   },
   {
    "duration": 2,
    "start_time": "2023-02-04T17:48:27.008Z"
   },
   {
    "duration": 1019,
    "start_time": "2023-02-04T17:48:27.012Z"
   },
   {
    "duration": 191,
    "start_time": "2023-02-04T17:48:28.033Z"
   },
   {
    "duration": 5,
    "start_time": "2023-02-04T17:48:28.226Z"
   },
   {
    "duration": 309,
    "start_time": "2023-02-04T17:48:28.233Z"
   },
   {
    "duration": 3,
    "start_time": "2023-02-04T17:48:28.543Z"
   },
   {
    "duration": 17,
    "start_time": "2023-02-04T17:48:28.548Z"
   },
   {
    "duration": 5,
    "start_time": "2023-02-04T17:48:28.566Z"
   },
   {
    "duration": 15,
    "start_time": "2023-02-04T17:48:28.585Z"
   },
   {
    "duration": 17,
    "start_time": "2023-02-04T17:48:28.602Z"
   },
   {
    "duration": 16,
    "start_time": "2023-02-04T17:48:28.620Z"
   },
   {
    "duration": 16,
    "start_time": "2023-02-04T17:48:28.638Z"
   },
   {
    "duration": 8,
    "start_time": "2023-02-04T17:48:28.658Z"
   },
   {
    "duration": 25,
    "start_time": "2023-02-04T17:48:28.668Z"
   },
   {
    "duration": 10,
    "start_time": "2023-02-04T17:48:28.695Z"
   },
   {
    "duration": 7,
    "start_time": "2023-02-04T17:48:28.706Z"
   },
   {
    "duration": 7,
    "start_time": "2023-02-04T17:48:28.714Z"
   },
   {
    "duration": 5,
    "start_time": "2023-02-04T17:48:28.722Z"
   },
   {
    "duration": 246,
    "start_time": "2023-02-04T17:48:28.729Z"
   },
   {
    "duration": 294,
    "start_time": "2023-02-04T17:48:28.986Z"
   },
   {
    "duration": 15,
    "start_time": "2023-02-04T17:48:29.284Z"
   },
   {
    "duration": 905,
    "start_time": "2023-02-04T17:48:29.301Z"
   },
   {
    "duration": 21,
    "start_time": "2023-02-04T17:48:30.208Z"
   },
   {
    "duration": 5,
    "start_time": "2023-02-04T17:48:30.231Z"
   },
   {
    "duration": 58,
    "start_time": "2023-02-04T17:48:30.238Z"
   },
   {
    "duration": 41,
    "start_time": "2023-02-04T17:48:30.298Z"
   },
   {
    "duration": 28,
    "start_time": "2023-02-04T17:48:30.341Z"
   },
   {
    "duration": 47,
    "start_time": "2023-02-04T17:48:30.371Z"
   },
   {
    "duration": 4671,
    "start_time": "2023-02-04T17:48:30.420Z"
   },
   {
    "duration": 7,
    "start_time": "2023-02-04T17:48:35.097Z"
   },
   {
    "duration": 4877,
    "start_time": "2023-02-04T17:48:35.187Z"
   },
   {
    "duration": 4,
    "start_time": "2023-02-04T17:48:40.065Z"
   },
   {
    "duration": 5080,
    "start_time": "2023-02-04T17:48:40.071Z"
   },
   {
    "duration": 4,
    "start_time": "2023-02-04T17:48:45.153Z"
   },
   {
    "duration": 1688,
    "start_time": "2023-02-04T17:48:45.158Z"
   },
   {
    "duration": 5,
    "start_time": "2023-02-04T17:48:46.847Z"
   },
   {
    "duration": 395,
    "start_time": "2023-02-04T17:48:46.853Z"
   },
   {
    "duration": 6,
    "start_time": "2023-02-04T17:48:47.250Z"
   },
   {
    "duration": 10,
    "start_time": "2023-02-04T17:48:47.258Z"
   },
   {
    "duration": 26,
    "start_time": "2023-02-04T17:48:47.272Z"
   },
   {
    "duration": 5,
    "start_time": "2023-02-04T17:48:47.300Z"
   },
   {
    "duration": 10,
    "start_time": "2023-02-04T17:48:47.306Z"
   }
  ],
  "kernelspec": {
   "display_name": "Python 3 (ipykernel)",
   "language": "python",
   "name": "python3"
  },
  "language_info": {
   "codemirror_mode": {
    "name": "ipython",
    "version": 3
   },
   "file_extension": ".py",
   "mimetype": "text/x-python",
   "name": "python",
   "nbconvert_exporter": "python",
   "pygments_lexer": "ipython3",
   "version": "3.9.16"
  },
  "toc": {
   "base_numbering": 1,
   "nav_menu": {
    "height": "22px",
    "width": "160px"
   },
   "number_sections": true,
   "sideBar": true,
   "skip_h1_title": true,
   "title_cell": "Содержание",
   "title_sidebar": "Contents",
   "toc_cell": true,
   "toc_position": {
    "height": "calc(100% - 180px)",
    "left": "10px",
    "top": "150px",
    "width": "343.413px"
   },
   "toc_section_display": true,
   "toc_window_display": true
  }
 },
 "nbformat": 4,
 "nbformat_minor": 2
}
